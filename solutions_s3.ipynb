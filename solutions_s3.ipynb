{
  "nbformat": 4,
  "nbformat_minor": 0,
  "metadata": {
    "colab": {
      "name": "solutions-s3.ipynb",
      "provenance": [],
      "toc_visible": true,
      "authorship_tag": "ABX9TyPr2Nn488N+lH8cUqqTiVzL",
      "include_colab_link": true
    },
    "kernelspec": {
      "name": "python3",
      "display_name": "Python 3"
    },
    "language_info": {
      "name": "python"
    }
  },
  "cells": [
    {
      "cell_type": "markdown",
      "metadata": {
        "id": "view-in-github",
        "colab_type": "text"
      },
      "source": [
        "<a href=\"https://colab.research.google.com/github/worldbank/dec-python-course/blob/solutions-s3/solutions_s3.ipynb\" target=\"_parent\"><img src=\"https://colab.research.google.com/assets/colab-badge.svg\" alt=\"Open In Colab\"/></a>"
      ]
    },
    {
      "cell_type": "code",
      "execution_count": null,
      "metadata": {
        "id": "IgrwYxv7sjQR"
      },
      "outputs": [],
      "source": []
    },
    {
      "cell_type": "markdown",
      "source": [
        "## 1.5. Exercises: install and use matplotlib\n",
        "The following exercises are meant to be completed step by step. Upon successful completion of all steps, the last cell should execute without any `AssertionError` or the prompt \"Remove this line after filling in your own code\"."
      ],
      "metadata": {
        "id": "udmuxsot8iMf"
      }
    },
    {
      "cell_type": "markdown",
      "source": [
        "### Step 1. \n",
        "\n",
        "Run a command to find out what is the current installed version of `matplotlib`:"
      ],
      "metadata": {
        "id": "emskTwhTgPU5"
      }
    },
    {
      "cell_type": "code",
      "source": [
        "# hint: use ! and bash command `pip freeze` and pipe the results to bash command `grep matplotlib`\n",
        "!pip freeze | grep matplotlib"
      ],
      "metadata": {
        "id": "CwERECq69Q_j",
        "outputId": "7af26b48-0103-41b5-fd9a-f92fb2763051",
        "colab": {
          "base_uri": "https://localhost:8080/"
        }
      },
      "execution_count": 1,
      "outputs": [
        {
          "output_type": "stream",
          "name": "stdout",
          "text": [
            "matplotlib==3.5.2\n",
            "matplotlib-venn==0.11.7\n"
          ]
        }
      ]
    },
    {
      "cell_type": "markdown",
      "source": [
        "### Step 2. \n",
        "\n",
        "Install version 3.5.2 of `matplotlib` for this notebook. Upon successful installation, click on \"RESTART RUNTIME\" in the code cell output."
      ],
      "metadata": {
        "id": "43mq07rBF414"
      }
    },
    {
      "cell_type": "code",
      "source": [
        "# hint: use ! and bash command `pip install`\n",
        "!pip install matplotlib==3.5.2"
      ],
      "metadata": {
        "id": "WdwQn1lEGP5i",
        "outputId": "7280cf68-47cc-4af3-accf-6a578f464deb",
        "colab": {
          "base_uri": "https://localhost:8080/"
        }
      },
      "execution_count": 2,
      "outputs": [
        {
          "output_type": "stream",
          "name": "stdout",
          "text": [
            "Looking in indexes: https://pypi.org/simple, https://us-python.pkg.dev/colab-wheels/public/simple/\n",
            "Requirement already satisfied: matplotlib==3.5.2 in /usr/local/lib/python3.7/dist-packages (3.5.2)\n",
            "Requirement already satisfied: cycler>=0.10 in /usr/local/lib/python3.7/dist-packages (from matplotlib==3.5.2) (0.11.0)\n",
            "Requirement already satisfied: python-dateutil>=2.7 in /usr/local/lib/python3.7/dist-packages (from matplotlib==3.5.2) (2.8.2)\n",
            "Requirement already satisfied: kiwisolver>=1.0.1 in /usr/local/lib/python3.7/dist-packages (from matplotlib==3.5.2) (1.4.4)\n",
            "Requirement already satisfied: numpy>=1.17 in /usr/local/lib/python3.7/dist-packages (from matplotlib==3.5.2) (1.21.6)\n",
            "Requirement already satisfied: pillow>=6.2.0 in /usr/local/lib/python3.7/dist-packages (from matplotlib==3.5.2) (7.1.2)\n",
            "Requirement already satisfied: pyparsing>=2.2.1 in /usr/local/lib/python3.7/dist-packages (from matplotlib==3.5.2) (3.0.9)\n",
            "Requirement already satisfied: packaging>=20.0 in /usr/local/lib/python3.7/dist-packages (from matplotlib==3.5.2) (21.3)\n",
            "Requirement already satisfied: fonttools>=4.22.0 in /usr/local/lib/python3.7/dist-packages (from matplotlib==3.5.2) (4.37.1)\n",
            "Requirement already satisfied: typing-extensions in /usr/local/lib/python3.7/dist-packages (from kiwisolver>=1.0.1->matplotlib==3.5.2) (4.1.1)\n",
            "Requirement already satisfied: six>=1.5 in /usr/local/lib/python3.7/dist-packages (from python-dateutil>=2.7->matplotlib==3.5.2) (1.15.0)\n"
          ]
        }
      ]
    },
    {
      "cell_type": "markdown",
      "source": [
        "### Step 3.\n",
        "\n",
        "Import `matplotlib`'s `pyplot` module and alias it as `plt`"
      ],
      "metadata": {
        "id": "yuwpmEcnG9-3"
      }
    },
    {
      "cell_type": "code",
      "source": [
        "# hint: use `import ... as ...`\n",
        "import matplotlib.pyplot as plt\n",
        "\n",
        "# alternative solution:\n",
        "from matplotlib import pyplot as plt\n",
        "\n",
        "# === Do not modify code below ===\n",
        "fig = plt.figure(figsize=(10, 80))\n",
        "assert hasattr(fig, \"subfigures\"),\\\n",
        " \"If correct version of matplotlib were installed you should not see this message\"\n",
        "\n",
        "print(\"Well done!\")"
      ],
      "metadata": {
        "colab": {
          "base_uri": "https://localhost:8080/",
          "height": 53
        },
        "id": "_QQVLOJfIg6V",
        "outputId": "5a4a4c36-c373-4beb-c0c1-2539305828ba"
      },
      "execution_count": 3,
      "outputs": [
        {
          "output_type": "stream",
          "name": "stdout",
          "text": [
            "Well done!\n"
          ]
        },
        {
          "output_type": "display_data",
          "data": {
            "text/plain": [
              "<Figure size 720x5760 with 0 Axes>"
            ]
          },
          "metadata": {}
        }
      ]
    },
    {
      "cell_type": "markdown",
      "source": [
        "If you have successfully completed the above exercies and are feeling adventurous, head over to `foundations-s3-bonus.ipynb` – it contains some bonus content and corresponding exercises on this topic."
      ],
      "metadata": {
        "id": "nmuFvgTazPbo"
      }
    },
    {
      "cell_type": "code",
      "source": [],
      "metadata": {
        "id": "wD42QGNystTn"
      },
      "execution_count": 3,
      "outputs": []
    },
    {
      "cell_type": "markdown",
      "source": [
        "## 2.3. Exercises: vector dot product\n",
        "\n",
        "Task: Calculate the dot product of vector `(1, 2, 3)` with itself.\n",
        "\n",
        "The following exercises are meant to be completed step by step. Upon successful completion of all steps, the last cell should execute without any `AssertionError` or the prompt \"Remove this line after filling in your own code\"."
      ],
      "metadata": {
        "id": "bRa5jb9TVUIw"
      }
    },
    {
      "cell_type": "markdown",
      "source": [
        "### Step 1. \n",
        "\n",
        "Represent vector `(1, 2, 3)` as a 1-d NumPy array of shape (3, ) and store in variable `a`:"
      ],
      "metadata": {
        "id": "YyjvJgyRghEX"
      }
    },
    {
      "cell_type": "code",
      "source": [
        "# hint: use np.array or np.arange\n",
        "import numpy as np\n",
        "\n",
        "a = np.array((1, 2, 3))\n",
        "\n",
        "# === Do not modify code below ===\n",
        "assert a.shape == (3, )\n",
        "assert a[0] == 1\n",
        "assert a[1] == 2"
      ],
      "metadata": {
        "id": "KdcSu4SJWTll"
      },
      "execution_count": 4,
      "outputs": []
    },
    {
      "cell_type": "markdown",
      "source": [
        "### Step 2. \n",
        "\n",
        "Implement the dot product calculation and store the result in variable `result`:"
      ],
      "metadata": {
        "id": "-t3g0-1AXHk3"
      }
    },
    {
      "cell_type": "code",
      "source": [
        "# hint: use tranpose or reshap, then sum or np.sum\n",
        "result = sum(a * a)\n",
        "\n",
        "# === Do not modify code below ===\n",
        "assert result == 14\n"
      ],
      "metadata": {
        "id": "OxuuW5yRWAmZ"
      },
      "execution_count": 5,
      "outputs": []
    },
    {
      "cell_type": "markdown",
      "source": [
        "## 2.5. Exercises: vector dot product - the easy way\n",
        "\n",
        "**Task**: Calculate the dot product of vector `(1, 2, 3)` with itself **using one of NumPy's universal functions**. Store the result in variable `dot_result`:"
      ],
      "metadata": {
        "id": "HfhHrQFcdLRr"
      }
    },
    {
      "cell_type": "code",
      "source": [
        "a = np.array([1, 2, 3])\n",
        "dot_result = np.dot(a, a)\n",
        "\n",
        "# === Do not modify code below ===\n",
        "assert dot_result == 14"
      ],
      "metadata": {
        "id": "HET4DMM4d51a"
      },
      "execution_count": 6,
      "outputs": []
    },
    {
      "cell_type": "markdown",
      "source": [
        "## 3.2.5. Exercises: read and explore excel data"
      ],
      "metadata": {
        "id": "3jdkE99YhJtM"
      }
    },
    {
      "cell_type": "markdown",
      "source": [
        "Let's first prepare our environment with the latest version of the xlrd library. It's for reading data and formatting information from Excel files in the historical .xls format. After the installation completes, you will see a \"RESTART RUNTIME\" button, click on it to restart the environment so we can start using the newly installed library."
      ],
      "metadata": {
        "id": "3Wb5-AR9ISvp"
      }
    },
    {
      "cell_type": "code",
      "source": [
        "!pip install xlrd --upgrade"
      ],
      "metadata": {
        "id": "SQZFDzdvmFdd",
        "colab": {
          "base_uri": "https://localhost:8080/"
        },
        "outputId": "96d244f5-38dd-4d3b-8338-28abbc5af94b"
      },
      "execution_count": 7,
      "outputs": [
        {
          "output_type": "stream",
          "name": "stdout",
          "text": [
            "Looking in indexes: https://pypi.org/simple, https://us-python.pkg.dev/colab-wheels/public/simple/\n",
            "Requirement already satisfied: xlrd in /usr/local/lib/python3.7/dist-packages (1.1.0)\n",
            "Collecting xlrd\n",
            "  Downloading xlrd-2.0.1-py2.py3-none-any.whl (96 kB)\n",
            "\u001b[K     |████████████████████████████████| 96 kB 2.2 MB/s \n",
            "\u001b[?25hInstalling collected packages: xlrd\n",
            "  Attempting uninstall: xlrd\n",
            "    Found existing installation: xlrd 1.1.0\n",
            "    Uninstalling xlrd-1.1.0:\n",
            "      Successfully uninstalled xlrd-1.1.0\n",
            "Successfully installed xlrd-2.0.1\n"
          ]
        }
      ]
    },
    {
      "cell_type": "markdown",
      "source": [
        "#### Step 1.\n",
        "\n",
        "Create a `DataFrame` by reading in the excel file from the given URL stored in the `exercise_data_url` variable. There are 3 sheets in the excel file, we only want the last sheet.\n",
        "\n",
        "Store the resulting DataFrame in a variable named `sg_cars_excel`:\n"
      ],
      "metadata": {
        "id": "r3CI3OznhORw"
      }
    },
    {
      "cell_type": "code",
      "source": [
        "import pandas as pd\n",
        "\n",
        "exercise_data_url = 'https://raw.githubusercontent.com/worldbank/dec-python-course/main/1-foundations/3-numpy-and-pandas/data/Singapore_Annual_New_Car_Registrations_by_make_type.xls'\n",
        "\n",
        "sg_cars_excel = pd.read_excel(exercise_data_url, sheet_name=-1)\n",
        "# hint: use pd.read_excel, note sheet index starts with 0\n",
        "# Your code here\n",
        "\n",
        "assert sg_cars_excel.shape == (79, 12)"
      ],
      "metadata": {
        "id": "p49zDWEUkVIh"
      },
      "execution_count": 8,
      "outputs": []
    },
    {
      "cell_type": "markdown",
      "source": [
        "#### Step 2.\n",
        "\n",
        "Inspect the first 3 and last 5 rows of `sg_cars_excel`:"
      ],
      "metadata": {
        "id": "C0gpmDMRnuRe"
      }
    },
    {
      "cell_type": "code",
      "source": [
        "# hint: use head\n",
        "sg_cars_excel.head(3)"
      ],
      "metadata": {
        "id": "abugBJLdn-eJ",
        "colab": {
          "base_uri": "https://localhost:8080/",
          "height": 277
        },
        "outputId": "37549ad7-5bb0-4149-d8e6-2d0393b6b32e"
      },
      "execution_count": 9,
      "outputs": [
        {
          "output_type": "execute_result",
          "data": {
            "text/plain": [
              "  TOTAL ANNUAL NEW REGISTRATION OF CARS BY MAKE 1  Unnamed: 1  Unnamed: 2  \\\n",
              "0                                            Make      2011.0      2012.0   \n",
              "1                                      Alfa Romeo        48.0        49.0   \n",
              "2                                          Alpina         NaN         NaN   \n",
              "\n",
              "   Unnamed: 3  Unnamed: 4  Unnamed: 5  Unnamed: 6  Unnamed: 7  Unnamed: 8  \\\n",
              "0      2013.0      2014.0      2015.0      2016.0      2017.0      2018.0   \n",
              "1        17.0        35.0        31.0        39.0        12.0        50.0   \n",
              "2         NaN         8.0         9.0        12.0        23.0        11.0   \n",
              "\n",
              "   Unnamed: 9  Unnamed: 10  Unnamed: 11  \n",
              "0      2019.0       2020.0       2021.0  \n",
              "1        60.0         39.0         37.0  \n",
              "2         2.0          8.0          2.0  "
            ],
            "text/html": [
              "\n",
              "  <div id=\"df-051dd7e8-fcf1-4408-9f1e-65f8231e6f07\">\n",
              "    <div class=\"colab-df-container\">\n",
              "      <div>\n",
              "<style scoped>\n",
              "    .dataframe tbody tr th:only-of-type {\n",
              "        vertical-align: middle;\n",
              "    }\n",
              "\n",
              "    .dataframe tbody tr th {\n",
              "        vertical-align: top;\n",
              "    }\n",
              "\n",
              "    .dataframe thead th {\n",
              "        text-align: right;\n",
              "    }\n",
              "</style>\n",
              "<table border=\"1\" class=\"dataframe\">\n",
              "  <thead>\n",
              "    <tr style=\"text-align: right;\">\n",
              "      <th></th>\n",
              "      <th>TOTAL ANNUAL NEW REGISTRATION OF CARS BY MAKE 1</th>\n",
              "      <th>Unnamed: 1</th>\n",
              "      <th>Unnamed: 2</th>\n",
              "      <th>Unnamed: 3</th>\n",
              "      <th>Unnamed: 4</th>\n",
              "      <th>Unnamed: 5</th>\n",
              "      <th>Unnamed: 6</th>\n",
              "      <th>Unnamed: 7</th>\n",
              "      <th>Unnamed: 8</th>\n",
              "      <th>Unnamed: 9</th>\n",
              "      <th>Unnamed: 10</th>\n",
              "      <th>Unnamed: 11</th>\n",
              "    </tr>\n",
              "  </thead>\n",
              "  <tbody>\n",
              "    <tr>\n",
              "      <th>0</th>\n",
              "      <td>Make</td>\n",
              "      <td>2011.0</td>\n",
              "      <td>2012.0</td>\n",
              "      <td>2013.0</td>\n",
              "      <td>2014.0</td>\n",
              "      <td>2015.0</td>\n",
              "      <td>2016.0</td>\n",
              "      <td>2017.0</td>\n",
              "      <td>2018.0</td>\n",
              "      <td>2019.0</td>\n",
              "      <td>2020.0</td>\n",
              "      <td>2021.0</td>\n",
              "    </tr>\n",
              "    <tr>\n",
              "      <th>1</th>\n",
              "      <td>Alfa Romeo</td>\n",
              "      <td>48.0</td>\n",
              "      <td>49.0</td>\n",
              "      <td>17.0</td>\n",
              "      <td>35.0</td>\n",
              "      <td>31.0</td>\n",
              "      <td>39.0</td>\n",
              "      <td>12.0</td>\n",
              "      <td>50.0</td>\n",
              "      <td>60.0</td>\n",
              "      <td>39.0</td>\n",
              "      <td>37.0</td>\n",
              "    </tr>\n",
              "    <tr>\n",
              "      <th>2</th>\n",
              "      <td>Alpina</td>\n",
              "      <td>NaN</td>\n",
              "      <td>NaN</td>\n",
              "      <td>NaN</td>\n",
              "      <td>8.0</td>\n",
              "      <td>9.0</td>\n",
              "      <td>12.0</td>\n",
              "      <td>23.0</td>\n",
              "      <td>11.0</td>\n",
              "      <td>2.0</td>\n",
              "      <td>8.0</td>\n",
              "      <td>2.0</td>\n",
              "    </tr>\n",
              "  </tbody>\n",
              "</table>\n",
              "</div>\n",
              "      <button class=\"colab-df-convert\" onclick=\"convertToInteractive('df-051dd7e8-fcf1-4408-9f1e-65f8231e6f07')\"\n",
              "              title=\"Convert this dataframe to an interactive table.\"\n",
              "              style=\"display:none;\">\n",
              "        \n",
              "  <svg xmlns=\"http://www.w3.org/2000/svg\" height=\"24px\"viewBox=\"0 0 24 24\"\n",
              "       width=\"24px\">\n",
              "    <path d=\"M0 0h24v24H0V0z\" fill=\"none\"/>\n",
              "    <path d=\"M18.56 5.44l.94 2.06.94-2.06 2.06-.94-2.06-.94-.94-2.06-.94 2.06-2.06.94zm-11 1L8.5 8.5l.94-2.06 2.06-.94-2.06-.94L8.5 2.5l-.94 2.06-2.06.94zm10 10l.94 2.06.94-2.06 2.06-.94-2.06-.94-.94-2.06-.94 2.06-2.06.94z\"/><path d=\"M17.41 7.96l-1.37-1.37c-.4-.4-.92-.59-1.43-.59-.52 0-1.04.2-1.43.59L10.3 9.45l-7.72 7.72c-.78.78-.78 2.05 0 2.83L4 21.41c.39.39.9.59 1.41.59.51 0 1.02-.2 1.41-.59l7.78-7.78 2.81-2.81c.8-.78.8-2.07 0-2.86zM5.41 20L4 18.59l7.72-7.72 1.47 1.35L5.41 20z\"/>\n",
              "  </svg>\n",
              "      </button>\n",
              "      \n",
              "  <style>\n",
              "    .colab-df-container {\n",
              "      display:flex;\n",
              "      flex-wrap:wrap;\n",
              "      gap: 12px;\n",
              "    }\n",
              "\n",
              "    .colab-df-convert {\n",
              "      background-color: #E8F0FE;\n",
              "      border: none;\n",
              "      border-radius: 50%;\n",
              "      cursor: pointer;\n",
              "      display: none;\n",
              "      fill: #1967D2;\n",
              "      height: 32px;\n",
              "      padding: 0 0 0 0;\n",
              "      width: 32px;\n",
              "    }\n",
              "\n",
              "    .colab-df-convert:hover {\n",
              "      background-color: #E2EBFA;\n",
              "      box-shadow: 0px 1px 2px rgba(60, 64, 67, 0.3), 0px 1px 3px 1px rgba(60, 64, 67, 0.15);\n",
              "      fill: #174EA6;\n",
              "    }\n",
              "\n",
              "    [theme=dark] .colab-df-convert {\n",
              "      background-color: #3B4455;\n",
              "      fill: #D2E3FC;\n",
              "    }\n",
              "\n",
              "    [theme=dark] .colab-df-convert:hover {\n",
              "      background-color: #434B5C;\n",
              "      box-shadow: 0px 1px 3px 1px rgba(0, 0, 0, 0.15);\n",
              "      filter: drop-shadow(0px 1px 2px rgba(0, 0, 0, 0.3));\n",
              "      fill: #FFFFFF;\n",
              "    }\n",
              "  </style>\n",
              "\n",
              "      <script>\n",
              "        const buttonEl =\n",
              "          document.querySelector('#df-051dd7e8-fcf1-4408-9f1e-65f8231e6f07 button.colab-df-convert');\n",
              "        buttonEl.style.display =\n",
              "          google.colab.kernel.accessAllowed ? 'block' : 'none';\n",
              "\n",
              "        async function convertToInteractive(key) {\n",
              "          const element = document.querySelector('#df-051dd7e8-fcf1-4408-9f1e-65f8231e6f07');\n",
              "          const dataTable =\n",
              "            await google.colab.kernel.invokeFunction('convertToInteractive',\n",
              "                                                     [key], {});\n",
              "          if (!dataTable) return;\n",
              "\n",
              "          const docLinkHtml = 'Like what you see? Visit the ' +\n",
              "            '<a target=\"_blank\" href=https://colab.research.google.com/notebooks/data_table.ipynb>data table notebook</a>'\n",
              "            + ' to learn more about interactive tables.';\n",
              "          element.innerHTML = '';\n",
              "          dataTable['output_type'] = 'display_data';\n",
              "          await google.colab.output.renderOutput(dataTable, element);\n",
              "          const docLink = document.createElement('div');\n",
              "          docLink.innerHTML = docLinkHtml;\n",
              "          element.appendChild(docLink);\n",
              "        }\n",
              "      </script>\n",
              "    </div>\n",
              "  </div>\n",
              "  "
            ]
          },
          "metadata": {},
          "execution_count": 9
        }
      ]
    },
    {
      "cell_type": "code",
      "source": [
        "# hint: use tail\n",
        "sg_cars_excel.tail()"
      ],
      "metadata": {
        "id": "MgPOYYtspVRr",
        "colab": {
          "base_uri": "https://localhost:8080/",
          "height": 392
        },
        "outputId": "f7fe90c0-820d-4bab-c8b7-6b02793b837d"
      },
      "execution_count": 10,
      "outputs": [
        {
          "output_type": "execute_result",
          "data": {
            "text/plain": [
              "      TOTAL ANNUAL NEW REGISTRATION OF CARS BY MAKE 1  Unnamed: 1  Unnamed: 2  \\\n",
              "74                                              Volvo       835.0      1066.0   \n",
              "75                                             Others        25.0        14.0   \n",
              "76                                              Total     28270.0     27899.0   \n",
              "77                                             Note :         NaN         NaN   \n",
              "78   1  Figures include all tax exempted and VQS e...         NaN         NaN   \n",
              "\n",
              "    Unnamed: 3  Unnamed: 4  Unnamed: 5  Unnamed: 6  Unnamed: 7  Unnamed: 8  \\\n",
              "74       938.0       910.0      1274.0      1485.0      1526.0      1416.0   \n",
              "75        12.0         NaN         NaN         NaN         NaN         NaN   \n",
              "76     22472.0     28932.0     57589.0     87504.0     91922.0     80281.0   \n",
              "77         NaN         NaN         NaN         NaN         NaN         NaN   \n",
              "78         NaN         NaN         NaN         NaN         NaN         NaN   \n",
              "\n",
              "    Unnamed: 9  Unnamed: 10  Unnamed: 11  \n",
              "74       874.0        712.0        510.0  \n",
              "75         NaN          NaN          NaN  \n",
              "76     72344.0      44465.0      45442.0  \n",
              "77         NaN          NaN          NaN  \n",
              "78         NaN          NaN          NaN  "
            ],
            "text/html": [
              "\n",
              "  <div id=\"df-1ab3923d-0393-4d7f-9ea5-894225a4b4cd\">\n",
              "    <div class=\"colab-df-container\">\n",
              "      <div>\n",
              "<style scoped>\n",
              "    .dataframe tbody tr th:only-of-type {\n",
              "        vertical-align: middle;\n",
              "    }\n",
              "\n",
              "    .dataframe tbody tr th {\n",
              "        vertical-align: top;\n",
              "    }\n",
              "\n",
              "    .dataframe thead th {\n",
              "        text-align: right;\n",
              "    }\n",
              "</style>\n",
              "<table border=\"1\" class=\"dataframe\">\n",
              "  <thead>\n",
              "    <tr style=\"text-align: right;\">\n",
              "      <th></th>\n",
              "      <th>TOTAL ANNUAL NEW REGISTRATION OF CARS BY MAKE 1</th>\n",
              "      <th>Unnamed: 1</th>\n",
              "      <th>Unnamed: 2</th>\n",
              "      <th>Unnamed: 3</th>\n",
              "      <th>Unnamed: 4</th>\n",
              "      <th>Unnamed: 5</th>\n",
              "      <th>Unnamed: 6</th>\n",
              "      <th>Unnamed: 7</th>\n",
              "      <th>Unnamed: 8</th>\n",
              "      <th>Unnamed: 9</th>\n",
              "      <th>Unnamed: 10</th>\n",
              "      <th>Unnamed: 11</th>\n",
              "    </tr>\n",
              "  </thead>\n",
              "  <tbody>\n",
              "    <tr>\n",
              "      <th>74</th>\n",
              "      <td>Volvo</td>\n",
              "      <td>835.0</td>\n",
              "      <td>1066.0</td>\n",
              "      <td>938.0</td>\n",
              "      <td>910.0</td>\n",
              "      <td>1274.0</td>\n",
              "      <td>1485.0</td>\n",
              "      <td>1526.0</td>\n",
              "      <td>1416.0</td>\n",
              "      <td>874.0</td>\n",
              "      <td>712.0</td>\n",
              "      <td>510.0</td>\n",
              "    </tr>\n",
              "    <tr>\n",
              "      <th>75</th>\n",
              "      <td>Others</td>\n",
              "      <td>25.0</td>\n",
              "      <td>14.0</td>\n",
              "      <td>12.0</td>\n",
              "      <td>NaN</td>\n",
              "      <td>NaN</td>\n",
              "      <td>NaN</td>\n",
              "      <td>NaN</td>\n",
              "      <td>NaN</td>\n",
              "      <td>NaN</td>\n",
              "      <td>NaN</td>\n",
              "      <td>NaN</td>\n",
              "    </tr>\n",
              "    <tr>\n",
              "      <th>76</th>\n",
              "      <td>Total</td>\n",
              "      <td>28270.0</td>\n",
              "      <td>27899.0</td>\n",
              "      <td>22472.0</td>\n",
              "      <td>28932.0</td>\n",
              "      <td>57589.0</td>\n",
              "      <td>87504.0</td>\n",
              "      <td>91922.0</td>\n",
              "      <td>80281.0</td>\n",
              "      <td>72344.0</td>\n",
              "      <td>44465.0</td>\n",
              "      <td>45442.0</td>\n",
              "    </tr>\n",
              "    <tr>\n",
              "      <th>77</th>\n",
              "      <td>Note :</td>\n",
              "      <td>NaN</td>\n",
              "      <td>NaN</td>\n",
              "      <td>NaN</td>\n",
              "      <td>NaN</td>\n",
              "      <td>NaN</td>\n",
              "      <td>NaN</td>\n",
              "      <td>NaN</td>\n",
              "      <td>NaN</td>\n",
              "      <td>NaN</td>\n",
              "      <td>NaN</td>\n",
              "      <td>NaN</td>\n",
              "    </tr>\n",
              "    <tr>\n",
              "      <th>78</th>\n",
              "      <td>1  Figures include all tax exempted and VQS e...</td>\n",
              "      <td>NaN</td>\n",
              "      <td>NaN</td>\n",
              "      <td>NaN</td>\n",
              "      <td>NaN</td>\n",
              "      <td>NaN</td>\n",
              "      <td>NaN</td>\n",
              "      <td>NaN</td>\n",
              "      <td>NaN</td>\n",
              "      <td>NaN</td>\n",
              "      <td>NaN</td>\n",
              "      <td>NaN</td>\n",
              "    </tr>\n",
              "  </tbody>\n",
              "</table>\n",
              "</div>\n",
              "      <button class=\"colab-df-convert\" onclick=\"convertToInteractive('df-1ab3923d-0393-4d7f-9ea5-894225a4b4cd')\"\n",
              "              title=\"Convert this dataframe to an interactive table.\"\n",
              "              style=\"display:none;\">\n",
              "        \n",
              "  <svg xmlns=\"http://www.w3.org/2000/svg\" height=\"24px\"viewBox=\"0 0 24 24\"\n",
              "       width=\"24px\">\n",
              "    <path d=\"M0 0h24v24H0V0z\" fill=\"none\"/>\n",
              "    <path d=\"M18.56 5.44l.94 2.06.94-2.06 2.06-.94-2.06-.94-.94-2.06-.94 2.06-2.06.94zm-11 1L8.5 8.5l.94-2.06 2.06-.94-2.06-.94L8.5 2.5l-.94 2.06-2.06.94zm10 10l.94 2.06.94-2.06 2.06-.94-2.06-.94-.94-2.06-.94 2.06-2.06.94z\"/><path d=\"M17.41 7.96l-1.37-1.37c-.4-.4-.92-.59-1.43-.59-.52 0-1.04.2-1.43.59L10.3 9.45l-7.72 7.72c-.78.78-.78 2.05 0 2.83L4 21.41c.39.39.9.59 1.41.59.51 0 1.02-.2 1.41-.59l7.78-7.78 2.81-2.81c.8-.78.8-2.07 0-2.86zM5.41 20L4 18.59l7.72-7.72 1.47 1.35L5.41 20z\"/>\n",
              "  </svg>\n",
              "      </button>\n",
              "      \n",
              "  <style>\n",
              "    .colab-df-container {\n",
              "      display:flex;\n",
              "      flex-wrap:wrap;\n",
              "      gap: 12px;\n",
              "    }\n",
              "\n",
              "    .colab-df-convert {\n",
              "      background-color: #E8F0FE;\n",
              "      border: none;\n",
              "      border-radius: 50%;\n",
              "      cursor: pointer;\n",
              "      display: none;\n",
              "      fill: #1967D2;\n",
              "      height: 32px;\n",
              "      padding: 0 0 0 0;\n",
              "      width: 32px;\n",
              "    }\n",
              "\n",
              "    .colab-df-convert:hover {\n",
              "      background-color: #E2EBFA;\n",
              "      box-shadow: 0px 1px 2px rgba(60, 64, 67, 0.3), 0px 1px 3px 1px rgba(60, 64, 67, 0.15);\n",
              "      fill: #174EA6;\n",
              "    }\n",
              "\n",
              "    [theme=dark] .colab-df-convert {\n",
              "      background-color: #3B4455;\n",
              "      fill: #D2E3FC;\n",
              "    }\n",
              "\n",
              "    [theme=dark] .colab-df-convert:hover {\n",
              "      background-color: #434B5C;\n",
              "      box-shadow: 0px 1px 3px 1px rgba(0, 0, 0, 0.15);\n",
              "      filter: drop-shadow(0px 1px 2px rgba(0, 0, 0, 0.3));\n",
              "      fill: #FFFFFF;\n",
              "    }\n",
              "  </style>\n",
              "\n",
              "      <script>\n",
              "        const buttonEl =\n",
              "          document.querySelector('#df-1ab3923d-0393-4d7f-9ea5-894225a4b4cd button.colab-df-convert');\n",
              "        buttonEl.style.display =\n",
              "          google.colab.kernel.accessAllowed ? 'block' : 'none';\n",
              "\n",
              "        async function convertToInteractive(key) {\n",
              "          const element = document.querySelector('#df-1ab3923d-0393-4d7f-9ea5-894225a4b4cd');\n",
              "          const dataTable =\n",
              "            await google.colab.kernel.invokeFunction('convertToInteractive',\n",
              "                                                     [key], {});\n",
              "          if (!dataTable) return;\n",
              "\n",
              "          const docLinkHtml = 'Like what you see? Visit the ' +\n",
              "            '<a target=\"_blank\" href=https://colab.research.google.com/notebooks/data_table.ipynb>data table notebook</a>'\n",
              "            + ' to learn more about interactive tables.';\n",
              "          element.innerHTML = '';\n",
              "          dataTable['output_type'] = 'display_data';\n",
              "          await google.colab.output.renderOutput(dataTable, element);\n",
              "          const docLink = document.createElement('div');\n",
              "          docLink.innerHTML = docLinkHtml;\n",
              "          element.appendChild(docLink);\n",
              "        }\n",
              "      </script>\n",
              "    </div>\n",
              "  </div>\n",
              "  "
            ]
          },
          "metadata": {},
          "execution_count": 10
        }
      ]
    },
    {
      "cell_type": "markdown",
      "source": [
        "#### Step 3.\n",
        "\n",
        "Notice the first value row is in fact the years and should be used as the column names. The DataFrame also contains 3 footer rows we want to exclude. Fix it either by re-reading the excel file with additional parameters or by manipulating the DataFrame.\n",
        "\n",
        "Store the fixed DataFrame in `sg_cars_excel_fixed`:"
      ],
      "metadata": {
        "id": "-9oandV8oQQi"
      }
    },
    {
      "cell_type": "code",
      "source": [
        "# hint: if re-reading, check out the arguments: header=, skipfooter=\n",
        "# Rereading solution:\n",
        "sg_cars_excel_fixed = pd.read_excel(exercise_data_url, sheet_name=-1, header=1, skipfooter=3)\n",
        "\n",
        "assert sg_cars_excel_fixed.columns[1] == 2011\n",
        "assert sg_cars_excel_fixed.columns[-1] == 2021\n",
        "assert sg_cars_excel_fixed.Make.iloc[0] == 'Alfa Romeo'\n",
        "assert sg_cars_excel_fixed.Make.iloc[-1] == 'Others'\n",
        "assert sg_cars_excel_fixed.shape == (75, 12)"
      ],
      "metadata": {
        "id": "Mw2v9YIwpzB0"
      },
      "execution_count": 11,
      "outputs": []
    },
    {
      "cell_type": "markdown",
      "source": [
        "#### Step 4.\n",
        "\n",
        "Inspect the summary statistics for every year:"
      ],
      "metadata": {
        "id": "e6uAhtNWrv8T"
      }
    },
    {
      "cell_type": "code",
      "source": [
        "# hint: use describe\n",
        "\n",
        "sg_cars_excel_fixed.describe()"
      ],
      "metadata": {
        "id": "O0OKRAaErhsO",
        "colab": {
          "base_uri": "https://localhost:8080/",
          "height": 364
        },
        "outputId": "640361ca-910b-4ea3-a734-0f824ac4b51d"
      },
      "execution_count": 12,
      "outputs": [
        {
          "output_type": "execute_result",
          "data": {
            "text/plain": [
              "              2011        2012         2013         2014          2015  \\\n",
              "count    44.000000    46.00000    41.000000    50.000000     51.000000   \n",
              "mean    642.500000   606.50000   548.097561   578.640000   1129.196078   \n",
              "std    1159.757623  1212.36822  1037.253990  1165.133955   2343.949189   \n",
              "min       7.000000     5.00000     6.000000     1.000000      1.000000   \n",
              "25%      41.500000    34.00000    23.000000     6.000000      3.500000   \n",
              "50%     208.500000    96.00000   125.000000    74.500000     73.000000   \n",
              "75%     599.250000   489.50000   423.000000   366.500000    980.000000   \n",
              "max    4959.000000  5039.00000  3871.000000  5431.000000  12171.000000   \n",
              "\n",
              "               2016          2017          2018          2019         2020  \\\n",
              "count     50.000000     55.000000     52.000000     53.000000    54.000000   \n",
              "mean    1750.080000   1671.309091   1543.865385   1364.981132   823.425926   \n",
              "std     3984.372979   3691.492641   3183.009749   3031.949306  1700.111268   \n",
              "min        1.000000      1.000000      1.000000      1.000000     1.000000   \n",
              "25%       10.000000      8.000000     17.250000     14.000000     7.250000   \n",
              "50%      260.000000    199.000000    147.500000    103.000000    99.500000   \n",
              "75%     1317.250000    864.500000    905.250000    849.000000   642.500000   \n",
              "max    19349.000000  19133.000000  15040.000000  15205.000000  7704.000000   \n",
              "\n",
              "              2021  \n",
              "count    52.000000  \n",
              "mean    873.884615  \n",
              "std    1841.594478  \n",
              "min       1.000000  \n",
              "25%      24.500000  \n",
              "50%     135.500000  \n",
              "75%     563.000000  \n",
              "max    9633.000000  "
            ],
            "text/html": [
              "\n",
              "  <div id=\"df-fd43dc3e-c3f8-4275-93f4-f9641289fc98\">\n",
              "    <div class=\"colab-df-container\">\n",
              "      <div>\n",
              "<style scoped>\n",
              "    .dataframe tbody tr th:only-of-type {\n",
              "        vertical-align: middle;\n",
              "    }\n",
              "\n",
              "    .dataframe tbody tr th {\n",
              "        vertical-align: top;\n",
              "    }\n",
              "\n",
              "    .dataframe thead th {\n",
              "        text-align: right;\n",
              "    }\n",
              "</style>\n",
              "<table border=\"1\" class=\"dataframe\">\n",
              "  <thead>\n",
              "    <tr style=\"text-align: right;\">\n",
              "      <th></th>\n",
              "      <th>2011</th>\n",
              "      <th>2012</th>\n",
              "      <th>2013</th>\n",
              "      <th>2014</th>\n",
              "      <th>2015</th>\n",
              "      <th>2016</th>\n",
              "      <th>2017</th>\n",
              "      <th>2018</th>\n",
              "      <th>2019</th>\n",
              "      <th>2020</th>\n",
              "      <th>2021</th>\n",
              "    </tr>\n",
              "  </thead>\n",
              "  <tbody>\n",
              "    <tr>\n",
              "      <th>count</th>\n",
              "      <td>44.000000</td>\n",
              "      <td>46.00000</td>\n",
              "      <td>41.000000</td>\n",
              "      <td>50.000000</td>\n",
              "      <td>51.000000</td>\n",
              "      <td>50.000000</td>\n",
              "      <td>55.000000</td>\n",
              "      <td>52.000000</td>\n",
              "      <td>53.000000</td>\n",
              "      <td>54.000000</td>\n",
              "      <td>52.000000</td>\n",
              "    </tr>\n",
              "    <tr>\n",
              "      <th>mean</th>\n",
              "      <td>642.500000</td>\n",
              "      <td>606.50000</td>\n",
              "      <td>548.097561</td>\n",
              "      <td>578.640000</td>\n",
              "      <td>1129.196078</td>\n",
              "      <td>1750.080000</td>\n",
              "      <td>1671.309091</td>\n",
              "      <td>1543.865385</td>\n",
              "      <td>1364.981132</td>\n",
              "      <td>823.425926</td>\n",
              "      <td>873.884615</td>\n",
              "    </tr>\n",
              "    <tr>\n",
              "      <th>std</th>\n",
              "      <td>1159.757623</td>\n",
              "      <td>1212.36822</td>\n",
              "      <td>1037.253990</td>\n",
              "      <td>1165.133955</td>\n",
              "      <td>2343.949189</td>\n",
              "      <td>3984.372979</td>\n",
              "      <td>3691.492641</td>\n",
              "      <td>3183.009749</td>\n",
              "      <td>3031.949306</td>\n",
              "      <td>1700.111268</td>\n",
              "      <td>1841.594478</td>\n",
              "    </tr>\n",
              "    <tr>\n",
              "      <th>min</th>\n",
              "      <td>7.000000</td>\n",
              "      <td>5.00000</td>\n",
              "      <td>6.000000</td>\n",
              "      <td>1.000000</td>\n",
              "      <td>1.000000</td>\n",
              "      <td>1.000000</td>\n",
              "      <td>1.000000</td>\n",
              "      <td>1.000000</td>\n",
              "      <td>1.000000</td>\n",
              "      <td>1.000000</td>\n",
              "      <td>1.000000</td>\n",
              "    </tr>\n",
              "    <tr>\n",
              "      <th>25%</th>\n",
              "      <td>41.500000</td>\n",
              "      <td>34.00000</td>\n",
              "      <td>23.000000</td>\n",
              "      <td>6.000000</td>\n",
              "      <td>3.500000</td>\n",
              "      <td>10.000000</td>\n",
              "      <td>8.000000</td>\n",
              "      <td>17.250000</td>\n",
              "      <td>14.000000</td>\n",
              "      <td>7.250000</td>\n",
              "      <td>24.500000</td>\n",
              "    </tr>\n",
              "    <tr>\n",
              "      <th>50%</th>\n",
              "      <td>208.500000</td>\n",
              "      <td>96.00000</td>\n",
              "      <td>125.000000</td>\n",
              "      <td>74.500000</td>\n",
              "      <td>73.000000</td>\n",
              "      <td>260.000000</td>\n",
              "      <td>199.000000</td>\n",
              "      <td>147.500000</td>\n",
              "      <td>103.000000</td>\n",
              "      <td>99.500000</td>\n",
              "      <td>135.500000</td>\n",
              "    </tr>\n",
              "    <tr>\n",
              "      <th>75%</th>\n",
              "      <td>599.250000</td>\n",
              "      <td>489.50000</td>\n",
              "      <td>423.000000</td>\n",
              "      <td>366.500000</td>\n",
              "      <td>980.000000</td>\n",
              "      <td>1317.250000</td>\n",
              "      <td>864.500000</td>\n",
              "      <td>905.250000</td>\n",
              "      <td>849.000000</td>\n",
              "      <td>642.500000</td>\n",
              "      <td>563.000000</td>\n",
              "    </tr>\n",
              "    <tr>\n",
              "      <th>max</th>\n",
              "      <td>4959.000000</td>\n",
              "      <td>5039.00000</td>\n",
              "      <td>3871.000000</td>\n",
              "      <td>5431.000000</td>\n",
              "      <td>12171.000000</td>\n",
              "      <td>19349.000000</td>\n",
              "      <td>19133.000000</td>\n",
              "      <td>15040.000000</td>\n",
              "      <td>15205.000000</td>\n",
              "      <td>7704.000000</td>\n",
              "      <td>9633.000000</td>\n",
              "    </tr>\n",
              "  </tbody>\n",
              "</table>\n",
              "</div>\n",
              "      <button class=\"colab-df-convert\" onclick=\"convertToInteractive('df-fd43dc3e-c3f8-4275-93f4-f9641289fc98')\"\n",
              "              title=\"Convert this dataframe to an interactive table.\"\n",
              "              style=\"display:none;\">\n",
              "        \n",
              "  <svg xmlns=\"http://www.w3.org/2000/svg\" height=\"24px\"viewBox=\"0 0 24 24\"\n",
              "       width=\"24px\">\n",
              "    <path d=\"M0 0h24v24H0V0z\" fill=\"none\"/>\n",
              "    <path d=\"M18.56 5.44l.94 2.06.94-2.06 2.06-.94-2.06-.94-.94-2.06-.94 2.06-2.06.94zm-11 1L8.5 8.5l.94-2.06 2.06-.94-2.06-.94L8.5 2.5l-.94 2.06-2.06.94zm10 10l.94 2.06.94-2.06 2.06-.94-2.06-.94-.94-2.06-.94 2.06-2.06.94z\"/><path d=\"M17.41 7.96l-1.37-1.37c-.4-.4-.92-.59-1.43-.59-.52 0-1.04.2-1.43.59L10.3 9.45l-7.72 7.72c-.78.78-.78 2.05 0 2.83L4 21.41c.39.39.9.59 1.41.59.51 0 1.02-.2 1.41-.59l7.78-7.78 2.81-2.81c.8-.78.8-2.07 0-2.86zM5.41 20L4 18.59l7.72-7.72 1.47 1.35L5.41 20z\"/>\n",
              "  </svg>\n",
              "      </button>\n",
              "      \n",
              "  <style>\n",
              "    .colab-df-container {\n",
              "      display:flex;\n",
              "      flex-wrap:wrap;\n",
              "      gap: 12px;\n",
              "    }\n",
              "\n",
              "    .colab-df-convert {\n",
              "      background-color: #E8F0FE;\n",
              "      border: none;\n",
              "      border-radius: 50%;\n",
              "      cursor: pointer;\n",
              "      display: none;\n",
              "      fill: #1967D2;\n",
              "      height: 32px;\n",
              "      padding: 0 0 0 0;\n",
              "      width: 32px;\n",
              "    }\n",
              "\n",
              "    .colab-df-convert:hover {\n",
              "      background-color: #E2EBFA;\n",
              "      box-shadow: 0px 1px 2px rgba(60, 64, 67, 0.3), 0px 1px 3px 1px rgba(60, 64, 67, 0.15);\n",
              "      fill: #174EA6;\n",
              "    }\n",
              "\n",
              "    [theme=dark] .colab-df-convert {\n",
              "      background-color: #3B4455;\n",
              "      fill: #D2E3FC;\n",
              "    }\n",
              "\n",
              "    [theme=dark] .colab-df-convert:hover {\n",
              "      background-color: #434B5C;\n",
              "      box-shadow: 0px 1px 3px 1px rgba(0, 0, 0, 0.15);\n",
              "      filter: drop-shadow(0px 1px 2px rgba(0, 0, 0, 0.3));\n",
              "      fill: #FFFFFF;\n",
              "    }\n",
              "  </style>\n",
              "\n",
              "      <script>\n",
              "        const buttonEl =\n",
              "          document.querySelector('#df-fd43dc3e-c3f8-4275-93f4-f9641289fc98 button.colab-df-convert');\n",
              "        buttonEl.style.display =\n",
              "          google.colab.kernel.accessAllowed ? 'block' : 'none';\n",
              "\n",
              "        async function convertToInteractive(key) {\n",
              "          const element = document.querySelector('#df-fd43dc3e-c3f8-4275-93f4-f9641289fc98');\n",
              "          const dataTable =\n",
              "            await google.colab.kernel.invokeFunction('convertToInteractive',\n",
              "                                                     [key], {});\n",
              "          if (!dataTable) return;\n",
              "\n",
              "          const docLinkHtml = 'Like what you see? Visit the ' +\n",
              "            '<a target=\"_blank\" href=https://colab.research.google.com/notebooks/data_table.ipynb>data table notebook</a>'\n",
              "            + ' to learn more about interactive tables.';\n",
              "          element.innerHTML = '';\n",
              "          dataTable['output_type'] = 'display_data';\n",
              "          await google.colab.output.renderOutput(dataTable, element);\n",
              "          const docLink = document.createElement('div');\n",
              "          docLink.innerHTML = docLinkHtml;\n",
              "          element.appendChild(docLink);\n",
              "        }\n",
              "      </script>\n",
              "    </div>\n",
              "  </div>\n",
              "  "
            ]
          },
          "metadata": {},
          "execution_count": 12
        }
      ]
    },
    {
      "cell_type": "markdown",
      "source": [
        "#### Step 5.\n",
        "\n",
        "Isolate the registration numbers for the following 3 makes: \"Mercedes Benz\", \"Toyota\", \"Kia\". Store the resulting DataFrame in variable `sg_cars_excel_subset`:"
      ],
      "metadata": {
        "id": "453cyxxks7cn"
      }
    },
    {
      "cell_type": "code",
      "source": [
        "# hint: use boolean indexing with isin\n",
        "sg_cars_excel_subset = sg_cars_excel_fixed[sg_cars_excel_fixed.Make.isin([\"Mercedes Benz\", \"Toyota\", \"Kia\"])]\n",
        "\n",
        "assert sg_cars_excel_subset.shape == (3, 12)\n",
        "assert \"Mercedes Benz\" in sg_cars_excel_subset.Make.values\n",
        "assert \"Toyota\" in sg_cars_excel_subset.Make.values\n",
        "assert \"Kia\" in sg_cars_excel_subset.Make.values"
      ],
      "metadata": {
        "id": "P4Y0uSoBtafi"
      },
      "execution_count": 13,
      "outputs": []
    },
    {
      "cell_type": "markdown",
      "source": [
        "#### Step 6.\n",
        "\n",
        "Only select the `Make` column and year 2019, 2020, and 2021 from the `sg_cars_excel_subset` DataFrame.\n",
        "\n",
        "Store the result in variable `sg_cars_excel_subsubset`:"
      ],
      "metadata": {
        "id": "INOrPAycuvLJ"
      }
    },
    {
      "cell_type": "code",
      "source": [
        "# hint: use column selection\n",
        "sg_cars_excel_subsubset = sg_cars_excel_subset[['Make', 2019, 2020, 2021]]\n",
        "\n",
        "assert sg_cars_excel_subsubset.shape == (3, 4)\n",
        "assert sg_cars_excel_subsubset.columns.to_list() == ['Make', 2019, 2020, 2021]"
      ],
      "metadata": {
        "id": "VTGMBzwdvJ56"
      },
      "execution_count": 14,
      "outputs": []
    },
    {
      "cell_type": "markdown",
      "source": [
        "## 3.3.6. Exercises: improve merging with index difference and outer join\n",
        "\n",
        "You might have noticed we weren't being very careful with the merger of the annual and monthly data for comparison, because by performing an inner join, only make-year keys present in both datasets will be included for comparison. It's possible that some make-year keys are only present in the annual data, others only present in the monthly data. How can we find out if there are such discrepancies?"
      ],
      "metadata": {
        "id": "AW_jN3cvOCRc"
      }
    },
    {
      "cell_type": "code",
      "source": [
        "# Execute this code cell to prepare the dataset for exercises below\n",
        "\n",
        "import pandas as pd\n",
        "import numpy as np\n",
        "\n",
        "# read and clean the monthly dataset\n",
        "cars_monthly = pd.read_csv('https://raw.githubusercontent.com/worldbank/dec-python-course/main/1-foundations/3-numpy-and-pandas/data/Singapore_Monthly_New_Car_Registrations_by_make_type.csv')\n",
        "cars_monthly.dropna(subset=['number'], inplace=True)\n",
        "\n",
        "cars_monthly_renamed = cars_monthly.rename(columns={'month': 'year_month'})\n",
        "cars_monthly_renamed[['year','month']] = cars_monthly_renamed.year_month.str.split(\"-\", expand=True)\n",
        "cars_monthly_dropped = cars_monthly_renamed.drop(columns=['year_month'])\n",
        "\n",
        "columns_ordered = ['year', 'month', 'make', 'fuel_type', 'vehicle_type', 'number']\n",
        "cars_monthly_reordered = cars_monthly_dropped.reindex(columns=columns_ordered)\n",
        "\n",
        "cars_monthly_converted = cars_monthly_reordered.astype({\n",
        "    'number': 'int', 'year': 'int', 'month': 'int'})\n",
        "\n",
        "cars_monthly_nonzero = cars_monthly_converted[cars_monthly_converted.number > 0]\n",
        "cars_monthly_pivoted = cars_monthly_nonzero.pivot_table(index='make', columns='year', values='number', aggfunc='sum')\n",
        "cars_monthly_melted = cars_monthly_pivoted.melt(var_name='year', value_name='number', ignore_index=False)\n",
        "\n",
        "cars_monthly_reset = cars_monthly_melted.dropna().reset_index()\n",
        "\n",
        "# read and clean the annual dataset\n",
        "file_url = 'https://raw.githubusercontent.com/worldbank/dec-python-course/main/1-foundations/3-numpy-and-pandas/data/Singapore_Annual_New_Car_Registrations_by_make_type.csv'\n",
        "singapore_cars = pd.read_csv(file_url)\n",
        "singapore_cars_cleaned = singapore_cars[~np.isnan(singapore_cars.number)]\n",
        "cars_annually_aggregated = singapore_cars_cleaned.pivot_table(index='make', columns='year', values='number', aggfunc='sum')\n",
        "cars_annually_melted = cars_annually_aggregated.melt(var_name='year', value_name='number', ignore_index=False)\n",
        "cars_annually_reset = cars_annually_melted.dropna().reset_index()"
      ],
      "metadata": {
        "id": "dGq6EiyLcy0F"
      },
      "execution_count": 15,
      "outputs": []
    },
    {
      "cell_type": "code",
      "source": [
        "cars_monthly_reset"
      ],
      "metadata": {
        "id": "9zEmOacPbf6a",
        "colab": {
          "base_uri": "https://localhost:8080/",
          "height": 424
        },
        "outputId": "59fb7344-138b-4a34-95b9-524a7a13f8cc"
      },
      "execution_count": 16,
      "outputs": [
        {
          "output_type": "execute_result",
          "data": {
            "text/plain": [
              "             make  year  number\n",
              "0      ALFA ROMEO  2016    39.0\n",
              "1          ALPINA  2016    12.0\n",
              "2    ASTON MARTIN  2016    14.0\n",
              "3            AUDI  2016  2360.0\n",
              "4          B.M.W.  2016  4582.0\n",
              "..            ...   ...     ...\n",
              "368         TESLA  2022   315.0\n",
              "369        TOYOTA  2022  3545.0\n",
              "370       TRIUMPH  2022     2.0\n",
              "371    VOLKSWAGEN  2022   241.0\n",
              "372         VOLVO  2022   185.0\n",
              "\n",
              "[373 rows x 3 columns]"
            ],
            "text/html": [
              "\n",
              "  <div id=\"df-35694a0f-1f70-4d6b-874b-fa1548f02509\">\n",
              "    <div class=\"colab-df-container\">\n",
              "      <div>\n",
              "<style scoped>\n",
              "    .dataframe tbody tr th:only-of-type {\n",
              "        vertical-align: middle;\n",
              "    }\n",
              "\n",
              "    .dataframe tbody tr th {\n",
              "        vertical-align: top;\n",
              "    }\n",
              "\n",
              "    .dataframe thead th {\n",
              "        text-align: right;\n",
              "    }\n",
              "</style>\n",
              "<table border=\"1\" class=\"dataframe\">\n",
              "  <thead>\n",
              "    <tr style=\"text-align: right;\">\n",
              "      <th></th>\n",
              "      <th>make</th>\n",
              "      <th>year</th>\n",
              "      <th>number</th>\n",
              "    </tr>\n",
              "  </thead>\n",
              "  <tbody>\n",
              "    <tr>\n",
              "      <th>0</th>\n",
              "      <td>ALFA ROMEO</td>\n",
              "      <td>2016</td>\n",
              "      <td>39.0</td>\n",
              "    </tr>\n",
              "    <tr>\n",
              "      <th>1</th>\n",
              "      <td>ALPINA</td>\n",
              "      <td>2016</td>\n",
              "      <td>12.0</td>\n",
              "    </tr>\n",
              "    <tr>\n",
              "      <th>2</th>\n",
              "      <td>ASTON MARTIN</td>\n",
              "      <td>2016</td>\n",
              "      <td>14.0</td>\n",
              "    </tr>\n",
              "    <tr>\n",
              "      <th>3</th>\n",
              "      <td>AUDI</td>\n",
              "      <td>2016</td>\n",
              "      <td>2360.0</td>\n",
              "    </tr>\n",
              "    <tr>\n",
              "      <th>4</th>\n",
              "      <td>B.M.W.</td>\n",
              "      <td>2016</td>\n",
              "      <td>4582.0</td>\n",
              "    </tr>\n",
              "    <tr>\n",
              "      <th>...</th>\n",
              "      <td>...</td>\n",
              "      <td>...</td>\n",
              "      <td>...</td>\n",
              "    </tr>\n",
              "    <tr>\n",
              "      <th>368</th>\n",
              "      <td>TESLA</td>\n",
              "      <td>2022</td>\n",
              "      <td>315.0</td>\n",
              "    </tr>\n",
              "    <tr>\n",
              "      <th>369</th>\n",
              "      <td>TOYOTA</td>\n",
              "      <td>2022</td>\n",
              "      <td>3545.0</td>\n",
              "    </tr>\n",
              "    <tr>\n",
              "      <th>370</th>\n",
              "      <td>TRIUMPH</td>\n",
              "      <td>2022</td>\n",
              "      <td>2.0</td>\n",
              "    </tr>\n",
              "    <tr>\n",
              "      <th>371</th>\n",
              "      <td>VOLKSWAGEN</td>\n",
              "      <td>2022</td>\n",
              "      <td>241.0</td>\n",
              "    </tr>\n",
              "    <tr>\n",
              "      <th>372</th>\n",
              "      <td>VOLVO</td>\n",
              "      <td>2022</td>\n",
              "      <td>185.0</td>\n",
              "    </tr>\n",
              "  </tbody>\n",
              "</table>\n",
              "<p>373 rows × 3 columns</p>\n",
              "</div>\n",
              "      <button class=\"colab-df-convert\" onclick=\"convertToInteractive('df-35694a0f-1f70-4d6b-874b-fa1548f02509')\"\n",
              "              title=\"Convert this dataframe to an interactive table.\"\n",
              "              style=\"display:none;\">\n",
              "        \n",
              "  <svg xmlns=\"http://www.w3.org/2000/svg\" height=\"24px\"viewBox=\"0 0 24 24\"\n",
              "       width=\"24px\">\n",
              "    <path d=\"M0 0h24v24H0V0z\" fill=\"none\"/>\n",
              "    <path d=\"M18.56 5.44l.94 2.06.94-2.06 2.06-.94-2.06-.94-.94-2.06-.94 2.06-2.06.94zm-11 1L8.5 8.5l.94-2.06 2.06-.94-2.06-.94L8.5 2.5l-.94 2.06-2.06.94zm10 10l.94 2.06.94-2.06 2.06-.94-2.06-.94-.94-2.06-.94 2.06-2.06.94z\"/><path d=\"M17.41 7.96l-1.37-1.37c-.4-.4-.92-.59-1.43-.59-.52 0-1.04.2-1.43.59L10.3 9.45l-7.72 7.72c-.78.78-.78 2.05 0 2.83L4 21.41c.39.39.9.59 1.41.59.51 0 1.02-.2 1.41-.59l7.78-7.78 2.81-2.81c.8-.78.8-2.07 0-2.86zM5.41 20L4 18.59l7.72-7.72 1.47 1.35L5.41 20z\"/>\n",
              "  </svg>\n",
              "      </button>\n",
              "      \n",
              "  <style>\n",
              "    .colab-df-container {\n",
              "      display:flex;\n",
              "      flex-wrap:wrap;\n",
              "      gap: 12px;\n",
              "    }\n",
              "\n",
              "    .colab-df-convert {\n",
              "      background-color: #E8F0FE;\n",
              "      border: none;\n",
              "      border-radius: 50%;\n",
              "      cursor: pointer;\n",
              "      display: none;\n",
              "      fill: #1967D2;\n",
              "      height: 32px;\n",
              "      padding: 0 0 0 0;\n",
              "      width: 32px;\n",
              "    }\n",
              "\n",
              "    .colab-df-convert:hover {\n",
              "      background-color: #E2EBFA;\n",
              "      box-shadow: 0px 1px 2px rgba(60, 64, 67, 0.3), 0px 1px 3px 1px rgba(60, 64, 67, 0.15);\n",
              "      fill: #174EA6;\n",
              "    }\n",
              "\n",
              "    [theme=dark] .colab-df-convert {\n",
              "      background-color: #3B4455;\n",
              "      fill: #D2E3FC;\n",
              "    }\n",
              "\n",
              "    [theme=dark] .colab-df-convert:hover {\n",
              "      background-color: #434B5C;\n",
              "      box-shadow: 0px 1px 3px 1px rgba(0, 0, 0, 0.15);\n",
              "      filter: drop-shadow(0px 1px 2px rgba(0, 0, 0, 0.3));\n",
              "      fill: #FFFFFF;\n",
              "    }\n",
              "  </style>\n",
              "\n",
              "      <script>\n",
              "        const buttonEl =\n",
              "          document.querySelector('#df-35694a0f-1f70-4d6b-874b-fa1548f02509 button.colab-df-convert');\n",
              "        buttonEl.style.display =\n",
              "          google.colab.kernel.accessAllowed ? 'block' : 'none';\n",
              "\n",
              "        async function convertToInteractive(key) {\n",
              "          const element = document.querySelector('#df-35694a0f-1f70-4d6b-874b-fa1548f02509');\n",
              "          const dataTable =\n",
              "            await google.colab.kernel.invokeFunction('convertToInteractive',\n",
              "                                                     [key], {});\n",
              "          if (!dataTable) return;\n",
              "\n",
              "          const docLinkHtml = 'Like what you see? Visit the ' +\n",
              "            '<a target=\"_blank\" href=https://colab.research.google.com/notebooks/data_table.ipynb>data table notebook</a>'\n",
              "            + ' to learn more about interactive tables.';\n",
              "          element.innerHTML = '';\n",
              "          dataTable['output_type'] = 'display_data';\n",
              "          await google.colab.output.renderOutput(dataTable, element);\n",
              "          const docLink = document.createElement('div');\n",
              "          docLink.innerHTML = docLinkHtml;\n",
              "          element.appendChild(docLink);\n",
              "        }\n",
              "      </script>\n",
              "    </div>\n",
              "  </div>\n",
              "  "
            ]
          },
          "metadata": {},
          "execution_count": 16
        }
      ]
    },
    {
      "cell_type": "code",
      "source": [
        "cars_annually_reset"
      ],
      "metadata": {
        "id": "g2yMfG-KbrEW",
        "colab": {
          "base_uri": "https://localhost:8080/",
          "height": 424
        },
        "outputId": "06686327-d7c3-4ef3-ac8f-e8ef1a9b4dce"
      },
      "execution_count": 17,
      "outputs": [
        {
          "output_type": "execute_result",
          "data": {
            "text/plain": [
              "             make  year  number\n",
              "0      ALFA ROMEO  2015    31.0\n",
              "1          ALPINA  2015     9.0\n",
              "2    ASTON MARTIN  2015     5.0\n",
              "3            AUDI  2015  2093.0\n",
              "4          AUSTIN  2015     2.0\n",
              "..            ...   ...     ...\n",
              "362        SUZUKI  2021   378.0\n",
              "363         TESLA  2021   924.0\n",
              "364        TOYOTA  2021  9633.0\n",
              "365    VOLKSWAGEN  2021   915.0\n",
              "366         VOLVO  2021   510.0\n",
              "\n",
              "[367 rows x 3 columns]"
            ],
            "text/html": [
              "\n",
              "  <div id=\"df-25fd0e85-d25e-41c8-ad44-5c8e2a7f0c5a\">\n",
              "    <div class=\"colab-df-container\">\n",
              "      <div>\n",
              "<style scoped>\n",
              "    .dataframe tbody tr th:only-of-type {\n",
              "        vertical-align: middle;\n",
              "    }\n",
              "\n",
              "    .dataframe tbody tr th {\n",
              "        vertical-align: top;\n",
              "    }\n",
              "\n",
              "    .dataframe thead th {\n",
              "        text-align: right;\n",
              "    }\n",
              "</style>\n",
              "<table border=\"1\" class=\"dataframe\">\n",
              "  <thead>\n",
              "    <tr style=\"text-align: right;\">\n",
              "      <th></th>\n",
              "      <th>make</th>\n",
              "      <th>year</th>\n",
              "      <th>number</th>\n",
              "    </tr>\n",
              "  </thead>\n",
              "  <tbody>\n",
              "    <tr>\n",
              "      <th>0</th>\n",
              "      <td>ALFA ROMEO</td>\n",
              "      <td>2015</td>\n",
              "      <td>31.0</td>\n",
              "    </tr>\n",
              "    <tr>\n",
              "      <th>1</th>\n",
              "      <td>ALPINA</td>\n",
              "      <td>2015</td>\n",
              "      <td>9.0</td>\n",
              "    </tr>\n",
              "    <tr>\n",
              "      <th>2</th>\n",
              "      <td>ASTON MARTIN</td>\n",
              "      <td>2015</td>\n",
              "      <td>5.0</td>\n",
              "    </tr>\n",
              "    <tr>\n",
              "      <th>3</th>\n",
              "      <td>AUDI</td>\n",
              "      <td>2015</td>\n",
              "      <td>2093.0</td>\n",
              "    </tr>\n",
              "    <tr>\n",
              "      <th>4</th>\n",
              "      <td>AUSTIN</td>\n",
              "      <td>2015</td>\n",
              "      <td>2.0</td>\n",
              "    </tr>\n",
              "    <tr>\n",
              "      <th>...</th>\n",
              "      <td>...</td>\n",
              "      <td>...</td>\n",
              "      <td>...</td>\n",
              "    </tr>\n",
              "    <tr>\n",
              "      <th>362</th>\n",
              "      <td>SUZUKI</td>\n",
              "      <td>2021</td>\n",
              "      <td>378.0</td>\n",
              "    </tr>\n",
              "    <tr>\n",
              "      <th>363</th>\n",
              "      <td>TESLA</td>\n",
              "      <td>2021</td>\n",
              "      <td>924.0</td>\n",
              "    </tr>\n",
              "    <tr>\n",
              "      <th>364</th>\n",
              "      <td>TOYOTA</td>\n",
              "      <td>2021</td>\n",
              "      <td>9633.0</td>\n",
              "    </tr>\n",
              "    <tr>\n",
              "      <th>365</th>\n",
              "      <td>VOLKSWAGEN</td>\n",
              "      <td>2021</td>\n",
              "      <td>915.0</td>\n",
              "    </tr>\n",
              "    <tr>\n",
              "      <th>366</th>\n",
              "      <td>VOLVO</td>\n",
              "      <td>2021</td>\n",
              "      <td>510.0</td>\n",
              "    </tr>\n",
              "  </tbody>\n",
              "</table>\n",
              "<p>367 rows × 3 columns</p>\n",
              "</div>\n",
              "      <button class=\"colab-df-convert\" onclick=\"convertToInteractive('df-25fd0e85-d25e-41c8-ad44-5c8e2a7f0c5a')\"\n",
              "              title=\"Convert this dataframe to an interactive table.\"\n",
              "              style=\"display:none;\">\n",
              "        \n",
              "  <svg xmlns=\"http://www.w3.org/2000/svg\" height=\"24px\"viewBox=\"0 0 24 24\"\n",
              "       width=\"24px\">\n",
              "    <path d=\"M0 0h24v24H0V0z\" fill=\"none\"/>\n",
              "    <path d=\"M18.56 5.44l.94 2.06.94-2.06 2.06-.94-2.06-.94-.94-2.06-.94 2.06-2.06.94zm-11 1L8.5 8.5l.94-2.06 2.06-.94-2.06-.94L8.5 2.5l-.94 2.06-2.06.94zm10 10l.94 2.06.94-2.06 2.06-.94-2.06-.94-.94-2.06-.94 2.06-2.06.94z\"/><path d=\"M17.41 7.96l-1.37-1.37c-.4-.4-.92-.59-1.43-.59-.52 0-1.04.2-1.43.59L10.3 9.45l-7.72 7.72c-.78.78-.78 2.05 0 2.83L4 21.41c.39.39.9.59 1.41.59.51 0 1.02-.2 1.41-.59l7.78-7.78 2.81-2.81c.8-.78.8-2.07 0-2.86zM5.41 20L4 18.59l7.72-7.72 1.47 1.35L5.41 20z\"/>\n",
              "  </svg>\n",
              "      </button>\n",
              "      \n",
              "  <style>\n",
              "    .colab-df-container {\n",
              "      display:flex;\n",
              "      flex-wrap:wrap;\n",
              "      gap: 12px;\n",
              "    }\n",
              "\n",
              "    .colab-df-convert {\n",
              "      background-color: #E8F0FE;\n",
              "      border: none;\n",
              "      border-radius: 50%;\n",
              "      cursor: pointer;\n",
              "      display: none;\n",
              "      fill: #1967D2;\n",
              "      height: 32px;\n",
              "      padding: 0 0 0 0;\n",
              "      width: 32px;\n",
              "    }\n",
              "\n",
              "    .colab-df-convert:hover {\n",
              "      background-color: #E2EBFA;\n",
              "      box-shadow: 0px 1px 2px rgba(60, 64, 67, 0.3), 0px 1px 3px 1px rgba(60, 64, 67, 0.15);\n",
              "      fill: #174EA6;\n",
              "    }\n",
              "\n",
              "    [theme=dark] .colab-df-convert {\n",
              "      background-color: #3B4455;\n",
              "      fill: #D2E3FC;\n",
              "    }\n",
              "\n",
              "    [theme=dark] .colab-df-convert:hover {\n",
              "      background-color: #434B5C;\n",
              "      box-shadow: 0px 1px 3px 1px rgba(0, 0, 0, 0.15);\n",
              "      filter: drop-shadow(0px 1px 2px rgba(0, 0, 0, 0.3));\n",
              "      fill: #FFFFFF;\n",
              "    }\n",
              "  </style>\n",
              "\n",
              "      <script>\n",
              "        const buttonEl =\n",
              "          document.querySelector('#df-25fd0e85-d25e-41c8-ad44-5c8e2a7f0c5a button.colab-df-convert');\n",
              "        buttonEl.style.display =\n",
              "          google.colab.kernel.accessAllowed ? 'block' : 'none';\n",
              "\n",
              "        async function convertToInteractive(key) {\n",
              "          const element = document.querySelector('#df-25fd0e85-d25e-41c8-ad44-5c8e2a7f0c5a');\n",
              "          const dataTable =\n",
              "            await google.colab.kernel.invokeFunction('convertToInteractive',\n",
              "                                                     [key], {});\n",
              "          if (!dataTable) return;\n",
              "\n",
              "          const docLinkHtml = 'Like what you see? Visit the ' +\n",
              "            '<a target=\"_blank\" href=https://colab.research.google.com/notebooks/data_table.ipynb>data table notebook</a>'\n",
              "            + ' to learn more about interactive tables.';\n",
              "          element.innerHTML = '';\n",
              "          dataTable['output_type'] = 'display_data';\n",
              "          await google.colab.output.renderOutput(dataTable, element);\n",
              "          const docLink = document.createElement('div');\n",
              "          docLink.innerHTML = docLinkHtml;\n",
              "          element.appendChild(docLink);\n",
              "        }\n",
              "      </script>\n",
              "    </div>\n",
              "  </div>\n",
              "  "
            ]
          },
          "metadata": {},
          "execution_count": 17
        }
      ]
    },
    {
      "cell_type": "markdown",
      "source": [
        "#### Step 1.\n",
        "\n",
        "Recall the annual data cover year 2015-2021, while the monthly cover year 2016-2022, so let's take out 2015 from the annual data (store the result in `cars_annually_16_21`), and filter out 2022 from the monthly (store the result in `cars_monthly_16_21`):"
      ],
      "metadata": {
        "id": "PHE_I69oPOBq"
      }
    },
    {
      "cell_type": "code",
      "source": [
        "# hint: use subsetting with boolean indexing\n",
        "cars_annually_16_21 = cars_annually_reset[cars_annually_reset.year != 2015]\n",
        "cars_monthly_16_21 = cars_monthly_reset[cars_monthly_reset.year != 2022]\n",
        "\n",
        "assert 2015 not in cars_annually_16_21.year.to_list()\n",
        "assert 2016 in cars_annually_16_21.year.to_list()\n",
        "assert 2022 not in cars_monthly_16_21.year.to_list()\n",
        "assert 2021 in cars_monthly_16_21.year.to_list()"
      ],
      "metadata": {
        "id": "5J1Cy9v8Rijr"
      },
      "execution_count": 18,
      "outputs": []
    },
    {
      "cell_type": "markdown",
      "source": [
        "#### Step 2.\n",
        "\n",
        "We want to quickly investigate if the make-year keys are different between these two datasets. The function `difference` or `symmetric_difference` on the `Index` object will allow us to carry out the comparison. First let's create such a composite index made of the `make` and `year` column for both `cars_annually_16_21` and `cars_monthly_16_21`. Store the results in `cars_annually_duo_index` and `cars_monthly_duo_index` respectively:"
      ],
      "metadata": {
        "id": "BNIZrEKHgGEO"
      }
    },
    {
      "cell_type": "code",
      "source": [
        "# hint: use set_index\n",
        "cars_annually_duo_index = cars_annually_16_21.set_index(['make', 'year'])\n",
        "cars_monthly_duo_index = cars_monthly_16_21.set_index(['make', 'year'])\n",
        "\n",
        "assert ('ALFA ROMEO', 2016) in cars_annually_duo_index.index\n",
        "assert ('VOLVO', 2021) in cars_annually_duo_index.index\n",
        "assert ('ALFA ROMEO', 2016) in cars_monthly_duo_index.index\n",
        "assert ('VOLVO', 2021) in cars_monthly_duo_index.index"
      ],
      "metadata": {
        "id": "ZddsxGo6QibW"
      },
      "execution_count": 19,
      "outputs": []
    },
    {
      "cell_type": "markdown",
      "source": [
        "#### Step 3\n",
        "\n",
        "Invoke `difference` twice to compare the indexes of the two DataFrame: `cars_annually_duo_index` and `cars_monthly_duo_index`. First invocation is to find what's in the first index but not in the second; then invoke it again to find what's in the second index but not the first.\n",
        "\n",
        "Alternatively you may invoke `symmetric_difference` once to get the union of all the differences in one go."
      ],
      "metadata": {
        "id": "RyzZvj5FpsWe"
      }
    },
    {
      "cell_type": "code",
      "source": [
        "# hint: use cars_annually_duo_index.index.difference, or symmetric_difference\n",
        "cars_annually_duo_index.index.difference(cars_monthly_duo_index.index)"
      ],
      "metadata": {
        "id": "yjJcSOqTQAzf",
        "colab": {
          "base_uri": "https://localhost:8080/"
        },
        "outputId": "8e18da2a-eca3-4f99-f47e-3def5d585cf7"
      },
      "execution_count": 20,
      "outputs": [
        {
          "output_type": "execute_result",
          "data": {
            "text/plain": [
              "MultiIndex([('Mclaren', 2018),\n",
              "            ('Mclaren', 2019),\n",
              "            ('Mclaren', 2020),\n",
              "            ('Mclaren', 2021)],\n",
              "           names=['make', 'year'])"
            ]
          },
          "metadata": {},
          "execution_count": 20
        }
      ]
    },
    {
      "cell_type": "code",
      "source": [
        "# hint: use cars_monthly_duo_index.index.difference or skip this cell if used symmetric_difference before\n",
        "cars_monthly_duo_index.index.difference(cars_annually_duo_index.index)"
      ],
      "metadata": {
        "id": "fbkdZbeGtkNr",
        "colab": {
          "base_uri": "https://localhost:8080/"
        },
        "outputId": "becf9f4b-17b9-4913-cb7b-ff587c6e5901"
      },
      "execution_count": 21,
      "outputs": [
        {
          "output_type": "execute_result",
          "data": {
            "text/plain": [
              "MultiIndex([('MCLAREN', 2017),\n",
              "            ('MCLAREN', 2018),\n",
              "            ('MCLAREN', 2019),\n",
              "            ('MCLAREN', 2020),\n",
              "            ('MCLAREN', 2021)],\n",
              "           names=['make', 'year'])"
            ]
          },
          "metadata": {},
          "execution_count": 21
        }
      ]
    },
    {
      "cell_type": "code",
      "source": [
        "# Alternative solution using symmetric_difference\n",
        "cars_annually_duo_index.index.symmetric_difference(cars_monthly_duo_index.index)"
      ],
      "metadata": {
        "id": "7qKjuOnAdMwb",
        "colab": {
          "base_uri": "https://localhost:8080/"
        },
        "outputId": "4f300bf6-5c62-42c3-f24b-a898824bd171"
      },
      "execution_count": 22,
      "outputs": [
        {
          "output_type": "execute_result",
          "data": {
            "text/plain": [
              "MultiIndex([('MCLAREN', 2017),\n",
              "            ('MCLAREN', 2018),\n",
              "            ('MCLAREN', 2019),\n",
              "            ('MCLAREN', 2020),\n",
              "            ('MCLAREN', 2021),\n",
              "            ('Mclaren', 2018),\n",
              "            ('Mclaren', 2019),\n",
              "            ('Mclaren', 2020),\n",
              "            ('Mclaren', 2021)],\n",
              "           names=['make', 'year'])"
            ]
          },
          "metadata": {},
          "execution_count": 22
        }
      ]
    },
    {
      "cell_type": "markdown",
      "source": [
        "#### Step 4\n",
        "\n",
        "Notice the make Mclaren has two difference spellings. Let's take a look at those records in each dataset by filtering down to just the Mclaren records.\n",
        "\n",
        "You might find the composite index not the most straightforward to work with. Feel free to do the subsetting on `cars_annually_16_21` and `cars_monthly_16_21` instead."
      ],
      "metadata": {
        "id": "c4YbJ_rGqTDw"
      }
    },
    {
      "cell_type": "code",
      "source": [
        "# hint: use boolean indexing with .str.casefold() on the make column\n",
        "cars_annually_16_21[cars_annually_16_21.make.str.casefold() == 'mclaren']"
      ],
      "metadata": {
        "id": "3EIz2EUfTBpB",
        "colab": {
          "base_uri": "https://localhost:8080/",
          "height": 238
        },
        "outputId": "69439f48-05f9-47a4-8806-56b187e401ee"
      },
      "execution_count": 23,
      "outputs": [
        {
          "output_type": "execute_result",
          "data": {
            "text/plain": [
              "        make  year  number\n",
              "83   Mclaren  2016     5.0\n",
              "136  Mclaren  2017    10.0\n",
              "189  Mclaren  2018    23.0\n",
              "241  Mclaren  2019    21.0\n",
              "295  Mclaren  2020    16.0\n",
              "349  Mclaren  2021    28.0"
            ],
            "text/html": [
              "\n",
              "  <div id=\"df-3d4556a2-94b9-4cd9-a976-d707932b7650\">\n",
              "    <div class=\"colab-df-container\">\n",
              "      <div>\n",
              "<style scoped>\n",
              "    .dataframe tbody tr th:only-of-type {\n",
              "        vertical-align: middle;\n",
              "    }\n",
              "\n",
              "    .dataframe tbody tr th {\n",
              "        vertical-align: top;\n",
              "    }\n",
              "\n",
              "    .dataframe thead th {\n",
              "        text-align: right;\n",
              "    }\n",
              "</style>\n",
              "<table border=\"1\" class=\"dataframe\">\n",
              "  <thead>\n",
              "    <tr style=\"text-align: right;\">\n",
              "      <th></th>\n",
              "      <th>make</th>\n",
              "      <th>year</th>\n",
              "      <th>number</th>\n",
              "    </tr>\n",
              "  </thead>\n",
              "  <tbody>\n",
              "    <tr>\n",
              "      <th>83</th>\n",
              "      <td>Mclaren</td>\n",
              "      <td>2016</td>\n",
              "      <td>5.0</td>\n",
              "    </tr>\n",
              "    <tr>\n",
              "      <th>136</th>\n",
              "      <td>Mclaren</td>\n",
              "      <td>2017</td>\n",
              "      <td>10.0</td>\n",
              "    </tr>\n",
              "    <tr>\n",
              "      <th>189</th>\n",
              "      <td>Mclaren</td>\n",
              "      <td>2018</td>\n",
              "      <td>23.0</td>\n",
              "    </tr>\n",
              "    <tr>\n",
              "      <th>241</th>\n",
              "      <td>Mclaren</td>\n",
              "      <td>2019</td>\n",
              "      <td>21.0</td>\n",
              "    </tr>\n",
              "    <tr>\n",
              "      <th>295</th>\n",
              "      <td>Mclaren</td>\n",
              "      <td>2020</td>\n",
              "      <td>16.0</td>\n",
              "    </tr>\n",
              "    <tr>\n",
              "      <th>349</th>\n",
              "      <td>Mclaren</td>\n",
              "      <td>2021</td>\n",
              "      <td>28.0</td>\n",
              "    </tr>\n",
              "  </tbody>\n",
              "</table>\n",
              "</div>\n",
              "      <button class=\"colab-df-convert\" onclick=\"convertToInteractive('df-3d4556a2-94b9-4cd9-a976-d707932b7650')\"\n",
              "              title=\"Convert this dataframe to an interactive table.\"\n",
              "              style=\"display:none;\">\n",
              "        \n",
              "  <svg xmlns=\"http://www.w3.org/2000/svg\" height=\"24px\"viewBox=\"0 0 24 24\"\n",
              "       width=\"24px\">\n",
              "    <path d=\"M0 0h24v24H0V0z\" fill=\"none\"/>\n",
              "    <path d=\"M18.56 5.44l.94 2.06.94-2.06 2.06-.94-2.06-.94-.94-2.06-.94 2.06-2.06.94zm-11 1L8.5 8.5l.94-2.06 2.06-.94-2.06-.94L8.5 2.5l-.94 2.06-2.06.94zm10 10l.94 2.06.94-2.06 2.06-.94-2.06-.94-.94-2.06-.94 2.06-2.06.94z\"/><path d=\"M17.41 7.96l-1.37-1.37c-.4-.4-.92-.59-1.43-.59-.52 0-1.04.2-1.43.59L10.3 9.45l-7.72 7.72c-.78.78-.78 2.05 0 2.83L4 21.41c.39.39.9.59 1.41.59.51 0 1.02-.2 1.41-.59l7.78-7.78 2.81-2.81c.8-.78.8-2.07 0-2.86zM5.41 20L4 18.59l7.72-7.72 1.47 1.35L5.41 20z\"/>\n",
              "  </svg>\n",
              "      </button>\n",
              "      \n",
              "  <style>\n",
              "    .colab-df-container {\n",
              "      display:flex;\n",
              "      flex-wrap:wrap;\n",
              "      gap: 12px;\n",
              "    }\n",
              "\n",
              "    .colab-df-convert {\n",
              "      background-color: #E8F0FE;\n",
              "      border: none;\n",
              "      border-radius: 50%;\n",
              "      cursor: pointer;\n",
              "      display: none;\n",
              "      fill: #1967D2;\n",
              "      height: 32px;\n",
              "      padding: 0 0 0 0;\n",
              "      width: 32px;\n",
              "    }\n",
              "\n",
              "    .colab-df-convert:hover {\n",
              "      background-color: #E2EBFA;\n",
              "      box-shadow: 0px 1px 2px rgba(60, 64, 67, 0.3), 0px 1px 3px 1px rgba(60, 64, 67, 0.15);\n",
              "      fill: #174EA6;\n",
              "    }\n",
              "\n",
              "    [theme=dark] .colab-df-convert {\n",
              "      background-color: #3B4455;\n",
              "      fill: #D2E3FC;\n",
              "    }\n",
              "\n",
              "    [theme=dark] .colab-df-convert:hover {\n",
              "      background-color: #434B5C;\n",
              "      box-shadow: 0px 1px 3px 1px rgba(0, 0, 0, 0.15);\n",
              "      filter: drop-shadow(0px 1px 2px rgba(0, 0, 0, 0.3));\n",
              "      fill: #FFFFFF;\n",
              "    }\n",
              "  </style>\n",
              "\n",
              "      <script>\n",
              "        const buttonEl =\n",
              "          document.querySelector('#df-3d4556a2-94b9-4cd9-a976-d707932b7650 button.colab-df-convert');\n",
              "        buttonEl.style.display =\n",
              "          google.colab.kernel.accessAllowed ? 'block' : 'none';\n",
              "\n",
              "        async function convertToInteractive(key) {\n",
              "          const element = document.querySelector('#df-3d4556a2-94b9-4cd9-a976-d707932b7650');\n",
              "          const dataTable =\n",
              "            await google.colab.kernel.invokeFunction('convertToInteractive',\n",
              "                                                     [key], {});\n",
              "          if (!dataTable) return;\n",
              "\n",
              "          const docLinkHtml = 'Like what you see? Visit the ' +\n",
              "            '<a target=\"_blank\" href=https://colab.research.google.com/notebooks/data_table.ipynb>data table notebook</a>'\n",
              "            + ' to learn more about interactive tables.';\n",
              "          element.innerHTML = '';\n",
              "          dataTable['output_type'] = 'display_data';\n",
              "          await google.colab.output.renderOutput(dataTable, element);\n",
              "          const docLink = document.createElement('div');\n",
              "          docLink.innerHTML = docLinkHtml;\n",
              "          element.appendChild(docLink);\n",
              "        }\n",
              "      </script>\n",
              "    </div>\n",
              "  </div>\n",
              "  "
            ]
          },
          "metadata": {},
          "execution_count": 23
        }
      ]
    },
    {
      "cell_type": "code",
      "source": [
        "# hint: use boolean indexing with .str.casefold() on the make column\n",
        "cars_monthly_16_21[cars_monthly_16_21.make.str.casefold() == 'mclaren']"
      ],
      "metadata": {
        "id": "cr_vBL88TT3s",
        "colab": {
          "base_uri": "https://localhost:8080/",
          "height": 269
        },
        "outputId": "71c8e5bb-e926-47d0-edd2-5a56bd72ced5"
      },
      "execution_count": 24,
      "outputs": [
        {
          "output_type": "execute_result",
          "data": {
            "text/plain": [
              "        make  year  number\n",
              "32   Mclaren  2016     5.0\n",
              "81   MCLAREN  2017     8.0\n",
              "86   Mclaren  2017     2.0\n",
              "135  MCLAREN  2018    23.0\n",
              "187  MCLAREN  2019    21.0\n",
              "241  MCLAREN  2020    16.0\n",
              "294  MCLAREN  2021    28.0"
            ],
            "text/html": [
              "\n",
              "  <div id=\"df-45f022b5-622e-49b1-aeb2-ee5294420203\">\n",
              "    <div class=\"colab-df-container\">\n",
              "      <div>\n",
              "<style scoped>\n",
              "    .dataframe tbody tr th:only-of-type {\n",
              "        vertical-align: middle;\n",
              "    }\n",
              "\n",
              "    .dataframe tbody tr th {\n",
              "        vertical-align: top;\n",
              "    }\n",
              "\n",
              "    .dataframe thead th {\n",
              "        text-align: right;\n",
              "    }\n",
              "</style>\n",
              "<table border=\"1\" class=\"dataframe\">\n",
              "  <thead>\n",
              "    <tr style=\"text-align: right;\">\n",
              "      <th></th>\n",
              "      <th>make</th>\n",
              "      <th>year</th>\n",
              "      <th>number</th>\n",
              "    </tr>\n",
              "  </thead>\n",
              "  <tbody>\n",
              "    <tr>\n",
              "      <th>32</th>\n",
              "      <td>Mclaren</td>\n",
              "      <td>2016</td>\n",
              "      <td>5.0</td>\n",
              "    </tr>\n",
              "    <tr>\n",
              "      <th>81</th>\n",
              "      <td>MCLAREN</td>\n",
              "      <td>2017</td>\n",
              "      <td>8.0</td>\n",
              "    </tr>\n",
              "    <tr>\n",
              "      <th>86</th>\n",
              "      <td>Mclaren</td>\n",
              "      <td>2017</td>\n",
              "      <td>2.0</td>\n",
              "    </tr>\n",
              "    <tr>\n",
              "      <th>135</th>\n",
              "      <td>MCLAREN</td>\n",
              "      <td>2018</td>\n",
              "      <td>23.0</td>\n",
              "    </tr>\n",
              "    <tr>\n",
              "      <th>187</th>\n",
              "      <td>MCLAREN</td>\n",
              "      <td>2019</td>\n",
              "      <td>21.0</td>\n",
              "    </tr>\n",
              "    <tr>\n",
              "      <th>241</th>\n",
              "      <td>MCLAREN</td>\n",
              "      <td>2020</td>\n",
              "      <td>16.0</td>\n",
              "    </tr>\n",
              "    <tr>\n",
              "      <th>294</th>\n",
              "      <td>MCLAREN</td>\n",
              "      <td>2021</td>\n",
              "      <td>28.0</td>\n",
              "    </tr>\n",
              "  </tbody>\n",
              "</table>\n",
              "</div>\n",
              "      <button class=\"colab-df-convert\" onclick=\"convertToInteractive('df-45f022b5-622e-49b1-aeb2-ee5294420203')\"\n",
              "              title=\"Convert this dataframe to an interactive table.\"\n",
              "              style=\"display:none;\">\n",
              "        \n",
              "  <svg xmlns=\"http://www.w3.org/2000/svg\" height=\"24px\"viewBox=\"0 0 24 24\"\n",
              "       width=\"24px\">\n",
              "    <path d=\"M0 0h24v24H0V0z\" fill=\"none\"/>\n",
              "    <path d=\"M18.56 5.44l.94 2.06.94-2.06 2.06-.94-2.06-.94-.94-2.06-.94 2.06-2.06.94zm-11 1L8.5 8.5l.94-2.06 2.06-.94-2.06-.94L8.5 2.5l-.94 2.06-2.06.94zm10 10l.94 2.06.94-2.06 2.06-.94-2.06-.94-.94-2.06-.94 2.06-2.06.94z\"/><path d=\"M17.41 7.96l-1.37-1.37c-.4-.4-.92-.59-1.43-.59-.52 0-1.04.2-1.43.59L10.3 9.45l-7.72 7.72c-.78.78-.78 2.05 0 2.83L4 21.41c.39.39.9.59 1.41.59.51 0 1.02-.2 1.41-.59l7.78-7.78 2.81-2.81c.8-.78.8-2.07 0-2.86zM5.41 20L4 18.59l7.72-7.72 1.47 1.35L5.41 20z\"/>\n",
              "  </svg>\n",
              "      </button>\n",
              "      \n",
              "  <style>\n",
              "    .colab-df-container {\n",
              "      display:flex;\n",
              "      flex-wrap:wrap;\n",
              "      gap: 12px;\n",
              "    }\n",
              "\n",
              "    .colab-df-convert {\n",
              "      background-color: #E8F0FE;\n",
              "      border: none;\n",
              "      border-radius: 50%;\n",
              "      cursor: pointer;\n",
              "      display: none;\n",
              "      fill: #1967D2;\n",
              "      height: 32px;\n",
              "      padding: 0 0 0 0;\n",
              "      width: 32px;\n",
              "    }\n",
              "\n",
              "    .colab-df-convert:hover {\n",
              "      background-color: #E2EBFA;\n",
              "      box-shadow: 0px 1px 2px rgba(60, 64, 67, 0.3), 0px 1px 3px 1px rgba(60, 64, 67, 0.15);\n",
              "      fill: #174EA6;\n",
              "    }\n",
              "\n",
              "    [theme=dark] .colab-df-convert {\n",
              "      background-color: #3B4455;\n",
              "      fill: #D2E3FC;\n",
              "    }\n",
              "\n",
              "    [theme=dark] .colab-df-convert:hover {\n",
              "      background-color: #434B5C;\n",
              "      box-shadow: 0px 1px 3px 1px rgba(0, 0, 0, 0.15);\n",
              "      filter: drop-shadow(0px 1px 2px rgba(0, 0, 0, 0.3));\n",
              "      fill: #FFFFFF;\n",
              "    }\n",
              "  </style>\n",
              "\n",
              "      <script>\n",
              "        const buttonEl =\n",
              "          document.querySelector('#df-45f022b5-622e-49b1-aeb2-ee5294420203 button.colab-df-convert');\n",
              "        buttonEl.style.display =\n",
              "          google.colab.kernel.accessAllowed ? 'block' : 'none';\n",
              "\n",
              "        async function convertToInteractive(key) {\n",
              "          const element = document.querySelector('#df-45f022b5-622e-49b1-aeb2-ee5294420203');\n",
              "          const dataTable =\n",
              "            await google.colab.kernel.invokeFunction('convertToInteractive',\n",
              "                                                     [key], {});\n",
              "          if (!dataTable) return;\n",
              "\n",
              "          const docLinkHtml = 'Like what you see? Visit the ' +\n",
              "            '<a target=\"_blank\" href=https://colab.research.google.com/notebooks/data_table.ipynb>data table notebook</a>'\n",
              "            + ' to learn more about interactive tables.';\n",
              "          element.innerHTML = '';\n",
              "          dataTable['output_type'] = 'display_data';\n",
              "          await google.colab.output.renderOutput(dataTable, element);\n",
              "          const docLink = document.createElement('div');\n",
              "          docLink.innerHTML = docLinkHtml;\n",
              "          element.appendChild(docLink);\n",
              "        }\n",
              "      </script>\n",
              "    </div>\n",
              "  </div>\n",
              "  "
            ]
          },
          "metadata": {},
          "execution_count": 24
        }
      ]
    },
    {
      "cell_type": "markdown",
      "source": [
        "#### Step 5.\n",
        "\n",
        "Mclaren is Capitalized in the annual dataset but Mixed-CASE in the monthly dataset. Let's unify them by UPPERCASING all the `make` values. Make the changes inplace for both `cars_annually_16_21` and `cars_monthly_16_21`:"
      ],
      "metadata": {
        "id": "1XwqPgQnv-74"
      }
    },
    {
      "cell_type": "code",
      "source": [
        "# hint: use column creation, but overwrite the 'make' column; check out .str.upper() function\n",
        "cars_annually_16_21['make'] = cars_annually_16_21.make.str.upper()\n",
        "cars_monthly_16_21['make'] = cars_monthly_16_21.make.str.upper()\n",
        "\n",
        "assert(np.all(cars_annually_16_21['make'].str.isupper()))\n",
        "assert(np.all(cars_monthly_16_21['make'].str.isupper()))"
      ],
      "metadata": {
        "id": "LOAb6VLhT3Oi",
        "colab": {
          "base_uri": "https://localhost:8080/"
        },
        "outputId": "73af9d23-d54e-42c8-d394-d633f58aa0fa"
      },
      "execution_count": 25,
      "outputs": [
        {
          "output_type": "stream",
          "name": "stderr",
          "text": [
            "/usr/local/lib/python3.7/dist-packages/ipykernel_launcher.py:2: SettingWithCopyWarning: \n",
            "A value is trying to be set on a copy of a slice from a DataFrame.\n",
            "Try using .loc[row_indexer,col_indexer] = value instead\n",
            "\n",
            "See the caveats in the documentation: https://pandas.pydata.org/pandas-docs/stable/user_guide/indexing.html#returning-a-view-versus-a-copy\n",
            "  \n",
            "/usr/local/lib/python3.7/dist-packages/ipykernel_launcher.py:3: SettingWithCopyWarning: \n",
            "A value is trying to be set on a copy of a slice from a DataFrame.\n",
            "Try using .loc[row_indexer,col_indexer] = value instead\n",
            "\n",
            "See the caveats in the documentation: https://pandas.pydata.org/pandas-docs/stable/user_guide/indexing.html#returning-a-view-versus-a-copy\n",
            "  This is separate from the ipykernel package so we can avoid doing imports until\n"
          ]
        }
      ]
    },
    {
      "cell_type": "markdown",
      "source": [
        "#### Step 6.\n",
        "\n",
        "Notice there are two entries with different numbers for MCLAREN 2017 in the monthly dataset, which we will need to fix by aggregating. Store the fixed monthly DataFrame in variable `cars_monthly_16_21_cleaned`, which should look like `cars_monthly_16_21` structurally (i.e. no composite/multi index), just with fewer rows:"
      ],
      "metadata": {
        "id": "HnEpLaStzsYC"
      }
    },
    {
      "cell_type": "code",
      "source": [
        "# hint: use groupby followed by reset_index or \n",
        "# pivot_table followed by melt, dropna, and reset_index\n",
        "\n",
        "# using groupby\n",
        "cars_monthly_16_21_cleaned = cars_monthly_16_21\\\n",
        "  .groupby(['make', 'year']).sum()[['number']]\\\n",
        "  .reset_index()\n",
        "\n",
        "# using melt\n",
        "cars_monthly_16_21_cleaned = cars_monthly_16_21\\\n",
        "  .pivot_table(index='make', columns='year', values='number', aggfunc='sum')\\\n",
        "  .melt(var_name='year', value_name='number', ignore_index=False)\\\n",
        "  .dropna()\\\n",
        "  .reset_index()\n",
        "\n",
        "condition = (cars_monthly_16_21_cleaned.make == 'MCLAREN') & (cars_monthly_16_21_cleaned.year == 2017)\n",
        "assert cars_monthly_16_21_cleaned[condition]['number'].values[0] == 10\n",
        "assert cars_monthly_16_21_cleaned.shape == (316, 3)"
      ],
      "metadata": {
        "id": "NvWXBRRk1D0w"
      },
      "execution_count": 26,
      "outputs": []
    },
    {
      "cell_type": "markdown",
      "source": [
        "#### Step 7.\n",
        "\n",
        "With our data re-cleaned, now let's merge `cars_monthly_16_21_cleaned` and `cars_annually_16_21` using the `make` and `year` as keys. Let's perform an outer join this time. Store the merged results in variable `cars_merged_clean`:"
      ],
      "metadata": {
        "id": "xMNqSy7z6E66"
      }
    },
    {
      "cell_type": "code",
      "source": [
        "# hint: use pd.merge with arguments how=\"outer\"\n",
        "cars_merged_clean = pd.merge(cars_monthly_16_21_cleaned, cars_annually_16_21, on=['make', 'year'], how='outer')\n",
        "\n",
        "assert cars_merged_clean.shape == (316, 4)"
      ],
      "metadata": {
        "id": "7mnZiWxWc7ia"
      },
      "execution_count": 27,
      "outputs": []
    },
    {
      "cell_type": "markdown",
      "source": [
        "#### Step 8.\n",
        "\n",
        "Last but not least, compare the merged numbers for each make-year record. Are they all matching perfectly now?"
      ],
      "metadata": {
        "id": "riaTCqY368Ry"
      }
    },
    {
      "cell_type": "code",
      "source": [
        "# hint: use np.all\n",
        "np.all(cars_merged_clean.number_x == cars_merged_clean.number_y)"
      ],
      "metadata": {
        "id": "socvPfi_dVQK",
        "colab": {
          "base_uri": "https://localhost:8080/"
        },
        "outputId": "adec0f22-690f-4ab9-e83c-46b08c2860cf"
      },
      "execution_count": 28,
      "outputs": [
        {
          "output_type": "execute_result",
          "data": {
            "text/plain": [
              "True"
            ]
          },
          "metadata": {},
          "execution_count": 28
        }
      ]
    }
  ]
}
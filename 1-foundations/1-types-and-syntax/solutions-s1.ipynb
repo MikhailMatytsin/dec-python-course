{
 "cells": [
  {
   "cell_type": "markdown",
   "metadata": {
    "colab_type": "text",
    "id": "view-in-github"
   },
   "source": [
    "<a href=\"https://colab.research.google.com/github/worldbank/dec-python-course/blob/main/1-foundations/1-types-and-syntax/solutions-s1.ipynb\" target=\"_parent\"><img src=\"https://colab.research.google.com/assets/colab-badge.svg\" alt=\"Open In Colab\"/></a>"
   ]
  },
  {
   "cell_type": "markdown",
   "metadata": {},
   "source": [
    "**Ex. 1a:**"
   ]
  },
  {
   "cell_type": "code",
   "execution_count": null,
   "metadata": {},
   "outputs": [],
   "source": [
    "# Create a variable called ex1_x and set it to the value 5\n",
    "\n",
    "ex1_x = 5\n",
    "\n",
    "# === Do not modify code below ===\n",
    "assert ex1_x == 5"
   ]
  },
  {
   "cell_type": "markdown",
   "metadata": {},
   "source": [
    "**Ex. 2a**"
   ]
  },
  {
   "cell_type": "code",
   "execution_count": null,
   "metadata": {},
   "outputs": [],
   "source": [
    "# Create two variables ex2_x and ex2_y. Set ex2_x to 3 and ex2_y to 5.\n",
    "\n",
    "ex2_x = 3\n",
    "ex2_y = 5\n",
    "\n",
    "# === Do not modify code below ===\n",
    "assert ex2_x == 3 and ex2_y == 5"
   ]
  },
  {
   "cell_type": "markdown",
   "metadata": {},
   "source": [
    "**Ex. 2b**"
   ]
  },
  {
   "cell_type": "code",
   "execution_count": null,
   "metadata": {},
   "outputs": [],
   "source": [
    "# Multiply ex2_x with ex2_y and save the result in a new variable ex2_z\n",
    "\n",
    "ex2_z = ex2_x * ex2_y\n",
    "\n",
    "# === Do not modify code below ===\n",
    "assert ex2_z == 15"
   ]
  },
  {
   "cell_type": "markdown",
   "metadata": {},
   "source": [
    "**Ex. 2c**"
   ]
  },
  {
   "cell_type": "code",
   "execution_count": null,
   "metadata": {},
   "outputs": [],
   "source": [
    "# Update the variable ex2_z by subtracting ex2_x from it\n",
    "# (Hint: re-run the cells above if/when needed)\n",
    "\n",
    "ex2_z = ex2_z - ex2_x\n",
    "\n",
    "# === Do not modify code below ===\n",
    "assert ex2_z == 12"
   ]
  },
  {
   "cell_type": "markdown",
   "metadata": {},
   "source": [
    "**Ex. 3a**"
   ]
  },
  {
   "cell_type": "code",
   "execution_count": null,
   "metadata": {},
   "outputs": [],
   "source": [
    "# Create a variable ex3_x that is a 13 to the power of 12\n",
    "\n",
    "ex3_x = 13 ** 12\n",
    "\n",
    "# === Do not modify code below ===\n",
    "assert ex3_x == 23298085122481"
   ]
  },
  {
   "cell_type": "markdown",
   "metadata": {},
   "source": [
    "**Ex. 3b**"
   ]
  },
  {
   "cell_type": "code",
   "execution_count": null,
   "metadata": {},
   "outputs": [],
   "source": [
    "# Create a variable ex3_y that is \n",
    "# the remainder when dividing ex3_x with 17\n",
    "\n",
    "ex3_y = ex3_x % 17\n",
    "\n",
    "# === Do not modify code below ===\n",
    "assert ex3_y == 1"
   ]
  },
  {
   "cell_type": "markdown",
   "metadata": {},
   "source": [
    "**Ex. 3c**"
   ]
  },
  {
   "cell_type": "code",
   "execution_count": null,
   "metadata": {},
   "outputs": [],
   "source": [
    "# Create a variable ex3_z that is a float with the value three\n",
    "# (The solution has not been mentioned explicitly)\n",
    "\n",
    "ex3_z = 3.0\n",
    "\n",
    "# === Do not modify code below ===\n",
    "assert hash(ex3_z) == 3 and type(ex3_z) is float"
   ]
  },
  {
   "cell_type": "markdown",
   "metadata": {},
   "source": [
    "or"
   ]
  },
  {
   "cell_type": "code",
   "execution_count": null,
   "metadata": {},
   "outputs": [],
   "source": [
    "# Create a variable ex3_z that is a float with the value three\n",
    "# (The solution has not been mentioned explicitly)\n",
    "\n",
    "ex3_z = float(3)\n",
    "\n",
    "# === Do not modify code below ===\n",
    "assert hash(ex3_z) == 3 and type(ex3_z) is float"
   ]
  },
  {
   "cell_type": "markdown",
   "metadata": {},
   "source": [
    "**Ex. 4a**"
   ]
  },
  {
   "cell_type": "code",
   "execution_count": null,
   "metadata": {},
   "outputs": [],
   "source": [
    "# Create a variable ex4_x that is a string with the word World\n",
    "# and a variable ex4_y that is a string with the word Bank\n",
    "\n",
    "ex4_x = 'World'\n",
    "ex4_y = 'Bank'\n",
    "\n",
    "# === Do not modify code below ===\n",
    "assert ex4_x == 'World' and ex4_y == 'Bank'"
   ]
  },
  {
   "cell_type": "markdown",
   "metadata": {},
   "source": [
    "**Ex. 4b**"
   ]
  },
  {
   "cell_type": "code",
   "execution_count": null,
   "metadata": {},
   "outputs": [],
   "source": [
    "# Create a variable ex4_z that use ex4_x and ex4_y \n",
    "# to create the word World Bank\n",
    "\n",
    "ex4_z = ex4_x + ' ' + ex4_y\n",
    "\n",
    "# === Do not modify code below ===\n",
    "assert ex4_z == 'World Bank'"
   ]
  },
  {
   "cell_type": "markdown",
   "metadata": {},
   "source": [
    "**Ex. 5a**"
   ]
  },
  {
   "cell_type": "code",
   "execution_count": null,
   "metadata": {
    "scrolled": true
   },
   "outputs": [],
   "source": [
    "# Use a string method on the variable p already provided,\n",
    "# to create a variable ex5_x with the string \"PYTHON\"\n",
    "\n",
    "p = 'Python'\n",
    "\n",
    "ex5_x = p.upper()\n",
    "\n",
    "# === Do not modify code below ===\n",
    "assert ex5_x == 'PYTHON'"
   ]
  },
  {
   "cell_type": "markdown",
   "metadata": {},
   "source": [
    "**Ex. 5b**\n",
    "\n",
    "_Hint_: https://www.w3schools.com/python/python_ref_string.asp"
   ]
  },
  {
   "cell_type": "code",
   "execution_count": null,
   "metadata": {},
   "outputs": [],
   "source": [
    "# Use the variable ex5_x from ex 5a.\n",
    "# Use a method to create the string \"Python\"\n",
    "# (The solution has not been mentioned explicitly)\n",
    "\n",
    "ex5_y = ex5_x.capitalize()\n",
    "\n",
    "# === Do not modify code below ===\n",
    "assert ex5_y == 'Python'"
   ]
  },
  {
   "cell_type": "markdown",
   "metadata": {},
   "source": [
    "**Ex. 6a**"
   ]
  },
  {
   "cell_type": "code",
   "execution_count": null,
   "metadata": {},
   "outputs": [],
   "source": [
    "# From the list digits, in one line of code,\n",
    "# create the variable ex7_x with the list [0,1,2,3,4]\n",
    "\n",
    "digits = [0,1,2,3,4,5,6,7,8,9] \n",
    "\n",
    "ex7_x = digits[0:5]\n",
    "\n",
    "# === Do not modify code below ===\n",
    "assert ex7_x == [0,1,2,3,4]"
   ]
  },
  {
   "cell_type": "markdown",
   "metadata": {},
   "source": [
    "or"
   ]
  },
  {
   "cell_type": "code",
   "execution_count": null,
   "metadata": {},
   "outputs": [],
   "source": [
    "# From the list digits, in one line of code,\n",
    "# create the variable ex7_x with the list [0,1,2,3,4]\n",
    "\n",
    "digits = [0,1,2,3,4,5,6,7,8,9] \n",
    "\n",
    "ex7_x = digits[:5]\n",
    "\n",
    "# === Do not modify code below ===\n",
    "assert ex7_x == [0,1,2,3,4]"
   ]
  },
  {
   "cell_type": "markdown",
   "metadata": {},
   "source": [
    "**Ex. 6b**"
   ]
  },
  {
   "cell_type": "code",
   "execution_count": null,
   "metadata": {},
   "outputs": [],
   "source": [
    "# From the list digits, in one line of code,\n",
    "# create the variable ex7_y with the list [5,6,7,8]\n",
    "\n",
    "digits = [0,1,2,3,4,5,6,7,8,9] \n",
    "\n",
    "ex7_y = digits[5:9]\n",
    "\n",
    "# === Do not modify code below ===\n",
    "assert ex7_y == [5,6,7,8]"
   ]
  },
  {
   "cell_type": "markdown",
   "metadata": {},
   "source": [
    "**Ex. 7a**"
   ]
  },
  {
   "cell_type": "code",
   "execution_count": null,
   "metadata": {},
   "outputs": [],
   "source": [
    "# From the list digits, in one line of code,\n",
    "# create the variable ex8_x with the int 6\n",
    "\n",
    "digits = [[0,1,2],[3,4,5],6,[7,8,9]]\n",
    "\n",
    "ex8_x = digits[2]\n",
    "\n",
    "# === Do not modify code below ===\n",
    "assert ex8_x == 6"
   ]
  },
  {
   "cell_type": "markdown",
   "metadata": {},
   "source": [
    "**Ex. 7b**"
   ]
  },
  {
   "cell_type": "code",
   "execution_count": null,
   "metadata": {},
   "outputs": [],
   "source": [
    "# From the list digits, in one line of code,\n",
    "# create the variable ex8_y with the int 4 \n",
    "\n",
    "digits = [[0,1,2],[3,4,5],6,[7,8,9]]\n",
    "\n",
    "ex8_y = digits[1][1]\n",
    "\n",
    "# === Do not modify code below ===\n",
    "assert ex8_y == 4"
   ]
  },
  {
   "cell_type": "markdown",
   "metadata": {},
   "source": [
    "**Ex. 7c**"
   ]
  },
  {
   "cell_type": "code",
   "execution_count": null,
   "metadata": {},
   "outputs": [],
   "source": [
    "# Using only the lists in the variables a, b and c and list methods\n",
    "# create a list [1,2,3] and store it in the variable ex8_k.\n",
    "# You may not define any new ints or lists\n",
    "\n",
    "a = 2\n",
    "b = [1,4,3]\n",
    "c = 1\n",
    "\n",
    "ex8_k = b\n",
    "ex8_k[c] = a\n",
    "\n",
    "# === Do not modify code below ===\n",
    "assert ex8_k == [1,2,3]"
   ]
  },
  {
   "cell_type": "markdown",
   "metadata": {},
   "source": [
    "**Ex. 7d** (advanced)"
   ]
  },
  {
   "cell_type": "code",
   "execution_count": null,
   "metadata": {},
   "outputs": [],
   "source": [
    "# Using only the lists in the variables a, b and c and list methods\n",
    "# create a list [1,2,3,4] and store it in the variable ex8_z. \n",
    "# You may not define any new ints or lists\n",
    "\n",
    "a = 4\n",
    "b = [2,3]\n",
    "c = [1]\n",
    "\n",
    "ex8_z = c\n",
    "ex8_z = ex8_z + b\n",
    "ex8_z.append(a)\n",
    "\n",
    "# === Do not modify code below ===\n",
    "assert ex8_z == [1,2,3,4]"
   ]
  },
  {
   "cell_type": "markdown",
   "metadata": {},
   "source": [
    "**Ex. 7e** (advanced)"
   ]
  },
  {
   "cell_type": "code",
   "execution_count": null,
   "metadata": {},
   "outputs": [],
   "source": [
    "# Using only the lists in the variables a, b and c and list methods\n",
    "# create a list [1,2,3] and store it in the variable ex8_i.\n",
    "# You may not define any new ints or lists\n",
    "\n",
    "a = 3\n",
    "b = [1,4,2]\n",
    "c = 1\n",
    "\n",
    "ex8_i = b\n",
    "ex8_i.pop(c)\n",
    "ex8_i.append(a)\n",
    "\n",
    "# === Do not modify code below ===\n",
    "assert ex8_i == [1,2,3]"
   ]
  },
  {
   "cell_type": "markdown",
   "metadata": {},
   "source": [
    "**Ex. 8a**"
   ]
  },
  {
   "cell_type": "code",
   "execution_count": null,
   "metadata": {},
   "outputs": [],
   "source": [
    "# Using only the already defined variables,\n",
    "# (you may not type any keys manually)\n",
    "# modify the empty dict ex8_z into\n",
    "# {'pet1':'Dog','pet2':'Cat'}\n",
    "# You may not overwrite ex8_z\n",
    "\n",
    "p1 = 'pet1'\n",
    "p2 = 'pet2'\n",
    "Arthur = 'Cat'\n",
    "b = \"Dog\"\n",
    "c = Arthur\n",
    "ex8_z = {}\n",
    "\n",
    "ex8_z[p1] = b\n",
    "ex8_z[p2] = c\n",
    "\n",
    "# === Do not modify code below ===\n",
    "assert ex8_z == {'pet1':'Dog','pet2':'Cat'}"
   ]
  },
  {
   "cell_type": "markdown",
   "metadata": {},
   "source": [
    "**Ex. 8b**"
   ]
  },
  {
   "cell_type": "code",
   "execution_count": null,
   "metadata": {},
   "outputs": [],
   "source": [
    "# Using only the complex_dict and \n",
    "# accessing items using only keys and indexes,\n",
    "# create the following variables zero as the int 0,\n",
    "# d as the string d, minus_three as the int -3\n",
    "# and symbol_list as the list ['%','?','~']\n",
    "# Try create each of these variables in a single line of code\n",
    "\n",
    "\n",
    "complex_dict = {\n",
    "    'alpha': [\n",
    "        'a','b','c','d'\n",
    "    ],\n",
    "    'numbers': [\n",
    "        [1,2,3],\n",
    "        0,\n",
    "        [-1,-2,-3]\n",
    "    ],\n",
    "    'symbols' : {\n",
    "        'percent' : '%',\n",
    "        'question' : '?',\n",
    "        'tilde' : '~'\n",
    "    }\n",
    "}\n",
    "\n",
    "zero = complex_dict['numbers'][1]\n",
    "d = complex_dict['alpha'][3]\n",
    "minus_three = complex_dict['numbers'][2][2]\n",
    "symbol_list = [complex_dict['symbols']['percent'],complex_dict['symbols']['question'],complex_dict['symbols']['tilde']]\n",
    "\n",
    "# === Do not modify code below ===\n",
    "assert zero==0 and d=='d' and minus_three==-3 and symbol_list==['%','?','~']"
   ]
  },
  {
   "cell_type": "markdown",
   "metadata": {},
   "source": [
    "**Optional Ex. 9a**"
   ]
  },
  {
   "cell_type": "code",
   "execution_count": null,
   "metadata": {},
   "outputs": [],
   "source": [
    "# Generate a tuple with the three letters m, n and p\n",
    "# in alphabetic order. Call the tuple letters.\n",
    "# then access the letter m\n",
    "# and store as a string in the variable M\n",
    "\n",
    "letters = ('m','n','p')\n",
    "M = letters[0]\n",
    "\n",
    "# === Do not modify code below ===\n",
    "assert type(letters) is tuple and M=='m'"
   ]
  }
 ],
 "metadata": {
  "kernelspec": {
   "display_name": "Python 3 (ipykernel)",
   "language": "python",
   "name": "python3"
  },
  "language_info": {
   "codemirror_mode": {
    "name": "ipython",
    "version": 3
   },
   "file_extension": ".py",
   "mimetype": "text/x-python",
   "name": "python",
   "nbconvert_exporter": "python",
   "pygments_lexer": "ipython3",
   "version": "3.9.12"
  }
 },
 "nbformat": 4,
 "nbformat_minor": 4
}

{
 "cells": [
  {
   "cell_type": "markdown",
   "id": "1d11cd05",
   "metadata": {},
   "source": [
    "<a href=\"https://colab.research.google.com/github/worldbank/dec-python-course/blob/main/1-foundations/1-types-and-syntax/foundations-s1-bonus.ipynb\" target=\"_parent\"><img src=\"https://colab.research.google.com/assets/colab-badge.svg\" alt=\"Open In Colab\"/></a>"
   ]
  },
  {
   "cell_type": "markdown",
   "id": "651da36b",
   "metadata": {
    "id": "p1ARhnYmrt3f"
   },
   "source": [
    "\n",
    "## S4.3 Container types - Tuples\n",
    "\n",
    "| Class name | Full name | Access                | Occurrence  | Remarks |\n",
    "|:---        |:---       | :---                  | :---        | :---\n",
    "| tuple      | Tuple     | Access items by order | Less common | Very similar to a list, but when created it cannot be modified |\n",
    "\n",
    "At a first glance tuples are very similar to lists. Items in tuples are also accessed using indexes.\n",
    "\n",
    "The main difference is that tuples are immutable, which means you cannot edit them once they are created.\n",
    "\n",
    "In data work we usually want to be able to edit our data, so you will not create them often. But it is common that methods and functions return tuples.\n",
    "\n",
    "--- \n",
    "\n",
    "**Create a tuple:**"
   ]
  },
  {
   "cell_type": "code",
   "execution_count": null,
   "id": "c8c052ab",
   "metadata": {
    "id": "JLCs1rqZrt3g"
   },
   "outputs": [],
   "source": [
    "list_mix  = [42,'Arthur',False]\n",
    "tuple_mix = (42,'Arthur',False)\n",
    "\n",
    "print('list_mix:', list_mix, type(list_mix))\n",
    "print('tuple_mix:', tuple_mix, type(tuple_mix))"
   ]
  },
  {
   "cell_type": "markdown",
   "id": "710b2b81",
   "metadata": {
    "id": "f4xjNoyart3g"
   },
   "source": [
    "**Access item in a tuple:**"
   ]
  },
  {
   "cell_type": "code",
   "execution_count": null,
   "id": "1c79c129",
   "metadata": {
    "id": "0oeqrHoXrt3g"
   },
   "outputs": [],
   "source": [
    "# Items are accessed the same way as a list\n",
    "print('list_mix item index 0:', list_mix[0], type(list_mix[0]))\n",
    "print('tuple_mix item index 0:', tuple_mix[0], type(tuple_mix[0]))"
   ]
  },
  {
   "cell_type": "markdown",
   "id": "c1034689",
   "metadata": {
    "id": "24Mgv2Cmrt3g"
   },
   "source": [
    "**Modify item in a tuple:**"
   ]
  },
  {
   "cell_type": "code",
   "execution_count": null,
   "id": "1001fda6",
   "metadata": {
    "id": "6Uxq0TrBrt3g"
   },
   "outputs": [],
   "source": [
    "# First modify item in list\n",
    "list_mix[1] = 'Marvin' \n",
    "print('list_mix:', list_mix, type(list_mix))\n"
   ]
  },
  {
   "cell_type": "markdown",
   "id": "bd0e8bd3",
   "metadata": {
    "id": "QfWCOJbwrt3g"
   },
   "source": [
    "**Important error message: TypeError**\n",
    "    \n",
    "Whenever you see an error that says \"does not support\" as in \n",
    "`TypeError: 'tuple' object does not support item assignment`, \n",
    "then it means that you have tried to do an action on a type for which that action is not allowed.\n",
    "In this example modify an item in a tuple."
   ]
  },
  {
   "cell_type": "code",
   "execution_count": null,
   "id": "1ce09b6e",
   "metadata": {
    "id": "I6yMLFLIrt3g"
   },
   "outputs": [],
   "source": [
    "# However we cannot do the same in \n",
    "tuple_mix[1] = 'Marvin'"
   ]
  },
  {
   "cell_type": "code",
   "execution_count": null,
   "id": "9d57c5f2",
   "metadata": {
    "id": "aZg6k027rt3g"
   },
   "outputs": [],
   "source": [
    "# Use tuples to get information and store them in variables\n",
    "name = tuple_mix[1]\n",
    "print('Variable name:', name, type(name))\n",
    "\n",
    "# Items copied from a tuple no longer need to be immutable\n",
    "name = name.upper()\n",
    "print('Variable name upper:', name, type(name))"
   ]
  },
  {
   "cell_type": "code",
   "execution_count": null,
   "id": "87f587e7",
   "metadata": {
    "id": "lSl0ri8Urt3g"
   },
   "outputs": [],
   "source": [
    "# If we type cast a tuple to a list it behaves as a list\n",
    "list_from_tuple = list(tuple_mix)\n",
    "list_from_tuple[1] = 'Marvin'\n",
    "print('Variable list_from_tuple:', list_from_tuple, type(list_from_tuple))"
   ]
  },
  {
   "cell_type": "code",
   "execution_count": null,
   "id": "6653c020",
   "metadata": {
    "id": "CZVWLsVxrt3g"
   },
   "outputs": [],
   "source": [
    "# While items in a tuple are immutable, the tuple can be overwritten\n",
    "tuple_from_list = tuple(list_from_tuple)\n",
    "print('Variable tuple_from_list:', tuple_from_list, type(tuple_from_list))"
   ]
  },
  {
   "cell_type": "markdown",
   "id": "940230de",
   "metadata": {
    "id": "3110TRXFrt3g"
   },
   "source": [
    "## S4.4 Container types - Sets\n",
    "\n",
    "| Class name | Full name  | Access                      | Occurrence  | Remarks |\n",
    "|:---        |:---        | :---                        | :---        | :---\n",
    "| set        | Set        | Test if item already in set | Rare        | A container that cannot hold duplicates |\n",
    "\n",
    "Rare but included it for completion. It's a container that cannot have duplicates. \n",
    "\n",
    "---\n",
    "\n",
    "**Demonstrate a set:**"
   ]
  },
  {
   "cell_type": "code",
   "execution_count": null,
   "id": "386ecdc5",
   "metadata": {
    "id": "zvqwmgAprt3g"
   },
   "outputs": [],
   "source": [
    "# Create a set that stores all skills in a team:\n",
    "team_skills = set()\n",
    "print('Variable team_skills:', team_skills, type(team_skills))"
   ]
  },
  {
   "cell_type": "code",
   "execution_count": null,
   "id": "bb18c173",
   "metadata": {
    "id": "UGFuMZ0xrt3g"
   },
   "outputs": [],
   "source": [
    "# Define skillsets for person A, B and C\n",
    "personA_skill1 = 'python'\n",
    "personB_skill1 = 'field-work'\n",
    "personC_skill1 = 'python'\n",
    "personC_skill2 = 'Excel'\n",
    "\n",
    "# Add skillsets for person A, B and C\n",
    "team_skills.add(personA_skill1)\n",
    "team_skills.add(personB_skill1)\n",
    "team_skills.add(personC_skill1)\n",
    "team_skills.add(personC_skill2)\n",
    "print('Variable team_skills:', team_skills, type(team_skills))"
   ]
  },
  {
   "cell_type": "code",
   "execution_count": null,
   "id": "f8f89d8b",
   "metadata": {
    "id": "SlWB6OHKrt3g"
   },
   "outputs": [],
   "source": [
    "# Add a list of person D's skills to the set\n",
    "personD_skills = ['python','field-work','management','accounting']\n",
    "team_skills.update(personD_skills)\n",
    "print('Variable team_skills:', team_skills, type(team_skills))"
   ]
  },
  {
   "cell_type": "code",
   "execution_count": null,
   "id": "8f6be7af",
   "metadata": {
    "id": "9dKVUjTnrt3g"
   },
   "outputs": [],
   "source": [
    "# Test if the team has a skillset\n",
    "print('python' in team_skills)\n",
    "print('R' in team_skills)"
   ]
  },
  {
   "cell_type": "markdown",
   "id": "07b755fa",
   "metadata": {
    "id": "vdxFRtpYrt3g"
   },
   "source": [
    "## S4.5 Basic container types summary\n",
    "\n",
    "* This is how we combine basic data types (atoms)\n",
    "* Stored in a variable with a name and type (just like data types and any other variable)\n",
    "* How you access items is the main difference between the two most common containers; `list` and `dict`\n",
    "* Containers are often nested (a container in a container)\n",
    "* The types in a container can be mixed\n",
    "\n",
    "**Important errors**\n",
    "\n",
    "| Error name     | Likely reason for the error | \n",
    "|:---            |:---                         |\n",
    "| **IndexError** | You are trying to access an item in a list using an index outside the range of indexes for that list | \n",
    "| **KeyError**   | You are trying to access an item in a list using a key name that does not exist in the dict | \n",
    "| **TypeError**  | Very generic error where you have used an operation (math operation, index assignment etc.) that is a recognized operation but not allowed for this variable's type | "
   ]
  },
  {
   "cell_type": "markdown",
   "id": "59e4dffc",
   "metadata": {
    "id": "c_WjMvPZrt3g"
   },
   "source": [
    "**Optional Ex. 9a**"
   ]
  },
  {
   "cell_type": "code",
   "execution_count": null,
   "id": "9b8289bd",
   "metadata": {
    "id": "JfPupcxkrt3g"
   },
   "outputs": [],
   "source": [
    "# Generate a tuple with the three letters m, n and p\n",
    "# in alphabetic order. Call the tuple letters.\n",
    "# then access the letter m\n",
    "# and store as a string in the variable M\n",
    "\n",
    "letters = ### ADD YOUR CODE HERE\n",
    "M = ### ADD YOUR CODE HERE\n",
    "\n",
    "# === Do not modify code below ===\n",
    "assert type(letters) is tuple and M=='m'"
   ]
  },
  {
   "cell_type": "code",
   "execution_count": null,
   "id": "277785e3",
   "metadata": {},
   "outputs": [],
   "source": []
  }
 ],
 "metadata": {
  "kernelspec": {
   "display_name": "Python [conda env:base] *",
   "language": "python",
   "name": "conda-base-py"
  },
  "language_info": {
   "codemirror_mode": {
    "name": "ipython",
    "version": 3
   },
   "file_extension": ".py",
   "mimetype": "text/x-python",
   "name": "python",
   "nbconvert_exporter": "python",
   "pygments_lexer": "ipython3",
   "version": "3.9.7"
  }
 },
 "nbformat": 4,
 "nbformat_minor": 5
}

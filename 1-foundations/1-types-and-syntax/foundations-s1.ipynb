{
 "cells": [
  {
   "cell_type": "markdown",
   "metadata": {},
   "source": [
    "# Session 1 - Variable type and Python syntax\n",
    "\n",
    "In this session we will cover the basic building blocks that is what everything in Python is made of. Think of these building blocks as the atoms of Python. \n",
    "\n",
    "These atoms are used to make more advanced variables called objects. We can think of these objects as molecules. With these atoms and molecules we can make everything from databases, machine learning algorithms, natural language projects or whatever you will end up using Python for. \n",
    "\n",
    "This is the same way how atoms and molecules make up everything from stars, life forms, advanced chemical componds etc. in the world around us. \n",
    "\n",
    "This session will focus on the atoms and how we write code to interract with them. We will also look at some simple molecules, but more on them and advanced life forms in later sessions. "
   ]
  },
  {
   "cell_type": "markdown",
   "metadata": {},
   "source": [
    "## Content\n",
    "\n",
    "This list will be cleaned up before the session and remove the nested bullets. Leaving them in for the reviewer to comment on.\n",
    "\n",
    "* Housekeeping\n",
    "    * Course overview\n",
    "    * Slack space\n",
    "* Google Colab\n",
    "    * How to load the Colab file\n",
    "    * What is Colab?\n",
    "        * Requires no installation of Python on your computer\n",
    "        * Requires no knowledge in installing add-ons (libraries) for what we will cover in this course\n",
    "        * Saves your file in Google Drive\n",
    "        * Based on Jupyter Notebooks which is what you will use when you want to save your code on your computer\n",
    "    * How to save a Colab file\n",
    "    * (Will talk about how to run a Colab file when running the first cell)\n",
    "* Variable type: numeric\n",
    "    * Two types of numeric atoms: `int` and `float`\n",
    "    * You do not use these type of atoms to store a data set. That is stored in a bigger type of molecule call `pandas`. Within `pandas` these types of atoms are used to store the individual values in your dataset. Just like atoms in a molecule.\n",
    "    * Python keep tracks of which type you need\n",
    "    * Introduce `print()`, `type()`, `int()`, `float()`\n",
    "    * Basic syntax and operators\n",
    "    * Some methods\n",
    "* Variable type: text\n",
    "    * One type of text atom: `str` (will mention that )\n",
    "    * Basic syntax and operators\n",
    "    * Both `''` and `\"\"`. Use `''` when your string includes a `\"` and `\"\"` when string includes `'`.\n",
    "    * Some methods\n",
    "* Work with variables\n",
    "    * Space between operators does not matter\n",
    "    * Print multiple values - `print(x,y)`\n",
    "    * Print with hardcoded strings - `print('My variable y is: ',y)`\n",
    "    * Print the result of an operation `print(x * y)`\n",
    "    * auto-complete variables and statements\n",
    "* Container types - intro\n",
    "    * The most basic form of molecules - they are containers that can hold our atoms\n",
    "    * Without them our computer memory would just be an unmanageble soup of atoms.\n",
    "    * They can store any type of variable or container (atoms, molecules or even life forms)\n",
    "    * There are four of them. The first two are most commonly used and we will focus on them\n",
    "        * Lists\n",
    "        * Dictionairies\n",
    "        * Tuples\n",
    "        * Sets\n",
    "* Container types - Lists\n",
    "    * Lists are containers of items accessed by the order the item has in the list\n",
    "    * Basic syntax and operators\n",
    "        * Create a list\n",
    "        * Access item in list\n",
    "        * Some methods\n",
    "* Container types - Dictionairies\n",
    "    * Dictionairies are containers of items accessed by a key value\n",
    "    * Basic syntax and operators\n",
    "        * Create a Dictionary\n",
    "        * Access item in Dictionary\n",
    "        * Some methods\n",
    "* Container types - Tuples\n",
    "    * Tuples are containers of items accessed the same way as a list, but an item in a tuple cannot be modified\n",
    "    * Basic syntax and operators\n",
    "        * Create a Tuple\n",
    "        * Access item in Tuple\n",
    "* Container types - Sets\n",
    "    * Sets are containers of items where there cannot be any duplicates, and you access items by testing if the value exists in the Set\n",
    "    * Basic syntax and operators\n",
    "        * Create a Set\n",
    "        * Access item in Set\n",
    "    \n"
   ]
  },
  {
   "cell_type": "code",
   "execution_count": null,
   "metadata": {},
   "outputs": [],
   "source": []
  }
 ],
 "metadata": {
  "kernelspec": {
   "display_name": "Python 3",
   "language": "python",
   "name": "python3"
  },
  "language_info": {
   "codemirror_mode": {
    "name": "ipython",
    "version": 3
   },
   "file_extension": ".py",
   "mimetype": "text/x-python",
   "name": "python",
   "nbconvert_exporter": "python",
   "pygments_lexer": "ipython3",
   "version": "3.8.2"
  }
 },
 "nbformat": 4,
 "nbformat_minor": 4
}

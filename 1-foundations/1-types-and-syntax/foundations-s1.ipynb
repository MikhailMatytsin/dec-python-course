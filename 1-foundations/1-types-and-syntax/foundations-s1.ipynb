{
    "cells": [
     {
      "cell_type": "markdown",
      "metadata": {},
      "source": [
       "# DEC Foundations to Python - Session 1\n",
       "# Variable type and Python syntax\n",
       "\n",
       " "
      ]
     },
     {
      "cell_type": "markdown",
      "metadata": {},
      "source": [
       "# S1.0 - Introduction\n",
       "\n",
       "In this session we will cover the basic building blocks that is what everything in Python is made of. Think of these building blocks as the atoms of Python. \n",
       "\n",
       "These atoms are used to make more advanced variables called objects. We can think of these objects as molecules. With these atoms and molecules we can make everything from databases, machine learning algorithms, natural language projects or whatever you will end up using Python for. \n",
       "\n",
       "This is the same way how atoms and molecules make up everything from stars, life forms, advanced chemical compounds etc. in the world around us. \n",
       "\n",
       "This session will focus on the atoms and how we write code to interact with them. We will also look at some simple molecules, but more on them and advanced life forms in later sessions.\n",
       "\n",
       "---"
      ]
     },
     {
      "cell_type": "markdown",
      "metadata": {},
      "source": [
       "## Content\n",
       "\n",
       "<span style=\"color:red\">This list will be cleaned up before the session and remove the nested bullets. Leaving them in for the reviewer to comment on.</span> \n",
       "\n",
       "* Housekeeping\n",
       "    * Course overview\n",
       "    * Slack space\n",
       "* Google Colab - TODO\n",
       "    * How to load the Colab file\n",
       "    * What is Colab?\n",
       "        * Requires no installation of Python on your computer\n",
       "        * Requires no knowledge in installing add-ons (libraries) for what we will cover in this course\n",
       "        * Saves your file in Google Drive\n",
       "        * Based on Jupyter Notebooks which is what you will use when you want to save your code on your computer\n",
       "    * How to save a Colab file\n",
       "    * (Will talk about how to run a Colab file when running the first cell)\n",
       "* Variable type: numeric\n",
       "    * Two types of numeric atoms: `int` and `float`\n",
       "    * You do not use these type of atoms to store a data set. That is stored in a bigger type of molecule call `pandas`. Within `pandas` these types of atoms are used to store the individual values in your dataset. Just like atoms in a molecule.\n",
       "    * Python keep tracks of which type you need\n",
       "    * Introduce `print()`, `type()`, `int()`, `float()`\n",
       "    * Basic syntax and operators\n",
       "    * Some methods\n",
       "* Variable type: text\n",
       "    * One type of text atom: `str` (will mention that )\n",
       "    * Basic syntax and operators\n",
       "    * Both `''` and `\"\"`. Use `''` when your string includes a `\"` and `\"\"` when string includes `'`.\n",
       "    * Some methods\n",
       "* Work with variables\n",
       "    * Space between operators does not matter\n",
       "    * Print multiple values - `print(x,y)`\n",
       "    * Print with hardcoded strings - `print('My variable y is: ',y)`\n",
       "    * Print the result of an operation `print(x * y)`\n",
       "    * auto-complete variables and statements\n",
       "* Container types - intro\n",
       "    * The most basic form of molecules - they are containers that can hold our atoms\n",
       "    * Without them our computer memory would just be an unmanageble soup of atoms.\n",
       "    * They can store any type of variable or container (atoms, molecules or even life forms)\n",
       "    * There are four of them. The first two are most commonly used and we will focus on them\n",
       "        * Lists\n",
       "        * Dictionaries\n",
       "        * Tuples\n",
       "        * Sets\n",
       "* Container types - Lists\n",
       "    * Lists are containers of items accessed by the order the item has in the list\n",
       "    * Basic syntax and operators\n",
       "        * Create a list\n",
       "        * Access item in list\n",
       "        * Some methods\n",
       "* Container types - Dictionaries\n",
       "    * Dictionaries are containers of items accessed by a key value\n",
       "    * Basic syntax and operators\n",
       "        * Create a Dictionary\n",
       "        * Access item in Dictionary\n",
       "        * Some methods\n",
       "* Container types - Tuples\n",
       "    * Tuples are containers of items accessed the same way as a list, but an item in a tuple cannot be modified\n",
       "    * Basic syntax and operators\n",
       "        * Create a Tuple\n",
       "        * Access item in Tuple\n",
       "* Container types - Sets\n",
       "    * Sets are containers of items where there cannot be any duplicates, and you access items by testing if the value exists in the Set\n",
       "    * Basic syntax and operators\n",
       "        * Create a Set\n",
       "        * Access item in Set\n",
       "    \n"
      ]
     },
     {
      "cell_type": "markdown",
      "metadata": {},
      "source": [
       "## Housekeeping\n",
       "\n",
       "* Course overview\n",
       "* Slack space"
      ]
     },
     {
      "cell_type": "markdown",
      "metadata": {},
      "source": [
       "## Google Colab\n",
       "\n",
       " * How to load the Colab file\n",
       "    * What is Colab?\n",
       "        * Requires no installation of Python on your computer\n",
       "        * Requires no knowledge in installing add-ons (libraries) for what we will cover in this course\n",
       "        * Saves your file in Google Drive\n",
       "        * Based on Jupyter Notebooks which is what you will use when you want to save your code on your computer\n",
       "    * How to save a Colab file\n",
       "    * (Will talk about how to run a Colab file when running the first cell)"
      ]
     },
     {
      "cell_type": "markdown",
      "metadata": {},
      "source": [
       "# S1.1 - Variables\n",
       "\n",
       "Variables is how everything is stored in Python\n",
       "\n",
       "Each variables are like a file on your computer, but it stores only a single Python item.\n",
       "\n",
       "However, this single item can be either an atom, a molecule or a complex life form.\n",
       "\n",
       "Variables are only stored in temporary memory, so when restarting Python, use your code to recreate any variables you need again\n",
       "\n",
       "**For Stata users**, a variable in Stata always means a column in a dataset. The variables discussed here are more similar to macros such as `local` and `global`.\n",
       "\n",
       "--- "
      ]
     },
     {
      "cell_type": "markdown",
      "metadata": {},
      "source": [
       "## The basic data types\n",
       "\n",
       "The basic data types are what we have been calling atoms of Python.\n",
       "\n",
       "These four basic types are the types you are ever likely to use:\n",
       "\n",
       "| Class name | Full name      | Name used       | Usage                        |\n",
       "|:---        |:---            |:---             | :---                         |\n",
       "| int        | Integer        | \"int\"/\"integer\" | Number without decimal point |\n",
       "| float      | Floating point | \"float\"         | Number with decimal point    |\n",
       "| str        | String         | \"string\"        | Text                         |\n",
       "| bool       | Boolean        | \"boolean\"       | Either true or false         |\n",
       "\n",
       "Any information your Python code ever will interact with, will in the core only consist of these four types. Often many of them put together into complex data structures.\n",
       "\n",
       "_(Technically that are a few more basic data points, but they are quite rare)_"
      ]
     },
     {
      "cell_type": "markdown",
      "metadata": {},
      "source": [
       "### Variable basic type: numeric\n",
       "\n",
       "**Define a numeric variable:**"
      ]
     },
     {
      "cell_type": "code",
      "execution_count": null,
      "metadata": {},
      "outputs": [],
      "source": [
       "# Assign the value 3 to a variable we name x\n",
       "x = 5"
      ]
     },
     {
      "cell_type": "markdown",
      "metadata": {},
      "source": [
       "Now somewhere in memory there is a variable with the name `x` that currently stores the value 3.\n",
       "\n",
       "We can reference this variable until we explicitly delete it or restart python."
      ]
     },
     {
      "cell_type": "code",
      "execution_count": null,
      "metadata": {},
      "outputs": [],
      "source": [
       "# We can output the value by calling it \n",
       "x"
      ]
     },
     {
      "cell_type": "markdown",
      "metadata": {},
      "source": [
       "**Do math using a variable:**"
      ]
     },
     {
      "cell_type": "code",
      "execution_count": null,
      "metadata": {},
      "outputs": [],
      "source": [
       "# Take the value in x and output that value plus 1\n",
       "x + 1"
      ]
     },
     {
      "cell_type": "code",
      "execution_count": null,
      "metadata": {},
      "outputs": [],
      "source": [
       "# The value of x is still 3\n",
       "x"
      ]
     },
     {
      "cell_type": "code",
      "execution_count": null,
      "metadata": {},
      "outputs": [],
      "source": [
       "# To update the variable x we need to assign a new value to it\n",
       "# Assign x + 1 to x and output it\n",
       "x = x + 1\n",
       "x"
      ]
     },
     {
      "cell_type": "markdown",
      "metadata": {},
      "source": [
       "Note that we can only output a variable if it is by itself on the last line in a cell. We will soon learn how to print where we have more options\n",
       "\n",
       "---\n",
       "<span style=\"color:red\">Important error message: NameError</span>.\n",
       "\n",
       "Whenever you see an error where it says \"not defined\", as in `NameError: name 'z' is not defined`, then it means that you have tried to reference a variable `z` but that there is no variable with that name."
      ]
     },
     {
      "cell_type": "code",
      "execution_count": null,
      "metadata": {},
      "outputs": [],
      "source": [
       "x = z + 4"
      ]
     },
     {
      "cell_type": "markdown",
      "metadata": {},
      "source": [
       "**More math and using multiple variables:**"
      ]
     },
     {
      "cell_type": "code",
      "execution_count": null,
      "metadata": {},
      "outputs": [],
      "source": [
       "# We can give variables longer names\n",
       "my_long_variable_name = 2"
      ]
     },
     {
      "cell_type": "code",
      "execution_count": null,
      "metadata": {},
      "outputs": [],
      "source": [
       "# Adding two variables together\n",
       "x + my_long_variable_name"
      ]
     },
     {
      "cell_type": "code",
      "execution_count": null,
      "metadata": {},
      "outputs": [],
      "source": [
       "# Subtracting x from my_long_variable_name\n",
       "x - my_long_variable_name"
      ]
     },
     {
      "cell_type": "code",
      "execution_count": null,
      "metadata": {},
      "outputs": [],
      "source": [
       "# Multiplying x with my_long_variable_name\n",
       "x * my_long_variable_name"
      ]
     },
     {
      "cell_type": "markdown",
      "metadata": {},
      "source": [
       "Here is a table of the most common mathematical operators:\n",
       "\n",
       "| Symbol | Operation      | Example     |\n",
       "|:---:   |:---            |:---:        |\n",
       "| +      | Addition       | 6 + 2 = 8   |\n",
       "| -      | Subtraction    | 6 - 2 = 4   |\n",
       "| *      | Multiplication | 6 * 2 = 12  |\n",
       "| /      | Division       | 6 / 2 = 3   |\n",
       "| **     | Power of       | 6 ** 2 = 36 |\n",
       "\n",
       "See full lost of mathematical operators here: https://www.w3schools.com/python/python_operators.asp\n",
       "\n",
       "---\n",
       "\n",
       "If we want to save the result of a mathematical operation we need to store in in a variable. Either in a new variable or by overwriting an existing one.\n",
       "\n",
       "Only variables left of the assignment operator `=` are modified. If there is no `=` then no variable is modified from a mathematical operator."
      ]
     },
     {
      "cell_type": "code",
      "execution_count": null,
      "metadata": {},
      "outputs": [],
      "source": [
       "# Create a new variable that is x multiplied by my_long_variable_name\n",
       "y = x * my_long_variable_name\n",
       "\n",
       "# Update the variable x to represent the value of the sum of itself and my_long_variable_name\n",
       "x = x + my_long_variable_name"
      ]
     },
     {
      "cell_type": "markdown",
      "metadata": {},
      "source": [
       "If we want to print multiple variables in the same cell we need to use `print()`"
      ]
     },
     {
      "cell_type": "code",
      "execution_count": null,
      "metadata": {},
      "outputs": [],
      "source": [
       "# Print the variables one at the time\n",
       "print(x)\n",
       "print(my_long_variable_name)\n",
       "print(y)"
      ]
     },
     {
      "cell_type": "code",
      "execution_count": null,
      "metadata": {},
      "outputs": [],
      "source": [
       "# Print both variables at on the same line\n",
       "print(x, my_long_variable_name, y)"
      ]
     },
     {
      "cell_type": "code",
      "execution_count": null,
      "metadata": {},
      "outputs": [],
      "source": [
       "# You can also print the results of an operation\n",
       "print(12 * 89)\n",
       "print(y - 20)"
      ]
     },
     {
      "cell_type": "markdown",
      "metadata": {},
      "source": [
       "**Two types of numeric basic data types**\n",
       "\n",
       "There are two types of numeric basic data types you need to know:\n",
       "\n",
       "| Class name | Full name      | Name used       | Usage                        |\n",
       "|:---        |:---            |:---             | :---                         |\n",
       "| int        | Integer        | \"int\"/\"integer\" | Number without decimal point |\n",
       "| float      | Floating point | \"float\"         | Number with decimal point    |\n",
       "\n",
       "\n",
       "`int` is more memory efficient but cannot store decimal points, and therefore the default Python will pick for you.\n",
       "\n",
       "Read more about `int` and `float` here: https://www.w3schools.com/python/python_numbers.asp\n",
       "\n",
       "---\n",
       "\n",
       "You can test which type your numeric variable using `type()`"
      ]
     },
     {
      "cell_type": "code",
      "execution_count": null,
      "metadata": {},
      "outputs": [],
      "source": [
       "# Numeric variables assigned a number WITHOUT decimal point are created as an int\n",
       "x = 3\n",
       "print(type(x))"
      ]
     },
     {
      "cell_type": "code",
      "execution_count": null,
      "metadata": {},
      "outputs": [],
      "source": [
       "# Numeric variables assigned a number WITH decimal points are created as a float\n",
       "pi = 3.14\n",
       "print(type(pi))"
      ]
     },
     {
      "cell_type": "code",
      "execution_count": null,
      "metadata": {},
      "outputs": [],
      "source": [
       "# Python will automatically change the type if ever needed\n",
       "x = 3\n",
       "print(x, type(x))\n",
       "x = x / 2\n",
       "print(x, type(x))"
      ]
     },
     {
      "cell_type": "code",
      "execution_count": null,
      "metadata": {},
      "outputs": [],
      "source": [
       "# you can force a float to be an int - it rounds down the closest in\n",
       "y = int(7.25)\n",
       "print(y, type(y))"
      ]
     },
     {
      "cell_type": "markdown",
      "metadata": {},
      "source": [
       "**Some notes on datasets**\n",
       "\n",
       "Datasets (meaning data stored in columns and rows) are not saved in `int`s and `float`s directly. Datasets in python is stored in what is called `panda`s. \n",
       "\n",
       "Within `panda`s, `int`s and `float`s are used to store data as it is the only way to store numeric data in python."
      ]
     },
     {
      "cell_type": "markdown",
      "metadata": {},
      "source": [
       "### Variable basic type: text\n",
       "\n"
      ]
     },
     {
      "cell_type": "markdown",
      "metadata": {},
      "source": [
       "There is only one text basic data type and it is called a string.\n",
       "\n",
       "| Class name | Full name      | Name used       | Usage                        |\n",
       "|:---        |:---            |:---             | :---                         |\n",
       "| str        | String         | \"string\"        | Text                         |\n",
       "\n",
       "This text in a string could be anything from a single letter or word, to a full length text like an essay. \n",
       "\n",
       "---\n",
       "\n",
       "**Define a string variable**"
      ]
     },
     {
      "cell_type": "code",
      "execution_count": null,
      "metadata": {},
      "outputs": [],
      "source": [
       "# Assign the text Hello World! to both variable a and b\n",
       "\n",
       "# We can use either \" or ' to tell where the text starts and ends so python does not confuse it for code\n",
       "a = \"Hello world!\"\n",
       "b = 'Hello world!'\n",
       "\n",
       "print(a, type(a))\n",
       "print(b, type(b))"
      ]
     },
     {
      "cell_type": "markdown",
      "metadata": {},
      "source": [
       "We must use either `\"\"` or `''` for each string, we cannot mix. It only rarely matters which one we use."
      ]
     },
     {
      "cell_type": "code",
      "execution_count": null,
      "metadata": {},
      "outputs": [],
      "source": [
       "# We can use either \"\" when the text includes one or several '\n",
       "a = \"Strings are python's way to store text\"\n",
       "\n",
       "# We can use either '' when the text includes one or several \"\n",
       "b = 'Python is the \"bestest\" programming language'\n",
       "\n",
       "print(a, type(a))\n",
       "print(b, type(b))"
      ]
     },
     {
      "cell_type": "markdown",
      "metadata": {},
      "source": [
       "**Simple string operations:**\n",
       "\n",
       "Some math operators works on strings as well"
      ]
     },
     {
      "cell_type": "code",
      "execution_count": null,
      "metadata": {},
      "outputs": [],
      "source": [
       "a = 'hello'\n",
       "b = 'world'\n",
       "\n",
       "# Addition and multiplication work on strings (but not subtraction and division)\n",
       "c = a + ' ' + b + \"!\"\n",
       "d = a * 3\n",
       "\n",
       "print(c, type(c))\n",
       "print(d, type(d))"
      ]
     },
     {
      "cell_type": "code",
      "execution_count": null,
      "metadata": {},
      "outputs": [],
      "source": [
       "# Now when we know strings we can add a string to the print function to keep track of what we are printing\n",
       "print('Variable c:', c, type(c))\n",
       "print('Variable d:', d, type(d))"
      ]
     },
     {
      "cell_type": "markdown",
      "metadata": {},
      "source": [
       "**String methods:**\n",
       "\n",
       "So far we have only worked with the operators such as `+`, `-` etc. \n",
       "\n",
       "Strings has some actions specific to the `str` data type. Actions specific to a data type are called methods. \n",
       "\n",
       "Almost all python items (molecules and life forms) has methods, but strings is the only data type (atom) that has methods.\n",
       "\n",
       "You can read about all string methods here: https://www.w3schools.com/python/python_ref_string.asp"
      ]
     },
     {
      "cell_type": "code",
      "execution_count": null,
      "metadata": {},
      "outputs": [],
      "source": [
       "# Define a string\n",
       "a = \"Hello world!\"\n",
       "print(a, type(a))"
      ]
     },
     {
      "cell_type": "code",
      "execution_count": null,
      "metadata": {},
      "outputs": [],
      "source": [
       "# Print the result of the method directly\n",
       "print(a.upper())"
      ]
     },
     {
      "cell_type": "code",
      "execution_count": null,
      "metadata": {},
      "outputs": [],
      "source": [
       "# Store the results of upper() in new variable and then print\n",
       "a_upper = a.upper()\n",
       "print(a_upper,type(a_upper))"
      ]
     },
     {
      "cell_type": "code",
      "execution_count": null,
      "metadata": {},
      "outputs": [],
      "source": [
       "# Store the results of lower() in new variable and then print\n",
       "a_lower = a.lower()\n",
       "print(a_lower,type(a_lower))"
      ]
     },
     {
      "cell_type": "code",
      "execution_count": null,
      "metadata": {},
      "outputs": [],
      "source": [
       "# Store the results of lower() in new variable and then print\n",
       "a_all_i = a.replace(\"o\", \"i\")\n",
       "a_one_i = a.replace(\"o\", \"i\", 1)\n",
       "\n",
       "print(\"a_all_i:\",a_all_i,type(a_all_i))\n",
       "print(\"a_one_i:\",a_one_i,type(a_one_i))"
      ]
     },
     {
      "cell_type": "markdown",
      "metadata": {},
      "source": [
       "<span style=\"color:red\">Important error message: AttributeError</span>.\n",
       "\n",
       "Whenever you see an error where it says \"has no attribute\", as in `AttributeError: 'int' object has no attribute 'upper'`, then it means that the type `int` does not have a method or attribute called `upper`. Attribute is like a simple method but the only thing it can do is to return some meta data about the variable. An attribute can never modify a variable the way a method can.\n",
       "\n",
       "If you get the error, test if you have misspelled the method/attribute or if the variable is of a different type than you expected. In this case we are using a `str` method on a `int` type."
      ]
     },
     {
      "cell_type": "code",
      "execution_count": null,
      "metadata": {},
      "outputs": [],
      "source": [
       "x = 4\n",
       "x = x.upper()"
      ]
     },
     {
      "cell_type": "markdown",
      "metadata": {},
      "source": [
       "### Variable basic type: boolean\n",
       "\n",
       "| Class name | Full name      | Name used       | Usage                        |\n",
       "|:---        |:---            |:---             | :---                         |\n",
       "| bool       | Boolean        | \"boolean\"       | Either true or false         |\n",
       "\n",
       "Boolean is the last basic type we will cover. Session 2 will discuss how to use them. This session only covers how to identify them as many methods and functions returns them as an answer.\n",
       "\n",
       "---\n",
       "\n",
       "**String methods returning booleans:**\n",
       "\n",
       "So far we have only used string methods that have returned new strings. `upper()`, `lower()`, `replace()` etc. Many methods returns booleans instead."
      ]
     },
     {
      "cell_type": "code",
      "execution_count": null,
      "metadata": {},
      "outputs": [],
      "source": [
       "# Store store the digit 3 as a string, and the word cat as a string\n",
       "a = \"3\"\n",
       "b = \"cat\"\n",
       "\n",
       "# Print the initial variables\n",
       "print('Variable a:', a, type(a))\n",
       "print('Variable b:', b, type(b))\n",
       "\n",
       "# Test if the string is a string of digits\n",
       "a_bool = a.isnumeric()\n",
       "b_bool = b.isnumeric()\n",
       "\n",
       "# Print strings and the result if it is numeric or not\n",
       "print('Variable a:', a, type(a), \". Is numeric:\", a_bool, type(a_bool))\n",
       "print('Variable b:', b, type(b), \". Is numeric:\", b_bool, type(b_bool))"
      ]
     },
     {
      "cell_type": "markdown",
      "metadata": {},
      "source": [
       "**Functions returning booleans:**\n",
       "\n",
       "There are two things we have used without explaining what they are: `print()` and `type()`. They are called functions.\n",
       "\n",
       "Functions and methods are similar, but methods are spefic to a specific python item, functions exist across all of python. `.upper()` is specific to `str`, but we have used `print()` with `str`, `int`, `float` etc.\n",
       "\n",
       "Read more about the built in functions in python here: https://www.w3schools.com/python/python_ref_functions.asp"
      ]
     },
     {
      "cell_type": "code",
      "execution_count": null,
      "metadata": {},
      "outputs": [],
      "source": [
       "# Define a string and an int\n",
       "a_str = \"three\"\n",
       "a_int = 3\n",
       "\n",
       "# Print strings and the result if it is numeric or not\n",
       "print('Variable a_str:', a_str, \"is an int:\", isinstance(a_str, int))\n",
       "print('Variable a_int:', a_int, \"is an int:\", isinstance(a_int, int))"
      ]
     },
     {
      "cell_type": "markdown",
      "metadata": {},
      "source": [
       "# S1.2 - Container types\n",
       "\n",
       "So far we have covered the atoms you are ever likely to use. However, without any way of storing these atoms into some more advanced molecules, we would not be able to do anything that really interesting.\n",
       "\n",
       "| Class name | Full name  | Access                      | Remarks |\n",
       "|:---        |:---        | :---                        | :---\n",
       "| list       | List       | Access items by order       | Common. The order in which you add items to a list matters, as it determines the order you access them in.\n",
       "| dict       | Dictionary | Access items by key         | Common. The order in which you add items to a dict matters, as you access the items by the name of the key.\n",
       "| tuple      | Tuple      | Access items by order       | Less common. Very similar to a list, but when created it cannot be modified.\n",
       "| set        | Set        | Test if item already in set | Rare. Can not hold duplicates.\n",
       "\n",
       "All of these types of containers can store any types of python items. Including anything from basic data types (atoms) to extremely complex data structures (life forms). This also include containers, meaning you can have a list of lists, a tuple of dictionaries etc.\n",
       "\n",
       "We will cover lists and dictionaries properly as you will create and use them a lot. \n",
       "\n",
       "Tuples are often returned from functions and methods so we will cover how to use them. We will briefly touch on sets.\n"
      ]
     },
     {
      "cell_type": "markdown",
      "metadata": {},
      "source": [
       "## Container types - Lists\n",
       "\n",
       "Lists can store any item. We can add items to a list at the time of creating the list or we can append them later. \n",
       "\n",
       "We access an item in the list by its order. For example, the 3rd item, 7th item etc. \n",
       "\n",
       "However, the index starts on 0 and not 1. So the item with index 1 is actually the second item in the list. This is a common practice in computer science and has good reasons, but tend to be very confusing for people new to coding\n",
       "\n",
       "---\n",
       "\n",
       "**Create a list:**"
      ]
     },
     {
      "cell_type": "code",
      "execution_count": null,
      "metadata": {},
      "outputs": [],
      "source": [
       "# Create a list of ints\n",
       "list_int = [0,1,2,3,4,5,6,7,8,9]\n",
       "print(list_int)"
      ]
     },
     {
      "cell_type": "code",
      "execution_count": null,
      "metadata": {},
      "outputs": [],
      "source": [
       "# Create a list of strs\n",
       "list_str = [\"a\",\"b\",\"c\"]\n",
       "print(list_str)"
      ]
     },
     {
      "cell_type": "code",
      "execution_count": null,
      "metadata": {},
      "outputs": [],
      "source": [
       "# Create a mixed list\n",
       "list_mix = [42,\"Arthur\",False]\n",
       "print(list_mix)"
      ]
     },
     {
      "cell_type": "code",
      "execution_count": null,
      "metadata": {},
      "outputs": [],
      "source": [
       "# test the type of a list\n",
       "print(type(list_mix))"
      ]
     },
     {
      "cell_type": "markdown",
      "metadata": {},
      "source": [
       "**Access an item in a list**:"
      ]
     },
     {
      "cell_type": "code",
      "execution_count": null,
      "metadata": {},
      "outputs": [],
      "source": [
       "# Print list and print each item in the list\n",
       "print('List list_mix:', list_mix, type(list_mix))\n",
       "print('First item (index 0):', list_mix[0], type(list_mix[0]))\n",
       "print('Second item (index 1):', list_mix[1], type(list_mix[1]))\n",
       "print('Third item (index 2):', list_mix[2], type(list_mix[2]))\n",
       "\n",
       "# Accessing items using the index does not modify the list\n",
       "print('List list_mix:', list_mix, type(list_mix))"
      ]
     },
     {
      "cell_type": "code",
      "execution_count": null,
      "metadata": {},
      "outputs": [],
      "source": [
       "# Access item in list and store in variable\n",
       "name = list_mix[1]\n",
       "print('Variable name:', name, type(name))"
      ]
     },
     {
      "cell_type": "markdown",
      "metadata": {},
      "source": [
       "**Access multiple items in a list:**"
      ]
     },
     {
      "cell_type": "code",
      "execution_count": null,
      "metadata": {},
      "outputs": [],
      "source": [
       "# Get all items between the item with index 0 up until but not including the item with index 3\n",
       "# 0 ≤ index < 3\n",
       "print(list_int[0:3])"
      ]
     },
     {
      "cell_type": "code",
      "execution_count": null,
      "metadata": {},
      "outputs": [],
      "source": [
       "# 5 ≤ index < 7\n",
       "print(list_int[5:7])"
      ]
     },
     {
      "cell_type": "code",
      "execution_count": null,
      "metadata": {},
      "outputs": [],
      "source": [
       "# 8 ≤ index < infinity\n",
       "print(list_int[8:])"
      ]
     },
     {
      "cell_type": "code",
      "execution_count": null,
      "metadata": {},
      "outputs": [],
      "source": [
       "# (max index - 3) ≤ index < infinity\n",
       "print(list_int[-3:])"
      ]
     },
     {
      "cell_type": "code",
      "execution_count": null,
      "metadata": {},
      "outputs": [],
      "source": [
       "# (max index - 7) ≤ index < (max index - 2)\n",
       "print(list_int[-7:-2])"
      ]
     },
     {
      "cell_type": "markdown",
      "metadata": {},
      "source": [
       "<span style=\"color:red\">Important error message: IndexError</span>.\n",
       "    \n",
       "Whenever you see an error where it says \"index out of range\", as in `IndexError: list index out of range`, then it means that the you have tried to access an item in the list, using an index that is not used in the list."
      ]
     },
     {
      "cell_type": "code",
      "execution_count": null,
      "metadata": {},
      "outputs": [],
      "source": [
       "# IndexError: list index out of range\n",
       "print(list_int[10])"
      ]
     },
     {
      "cell_type": "markdown",
      "metadata": {},
      "source": [
       "**Edit a list:**\n",
       "\n",
       "So far we have only created lists manually and accessed items using with the index. \n",
       "\n",
       "To do anything else, we need to use the methods for list. \n",
       "\n",
       "So far, every time we have modified a variable we have used a `=`. For example `x = x + 1` or `name = list_mix[1]`. \n",
       "Lists have some _in-place_ operator methods, meaning methods that change modify the item itself.\n",
       "\n",
       "You find a list of more list methods here: https://www.w3schools.com/python/python_ref_list.asp"
      ]
     },
     {
      "cell_type": "code",
      "execution_count": null,
      "metadata": {},
      "outputs": [],
      "source": [
       "# Create a list of strs\n",
       "pets = [\"cat\",\"dog\"]\n",
       "print('Variable pets:', pets, type(pets))\n",
       "\n",
       "# Add one item to the list - .append() is an in-place operator\n",
       "pets.append(\"gold fish\")\n",
       "print('Variable pets:', pets, type(pets))\n",
       "\n",
       "# Add another item to the list using in-place .append() and the \"=\"\" assign operator\n",
       "pets_rtrn = pets.append(\"butterfly\")\n",
       "print('Variable pets:', pets, type(pets))\n",
       "print('Variable pets_rtrn:', pets_rtrn, type(pets_rtrn))"
      ]
     },
     {
      "cell_type": "code",
      "execution_count": null,
      "metadata": {},
      "outputs": [],
      "source": [
       "# Print item with index 3 in original list\n",
       "print('Print item index 3:', pets[3], type(pets[3]))\n",
       "\n",
       "# Add item at index 2\n",
       "pets.insert(2,\"parrot\")\n",
       "\n",
       "#Print all pets\n",
       "print('Variable pets:', pets, type(pets))\n",
       "\n",
       "# Print item with index 3 in new list\n",
       "print('Print item index 3:', pets[3], type(pets[3]))"
      ]
     },
     {
      "cell_type": "code",
      "execution_count": null,
      "metadata": {},
      "outputs": [],
      "source": [
       "# Modify item with index 1 \n",
       "pets[1] = \"wolf\"\n",
       "print('Variable pets:', pets, type(pets))"
      ]
     },
     {
      "cell_type": "markdown",
      "metadata": {},
      "source": [
       "**Work with lists:**"
      ]
     },
     {
      "cell_type": "code",
      "execution_count": null,
      "metadata": {},
      "outputs": [],
      "source": [
       "# Create two lists.\n",
       "odds = [1,3,5,7,9]\n",
       "evens = [0,2,4,6,8]\n",
       "\n",
       "# Combine and sort them\n",
       "all_nums = odds + evens\n",
       "print('Variable all_nums:', all_nums, type(all_nums))\n",
       "\n",
       "# Sort the list\n",
       "all_nums.sort()\n",
       "print('Variable all_nums:', all_nums, type(all_nums))"
      ]
     },
     {
      "cell_type": "code",
      "execution_count": null,
      "metadata": {},
      "outputs": [],
      "source": [
       "# Use len() to get the number of items in the list\n",
       "print('Number of items in all_nums:', len(all_nums), type(len(all_nums)))"
      ]
     },
     {
      "cell_type": "code",
      "execution_count": null,
      "metadata": {},
      "outputs": [],
      "source": [
       "# Create a list of lists\n",
       "l1 = [\"a\",\"b\",\"c\"]\n",
       "l2 = [\"d\",\"e\",\"f\"]\n",
       "l3 = [\"f\",\"g\",\"h\"]\n",
       "\n",
       "# Create the list of list\n",
       "nested_list = [l1,l2,l3]\n",
       "print('Variable nested_list:', nested_list, type(nested_list))\n",
       "\n",
       "# Access the string \"f\"\n",
       "f = nested_list[2][0]\n",
       "print('Variable f:', f, type(f))"
      ]
     },
     {
      "cell_type": "code",
      "execution_count": null,
      "metadata": {},
      "outputs": [],
      "source": [
       "# Start with an empty list\n",
       "sample_means = []\n",
       "\n",
       "# Add items to the list\n",
       "sample_means.append(23.45)\n",
       "sample_means.append(45.1)\n",
       "sample_means.append(28.62)\n",
       "\n",
       "print('Variable sample_means:', sample_means, type(sample_means))"
      ]
     },
     {
      "cell_type": "markdown",
      "metadata": {},
      "source": [
       "## Container types - Dictionaries\n",
       "\n",
       "| Class name | Full name  | Access                      | Remarks |\n",
       "|:---        |:---        | :---                        | :--- |\n",
       "| dict       | Dictionary | Access items by key         | Common. The order in which you add items to a dict matters, as you access the items by the name of the key. |\n",
       "\n",
       "\n",
       "Each item in a dictionary consist of two things. The item itself and a key used to refer to it. \n",
       "\n",
       "The item can be of any type (anything from atoms to life forms) but the key is always a string.\n",
       "\n",
       "---\n",
       "\n",
       "**Create dictionaries and access items:**"
      ]
     },
     {
      "cell_type": "code",
      "execution_count": null,
      "metadata": {},
      "outputs": [],
      "source": [
       "# Create a dictionary\n",
       "x = {'a':'alpha','b':3,'c':True,'d':[1,2,3]}\n",
       "print('Variable x:', x, type(x))"
      ]
     },
     {
      "cell_type": "code",
      "execution_count": null,
      "metadata": {},
      "outputs": [],
      "source": [
       "print(\"Variable x['a']:\", x['a'], type(x['a']))\n",
       "print(\"Variable x['b']:\", x['b'], type(x['b']))\n",
       "print(\"Variable x['c']:\", x['c'], type(x['c']))\n",
       "print(\"Variable x['d']:\", x['d'], type(x['d']))"
      ]
     },
     {
      "cell_type": "code",
      "execution_count": null,
      "metadata": {},
      "outputs": [],
      "source": [
       "# Start with an empty dict\n",
       "accounta = {}\n",
       "accountb = {}\n",
       "\n",
       "# Set up account A details\n",
       "accounta[\"owner\"] = \"Jerry Ehman\"\n",
       "accounta[\"id\"] = \"6EQUJ5\"\n",
       "\n",
       "# Set up account B details in different order\n",
       "accountb[\"id\"] = \"GTCTAT\"\n",
       "accountb[\"owner\"] = \"Rosalind Franklin\"\n",
       "\n",
       "print('Variable accounta:', accounta, type(accounta))\n",
       "print('Variable accountb:', accountb, type(accountb))"
      ]
     },
     {
      "cell_type": "code",
      "execution_count": null,
      "metadata": {},
      "outputs": [],
      "source": [
       "# The same value can be accessed with the same key regardless of the order the values were added\n",
       "print('Owner account A:', accounta[\"owner\"], type(accounta[\"owner\"]))\n",
       "print('Owner account B:', accountb[\"owner\"], type(accountb[\"owner\"]))"
      ]
     },
     {
      "cell_type": "code",
      "execution_count": null,
      "metadata": {},
      "outputs": [],
      "source": [
       "# Deposit initial amount on account A\n",
       "accounta[\"balance\"] = 1420\n",
       "print('Balance account A:', accounta[\"balance\"], type(accounta[\"balance\"]))"
      ]
     },
     {
      "cell_type": "markdown",
      "metadata": {},
      "source": [
       "<span style=\"color:red\">Important error message: KeyError </span>.\n",
       "    \n",
       "Whenever you see an error on the format\n",
       "`KeyError: 'balance'`, \n",
       "then it means that the you have tried to access an item in the list, using a key that is not used in the dictionary."
      ]
     },
     {
      "cell_type": "code",
      "execution_count": null,
      "metadata": {},
      "outputs": [],
      "source": [
       "print('Balance account B:', accountb[\"balance\"], type(accountb[\"balance\"]))"
      ]
     },
     {
      "cell_type": "code",
      "execution_count": null,
      "metadata": {},
      "outputs": [],
      "source": [
       "# When applicable, use get() method to set a default value if key does not exist\n",
       "print('Balance account A:', accounta.get(\"balance\",0), type(accounta.get(\"balance\",0)))\n",
       "print('Balance account B:', accountb.get(\"balance\",0), type(accountb.get(\"balance\",0)))"
      ]
     },
     {
      "cell_type": "code",
      "execution_count": null,
      "metadata": {},
      "outputs": [],
      "source": [
       "# When using .get() on a key that does not exist without default value\n",
       "print('Balance account B:', accountb.get(\"color\"), type(accountb.get(\"color\")))"
      ]
     },
     {
      "cell_type": "markdown",
      "metadata": {},
      "source": [
       "## Container types - Tuples\n",
       "\n",
       "| Class name | Full name  | Access                      | Remarks |\n",
       "|:---        |:---        | :---                        | :--- |\n",
       "| tuple      | Tuple      | Access items by order       | Less common. Very similar to a list, but when created it cannot be modified. |\n",
       "\n",
       "At a first glance tuples are very similar to lists. Items in tuples are also accessed using indexes.\n",
       "\n",
       "The main difference is that tuples are immutable, which means you cannot edit them once they are created.\n",
       "\n",
       "In data work we usually want to be able to edit our data, so you will not create them often. But it is common that methods and functions return tuples, so we need to be able to recognize them and access items in them.\n",
       "\n",
       "--- \n",
       "\n",
       "**Create a tuple:**"
      ]
     },
     {
      "cell_type": "code",
      "execution_count": null,
      "metadata": {},
      "outputs": [],
      "source": [
       "list_mix  = [42,\"Arthur\",False]\n",
       "tuple_mix = (42,\"Arthur\",False)\n",
       "\n",
       "print('list_mix:', list_mix, type(list_mix))\n",
       "print('tuple_mix:', tuple_mix, type(tuple_mix))"
      ]
     },
     {
      "cell_type": "markdown",
      "metadata": {},
      "source": [
       "**Access item in a tuple:**"
      ]
     },
     {
      "cell_type": "code",
      "execution_count": null,
      "metadata": {},
      "outputs": [],
      "source": [
       "# Items are accessed the same way as a list\n",
       "print('list_mix item index 0:', list_mix[0], type(list_mix[0]))\n",
       "print('tuple_mix item index 0:', tuple_mix[0], type(tuple_mix[0]))"
      ]
     },
     {
      "cell_type": "markdown",
      "metadata": {},
      "source": [
       "**Modify item in a tuple:**"
      ]
     },
     {
      "cell_type": "code",
      "execution_count": null,
      "metadata": {},
      "outputs": [],
      "source": [
       "# First modify item in list\n",
       "list_mix[1] = \"Marvin\" \n",
       "print('list_mix:', list_mix, type(list_mix))\n"
      ]
     },
     {
      "cell_type": "markdown",
      "metadata": {},
      "source": [
       "<span style=\"color:red\">Important error message: TypeError</span>.\n",
       "    \n",
       "Whenever you see an error that says \"does not support\" as in \n",
       "`TypeError: 'tuple' object does not support item assignment`, \n",
       "then it means that the you have tried to do an action on a type that is not allowed. In this example modify an item in a tuple."
      ]
     },
     {
      "cell_type": "code",
      "execution_count": null,
      "metadata": {},
      "outputs": [],
      "source": [
       "# However we cannot do the same in \n",
       "tuple_mix[1] = \"Marvin\""
      ]
     },
     {
      "cell_type": "code",
      "execution_count": null,
      "metadata": {},
      "outputs": [],
      "source": [
       "# Use tuples to get information and store them in variables\n",
       "name = tuple_mix[1]\n",
       "print('Variable name:', name, type(name))"
      ]
     },
     {
      "cell_type": "code",
      "execution_count": null,
      "metadata": {},
      "outputs": [],
      "source": [
       "# If we \n",
       "list_from_tuple = list(tuple_mix)\n",
       "list_from_tuple[1] = \"Marvin\"\n",
       "print('Variable list_from_tuple:', list_from_tuple, type(list_from_tuple))"
      ]
     },
     {
      "cell_type": "markdown",
      "metadata": {},
      "source": [
       "## Container types - Sets\n",
       "\n",
       "| Class name | Full name  | Access                      | Remarks |\n",
       "|:---        |:---        | :---                        | :---    |\n",
       "| set        | Set        | Test if item already in set | Rare. Can not hold duplicates. |\n",
       "\n",
       "Rarely used in data work, but we are including it for completion.\n",
       "\n",
       "It's a container that cannot have duplicates. \n",
       "\n",
       "---\n",
       "\n",
       "**Demonstrate a set:**"
      ]
     },
     {
      "cell_type": "code",
      "execution_count": null,
      "metadata": {},
      "outputs": [],
      "source": [
       "# Create a set that stores all skills in a team:\n",
       "team_skills = set()\n",
       "print('Variable team_skills:', team_skills, type(team_skills))"
      ]
     },
     {
      "cell_type": "code",
      "execution_count": null,
      "metadata": {},
      "outputs": [],
      "source": [
       "# Define skillsets for person A, B and C\n",
       "personA_skill1 = \"python\"\n",
       "personB_skill1 = \"field-work\"\n",
       "personC_skill1 = \"python\"\n",
       "personC_skill2 = \"Excel\"\n",
       "\n",
       "# Add skillsets for person A, B and C\n",
       "team_skills.add(personA_skill1)\n",
       "team_skills.add(personB_skill1)\n",
       "team_skills.add(personC_skill1)\n",
       "team_skills.add(personC_skill2)\n",
       "print('Variable team_skills:', team_skills, type(team_skills))"
      ]
     },
     {
      "cell_type": "code",
      "execution_count": null,
      "metadata": {},
      "outputs": [],
      "source": [
       "# Add a list of person D's skills to the set\n",
       "personD_skills = [\"python\",\"field-work\",\"management\",\"accounting\"]\n",
       "team_skills.update(personD_skills)\n",
       "print('Variable team_skills:', team_skills, type(team_skills))"
      ]
     },
     {
      "cell_type": "code",
      "execution_count": null,
      "metadata": {},
      "outputs": [],
      "source": [
       "# Test if the team has a skillset\n",
       "print('python' in team_skills)\n",
       "print('R' in team_skills)"
      ]
     }
    ],
    "metadata": {
     "kernelspec": {
      "display_name": "Python 3",
      "language": "python",
      "name": "python3"
     },
     "language_info": {
      "codemirror_mode": {
       "name": "ipython",
       "version": 3
      },
      "file_extension": ".py",
      "mimetype": "text/x-python",
      "name": "python",
      "nbconvert_exporter": "python",
      "pygments_lexer": "ipython3",
      "version": "3.8.2"
     }
    },
    "nbformat": 4,
    "nbformat_minor": 4
   }
   
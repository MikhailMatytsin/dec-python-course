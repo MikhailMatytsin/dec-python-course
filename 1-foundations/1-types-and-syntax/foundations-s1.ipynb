{
 "cells": [
  {
   "cell_type": "markdown",
   "metadata": {},
   "source": [
    "# DEC Foundations to Python - Session 1\n",
    "# Variable types and Python syntax\n",
    "\n",
    " "
   ]
  },
  {
   "cell_type": "markdown",
   "metadata": {},
   "source": [
    "# S0.0 - Introduction\n",
    "\n",
    "\n",
    "#### The Atoms of Python\n",
    "In this session we will cover the basic building blocks that is what everything in Python is made of. **Think of these building blocks as the atoms of Python**. \n",
    "\n",
    "#### The Molecules of Python\n",
    "These atoms are used to make more advanced variables called objects. **We can think of these objects as molecules**. With these atoms and molecules, we can make everything from databases, machine learning algorithms, natural language projects or whatever you will end up using Python for. \n",
    "\n",
    "This is the same way how atoms and molecules make up everything from stars, life forms, advanced chemical compounds etc. in the world around us. \n",
    "\n",
    "#### This session is about atoms\n",
    "This session will focus on the atoms and how we write code to interact with them. We will also look at some simple molecules, but more on them and advanced life forms in later sessions.\n",
    "\n",
    "---"
   ]
  },
  {
   "cell_type": "markdown",
   "metadata": {},
   "source": [
    "## S1.1 - Google Colab\n",
    "\n",
    "Click this link to open the file you are currently viewing in Google Colab: https://colab.research.google.com/github/worldbank/dec-python-course/blob/main/1-foundations/1-types-and-syntax/foundations-s1.ipynb.\n",
    "\n",
    "This will open an exact copy of this file in Google Colab. Since it is a copy, you can make edits in it without it affecting anyone else file. Through this course we expect you to always open the file for each session in Colab and follow along.\n",
    "\n",
    "### What is Colab?\n",
    "\n",
    "* It's like Google Docs but for Python code\n",
    "* Requires no installing of Python itself or common libraries (add-ons)\n",
    "* Runs on a Google server. Any files you save in Colab are saved in your Google Drive - so a very bad place for sensitive data\n",
    "* Unfortunately, you need to be logged in to a Google account to run code on Google Colab.\n",
    "\n",
    "Most data science projects, use something called _Jupyter Notebooks_ that look and behave very similar to a notebook in Google Colab. But you can install _Jupyter Notebooks_ on your computer so no files, code or data, are saved on a Google server.\n",
    "\n",
    "---\n",
    "\n",
    "### How to run code in Colab\n",
    "\n",
    "Jupyter Notebook and Colab is organized in cells. A cell can either be code or text. The only purpose of text cells is to provide information to a human reader. This information can be a few comments to the code, or a full research paper. You can format this text using [markdown](https://commonmark.org/help).\n",
    "\n",
    "Code cells is where you write your Python code. Next to each code cell there is a play button. You can run the code by either click the 'play' icon or select the cell and hit `SHIFT-ENTER` on your keyboard. \n",
    "\n",
    "Try running the cell below that says `2 + 2`."
   ]
  },
  {
   "cell_type": "code",
   "execution_count": null,
   "metadata": {},
   "outputs": [],
   "source": [
    "2 + 2"
   ]
  },
  {
   "cell_type": "markdown",
   "metadata": {},
   "source": [
    "# S1.0 - Variables\n",
    "\n",
    "Variables is how everything is stored in Python. \n",
    "\n",
    "All variables consist of three things:\n",
    "\n",
    "* The name of the variable so it can be accessed\n",
    "* Some information that the variable contains\n",
    "* The \"*type*\" of the information stored\n",
    "\n",
    "The information a variable points to can be \n",
    "a basic type (such as a single number) or \n",
    "a complex custom type (such as a dataset or a machine learning module).\n",
    "\n",
    "Variables are only stored in temporary memory, \n",
    "so when restarting Python, \n",
    "you need to recreate them by running your code again.\n",
    "\n",
    "(**For Stata users:** In Stata, \n",
    "\"variable\" always means a column in a dataset. \n",
    "Variables in Python behave more like a `local` in Stata.)"
   ]
  },
  {
   "cell_type": "code",
   "execution_count": null,
   "metadata": {},
   "outputs": [],
   "source": [
    "# Create variables with the name hw and number\n",
    "hw = 'Hello World'\n",
    "number = 42"
   ]
  },
  {
   "cell_type": "code",
   "execution_count": null,
   "metadata": {},
   "outputs": [],
   "source": [
    "# Access the variables with the name hw and number\n",
    "# and then print the information they store\n",
    "print(hw)\n",
    "print(number)"
   ]
  },
  {
   "cell_type": "markdown",
   "metadata": {},
   "source": [
    "# S2.0 The basic data types\n",
    "\n",
    "All data and information in Python \n",
    "is made up of a basic type or a combination of basic types.\n",
    "There is no other way to store data in Python\n",
    "other than these basic types.\n",
    "\n",
    "Basic type variables are combined into \n",
    "advanced data science structures stored in custom variables. \n",
    "No matter how advanced any custom variable \n",
    "you ever encounter in Python is, \n",
    "the fundamental building blocks of the information\n",
    "it stores are always these basic data types.\n",
    "\n",
    "This is similar to how tiny simple atoms in real life\n",
    "can be combined to the most wonderful complex life forms.\n",
    "This is why we will refer to \n",
    "**the basic data types as the _atoms of Python_.**\n",
    "\n",
    "These four basic types are the types you are ever likely to use:\n",
    "\n",
    "| Class name | Full name      | Name used       | Usage                        |\n",
    "|:---        |:---            |:---             | :---                         |\n",
    "| int        | Integer        | \"int\"/\"integer\" | Number without decimal point |\n",
    "| float      | Floating point | \"float\"         | Number with decimal point    |\n",
    "| str        | String         | \"string\"        | Text                         |\n",
    "| bool       | Boolean        | \"boolean\"       | Either true or false         |\n"
   ]
  },
  {
   "cell_type": "markdown",
   "metadata": {},
   "source": [
    "# S2.1 Numeric variables\n",
    "\n",
    "**Define a numeric variable:**"
   ]
  },
  {
   "cell_type": "code",
   "execution_count": null,
   "metadata": {},
   "outputs": [],
   "source": [
    "# Assign the value 6 to a variable we name x\n",
    "x = 6"
   ]
  },
  {
   "cell_type": "markdown",
   "metadata": {},
   "source": [
    "Now somewhere in memory there is a variable with the name `x` that currently stores the value 6.\n",
    "\n",
    "We can reference this variable until we explicitly delete it or restart our Python session."
   ]
  },
  {
   "cell_type": "code",
   "execution_count": null,
   "metadata": {},
   "outputs": [],
   "source": [
    "# We can output the value by calling it \n",
    "x"
   ]
  },
  {
   "cell_type": "markdown",
   "metadata": {},
   "source": [
    "**Ex. 1a:**"
   ]
  },
  {
   "cell_type": "code",
   "execution_count": null,
   "metadata": {},
   "outputs": [],
   "source": [
    "# Create a variable called ex1_x and set it to the value 5\n",
    "\n",
    "### ADD YOUR CODE HERE\n",
    "\n",
    "# === Do not modify code below ===\n",
    "assert ex1_x == 5"
   ]
  },
  {
   "cell_type": "markdown",
   "metadata": {},
   "source": [
    "**Do math using a variable:**"
   ]
  },
  {
   "cell_type": "code",
   "execution_count": null,
   "metadata": {},
   "outputs": [],
   "source": [
    "# Take the value in x and output that value plus 1\n",
    "x + 1"
   ]
  },
  {
   "cell_type": "code",
   "execution_count": null,
   "metadata": {},
   "outputs": [],
   "source": [
    "# The value of x is still 6\n",
    "x"
   ]
  },
  {
   "cell_type": "code",
   "execution_count": null,
   "metadata": {},
   "outputs": [],
   "source": [
    "# To update the variable x we need to overwrite it with a new value\n",
    "# Assign x + 1 to x and output it\n",
    "x = x + 1  # NOTE: this OVERWRITES the variable x\n",
    "x"
   ]
  },
  {
   "cell_type": "markdown",
   "metadata": {},
   "source": [
    "Note that we can only output a variable if it is by itself on the last line in a cell. We will soon learn how to _print_ a variable where this is not the case and where we have more options.\n",
    "\n",
    "---\n",
    "**Important error message: NameError**\n",
    "\n",
    "Whenever you see an error where it says \"not defined\", as in `NameError: name 'z' is not defined`, then it means that you have tried to reference a variable `z` but that there is no variable with that name."
   ]
  },
  {
   "cell_type": "code",
   "execution_count": null,
   "metadata": {},
   "outputs": [],
   "source": [
    "x = z + 4"
   ]
  },
  {
   "cell_type": "markdown",
   "metadata": {},
   "source": [
    "**More math and using multiple variables:**"
   ]
  },
  {
   "cell_type": "code",
   "execution_count": null,
   "metadata": {},
   "outputs": [],
   "source": [
    "# Reset x to 6\n",
    "x = 6"
   ]
  },
  {
   "cell_type": "code",
   "execution_count": null,
   "metadata": {},
   "outputs": [],
   "source": [
    "# Define a second variable - this time with a longer name\n",
    "my_long_variable_name = 2"
   ]
  },
  {
   "cell_type": "code",
   "execution_count": null,
   "metadata": {},
   "outputs": [],
   "source": [
    "# Adding two variables together\n",
    "x + my_long_variable_name"
   ]
  },
  {
   "cell_type": "code",
   "execution_count": null,
   "metadata": {},
   "outputs": [],
   "source": [
    "# Subtracting x from my_long_variable_name\n",
    "x - my_long_variable_name"
   ]
  },
  {
   "cell_type": "code",
   "execution_count": null,
   "metadata": {},
   "outputs": [],
   "source": [
    "# Multiplying x with my_long_variable_name\n",
    "x * my_long_variable_name"
   ]
  },
  {
   "cell_type": "markdown",
   "metadata": {},
   "source": [
    "Here is a table of the most common mathematical operators:\n",
    "\n",
    "| Symbol | Operation      | Example     |\n",
    "|:---:   |:---            |:---         |\n",
    "| +      | Addition       | 6+2 = 8   |\n",
    "| -      | Subtraction    | 6-2 = 4   |\n",
    "| *      | Multiplication | 6*2 = 12  |\n",
    "| /      | Division       | 6/2 = 3   |\n",
    "| **     | Power of       | 6**2 = 36 |\n",
    "| %      | Modulus        | 6%2 = 0 , 6%4 = 2 |\n",
    "\n",
    "See full lost of mathematical operators here: https://www.w3schools.com/python/python_operators.asp\n",
    "\n",
    "---\n",
    "\n",
    "If we want to save the result of a mathematical operation we need to store it in a variable. Either in a new variable or by overwriting an existing one.\n",
    "\n",
    "Only variables left of the assignment operator `=` are modified. If there is no `=` then no variable is modified from a mathematical operator."
   ]
  },
  {
   "cell_type": "code",
   "execution_count": null,
   "metadata": {},
   "outputs": [],
   "source": [
    "# Create a new variable that is x multiplied by my_long_variable_name\n",
    "y = x * my_long_variable_name\n",
    "\n",
    "# Create a new variable that is the sum of x and my_long_variable_name\n",
    "z = x + my_long_variable_name"
   ]
  },
  {
   "cell_type": "markdown",
   "metadata": {},
   "source": [
    "If we want to print multiple variables in the same cell we need to use `print()`"
   ]
  },
  {
   "cell_type": "code",
   "execution_count": null,
   "metadata": {},
   "outputs": [],
   "source": [
    "# Print the variables one at the time\n",
    "print(x)\n",
    "print(my_long_variable_name)\n",
    "print(y)\n",
    "print(z)"
   ]
  },
  {
   "cell_type": "code",
   "execution_count": null,
   "metadata": {},
   "outputs": [],
   "source": [
    "# Print all variables at on the same line\n",
    "print(x, my_long_variable_name, y, z)"
   ]
  },
  {
   "cell_type": "code",
   "execution_count": null,
   "metadata": {},
   "outputs": [],
   "source": [
    "# You can also print the results of an operation\n",
    "print(12 * 89)\n",
    "print(y - 20)"
   ]
  },
  {
   "cell_type": "code",
   "execution_count": null,
   "metadata": {},
   "outputs": [],
   "source": [
    "# You can combine printing and output\n",
    "print(y - 20)\n",
    "5 ** 3"
   ]
  },
  {
   "cell_type": "markdown",
   "metadata": {},
   "source": [
    "Since incrementing a variable with a value, such as in `x = x + 1`, is such a common action, there is a short hand for it that is `x += 1`"
   ]
  },
  {
   "cell_type": "code",
   "execution_count": null,
   "metadata": {},
   "outputs": [],
   "source": [
    "my_unnecessarily_long_variable_name = 5\n",
    "my_unnecessarily_long_variable_name += 7\n",
    "print(my_unnecessarily_long_variable_name)"
   ]
  },
  {
   "cell_type": "markdown",
   "metadata": {},
   "source": [
    "**Ex. 2a**"
   ]
  },
  {
   "cell_type": "code",
   "execution_count": null,
   "metadata": {},
   "outputs": [],
   "source": [
    "# Create two variables ex2_x and ex2_y. Set ex2_x to 3 and ex2_y to 5.\n",
    "\n",
    "### ADD YOUR CODE HERE\n",
    "\n",
    "# === Do not modify code below ===\n",
    "assert ex2_x == 3 and ex2_y == 5"
   ]
  },
  {
   "cell_type": "markdown",
   "metadata": {},
   "source": [
    "**Ex. 2b**"
   ]
  },
  {
   "cell_type": "code",
   "execution_count": null,
   "metadata": {},
   "outputs": [],
   "source": [
    "# Multiply ex2_x with ex2_y and save the result in a new variable ex2_z\n",
    "\n",
    "### ADD YOUR CODE HERE\n",
    "\n",
    "# === Do not modify code below ===\n",
    "assert ex2_z == 15"
   ]
  },
  {
   "cell_type": "markdown",
   "metadata": {},
   "source": [
    "**Ex. 2c**"
   ]
  },
  {
   "cell_type": "code",
   "execution_count": null,
   "metadata": {},
   "outputs": [],
   "source": [
    "# Update the variable ex2_z by subtracting ex2_x from it\n",
    "# (Hint: re-run the cells above if/when needed)\n",
    "\n",
    "### ADD YOUR CODE HERE\n",
    "\n",
    "# === Do not modify code below ===\n",
    "assert ex2_z == 12"
   ]
  },
  {
   "cell_type": "markdown",
   "metadata": {},
   "source": [
    "## S2.2 Two basic types of numeric variables\n",
    "\n",
    "There are two types of numeric basic data types:\n",
    "\n",
    "| Class name | Full name      | Name used       | Usage                        |\n",
    "|:---        |:---            |:---             | :---                         |\n",
    "| int        | Integer        | \"int\"/\"integer\" | Number without decimal point |\n",
    "| float      | Floating point | \"float\"         | Number with decimal point    |\n",
    "\n",
    "\n",
    "`int` is more memory efficient but cannot store decimal points. \n",
    "Python will pick `int` for you \n",
    "unless your variable must be a `float` to store your data without information loss.\n",
    "\n",
    "Read more about `int` and `float` here: https://www.w3schools.com/python/python_numbers.asp\n",
    "\n",
    "---\n",
    "\n",
    "You can test which type your numeric variable using `type()`"
   ]
  },
  {
   "cell_type": "code",
   "execution_count": null,
   "metadata": {},
   "outputs": [],
   "source": [
    "# Numeric variables assigned a number WITHOUT decimal point are created as an int\n",
    "x = 3\n",
    "print(type(x))\n",
    "type(x)"
   ]
  },
  {
   "cell_type": "code",
   "execution_count": null,
   "metadata": {},
   "outputs": [],
   "source": [
    "# Numeric variables assigned a number WITH decimal points are created as a float\n",
    "pi = 3.141592\n",
    "print(type(pi))"
   ]
  },
  {
   "cell_type": "code",
   "execution_count": null,
   "metadata": {},
   "outputs": [],
   "source": [
    "# Python will automatically change the type if ever needed\n",
    "diameter = 10\n",
    "print(diameter, type(diameter))\n",
    "\n",
    "#The result of division is always a float\n",
    "radius = diameter / 2\n",
    "print(radius, type(radius))"
   ]
  },
  {
   "cell_type": "code",
   "execution_count": null,
   "metadata": {},
   "outputs": [],
   "source": [
    "#The result of an operation with float and an int is always a float\n",
    "radius = 5\n",
    "circumference = pi * (radius)\n",
    "print(radius, type(radius))\n",
    "print(circumference, type(circumference))"
   ]
  },
  {
   "cell_type": "code",
   "execution_count": null,
   "metadata": {},
   "outputs": [],
   "source": [
    "# you can force a float to be an int - it rounds down the closest int\n",
    "# NOTE: This leads to information loss about the decimal points\n",
    "y = int(7.25)\n",
    "print(y, type(y))"
   ]
  },
  {
   "cell_type": "markdown",
   "metadata": {},
   "source": [
    "**Ex. 3a**"
   ]
  },
  {
   "cell_type": "code",
   "execution_count": null,
   "metadata": {},
   "outputs": [],
   "source": [
    "# Create a variable ex3_x that is a 13 to the power of 12\n",
    "\n",
    "### ADD YOUR CODE HERE\n",
    "\n",
    "# === Do not modify code below ===\n",
    "assert ex3_x == 23298085122481"
   ]
  },
  {
   "cell_type": "markdown",
   "metadata": {},
   "source": [
    "**Ex. 3b**"
   ]
  },
  {
   "cell_type": "code",
   "execution_count": null,
   "metadata": {},
   "outputs": [],
   "source": [
    "# Create a variable ex3_y that is \n",
    "# the remainder when dividing ex3_x with 17\n",
    "\n",
    "### ADD YOUR CODE HERE\n",
    "\n",
    "# === Do not modify code below ===\n",
    "assert ex3_y == 1"
   ]
  },
  {
   "cell_type": "code",
   "execution_count": null,
   "metadata": {},
   "outputs": [],
   "source": [
    "# Create a variable ex3_z that is a float with the value three\n",
    "# (The solution has not been mentioned explicitly)\n",
    "\n",
    "### ADD YOUR CODE HERE\n",
    "\n",
    "# === Do not modify code below ===\n",
    "assert hash(ex3_z) == 3 and type(ex3_z) is float"
   ]
  },
  {
   "cell_type": "markdown",
   "metadata": {},
   "source": [
    "# S3.0 Text variables - basic type: string\n",
    "\n"
   ]
  },
  {
   "cell_type": "markdown",
   "metadata": {},
   "source": [
    "There is only one basic data type for text, and it is called \"string\".\n",
    "\n",
    "| Class name | Full name      | Name used       | Usage                        |\n",
    "|:---        |:---            |:---             | :---                         |\n",
    "| str        | String         | \"string\"        | Text                         |\n",
    "\n",
    "The text in a string could be anything from a single letter or word, to a full-length text like an essay. \n",
    "\n",
    "---\n",
    "\n",
    "**Define a string variable**"
   ]
  },
  {
   "cell_type": "code",
   "execution_count": null,
   "metadata": {},
   "outputs": [],
   "source": [
    "# Assign the text Hello World! to both variable a and b\n",
    "\n",
    "# We can use either \" or ' to tell where the text starts and ends so python does not confuse it for code\n",
    "a = \"Hello world!\"\n",
    "b = 'Hello world!'\n",
    "\n",
    "print(a, type(a))\n",
    "print(b, type(b))"
   ]
  },
  {
   "cell_type": "markdown",
   "metadata": {},
   "source": [
    "We must use either `\"\"` or `''` for each string, we cannot mix. It only rarely matters which one we use."
   ]
  },
  {
   "cell_type": "code",
   "execution_count": null,
   "metadata": {},
   "outputs": [],
   "source": [
    "# We can use either \"\" when the text includes one or several '\n",
    "a = \"Strings are Python's way to store text\"\n",
    "\n",
    "# We can use either '' when the text includes one or several \"\n",
    "b = 'Python is the \"bestest\" programming language'\n",
    "\n",
    "print(a, type(a))\n",
    "print(b, type(b))"
   ]
  },
  {
   "cell_type": "markdown",
   "metadata": {},
   "source": [
    "**Simple string operations:**\n",
    "\n",
    "Some math operators work on strings as well"
   ]
  },
  {
   "cell_type": "code",
   "execution_count": null,
   "metadata": {},
   "outputs": [],
   "source": [
    "a = 'hello'\n",
    "b = 'world'\n",
    "\n",
    "# Addition and multiplication work on strings (but not subtraction and division)\n",
    "c = a + ' ' + b + '!'\n",
    "d = a * 3\n",
    "\n",
    "print(c, type(c))\n",
    "print(d, type(d))"
   ]
  },
  {
   "cell_type": "code",
   "execution_count": null,
   "metadata": {},
   "outputs": [],
   "source": [
    "# Now when we know strings, we can add a string \n",
    "# to the print function to \n",
    "# keep track of what we are printing\n",
    "print('Variable c:', c, type(c))\n",
    "print('Variable d:', d, type(d))\n",
    "c\n",
    "d"
   ]
  },
  {
   "cell_type": "markdown",
   "metadata": {},
   "source": [
    "**Ex. 4a**"
   ]
  },
  {
   "cell_type": "code",
   "execution_count": null,
   "metadata": {},
   "outputs": [],
   "source": [
    "# Create a variable ex4_x that is a string with the word World\n",
    "# and a variable ex4_y that is a string with the word Bank\n",
    "\n",
    "### ADD YOUR CODE HERE\n",
    "\n",
    "# === Do not modify code below ===\n",
    "assert ex4_x == 'World' and ex4_y == 'Bank'"
   ]
  },
  {
   "cell_type": "markdown",
   "metadata": {},
   "source": [
    "**Ex. 4b**"
   ]
  },
  {
   "cell_type": "code",
   "execution_count": null,
   "metadata": {},
   "outputs": [],
   "source": [
    "# Create a variable ex4_z that use ex4_x and ex4_y \n",
    "# to create the word World Bank\n",
    "\n",
    "### ADD YOUR CODE HERE\n",
    "\n",
    "# === Do not modify code below ===\n",
    "assert ex4_z == 'World Bank'"
   ]
  },
  {
   "cell_type": "markdown",
   "metadata": {},
   "source": [
    "**String methods:**\n",
    "\n",
    "So far, we have only worked with the operators such as `+`, `-` etc. \n",
    "\n",
    "Strings has some actions specific to the `str` data type. Actions specific to a data type are called _methods_. \n",
    "\n",
    "Almost all Python custom variable types (molecules) have methods. But among the basic types (atoms), strings are the only one with methods.\n",
    "\n",
    "You can read about all string methods here: https://www.w3schools.com/python/python_ref_string.asp"
   ]
  },
  {
   "cell_type": "code",
   "execution_count": null,
   "metadata": {},
   "outputs": [],
   "source": [
    "# Define a new string\n",
    "a = 'Hello world!'\n",
    "print(a, type(a))"
   ]
  },
  {
   "cell_type": "code",
   "execution_count": null,
   "metadata": {},
   "outputs": [],
   "source": [
    "# Print the result of the method directly\n",
    "print(a.upper())"
   ]
  },
  {
   "cell_type": "code",
   "execution_count": null,
   "metadata": {},
   "outputs": [],
   "source": [
    "# Store the results of upper() in new variable and then print\n",
    "a_upper = a.upper()\n",
    "print(a_upper,type(a_upper))"
   ]
  },
  {
   "cell_type": "code",
   "execution_count": null,
   "metadata": {},
   "outputs": [],
   "source": [
    "# Store the results of lower() in new variable and then print\n",
    "a_lower = a.lower()\n",
    "print(a_lower,type(a_lower))"
   ]
  },
  {
   "cell_type": "code",
   "execution_count": null,
   "metadata": {},
   "outputs": [],
   "source": [
    "# Relace letters in a string\n",
    "a_all_i = a.replace('o', 'i')\n",
    "a_one_i = a.replace('o', 'i', 1)\n",
    "\n",
    "print('a_all_i:',a_all_i,type(a_all_i))\n",
    "print('a_one_i:',a_one_i,type(a_one_i))"
   ]
  },
  {
   "cell_type": "markdown",
   "metadata": {},
   "source": [
    "It is common that we need to combine a string with the content of one or several variables to output a sentence. It is always possible to do so using string concatenation using `+`.\n",
    "\n",
    "However, when generating a string that is a sentence where only a few words are dynamically populated using data in variables, using the method `.format()` is often simpler."
   ]
  },
  {
   "cell_type": "code",
   "execution_count": null,
   "metadata": {},
   "outputs": [],
   "source": [
    "name = \"Frodo Baggins\"\n",
    "age = 51"
   ]
  },
  {
   "cell_type": "code",
   "execution_count": null,
   "metadata": {},
   "outputs": [],
   "source": [
    "str_concat = \"His name is \" + name + \" and his age is \" + str(age) + \".\"\n",
    "print(str_concat)"
   ]
  },
  {
   "cell_type": "code",
   "execution_count": null,
   "metadata": {},
   "outputs": [],
   "source": [
    "str_format = \"His name is {} and his age is {}.\".format(name,age)\n",
    "print(str_format)"
   ]
  },
  {
   "cell_type": "code",
   "execution_count": null,
   "metadata": {},
   "outputs": [],
   "source": [
    "# The function len() can be used to get the length of a string\n",
    "print(name)\n",
    "print(len(name))"
   ]
  },
  {
   "cell_type": "markdown",
   "metadata": {},
   "source": [
    "**Important error message: AttributeError**\n",
    "\n",
    "Whenever you see an error where it says \"has no attribute\", as in `AttributeError: 'int' object has no attribute 'upper'`, then it means that the type `int` does not have a method or attribute called `upper`. \n",
    "\n",
    "Attribute is something similar to a method but attributes only return some meta data about a variable, and is not able to change the data in the variable.\n",
    "\n",
    "If you get an AttributeError, test if you have misspelled the method/attribute or if the variable is of a different type than you expected. Below we get this error as we are using a `str` method on an `int` type variable."
   ]
  },
  {
   "cell_type": "code",
   "execution_count": null,
   "metadata": {},
   "outputs": [],
   "source": [
    "x = 4\n",
    "x = x.upper()"
   ]
  },
  {
   "cell_type": "markdown",
   "metadata": {},
   "source": [
    "**Ex. 5a**"
   ]
  },
  {
   "cell_type": "code",
   "execution_count": null,
   "metadata": {
    "scrolled": true
   },
   "outputs": [],
   "source": [
    "# Use a string method on the variable p already provided,\n",
    "# to create a variable ex5_x with the string \"PYTHON\"\n",
    "\n",
    "p = 'Python'\n",
    "\n",
    "### ADD YOUR CODE HERE\n",
    "\n",
    "# === Do not modify code below ===\n",
    "assert ex5_x == 'PYTHON'"
   ]
  },
  {
   "cell_type": "markdown",
   "metadata": {},
   "source": [
    "**Ex. 5b**"
   ]
  },
  {
   "cell_type": "code",
   "execution_count": null,
   "metadata": {},
   "outputs": [],
   "source": [
    "# Use a string method on ex5_x to create\n",
    "# a variable ex5_y that is the string Python\n",
    "# (The solution has not been mentioned explicitly)\n",
    "# in this session. Hint: use the link above)\n",
    "\n",
    "### ADD YOUR CODE HERE\n",
    "\n",
    "# === Do not modify code below ===\n",
    "assert ex5_y == 'Python'"
   ]
  },
  {
   "cell_type": "markdown",
   "metadata": {},
   "source": [
    "# S4.0 True/False variables - basic type: boolean\n",
    "\n",
    "| Class name | Full name      | Name used       | Usage                        |\n",
    "|:---        |:---            |:---             | :---                         |\n",
    "| bool       | Boolean        | \"boolean\"       | Either true or false         |\n",
    "\n",
    "Boolean is the last basic type we will cover. Session 2 will discuss common usages of them. This session only covers how to identify them as you will see them often in Python.\n",
    "\n",
    "---\n",
    "\n",
    "**String methods returning booleans:**\n",
    "\n",
    "So far we have only used string methods that have returned new strings. `upper()`, `lower()`, `replace()` etc. Many methods returns booleans instead."
   ]
  },
  {
   "cell_type": "code",
   "execution_count": null,
   "metadata": {},
   "outputs": [],
   "source": [
    "# Store the digit 3 as a string, and the word cat as a string\n",
    "a = '3'\n",
    "b = 'cat'\n",
    "\n",
    "# Print the initial variables\n",
    "print('Variable a:', a, type(a))\n",
    "print('Variable b:', b, type(b))"
   ]
  },
  {
   "cell_type": "code",
   "execution_count": null,
   "metadata": {},
   "outputs": [],
   "source": [
    "# Test if the string is a string of a number\n",
    "a_bool = a.isnumeric()\n",
    "b_bool = b.isnumeric()\n",
    "\n",
    "# Print the strings and the result if it a string of a number\n",
    "print('Variable a:', a, type(a), '- Is numeric:', a_bool, type(a_bool))\n",
    "print('Variable b:', b, type(b), '- Is numeric:', b_bool, type(b_bool))"
   ]
  },
  {
   "cell_type": "markdown",
   "metadata": {},
   "source": [
    "**Functions returning booleans:**\n",
    "\n",
    "What are functions? We have already used functions but we have not explained what they are. `print()` and `type()` are examples of functions.\n",
    "\n",
    "Functions and methods are similar. The main difference is that a method is always specific to a type, while functions exist independently. \n",
    "\n",
    "For example, `.upper()` is specific to `str`, but we have used `print()` with `str`, `int`, `float` etc.\n",
    "\n",
    "Read more about the built in functions in python here: https://www.w3schools.com/python/python_ref_functions.asp"
   ]
  },
  {
   "cell_type": "code",
   "execution_count": null,
   "metadata": {},
   "outputs": [],
   "source": [
    "# Define a string and an int\n",
    "a_str = 'three'\n",
    "a_int = 3\n",
    "\n",
    "# Print variables and the result the variable is an int or not\n",
    "a_str_is_int = isinstance(a_str, int)\n",
    "print('Variable a_str_is_int:', a_str_is_int, type(a_str_is_int))\n",
    "\n",
    "print('a_str ({}) is an int: {}'.format(a_str,a_str_is_int))\n",
    "print('a_int ({}) is an int: {}'.format(a_int,isinstance(a_int, int)))"
   ]
  },
  {
   "cell_type": "markdown",
   "metadata": {},
   "source": [
    "**Defining your own booleans:**\n",
    "\n",
    "You can define your own boolean in two ways:\n",
    "\n",
    "* setting a variable to `True` or `False`\n",
    "* setting a variable to the result of a logical expression. "
   ]
  },
  {
   "cell_type": "code",
   "execution_count": null,
   "metadata": {},
   "outputs": [],
   "source": [
    "my_true_boolean = True\n",
    "my_false_boolean = False\n",
    "\n",
    "print('Variable my_true_boolean:', my_true_boolean, type(my_true_boolean))\n",
    "print('Variable my_false_boolean:', my_false_boolean, type(my_false_boolean))"
   ]
  },
  {
   "cell_type": "markdown",
   "metadata": {},
   "source": [
    "Logical expressions are a type of operators that evaluates to true or false. The logical operators are `and`, `or` and `not` operators.\n",
    "\n",
    "* The operator `and` returns `True` if BOTH sides of the operator is `True`\n",
    "* The operator `or` returns `True` if ANY sides of the operator is `True`\n",
    "* The operator `not` returns `True` if what comes after the operator is `False`\n",
    "\n",
    "In all cases when these operators do not return `True`, they always return `False`"
   ]
  },
  {
   "cell_type": "code",
   "execution_count": null,
   "metadata": {},
   "outputs": [],
   "source": [
    "and_operator = my_true_boolean and my_false_boolean\n",
    "or_operator = my_true_boolean or my_false_boolean\n",
    "not_operator = not my_false_boolean"
   ]
  },
  {
   "cell_type": "code",
   "execution_count": null,
   "metadata": {},
   "outputs": [],
   "source": [
    "print('Variable and_operator:', and_operator, type(and_operator))\n",
    "print('Variable or_operator:', or_operator, type(or_operator))\n",
    "print('Variable not_operator:', not_operator, type(not_operator))"
   ]
  },
  {
   "cell_type": "markdown",
   "metadata": {},
   "source": [
    "Comparison operators are another type of operators that evaluate to true or false. More on these operators in session 2, but examples are `==`, `!=`, `>` or `<`.\n",
    "\n",
    "* The operator `==` returns `True` if the value of both sides of the operator is the same\n",
    "* The operator `!=` returns `True` if the value of both sides of the operator is _not_ the same\n",
    "* The operator `>` returns `True` if the value to the left has a higher sort order\n",
    "* The operator `<` returns `True` if the value to the left has a smaller sort order"
   ]
  },
  {
   "cell_type": "code",
   "execution_count": null,
   "metadata": {},
   "outputs": [],
   "source": [
    "num_equal = 2 == 2\n",
    "num_not_equal = 2 + 2 != 5\n",
    "print('Variable num_equal:', num_equal, type(num_equal))\n",
    "print('Variable num_not_equal:', num_not_equal, type(num_not_equal))"
   ]
  },
  {
   "cell_type": "code",
   "execution_count": null,
   "metadata": {},
   "outputs": [],
   "source": [
    "str_equal = \"A\" == \"B\"\n",
    "str_not_equal = \"IBRD\" != \"IFC\"\n",
    "print('Variable str_equal:', str_equal, type(str_equal))\n",
    "print('Variable str_not_equal:', str_not_equal, type(str_not_equal))"
   ]
  },
  {
   "cell_type": "code",
   "execution_count": null,
   "metadata": {},
   "outputs": [],
   "source": [
    "num_compare = -3 < 2\n",
    "str_compare = \"meter\" > \"mile\"\n",
    "print('Variable num_compare:', num_compare, type(num_compare))\n",
    "print('Variable str_compare:', str_compare, type(str_compare))"
   ]
  },
  {
   "cell_type": "markdown",
   "metadata": {},
   "source": [
    "**Ex. 6a**"
   ]
  },
  {
   "cell_type": "code",
   "execution_count": null,
   "metadata": {},
   "outputs": [],
   "source": [
    "# Set ex6_x to True or False such that it is the same as variable a\n",
    "\n",
    "t = True\n",
    "f = False\n",
    "\n",
    "a = t or f\n",
    "\n",
    "ex6_x = ### ADD YOUR CODE HERE\n",
    "\n",
    "# === Do not modify code below ===\n",
    "assert ex6_x == a"
   ]
  },
  {
   "cell_type": "markdown",
   "metadata": {},
   "source": [
    "**Ex. 6b**"
   ]
  },
  {
   "cell_type": "code",
   "execution_count": null,
   "metadata": {},
   "outputs": [],
   "source": [
    "# Set ex6_y to True or False such that it is the same as variable b\n",
    "# (Use the print function to print intermediate steps if needed)\n",
    "\n",
    "t = True\n",
    "f = False\n",
    "\n",
    "b = t or f\n",
    "b = b and f\n",
    "b = b or f\n",
    "b = b and t\n",
    "\n",
    "ex6_y = ### ADD YOUR CODE HERE\n",
    "\n",
    "# === Do not modify code below ===\n",
    "assert ex6_y == b"
   ]
  },
  {
   "cell_type": "markdown",
   "metadata": {},
   "source": [
    "## Basic data types summary\n",
    "\n",
    "* The only way to store data in Python\n",
    "* Stored in a variable with a name and type\n",
    "* Which operations (`+`, `-`, ect.) or methods (`.upper()`) you can use depends on the type\n",
    "\n",
    "**Important errors**\n",
    "\n",
    "| Error name         | Likely reason for the error | \n",
    "|:---                |:---                     |\n",
    "| **NameError**      | You have a typo when referencing a variable or you try to reference a variable before it is created | \n",
    "| **AttributeError** | You have used a method or an attribute on a type where that method or attributed does not exist | \n",
    "\n"
   ]
  },
  {
   "cell_type": "markdown",
   "metadata": {},
   "source": [
    "# S5.0 - Container types\n",
    "\n",
    "So far we have only covered the atoms of Python.\n",
    "We have not yet introduced how you \n",
    "combine the atoms into more useful molecules.\n",
    "\n",
    "The basic data types `int`, `float`, `str` and `bool` can be combined in **the basic container types**.\n",
    "\n",
    "| Class name | Full name  | Access                      | Occurrence  | Remarks |\n",
    "|:---        |:---        | :---                        | :---        | :---\n",
    "| list       | List       | Access items by order       | Common      | Since we access items by order, the order you add items to a list is important |\n",
    "| dict       | Dictionary | Access items by key         | Common      | Since we access items by key names, the order is not important |\n",
    "| tuple      | Tuple      | Access items by order       | Less common | Very similar to a list, but when created it cannot be modified |\n",
    "| set        | Set        | Test if item already in set | Rare        | A container that cannot hold duplicates |\n",
    "\n",
    "Containers can hold basic data types (atoms) variables\n",
    "as well as other containers variables. \n",
    "You can mix data types and container types if neeed.\n",
    "Complex variables in Python are created by \n",
    "nesting many layers of container variables.\n",
    "\n",
    "`list`s and `dict`s - \n",
    "we will cover lists and dictionaries properly \n",
    "as you will create and use them a lot. \n",
    "\n",
    "`tuples`s and `set`s - \n",
    "Tuples are often returned from functions and methods\n",
    "so we will cover how to use them. \n",
    "We will only briefly cover sets.\n"
   ]
  },
  {
   "cell_type": "markdown",
   "metadata": {},
   "source": [
    "## S5.1 Container types - Lists\n",
    "\n",
    "| Class name | Full name  | Access                      | Occurrence  | Remarks |\n",
    "|:---        |:---        | :---                        | :---        | :---\n",
    "| list       | List       | Access items by order       | Common      | Since we access items by order, the order you add items to a list is important |\n",
    "\n",
    "We can add variables to a list \n",
    "at the time of creating the list \n",
    "or we can add variables later. \n",
    "\n",
    "We access an item in the list by its order.\n",
    "For example, the 3rd item, 7th item etc. \n",
    "\n",
    "However, items are accessed by index, \n",
    "and in computer science index starts on 0 and not 1. \n",
    "So the item with index 1 is actually the second item in the list. \n",
    "\n",
    "---\n",
    "\n",
    "**Create a list:**"
   ]
  },
  {
   "cell_type": "code",
   "execution_count": null,
   "metadata": {},
   "outputs": [],
   "source": [
    "# Create a list of ints\n",
    "list_int = [0,1,2,3,4,5,6,7,8,9]\n",
    "print(list_int)"
   ]
  },
  {
   "cell_type": "code",
   "execution_count": null,
   "metadata": {},
   "outputs": [],
   "source": [
    "# Create a list of strings\n",
    "list_str = ['a','b','c']\n",
    "print(list_str)"
   ]
  },
  {
   "cell_type": "code",
   "execution_count": null,
   "metadata": {},
   "outputs": [],
   "source": [
    "# Create a mixed list\n",
    "list_mix = [42,'Arthur',False]\n",
    "print(list_mix)"
   ]
  },
  {
   "cell_type": "code",
   "execution_count": null,
   "metadata": {},
   "outputs": [],
   "source": [
    "# test the type of a list\n",
    "print(type(list_mix))"
   ]
  },
  {
   "cell_type": "markdown",
   "metadata": {},
   "source": [
    "**Access an item in a list**:"
   ]
  },
  {
   "cell_type": "code",
   "execution_count": null,
   "metadata": {},
   "outputs": [],
   "source": [
    "# Print list and print each item in the list\n",
    "print('List list_mix:', list_mix, type(list_mix))\n",
    "print('First item (index 0):', list_mix[0], type(list_mix[0]))\n",
    "print('Second item (index 1):', list_mix[1], type(list_mix[1]))\n",
    "print('Third item (index 2):', list_mix[2], type(list_mix[2]))"
   ]
  },
  {
   "cell_type": "code",
   "execution_count": null,
   "metadata": {},
   "outputs": [],
   "source": [
    "# Access item in list and store in variable\n",
    "name = list_mix[1]\n",
    "print('Variable name:', name, type(name))"
   ]
  },
  {
   "cell_type": "code",
   "execution_count": null,
   "metadata": {},
   "outputs": [],
   "source": [
    "# Accessing items using the index does not modify the list\n",
    "print('List list_mix:', list_mix, type(list_mix))"
   ]
  },
  {
   "cell_type": "markdown",
   "metadata": {},
   "source": [
    "**Access multiple items in a list:**"
   ]
  },
  {
   "cell_type": "code",
   "execution_count": null,
   "metadata": {},
   "outputs": [],
   "source": [
    "# Re-create list of ints\n",
    "list_int = [0,1,2,3,4,5,6,7,8,9]"
   ]
  },
  {
   "cell_type": "code",
   "execution_count": null,
   "metadata": {},
   "outputs": [],
   "source": [
    "# Get all items between the item with index 0 \n",
    "# up until but not including the item with index 3\n",
    "# 0 ≤ index < 3\n",
    "print(list_int[0:3])"
   ]
  },
  {
   "cell_type": "code",
   "execution_count": null,
   "metadata": {},
   "outputs": [],
   "source": [
    "# Index 0 is assumed if the fist number is omitted\n",
    "# So 0:3 is the same as :3\n",
    "print(list_int[:3])"
   ]
  },
  {
   "cell_type": "code",
   "execution_count": null,
   "metadata": {},
   "outputs": [],
   "source": [
    "# 5 ≤ index < 7\n",
    "print(list_int[5:7])"
   ]
  },
  {
   "cell_type": "code",
   "execution_count": null,
   "metadata": {},
   "outputs": [],
   "source": [
    "# 8 ≤ index < infinity\n",
    "# All remaining items are included if the second number is omitted\n",
    "print(list_int[8:])"
   ]
  },
  {
   "cell_type": "code",
   "execution_count": null,
   "metadata": {},
   "outputs": [],
   "source": [
    "# (number of items - 3) ≤ index < infinity\n",
    "print(list_int[-3:])"
   ]
  },
  {
   "cell_type": "code",
   "execution_count": null,
   "metadata": {},
   "outputs": [],
   "source": [
    "# (number of items - 7) ≤ index < (number of items - 2)\n",
    "print(list_int[-7:-2])\n",
    "# 3 ≤ index < 8\n",
    "print(list_int[3:8])"
   ]
  },
  {
   "cell_type": "markdown",
   "metadata": {},
   "source": [
    "**Important error message: IndexError**\n",
    "    \n",
    "Whenever you see an error where it says \"index out of range\", as in `IndexError: list index out of range`, then it means that you have tried to access an item in the list, using an index that is not used in the list."
   ]
  },
  {
   "cell_type": "code",
   "execution_count": null,
   "metadata": {},
   "outputs": [],
   "source": [
    "# IndexError: list index out of range\n",
    "print(list_int[10])"
   ]
  },
  {
   "cell_type": "markdown",
   "metadata": {},
   "source": [
    "**Ex. 7a**"
   ]
  },
  {
   "cell_type": "code",
   "execution_count": null,
   "metadata": {},
   "outputs": [],
   "source": [
    "# From the list digits, in one line of code,\n",
    "# create the variable ex7_x with the list [0,1,2,3,4]\n",
    "\n",
    "digits = [0,1,2,3,4,5,6,7,8,9] \n",
    "\n",
    "### ADD YOUR CODE HERE\n",
    "\n",
    "# === Do not modify code below ===\n",
    "assert ex7_x == [0,1,2,3,4]"
   ]
  },
  {
   "cell_type": "markdown",
   "metadata": {},
   "source": [
    "**Ex. 7b**"
   ]
  },
  {
   "cell_type": "code",
   "execution_count": null,
   "metadata": {},
   "outputs": [],
   "source": [
    "# From the list digits, in one line of code,\n",
    "# create the variable ex7_y with the list [5,6,7,8]\n",
    "\n",
    "digits = [0,1,2,3,4,5,6,7,8,9] \n",
    "\n",
    "### ADD YOUR CODE HERE\n",
    "\n",
    "# === Do not modify code below ===\n",
    "assert ex7_y == [5,6,7,8]"
   ]
  },
  {
   "cell_type": "markdown",
   "metadata": {},
   "source": [
    "**Edit a list:**\n",
    "\n",
    "So far, every time we have modified a variable we have used a `=`. For example `x = x + 1` or `name = list_mix[1]`. \n",
    "\n",
    "Lists have some _in-place_ operator methods, meaning methods that change modify the item itself.\n",
    "\n",
    "You find a list of more list methods here: https://www.w3schools.com/python/python_ref_list.asp"
   ]
  },
  {
   "cell_type": "code",
   "execution_count": null,
   "metadata": {},
   "outputs": [],
   "source": [
    "# Create a list of strs\n",
    "pets = ['cat','dog']\n",
    "print('Variable pets:', pets, type(pets))\n",
    "\n",
    "# Add one item to the list - .append() is an in-place operator\n",
    "pets.append('gold fish')\n",
    "print('Variable pets:', pets, type(pets))\n",
    "\n",
    "# Note that we did not do: pets = pets.append('gold fish')"
   ]
  },
  {
   "cell_type": "code",
   "execution_count": null,
   "metadata": {},
   "outputs": [],
   "source": [
    "# Add another item to the list using in-place .append() and the \"=\" assign operator\n",
    "pets_append_return = pets.append('butterfly')\n",
    "print('Variable pets:', pets, type(pets))\n",
    "print('Variable pets_append_return:', pets_append_return, type(pets_append_return))"
   ]
  },
  {
   "cell_type": "code",
   "execution_count": null,
   "metadata": {},
   "outputs": [],
   "source": [
    "# Re-create the list of pets\n",
    "pets = ['cat', 'dog', 'gold fish', 'butterfly']\n",
    "\n",
    "# Print item with index 3 in original list\n",
    "print('Print pet at index 3:', pets[3], type(pets[3]))\n",
    "\n",
    "# Add item at index 2\n",
    "pets.insert(2,'parrot')\n",
    "\n",
    "# Print item with index 3 again\n",
    "print('Print pet at index 3:', pets[3], type(pets[3]))\n",
    "\n",
    "#Print all pets\n",
    "print('Variable pets:', pets, type(pets))"
   ]
  },
  {
   "cell_type": "code",
   "execution_count": null,
   "metadata": {},
   "outputs": [],
   "source": [
    "# Modify item with index 1 \n",
    "pets[1] = 'wolf'\n",
    "print('Variable pets:', pets, type(pets))"
   ]
  },
  {
   "cell_type": "code",
   "execution_count": null,
   "metadata": {},
   "outputs": [],
   "source": [
    "# Erase item in list by index. Item returned\n",
    "pet_pop = pets.pop(3)\n",
    "# Erase item in list by value. None returned\n",
    "# First item in list removed if no item specified\n",
    "pet_remove = pets.remove(\"cat\")\n",
    "\n",
    "# Print results\n",
    "print('Variable pet_pop:', pet_pop, type(pet_pop))\n",
    "print('Variable pet_remove:', pet_remove, type(pet_remove))\n",
    "print('Variable pets:', pets, type(pets))"
   ]
  },
  {
   "cell_type": "markdown",
   "metadata": {},
   "source": [
    "**Work with lists:**"
   ]
  },
  {
   "cell_type": "code",
   "execution_count": null,
   "metadata": {},
   "outputs": [],
   "source": [
    "# Create two lists.\n",
    "odds = [1,3,5,7,9]\n",
    "evens = [0,2,4,6,8]\n",
    "\n",
    "# Combine and sort them\n",
    "all_nums = odds + evens\n",
    "print('Variable all_nums:', all_nums, type(all_nums))\n",
    "\n",
    "# Sort the list - note that .sort() is an in-place operator\n",
    "all_nums.sort()\n",
    "print('Variable all_nums:', all_nums, type(all_nums))"
   ]
  },
  {
   "cell_type": "code",
   "execution_count": null,
   "metadata": {},
   "outputs": [],
   "source": [
    "# Create a list of lists\n",
    "l1 = ['a','b','c']\n",
    "l2 = ['d','e','f']\n",
    "l3 = ['g','h','i']\n",
    "\n",
    "# Create the list of list\n",
    "nested_list = [l1,l2,l3]\n",
    "print('Variable nested_list:', nested_list, type(nested_list))"
   ]
  },
  {
   "cell_type": "code",
   "execution_count": null,
   "metadata": {},
   "outputs": [],
   "source": [
    "# Access item in nested lists \"f\"\n",
    "f = nested_list[2][0]\n",
    "print('Variable f:', f, type(f))\n",
    "\n",
    "# Access item in nested lists \"f\"\n",
    "nested_lvl1 = nested_list[2]\n",
    "nested_f    = nested_lvl1[0]\n",
    "print('Variable nested_f:', nested_f, type(nested_f))"
   ]
  },
  {
   "cell_type": "code",
   "execution_count": null,
   "metadata": {},
   "outputs": [],
   "source": [
    "# Start with an empty list\n",
    "sample_means = []\n",
    "\n",
    "# Add items to the list\n",
    "sample_means.append(23.45)\n",
    "sample_means.append(45.1)\n",
    "sample_means.append(28.62)\n",
    "\n",
    "print('Variable sample_means:', sample_means, type(sample_means))"
   ]
  },
  {
   "cell_type": "code",
   "execution_count": null,
   "metadata": {},
   "outputs": [],
   "source": [
    "# Create a list by repeating another list\n",
    "list_a = ['a'] \n",
    "list_a5 = list_a * 5\n",
    "list_abc3 = ['a','b','c'] * 3\n",
    "\n",
    "print('Variable list_a:', list_a, type(list_a))\n",
    "print('Variable list_a5:', list_a5, type(list_a5))\n",
    "print('Variable list_abc3:', list_abc3, type(list_abc3))"
   ]
  },
  {
   "cell_type": "markdown",
   "metadata": {},
   "source": [
    "**Get info about a list:**"
   ]
  },
  {
   "cell_type": "markdown",
   "metadata": {},
   "source": [
    "We can use the same function `len()` we used for strings"
   ]
  },
  {
   "cell_type": "code",
   "execution_count": null,
   "metadata": {},
   "outputs": [],
   "source": [
    "print('Number of items in list_a:', len(list_a))\n",
    "print('Number of items in list_a5:', len(list_a5))"
   ]
  },
  {
   "cell_type": "code",
   "execution_count": null,
   "metadata": {},
   "outputs": [],
   "source": [
    "# We can store the length of a list in a variable if needed\n",
    "len_list_abc3 = len(list_abc3)\n",
    "print('Number of items in list_abc3:', len_list_abc3, type(len_list_abc3))"
   ]
  },
  {
   "cell_type": "markdown",
   "metadata": {},
   "source": [
    "Test if an item is or isn't in a list"
   ]
  },
  {
   "cell_type": "code",
   "execution_count": null,
   "metadata": {},
   "outputs": [],
   "source": [
    "list_abc = ['a','b','c']\n",
    "\n",
    "a_in_list_abc = 'a' in list_abc\n",
    "d_not_in_list_abc = 'd' not in list_abc\n",
    "\n",
    "print('Variable list_abc:', list_abc, type(list_abc))\n",
    "print('Variable a_in_list_abc:', a_in_list_abc, type(a_in_list_abc))\n",
    "print('Variable d_not_in_list_abc:', d_not_in_list_abc, type(d_not_in_list_abc))"
   ]
  },
  {
   "cell_type": "markdown",
   "metadata": {},
   "source": [
    "**Ex. 8a**"
   ]
  },
  {
   "cell_type": "code",
   "execution_count": null,
   "metadata": {},
   "outputs": [],
   "source": [
    "# From the list digits, in one line of code,\n",
    "# create the variable ex8_x with the int 6\n",
    "\n",
    "digits = [[0,1,2],[3,4,5],6,[7,8,9]]\n",
    "\n",
    "### ADD YOUR CODE HERE\n",
    "\n",
    "# === Do not modify code below ===\n",
    "assert ex8_x == 6"
   ]
  },
  {
   "cell_type": "markdown",
   "metadata": {},
   "source": [
    "**Ex. 8b**"
   ]
  },
  {
   "cell_type": "code",
   "execution_count": null,
   "metadata": {},
   "outputs": [],
   "source": [
    "# From the list digits, in one line of code,\n",
    "# create the variable ex8_y with the int 4 \n",
    "\n",
    "digits = [[0,1,2],[3,4,5],6,[7,8,9]]\n",
    "\n",
    "### ADD YOUR CODE HERE\n",
    "\n",
    "# === Do not modify code below ===\n",
    "assert ex8_y == 4"
   ]
  },
  {
   "cell_type": "markdown",
   "metadata": {},
   "source": [
    "**Ex. 8c**"
   ]
  },
  {
   "cell_type": "code",
   "execution_count": null,
   "metadata": {},
   "outputs": [],
   "source": [
    "# Using only the lists in the variables a, b and c and list methods\n",
    "# create a list [1,2,3,4] and store it in the variable ex8_z. \n",
    "# You may not define any new ints or lists\n",
    "\n",
    "a = 4\n",
    "b = [2,3]\n",
    "c = [1]\n",
    "\n",
    "### ADD YOUR CODE HERE\n",
    "\n",
    "# === Do not modify code below ===\n",
    "assert ex8_z == [1,2,3,4]"
   ]
  },
  {
   "cell_type": "markdown",
   "metadata": {},
   "source": [
    "**Ex. 8d**"
   ]
  },
  {
   "cell_type": "code",
   "execution_count": null,
   "metadata": {},
   "outputs": [],
   "source": [
    "# Using only the lists in the variables a, b and c and list methods\n",
    "# create a list [1,2,3] and store it in the variable ex8_k.\n",
    "# You may not define any new ints or lists\n",
    "\n",
    "a = 2\n",
    "b = [1,4,3]\n",
    "c = 1\n",
    "\n",
    "### ADD YOUR CODE HERE\n",
    "\n",
    "# === Do not modify code below ===\n",
    "assert ex8_k == [1,2,3]"
   ]
  },
  {
   "cell_type": "markdown",
   "metadata": {},
   "source": [
    "**Ex. 8e**"
   ]
  },
  {
   "cell_type": "code",
   "execution_count": null,
   "metadata": {},
   "outputs": [],
   "source": [
    "# Using only the lists in the variables a, b and c and list methods\n",
    "# create a list [1,2,3] and store it in the variable ex8_i.\n",
    "# You may not define any new ints or lists\n",
    "\n",
    "a = 3\n",
    "b = [1,4,2]\n",
    "c = 1\n",
    "\n",
    "### ADD YOUR CODE HERE\n",
    "\n",
    "# === Do not modify code below ===\n",
    "assert ex8_i == [1,2,3]"
   ]
  },
  {
   "cell_type": "markdown",
   "metadata": {},
   "source": [
    "## S5.2 Container types - Dictionaries\n",
    "\n",
    "| Class name | Full name  | Access                      | Occurrence  | Remarks |\n",
    "|:---        |:---        | :---                        | :---        | :---\n",
    "| dict       | Dictionary | Access items by key         | Common      | Since we access items by key names, the order is not important |\n",
    "\n",
    "Each item in a dictionary consists of two things. The item itself and a key used to refer to it. \n",
    "\n",
    "The item can be of any type (anything from atoms to advanced molecules) but the key is always a string.\n",
    "\n",
    "---\n",
    "\n",
    "**Create dictionaries and access items:**"
   ]
  },
  {
   "cell_type": "code",
   "execution_count": null,
   "metadata": {},
   "outputs": [],
   "source": [
    "# Create a dictionary\n",
    "x = {'a':'alpha','b':3,'c':True,'d':[1,2,3]}\n",
    "print('Variable x:', x, type(x))"
   ]
  },
  {
   "cell_type": "code",
   "execution_count": null,
   "metadata": {},
   "outputs": [],
   "source": [
    "# Access item in a dict using the key\n",
    "print(\"Variable x['a']:\", x['a'], type(x['a']))\n",
    "print(\"Variable x['b']:\", x['b'], type(x['b']))\n",
    "print(\"Variable x['c']:\", x['c'], type(x['c']))\n",
    "print(\"Variable x['d']:\", x['d'], type(x['d']))"
   ]
  },
  {
   "cell_type": "code",
   "execution_count": null,
   "metadata": {},
   "outputs": [],
   "source": [
    "# Lets say we are a bank keeping track of info about accounts\n",
    "\n",
    "# Start with an empty dict\n",
    "accounta = {}\n",
    "accountb = {}\n",
    "\n",
    "# Set up account A details\n",
    "accounta['owner'] = 'Jerry Ehman'\n",
    "accounta['id'] = '6EQUJ5'\n",
    "\n",
    "# Set up account B details in different order\n",
    "accountb['id'] = 'GTCTAT'\n",
    "accountb['owner'] = 'Rosalind Franklin'\n",
    "\n",
    "print('Variable accounta:', accounta, type(accounta))\n",
    "print('Variable accountb:', accountb, type(accountb))"
   ]
  },
  {
   "cell_type": "code",
   "execution_count": null,
   "metadata": {},
   "outputs": [],
   "source": [
    "# The same value can be accessed with the same key regardless of the order the values were added\n",
    "print('Owner account A:', accounta['owner'], type(accounta['owner']))\n",
    "print('Owner account B:', accountb['owner'], type(accountb['owner']))"
   ]
  },
  {
   "cell_type": "code",
   "execution_count": null,
   "metadata": {},
   "outputs": [],
   "source": [
    "# Deposit initial amount on account A\n",
    "accounta['balance'] = 1420\n",
    "print('Balance account A:', accounta['balance'], type(accounta['balance']))"
   ]
  },
  {
   "cell_type": "markdown",
   "metadata": {},
   "source": [
    "**Important error message: KeyError**\n",
    "    \n",
    "Whenever you see an error on the format\n",
    "`KeyError: 'balance'`, \n",
    "then it means that you have tried to access an item in the list, using a key that is not used in the dictionary."
   ]
  },
  {
   "cell_type": "code",
   "execution_count": null,
   "metadata": {},
   "outputs": [],
   "source": [
    "print('Balance account B:', accountb['balance'], type(accountb['balance']))"
   ]
  },
  {
   "cell_type": "code",
   "execution_count": null,
   "metadata": {},
   "outputs": [],
   "source": [
    "# When applicable, use get() method to set a default value if key does not exist\n",
    "print('Balance account A:', accounta.get('balance',0))\n",
    "print('Balance account B:', accountb.get('balance',0))"
   ]
  },
  {
   "cell_type": "code",
   "execution_count": null,
   "metadata": {},
   "outputs": [],
   "source": [
    "# When using .get() on a key that does not exist without default value\n",
    "print('Balance account B:', accountb.get('color'), type(accountb.get('color')))"
   ]
  },
  {
   "cell_type": "markdown",
   "metadata": {},
   "source": [
    "**Ex. 9a**"
   ]
  },
  {
   "cell_type": "code",
   "execution_count": null,
   "metadata": {},
   "outputs": [],
   "source": [
    "# Using only the already defined variables,\n",
    "# (you may not type any keys manually)\n",
    "# modify the empty dict ex8_z into\n",
    "# {'pet1':'Dog','pet2':'Cat'}\n",
    "# You may not overwrite ex8_z\n",
    "\n",
    "p1 = 'pet1'\n",
    "p2 = 'pet2'\n",
    "Arthur = 'Cat'\n",
    "b = \"Dog\"\n",
    "c = Arthur\n",
    "ex8_z = {}\n",
    "\n",
    "### ADD YOUR CODE HERE\n",
    "\n",
    "# === Do not modify code below ===\n",
    "assert ex8_z == {'pet1':'Dog','pet2':'Cat'}"
   ]
  },
  {
   "cell_type": "markdown",
   "metadata": {},
   "source": [
    "**Ex. 9b**"
   ]
  },
  {
   "cell_type": "code",
   "execution_count": null,
   "metadata": {},
   "outputs": [],
   "source": [
    "# Using only the complex_dict and \n",
    "# accessing items using only keys and indexes,\n",
    "# create the following variables zero as the int 0,\n",
    "# d as the string d, minus_three as the int -3\n",
    "# and symbol_list as the list ['%','?','~']\n",
    "# Try create each of these variables in a single line of code\n",
    "\n",
    "\n",
    "complex_dict = {\n",
    "    'alpha': [\n",
    "        'a','b','c','d'\n",
    "    ],\n",
    "    'numbers': [\n",
    "        [1,2,3],\n",
    "        0,\n",
    "        [-1,-2,-3]\n",
    "    ],\n",
    "    'symbols' : {\n",
    "        'percent' : '%',\n",
    "        'question' : '?',\n",
    "        'tilde' : '~'\n",
    "    }\n",
    "}\n",
    "\n",
    "zero = ### ADD YOUR CODE HERE\n",
    "d = ### ADD YOUR CODE HERE\n",
    "minus_three = ### ADD YOUR CODE HERE\n",
    "symbol_list = ### ADD YOUR CODE HERE\n",
    "\n",
    "# === Do not modify code below ===\n",
    "assert zero==0 and d=='d' and minus_three==-3 and symbol_list==['%','?','~']"
   ]
  },
  {
   "cell_type": "markdown",
   "metadata": {},
   "source": [
    "## S5.3 Container types - Tuples\n",
    "\n",
    "| Class name | Full name | Access                | Occurrence  | Remarks |\n",
    "|:---        |:---       | :---                  | :---        | :---\n",
    "| tuple      | Tuple     | Access items by order | Less common | Very similar to a list, but when created it cannot be modified |\n",
    "\n",
    "At a first glance tuples are very similar to lists. Items in tuples are also accessed using indexes.\n",
    "\n",
    "The main difference is that tuples are immutable, which means you cannot edit them once they are created.\n",
    "\n",
    "In data work we usually want to be able to edit our data, so you will not create them often. But it is common that methods and functions return tuples.\n",
    "\n",
    "--- \n",
    "\n",
    "**Create a tuple:**"
   ]
  },
  {
   "cell_type": "code",
   "execution_count": null,
   "metadata": {},
   "outputs": [],
   "source": [
    "list_mix  = [42,'Arthur',False]\n",
    "tuple_mix = (42,'Arthur',False)\n",
    "\n",
    "print('list_mix:', list_mix, type(list_mix))\n",
    "print('tuple_mix:', tuple_mix, type(tuple_mix))"
   ]
  },
  {
   "cell_type": "markdown",
   "metadata": {},
   "source": [
    "**Access item in a tuple:**"
   ]
  },
  {
   "cell_type": "code",
   "execution_count": null,
   "metadata": {},
   "outputs": [],
   "source": [
    "# Items are accessed the same way as a list\n",
    "print('list_mix item index 0:', list_mix[0], type(list_mix[0]))\n",
    "print('tuple_mix item index 0:', tuple_mix[0], type(tuple_mix[0]))"
   ]
  },
  {
   "cell_type": "markdown",
   "metadata": {},
   "source": [
    "**Modify item in a tuple:**"
   ]
  },
  {
   "cell_type": "code",
   "execution_count": null,
   "metadata": {},
   "outputs": [],
   "source": [
    "# First modify item in list\n",
    "list_mix[1] = 'Marvin' \n",
    "print('list_mix:', list_mix, type(list_mix))\n"
   ]
  },
  {
   "cell_type": "markdown",
   "metadata": {},
   "source": [
    "**Important error message: TypeError**\n",
    "    \n",
    "Whenever you see an error that says \"does not support\" as in \n",
    "`TypeError: 'tuple' object does not support item assignment`, \n",
    "then it means that you have tried to do an action on a type for which that action is not allowed.\n",
    "In this example modify an item in a tuple."
   ]
  },
  {
   "cell_type": "code",
   "execution_count": null,
   "metadata": {},
   "outputs": [],
   "source": [
    "# However we cannot do the same in \n",
    "tuple_mix[1] = 'Marvin'"
   ]
  },
  {
   "cell_type": "code",
   "execution_count": null,
   "metadata": {},
   "outputs": [],
   "source": [
    "# Use tuples to get information and store them in variables\n",
    "name = tuple_mix[1]\n",
    "print('Variable name:', name, type(name))\n",
    "\n",
    "# Items copied from a tuple no longer need to be immutable\n",
    "name = name.upper()\n",
    "print('Variable name upper:', name, type(name))"
   ]
  },
  {
   "cell_type": "code",
   "execution_count": null,
   "metadata": {},
   "outputs": [],
   "source": [
    "# If we type cast a tuple to a list it behaves as a list\n",
    "list_from_tuple = list(tuple_mix)\n",
    "list_from_tuple[1] = 'Marvin'\n",
    "print('Variable list_from_tuple:', list_from_tuple, type(list_from_tuple))"
   ]
  },
  {
   "cell_type": "code",
   "execution_count": null,
   "metadata": {},
   "outputs": [],
   "source": [
    "# While items in a tuple are immutable, the tuple can be overwritten\n",
    "tuple_from_list = tuple(list_from_tuple)\n",
    "print('Variable tuple_from_list:', tuple_from_list, type(tuple_from_list))"
   ]
  },
  {
   "cell_type": "markdown",
   "metadata": {},
   "source": [
    "**Ex. 10a**"
   ]
  },
  {
   "cell_type": "code",
   "execution_count": null,
   "metadata": {},
   "outputs": [],
   "source": [
    "# Generate a tuple with the three letters m, n and p\n",
    "# in alphabetic order. Call the tuple letters.\n",
    "# then access the letter m\n",
    "# and store as a string in the variable M\n",
    "\n",
    "letters = ### ADD YOUR CODE HERE\n",
    "M = ### ADD YOUR CODE HERE\n",
    "\n",
    "# === Do not modify code below ===\n",
    "assert type(letters) is tuple and M=='m'"
   ]
  },
  {
   "cell_type": "markdown",
   "metadata": {},
   "source": [
    "## S5.4 Container types - Sets\n",
    "\n",
    "| Class name | Full name  | Access                      | Occurrence  | Remarks |\n",
    "|:---        |:---        | :---                        | :---        | :---\n",
    "| set        | Set        | Test if item already in set | Rare        | A container that cannot hold duplicates |\n",
    "\n",
    "Rare but included it for completion. It's a container that cannot have duplicates. \n",
    "\n",
    "---\n",
    "\n",
    "**Demonstrate a set:**"
   ]
  },
  {
   "cell_type": "code",
   "execution_count": null,
   "metadata": {},
   "outputs": [],
   "source": [
    "# Create a set that stores all skills in a team:\n",
    "team_skills = set()\n",
    "print('Variable team_skills:', team_skills, type(team_skills))"
   ]
  },
  {
   "cell_type": "code",
   "execution_count": null,
   "metadata": {},
   "outputs": [],
   "source": [
    "# Define skillsets for person A, B and C\n",
    "personA_skill1 = 'python'\n",
    "personB_skill1 = 'field-work'\n",
    "personC_skill1 = 'python'\n",
    "personC_skill2 = 'Excel'\n",
    "\n",
    "# Add skillsets for person A, B and C\n",
    "team_skills.add(personA_skill1)\n",
    "team_skills.add(personB_skill1)\n",
    "team_skills.add(personC_skill1)\n",
    "team_skills.add(personC_skill2)\n",
    "print('Variable team_skills:', team_skills, type(team_skills))"
   ]
  },
  {
   "cell_type": "code",
   "execution_count": null,
   "metadata": {},
   "outputs": [],
   "source": [
    "# Add a list of person D's skills to the set\n",
    "personD_skills = ['python','field-work','management','accounting']\n",
    "team_skills.update(personD_skills)\n",
    "print('Variable team_skills:', team_skills, type(team_skills))"
   ]
  },
  {
   "cell_type": "code",
   "execution_count": null,
   "metadata": {},
   "outputs": [],
   "source": [
    "# Test if the team has a skillset\n",
    "print('python' in team_skills)\n",
    "print('R' in team_skills)"
   ]
  },
  {
   "cell_type": "markdown",
   "metadata": {},
   "source": [
    "## S5.5 Basic container types summary\n",
    "\n",
    "* This is how we combine basic data types (atoms)\n",
    "* Stored in a variable with a name and type (just like data types and any other variable)\n",
    "* How you access items is the main difference between the two most common containers; `list` and `dict`\n",
    "* Containers are often nested (a container in a container)\n",
    "* The types in a container can be mixed\n",
    "\n",
    "**Important errors**\n",
    "\n",
    "| Error name     | Likely reason for the error | \n",
    "|:---            |:---                         |\n",
    "| **IndexError** | You are trying to access an item in a list using an index outside the range of indexes for that list | \n",
    "| **KeyError**   | You are trying to access an item in a list using a key name that does not exist in the dict | \n",
    "| **TypeError**  | Very generic error where you have used an operation (math operation, index assignment etc.) that is a recognixed operation but not allowed for this variable's type | "
   ]
  }
 ],
 "metadata": {
  "kernelspec": {
   "display_name": "Python 3",
   "language": "python",
   "name": "python3"
  },
  "language_info": {
   "codemirror_mode": {
    "name": "ipython",
    "version": 3
   },
   "file_extension": ".py",
   "mimetype": "text/x-python",
   "name": "python",
   "nbconvert_exporter": "python",
   "pygments_lexer": "ipython3",
   "version": "3.8.2"
  }
 },
 "nbformat": 4,
 "nbformat_minor": 4
}

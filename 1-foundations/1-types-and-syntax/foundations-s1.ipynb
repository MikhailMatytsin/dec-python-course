{
 "cells": [
  {
   "cell_type": "markdown",
   "metadata": {},
   "source": [
    "# DEC Foundations to Python - Session 1\n",
    "# Variable type and Python syntax\n",
    "\n",
    " "
   ]
  },
  {
   "cell_type": "markdown",
   "metadata": {},
   "source": [
    "# S1.0 - Introduction\n",
    "\n",
    "In this session we will cover the basic building blocks that is what everything in Python is made of. Think of these building blocks as the atoms of Python. \n",
    "\n",
    "These atoms are used to make more advanced variables called objects. We can think of these objects as molecules. With these atoms and molecules we can make everything from databases, machine learning algorithms, natural language projects or whatever you will end up using Python for. \n",
    "\n",
    "This is the same way how atoms and molecules make up everything from stars, life forms, advanced chemical componds etc. in the world around us. \n",
    "\n",
    "This session will focus on the atoms and how we write code to interract with them. We will also look at some simple molecules, but more on them and advanced life forms in later sessions.\n",
    "\n",
    "---"
   ]
  },
  {
   "cell_type": "markdown",
   "metadata": {},
   "source": [
    "## Content\n",
    "\n",
    "This list will be cleaned up before the session and remove the nested bullets. Leaving them in for the reviewer to comment on.\n",
    "\n",
    "* Housekeeping\n",
    "    * Course overview\n",
    "    * Slack space\n",
    "* Google Colab\n",
    "    * How to load the Colab file\n",
    "    * What is Colab?\n",
    "        * Requires no installation of Python on your computer\n",
    "        * Requires no knowledge in installing add-ons (libraries) for what we will cover in this course\n",
    "        * Saves your file in Google Drive\n",
    "        * Based on Jupyter Notebooks which is what you will use when you want to save your code on your computer\n",
    "    * How to save a Colab file\n",
    "    * (Will talk about how to run a Colab file when running the first cell)\n",
    "* Variable type: numeric\n",
    "    * Two types of numeric atoms: `int` and `float`\n",
    "    * You do not use these type of atoms to store a data set. That is stored in a bigger type of molecule call `pandas`. Within `pandas` these types of atoms are used to store the individual values in your dataset. Just like atoms in a molecule.\n",
    "    * Python keep tracks of which type you need\n",
    "    * Introduce `print()`, `type()`, `int()`, `float()`\n",
    "    * Basic syntax and operators\n",
    "    * Some methods\n",
    "* Variable type: text\n",
    "    * One type of text atom: `str` (will mention that )\n",
    "    * Basic syntax and operators\n",
    "    * Both `''` and `\"\"`. Use `''` when your string includes a `\"` and `\"\"` when string includes `'`.\n",
    "    * Some methods\n",
    "* Work with variables\n",
    "    * Space between operators does not matter\n",
    "    * Print multiple values - `print(x,y)`\n",
    "    * Print with hardcoded strings - `print('My variable y is: ',y)`\n",
    "    * Print the result of an operation `print(x * y)`\n",
    "    * auto-complete variables and statements\n",
    "* Container types - intro\n",
    "    * The most basic form of molecules - they are containers that can hold our atoms\n",
    "    * Without them our computer memory would just be an unmanageble soup of atoms.\n",
    "    * They can store any type of variable or container (atoms, molecules or even life forms)\n",
    "    * There are four of them. The first two are most commonly used and we will focus on them\n",
    "        * Lists\n",
    "        * Dictionairies\n",
    "        * Tuples\n",
    "        * Sets\n",
    "* Container types - Lists\n",
    "    * Lists are containers of items accessed by the order the item has in the list\n",
    "    * Basic syntax and operators\n",
    "        * Create a list\n",
    "        * Access item in list\n",
    "        * Some methods\n",
    "* Container types - Dictionairies\n",
    "    * Dictionairies are containers of items accessed by a key value\n",
    "    * Basic syntax and operators\n",
    "        * Create a Dictionary\n",
    "        * Access item in Dictionary\n",
    "        * Some methods\n",
    "* Container types - Tuples\n",
    "    * Tuples are containers of items accessed the same way as a list, but an item in a tuple cannot be modified\n",
    "    * Basic syntax and operators\n",
    "        * Create a Tuple\n",
    "        * Access item in Tuple\n",
    "* Container types - Sets\n",
    "    * Sets are containers of items where there cannot be any duplicates, and you access items by testing if the value exists in the Set\n",
    "    * Basic syntax and operators\n",
    "        * Create a Set\n",
    "        * Access item in Set\n",
    "    \n"
   ]
  },
  {
   "cell_type": "markdown",
   "metadata": {},
   "source": [
    "## Housekeeping\n",
    "\n",
    "* Course overview\n",
    "* Slack space"
   ]
  },
  {
   "cell_type": "markdown",
   "metadata": {},
   "source": [
    "## Google Colab\n",
    "\n",
    " * How to load the Colab file\n",
    "    * What is Colab?\n",
    "        * Requires no installation of Python on your computer\n",
    "        * Requires no knowledge in installing add-ons (libraries) for what we will cover in this course\n",
    "        * Saves your file in Google Drive\n",
    "        * Based on Jupyter Notebooks which is what you will use when you want to save your code on your computer\n",
    "    * How to save a Colab file\n",
    "    * (Will talk about how to run a Colab file when running the first cell)"
   ]
  },
  {
   "cell_type": "markdown",
   "metadata": {},
   "source": [
    "# S1.1 - Variables\n",
    "\n",
    "* Variables is how everything is stored in Python\n",
    "\n",
    "* Each variables are like a file on your computer, but it stores only a single Python item.\n",
    "\n",
    "* However, this single item can be either an atom, a molucule or a complex life form.\n",
    "\n",
    "* Variables are only stored in temporary memory, so when restarting Python, use your code to recreate any variables you need again\n",
    "\n",
    "--- "
   ]
  },
  {
   "cell_type": "markdown",
   "metadata": {},
   "source": [
    "## The basic data types\n",
    "\n",
    "These four basic types are the types you are ever likely to use:\n",
    "* Integer (`int`) - number without decimal point\n",
    "* Floating point (`float`) - number with decimal point\n",
    "* Strings (`str`) - text\n",
    "* Boolean (`bool`) - hold either the value true or false\n",
    "\n",
    "This is what we have been calling atoms of Python.\n",
    "\n",
    "Any information your Python code ever will interact with, will in the core only consist of these four types. Often many of them put together into complex data structures.\n",
    "\n",
    "_(Technically that are a few more basic data points, but they are quite rare)_"
   ]
  },
  {
   "cell_type": "markdown",
   "metadata": {},
   "source": [
    "### Variable basic type: numeric\n",
    "\n",
    "There are two types of numeric basic data types. `int` and `float`. `int` is more memory efficient but cannot store decimal points. \n",
    "\n",
    "You do not need to keep track of when you need an `int` or a `float`. Python will do that for you, all you need to know that both `int` and `float` are numbers.\n",
    "\n",
    "Read more about `int` and `float` here: https://www.w3schools.com/python/python_numbers.asp"
   ]
  },
  {
   "cell_type": "code",
   "execution_count": 41,
   "metadata": {},
   "outputs": [],
   "source": [
    "# Assign the value 3 to a variable we name x\n",
    "x = 3"
   ]
  },
  {
   "cell_type": "markdown",
   "metadata": {},
   "source": [
    "Now somewhere in memory there is a variable with the name `x` that currently stores the value 3.\n",
    "\n",
    "We can reference this variable until we explicityl delete it or restart python."
   ]
  },
  {
   "cell_type": "code",
   "execution_count": 42,
   "metadata": {},
   "outputs": [
    {
     "data": {
      "text/plain": [
       "3"
      ]
     },
     "execution_count": 42,
     "metadata": {},
     "output_type": "execute_result"
    }
   ],
   "source": [
    "# We can output the value by calling it \n",
    "x"
   ]
  },
  {
   "cell_type": "markdown",
   "metadata": {},
   "source": [
    "We can do math using this varible `x`"
   ]
  },
  {
   "cell_type": "code",
   "execution_count": 43,
   "metadata": {},
   "outputs": [
    {
     "data": {
      "text/plain": [
       "4"
      ]
     },
     "execution_count": 43,
     "metadata": {},
     "output_type": "execute_result"
    }
   ],
   "source": [
    "# Take the value in x and ouput that value plus 1\n",
    "x + 1"
   ]
  },
  {
   "cell_type": "code",
   "execution_count": 44,
   "metadata": {},
   "outputs": [
    {
     "data": {
      "text/plain": [
       "3"
      ]
     },
     "execution_count": 44,
     "metadata": {},
     "output_type": "execute_result"
    }
   ],
   "source": [
    "# The value of x is still 3\n",
    "x"
   ]
  },
  {
   "cell_type": "code",
   "execution_count": 45,
   "metadata": {},
   "outputs": [
    {
     "data": {
      "text/plain": [
       "4"
      ]
     },
     "execution_count": 45,
     "metadata": {},
     "output_type": "execute_result"
    }
   ],
   "source": [
    "# To update the variable x we need to assign a new value to it\n",
    "# Assign x + 1 to x and output is\n",
    "x = x + 1\n",
    "x"
   ]
  },
  {
   "cell_type": "code",
   "execution_count": 46,
   "metadata": {},
   "outputs": [],
   "source": [
    "# We can give variables longer names\n",
    "my_long_variable_name = 10"
   ]
  },
  {
   "cell_type": "code",
   "execution_count": 47,
   "metadata": {},
   "outputs": [
    {
     "data": {
      "text/plain": [
       "14"
      ]
     },
     "execution_count": 47,
     "metadata": {},
     "output_type": "execute_result"
    }
   ],
   "source": [
    "# Adding two variables together\n",
    "my_long_variable_name + x"
   ]
  },
  {
   "cell_type": "code",
   "execution_count": 48,
   "metadata": {},
   "outputs": [
    {
     "data": {
      "text/plain": [
       "6"
      ]
     },
     "execution_count": 48,
     "metadata": {},
     "output_type": "execute_result"
    }
   ],
   "source": [
    "# Subtracting x from my_long_variable_name\n",
    "my_long_variable_name - x"
   ]
  },
  {
   "cell_type": "code",
   "execution_count": 49,
   "metadata": {},
   "outputs": [
    {
     "data": {
      "text/plain": [
       "40"
      ]
     },
     "execution_count": 49,
     "metadata": {},
     "output_type": "execute_result"
    }
   ],
   "source": [
    "# Multiplying x with my_long_variable_name\n",
    "my_long_variable_name * x"
   ]
  },
  {
   "cell_type": "code",
   "execution_count": 52,
   "metadata": {},
   "outputs": [
    {
     "data": {
      "text/plain": [
       "2.5"
      ]
     },
     "execution_count": 52,
     "metadata": {},
     "output_type": "execute_result"
    }
   ],
   "source": [
    "# Deviding my_long_variable_name with x\n",
    "my_long_variable_name / x"
   ]
  },
  {
   "cell_type": "markdown",
   "metadata": {},
   "source": [
    "If we want to print multiple variables in the same cell we need to use `print()`"
   ]
  },
  {
   "cell_type": "code",
   "execution_count": 54,
   "metadata": {},
   "outputs": [
    {
     "name": "stdout",
     "output_type": "stream",
     "text": [
      "4\n",
      "10\n"
     ]
    }
   ],
   "source": [
    "# Print the variables one at the time\n",
    "print(x)\n",
    "print(my_long_variable_name)"
   ]
  },
  {
   "cell_type": "code",
   "execution_count": 56,
   "metadata": {},
   "outputs": [
    {
     "name": "stdout",
     "output_type": "stream",
     "text": [
      "4 10\n"
     ]
    }
   ],
   "source": [
    "# Print both variables at on the same line\n",
    "print(x, my_long_variable_name)"
   ]
  },
  {
   "cell_type": "code",
   "execution_count": null,
   "metadata": {},
   "outputs": [],
   "source": []
  },
  {
   "cell_type": "markdown",
   "metadata": {},
   "source": [
    "### Variable basic type: text\n",
    "\n"
   ]
  },
  {
   "cell_type": "markdown",
   "metadata": {},
   "source": [
    "## Working with variables\n",
    "\n"
   ]
  },
  {
   "cell_type": "markdown",
   "metadata": {},
   "source": [
    "# S1.2 - Container types\n",
    "\n"
   ]
  },
  {
   "cell_type": "markdown",
   "metadata": {},
   "source": [
    "## Container types - Lists\n",
    "\n"
   ]
  },
  {
   "cell_type": "markdown",
   "metadata": {},
   "source": [
    "## Container types - Dictionairies\n",
    "\n"
   ]
  },
  {
   "cell_type": "markdown",
   "metadata": {},
   "source": [
    "## Container types - Tuples\n",
    "\n"
   ]
  },
  {
   "cell_type": "markdown",
   "metadata": {},
   "source": [
    "## Container types - Sets"
   ]
  }
 ],
 "metadata": {
  "kernelspec": {
   "display_name": "Python 3",
   "language": "python",
   "name": "python3"
  },
  "language_info": {
   "codemirror_mode": {
    "name": "ipython",
    "version": 3
   },
   "file_extension": ".py",
   "mimetype": "text/x-python",
   "name": "python",
   "nbconvert_exporter": "python",
   "pygments_lexer": "ipython3",
   "version": "3.8.2"
  }
 },
 "nbformat": 4,
 "nbformat_minor": 4
}

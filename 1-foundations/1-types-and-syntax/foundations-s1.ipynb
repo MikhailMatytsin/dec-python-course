{
 "cells": [
  {
   "cell_type": "markdown",
   "metadata": {
    "colab_type": "text",
    "id": "view-in-github"
   },
   "source": [
    "<a href=\"https://colab.research.google.com/github/worldbank/dec-python-course/blob/main/1-foundations/1-types-and-syntax/foundations-s1.ipynb\" target=\"_parent\"><img src=\"https://colab.research.google.com/assets/colab-badge.svg\" alt=\"Open In Colab\"/></a>"
   ]
  },
  {
   "cell_type": "markdown",
   "metadata": {
    "id": "DjE4ro-grt3Q"
   },
   "source": [
    "# DEC Foundations to Python - Session 1\n",
    "# Variable types and Python syntax\n",
    "\n",
    " "
   ]
  },
  {
   "cell_type": "markdown",
   "metadata": {
    "id": "dsQJaHXBrt3S"
   },
   "source": [
    "# S0.0 - Introduction\n",
    "\n",
    "## S0.1 - The building blocks of Python\n",
    "\n",
    "#### The Atoms of Python\n",
    "In this session we will cover the basic building blocks that is what everything in Python is made of. **Think of these building blocks as the atoms of Python**. \n",
    "\n",
    "There are 5 types of atoms in Python you are likely to ever interact with as a Data Scientist. \n",
    "\n",
    "<img src=https://upload.wikimedia.org/wikipedia/commons/6/6f/Stylised_atom_with_three_Bohr_model_orbits_and_stylised_nucleus.svg width=\"200\">\n",
    "\n",
    "#### The Containers of Atoms of Python\n",
    "To organize and give structure to these atoms, there are 4 types of containers they can be stored in. Without these Python would just be a soup of atoms. Think of these as the chemical bonds between atoms in Python.\n",
    "\n",
    "<img src=https://eepratibha-gallery.s3.ap-south-1.amazonaws.com/uploadimages/Tenthclass-humaneye-05-01-2021-118.jpg width=\"300\">\n",
    "\n",
    "#### The Molecules of Python\n",
    "These atoms and containers are combined into something called objects. **We can think of these objects as molecules**. \n",
    "\n",
    "Object can be simple or very complex. But no matter how complex something you ever encounter in Python is, it can always be traced back to a combination of the atoms and their containers.\n",
    "\n",
    "With these atoms and molecules, we can make everything from databases, machine learning algorithms, natural language projects or whatever you will end up using Python for. \n",
    "\n",
    "<img src=https://upload.wikimedia.org/wikipedia/commons/e/e8/Sucrose_molecule_3d_model.png width=\"300\">\n",
    "\n",
    "\n",
    "## S0.2 - Do I really need to care about these building blocks?\n",
    "\n",
    "Maybe you are thinking right now: \n",
    "\n",
    "\"**_I'm am not super-techy and never intend to develop my own custom data structures. I just want to use Python for some cool data science. So why is this person talking about inner fabric of Python and CHEMISTRY!?!_**\".\n",
    "\n",
    "If you load some data into a dataset in Python, it will be stored in an object. While you do not need to understand the chemical make-up an object to use with it, it will expect that you to provide inputs using atoms and containers when you want to modify it, analyze the data in it etc.\n",
    "\n",
    "And after any operation it almost always returns the result in terms of a Python atom or container of atoms that you need to know how to identify and handle. But identifying and handling these atoms and containers does not require that you are an expert in them.\n",
    "\n",
    "---\n",
    "\n",
    "#### The scope of this session\n",
    "This session will show how to identify the 5 atoms and the 4 containers, and the basics of how to interact with them. But we will focus most of time to 3 of the atoms and 2 of the containers.\n",
    "\n",
    "After this session you will know enough to be able to use them in relation to other objects in Python.\n",
    "\n",
    "You will see how we will come back to these basic types when we in the following sessions interact with Python molecules developed for us by other users.\n",
    "\n",
    "---"
   ]
  },
  {
   "cell_type": "markdown",
   "metadata": {
    "id": "H_UnAy7lrt3S"
   },
   "source": [
    "## S0.3 - Google Colab\n",
    "\n",
    "<img src=https://miro.medium.com/max/986/1*pimj8lXWwZnqLs2xVCV2Aw.png width=\"500\">\n",
    "\n",
    "Click this link to open the file you are currently viewing in Google Colab: https://colab.research.google.com/github/worldbank/dec-python-course/blob/main/1-foundations/1-types-and-syntax/foundations-s1.ipynb.\n",
    "\n",
    "This will open an exact copy of this file in Google Colab. Since it is a copy, you can make edits in it without it affecting anyone else file. Through this course we expect you to always open the file for each session in Colab and follow along.\n",
    "\n",
    "### What is Colab?\n",
    "\n",
    "* It's like Google Docs but for Python code\n",
    "* Requires no installing of Python itself or common libraries (add-ons)\n",
    "* Runs on a Google server. Any files you save in Colab are saved in your Google Drive - so a very bad place for sensitive data\n",
    "* Unfortunately, you need to be logged in to a Google account to run code on Google Colab.\n",
    "\n",
    "**Do not use Google Colab for any non-public data**\n",
    "\n",
    "---\n",
    "\n",
    "### How to run code in Colab\n",
    "\n",
    "Jupyter Notebook and Colab is organized in cells. A cell can either be code or text. The only purpose of text cells is to provide information to a human reader. This information can be a few comments to the code, or a full research paper. You can format this text using [markdown](https://commonmark.org/help).\n",
    "\n",
    "Code cells is where you write your Python code. Next to each code cell there is a play button. You can run the code by either click the 'play' icon or select the cell and hit `SHIFT-ENTER` on your keyboard. \n",
    "\n",
    "Try running the cell below that says `2 + 2`."
   ]
  },
  {
   "cell_type": "code",
   "execution_count": null,
   "metadata": {
    "id": "DRiJg5lzrt3S"
   },
   "outputs": [],
   "source": [
    "2 + 2"
   ]
  },
  {
   "cell_type": "markdown",
   "metadata": {},
   "source": [
    "### What to use for non-public data?\n",
    "\n",
    "There are alternatives to Google Colab that organize text and Python code in blocks. These are called notebooks. \n",
    "\n",
    "**Jupyter Notebooks**. The most common tool to run Python code in notebooks on your own computer is called _Jupyter Notebooks_. You can install _Jupyter Notebooks_ on your computer where you read data and other files directly from your computer such that no files needs to be shared over a server owned by Google. \n",
    "\n",
    "On WB computers, the consensus seems to be that the easiest way to install and use Python is by requesting ITS to install Anaconda (https://www.anaconda.com/) for you.\n",
    "\n",
    "**Databricks**. If you want to have a collaborative space in the cloud that is still approved at the WB for non-public data you can use Databricks. Databricks is also a notebook-styled Python interface. An instance in Databricks can be made more computatonally powerful than what you will ever need. \n",
    "\n",
    "In the following sessions you will be given the option to open the sessions in a WB hosted databricks session where you can share non-public data."
   ]
  },
  {
   "cell_type": "markdown",
   "metadata": {
    "id": "uNC6KMQTrt3T"
   },
   "source": [
    "# S1.0 - Variables\n",
    "\n",
    "So atoms, containers and objects are the types of data or information we can have. But we need a way to identify each piece of data or information. For this we use variables.\n",
    "\n",
    "All variables consist of three things:\n",
    "\n",
    "* The name of the variable so it can be uniquely identified and accessed\n",
    "* The \"*type*\" of the information stored (atom, container or object) \n",
    "* The information/data that the variable holds\n",
    "\n",
    "Variables are only stored in temporary memory, \n",
    "so when restarting Python, \n",
    "you need to recreate them by running your code again.\n",
    "\n",
    "(**For Stata users:** In Stata, \n",
    "\"variable\" always means a column in a dataset. \n",
    "Variables in Python behave more like a `local` in Stata.)"
   ]
  },
  {
   "cell_type": "code",
   "execution_count": null,
   "metadata": {
    "id": "oRNy7uX5rt3T"
   },
   "outputs": [],
   "source": [
    "# Create variables with the name hw and number\n",
    "text_variable = 'Hello World'\n",
    "number_variable = 42"
   ]
  },
  {
   "cell_type": "code",
   "execution_count": null,
   "metadata": {
    "id": "rTV2EwMFrt3U"
   },
   "outputs": [],
   "source": [
    "# Access the variables with the name hw and number\n",
    "# and then print the information they store\n",
    "print(text_variable)\n",
    "print(number_variable)"
   ]
  },
  {
   "cell_type": "markdown",
   "metadata": {},
   "source": [
    "Where is a variable saved? Variables are only stored in the RAM memory. RAM memory is very fast, but is cleared each time you restart python. So this memory is only for work-in-progress variables.\n",
    "\n",
    "If you need to save data in a variable to a file then you need to save to disk memory. This allows the data to be accessed by other programs and the data will still be there next time you start Python.\n",
    "\n",
    "This is the same no matter if you use Google Colab on a Google server, Jupyter Notebooks on your computer, or Databricks on a World Bank server. We will cover how to save to disk memory later."
   ]
  },
  {
   "cell_type": "markdown",
   "metadata": {
    "id": "qx20-vSBrt3U"
   },
   "source": [
    "# S2.0 The basic data types\n",
    "\n",
    "These 5 basic types are the types you are ever likely to use:\n",
    "\n",
    "| Class name | Full name      | Name used       | Usage                             |\n",
    "|:---        |:---            |:---             | :---                              |\n",
    "| int        | Integer        | \"int\"/\"integer\" | Number without decimal point      |\n",
    "| float      | Floating point | \"float\"         | Number with decimal point         |\n",
    "| str        | String         | \"string\"        | Text                              |\n",
    "| bool       | Boolean        | \"boolean\"       | Either true or false              |\n",
    "| none       | None           | \"none\"          | An explicit way of saying nothing |\n",
    "\n",
    "Any information in Python you will ever interact with is a combination of these types.\n",
    "This is similar to how tiny simple atoms in real life\n",
    "can be combined to the most wonderful complex life forms.\n",
    "This is why we in this training refer to\n",
    "**the basic data types as the _atoms of Python_.**"
   ]
  },
  {
   "cell_type": "markdown",
   "metadata": {
    "id": "gKOul9Mzrt3U"
   },
   "source": [
    "## S2.1 Numeric variables\n",
    "\n",
    "**Define a numeric variable:**"
   ]
  },
  {
   "cell_type": "code",
   "execution_count": null,
   "metadata": {
    "id": "DmiUEgFXrt3U"
   },
   "outputs": [],
   "source": [
    "# Assign the value 6 to a variable we name x\n",
    "x = 6"
   ]
  },
  {
   "cell_type": "markdown",
   "metadata": {
    "id": "F-LLxx5Grt3V"
   },
   "source": [
    "Now somewhere in memory there is a variable with the name `x` that currently stores the value 6.\n",
    "\n",
    "We can reference this variable until we explicitly delete it or restart our Python session."
   ]
  },
  {
   "cell_type": "code",
   "execution_count": null,
   "metadata": {
    "id": "XxnTUoGIrt3V"
   },
   "outputs": [],
   "source": [
    "# We can output the value by calling it \n",
    "x"
   ]
  },
  {
   "cell_type": "markdown",
   "metadata": {
    "id": "5x2H5BOxrt3V"
   },
   "source": [
    "**Ex. 1a:** (example excercise - do together)"
   ]
  },
  {
   "cell_type": "code",
   "execution_count": null,
   "metadata": {
    "id": "472-QjRbrt3V"
   },
   "outputs": [],
   "source": [
    "# Create a variable called ex1_x and set it to the value 5\n",
    "\n",
    "### ADD YOUR CODE HERE\n",
    "\n",
    "# === Do not modify code below ===\n",
    "assert ex1_x == 5"
   ]
  },
  {
   "cell_type": "markdown",
   "metadata": {
    "id": "IANbP1f1rt3V"
   },
   "source": [
    "**Do math using a variable:**"
   ]
  },
  {
   "cell_type": "code",
   "execution_count": null,
   "metadata": {
    "id": "X2XvtajXrt3V"
   },
   "outputs": [],
   "source": [
    "# Take the value in x and output that value plus 1\n",
    "x + 1"
   ]
  },
  {
   "cell_type": "code",
   "execution_count": null,
   "metadata": {
    "id": "eTl9XjSNrt3V"
   },
   "outputs": [],
   "source": [
    "# The value of x is still 6\n",
    "x"
   ]
  },
  {
   "cell_type": "code",
   "execution_count": null,
   "metadata": {
    "id": "1DjxrNaJrt3V"
   },
   "outputs": [],
   "source": [
    "# To update the variable x we need to overwrite it with a new value\n",
    "# Assign x + 1 to x and output it\n",
    "x = x + 1  # NOTE: this OVERWRITES the variable x\n",
    "x"
   ]
  },
  {
   "cell_type": "markdown",
   "metadata": {
    "id": "GOJ57kQsrt3W"
   },
   "source": [
    "Note that we can only output a variable if it is by itself on the last line in a cell. We will soon learn how to _print_ a variable where this is not the case and where we have more options.\n",
    "\n",
    "---\n",
    "**Important error message: NameError**\n",
    "\n",
    "Whenever you see an error where it says \"not defined\", as in `NameError: name 'z' is not defined`, then it means that you have tried to reference a variable `z` but that there is no variable with that name."
   ]
  },
  {
   "cell_type": "code",
   "execution_count": null,
   "metadata": {
    "id": "bzje-Qmhrt3W"
   },
   "outputs": [],
   "source": [
    "x = z + 4"
   ]
  },
  {
   "cell_type": "markdown",
   "metadata": {
    "id": "bvUu-bBYrt3W"
   },
   "source": [
    "**More math and using multiple variables:**"
   ]
  },
  {
   "cell_type": "code",
   "execution_count": null,
   "metadata": {
    "id": "mEm179INrt3W"
   },
   "outputs": [],
   "source": [
    "# Reset x to 6\n",
    "x = 6"
   ]
  },
  {
   "cell_type": "code",
   "execution_count": null,
   "metadata": {
    "id": "fRvmUCtVrt3W"
   },
   "outputs": [],
   "source": [
    "# Define a second variable - this time with a longer name\n",
    "my_long_variable_name = 2"
   ]
  },
  {
   "cell_type": "code",
   "execution_count": null,
   "metadata": {
    "id": "wIrg_D0irt3W"
   },
   "outputs": [],
   "source": [
    "# Adding two variables together\n",
    "x + my_long_variable_name"
   ]
  },
  {
   "cell_type": "code",
   "execution_count": null,
   "metadata": {
    "id": "rNOgSG8Rrt3W"
   },
   "outputs": [],
   "source": [
    "# Subtracting x from my_long_variable_name\n",
    "x - my_long_variable_name"
   ]
  },
  {
   "cell_type": "code",
   "execution_count": null,
   "metadata": {
    "id": "MWKwJZzert3W"
   },
   "outputs": [],
   "source": [
    "# Multiplying x with my_long_variable_name\n",
    "x * my_long_variable_name"
   ]
  },
  {
   "cell_type": "markdown",
   "metadata": {
    "id": "S3DJcp4Brt3W"
   },
   "source": [
    "Here is a table of the most common mathematical operators:\n",
    "\n",
    "| Symbol | Operation      | Example     |\n",
    "|:---:   |:---            |:---         |\n",
    "| +      | Addition       | 6+2 = 8   |\n",
    "| -      | Subtraction    | 6-2 = 4   |\n",
    "| *      | Multiplication | 6*2 = 12  |\n",
    "| /      | Division       | 6/2 = 3   |\n",
    "| **     | Power of       | 6**2 = 36 |\n",
    "| %      | Modulus        | 6%2 = 0 , 6%4 = 2 |\n",
    "| //     | Floor division | 6%2 = 3 , 6%4 = 1 |\n",
    "\n",
    "See full list of mathematical operators here: https://www.w3schools.com/python/python_operators.asp\n",
    "\n",
    "---\n",
    "\n",
    "If we want to save the result of a mathematical operation we need to store it in a variable. Either in a new variable or by overwriting an existing one.\n",
    "\n",
    "Only variables left of the assignment operator `=` are modified. If there is no `=` then no variable is modified from a mathematical operator."
   ]
  },
  {
   "cell_type": "code",
   "execution_count": null,
   "metadata": {
    "id": "mpKLcFHTrt3W"
   },
   "outputs": [],
   "source": [
    "# Create a new variable that is x multiplied by my_long_variable_name\n",
    "y = x * my_long_variable_name\n",
    "\n",
    "# Create a new variable that is the sum of x and my_long_variable_name\n",
    "z = x + my_long_variable_name"
   ]
  },
  {
   "cell_type": "markdown",
   "metadata": {
    "id": "T7w_3Lgwrt3W"
   },
   "source": [
    "If we want to print multiple variables in the same cell we need to use `print()`"
   ]
  },
  {
   "cell_type": "code",
   "execution_count": null,
   "metadata": {
    "id": "vMwdPGfQrt3W"
   },
   "outputs": [],
   "source": [
    "# Print the variables one at the time\n",
    "print(x)\n",
    "print(my_long_variable_name)\n",
    "print(y)\n",
    "print(z)"
   ]
  },
  {
   "cell_type": "code",
   "execution_count": null,
   "metadata": {
    "id": "NRzg1zyYrt3W"
   },
   "outputs": [],
   "source": [
    "# Print all variables at on the same line\n",
    "print(x, my_long_variable_name, y, z)"
   ]
  },
  {
   "cell_type": "code",
   "execution_count": null,
   "metadata": {
    "id": "xOYRV3Dert3W"
   },
   "outputs": [],
   "source": [
    "# You can also print the results of an operation\n",
    "print(12 * 89)\n",
    "print(y - 20)"
   ]
  },
  {
   "cell_type": "code",
   "execution_count": null,
   "metadata": {
    "id": "10PKFQ_Drt3X"
   },
   "outputs": [],
   "source": [
    "# You can combine printing and output\n",
    "print(y - 20)\n",
    "5 ** 3"
   ]
  },
  {
   "cell_type": "markdown",
   "metadata": {
    "id": "H9jUv-VVrt3X"
   },
   "source": [
    "Since incrementing a variable with a value, such as in `x = x + 1`, is such a common action, there is a short hand for it that is `x += 1`\n",
    "\n",
    "See what other operators you can use like this here: https://www.w3schools.com/python/python_operators.asp"
   ]
  },
  {
   "cell_type": "code",
   "execution_count": null,
   "metadata": {
    "id": "W0S7wZqyrt3X"
   },
   "outputs": [],
   "source": [
    "count_matches = 5\n",
    "count_matches += 2 # This is identical to: \"count_matches = count_matches + 2\"\n",
    "print(count_matches)"
   ]
  },
  {
   "cell_type": "markdown",
   "metadata": {
    "id": "EU77h60Srt3X"
   },
   "source": [
    "**Ex. 2a** (do ex 2a, 2b and 2c independently ~ 5 min)"
   ]
  },
  {
   "cell_type": "code",
   "execution_count": null,
   "metadata": {
    "id": "6juLq6b1rt3X"
   },
   "outputs": [],
   "source": [
    "# Create two variables ex2_x and ex2_y. Set ex2_x to 3 and ex2_y to 5.\n",
    "\n",
    "### ADD YOUR CODE HERE\n",
    "\n",
    "# === Do not modify code below ===\n",
    "assert ex2_x == 3 and ex2_y == 5"
   ]
  },
  {
   "cell_type": "markdown",
   "metadata": {
    "id": "7qKXZcQJrt3X"
   },
   "source": [
    "**Ex. 2b**"
   ]
  },
  {
   "cell_type": "code",
   "execution_count": null,
   "metadata": {
    "id": "z3E602VKrt3X"
   },
   "outputs": [],
   "source": [
    "# Multiply ex2_x with ex2_y and save the result in a new variable ex2_z\n",
    "\n",
    "### ADD YOUR CODE HERE\n",
    "\n",
    "# === Do not modify code below ===\n",
    "assert ex2_z == 15"
   ]
  },
  {
   "cell_type": "markdown",
   "metadata": {
    "id": "zYW5EcYert3X"
   },
   "source": [
    "**Ex. 2c**"
   ]
  },
  {
   "cell_type": "code",
   "execution_count": null,
   "metadata": {
    "id": "sAHvzbxhrt3X"
   },
   "outputs": [],
   "source": [
    "# Update the variable ex2_z by subtracting ex2_x from it\n",
    "# (Hint: re-run the cells above if/when needed)\n",
    "\n",
    "### ADD YOUR CODE HERE\n",
    "\n",
    "# === Do not modify code below ===\n",
    "assert ex2_z == 12"
   ]
  },
  {
   "cell_type": "markdown",
   "metadata": {
    "id": "0J6uStIirt3X"
   },
   "source": [
    "## S2.2 Two basic types of numeric variables\n",
    "\n",
    "There are two types of numeric basic data types:\n",
    "\n",
    "| Class name | Full name      | Name used       | Usage                        |\n",
    "|:---        |:---            |:---             | :---                         |\n",
    "| int        | Integer        | \"int\"/\"integer\" | Number without decimal point |\n",
    "| float      | Floating point | \"float\"         | Number with decimal point    |\n",
    "\n",
    "\n",
    "`int` is more memory efficient but cannot store decimal points. \n",
    "Python will pick `int` for you \n",
    "unless your variable must be a `float` to store your data without information loss.\n",
    "\n",
    "Read more about `int` and `float` here: https://www.w3schools.com/python/python_numbers.asp\n",
    "\n",
    "---\n",
    "\n",
    "You can test which type your numeric variable using `type()`"
   ]
  },
  {
   "cell_type": "code",
   "execution_count": null,
   "metadata": {
    "id": "BVxOy5-Srt3X"
   },
   "outputs": [],
   "source": [
    "# Numeric variables assigned a number WITHOUT decimal point are created as an int\n",
    "x = 3\n",
    "print(type(x))\n",
    "type(x)"
   ]
  },
  {
   "cell_type": "code",
   "execution_count": null,
   "metadata": {
    "id": "oj1Jh6MGrt3X"
   },
   "outputs": [],
   "source": [
    "# Numeric variables assigned a number WITH decimal points are created as a float\n",
    "pi = 3.141592\n",
    "print(type(pi))"
   ]
  },
  {
   "cell_type": "code",
   "execution_count": null,
   "metadata": {
    "id": "Yw131fDsrt3X"
   },
   "outputs": [],
   "source": [
    "# Python automatically assignes the appropriate type\n",
    "diameter = 10\n",
    "print(diameter, type(diameter))\n",
    "\n",
    "#The result of division is always a float\n",
    "radius = diameter / 2\n",
    "print(radius, type(radius))"
   ]
  },
  {
   "cell_type": "code",
   "execution_count": null,
   "metadata": {
    "id": "v7mU0bb2rt3X"
   },
   "outputs": [],
   "source": [
    "#The result of an operation with float and an int is always a float\n",
    "radius = 5\n",
    "circumference = pi * (radius)\n",
    "print(radius, type(radius))\n",
    "print(circumference, type(circumference))"
   ]
  },
  {
   "cell_type": "code",
   "execution_count": null,
   "metadata": {
    "id": "O5vP3Hkzrt3X"
   },
   "outputs": [],
   "source": [
    "# you can force a float to be an int - it rounds down the closest int\n",
    "# NOTE: This leads to information loss about the decimal points\n",
    "y = int(7.25)\n",
    "print(y, type(y))"
   ]
  },
  {
   "cell_type": "code",
   "execution_count": null,
   "metadata": {},
   "outputs": [],
   "source": [
    "# This is not rounding, it just takes the integer part of the float\n",
    "# and drops the decimal - rounding exists but its not int()\n",
    "z = int(7.99999)\n",
    "print(y, type(y))"
   ]
  },
  {
   "cell_type": "code",
   "execution_count": null,
   "metadata": {},
   "outputs": [],
   "source": [
    "# Python changes the type if needed\n",
    "salary = 17\n",
    "print(salary, type(salary))\n",
    "#increase for inflation\n",
    "salary = salary * 1.05\n",
    "print(salary, type(salary))"
   ]
  },
  {
   "cell_type": "markdown",
   "metadata": {
    "id": "5epfdwSart3X"
   },
   "source": [
    "**Ex. 3a** (do ex 3a, 3b and 3c independently ~ 5 min)\n",
    "\n",
    "_Hint:_ Mathematical operators: https://www.w3schools.com/python/python_operators.asp"
   ]
  },
  {
   "cell_type": "code",
   "execution_count": null,
   "metadata": {
    "id": "0cLHB5ewrt3X"
   },
   "outputs": [],
   "source": [
    "# Create a variable ex3_x that is a 13 to the power of 12\n",
    "\n",
    "### ADD YOUR CODE HERE\n",
    "\n",
    "# === Do not modify code below ===\n",
    "assert ex3_x == 23298085122481"
   ]
  },
  {
   "cell_type": "markdown",
   "metadata": {
    "id": "LyCy3kNIrt3Y"
   },
   "source": [
    "**Ex. 3b**"
   ]
  },
  {
   "cell_type": "code",
   "execution_count": null,
   "metadata": {
    "id": "_T15Nfs_rt3Y"
   },
   "outputs": [],
   "source": [
    "# Create a variable ex3_y that is \n",
    "# the remainder when dividing ex3_x with 17\n",
    "\n",
    "### ADD YOUR CODE HERE\n",
    "\n",
    "# === Do not modify code below ===\n",
    "assert ex3_y == 1"
   ]
  },
  {
   "cell_type": "markdown",
   "metadata": {
    "id": "yDoY71d6rt3Y"
   },
   "source": [
    "**Ex. 3c**"
   ]
  },
  {
   "cell_type": "code",
   "execution_count": null,
   "metadata": {
    "id": "XQEZ__4Mrt3Y"
   },
   "outputs": [],
   "source": [
    "# Create a variable ex3_z that is a float with the value three\n",
    "# (The solution has not been mentioned explicitly)\n",
    "\n",
    "### ADD YOUR CODE HERE\n",
    "\n",
    "# === Do not modify code below ===\n",
    "assert hash(ex3_z) == 3 and type(ex3_z) is float"
   ]
  },
  {
   "cell_type": "markdown",
   "metadata": {
    "id": "tA0YSxZ4rt3Y"
   },
   "source": [
    "## S2.3 Text variables - basic type: string\n",
    "\n"
   ]
  },
  {
   "cell_type": "markdown",
   "metadata": {
    "id": "9PoULaxkrt3Y"
   },
   "source": [
    "There is only one basic data type for text, and it is called \"string\".\n",
    "\n",
    "| Class name | Full name      | Name used       | Usage                        |\n",
    "|:---        |:---            |:---             | :---                         |\n",
    "| str        | String         | \"string\"        | Text                         |\n",
    "\n",
    "The text in a string could be anything from a single letter or word, to a full-length text like an essay. \n",
    "\n",
    "---\n",
    "\n",
    "**Define a string variable**"
   ]
  },
  {
   "cell_type": "code",
   "execution_count": null,
   "metadata": {
    "id": "d-DJ2Vq_rt3Y"
   },
   "outputs": [],
   "source": [
    "# Assign the text Hello World! to both variable a and b\n",
    "\n",
    "# We can use either \" or ' to tell where the text starts and ends so python does not confuse it for code\n",
    "a = \"Hello world!\"\n",
    "b = 'Hello world!'\n",
    "\n",
    "print(a, type(a))\n",
    "print(b, type(b))"
   ]
  },
  {
   "cell_type": "markdown",
   "metadata": {
    "id": "350j4hU7rt3Y"
   },
   "source": [
    "We must use either `\"\"` or `''` for each string, we cannot mix. It only rarely matters which one we use."
   ]
  },
  {
   "cell_type": "code",
   "execution_count": null,
   "metadata": {
    "id": "0DoM7A2lrt3Y"
   },
   "outputs": [],
   "source": [
    "# We can use either \"\" when the text includes one or several '\n",
    "a = \"Strings are Python's way to store text\"\n",
    "\n",
    "# We can use either '' when the text includes one or several \"\n",
    "b = 'Python is the \"bestest\" programming language'\n",
    "\n",
    "print(a, type(a))\n",
    "print(b, type(b))"
   ]
  },
  {
   "cell_type": "markdown",
   "metadata": {
    "id": "zo-KVm5Grt3Y"
   },
   "source": [
    "**Simple string operations:**\n",
    "\n",
    "Some math operators work on strings as well"
   ]
  },
  {
   "cell_type": "code",
   "execution_count": null,
   "metadata": {
    "id": "A5yturZYrt3Y"
   },
   "outputs": [],
   "source": [
    "a = 'hello'\n",
    "b = 'world'\n",
    "\n",
    "# Addition and multiplication work on strings (but not subtraction and division)\n",
    "c = a + ' ' + b + '!'\n",
    "d = a * 3\n",
    "\n",
    "print(c, type(c))\n",
    "print(d, type(d))"
   ]
  },
  {
   "cell_type": "code",
   "execution_count": null,
   "metadata": {
    "id": "DpuDlj_7rt3Y"
   },
   "outputs": [],
   "source": [
    "# Now when we know strings, we can add a string \n",
    "# to the print function to \n",
    "# keep track of what we are printing\n",
    "print('Variable c:', c, type(c))\n",
    "print('Variable d:', d, type(d))\n",
    "c\n",
    "d"
   ]
  },
  {
   "cell_type": "markdown",
   "metadata": {
    "id": "xkmKNYr2rt3Y"
   },
   "source": [
    "**Ex. 4a** (do ex 4a, 4b independently ~ 10 min)"
   ]
  },
  {
   "cell_type": "code",
   "execution_count": null,
   "metadata": {
    "id": "IBsDhuotrt3Y"
   },
   "outputs": [],
   "source": [
    "# Create a variable ex4_x that is a string with the word World\n",
    "# and a variable ex4_y that is a string with the word Bank\n",
    "\n",
    "### ADD YOUR CODE HERE\n",
    "\n",
    "# === Do not modify code below ===\n",
    "assert ex4_x == 'World' and ex4_y == 'Bank'"
   ]
  },
  {
   "cell_type": "markdown",
   "metadata": {
    "id": "S4DhVbPwrt3Y"
   },
   "source": [
    "**Ex. 4b**"
   ]
  },
  {
   "cell_type": "code",
   "execution_count": null,
   "metadata": {
    "id": "ycbC4IwDrt3Y"
   },
   "outputs": [],
   "source": [
    "# Create a variable ex4_z that use ex4_x and ex4_y \n",
    "# to create the word World Bank\n",
    "\n",
    "### ADD YOUR CODE HERE\n",
    "\n",
    "# === Do not modify code below ===\n",
    "assert ex4_z == 'World Bank'"
   ]
  },
  {
   "cell_type": "markdown",
   "metadata": {},
   "source": [
    "## S2.4 Methods\n",
    "\n",
    "Atoms, containers and objects can all hold different types of information. \n",
    "But Python wouldn't be that useful if we cannot do anything to the information they hold.\n",
    "\n",
    "Each type of atom, container and object comes with actions design for that type.\n",
    "Such **actions specific to a type are called _methods_**. \n",
    "\n",
    "_All variables consist of three things:_\n",
    "\n",
    "* The name of the variable so it can be uniquely identified and accessed\n",
    "* The \"*type*\" - what type of atom, container or object \n",
    "    * What data that type can store\n",
    "    * What methods (if any) that this type comes with\n",
    "* The information/data that the variable actually stores\n",
    "\n",
    "A method is applied to the data in a variable like this `x.method()`. \n",
    "A method can be something simple like making a `str` upper case, \n",
    "or something extremely advanced as running a machine learning module. \n",
    "\n",
    "---"
   ]
  },
  {
   "cell_type": "markdown",
   "metadata": {
    "id": "SqHjJP-Wrt3Y"
   },
   "source": [
    "**String methods:**\n",
    "\n",
    "Strings is the only Python atom with methods. Upper/lower case, replace letters, remove excessive spaces etc.\n",
    "\n",
    "You can read about all string methods here: https://www.w3schools.com/python/python_ref_string.asp"
   ]
  },
  {
   "cell_type": "code",
   "execution_count": null,
   "metadata": {
    "id": "2vHqEqQirt3Y"
   },
   "outputs": [],
   "source": [
    "# Define a new string\n",
    "a = 'Hello world!'\n",
    "print(a, type(a))"
   ]
  },
  {
   "cell_type": "code",
   "execution_count": null,
   "metadata": {
    "id": "CsF00Q4Rrt3Y"
   },
   "outputs": [],
   "source": [
    "# Print the result of the method directly\n",
    "print(a.upper())"
   ]
  },
  {
   "cell_type": "code",
   "execution_count": null,
   "metadata": {
    "id": "OU9bVsYsrt3Z"
   },
   "outputs": [],
   "source": [
    "# Store the results of upper() in new variable and then print\n",
    "a_upper = a.upper()\n",
    "print(a_upper,type(a_upper))"
   ]
  },
  {
   "cell_type": "code",
   "execution_count": null,
   "metadata": {
    "id": "KRVndIKWrt3Z"
   },
   "outputs": [],
   "source": [
    "# Lower case\n",
    "a.lower()\n",
    "print(a,type(a)) # Why is there still a capital \"H\" in the output?"
   ]
  },
  {
   "cell_type": "code",
   "execution_count": null,
   "metadata": {
    "id": "g_dfweJart3Z"
   },
   "outputs": [],
   "source": [
    "# Relace letters in a string\n",
    "a_all_i = a.replace('o', 'i')\n",
    "a_one_i = a.replace('o', 'i', 1)\n",
    "\n",
    "print('a_all_i:',a_all_i,type(a_all_i))\n",
    "print('a_one_i:',a_one_i,type(a_one_i))"
   ]
  },
  {
   "cell_type": "markdown",
   "metadata": {
    "id": "k5F_pPg7rt3Z"
   },
   "source": [
    "---\n",
    "\n",
    "Methods are different from operators (`+`, `-`) that we used with numbers. \n",
    "In addition to methods, each type can have support for these operators.\n",
    "\n",
    "`int` and `float` does not have any methods, they only have support for operators.\n",
    "`str` has method and support for some operators.\n",
    "\n",
    "When you are concatenating strings (combining) you can use the `+` operator.\n"
   ]
  },
  {
   "cell_type": "code",
   "execution_count": null,
   "metadata": {
    "id": "QBW3JW1xrt3Z"
   },
   "outputs": [],
   "source": [
    "name = \"Frodo Baggins\"\n",
    "age = 51"
   ]
  },
  {
   "cell_type": "code",
   "execution_count": null,
   "metadata": {
    "id": "u5mWv8bOrt3Z"
   },
   "outputs": [],
   "source": [
    "str_concat = \"His name is \" + name + \" and his age is \" + str(age) + \".\"\n",
    "print(str_concat)"
   ]
  },
  {
   "cell_type": "markdown",
   "metadata": {},
   "source": [
    "---\n",
    "\n",
    "We can also use the `.format()` method to achieve this.\n",
    "\n",
    "In this example we have the string `\"His name is {} and his age is {}.\"`\n",
    "and we are using the `.format()` method to populate the two `{}` placeholders.\n",
    "\n",
    "This method is designed to identify an `int` and how to turn the `int` into\n",
    "a `str` without you having to think about it."
   ]
  },
  {
   "cell_type": "code",
   "execution_count": null,
   "metadata": {},
   "outputs": [],
   "source": [
    "str_format = \"His name is {} and his age is {}.\".format(name,age)\n",
    "print(str_format)"
   ]
  },
  {
   "cell_type": "markdown",
   "metadata": {},
   "source": [
    "---\n",
    "\n",
    "The `.format()` works for shorter strings, but for longer strings and \n",
    "paragraphs of text where only a few words should be dynamically populated \n",
    "the better option is an `f-string`. \n",
    "\n",
    "We won't cover what an `f-string` is, \n",
    "but all you need to know is how to recognize it."
   ]
  },
  {
   "cell_type": "code",
   "execution_count": null,
   "metadata": {
    "id": "_yRUWt6Xrt3Z"
   },
   "outputs": [],
   "source": [
    "str_fstr = f\"His name is {name} and his age is {age}.\"\n",
    "print(str_fstr)"
   ]
  },
  {
   "cell_type": "markdown",
   "metadata": {
    "id": "H0VOzSQZrt3Z"
   },
   "source": [
    "**Important error message: AttributeError**\n",
    "\n",
    "Whenever you see an error where it says \"has no attribute\", as in `AttributeError: 'int' object has no attribute 'upper'`, then it means that the type `int` does not have a method or attribute called `upper`. \n",
    "\n",
    "Attribute is something similar to a method but attributes only return some meta data about a variable, and is not able to change the data in the variable.\n",
    "\n",
    "If you get an AttributeError, test if you have misspelled the method/attribute or if the variable is of a different type than you expected. Below we get this error as we are using a `str` method on an `int` type variable."
   ]
  },
  {
   "cell_type": "code",
   "execution_count": null,
   "metadata": {
    "id": "pWOdl5SKrt3Z"
   },
   "outputs": [],
   "source": [
    "x = 4\n",
    "x = x.upper()"
   ]
  },
  {
   "cell_type": "markdown",
   "metadata": {
    "id": "vEdeacG-rt3Z"
   },
   "source": [
    "**Ex. 5a** (do ex 5a and 5b independently ~ 10 min)"
   ]
  },
  {
   "cell_type": "code",
   "execution_count": null,
   "metadata": {
    "id": "p2Lks-bMrt3Z",
    "scrolled": true
   },
   "outputs": [],
   "source": [
    "# Use a string method on the variable p already provided,\n",
    "# to create a variable ex5_x with the string \"PYTHON\"\n",
    "\n",
    "p = 'Python'\n",
    "\n",
    "### ADD YOUR CODE HERE\n",
    "\n",
    "# === Do not modify code below ===\n",
    "assert ex5_x == 'PYTHON'"
   ]
  },
  {
   "cell_type": "markdown",
   "metadata": {
    "id": "s2TZmTW2rt3Z"
   },
   "source": [
    "**Ex. 5b**\n",
    "\n",
    "_Hint_: https://www.w3schools.com/python/python_ref_string.asp"
   ]
  },
  {
   "cell_type": "code",
   "execution_count": null,
   "metadata": {
    "id": "EtrVGdFnrt3Z"
   },
   "outputs": [],
   "source": [
    "# Use the variable ex5_x from ex 5a.\n",
    "# Use a method to create the string \"Python\"\n",
    "# (The solution has not been mentioned explicitly)\n",
    "\n",
    "### ADD YOUR CODE HERE\n",
    "\n",
    "# === Do not modify code below ===\n",
    "assert ex5_y == 'Python'"
   ]
  },
  {
   "cell_type": "markdown",
   "metadata": {
    "id": "x-zdxqIGrt3a"
   },
   "source": [
    "## S2.5 True/False variables - basic type: boolean\n",
    "\n",
    "| Class name | Full name      | Name used       | Usage                        |\n",
    "|:---        |:---            |:---             | :---                         |\n",
    "| bool       | Boolean        | \"boolean\"       | Either true or false         |\n",
    "\n",
    "Boolean is the atom in Python. Session 2 will discuss common usages of them. This session only covers how to identify them as you will see them often in Python.\n",
    "\n",
    "### Examples of usage of booleans\n",
    "\n",
    "* **Method responses**: So far we have only used string methods that have returned new strings. `upper()`, `lower()`, `replace()` etc. Many methods returns booleans instead, such as `isnumeric()`, `islower()` etc.\n",
    "* **If-conditions**: They are excellent to use to control if-else conditions.\n",
    "\n",
    "---\n",
    "\n"
   ]
  },
  {
   "cell_type": "code",
   "execution_count": null,
   "metadata": {
    "id": "ywuA9QrQrt3a"
   },
   "outputs": [],
   "source": [
    "# Generate a boolean\n",
    "a = True\n",
    "b = False\n",
    "\n",
    "# Print the variables\n",
    "print('Variable a:', a, type(a))\n",
    "print('Variable b:', b, type(b))"
   ]
  },
  {
   "cell_type": "code",
   "execution_count": null,
   "metadata": {},
   "outputs": [],
   "source": [
    "# Get a boolean from a method\n",
    "\n",
    "# Create a variable that is a string of a number\n",
    "c = \"42\"\n",
    "d = c.isnumeric()\n",
    "\n",
    "# Print the variables\n",
    "print('Variable c:', c, type(c))\n",
    "print('Variable d:', d, type(d))"
   ]
  },
  {
   "cell_type": "markdown",
   "metadata": {},
   "source": [
    "## S2.6 The None type - a variable exists but it contains nothing\n",
    "\n",
    "| Class name | Full name      | Name used       | Usage                             |\n",
    "|:---        |:---            |:---             | :---                              |\n",
    "| none       | None           | \"none\"          | An explicit way of saying nothing |\n",
    "\n",
    "Sometimes we want to have a variable even if that variable is empty. \n",
    "This will prevent `NameError` due to a variable not existing, even when there is no information to store in that variable."
   ]
  },
  {
   "cell_type": "code",
   "execution_count": null,
   "metadata": {},
   "outputs": [],
   "source": [
    "name = \"Frodo Baggins\"\n",
    "age = 51\n",
    "\n",
    "print(f\"{name} (age {age}) is employed by {employer}\")"
   ]
  },
  {
   "cell_type": "code",
   "execution_count": null,
   "metadata": {},
   "outputs": [],
   "source": [
    "# Frodo is unemployed\n",
    "employer = None\n",
    "print(\"employer\",employer,type(employer))\n",
    "print(f\"{name} (age {age}) is employed by {employer}\")\n",
    "\n",
    "# Fordoe gets a job at the World Bank\n",
    "employer = \"World Bank\"\n",
    "print(\"employer\",employer,type(employer))\n",
    "print(f\"{name} (age {age}) is employed by {employer}\")"
   ]
  },
  {
   "cell_type": "markdown",
   "metadata": {
    "id": "zmQD9Ad7rt3b"
   },
   "source": [
    "## S2.7 Basic data types summary\n",
    "\n",
    "* The only way to store data in Python\n",
    "* Stored in a variable with a name and type\n",
    "* Which operations (`+`, `-`, etc..) or methods (`.upper()`) you can use depends on the type\n",
    "\n",
    "**Important errors**\n",
    "\n",
    "| Error name         | Likely reason for the error | \n",
    "|:---                |:---                     |\n",
    "| **NameError**      | You have a typo when referencing a variable or you try to reference a variable before it is created | \n",
    "| **AttributeError** | You have used a method or an attribute on a type where that method or attributed does not exist | \n",
    "\n"
   ]
  },
  {
   "cell_type": "markdown",
   "metadata": {},
   "source": [
    "## S3.0 Functions and summary of operators and methods\n",
    "\n",
    "### S3.1 Functions\n",
    "\n",
    "Python has some built in functions. Functions are like methods an action. But when methods is added to a variable, like `x.method()`, you use a function directly in your code. \n",
    "\n",
    "You have already seen the functions `print()` and `type()`. \n",
    "They accept any type of variable. Some functions do not work on every type."
   ]
  },
  {
   "cell_type": "code",
   "execution_count": null,
   "metadata": {},
   "outputs": [],
   "source": [
    "#Define two strings and one int\n",
    "str_a = \"Frodo\"\n",
    "str_b = \"Gandalf\"\n",
    "int_a = 51\n",
    "\n",
    "# Start by printing them\n",
    "print('str_a:',str_a,type(str_a))\n",
    "print('str_b:',str_b,type(str_b))\n",
    "print('int_a:',int_a,type(int_a))"
   ]
  },
  {
   "cell_type": "markdown",
   "metadata": {},
   "source": [
    "The function `len()` is used to get the length of a variable.\n",
    "For a string that is the number of characters."
   ]
  },
  {
   "cell_type": "code",
   "execution_count": null,
   "metadata": {},
   "outputs": [],
   "source": [
    "print('Number of charcters in',str_a,\":\",len(str_a))\n",
    "print('Number of charcters in',str_b,\":\",len(str_b))"
   ]
  },
  {
   "cell_type": "markdown",
   "metadata": {},
   "source": [
    "What do you think that the length of an `int` is?"
   ]
  },
  {
   "cell_type": "code",
   "execution_count": null,
   "metadata": {
    "scrolled": true
   },
   "outputs": [],
   "source": [
    "print('The lengt of the int',int_a,\"is:\",len(int_a))"
   ]
  },
  {
   "cell_type": "markdown",
   "metadata": {},
   "source": [
    "### S3.2 Summary of the types of \"actions\" you can take on Python data\n",
    "\n",
    "| Action name | Examples      | Description    | Documentation |\n",
    "|:---         |:---           |:---            |:---           |\n",
    "| Operator    | `+`,`-` etc.  | Only used for basic actions. Most common to use with numeric types but works in some cases on other types as well. | https://www.w3schools.com/python/python_operators.asp |\n",
    "| Method      | `x.method()`  | Always specific to a type (does not imply unique to a type). Used to interact with, modify or analyze the data in the variable. | Read the documentation for each  type of atom, container or object.       |\n",
    "| Function    | `function(x)` | Some built in and it is common to make your own (tomorrow's session) | Built-in functions: https://www.w3schools.com/python/python_ref_functions.asp |"
   ]
  },
  {
   "cell_type": "markdown",
   "metadata": {},
   "source": [
    "### S3.3 Where to find documentation for each type or object?\n",
    "\n",
    "For example, what methods does a type have and what do they do?\n"
   ]
  },
  {
   "cell_type": "code",
   "execution_count": null,
   "metadata": {},
   "outputs": [],
   "source": [
    "# Basic information of the type\n",
    "str?"
   ]
  },
  {
   "cell_type": "code",
   "execution_count": null,
   "metadata": {},
   "outputs": [],
   "source": [
    "# If you know the name of method you can use\n",
    "str.upper?"
   ]
  },
  {
   "cell_type": "code",
   "execution_count": null,
   "metadata": {},
   "outputs": [],
   "source": [
    "# A not so user friendly but complete way of listing all attributes and methods that a type has\n",
    "print(dir(str))"
   ]
  },
  {
   "cell_type": "code",
   "execution_count": null,
   "metadata": {},
   "outputs": [],
   "source": [
    "# This is str? and str.method? for all methods in dir(str) into a single output\n",
    "help(str)"
   ]
  },
  {
   "cell_type": "markdown",
   "metadata": {},
   "source": [
    "**But in reality**, most people use this to read the documentation: https://www.google.com/search?q=google+python+str+methods\n",
    "        \n",
    "Python is such a widely used language that there is always someone who has written a great guide for what you need to know, and google helps you find it."
   ]
  },
  {
   "cell_type": "markdown",
   "metadata": {
    "id": "055IXDVmrt3b"
   },
   "source": [
    "# S4.0 - Container types\n",
    "\n",
    "So far we have only covered the atoms of Python.\n",
    "We have not yet introduced how you \n",
    "combine the atoms into more useful molecules.\n",
    "\n",
    "The basic data types `int`, `float`, `str` and `bool` can be combined in **the basic container types**.\n",
    "\n",
    "| Class name | Full name  | Access                      | Occurrence  | Remarks |\n",
    "|:---        |:---        | :---                        | :---        | :---\n",
    "| list       | List       | Access items by order       | Common      | Since we access items by order, the order you add items to a list is important |\n",
    "| dict       | Dictionary | Access items by key         | Common      | Since we access items by key names, the order is not important |\n",
    "| tuple      | Tuple      | Access items by order       | Less common | Very similar to a list, but when created it cannot be modified |\n",
    "| set        | Set        | Test if item already in set | Rare        | A container that cannot hold duplicates |\n",
    "\n",
    "Containers can hold basic data types (atoms) variables\n",
    "as well as other containers variables. \n",
    "You can mix data types and container types if need.\n",
    "Complex variables in Python are created by \n",
    "nesting many layers of container variables.\n",
    "\n",
    "`list`s and `dict`s - \n",
    "we will cover lists and dictionaries properly \n",
    "as you will create and use them a lot. \n",
    "\n",
    "`tuples`s and `set`s - \n",
    "Tuples are often returned from functions and methods\n",
    "so we will cover how to use them. \n",
    "We will only briefly cover sets.\n"
   ]
  },
  {
   "cell_type": "markdown",
   "metadata": {
    "id": "cais7dJ2rt3b"
   },
   "source": [
    "## S4.1 Container types - Lists\n",
    "\n",
    "| Class name | Full name  | Access                      | Occurrence  | Remarks |\n",
    "|:---        |:---        | :---                        | :---        | :---\n",
    "| list       | List       | Access items by order       | Common      | Since we access items by order, the order you add items to a list is important |\n",
    "\n",
    "We can add variables to a list \n",
    "at the time of creating the list \n",
    "or we can add variables later. \n",
    "\n",
    "We access an item in the list by its order.\n",
    "For example, the 3rd item, 7th item etc. \n",
    "\n",
    "However, items are accessed by index, \n",
    "and in computer science index starts on 0 and not 1. \n",
    "So the item with index 1 is actually the second item in the list. \n",
    "\n",
    "---\n",
    "\n",
    "**Create a list:**"
   ]
  },
  {
   "cell_type": "code",
   "execution_count": null,
   "metadata": {
    "id": "6yG55Re2rt3b"
   },
   "outputs": [],
   "source": [
    "# Create a list of ints\n",
    "list_int = [0,1,2,3,4,5,6,7,8,9]\n",
    "print(list_int)"
   ]
  },
  {
   "cell_type": "code",
   "execution_count": null,
   "metadata": {
    "id": "Ng55I2_Crt3b"
   },
   "outputs": [],
   "source": [
    "# Create a list of strings\n",
    "list_str = ['a','b','c']\n",
    "print(list_str)"
   ]
  },
  {
   "cell_type": "code",
   "execution_count": null,
   "metadata": {
    "id": "YSzCMjzdrt3b"
   },
   "outputs": [],
   "source": [
    "# Create a mixed list\n",
    "list_mix = [42,'Arthur',False]\n",
    "print(list_mix)"
   ]
  },
  {
   "cell_type": "code",
   "execution_count": null,
   "metadata": {
    "id": "QUhsOAFJrt3b"
   },
   "outputs": [],
   "source": [
    "# test the type of a list\n",
    "print(type(list_mix))"
   ]
  },
  {
   "cell_type": "markdown",
   "metadata": {
    "id": "ZbdS68bDrt3b"
   },
   "source": [
    "**Access an item in a list**:"
   ]
  },
  {
   "cell_type": "code",
   "execution_count": null,
   "metadata": {
    "id": "GJcjuk6srt3b"
   },
   "outputs": [],
   "source": [
    "# Print list and print each item in the list\n",
    "print('List list_mix:', list_mix, type(list_mix))\n",
    "print('First item (index 0):', list_mix[0], type(list_mix[0]))\n",
    "print('Second item (index 1):', list_mix[1], type(list_mix[1]))\n",
    "print('Third item (index 2):', list_mix[2], type(list_mix[2]))"
   ]
  },
  {
   "cell_type": "code",
   "execution_count": null,
   "metadata": {
    "id": "FJsL14xXrt3b"
   },
   "outputs": [],
   "source": [
    "# Access item in list and store in variable\n",
    "name = list_mix[1]\n",
    "print('Variable name:', name, type(name))"
   ]
  },
  {
   "cell_type": "code",
   "execution_count": null,
   "metadata": {
    "id": "cqPJ1CqKrt3b"
   },
   "outputs": [],
   "source": [
    "# Accessing items using the index does not modify the list\n",
    "print('List list_mix:', list_mix, type(list_mix))"
   ]
  },
  {
   "cell_type": "markdown",
   "metadata": {
    "id": "BrHSLrZtrt3b"
   },
   "source": [
    "**Access multiple items in a list:**"
   ]
  },
  {
   "cell_type": "code",
   "execution_count": null,
   "metadata": {
    "id": "o_fcZFs9rt3b"
   },
   "outputs": [],
   "source": [
    "# Re-create list of ints\n",
    "list_int = [0,1,2,3,4,5,6,7,8,9]"
   ]
  },
  {
   "cell_type": "code",
   "execution_count": null,
   "metadata": {
    "id": "RY1nR1zErt3b"
   },
   "outputs": [],
   "source": [
    "# Get all items between the item with index 0 \n",
    "# up until but not including the item with index 3\n",
    "# 0 ≤ index < 3\n",
    "print(list_int[0:3])"
   ]
  },
  {
   "cell_type": "code",
   "execution_count": null,
   "metadata": {
    "id": "tTFFwXB1rt3b"
   },
   "outputs": [],
   "source": [
    "# Index 0 is assumed if the fist number is omitted\n",
    "# So 0:3 is the same as :3\n",
    "print(list_int[:3])"
   ]
  },
  {
   "cell_type": "code",
   "execution_count": null,
   "metadata": {
    "id": "a2k1Dwvtrt3c"
   },
   "outputs": [],
   "source": [
    "# 5 ≤ index < 7\n",
    "print(list_int[5:7])"
   ]
  },
  {
   "cell_type": "code",
   "execution_count": null,
   "metadata": {
    "id": "IRKEQ8TPrt3c"
   },
   "outputs": [],
   "source": [
    "# 8 ≤ index < infinity\n",
    "# All remaining items are included if the second number is omitted\n",
    "print(list_int[8:])"
   ]
  },
  {
   "cell_type": "code",
   "execution_count": null,
   "metadata": {
    "id": "rjA58p9_rt3c"
   },
   "outputs": [],
   "source": [
    "# (number of items - 3) ≤ index < infinity\n",
    "print(list_int[-3:])"
   ]
  },
  {
   "cell_type": "code",
   "execution_count": null,
   "metadata": {
    "id": "kUv5LLyGrt3c"
   },
   "outputs": [],
   "source": [
    "# (number of items - 7) ≤ index < (number of items - 2)\n",
    "print(list_int[-7:-2])\n",
    "# 3 ≤ index < 8\n",
    "print(list_int[3:8])"
   ]
  },
  {
   "cell_type": "markdown",
   "metadata": {
    "id": "bmwF0kf9rt3c"
   },
   "source": [
    "**Important error message: IndexError**\n",
    "    \n",
    "Whenever you see an error where it says \"index out of range\", as in `IndexError: list index out of range`, then it means that you have tried to access an item in the list, using an index that is not used in the list."
   ]
  },
  {
   "cell_type": "code",
   "execution_count": null,
   "metadata": {
    "id": "5Ans_DPprt3c"
   },
   "outputs": [],
   "source": [
    "# IndexError: list index out of range\n",
    "print(list_int)\n",
    "print(list_int[10])"
   ]
  },
  {
   "cell_type": "markdown",
   "metadata": {
    "id": "HrKvXJjbrt3c"
   },
   "source": [
    "**Ex. 6a** (do ex 6a and 6b independently ~ 5 min)"
   ]
  },
  {
   "cell_type": "code",
   "execution_count": null,
   "metadata": {
    "id": "DPbyQ_iTrt3c"
   },
   "outputs": [],
   "source": [
    "# From the list digits, in one line of code,\n",
    "# create the variable ex7_x with the list [0,1,2,3,4]\n",
    "\n",
    "digits = [0,1,2,3,4,5,6,7,8,9] \n",
    "\n",
    "### ADD YOUR CODE HERE\n",
    "\n",
    "# === Do not modify code below ===\n",
    "assert ex7_x == [0,1,2,3,4]"
   ]
  },
  {
   "cell_type": "markdown",
   "metadata": {
    "id": "YIGDz3_mrt3c"
   },
   "source": [
    "**Ex. 6b**"
   ]
  },
  {
   "cell_type": "code",
   "execution_count": null,
   "metadata": {
    "id": "yRBGZOMvrt3c"
   },
   "outputs": [],
   "source": [
    "# From the list digits, in one line of code,\n",
    "# create the variable ex7_y with the list [5,6,7,8]\n",
    "\n",
    "digits = [0,1,2,3,4,5,6,7,8,9] \n",
    "\n",
    "### ADD YOUR CODE HERE\n",
    "\n",
    "# === Do not modify code below ===\n",
    "assert ex7_y == [5,6,7,8]"
   ]
  },
  {
   "cell_type": "markdown",
   "metadata": {
    "id": "u2SxOnLzrt3c"
   },
   "source": [
    "**Edit a list:**\n",
    "\n",
    "So far, every time we have modified a variable we have used a `=`. For example `x = x + 1` or `name = list_mix[1]`. \n",
    "\n",
    "Lists have some _in-place_ operator methods, meaning methods that change modify the item itself.\n",
    "\n",
    "You find a list of more list methods here: https://www.w3schools.com/python/python_ref_list.asp"
   ]
  },
  {
   "cell_type": "code",
   "execution_count": null,
   "metadata": {
    "id": "MMdRH3Awrt3c"
   },
   "outputs": [],
   "source": [
    "# Create a list of strs\n",
    "pets = ['cat','dog']\n",
    "print('Variable pets:', pets, type(pets))\n",
    "\n",
    "# Add one item to the list - .append() is an in-place operator\n",
    "pets.append('gold fish')\n",
    "print('Variable pets:', pets, type(pets))\n",
    "\n",
    "# Note that we did not do: pets = pets.append('gold fish')"
   ]
  },
  {
   "cell_type": "code",
   "execution_count": null,
   "metadata": {
    "id": "X1rOxWocrt3c"
   },
   "outputs": [],
   "source": [
    "# Add another item to the list using in-place .append() and the \"=\" assign operator\n",
    "pets_append_return = pets.append('butterfly')\n",
    "print('Variable pets:', pets, type(pets))\n",
    "print('Variable pets_append_return:', pets_append_return, type(pets_append_return))"
   ]
  },
  {
   "cell_type": "code",
   "execution_count": null,
   "metadata": {
    "id": "Q-Np9qtprt3c"
   },
   "outputs": [],
   "source": [
    "# Re-create the list of pets\n",
    "pets = ['cat', 'dog', 'gold fish', 'butterfly']\n",
    "\n",
    "# Print item with index 3 in original list\n",
    "print('Print pet at index 3:', pets[3], type(pets[3]))\n",
    "\n",
    "# Add item at index 2\n",
    "pets.insert(2,'parrot')\n",
    "\n",
    "# Print item with index 3 again\n",
    "print('Print pet at index 3:', pets[3], type(pets[3]))\n",
    "\n",
    "#Print all pets\n",
    "print('Variable pets:', pets, type(pets))"
   ]
  },
  {
   "cell_type": "code",
   "execution_count": null,
   "metadata": {
    "id": "RcXxsxgkrt3c"
   },
   "outputs": [],
   "source": [
    "# Modify item with index 1 \n",
    "pets[1] = 'wolf'\n",
    "print('Variable pets:', pets, type(pets))"
   ]
  },
  {
   "cell_type": "code",
   "execution_count": null,
   "metadata": {
    "id": "GffHXEZmrt3c"
   },
   "outputs": [],
   "source": [
    "# Erase item in list by index. Item returned\n",
    "pet_pop = pets.pop(3)\n",
    "# Erase item in list by value. None returned\n",
    "pet_remove = pets.remove(\"cat\")\n",
    "\n",
    "# Print results\n",
    "print('Variable pet_pop:', pet_pop, type(pet_pop))\n",
    "print('Variable pet_remove:', pet_remove, type(pet_remove))\n",
    "print('Variable pets:', pets, type(pets))"
   ]
  },
  {
   "cell_type": "markdown",
   "metadata": {
    "id": "gsBT1hLyrt3c"
   },
   "source": [
    "**Work with lists:**"
   ]
  },
  {
   "cell_type": "code",
   "execution_count": null,
   "metadata": {
    "id": "VNyaGqpErt3c"
   },
   "outputs": [],
   "source": [
    "# Create two lists.\n",
    "odds = [1,3,5,7,9]\n",
    "evens = [0,2,4,6,8]\n",
    "\n",
    "# Combine and sort them\n",
    "all_nums = odds + evens\n",
    "print('Variable all_nums:', all_nums, type(all_nums))\n",
    "\n",
    "# Sort the list - note that .sort() is an in-place operator\n",
    "all_nums.sort()\n",
    "print('Variable all_nums:', all_nums, type(all_nums))"
   ]
  },
  {
   "cell_type": "code",
   "execution_count": null,
   "metadata": {
    "id": "BDe8Xv_4rt3c"
   },
   "outputs": [],
   "source": [
    "# Create a list of lists\n",
    "l1 = ['a','b','c']\n",
    "l2 = ['d','e','f']\n",
    "l3 = ['g','h','i']\n",
    "\n",
    "# Create the list of list\n",
    "nested_list = [l1,l2,l3]\n",
    "print('Variable nested_list:', nested_list, type(nested_list))"
   ]
  },
  {
   "cell_type": "code",
   "execution_count": null,
   "metadata": {
    "id": "ukvbR6NErt3d"
   },
   "outputs": [],
   "source": [
    "# Access the item \"f\" in nested_list - multiple lines\n",
    "nested_lvl1 = nested_list[1]\n",
    "print('Variable nested_lvl1:', nested_lvl1, type(nested_lvl1))\n",
    "nested_f    = nested_lvl1[2]\n",
    "print('Variable nested_f:', nested_f, type(nested_f))\n",
    "\n",
    "# Access the item \"f\" in nested_list - single line\n",
    "f = nested_list[1][2]\n",
    "print('Variable f:', f, type(f))"
   ]
  },
  {
   "cell_type": "code",
   "execution_count": null,
   "metadata": {
    "id": "7MMpbUOKrt3d"
   },
   "outputs": [],
   "source": [
    "# Start with an empty list\n",
    "sample_means = []\n",
    "\n",
    "# Add items to the list\n",
    "sample_means.append(23.45)\n",
    "sample_means.append(45.1)\n",
    "sample_means.append(28.62)\n",
    "\n",
    "print('Variable sample_means:', sample_means, type(sample_means))"
   ]
  },
  {
   "cell_type": "code",
   "execution_count": null,
   "metadata": {
    "id": "G5oEL5Dnrt3d"
   },
   "outputs": [],
   "source": [
    "# Create a list by repeating another list\n",
    "list_a = ['a'] \n",
    "list_a5 = list_a * 5\n",
    "list_abc3 = ['a','b','c'] * 3\n",
    "\n",
    "print('Variable list_a:', list_a, type(list_a))\n",
    "print('Variable list_a5:', list_a5, type(list_a5))\n",
    "print('Variable list_abc3:', list_abc3, type(list_abc3))"
   ]
  },
  {
   "cell_type": "markdown",
   "metadata": {
    "id": "OqNTht40rt3d"
   },
   "source": [
    "**Get info about a list:**"
   ]
  },
  {
   "cell_type": "markdown",
   "metadata": {
    "id": "aJN7i25wrt3d"
   },
   "source": [
    "We can use the same function `len()` we used for strings"
   ]
  },
  {
   "cell_type": "code",
   "execution_count": null,
   "metadata": {
    "id": "EhqCNtoNrt3d"
   },
   "outputs": [],
   "source": [
    "print('Number of items in list_a:', len(list_a))\n",
    "print('Number of items in list_a5:', len(list_a5))"
   ]
  },
  {
   "cell_type": "code",
   "execution_count": null,
   "metadata": {
    "id": "FMSP8t5ort3d"
   },
   "outputs": [],
   "source": [
    "# We can store the length of a list in a variable if needed\n",
    "len_list_abc3 = len(list_abc3)\n",
    "print('Number of items in list_abc3:', len_list_abc3, type(len_list_abc3))"
   ]
  },
  {
   "cell_type": "markdown",
   "metadata": {
    "id": "2r3SN04Jrt3d"
   },
   "source": [
    "Test if an item is or isn't in a list"
   ]
  },
  {
   "cell_type": "code",
   "execution_count": null,
   "metadata": {
    "id": "m3o_vsB4rt3d"
   },
   "outputs": [],
   "source": [
    "list_abc = ['a','b','c']\n",
    "\n",
    "a_in_list_abc = 'a' in list_abc\n",
    "d_not_in_list_abc = 'd' not in list_abc\n",
    "\n",
    "print('Variable list_abc:', list_abc, type(list_abc))\n",
    "print('Variable a_in_list_abc:', a_in_list_abc, type(a_in_list_abc))\n",
    "print('Variable d_not_in_list_abc:', d_not_in_list_abc, type(d_not_in_list_abc))"
   ]
  },
  {
   "cell_type": "markdown",
   "metadata": {
    "id": "iRcHfNPlrt3d"
   },
   "source": [
    "**Ex. 7a** (do ex 7a, 7b, 7c, 7d and 7e independently ~ 8 min, 15 if inlcuding advanced)"
   ]
  },
  {
   "cell_type": "code",
   "execution_count": null,
   "metadata": {
    "id": "l8-3RNmBrt3d"
   },
   "outputs": [],
   "source": [
    "# From the list digits, in one line of code,\n",
    "# create the variable ex8_x with the int 6\n",
    "\n",
    "digits = [[0,1,2],[3,4,5],6,[7,8,9]]\n",
    "\n",
    "### ADD YOUR CODE HERE\n",
    "\n",
    "# === Do not modify code below ===\n",
    "assert ex8_x == 6"
   ]
  },
  {
   "cell_type": "markdown",
   "metadata": {
    "id": "O0LDustxrt3d"
   },
   "source": [
    "**Ex. 7b**"
   ]
  },
  {
   "cell_type": "code",
   "execution_count": null,
   "metadata": {
    "id": "PuSDB65rrt3d"
   },
   "outputs": [],
   "source": [
    "# From the list digits, in one line of code,\n",
    "# create the variable ex8_y with the int 4 \n",
    "\n",
    "digits = [[0,1,2],[3,4,5],6,[7,8,9]]\n",
    "\n",
    "### ADD YOUR CODE HERE\n",
    "\n",
    "# === Do not modify code below ===\n",
    "assert ex8_y == 4"
   ]
  },
  {
   "cell_type": "markdown",
   "metadata": {
    "id": "1ylL5S_-rt3e"
   },
   "source": [
    "**Ex. 7c**"
   ]
  },
  {
   "cell_type": "code",
   "execution_count": null,
   "metadata": {
    "id": "Dm1Wgcptrt3e"
   },
   "outputs": [],
   "source": [
    "# Using only the lists in the variables a, b and c and list methods\n",
    "# create a list [1,2,3] and store it in the variable ex8_k.\n",
    "# You may not define any new ints or lists\n",
    "\n",
    "a = 2\n",
    "b = [1,4,3]\n",
    "c = 1\n",
    "\n",
    "### ADD YOUR CODE HERE\n",
    "\n",
    "# === Do not modify code below ===\n",
    "assert ex8_k == [1,2,3]"
   ]
  },
  {
   "cell_type": "markdown",
   "metadata": {
    "id": "0qj2FzrWrt3e"
   },
   "source": [
    "**Ex. 7d** (advanced)"
   ]
  },
  {
   "cell_type": "code",
   "execution_count": null,
   "metadata": {
    "id": "a8JwViBrrt3e"
   },
   "outputs": [],
   "source": [
    "# Using only the lists in the variables a, b and c and list methods\n",
    "# create a list [1,2,3,4] and store it in the variable ex8_z. \n",
    "# You may not define any new ints or lists\n",
    "\n",
    "a = 4\n",
    "b = [2,3]\n",
    "c = [1]\n",
    "\n",
    "### ADD YOUR CODE HERE\n",
    "\n",
    "# === Do not modify code below ===\n",
    "assert ex8_z == [1,2,3,4]"
   ]
  },
  {
   "cell_type": "markdown",
   "metadata": {
    "id": "MhrRuaBWrt3e"
   },
   "source": [
    "**Ex. 7e** (advanced)"
   ]
  },
  {
   "cell_type": "code",
   "execution_count": null,
   "metadata": {
    "id": "RWy4ma3mrt3e"
   },
   "outputs": [],
   "source": [
    "# Using only the lists in the variables a, b and c and list methods\n",
    "# create a list [1,2,3] and store it in the variable ex8_i.\n",
    "# You may not define any new ints or lists\n",
    "\n",
    "a = 3\n",
    "b = [1,4,2]\n",
    "c = 1\n",
    "\n",
    "### ADD YOUR CODE HERE\n",
    "\n",
    "# === Do not modify code below ===\n",
    "assert ex8_i == [1,2,3]"
   ]
  },
  {
   "cell_type": "markdown",
   "metadata": {
    "id": "ClhdECnJrt3e"
   },
   "source": [
    "## S4.2 Container types - Dictionaries\n",
    "\n",
    "| Class name | Full name  | Access                      | Occurrence  | Remarks |\n",
    "|:---        |:---        | :---                        | :---        | :---\n",
    "| dict       | Dictionary | Access items by key         | Common      | Since we access items by key names, the order is not important |\n",
    "\n",
    "Each item in a dictionary consists of two things. The item itself and a key used to refer to it. \n",
    "\n",
    "The item can be of any type (anything from atoms to advanced molecules) but the key is always a string.\n",
    "\n",
    "---\n",
    "\n",
    "**Create dictionaries and access items:**"
   ]
  },
  {
   "cell_type": "code",
   "execution_count": null,
   "metadata": {
    "id": "nMMO8AsOrt3f"
   },
   "outputs": [],
   "source": [
    "# Create a dictionary\n",
    "x = {'a':'alpha','b':3,'c':True,'d':[1,2,3]}\n",
    "print('Variable x:', x, type(x))"
   ]
  },
  {
   "cell_type": "code",
   "execution_count": null,
   "metadata": {
    "id": "74-anTaIrt3f"
   },
   "outputs": [],
   "source": [
    "# Access item in a dict using the key\n",
    "print(\"Variable x['a']:\", x['a'], type(x['a']))\n",
    "print(\"Variable x['b']:\", x['b'], type(x['b']))\n",
    "print(\"Variable x['c']:\", x['c'], type(x['c']))\n",
    "print(\"Variable x['d']:\", x['d'], type(x['d']))"
   ]
  },
  {
   "cell_type": "code",
   "execution_count": null,
   "metadata": {
    "id": "A69FAGvSrt3f"
   },
   "outputs": [],
   "source": [
    "# Lets say we are a bank keeping track of info about accounts\n",
    "\n",
    "# Start with an empty dict\n",
    "accounta = {}\n",
    "accountb = {}\n",
    "\n",
    "# Set up account A details\n",
    "accounta['owner'] = 'Jerry Ehman'\n",
    "accounta['id'] = '6EQUJ5'\n",
    "\n",
    "# Set up account B details in different order\n",
    "accountb['id'] = 'GTCTAT'\n",
    "accountb['owner'] = 'Rosalind Franklin'\n",
    "\n",
    "print('Variable accounta:', accounta, type(accounta))\n",
    "print('Variable accountb:', accountb, type(accountb))"
   ]
  },
  {
   "cell_type": "code",
   "execution_count": null,
   "metadata": {
    "id": "iReXoF7Krt3f"
   },
   "outputs": [],
   "source": [
    "# The same value can be accessed with the same key regardless of the order the values were added\n",
    "print('Owner account A:', accounta['owner'], type(accounta['owner']))\n",
    "print('Owner account B:', accountb['owner'], type(accountb['owner']))"
   ]
  },
  {
   "cell_type": "code",
   "execution_count": null,
   "metadata": {
    "id": "U2f9_J19rt3f"
   },
   "outputs": [],
   "source": [
    "# Deposit initial amount on account A\n",
    "accounta['balance'] = 1420\n",
    "print('Balance account A:', accounta['balance'], type(accounta['balance']))"
   ]
  },
  {
   "cell_type": "markdown",
   "metadata": {
    "id": "d8lMNiwFrt3f"
   },
   "source": [
    "**Important error message: KeyError**\n",
    "    \n",
    "Whenever you see an error on the format\n",
    "`KeyError: 'balance'`, \n",
    "then it means that you have tried to access an item in the list, using a key that is not used in the dictionary."
   ]
  },
  {
   "cell_type": "code",
   "execution_count": null,
   "metadata": {
    "id": "39aCbdhjrt3f"
   },
   "outputs": [],
   "source": [
    "print('Balance account B:', accountb['balance'], type(accountb['balance']))"
   ]
  },
  {
   "cell_type": "code",
   "execution_count": null,
   "metadata": {
    "id": "xlyHLT87rt3f"
   },
   "outputs": [],
   "source": [
    "# When applicable, use get() method to set a default value if key does not exist\n",
    "print('Balance account A:', accounta.get('balance',0))\n",
    "print('Balance account B:', accountb.get('balance',0))"
   ]
  },
  {
   "cell_type": "code",
   "execution_count": null,
   "metadata": {
    "id": "b_ALum82rt3f"
   },
   "outputs": [],
   "source": [
    "# When using .get() on a key that does not exist without default value\n",
    "print('Balance account B:', accountb.get('color'), type(accountb.get('color')))"
   ]
  },
  {
   "cell_type": "markdown",
   "metadata": {
    "id": "fGZWI5G3rt3f"
   },
   "source": [
    "**Ex. 8a** (do ex 8a and 8b independently ~ 10 min)"
   ]
  },
  {
   "cell_type": "code",
   "execution_count": null,
   "metadata": {
    "id": "RSDKnoyWrt3f"
   },
   "outputs": [],
   "source": [
    "# Using only the already defined variables,\n",
    "# (you may not type any keys manually)\n",
    "# modify the empty dict ex8_z into\n",
    "# {'pet1':'Dog','pet2':'Cat'}\n",
    "# You may not overwrite ex8_z\n",
    "\n",
    "p1 = 'pet1'\n",
    "p2 = 'pet2'\n",
    "Arthur = 'Cat'\n",
    "b = \"Dog\"\n",
    "c = Arthur\n",
    "ex8_z = {}\n",
    "\n",
    "### ADD YOUR CODE HERE\n",
    "\n",
    "# === Do not modify code below ===\n",
    "assert ex8_z == {'pet1':'Dog','pet2':'Cat'}"
   ]
  },
  {
   "cell_type": "markdown",
   "metadata": {
    "id": "hfOEFvnvrt3f"
   },
   "source": [
    "**Ex. 8b**"
   ]
  },
  {
   "cell_type": "code",
   "execution_count": null,
   "metadata": {
    "id": "NpVMiYlCrt3f"
   },
   "outputs": [],
   "source": [
    "# Using only the complex_dict and \n",
    "# accessing items using only keys and indexes,\n",
    "# create the following variables zero as the int 0,\n",
    "# d as the string d, minus_three as the int -3\n",
    "# and symbol_list as the list ['%','?','~']\n",
    "# Try create each of these variables in a single line of code\n",
    "\n",
    "\n",
    "complex_dict = {\n",
    "    'alpha': [\n",
    "        'a','b','c','d'\n",
    "    ],\n",
    "    'numbers': [\n",
    "        [1,2,3],\n",
    "        0,\n",
    "        [-1,-2,-3]\n",
    "    ],\n",
    "    'symbols' : {\n",
    "        'percent' : '%',\n",
    "        'question' : '?',\n",
    "        'tilde' : '~'\n",
    "    }\n",
    "}\n",
    "\n",
    "zero = ### ADD YOUR CODE HERE\n",
    "d = ### ADD YOUR CODE HERE\n",
    "minus_three = ### ADD YOUR CODE HERE\n",
    "symbol_list = ### ADD YOUR CODE HERE\n",
    "\n",
    "# === Do not modify code below ===\n",
    "assert zero==0 and d=='d' and minus_three==-3 and symbol_list==['%','?','~']"
   ]
  },
  {
   "cell_type": "markdown",
   "metadata": {},
   "source": [
    "**Get the keys and/or the items of a dictionary**\n",
    "\n",
    "Containers are great at holding variables with data in a structured way. \n",
    "It is often the case we want to access one item at the time in the list.\n",
    "\n",
    "We will cover loops in next sessions, but already now we will cover\n",
    "three methods important when looping over the key-value pair of a dict.\n"
   ]
  },
  {
   "cell_type": "code",
   "execution_count": null,
   "metadata": {},
   "outputs": [],
   "source": [
    "# Define a dictionary with countries and capitals\n",
    "capitals = {\n",
    "    'China':'Beijing',\n",
    "    'India':'New Delhi',\n",
    "    'Ohio':'Columbis',\n",
    "    'Peru':'Lima',\n",
    "    'Sweden':'Stockholm',\n",
    "}\n",
    "\n",
    "# We can get all keys or all lists using the methods .keys() and .values()\n",
    "print(\"capitals.keys():\", capitals.keys(), type(capitals.keys()))\n",
    "print(\"capitals.values():\", capitals.values(), type(capitals.values()))"
   ]
  },
  {
   "cell_type": "code",
   "execution_count": null,
   "metadata": {},
   "outputs": [],
   "source": [
    "# Get all keys in a dictionary\n",
    "for country in capitals.keys() :\n",
    "    print(country)"
   ]
  },
  {
   "cell_type": "code",
   "execution_count": null,
   "metadata": {},
   "outputs": [],
   "source": [
    "# Get all values in a dictionary\n",
    "for capital in capitals.values() :\n",
    "    print(capital)"
   ]
  },
  {
   "cell_type": "code",
   "execution_count": null,
   "metadata": {},
   "outputs": [],
   "source": [
    "# Get both keys and values in a dictionary\n",
    "for country, capital in capitals.items():\n",
    "    print(f\"The capital of {country} is {capital}.\")"
   ]
  },
  {
   "cell_type": "markdown",
   "metadata": {
    "id": "p1ARhnYmrt3f"
   },
   "source": [
    "\n",
    "## S4.3 Container types - Tuples\n",
    "\n",
    "| Class name | Full name | Access                | Occurrence  | Remarks |\n",
    "|:---        |:---       | :---                  | :---        | :---\n",
    "| tuple      | Tuple     | Access items by order | Less common | Very similar to a list, but when created it cannot be modified |\n",
    "\n",
    "At a first glance tuples are very similar to lists. Items in tuples are also accessed using indexes.\n",
    "\n",
    "The main difference is that tuples are immutable, which means you cannot edit them once they are created.\n",
    "\n",
    "In data work we usually want to be able to edit our data, so you will not create them often. But it is common that methods and functions return tuples.\n",
    "\n",
    "--- \n",
    "\n",
    "**Create a tuple:**"
   ]
  },
  {
   "cell_type": "code",
   "execution_count": null,
   "metadata": {
    "id": "JLCs1rqZrt3g"
   },
   "outputs": [],
   "source": [
    "list_mix  = [42,'Arthur',False]\n",
    "tuple_mix = (42,'Arthur',False)\n",
    "\n",
    "print('list_mix:', list_mix, type(list_mix))\n",
    "print('tuple_mix:', tuple_mix, type(tuple_mix))"
   ]
  },
  {
   "cell_type": "markdown",
   "metadata": {
    "id": "f4xjNoyart3g"
   },
   "source": [
    "**Access item in a tuple:**"
   ]
  },
  {
   "cell_type": "code",
   "execution_count": null,
   "metadata": {
    "id": "0oeqrHoXrt3g"
   },
   "outputs": [],
   "source": [
    "# Items are accessed the same way as a list\n",
    "print('list_mix item index 0:', list_mix[0], type(list_mix[0]))\n",
    "print('tuple_mix item index 0:', tuple_mix[0], type(tuple_mix[0]))"
   ]
  },
  {
   "cell_type": "markdown",
   "metadata": {
    "id": "24Mgv2Cmrt3g"
   },
   "source": [
    "**Modify item in a tuple:**"
   ]
  },
  {
   "cell_type": "code",
   "execution_count": null,
   "metadata": {
    "id": "6Uxq0TrBrt3g"
   },
   "outputs": [],
   "source": [
    "# First modify item in list\n",
    "list_mix[1] = 'Marvin' \n",
    "print('list_mix:', list_mix, type(list_mix))\n"
   ]
  },
  {
   "cell_type": "markdown",
   "metadata": {
    "id": "QfWCOJbwrt3g"
   },
   "source": [
    "**Important error message: TypeError**\n",
    "    \n",
    "Whenever you see an error that says \"does not support\" as in \n",
    "`TypeError: 'tuple' object does not support item assignment`, \n",
    "then it means that you have tried to do an action on a type for which that action is not allowed.\n",
    "In this example modify an item in a tuple."
   ]
  },
  {
   "cell_type": "code",
   "execution_count": null,
   "metadata": {
    "id": "I6yMLFLIrt3g"
   },
   "outputs": [],
   "source": [
    "# However we cannot do the same in \n",
    "tuple_mix[1] = 'Marvin'"
   ]
  },
  {
   "cell_type": "code",
   "execution_count": null,
   "metadata": {
    "id": "aZg6k027rt3g"
   },
   "outputs": [],
   "source": [
    "# Use tuples to get information and store them in variables\n",
    "name = tuple_mix[1]\n",
    "print('Variable name:', name, type(name))\n",
    "\n",
    "# Items copied from a tuple no longer need to be immutable\n",
    "name = name.upper()\n",
    "print('Variable name upper:', name, type(name))"
   ]
  },
  {
   "cell_type": "code",
   "execution_count": null,
   "metadata": {
    "id": "lSl0ri8Urt3g"
   },
   "outputs": [],
   "source": [
    "# If we type cast a tuple to a list it behaves as a list\n",
    "list_from_tuple = list(tuple_mix)\n",
    "list_from_tuple[1] = 'Marvin'\n",
    "print('Variable list_from_tuple:', list_from_tuple, type(list_from_tuple))"
   ]
  },
  {
   "cell_type": "code",
   "execution_count": null,
   "metadata": {
    "id": "CZVWLsVxrt3g"
   },
   "outputs": [],
   "source": [
    "# While items in a tuple are immutable, the tuple can be overwritten\n",
    "tuple_from_list = tuple(list_from_tuple)\n",
    "print('Variable tuple_from_list:', tuple_from_list, type(tuple_from_list))"
   ]
  },
  {
   "cell_type": "markdown",
   "metadata": {
    "id": "3110TRXFrt3g"
   },
   "source": [
    "## S4.4 Container types - Sets\n",
    "\n",
    "| Class name | Full name  | Access                      | Occurrence  | Remarks |\n",
    "|:---        |:---        | :---                        | :---        | :---\n",
    "| set        | Set        | Test if item already in set | Rare        | A container that cannot hold duplicates |\n",
    "\n",
    "Rare but included it for completion. It's a container that cannot have duplicates. \n",
    "\n",
    "---\n",
    "\n",
    "**Demonstrate a set:**"
   ]
  },
  {
   "cell_type": "code",
   "execution_count": null,
   "metadata": {
    "id": "zvqwmgAprt3g"
   },
   "outputs": [],
   "source": [
    "# Create a set that stores all skills in a team:\n",
    "team_skills = set()\n",
    "print('Variable team_skills:', team_skills, type(team_skills))"
   ]
  },
  {
   "cell_type": "code",
   "execution_count": null,
   "metadata": {
    "id": "UGFuMZ0xrt3g"
   },
   "outputs": [],
   "source": [
    "# Define skillsets for person A, B and C\n",
    "personA_skill1 = 'python'\n",
    "personB_skill1 = 'field-work'\n",
    "personC_skill1 = 'python'\n",
    "personC_skill2 = 'Excel'\n",
    "\n",
    "# Add skillsets for person A, B and C\n",
    "team_skills.add(personA_skill1)\n",
    "team_skills.add(personB_skill1)\n",
    "team_skills.add(personC_skill1)\n",
    "team_skills.add(personC_skill2)\n",
    "print('Variable team_skills:', team_skills, type(team_skills))"
   ]
  },
  {
   "cell_type": "code",
   "execution_count": null,
   "metadata": {
    "id": "SlWB6OHKrt3g"
   },
   "outputs": [],
   "source": [
    "# Add a list of person D's skills to the set\n",
    "personD_skills = ['python','field-work','management','accounting']\n",
    "team_skills.update(personD_skills)\n",
    "print('Variable team_skills:', team_skills, type(team_skills))"
   ]
  },
  {
   "cell_type": "code",
   "execution_count": null,
   "metadata": {
    "id": "9dKVUjTnrt3g"
   },
   "outputs": [],
   "source": [
    "# Test if the team has a skillset\n",
    "print('python' in team_skills)\n",
    "print('R' in team_skills)"
   ]
  },
  {
   "cell_type": "markdown",
   "metadata": {
    "id": "vdxFRtpYrt3g"
   },
   "source": [
    "## S4.5 Basic container types summary\n",
    "\n",
    "* This is how we combine basic data types (atoms)\n",
    "* Stored in a variable with a name and type (just like data types and any other variable)\n",
    "* How you access items is the main difference between the two most common containers; `list` and `dict`\n",
    "* Containers are often nested (a container in a container)\n",
    "* The types in a container can be mixed\n",
    "\n",
    "**Important errors**\n",
    "\n",
    "| Error name     | Likely reason for the error | \n",
    "|:---            |:---                         |\n",
    "| **IndexError** | You are trying to access an item in a list using an index outside the range of indexes for that list | \n",
    "| **KeyError**   | You are trying to access an item in a list using a key name that does not exist in the dict | \n",
    "| **TypeError**  | Very generic error where you have used an operation (math operation, index assignment etc.) that is a recognized operation but not allowed for this variable's type | "
   ]
  },
  {
   "cell_type": "markdown",
   "metadata": {
    "id": "c_WjMvPZrt3g"
   },
   "source": [
    "**Optional Ex. 9a**"
   ]
  },
  {
   "cell_type": "code",
   "execution_count": null,
   "metadata": {
    "id": "JfPupcxkrt3g"
   },
   "outputs": [],
   "source": [
    "# Generate a tuple with the three letters m, n and p\n",
    "# in alphabetic order. Call the tuple letters.\n",
    "# then access the letter m\n",
    "# and store as a string in the variable M\n",
    "\n",
    "letters = ### ADD YOUR CODE HERE\n",
    "M = ### ADD YOUR CODE HERE\n",
    "\n",
    "# === Do not modify code below ===\n",
    "assert type(letters) is tuple and M=='m'"
   ]
  }
 ],
 "metadata": {
  "colab": {
   "include_colab_link": true,
   "provenance": []
  },
  "kernelspec": {
   "display_name": "Python 3 (ipykernel)",
   "language": "python",
   "name": "python3"
  },
  "language_info": {
   "codemirror_mode": {
    "name": "ipython",
    "version": 3
   },
   "file_extension": ".py",
   "mimetype": "text/x-python",
   "name": "python",
   "nbconvert_exporter": "python",
   "pygments_lexer": "ipython3",
   "version": "3.9.12"
  },
  "vscode": {
   "interpreter": {
    "hash": "deb4792152b8b9767403eeef0a1b0f34b83d442136ccee9184cd7d1131f09aa0"
   }
  }
 },
 "nbformat": 4,
 "nbformat_minor": 1
}

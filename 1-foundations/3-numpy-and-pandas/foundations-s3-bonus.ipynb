{
  "nbformat": 4,
  "nbformat_minor": 0,
  "metadata": {
    "colab": {
      "name": "foundations-s3-bonus.ipynb",
      "provenance": [],
      "toc_visible": true,
      "authorship_tag": "ABX9TyNtdTFvw4pJU+ItN3pDSzNY",
      "include_colab_link": true
    },
    "kernelspec": {
      "name": "python3",
      "display_name": "Python 3"
    },
    "language_info": {
      "name": "python"
    }
  },
  "cells": [
    {
      "cell_type": "markdown",
      "metadata": {
        "id": "view-in-github",
        "colab_type": "text"
      },
      "source": [
        "<a href=\"https://colab.research.google.com/github/worldbank/dec-python-course/blob/main/1-foundations/3-numpy-and-pandas/foundations-s3-bonus.ipynb\" target=\"_parent\"><img src=\"https://colab.research.google.com/assets/colab-badge.svg\" alt=\"Open In Colab\"/></a>"
      ]
    },
    {
      "cell_type": "markdown",
      "source": [
        "# DEC Foundations of Python for Data Science - Session 3 Bonus Material\n",
        "\n",
        "This notebook contains only the **BONUS material** for Session 3. The main material is [here](https://colab.research.google.com/github/worldbank/dec-python-course/blob/main/1-foundations/3-numpy-and-pandas/foundations-s3.ipynb)."
      ],
      "metadata": {
        "id": "f-D1mh0KslBo"
      }
    },
    {
      "cell_type": "markdown",
      "source": [
        "# Python Library Versioning\n",
        "\n",
        "If you want to lock/control the versions of all packages used by your script (aka. dependencies), you can put them in a `requirements.txt` file in the format of `package_name==package_version` one package per line, then instruct pip to install the dependences in the `requirements.txt` file with bash command `pip install -r requirements.txt`. Using `requirements.txt` for dependency management is a very common practice in python projects."
      ],
      "metadata": {
        "id": "z3R2Nz71tB_d"
      }
    },
    {
      "cell_type": "markdown",
      "source": [
        "## Exercises\n",
        "The following exercises are meant to be completed step by step. Upon successful completion of all steps, the last cell should execute without any `AssertionError`.\n",
        "1. Git clone this course repository from github: https://github.com/worldbank/dec-python-course"
      ],
      "metadata": {
        "id": "udmuxsot8iMf"
      }
    },
    {
      "cell_type": "code",
      "source": [
        "# hint: use ! and bash command `git clone`"
      ],
      "metadata": {
        "id": "q4wWMbxayR5W"
      },
      "execution_count": 5,
      "outputs": []
    },
    {
      "cell_type": "markdown",
      "source": [
        "2. Change your working directory to the folder where this file is in `\n",
        "dec-python-course/1-foundations/3-numpy-and-pandas/`"
      ],
      "metadata": {
        "id": "ps9YWCs1ySto"
      }
    },
    {
      "cell_type": "code",
      "source": [
        "# hint: use % and bash command `cd`"
      ],
      "metadata": {
        "id": "WX4joz0Eyb22"
      },
      "execution_count": 6,
      "outputs": []
    },
    {
      "cell_type": "markdown",
      "source": [
        "3. Install all python libraries as specified in `requirements.txt`, without copying the content of `requirements.txt`. Upon successful installation, click on \"RESTART RUNTIME\" in the code cell output."
      ],
      "metadata": {
        "id": "vrUeijHeyfkb"
      }
    },
    {
      "cell_type": "code",
      "source": [
        "# hint: use ! and bash command `pip install` with flag `-r`"
      ],
      "metadata": {
        "id": "Gi01o47fyhR0"
      },
      "execution_count": 7,
      "outputs": []
    },
    {
      "cell_type": "markdown",
      "source": [
        "4. Import `matplotlib`'s `pyplot` module and alias it as `plt`"
      ],
      "metadata": {
        "id": "QrIctfVsynSM"
      }
    },
    {
      "cell_type": "code",
      "source": [
        "%%script echo Remove this line after filling in your own code\n",
        "# hint: use `import ... as ...`\n",
        "\n",
        "# === Do not modify code below ===\n",
        "fig = plt.figure(figsize=(10, 80))\n",
        "assert hasattr(fig, \"subfigures\"),\\\n",
        " \"If correct version of matplotlib were installed you should not see this message\"\n",
        "\n",
        "print(\"Well done!\")"
      ],
      "metadata": {
        "id": "kOrxdAJQyn_E",
        "colab": {
          "base_uri": "https://localhost:8080/"
        },
        "outputId": "61369e4b-c3b7-40e9-a7b6-b3f4f8393b96"
      },
      "execution_count": 8,
      "outputs": [
        {
          "output_type": "stream",
          "name": "stdout",
          "text": [
            "Remove this line after filling in your own code\n"
          ]
        }
      ]
    },
    {
      "cell_type": "markdown",
      "source": [
        "# NumPy Extras"
      ],
      "metadata": {
        "id": "0UW3pP19tfUC"
      }
    },
    {
      "cell_type": "code",
      "source": [
        "import numpy as np\n",
        "\n",
        "two_d_array = np.array([[1, 2], [3, 4]])"
      ],
      "metadata": {
        "id": "AQmQDJkItqFI"
      },
      "execution_count": 9,
      "outputs": []
    },
    {
      "cell_type": "markdown",
      "source": [
        "## How to transpose an ndarray?"
      ],
      "metadata": {
        "id": "z39qeUuPUf7h"
      }
    },
    {
      "cell_type": "code",
      "source": [
        "two_d_array.transpose()"
      ],
      "metadata": {
        "colab": {
          "base_uri": "https://localhost:8080/"
        },
        "id": "81buJflLTgY_",
        "outputId": "9e398f80-54ba-4696-9337-0f74c4cf0441"
      },
      "execution_count": 10,
      "outputs": [
        {
          "output_type": "execute_result",
          "data": {
            "text/plain": [
              "array([[1, 3],\n",
              "       [2, 4]])"
            ]
          },
          "metadata": {},
          "execution_count": 10
        }
      ]
    },
    {
      "cell_type": "code",
      "source": [
        "# or use short T attribute on the array\n",
        "two_d_array.T"
      ],
      "metadata": {
        "colab": {
          "base_uri": "https://localhost:8080/"
        },
        "id": "gDNeIQPjSyxT",
        "outputId": "d90df6d3-30b1-421b-bf61-2c7aef6707a1"
      },
      "execution_count": 11,
      "outputs": [
        {
          "output_type": "execute_result",
          "data": {
            "text/plain": [
              "array([[1, 3],\n",
              "       [2, 4]])"
            ]
          },
          "metadata": {},
          "execution_count": 11
        }
      ]
    },
    {
      "cell_type": "markdown",
      "source": [
        "## How to stack and split ndarrays?"
      ],
      "metadata": {
        "id": "xVLvbu07a_Qr"
      }
    },
    {
      "cell_type": "markdown",
      "source": [
        "Multiple arrays can be stacked together along different axes:"
      ],
      "metadata": {
        "id": "7_wIPRPEbaqf"
      }
    },
    {
      "cell_type": "code",
      "source": [
        "another_two_d_array = two_d_array * 2\n",
        "print(two_d_array)\n",
        "print(another_two_d_array)"
      ],
      "metadata": {
        "outputId": "ef42fdbb-b29a-4724-caf0-06aebcdeee92",
        "colab": {
          "base_uri": "https://localhost:8080/"
        },
        "id": "lb_LAQ8Kbaqf"
      },
      "execution_count": 12,
      "outputs": [
        {
          "output_type": "stream",
          "name": "stdout",
          "text": [
            "[[1 2]\n",
            " [3 4]]\n",
            "[[2 4]\n",
            " [6 8]]\n"
          ]
        }
      ]
    },
    {
      "cell_type": "code",
      "source": [
        "# stack row wise\n",
        "vstacked = np.vstack((two_d_array, another_two_d_array))\n",
        "vstacked"
      ],
      "metadata": {
        "outputId": "3597c864-f30f-4081-895d-148b2ada8ef2",
        "colab": {
          "base_uri": "https://localhost:8080/"
        },
        "id": "bk_7A0SPbaqg"
      },
      "execution_count": 13,
      "outputs": [
        {
          "output_type": "execute_result",
          "data": {
            "text/plain": [
              "array([[1, 2],\n",
              "       [3, 4],\n",
              "       [2, 4],\n",
              "       [6, 8]])"
            ]
          },
          "metadata": {},
          "execution_count": 13
        }
      ]
    },
    {
      "cell_type": "code",
      "source": [
        "# stack column wise\n",
        "hstacked = np.hstack((two_d_array, another_two_d_array))\n",
        "hstacked"
      ],
      "metadata": {
        "outputId": "64d2eda4-0e12-4e2c-d3e6-9f5a900cd68b",
        "colab": {
          "base_uri": "https://localhost:8080/"
        },
        "id": "38AgRXTmbaqg"
      },
      "execution_count": 14,
      "outputs": [
        {
          "output_type": "execute_result",
          "data": {
            "text/plain": [
              "array([[1, 2, 2, 4],\n",
              "       [3, 4, 6, 8]])"
            ]
          },
          "metadata": {},
          "execution_count": 14
        }
      ]
    },
    {
      "cell_type": "markdown",
      "source": [
        "An array can be split into multiple arrays, along the specified axis:"
      ],
      "metadata": {
        "id": "gFxvmCBObt3d"
      }
    },
    {
      "cell_type": "code",
      "source": [
        "vstacked"
      ],
      "metadata": {
        "outputId": "e2f7cbd3-a6ed-4e46-b08c-e5d987fa2fcd",
        "colab": {
          "base_uri": "https://localhost:8080/"
        },
        "id": "lVjhON5pbt3d"
      },
      "execution_count": 15,
      "outputs": [
        {
          "output_type": "execute_result",
          "data": {
            "text/plain": [
              "array([[1, 2],\n",
              "       [3, 4],\n",
              "       [2, 4],\n",
              "       [6, 8]])"
            ]
          },
          "metadata": {},
          "execution_count": 15
        }
      ]
    },
    {
      "cell_type": "code",
      "source": [
        "# split to 2 arrays row wise\n",
        "vsplit1, vsplit2 = np.vsplit(vstacked, 2)\n",
        "print(vsplit1)\n",
        "print(vsplit2)"
      ],
      "metadata": {
        "outputId": "cbd73e98-c02f-4600-c389-7e1f96d567ba",
        "colab": {
          "base_uri": "https://localhost:8080/"
        },
        "id": "jJzFczthbt3e"
      },
      "execution_count": 16,
      "outputs": [
        {
          "output_type": "stream",
          "name": "stdout",
          "text": [
            "[[1 2]\n",
            " [3 4]]\n",
            "[[2 4]\n",
            " [6 8]]\n"
          ]
        }
      ]
    },
    {
      "cell_type": "code",
      "source": [
        "# split to 2 arrays column wise\n",
        "hsplit1, hsplit2 = np.hsplit(vstacked, 2)\n",
        "print(hsplit1)\n",
        "print(hsplit2)"
      ],
      "metadata": {
        "outputId": "35f20f72-56d9-48cc-fe9d-11a7f57a5080",
        "colab": {
          "base_uri": "https://localhost:8080/"
        },
        "id": "bYLRgBHWbt3e"
      },
      "execution_count": 17,
      "outputs": [
        {
          "output_type": "stream",
          "name": "stdout",
          "text": [
            "[[1]\n",
            " [3]\n",
            " [2]\n",
            " [6]]\n",
            "[[2]\n",
            " [4]\n",
            " [4]\n",
            " [8]]\n"
          ]
        }
      ]
    },
    {
      "cell_type": "markdown",
      "source": [
        "## Universal functions: `where` examples"
      ],
      "metadata": {
        "id": "xar5kYbXbGCt"
      }
    },
    {
      "cell_type": "code",
      "source": [
        "# select the indexes of elements that evaluate to true\n",
        "a = np.array([1, 2, 3, 4])\n",
        "np.where(a % 2) # find odd numbers"
      ],
      "metadata": {
        "colab": {
          "base_uri": "https://localhost:8080/"
        },
        "id": "Auo883i_0m_d",
        "outputId": "446b19b5-a0a3-42ea-b021-ed25e713642d"
      },
      "execution_count": 18,
      "outputs": [
        {
          "output_type": "execute_result",
          "data": {
            "text/plain": [
              "(array([0, 2]),)"
            ]
          },
          "metadata": {},
          "execution_count": 18
        }
      ]
    },
    {
      "cell_type": "code",
      "source": [
        "# select the elements that evaluate to true\n",
        "np.where(a % 2, a, np.nan)"
      ],
      "metadata": {
        "colab": {
          "base_uri": "https://localhost:8080/"
        },
        "id": "ImxrxvdG1_tb",
        "outputId": "2a03c937-7700-4872-bd8f-f22696b6816b"
      },
      "execution_count": 19,
      "outputs": [
        {
          "output_type": "execute_result",
          "data": {
            "text/plain": [
              "array([ 1., nan,  3., nan])"
            ]
          },
          "metadata": {},
          "execution_count": 19
        }
      ]
    },
    {
      "cell_type": "markdown",
      "source": [
        "# Pandas Extras"
      ],
      "metadata": {
        "id": "bMd2V922ze9n"
      }
    },
    {
      "cell_type": "markdown",
      "source": [
        "## Concatenating DataFrames\n",
        "\n",
        "Sometimes we get datasets in batches and need to combine them into a single dataset for analysis. Pandas' `concat` is here to help!"
      ],
      "metadata": {
        "id": "W060R5yXNmvF"
      }
    },
    {
      "cell_type": "code",
      "source": [
        "# Execute this code cell to prepare the dataset for code cells below\n",
        "\n",
        "import pandas as pd\n",
        "import numpy as np\n",
        "\n",
        "# read and clean the monthly dataset\n",
        "cars_monthly = pd.read_csv('https://raw.githubusercontent.com/worldbank/dec-python-course/main/1-foundations/3-numpy-and-pandas/data/Singapore_Monthly_New_Car_Registrations_by_make_type.csv')\n",
        "cars_monthly.dropna(subset=['number'], inplace=True)\n",
        "\n",
        "cars_monthly_renamed = cars_monthly.rename(columns={'month': 'year_month'})\n",
        "cars_monthly_renamed[['year','month']] = cars_monthly_renamed.year_month.str.split(\"-\", expand=True)\n",
        "cars_monthly_dropped = cars_monthly_renamed.drop(columns=['year_month'])\n",
        "\n",
        "columns_ordered = ['year', 'month', 'make', 'fuel_type', 'vehicle_type', 'number']\n",
        "cars_monthly_reordered = cars_monthly_dropped.reindex(columns=columns_ordered)\n",
        "\n",
        "cars_monthly_converted = cars_monthly_reordered.astype({\n",
        "    'number': 'int', 'year': 'int', 'month': 'int'})\n",
        "\n",
        "cars_monthly_nonzero = cars_monthly_converted[cars_monthly_converted.number > 0]\n",
        "cars_monthly_pivoted = cars_monthly_nonzero.pivot_table(index='make', columns='year', values='number', aggfunc='sum')\n",
        "cars_monthly_melted = cars_monthly_pivoted.melt(var_name='year', value_name='number', ignore_index=False)\n",
        "\n",
        "cars_monthly_reset = cars_monthly_melted.dropna().reset_index()\n",
        "\n",
        "# read and clean the annual dataset\n",
        "file_url = 'https://raw.githubusercontent.com/worldbank/dec-python-course/main/1-foundations/3-numpy-and-pandas/data/Singapore_Annual_New_Car_Registrations_by_make_type.csv'\n",
        "singapore_cars = pd.read_csv(file_url)\n",
        "singapore_cars_cleaned = singapore_cars[~np.isnan(singapore_cars.number)]\n",
        "cars_annually_aggregated = singapore_cars_cleaned.pivot_table(index='make', columns='year', values='number', aggfunc='sum')\n",
        "cars_annually_melted = cars_annually_aggregated.melt(var_name='year', value_name='number', ignore_index=False)\n",
        "cars_annually_reset = cars_annually_melted.dropna().reset_index()"
      ],
      "metadata": {
        "id": "RX5xKV5JljEp"
      },
      "execution_count": 20,
      "outputs": []
    },
    {
      "cell_type": "markdown",
      "source": [
        "#### **Row-wise concatenation**\n",
        "\n",
        "Let's append to the annually cars registration data with the 2022 data from the monthly dataset:"
      ],
      "metadata": {
        "id": "ZbQB6YbiQ1TP"
      }
    },
    {
      "cell_type": "code",
      "source": [
        "cars_2022_partial = cars_monthly_reset[cars_monthly_reset.year == 2022]\n",
        "cars_annual_with_2022 = pd.concat([cars_annually_reset, cars_2022_partial], ignore_index=True)\n",
        "cars_annual_with_2022"
      ],
      "metadata": {
        "colab": {
          "base_uri": "https://localhost:8080/",
          "height": 424
        },
        "id": "Mccj31eoRV16",
        "outputId": "56368840-3e09-419d-fccf-3ffe1cf5f5ec"
      },
      "execution_count": 21,
      "outputs": [
        {
          "output_type": "execute_result",
          "data": {
            "text/plain": [
              "             make  year  number\n",
              "0      ALFA ROMEO  2015    31.0\n",
              "1          ALPINA  2015     9.0\n",
              "2    ASTON MARTIN  2015     5.0\n",
              "3            AUDI  2015  2093.0\n",
              "4          AUSTIN  2015     2.0\n",
              "..            ...   ...     ...\n",
              "418         TESLA  2022   315.0\n",
              "419        TOYOTA  2022  3545.0\n",
              "420       TRIUMPH  2022     2.0\n",
              "421    VOLKSWAGEN  2022   241.0\n",
              "422         VOLVO  2022   185.0\n",
              "\n",
              "[423 rows x 3 columns]"
            ],
            "text/html": [
              "\n",
              "  <div id=\"df-66f53e08-6ed2-4d0d-b15a-dcbe746f5db1\">\n",
              "    <div class=\"colab-df-container\">\n",
              "      <div>\n",
              "<style scoped>\n",
              "    .dataframe tbody tr th:only-of-type {\n",
              "        vertical-align: middle;\n",
              "    }\n",
              "\n",
              "    .dataframe tbody tr th {\n",
              "        vertical-align: top;\n",
              "    }\n",
              "\n",
              "    .dataframe thead th {\n",
              "        text-align: right;\n",
              "    }\n",
              "</style>\n",
              "<table border=\"1\" class=\"dataframe\">\n",
              "  <thead>\n",
              "    <tr style=\"text-align: right;\">\n",
              "      <th></th>\n",
              "      <th>make</th>\n",
              "      <th>year</th>\n",
              "      <th>number</th>\n",
              "    </tr>\n",
              "  </thead>\n",
              "  <tbody>\n",
              "    <tr>\n",
              "      <th>0</th>\n",
              "      <td>ALFA ROMEO</td>\n",
              "      <td>2015</td>\n",
              "      <td>31.0</td>\n",
              "    </tr>\n",
              "    <tr>\n",
              "      <th>1</th>\n",
              "      <td>ALPINA</td>\n",
              "      <td>2015</td>\n",
              "      <td>9.0</td>\n",
              "    </tr>\n",
              "    <tr>\n",
              "      <th>2</th>\n",
              "      <td>ASTON MARTIN</td>\n",
              "      <td>2015</td>\n",
              "      <td>5.0</td>\n",
              "    </tr>\n",
              "    <tr>\n",
              "      <th>3</th>\n",
              "      <td>AUDI</td>\n",
              "      <td>2015</td>\n",
              "      <td>2093.0</td>\n",
              "    </tr>\n",
              "    <tr>\n",
              "      <th>4</th>\n",
              "      <td>AUSTIN</td>\n",
              "      <td>2015</td>\n",
              "      <td>2.0</td>\n",
              "    </tr>\n",
              "    <tr>\n",
              "      <th>...</th>\n",
              "      <td>...</td>\n",
              "      <td>...</td>\n",
              "      <td>...</td>\n",
              "    </tr>\n",
              "    <tr>\n",
              "      <th>418</th>\n",
              "      <td>TESLA</td>\n",
              "      <td>2022</td>\n",
              "      <td>315.0</td>\n",
              "    </tr>\n",
              "    <tr>\n",
              "      <th>419</th>\n",
              "      <td>TOYOTA</td>\n",
              "      <td>2022</td>\n",
              "      <td>3545.0</td>\n",
              "    </tr>\n",
              "    <tr>\n",
              "      <th>420</th>\n",
              "      <td>TRIUMPH</td>\n",
              "      <td>2022</td>\n",
              "      <td>2.0</td>\n",
              "    </tr>\n",
              "    <tr>\n",
              "      <th>421</th>\n",
              "      <td>VOLKSWAGEN</td>\n",
              "      <td>2022</td>\n",
              "      <td>241.0</td>\n",
              "    </tr>\n",
              "    <tr>\n",
              "      <th>422</th>\n",
              "      <td>VOLVO</td>\n",
              "      <td>2022</td>\n",
              "      <td>185.0</td>\n",
              "    </tr>\n",
              "  </tbody>\n",
              "</table>\n",
              "<p>423 rows × 3 columns</p>\n",
              "</div>\n",
              "      <button class=\"colab-df-convert\" onclick=\"convertToInteractive('df-66f53e08-6ed2-4d0d-b15a-dcbe746f5db1')\"\n",
              "              title=\"Convert this dataframe to an interactive table.\"\n",
              "              style=\"display:none;\">\n",
              "        \n",
              "  <svg xmlns=\"http://www.w3.org/2000/svg\" height=\"24px\"viewBox=\"0 0 24 24\"\n",
              "       width=\"24px\">\n",
              "    <path d=\"M0 0h24v24H0V0z\" fill=\"none\"/>\n",
              "    <path d=\"M18.56 5.44l.94 2.06.94-2.06 2.06-.94-2.06-.94-.94-2.06-.94 2.06-2.06.94zm-11 1L8.5 8.5l.94-2.06 2.06-.94-2.06-.94L8.5 2.5l-.94 2.06-2.06.94zm10 10l.94 2.06.94-2.06 2.06-.94-2.06-.94-.94-2.06-.94 2.06-2.06.94z\"/><path d=\"M17.41 7.96l-1.37-1.37c-.4-.4-.92-.59-1.43-.59-.52 0-1.04.2-1.43.59L10.3 9.45l-7.72 7.72c-.78.78-.78 2.05 0 2.83L4 21.41c.39.39.9.59 1.41.59.51 0 1.02-.2 1.41-.59l7.78-7.78 2.81-2.81c.8-.78.8-2.07 0-2.86zM5.41 20L4 18.59l7.72-7.72 1.47 1.35L5.41 20z\"/>\n",
              "  </svg>\n",
              "      </button>\n",
              "      \n",
              "  <style>\n",
              "    .colab-df-container {\n",
              "      display:flex;\n",
              "      flex-wrap:wrap;\n",
              "      gap: 12px;\n",
              "    }\n",
              "\n",
              "    .colab-df-convert {\n",
              "      background-color: #E8F0FE;\n",
              "      border: none;\n",
              "      border-radius: 50%;\n",
              "      cursor: pointer;\n",
              "      display: none;\n",
              "      fill: #1967D2;\n",
              "      height: 32px;\n",
              "      padding: 0 0 0 0;\n",
              "      width: 32px;\n",
              "    }\n",
              "\n",
              "    .colab-df-convert:hover {\n",
              "      background-color: #E2EBFA;\n",
              "      box-shadow: 0px 1px 2px rgba(60, 64, 67, 0.3), 0px 1px 3px 1px rgba(60, 64, 67, 0.15);\n",
              "      fill: #174EA6;\n",
              "    }\n",
              "\n",
              "    [theme=dark] .colab-df-convert {\n",
              "      background-color: #3B4455;\n",
              "      fill: #D2E3FC;\n",
              "    }\n",
              "\n",
              "    [theme=dark] .colab-df-convert:hover {\n",
              "      background-color: #434B5C;\n",
              "      box-shadow: 0px 1px 3px 1px rgba(0, 0, 0, 0.15);\n",
              "      filter: drop-shadow(0px 1px 2px rgba(0, 0, 0, 0.3));\n",
              "      fill: #FFFFFF;\n",
              "    }\n",
              "  </style>\n",
              "\n",
              "      <script>\n",
              "        const buttonEl =\n",
              "          document.querySelector('#df-66f53e08-6ed2-4d0d-b15a-dcbe746f5db1 button.colab-df-convert');\n",
              "        buttonEl.style.display =\n",
              "          google.colab.kernel.accessAllowed ? 'block' : 'none';\n",
              "\n",
              "        async function convertToInteractive(key) {\n",
              "          const element = document.querySelector('#df-66f53e08-6ed2-4d0d-b15a-dcbe746f5db1');\n",
              "          const dataTable =\n",
              "            await google.colab.kernel.invokeFunction('convertToInteractive',\n",
              "                                                     [key], {});\n",
              "          if (!dataTable) return;\n",
              "\n",
              "          const docLinkHtml = 'Like what you see? Visit the ' +\n",
              "            '<a target=\"_blank\" href=https://colab.research.google.com/notebooks/data_table.ipynb>data table notebook</a>'\n",
              "            + ' to learn more about interactive tables.';\n",
              "          element.innerHTML = '';\n",
              "          dataTable['output_type'] = 'display_data';\n",
              "          await google.colab.output.renderOutput(dataTable, element);\n",
              "          const docLink = document.createElement('div');\n",
              "          docLink.innerHTML = docLinkHtml;\n",
              "          element.appendChild(docLink);\n",
              "        }\n",
              "      </script>\n",
              "    </div>\n",
              "  </div>\n",
              "  "
            ]
          },
          "metadata": {},
          "execution_count": 21
        }
      ]
    },
    {
      "cell_type": "code",
      "source": [
        "cars_annual_with_2022.year.unique()"
      ],
      "metadata": {
        "colab": {
          "base_uri": "https://localhost:8080/"
        },
        "id": "bVPWlueATtqw",
        "outputId": "ebb5494c-4aa5-4d5b-8fdc-6615b4f1d4a4"
      },
      "execution_count": 22,
      "outputs": [
        {
          "output_type": "execute_result",
          "data": {
            "text/plain": [
              "array([2015, 2016, 2017, 2018, 2019, 2020, 2021, 2022])"
            ]
          },
          "metadata": {},
          "execution_count": 22
        }
      ]
    },
    {
      "cell_type": "markdown",
      "source": [
        "#### **Column-wise concatenation**\n",
        "\n",
        "If batches of data are split column wise, we can specify `axis=1` for column-wise concatenation. \n",
        "\n",
        "To demonstrate this, let's first create a DataFrame with a `final` column to indicate if the data is finalized. It would be false for all 2022 data:"
      ],
      "metadata": {
        "id": "AU8J5B-UUFob"
      }
    },
    {
      "cell_type": "code",
      "source": [
        "finalized = cars_annual_with_2022.year != 2022\n",
        "cars_annual_finalized = pd.DataFrame({'final': finalized})\n",
        "cars_annual_finalized"
      ],
      "metadata": {
        "colab": {
          "base_uri": "https://localhost:8080/",
          "height": 424
        },
        "id": "TrBRPqF1Vj5O",
        "outputId": "2b5ed24b-4033-477a-d2f4-bcf919c66b5c"
      },
      "execution_count": 23,
      "outputs": [
        {
          "output_type": "execute_result",
          "data": {
            "text/plain": [
              "     final\n",
              "0     True\n",
              "1     True\n",
              "2     True\n",
              "3     True\n",
              "4     True\n",
              "..     ...\n",
              "418  False\n",
              "419  False\n",
              "420  False\n",
              "421  False\n",
              "422  False\n",
              "\n",
              "[423 rows x 1 columns]"
            ],
            "text/html": [
              "\n",
              "  <div id=\"df-d5d4e577-237f-444f-873f-aed217a06eb0\">\n",
              "    <div class=\"colab-df-container\">\n",
              "      <div>\n",
              "<style scoped>\n",
              "    .dataframe tbody tr th:only-of-type {\n",
              "        vertical-align: middle;\n",
              "    }\n",
              "\n",
              "    .dataframe tbody tr th {\n",
              "        vertical-align: top;\n",
              "    }\n",
              "\n",
              "    .dataframe thead th {\n",
              "        text-align: right;\n",
              "    }\n",
              "</style>\n",
              "<table border=\"1\" class=\"dataframe\">\n",
              "  <thead>\n",
              "    <tr style=\"text-align: right;\">\n",
              "      <th></th>\n",
              "      <th>final</th>\n",
              "    </tr>\n",
              "  </thead>\n",
              "  <tbody>\n",
              "    <tr>\n",
              "      <th>0</th>\n",
              "      <td>True</td>\n",
              "    </tr>\n",
              "    <tr>\n",
              "      <th>1</th>\n",
              "      <td>True</td>\n",
              "    </tr>\n",
              "    <tr>\n",
              "      <th>2</th>\n",
              "      <td>True</td>\n",
              "    </tr>\n",
              "    <tr>\n",
              "      <th>3</th>\n",
              "      <td>True</td>\n",
              "    </tr>\n",
              "    <tr>\n",
              "      <th>4</th>\n",
              "      <td>True</td>\n",
              "    </tr>\n",
              "    <tr>\n",
              "      <th>...</th>\n",
              "      <td>...</td>\n",
              "    </tr>\n",
              "    <tr>\n",
              "      <th>418</th>\n",
              "      <td>False</td>\n",
              "    </tr>\n",
              "    <tr>\n",
              "      <th>419</th>\n",
              "      <td>False</td>\n",
              "    </tr>\n",
              "    <tr>\n",
              "      <th>420</th>\n",
              "      <td>False</td>\n",
              "    </tr>\n",
              "    <tr>\n",
              "      <th>421</th>\n",
              "      <td>False</td>\n",
              "    </tr>\n",
              "    <tr>\n",
              "      <th>422</th>\n",
              "      <td>False</td>\n",
              "    </tr>\n",
              "  </tbody>\n",
              "</table>\n",
              "<p>423 rows × 1 columns</p>\n",
              "</div>\n",
              "      <button class=\"colab-df-convert\" onclick=\"convertToInteractive('df-d5d4e577-237f-444f-873f-aed217a06eb0')\"\n",
              "              title=\"Convert this dataframe to an interactive table.\"\n",
              "              style=\"display:none;\">\n",
              "        \n",
              "  <svg xmlns=\"http://www.w3.org/2000/svg\" height=\"24px\"viewBox=\"0 0 24 24\"\n",
              "       width=\"24px\">\n",
              "    <path d=\"M0 0h24v24H0V0z\" fill=\"none\"/>\n",
              "    <path d=\"M18.56 5.44l.94 2.06.94-2.06 2.06-.94-2.06-.94-.94-2.06-.94 2.06-2.06.94zm-11 1L8.5 8.5l.94-2.06 2.06-.94-2.06-.94L8.5 2.5l-.94 2.06-2.06.94zm10 10l.94 2.06.94-2.06 2.06-.94-2.06-.94-.94-2.06-.94 2.06-2.06.94z\"/><path d=\"M17.41 7.96l-1.37-1.37c-.4-.4-.92-.59-1.43-.59-.52 0-1.04.2-1.43.59L10.3 9.45l-7.72 7.72c-.78.78-.78 2.05 0 2.83L4 21.41c.39.39.9.59 1.41.59.51 0 1.02-.2 1.41-.59l7.78-7.78 2.81-2.81c.8-.78.8-2.07 0-2.86zM5.41 20L4 18.59l7.72-7.72 1.47 1.35L5.41 20z\"/>\n",
              "  </svg>\n",
              "      </button>\n",
              "      \n",
              "  <style>\n",
              "    .colab-df-container {\n",
              "      display:flex;\n",
              "      flex-wrap:wrap;\n",
              "      gap: 12px;\n",
              "    }\n",
              "\n",
              "    .colab-df-convert {\n",
              "      background-color: #E8F0FE;\n",
              "      border: none;\n",
              "      border-radius: 50%;\n",
              "      cursor: pointer;\n",
              "      display: none;\n",
              "      fill: #1967D2;\n",
              "      height: 32px;\n",
              "      padding: 0 0 0 0;\n",
              "      width: 32px;\n",
              "    }\n",
              "\n",
              "    .colab-df-convert:hover {\n",
              "      background-color: #E2EBFA;\n",
              "      box-shadow: 0px 1px 2px rgba(60, 64, 67, 0.3), 0px 1px 3px 1px rgba(60, 64, 67, 0.15);\n",
              "      fill: #174EA6;\n",
              "    }\n",
              "\n",
              "    [theme=dark] .colab-df-convert {\n",
              "      background-color: #3B4455;\n",
              "      fill: #D2E3FC;\n",
              "    }\n",
              "\n",
              "    [theme=dark] .colab-df-convert:hover {\n",
              "      background-color: #434B5C;\n",
              "      box-shadow: 0px 1px 3px 1px rgba(0, 0, 0, 0.15);\n",
              "      filter: drop-shadow(0px 1px 2px rgba(0, 0, 0, 0.3));\n",
              "      fill: #FFFFFF;\n",
              "    }\n",
              "  </style>\n",
              "\n",
              "      <script>\n",
              "        const buttonEl =\n",
              "          document.querySelector('#df-d5d4e577-237f-444f-873f-aed217a06eb0 button.colab-df-convert');\n",
              "        buttonEl.style.display =\n",
              "          google.colab.kernel.accessAllowed ? 'block' : 'none';\n",
              "\n",
              "        async function convertToInteractive(key) {\n",
              "          const element = document.querySelector('#df-d5d4e577-237f-444f-873f-aed217a06eb0');\n",
              "          const dataTable =\n",
              "            await google.colab.kernel.invokeFunction('convertToInteractive',\n",
              "                                                     [key], {});\n",
              "          if (!dataTable) return;\n",
              "\n",
              "          const docLinkHtml = 'Like what you see? Visit the ' +\n",
              "            '<a target=\"_blank\" href=https://colab.research.google.com/notebooks/data_table.ipynb>data table notebook</a>'\n",
              "            + ' to learn more about interactive tables.';\n",
              "          element.innerHTML = '';\n",
              "          dataTable['output_type'] = 'display_data';\n",
              "          await google.colab.output.renderOutput(dataTable, element);\n",
              "          const docLink = document.createElement('div');\n",
              "          docLink.innerHTML = docLinkHtml;\n",
              "          element.appendChild(docLink);\n",
              "        }\n",
              "      </script>\n",
              "    </div>\n",
              "  </div>\n",
              "  "
            ]
          },
          "metadata": {},
          "execution_count": 23
        }
      ]
    },
    {
      "cell_type": "markdown",
      "source": [
        "To perform column-wise concatenation:"
      ],
      "metadata": {
        "id": "sVZyeGI2WW7a"
      }
    },
    {
      "cell_type": "code",
      "source": [
        "pd.concat([cars_annual_with_2022, cars_annual_finalized], axis=1)"
      ],
      "metadata": {
        "colab": {
          "base_uri": "https://localhost:8080/",
          "height": 424
        },
        "id": "ukaM3eDOWetn",
        "outputId": "e241a30c-de5c-40a9-80e6-267a1200e758"
      },
      "execution_count": 24,
      "outputs": [
        {
          "output_type": "execute_result",
          "data": {
            "text/plain": [
              "             make  year  number  final\n",
              "0      ALFA ROMEO  2015    31.0   True\n",
              "1          ALPINA  2015     9.0   True\n",
              "2    ASTON MARTIN  2015     5.0   True\n",
              "3            AUDI  2015  2093.0   True\n",
              "4          AUSTIN  2015     2.0   True\n",
              "..            ...   ...     ...    ...\n",
              "418         TESLA  2022   315.0  False\n",
              "419        TOYOTA  2022  3545.0  False\n",
              "420       TRIUMPH  2022     2.0  False\n",
              "421    VOLKSWAGEN  2022   241.0  False\n",
              "422         VOLVO  2022   185.0  False\n",
              "\n",
              "[423 rows x 4 columns]"
            ],
            "text/html": [
              "\n",
              "  <div id=\"df-c73903c7-018a-48fb-974e-1ae2d107a1b8\">\n",
              "    <div class=\"colab-df-container\">\n",
              "      <div>\n",
              "<style scoped>\n",
              "    .dataframe tbody tr th:only-of-type {\n",
              "        vertical-align: middle;\n",
              "    }\n",
              "\n",
              "    .dataframe tbody tr th {\n",
              "        vertical-align: top;\n",
              "    }\n",
              "\n",
              "    .dataframe thead th {\n",
              "        text-align: right;\n",
              "    }\n",
              "</style>\n",
              "<table border=\"1\" class=\"dataframe\">\n",
              "  <thead>\n",
              "    <tr style=\"text-align: right;\">\n",
              "      <th></th>\n",
              "      <th>make</th>\n",
              "      <th>year</th>\n",
              "      <th>number</th>\n",
              "      <th>final</th>\n",
              "    </tr>\n",
              "  </thead>\n",
              "  <tbody>\n",
              "    <tr>\n",
              "      <th>0</th>\n",
              "      <td>ALFA ROMEO</td>\n",
              "      <td>2015</td>\n",
              "      <td>31.0</td>\n",
              "      <td>True</td>\n",
              "    </tr>\n",
              "    <tr>\n",
              "      <th>1</th>\n",
              "      <td>ALPINA</td>\n",
              "      <td>2015</td>\n",
              "      <td>9.0</td>\n",
              "      <td>True</td>\n",
              "    </tr>\n",
              "    <tr>\n",
              "      <th>2</th>\n",
              "      <td>ASTON MARTIN</td>\n",
              "      <td>2015</td>\n",
              "      <td>5.0</td>\n",
              "      <td>True</td>\n",
              "    </tr>\n",
              "    <tr>\n",
              "      <th>3</th>\n",
              "      <td>AUDI</td>\n",
              "      <td>2015</td>\n",
              "      <td>2093.0</td>\n",
              "      <td>True</td>\n",
              "    </tr>\n",
              "    <tr>\n",
              "      <th>4</th>\n",
              "      <td>AUSTIN</td>\n",
              "      <td>2015</td>\n",
              "      <td>2.0</td>\n",
              "      <td>True</td>\n",
              "    </tr>\n",
              "    <tr>\n",
              "      <th>...</th>\n",
              "      <td>...</td>\n",
              "      <td>...</td>\n",
              "      <td>...</td>\n",
              "      <td>...</td>\n",
              "    </tr>\n",
              "    <tr>\n",
              "      <th>418</th>\n",
              "      <td>TESLA</td>\n",
              "      <td>2022</td>\n",
              "      <td>315.0</td>\n",
              "      <td>False</td>\n",
              "    </tr>\n",
              "    <tr>\n",
              "      <th>419</th>\n",
              "      <td>TOYOTA</td>\n",
              "      <td>2022</td>\n",
              "      <td>3545.0</td>\n",
              "      <td>False</td>\n",
              "    </tr>\n",
              "    <tr>\n",
              "      <th>420</th>\n",
              "      <td>TRIUMPH</td>\n",
              "      <td>2022</td>\n",
              "      <td>2.0</td>\n",
              "      <td>False</td>\n",
              "    </tr>\n",
              "    <tr>\n",
              "      <th>421</th>\n",
              "      <td>VOLKSWAGEN</td>\n",
              "      <td>2022</td>\n",
              "      <td>241.0</td>\n",
              "      <td>False</td>\n",
              "    </tr>\n",
              "    <tr>\n",
              "      <th>422</th>\n",
              "      <td>VOLVO</td>\n",
              "      <td>2022</td>\n",
              "      <td>185.0</td>\n",
              "      <td>False</td>\n",
              "    </tr>\n",
              "  </tbody>\n",
              "</table>\n",
              "<p>423 rows × 4 columns</p>\n",
              "</div>\n",
              "      <button class=\"colab-df-convert\" onclick=\"convertToInteractive('df-c73903c7-018a-48fb-974e-1ae2d107a1b8')\"\n",
              "              title=\"Convert this dataframe to an interactive table.\"\n",
              "              style=\"display:none;\">\n",
              "        \n",
              "  <svg xmlns=\"http://www.w3.org/2000/svg\" height=\"24px\"viewBox=\"0 0 24 24\"\n",
              "       width=\"24px\">\n",
              "    <path d=\"M0 0h24v24H0V0z\" fill=\"none\"/>\n",
              "    <path d=\"M18.56 5.44l.94 2.06.94-2.06 2.06-.94-2.06-.94-.94-2.06-.94 2.06-2.06.94zm-11 1L8.5 8.5l.94-2.06 2.06-.94-2.06-.94L8.5 2.5l-.94 2.06-2.06.94zm10 10l.94 2.06.94-2.06 2.06-.94-2.06-.94-.94-2.06-.94 2.06-2.06.94z\"/><path d=\"M17.41 7.96l-1.37-1.37c-.4-.4-.92-.59-1.43-.59-.52 0-1.04.2-1.43.59L10.3 9.45l-7.72 7.72c-.78.78-.78 2.05 0 2.83L4 21.41c.39.39.9.59 1.41.59.51 0 1.02-.2 1.41-.59l7.78-7.78 2.81-2.81c.8-.78.8-2.07 0-2.86zM5.41 20L4 18.59l7.72-7.72 1.47 1.35L5.41 20z\"/>\n",
              "  </svg>\n",
              "      </button>\n",
              "      \n",
              "  <style>\n",
              "    .colab-df-container {\n",
              "      display:flex;\n",
              "      flex-wrap:wrap;\n",
              "      gap: 12px;\n",
              "    }\n",
              "\n",
              "    .colab-df-convert {\n",
              "      background-color: #E8F0FE;\n",
              "      border: none;\n",
              "      border-radius: 50%;\n",
              "      cursor: pointer;\n",
              "      display: none;\n",
              "      fill: #1967D2;\n",
              "      height: 32px;\n",
              "      padding: 0 0 0 0;\n",
              "      width: 32px;\n",
              "    }\n",
              "\n",
              "    .colab-df-convert:hover {\n",
              "      background-color: #E2EBFA;\n",
              "      box-shadow: 0px 1px 2px rgba(60, 64, 67, 0.3), 0px 1px 3px 1px rgba(60, 64, 67, 0.15);\n",
              "      fill: #174EA6;\n",
              "    }\n",
              "\n",
              "    [theme=dark] .colab-df-convert {\n",
              "      background-color: #3B4455;\n",
              "      fill: #D2E3FC;\n",
              "    }\n",
              "\n",
              "    [theme=dark] .colab-df-convert:hover {\n",
              "      background-color: #434B5C;\n",
              "      box-shadow: 0px 1px 3px 1px rgba(0, 0, 0, 0.15);\n",
              "      filter: drop-shadow(0px 1px 2px rgba(0, 0, 0, 0.3));\n",
              "      fill: #FFFFFF;\n",
              "    }\n",
              "  </style>\n",
              "\n",
              "      <script>\n",
              "        const buttonEl =\n",
              "          document.querySelector('#df-c73903c7-018a-48fb-974e-1ae2d107a1b8 button.colab-df-convert');\n",
              "        buttonEl.style.display =\n",
              "          google.colab.kernel.accessAllowed ? 'block' : 'none';\n",
              "\n",
              "        async function convertToInteractive(key) {\n",
              "          const element = document.querySelector('#df-c73903c7-018a-48fb-974e-1ae2d107a1b8');\n",
              "          const dataTable =\n",
              "            await google.colab.kernel.invokeFunction('convertToInteractive',\n",
              "                                                     [key], {});\n",
              "          if (!dataTable) return;\n",
              "\n",
              "          const docLinkHtml = 'Like what you see? Visit the ' +\n",
              "            '<a target=\"_blank\" href=https://colab.research.google.com/notebooks/data_table.ipynb>data table notebook</a>'\n",
              "            + ' to learn more about interactive tables.';\n",
              "          element.innerHTML = '';\n",
              "          dataTable['output_type'] = 'display_data';\n",
              "          await google.colab.output.renderOutput(dataTable, element);\n",
              "          const docLink = document.createElement('div');\n",
              "          docLink.innerHTML = docLinkHtml;\n",
              "          element.appendChild(docLink);\n",
              "        }\n",
              "      </script>\n",
              "    </div>\n",
              "  </div>\n",
              "  "
            ]
          },
          "metadata": {},
          "execution_count": 24
        }
      ]
    },
    {
      "cell_type": "markdown",
      "source": [
        "`merge` and `concat` are two very powerful function for working with multiple DataFrames. Check out their documentation and Pandas' user guide on [Merge, join, concatenate and compare](https://pandas.pydata.org/docs/user_guide/merging.html) to learn more. \n",
        "\n",
        "**Tip**: you can always invoke `?` to bring up the documentation for any function in colab, e.g. `pd.concat?`"
      ],
      "metadata": {
        "id": "oUcQgxE8XwGb"
      }
    }
  ]
}
{
  "nbformat": 4,
  "nbformat_minor": 0,
  "metadata": {
    "colab": {
      "name": "foundations-s3-bonus.ipynb",
      "provenance": [],
      "toc_visible": true,
      "authorship_tag": "ABX9TyPJygEzboNqYbAQ5lu3G/OP",
      "include_colab_link": true
    },
    "kernelspec": {
      "name": "python3",
      "display_name": "Python 3"
    },
    "language_info": {
      "name": "python"
    }
  },
  "cells": [
    {
      "cell_type": "markdown",
      "metadata": {
        "id": "view-in-github",
        "colab_type": "text"
      },
      "source": [
        "<a href=\"https://colab.research.google.com/github/worldbank/dec-python-course/blob/update-session-3/1-foundations/3-numpy-and-pandas/foundations-s3-bonus.ipynb\" target=\"_parent\"><img src=\"https://colab.research.google.com/assets/colab-badge.svg\" alt=\"Open In Colab\"/></a>"
      ]
    },
    {
      "cell_type": "markdown",
      "source": [
        "# DEC Foundations of Python for Data Science - Session 3 Bonus Material\n",
        "\n",
        "This notebook contains only the **BONUS material** for Session 3. The main material is [here](https://colab.research.google.com/github/worldbank/dec-python-course/blob/main/1-foundations/3-numpy-and-pandas/foundations-s3.ipynb)."
      ],
      "metadata": {
        "id": "f-D1mh0KslBo"
      }
    },
    {
      "cell_type": "markdown",
      "source": [
        "# 1.Python Library Extras"
      ],
      "metadata": {
        "id": "DVB7-9PUKxx-"
      }
    },
    {
      "cell_type": "markdown",
      "source": [
        "## How to upgrade a library?\n",
        "\n",
        "Sometimes you find yourself needing the functionalities or bug fixes provided by the latest version of a library. The notebook environment may not have the latest version installed."
      ],
      "metadata": {
        "id": "-eZ2_CmN4Mzq"
      }
    },
    {
      "cell_type": "code",
      "source": [
        "# install/upgrade to the latest stable verison of a package\n",
        "# Click on \"RESTART RUNTIME\" if you see the button\n",
        "!pip install pandas --upgrade "
      ],
      "metadata": {
        "colab": {
          "base_uri": "https://localhost:8080/",
          "height": 367
        },
        "id": "jiOOOA9w4UeG",
        "outputId": "8c436bac-e095-42b8-bc88-3dec3629951e"
      },
      "execution_count": null,
      "outputs": [
        {
          "output_type": "stream",
          "name": "stdout",
          "text": [
            "Looking in indexes: https://pypi.org/simple, https://us-python.pkg.dev/colab-wheels/public/simple/\n",
            "Requirement already satisfied: pandas in /usr/local/lib/python3.8/dist-packages (1.3.5)\n",
            "Collecting pandas\n",
            "  Using cached pandas-1.5.3-cp38-cp38-manylinux_2_17_x86_64.manylinux2014_x86_64.whl (12.2 MB)\n",
            "Requirement already satisfied: pytz>=2020.1 in /usr/local/lib/python3.8/dist-packages (from pandas) (2022.7.1)\n",
            "Requirement already satisfied: numpy>=1.20.3 in /usr/local/lib/python3.8/dist-packages (from pandas) (1.21.6)\n",
            "Requirement already satisfied: python-dateutil>=2.8.1 in /usr/local/lib/python3.8/dist-packages (from pandas) (2.8.2)\n",
            "Requirement already satisfied: six>=1.5 in /usr/local/lib/python3.8/dist-packages (from python-dateutil>=2.8.1->pandas) (1.15.0)\n",
            "Installing collected packages: pandas\n",
            "  Attempting uninstall: pandas\n",
            "    Found existing installation: pandas 1.3.5\n",
            "    Uninstalling pandas-1.3.5:\n",
            "      Successfully uninstalled pandas-1.3.5\n",
            "Successfully installed pandas-1.5.3\n"
          ]
        },
        {
          "output_type": "display_data",
          "data": {
            "application/vnd.colab-display-data+json": {
              "pip_warning": {
                "packages": [
                  "pandas"
                ]
              }
            }
          },
          "metadata": {}
        }
      ]
    },
    {
      "cell_type": "markdown",
      "source": [
        "## How to install a specific version of a library?\n",
        "\n",
        "Sometimes a specific version of a library is called for due to reasons such as dependency requirement."
      ],
      "metadata": {
        "id": "e8NjAUCELPpr"
      }
    },
    {
      "cell_type": "code",
      "source": [
        "# install a specific version of a package\n",
        "!pip install pandas==1.3.5"
      ],
      "metadata": {
        "colab": {
          "base_uri": "https://localhost:8080/",
          "height": 349
        },
        "id": "lcUHqMOw8GCC",
        "outputId": "cc81c1df-744a-4f18-842e-890a06972afb"
      },
      "execution_count": null,
      "outputs": [
        {
          "output_type": "stream",
          "name": "stdout",
          "text": [
            "Looking in indexes: https://pypi.org/simple, https://us-python.pkg.dev/colab-wheels/public/simple/\n",
            "Collecting pandas==1.3.5\n",
            "  Using cached pandas-1.3.5-cp38-cp38-manylinux_2_17_x86_64.manylinux2014_x86_64.whl (11.5 MB)\n",
            "Requirement already satisfied: python-dateutil>=2.7.3 in /usr/local/lib/python3.8/dist-packages (from pandas==1.3.5) (2.8.2)\n",
            "Requirement already satisfied: numpy>=1.17.3 in /usr/local/lib/python3.8/dist-packages (from pandas==1.3.5) (1.21.6)\n",
            "Requirement already satisfied: pytz>=2017.3 in /usr/local/lib/python3.8/dist-packages (from pandas==1.3.5) (2022.7.1)\n",
            "Requirement already satisfied: six>=1.5 in /usr/local/lib/python3.8/dist-packages (from python-dateutil>=2.7.3->pandas==1.3.5) (1.15.0)\n",
            "Installing collected packages: pandas\n",
            "  Attempting uninstall: pandas\n",
            "    Found existing installation: pandas 1.5.3\n",
            "    Uninstalling pandas-1.5.3:\n",
            "      Successfully uninstalled pandas-1.5.3\n",
            "Successfully installed pandas-1.3.5\n"
          ]
        },
        {
          "output_type": "display_data",
          "data": {
            "application/vnd.colab-display-data+json": {
              "pip_warning": {
                "packages": [
                  "pandas"
                ]
              }
            }
          },
          "metadata": {}
        }
      ]
    },
    {
      "cell_type": "markdown",
      "source": [
        "## 1.5. Exercises: install and use matplotlib\n",
        "The following exercises are meant to be completed step by step. Upon successful completion of all steps, the last cell should execute without any `AssertionError` or the prompt \"Remove this line after filling in your own code\"."
      ],
      "metadata": {
        "id": "czk5G3O9Ks_O"
      }
    },
    {
      "cell_type": "markdown",
      "source": [
        "### Step 1. \n",
        "\n",
        "Run a command to find out what is the current installed version of `matplotlib`:"
      ],
      "metadata": {
        "id": "emskTwhTgPU5"
      }
    },
    {
      "cell_type": "code",
      "source": [
        "# hint: use ! and bash command `pip freeze` and pipe the results to bash command `grep matplotlib`"
      ],
      "metadata": {
        "id": "CwERECq69Q_j"
      },
      "execution_count": null,
      "outputs": []
    },
    {
      "cell_type": "markdown",
      "source": [
        "### Step 2. \n",
        "\n",
        "Install version 3.5.2 of `matplotlib` for this notebook. Upon successful installation, click on \"RESTART RUNTIME\" in the code cell output."
      ],
      "metadata": {
        "id": "43mq07rBF414"
      }
    },
    {
      "cell_type": "code",
      "source": [
        "# hint: use ! and bash command `pip install`"
      ],
      "metadata": {
        "id": "WdwQn1lEGP5i"
      },
      "execution_count": null,
      "outputs": []
    },
    {
      "cell_type": "markdown",
      "source": [
        "### Step 3.\n",
        "\n",
        "Import `matplotlib`'s `pyplot` module and alias it as `plt`"
      ],
      "metadata": {
        "id": "yuwpmEcnG9-3"
      }
    },
    {
      "cell_type": "code",
      "source": [
        "%%script echo Remove this line after filling in your own code\n",
        "# hint: use `import ... as ...`\n",
        "\n",
        "# === Do not modify code below ===\n",
        "fig = plt.figure(figsize=(10, 80))\n",
        "assert hasattr(fig, \"subfigures\"),\\\n",
        " \"If correct version of matplotlib were installed you should not see this message\"\n",
        "\n",
        "print(\"Well done!\")"
      ],
      "metadata": {
        "colab": {
          "base_uri": "https://localhost:8080/"
        },
        "id": "_QQVLOJfIg6V",
        "outputId": "dec6f416-a450-4e07-abf8-8d759bdf08bc"
      },
      "execution_count": null,
      "outputs": [
        {
          "output_type": "stream",
          "name": "stdout",
          "text": [
            "Remove this line after filling in your own code\n"
          ]
        }
      ]
    },
    {
      "cell_type": "markdown",
      "source": [
        "## Python Library Versioning\n",
        "\n",
        "If you want to lock/control the versions of all packages used by your script (aka. dependencies), you can put them in a `requirements.txt` file in the format of `package_name==package_version` one package per line, then instruct pip to install the dependences in the `requirements.txt` file with bash command `pip install -r requirements.txt`. Using `requirements.txt` for dependency management is a very common practice in python projects."
      ],
      "metadata": {
        "id": "z3R2Nz71tB_d"
      }
    },
    {
      "cell_type": "markdown",
      "source": [
        "### Exercises\n",
        "The following exercises are meant to be completed step by step. Upon successful completion of all steps, the last cell should execute without any `AssertionError`.\n",
        "1. Git clone this course repository from github: https://github.com/worldbank/dec-python-course"
      ],
      "metadata": {
        "id": "udmuxsot8iMf"
      }
    },
    {
      "cell_type": "code",
      "source": [
        "# hint: use ! and bash command `git clone`"
      ],
      "metadata": {
        "id": "q4wWMbxayR5W"
      },
      "execution_count": null,
      "outputs": []
    },
    {
      "cell_type": "markdown",
      "source": [
        "2. Change your working directory to the folder where this file is in `\n",
        "dec-python-course/1-foundations/3-numpy-and-pandas/`"
      ],
      "metadata": {
        "id": "ps9YWCs1ySto"
      }
    },
    {
      "cell_type": "code",
      "source": [
        "# hint: use % and bash command `cd`"
      ],
      "metadata": {
        "id": "WX4joz0Eyb22"
      },
      "execution_count": null,
      "outputs": []
    },
    {
      "cell_type": "markdown",
      "source": [
        "3. Install all python libraries as specified in `requirements.txt`, without copying the content of `requirements.txt`. Upon successful installation, click on \"RESTART RUNTIME\" in the code cell output."
      ],
      "metadata": {
        "id": "vrUeijHeyfkb"
      }
    },
    {
      "cell_type": "code",
      "source": [
        "# hint: use ! and bash command `pip install` with flag `-r`"
      ],
      "metadata": {
        "id": "Gi01o47fyhR0"
      },
      "execution_count": null,
      "outputs": []
    },
    {
      "cell_type": "markdown",
      "source": [
        "4. Import `matplotlib`'s `pyplot` module and alias it as `plt`"
      ],
      "metadata": {
        "id": "QrIctfVsynSM"
      }
    },
    {
      "cell_type": "code",
      "source": [
        "%%script echo Remove this line after filling in your own code\n",
        "# hint: use `import ... as ...`\n",
        "\n",
        "# === Do not modify code below ===\n",
        "fig = plt.figure(figsize=(10, 80))\n",
        "assert hasattr(fig, \"subfigures\"),\\\n",
        " \"If correct version of matplotlib were installed you should not see this message\"\n",
        "\n",
        "print(\"Well done!\")"
      ],
      "metadata": {
        "id": "kOrxdAJQyn_E",
        "colab": {
          "base_uri": "https://localhost:8080/"
        },
        "outputId": "61369e4b-c3b7-40e9-a7b6-b3f4f8393b96"
      },
      "execution_count": null,
      "outputs": [
        {
          "output_type": "stream",
          "name": "stdout",
          "text": [
            "Remove this line after filling in your own code\n"
          ]
        }
      ]
    },
    {
      "cell_type": "markdown",
      "source": [
        "# 2.NumPy Extras"
      ],
      "metadata": {
        "id": "0UW3pP19tfUC"
      }
    },
    {
      "cell_type": "markdown",
      "source": [
        "### How does a NumPy `ndarray` compare to a Python `array`?\n",
        "In Python, arrays are most often represented using `list`, which allows for different data types within a single list. (For a refresher on lists, see Session 1 of this course, \"Container types - Lists\" section). Python standard library does come with its own `array` module which requires that a single array can only contain one data type of elements. Python's `array` is more compact (takes less space in storage) than `list` and comes with some basic math operations. NumPy's `ndarray` is like Python's `array` on steroids, functionality wise."
      ],
      "metadata": {
        "id": "GZLEMDHSD_Hz"
      }
    },
    {
      "cell_type": "code",
      "source": [
        "from array import array\n",
        "import numpy as np\n",
        "\n",
        "py_list = [1, 2, '3']\n",
        "py_array = array('i', [1, 2, 3]) # i indicates integer\n",
        "np_array = np.array([1, 2, 3])"
      ],
      "metadata": {
        "id": "eaMKE8NnDAvX"
      },
      "execution_count": null,
      "outputs": []
    },
    {
      "cell_type": "code",
      "source": [
        "import numpy as np\n",
        "\n",
        "one_d_array = np.arange(4)\n",
        "two_d_array = np.array([[1, 2], [3, 4]])"
      ],
      "metadata": {
        "id": "AQmQDJkItqFI"
      },
      "execution_count": null,
      "outputs": []
    },
    {
      "cell_type": "markdown",
      "source": [
        "## How to create an ndarray with skip-sequential numbers?"
      ],
      "metadata": {
        "id": "wBTa_lkksrxh"
      }
    },
    {
      "cell_type": "code",
      "source": [
        "# start, stop, step\n",
        "np.arange(1, 9, 2)"
      ],
      "metadata": {
        "colab": {
          "base_uri": "https://localhost:8080/"
        },
        "id": "VsSluLFkJgJN",
        "outputId": "6b8d5dc0-1695-4e5f-d34d-cc158c42055c"
      },
      "execution_count": null,
      "outputs": [
        {
          "output_type": "execute_result",
          "data": {
            "text/plain": [
              "array([1, 3, 5, 7])"
            ]
          },
          "metadata": {},
          "execution_count": 24
        }
      ]
    },
    {
      "cell_type": "markdown",
      "source": [
        "## How to create a 3D ndarray?"
      ],
      "metadata": {
        "id": "ufxI1P3otAIO"
      }
    },
    {
      "cell_type": "code",
      "source": [
        "# 3-D array\n",
        "three_d_array = np.array([[[1.0, 2], [4, 3], [7, 4]],\n",
        "                          [[2, 5], [9, 5], [7, 5]],\n",
        "                          [[1,2], [3,2], [0,2]],\n",
        "                          [[9, 8], [6, 8], [9, 8]]])\n",
        "three_d_array"
      ],
      "metadata": {
        "colab": {
          "base_uri": "https://localhost:8080/"
        },
        "id": "_rzZrypbKRe1",
        "outputId": "cf0218de-17e8-43d0-b6be-cd7120c697e0"
      },
      "execution_count": null,
      "outputs": [
        {
          "output_type": "execute_result",
          "data": {
            "text/plain": [
              "array([[[1., 2.],\n",
              "        [4., 3.],\n",
              "        [7., 4.]],\n",
              "\n",
              "       [[2., 5.],\n",
              "        [9., 5.],\n",
              "        [7., 5.]],\n",
              "\n",
              "       [[1., 2.],\n",
              "        [3., 2.],\n",
              "        [0., 2.]],\n",
              "\n",
              "       [[9., 8.],\n",
              "        [6., 8.],\n",
              "        [9., 8.]]])"
            ]
          },
          "metadata": {},
          "execution_count": 26
        }
      ]
    },
    {
      "cell_type": "markdown",
      "source": [
        "![elsp_0105.png](data:image/png;base64,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)"
      ],
      "metadata": {
        "id": "L2oAirg-G4di"
      }
    },
    {
      "cell_type": "code",
      "source": [
        "three_d_array.ndim"
      ],
      "metadata": {
        "colab": {
          "base_uri": "https://localhost:8080/"
        },
        "id": "k_7NYDVHLVjf",
        "outputId": "1dfb5483-c636-403a-c3eb-4871d961793f"
      },
      "execution_count": null,
      "outputs": [
        {
          "output_type": "execute_result",
          "data": {
            "text/plain": [
              "3"
            ]
          },
          "metadata": {},
          "execution_count": 28
        }
      ]
    },
    {
      "cell_type": "code",
      "source": [
        "three_d_array.shape"
      ],
      "metadata": {
        "colab": {
          "base_uri": "https://localhost:8080/"
        },
        "id": "XyDDu35GAprw",
        "outputId": "438d84d1-49bb-4274-a1d5-35a6e6b59366"
      },
      "execution_count": null,
      "outputs": [
        {
          "output_type": "execute_result",
          "data": {
            "text/plain": [
              "(4, 3, 2)"
            ]
          },
          "metadata": {},
          "execution_count": 30
        }
      ]
    },
    {
      "cell_type": "markdown",
      "source": [
        "## How to reshape an `ndarray`?"
      ],
      "metadata": {
        "id": "SqPX6BqZWKZj"
      }
    },
    {
      "cell_type": "code",
      "source": [
        "two_d_array"
      ],
      "metadata": {
        "id": "KdKG56Rzp1lD",
        "outputId": "4bd798ee-f09d-449a-84ec-8c2f8bf8acff",
        "colab": {
          "base_uri": "https://localhost:8080/"
        }
      },
      "execution_count": null,
      "outputs": [
        {
          "output_type": "execute_result",
          "data": {
            "text/plain": [
              "array([[1, 2],\n",
              "       [3, 4]])"
            ]
          },
          "metadata": {},
          "execution_count": 41
        }
      ]
    },
    {
      "cell_type": "code",
      "source": [
        "%%script echo Remove line for demo\n",
        "one_d_array - two_d_array"
      ],
      "metadata": {
        "colab": {
          "base_uri": "https://localhost:8080/"
        },
        "id": "h8kjqzYjRJ3p",
        "outputId": "6362098c-8f43-49da-dea1-06fbd6bd0bc7"
      },
      "execution_count": null,
      "outputs": [
        {
          "output_type": "stream",
          "name": "stdout",
          "text": [
            "Remove line for demo\n"
          ]
        }
      ]
    },
    {
      "cell_type": "markdown",
      "source": [
        "Above is a stylized example, but it is often the case when working with tabular data in python you might find your data shape isn't quite right for input for a function or it doesn't match the other dataset you might want to join or compute with. This is where reshaping needs to happen."
      ],
      "metadata": {
        "id": "ZsSKVpOdqNpx"
      }
    },
    {
      "cell_type": "markdown",
      "source": [
        "Use the `reshape` function with the new shape as arguments. Note that the new shape must have the same number of elements as the original array.\n",
        "\n",
        "<img src=\"https://numpy.org/doc/stable/_images/np_reshape.png\" />\n",
        "\n",
        "Image credit: https://numpy.org/doc/stable/user/absolute_beginners.html#transposing-and-reshaping-a-matrix"
      ],
      "metadata": {
        "id": "o78bmHjaDsSH"
      }
    },
    {
      "cell_type": "code",
      "source": [
        "one_d_array.reshape(2, 2) - two_d_array"
      ],
      "metadata": {
        "colab": {
          "base_uri": "https://localhost:8080/"
        },
        "id": "OAtTlmLVSKKg",
        "outputId": "01affcda-0c6d-443c-d6b4-c3e020ee42b0"
      },
      "execution_count": null,
      "outputs": [
        {
          "output_type": "execute_result",
          "data": {
            "text/plain": [
              "array([[-1, -1],\n",
              "       [-1, -1]])"
            ]
          },
          "metadata": {},
          "execution_count": 43
        }
      ]
    },
    {
      "cell_type": "markdown",
      "source": [
        "To flatten any multidimensional array to a 1-d array:"
      ],
      "metadata": {
        "id": "cNqIiHNuUnX1"
      }
    },
    {
      "cell_type": "code",
      "source": [
        "two_d_array.flatten()"
      ],
      "metadata": {
        "colab": {
          "base_uri": "https://localhost:8080/"
        },
        "id": "bNxinokzUxv0",
        "outputId": "51280fcf-32ae-4210-c285-c5060055dab5"
      },
      "execution_count": null,
      "outputs": [
        {
          "output_type": "execute_result",
          "data": {
            "text/plain": [
              "array([1, 2, 3, 4])"
            ]
          },
          "metadata": {},
          "execution_count": 44
        }
      ]
    },
    {
      "cell_type": "code",
      "source": [
        "one_d_array - two_d_array.flatten()"
      ],
      "metadata": {
        "colab": {
          "base_uri": "https://localhost:8080/"
        },
        "id": "AbUq49UaU1kY",
        "outputId": "10dbd37f-eaf4-461f-bbe1-061a4623d061"
      },
      "execution_count": null,
      "outputs": [
        {
          "output_type": "execute_result",
          "data": {
            "text/plain": [
              "array([-1, -1, -1, -1])"
            ]
          },
          "metadata": {},
          "execution_count": 45
        }
      ]
    },
    {
      "cell_type": "markdown",
      "source": [
        "## How to transpose an ndarray?"
      ],
      "metadata": {
        "id": "z39qeUuPUf7h"
      }
    },
    {
      "cell_type": "code",
      "source": [
        "two_d_array.transpose()"
      ],
      "metadata": {
        "colab": {
          "base_uri": "https://localhost:8080/"
        },
        "id": "81buJflLTgY_",
        "outputId": "9e398f80-54ba-4696-9337-0f74c4cf0441"
      },
      "execution_count": null,
      "outputs": [
        {
          "output_type": "execute_result",
          "data": {
            "text/plain": [
              "array([[1, 3],\n",
              "       [2, 4]])"
            ]
          },
          "metadata": {},
          "execution_count": 10
        }
      ]
    },
    {
      "cell_type": "code",
      "source": [
        "# or use short T attribute on the array\n",
        "two_d_array.T"
      ],
      "metadata": {
        "colab": {
          "base_uri": "https://localhost:8080/"
        },
        "id": "gDNeIQPjSyxT",
        "outputId": "d90df6d3-30b1-421b-bf61-2c7aef6707a1"
      },
      "execution_count": null,
      "outputs": [
        {
          "output_type": "execute_result",
          "data": {
            "text/plain": [
              "array([[1, 3],\n",
              "       [2, 4]])"
            ]
          },
          "metadata": {},
          "execution_count": 11
        }
      ]
    },
    {
      "cell_type": "markdown",
      "source": [
        "## How to stack and split ndarrays?"
      ],
      "metadata": {
        "id": "xVLvbu07a_Qr"
      }
    },
    {
      "cell_type": "markdown",
      "source": [
        "Multiple arrays can be stacked together along different axes:"
      ],
      "metadata": {
        "id": "7_wIPRPEbaqf"
      }
    },
    {
      "cell_type": "code",
      "source": [
        "another_two_d_array = two_d_array * 2\n",
        "print(two_d_array)\n",
        "print(another_two_d_array)"
      ],
      "metadata": {
        "outputId": "ef42fdbb-b29a-4724-caf0-06aebcdeee92",
        "colab": {
          "base_uri": "https://localhost:8080/"
        },
        "id": "lb_LAQ8Kbaqf"
      },
      "execution_count": null,
      "outputs": [
        {
          "output_type": "stream",
          "name": "stdout",
          "text": [
            "[[1 2]\n",
            " [3 4]]\n",
            "[[2 4]\n",
            " [6 8]]\n"
          ]
        }
      ]
    },
    {
      "cell_type": "code",
      "source": [
        "# stack row wise\n",
        "vstacked = np.vstack((two_d_array, another_two_d_array))\n",
        "vstacked"
      ],
      "metadata": {
        "outputId": "3597c864-f30f-4081-895d-148b2ada8ef2",
        "colab": {
          "base_uri": "https://localhost:8080/"
        },
        "id": "bk_7A0SPbaqg"
      },
      "execution_count": null,
      "outputs": [
        {
          "output_type": "execute_result",
          "data": {
            "text/plain": [
              "array([[1, 2],\n",
              "       [3, 4],\n",
              "       [2, 4],\n",
              "       [6, 8]])"
            ]
          },
          "metadata": {},
          "execution_count": 13
        }
      ]
    },
    {
      "cell_type": "code",
      "source": [
        "# stack column wise\n",
        "hstacked = np.hstack((two_d_array, another_two_d_array))\n",
        "hstacked"
      ],
      "metadata": {
        "outputId": "64d2eda4-0e12-4e2c-d3e6-9f5a900cd68b",
        "colab": {
          "base_uri": "https://localhost:8080/"
        },
        "id": "38AgRXTmbaqg"
      },
      "execution_count": null,
      "outputs": [
        {
          "output_type": "execute_result",
          "data": {
            "text/plain": [
              "array([[1, 2, 2, 4],\n",
              "       [3, 4, 6, 8]])"
            ]
          },
          "metadata": {},
          "execution_count": 14
        }
      ]
    },
    {
      "cell_type": "markdown",
      "source": [
        "An array can be split into multiple arrays, along the specified axis:"
      ],
      "metadata": {
        "id": "gFxvmCBObt3d"
      }
    },
    {
      "cell_type": "code",
      "source": [
        "vstacked"
      ],
      "metadata": {
        "outputId": "e2f7cbd3-a6ed-4e46-b08c-e5d987fa2fcd",
        "colab": {
          "base_uri": "https://localhost:8080/"
        },
        "id": "lVjhON5pbt3d"
      },
      "execution_count": null,
      "outputs": [
        {
          "output_type": "execute_result",
          "data": {
            "text/plain": [
              "array([[1, 2],\n",
              "       [3, 4],\n",
              "       [2, 4],\n",
              "       [6, 8]])"
            ]
          },
          "metadata": {},
          "execution_count": 15
        }
      ]
    },
    {
      "cell_type": "code",
      "source": [
        "# split to 2 arrays row wise\n",
        "vsplit1, vsplit2 = np.vsplit(vstacked, 2)\n",
        "print(vsplit1)\n",
        "print(vsplit2)"
      ],
      "metadata": {
        "outputId": "cbd73e98-c02f-4600-c389-7e1f96d567ba",
        "colab": {
          "base_uri": "https://localhost:8080/"
        },
        "id": "jJzFczthbt3e"
      },
      "execution_count": null,
      "outputs": [
        {
          "output_type": "stream",
          "name": "stdout",
          "text": [
            "[[1 2]\n",
            " [3 4]]\n",
            "[[2 4]\n",
            " [6 8]]\n"
          ]
        }
      ]
    },
    {
      "cell_type": "code",
      "source": [
        "# split to 2 arrays column wise\n",
        "hsplit1, hsplit2 = np.hsplit(vstacked, 2)\n",
        "print(hsplit1)\n",
        "print(hsplit2)"
      ],
      "metadata": {
        "outputId": "35f20f72-56d9-48cc-fe9d-11a7f57a5080",
        "colab": {
          "base_uri": "https://localhost:8080/"
        },
        "id": "bYLRgBHWbt3e"
      },
      "execution_count": null,
      "outputs": [
        {
          "output_type": "stream",
          "name": "stdout",
          "text": [
            "[[1]\n",
            " [3]\n",
            " [2]\n",
            " [6]]\n",
            "[[2]\n",
            " [4]\n",
            " [4]\n",
            " [8]]\n"
          ]
        }
      ]
    },
    {
      "cell_type": "markdown",
      "source": [
        "## Universal functions: `where` examples"
      ],
      "metadata": {
        "id": "xar5kYbXbGCt"
      }
    },
    {
      "cell_type": "code",
      "source": [
        "# select the indexes of elements that evaluate to true\n",
        "a = np.array([1, 2, 3, 4])\n",
        "np.where(a % 2) # find odd numbers"
      ],
      "metadata": {
        "colab": {
          "base_uri": "https://localhost:8080/"
        },
        "id": "Auo883i_0m_d",
        "outputId": "446b19b5-a0a3-42ea-b021-ed25e713642d"
      },
      "execution_count": null,
      "outputs": [
        {
          "output_type": "execute_result",
          "data": {
            "text/plain": [
              "(array([0, 2]),)"
            ]
          },
          "metadata": {},
          "execution_count": 18
        }
      ]
    },
    {
      "cell_type": "code",
      "source": [
        "# select the elements that evaluate to true\n",
        "np.where(a % 2, a, np.nan)"
      ],
      "metadata": {
        "colab": {
          "base_uri": "https://localhost:8080/"
        },
        "id": "ImxrxvdG1_tb",
        "outputId": "2a03c937-7700-4872-bd8f-f22696b6816b"
      },
      "execution_count": null,
      "outputs": [
        {
          "output_type": "execute_result",
          "data": {
            "text/plain": [
              "array([ 1., nan,  3., nan])"
            ]
          },
          "metadata": {},
          "execution_count": 19
        }
      ]
    },
    {
      "cell_type": "markdown",
      "source": [
        "# 3.Pandas Extras"
      ],
      "metadata": {
        "id": "bMd2V922ze9n"
      }
    },
    {
      "cell_type": "markdown",
      "source": [
        "## Concatenating DataFrames\n",
        "\n",
        "Sometimes we get datasets in batches and need to combine them into a single dataset for analysis. Pandas' `concat` is here to help!"
      ],
      "metadata": {
        "id": "W060R5yXNmvF"
      }
    },
    {
      "cell_type": "code",
      "source": [
        "# Execute this code cell to prepare the dataset for code cells below\n",
        "\n",
        "import pandas as pd\n",
        "import numpy as np\n",
        "\n",
        "# read and clean the monthly dataset\n",
        "cars_monthly = pd.read_csv('https://raw.githubusercontent.com/worldbank/dec-python-course/main/1-foundations/3-numpy-and-pandas/data/Singapore_Monthly_New_Car_Registrations_by_make_type.csv')\n",
        "cars_monthly.dropna(subset=['number'], inplace=True)\n",
        "\n",
        "cars_monthly_renamed = cars_monthly.rename(columns={'month': 'year_month'})\n",
        "cars_monthly_renamed[['year','month']] = cars_monthly_renamed.year_month.str.split(\"-\", expand=True)\n",
        "cars_monthly_dropped = cars_monthly_renamed.drop(columns=['year_month'])\n",
        "\n",
        "columns_ordered = ['year', 'month', 'make', 'fuel_type', 'vehicle_type', 'number']\n",
        "cars_monthly_reordered = cars_monthly_dropped.reindex(columns=columns_ordered)\n",
        "\n",
        "cars_monthly_converted = cars_monthly_reordered.astype({\n",
        "    'number': 'int', 'year': 'int', 'month': 'int'})\n",
        "\n",
        "cars_monthly_nonzero = cars_monthly_converted[cars_monthly_converted.number > 0]\n",
        "cars_monthly_pivoted = cars_monthly_nonzero.pivot_table(index='make', columns='year', values='number', aggfunc='sum')\n",
        "cars_monthly_melted = cars_monthly_pivoted.melt(var_name='year', value_name='number', ignore_index=False)\n",
        "\n",
        "cars_monthly_reset = cars_monthly_melted.dropna().reset_index()\n",
        "\n",
        "# read and clean the annual dataset\n",
        "file_url = 'https://raw.githubusercontent.com/worldbank/dec-python-course/main/1-foundations/3-numpy-and-pandas/data/Singapore_Annual_New_Car_Registrations_by_make_type.csv'\n",
        "singapore_cars = pd.read_csv(file_url)\n",
        "singapore_cars_cleaned = singapore_cars[~np.isnan(singapore_cars.number)]\n",
        "cars_annually_aggregated = singapore_cars_cleaned.pivot_table(index='make', columns='year', values='number', aggfunc='sum')\n",
        "cars_annually_melted = cars_annually_aggregated.melt(var_name='year', value_name='number', ignore_index=False)\n",
        "cars_annually_reset = cars_annually_melted.dropna().reset_index()"
      ],
      "metadata": {
        "id": "RX5xKV5JljEp"
      },
      "execution_count": null,
      "outputs": []
    },
    {
      "cell_type": "markdown",
      "source": [
        "#### **Row-wise concatenation**\n",
        "\n",
        "Let's append to the annually cars registration data with the 2022 data from the monthly dataset:"
      ],
      "metadata": {
        "id": "ZbQB6YbiQ1TP"
      }
    },
    {
      "cell_type": "code",
      "source": [
        "cars_2022_partial = cars_monthly_reset[cars_monthly_reset.year == 2022]\n",
        "cars_annual_with_2022 = pd.concat([cars_annually_reset, cars_2022_partial], ignore_index=True)\n",
        "cars_annual_with_2022"
      ],
      "metadata": {
        "colab": {
          "base_uri": "https://localhost:8080/",
          "height": 424
        },
        "id": "Mccj31eoRV16",
        "outputId": "56368840-3e09-419d-fccf-3ffe1cf5f5ec"
      },
      "execution_count": null,
      "outputs": [
        {
          "output_type": "execute_result",
          "data": {
            "text/plain": [
              "             make  year  number\n",
              "0      ALFA ROMEO  2015    31.0\n",
              "1          ALPINA  2015     9.0\n",
              "2    ASTON MARTIN  2015     5.0\n",
              "3            AUDI  2015  2093.0\n",
              "4          AUSTIN  2015     2.0\n",
              "..            ...   ...     ...\n",
              "418         TESLA  2022   315.0\n",
              "419        TOYOTA  2022  3545.0\n",
              "420       TRIUMPH  2022     2.0\n",
              "421    VOLKSWAGEN  2022   241.0\n",
              "422         VOLVO  2022   185.0\n",
              "\n",
              "[423 rows x 3 columns]"
            ],
            "text/html": [
              "\n",
              "  <div id=\"df-66f53e08-6ed2-4d0d-b15a-dcbe746f5db1\">\n",
              "    <div class=\"colab-df-container\">\n",
              "      <div>\n",
              "<style scoped>\n",
              "    .dataframe tbody tr th:only-of-type {\n",
              "        vertical-align: middle;\n",
              "    }\n",
              "\n",
              "    .dataframe tbody tr th {\n",
              "        vertical-align: top;\n",
              "    }\n",
              "\n",
              "    .dataframe thead th {\n",
              "        text-align: right;\n",
              "    }\n",
              "</style>\n",
              "<table border=\"1\" class=\"dataframe\">\n",
              "  <thead>\n",
              "    <tr style=\"text-align: right;\">\n",
              "      <th></th>\n",
              "      <th>make</th>\n",
              "      <th>year</th>\n",
              "      <th>number</th>\n",
              "    </tr>\n",
              "  </thead>\n",
              "  <tbody>\n",
              "    <tr>\n",
              "      <th>0</th>\n",
              "      <td>ALFA ROMEO</td>\n",
              "      <td>2015</td>\n",
              "      <td>31.0</td>\n",
              "    </tr>\n",
              "    <tr>\n",
              "      <th>1</th>\n",
              "      <td>ALPINA</td>\n",
              "      <td>2015</td>\n",
              "      <td>9.0</td>\n",
              "    </tr>\n",
              "    <tr>\n",
              "      <th>2</th>\n",
              "      <td>ASTON MARTIN</td>\n",
              "      <td>2015</td>\n",
              "      <td>5.0</td>\n",
              "    </tr>\n",
              "    <tr>\n",
              "      <th>3</th>\n",
              "      <td>AUDI</td>\n",
              "      <td>2015</td>\n",
              "      <td>2093.0</td>\n",
              "    </tr>\n",
              "    <tr>\n",
              "      <th>4</th>\n",
              "      <td>AUSTIN</td>\n",
              "      <td>2015</td>\n",
              "      <td>2.0</td>\n",
              "    </tr>\n",
              "    <tr>\n",
              "      <th>...</th>\n",
              "      <td>...</td>\n",
              "      <td>...</td>\n",
              "      <td>...</td>\n",
              "    </tr>\n",
              "    <tr>\n",
              "      <th>418</th>\n",
              "      <td>TESLA</td>\n",
              "      <td>2022</td>\n",
              "      <td>315.0</td>\n",
              "    </tr>\n",
              "    <tr>\n",
              "      <th>419</th>\n",
              "      <td>TOYOTA</td>\n",
              "      <td>2022</td>\n",
              "      <td>3545.0</td>\n",
              "    </tr>\n",
              "    <tr>\n",
              "      <th>420</th>\n",
              "      <td>TRIUMPH</td>\n",
              "      <td>2022</td>\n",
              "      <td>2.0</td>\n",
              "    </tr>\n",
              "    <tr>\n",
              "      <th>421</th>\n",
              "      <td>VOLKSWAGEN</td>\n",
              "      <td>2022</td>\n",
              "      <td>241.0</td>\n",
              "    </tr>\n",
              "    <tr>\n",
              "      <th>422</th>\n",
              "      <td>VOLVO</td>\n",
              "      <td>2022</td>\n",
              "      <td>185.0</td>\n",
              "    </tr>\n",
              "  </tbody>\n",
              "</table>\n",
              "<p>423 rows × 3 columns</p>\n",
              "</div>\n",
              "      <button class=\"colab-df-convert\" onclick=\"convertToInteractive('df-66f53e08-6ed2-4d0d-b15a-dcbe746f5db1')\"\n",
              "              title=\"Convert this dataframe to an interactive table.\"\n",
              "              style=\"display:none;\">\n",
              "        \n",
              "  <svg xmlns=\"http://www.w3.org/2000/svg\" height=\"24px\"viewBox=\"0 0 24 24\"\n",
              "       width=\"24px\">\n",
              "    <path d=\"M0 0h24v24H0V0z\" fill=\"none\"/>\n",
              "    <path d=\"M18.56 5.44l.94 2.06.94-2.06 2.06-.94-2.06-.94-.94-2.06-.94 2.06-2.06.94zm-11 1L8.5 8.5l.94-2.06 2.06-.94-2.06-.94L8.5 2.5l-.94 2.06-2.06.94zm10 10l.94 2.06.94-2.06 2.06-.94-2.06-.94-.94-2.06-.94 2.06-2.06.94z\"/><path d=\"M17.41 7.96l-1.37-1.37c-.4-.4-.92-.59-1.43-.59-.52 0-1.04.2-1.43.59L10.3 9.45l-7.72 7.72c-.78.78-.78 2.05 0 2.83L4 21.41c.39.39.9.59 1.41.59.51 0 1.02-.2 1.41-.59l7.78-7.78 2.81-2.81c.8-.78.8-2.07 0-2.86zM5.41 20L4 18.59l7.72-7.72 1.47 1.35L5.41 20z\"/>\n",
              "  </svg>\n",
              "      </button>\n",
              "      \n",
              "  <style>\n",
              "    .colab-df-container {\n",
              "      display:flex;\n",
              "      flex-wrap:wrap;\n",
              "      gap: 12px;\n",
              "    }\n",
              "\n",
              "    .colab-df-convert {\n",
              "      background-color: #E8F0FE;\n",
              "      border: none;\n",
              "      border-radius: 50%;\n",
              "      cursor: pointer;\n",
              "      display: none;\n",
              "      fill: #1967D2;\n",
              "      height: 32px;\n",
              "      padding: 0 0 0 0;\n",
              "      width: 32px;\n",
              "    }\n",
              "\n",
              "    .colab-df-convert:hover {\n",
              "      background-color: #E2EBFA;\n",
              "      box-shadow: 0px 1px 2px rgba(60, 64, 67, 0.3), 0px 1px 3px 1px rgba(60, 64, 67, 0.15);\n",
              "      fill: #174EA6;\n",
              "    }\n",
              "\n",
              "    [theme=dark] .colab-df-convert {\n",
              "      background-color: #3B4455;\n",
              "      fill: #D2E3FC;\n",
              "    }\n",
              "\n",
              "    [theme=dark] .colab-df-convert:hover {\n",
              "      background-color: #434B5C;\n",
              "      box-shadow: 0px 1px 3px 1px rgba(0, 0, 0, 0.15);\n",
              "      filter: drop-shadow(0px 1px 2px rgba(0, 0, 0, 0.3));\n",
              "      fill: #FFFFFF;\n",
              "    }\n",
              "  </style>\n",
              "\n",
              "      <script>\n",
              "        const buttonEl =\n",
              "          document.querySelector('#df-66f53e08-6ed2-4d0d-b15a-dcbe746f5db1 button.colab-df-convert');\n",
              "        buttonEl.style.display =\n",
              "          google.colab.kernel.accessAllowed ? 'block' : 'none';\n",
              "\n",
              "        async function convertToInteractive(key) {\n",
              "          const element = document.querySelector('#df-66f53e08-6ed2-4d0d-b15a-dcbe746f5db1');\n",
              "          const dataTable =\n",
              "            await google.colab.kernel.invokeFunction('convertToInteractive',\n",
              "                                                     [key], {});\n",
              "          if (!dataTable) return;\n",
              "\n",
              "          const docLinkHtml = 'Like what you see? Visit the ' +\n",
              "            '<a target=\"_blank\" href=https://colab.research.google.com/notebooks/data_table.ipynb>data table notebook</a>'\n",
              "            + ' to learn more about interactive tables.';\n",
              "          element.innerHTML = '';\n",
              "          dataTable['output_type'] = 'display_data';\n",
              "          await google.colab.output.renderOutput(dataTable, element);\n",
              "          const docLink = document.createElement('div');\n",
              "          docLink.innerHTML = docLinkHtml;\n",
              "          element.appendChild(docLink);\n",
              "        }\n",
              "      </script>\n",
              "    </div>\n",
              "  </div>\n",
              "  "
            ]
          },
          "metadata": {},
          "execution_count": 21
        }
      ]
    },
    {
      "cell_type": "code",
      "source": [
        "cars_annual_with_2022.year.unique()"
      ],
      "metadata": {
        "colab": {
          "base_uri": "https://localhost:8080/"
        },
        "id": "bVPWlueATtqw",
        "outputId": "ebb5494c-4aa5-4d5b-8fdc-6615b4f1d4a4"
      },
      "execution_count": null,
      "outputs": [
        {
          "output_type": "execute_result",
          "data": {
            "text/plain": [
              "array([2015, 2016, 2017, 2018, 2019, 2020, 2021, 2022])"
            ]
          },
          "metadata": {},
          "execution_count": 22
        }
      ]
    },
    {
      "cell_type": "markdown",
      "source": [
        "#### **Column-wise concatenation**\n",
        "\n",
        "If batches of data are split column wise, we can specify `axis=1` for column-wise concatenation. \n",
        "\n",
        "To demonstrate this, let's first create a DataFrame with a `final` column to indicate if the data is finalized. It would be false for all 2022 data:"
      ],
      "metadata": {
        "id": "AU8J5B-UUFob"
      }
    },
    {
      "cell_type": "code",
      "source": [
        "finalized = cars_annual_with_2022.year != 2022\n",
        "cars_annual_finalized = pd.DataFrame({'final': finalized})\n",
        "cars_annual_finalized"
      ],
      "metadata": {
        "colab": {
          "base_uri": "https://localhost:8080/",
          "height": 424
        },
        "id": "TrBRPqF1Vj5O",
        "outputId": "2b5ed24b-4033-477a-d2f4-bcf919c66b5c"
      },
      "execution_count": null,
      "outputs": [
        {
          "output_type": "execute_result",
          "data": {
            "text/plain": [
              "     final\n",
              "0     True\n",
              "1     True\n",
              "2     True\n",
              "3     True\n",
              "4     True\n",
              "..     ...\n",
              "418  False\n",
              "419  False\n",
              "420  False\n",
              "421  False\n",
              "422  False\n",
              "\n",
              "[423 rows x 1 columns]"
            ],
            "text/html": [
              "\n",
              "  <div id=\"df-d5d4e577-237f-444f-873f-aed217a06eb0\">\n",
              "    <div class=\"colab-df-container\">\n",
              "      <div>\n",
              "<style scoped>\n",
              "    .dataframe tbody tr th:only-of-type {\n",
              "        vertical-align: middle;\n",
              "    }\n",
              "\n",
              "    .dataframe tbody tr th {\n",
              "        vertical-align: top;\n",
              "    }\n",
              "\n",
              "    .dataframe thead th {\n",
              "        text-align: right;\n",
              "    }\n",
              "</style>\n",
              "<table border=\"1\" class=\"dataframe\">\n",
              "  <thead>\n",
              "    <tr style=\"text-align: right;\">\n",
              "      <th></th>\n",
              "      <th>final</th>\n",
              "    </tr>\n",
              "  </thead>\n",
              "  <tbody>\n",
              "    <tr>\n",
              "      <th>0</th>\n",
              "      <td>True</td>\n",
              "    </tr>\n",
              "    <tr>\n",
              "      <th>1</th>\n",
              "      <td>True</td>\n",
              "    </tr>\n",
              "    <tr>\n",
              "      <th>2</th>\n",
              "      <td>True</td>\n",
              "    </tr>\n",
              "    <tr>\n",
              "      <th>3</th>\n",
              "      <td>True</td>\n",
              "    </tr>\n",
              "    <tr>\n",
              "      <th>4</th>\n",
              "      <td>True</td>\n",
              "    </tr>\n",
              "    <tr>\n",
              "      <th>...</th>\n",
              "      <td>...</td>\n",
              "    </tr>\n",
              "    <tr>\n",
              "      <th>418</th>\n",
              "      <td>False</td>\n",
              "    </tr>\n",
              "    <tr>\n",
              "      <th>419</th>\n",
              "      <td>False</td>\n",
              "    </tr>\n",
              "    <tr>\n",
              "      <th>420</th>\n",
              "      <td>False</td>\n",
              "    </tr>\n",
              "    <tr>\n",
              "      <th>421</th>\n",
              "      <td>False</td>\n",
              "    </tr>\n",
              "    <tr>\n",
              "      <th>422</th>\n",
              "      <td>False</td>\n",
              "    </tr>\n",
              "  </tbody>\n",
              "</table>\n",
              "<p>423 rows × 1 columns</p>\n",
              "</div>\n",
              "      <button class=\"colab-df-convert\" onclick=\"convertToInteractive('df-d5d4e577-237f-444f-873f-aed217a06eb0')\"\n",
              "              title=\"Convert this dataframe to an interactive table.\"\n",
              "              style=\"display:none;\">\n",
              "        \n",
              "  <svg xmlns=\"http://www.w3.org/2000/svg\" height=\"24px\"viewBox=\"0 0 24 24\"\n",
              "       width=\"24px\">\n",
              "    <path d=\"M0 0h24v24H0V0z\" fill=\"none\"/>\n",
              "    <path d=\"M18.56 5.44l.94 2.06.94-2.06 2.06-.94-2.06-.94-.94-2.06-.94 2.06-2.06.94zm-11 1L8.5 8.5l.94-2.06 2.06-.94-2.06-.94L8.5 2.5l-.94 2.06-2.06.94zm10 10l.94 2.06.94-2.06 2.06-.94-2.06-.94-.94-2.06-.94 2.06-2.06.94z\"/><path d=\"M17.41 7.96l-1.37-1.37c-.4-.4-.92-.59-1.43-.59-.52 0-1.04.2-1.43.59L10.3 9.45l-7.72 7.72c-.78.78-.78 2.05 0 2.83L4 21.41c.39.39.9.59 1.41.59.51 0 1.02-.2 1.41-.59l7.78-7.78 2.81-2.81c.8-.78.8-2.07 0-2.86zM5.41 20L4 18.59l7.72-7.72 1.47 1.35L5.41 20z\"/>\n",
              "  </svg>\n",
              "      </button>\n",
              "      \n",
              "  <style>\n",
              "    .colab-df-container {\n",
              "      display:flex;\n",
              "      flex-wrap:wrap;\n",
              "      gap: 12px;\n",
              "    }\n",
              "\n",
              "    .colab-df-convert {\n",
              "      background-color: #E8F0FE;\n",
              "      border: none;\n",
              "      border-radius: 50%;\n",
              "      cursor: pointer;\n",
              "      display: none;\n",
              "      fill: #1967D2;\n",
              "      height: 32px;\n",
              "      padding: 0 0 0 0;\n",
              "      width: 32px;\n",
              "    }\n",
              "\n",
              "    .colab-df-convert:hover {\n",
              "      background-color: #E2EBFA;\n",
              "      box-shadow: 0px 1px 2px rgba(60, 64, 67, 0.3), 0px 1px 3px 1px rgba(60, 64, 67, 0.15);\n",
              "      fill: #174EA6;\n",
              "    }\n",
              "\n",
              "    [theme=dark] .colab-df-convert {\n",
              "      background-color: #3B4455;\n",
              "      fill: #D2E3FC;\n",
              "    }\n",
              "\n",
              "    [theme=dark] .colab-df-convert:hover {\n",
              "      background-color: #434B5C;\n",
              "      box-shadow: 0px 1px 3px 1px rgba(0, 0, 0, 0.15);\n",
              "      filter: drop-shadow(0px 1px 2px rgba(0, 0, 0, 0.3));\n",
              "      fill: #FFFFFF;\n",
              "    }\n",
              "  </style>\n",
              "\n",
              "      <script>\n",
              "        const buttonEl =\n",
              "          document.querySelector('#df-d5d4e577-237f-444f-873f-aed217a06eb0 button.colab-df-convert');\n",
              "        buttonEl.style.display =\n",
              "          google.colab.kernel.accessAllowed ? 'block' : 'none';\n",
              "\n",
              "        async function convertToInteractive(key) {\n",
              "          const element = document.querySelector('#df-d5d4e577-237f-444f-873f-aed217a06eb0');\n",
              "          const dataTable =\n",
              "            await google.colab.kernel.invokeFunction('convertToInteractive',\n",
              "                                                     [key], {});\n",
              "          if (!dataTable) return;\n",
              "\n",
              "          const docLinkHtml = 'Like what you see? Visit the ' +\n",
              "            '<a target=\"_blank\" href=https://colab.research.google.com/notebooks/data_table.ipynb>data table notebook</a>'\n",
              "            + ' to learn more about interactive tables.';\n",
              "          element.innerHTML = '';\n",
              "          dataTable['output_type'] = 'display_data';\n",
              "          await google.colab.output.renderOutput(dataTable, element);\n",
              "          const docLink = document.createElement('div');\n",
              "          docLink.innerHTML = docLinkHtml;\n",
              "          element.appendChild(docLink);\n",
              "        }\n",
              "      </script>\n",
              "    </div>\n",
              "  </div>\n",
              "  "
            ]
          },
          "metadata": {},
          "execution_count": 23
        }
      ]
    },
    {
      "cell_type": "markdown",
      "source": [
        "To perform column-wise concatenation:"
      ],
      "metadata": {
        "id": "sVZyeGI2WW7a"
      }
    },
    {
      "cell_type": "code",
      "source": [
        "pd.concat([cars_annual_with_2022, cars_annual_finalized], axis=1)"
      ],
      "metadata": {
        "colab": {
          "base_uri": "https://localhost:8080/",
          "height": 424
        },
        "id": "ukaM3eDOWetn",
        "outputId": "e241a30c-de5c-40a9-80e6-267a1200e758"
      },
      "execution_count": null,
      "outputs": [
        {
          "output_type": "execute_result",
          "data": {
            "text/plain": [
              "             make  year  number  final\n",
              "0      ALFA ROMEO  2015    31.0   True\n",
              "1          ALPINA  2015     9.0   True\n",
              "2    ASTON MARTIN  2015     5.0   True\n",
              "3            AUDI  2015  2093.0   True\n",
              "4          AUSTIN  2015     2.0   True\n",
              "..            ...   ...     ...    ...\n",
              "418         TESLA  2022   315.0  False\n",
              "419        TOYOTA  2022  3545.0  False\n",
              "420       TRIUMPH  2022     2.0  False\n",
              "421    VOLKSWAGEN  2022   241.0  False\n",
              "422         VOLVO  2022   185.0  False\n",
              "\n",
              "[423 rows x 4 columns]"
            ],
            "text/html": [
              "\n",
              "  <div id=\"df-c73903c7-018a-48fb-974e-1ae2d107a1b8\">\n",
              "    <div class=\"colab-df-container\">\n",
              "      <div>\n",
              "<style scoped>\n",
              "    .dataframe tbody tr th:only-of-type {\n",
              "        vertical-align: middle;\n",
              "    }\n",
              "\n",
              "    .dataframe tbody tr th {\n",
              "        vertical-align: top;\n",
              "    }\n",
              "\n",
              "    .dataframe thead th {\n",
              "        text-align: right;\n",
              "    }\n",
              "</style>\n",
              "<table border=\"1\" class=\"dataframe\">\n",
              "  <thead>\n",
              "    <tr style=\"text-align: right;\">\n",
              "      <th></th>\n",
              "      <th>make</th>\n",
              "      <th>year</th>\n",
              "      <th>number</th>\n",
              "      <th>final</th>\n",
              "    </tr>\n",
              "  </thead>\n",
              "  <tbody>\n",
              "    <tr>\n",
              "      <th>0</th>\n",
              "      <td>ALFA ROMEO</td>\n",
              "      <td>2015</td>\n",
              "      <td>31.0</td>\n",
              "      <td>True</td>\n",
              "    </tr>\n",
              "    <tr>\n",
              "      <th>1</th>\n",
              "      <td>ALPINA</td>\n",
              "      <td>2015</td>\n",
              "      <td>9.0</td>\n",
              "      <td>True</td>\n",
              "    </tr>\n",
              "    <tr>\n",
              "      <th>2</th>\n",
              "      <td>ASTON MARTIN</td>\n",
              "      <td>2015</td>\n",
              "      <td>5.0</td>\n",
              "      <td>True</td>\n",
              "    </tr>\n",
              "    <tr>\n",
              "      <th>3</th>\n",
              "      <td>AUDI</td>\n",
              "      <td>2015</td>\n",
              "      <td>2093.0</td>\n",
              "      <td>True</td>\n",
              "    </tr>\n",
              "    <tr>\n",
              "      <th>4</th>\n",
              "      <td>AUSTIN</td>\n",
              "      <td>2015</td>\n",
              "      <td>2.0</td>\n",
              "      <td>True</td>\n",
              "    </tr>\n",
              "    <tr>\n",
              "      <th>...</th>\n",
              "      <td>...</td>\n",
              "      <td>...</td>\n",
              "      <td>...</td>\n",
              "      <td>...</td>\n",
              "    </tr>\n",
              "    <tr>\n",
              "      <th>418</th>\n",
              "      <td>TESLA</td>\n",
              "      <td>2022</td>\n",
              "      <td>315.0</td>\n",
              "      <td>False</td>\n",
              "    </tr>\n",
              "    <tr>\n",
              "      <th>419</th>\n",
              "      <td>TOYOTA</td>\n",
              "      <td>2022</td>\n",
              "      <td>3545.0</td>\n",
              "      <td>False</td>\n",
              "    </tr>\n",
              "    <tr>\n",
              "      <th>420</th>\n",
              "      <td>TRIUMPH</td>\n",
              "      <td>2022</td>\n",
              "      <td>2.0</td>\n",
              "      <td>False</td>\n",
              "    </tr>\n",
              "    <tr>\n",
              "      <th>421</th>\n",
              "      <td>VOLKSWAGEN</td>\n",
              "      <td>2022</td>\n",
              "      <td>241.0</td>\n",
              "      <td>False</td>\n",
              "    </tr>\n",
              "    <tr>\n",
              "      <th>422</th>\n",
              "      <td>VOLVO</td>\n",
              "      <td>2022</td>\n",
              "      <td>185.0</td>\n",
              "      <td>False</td>\n",
              "    </tr>\n",
              "  </tbody>\n",
              "</table>\n",
              "<p>423 rows × 4 columns</p>\n",
              "</div>\n",
              "      <button class=\"colab-df-convert\" onclick=\"convertToInteractive('df-c73903c7-018a-48fb-974e-1ae2d107a1b8')\"\n",
              "              title=\"Convert this dataframe to an interactive table.\"\n",
              "              style=\"display:none;\">\n",
              "        \n",
              "  <svg xmlns=\"http://www.w3.org/2000/svg\" height=\"24px\"viewBox=\"0 0 24 24\"\n",
              "       width=\"24px\">\n",
              "    <path d=\"M0 0h24v24H0V0z\" fill=\"none\"/>\n",
              "    <path d=\"M18.56 5.44l.94 2.06.94-2.06 2.06-.94-2.06-.94-.94-2.06-.94 2.06-2.06.94zm-11 1L8.5 8.5l.94-2.06 2.06-.94-2.06-.94L8.5 2.5l-.94 2.06-2.06.94zm10 10l.94 2.06.94-2.06 2.06-.94-2.06-.94-.94-2.06-.94 2.06-2.06.94z\"/><path d=\"M17.41 7.96l-1.37-1.37c-.4-.4-.92-.59-1.43-.59-.52 0-1.04.2-1.43.59L10.3 9.45l-7.72 7.72c-.78.78-.78 2.05 0 2.83L4 21.41c.39.39.9.59 1.41.59.51 0 1.02-.2 1.41-.59l7.78-7.78 2.81-2.81c.8-.78.8-2.07 0-2.86zM5.41 20L4 18.59l7.72-7.72 1.47 1.35L5.41 20z\"/>\n",
              "  </svg>\n",
              "      </button>\n",
              "      \n",
              "  <style>\n",
              "    .colab-df-container {\n",
              "      display:flex;\n",
              "      flex-wrap:wrap;\n",
              "      gap: 12px;\n",
              "    }\n",
              "\n",
              "    .colab-df-convert {\n",
              "      background-color: #E8F0FE;\n",
              "      border: none;\n",
              "      border-radius: 50%;\n",
              "      cursor: pointer;\n",
              "      display: none;\n",
              "      fill: #1967D2;\n",
              "      height: 32px;\n",
              "      padding: 0 0 0 0;\n",
              "      width: 32px;\n",
              "    }\n",
              "\n",
              "    .colab-df-convert:hover {\n",
              "      background-color: #E2EBFA;\n",
              "      box-shadow: 0px 1px 2px rgba(60, 64, 67, 0.3), 0px 1px 3px 1px rgba(60, 64, 67, 0.15);\n",
              "      fill: #174EA6;\n",
              "    }\n",
              "\n",
              "    [theme=dark] .colab-df-convert {\n",
              "      background-color: #3B4455;\n",
              "      fill: #D2E3FC;\n",
              "    }\n",
              "\n",
              "    [theme=dark] .colab-df-convert:hover {\n",
              "      background-color: #434B5C;\n",
              "      box-shadow: 0px 1px 3px 1px rgba(0, 0, 0, 0.15);\n",
              "      filter: drop-shadow(0px 1px 2px rgba(0, 0, 0, 0.3));\n",
              "      fill: #FFFFFF;\n",
              "    }\n",
              "  </style>\n",
              "\n",
              "      <script>\n",
              "        const buttonEl =\n",
              "          document.querySelector('#df-c73903c7-018a-48fb-974e-1ae2d107a1b8 button.colab-df-convert');\n",
              "        buttonEl.style.display =\n",
              "          google.colab.kernel.accessAllowed ? 'block' : 'none';\n",
              "\n",
              "        async function convertToInteractive(key) {\n",
              "          const element = document.querySelector('#df-c73903c7-018a-48fb-974e-1ae2d107a1b8');\n",
              "          const dataTable =\n",
              "            await google.colab.kernel.invokeFunction('convertToInteractive',\n",
              "                                                     [key], {});\n",
              "          if (!dataTable) return;\n",
              "\n",
              "          const docLinkHtml = 'Like what you see? Visit the ' +\n",
              "            '<a target=\"_blank\" href=https://colab.research.google.com/notebooks/data_table.ipynb>data table notebook</a>'\n",
              "            + ' to learn more about interactive tables.';\n",
              "          element.innerHTML = '';\n",
              "          dataTable['output_type'] = 'display_data';\n",
              "          await google.colab.output.renderOutput(dataTable, element);\n",
              "          const docLink = document.createElement('div');\n",
              "          docLink.innerHTML = docLinkHtml;\n",
              "          element.appendChild(docLink);\n",
              "        }\n",
              "      </script>\n",
              "    </div>\n",
              "  </div>\n",
              "  "
            ]
          },
          "metadata": {},
          "execution_count": 24
        }
      ]
    },
    {
      "cell_type": "markdown",
      "source": [
        "`merge` and `concat` are two very powerful function for working with multiple DataFrames. Check out their documentation and Pandas' user guide on [Merge, join, concatenate and compare](https://pandas.pydata.org/docs/user_guide/merging.html) to learn more. \n",
        "\n",
        "**Tip**: you can always invoke `?` to bring up the documentation for any function in colab, e.g. `pd.concat?`"
      ],
      "metadata": {
        "id": "oUcQgxE8XwGb"
      }
    }
  ]
}
{
  "cells": [
    {
      "cell_type": "markdown",
      "metadata": {
        "id": "view-in-github",
        "colab_type": "text"
      },
      "source": [
        "<a href=\"https://colab.research.google.com/github/worldbank/dec-python-course/blob/session3/1-foundations/3-numpy-and-pandas/foundations-s3.ipynb\" target=\"_parent\"><img src=\"https://colab.research.google.com/assets/colab-badge.svg\" alt=\"Open In Colab\"/></a>"
      ]
    },
    {
      "cell_type": "markdown",
      "source": [
        "# Python Libraries\n",
        "Within the realm of python, a package is a collection of modules, a library is a collection of packages. In practice, \"python library\" and \"python package\" are used interchangeably to refer to a reusable chunk of code. Use of libraries allows us to \"stand on the shoulders of giants\".\n",
        "\n",
        "## Examples of python libraries\n",
        "- [NumPy](https://numpy.org/) stands for Numerical Python. It is the fundamental Python package for scientific computing.\n",
        "- [pandas](https://pandas.pydata.org/) is a Python package for fast and efficient processing of tabular data, time series, matrix data, etc.\n",
        "- [Matplotlib](https://matplotlib.org/)  is a comprehensive library for creating data visualizations in Python. "
      ],
      "metadata": {
        "id": "Z_z4OH2Cw165"
      }
    },
    {
      "cell_type": "markdown",
      "source": [
        "## How do I get some?"
      ],
      "metadata": {
        "id": "d-1OvfSZ2e5m"
      }
    },
    {
      "cell_type": "code",
      "execution_count": null,
      "metadata": {
        "colab": {
          "base_uri": "https://localhost:8080/"
        },
        "id": "GNtSS8HZeIV5",
        "outputId": "98895bdf-1d45-4bfc-cb84-74094d11a6cf"
      },
      "outputs": [
        {
          "output_type": "stream",
          "name": "stdout",
          "text": [
            "3.141592653589793\n"
          ]
        }
      ],
      "source": [
        "import numpy as np\n",
        "import pandas as pd\n",
        "import matplotlib.pyplot as plt\n",
        "\n",
        "print(np.pi)"
      ]
    },
    {
      "cell_type": "markdown",
      "source": [
        "`as` is optional; it is usually used to alias the library name to a shorthand or for disambiguation. The above are some conventional aliases for these libraries. If you `import numpy` wihtout aliasing, just be sure to use `numpy` instead of `np` when calling the library's functions later.\n",
        "\n",
        "`import` the library like you would import a built-in python module e.g. `import math` works for common libraries on Google Colab. To see which libraries are pre-installed and their versions:"
      ],
      "metadata": {
        "id": "Y6CkPZNx20Lq"
      }
    },
    {
      "cell_type": "code",
      "source": [
        "# Note: ! in google colab executes a bash command\n",
        "# `| more` shortens the output content for immediate display\n",
        "!pip freeze | more"
      ],
      "metadata": {
        "colab": {
          "base_uri": "https://localhost:8080/"
        },
        "id": "CBYYko-23YKA",
        "outputId": "a1b736af-6dbb-4f99-ce59-f568c43696d9"
      },
      "execution_count": null,
      "outputs": [
        {
          "output_type": "stream",
          "name": "stdout",
          "text": [
            "absl-py==1.1.0\n",
            "alabaster==0.7.12\n",
            "albumentations==0.1.12\n",
            "altair==4.2.0\n",
            "appdirs==1.4.4\n",
            "argon2-cffi==21.3.0\n",
            "argon2-cffi-bindings==21.2.0\n",
            "arviz==0.12.1\n",
            "astor==0.8.1\n",
            "astropy==4.3.1\n",
            "astunparse==1.6.3\n",
            "atari-py==0.2.9\n",
            "atomicwrites==1.4.0\n",
            "attrs==21.4.0\n",
            "audioread==2.1.9\n",
            "autograd==1.4\n",
            "Babel==2.10.2\n",
            "backcall==0.2.0\n",
            "beautifulsoup4==4.6.3\n",
            "bleach==5.0.0\n",
            "blis==0.7.7\n",
            "bokeh==2.3.3\n",
            "branca==0.5.0\n",
            "\u001b[K"
          ]
        }
      ]
    },
    {
      "cell_type": "markdown",
      "source": [
        "To check if a library you want to use is already installed:"
      ],
      "metadata": {
        "id": "CBMqUBUi3qfl"
      }
    },
    {
      "cell_type": "code",
      "source": [
        "!pip freeze | grep pandas"
      ],
      "metadata": {
        "colab": {
          "base_uri": "https://localhost:8080/"
        },
        "id": "7dNMg6iX3wIp",
        "outputId": "c1fd04d8-0f40-48fc-a286-96a71c4d2077"
      },
      "execution_count": null,
      "outputs": [
        {
          "output_type": "stream",
          "name": "stdout",
          "text": [
            "pandas==1.3.5\n",
            "pandas-datareader==0.9.0\n",
            "pandas-gbq==0.13.3\n",
            "pandas-profiling==1.4.1\n",
            "sklearn-pandas==1.8.0\n"
          ]
        }
      ]
    },
    {
      "cell_type": "markdown",
      "source": [
        "[pip](https://pip.pypa.io/) is the de facto python package manager. You can use it to view the current installed packages and to install a new library or upgrade an existin library:"
      ],
      "metadata": {
        "id": "-eZ2_CmN4Mzq"
      }
    },
    {
      "cell_type": "code",
      "source": [
        "# install/upgrade to the latest stable verison of a package\n",
        "!pip install pandas --upgrade "
      ],
      "metadata": {
        "colab": {
          "base_uri": "https://localhost:8080/"
        },
        "id": "jiOOOA9w4UeG",
        "outputId": "1426aba4-fba1-4021-bfca-39755818026a"
      },
      "execution_count": null,
      "outputs": [
        {
          "output_type": "stream",
          "name": "stdout",
          "text": [
            "Looking in indexes: https://pypi.org/simple, https://us-python.pkg.dev/colab-wheels/public/simple/\n",
            "Requirement already satisfied: pandas in /usr/local/lib/python3.7/dist-packages (1.3.5)\n",
            "Requirement already satisfied: numpy>=1.17.3 in /usr/local/lib/python3.7/dist-packages (from pandas) (1.21.6)\n",
            "Requirement already satisfied: pytz>=2017.3 in /usr/local/lib/python3.7/dist-packages (from pandas) (2022.1)\n",
            "Requirement already satisfied: python-dateutil>=2.7.3 in /usr/local/lib/python3.7/dist-packages (from pandas) (2.8.2)\n",
            "Requirement already satisfied: six>=1.5 in /usr/local/lib/python3.7/dist-packages (from python-dateutil>=2.7.3->pandas) (1.15.0)\n"
          ]
        }
      ]
    },
    {
      "cell_type": "code",
      "source": [
        "# install a specific version of a package\n",
        "!pip install pandas==1.3.5"
      ],
      "metadata": {
        "colab": {
          "base_uri": "https://localhost:8080/"
        },
        "id": "lcUHqMOw8GCC",
        "outputId": "755be055-0f11-42f8-c234-432646a7665a"
      },
      "execution_count": null,
      "outputs": [
        {
          "output_type": "stream",
          "name": "stdout",
          "text": [
            "Looking in indexes: https://pypi.org/simple, https://us-python.pkg.dev/colab-wheels/public/simple/\n",
            "Requirement already satisfied: pandas==1.3.5 in /usr/local/lib/python3.7/dist-packages (1.3.5)\n",
            "Requirement already satisfied: pytz>=2017.3 in /usr/local/lib/python3.7/dist-packages (from pandas==1.3.5) (2022.1)\n",
            "Requirement already satisfied: python-dateutil>=2.7.3 in /usr/local/lib/python3.7/dist-packages (from pandas==1.3.5) (2.8.2)\n",
            "Requirement already satisfied: numpy>=1.17.3 in /usr/local/lib/python3.7/dist-packages (from pandas==1.3.5) (1.21.6)\n",
            "Requirement already satisfied: six>=1.5 in /usr/local/lib/python3.7/dist-packages (from python-dateutil>=2.7.3->pandas==1.3.5) (1.15.0)\n"
          ]
        }
      ]
    },
    {
      "cell_type": "markdown",
      "source": [
        "## Exercises\n",
        "The following exercises are meant to be completed step by step. Upon successful completion of all steps, the last cell should execute without any `AssertionError`.\n",
        "1. Run a command to find out what is the current installed version of `matplotlib`:"
      ],
      "metadata": {
        "id": "udmuxsot8iMf"
      }
    },
    {
      "cell_type": "code",
      "source": [
        "# hint: use ! and bash command `pip freeze` and pipe the results to bash command `grep matplotlib`"
      ],
      "metadata": {
        "id": "CwERECq69Q_j"
      },
      "execution_count": null,
      "outputs": []
    },
    {
      "cell_type": "markdown",
      "source": [
        "2. Install version 3.5.2 of `matplotlib` for this notebook. Upon successful installation, click on \"RESTART RUNTIME\" in the code cell output."
      ],
      "metadata": {
        "id": "43mq07rBF414"
      }
    },
    {
      "cell_type": "code",
      "source": [
        "# hint: use ! and bash command `pip install`"
      ],
      "metadata": {
        "id": "WdwQn1lEGP5i"
      },
      "execution_count": null,
      "outputs": []
    },
    {
      "cell_type": "markdown",
      "source": [
        "3. Import `matplotlib`'s `pyplot` module and alias it as `plt`"
      ],
      "metadata": {
        "id": "yuwpmEcnG9-3"
      }
    },
    {
      "cell_type": "code",
      "source": [
        "# hint: use `import ... as ...`\n",
        "\n",
        "# === Do not modify code below ===\n",
        "fig = plt.figure(figsize=(10, 80))\n",
        "assert hasattr(fig, \"subfigures\"),\\\n",
        " \"If correct version of matplotlib were installed you should not see this message\"\n",
        "\n",
        "print(\"Well done!\")"
      ],
      "metadata": {
        "colab": {
          "base_uri": "https://localhost:8080/",
          "height": 258
        },
        "id": "_QQVLOJfIg6V",
        "outputId": "1ab9560f-9046-4a2d-ce50-bf6cf9be7a75"
      },
      "execution_count": null,
      "outputs": [
        {
          "output_type": "error",
          "ename": "AssertionError",
          "evalue": "ignored",
          "traceback": [
            "\u001b[0;31m---------------------------------------------------------------------------\u001b[0m",
            "\u001b[0;31mAssertionError\u001b[0m                            Traceback (most recent call last)",
            "\u001b[0;32m<ipython-input-18-fbe2820bd886>\u001b[0m in \u001b[0;36m<module>\u001b[0;34m()\u001b[0m\n\u001b[1;32m      4\u001b[0m \u001b[0;31m# Do not modify code below\u001b[0m\u001b[0;34m\u001b[0m\u001b[0;34m\u001b[0m\u001b[0;34m\u001b[0m\u001b[0m\n\u001b[1;32m      5\u001b[0m \u001b[0mfig\u001b[0m \u001b[0;34m=\u001b[0m \u001b[0mplt\u001b[0m\u001b[0;34m.\u001b[0m\u001b[0mfigure\u001b[0m\u001b[0;34m(\u001b[0m\u001b[0mfigsize\u001b[0m\u001b[0;34m=\u001b[0m\u001b[0;34m(\u001b[0m\u001b[0;36m10\u001b[0m\u001b[0;34m,\u001b[0m \u001b[0;36m80\u001b[0m\u001b[0;34m)\u001b[0m\u001b[0;34m)\u001b[0m\u001b[0;34m\u001b[0m\u001b[0;34m\u001b[0m\u001b[0m\n\u001b[0;32m----> 6\u001b[0;31m \u001b[0;32massert\u001b[0m \u001b[0mhasattr\u001b[0m\u001b[0;34m(\u001b[0m\u001b[0mfig\u001b[0m\u001b[0;34m,\u001b[0m \u001b[0;34m\"subfigures\"\u001b[0m\u001b[0;34m)\u001b[0m\u001b[0;34m,\u001b[0m \u001b[0;34m\"If correct version of matplotlib were installed you should not see this message\"\u001b[0m\u001b[0;34m\u001b[0m\u001b[0;34m\u001b[0m\u001b[0m\n\u001b[0m\u001b[1;32m      7\u001b[0m \u001b[0;34m\u001b[0m\u001b[0m\n\u001b[1;32m      8\u001b[0m \u001b[0mprint\u001b[0m\u001b[0;34m(\u001b[0m\u001b[0;34m\"Well done!\"\u001b[0m\u001b[0;34m)\u001b[0m\u001b[0;34m\u001b[0m\u001b[0;34m\u001b[0m\u001b[0m\n",
            "\u001b[0;31mAssertionError\u001b[0m: If correct version of matplotlib were installed you should not see this message"
          ]
        },
        {
          "output_type": "display_data",
          "data": {
            "text/plain": [
              "<Figure size 720x5760 with 0 Axes>"
            ]
          },
          "metadata": {}
        }
      ]
    },
    {
      "cell_type": "markdown",
      "source": [
        "If you have successfully completed the above exercies and are feeling adventurous, head over to `foundations-s3-bonus.ipynb` – it contains some bonus content and corresponding exercises on this topic."
      ],
      "metadata": {
        "id": "nmuFvgTazPbo"
      }
    },
    {
      "cell_type": "markdown",
      "source": [
        "# NumPy\n",
        "\n",
        "NumPy (**Numerical Python**) is an open source Python library that’s used in almost every field of science and engineering. It’s the **universal standard** for working with numerical data in Python, and it’s at the core of the scientific Python and PyData ecosystems. It serves as the fundamention for popular data science and scientific Python packages, such as Pandas, SciPy, Matplotlib, scikit-learn.\n"
      ],
      "metadata": {
        "id": "Vy-R-M5N2I6N"
      }
    },
    {
      "cell_type": "markdown",
      "source": [
        "\n",
        "## ndarray\n",
        "The NumPy library provides **powerful functionalities** for numerical operations and does so **effeciently**. Its basic building block is `ndarray`, a homogeneous n-dimensional array object, with methods to efficiently operate on it. `ndarray` is a simple and flexible data structure that can represent vectors (1-D arrays), matrices (2-D arrays), and tensors (3-D or higher dimensional arrays).\n",
        "\n",
        "// TODO: add picture\n"
      ],
      "metadata": {
        "id": "ebvx7VbrEIdi"
      }
    },
    {
      "cell_type": "markdown",
      "source": [
        "\n",
        "### Wait, what's an array?\n",
        "\n",
        "In computer science, an array is a data structure consisting of a collection of elements, each identified by an index. "
      ],
      "metadata": {
        "id": "JJ_MBbHUDAUc"
      }
    },
    {
      "cell_type": "markdown",
      "source": [
        "### How does a NumPy `ndarray` compare to a Python `list` or `array`?\n",
        "In Python, arrays are most often represented using `list`, which allows for different data types within a single list. Python standard library does come with its own `array` module which requires that a single array can only contain one data type of elements. Python's `array` is more compact (takes less space in storage) than `list` and comes with some basic math operations. NumPy's `ndarray` is like Python's `array` on steroids, functionality wise."
      ],
      "metadata": {
        "id": "GZLEMDHSD_Hz"
      }
    },
    {
      "cell_type": "code",
      "source": [
        "from array import array\n",
        "import numpy as np\n",
        "\n",
        "py_list = [1, 2, '3']\n",
        "py_array = array('i', [1, 2, 3]) # i indicates integer\n",
        "np_array = np.array([1, 2, 3])"
      ],
      "metadata": {
        "id": "eaMKE8NnDAvX"
      },
      "execution_count": 2,
      "outputs": []
    },
    {
      "cell_type": "markdown",
      "source": [
        "### How to create a NumPy `ndarray`?"
      ],
      "metadata": {
        "id": "49kiXHiuI7YO"
      }
    },
    {
      "cell_type": "code",
      "source": [
        "# give me 3 zeros\n",
        "np.zeros(3)"
      ],
      "metadata": {
        "colab": {
          "base_uri": "https://localhost:8080/"
        },
        "id": "OXklQZ1gJKIp",
        "outputId": "ed4e3113-6255-419c-ac3d-214019c623ce"
      },
      "execution_count": 20,
      "outputs": [
        {
          "output_type": "execute_result",
          "data": {
            "text/plain": [
              "array([0., 0., 0.])"
            ]
          },
          "metadata": {},
          "execution_count": 20
        }
      ]
    },
    {
      "cell_type": "code",
      "source": [
        "# give me 4 ones\n",
        "np.ones(4)"
      ],
      "metadata": {
        "colab": {
          "base_uri": "https://localhost:8080/"
        },
        "id": "egULMRRZJVfX",
        "outputId": "d880026c-9f71-4254-a0ec-ea997b58d6a1"
      },
      "execution_count": 21,
      "outputs": [
        {
          "output_type": "execute_result",
          "data": {
            "text/plain": [
              "array([1., 1., 1., 1.])"
            ]
          },
          "metadata": {},
          "execution_count": 21
        }
      ]
    },
    {
      "cell_type": "code",
      "source": [
        "# give me 5 numbers randomly sampled from [0.0, 1.0)\n",
        "np.random.random(5)"
      ],
      "metadata": {
        "colab": {
          "base_uri": "https://localhost:8080/"
        },
        "id": "xCUM92UPcEbY",
        "outputId": "638e7822-e9bc-4dfa-9bb0-6f7ca05b2c8b"
      },
      "execution_count": 64,
      "outputs": [
        {
          "output_type": "execute_result",
          "data": {
            "text/plain": [
              "array([0.65698592, 0.66042937, 0.9694192 , 0.35748349, 0.30430441])"
            ]
          },
          "metadata": {},
          "execution_count": 64
        }
      ]
    },
    {
      "cell_type": "code",
      "source": [
        "# give me 4 consecutive numbers\n",
        "# starts at 0 by default, stop is excluded\n",
        "one_d_array = np.arange(4)\n",
        "one_d_array"
      ],
      "metadata": {
        "colab": {
          "base_uri": "https://localhost:8080/"
        },
        "id": "saEkxVHRJXX4",
        "outputId": "c1aaf492-e11a-4daf-9df3-4755d10da712"
      },
      "execution_count": 28,
      "outputs": [
        {
          "output_type": "execute_result",
          "data": {
            "text/plain": [
              "array([0, 1, 2, 3])"
            ]
          },
          "metadata": {},
          "execution_count": 28
        }
      ]
    },
    {
      "cell_type": "code",
      "source": [
        "# start, stop, step\n",
        "np.arange(1, 9, 2)"
      ],
      "metadata": {
        "colab": {
          "base_uri": "https://localhost:8080/"
        },
        "id": "VsSluLFkJgJN",
        "outputId": "75d01e51-dbbc-4455-a765-9195d7421676"
      },
      "execution_count": 23,
      "outputs": [
        {
          "output_type": "execute_result",
          "data": {
            "text/plain": [
              "array([1, 3, 5, 7])"
            ]
          },
          "metadata": {},
          "execution_count": 23
        }
      ]
    },
    {
      "cell_type": "code",
      "source": [
        "# 2-D array / matrix\n",
        "two_d_array = np.array([[1, 2], [3, 4]])\n",
        "two_d_array"
      ],
      "metadata": {
        "colab": {
          "base_uri": "https://localhost:8080/"
        },
        "id": "cT1kC1bpKKPp",
        "outputId": "62cfcfd0-88fd-437e-9243-eeb26e333749"
      },
      "execution_count": 4,
      "outputs": [
        {
          "output_type": "execute_result",
          "data": {
            "text/plain": [
              "array([[1, 2],\n",
              "       [3, 4]])"
            ]
          },
          "metadata": {},
          "execution_count": 4
        }
      ]
    },
    {
      "cell_type": "code",
      "source": [
        "# 3-D array\n",
        "three_d_array = np.array([[[1.0, 2], [3, 4]], [[5, 6], [7, 8]], [[9, 10], [11, 12]]])\n",
        "three_d_array"
      ],
      "metadata": {
        "colab": {
          "base_uri": "https://localhost:8080/"
        },
        "id": "_rzZrypbKRe1",
        "outputId": "0c304236-8458-4631-bd4f-5a152ad79107"
      },
      "execution_count": 16,
      "outputs": [
        {
          "output_type": "execute_result",
          "data": {
            "text/plain": [
              "array([[[ 1.,  2.],\n",
              "        [ 3.,  4.]],\n",
              "\n",
              "       [[ 5.,  6.],\n",
              "        [ 7.,  8.]],\n",
              "\n",
              "       [[ 9., 10.],\n",
              "        [11., 12.]]])"
            ]
          },
          "metadata": {},
          "execution_count": 16
        }
      ]
    },
    {
      "cell_type": "markdown",
      "source": [
        "### How to find properties of a `ndarray`?"
      ],
      "metadata": {
        "id": "CUcCejnWK3ES"
      }
    },
    {
      "cell_type": "code",
      "source": [
        "# dimension\n",
        "two_d_array.ndim"
      ],
      "metadata": {
        "colab": {
          "base_uri": "https://localhost:8080/"
        },
        "id": "uQU5MWhXLFd0",
        "outputId": "2706d523-ec6a-4a94-ef24-83613e68dd37"
      },
      "execution_count": 32,
      "outputs": [
        {
          "output_type": "execute_result",
          "data": {
            "text/plain": [
              "2"
            ]
          },
          "metadata": {},
          "execution_count": 32
        }
      ]
    },
    {
      "cell_type": "code",
      "source": [
        "three_d_array.ndim"
      ],
      "metadata": {
        "colab": {
          "base_uri": "https://localhost:8080/"
        },
        "id": "k_7NYDVHLVjf",
        "outputId": "d8dc4c24-ece1-4ab2-b34c-9fc03dd6ffd0"
      },
      "execution_count": 33,
      "outputs": [
        {
          "output_type": "execute_result",
          "data": {
            "text/plain": [
              "3"
            ]
          },
          "metadata": {},
          "execution_count": 33
        }
      ]
    },
    {
      "cell_type": "code",
      "source": [
        "# shape\n",
        "two_d_array.shape"
      ],
      "metadata": {
        "colab": {
          "base_uri": "https://localhost:8080/"
        },
        "id": "wbkCdN5YAa7d",
        "outputId": "bbbf2dff-3344-49a9-de6a-e6b9dc0d5c5b"
      },
      "execution_count": 12,
      "outputs": [
        {
          "output_type": "execute_result",
          "data": {
            "text/plain": [
              "(2, 2)"
            ]
          },
          "metadata": {},
          "execution_count": 12
        }
      ]
    },
    {
      "cell_type": "code",
      "source": [
        "three_d_array.shape"
      ],
      "metadata": {
        "colab": {
          "base_uri": "https://localhost:8080/"
        },
        "id": "XyDDu35GAprw",
        "outputId": "09cde27e-0d0b-48f4-eec5-3ee5c1df4a69"
      },
      "execution_count": 6,
      "outputs": [
        {
          "output_type": "execute_result",
          "data": {
            "text/plain": [
              "(3, 2, 2)"
            ]
          },
          "metadata": {},
          "execution_count": 6
        }
      ]
    },
    {
      "cell_type": "code",
      "source": [
        "# how many elements total?\n",
        "three_d_array.size"
      ],
      "metadata": {
        "colab": {
          "base_uri": "https://localhost:8080/"
        },
        "id": "iF7YeWx7B2HB",
        "outputId": "7eaf2299-0a71-424c-97c2-d8f815e33ad9"
      },
      "execution_count": 11,
      "outputs": [
        {
          "output_type": "execute_result",
          "data": {
            "text/plain": [
              "12"
            ]
          },
          "metadata": {},
          "execution_count": 11
        }
      ]
    },
    {
      "cell_type": "code",
      "source": [
        "# what's the data type of the elements?\n",
        "three_d_array.dtype"
      ],
      "metadata": {
        "colab": {
          "base_uri": "https://localhost:8080/"
        },
        "id": "6t5blJmACV9z",
        "outputId": "076dbeb1-2102-468d-98b3-b1b69bb5fe4c"
      },
      "execution_count": 17,
      "outputs": [
        {
          "output_type": "execute_result",
          "data": {
            "text/plain": [
              "dtype('float64')"
            ]
          },
          "metadata": {},
          "execution_count": 17
        }
      ]
    },
    {
      "cell_type": "code",
      "source": [
        "print(f'''Array dimension: {one_d_array.ndim},\n",
        "      shape: {one_d_array.shape}, \n",
        "      size: {one_d_array.size},\n",
        "      data type: {one_d_array.dtype}''')"
      ],
      "metadata": {
        "colab": {
          "base_uri": "https://localhost:8080/"
        },
        "id": "nU8fq7UfA9y9",
        "outputId": "b4698610-3679-4d88-f038-a35c0fb8a95b"
      },
      "execution_count": 34,
      "outputs": [
        {
          "output_type": "stream",
          "name": "stdout",
          "text": [
            "Array dimension: 1,\n",
            "      shape: (4,), \n",
            "      size: 4,\n",
            "      data type: int64\n"
          ]
        }
      ]
    },
    {
      "cell_type": "markdown",
      "source": [
        "## Manipulating and operating on `ndarray`\n",
        "With basic understanding of ndarray, let's go ahead do some maths with it."
      ],
      "metadata": {
        "id": "RkJaQBfxEmMW"
      }
    },
    {
      "cell_type": "markdown",
      "source": [
        "### How to do maths and (even) linear algebra with ndarrays?"
      ],
      "metadata": {
        "id": "AfXv6ngFc5Av"
      }
    },
    {
      "cell_type": "code",
      "source": [
        "one_d_array.min()"
      ],
      "metadata": {
        "colab": {
          "base_uri": "https://localhost:8080/"
        },
        "id": "zUy5BHrAF0Bj",
        "outputId": "9805d406-b44b-4c02-d5bc-d3d2597a505e"
      },
      "execution_count": 35,
      "outputs": [
        {
          "output_type": "execute_result",
          "data": {
            "text/plain": [
              "0"
            ]
          },
          "metadata": {},
          "execution_count": 35
        }
      ]
    },
    {
      "cell_type": "code",
      "source": [
        "one_d_array.max()"
      ],
      "metadata": {
        "colab": {
          "base_uri": "https://localhost:8080/"
        },
        "id": "gx61RU7PGDKE",
        "outputId": "e99b415b-9142-4975-8bbb-cae3011bf1c6"
      },
      "execution_count": 36,
      "outputs": [
        {
          "output_type": "execute_result",
          "data": {
            "text/plain": [
              "3"
            ]
          },
          "metadata": {},
          "execution_count": 36
        }
      ]
    },
    {
      "cell_type": "code",
      "source": [
        "one_d_array.sum()"
      ],
      "metadata": {
        "colab": {
          "base_uri": "https://localhost:8080/"
        },
        "id": "GKaFLXz3GFPU",
        "outputId": "4586e8df-cf97-4be6-af11-dcb9b061e663"
      },
      "execution_count": 37,
      "outputs": [
        {
          "output_type": "execute_result",
          "data": {
            "text/plain": [
              "6"
            ]
          },
          "metadata": {},
          "execution_count": 37
        }
      ]
    },
    {
      "cell_type": "code",
      "source": [
        "# broadcasting\n",
        "one_d_array * 2"
      ],
      "metadata": {
        "colab": {
          "base_uri": "https://localhost:8080/"
        },
        "id": "UteWB3LcGIzK",
        "outputId": "c681a0fb-f5b1-4e10-8954-4d050ca8162d"
      },
      "execution_count": 38,
      "outputs": [
        {
          "output_type": "execute_result",
          "data": {
            "text/plain": [
              "array([0, 2, 4, 6])"
            ]
          },
          "metadata": {},
          "execution_count": 38
        }
      ]
    },
    {
      "cell_type": "code",
      "source": [
        "# arithmetic operations\n",
        "one_d_array + one_d_array * 2"
      ],
      "metadata": {
        "colab": {
          "base_uri": "https://localhost:8080/"
        },
        "id": "8gRhvgszGeOB",
        "outputId": "8e073c1a-6b5e-446b-847e-c07eaf02e751"
      },
      "execution_count": 39,
      "outputs": [
        {
          "output_type": "execute_result",
          "data": {
            "text/plain": [
              "array([0, 3, 6, 9])"
            ]
          },
          "metadata": {},
          "execution_count": 39
        }
      ]
    },
    {
      "cell_type": "code",
      "source": [
        "one_d_array - two_d_array"
      ],
      "metadata": {
        "colab": {
          "base_uri": "https://localhost:8080/",
          "height": 169
        },
        "id": "h8kjqzYjRJ3p",
        "outputId": "d339f395-0bb0-4739-c88f-fbb79a7ef657"
      },
      "execution_count": 40,
      "outputs": [
        {
          "output_type": "error",
          "ename": "ValueError",
          "evalue": "ignored",
          "traceback": [
            "\u001b[0;31m---------------------------------------------------------------------------\u001b[0m",
            "\u001b[0;31mValueError\u001b[0m                                Traceback (most recent call last)",
            "\u001b[0;32m<ipython-input-40-d8854863e3a8>\u001b[0m in \u001b[0;36m<module>\u001b[0;34m()\u001b[0m\n\u001b[0;32m----> 1\u001b[0;31m \u001b[0mone_d_array\u001b[0m \u001b[0;34m-\u001b[0m \u001b[0mtwo_d_array\u001b[0m\u001b[0;34m\u001b[0m\u001b[0;34m\u001b[0m\u001b[0m\n\u001b[0m",
            "\u001b[0;31mValueError\u001b[0m: operands could not be broadcast together with shapes (4,) (2,2) "
          ]
        }
      ]
    },
    {
      "cell_type": "markdown",
      "source": [
        "### How to reshape a `ndarray`?\n",
        "Use the `reshape` function with the new shape as arguments. Note that the new shape must have the same number of elements as the original array.\n",
        "\n",
        "<img src=\"https://numpy.org/doc/stable/_images/np_reshape.png\" />\n",
        "\n",
        "Image credit: https://numpy.org/doc/stable/user/absolute_beginners.html#transposing-and-reshaping-a-matrix"
      ],
      "metadata": {
        "id": "o78bmHjaDsSH"
      }
    },
    {
      "cell_type": "code",
      "source": [
        "one_d_array.reshape(2, 2) - two_d_array"
      ],
      "metadata": {
        "colab": {
          "base_uri": "https://localhost:8080/"
        },
        "id": "OAtTlmLVSKKg",
        "outputId": "702bcb98-b65b-4aea-b4cd-b0bd98ef2ad2"
      },
      "execution_count": 58,
      "outputs": [
        {
          "output_type": "execute_result",
          "data": {
            "text/plain": [
              "array([[-1, -1],\n",
              "       [-1, -1]])"
            ]
          },
          "metadata": {},
          "execution_count": 58
        }
      ]
    },
    {
      "cell_type": "code",
      "source": [
        "one_d_array.reshape(1, 4) - two_d_array.reshape(1, 4)"
      ],
      "metadata": {
        "colab": {
          "base_uri": "https://localhost:8080/"
        },
        "id": "TH8U3lRvSoz0",
        "outputId": "cf3314d0-c692-4076-b093-aeadb840064d"
      },
      "execution_count": 42,
      "outputs": [
        {
          "output_type": "execute_result",
          "data": {
            "text/plain": [
              "array([[-1, -1, -1, -1]])"
            ]
          },
          "metadata": {},
          "execution_count": 42
        }
      ]
    },
    {
      "cell_type": "markdown",
      "source": [
        "To transpose:"
      ],
      "metadata": {
        "id": "z39qeUuPUf7h"
      }
    },
    {
      "cell_type": "code",
      "source": [
        "one_d_array.transpose()"
      ],
      "metadata": {
        "colab": {
          "base_uri": "https://localhost:8080/"
        },
        "id": "81buJflLTgY_",
        "outputId": "4f1b65b9-ad34-4629-b339-997aebadadd8"
      },
      "execution_count": 47,
      "outputs": [
        {
          "output_type": "execute_result",
          "data": {
            "text/plain": [
              "array([0, 1, 2, 3])"
            ]
          },
          "metadata": {},
          "execution_count": 47
        }
      ]
    },
    {
      "cell_type": "code",
      "source": [
        "# or use short T attribute on the array\n",
        "one_d_array.T"
      ],
      "metadata": {
        "colab": {
          "base_uri": "https://localhost:8080/"
        },
        "id": "gDNeIQPjSyxT",
        "outputId": "7a537073-14ba-4f6e-e06a-9d0a77ddfca1"
      },
      "execution_count": 45,
      "outputs": [
        {
          "output_type": "execute_result",
          "data": {
            "text/plain": [
              "array([0, 1, 2, 3])"
            ]
          },
          "metadata": {},
          "execution_count": 45
        }
      ]
    },
    {
      "cell_type": "code",
      "source": [
        "one_d_array.T - two_d_array.reshape(1, 4)"
      ],
      "metadata": {
        "colab": {
          "base_uri": "https://localhost:8080/"
        },
        "id": "v1yxnKvxS6nG",
        "outputId": "b8c0357b-0768-44af-ad47-5f88d6a04074"
      },
      "execution_count": 46,
      "outputs": [
        {
          "output_type": "execute_result",
          "data": {
            "text/plain": [
              "array([[-1, -1, -1, -1]])"
            ]
          },
          "metadata": {},
          "execution_count": 46
        }
      ]
    },
    {
      "cell_type": "markdown",
      "source": [
        "To flatten any multidimensional array to a 1-d array:"
      ],
      "metadata": {
        "id": "cNqIiHNuUnX1"
      }
    },
    {
      "cell_type": "code",
      "source": [
        "two_d_array.flatten()"
      ],
      "metadata": {
        "colab": {
          "base_uri": "https://localhost:8080/"
        },
        "id": "bNxinokzUxv0",
        "outputId": "b549f608-0c66-4040-fc3a-e2480eeb5b9b"
      },
      "execution_count": 48,
      "outputs": [
        {
          "output_type": "execute_result",
          "data": {
            "text/plain": [
              "array([1, 2, 3, 4])"
            ]
          },
          "metadata": {},
          "execution_count": 48
        }
      ]
    },
    {
      "cell_type": "code",
      "source": [
        "one_d_array - two_d_array.flatten()"
      ],
      "metadata": {
        "colab": {
          "base_uri": "https://localhost:8080/"
        },
        "id": "AbUq49UaU1kY",
        "outputId": "76c8dffa-7e08-4a18-cf7d-e7ef205f1bbd"
      },
      "execution_count": 50,
      "outputs": [
        {
          "output_type": "execute_result",
          "data": {
            "text/plain": [
              "array([-1, -1, -1, -1])"
            ]
          },
          "metadata": {},
          "execution_count": 50
        }
      ]
    },
    {
      "cell_type": "markdown",
      "source": [
        "### How to stack and split ndarrays?"
      ],
      "metadata": {
        "id": "xVLvbu07a_Qr"
      }
    },
    {
      "cell_type": "markdown",
      "source": [
        "Multiple arrays can be stacked together along different axes:"
      ],
      "metadata": {
        "id": "7_wIPRPEbaqf"
      }
    },
    {
      "cell_type": "code",
      "source": [
        "another_two_d_array = two_d_array * 2\n",
        "print(two_d_array)\n",
        "print(another_two_d_array)"
      ],
      "metadata": {
        "outputId": "1d5e32ee-c744-4f6b-936b-4f4bca61daa8",
        "colab": {
          "base_uri": "https://localhost:8080/"
        },
        "id": "lb_LAQ8Kbaqf"
      },
      "execution_count": 130,
      "outputs": [
        {
          "output_type": "stream",
          "name": "stdout",
          "text": [
            "[[1 2]\n",
            " [3 4]]\n",
            "[[2 4]\n",
            " [6 8]]\n"
          ]
        }
      ]
    },
    {
      "cell_type": "code",
      "source": [
        "from numpy.core.shape_base import vstack\n",
        "# stack row wise\n",
        "vstacked = np.vstack((two_d_array, another_two_d_array))\n",
        "vstacked"
      ],
      "metadata": {
        "outputId": "1fc2df72-9eb4-46c7-8e14-574690d32c3b",
        "colab": {
          "base_uri": "https://localhost:8080/"
        },
        "id": "bk_7A0SPbaqg"
      },
      "execution_count": null,
      "outputs": [
        {
          "output_type": "execute_result",
          "data": {
            "text/plain": [
              "array([[1, 2],\n",
              "       [3, 4],\n",
              "       [2, 4],\n",
              "       [6, 8]])"
            ]
          },
          "metadata": {},
          "execution_count": 119
        }
      ]
    },
    {
      "cell_type": "code",
      "source": [
        "# stack column wise\n",
        "hstacked = np.hstack((two_d_array, another_two_d_array))\n",
        "hstacked"
      ],
      "metadata": {
        "outputId": "b095602e-e4c8-48d9-ba06-a9cab6295585",
        "colab": {
          "base_uri": "https://localhost:8080/"
        },
        "id": "38AgRXTmbaqg"
      },
      "execution_count": null,
      "outputs": [
        {
          "output_type": "execute_result",
          "data": {
            "text/plain": [
              "array([[1, 2, 2, 4],\n",
              "       [3, 4, 6, 8]])"
            ]
          },
          "metadata": {},
          "execution_count": 120
        }
      ]
    },
    {
      "cell_type": "markdown",
      "source": [
        "An array can be split into multiple arrays, along the specified axes:"
      ],
      "metadata": {
        "id": "gFxvmCBObt3d"
      }
    },
    {
      "cell_type": "code",
      "source": [
        "vstacked"
      ],
      "metadata": {
        "outputId": "04df0c8d-ad84-4eff-a40c-dffb382cd38b",
        "colab": {
          "base_uri": "https://localhost:8080/"
        },
        "id": "lVjhON5pbt3d"
      },
      "execution_count": null,
      "outputs": [
        {
          "output_type": "execute_result",
          "data": {
            "text/plain": [
              "array([[1, 2],\n",
              "       [3, 4],\n",
              "       [2, 4],\n",
              "       [6, 8]])"
            ]
          },
          "metadata": {},
          "execution_count": 129
        }
      ]
    },
    {
      "cell_type": "code",
      "source": [
        "# split to 2 arrays row wise\n",
        "vsplit1, vsplit2 = np.vsplit(vstacked, 2)\n",
        "print(vsplit1)\n",
        "print(vsplit2)"
      ],
      "metadata": {
        "outputId": "e8978299-fad4-4557-b826-620fe2a637f8",
        "colab": {
          "base_uri": "https://localhost:8080/"
        },
        "id": "jJzFczthbt3e"
      },
      "execution_count": null,
      "outputs": [
        {
          "output_type": "stream",
          "name": "stdout",
          "text": [
            "[[1 2]\n",
            " [3 4]]\n",
            "[[2 4]\n",
            " [6 8]]\n"
          ]
        }
      ]
    },
    {
      "cell_type": "code",
      "source": [
        "# split to 2 arrays column wise\n",
        "hsplit1, hsplit2 = np.hsplit(vstacked, 2)\n",
        "print(hsplit1)\n",
        "print(hsplit2)"
      ],
      "metadata": {
        "outputId": "b46c3181-7f86-498d-f505-55b7c1338917",
        "colab": {
          "base_uri": "https://localhost:8080/"
        },
        "id": "bYLRgBHWbt3e"
      },
      "execution_count": null,
      "outputs": [
        {
          "output_type": "stream",
          "name": "stdout",
          "text": [
            "[[1]\n",
            " [3]\n",
            " [2]\n",
            " [6]]\n",
            "[[2]\n",
            " [4]\n",
            " [4]\n",
            " [8]]\n"
          ]
        }
      ]
    },
    {
      "cell_type": "markdown",
      "source": [
        "## Exercises\n",
        "\n",
        "Task: Calculate the dot product of vector `(1, 2, 3)` wtih itself.\n",
        "\n",
        "The following exercises are meant to be completed step by step. Upon successful completion of all steps, the last cell should execute without any `AssertionError`.\n",
        "\n",
        "1. represent vector `(1, 2, 3)` as a 1-d NumPy array of shape (3, ) and store in variable `a`:"
      ],
      "metadata": {
        "id": "bRa5jb9TVUIw"
      }
    },
    {
      "cell_type": "code",
      "source": [
        "# hint: use np.array or np.arange\n",
        "# Your code here\n",
        "\n",
        "# === Do not modify code below ===\n",
        "assert a.shape == (3, )\n",
        "assert a[0] == 1\n",
        "assert a[1] == 2"
      ],
      "metadata": {
        "id": "KdcSu4SJWTll"
      },
      "execution_count": 61,
      "outputs": []
    },
    {
      "cell_type": "markdown",
      "source": [
        "2. Implement the dot product calculation and store the result in variable `result`:"
      ],
      "metadata": {
        "id": "-t3g0-1AXHk3"
      }
    },
    {
      "cell_type": "code",
      "source": [
        "# hint: use tranpose or reshap, then sum or np.sum\n",
        "# Your code here\n",
        "\n",
        "# === Do not modify code below ===\n",
        "assert result == 14\n"
      ],
      "metadata": {
        "id": "OxuuW5yRWAmZ"
      },
      "execution_count": 57,
      "outputs": []
    },
    {
      "cell_type": "markdown",
      "source": [
        "## Universal functions\n",
        "\n",
        "In NumPy, universal functions (`ufunc`) are functions operate elementwise on an array, producing an array as output.\n",
        "\n",
        "The `dot` function we used in the exerciese above is a universal function. Here are some other examples:\n",
        "\n",
        "<p><a href=\"https://numpy.org/doc/stable/reference/generated/numpy.all.html#numpy.all\" title=\"numpy.all\"><code class=\"xref py py-obj docutils literal notranslate\"><span class=\"pre\">all</span></code></a>,\n",
        "<a href=\"https://numpy.org/doc/stable/reference/generated/numpy.any.html#numpy.any\" title=\"numpy.any\"><code class=\"xref py py-obj docutils literal notranslate\"><span class=\"pre\">any</span></code></a>,\n",
        "<a href=\"https://numpy.org/doc/stable/reference/generated/numpy.apply_along_axis.html#numpy.apply_along_axis\" title=\"numpy.apply_along_axis\"><code class=\"xref py py-obj docutils literal notranslate\"><span class=\"pre\">apply_along_axis</span></code></a>,\n",
        "<a href=\"https://numpy.org/doc/stable/reference/generated/numpy.argmax.html#numpy.argmax\" title=\"numpy.argmax\"><code class=\"xref py py-obj docutils literal notranslate\"><span class=\"pre\">argmax</span></code></a>,\n",
        "<a href=\"https://numpy.org/doc/stable/reference/generated/numpy.argmin.html#numpy.argmin\" title=\"numpy.argmin\"><code class=\"xref py py-obj docutils literal notranslate\"><span class=\"pre\">argmin</span></code></a>,\n",
        "<a href=\"https://numpy.org/doc/stable/reference/generated/numpy.argsort.html#numpy.argsort\" title=\"numpy.argsort\"><code class=\"xref py py-obj docutils literal notranslate\"><span class=\"pre\">argsort</span></code></a>,\n",
        "<a href=\"https://numpy.org/doc/stable/reference/generated/numpy.average.html#numpy.average\" title=\"numpy.average\"><code class=\"xref py py-obj docutils literal notranslate\"><span class=\"pre\">average</span></code></a>,\n",
        "<a href=\"https://numpy.org/doc/stable/reference/generated/numpy.bincount.html#numpy.bincount\" title=\"numpy.bincount\"><code class=\"xref py py-obj docutils literal notranslate\"><span class=\"pre\">bincount</span></code></a>,\n",
        "<a href=\"https://numpy.org/doc/stable/reference/generated/numpy.ceil.html#numpy.ceil\" title=\"numpy.ceil\"><code class=\"xref py py-obj docutils literal notranslate\"><span class=\"pre\">ceil</span></code></a>,\n",
        "<a href=\"https://numpy.org/doc/stable/reference/generated/numpy.clip.html#numpy.clip\" title=\"numpy.clip\"><code class=\"xref py py-obj docutils literal notranslate\"><span class=\"pre\">clip</span></code></a>,\n",
        "<a href=\"https://numpy.org/doc/stable/reference/generated/numpy.conj.html#numpy.conj\" title=\"numpy.conj\"><code class=\"xref py py-obj docutils literal notranslate\"><span class=\"pre\">conj</span></code></a>,\n",
        "<a href=\"https://numpy.org/doc/stable/reference/generated/numpy.corrcoef.html#numpy.corrcoef\" title=\"numpy.corrcoef\"><code class=\"xref py py-obj docutils literal notranslate\"><span class=\"pre\">corrcoef</span></code></a>,\n",
        "<a href=\"https://numpy.org/doc/stable/reference/generated/numpy.cov.html#numpy.cov\" title=\"numpy.cov\"><code class=\"xref py py-obj docutils literal notranslate\"><span class=\"pre\">cov</span></code></a>,\n",
        "<a href=\"https://numpy.org/doc/stable/reference/generated/numpy.cross.html#numpy.cross\" title=\"numpy.cross\"><code class=\"xref py py-obj docutils literal notranslate\"><span class=\"pre\">cross</span></code></a>,\n",
        "<a href=\"https://numpy.org/doc/stable/reference/generated/numpy.cumprod.html#numpy.cumprod\" title=\"numpy.cumprod\"><code class=\"xref py py-obj docutils literal notranslate\"><span class=\"pre\">cumprod</span></code></a>,\n",
        "<a href=\"https://numpy.org/doc/stable/reference/generated/numpy.cumsum.html#numpy.cumsum\" title=\"numpy.cumsum\"><code class=\"xref py py-obj docutils literal notranslate\"><span class=\"pre\">cumsum</span></code></a>,\n",
        "<a href=\"https://numpy.org/doc/stable/reference/generated/numpy.diff.html#numpy.diff\" title=\"numpy.diff\"><code class=\"xref py py-obj docutils literal notranslate\"><span class=\"pre\">diff</span></code></a>,\n",
        "<a href=\"https://numpy.org/doc/stable/reference/generated/numpy.floor.html#numpy.floor\" title=\"numpy.floor\"><code class=\"xref py py-obj docutils literal notranslate\"><span class=\"pre\">floor</span></code></a>,\n",
        "<a href=\"https://numpy.org/doc/stable/reference/generated/numpy.inner.html#numpy.inner\" title=\"numpy.inner\"><code class=\"xref py py-obj docutils literal notranslate\"><span class=\"pre\">inner</span></code></a>,\n",
        "<a href=\"https://numpy.org/doc/stable/reference/generated/numpy.invert.html#numpy.invert\" title=\"numpy.invert\"><code class=\"xref py py-obj docutils literal notranslate\"><span class=\"pre\">invert</span></code></a>,\n",
        "<a href=\"https://numpy.org/doc/stable/reference/generated/numpy.lexsort.html#numpy.lexsort\" title=\"numpy.lexsort\"><code class=\"xref py py-obj docutils literal notranslate\"><span class=\"pre\">lexsort</span></code></a>,\n",
        "<a class=\"reference external\" href=\"https://docs.python.org/3/library/functions.html#max\" title=\"(in Python v3.10)\"><code class=\"xref py py-obj docutils literal notranslate\"><span class=\"pre\">max</span></code></a>,\n",
        "<a href=\"https://numpy.org/doc/stable/reference/generated/numpy.maximum.html#numpy.maximum\" title=\"numpy.maximum\"><code class=\"xref py py-obj docutils literal notranslate\"><span class=\"pre\">maximum</span></code></a>,\n",
        "<a href=\"https://numpy.org/doc/stable/reference/generated/numpy.mean.html#numpy.mean\" title=\"numpy.mean\"><code class=\"xref py py-obj docutils literal notranslate\"><span class=\"pre\">mean</span></code></a>,\n",
        "<a href=\"https://numpy.org/doc/stable/reference/generated/numpy.median.html#numpy.median\" title=\"numpy.median\"><code class=\"xref py py-obj docutils literal notranslate\"><span class=\"pre\">median</span></code></a>,\n",
        "<a class=\"reference external\" href=\"https://docs.python.org/3/library/functions.html#min\" title=\"(in Python v3.10)\"><code class=\"xref py py-obj docutils literal notranslate\"><span class=\"pre\">min</span></code></a>,\n",
        "<a href=\"https://numpy.org/doc/stable/reference/generated/numpy.minimum.html#numpy.minimum\" title=\"numpy.minimum\"><code class=\"xref py py-obj docutils literal notranslate\"><span class=\"pre\">minimum</span></code></a>,\n",
        "<a href=\"https://numpy.org/doc/stable/reference/generated/numpy.nonzero.html#numpy.nonzero\" title=\"numpy.nonzero\"><code class=\"xref py py-obj docutils literal notranslate\"><span class=\"pre\">nonzero</span></code></a>,\n",
        "<a href=\"https://numpy.org/doc/stable/reference/generated/numpy.outer.html#numpy.outer\" title=\"numpy.outer\"><code class=\"xref py py-obj docutils literal notranslate\"><span class=\"pre\">outer</span></code></a>,\n",
        "<a href=\"https://numpy.org/doc/stable/reference/generated/numpy.prod.html#numpy.prod\" title=\"numpy.prod\"><code class=\"xref py py-obj docutils literal notranslate\"><span class=\"pre\">prod</span></code></a>,\n",
        "<a class=\"reference external\" href=\"https://docs.python.org/3/library/re.html#module-re\" title=\"(in Python v3.10)\"><code class=\"xref py py-obj docutils literal notranslate\"><span class=\"pre\">re</span></code></a>,\n",
        "<a class=\"reference external\" href=\"https://docs.python.org/3/library/functions.html#round\" title=\"(in Python v3.10)\"><code class=\"xref py py-obj docutils literal notranslate\"><span class=\"pre\">round</span></code></a>,\n",
        "<a href=\"https://numpy.org/doc/stable/reference/generated/numpy.sort.html#numpy.sort\" title=\"numpy.sort\"><code class=\"xref py py-obj docutils literal notranslate\"><span class=\"pre\">sort</span></code></a>,\n",
        "<a href=\"https://numpy.org/doc/stable/reference/generated/numpy.std.html#numpy.std\" title=\"numpy.std\"><code class=\"xref py py-obj docutils literal notranslate\"><span class=\"pre\">std</span></code></a>,\n",
        "<a href=\"https://numpy.org/doc/stable/reference/generated/numpy.sum.html#numpy.sum\" title=\"numpy.sum\"><code class=\"xref py py-obj docutils literal notranslate\"><span class=\"pre\">sum</span></code></a>,\n",
        "<a href=\"https://numpy.org/doc/stable/reference/generated/numpy.trace.html#numpy.trace\" title=\"numpy.trace\"><code class=\"xref py py-obj docutils literal notranslate\"><span class=\"pre\">trace</span></code></a>,\n",
        "<a href=\"https://numpy.org/doc/stable/reference/generated/numpy.transpose.html#numpy.transpose\" title=\"numpy.transpose\"><code class=\"xref py py-obj docutils literal notranslate\"><span class=\"pre\">transpose</span></code></a>,\n",
        "<a href=\"https://numpy.org/doc/stable/reference/generated/numpy.var.html#numpy.var\" title=\"numpy.var\"><code class=\"xref py py-obj docutils literal notranslate\"><span class=\"pre\">var</span></code></a>,\n",
        "<a href=\"https://numpy.org/doc/stable/reference/generated/numpy.vdot.html#numpy.vdot\" title=\"numpy.vdot\"><code class=\"xref py py-obj docutils literal notranslate\"><span class=\"pre\">vdot</span></code></a>,\n",
        "<a href=\"https://numpy.org/doc/stable/reference/generated/numpy.vectorize.html#numpy.vectorize\" title=\"numpy.vectorize\"><code class=\"xref py py-obj docutils literal notranslate\"><span class=\"pre\">vectorize</span></code></a>,\n",
        "<a href=\"https://numpy.org/doc/stable/reference/generated/numpy.where.html#numpy.where\" title=\"numpy.where\"><code class=\"xref py py-obj docutils literal notranslate\"><span class=\"pre\">where</span></code></a></p>"
      ],
      "metadata": {
        "id": "vR6MATkZsBM0"
      }
    },
    {
      "cell_type": "markdown",
      "source": [
        "Most universal functions can operate not only on NumPy arrays (ndarray), but also on Python lists, arrays or any object convertible to a NumPy array:"
      ],
      "metadata": {
        "id": "WOkVZ-lcUMLx"
      }
    },
    {
      "cell_type": "code",
      "source": [
        "# cross product of two vectors\n",
        "np.cross([3, 0, 2], [-1, 4, 2])"
      ],
      "metadata": {
        "id": "3knRYtgktiHS",
        "outputId": "6069422e-f335-45d8-853c-2b8d2cd8a39e",
        "colab": {
          "base_uri": "https://localhost:8080/"
        }
      },
      "execution_count": 111,
      "outputs": [
        {
          "output_type": "execute_result",
          "data": {
            "text/plain": [
              "array([-8, -8, 12])"
            ]
          },
          "metadata": {},
          "execution_count": 111
        }
      ]
    },
    {
      "cell_type": "markdown",
      "source": [
        "More usage examples of universal functions:"
      ],
      "metadata": {
        "id": "48RMs7exURVC"
      }
    },
    {
      "cell_type": "code",
      "source": [
        "# reverse an array\n",
        "np.flip(one_d_array)"
      ],
      "metadata": {
        "id": "arO3xFKAtFDC",
        "outputId": "492ecf19-79db-4ece-db50-270e0bf8435d",
        "colab": {
          "base_uri": "https://localhost:8080/"
        }
      },
      "execution_count": 65,
      "outputs": [
        {
          "output_type": "execute_result",
          "data": {
            "text/plain": [
              "array([3, 2, 1, 0])"
            ]
          },
          "metadata": {},
          "execution_count": 65
        }
      ]
    },
    {
      "cell_type": "code",
      "source": [
        "# sort an array, default ascending\n",
        "np.sort(np.random.random(5))"
      ],
      "metadata": {
        "id": "RsSkShcAtRzs",
        "outputId": "7ffe3225-a555-4c61-dfb8-4946a344c578",
        "colab": {
          "base_uri": "https://localhost:8080/"
        }
      },
      "execution_count": 67,
      "outputs": [
        {
          "output_type": "execute_result",
          "data": {
            "text/plain": [
              "array([0.15732179, 0.32612004, 0.43485142, 0.4977131 , 0.54538816])"
            ]
          },
          "metadata": {},
          "execution_count": 67
        }
      ]
    },
    {
      "cell_type": "code",
      "source": [
        "# get the index of the max element\n",
        "one_to_nine = np.arange(1, 10)\n",
        "np.argmax(one_to_nine)"
      ],
      "metadata": {
        "id": "rs7oE7BewIRT",
        "outputId": "0c4fd59b-93d1-439b-a3eb-00ebc5ef70c0",
        "colab": {
          "base_uri": "https://localhost:8080/"
        }
      },
      "execution_count": 75,
      "outputs": [
        {
          "output_type": "execute_result",
          "data": {
            "text/plain": [
              "8"
            ]
          },
          "metadata": {},
          "execution_count": 75
        }
      ]
    },
    {
      "cell_type": "code",
      "source": [
        "# look up the element by index\n",
        "one_to_nine[np.argmax(one_to_nine)]"
      ],
      "metadata": {
        "id": "J8pmanFxwSls",
        "outputId": "c8f6988a-e88d-4f13-dab7-42ac01bce101",
        "colab": {
          "base_uri": "https://localhost:8080/"
        }
      },
      "execution_count": 77,
      "outputs": [
        {
          "output_type": "execute_result",
          "data": {
            "text/plain": [
              "9"
            ]
          },
          "metadata": {},
          "execution_count": 77
        }
      ]
    },
    {
      "cell_type": "code",
      "source": [
        "# check if any of the element evaluates to true\n",
        "np.any([False, 0])"
      ],
      "metadata": {
        "id": "e13C-wxmyHQH",
        "outputId": "65ac48fa-5fc1-4315-bba4-89003aeeab92",
        "colab": {
          "base_uri": "https://localhost:8080/"
        }
      },
      "execution_count": 110,
      "outputs": [
        {
          "output_type": "execute_result",
          "data": {
            "text/plain": [
              "False"
            ]
          },
          "metadata": {},
          "execution_count": 110
        }
      ]
    },
    {
      "cell_type": "code",
      "source": [
        "# check if all of the elements evaluate to true\n",
        "np.all([True, 3, np.nan])"
      ],
      "metadata": {
        "id": "_iT6tGr5ykCz",
        "outputId": "0a12a674-6800-4233-8ea1-158800caef4c",
        "colab": {
          "base_uri": "https://localhost:8080/"
        }
      },
      "execution_count": 109,
      "outputs": [
        {
          "output_type": "execute_result",
          "data": {
            "text/plain": [
              "True"
            ]
          },
          "metadata": {},
          "execution_count": 109
        }
      ]
    },
    {
      "cell_type": "code",
      "source": [
        "# pair-wise element comparison\n",
        "np.greater([1, 2, 3], [1, 2, 1])"
      ],
      "metadata": {
        "id": "j7SpyHJUzxQX",
        "outputId": "045f11a7-030e-4c28-b8b1-a975ff27ef12",
        "colab": {
          "base_uri": "https://localhost:8080/"
        }
      },
      "execution_count": 80,
      "outputs": [
        {
          "output_type": "execute_result",
          "data": {
            "text/plain": [
              "array([False, False,  True])"
            ]
          },
          "metadata": {},
          "execution_count": 80
        }
      ]
    },
    {
      "cell_type": "code",
      "source": [
        "# Does any of the pair-wise comparison evaluate to true?\n",
        "np.any(np.greater([1, 2, 3], [1, 2, 1]))"
      ],
      "metadata": {
        "id": "TaOUacao0fU4",
        "outputId": "425d4aba-1ce9-4cc6-833a-16238c48f3fe",
        "colab": {
          "base_uri": "https://localhost:8080/"
        }
      },
      "execution_count": 81,
      "outputs": [
        {
          "output_type": "execute_result",
          "data": {
            "text/plain": [
              "True"
            ]
          },
          "metadata": {},
          "execution_count": 81
        }
      ]
    },
    {
      "cell_type": "code",
      "source": [
        "# select the indexes of elements that evaluate to true\n",
        "a = np.array([1, 2, 3, 4])\n",
        "np.where(a % 2) # find odd numbers"
      ],
      "metadata": {
        "id": "Auo883i_0m_d",
        "outputId": "428dad1e-1558-4331-b14b-75fa2186e773",
        "colab": {
          "base_uri": "https://localhost:8080/"
        }
      },
      "execution_count": 93,
      "outputs": [
        {
          "output_type": "execute_result",
          "data": {
            "text/plain": [
              "(array([0, 2]),)"
            ]
          },
          "metadata": {},
          "execution_count": 93
        }
      ]
    },
    {
      "cell_type": "code",
      "source": [
        "# select the elements that evaluate to true\n",
        "np.where(a % 2, a, np.nan)"
      ],
      "metadata": {
        "id": "ImxrxvdG1_tb",
        "outputId": "eafedf10-0306-4028-a534-690796da4904",
        "colab": {
          "base_uri": "https://localhost:8080/"
        }
      },
      "execution_count": 95,
      "outputs": [
        {
          "output_type": "execute_result",
          "data": {
            "text/plain": [
              "array([ 1., nan,  3., nan])"
            ]
          },
          "metadata": {},
          "execution_count": 95
        }
      ]
    },
    {
      "cell_type": "markdown",
      "source": [
        "## Exercises\n",
        "\n",
        "Task: Calculate the dot product of vector `(1, 2, 3)` with itself **using one of NumPy's universal functions**. Store the result in variable `dot_result`:"
      ],
      "metadata": {
        "id": "HfhHrQFcdLRr"
      }
    },
    {
      "cell_type": "code",
      "source": [
        "# Your code here\n",
        "\n",
        "# === Do not modify code below ===\n",
        "assert dot_result == 14"
      ],
      "metadata": {
        "id": "HET4DMM4d51a"
      },
      "execution_count": null,
      "outputs": []
    }
  ],
  "metadata": {
    "kernelspec": {
      "display_name": "Python 3",
      "language": "python",
      "name": "python3"
    },
    "language_info": {
      "codemirror_mode": {
        "name": "ipython",
        "version": 3
      },
      "file_extension": ".py",
      "mimetype": "text/x-python",
      "name": "python",
      "nbconvert_exporter": "python",
      "pygments_lexer": "ipython3",
      "version": "3.8.2"
    },
    "colab": {
      "name": "foundations-s3.ipynb",
      "provenance": [],
      "toc_visible": true,
      "include_colab_link": true
    }
  },
  "nbformat": 4,
  "nbformat_minor": 0
}
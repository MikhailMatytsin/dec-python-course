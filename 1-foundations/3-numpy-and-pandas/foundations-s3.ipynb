{
  "cells": [
    {
      "cell_type": "markdown",
      "metadata": {
        "id": "view-in-github",
        "colab_type": "text"
      },
      "source": [
        "<a href=\"https://colab.research.google.com/github/worldbank/dec-python-course/blob/session3/1-foundations/3-numpy-and-pandas/foundations-s3.ipynb\" target=\"_parent\"><img src=\"https://colab.research.google.com/assets/colab-badge.svg\" alt=\"Open In Colab\"/></a>"
      ]
    },
    {
      "cell_type": "markdown",
      "source": [
        "# Python Libraries\n",
        "Within the realm of python, a package is a collection of modules, a library is a collection of packages. In practice, \"python library\" and \"python package\" are used interchangeably to refer to a reusable chunk of code. Use of libraries allows us to \"stand on the shoulders of giants\".\n",
        "\n",
        "## Examples of python libraries\n",
        "- [NumPy](https://numpy.org/) stands for Numerical Python. It is the fundamental Python package for scientific computing.\n",
        "- [pandas](https://pandas.pydata.org/) is a Python package for fast and efficient processing of tabular data, time series, matrix data, etc.\n",
        "- [Matplotlib](https://matplotlib.org/)  is a comprehensive library for creating data visualizations in Python. "
      ],
      "metadata": {
        "id": "Z_z4OH2Cw165"
      }
    },
    {
      "cell_type": "markdown",
      "source": [
        "## How do I get some?"
      ],
      "metadata": {
        "id": "d-1OvfSZ2e5m"
      }
    },
    {
      "cell_type": "code",
      "execution_count": 131,
      "metadata": {
        "colab": {
          "base_uri": "https://localhost:8080/"
        },
        "id": "GNtSS8HZeIV5",
        "outputId": "2242f5bf-14ef-460d-a122-3f535276a871"
      },
      "outputs": [
        {
          "output_type": "stream",
          "name": "stdout",
          "text": [
            "3.141592653589793\n"
          ]
        }
      ],
      "source": [
        "import numpy as np\n",
        "import pandas as pd\n",
        "import matplotlib.pyplot as plt\n",
        "\n",
        "print(np.pi)"
      ]
    },
    {
      "cell_type": "markdown",
      "source": [
        "`as` is optional; it is usually used to alias the library name to a shorthand or for disambiguation. The above are some conventional aliases for these libraries. If you `import numpy` wihtout aliasing, just be sure to use `numpy` instead of `np` when calling the library's functions later.\n",
        "\n",
        "`import` the library like you would import a built-in python module e.g. `import math` works for common libraries on Google Colab. To see which libraries are pre-installed and their versions:"
      ],
      "metadata": {
        "id": "Y6CkPZNx20Lq"
      }
    },
    {
      "cell_type": "code",
      "source": [
        "# Note: ! in google colab executes a bash command\n",
        "# `| more` shortens the output content for immediate display\n",
        "!pip freeze | more"
      ],
      "metadata": {
        "colab": {
          "base_uri": "https://localhost:8080/"
        },
        "id": "CBYYko-23YKA",
        "outputId": "b36994aa-12af-4fb2-8d0c-9dde7a73bc7f"
      },
      "execution_count": 132,
      "outputs": [
        {
          "output_type": "stream",
          "name": "stdout",
          "text": [
            "absl-py==1.2.0\n",
            "alabaster==0.7.12\n",
            "albumentations==0.1.12\n",
            "altair==4.2.0\n",
            "appdirs==1.4.4\n",
            "argon2-cffi==21.3.0\n",
            "argon2-cffi-bindings==21.2.0\n",
            "arviz==0.12.1\n",
            "astor==0.8.1\n",
            "astropy==4.3.1\n",
            "astunparse==1.6.3\n",
            "atari-py==0.2.9\n",
            "atomicwrites==1.4.1\n",
            "attrs==21.4.0\n",
            "audioread==2.1.9\n",
            "autograd==1.4\n",
            "Babel==2.10.3\n",
            "backcall==0.2.0\n",
            "beautifulsoup4==4.6.3\n",
            "bleach==5.0.1\n",
            "blis==0.7.8\n",
            "bokeh==2.3.3\n",
            "branca==0.5.0\n",
            "\u001b[K"
          ]
        }
      ]
    },
    {
      "cell_type": "markdown",
      "source": [
        "To check if a library you want to use is already installed:"
      ],
      "metadata": {
        "id": "CBMqUBUi3qfl"
      }
    },
    {
      "cell_type": "code",
      "source": [
        "!pip freeze | grep pandas"
      ],
      "metadata": {
        "colab": {
          "base_uri": "https://localhost:8080/"
        },
        "id": "7dNMg6iX3wIp",
        "outputId": "0a5c1a00-950b-4224-9645-50553cf7d6a8"
      },
      "execution_count": 133,
      "outputs": [
        {
          "output_type": "stream",
          "name": "stdout",
          "text": [
            "pandas==1.3.5\n",
            "pandas-datareader==0.9.0\n",
            "pandas-gbq==0.13.3\n",
            "pandas-profiling==1.4.1\n",
            "sklearn-pandas==1.8.0\n"
          ]
        }
      ]
    },
    {
      "cell_type": "markdown",
      "source": [
        "[pip](https://pip.pypa.io/) is the de facto python package manager. You can use it to view the current installed packages and to install a new library or upgrade an existin library:"
      ],
      "metadata": {
        "id": "-eZ2_CmN4Mzq"
      }
    },
    {
      "cell_type": "code",
      "source": [
        "# install/upgrade to the latest stable verison of a package\n",
        "!pip install pandas --upgrade "
      ],
      "metadata": {
        "colab": {
          "base_uri": "https://localhost:8080/"
        },
        "id": "jiOOOA9w4UeG",
        "outputId": "b497fc9e-7005-48ae-e719-3591818ae92f"
      },
      "execution_count": 134,
      "outputs": [
        {
          "output_type": "stream",
          "name": "stdout",
          "text": [
            "Looking in indexes: https://pypi.org/simple, https://us-python.pkg.dev/colab-wheels/public/simple/\n",
            "Requirement already satisfied: pandas in /usr/local/lib/python3.7/dist-packages (1.3.5)\n",
            "Requirement already satisfied: python-dateutil>=2.7.3 in /usr/local/lib/python3.7/dist-packages (from pandas) (2.8.2)\n",
            "Requirement already satisfied: numpy>=1.17.3 in /usr/local/lib/python3.7/dist-packages (from pandas) (1.21.6)\n",
            "Requirement already satisfied: pytz>=2017.3 in /usr/local/lib/python3.7/dist-packages (from pandas) (2022.1)\n",
            "Requirement already satisfied: six>=1.5 in /usr/local/lib/python3.7/dist-packages (from python-dateutil>=2.7.3->pandas) (1.15.0)\n"
          ]
        }
      ]
    },
    {
      "cell_type": "code",
      "source": [
        "# install a specific version of a package\n",
        "!pip install pandas==1.3.5"
      ],
      "metadata": {
        "colab": {
          "base_uri": "https://localhost:8080/"
        },
        "id": "lcUHqMOw8GCC",
        "outputId": "412e6bb4-82e6-4fc4-9ef0-c16f20a113ac"
      },
      "execution_count": 135,
      "outputs": [
        {
          "output_type": "stream",
          "name": "stdout",
          "text": [
            "Looking in indexes: https://pypi.org/simple, https://us-python.pkg.dev/colab-wheels/public/simple/\n",
            "Requirement already satisfied: pandas==1.3.5 in /usr/local/lib/python3.7/dist-packages (1.3.5)\n",
            "Requirement already satisfied: python-dateutil>=2.7.3 in /usr/local/lib/python3.7/dist-packages (from pandas==1.3.5) (2.8.2)\n",
            "Requirement already satisfied: pytz>=2017.3 in /usr/local/lib/python3.7/dist-packages (from pandas==1.3.5) (2022.1)\n",
            "Requirement already satisfied: numpy>=1.17.3 in /usr/local/lib/python3.7/dist-packages (from pandas==1.3.5) (1.21.6)\n",
            "Requirement already satisfied: six>=1.5 in /usr/local/lib/python3.7/dist-packages (from python-dateutil>=2.7.3->pandas==1.3.5) (1.15.0)\n"
          ]
        }
      ]
    },
    {
      "cell_type": "markdown",
      "source": [
        "## Exercises\n",
        "The following exercises are meant to be completed step by step. Upon successful completion of all steps, the last cell should execute without any `AssertionError`.\n",
        "\n",
        "Step 1. Run a command to find out what is the current installed version of `matplotlib`:"
      ],
      "metadata": {
        "id": "udmuxsot8iMf"
      }
    },
    {
      "cell_type": "code",
      "source": [
        "# hint: use ! and bash command `pip freeze` and pipe the results to bash command `grep matplotlib`"
      ],
      "metadata": {
        "id": "CwERECq69Q_j"
      },
      "execution_count": 136,
      "outputs": []
    },
    {
      "cell_type": "markdown",
      "source": [
        "Step 2. Install version 3.5.2 of `matplotlib` for this notebook. Upon successful installation, click on \"RESTART RUNTIME\" in the code cell output."
      ],
      "metadata": {
        "id": "43mq07rBF414"
      }
    },
    {
      "cell_type": "code",
      "source": [
        "# hint: use ! and bash command `pip install`"
      ],
      "metadata": {
        "id": "WdwQn1lEGP5i"
      },
      "execution_count": 137,
      "outputs": []
    },
    {
      "cell_type": "markdown",
      "source": [
        "Step 3. Import `matplotlib`'s `pyplot` module and alias it as `plt`"
      ],
      "metadata": {
        "id": "yuwpmEcnG9-3"
      }
    },
    {
      "cell_type": "code",
      "source": [
        "# hint: use `import ... as ...`\n",
        "\n",
        "# === Do not modify code below ===\n",
        "fig = plt.figure(figsize=(10, 80))\n",
        "assert hasattr(fig, \"subfigures\"),\\\n",
        " \"If correct version of matplotlib were installed you should not see this message\"\n",
        "\n",
        "print(\"Well done!\")"
      ],
      "metadata": {
        "colab": {
          "base_uri": "https://localhost:8080/",
          "height": 276
        },
        "id": "_QQVLOJfIg6V",
        "outputId": "832227a7-ca4c-4138-82d4-f572f5950ff7"
      },
      "execution_count": 138,
      "outputs": [
        {
          "output_type": "error",
          "ename": "AssertionError",
          "evalue": "ignored",
          "traceback": [
            "\u001b[0;31m---------------------------------------------------------------------------\u001b[0m",
            "\u001b[0;31mAssertionError\u001b[0m                            Traceback (most recent call last)",
            "\u001b[0;32m<ipython-input-138-64a90d1aa1a6>\u001b[0m in \u001b[0;36m<module>\u001b[0;34m()\u001b[0m\n\u001b[1;32m      3\u001b[0m \u001b[0;31m# === Do not modify code below ===\u001b[0m\u001b[0;34m\u001b[0m\u001b[0;34m\u001b[0m\u001b[0;34m\u001b[0m\u001b[0m\n\u001b[1;32m      4\u001b[0m \u001b[0mfig\u001b[0m \u001b[0;34m=\u001b[0m \u001b[0mplt\u001b[0m\u001b[0;34m.\u001b[0m\u001b[0mfigure\u001b[0m\u001b[0;34m(\u001b[0m\u001b[0mfigsize\u001b[0m\u001b[0;34m=\u001b[0m\u001b[0;34m(\u001b[0m\u001b[0;36m10\u001b[0m\u001b[0;34m,\u001b[0m \u001b[0;36m80\u001b[0m\u001b[0;34m)\u001b[0m\u001b[0;34m)\u001b[0m\u001b[0;34m\u001b[0m\u001b[0;34m\u001b[0m\u001b[0m\n\u001b[0;32m----> 5\u001b[0;31m \u001b[0;32massert\u001b[0m \u001b[0mhasattr\u001b[0m\u001b[0;34m(\u001b[0m\u001b[0mfig\u001b[0m\u001b[0;34m,\u001b[0m \u001b[0;34m\"subfigures\"\u001b[0m\u001b[0;34m)\u001b[0m\u001b[0;34m,\u001b[0m \u001b[0;34m\"If correct version of matplotlib were installed you should not see this message\"\u001b[0m\u001b[0;34m\u001b[0m\u001b[0;34m\u001b[0m\u001b[0m\n\u001b[0m\u001b[1;32m      6\u001b[0m \u001b[0;34m\u001b[0m\u001b[0m\n\u001b[1;32m      7\u001b[0m \u001b[0mprint\u001b[0m\u001b[0;34m(\u001b[0m\u001b[0;34m\"Well done!\"\u001b[0m\u001b[0;34m)\u001b[0m\u001b[0;34m\u001b[0m\u001b[0;34m\u001b[0m\u001b[0m\n",
            "\u001b[0;31mAssertionError\u001b[0m: If correct version of matplotlib were installed you should not see this message"
          ]
        },
        {
          "output_type": "display_data",
          "data": {
            "text/plain": [
              "<Figure size 720x5760 with 0 Axes>"
            ]
          },
          "metadata": {}
        }
      ]
    },
    {
      "cell_type": "markdown",
      "source": [
        "If you have successfully completed the above exercies and are feeling adventurous, head over to `foundations-s3-bonus.ipynb` – it contains some bonus content and corresponding exercises on this topic."
      ],
      "metadata": {
        "id": "nmuFvgTazPbo"
      }
    },
    {
      "cell_type": "markdown",
      "source": [
        "# NumPy\n",
        "\n",
        "NumPy (**Numerical Python**) is an open source Python library that’s used in almost every field of science and engineering. It’s the **universal standard** for working with numerical data in Python, and it’s at the core of the scientific Python and PyData ecosystems. It serves as the fundamention for popular data science and scientific Python packages, such as Pandas, SciPy, Matplotlib, scikit-learn.\n"
      ],
      "metadata": {
        "id": "Vy-R-M5N2I6N"
      }
    },
    {
      "cell_type": "markdown",
      "source": [
        "\n",
        "## ndarray\n",
        "The NumPy library provides **powerful functionalities** for numerical operations and does so **effeciently**. Its basic building block is `ndarray`, a homogeneous n-dimensional array object, with methods to efficiently operate on it. `ndarray` is a simple and flexible data structure that can represent vectors (1-D arrays), matrices (2-D arrays), and tensors (3-D or higher dimensional arrays).\n",
        "\n",
        "// TODO: add picture\n"
      ],
      "metadata": {
        "id": "ebvx7VbrEIdi"
      }
    },
    {
      "cell_type": "markdown",
      "source": [
        "\n",
        "### Wait, what's an array?\n",
        "\n",
        "In computer science, an array is a data structure consisting of a collection of elements, each identified by an index. "
      ],
      "metadata": {
        "id": "JJ_MBbHUDAUc"
      }
    },
    {
      "cell_type": "markdown",
      "source": [
        "### How does a NumPy `ndarray` compare to a Python `list` or `array`?\n",
        "In Python, arrays are most often represented using `list`, which allows for different data types within a single list. Python standard library does come with its own `array` module which requires that a single array can only contain one data type of elements. Python's `array` is more compact (takes less space in storage) than `list` and comes with some basic math operations. NumPy's `ndarray` is like Python's `array` on steroids, functionality wise."
      ],
      "metadata": {
        "id": "GZLEMDHSD_Hz"
      }
    },
    {
      "cell_type": "code",
      "source": [
        "from array import array\n",
        "import numpy as np\n",
        "\n",
        "py_list = [1, 2, '3']\n",
        "py_array = array('i', [1, 2, 3]) # i indicates integer\n",
        "np_array = np.array([1, 2, 3])"
      ],
      "metadata": {
        "id": "eaMKE8NnDAvX"
      },
      "execution_count": 139,
      "outputs": []
    },
    {
      "cell_type": "markdown",
      "source": [
        "### How to create a NumPy `ndarray`?"
      ],
      "metadata": {
        "id": "49kiXHiuI7YO"
      }
    },
    {
      "cell_type": "code",
      "source": [
        "# give me 3 zeros\n",
        "np.zeros(3)"
      ],
      "metadata": {
        "colab": {
          "base_uri": "https://localhost:8080/"
        },
        "id": "OXklQZ1gJKIp",
        "outputId": "3f134fe1-6fc6-455f-8cbe-07e1943985f8"
      },
      "execution_count": 140,
      "outputs": [
        {
          "output_type": "execute_result",
          "data": {
            "text/plain": [
              "array([0., 0., 0.])"
            ]
          },
          "metadata": {},
          "execution_count": 140
        }
      ]
    },
    {
      "cell_type": "code",
      "source": [
        "# give me 4 ones\n",
        "np.ones(4)"
      ],
      "metadata": {
        "colab": {
          "base_uri": "https://localhost:8080/"
        },
        "id": "egULMRRZJVfX",
        "outputId": "815f0ff5-2bc2-4c47-c295-ab8e7dbbd983"
      },
      "execution_count": 141,
      "outputs": [
        {
          "output_type": "execute_result",
          "data": {
            "text/plain": [
              "array([1., 1., 1., 1.])"
            ]
          },
          "metadata": {},
          "execution_count": 141
        }
      ]
    },
    {
      "cell_type": "code",
      "source": [
        "# give me 5 numbers randomly sampled from [0.0, 1.0)\n",
        "np.random.random(5)"
      ],
      "metadata": {
        "colab": {
          "base_uri": "https://localhost:8080/"
        },
        "id": "xCUM92UPcEbY",
        "outputId": "3ee89d6b-7b25-4d1a-a9e2-b786cc92d9e9"
      },
      "execution_count": 142,
      "outputs": [
        {
          "output_type": "execute_result",
          "data": {
            "text/plain": [
              "array([0.11488624, 0.00615753, 0.09633504, 0.87404725, 0.9838823 ])"
            ]
          },
          "metadata": {},
          "execution_count": 142
        }
      ]
    },
    {
      "cell_type": "code",
      "source": [
        "# give me 4 consecutive numbers\n",
        "# starts at 0 by default, stop is excluded\n",
        "one_d_array = np.arange(4)\n",
        "one_d_array"
      ],
      "metadata": {
        "colab": {
          "base_uri": "https://localhost:8080/"
        },
        "id": "saEkxVHRJXX4",
        "outputId": "f03d4f85-ef7b-4327-994d-b8a9018e74f9"
      },
      "execution_count": 143,
      "outputs": [
        {
          "output_type": "execute_result",
          "data": {
            "text/plain": [
              "array([0, 1, 2, 3])"
            ]
          },
          "metadata": {},
          "execution_count": 143
        }
      ]
    },
    {
      "cell_type": "code",
      "source": [
        "# start, stop, step\n",
        "np.arange(1, 9, 2)"
      ],
      "metadata": {
        "colab": {
          "base_uri": "https://localhost:8080/"
        },
        "id": "VsSluLFkJgJN",
        "outputId": "60985b5c-3f15-454f-adbf-6ead7f2c4398"
      },
      "execution_count": 144,
      "outputs": [
        {
          "output_type": "execute_result",
          "data": {
            "text/plain": [
              "array([1, 3, 5, 7])"
            ]
          },
          "metadata": {},
          "execution_count": 144
        }
      ]
    },
    {
      "cell_type": "code",
      "source": [
        "# 2-D array / matrix\n",
        "two_d_array = np.array([[1, 2], [3, 4]])\n",
        "two_d_array"
      ],
      "metadata": {
        "colab": {
          "base_uri": "https://localhost:8080/"
        },
        "id": "cT1kC1bpKKPp",
        "outputId": "af30ca94-b455-4185-e703-735d9132ecce"
      },
      "execution_count": 145,
      "outputs": [
        {
          "output_type": "execute_result",
          "data": {
            "text/plain": [
              "array([[1, 2],\n",
              "       [3, 4]])"
            ]
          },
          "metadata": {},
          "execution_count": 145
        }
      ]
    },
    {
      "cell_type": "code",
      "source": [
        "# 3-D array\n",
        "three_d_array = np.array([[[1.0, 2], [3, 4]], [[5, 6], [7, 8]], [[9, 10], [11, 12]]])\n",
        "three_d_array"
      ],
      "metadata": {
        "colab": {
          "base_uri": "https://localhost:8080/"
        },
        "id": "_rzZrypbKRe1",
        "outputId": "5dbcd0fb-25b1-408b-cc3c-37ea00a18476"
      },
      "execution_count": 146,
      "outputs": [
        {
          "output_type": "execute_result",
          "data": {
            "text/plain": [
              "array([[[ 1.,  2.],\n",
              "        [ 3.,  4.]],\n",
              "\n",
              "       [[ 5.,  6.],\n",
              "        [ 7.,  8.]],\n",
              "\n",
              "       [[ 9., 10.],\n",
              "        [11., 12.]]])"
            ]
          },
          "metadata": {},
          "execution_count": 146
        }
      ]
    },
    {
      "cell_type": "markdown",
      "source": [
        "### How to find properties of a `ndarray`?"
      ],
      "metadata": {
        "id": "CUcCejnWK3ES"
      }
    },
    {
      "cell_type": "code",
      "source": [
        "# dimension\n",
        "two_d_array.ndim"
      ],
      "metadata": {
        "colab": {
          "base_uri": "https://localhost:8080/"
        },
        "id": "uQU5MWhXLFd0",
        "outputId": "85af34c0-fef8-41f8-e4b1-f4c3964901d9"
      },
      "execution_count": 147,
      "outputs": [
        {
          "output_type": "execute_result",
          "data": {
            "text/plain": [
              "2"
            ]
          },
          "metadata": {},
          "execution_count": 147
        }
      ]
    },
    {
      "cell_type": "code",
      "source": [
        "three_d_array.ndim"
      ],
      "metadata": {
        "colab": {
          "base_uri": "https://localhost:8080/"
        },
        "id": "k_7NYDVHLVjf",
        "outputId": "b258174f-6a82-46f9-c22b-746c92bca90c"
      },
      "execution_count": 148,
      "outputs": [
        {
          "output_type": "execute_result",
          "data": {
            "text/plain": [
              "3"
            ]
          },
          "metadata": {},
          "execution_count": 148
        }
      ]
    },
    {
      "cell_type": "code",
      "source": [
        "# shape\n",
        "two_d_array.shape"
      ],
      "metadata": {
        "colab": {
          "base_uri": "https://localhost:8080/"
        },
        "id": "wbkCdN5YAa7d",
        "outputId": "011f3e5f-be38-47ac-b16f-798c7ea09ff6"
      },
      "execution_count": 149,
      "outputs": [
        {
          "output_type": "execute_result",
          "data": {
            "text/plain": [
              "(2, 2)"
            ]
          },
          "metadata": {},
          "execution_count": 149
        }
      ]
    },
    {
      "cell_type": "code",
      "source": [
        "three_d_array.shape"
      ],
      "metadata": {
        "colab": {
          "base_uri": "https://localhost:8080/"
        },
        "id": "XyDDu35GAprw",
        "outputId": "f2002842-e17d-4d80-8624-db33383d09ce"
      },
      "execution_count": 150,
      "outputs": [
        {
          "output_type": "execute_result",
          "data": {
            "text/plain": [
              "(3, 2, 2)"
            ]
          },
          "metadata": {},
          "execution_count": 150
        }
      ]
    },
    {
      "cell_type": "code",
      "source": [
        "# how many elements total?\n",
        "three_d_array.size"
      ],
      "metadata": {
        "colab": {
          "base_uri": "https://localhost:8080/"
        },
        "id": "iF7YeWx7B2HB",
        "outputId": "b46bff61-bfef-4df7-f4ff-b5286e67705f"
      },
      "execution_count": 151,
      "outputs": [
        {
          "output_type": "execute_result",
          "data": {
            "text/plain": [
              "12"
            ]
          },
          "metadata": {},
          "execution_count": 151
        }
      ]
    },
    {
      "cell_type": "code",
      "source": [
        "# what's the data type of the elements?\n",
        "three_d_array.dtype"
      ],
      "metadata": {
        "colab": {
          "base_uri": "https://localhost:8080/"
        },
        "id": "6t5blJmACV9z",
        "outputId": "1393593c-0c97-465a-fa34-a869574916a8"
      },
      "execution_count": 152,
      "outputs": [
        {
          "output_type": "execute_result",
          "data": {
            "text/plain": [
              "dtype('float64')"
            ]
          },
          "metadata": {},
          "execution_count": 152
        }
      ]
    },
    {
      "cell_type": "code",
      "source": [
        "print(f'''Array dimension: {one_d_array.ndim},\n",
        "      shape: {one_d_array.shape}, \n",
        "      size: {one_d_array.size},\n",
        "      data type: {one_d_array.dtype}''')"
      ],
      "metadata": {
        "colab": {
          "base_uri": "https://localhost:8080/"
        },
        "id": "nU8fq7UfA9y9",
        "outputId": "d07e3158-ce85-4832-d17b-6af9f59c5bde"
      },
      "execution_count": 153,
      "outputs": [
        {
          "output_type": "stream",
          "name": "stdout",
          "text": [
            "Array dimension: 1,\n",
            "      shape: (4,), \n",
            "      size: 4,\n",
            "      data type: int64\n"
          ]
        }
      ]
    },
    {
      "cell_type": "markdown",
      "source": [
        "## Manipulating and operating on `ndarray`\n",
        "With basic understanding of ndarray, let's go ahead do some maths with it."
      ],
      "metadata": {
        "id": "RkJaQBfxEmMW"
      }
    },
    {
      "cell_type": "markdown",
      "source": [
        "### How to do maths and (even) linear algebra with ndarrays?"
      ],
      "metadata": {
        "id": "AfXv6ngFc5Av"
      }
    },
    {
      "cell_type": "code",
      "source": [
        "one_d_array.min()"
      ],
      "metadata": {
        "colab": {
          "base_uri": "https://localhost:8080/"
        },
        "id": "zUy5BHrAF0Bj",
        "outputId": "a1058339-1739-4ef3-a830-e3423dbc27ec"
      },
      "execution_count": 154,
      "outputs": [
        {
          "output_type": "execute_result",
          "data": {
            "text/plain": [
              "0"
            ]
          },
          "metadata": {},
          "execution_count": 154
        }
      ]
    },
    {
      "cell_type": "code",
      "source": [
        "one_d_array.max()"
      ],
      "metadata": {
        "colab": {
          "base_uri": "https://localhost:8080/"
        },
        "id": "gx61RU7PGDKE",
        "outputId": "4108d978-e37a-441f-958e-f946f9027a1b"
      },
      "execution_count": 155,
      "outputs": [
        {
          "output_type": "execute_result",
          "data": {
            "text/plain": [
              "3"
            ]
          },
          "metadata": {},
          "execution_count": 155
        }
      ]
    },
    {
      "cell_type": "code",
      "source": [
        "one_d_array.sum()"
      ],
      "metadata": {
        "colab": {
          "base_uri": "https://localhost:8080/"
        },
        "id": "GKaFLXz3GFPU",
        "outputId": "565cb29e-0512-49d6-ada3-e7f6acd716e9"
      },
      "execution_count": 156,
      "outputs": [
        {
          "output_type": "execute_result",
          "data": {
            "text/plain": [
              "6"
            ]
          },
          "metadata": {},
          "execution_count": 156
        }
      ]
    },
    {
      "cell_type": "code",
      "source": [
        "# broadcasting\n",
        "one_d_array * 2"
      ],
      "metadata": {
        "colab": {
          "base_uri": "https://localhost:8080/"
        },
        "id": "UteWB3LcGIzK",
        "outputId": "1b1544e0-d726-48a2-95a2-ca0a88ca0780"
      },
      "execution_count": 157,
      "outputs": [
        {
          "output_type": "execute_result",
          "data": {
            "text/plain": [
              "array([0, 2, 4, 6])"
            ]
          },
          "metadata": {},
          "execution_count": 157
        }
      ]
    },
    {
      "cell_type": "code",
      "source": [
        "# arithmetic operations\n",
        "one_d_array + one_d_array * 2"
      ],
      "metadata": {
        "colab": {
          "base_uri": "https://localhost:8080/"
        },
        "id": "8gRhvgszGeOB",
        "outputId": "7fc791cd-2a10-4073-a43a-2888066214da"
      },
      "execution_count": 158,
      "outputs": [
        {
          "output_type": "execute_result",
          "data": {
            "text/plain": [
              "array([0, 3, 6, 9])"
            ]
          },
          "metadata": {},
          "execution_count": 158
        }
      ]
    },
    {
      "cell_type": "code",
      "source": [
        "one_d_array - two_d_array"
      ],
      "metadata": {
        "colab": {
          "base_uri": "https://localhost:8080/",
          "height": 169
        },
        "id": "h8kjqzYjRJ3p",
        "outputId": "3f9e3004-663a-4865-8312-d3083a87f552"
      },
      "execution_count": 159,
      "outputs": [
        {
          "output_type": "error",
          "ename": "ValueError",
          "evalue": "ignored",
          "traceback": [
            "\u001b[0;31m---------------------------------------------------------------------------\u001b[0m",
            "\u001b[0;31mValueError\u001b[0m                                Traceback (most recent call last)",
            "\u001b[0;32m<ipython-input-159-d8854863e3a8>\u001b[0m in \u001b[0;36m<module>\u001b[0;34m()\u001b[0m\n\u001b[0;32m----> 1\u001b[0;31m \u001b[0mone_d_array\u001b[0m \u001b[0;34m-\u001b[0m \u001b[0mtwo_d_array\u001b[0m\u001b[0;34m\u001b[0m\u001b[0;34m\u001b[0m\u001b[0m\n\u001b[0m",
            "\u001b[0;31mValueError\u001b[0m: operands could not be broadcast together with shapes (4,) (2,2) "
          ]
        }
      ]
    },
    {
      "cell_type": "markdown",
      "source": [
        "### How to reshape a `ndarray`?\n",
        "Use the `reshape` function with the new shape as arguments. Note that the new shape must have the same number of elements as the original array.\n",
        "\n",
        "<img src=\"https://numpy.org/doc/stable/_images/np_reshape.png\" />\n",
        "\n",
        "Image credit: https://numpy.org/doc/stable/user/absolute_beginners.html#transposing-and-reshaping-a-matrix"
      ],
      "metadata": {
        "id": "o78bmHjaDsSH"
      }
    },
    {
      "cell_type": "code",
      "source": [
        "one_d_array.reshape(2, 2) - two_d_array"
      ],
      "metadata": {
        "colab": {
          "base_uri": "https://localhost:8080/"
        },
        "id": "OAtTlmLVSKKg",
        "outputId": "0bccbafc-44f0-49b0-85ce-451c6323acdf"
      },
      "execution_count": 160,
      "outputs": [
        {
          "output_type": "execute_result",
          "data": {
            "text/plain": [
              "array([[-1, -1],\n",
              "       [-1, -1]])"
            ]
          },
          "metadata": {},
          "execution_count": 160
        }
      ]
    },
    {
      "cell_type": "code",
      "source": [
        "one_d_array.reshape(1, 4) - two_d_array.reshape(1, 4)"
      ],
      "metadata": {
        "colab": {
          "base_uri": "https://localhost:8080/"
        },
        "id": "TH8U3lRvSoz0",
        "outputId": "54a2f337-aff8-475b-c57d-3a3211dc65c1"
      },
      "execution_count": 161,
      "outputs": [
        {
          "output_type": "execute_result",
          "data": {
            "text/plain": [
              "array([[-1, -1, -1, -1]])"
            ]
          },
          "metadata": {},
          "execution_count": 161
        }
      ]
    },
    {
      "cell_type": "markdown",
      "source": [
        "To transpose:"
      ],
      "metadata": {
        "id": "z39qeUuPUf7h"
      }
    },
    {
      "cell_type": "code",
      "source": [
        "one_d_array.transpose()"
      ],
      "metadata": {
        "colab": {
          "base_uri": "https://localhost:8080/"
        },
        "id": "81buJflLTgY_",
        "outputId": "0e330a71-201a-4ac7-8088-f94763a96919"
      },
      "execution_count": 162,
      "outputs": [
        {
          "output_type": "execute_result",
          "data": {
            "text/plain": [
              "array([0, 1, 2, 3])"
            ]
          },
          "metadata": {},
          "execution_count": 162
        }
      ]
    },
    {
      "cell_type": "code",
      "source": [
        "# or use short T attribute on the array\n",
        "one_d_array.T"
      ],
      "metadata": {
        "colab": {
          "base_uri": "https://localhost:8080/"
        },
        "id": "gDNeIQPjSyxT",
        "outputId": "2dd46828-8cd3-4374-9548-38b55f6f1d9c"
      },
      "execution_count": 163,
      "outputs": [
        {
          "output_type": "execute_result",
          "data": {
            "text/plain": [
              "array([0, 1, 2, 3])"
            ]
          },
          "metadata": {},
          "execution_count": 163
        }
      ]
    },
    {
      "cell_type": "code",
      "source": [
        "one_d_array.T - two_d_array.reshape(1, 4)"
      ],
      "metadata": {
        "colab": {
          "base_uri": "https://localhost:8080/"
        },
        "id": "v1yxnKvxS6nG",
        "outputId": "6f431f11-588e-4104-f0f9-cac9fba736c8"
      },
      "execution_count": 164,
      "outputs": [
        {
          "output_type": "execute_result",
          "data": {
            "text/plain": [
              "array([[-1, -1, -1, -1]])"
            ]
          },
          "metadata": {},
          "execution_count": 164
        }
      ]
    },
    {
      "cell_type": "markdown",
      "source": [
        "To flatten any multidimensional array to a 1-d array:"
      ],
      "metadata": {
        "id": "cNqIiHNuUnX1"
      }
    },
    {
      "cell_type": "code",
      "source": [
        "two_d_array.flatten()"
      ],
      "metadata": {
        "colab": {
          "base_uri": "https://localhost:8080/"
        },
        "id": "bNxinokzUxv0",
        "outputId": "0eccc4e3-5e14-43df-dad8-7b738ef0bcaa"
      },
      "execution_count": 165,
      "outputs": [
        {
          "output_type": "execute_result",
          "data": {
            "text/plain": [
              "array([1, 2, 3, 4])"
            ]
          },
          "metadata": {},
          "execution_count": 165
        }
      ]
    },
    {
      "cell_type": "code",
      "source": [
        "one_d_array - two_d_array.flatten()"
      ],
      "metadata": {
        "colab": {
          "base_uri": "https://localhost:8080/"
        },
        "id": "AbUq49UaU1kY",
        "outputId": "0d4b13c7-265a-477a-f360-3f5aae73e6c4"
      },
      "execution_count": 166,
      "outputs": [
        {
          "output_type": "execute_result",
          "data": {
            "text/plain": [
              "array([-1, -1, -1, -1])"
            ]
          },
          "metadata": {},
          "execution_count": 166
        }
      ]
    },
    {
      "cell_type": "markdown",
      "source": [
        "### How to stack and split ndarrays?"
      ],
      "metadata": {
        "id": "xVLvbu07a_Qr"
      }
    },
    {
      "cell_type": "markdown",
      "source": [
        "Multiple arrays can be stacked together along different axes:"
      ],
      "metadata": {
        "id": "7_wIPRPEbaqf"
      }
    },
    {
      "cell_type": "code",
      "source": [
        "another_two_d_array = two_d_array * 2\n",
        "print(two_d_array)\n",
        "print(another_two_d_array)"
      ],
      "metadata": {
        "outputId": "91de697d-dfb1-4ec0-cb3c-ed5724a52b0c",
        "colab": {
          "base_uri": "https://localhost:8080/"
        },
        "id": "lb_LAQ8Kbaqf"
      },
      "execution_count": 167,
      "outputs": [
        {
          "output_type": "stream",
          "name": "stdout",
          "text": [
            "[[1 2]\n",
            " [3 4]]\n",
            "[[2 4]\n",
            " [6 8]]\n"
          ]
        }
      ]
    },
    {
      "cell_type": "code",
      "source": [
        "# stack row wise\n",
        "vstacked = np.vstack((two_d_array, another_two_d_array))\n",
        "vstacked"
      ],
      "metadata": {
        "outputId": "f5a0cbab-123d-4c61-e3bf-167b5c1b62c7",
        "colab": {
          "base_uri": "https://localhost:8080/"
        },
        "id": "bk_7A0SPbaqg"
      },
      "execution_count": 186,
      "outputs": [
        {
          "output_type": "execute_result",
          "data": {
            "text/plain": [
              "array([[1, 2],\n",
              "       [3, 4],\n",
              "       [2, 4],\n",
              "       [6, 8]])"
            ]
          },
          "metadata": {},
          "execution_count": 186
        }
      ]
    },
    {
      "cell_type": "code",
      "source": [
        "# stack column wise\n",
        "hstacked = np.hstack((two_d_array, another_two_d_array))\n",
        "hstacked"
      ],
      "metadata": {
        "outputId": "8d848399-f960-486d-9be3-36398024ab91",
        "colab": {
          "base_uri": "https://localhost:8080/"
        },
        "id": "38AgRXTmbaqg"
      },
      "execution_count": 169,
      "outputs": [
        {
          "output_type": "execute_result",
          "data": {
            "text/plain": [
              "array([[1, 2, 2, 4],\n",
              "       [3, 4, 6, 8]])"
            ]
          },
          "metadata": {},
          "execution_count": 169
        }
      ]
    },
    {
      "cell_type": "markdown",
      "source": [
        "An array can be split into multiple arrays, along the specified axes:"
      ],
      "metadata": {
        "id": "gFxvmCBObt3d"
      }
    },
    {
      "cell_type": "code",
      "source": [
        "vstacked"
      ],
      "metadata": {
        "outputId": "de6953f6-92ed-4feb-8726-eff1dc637416",
        "colab": {
          "base_uri": "https://localhost:8080/"
        },
        "id": "lVjhON5pbt3d"
      },
      "execution_count": 170,
      "outputs": [
        {
          "output_type": "execute_result",
          "data": {
            "text/plain": [
              "array([[1, 2],\n",
              "       [3, 4],\n",
              "       [2, 4],\n",
              "       [6, 8]])"
            ]
          },
          "metadata": {},
          "execution_count": 170
        }
      ]
    },
    {
      "cell_type": "code",
      "source": [
        "# split to 2 arrays row wise\n",
        "vsplit1, vsplit2 = np.vsplit(vstacked, 2)\n",
        "print(vsplit1)\n",
        "print(vsplit2)"
      ],
      "metadata": {
        "outputId": "6401cb6b-6f4e-4ca9-bac4-8f48084e94d4",
        "colab": {
          "base_uri": "https://localhost:8080/"
        },
        "id": "jJzFczthbt3e"
      },
      "execution_count": 171,
      "outputs": [
        {
          "output_type": "stream",
          "name": "stdout",
          "text": [
            "[[1 2]\n",
            " [3 4]]\n",
            "[[2 4]\n",
            " [6 8]]\n"
          ]
        }
      ]
    },
    {
      "cell_type": "code",
      "source": [
        "# split to 2 arrays column wise\n",
        "hsplit1, hsplit2 = np.hsplit(vstacked, 2)\n",
        "print(hsplit1)\n",
        "print(hsplit2)"
      ],
      "metadata": {
        "outputId": "53e3ccdb-8578-402e-cb7d-c8b14e4957d2",
        "colab": {
          "base_uri": "https://localhost:8080/"
        },
        "id": "bYLRgBHWbt3e"
      },
      "execution_count": 172,
      "outputs": [
        {
          "output_type": "stream",
          "name": "stdout",
          "text": [
            "[[1]\n",
            " [3]\n",
            " [2]\n",
            " [6]]\n",
            "[[2]\n",
            " [4]\n",
            " [4]\n",
            " [8]]\n"
          ]
        }
      ]
    },
    {
      "cell_type": "markdown",
      "source": [
        "## Exercises\n",
        "\n",
        "Task: Calculate the dot product of vector `(1, 2, 3)` wtih itself.\n",
        "\n",
        "The following exercises are meant to be completed step by step. Upon successful completion of all steps, the last cell should execute without any `AssertionError`.\n",
        "\n",
        "Step 1. represent vector `(1, 2, 3)` as a 1-d NumPy array of shape (3, ) and store in variable `a`:"
      ],
      "metadata": {
        "id": "bRa5jb9TVUIw"
      }
    },
    {
      "cell_type": "code",
      "source": [
        "# hint: use np.array or np.arange\n",
        "# Your code here\n",
        "\n",
        "# === Do not modify code below ===\n",
        "assert a.shape == (3, )\n",
        "assert a[0] == 1\n",
        "assert a[1] == 2"
      ],
      "metadata": {
        "colab": {
          "base_uri": "https://localhost:8080/",
          "height": 240
        },
        "id": "KdcSu4SJWTll",
        "outputId": "2d132606-a32b-4164-a6f9-0f7eefe77b18"
      },
      "execution_count": 173,
      "outputs": [
        {
          "output_type": "error",
          "ename": "AssertionError",
          "evalue": "ignored",
          "traceback": [
            "\u001b[0;31m---------------------------------------------------------------------------\u001b[0m",
            "\u001b[0;31mAssertionError\u001b[0m                            Traceback (most recent call last)",
            "\u001b[0;32m<ipython-input-173-cf82ae540889>\u001b[0m in \u001b[0;36m<module>\u001b[0;34m()\u001b[0m\n\u001b[1;32m      3\u001b[0m \u001b[0;34m\u001b[0m\u001b[0m\n\u001b[1;32m      4\u001b[0m \u001b[0;31m# === Do not modify code below ===\u001b[0m\u001b[0;34m\u001b[0m\u001b[0;34m\u001b[0m\u001b[0;34m\u001b[0m\u001b[0m\n\u001b[0;32m----> 5\u001b[0;31m \u001b[0;32massert\u001b[0m \u001b[0ma\u001b[0m\u001b[0;34m.\u001b[0m\u001b[0mshape\u001b[0m \u001b[0;34m==\u001b[0m \u001b[0;34m(\u001b[0m\u001b[0;36m3\u001b[0m\u001b[0;34m,\u001b[0m \u001b[0;34m)\u001b[0m\u001b[0;34m\u001b[0m\u001b[0;34m\u001b[0m\u001b[0m\n\u001b[0m\u001b[1;32m      6\u001b[0m \u001b[0;32massert\u001b[0m \u001b[0ma\u001b[0m\u001b[0;34m[\u001b[0m\u001b[0;36m0\u001b[0m\u001b[0;34m]\u001b[0m \u001b[0;34m==\u001b[0m \u001b[0;36m1\u001b[0m\u001b[0;34m\u001b[0m\u001b[0;34m\u001b[0m\u001b[0m\n\u001b[1;32m      7\u001b[0m \u001b[0;32massert\u001b[0m \u001b[0ma\u001b[0m\u001b[0;34m[\u001b[0m\u001b[0;36m1\u001b[0m\u001b[0;34m]\u001b[0m \u001b[0;34m==\u001b[0m \u001b[0;36m2\u001b[0m\u001b[0;34m\u001b[0m\u001b[0;34m\u001b[0m\u001b[0m\n",
            "\u001b[0;31mAssertionError\u001b[0m: "
          ]
        }
      ]
    },
    {
      "cell_type": "markdown",
      "source": [
        "Step 2. Implement the dot product calculation and store the result in variable `result`:"
      ],
      "metadata": {
        "id": "-t3g0-1AXHk3"
      }
    },
    {
      "cell_type": "code",
      "source": [
        "# hint: use tranpose or reshap, then sum or np.sum\n",
        "# Your code here\n",
        "\n",
        "# === Do not modify code below ===\n",
        "assert result == 14\n"
      ],
      "metadata": {
        "id": "OxuuW5yRWAmZ"
      },
      "execution_count": null,
      "outputs": []
    },
    {
      "cell_type": "markdown",
      "source": [
        "## Universal functions\n",
        "\n",
        "In NumPy, universal functions (`ufunc`) are functions operate elementwise on an array, producing an array as output.\n",
        "\n",
        "Here are some examples:\n",
        "\n",
        "<p><a href=\"https://numpy.org/doc/stable/reference/generated/numpy.all.html#numpy.all\" title=\"numpy.all\"><code class=\"xref py py-obj docutils literal notranslate\"><span class=\"pre\">all</span></code></a>,\n",
        "<a href=\"https://numpy.org/doc/stable/reference/generated/numpy.any.html#numpy.any\" title=\"numpy.any\"><code class=\"xref py py-obj docutils literal notranslate\"><span class=\"pre\">any</span></code></a>,\n",
        "<a href=\"https://numpy.org/doc/stable/reference/generated/numpy.apply_along_axis.html#numpy.apply_along_axis\" title=\"numpy.apply_along_axis\"><code class=\"xref py py-obj docutils literal notranslate\"><span class=\"pre\">apply_along_axis</span></code></a>,\n",
        "<a href=\"https://numpy.org/doc/stable/reference/generated/numpy.argmax.html#numpy.argmax\" title=\"numpy.argmax\"><code class=\"xref py py-obj docutils literal notranslate\"><span class=\"pre\">argmax</span></code></a>,\n",
        "<a href=\"https://numpy.org/doc/stable/reference/generated/numpy.argmin.html#numpy.argmin\" title=\"numpy.argmin\"><code class=\"xref py py-obj docutils literal notranslate\"><span class=\"pre\">argmin</span></code></a>,\n",
        "<a href=\"https://numpy.org/doc/stable/reference/generated/numpy.argsort.html#numpy.argsort\" title=\"numpy.argsort\"><code class=\"xref py py-obj docutils literal notranslate\"><span class=\"pre\">argsort</span></code></a>,\n",
        "<a href=\"https://numpy.org/doc/stable/reference/generated/numpy.average.html#numpy.average\" title=\"numpy.average\"><code class=\"xref py py-obj docutils literal notranslate\"><span class=\"pre\">average</span></code></a>,\n",
        "<a href=\"https://numpy.org/doc/stable/reference/generated/numpy.bincount.html#numpy.bincount\" title=\"numpy.bincount\"><code class=\"xref py py-obj docutils literal notranslate\"><span class=\"pre\">bincount</span></code></a>,\n",
        "<a href=\"https://numpy.org/doc/stable/reference/generated/numpy.ceil.html#numpy.ceil\" title=\"numpy.ceil\"><code class=\"xref py py-obj docutils literal notranslate\"><span class=\"pre\">ceil</span></code></a>,\n",
        "<a href=\"https://numpy.org/doc/stable/reference/generated/numpy.clip.html#numpy.clip\" title=\"numpy.clip\"><code class=\"xref py py-obj docutils literal notranslate\"><span class=\"pre\">clip</span></code></a>,\n",
        "<a href=\"https://numpy.org/doc/stable/reference/generated/numpy.conj.html#numpy.conj\" title=\"numpy.conj\"><code class=\"xref py py-obj docutils literal notranslate\"><span class=\"pre\">conj</span></code></a>,\n",
        "<a href=\"https://numpy.org/doc/stable/reference/generated/numpy.corrcoef.html#numpy.corrcoef\" title=\"numpy.corrcoef\"><code class=\"xref py py-obj docutils literal notranslate\"><span class=\"pre\">corrcoef</span></code></a>,\n",
        "<a href=\"https://numpy.org/doc/stable/reference/generated/numpy.cov.html#numpy.cov\" title=\"numpy.cov\"><code class=\"xref py py-obj docutils literal notranslate\"><span class=\"pre\">cov</span></code></a>,\n",
        "<a href=\"https://numpy.org/doc/stable/reference/generated/numpy.cross.html#numpy.cross\" title=\"numpy.cross\"><code class=\"xref py py-obj docutils literal notranslate\"><span class=\"pre\">cross</span></code></a>,\n",
        "<a href=\"https://numpy.org/doc/stable/reference/generated/numpy.cumprod.html#numpy.cumprod\" title=\"numpy.cumprod\"><code class=\"xref py py-obj docutils literal notranslate\"><span class=\"pre\">cumprod</span></code></a>,\n",
        "<a href=\"https://numpy.org/doc/stable/reference/generated/numpy.cumsum.html#numpy.cumsum\" title=\"numpy.cumsum\"><code class=\"xref py py-obj docutils literal notranslate\"><span class=\"pre\">cumsum</span></code></a>,\n",
        "<a href=\"https://numpy.org/doc/stable/reference/generated/numpy.diff.html#numpy.diff\" title=\"numpy.diff\"><code class=\"xref py py-obj docutils literal notranslate\"><span class=\"pre\">diff</span></code></a>,\n",
        "<a href=\"https://numpy.org/doc/stable/reference/generated/numpy.floor.html#numpy.floor\" title=\"numpy.floor\"><code class=\"xref py py-obj docutils literal notranslate\"><span class=\"pre\">floor</span></code></a>,\n",
        "<a href=\"https://numpy.org/doc/stable/reference/generated/numpy.inner.html#numpy.inner\" title=\"numpy.inner\"><code class=\"xref py py-obj docutils literal notranslate\"><span class=\"pre\">inner</span></code></a>,\n",
        "<a href=\"https://numpy.org/doc/stable/reference/generated/numpy.invert.html#numpy.invert\" title=\"numpy.invert\"><code class=\"xref py py-obj docutils literal notranslate\"><span class=\"pre\">invert</span></code></a>,\n",
        "<a href=\"https://numpy.org/doc/stable/reference/generated/numpy.lexsort.html#numpy.lexsort\" title=\"numpy.lexsort\"><code class=\"xref py py-obj docutils literal notranslate\"><span class=\"pre\">lexsort</span></code></a>,\n",
        "<a class=\"reference external\" href=\"https://docs.python.org/3/library/functions.html#max\" title=\"(in Python v3.10)\"><code class=\"xref py py-obj docutils literal notranslate\"><span class=\"pre\">max</span></code></a>,\n",
        "<a href=\"https://numpy.org/doc/stable/reference/generated/numpy.maximum.html#numpy.maximum\" title=\"numpy.maximum\"><code class=\"xref py py-obj docutils literal notranslate\"><span class=\"pre\">maximum</span></code></a>,\n",
        "<a href=\"https://numpy.org/doc/stable/reference/generated/numpy.mean.html#numpy.mean\" title=\"numpy.mean\"><code class=\"xref py py-obj docutils literal notranslate\"><span class=\"pre\">mean</span></code></a>,\n",
        "<a href=\"https://numpy.org/doc/stable/reference/generated/numpy.median.html#numpy.median\" title=\"numpy.median\"><code class=\"xref py py-obj docutils literal notranslate\"><span class=\"pre\">median</span></code></a>,\n",
        "<a class=\"reference external\" href=\"https://docs.python.org/3/library/functions.html#min\" title=\"(in Python v3.10)\"><code class=\"xref py py-obj docutils literal notranslate\"><span class=\"pre\">min</span></code></a>,\n",
        "<a href=\"https://numpy.org/doc/stable/reference/generated/numpy.minimum.html#numpy.minimum\" title=\"numpy.minimum\"><code class=\"xref py py-obj docutils literal notranslate\"><span class=\"pre\">minimum</span></code></a>,\n",
        "<a href=\"https://numpy.org/doc/stable/reference/generated/numpy.nonzero.html#numpy.nonzero\" title=\"numpy.nonzero\"><code class=\"xref py py-obj docutils literal notranslate\"><span class=\"pre\">nonzero</span></code></a>,\n",
        "<a href=\"https://numpy.org/doc/stable/reference/generated/numpy.outer.html#numpy.outer\" title=\"numpy.outer\"><code class=\"xref py py-obj docutils literal notranslate\"><span class=\"pre\">outer</span></code></a>,\n",
        "<a href=\"https://numpy.org/doc/stable/reference/generated/numpy.prod.html#numpy.prod\" title=\"numpy.prod\"><code class=\"xref py py-obj docutils literal notranslate\"><span class=\"pre\">prod</span></code></a>,\n",
        "<a class=\"reference external\" href=\"https://docs.python.org/3/library/re.html#module-re\" title=\"(in Python v3.10)\"><code class=\"xref py py-obj docutils literal notranslate\"><span class=\"pre\">re</span></code></a>,\n",
        "<a class=\"reference external\" href=\"https://docs.python.org/3/library/functions.html#round\" title=\"(in Python v3.10)\"><code class=\"xref py py-obj docutils literal notranslate\"><span class=\"pre\">round</span></code></a>,\n",
        "<a href=\"https://numpy.org/doc/stable/reference/generated/numpy.sort.html#numpy.sort\" title=\"numpy.sort\"><code class=\"xref py py-obj docutils literal notranslate\"><span class=\"pre\">sort</span></code></a>,\n",
        "<a href=\"https://numpy.org/doc/stable/reference/generated/numpy.std.html#numpy.std\" title=\"numpy.std\"><code class=\"xref py py-obj docutils literal notranslate\"><span class=\"pre\">std</span></code></a>,\n",
        "<a href=\"https://numpy.org/doc/stable/reference/generated/numpy.sum.html#numpy.sum\" title=\"numpy.sum\"><code class=\"xref py py-obj docutils literal notranslate\"><span class=\"pre\">sum</span></code></a>,\n",
        "<a href=\"https://numpy.org/doc/stable/reference/generated/numpy.trace.html#numpy.trace\" title=\"numpy.trace\"><code class=\"xref py py-obj docutils literal notranslate\"><span class=\"pre\">trace</span></code></a>,\n",
        "<a href=\"https://numpy.org/doc/stable/reference/generated/numpy.transpose.html#numpy.transpose\" title=\"numpy.transpose\"><code class=\"xref py py-obj docutils literal notranslate\"><span class=\"pre\">transpose</span></code></a>,\n",
        "<a href=\"https://numpy.org/doc/stable/reference/generated/numpy.var.html#numpy.var\" title=\"numpy.var\"><code class=\"xref py py-obj docutils literal notranslate\"><span class=\"pre\">var</span></code></a>,\n",
        "<a href=\"https://numpy.org/doc/stable/reference/generated/numpy.vdot.html#numpy.vdot\" title=\"numpy.vdot\"><code class=\"xref py py-obj docutils literal notranslate\"><span class=\"pre\">vdot</span></code></a>,\n",
        "<a href=\"https://numpy.org/doc/stable/reference/generated/numpy.vectorize.html#numpy.vectorize\" title=\"numpy.vectorize\"><code class=\"xref py py-obj docutils literal notranslate\"><span class=\"pre\">vectorize</span></code></a>,\n",
        "<a href=\"https://numpy.org/doc/stable/reference/generated/numpy.where.html#numpy.where\" title=\"numpy.where\"><code class=\"xref py py-obj docutils literal notranslate\"><span class=\"pre\">where</span></code></a></p>"
      ],
      "metadata": {
        "id": "vR6MATkZsBM0"
      }
    },
    {
      "cell_type": "markdown",
      "source": [
        "Most universal functions can operate not only on NumPy arrays (ndarray), but also on Python lists, arrays or any object convertible to a NumPy array:"
      ],
      "metadata": {
        "id": "WOkVZ-lcUMLx"
      }
    },
    {
      "cell_type": "code",
      "source": [
        "# cross product of two vectors\n",
        "np.cross([3, 0, 2], [-1, 4, 2])"
      ],
      "metadata": {
        "colab": {
          "base_uri": "https://localhost:8080/"
        },
        "id": "3knRYtgktiHS",
        "outputId": "9de5cdf0-9567-42f8-f55b-12eafed8f45b"
      },
      "execution_count": 174,
      "outputs": [
        {
          "output_type": "execute_result",
          "data": {
            "text/plain": [
              "array([-8, -8, 12])"
            ]
          },
          "metadata": {},
          "execution_count": 174
        }
      ]
    },
    {
      "cell_type": "markdown",
      "source": [
        "More usage examples of universal functions:"
      ],
      "metadata": {
        "id": "48RMs7exURVC"
      }
    },
    {
      "cell_type": "code",
      "source": [
        "# reverse an array\n",
        "np.flip(one_d_array)"
      ],
      "metadata": {
        "colab": {
          "base_uri": "https://localhost:8080/"
        },
        "id": "arO3xFKAtFDC",
        "outputId": "4a797816-5718-4477-ed7d-37fd562e5cdf"
      },
      "execution_count": 175,
      "outputs": [
        {
          "output_type": "execute_result",
          "data": {
            "text/plain": [
              "array([3, 2, 1, 0])"
            ]
          },
          "metadata": {},
          "execution_count": 175
        }
      ]
    },
    {
      "cell_type": "code",
      "source": [
        "# sort an array, default ascending\n",
        "np.sort(np.random.random(5))"
      ],
      "metadata": {
        "colab": {
          "base_uri": "https://localhost:8080/"
        },
        "id": "RsSkShcAtRzs",
        "outputId": "227740ef-1181-4760-9a76-fe043006e295"
      },
      "execution_count": 176,
      "outputs": [
        {
          "output_type": "execute_result",
          "data": {
            "text/plain": [
              "array([0.16869387, 0.34193238, 0.79661081, 0.83152845, 0.9564924 ])"
            ]
          },
          "metadata": {},
          "execution_count": 176
        }
      ]
    },
    {
      "cell_type": "code",
      "source": [
        "# get the index of the max element\n",
        "one_to_nine = np.arange(1, 10)\n",
        "np.argmax(one_to_nine)"
      ],
      "metadata": {
        "colab": {
          "base_uri": "https://localhost:8080/"
        },
        "id": "rs7oE7BewIRT",
        "outputId": "6175508f-e031-4a9d-c7fd-b5f813e716e4"
      },
      "execution_count": 177,
      "outputs": [
        {
          "output_type": "execute_result",
          "data": {
            "text/plain": [
              "8"
            ]
          },
          "metadata": {},
          "execution_count": 177
        }
      ]
    },
    {
      "cell_type": "code",
      "source": [
        "# look up the element by index\n",
        "one_to_nine[np.argmax(one_to_nine)]"
      ],
      "metadata": {
        "colab": {
          "base_uri": "https://localhost:8080/"
        },
        "id": "J8pmanFxwSls",
        "outputId": "79767ab3-1bd3-4782-9e5a-6f4b87e34f5a"
      },
      "execution_count": 178,
      "outputs": [
        {
          "output_type": "execute_result",
          "data": {
            "text/plain": [
              "9"
            ]
          },
          "metadata": {},
          "execution_count": 178
        }
      ]
    },
    {
      "cell_type": "code",
      "source": [
        "# check if any of the element evaluates to true\n",
        "np.any([False, 0])"
      ],
      "metadata": {
        "colab": {
          "base_uri": "https://localhost:8080/"
        },
        "id": "e13C-wxmyHQH",
        "outputId": "00ae9642-4dd5-4d47-d08e-f860a9ca09ed"
      },
      "execution_count": 179,
      "outputs": [
        {
          "output_type": "execute_result",
          "data": {
            "text/plain": [
              "False"
            ]
          },
          "metadata": {},
          "execution_count": 179
        }
      ]
    },
    {
      "cell_type": "code",
      "source": [
        "# check if all of the elements evaluate to true\n",
        "np.all([True, 3, np.nan])"
      ],
      "metadata": {
        "colab": {
          "base_uri": "https://localhost:8080/"
        },
        "id": "_iT6tGr5ykCz",
        "outputId": "2d105a3b-9a57-4fcd-c086-2127f7ff1331"
      },
      "execution_count": 180,
      "outputs": [
        {
          "output_type": "execute_result",
          "data": {
            "text/plain": [
              "True"
            ]
          },
          "metadata": {},
          "execution_count": 180
        }
      ]
    },
    {
      "cell_type": "code",
      "source": [
        "# pair-wise element comparison\n",
        "np.greater([1, 2, 3], [1, 2, 1])"
      ],
      "metadata": {
        "colab": {
          "base_uri": "https://localhost:8080/"
        },
        "id": "j7SpyHJUzxQX",
        "outputId": "ee35124a-00e7-428c-8b7a-e920a4fbfe74"
      },
      "execution_count": 181,
      "outputs": [
        {
          "output_type": "execute_result",
          "data": {
            "text/plain": [
              "array([False, False,  True])"
            ]
          },
          "metadata": {},
          "execution_count": 181
        }
      ]
    },
    {
      "cell_type": "code",
      "source": [
        "# Does any of the pair-wise comparison evaluate to true?\n",
        "np.any(np.greater([1, 2, 3], [1, 2, 1]))"
      ],
      "metadata": {
        "colab": {
          "base_uri": "https://localhost:8080/"
        },
        "id": "TaOUacao0fU4",
        "outputId": "7e0819cb-5ea1-4a03-e540-69919a82cd15"
      },
      "execution_count": 182,
      "outputs": [
        {
          "output_type": "execute_result",
          "data": {
            "text/plain": [
              "True"
            ]
          },
          "metadata": {},
          "execution_count": 182
        }
      ]
    },
    {
      "cell_type": "code",
      "source": [
        "# select the indexes of elements that evaluate to true\n",
        "a = np.array([1, 2, 3, 4])\n",
        "np.where(a % 2) # find odd numbers"
      ],
      "metadata": {
        "colab": {
          "base_uri": "https://localhost:8080/"
        },
        "id": "Auo883i_0m_d",
        "outputId": "3b2c6d5c-9343-41dc-8b24-568e527e5707"
      },
      "execution_count": 183,
      "outputs": [
        {
          "output_type": "execute_result",
          "data": {
            "text/plain": [
              "(array([0, 2]),)"
            ]
          },
          "metadata": {},
          "execution_count": 183
        }
      ]
    },
    {
      "cell_type": "code",
      "source": [
        "# select the elements that evaluate to true\n",
        "np.where(a % 2, a, np.nan)"
      ],
      "metadata": {
        "colab": {
          "base_uri": "https://localhost:8080/"
        },
        "id": "ImxrxvdG1_tb",
        "outputId": "eb973c69-2257-4a50-ad24-350a7a9e9699"
      },
      "execution_count": 184,
      "outputs": [
        {
          "output_type": "execute_result",
          "data": {
            "text/plain": [
              "array([ 1., nan,  3., nan])"
            ]
          },
          "metadata": {},
          "execution_count": 184
        }
      ]
    },
    {
      "cell_type": "markdown",
      "source": [
        "## Exercise\n",
        "\n",
        "Task: Calculate the dot product of vector `(1, 2, 3)` with itself **using one of NumPy's universal functions**. Store the result in variable `dot_result`:"
      ],
      "metadata": {
        "id": "HfhHrQFcdLRr"
      }
    },
    {
      "cell_type": "code",
      "source": [
        "# Your code here\n",
        "\n",
        "# === Do not modify code below ===\n",
        "assert dot_result == 14"
      ],
      "metadata": {
        "colab": {
          "base_uri": "https://localhost:8080/",
          "height": 204
        },
        "id": "HET4DMM4d51a",
        "outputId": "4921b157-347b-48a2-d012-912b5b4e878a"
      },
      "execution_count": 185,
      "outputs": [
        {
          "output_type": "error",
          "ename": "NameError",
          "evalue": "ignored",
          "traceback": [
            "\u001b[0;31m---------------------------------------------------------------------------\u001b[0m",
            "\u001b[0;31mNameError\u001b[0m                                 Traceback (most recent call last)",
            "\u001b[0;32m<ipython-input-185-208495093cb4>\u001b[0m in \u001b[0;36m<module>\u001b[0;34m()\u001b[0m\n\u001b[1;32m      2\u001b[0m \u001b[0;34m\u001b[0m\u001b[0m\n\u001b[1;32m      3\u001b[0m \u001b[0;31m# === Do not modify code below ===\u001b[0m\u001b[0;34m\u001b[0m\u001b[0;34m\u001b[0m\u001b[0;34m\u001b[0m\u001b[0m\n\u001b[0;32m----> 4\u001b[0;31m \u001b[0;32massert\u001b[0m \u001b[0mdot_result\u001b[0m \u001b[0;34m==\u001b[0m \u001b[0;36m14\u001b[0m\u001b[0;34m\u001b[0m\u001b[0;34m\u001b[0m\u001b[0m\n\u001b[0m",
            "\u001b[0;31mNameError\u001b[0m: name 'dot_result' is not defined"
          ]
        }
      ]
    },
    {
      "cell_type": "markdown",
      "source": [
        "# Pandas\n",
        "\n",
        "Datasets we often work with come in tabular form – think Excel/Google spreadsheets – and with mixed data types, some numerical, some categorical, some textual. Before we can perform fancy mathematical operations and meaningful analysis on such data using NumPy and other python libraries, we usually need to understand and preprocess the data first. This process involves operations such as cleaning, reshaping, filtering, and subsetting. This is where Pandas comes in.\n",
        "\n",
        "Like `ndarray` is the basic building block of NumPy, `Series` and `DataFrame` are the basic building blocks of Pandas. "
      ],
      "metadata": {
        "id": "apd7GljeDz59"
      }
    },
    {
      "cell_type": "markdown",
      "source": [
        "## Series\n",
        "\n",
        "`Series` is a one-dimensional **labeled** array capable of holding **any data type**. The axis labels are collectively referred to as the index. "
      ],
      "metadata": {
        "id": "DSpeS492gLEW"
      }
    },
    {
      "cell_type": "markdown",
      "source": [
        "### Can I create Series from ndarrays?\n",
        "Yes"
      ],
      "metadata": {
        "id": "ec5MCn0bg-EP"
      }
    },
    {
      "cell_type": "code",
      "source": [
        "import pandas as pd\n",
        "import numpy as np\n",
        "\n",
        "# specify the labels through the `index` argument\n",
        "labelled_series = pd.Series(np.arange(1, 4), index=[\"r1\", \"r2\", \"r3\"])\n",
        "labelled_series"
      ],
      "metadata": {
        "id": "ZIWcxaKfhanx",
        "outputId": "5d6d507f-9bd4-4cc4-d1e1-2a542f819c29",
        "colab": {
          "base_uri": "https://localhost:8080/"
        }
      },
      "execution_count": 8,
      "outputs": [
        {
          "output_type": "execute_result",
          "data": {
            "text/plain": [
              "r1    1\n",
              "r2    2\n",
              "r3    3\n",
              "dtype: int64"
            ]
          },
          "metadata": {},
          "execution_count": 8
        }
      ]
    },
    {
      "cell_type": "code",
      "source": [
        "# by default, integer sequence starting from 0 is used as labels\n",
        "default_series = pd.Series(np.arange(1, 4))\n",
        "default_series"
      ],
      "metadata": {
        "id": "bbbahkW1h2Fg",
        "outputId": "ff2234f0-cd3a-428c-ebb6-683fa377e7a4",
        "colab": {
          "base_uri": "https://localhost:8080/"
        }
      },
      "execution_count": 11,
      "outputs": [
        {
          "output_type": "execute_result",
          "data": {
            "text/plain": [
              "0    1\n",
              "1    2\n",
              "2    3\n",
              "dtype: int64"
            ]
          },
          "metadata": {},
          "execution_count": 11
        }
      ]
    },
    {
      "cell_type": "code",
      "source": [
        "# Individual element can be looked up using label\n",
        "labelled_series[\"r2\"]"
      ],
      "metadata": {
        "id": "15h1ZumAip1f",
        "outputId": "c98fd4b4-ec37-4ec6-c12a-5ef1e1d2504d",
        "colab": {
          "base_uri": "https://localhost:8080/"
        }
      },
      "execution_count": 10,
      "outputs": [
        {
          "output_type": "execute_result",
          "data": {
            "text/plain": [
              "2"
            ]
          },
          "metadata": {},
          "execution_count": 10
        }
      ]
    },
    {
      "cell_type": "code",
      "source": [
        "default_series[2]"
      ],
      "metadata": {
        "id": "peq4eUTujAI-",
        "outputId": "101b2dce-ea34-4fe5-f844-cf65c6db4029",
        "colab": {
          "base_uri": "https://localhost:8080/"
        }
      },
      "execution_count": 13,
      "outputs": [
        {
          "output_type": "execute_result",
          "data": {
            "text/plain": [
              "3"
            ]
          },
          "metadata": {},
          "execution_count": 13
        }
      ]
    },
    {
      "cell_type": "markdown",
      "source": [
        "### Can I recover the ndarray from a series?\n",
        "\n",
        "Of course!"
      ],
      "metadata": {
        "id": "7Ne5U5vdjxPU"
      }
    },
    {
      "cell_type": "code",
      "source": [
        "labelled_series.to_numpy()"
      ],
      "metadata": {
        "id": "PtYrA1CSjrJc",
        "outputId": "d676db9d-0ed0-4238-fce7-3ec3fe54207f",
        "colab": {
          "base_uri": "https://localhost:8080/"
        }
      },
      "execution_count": 14,
      "outputs": [
        {
          "output_type": "execute_result",
          "data": {
            "text/plain": [
              "array([1, 2, 3])"
            ]
          },
          "metadata": {},
          "execution_count": 14
        }
      ]
    },
    {
      "cell_type": "code",
      "source": [
        "# alternatively\n",
        "labelled_series.values"
      ],
      "metadata": {
        "id": "kF-8b0AloO1h",
        "outputId": "bbcec664-d9df-4ff7-afcf-42b6edf6a1c0",
        "colab": {
          "base_uri": "https://localhost:8080/"
        }
      },
      "execution_count": 15,
      "outputs": [
        {
          "output_type": "execute_result",
          "data": {
            "text/plain": [
              "array([1, 2, 3])"
            ]
          },
          "metadata": {},
          "execution_count": 15
        }
      ]
    }
  ],
  "metadata": {
    "kernelspec": {
      "display_name": "Python 3",
      "language": "python",
      "name": "python3"
    },
    "language_info": {
      "codemirror_mode": {
        "name": "ipython",
        "version": 3
      },
      "file_extension": ".py",
      "mimetype": "text/x-python",
      "name": "python",
      "nbconvert_exporter": "python",
      "pygments_lexer": "ipython3",
      "version": "3.8.2"
    },
    "colab": {
      "name": "foundations-s3.ipynb",
      "provenance": [],
      "toc_visible": true,
      "include_colab_link": true
    }
  },
  "nbformat": 4,
  "nbformat_minor": 0
}
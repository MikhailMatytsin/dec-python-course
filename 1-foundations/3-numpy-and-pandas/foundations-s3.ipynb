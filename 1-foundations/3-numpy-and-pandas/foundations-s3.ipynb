{
  "cells": [
    {
      "cell_type": "markdown",
      "metadata": {
        "id": "view-in-github",
        "colab_type": "text"
      },
      "source": [
        "<a href=\"https://colab.research.google.com/github/worldbank/dec-python-course/blob/update-session-3/1-foundations/3-numpy-and-pandas/foundations-s3.ipynb\" target=\"_parent\"><img src=\"https://colab.research.google.com/assets/colab-badge.svg\" alt=\"Open In Colab\"/></a>"
      ]
    },
    {
      "cell_type": "markdown",
      "source": [
        "# DEC Foundations of Python for Data Science - Session 3\n",
        "\n",
        "This session first talks about python libraries – what are they and how to use them. Then it focuses on two libraries that are very commonly used in data science, NumPy and Pandas, with examples on data exploration and wrangling."
      ],
      "metadata": {
        "id": "o1N3qhyA0T3w"
      }
    },
    {
      "cell_type": "markdown",
      "source": [
        "# 1.&nbsp;Python Libraries\n",
        "\n",
        "Within the realm of python, a package is a collection of modules, a library is a collection of packages. In practice, \"python library\" and \"python package\" are used interchangeably to refer to a reusable chunk of code. Use of libraries allows us to \"stand on the shoulders of giants\"."
      ],
      "metadata": {
        "id": "nGwJPbjEc44k"
      }
    },
    {
      "cell_type": "markdown",
      "source": [
        "## 1.1. Examples of Python libraries\n",
        "- [NumPy](https://numpy.org/) stands for Numerical Python. It is the fundamental Python package for scientific computing.\n",
        "- [pandas](https://pandas.pydata.org/) is a Python package for fast and efficient processing of tabular data, time series, matrix data, etc.\n",
        "- [Matplotlib](https://matplotlib.org/)  is a comprehensive library for creating data visualizations in Python. "
      ],
      "metadata": {
        "id": "Z_z4OH2Cw165"
      }
    },
    {
      "cell_type": "markdown",
      "source": [
        "## 1.2. How to use libraries?"
      ],
      "metadata": {
        "id": "d-1OvfSZ2e5m"
      }
    },
    {
      "cell_type": "code",
      "execution_count": null,
      "metadata": {
        "colab": {
          "base_uri": "https://localhost:8080/"
        },
        "id": "GNtSS8HZeIV5",
        "outputId": "2ec2d646-c09a-45fa-b53e-88f42e9e52ad"
      },
      "outputs": [
        {
          "output_type": "stream",
          "name": "stdout",
          "text": [
            "3.141592653589793\n"
          ]
        }
      ],
      "source": [
        "import numpy as np\n",
        "import pandas as pd\n",
        "import matplotlib.pyplot as plt\n",
        "\n",
        "print(np.pi)"
      ]
    },
    {
      "cell_type": "markdown",
      "source": [
        "`import` followed by the library name loads the library into the environment. `as` is optional; it is usually used to alias the library name to a shorthand or for disambiguation. The above are some conventional aliases for these libraries. If you `import numpy` without aliasing, just be sure to use `numpy` instead of `np` when calling the library's functions later.\n",
        "\n",
        "`import` the library like you would import a built-in python module e.g. `import math`, works for common libraries on Google Colab because Colab already pre-installed many common libraries."
      ],
      "metadata": {
        "id": "Y6CkPZNx20Lq"
      }
    },
    {
      "cell_type": "markdown",
      "source": [
        "## 1.3. What libraries are pre-installed in Colab?\n",
        "\n",
        "To see which libraries are pre-installed and their versions:"
      ],
      "metadata": {
        "id": "YrdT4xNYdqZ1"
      }
    },
    {
      "cell_type": "code",
      "source": [
        "# Note: ! in google colab executes a bash command\n",
        "# `| head` shortens the output to show only the first 10\n",
        "!pip freeze | head"
      ],
      "metadata": {
        "colab": {
          "base_uri": "https://localhost:8080/"
        },
        "id": "CBYYko-23YKA",
        "outputId": "94cbd45c-63b5-4e8e-c64e-58e0c9198116"
      },
      "execution_count": null,
      "outputs": [
        {
          "output_type": "stream",
          "name": "stdout",
          "text": [
            "absl-py==1.4.0\n",
            "aeppl==0.0.33\n",
            "aesara==2.7.9\n",
            "aiohttp==3.8.3\n",
            "aiosignal==1.3.1\n",
            "alabaster==0.7.13\n",
            "albumentations==1.2.1\n",
            "altair==4.2.2\n",
            "appdirs==1.4.4\n",
            "arviz==0.12.1\n"
          ]
        }
      ]
    },
    {
      "cell_type": "markdown",
      "source": [
        "To check if a library you want to use is already installed:"
      ],
      "metadata": {
        "id": "CBMqUBUi3qfl"
      }
    },
    {
      "cell_type": "code",
      "source": [
        "# `| grep` filters the output using the supplied keyword\n",
        "!pip freeze | grep pandas"
      ],
      "metadata": {
        "colab": {
          "base_uri": "https://localhost:8080/"
        },
        "id": "7dNMg6iX3wIp",
        "outputId": "a4360ccb-0879-413a-8062-bf423116a75c"
      },
      "execution_count": null,
      "outputs": [
        {
          "output_type": "stream",
          "name": "stdout",
          "text": [
            "pandas==1.3.5\n",
            "pandas-datareader==0.9.0\n",
            "pandas-gbq==0.17.9\n",
            "pandas-profiling==1.4.1\n",
            "sklearn-pandas==1.8.0\n"
          ]
        }
      ]
    },
    {
      "cell_type": "markdown",
      "source": [
        "Bash commands are commonly referred to as the terminal, console or command line. It's an interface to interact with a Unix-based operating system, which Google Colab runs on. For the purpose of this session, we just need to know commands that start with `!` are bash commands, not python code. `grep`, `head`, `pip` are bash commands. `|` is known as the pipe, which channels the output of one bash command to another as the input. We use these bash commands to install, update, and view python packages. "
      ],
      "metadata": {
        "id": "Uc6vxBS06gm_"
      }
    },
    {
      "cell_type": "markdown",
      "source": [
        "## 1.4. Can I install new libraries or change pre-installed ones?\n",
        "[pip](https://pip.pypa.io/) is the de facto python package manager. You can use it to view the current installed packages and to install a new library or upgrade an existing library:"
      ],
      "metadata": {
        "id": "-eZ2_CmN4Mzq"
      }
    },
    {
      "cell_type": "code",
      "source": [
        "# install/upgrade to the latest stable verison of a package\n",
        "# Click on \"RESTART RUNTIME\" if you see the button\n",
        "!pip install pandas --upgrade "
      ],
      "metadata": {
        "colab": {
          "base_uri": "https://localhost:8080/",
          "height": 384
        },
        "id": "jiOOOA9w4UeG",
        "outputId": "5df0229b-6856-4eee-992b-8d19dfe0af00"
      },
      "execution_count": null,
      "outputs": [
        {
          "output_type": "stream",
          "name": "stdout",
          "text": [
            "Looking in indexes: https://pypi.org/simple, https://us-python.pkg.dev/colab-wheels/public/simple/\n",
            "Requirement already satisfied: pandas in /usr/local/lib/python3.8/dist-packages (1.3.5)\n",
            "Collecting pandas\n",
            "  Downloading pandas-1.5.3-cp38-cp38-manylinux_2_17_x86_64.manylinux2014_x86_64.whl (12.2 MB)\n",
            "\u001b[2K     \u001b[90m━━━━━━━━━━━━━━━━━━━━━━━━━━━━━━━━━━━━━━━━\u001b[0m \u001b[32m12.2/12.2 MB\u001b[0m \u001b[31m51.7 MB/s\u001b[0m eta \u001b[36m0:00:00\u001b[0m\n",
            "\u001b[?25hRequirement already satisfied: pytz>=2020.1 in /usr/local/lib/python3.8/dist-packages (from pandas) (2022.7.1)\n",
            "Requirement already satisfied: python-dateutil>=2.8.1 in /usr/local/lib/python3.8/dist-packages (from pandas) (2.8.2)\n",
            "Requirement already satisfied: numpy>=1.20.3 in /usr/local/lib/python3.8/dist-packages (from pandas) (1.21.6)\n",
            "Requirement already satisfied: six>=1.5 in /usr/local/lib/python3.8/dist-packages (from python-dateutil>=2.8.1->pandas) (1.15.0)\n",
            "Installing collected packages: pandas\n",
            "  Attempting uninstall: pandas\n",
            "    Found existing installation: pandas 1.3.5\n",
            "    Uninstalling pandas-1.3.5:\n",
            "      Successfully uninstalled pandas-1.3.5\n",
            "Successfully installed pandas-1.5.3\n"
          ]
        },
        {
          "output_type": "display_data",
          "data": {
            "application/vnd.colab-display-data+json": {
              "pip_warning": {
                "packages": [
                  "pandas"
                ]
              }
            }
          },
          "metadata": {}
        }
      ]
    },
    {
      "cell_type": "code",
      "source": [
        "# install a specific version of a package\n",
        "!pip install pandas==1.3.5"
      ],
      "metadata": {
        "colab": {
          "base_uri": "https://localhost:8080/"
        },
        "id": "lcUHqMOw8GCC",
        "outputId": "20eded81-9203-449a-adcc-13e4adf759f2"
      },
      "execution_count": null,
      "outputs": [
        {
          "output_type": "stream",
          "name": "stdout",
          "text": [
            "Looking in indexes: https://pypi.org/simple, https://us-python.pkg.dev/colab-wheels/public/simple/\n",
            "Requirement already satisfied: pandas==1.3.5 in /usr/local/lib/python3.7/dist-packages (1.3.5)\n",
            "Requirement already satisfied: numpy>=1.17.3 in /usr/local/lib/python3.7/dist-packages (from pandas==1.3.5) (1.21.6)\n",
            "Requirement already satisfied: pytz>=2017.3 in /usr/local/lib/python3.7/dist-packages (from pandas==1.3.5) (2022.2.1)\n",
            "Requirement already satisfied: python-dateutil>=2.7.3 in /usr/local/lib/python3.7/dist-packages (from pandas==1.3.5) (2.8.2)\n",
            "Requirement already satisfied: six>=1.5 in /usr/local/lib/python3.7/dist-packages (from python-dateutil>=2.7.3->pandas==1.3.5) (1.15.0)\n"
          ]
        }
      ]
    },
    {
      "cell_type": "markdown",
      "source": [
        "## 1.5. Exercises: install and use matplotlib\n",
        "The following exercises are meant to be completed step by step. Upon successful completion of all steps, the last cell should execute without any `AssertionError` or the prompt \"Remove this line after filling in your own code\"."
      ],
      "metadata": {
        "id": "udmuxsot8iMf"
      }
    },
    {
      "cell_type": "markdown",
      "source": [
        "### Step 1. \n",
        "\n",
        "Run a command to find out what is the current installed version of `matplotlib`:"
      ],
      "metadata": {
        "id": "emskTwhTgPU5"
      }
    },
    {
      "cell_type": "code",
      "source": [
        "# hint: use ! and bash command `pip freeze` and pipe the results to bash command `grep matplotlib`"
      ],
      "metadata": {
        "id": "CwERECq69Q_j"
      },
      "execution_count": null,
      "outputs": []
    },
    {
      "cell_type": "markdown",
      "source": [
        "### Step 2. \n",
        "\n",
        "Install version 3.5.2 of `matplotlib` for this notebook. Upon successful installation, click on \"RESTART RUNTIME\" in the code cell output."
      ],
      "metadata": {
        "id": "43mq07rBF414"
      }
    },
    {
      "cell_type": "code",
      "source": [
        "# hint: use ! and bash command `pip install`"
      ],
      "metadata": {
        "id": "WdwQn1lEGP5i"
      },
      "execution_count": null,
      "outputs": []
    },
    {
      "cell_type": "markdown",
      "source": [
        "### Step 3.\n",
        "\n",
        "Import `matplotlib`'s `pyplot` module and alias it as `plt`"
      ],
      "metadata": {
        "id": "yuwpmEcnG9-3"
      }
    },
    {
      "cell_type": "code",
      "source": [
        "%%script echo Remove this line after filling in your own code\n",
        "# hint: use `import ... as ...`\n",
        "\n",
        "# === Do not modify code below ===\n",
        "fig = plt.figure(figsize=(10, 80))\n",
        "assert hasattr(fig, \"subfigures\"),\\\n",
        " \"If correct version of matplotlib were installed you should not see this message\"\n",
        "\n",
        "print(\"Well done!\")"
      ],
      "metadata": {
        "colab": {
          "base_uri": "https://localhost:8080/"
        },
        "id": "_QQVLOJfIg6V",
        "outputId": "615fbb94-f651-4f74-a3fa-7a17e3bc2a60"
      },
      "execution_count": null,
      "outputs": [
        {
          "output_type": "stream",
          "name": "stdout",
          "text": [
            "Remove this line after filling in your own code\n"
          ]
        }
      ]
    },
    {
      "cell_type": "markdown",
      "source": [
        "If you have successfully completed the above exercies and are feeling adventurous, head over to `foundations-s3-bonus.ipynb` – it contains some bonus content and corresponding exercises on this topic."
      ],
      "metadata": {
        "id": "nmuFvgTazPbo"
      }
    },
    {
      "cell_type": "markdown",
      "source": [
        "# 2.&nbsp;NumPy\n",
        "\n",
        "NumPy (**Numerical Python**) is an open source Python library that’s used in almost every field of science and engineering. It’s the **universal standard** for working with numerical data in Python, and it’s at the core of the scientific Python and PyData ecosystems. It serves as the foundation for popular data science and scientific Python packages, such as Pandas, SciPy, Matplotlib, scikit-learn.\n"
      ],
      "metadata": {
        "id": "Vy-R-M5N2I6N"
      }
    },
    {
      "cell_type": "markdown",
      "source": [
        "\n",
        "## 2.1. ndarray\n",
        "The NumPy library provides **powerful functionalities** for numerical operations and does so **efficiently**. Its basic building block is `ndarray`, a homogeneous n-dimensional array object, with methods to efficiently operate on it. `ndarray` is a simple and flexible data structure that can represent vectors (1-D arrays), matrices (2-D arrays), and tensors (3-D or higher dimensional arrays)."
      ],
      "metadata": {
        "id": "ebvx7VbrEIdi"
      }
    },
    {
      "cell_type": "markdown",
      "source": [
        "<img src=\"https://www.oreilly.com/api/v2/epubs/9781491922927/files/assets/elsp_0105.png\" width=800 />\n",
        "\n",
        "Image credit: https://www.oreilly.com/library/view/elegant-scipy/9781491922927/ch01.html"
      ],
      "metadata": {
        "id": "PtIAW5Wd-bn4"
      }
    },
    {
      "cell_type": "markdown",
      "source": [
        "### Wait, what's an array?\n",
        "\n",
        "In computer science, an array is a data structure consisting of a collection of elements, each identified by an index. "
      ],
      "metadata": {
        "id": "JJ_MBbHUDAUc"
      }
    },
    {
      "cell_type": "markdown",
      "source": [
        "### How does a NumPy `ndarray` compare to a Python `list` or `array`?\n",
        "In Python, arrays are most often represented using `list`, which allows for different data types within a single list. (For a refresher on lists, see Session 1 of this course, \"Container types - Lists\" section). Python standard library does come with its own `array` module which requires that a single array can only contain one data type of elements. Python's `array` is more compact (takes less space in storage) than `list` and comes with some basic math operations. NumPy's `ndarray` is like Python's `array` on steroids, functionality wise."
      ],
      "metadata": {
        "id": "GZLEMDHSD_Hz"
      }
    },
    {
      "cell_type": "code",
      "source": [
        "from array import array\n",
        "import numpy as np\n",
        "\n",
        "py_list = [1, 2, '3']\n",
        "py_array = array('i', [1, 2, 3]) # i indicates integer\n",
        "np_array = np.array([1, 2, 3])"
      ],
      "metadata": {
        "id": "eaMKE8NnDAvX"
      },
      "execution_count": null,
      "outputs": []
    },
    {
      "cell_type": "markdown",
      "source": [
        "### How to create a NumPy `ndarray`?"
      ],
      "metadata": {
        "id": "49kiXHiuI7YO"
      }
    },
    {
      "cell_type": "code",
      "source": [
        "# give me 3 zeros\n",
        "np.zeros(3)"
      ],
      "metadata": {
        "colab": {
          "base_uri": "https://localhost:8080/"
        },
        "id": "OXklQZ1gJKIp",
        "outputId": "ee2e4aa5-d6d1-481b-c633-efa4e20f656c"
      },
      "execution_count": null,
      "outputs": [
        {
          "output_type": "execute_result",
          "data": {
            "text/plain": [
              "array([0., 0., 0.])"
            ]
          },
          "metadata": {},
          "execution_count": 20
        }
      ]
    },
    {
      "cell_type": "code",
      "source": [
        "# give me 4 ones\n",
        "np.ones(4)"
      ],
      "metadata": {
        "colab": {
          "base_uri": "https://localhost:8080/"
        },
        "id": "egULMRRZJVfX",
        "outputId": "fb2bb527-7cae-4ce4-d95f-4228b6bd6e5e"
      },
      "execution_count": null,
      "outputs": [
        {
          "output_type": "execute_result",
          "data": {
            "text/plain": [
              "array([1., 1., 1., 1.])"
            ]
          },
          "metadata": {},
          "execution_count": 21
        }
      ]
    },
    {
      "cell_type": "code",
      "source": [
        "# give me 5 numbers randomly sampled from [0.0, 1.0)\n",
        "np.random.random(5)"
      ],
      "metadata": {
        "colab": {
          "base_uri": "https://localhost:8080/"
        },
        "id": "xCUM92UPcEbY",
        "outputId": "4fc5a518-d84e-4c74-d34e-0db3e78c9bbf"
      },
      "execution_count": null,
      "outputs": [
        {
          "output_type": "execute_result",
          "data": {
            "text/plain": [
              "array([0.13353598, 0.86948567, 0.67439914, 0.34367281, 0.68637686])"
            ]
          },
          "metadata": {},
          "execution_count": 22
        }
      ]
    },
    {
      "cell_type": "code",
      "source": [
        "# give me 4 consecutive numbers\n",
        "# starts at 0 by default, stop is excluded\n",
        "one_d_array = np.arange(4)\n",
        "one_d_array"
      ],
      "metadata": {
        "colab": {
          "base_uri": "https://localhost:8080/"
        },
        "id": "saEkxVHRJXX4",
        "outputId": "e8e777bd-b3d1-4c6d-f29a-b5f6ec30b928"
      },
      "execution_count": null,
      "outputs": [
        {
          "output_type": "execute_result",
          "data": {
            "text/plain": [
              "array([0, 1, 2, 3])"
            ]
          },
          "metadata": {},
          "execution_count": 9
        }
      ]
    },
    {
      "cell_type": "code",
      "source": [
        "two_d_array = np.array([[1, 2], [3, 4.0]])\n",
        "two_d_array"
      ],
      "metadata": {
        "colab": {
          "base_uri": "https://localhost:8080/"
        },
        "id": "cT1kC1bpKKPp",
        "outputId": "96f9c223-2425-4c66-f7e2-3fba36e1a31a"
      },
      "execution_count": null,
      "outputs": [
        {
          "output_type": "execute_result",
          "data": {
            "text/plain": [
              "array([[1., 2.],\n",
              "       [3., 4.]])"
            ]
          },
          "metadata": {},
          "execution_count": 7
        }
      ]
    },
    {
      "cell_type": "markdown",
      "source": [
        "### How to find attributes of an `ndarray`?"
      ],
      "metadata": {
        "id": "CUcCejnWK3ES"
      }
    },
    {
      "cell_type": "code",
      "source": [
        "# dimension\n",
        "two_d_array.ndim"
      ],
      "metadata": {
        "colab": {
          "base_uri": "https://localhost:8080/"
        },
        "id": "uQU5MWhXLFd0",
        "outputId": "35eb4a02-899d-41fa-88e6-f2e36f6259cb"
      },
      "execution_count": null,
      "outputs": [
        {
          "output_type": "execute_result",
          "data": {
            "text/plain": [
              "2"
            ]
          },
          "metadata": {},
          "execution_count": 27
        }
      ]
    },
    {
      "cell_type": "code",
      "source": [
        "# shape\n",
        "two_d_array.shape"
      ],
      "metadata": {
        "colab": {
          "base_uri": "https://localhost:8080/"
        },
        "id": "wbkCdN5YAa7d",
        "outputId": "35c56cea-162f-498a-999d-37e8ad67e592"
      },
      "execution_count": null,
      "outputs": [
        {
          "output_type": "execute_result",
          "data": {
            "text/plain": [
              "(2, 2)"
            ]
          },
          "metadata": {},
          "execution_count": 29
        }
      ]
    },
    {
      "cell_type": "code",
      "source": [
        "# how many elements total?\n",
        "two_d_array.size"
      ],
      "metadata": {
        "colab": {
          "base_uri": "https://localhost:8080/"
        },
        "id": "iF7YeWx7B2HB",
        "outputId": "6812a34f-4ec9-4b10-fe9f-981fc57bdbbb"
      },
      "execution_count": null,
      "outputs": [
        {
          "output_type": "execute_result",
          "data": {
            "text/plain": [
              "4"
            ]
          },
          "metadata": {},
          "execution_count": 5
        }
      ]
    },
    {
      "cell_type": "code",
      "source": [
        "# what's the data type of the elements?\n",
        "two_d_array.dtype"
      ],
      "metadata": {
        "colab": {
          "base_uri": "https://localhost:8080/"
        },
        "id": "6t5blJmACV9z",
        "outputId": "56d391e4-c87f-42c8-86e0-67cf166eaf26"
      },
      "execution_count": null,
      "outputs": [
        {
          "output_type": "execute_result",
          "data": {
            "text/plain": [
              "dtype('float64')"
            ]
          },
          "metadata": {},
          "execution_count": 8
        }
      ]
    },
    {
      "cell_type": "code",
      "source": [
        "print(f'''Array dimension: {one_d_array.ndim},\n",
        "      shape: {one_d_array.shape}, \n",
        "      size: {one_d_array.size},\n",
        "      data type: {one_d_array.dtype}''')"
      ],
      "metadata": {
        "colab": {
          "base_uri": "https://localhost:8080/"
        },
        "id": "nU8fq7UfA9y9",
        "outputId": "f506bf06-370e-4a68-ca43-fd89df071736"
      },
      "execution_count": null,
      "outputs": [
        {
          "output_type": "stream",
          "name": "stdout",
          "text": [
            "Array dimension: 1,\n",
            "      shape: (4,), \n",
            "      size: 4,\n",
            "      data type: int64\n"
          ]
        }
      ]
    },
    {
      "cell_type": "markdown",
      "source": [
        "**Note** the lack of `()` in the code cells above. It's because we are invoking attributes, not method/functions on those array objects."
      ],
      "metadata": {
        "id": "qQaNHesgc6fU"
      }
    },
    {
      "cell_type": "markdown",
      "source": [
        "## 2.2. Manipulating and operating on `ndarray`\n",
        "With basic understanding of ndarray, let's go ahead do some maths with it."
      ],
      "metadata": {
        "id": "RkJaQBfxEmMW"
      }
    },
    {
      "cell_type": "markdown",
      "source": [
        "### How to do maths with ndarrays?"
      ],
      "metadata": {
        "id": "AfXv6ngFc5Av"
      }
    },
    {
      "cell_type": "code",
      "source": [
        "one_d_array"
      ],
      "metadata": {
        "id": "dEAk2dCppxt3",
        "outputId": "348b4704-6041-4c38-9f12-194cff5b3964",
        "colab": {
          "base_uri": "https://localhost:8080/"
        }
      },
      "execution_count": null,
      "outputs": [
        {
          "output_type": "execute_result",
          "data": {
            "text/plain": [
              "array([0, 1, 2, 3])"
            ]
          },
          "metadata": {},
          "execution_count": 35
        }
      ]
    },
    {
      "cell_type": "code",
      "source": [
        "one_d_array.min()"
      ],
      "metadata": {
        "colab": {
          "base_uri": "https://localhost:8080/"
        },
        "id": "zUy5BHrAF0Bj",
        "outputId": "5906eae4-2897-4aa6-be8b-7c854b99bef6"
      },
      "execution_count": null,
      "outputs": [
        {
          "output_type": "execute_result",
          "data": {
            "text/plain": [
              "0"
            ]
          },
          "metadata": {},
          "execution_count": 36
        }
      ]
    },
    {
      "cell_type": "code",
      "source": [
        "one_d_array.max()"
      ],
      "metadata": {
        "colab": {
          "base_uri": "https://localhost:8080/"
        },
        "id": "gx61RU7PGDKE",
        "outputId": "b14179e5-b941-40f3-84ed-c1493804580d"
      },
      "execution_count": null,
      "outputs": [
        {
          "output_type": "execute_result",
          "data": {
            "text/plain": [
              "3"
            ]
          },
          "metadata": {},
          "execution_count": 37
        }
      ]
    },
    {
      "cell_type": "code",
      "source": [
        "one_d_array.sum()"
      ],
      "metadata": {
        "colab": {
          "base_uri": "https://localhost:8080/"
        },
        "id": "GKaFLXz3GFPU",
        "outputId": "4f43a3ee-ab61-4d16-eb12-fbc083c6d445"
      },
      "execution_count": null,
      "outputs": [
        {
          "output_type": "execute_result",
          "data": {
            "text/plain": [
              "6"
            ]
          },
          "metadata": {},
          "execution_count": 38
        }
      ]
    },
    {
      "cell_type": "code",
      "source": [
        "# broadcasting\n",
        "one_d_array * 2"
      ],
      "metadata": {
        "colab": {
          "base_uri": "https://localhost:8080/"
        },
        "id": "UteWB3LcGIzK",
        "outputId": "71a6fd2d-4682-4662-8314-c4832895c0a5"
      },
      "execution_count": null,
      "outputs": [
        {
          "output_type": "execute_result",
          "data": {
            "text/plain": [
              "array([0, 2, 4, 6])"
            ]
          },
          "metadata": {},
          "execution_count": 39
        }
      ]
    },
    {
      "cell_type": "code",
      "source": [
        "# arithmetic operations\n",
        "one_d_array + one_d_array * 2"
      ],
      "metadata": {
        "colab": {
          "base_uri": "https://localhost:8080/"
        },
        "id": "8gRhvgszGeOB",
        "outputId": "6bd523d3-8013-46ef-e0e0-018c7d8a33d8"
      },
      "execution_count": null,
      "outputs": [
        {
          "output_type": "execute_result",
          "data": {
            "text/plain": [
              "array([0, 3, 6, 9])"
            ]
          },
          "metadata": {},
          "execution_count": 40
        }
      ]
    },
    {
      "cell_type": "markdown",
      "source": [
        "## 2.3. Universal functions\n",
        "\n",
        "In NumPy, universal functions (`ufunc`) are functions operate element-wise on an array and produce an output.\n",
        "\n",
        "Here are some examples:\n",
        "\n",
        "<p><a href=\"https://numpy.org/doc/stable/reference/generated/numpy.all.html#numpy.all\" title=\"numpy.all\"><code class=\"xref py py-obj docutils literal notranslate\"><span class=\"pre\">all</span></code></a>,\n",
        "<a href=\"https://numpy.org/doc/stable/reference/generated/numpy.any.html#numpy.any\" title=\"numpy.any\"><code class=\"xref py py-obj docutils literal notranslate\"><span class=\"pre\">any</span></code></a>,\n",
        "<a href=\"https://numpy.org/doc/stable/reference/generated/numpy.apply_along_axis.html#numpy.apply_along_axis\" title=\"numpy.apply_along_axis\"><code class=\"xref py py-obj docutils literal notranslate\"><span class=\"pre\">apply_along_axis</span></code></a>,\n",
        "<a href=\"https://numpy.org/doc/stable/reference/generated/numpy.argmax.html#numpy.argmax\" title=\"numpy.argmax\"><code class=\"xref py py-obj docutils literal notranslate\"><span class=\"pre\">argmax</span></code></a>,\n",
        "<a href=\"https://numpy.org/doc/stable/reference/generated/numpy.argmin.html#numpy.argmin\" title=\"numpy.argmin\"><code class=\"xref py py-obj docutils literal notranslate\"><span class=\"pre\">argmin</span></code></a>,\n",
        "<a href=\"https://numpy.org/doc/stable/reference/generated/numpy.argsort.html#numpy.argsort\" title=\"numpy.argsort\"><code class=\"xref py py-obj docutils literal notranslate\"><span class=\"pre\">argsort</span></code></a>,\n",
        "<a href=\"https://numpy.org/doc/stable/reference/generated/numpy.average.html#numpy.average\" title=\"numpy.average\"><code class=\"xref py py-obj docutils literal notranslate\"><span class=\"pre\">average</span></code></a>,\n",
        "<a href=\"https://numpy.org/doc/stable/reference/generated/numpy.bincount.html#numpy.bincount\" title=\"numpy.bincount\"><code class=\"xref py py-obj docutils literal notranslate\"><span class=\"pre\">bincount</span></code></a>,\n",
        "<a href=\"https://numpy.org/doc/stable/reference/generated/numpy.ceil.html#numpy.ceil\" title=\"numpy.ceil\"><code class=\"xref py py-obj docutils literal notranslate\"><span class=\"pre\">ceil</span></code></a>,\n",
        "<a href=\"https://numpy.org/doc/stable/reference/generated/numpy.clip.html#numpy.clip\" title=\"numpy.clip\"><code class=\"xref py py-obj docutils literal notranslate\"><span class=\"pre\">clip</span></code></a>,\n",
        "<a href=\"https://numpy.org/doc/stable/reference/generated/numpy.conj.html#numpy.conj\" title=\"numpy.conj\"><code class=\"xref py py-obj docutils literal notranslate\"><span class=\"pre\">conj</span></code></a>,\n",
        "<a href=\"https://numpy.org/doc/stable/reference/generated/numpy.corrcoef.html#numpy.corrcoef\" title=\"numpy.corrcoef\"><code class=\"xref py py-obj docutils literal notranslate\"><span class=\"pre\">corrcoef</span></code></a>,\n",
        "<a href=\"https://numpy.org/doc/stable/reference/generated/numpy.cov.html#numpy.cov\" title=\"numpy.cov\"><code class=\"xref py py-obj docutils literal notranslate\"><span class=\"pre\">cov</span></code></a>,\n",
        "<a href=\"https://numpy.org/doc/stable/reference/generated/numpy.cross.html#numpy.cross\" title=\"numpy.cross\"><code class=\"xref py py-obj docutils literal notranslate\"><span class=\"pre\">cross</span></code></a>,\n",
        "<a href=\"https://numpy.org/doc/stable/reference/generated/numpy.cumprod.html#numpy.cumprod\" title=\"numpy.cumprod\"><code class=\"xref py py-obj docutils literal notranslate\"><span class=\"pre\">cumprod</span></code></a>,\n",
        "<a href=\"https://numpy.org/doc/stable/reference/generated/numpy.cumsum.html#numpy.cumsum\" title=\"numpy.cumsum\"><code class=\"xref py py-obj docutils literal notranslate\"><span class=\"pre\">cumsum</span></code></a>,\n",
        "<a href=\"https://numpy.org/doc/stable/reference/generated/numpy.diff.html#numpy.diff\" title=\"numpy.diff\"><code class=\"xref py py-obj docutils literal notranslate\"><span class=\"pre\">diff</span></code></a>,\n",
        "<a href=\"https://numpy.org/doc/stable/reference/generated/numpy.floor.html#numpy.floor\" title=\"numpy.floor\"><code class=\"xref py py-obj docutils literal notranslate\"><span class=\"pre\">floor</span></code></a>,\n",
        "<a href=\"https://numpy.org/doc/stable/reference/generated/numpy.inner.html#numpy.inner\" title=\"numpy.inner\"><code class=\"xref py py-obj docutils literal notranslate\"><span class=\"pre\">inner</span></code></a>,\n",
        "<a href=\"https://numpy.org/doc/stable/reference/generated/numpy.invert.html#numpy.invert\" title=\"numpy.invert\"><code class=\"xref py py-obj docutils literal notranslate\"><span class=\"pre\">invert</span></code></a>,\n",
        "<a href=\"https://numpy.org/doc/stable/reference/generated/numpy.lexsort.html#numpy.lexsort\" title=\"numpy.lexsort\"><code class=\"xref py py-obj docutils literal notranslate\"><span class=\"pre\">lexsort</span></code></a>,\n",
        "<a class=\"reference external\" href=\"https://docs.python.org/3/library/functions.html#max\" title=\"(in Python v3.10)\"><code class=\"xref py py-obj docutils literal notranslate\"><span class=\"pre\">max</span></code></a>,\n",
        "<a href=\"https://numpy.org/doc/stable/reference/generated/numpy.maximum.html#numpy.maximum\" title=\"numpy.maximum\"><code class=\"xref py py-obj docutils literal notranslate\"><span class=\"pre\">maximum</span></code></a>,\n",
        "<a href=\"https://numpy.org/doc/stable/reference/generated/numpy.mean.html#numpy.mean\" title=\"numpy.mean\"><code class=\"xref py py-obj docutils literal notranslate\"><span class=\"pre\">mean</span></code></a>,\n",
        "<a href=\"https://numpy.org/doc/stable/reference/generated/numpy.median.html#numpy.median\" title=\"numpy.median\"><code class=\"xref py py-obj docutils literal notranslate\"><span class=\"pre\">median</span></code></a>,\n",
        "<a class=\"reference external\" href=\"https://docs.python.org/3/library/functions.html#min\" title=\"(in Python v3.10)\"><code class=\"xref py py-obj docutils literal notranslate\"><span class=\"pre\">min</span></code></a>,\n",
        "<a href=\"https://numpy.org/doc/stable/reference/generated/numpy.minimum.html#numpy.minimum\" title=\"numpy.minimum\"><code class=\"xref py py-obj docutils literal notranslate\"><span class=\"pre\">minimum</span></code></a>,\n",
        "<a href=\"https://numpy.org/doc/stable/reference/generated/numpy.nonzero.html#numpy.nonzero\" title=\"numpy.nonzero\"><code class=\"xref py py-obj docutils literal notranslate\"><span class=\"pre\">nonzero</span></code></a>,\n",
        "<a href=\"https://numpy.org/doc/stable/reference/generated/numpy.outer.html#numpy.outer\" title=\"numpy.outer\"><code class=\"xref py py-obj docutils literal notranslate\"><span class=\"pre\">outer</span></code></a>,\n",
        "<a href=\"https://numpy.org/doc/stable/reference/generated/numpy.prod.html#numpy.prod\" title=\"numpy.prod\"><code class=\"xref py py-obj docutils literal notranslate\"><span class=\"pre\">prod</span></code></a>,\n",
        "<a class=\"reference external\" href=\"https://docs.python.org/3/library/re.html#module-re\" title=\"(in Python v3.10)\"><code class=\"xref py py-obj docutils literal notranslate\"><span class=\"pre\">re</span></code></a>,\n",
        "<a class=\"reference external\" href=\"https://docs.python.org/3/library/functions.html#round\" title=\"(in Python v3.10)\"><code class=\"xref py py-obj docutils literal notranslate\"><span class=\"pre\">round</span></code></a>,\n",
        "<a href=\"https://numpy.org/doc/stable/reference/generated/numpy.sort.html#numpy.sort\" title=\"numpy.sort\"><code class=\"xref py py-obj docutils literal notranslate\"><span class=\"pre\">sort</span></code></a>,\n",
        "<a href=\"https://numpy.org/doc/stable/reference/generated/numpy.std.html#numpy.std\" title=\"numpy.std\"><code class=\"xref py py-obj docutils literal notranslate\"><span class=\"pre\">std</span></code></a>,\n",
        "<a href=\"https://numpy.org/doc/stable/reference/generated/numpy.sum.html#numpy.sum\" title=\"numpy.sum\"><code class=\"xref py py-obj docutils literal notranslate\"><span class=\"pre\">sum</span></code></a>,\n",
        "<a href=\"https://numpy.org/doc/stable/reference/generated/numpy.trace.html#numpy.trace\" title=\"numpy.trace\"><code class=\"xref py py-obj docutils literal notranslate\"><span class=\"pre\">trace</span></code></a>,\n",
        "<a href=\"https://numpy.org/doc/stable/reference/generated/numpy.transpose.html#numpy.transpose\" title=\"numpy.transpose\"><code class=\"xref py py-obj docutils literal notranslate\"><span class=\"pre\">transpose</span></code></a>,\n",
        "<a href=\"https://numpy.org/doc/stable/reference/generated/numpy.var.html#numpy.var\" title=\"numpy.var\"><code class=\"xref py py-obj docutils literal notranslate\"><span class=\"pre\">var</span></code></a>,\n",
        "<a href=\"https://numpy.org/doc/stable/reference/generated/numpy.vdot.html#numpy.vdot\" title=\"numpy.vdot\"><code class=\"xref py py-obj docutils literal notranslate\"><span class=\"pre\">vdot</span></code></a>,\n",
        "<a href=\"https://numpy.org/doc/stable/reference/generated/numpy.vectorize.html#numpy.vectorize\" title=\"numpy.vectorize\"><code class=\"xref py py-obj docutils literal notranslate\"><span class=\"pre\">vectorize</span></code></a>,\n",
        "<a href=\"https://numpy.org/doc/stable/reference/generated/numpy.where.html#numpy.where\" title=\"numpy.where\"><code class=\"xref py py-obj docutils literal notranslate\"><span class=\"pre\">where</span></code></a></p>"
      ],
      "metadata": {
        "id": "vR6MATkZsBM0"
      }
    },
    {
      "cell_type": "markdown",
      "source": [
        "Most universal functions can operate not only on NumPy arrays (ndarray), but also on Python lists, arrays or any object convertible to a NumPy array:"
      ],
      "metadata": {
        "id": "WOkVZ-lcUMLx"
      }
    },
    {
      "cell_type": "code",
      "source": [
        "# cross product of two vectors\n",
        "np.cross([3, 0, 2], [-1, 4, 2])"
      ],
      "metadata": {
        "colab": {
          "base_uri": "https://localhost:8080/"
        },
        "id": "3knRYtgktiHS",
        "outputId": "892c456a-722b-466d-f611-d4f0fcd4cc68"
      },
      "execution_count": null,
      "outputs": [
        {
          "output_type": "execute_result",
          "data": {
            "text/plain": [
              "array([-8, -8, 12])"
            ]
          },
          "metadata": {},
          "execution_count": 48
        }
      ]
    },
    {
      "cell_type": "markdown",
      "source": [
        "More usage examples of universal functions:"
      ],
      "metadata": {
        "id": "48RMs7exURVC"
      }
    },
    {
      "cell_type": "code",
      "source": [
        "# reverse an array\n",
        "np.flip(one_d_array)"
      ],
      "metadata": {
        "colab": {
          "base_uri": "https://localhost:8080/"
        },
        "id": "arO3xFKAtFDC",
        "outputId": "d46b16f9-037f-49fd-c9bb-7557d9d61cef"
      },
      "execution_count": null,
      "outputs": [
        {
          "output_type": "execute_result",
          "data": {
            "text/plain": [
              "array([3, 2, 1, 0])"
            ]
          },
          "metadata": {},
          "execution_count": 49
        }
      ]
    },
    {
      "cell_type": "code",
      "source": [
        "# sort an array, default ascending\n",
        "np.sort(np.random.random(5))"
      ],
      "metadata": {
        "colab": {
          "base_uri": "https://localhost:8080/"
        },
        "id": "RsSkShcAtRzs",
        "outputId": "fb99d83a-5f17-4a7a-92c3-0f057fbc2409"
      },
      "execution_count": null,
      "outputs": [
        {
          "output_type": "execute_result",
          "data": {
            "text/plain": [
              "array([0.05929896, 0.30172645, 0.39046874, 0.77738081, 0.80239677])"
            ]
          },
          "metadata": {},
          "execution_count": 50
        }
      ]
    },
    {
      "cell_type": "code",
      "source": [
        "# get the index of the max element\n",
        "one_to_nine = np.arange(1, 10)\n",
        "np.argmax(one_to_nine)"
      ],
      "metadata": {
        "colab": {
          "base_uri": "https://localhost:8080/"
        },
        "id": "rs7oE7BewIRT",
        "outputId": "868d22d0-3bb1-49cc-b480-9ba252b82b95"
      },
      "execution_count": null,
      "outputs": [
        {
          "output_type": "execute_result",
          "data": {
            "text/plain": [
              "8"
            ]
          },
          "metadata": {},
          "execution_count": 51
        }
      ]
    },
    {
      "cell_type": "code",
      "source": [
        "# look up the element by index\n",
        "one_to_nine[np.argmax(one_to_nine)]"
      ],
      "metadata": {
        "colab": {
          "base_uri": "https://localhost:8080/"
        },
        "id": "J8pmanFxwSls",
        "outputId": "d8763e06-a726-4b17-d121-ec2e0efc8956"
      },
      "execution_count": null,
      "outputs": [
        {
          "output_type": "execute_result",
          "data": {
            "text/plain": [
              "9"
            ]
          },
          "metadata": {},
          "execution_count": 52
        }
      ]
    },
    {
      "cell_type": "code",
      "source": [
        "# check if any of the element evaluates to true\n",
        "np.any([False, 0])"
      ],
      "metadata": {
        "colab": {
          "base_uri": "https://localhost:8080/"
        },
        "id": "e13C-wxmyHQH",
        "outputId": "9e3f2963-f394-475c-cdb3-188dd689024f"
      },
      "execution_count": null,
      "outputs": [
        {
          "output_type": "execute_result",
          "data": {
            "text/plain": [
              "False"
            ]
          },
          "metadata": {},
          "execution_count": 53
        }
      ]
    },
    {
      "cell_type": "code",
      "source": [
        "# check if all of the elements evaluate to true\n",
        "np.all([True, 3, np.nan])"
      ],
      "metadata": {
        "colab": {
          "base_uri": "https://localhost:8080/"
        },
        "id": "_iT6tGr5ykCz",
        "outputId": "bee0983f-6501-4587-e115-d50f3ef2a2cd"
      },
      "execution_count": null,
      "outputs": [
        {
          "output_type": "execute_result",
          "data": {
            "text/plain": [
              "True"
            ]
          },
          "metadata": {},
          "execution_count": 54
        }
      ]
    },
    {
      "cell_type": "code",
      "source": [
        "# pair-wise element comparison\n",
        "np.greater([1, 2, 3], [1, 2, 1])"
      ],
      "metadata": {
        "colab": {
          "base_uri": "https://localhost:8080/"
        },
        "id": "j7SpyHJUzxQX",
        "outputId": "285dd369-4857-4b0d-ba32-ec82ce31c3c1"
      },
      "execution_count": null,
      "outputs": [
        {
          "output_type": "execute_result",
          "data": {
            "text/plain": [
              "array([False, False,  True])"
            ]
          },
          "metadata": {},
          "execution_count": 55
        }
      ]
    },
    {
      "cell_type": "code",
      "source": [
        "# Does any of the pair-wise comparison evaluate to true?\n",
        "np.any(np.greater([1, 2, 3], [1, 2, 1]))"
      ],
      "metadata": {
        "colab": {
          "base_uri": "https://localhost:8080/"
        },
        "id": "TaOUacao0fU4",
        "outputId": "14b7870f-69a2-4d3d-c1b9-18a37cf1f397"
      },
      "execution_count": null,
      "outputs": [
        {
          "output_type": "execute_result",
          "data": {
            "text/plain": [
              "True"
            ]
          },
          "metadata": {},
          "execution_count": 56
        }
      ]
    },
    {
      "cell_type": "markdown",
      "source": [
        "## 2.4. Exercises: vector dot product\n",
        "\n",
        "**Task**: Calculate the **dot product** of vector `(1, 2, 3)` with itself. \n",
        "\n",
        "The dot product of two vectors \\\\(\\mathbf{\\color{red}a}=[a_1, a_2, \\cdots, a_n]\\\\) and \\\\(\\mathbf{\\color{blue}b} = [b_1, b_2, \\cdots, b_n]\\\\) is defined as:\n",
        "\n",
        "$$\\mathbf{\\color{red}a}\\cdot\\mathbf{\\color{blue}b}=\\sum_{i=1}^n {\\color{red}a}_i{\\color{blue}b}_i={\\color{red}a}_1{\\color{blue}b}_1+{\\color{red}a}_2{\\color{blue}b}_2+\\cdots+{\\color{red}a}_n{\\color{blue}b}_n$$\n",
        "\n",
        "The following exercises are meant to be completed step by step. Upon successful completion of all steps, the last cell should execute without any `AssertionError` or the prompt \"Remove this line after filling in your own code\".\n",
        "\n",
        "**Tip**: Make use of the \"hints\" given as comments in each code cell. You can always invoke `?` to bring up the documentation for any function in colab, e.g. `np.array?`, `np.arange?`"
      ],
      "metadata": {
        "id": "bRa5jb9TVUIw"
      }
    },
    {
      "cell_type": "markdown",
      "source": [
        "### Step 1. \n",
        "\n",
        "Represent vector `(1, 2, 3)` as a 1-d NumPy array of shape (3, ) and store in variable `a`:"
      ],
      "metadata": {
        "id": "YyjvJgyRghEX"
      }
    },
    {
      "cell_type": "code",
      "source": [
        "%%script echo Remove this line after filling in your own code\n",
        "# hint: use np.array or np.arange\n",
        "# Your code here\n",
        "\n",
        "# === Do not modify code below ===\n",
        "assert a.shape == (3, )\n",
        "assert a[0] == 1\n",
        "assert a[1] == 2"
      ],
      "metadata": {
        "colab": {
          "base_uri": "https://localhost:8080/"
        },
        "id": "KdcSu4SJWTll",
        "outputId": "361187aa-5b09-45cf-d2bb-9f2ee1bb6e19"
      },
      "execution_count": null,
      "outputs": [
        {
          "output_type": "stream",
          "name": "stdout",
          "text": [
            "Remove this line after filling in your own code\n"
          ]
        }
      ]
    },
    {
      "cell_type": "markdown",
      "source": [
        "### Step 2. \n",
        "\n",
        "Implement the dot product calculation and store the result in variable `result`:"
      ],
      "metadata": {
        "id": "-t3g0-1AXHk3"
      }
    },
    {
      "cell_type": "code",
      "source": [
        "%%script echo Remove this line after filling in your own code\n",
        "# hint: Use *, then sum or np.sum. \n",
        "#       Alternatively use one of NumPy's universal functions\n",
        "# Your code here\n",
        "\n",
        "# === Do not modify code below ===\n",
        "assert result == 14"
      ],
      "metadata": {
        "colab": {
          "base_uri": "https://localhost:8080/"
        },
        "id": "OxuuW5yRWAmZ",
        "outputId": "9f5ea761-c8e5-4568-caad-2013ea459d3c"
      },
      "execution_count": null,
      "outputs": [
        {
          "output_type": "stream",
          "name": "stdout",
          "text": [
            "Remove this line after filling in your own code\n"
          ]
        }
      ]
    },
    {
      "cell_type": "markdown",
      "source": [
        "# 3.&nbsp;Pandas\n",
        "\n",
        "<img src=\"https://miro.medium.com/max/1400/1*6d5dw6dPhy4vBp2vRW6uzw.png\" width=800 />\n",
        "\n",
        "Image credit: https://towardsdatascience.com/pandas-groupby-aggregate-transform-filter-c95ba3444bbb"
      ],
      "metadata": {
        "id": "oQbrnlL81xm7"
      }
    },
    {
      "cell_type": "markdown",
      "source": [
        "Datasets we often work with come in tabular form – think Excel/Google spreadsheets – and with mixed data types, some numerical, some categorical, some textual. Before we can perform fancy mathematical operations and meaningful analysis on such data using NumPy and other python libraries, we usually need to understand and preprocess the data first. This process involves operations such as cleaning, reshaping, filtering, and subsetting. This is where Pandas comes in.\n",
        "\n",
        "Aside: Why is such a data analysis library named Pandas? Apparently the name is derived from the term \"panel data\".\n",
        "\n",
        "Like `ndarray` is the basic building block of NumPy, `Series` and `DataFrame` are the basic building blocks of Pandas. "
      ],
      "metadata": {
        "id": "apd7GljeDz59"
      }
    },
    {
      "cell_type": "markdown",
      "source": [
        "## 3.1. Series\n",
        "\n",
        "`Series` is a one-dimensional **labeled** array capable of holding **any data type**. The axis labels are collectively referred to as the index. "
      ],
      "metadata": {
        "id": "DSpeS492gLEW"
      }
    },
    {
      "cell_type": "markdown",
      "source": [
        "### Can I create Series from ndarrays?"
      ],
      "metadata": {
        "id": "ec5MCn0bg-EP"
      }
    },
    {
      "cell_type": "code",
      "source": [
        "import pandas as pd\n",
        "import numpy as np\n",
        "\n",
        "# specify the labels through the `index` argument\n",
        "labelled_series = pd.Series(np.arange(1, 4), index=[\"r1\", \"r2\", \"r3\"])\n",
        "labelled_series"
      ],
      "metadata": {
        "colab": {
          "base_uri": "https://localhost:8080/"
        },
        "id": "ZIWcxaKfhanx",
        "outputId": "949cb704-31ae-49de-9799-4b44c7a15a3b"
      },
      "execution_count": null,
      "outputs": [
        {
          "output_type": "execute_result",
          "data": {
            "text/plain": [
              "r1    1\n",
              "r2    2\n",
              "r3    3\n",
              "dtype: int64"
            ]
          },
          "metadata": {},
          "execution_count": 58
        }
      ]
    },
    {
      "cell_type": "code",
      "source": [
        "# by default, integer sequence starting from 0 is used as labels\n",
        "default_series = pd.Series(np.arange(1, 4))\n",
        "default_series"
      ],
      "metadata": {
        "colab": {
          "base_uri": "https://localhost:8080/"
        },
        "id": "bbbahkW1h2Fg",
        "outputId": "e5955048-9b2a-459d-f73d-c743c1a7141d"
      },
      "execution_count": null,
      "outputs": [
        {
          "output_type": "execute_result",
          "data": {
            "text/plain": [
              "0    1\n",
              "1    2\n",
              "2    3\n",
              "dtype: int64"
            ]
          },
          "metadata": {},
          "execution_count": 59
        }
      ]
    },
    {
      "cell_type": "code",
      "source": [
        "# Individual elements can be looked up using labels\n",
        "labelled_series[\"r2\"]"
      ],
      "metadata": {
        "colab": {
          "base_uri": "https://localhost:8080/"
        },
        "id": "15h1ZumAip1f",
        "outputId": "1c0d66fa-86d1-4dea-baed-363b6623512e"
      },
      "execution_count": null,
      "outputs": [
        {
          "output_type": "execute_result",
          "data": {
            "text/plain": [
              "2"
            ]
          },
          "metadata": {},
          "execution_count": 60
        }
      ]
    },
    {
      "cell_type": "code",
      "source": [
        "default_series[2]"
      ],
      "metadata": {
        "colab": {
          "base_uri": "https://localhost:8080/"
        },
        "id": "peq4eUTujAI-",
        "outputId": "99c68f3f-8159-498f-d926-8657d21e87ae"
      },
      "execution_count": null,
      "outputs": [
        {
          "output_type": "execute_result",
          "data": {
            "text/plain": [
              "3"
            ]
          },
          "metadata": {},
          "execution_count": 61
        }
      ]
    },
    {
      "cell_type": "markdown",
      "source": [
        "### Can I recover the ndarray from a series?"
      ],
      "metadata": {
        "id": "7Ne5U5vdjxPU"
      }
    },
    {
      "cell_type": "code",
      "source": [
        "labelled_series.to_numpy()"
      ],
      "metadata": {
        "colab": {
          "base_uri": "https://localhost:8080/"
        },
        "id": "PtYrA1CSjrJc",
        "outputId": "9eb277cc-cd6c-4878-abe8-2ca2da2d7c22"
      },
      "execution_count": null,
      "outputs": [
        {
          "output_type": "execute_result",
          "data": {
            "text/plain": [
              "array([1, 2, 3])"
            ]
          },
          "metadata": {},
          "execution_count": 62
        }
      ]
    },
    {
      "cell_type": "code",
      "source": [
        "# alternatively\n",
        "labelled_series.values"
      ],
      "metadata": {
        "colab": {
          "base_uri": "https://localhost:8080/"
        },
        "id": "kF-8b0AloO1h",
        "outputId": "c21f1e81-d77d-4b2f-ecf6-42acdebb2127"
      },
      "execution_count": null,
      "outputs": [
        {
          "output_type": "execute_result",
          "data": {
            "text/plain": [
              "array([1, 2, 3])"
            ]
          },
          "metadata": {},
          "execution_count": 63
        }
      ]
    },
    {
      "cell_type": "markdown",
      "source": [
        "### Can I apply the same transformation on every element in a Series?"
      ],
      "metadata": {
        "id": "JXyQLgt9QN_k"
      }
    },
    {
      "cell_type": "markdown",
      "source": [
        "It's similar to iterating through a list with a `for` or `while` loop, but in tabular data, the mindset is to apply the same `function` on every element in a Series. Why the change of mindset? The short answer is that it allows the library to perform the operations faster through parallel processing. For technical details, refer to [this blog post](https://medium.com/analytics-vidhya/understanding-vectorization-in-numpy-and-pandas-188b6ebc5398) (which also links to a talk specifically on such optimization approach known as vectorization)."
      ],
      "metadata": {
        "id": "6Xq2orxrSiPw"
      }
    },
    {
      "cell_type": "markdown",
      "source": [
        "Here's an example of transforming a list of strings to UPPERCASE using a `for` loop:"
      ],
      "metadata": {
        "id": "Jw_ky9xRVr_e"
      }
    },
    {
      "cell_type": "code",
      "source": [
        "angry_libs = []\n",
        "for lib in ['numpy', 'pandas']:\n",
        "  angry_libs.append(lib.upper())\n",
        "angry_libs"
      ],
      "metadata": {
        "colab": {
          "base_uri": "https://localhost:8080/"
        },
        "id": "H0GnbR6KRZoR",
        "outputId": "cc47cf2c-99d6-47ef-d85d-a009293623fe"
      },
      "execution_count": null,
      "outputs": [
        {
          "output_type": "execute_result",
          "data": {
            "text/plain": [
              "['NUMPY', 'PANDAS']"
            ]
          },
          "metadata": {},
          "execution_count": 64
        }
      ]
    },
    {
      "cell_type": "markdown",
      "source": [
        "Here's how we would do it on a Series:"
      ],
      "metadata": {
        "id": "6xzoPyOnWSNk"
      }
    },
    {
      "cell_type": "code",
      "source": [
        "pd.Series(['numpy', 'pandas']).map(str.upper)"
      ],
      "metadata": {
        "colab": {
          "base_uri": "https://localhost:8080/"
        },
        "id": "JvjKpY1VWWUb",
        "outputId": "c89c443c-66a6-4768-cd83-3b11c8938deb"
      },
      "execution_count": null,
      "outputs": [
        {
          "output_type": "execute_result",
          "data": {
            "text/plain": [
              "0     NUMPY\n",
              "1    PANDAS\n",
              "dtype: object"
            ]
          },
          "metadata": {},
          "execution_count": 65
        }
      ]
    },
    {
      "cell_type": "markdown",
      "source": [
        "Let's break it down:"
      ],
      "metadata": {
        "id": "mm2m0HREWa6l"
      }
    },
    {
      "cell_type": "code",
      "source": [
        "libraries = pd.Series(['numpy', 'pandas'])\n",
        "libraries"
      ],
      "metadata": {
        "colab": {
          "base_uri": "https://localhost:8080/"
        },
        "id": "nAS5-WipQhiH",
        "outputId": "ef3c875c-fa9b-4a51-84a1-73f57dcedcae"
      },
      "execution_count": null,
      "outputs": [
        {
          "output_type": "execute_result",
          "data": {
            "text/plain": [
              "0     numpy\n",
              "1    pandas\n",
              "dtype: object"
            ]
          },
          "metadata": {},
          "execution_count": 66
        }
      ]
    },
    {
      "cell_type": "code",
      "source": [
        "str.upper"
      ],
      "metadata": {
        "colab": {
          "base_uri": "https://localhost:8080/"
        },
        "id": "SayhuzJyRNd5",
        "outputId": "18648ae1-e1d1-4eca-c324-24ae74df15cb"
      },
      "execution_count": null,
      "outputs": [
        {
          "output_type": "execute_result",
          "data": {
            "text/plain": [
              "<method 'upper' of 'str' objects>"
            ]
          },
          "metadata": {},
          "execution_count": 67
        }
      ]
    },
    {
      "cell_type": "code",
      "source": [
        "libraries.map(str.upper)"
      ],
      "metadata": {
        "colab": {
          "base_uri": "https://localhost:8080/"
        },
        "id": "12wbWIQfRBj1",
        "outputId": "9e852b44-d291-448d-a132-6c427274fef9"
      },
      "execution_count": null,
      "outputs": [
        {
          "output_type": "execute_result",
          "data": {
            "text/plain": [
              "0     NUMPY\n",
              "1    PANDAS\n",
              "dtype: object"
            ]
          },
          "metadata": {},
          "execution_count": 68
        }
      ]
    },
    {
      "cell_type": "markdown",
      "source": [
        "## 3.2. DataFrame\n",
        "\n",
        "`DataFrame` is a 2-dimensional **labeled** data structure with **columns of potentially different types**. You can think of it like a spreadsheet or SQL table, or a dict of Series objects. It is generally the most commonly used pandas object."
      ],
      "metadata": {
        "id": "Yj-JuBEuhhvG"
      }
    },
    {
      "cell_type": "markdown",
      "source": [
        "### 3.2.1. Creating DataFrames\n",
        "\n",
        "There are many ways to create a `DataFrame`. Let's look at some examples with the data types we are already familiar with."
      ],
      "metadata": {
        "id": "wCQIFZbgLKTl"
      }
    },
    {
      "cell_type": "markdown",
      "source": [
        "#### Can I create a DataFrame from Series?"
      ],
      "metadata": {
        "id": "kec7XEzdiTC5"
      }
    },
    {
      "cell_type": "code",
      "source": [
        "df_from_series = pd.DataFrame({\"c1\": labelled_series, \"c2\": labelled_series * 2})\n",
        "df_from_series"
      ],
      "metadata": {
        "colab": {
          "base_uri": "https://localhost:8080/"
        },
        "id": "QcAkiwxGib61",
        "outputId": "a1a4fe2e-5fd8-45de-ef20-40de8943c0d5"
      },
      "execution_count": null,
      "outputs": [
        {
          "output_type": "execute_result",
          "data": {
            "text/plain": [
              "    c1  c2\n",
              "r1   1   2\n",
              "r2   2   4\n",
              "r3   3   6"
            ],
            "text/html": [
              "\n",
              "  <div id=\"df-5dc8b3da-7696-4fb8-8e64-a5b87dc45610\">\n",
              "    <div class=\"colab-df-container\">\n",
              "      <div>\n",
              "<style scoped>\n",
              "    .dataframe tbody tr th:only-of-type {\n",
              "        vertical-align: middle;\n",
              "    }\n",
              "\n",
              "    .dataframe tbody tr th {\n",
              "        vertical-align: top;\n",
              "    }\n",
              "\n",
              "    .dataframe thead th {\n",
              "        text-align: right;\n",
              "    }\n",
              "</style>\n",
              "<table border=\"1\" class=\"dataframe\">\n",
              "  <thead>\n",
              "    <tr style=\"text-align: right;\">\n",
              "      <th></th>\n",
              "      <th>c1</th>\n",
              "      <th>c2</th>\n",
              "    </tr>\n",
              "  </thead>\n",
              "  <tbody>\n",
              "    <tr>\n",
              "      <th>r1</th>\n",
              "      <td>1</td>\n",
              "      <td>2</td>\n",
              "    </tr>\n",
              "    <tr>\n",
              "      <th>r2</th>\n",
              "      <td>2</td>\n",
              "      <td>4</td>\n",
              "    </tr>\n",
              "    <tr>\n",
              "      <th>r3</th>\n",
              "      <td>3</td>\n",
              "      <td>6</td>\n",
              "    </tr>\n",
              "  </tbody>\n",
              "</table>\n",
              "</div>\n",
              "      <button class=\"colab-df-convert\" onclick=\"convertToInteractive('df-5dc8b3da-7696-4fb8-8e64-a5b87dc45610')\"\n",
              "              title=\"Convert this dataframe to an interactive table.\"\n",
              "              style=\"display:none;\">\n",
              "        \n",
              "  <svg xmlns=\"http://www.w3.org/2000/svg\" height=\"24px\"viewBox=\"0 0 24 24\"\n",
              "       width=\"24px\">\n",
              "    <path d=\"M0 0h24v24H0V0z\" fill=\"none\"/>\n",
              "    <path d=\"M18.56 5.44l.94 2.06.94-2.06 2.06-.94-2.06-.94-.94-2.06-.94 2.06-2.06.94zm-11 1L8.5 8.5l.94-2.06 2.06-.94-2.06-.94L8.5 2.5l-.94 2.06-2.06.94zm10 10l.94 2.06.94-2.06 2.06-.94-2.06-.94-.94-2.06-.94 2.06-2.06.94z\"/><path d=\"M17.41 7.96l-1.37-1.37c-.4-.4-.92-.59-1.43-.59-.52 0-1.04.2-1.43.59L10.3 9.45l-7.72 7.72c-.78.78-.78 2.05 0 2.83L4 21.41c.39.39.9.59 1.41.59.51 0 1.02-.2 1.41-.59l7.78-7.78 2.81-2.81c.8-.78.8-2.07 0-2.86zM5.41 20L4 18.59l7.72-7.72 1.47 1.35L5.41 20z\"/>\n",
              "  </svg>\n",
              "      </button>\n",
              "      \n",
              "  <style>\n",
              "    .colab-df-container {\n",
              "      display:flex;\n",
              "      flex-wrap:wrap;\n",
              "      gap: 12px;\n",
              "    }\n",
              "\n",
              "    .colab-df-convert {\n",
              "      background-color: #E8F0FE;\n",
              "      border: none;\n",
              "      border-radius: 50%;\n",
              "      cursor: pointer;\n",
              "      display: none;\n",
              "      fill: #1967D2;\n",
              "      height: 32px;\n",
              "      padding: 0 0 0 0;\n",
              "      width: 32px;\n",
              "    }\n",
              "\n",
              "    .colab-df-convert:hover {\n",
              "      background-color: #E2EBFA;\n",
              "      box-shadow: 0px 1px 2px rgba(60, 64, 67, 0.3), 0px 1px 3px 1px rgba(60, 64, 67, 0.15);\n",
              "      fill: #174EA6;\n",
              "    }\n",
              "\n",
              "    [theme=dark] .colab-df-convert {\n",
              "      background-color: #3B4455;\n",
              "      fill: #D2E3FC;\n",
              "    }\n",
              "\n",
              "    [theme=dark] .colab-df-convert:hover {\n",
              "      background-color: #434B5C;\n",
              "      box-shadow: 0px 1px 3px 1px rgba(0, 0, 0, 0.15);\n",
              "      filter: drop-shadow(0px 1px 2px rgba(0, 0, 0, 0.3));\n",
              "      fill: #FFFFFF;\n",
              "    }\n",
              "  </style>\n",
              "\n",
              "      <script>\n",
              "        const buttonEl =\n",
              "          document.querySelector('#df-5dc8b3da-7696-4fb8-8e64-a5b87dc45610 button.colab-df-convert');\n",
              "        buttonEl.style.display =\n",
              "          google.colab.kernel.accessAllowed ? 'block' : 'none';\n",
              "\n",
              "        async function convertToInteractive(key) {\n",
              "          const element = document.querySelector('#df-5dc8b3da-7696-4fb8-8e64-a5b87dc45610');\n",
              "          const dataTable =\n",
              "            await google.colab.kernel.invokeFunction('convertToInteractive',\n",
              "                                                     [key], {});\n",
              "          if (!dataTable) return;\n",
              "\n",
              "          const docLinkHtml = 'Like what you see? Visit the ' +\n",
              "            '<a target=\"_blank\" href=https://colab.research.google.com/notebooks/data_table.ipynb>data table notebook</a>'\n",
              "            + ' to learn more about interactive tables.';\n",
              "          element.innerHTML = '';\n",
              "          dataTable['output_type'] = 'display_data';\n",
              "          await google.colab.output.renderOutput(dataTable, element);\n",
              "          const docLink = document.createElement('div');\n",
              "          docLink.innerHTML = docLinkHtml;\n",
              "          element.appendChild(docLink);\n",
              "        }\n",
              "      </script>\n",
              "    </div>\n",
              "  </div>\n",
              "  "
            ]
          },
          "metadata": {},
          "execution_count": 69
        }
      ]
    },
    {
      "cell_type": "code",
      "source": [
        "df_from_series.columns"
      ],
      "metadata": {
        "colab": {
          "base_uri": "https://localhost:8080/"
        },
        "id": "NOQ_nHiSkukP",
        "outputId": "3ec2d578-604b-4248-d4ae-472be3453d8b"
      },
      "execution_count": null,
      "outputs": [
        {
          "output_type": "execute_result",
          "data": {
            "text/plain": [
              "Index(['c1', 'c2'], dtype='object')"
            ]
          },
          "metadata": {},
          "execution_count": 70
        }
      ]
    },
    {
      "cell_type": "code",
      "source": [
        "df_from_series.index"
      ],
      "metadata": {
        "colab": {
          "base_uri": "https://localhost:8080/"
        },
        "id": "NFENQGSSlm8h",
        "outputId": "ce33964f-1aef-46fb-8a1c-f75d970c9efc"
      },
      "execution_count": null,
      "outputs": [
        {
          "output_type": "execute_result",
          "data": {
            "text/plain": [
              "Index(['r1', 'r2', 'r3'], dtype='object')"
            ]
          },
          "metadata": {},
          "execution_count": 71
        }
      ]
    },
    {
      "cell_type": "markdown",
      "source": [
        "#### Can I create a DataFrame from an ndarray?"
      ],
      "metadata": {
        "id": "tOnURc2ylued"
      }
    },
    {
      "cell_type": "code",
      "source": [
        "raw_values = np.arange(1, 7).reshape(2, -1)\n",
        "raw_values"
      ],
      "metadata": {
        "colab": {
          "base_uri": "https://localhost:8080/"
        },
        "id": "QDDv3JfVmGKg",
        "outputId": "b84538f5-1b65-47dd-f830-4404872ff342"
      },
      "execution_count": null,
      "outputs": [
        {
          "output_type": "execute_result",
          "data": {
            "text/plain": [
              "array([[1, 2, 3],\n",
              "       [4, 5, 6]])"
            ]
          },
          "metadata": {},
          "execution_count": 72
        }
      ]
    },
    {
      "cell_type": "code",
      "source": [
        "df_from_ndarray = pd.DataFrame(raw_values, columns=['A', 'B', 'C'])\n",
        "df_from_ndarray"
      ],
      "metadata": {
        "colab": {
          "base_uri": "https://localhost:8080/"
        },
        "id": "9jAZaBOJloiV",
        "outputId": "8f1342aa-cd62-4f2d-ab35-5bc5f01e3469"
      },
      "execution_count": null,
      "outputs": [
        {
          "output_type": "execute_result",
          "data": {
            "text/plain": [
              "   A  B  C\n",
              "0  1  2  3\n",
              "1  4  5  6"
            ],
            "text/html": [
              "\n",
              "  <div id=\"df-d5e15c92-5d54-4eb7-83a5-24f2dd564da9\">\n",
              "    <div class=\"colab-df-container\">\n",
              "      <div>\n",
              "<style scoped>\n",
              "    .dataframe tbody tr th:only-of-type {\n",
              "        vertical-align: middle;\n",
              "    }\n",
              "\n",
              "    .dataframe tbody tr th {\n",
              "        vertical-align: top;\n",
              "    }\n",
              "\n",
              "    .dataframe thead th {\n",
              "        text-align: right;\n",
              "    }\n",
              "</style>\n",
              "<table border=\"1\" class=\"dataframe\">\n",
              "  <thead>\n",
              "    <tr style=\"text-align: right;\">\n",
              "      <th></th>\n",
              "      <th>A</th>\n",
              "      <th>B</th>\n",
              "      <th>C</th>\n",
              "    </tr>\n",
              "  </thead>\n",
              "  <tbody>\n",
              "    <tr>\n",
              "      <th>0</th>\n",
              "      <td>1</td>\n",
              "      <td>2</td>\n",
              "      <td>3</td>\n",
              "    </tr>\n",
              "    <tr>\n",
              "      <th>1</th>\n",
              "      <td>4</td>\n",
              "      <td>5</td>\n",
              "      <td>6</td>\n",
              "    </tr>\n",
              "  </tbody>\n",
              "</table>\n",
              "</div>\n",
              "      <button class=\"colab-df-convert\" onclick=\"convertToInteractive('df-d5e15c92-5d54-4eb7-83a5-24f2dd564da9')\"\n",
              "              title=\"Convert this dataframe to an interactive table.\"\n",
              "              style=\"display:none;\">\n",
              "        \n",
              "  <svg xmlns=\"http://www.w3.org/2000/svg\" height=\"24px\"viewBox=\"0 0 24 24\"\n",
              "       width=\"24px\">\n",
              "    <path d=\"M0 0h24v24H0V0z\" fill=\"none\"/>\n",
              "    <path d=\"M18.56 5.44l.94 2.06.94-2.06 2.06-.94-2.06-.94-.94-2.06-.94 2.06-2.06.94zm-11 1L8.5 8.5l.94-2.06 2.06-.94-2.06-.94L8.5 2.5l-.94 2.06-2.06.94zm10 10l.94 2.06.94-2.06 2.06-.94-2.06-.94-.94-2.06-.94 2.06-2.06.94z\"/><path d=\"M17.41 7.96l-1.37-1.37c-.4-.4-.92-.59-1.43-.59-.52 0-1.04.2-1.43.59L10.3 9.45l-7.72 7.72c-.78.78-.78 2.05 0 2.83L4 21.41c.39.39.9.59 1.41.59.51 0 1.02-.2 1.41-.59l7.78-7.78 2.81-2.81c.8-.78.8-2.07 0-2.86zM5.41 20L4 18.59l7.72-7.72 1.47 1.35L5.41 20z\"/>\n",
              "  </svg>\n",
              "      </button>\n",
              "      \n",
              "  <style>\n",
              "    .colab-df-container {\n",
              "      display:flex;\n",
              "      flex-wrap:wrap;\n",
              "      gap: 12px;\n",
              "    }\n",
              "\n",
              "    .colab-df-convert {\n",
              "      background-color: #E8F0FE;\n",
              "      border: none;\n",
              "      border-radius: 50%;\n",
              "      cursor: pointer;\n",
              "      display: none;\n",
              "      fill: #1967D2;\n",
              "      height: 32px;\n",
              "      padding: 0 0 0 0;\n",
              "      width: 32px;\n",
              "    }\n",
              "\n",
              "    .colab-df-convert:hover {\n",
              "      background-color: #E2EBFA;\n",
              "      box-shadow: 0px 1px 2px rgba(60, 64, 67, 0.3), 0px 1px 3px 1px rgba(60, 64, 67, 0.15);\n",
              "      fill: #174EA6;\n",
              "    }\n",
              "\n",
              "    [theme=dark] .colab-df-convert {\n",
              "      background-color: #3B4455;\n",
              "      fill: #D2E3FC;\n",
              "    }\n",
              "\n",
              "    [theme=dark] .colab-df-convert:hover {\n",
              "      background-color: #434B5C;\n",
              "      box-shadow: 0px 1px 3px 1px rgba(0, 0, 0, 0.15);\n",
              "      filter: drop-shadow(0px 1px 2px rgba(0, 0, 0, 0.3));\n",
              "      fill: #FFFFFF;\n",
              "    }\n",
              "  </style>\n",
              "\n",
              "      <script>\n",
              "        const buttonEl =\n",
              "          document.querySelector('#df-d5e15c92-5d54-4eb7-83a5-24f2dd564da9 button.colab-df-convert');\n",
              "        buttonEl.style.display =\n",
              "          google.colab.kernel.accessAllowed ? 'block' : 'none';\n",
              "\n",
              "        async function convertToInteractive(key) {\n",
              "          const element = document.querySelector('#df-d5e15c92-5d54-4eb7-83a5-24f2dd564da9');\n",
              "          const dataTable =\n",
              "            await google.colab.kernel.invokeFunction('convertToInteractive',\n",
              "                                                     [key], {});\n",
              "          if (!dataTable) return;\n",
              "\n",
              "          const docLinkHtml = 'Like what you see? Visit the ' +\n",
              "            '<a target=\"_blank\" href=https://colab.research.google.com/notebooks/data_table.ipynb>data table notebook</a>'\n",
              "            + ' to learn more about interactive tables.';\n",
              "          element.innerHTML = '';\n",
              "          dataTable['output_type'] = 'display_data';\n",
              "          await google.colab.output.renderOutput(dataTable, element);\n",
              "          const docLink = document.createElement('div');\n",
              "          docLink.innerHTML = docLinkHtml;\n",
              "          element.appendChild(docLink);\n",
              "        }\n",
              "      </script>\n",
              "    </div>\n",
              "  </div>\n",
              "  "
            ]
          },
          "metadata": {},
          "execution_count": 73
        }
      ]
    },
    {
      "cell_type": "markdown",
      "source": [
        "To recover the raw values from a `DataFrame`:"
      ],
      "metadata": {
        "id": "uK3s5dmuon7c"
      }
    },
    {
      "cell_type": "code",
      "source": [
        "df_from_ndarray.values"
      ],
      "metadata": {
        "colab": {
          "base_uri": "https://localhost:8080/"
        },
        "id": "pYlo3Ec7oCzq",
        "outputId": "0486aee5-1bed-4f4b-d9e5-72cae1b655d2"
      },
      "execution_count": null,
      "outputs": [
        {
          "output_type": "execute_result",
          "data": {
            "text/plain": [
              "array([[1, 2, 3],\n",
              "       [4, 5, 6]])"
            ]
          },
          "metadata": {},
          "execution_count": 74
        }
      ]
    },
    {
      "cell_type": "markdown",
      "source": [
        "#### Can I create a DataFrame from lists?"
      ],
      "metadata": {
        "id": "LKZJgFi9m1kL"
      }
    },
    {
      "cell_type": "code",
      "source": [
        "pd.DataFrame({\"ID\": [1, 2], \"Name\": [\"dog\", \"cat\"], \"Needs Walking\": [True, False]})"
      ],
      "metadata": {
        "colab": {
          "base_uri": "https://localhost:8080/"
        },
        "id": "8E02RfDEm6h3",
        "outputId": "c314ef38-05dc-4583-8d23-4ef3e35e16f7"
      },
      "execution_count": null,
      "outputs": [
        {
          "output_type": "execute_result",
          "data": {
            "text/plain": [
              "   ID Name  Needs Walking\n",
              "0   1  dog           True\n",
              "1   2  cat          False"
            ],
            "text/html": [
              "\n",
              "  <div id=\"df-8de22924-bb83-450f-9bf3-cb67dd5bb044\">\n",
              "    <div class=\"colab-df-container\">\n",
              "      <div>\n",
              "<style scoped>\n",
              "    .dataframe tbody tr th:only-of-type {\n",
              "        vertical-align: middle;\n",
              "    }\n",
              "\n",
              "    .dataframe tbody tr th {\n",
              "        vertical-align: top;\n",
              "    }\n",
              "\n",
              "    .dataframe thead th {\n",
              "        text-align: right;\n",
              "    }\n",
              "</style>\n",
              "<table border=\"1\" class=\"dataframe\">\n",
              "  <thead>\n",
              "    <tr style=\"text-align: right;\">\n",
              "      <th></th>\n",
              "      <th>ID</th>\n",
              "      <th>Name</th>\n",
              "      <th>Needs Walking</th>\n",
              "    </tr>\n",
              "  </thead>\n",
              "  <tbody>\n",
              "    <tr>\n",
              "      <th>0</th>\n",
              "      <td>1</td>\n",
              "      <td>dog</td>\n",
              "      <td>True</td>\n",
              "    </tr>\n",
              "    <tr>\n",
              "      <th>1</th>\n",
              "      <td>2</td>\n",
              "      <td>cat</td>\n",
              "      <td>False</td>\n",
              "    </tr>\n",
              "  </tbody>\n",
              "</table>\n",
              "</div>\n",
              "      <button class=\"colab-df-convert\" onclick=\"convertToInteractive('df-8de22924-bb83-450f-9bf3-cb67dd5bb044')\"\n",
              "              title=\"Convert this dataframe to an interactive table.\"\n",
              "              style=\"display:none;\">\n",
              "        \n",
              "  <svg xmlns=\"http://www.w3.org/2000/svg\" height=\"24px\"viewBox=\"0 0 24 24\"\n",
              "       width=\"24px\">\n",
              "    <path d=\"M0 0h24v24H0V0z\" fill=\"none\"/>\n",
              "    <path d=\"M18.56 5.44l.94 2.06.94-2.06 2.06-.94-2.06-.94-.94-2.06-.94 2.06-2.06.94zm-11 1L8.5 8.5l.94-2.06 2.06-.94-2.06-.94L8.5 2.5l-.94 2.06-2.06.94zm10 10l.94 2.06.94-2.06 2.06-.94-2.06-.94-.94-2.06-.94 2.06-2.06.94z\"/><path d=\"M17.41 7.96l-1.37-1.37c-.4-.4-.92-.59-1.43-.59-.52 0-1.04.2-1.43.59L10.3 9.45l-7.72 7.72c-.78.78-.78 2.05 0 2.83L4 21.41c.39.39.9.59 1.41.59.51 0 1.02-.2 1.41-.59l7.78-7.78 2.81-2.81c.8-.78.8-2.07 0-2.86zM5.41 20L4 18.59l7.72-7.72 1.47 1.35L5.41 20z\"/>\n",
              "  </svg>\n",
              "      </button>\n",
              "      \n",
              "  <style>\n",
              "    .colab-df-container {\n",
              "      display:flex;\n",
              "      flex-wrap:wrap;\n",
              "      gap: 12px;\n",
              "    }\n",
              "\n",
              "    .colab-df-convert {\n",
              "      background-color: #E8F0FE;\n",
              "      border: none;\n",
              "      border-radius: 50%;\n",
              "      cursor: pointer;\n",
              "      display: none;\n",
              "      fill: #1967D2;\n",
              "      height: 32px;\n",
              "      padding: 0 0 0 0;\n",
              "      width: 32px;\n",
              "    }\n",
              "\n",
              "    .colab-df-convert:hover {\n",
              "      background-color: #E2EBFA;\n",
              "      box-shadow: 0px 1px 2px rgba(60, 64, 67, 0.3), 0px 1px 3px 1px rgba(60, 64, 67, 0.15);\n",
              "      fill: #174EA6;\n",
              "    }\n",
              "\n",
              "    [theme=dark] .colab-df-convert {\n",
              "      background-color: #3B4455;\n",
              "      fill: #D2E3FC;\n",
              "    }\n",
              "\n",
              "    [theme=dark] .colab-df-convert:hover {\n",
              "      background-color: #434B5C;\n",
              "      box-shadow: 0px 1px 3px 1px rgba(0, 0, 0, 0.15);\n",
              "      filter: drop-shadow(0px 1px 2px rgba(0, 0, 0, 0.3));\n",
              "      fill: #FFFFFF;\n",
              "    }\n",
              "  </style>\n",
              "\n",
              "      <script>\n",
              "        const buttonEl =\n",
              "          document.querySelector('#df-8de22924-bb83-450f-9bf3-cb67dd5bb044 button.colab-df-convert');\n",
              "        buttonEl.style.display =\n",
              "          google.colab.kernel.accessAllowed ? 'block' : 'none';\n",
              "\n",
              "        async function convertToInteractive(key) {\n",
              "          const element = document.querySelector('#df-8de22924-bb83-450f-9bf3-cb67dd5bb044');\n",
              "          const dataTable =\n",
              "            await google.colab.kernel.invokeFunction('convertToInteractive',\n",
              "                                                     [key], {});\n",
              "          if (!dataTable) return;\n",
              "\n",
              "          const docLinkHtml = 'Like what you see? Visit the ' +\n",
              "            '<a target=\"_blank\" href=https://colab.research.google.com/notebooks/data_table.ipynb>data table notebook</a>'\n",
              "            + ' to learn more about interactive tables.';\n",
              "          element.innerHTML = '';\n",
              "          dataTable['output_type'] = 'display_data';\n",
              "          await google.colab.output.renderOutput(dataTable, element);\n",
              "          const docLink = document.createElement('div');\n",
              "          docLink.innerHTML = docLinkHtml;\n",
              "          element.appendChild(docLink);\n",
              "        }\n",
              "      </script>\n",
              "    </div>\n",
              "  </div>\n",
              "  "
            ]
          },
          "metadata": {},
          "execution_count": 75
        }
      ]
    },
    {
      "cell_type": "markdown",
      "source": [
        "#### Can I create a DataFrame from a file?"
      ],
      "metadata": {
        "id": "urMFL5Q3pDsW"
      }
    },
    {
      "cell_type": "code",
      "source": [
        "file_url = 'https://raw.githubusercontent.com/worldbank/dec-python-course/main/1-foundations/3-numpy-and-pandas/data/Singapore_Annual_New_Car_Registrations_by_make_type.csv'\n",
        "singapore_cars = pd.read_csv(file_url)\n",
        "singapore_cars"
      ],
      "metadata": {
        "colab": {
          "base_uri": "https://localhost:8080/"
        },
        "id": "_ZPpStkhpbZn",
        "outputId": "86467110-3165-4481-fd06-bdf6bb5df867"
      },
      "execution_count": null,
      "outputs": [
        {
          "output_type": "execute_result",
          "data": {
            "text/plain": [
              "      year          make    fuel                type  number\n",
              "0     2015    ALFA ROMEO  Petrol           Hatchback    29.0\n",
              "1     2015  ASTON MARTIN  Petrol           Hatchback     3.0\n",
              "2     2015          AUDI  Petrol           Hatchback   262.0\n",
              "3     2015        AUSTIN  Petrol           Hatchback     1.0\n",
              "4     2015        B.M.W.  Petrol           Hatchback   408.0\n",
              "...    ...           ...     ...                 ...     ...\n",
              "2805  2021        TOYOTA  Others  Coupe/ Convertible     NaN\n",
              "2806  2021    VOLKSWAGEN  Petrol  Coupe/ Convertible     2.0\n",
              "2807  2021    VOLKSWAGEN  Others  Coupe/ Convertible     1.0\n",
              "2808  2021         VOLVO  Petrol  Coupe/ Convertible     2.0\n",
              "2809  2021         VOLVO  Others  Coupe/ Convertible     NaN\n",
              "\n",
              "[2810 rows x 5 columns]"
            ],
            "text/html": [
              "\n",
              "  <div id=\"df-bea510b8-abe5-4532-9d1c-4bab4a32b6b9\">\n",
              "    <div class=\"colab-df-container\">\n",
              "      <div>\n",
              "<style scoped>\n",
              "    .dataframe tbody tr th:only-of-type {\n",
              "        vertical-align: middle;\n",
              "    }\n",
              "\n",
              "    .dataframe tbody tr th {\n",
              "        vertical-align: top;\n",
              "    }\n",
              "\n",
              "    .dataframe thead th {\n",
              "        text-align: right;\n",
              "    }\n",
              "</style>\n",
              "<table border=\"1\" class=\"dataframe\">\n",
              "  <thead>\n",
              "    <tr style=\"text-align: right;\">\n",
              "      <th></th>\n",
              "      <th>year</th>\n",
              "      <th>make</th>\n",
              "      <th>fuel</th>\n",
              "      <th>type</th>\n",
              "      <th>number</th>\n",
              "    </tr>\n",
              "  </thead>\n",
              "  <tbody>\n",
              "    <tr>\n",
              "      <th>0</th>\n",
              "      <td>2015</td>\n",
              "      <td>ALFA ROMEO</td>\n",
              "      <td>Petrol</td>\n",
              "      <td>Hatchback</td>\n",
              "      <td>29.0</td>\n",
              "    </tr>\n",
              "    <tr>\n",
              "      <th>1</th>\n",
              "      <td>2015</td>\n",
              "      <td>ASTON MARTIN</td>\n",
              "      <td>Petrol</td>\n",
              "      <td>Hatchback</td>\n",
              "      <td>3.0</td>\n",
              "    </tr>\n",
              "    <tr>\n",
              "      <th>2</th>\n",
              "      <td>2015</td>\n",
              "      <td>AUDI</td>\n",
              "      <td>Petrol</td>\n",
              "      <td>Hatchback</td>\n",
              "      <td>262.0</td>\n",
              "    </tr>\n",
              "    <tr>\n",
              "      <th>3</th>\n",
              "      <td>2015</td>\n",
              "      <td>AUSTIN</td>\n",
              "      <td>Petrol</td>\n",
              "      <td>Hatchback</td>\n",
              "      <td>1.0</td>\n",
              "    </tr>\n",
              "    <tr>\n",
              "      <th>4</th>\n",
              "      <td>2015</td>\n",
              "      <td>B.M.W.</td>\n",
              "      <td>Petrol</td>\n",
              "      <td>Hatchback</td>\n",
              "      <td>408.0</td>\n",
              "    </tr>\n",
              "    <tr>\n",
              "      <th>...</th>\n",
              "      <td>...</td>\n",
              "      <td>...</td>\n",
              "      <td>...</td>\n",
              "      <td>...</td>\n",
              "      <td>...</td>\n",
              "    </tr>\n",
              "    <tr>\n",
              "      <th>2805</th>\n",
              "      <td>2021</td>\n",
              "      <td>TOYOTA</td>\n",
              "      <td>Others</td>\n",
              "      <td>Coupe/ Convertible</td>\n",
              "      <td>NaN</td>\n",
              "    </tr>\n",
              "    <tr>\n",
              "      <th>2806</th>\n",
              "      <td>2021</td>\n",
              "      <td>VOLKSWAGEN</td>\n",
              "      <td>Petrol</td>\n",
              "      <td>Coupe/ Convertible</td>\n",
              "      <td>2.0</td>\n",
              "    </tr>\n",
              "    <tr>\n",
              "      <th>2807</th>\n",
              "      <td>2021</td>\n",
              "      <td>VOLKSWAGEN</td>\n",
              "      <td>Others</td>\n",
              "      <td>Coupe/ Convertible</td>\n",
              "      <td>1.0</td>\n",
              "    </tr>\n",
              "    <tr>\n",
              "      <th>2808</th>\n",
              "      <td>2021</td>\n",
              "      <td>VOLVO</td>\n",
              "      <td>Petrol</td>\n",
              "      <td>Coupe/ Convertible</td>\n",
              "      <td>2.0</td>\n",
              "    </tr>\n",
              "    <tr>\n",
              "      <th>2809</th>\n",
              "      <td>2021</td>\n",
              "      <td>VOLVO</td>\n",
              "      <td>Others</td>\n",
              "      <td>Coupe/ Convertible</td>\n",
              "      <td>NaN</td>\n",
              "    </tr>\n",
              "  </tbody>\n",
              "</table>\n",
              "<p>2810 rows × 5 columns</p>\n",
              "</div>\n",
              "      <button class=\"colab-df-convert\" onclick=\"convertToInteractive('df-bea510b8-abe5-4532-9d1c-4bab4a32b6b9')\"\n",
              "              title=\"Convert this dataframe to an interactive table.\"\n",
              "              style=\"display:none;\">\n",
              "        \n",
              "  <svg xmlns=\"http://www.w3.org/2000/svg\" height=\"24px\"viewBox=\"0 0 24 24\"\n",
              "       width=\"24px\">\n",
              "    <path d=\"M0 0h24v24H0V0z\" fill=\"none\"/>\n",
              "    <path d=\"M18.56 5.44l.94 2.06.94-2.06 2.06-.94-2.06-.94-.94-2.06-.94 2.06-2.06.94zm-11 1L8.5 8.5l.94-2.06 2.06-.94-2.06-.94L8.5 2.5l-.94 2.06-2.06.94zm10 10l.94 2.06.94-2.06 2.06-.94-2.06-.94-.94-2.06-.94 2.06-2.06.94z\"/><path d=\"M17.41 7.96l-1.37-1.37c-.4-.4-.92-.59-1.43-.59-.52 0-1.04.2-1.43.59L10.3 9.45l-7.72 7.72c-.78.78-.78 2.05 0 2.83L4 21.41c.39.39.9.59 1.41.59.51 0 1.02-.2 1.41-.59l7.78-7.78 2.81-2.81c.8-.78.8-2.07 0-2.86zM5.41 20L4 18.59l7.72-7.72 1.47 1.35L5.41 20z\"/>\n",
              "  </svg>\n",
              "      </button>\n",
              "      \n",
              "  <style>\n",
              "    .colab-df-container {\n",
              "      display:flex;\n",
              "      flex-wrap:wrap;\n",
              "      gap: 12px;\n",
              "    }\n",
              "\n",
              "    .colab-df-convert {\n",
              "      background-color: #E8F0FE;\n",
              "      border: none;\n",
              "      border-radius: 50%;\n",
              "      cursor: pointer;\n",
              "      display: none;\n",
              "      fill: #1967D2;\n",
              "      height: 32px;\n",
              "      padding: 0 0 0 0;\n",
              "      width: 32px;\n",
              "    }\n",
              "\n",
              "    .colab-df-convert:hover {\n",
              "      background-color: #E2EBFA;\n",
              "      box-shadow: 0px 1px 2px rgba(60, 64, 67, 0.3), 0px 1px 3px 1px rgba(60, 64, 67, 0.15);\n",
              "      fill: #174EA6;\n",
              "    }\n",
              "\n",
              "    [theme=dark] .colab-df-convert {\n",
              "      background-color: #3B4455;\n",
              "      fill: #D2E3FC;\n",
              "    }\n",
              "\n",
              "    [theme=dark] .colab-df-convert:hover {\n",
              "      background-color: #434B5C;\n",
              "      box-shadow: 0px 1px 3px 1px rgba(0, 0, 0, 0.15);\n",
              "      filter: drop-shadow(0px 1px 2px rgba(0, 0, 0, 0.3));\n",
              "      fill: #FFFFFF;\n",
              "    }\n",
              "  </style>\n",
              "\n",
              "      <script>\n",
              "        const buttonEl =\n",
              "          document.querySelector('#df-bea510b8-abe5-4532-9d1c-4bab4a32b6b9 button.colab-df-convert');\n",
              "        buttonEl.style.display =\n",
              "          google.colab.kernel.accessAllowed ? 'block' : 'none';\n",
              "\n",
              "        async function convertToInteractive(key) {\n",
              "          const element = document.querySelector('#df-bea510b8-abe5-4532-9d1c-4bab4a32b6b9');\n",
              "          const dataTable =\n",
              "            await google.colab.kernel.invokeFunction('convertToInteractive',\n",
              "                                                     [key], {});\n",
              "          if (!dataTable) return;\n",
              "\n",
              "          const docLinkHtml = 'Like what you see? Visit the ' +\n",
              "            '<a target=\"_blank\" href=https://colab.research.google.com/notebooks/data_table.ipynb>data table notebook</a>'\n",
              "            + ' to learn more about interactive tables.';\n",
              "          element.innerHTML = '';\n",
              "          dataTable['output_type'] = 'display_data';\n",
              "          await google.colab.output.renderOutput(dataTable, element);\n",
              "          const docLink = document.createElement('div');\n",
              "          docLink.innerHTML = docLinkHtml;\n",
              "          element.appendChild(docLink);\n",
              "        }\n",
              "      </script>\n",
              "    </div>\n",
              "  </div>\n",
              "  "
            ]
          },
          "metadata": {},
          "execution_count": 76
        }
      ]
    },
    {
      "cell_type": "markdown",
      "source": [
        "To save a `DataFrame` as a csv file:"
      ],
      "metadata": {
        "id": "fB1MkhQ4vBqt"
      }
    },
    {
      "cell_type": "code",
      "source": [
        "singapore_cars.to_csv('singapore_cars.csv')"
      ],
      "metadata": {
        "id": "VKPBAO7At7hB"
      },
      "execution_count": null,
      "outputs": []
    },
    {
      "cell_type": "markdown",
      "source": [
        "In Colab, navigate to the folder icon in the left pane to find and download the exported csv file. "
      ],
      "metadata": {
        "id": "NF6ESucbv3sQ"
      }
    },
    {
      "cell_type": "markdown",
      "source": [
        "### 3.2.2. Inspecting the data\n",
        "\n",
        "Now let's perform some basic inspection to understand our dataset."
      ],
      "metadata": {
        "id": "jPPh4jhhw2uR"
      }
    },
    {
      "cell_type": "markdown",
      "source": [
        "#### How many rows and columns?"
      ],
      "metadata": {
        "id": "Lkl2tIOzxmVE"
      }
    },
    {
      "cell_type": "code",
      "source": [
        "singapore_cars.shape"
      ],
      "metadata": {
        "colab": {
          "base_uri": "https://localhost:8080/"
        },
        "id": "A_skn1V2xH2z",
        "outputId": "4af40bf8-a113-4dc2-a736-f18b8a9e98ac"
      },
      "execution_count": null,
      "outputs": [
        {
          "output_type": "execute_result",
          "data": {
            "text/plain": [
              "(2810, 5)"
            ]
          },
          "metadata": {},
          "execution_count": 78
        }
      ]
    },
    {
      "cell_type": "code",
      "source": [
        "nrow, ncol = singapore_cars.shape\n",
        "print(f'nrow={nrow}, ncol={ncol}')"
      ],
      "metadata": {
        "colab": {
          "base_uri": "https://localhost:8080/"
        },
        "id": "6NNO7EXXzptW",
        "outputId": "cc7cb3b0-9f4e-4d06-e712-b3ef35927352"
      },
      "execution_count": null,
      "outputs": [
        {
          "output_type": "stream",
          "name": "stdout",
          "text": [
            "nrow=2810, ncol=5\n"
          ]
        }
      ]
    },
    {
      "cell_type": "markdown",
      "source": [
        "#### What are the column names?"
      ],
      "metadata": {
        "id": "4P7htLGvxs7N"
      }
    },
    {
      "cell_type": "code",
      "source": [
        "singapore_cars.columns"
      ],
      "metadata": {
        "colab": {
          "base_uri": "https://localhost:8080/"
        },
        "id": "kzHsABg4xKwB",
        "outputId": "858a0007-69e2-41ae-b2db-7ccd9840c451"
      },
      "execution_count": null,
      "outputs": [
        {
          "output_type": "execute_result",
          "data": {
            "text/plain": [
              "Index(['year', 'make', 'fuel', 'type', 'number'], dtype='object')"
            ]
          },
          "metadata": {},
          "execution_count": 80
        }
      ]
    },
    {
      "cell_type": "markdown",
      "source": [
        "#### What does the data look like?\n",
        "\n",
        "From the top:"
      ],
      "metadata": {
        "id": "XXxyBZVoyE16"
      }
    },
    {
      "cell_type": "code",
      "source": [
        "singapore_cars.head()"
      ],
      "metadata": {
        "colab": {
          "base_uri": "https://localhost:8080/"
        },
        "id": "WsU42CC8yKTc",
        "outputId": "5d4489d3-7eaf-4f48-e755-8c4fa8670013"
      },
      "execution_count": null,
      "outputs": [
        {
          "output_type": "execute_result",
          "data": {
            "text/plain": [
              "   year          make    fuel       type  number\n",
              "0  2015    ALFA ROMEO  Petrol  Hatchback    29.0\n",
              "1  2015  ASTON MARTIN  Petrol  Hatchback     3.0\n",
              "2  2015          AUDI  Petrol  Hatchback   262.0\n",
              "3  2015        AUSTIN  Petrol  Hatchback     1.0\n",
              "4  2015        B.M.W.  Petrol  Hatchback   408.0"
            ],
            "text/html": [
              "\n",
              "  <div id=\"df-52f05b65-169a-4883-9d16-2be43d8bef73\">\n",
              "    <div class=\"colab-df-container\">\n",
              "      <div>\n",
              "<style scoped>\n",
              "    .dataframe tbody tr th:only-of-type {\n",
              "        vertical-align: middle;\n",
              "    }\n",
              "\n",
              "    .dataframe tbody tr th {\n",
              "        vertical-align: top;\n",
              "    }\n",
              "\n",
              "    .dataframe thead th {\n",
              "        text-align: right;\n",
              "    }\n",
              "</style>\n",
              "<table border=\"1\" class=\"dataframe\">\n",
              "  <thead>\n",
              "    <tr style=\"text-align: right;\">\n",
              "      <th></th>\n",
              "      <th>year</th>\n",
              "      <th>make</th>\n",
              "      <th>fuel</th>\n",
              "      <th>type</th>\n",
              "      <th>number</th>\n",
              "    </tr>\n",
              "  </thead>\n",
              "  <tbody>\n",
              "    <tr>\n",
              "      <th>0</th>\n",
              "      <td>2015</td>\n",
              "      <td>ALFA ROMEO</td>\n",
              "      <td>Petrol</td>\n",
              "      <td>Hatchback</td>\n",
              "      <td>29.0</td>\n",
              "    </tr>\n",
              "    <tr>\n",
              "      <th>1</th>\n",
              "      <td>2015</td>\n",
              "      <td>ASTON MARTIN</td>\n",
              "      <td>Petrol</td>\n",
              "      <td>Hatchback</td>\n",
              "      <td>3.0</td>\n",
              "    </tr>\n",
              "    <tr>\n",
              "      <th>2</th>\n",
              "      <td>2015</td>\n",
              "      <td>AUDI</td>\n",
              "      <td>Petrol</td>\n",
              "      <td>Hatchback</td>\n",
              "      <td>262.0</td>\n",
              "    </tr>\n",
              "    <tr>\n",
              "      <th>3</th>\n",
              "      <td>2015</td>\n",
              "      <td>AUSTIN</td>\n",
              "      <td>Petrol</td>\n",
              "      <td>Hatchback</td>\n",
              "      <td>1.0</td>\n",
              "    </tr>\n",
              "    <tr>\n",
              "      <th>4</th>\n",
              "      <td>2015</td>\n",
              "      <td>B.M.W.</td>\n",
              "      <td>Petrol</td>\n",
              "      <td>Hatchback</td>\n",
              "      <td>408.0</td>\n",
              "    </tr>\n",
              "  </tbody>\n",
              "</table>\n",
              "</div>\n",
              "      <button class=\"colab-df-convert\" onclick=\"convertToInteractive('df-52f05b65-169a-4883-9d16-2be43d8bef73')\"\n",
              "              title=\"Convert this dataframe to an interactive table.\"\n",
              "              style=\"display:none;\">\n",
              "        \n",
              "  <svg xmlns=\"http://www.w3.org/2000/svg\" height=\"24px\"viewBox=\"0 0 24 24\"\n",
              "       width=\"24px\">\n",
              "    <path d=\"M0 0h24v24H0V0z\" fill=\"none\"/>\n",
              "    <path d=\"M18.56 5.44l.94 2.06.94-2.06 2.06-.94-2.06-.94-.94-2.06-.94 2.06-2.06.94zm-11 1L8.5 8.5l.94-2.06 2.06-.94-2.06-.94L8.5 2.5l-.94 2.06-2.06.94zm10 10l.94 2.06.94-2.06 2.06-.94-2.06-.94-.94-2.06-.94 2.06-2.06.94z\"/><path d=\"M17.41 7.96l-1.37-1.37c-.4-.4-.92-.59-1.43-.59-.52 0-1.04.2-1.43.59L10.3 9.45l-7.72 7.72c-.78.78-.78 2.05 0 2.83L4 21.41c.39.39.9.59 1.41.59.51 0 1.02-.2 1.41-.59l7.78-7.78 2.81-2.81c.8-.78.8-2.07 0-2.86zM5.41 20L4 18.59l7.72-7.72 1.47 1.35L5.41 20z\"/>\n",
              "  </svg>\n",
              "      </button>\n",
              "      \n",
              "  <style>\n",
              "    .colab-df-container {\n",
              "      display:flex;\n",
              "      flex-wrap:wrap;\n",
              "      gap: 12px;\n",
              "    }\n",
              "\n",
              "    .colab-df-convert {\n",
              "      background-color: #E8F0FE;\n",
              "      border: none;\n",
              "      border-radius: 50%;\n",
              "      cursor: pointer;\n",
              "      display: none;\n",
              "      fill: #1967D2;\n",
              "      height: 32px;\n",
              "      padding: 0 0 0 0;\n",
              "      width: 32px;\n",
              "    }\n",
              "\n",
              "    .colab-df-convert:hover {\n",
              "      background-color: #E2EBFA;\n",
              "      box-shadow: 0px 1px 2px rgba(60, 64, 67, 0.3), 0px 1px 3px 1px rgba(60, 64, 67, 0.15);\n",
              "      fill: #174EA6;\n",
              "    }\n",
              "\n",
              "    [theme=dark] .colab-df-convert {\n",
              "      background-color: #3B4455;\n",
              "      fill: #D2E3FC;\n",
              "    }\n",
              "\n",
              "    [theme=dark] .colab-df-convert:hover {\n",
              "      background-color: #434B5C;\n",
              "      box-shadow: 0px 1px 3px 1px rgba(0, 0, 0, 0.15);\n",
              "      filter: drop-shadow(0px 1px 2px rgba(0, 0, 0, 0.3));\n",
              "      fill: #FFFFFF;\n",
              "    }\n",
              "  </style>\n",
              "\n",
              "      <script>\n",
              "        const buttonEl =\n",
              "          document.querySelector('#df-52f05b65-169a-4883-9d16-2be43d8bef73 button.colab-df-convert');\n",
              "        buttonEl.style.display =\n",
              "          google.colab.kernel.accessAllowed ? 'block' : 'none';\n",
              "\n",
              "        async function convertToInteractive(key) {\n",
              "          const element = document.querySelector('#df-52f05b65-169a-4883-9d16-2be43d8bef73');\n",
              "          const dataTable =\n",
              "            await google.colab.kernel.invokeFunction('convertToInteractive',\n",
              "                                                     [key], {});\n",
              "          if (!dataTable) return;\n",
              "\n",
              "          const docLinkHtml = 'Like what you see? Visit the ' +\n",
              "            '<a target=\"_blank\" href=https://colab.research.google.com/notebooks/data_table.ipynb>data table notebook</a>'\n",
              "            + ' to learn more about interactive tables.';\n",
              "          element.innerHTML = '';\n",
              "          dataTable['output_type'] = 'display_data';\n",
              "          await google.colab.output.renderOutput(dataTable, element);\n",
              "          const docLink = document.createElement('div');\n",
              "          docLink.innerHTML = docLinkHtml;\n",
              "          element.appendChild(docLink);\n",
              "        }\n",
              "      </script>\n",
              "    </div>\n",
              "  </div>\n",
              "  "
            ]
          },
          "metadata": {},
          "execution_count": 81
        }
      ]
    },
    {
      "cell_type": "markdown",
      "source": [
        "From the bottom:"
      ],
      "metadata": {
        "id": "52ELu1E5x0GV"
      }
    },
    {
      "cell_type": "code",
      "source": [
        "# Optionally specify the exact number of rows you want\n",
        "singapore_cars.tail(3)"
      ],
      "metadata": {
        "colab": {
          "base_uri": "https://localhost:8080/"
        },
        "id": "_QaUtw33ySXz",
        "outputId": "f3465e92-a365-4e6b-c4e0-1579ea891ec5"
      },
      "execution_count": null,
      "outputs": [
        {
          "output_type": "execute_result",
          "data": {
            "text/plain": [
              "      year        make    fuel                type  number\n",
              "2807  2021  VOLKSWAGEN  Others  Coupe/ Convertible     1.0\n",
              "2808  2021       VOLVO  Petrol  Coupe/ Convertible     2.0\n",
              "2809  2021       VOLVO  Others  Coupe/ Convertible     NaN"
            ],
            "text/html": [
              "\n",
              "  <div id=\"df-e0ec3d6f-5c5d-4bf2-a72a-2d0fb79d6d4a\">\n",
              "    <div class=\"colab-df-container\">\n",
              "      <div>\n",
              "<style scoped>\n",
              "    .dataframe tbody tr th:only-of-type {\n",
              "        vertical-align: middle;\n",
              "    }\n",
              "\n",
              "    .dataframe tbody tr th {\n",
              "        vertical-align: top;\n",
              "    }\n",
              "\n",
              "    .dataframe thead th {\n",
              "        text-align: right;\n",
              "    }\n",
              "</style>\n",
              "<table border=\"1\" class=\"dataframe\">\n",
              "  <thead>\n",
              "    <tr style=\"text-align: right;\">\n",
              "      <th></th>\n",
              "      <th>year</th>\n",
              "      <th>make</th>\n",
              "      <th>fuel</th>\n",
              "      <th>type</th>\n",
              "      <th>number</th>\n",
              "    </tr>\n",
              "  </thead>\n",
              "  <tbody>\n",
              "    <tr>\n",
              "      <th>2807</th>\n",
              "      <td>2021</td>\n",
              "      <td>VOLKSWAGEN</td>\n",
              "      <td>Others</td>\n",
              "      <td>Coupe/ Convertible</td>\n",
              "      <td>1.0</td>\n",
              "    </tr>\n",
              "    <tr>\n",
              "      <th>2808</th>\n",
              "      <td>2021</td>\n",
              "      <td>VOLVO</td>\n",
              "      <td>Petrol</td>\n",
              "      <td>Coupe/ Convertible</td>\n",
              "      <td>2.0</td>\n",
              "    </tr>\n",
              "    <tr>\n",
              "      <th>2809</th>\n",
              "      <td>2021</td>\n",
              "      <td>VOLVO</td>\n",
              "      <td>Others</td>\n",
              "      <td>Coupe/ Convertible</td>\n",
              "      <td>NaN</td>\n",
              "    </tr>\n",
              "  </tbody>\n",
              "</table>\n",
              "</div>\n",
              "      <button class=\"colab-df-convert\" onclick=\"convertToInteractive('df-e0ec3d6f-5c5d-4bf2-a72a-2d0fb79d6d4a')\"\n",
              "              title=\"Convert this dataframe to an interactive table.\"\n",
              "              style=\"display:none;\">\n",
              "        \n",
              "  <svg xmlns=\"http://www.w3.org/2000/svg\" height=\"24px\"viewBox=\"0 0 24 24\"\n",
              "       width=\"24px\">\n",
              "    <path d=\"M0 0h24v24H0V0z\" fill=\"none\"/>\n",
              "    <path d=\"M18.56 5.44l.94 2.06.94-2.06 2.06-.94-2.06-.94-.94-2.06-.94 2.06-2.06.94zm-11 1L8.5 8.5l.94-2.06 2.06-.94-2.06-.94L8.5 2.5l-.94 2.06-2.06.94zm10 10l.94 2.06.94-2.06 2.06-.94-2.06-.94-.94-2.06-.94 2.06-2.06.94z\"/><path d=\"M17.41 7.96l-1.37-1.37c-.4-.4-.92-.59-1.43-.59-.52 0-1.04.2-1.43.59L10.3 9.45l-7.72 7.72c-.78.78-.78 2.05 0 2.83L4 21.41c.39.39.9.59 1.41.59.51 0 1.02-.2 1.41-.59l7.78-7.78 2.81-2.81c.8-.78.8-2.07 0-2.86zM5.41 20L4 18.59l7.72-7.72 1.47 1.35L5.41 20z\"/>\n",
              "  </svg>\n",
              "      </button>\n",
              "      \n",
              "  <style>\n",
              "    .colab-df-container {\n",
              "      display:flex;\n",
              "      flex-wrap:wrap;\n",
              "      gap: 12px;\n",
              "    }\n",
              "\n",
              "    .colab-df-convert {\n",
              "      background-color: #E8F0FE;\n",
              "      border: none;\n",
              "      border-radius: 50%;\n",
              "      cursor: pointer;\n",
              "      display: none;\n",
              "      fill: #1967D2;\n",
              "      height: 32px;\n",
              "      padding: 0 0 0 0;\n",
              "      width: 32px;\n",
              "    }\n",
              "\n",
              "    .colab-df-convert:hover {\n",
              "      background-color: #E2EBFA;\n",
              "      box-shadow: 0px 1px 2px rgba(60, 64, 67, 0.3), 0px 1px 3px 1px rgba(60, 64, 67, 0.15);\n",
              "      fill: #174EA6;\n",
              "    }\n",
              "\n",
              "    [theme=dark] .colab-df-convert {\n",
              "      background-color: #3B4455;\n",
              "      fill: #D2E3FC;\n",
              "    }\n",
              "\n",
              "    [theme=dark] .colab-df-convert:hover {\n",
              "      background-color: #434B5C;\n",
              "      box-shadow: 0px 1px 3px 1px rgba(0, 0, 0, 0.15);\n",
              "      filter: drop-shadow(0px 1px 2px rgba(0, 0, 0, 0.3));\n",
              "      fill: #FFFFFF;\n",
              "    }\n",
              "  </style>\n",
              "\n",
              "      <script>\n",
              "        const buttonEl =\n",
              "          document.querySelector('#df-e0ec3d6f-5c5d-4bf2-a72a-2d0fb79d6d4a button.colab-df-convert');\n",
              "        buttonEl.style.display =\n",
              "          google.colab.kernel.accessAllowed ? 'block' : 'none';\n",
              "\n",
              "        async function convertToInteractive(key) {\n",
              "          const element = document.querySelector('#df-e0ec3d6f-5c5d-4bf2-a72a-2d0fb79d6d4a');\n",
              "          const dataTable =\n",
              "            await google.colab.kernel.invokeFunction('convertToInteractive',\n",
              "                                                     [key], {});\n",
              "          if (!dataTable) return;\n",
              "\n",
              "          const docLinkHtml = 'Like what you see? Visit the ' +\n",
              "            '<a target=\"_blank\" href=https://colab.research.google.com/notebooks/data_table.ipynb>data table notebook</a>'\n",
              "            + ' to learn more about interactive tables.';\n",
              "          element.innerHTML = '';\n",
              "          dataTable['output_type'] = 'display_data';\n",
              "          await google.colab.output.renderOutput(dataTable, element);\n",
              "          const docLink = document.createElement('div');\n",
              "          docLink.innerHTML = docLinkHtml;\n",
              "          element.appendChild(docLink);\n",
              "        }\n",
              "      </script>\n",
              "    </div>\n",
              "  </div>\n",
              "  "
            ]
          },
          "metadata": {},
          "execution_count": 82
        }
      ]
    },
    {
      "cell_type": "markdown",
      "source": [
        "#### What type of data does each column currently hold and how many missing values?\n"
      ],
      "metadata": {
        "id": "7dII_PI_y9uU"
      }
    },
    {
      "cell_type": "code",
      "source": [
        "singapore_cars.info()"
      ],
      "metadata": {
        "colab": {
          "base_uri": "https://localhost:8080/"
        },
        "id": "7vSbYN4zyXvK",
        "outputId": "c40d86ec-a8f7-494c-eb92-93eb251352d1"
      },
      "execution_count": null,
      "outputs": [
        {
          "output_type": "stream",
          "name": "stdout",
          "text": [
            "<class 'pandas.core.frame.DataFrame'>\n",
            "RangeIndex: 2810 entries, 0 to 2809\n",
            "Data columns (total 5 columns):\n",
            " #   Column  Non-Null Count  Dtype  \n",
            "---  ------  --------------  -----  \n",
            " 0   year    2810 non-null   int64  \n",
            " 1   make    2810 non-null   object \n",
            " 2   fuel    2810 non-null   object \n",
            " 3   type    2810 non-null   object \n",
            " 4   number  1432 non-null   float64\n",
            "dtypes: float64(1), int64(1), object(3)\n",
            "memory usage: 109.9+ KB\n"
          ]
        }
      ]
    },
    {
      "cell_type": "markdown",
      "source": [
        "### 3.2.3. Subsetting the data\n",
        "\n",
        "A crucial part of working with DataFrames is extracting subsets of the data: finding rows that meet a certain set of criteria, isolating columns/rows of interest, etc. After narrowing down our data, we are closer to discovering insights. This section will be the backbone of many analysis tasks."
      ],
      "metadata": {
        "id": "XHvC3_UM0kH8"
      }
    },
    {
      "cell_type": "markdown",
      "source": [
        "#### How to select columns?\n",
        "\n",
        "To select a single column (returns a `Series`):"
      ],
      "metadata": {
        "id": "gbJLFEtS03Mh"
      }
    },
    {
      "cell_type": "code",
      "source": [
        "singapore_cars.make"
      ],
      "metadata": {
        "colab": {
          "base_uri": "https://localhost:8080/"
        },
        "id": "Gz12xGUS0sSh",
        "outputId": "66af18b4-cf5b-48be-84d2-d5a25e0a0f67"
      },
      "execution_count": null,
      "outputs": [
        {
          "output_type": "execute_result",
          "data": {
            "text/plain": [
              "0         ALFA ROMEO\n",
              "1       ASTON MARTIN\n",
              "2               AUDI\n",
              "3             AUSTIN\n",
              "4             B.M.W.\n",
              "            ...     \n",
              "2805          TOYOTA\n",
              "2806      VOLKSWAGEN\n",
              "2807      VOLKSWAGEN\n",
              "2808           VOLVO\n",
              "2809           VOLVO\n",
              "Name: make, Length: 2810, dtype: object"
            ]
          },
          "metadata": {},
          "execution_count": 84
        }
      ]
    },
    {
      "cell_type": "code",
      "source": [
        "# Alternatively\n",
        "singapore_cars['make']"
      ],
      "metadata": {
        "colab": {
          "base_uri": "https://localhost:8080/"
        },
        "id": "aiZUCXXh1B1Q",
        "outputId": "6059073a-8ba9-439a-fe98-7e10370d0342"
      },
      "execution_count": null,
      "outputs": [
        {
          "output_type": "execute_result",
          "data": {
            "text/plain": [
              "0         ALFA ROMEO\n",
              "1       ASTON MARTIN\n",
              "2               AUDI\n",
              "3             AUSTIN\n",
              "4             B.M.W.\n",
              "            ...     \n",
              "2805          TOYOTA\n",
              "2806      VOLKSWAGEN\n",
              "2807      VOLKSWAGEN\n",
              "2808           VOLVO\n",
              "2809           VOLVO\n",
              "Name: make, Length: 2810, dtype: object"
            ]
          },
          "metadata": {},
          "execution_count": 85
        }
      ]
    },
    {
      "cell_type": "markdown",
      "source": [
        "The dictionary accessor is useful when the column name is not a valid Python variable, or when selecting multiple columns:"
      ],
      "metadata": {
        "id": "YcoiVUxz1GG_"
      }
    },
    {
      "cell_type": "code",
      "source": [
        "singapore_cars[['make', 'fuel', 'type']]"
      ],
      "metadata": {
        "colab": {
          "base_uri": "https://localhost:8080/"
        },
        "id": "fb6HCo5R1Er_",
        "outputId": "9e9b4f40-4db5-4ce0-c531-5e4d306c748e"
      },
      "execution_count": null,
      "outputs": [
        {
          "output_type": "execute_result",
          "data": {
            "text/plain": [
              "              make    fuel                type\n",
              "0       ALFA ROMEO  Petrol           Hatchback\n",
              "1     ASTON MARTIN  Petrol           Hatchback\n",
              "2             AUDI  Petrol           Hatchback\n",
              "3           AUSTIN  Petrol           Hatchback\n",
              "4           B.M.W.  Petrol           Hatchback\n",
              "...            ...     ...                 ...\n",
              "2805        TOYOTA  Others  Coupe/ Convertible\n",
              "2806    VOLKSWAGEN  Petrol  Coupe/ Convertible\n",
              "2807    VOLKSWAGEN  Others  Coupe/ Convertible\n",
              "2808         VOLVO  Petrol  Coupe/ Convertible\n",
              "2809         VOLVO  Others  Coupe/ Convertible\n",
              "\n",
              "[2810 rows x 3 columns]"
            ],
            "text/html": [
              "\n",
              "  <div id=\"df-de83aa4a-e2af-4ddf-8937-1556200a1ac3\">\n",
              "    <div class=\"colab-df-container\">\n",
              "      <div>\n",
              "<style scoped>\n",
              "    .dataframe tbody tr th:only-of-type {\n",
              "        vertical-align: middle;\n",
              "    }\n",
              "\n",
              "    .dataframe tbody tr th {\n",
              "        vertical-align: top;\n",
              "    }\n",
              "\n",
              "    .dataframe thead th {\n",
              "        text-align: right;\n",
              "    }\n",
              "</style>\n",
              "<table border=\"1\" class=\"dataframe\">\n",
              "  <thead>\n",
              "    <tr style=\"text-align: right;\">\n",
              "      <th></th>\n",
              "      <th>make</th>\n",
              "      <th>fuel</th>\n",
              "      <th>type</th>\n",
              "    </tr>\n",
              "  </thead>\n",
              "  <tbody>\n",
              "    <tr>\n",
              "      <th>0</th>\n",
              "      <td>ALFA ROMEO</td>\n",
              "      <td>Petrol</td>\n",
              "      <td>Hatchback</td>\n",
              "    </tr>\n",
              "    <tr>\n",
              "      <th>1</th>\n",
              "      <td>ASTON MARTIN</td>\n",
              "      <td>Petrol</td>\n",
              "      <td>Hatchback</td>\n",
              "    </tr>\n",
              "    <tr>\n",
              "      <th>2</th>\n",
              "      <td>AUDI</td>\n",
              "      <td>Petrol</td>\n",
              "      <td>Hatchback</td>\n",
              "    </tr>\n",
              "    <tr>\n",
              "      <th>3</th>\n",
              "      <td>AUSTIN</td>\n",
              "      <td>Petrol</td>\n",
              "      <td>Hatchback</td>\n",
              "    </tr>\n",
              "    <tr>\n",
              "      <th>4</th>\n",
              "      <td>B.M.W.</td>\n",
              "      <td>Petrol</td>\n",
              "      <td>Hatchback</td>\n",
              "    </tr>\n",
              "    <tr>\n",
              "      <th>...</th>\n",
              "      <td>...</td>\n",
              "      <td>...</td>\n",
              "      <td>...</td>\n",
              "    </tr>\n",
              "    <tr>\n",
              "      <th>2805</th>\n",
              "      <td>TOYOTA</td>\n",
              "      <td>Others</td>\n",
              "      <td>Coupe/ Convertible</td>\n",
              "    </tr>\n",
              "    <tr>\n",
              "      <th>2806</th>\n",
              "      <td>VOLKSWAGEN</td>\n",
              "      <td>Petrol</td>\n",
              "      <td>Coupe/ Convertible</td>\n",
              "    </tr>\n",
              "    <tr>\n",
              "      <th>2807</th>\n",
              "      <td>VOLKSWAGEN</td>\n",
              "      <td>Others</td>\n",
              "      <td>Coupe/ Convertible</td>\n",
              "    </tr>\n",
              "    <tr>\n",
              "      <th>2808</th>\n",
              "      <td>VOLVO</td>\n",
              "      <td>Petrol</td>\n",
              "      <td>Coupe/ Convertible</td>\n",
              "    </tr>\n",
              "    <tr>\n",
              "      <th>2809</th>\n",
              "      <td>VOLVO</td>\n",
              "      <td>Others</td>\n",
              "      <td>Coupe/ Convertible</td>\n",
              "    </tr>\n",
              "  </tbody>\n",
              "</table>\n",
              "<p>2810 rows × 3 columns</p>\n",
              "</div>\n",
              "      <button class=\"colab-df-convert\" onclick=\"convertToInteractive('df-de83aa4a-e2af-4ddf-8937-1556200a1ac3')\"\n",
              "              title=\"Convert this dataframe to an interactive table.\"\n",
              "              style=\"display:none;\">\n",
              "        \n",
              "  <svg xmlns=\"http://www.w3.org/2000/svg\" height=\"24px\"viewBox=\"0 0 24 24\"\n",
              "       width=\"24px\">\n",
              "    <path d=\"M0 0h24v24H0V0z\" fill=\"none\"/>\n",
              "    <path d=\"M18.56 5.44l.94 2.06.94-2.06 2.06-.94-2.06-.94-.94-2.06-.94 2.06-2.06.94zm-11 1L8.5 8.5l.94-2.06 2.06-.94-2.06-.94L8.5 2.5l-.94 2.06-2.06.94zm10 10l.94 2.06.94-2.06 2.06-.94-2.06-.94-.94-2.06-.94 2.06-2.06.94z\"/><path d=\"M17.41 7.96l-1.37-1.37c-.4-.4-.92-.59-1.43-.59-.52 0-1.04.2-1.43.59L10.3 9.45l-7.72 7.72c-.78.78-.78 2.05 0 2.83L4 21.41c.39.39.9.59 1.41.59.51 0 1.02-.2 1.41-.59l7.78-7.78 2.81-2.81c.8-.78.8-2.07 0-2.86zM5.41 20L4 18.59l7.72-7.72 1.47 1.35L5.41 20z\"/>\n",
              "  </svg>\n",
              "      </button>\n",
              "      \n",
              "  <style>\n",
              "    .colab-df-container {\n",
              "      display:flex;\n",
              "      flex-wrap:wrap;\n",
              "      gap: 12px;\n",
              "    }\n",
              "\n",
              "    .colab-df-convert {\n",
              "      background-color: #E8F0FE;\n",
              "      border: none;\n",
              "      border-radius: 50%;\n",
              "      cursor: pointer;\n",
              "      display: none;\n",
              "      fill: #1967D2;\n",
              "      height: 32px;\n",
              "      padding: 0 0 0 0;\n",
              "      width: 32px;\n",
              "    }\n",
              "\n",
              "    .colab-df-convert:hover {\n",
              "      background-color: #E2EBFA;\n",
              "      box-shadow: 0px 1px 2px rgba(60, 64, 67, 0.3), 0px 1px 3px 1px rgba(60, 64, 67, 0.15);\n",
              "      fill: #174EA6;\n",
              "    }\n",
              "\n",
              "    [theme=dark] .colab-df-convert {\n",
              "      background-color: #3B4455;\n",
              "      fill: #D2E3FC;\n",
              "    }\n",
              "\n",
              "    [theme=dark] .colab-df-convert:hover {\n",
              "      background-color: #434B5C;\n",
              "      box-shadow: 0px 1px 3px 1px rgba(0, 0, 0, 0.15);\n",
              "      filter: drop-shadow(0px 1px 2px rgba(0, 0, 0, 0.3));\n",
              "      fill: #FFFFFF;\n",
              "    }\n",
              "  </style>\n",
              "\n",
              "      <script>\n",
              "        const buttonEl =\n",
              "          document.querySelector('#df-de83aa4a-e2af-4ddf-8937-1556200a1ac3 button.colab-df-convert');\n",
              "        buttonEl.style.display =\n",
              "          google.colab.kernel.accessAllowed ? 'block' : 'none';\n",
              "\n",
              "        async function convertToInteractive(key) {\n",
              "          const element = document.querySelector('#df-de83aa4a-e2af-4ddf-8937-1556200a1ac3');\n",
              "          const dataTable =\n",
              "            await google.colab.kernel.invokeFunction('convertToInteractive',\n",
              "                                                     [key], {});\n",
              "          if (!dataTable) return;\n",
              "\n",
              "          const docLinkHtml = 'Like what you see? Visit the ' +\n",
              "            '<a target=\"_blank\" href=https://colab.research.google.com/notebooks/data_table.ipynb>data table notebook</a>'\n",
              "            + ' to learn more about interactive tables.';\n",
              "          element.innerHTML = '';\n",
              "          dataTable['output_type'] = 'display_data';\n",
              "          await google.colab.output.renderOutput(dataTable, element);\n",
              "          const docLink = document.createElement('div');\n",
              "          docLink.innerHTML = docLinkHtml;\n",
              "          element.appendChild(docLink);\n",
              "        }\n",
              "      </script>\n",
              "    </div>\n",
              "  </div>\n",
              "  "
            ]
          },
          "metadata": {},
          "execution_count": 86
        }
      ]
    },
    {
      "cell_type": "markdown",
      "source": [
        "#### How to select rows?\n",
        "If the index are default sequential integers, simply select as if you are selecting from an array:"
      ],
      "metadata": {
        "id": "UDu0HRs-1-NV"
      }
    },
    {
      "cell_type": "code",
      "source": [
        "singapore_cars[100:200]"
      ],
      "metadata": {
        "colab": {
          "base_uri": "https://localhost:8080/",
          "height": 424
        },
        "id": "kpkNuTfx2bP8",
        "outputId": "d7945bde-a071-4a38-fac5-c65d73e9e6ac"
      },
      "execution_count": null,
      "outputs": [
        {
          "output_type": "execute_result",
          "data": {
            "text/plain": [
              "     year           make    fuel                                 type  number\n",
              "100  2015  MERCEDES BENZ  Petrol  Multi-purpose Vehicle/Station-wagon    61.0\n",
              "101  2015  MERCEDES BENZ  Diesel  Multi-purpose Vehicle/Station-wagon    12.0\n",
              "102  2015         NISSAN  Petrol  Multi-purpose Vehicle/Station-wagon   103.0\n",
              "103  2015         NISSAN  Others  Multi-purpose Vehicle/Station-wagon    21.0\n",
              "104  2015           OPEL  Petrol  Multi-purpose Vehicle/Station-wagon    25.0\n",
              "..    ...            ...     ...                                  ...     ...\n",
              "195  2016         B.M.W.  Diesel                            Hatchback   949.0\n",
              "196  2016         B.M.W.  Others                            Hatchback     6.0\n",
              "197  2016            BYD  Others                            Hatchback     7.0\n",
              "198  2016          CHERY  Petrol                            Hatchback     6.0\n",
              "199  2016      CHEVROLET  Petrol                            Hatchback     5.0\n",
              "\n",
              "[100 rows x 5 columns]"
            ],
            "text/html": [
              "\n",
              "  <div id=\"df-bce12cee-5bd6-4990-86bf-08cf8600cb98\">\n",
              "    <div class=\"colab-df-container\">\n",
              "      <div>\n",
              "<style scoped>\n",
              "    .dataframe tbody tr th:only-of-type {\n",
              "        vertical-align: middle;\n",
              "    }\n",
              "\n",
              "    .dataframe tbody tr th {\n",
              "        vertical-align: top;\n",
              "    }\n",
              "\n",
              "    .dataframe thead th {\n",
              "        text-align: right;\n",
              "    }\n",
              "</style>\n",
              "<table border=\"1\" class=\"dataframe\">\n",
              "  <thead>\n",
              "    <tr style=\"text-align: right;\">\n",
              "      <th></th>\n",
              "      <th>year</th>\n",
              "      <th>make</th>\n",
              "      <th>fuel</th>\n",
              "      <th>type</th>\n",
              "      <th>number</th>\n",
              "    </tr>\n",
              "  </thead>\n",
              "  <tbody>\n",
              "    <tr>\n",
              "      <th>100</th>\n",
              "      <td>2015</td>\n",
              "      <td>MERCEDES BENZ</td>\n",
              "      <td>Petrol</td>\n",
              "      <td>Multi-purpose Vehicle/Station-wagon</td>\n",
              "      <td>61.0</td>\n",
              "    </tr>\n",
              "    <tr>\n",
              "      <th>101</th>\n",
              "      <td>2015</td>\n",
              "      <td>MERCEDES BENZ</td>\n",
              "      <td>Diesel</td>\n",
              "      <td>Multi-purpose Vehicle/Station-wagon</td>\n",
              "      <td>12.0</td>\n",
              "    </tr>\n",
              "    <tr>\n",
              "      <th>102</th>\n",
              "      <td>2015</td>\n",
              "      <td>NISSAN</td>\n",
              "      <td>Petrol</td>\n",
              "      <td>Multi-purpose Vehicle/Station-wagon</td>\n",
              "      <td>103.0</td>\n",
              "    </tr>\n",
              "    <tr>\n",
              "      <th>103</th>\n",
              "      <td>2015</td>\n",
              "      <td>NISSAN</td>\n",
              "      <td>Others</td>\n",
              "      <td>Multi-purpose Vehicle/Station-wagon</td>\n",
              "      <td>21.0</td>\n",
              "    </tr>\n",
              "    <tr>\n",
              "      <th>104</th>\n",
              "      <td>2015</td>\n",
              "      <td>OPEL</td>\n",
              "      <td>Petrol</td>\n",
              "      <td>Multi-purpose Vehicle/Station-wagon</td>\n",
              "      <td>25.0</td>\n",
              "    </tr>\n",
              "    <tr>\n",
              "      <th>...</th>\n",
              "      <td>...</td>\n",
              "      <td>...</td>\n",
              "      <td>...</td>\n",
              "      <td>...</td>\n",
              "      <td>...</td>\n",
              "    </tr>\n",
              "    <tr>\n",
              "      <th>195</th>\n",
              "      <td>2016</td>\n",
              "      <td>B.M.W.</td>\n",
              "      <td>Diesel</td>\n",
              "      <td>Hatchback</td>\n",
              "      <td>949.0</td>\n",
              "    </tr>\n",
              "    <tr>\n",
              "      <th>196</th>\n",
              "      <td>2016</td>\n",
              "      <td>B.M.W.</td>\n",
              "      <td>Others</td>\n",
              "      <td>Hatchback</td>\n",
              "      <td>6.0</td>\n",
              "    </tr>\n",
              "    <tr>\n",
              "      <th>197</th>\n",
              "      <td>2016</td>\n",
              "      <td>BYD</td>\n",
              "      <td>Others</td>\n",
              "      <td>Hatchback</td>\n",
              "      <td>7.0</td>\n",
              "    </tr>\n",
              "    <tr>\n",
              "      <th>198</th>\n",
              "      <td>2016</td>\n",
              "      <td>CHERY</td>\n",
              "      <td>Petrol</td>\n",
              "      <td>Hatchback</td>\n",
              "      <td>6.0</td>\n",
              "    </tr>\n",
              "    <tr>\n",
              "      <th>199</th>\n",
              "      <td>2016</td>\n",
              "      <td>CHEVROLET</td>\n",
              "      <td>Petrol</td>\n",
              "      <td>Hatchback</td>\n",
              "      <td>5.0</td>\n",
              "    </tr>\n",
              "  </tbody>\n",
              "</table>\n",
              "<p>100 rows × 5 columns</p>\n",
              "</div>\n",
              "      <button class=\"colab-df-convert\" onclick=\"convertToInteractive('df-bce12cee-5bd6-4990-86bf-08cf8600cb98')\"\n",
              "              title=\"Convert this dataframe to an interactive table.\"\n",
              "              style=\"display:none;\">\n",
              "        \n",
              "  <svg xmlns=\"http://www.w3.org/2000/svg\" height=\"24px\"viewBox=\"0 0 24 24\"\n",
              "       width=\"24px\">\n",
              "    <path d=\"M0 0h24v24H0V0z\" fill=\"none\"/>\n",
              "    <path d=\"M18.56 5.44l.94 2.06.94-2.06 2.06-.94-2.06-.94-.94-2.06-.94 2.06-2.06.94zm-11 1L8.5 8.5l.94-2.06 2.06-.94-2.06-.94L8.5 2.5l-.94 2.06-2.06.94zm10 10l.94 2.06.94-2.06 2.06-.94-2.06-.94-.94-2.06-.94 2.06-2.06.94z\"/><path d=\"M17.41 7.96l-1.37-1.37c-.4-.4-.92-.59-1.43-.59-.52 0-1.04.2-1.43.59L10.3 9.45l-7.72 7.72c-.78.78-.78 2.05 0 2.83L4 21.41c.39.39.9.59 1.41.59.51 0 1.02-.2 1.41-.59l7.78-7.78 2.81-2.81c.8-.78.8-2.07 0-2.86zM5.41 20L4 18.59l7.72-7.72 1.47 1.35L5.41 20z\"/>\n",
              "  </svg>\n",
              "      </button>\n",
              "      \n",
              "  <style>\n",
              "    .colab-df-container {\n",
              "      display:flex;\n",
              "      flex-wrap:wrap;\n",
              "      gap: 12px;\n",
              "    }\n",
              "\n",
              "    .colab-df-convert {\n",
              "      background-color: #E8F0FE;\n",
              "      border: none;\n",
              "      border-radius: 50%;\n",
              "      cursor: pointer;\n",
              "      display: none;\n",
              "      fill: #1967D2;\n",
              "      height: 32px;\n",
              "      padding: 0 0 0 0;\n",
              "      width: 32px;\n",
              "    }\n",
              "\n",
              "    .colab-df-convert:hover {\n",
              "      background-color: #E2EBFA;\n",
              "      box-shadow: 0px 1px 2px rgba(60, 64, 67, 0.3), 0px 1px 3px 1px rgba(60, 64, 67, 0.15);\n",
              "      fill: #174EA6;\n",
              "    }\n",
              "\n",
              "    [theme=dark] .colab-df-convert {\n",
              "      background-color: #3B4455;\n",
              "      fill: #D2E3FC;\n",
              "    }\n",
              "\n",
              "    [theme=dark] .colab-df-convert:hover {\n",
              "      background-color: #434B5C;\n",
              "      box-shadow: 0px 1px 3px 1px rgba(0, 0, 0, 0.15);\n",
              "      filter: drop-shadow(0px 1px 2px rgba(0, 0, 0, 0.3));\n",
              "      fill: #FFFFFF;\n",
              "    }\n",
              "  </style>\n",
              "\n",
              "      <script>\n",
              "        const buttonEl =\n",
              "          document.querySelector('#df-bce12cee-5bd6-4990-86bf-08cf8600cb98 button.colab-df-convert');\n",
              "        buttonEl.style.display =\n",
              "          google.colab.kernel.accessAllowed ? 'block' : 'none';\n",
              "\n",
              "        async function convertToInteractive(key) {\n",
              "          const element = document.querySelector('#df-bce12cee-5bd6-4990-86bf-08cf8600cb98');\n",
              "          const dataTable =\n",
              "            await google.colab.kernel.invokeFunction('convertToInteractive',\n",
              "                                                     [key], {});\n",
              "          if (!dataTable) return;\n",
              "\n",
              "          const docLinkHtml = 'Like what you see? Visit the ' +\n",
              "            '<a target=\"_blank\" href=https://colab.research.google.com/notebooks/data_table.ipynb>data table notebook</a>'\n",
              "            + ' to learn more about interactive tables.';\n",
              "          element.innerHTML = '';\n",
              "          dataTable['output_type'] = 'display_data';\n",
              "          await google.colab.output.renderOutput(dataTable, element);\n",
              "          const docLink = document.createElement('div');\n",
              "          docLink.innerHTML = docLinkHtml;\n",
              "          element.appendChild(docLink);\n",
              "        }\n",
              "      </script>\n",
              "    </div>\n",
              "  </div>\n",
              "  "
            ]
          },
          "metadata": {},
          "execution_count": 87
        }
      ]
    },
    {
      "cell_type": "markdown",
      "source": [
        "#### How to select by columns and rows (aka indexing)?\n",
        "\n",
        "Sometimes we want a specific \"section\" of the `DataFrame`, say the first 3 rows with just the middle 3 columns:"
      ],
      "metadata": {
        "id": "8TDILsqY2se5"
      }
    },
    {
      "cell_type": "code",
      "source": [
        "singapore_cars.iloc[0:3, 1:4]"
      ],
      "metadata": {
        "colab": {
          "base_uri": "https://localhost:8080/",
          "height": 143
        },
        "id": "QYw4X9dB3Nxr",
        "outputId": "762d3037-f014-4d93-b745-2c23133379ab"
      },
      "execution_count": null,
      "outputs": [
        {
          "output_type": "execute_result",
          "data": {
            "text/plain": [
              "           make    fuel       type\n",
              "0    ALFA ROMEO  Petrol  Hatchback\n",
              "1  ASTON MARTIN  Petrol  Hatchback\n",
              "2          AUDI  Petrol  Hatchback"
            ],
            "text/html": [
              "\n",
              "  <div id=\"df-eaab3e85-8fb3-4710-81d7-f33cd0e396c4\">\n",
              "    <div class=\"colab-df-container\">\n",
              "      <div>\n",
              "<style scoped>\n",
              "    .dataframe tbody tr th:only-of-type {\n",
              "        vertical-align: middle;\n",
              "    }\n",
              "\n",
              "    .dataframe tbody tr th {\n",
              "        vertical-align: top;\n",
              "    }\n",
              "\n",
              "    .dataframe thead th {\n",
              "        text-align: right;\n",
              "    }\n",
              "</style>\n",
              "<table border=\"1\" class=\"dataframe\">\n",
              "  <thead>\n",
              "    <tr style=\"text-align: right;\">\n",
              "      <th></th>\n",
              "      <th>make</th>\n",
              "      <th>fuel</th>\n",
              "      <th>type</th>\n",
              "    </tr>\n",
              "  </thead>\n",
              "  <tbody>\n",
              "    <tr>\n",
              "      <th>0</th>\n",
              "      <td>ALFA ROMEO</td>\n",
              "      <td>Petrol</td>\n",
              "      <td>Hatchback</td>\n",
              "    </tr>\n",
              "    <tr>\n",
              "      <th>1</th>\n",
              "      <td>ASTON MARTIN</td>\n",
              "      <td>Petrol</td>\n",
              "      <td>Hatchback</td>\n",
              "    </tr>\n",
              "    <tr>\n",
              "      <th>2</th>\n",
              "      <td>AUDI</td>\n",
              "      <td>Petrol</td>\n",
              "      <td>Hatchback</td>\n",
              "    </tr>\n",
              "  </tbody>\n",
              "</table>\n",
              "</div>\n",
              "      <button class=\"colab-df-convert\" onclick=\"convertToInteractive('df-eaab3e85-8fb3-4710-81d7-f33cd0e396c4')\"\n",
              "              title=\"Convert this dataframe to an interactive table.\"\n",
              "              style=\"display:none;\">\n",
              "        \n",
              "  <svg xmlns=\"http://www.w3.org/2000/svg\" height=\"24px\"viewBox=\"0 0 24 24\"\n",
              "       width=\"24px\">\n",
              "    <path d=\"M0 0h24v24H0V0z\" fill=\"none\"/>\n",
              "    <path d=\"M18.56 5.44l.94 2.06.94-2.06 2.06-.94-2.06-.94-.94-2.06-.94 2.06-2.06.94zm-11 1L8.5 8.5l.94-2.06 2.06-.94-2.06-.94L8.5 2.5l-.94 2.06-2.06.94zm10 10l.94 2.06.94-2.06 2.06-.94-2.06-.94-.94-2.06-.94 2.06-2.06.94z\"/><path d=\"M17.41 7.96l-1.37-1.37c-.4-.4-.92-.59-1.43-.59-.52 0-1.04.2-1.43.59L10.3 9.45l-7.72 7.72c-.78.78-.78 2.05 0 2.83L4 21.41c.39.39.9.59 1.41.59.51 0 1.02-.2 1.41-.59l7.78-7.78 2.81-2.81c.8-.78.8-2.07 0-2.86zM5.41 20L4 18.59l7.72-7.72 1.47 1.35L5.41 20z\"/>\n",
              "  </svg>\n",
              "      </button>\n",
              "      \n",
              "  <style>\n",
              "    .colab-df-container {\n",
              "      display:flex;\n",
              "      flex-wrap:wrap;\n",
              "      gap: 12px;\n",
              "    }\n",
              "\n",
              "    .colab-df-convert {\n",
              "      background-color: #E8F0FE;\n",
              "      border: none;\n",
              "      border-radius: 50%;\n",
              "      cursor: pointer;\n",
              "      display: none;\n",
              "      fill: #1967D2;\n",
              "      height: 32px;\n",
              "      padding: 0 0 0 0;\n",
              "      width: 32px;\n",
              "    }\n",
              "\n",
              "    .colab-df-convert:hover {\n",
              "      background-color: #E2EBFA;\n",
              "      box-shadow: 0px 1px 2px rgba(60, 64, 67, 0.3), 0px 1px 3px 1px rgba(60, 64, 67, 0.15);\n",
              "      fill: #174EA6;\n",
              "    }\n",
              "\n",
              "    [theme=dark] .colab-df-convert {\n",
              "      background-color: #3B4455;\n",
              "      fill: #D2E3FC;\n",
              "    }\n",
              "\n",
              "    [theme=dark] .colab-df-convert:hover {\n",
              "      background-color: #434B5C;\n",
              "      box-shadow: 0px 1px 3px 1px rgba(0, 0, 0, 0.15);\n",
              "      filter: drop-shadow(0px 1px 2px rgba(0, 0, 0, 0.3));\n",
              "      fill: #FFFFFF;\n",
              "    }\n",
              "  </style>\n",
              "\n",
              "      <script>\n",
              "        const buttonEl =\n",
              "          document.querySelector('#df-eaab3e85-8fb3-4710-81d7-f33cd0e396c4 button.colab-df-convert');\n",
              "        buttonEl.style.display =\n",
              "          google.colab.kernel.accessAllowed ? 'block' : 'none';\n",
              "\n",
              "        async function convertToInteractive(key) {\n",
              "          const element = document.querySelector('#df-eaab3e85-8fb3-4710-81d7-f33cd0e396c4');\n",
              "          const dataTable =\n",
              "            await google.colab.kernel.invokeFunction('convertToInteractive',\n",
              "                                                     [key], {});\n",
              "          if (!dataTable) return;\n",
              "\n",
              "          const docLinkHtml = 'Like what you see? Visit the ' +\n",
              "            '<a target=\"_blank\" href=https://colab.research.google.com/notebooks/data_table.ipynb>data table notebook</a>'\n",
              "            + ' to learn more about interactive tables.';\n",
              "          element.innerHTML = '';\n",
              "          dataTable['output_type'] = 'display_data';\n",
              "          await google.colab.output.renderOutput(dataTable, element);\n",
              "          const docLink = document.createElement('div');\n",
              "          docLink.innerHTML = docLinkHtml;\n",
              "          element.appendChild(docLink);\n",
              "        }\n",
              "      </script>\n",
              "    </div>\n",
              "  </div>\n",
              "  "
            ]
          },
          "metadata": {},
          "execution_count": 88
        }
      ]
    },
    {
      "cell_type": "markdown",
      "source": [
        "**Note** that it's not `()` that follows `iloc` but `[]`. This is because `iloc` is not a function/method, but a property on the DataFrame object.\n",
        "\n",
        "We use `iloc` to select by row and column's positions above; use `loc` to select by row and column's names/labels:"
      ],
      "metadata": {
        "id": "BS7B-O2k3zMy"
      }
    },
    {
      "cell_type": "code",
      "source": [
        "singapore_cars.loc[10:15, ['year', 'number']]"
      ],
      "metadata": {
        "colab": {
          "base_uri": "https://localhost:8080/",
          "height": 238
        },
        "id": "p_GIlYlo4F09",
        "outputId": "7dc3d923-07b9-4b20-8a87-923e6511c836"
      },
      "execution_count": null,
      "outputs": [
        {
          "output_type": "execute_result",
          "data": {
            "text/plain": [
              "    year  number\n",
              "10  2015    10.0\n",
              "11  2015     4.0\n",
              "12  2015     1.0\n",
              "13  2015     2.0\n",
              "14  2015   155.0\n",
              "15  2015  1068.0"
            ],
            "text/html": [
              "\n",
              "  <div id=\"df-2f8fcf52-060c-49e8-bef4-294e34acb755\">\n",
              "    <div class=\"colab-df-container\">\n",
              "      <div>\n",
              "<style scoped>\n",
              "    .dataframe tbody tr th:only-of-type {\n",
              "        vertical-align: middle;\n",
              "    }\n",
              "\n",
              "    .dataframe tbody tr th {\n",
              "        vertical-align: top;\n",
              "    }\n",
              "\n",
              "    .dataframe thead th {\n",
              "        text-align: right;\n",
              "    }\n",
              "</style>\n",
              "<table border=\"1\" class=\"dataframe\">\n",
              "  <thead>\n",
              "    <tr style=\"text-align: right;\">\n",
              "      <th></th>\n",
              "      <th>year</th>\n",
              "      <th>number</th>\n",
              "    </tr>\n",
              "  </thead>\n",
              "  <tbody>\n",
              "    <tr>\n",
              "      <th>10</th>\n",
              "      <td>2015</td>\n",
              "      <td>10.0</td>\n",
              "    </tr>\n",
              "    <tr>\n",
              "      <th>11</th>\n",
              "      <td>2015</td>\n",
              "      <td>4.0</td>\n",
              "    </tr>\n",
              "    <tr>\n",
              "      <th>12</th>\n",
              "      <td>2015</td>\n",
              "      <td>1.0</td>\n",
              "    </tr>\n",
              "    <tr>\n",
              "      <th>13</th>\n",
              "      <td>2015</td>\n",
              "      <td>2.0</td>\n",
              "    </tr>\n",
              "    <tr>\n",
              "      <th>14</th>\n",
              "      <td>2015</td>\n",
              "      <td>155.0</td>\n",
              "    </tr>\n",
              "    <tr>\n",
              "      <th>15</th>\n",
              "      <td>2015</td>\n",
              "      <td>1068.0</td>\n",
              "    </tr>\n",
              "  </tbody>\n",
              "</table>\n",
              "</div>\n",
              "      <button class=\"colab-df-convert\" onclick=\"convertToInteractive('df-2f8fcf52-060c-49e8-bef4-294e34acb755')\"\n",
              "              title=\"Convert this dataframe to an interactive table.\"\n",
              "              style=\"display:none;\">\n",
              "        \n",
              "  <svg xmlns=\"http://www.w3.org/2000/svg\" height=\"24px\"viewBox=\"0 0 24 24\"\n",
              "       width=\"24px\">\n",
              "    <path d=\"M0 0h24v24H0V0z\" fill=\"none\"/>\n",
              "    <path d=\"M18.56 5.44l.94 2.06.94-2.06 2.06-.94-2.06-.94-.94-2.06-.94 2.06-2.06.94zm-11 1L8.5 8.5l.94-2.06 2.06-.94-2.06-.94L8.5 2.5l-.94 2.06-2.06.94zm10 10l.94 2.06.94-2.06 2.06-.94-2.06-.94-.94-2.06-.94 2.06-2.06.94z\"/><path d=\"M17.41 7.96l-1.37-1.37c-.4-.4-.92-.59-1.43-.59-.52 0-1.04.2-1.43.59L10.3 9.45l-7.72 7.72c-.78.78-.78 2.05 0 2.83L4 21.41c.39.39.9.59 1.41.59.51 0 1.02-.2 1.41-.59l7.78-7.78 2.81-2.81c.8-.78.8-2.07 0-2.86zM5.41 20L4 18.59l7.72-7.72 1.47 1.35L5.41 20z\"/>\n",
              "  </svg>\n",
              "      </button>\n",
              "      \n",
              "  <style>\n",
              "    .colab-df-container {\n",
              "      display:flex;\n",
              "      flex-wrap:wrap;\n",
              "      gap: 12px;\n",
              "    }\n",
              "\n",
              "    .colab-df-convert {\n",
              "      background-color: #E8F0FE;\n",
              "      border: none;\n",
              "      border-radius: 50%;\n",
              "      cursor: pointer;\n",
              "      display: none;\n",
              "      fill: #1967D2;\n",
              "      height: 32px;\n",
              "      padding: 0 0 0 0;\n",
              "      width: 32px;\n",
              "    }\n",
              "\n",
              "    .colab-df-convert:hover {\n",
              "      background-color: #E2EBFA;\n",
              "      box-shadow: 0px 1px 2px rgba(60, 64, 67, 0.3), 0px 1px 3px 1px rgba(60, 64, 67, 0.15);\n",
              "      fill: #174EA6;\n",
              "    }\n",
              "\n",
              "    [theme=dark] .colab-df-convert {\n",
              "      background-color: #3B4455;\n",
              "      fill: #D2E3FC;\n",
              "    }\n",
              "\n",
              "    [theme=dark] .colab-df-convert:hover {\n",
              "      background-color: #434B5C;\n",
              "      box-shadow: 0px 1px 3px 1px rgba(0, 0, 0, 0.15);\n",
              "      filter: drop-shadow(0px 1px 2px rgba(0, 0, 0, 0.3));\n",
              "      fill: #FFFFFF;\n",
              "    }\n",
              "  </style>\n",
              "\n",
              "      <script>\n",
              "        const buttonEl =\n",
              "          document.querySelector('#df-2f8fcf52-060c-49e8-bef4-294e34acb755 button.colab-df-convert');\n",
              "        buttonEl.style.display =\n",
              "          google.colab.kernel.accessAllowed ? 'block' : 'none';\n",
              "\n",
              "        async function convertToInteractive(key) {\n",
              "          const element = document.querySelector('#df-2f8fcf52-060c-49e8-bef4-294e34acb755');\n",
              "          const dataTable =\n",
              "            await google.colab.kernel.invokeFunction('convertToInteractive',\n",
              "                                                     [key], {});\n",
              "          if (!dataTable) return;\n",
              "\n",
              "          const docLinkHtml = 'Like what you see? Visit the ' +\n",
              "            '<a target=\"_blank\" href=https://colab.research.google.com/notebooks/data_table.ipynb>data table notebook</a>'\n",
              "            + ' to learn more about interactive tables.';\n",
              "          element.innerHTML = '';\n",
              "          dataTable['output_type'] = 'display_data';\n",
              "          await google.colab.output.renderOutput(dataTable, element);\n",
              "          const docLink = document.createElement('div');\n",
              "          docLink.innerHTML = docLinkHtml;\n",
              "          element.appendChild(docLink);\n",
              "        }\n",
              "      </script>\n",
              "    </div>\n",
              "  </div>\n",
              "  "
            ]
          },
          "metadata": {},
          "execution_count": 89
        }
      ]
    },
    {
      "cell_type": "markdown",
      "source": [
        "In this case the rows' positions happen to be the same as the rows' names/labels. \n",
        "\n",
        "**Important**: when selecting by position (`iloc`) only the start point is included, the end point is excluded. When selecting by name/label (`loc`), both start and end points are included."
      ],
      "metadata": {
        "id": "76go0Hh04ni1"
      }
    },
    {
      "cell_type": "markdown",
      "source": [
        "#### How to filter rows based on conditions?\n",
        "\n",
        "This is useful when we want to zoom in to explore a subset of the data satisfying some condition(s). For example, to get only 2021 data on petrol cars:"
      ],
      "metadata": {
        "id": "Vx2ljK5B5EDz"
      }
    },
    {
      "cell_type": "code",
      "source": [
        "singapore_cars[(singapore_cars.year == 2021) & (singapore_cars.fuel == 'Petrol')]"
      ],
      "metadata": {
        "colab": {
          "base_uri": "https://localhost:8080/",
          "height": 424
        },
        "id": "a7V6Nszb5_H2",
        "outputId": "e674e5d7-dbe9-4f12-aa55-e4c4239f2fad"
      },
      "execution_count": null,
      "outputs": [
        {
          "output_type": "execute_result",
          "data": {
            "text/plain": [
              "      year          make    fuel                type  number\n",
              "2375  2021    ALFA ROMEO  Petrol           Hatchback     NaN\n",
              "2377  2021        ALPINE  Petrol           Hatchback     NaN\n",
              "2378  2021  ASTON MARTIN  Petrol           Hatchback     NaN\n",
              "2379  2021          AUDI  Petrol           Hatchback    34.0\n",
              "2381  2021        AUSTIN  Petrol           Hatchback     1.0\n",
              "...    ...           ...     ...                 ...     ...\n",
              "2798  2021        SUBARU  Petrol  Coupe/ Convertible     NaN\n",
              "2800  2021        SUZUKI  Petrol  Coupe/ Convertible     NaN\n",
              "2803  2021        TOYOTA  Petrol  Coupe/ Convertible    27.0\n",
              "2806  2021    VOLKSWAGEN  Petrol  Coupe/ Convertible     2.0\n",
              "2808  2021         VOLVO  Petrol  Coupe/ Convertible     2.0\n",
              "\n",
              "[235 rows x 5 columns]"
            ],
            "text/html": [
              "\n",
              "  <div id=\"df-8ee9d90c-5993-4e58-8ad4-e3a715932afd\">\n",
              "    <div class=\"colab-df-container\">\n",
              "      <div>\n",
              "<style scoped>\n",
              "    .dataframe tbody tr th:only-of-type {\n",
              "        vertical-align: middle;\n",
              "    }\n",
              "\n",
              "    .dataframe tbody tr th {\n",
              "        vertical-align: top;\n",
              "    }\n",
              "\n",
              "    .dataframe thead th {\n",
              "        text-align: right;\n",
              "    }\n",
              "</style>\n",
              "<table border=\"1\" class=\"dataframe\">\n",
              "  <thead>\n",
              "    <tr style=\"text-align: right;\">\n",
              "      <th></th>\n",
              "      <th>year</th>\n",
              "      <th>make</th>\n",
              "      <th>fuel</th>\n",
              "      <th>type</th>\n",
              "      <th>number</th>\n",
              "    </tr>\n",
              "  </thead>\n",
              "  <tbody>\n",
              "    <tr>\n",
              "      <th>2375</th>\n",
              "      <td>2021</td>\n",
              "      <td>ALFA ROMEO</td>\n",
              "      <td>Petrol</td>\n",
              "      <td>Hatchback</td>\n",
              "      <td>NaN</td>\n",
              "    </tr>\n",
              "    <tr>\n",
              "      <th>2377</th>\n",
              "      <td>2021</td>\n",
              "      <td>ALPINE</td>\n",
              "      <td>Petrol</td>\n",
              "      <td>Hatchback</td>\n",
              "      <td>NaN</td>\n",
              "    </tr>\n",
              "    <tr>\n",
              "      <th>2378</th>\n",
              "      <td>2021</td>\n",
              "      <td>ASTON MARTIN</td>\n",
              "      <td>Petrol</td>\n",
              "      <td>Hatchback</td>\n",
              "      <td>NaN</td>\n",
              "    </tr>\n",
              "    <tr>\n",
              "      <th>2379</th>\n",
              "      <td>2021</td>\n",
              "      <td>AUDI</td>\n",
              "      <td>Petrol</td>\n",
              "      <td>Hatchback</td>\n",
              "      <td>34.0</td>\n",
              "    </tr>\n",
              "    <tr>\n",
              "      <th>2381</th>\n",
              "      <td>2021</td>\n",
              "      <td>AUSTIN</td>\n",
              "      <td>Petrol</td>\n",
              "      <td>Hatchback</td>\n",
              "      <td>1.0</td>\n",
              "    </tr>\n",
              "    <tr>\n",
              "      <th>...</th>\n",
              "      <td>...</td>\n",
              "      <td>...</td>\n",
              "      <td>...</td>\n",
              "      <td>...</td>\n",
              "      <td>...</td>\n",
              "    </tr>\n",
              "    <tr>\n",
              "      <th>2798</th>\n",
              "      <td>2021</td>\n",
              "      <td>SUBARU</td>\n",
              "      <td>Petrol</td>\n",
              "      <td>Coupe/ Convertible</td>\n",
              "      <td>NaN</td>\n",
              "    </tr>\n",
              "    <tr>\n",
              "      <th>2800</th>\n",
              "      <td>2021</td>\n",
              "      <td>SUZUKI</td>\n",
              "      <td>Petrol</td>\n",
              "      <td>Coupe/ Convertible</td>\n",
              "      <td>NaN</td>\n",
              "    </tr>\n",
              "    <tr>\n",
              "      <th>2803</th>\n",
              "      <td>2021</td>\n",
              "      <td>TOYOTA</td>\n",
              "      <td>Petrol</td>\n",
              "      <td>Coupe/ Convertible</td>\n",
              "      <td>27.0</td>\n",
              "    </tr>\n",
              "    <tr>\n",
              "      <th>2806</th>\n",
              "      <td>2021</td>\n",
              "      <td>VOLKSWAGEN</td>\n",
              "      <td>Petrol</td>\n",
              "      <td>Coupe/ Convertible</td>\n",
              "      <td>2.0</td>\n",
              "    </tr>\n",
              "    <tr>\n",
              "      <th>2808</th>\n",
              "      <td>2021</td>\n",
              "      <td>VOLVO</td>\n",
              "      <td>Petrol</td>\n",
              "      <td>Coupe/ Convertible</td>\n",
              "      <td>2.0</td>\n",
              "    </tr>\n",
              "  </tbody>\n",
              "</table>\n",
              "<p>235 rows × 5 columns</p>\n",
              "</div>\n",
              "      <button class=\"colab-df-convert\" onclick=\"convertToInteractive('df-8ee9d90c-5993-4e58-8ad4-e3a715932afd')\"\n",
              "              title=\"Convert this dataframe to an interactive table.\"\n",
              "              style=\"display:none;\">\n",
              "        \n",
              "  <svg xmlns=\"http://www.w3.org/2000/svg\" height=\"24px\"viewBox=\"0 0 24 24\"\n",
              "       width=\"24px\">\n",
              "    <path d=\"M0 0h24v24H0V0z\" fill=\"none\"/>\n",
              "    <path d=\"M18.56 5.44l.94 2.06.94-2.06 2.06-.94-2.06-.94-.94-2.06-.94 2.06-2.06.94zm-11 1L8.5 8.5l.94-2.06 2.06-.94-2.06-.94L8.5 2.5l-.94 2.06-2.06.94zm10 10l.94 2.06.94-2.06 2.06-.94-2.06-.94-.94-2.06-.94 2.06-2.06.94z\"/><path d=\"M17.41 7.96l-1.37-1.37c-.4-.4-.92-.59-1.43-.59-.52 0-1.04.2-1.43.59L10.3 9.45l-7.72 7.72c-.78.78-.78 2.05 0 2.83L4 21.41c.39.39.9.59 1.41.59.51 0 1.02-.2 1.41-.59l7.78-7.78 2.81-2.81c.8-.78.8-2.07 0-2.86zM5.41 20L4 18.59l7.72-7.72 1.47 1.35L5.41 20z\"/>\n",
              "  </svg>\n",
              "      </button>\n",
              "      \n",
              "  <style>\n",
              "    .colab-df-container {\n",
              "      display:flex;\n",
              "      flex-wrap:wrap;\n",
              "      gap: 12px;\n",
              "    }\n",
              "\n",
              "    .colab-df-convert {\n",
              "      background-color: #E8F0FE;\n",
              "      border: none;\n",
              "      border-radius: 50%;\n",
              "      cursor: pointer;\n",
              "      display: none;\n",
              "      fill: #1967D2;\n",
              "      height: 32px;\n",
              "      padding: 0 0 0 0;\n",
              "      width: 32px;\n",
              "    }\n",
              "\n",
              "    .colab-df-convert:hover {\n",
              "      background-color: #E2EBFA;\n",
              "      box-shadow: 0px 1px 2px rgba(60, 64, 67, 0.3), 0px 1px 3px 1px rgba(60, 64, 67, 0.15);\n",
              "      fill: #174EA6;\n",
              "    }\n",
              "\n",
              "    [theme=dark] .colab-df-convert {\n",
              "      background-color: #3B4455;\n",
              "      fill: #D2E3FC;\n",
              "    }\n",
              "\n",
              "    [theme=dark] .colab-df-convert:hover {\n",
              "      background-color: #434B5C;\n",
              "      box-shadow: 0px 1px 3px 1px rgba(0, 0, 0, 0.15);\n",
              "      filter: drop-shadow(0px 1px 2px rgba(0, 0, 0, 0.3));\n",
              "      fill: #FFFFFF;\n",
              "    }\n",
              "  </style>\n",
              "\n",
              "      <script>\n",
              "        const buttonEl =\n",
              "          document.querySelector('#df-8ee9d90c-5993-4e58-8ad4-e3a715932afd button.colab-df-convert');\n",
              "        buttonEl.style.display =\n",
              "          google.colab.kernel.accessAllowed ? 'block' : 'none';\n",
              "\n",
              "        async function convertToInteractive(key) {\n",
              "          const element = document.querySelector('#df-8ee9d90c-5993-4e58-8ad4-e3a715932afd');\n",
              "          const dataTable =\n",
              "            await google.colab.kernel.invokeFunction('convertToInteractive',\n",
              "                                                     [key], {});\n",
              "          if (!dataTable) return;\n",
              "\n",
              "          const docLinkHtml = 'Like what you see? Visit the ' +\n",
              "            '<a target=\"_blank\" href=https://colab.research.google.com/notebooks/data_table.ipynb>data table notebook</a>'\n",
              "            + ' to learn more about interactive tables.';\n",
              "          element.innerHTML = '';\n",
              "          dataTable['output_type'] = 'display_data';\n",
              "          await google.colab.output.renderOutput(dataTable, element);\n",
              "          const docLink = document.createElement('div');\n",
              "          docLink.innerHTML = docLinkHtml;\n",
              "          element.appendChild(docLink);\n",
              "        }\n",
              "      </script>\n",
              "    </div>\n",
              "  </div>\n",
              "  "
            ]
          },
          "metadata": {},
          "execution_count": 90
        }
      ]
    },
    {
      "cell_type": "markdown",
      "source": [
        "**Important**: Take note of the syntax here. We surround each condition with parentheses, and we use bitwise operators (`&`, `|`, `~`) instead of logical operators (`and`, `or`, `not`)."
      ],
      "metadata": {
        "id": "EN8IUoAH6bbj"
      }
    },
    {
      "cell_type": "markdown",
      "source": [
        "This mode of row selection/filtering is called \"boolean indexing\" because the selection is based on the specified condition evaluating to `True` or `False` (aka boolean). Rows that satisfy the condition are selected; those do not are filtered out. You can see the condition for the above example gets evaluated for each row as `True`/`False`:"
      ],
      "metadata": {
        "id": "yb0JINE69DV5"
      }
    },
    {
      "cell_type": "code",
      "source": [
        "(singapore_cars.year == 2021) & (singapore_cars.fuel == 'Petrol')"
      ],
      "metadata": {
        "colab": {
          "base_uri": "https://localhost:8080/"
        },
        "id": "GO6bHj8i-IBH",
        "outputId": "aa2ef767-0a71-4578-9ec9-3464b4569509"
      },
      "execution_count": null,
      "outputs": [
        {
          "output_type": "execute_result",
          "data": {
            "text/plain": [
              "0       False\n",
              "1       False\n",
              "2       False\n",
              "3       False\n",
              "4       False\n",
              "        ...  \n",
              "2805    False\n",
              "2806     True\n",
              "2807    False\n",
              "2808     True\n",
              "2809    False\n",
              "Length: 2810, dtype: bool"
            ]
          },
          "metadata": {},
          "execution_count": 91
        }
      ]
    },
    {
      "cell_type": "markdown",
      "source": [
        "Think of `True` as 1 and `False` as 0, summing along the resulting `Series` gives us the number of rows that satisfy our condition, which matches our boolean indexing results above:"
      ],
      "metadata": {
        "id": "l-NiTFad-gye"
      }
    },
    {
      "cell_type": "code",
      "source": [
        "sum((singapore_cars.year == 2021) & (singapore_cars.fuel == 'Petrol'))"
      ],
      "metadata": {
        "colab": {
          "base_uri": "https://localhost:8080/"
        },
        "id": "_7fGhwBR-I10",
        "outputId": "8e36ebea-643b-4c8e-871e-500b2b41e6bf"
      },
      "execution_count": null,
      "outputs": [
        {
          "output_type": "execute_result",
          "data": {
            "text/plain": [
              "235"
            ]
          },
          "metadata": {},
          "execution_count": 92
        }
      ]
    },
    {
      "cell_type": "markdown",
      "source": [
        "### 3.2.4. Exploring the data\n",
        "\n",
        "Exploratory analysis is crucial in understanding the data. Pandas provides functions such as `value_counts`, `nunique`, `describe` alongside common summary statistical functions including `max`, `min`, `mean`, `median` to help us with the process."
      ],
      "metadata": {
        "id": "JW-7uOl_ATPX"
      }
    },
    {
      "cell_type": "markdown",
      "source": [
        "First, recall the `number` column has many missing values, which means those records do not correspond to any registration:"
      ],
      "metadata": {
        "id": "bTUSgNkHB_F-"
      }
    },
    {
      "cell_type": "code",
      "source": [
        "singapore_cars.info()"
      ],
      "metadata": {
        "colab": {
          "base_uri": "https://localhost:8080/"
        },
        "id": "fXP-Ee5hki74",
        "outputId": "78ed6c2d-5adc-414f-fc30-ee3285d3a021"
      },
      "execution_count": null,
      "outputs": [
        {
          "output_type": "stream",
          "name": "stdout",
          "text": [
            "<class 'pandas.core.frame.DataFrame'>\n",
            "RangeIndex: 2810 entries, 0 to 2809\n",
            "Data columns (total 5 columns):\n",
            " #   Column  Non-Null Count  Dtype  \n",
            "---  ------  --------------  -----  \n",
            " 0   year    2810 non-null   int64  \n",
            " 1   make    2810 non-null   object \n",
            " 2   fuel    2810 non-null   object \n",
            " 3   type    2810 non-null   object \n",
            " 4   number  1432 non-null   float64\n",
            "dtypes: float64(1), int64(1), object(3)\n",
            "memory usage: 109.9+ KB\n"
          ]
        }
      ]
    },
    {
      "cell_type": "markdown",
      "source": [
        "Let's filter them out using boolean indexing:"
      ],
      "metadata": {
        "id": "j38BPaURkyxv"
      }
    },
    {
      "cell_type": "code",
      "source": [
        "singapore_cars_cleaned = singapore_cars[~np.isnan(singapore_cars.number)]\n",
        "singapore_cars_cleaned.info()"
      ],
      "metadata": {
        "colab": {
          "base_uri": "https://localhost:8080/"
        },
        "id": "dNV39fTjCb4C",
        "outputId": "1ed3d305-eaab-48e4-d5d7-0fdba8b17c01"
      },
      "execution_count": null,
      "outputs": [
        {
          "output_type": "stream",
          "name": "stdout",
          "text": [
            "<class 'pandas.core.frame.DataFrame'>\n",
            "Int64Index: 1432 entries, 0 to 2808\n",
            "Data columns (total 5 columns):\n",
            " #   Column  Non-Null Count  Dtype  \n",
            "---  ------  --------------  -----  \n",
            " 0   year    1432 non-null   int64  \n",
            " 1   make    1432 non-null   object \n",
            " 2   fuel    1432 non-null   object \n",
            " 3   type    1432 non-null   object \n",
            " 4   number  1432 non-null   float64\n",
            "dtypes: float64(1), int64(1), object(3)\n",
            "memory usage: 67.1+ KB\n"
          ]
        }
      ]
    },
    {
      "cell_type": "markdown",
      "source": [
        "Note the use of NumPy's universal function `np.isnan` on the numbers column (which is a Series). Boolean indexing just needs each row to evaluate to `True` or `False`, so any NumPy or Pandas function that operates on a Series and returns another Series of boolean can be used. This will be useful to keep in mind for the exercises coming right up!"
      ],
      "metadata": {
        "id": "4HjDRtRbfU0S"
      }
    },
    {
      "cell_type": "markdown",
      "source": [
        "#### How many unique rows?"
      ],
      "metadata": {
        "id": "f9vxgM-clCL6"
      }
    },
    {
      "cell_type": "markdown",
      "source": [
        "How many different types and makes of cars are registered in Singapore over time?"
      ],
      "metadata": {
        "id": "7fqlzLDWBD73"
      }
    },
    {
      "cell_type": "code",
      "source": [
        "singapore_cars_cleaned.year.value_counts()"
      ],
      "metadata": {
        "colab": {
          "base_uri": "https://localhost:8080/"
        },
        "id": "_26w9sY3AeyG",
        "outputId": "124cea7a-ca88-4864-ad84-78059baebbc0"
      },
      "execution_count": null,
      "outputs": [
        {
          "output_type": "execute_result",
          "data": {
            "text/plain": [
              "2017    232\n",
              "2021    219\n",
              "2018    199\n",
              "2019    198\n",
              "2016    197\n",
              "2020    196\n",
              "2015    191\n",
              "Name: year, dtype: int64"
            ]
          },
          "metadata": {},
          "execution_count": 95
        }
      ]
    },
    {
      "cell_type": "markdown",
      "source": [
        "Seems like the number of different types and makes of cars registered in Signapore are fairly constant over time. Just to be sure, we can check the breakdown in percentage:"
      ],
      "metadata": {
        "id": "NgjTlCXqFWWK"
      }
    },
    {
      "cell_type": "code",
      "source": [
        "singapore_cars_cleaned.year.value_counts(normalize=True)"
      ],
      "metadata": {
        "colab": {
          "base_uri": "https://localhost:8080/"
        },
        "id": "Hhp53UqHFjc2",
        "outputId": "6936e014-e786-40c3-f02b-565999a68d89"
      },
      "execution_count": null,
      "outputs": [
        {
          "output_type": "execute_result",
          "data": {
            "text/plain": [
              "2017    0.162011\n",
              "2021    0.152933\n",
              "2018    0.138966\n",
              "2019    0.138268\n",
              "2016    0.137570\n",
              "2020    0.136872\n",
              "2015    0.133380\n",
              "Name: year, dtype: float64"
            ]
          },
          "metadata": {},
          "execution_count": 96
        }
      ]
    },
    {
      "cell_type": "markdown",
      "source": [
        "Let's drill down to the 2021 registration data:"
      ],
      "metadata": {
        "id": "Nj1QZpkiBfaw"
      }
    },
    {
      "cell_type": "code",
      "source": [
        "singapore_cars_2021 = singapore_cars_cleaned[singapore_cars_cleaned.year == 2021]\n",
        "singapore_cars_2021"
      ],
      "metadata": {
        "colab": {
          "base_uri": "https://localhost:8080/"
        },
        "id": "c_P1yolRBWx6",
        "outputId": "8dde988f-b670-4c77-c498-4d68f118b6e3"
      },
      "execution_count": null,
      "outputs": [
        {
          "output_type": "execute_result",
          "data": {
            "text/plain": [
              "      year         make    fuel                type  number\n",
              "2379  2021         AUDI  Petrol           Hatchback    34.0\n",
              "2380  2021         AUDI  Others           Hatchback   339.0\n",
              "2381  2021       AUSTIN  Petrol           Hatchback     1.0\n",
              "2382  2021       B.M.W.  Petrol           Hatchback  1438.0\n",
              "2384  2021       B.M.W.  Others           Hatchback     9.0\n",
              "...    ...          ...     ...                 ...     ...\n",
              "2791  2021  ROLLS ROYCE  Petrol  Coupe/ Convertible    23.0\n",
              "2803  2021       TOYOTA  Petrol  Coupe/ Convertible    27.0\n",
              "2806  2021   VOLKSWAGEN  Petrol  Coupe/ Convertible     2.0\n",
              "2807  2021   VOLKSWAGEN  Others  Coupe/ Convertible     1.0\n",
              "2808  2021        VOLVO  Petrol  Coupe/ Convertible     2.0\n",
              "\n",
              "[219 rows x 5 columns]"
            ],
            "text/html": [
              "\n",
              "  <div id=\"df-c800dc56-99fc-489a-8904-6f9b12815a5e\">\n",
              "    <div class=\"colab-df-container\">\n",
              "      <div>\n",
              "<style scoped>\n",
              "    .dataframe tbody tr th:only-of-type {\n",
              "        vertical-align: middle;\n",
              "    }\n",
              "\n",
              "    .dataframe tbody tr th {\n",
              "        vertical-align: top;\n",
              "    }\n",
              "\n",
              "    .dataframe thead th {\n",
              "        text-align: right;\n",
              "    }\n",
              "</style>\n",
              "<table border=\"1\" class=\"dataframe\">\n",
              "  <thead>\n",
              "    <tr style=\"text-align: right;\">\n",
              "      <th></th>\n",
              "      <th>year</th>\n",
              "      <th>make</th>\n",
              "      <th>fuel</th>\n",
              "      <th>type</th>\n",
              "      <th>number</th>\n",
              "    </tr>\n",
              "  </thead>\n",
              "  <tbody>\n",
              "    <tr>\n",
              "      <th>2379</th>\n",
              "      <td>2021</td>\n",
              "      <td>AUDI</td>\n",
              "      <td>Petrol</td>\n",
              "      <td>Hatchback</td>\n",
              "      <td>34.0</td>\n",
              "    </tr>\n",
              "    <tr>\n",
              "      <th>2380</th>\n",
              "      <td>2021</td>\n",
              "      <td>AUDI</td>\n",
              "      <td>Others</td>\n",
              "      <td>Hatchback</td>\n",
              "      <td>339.0</td>\n",
              "    </tr>\n",
              "    <tr>\n",
              "      <th>2381</th>\n",
              "      <td>2021</td>\n",
              "      <td>AUSTIN</td>\n",
              "      <td>Petrol</td>\n",
              "      <td>Hatchback</td>\n",
              "      <td>1.0</td>\n",
              "    </tr>\n",
              "    <tr>\n",
              "      <th>2382</th>\n",
              "      <td>2021</td>\n",
              "      <td>B.M.W.</td>\n",
              "      <td>Petrol</td>\n",
              "      <td>Hatchback</td>\n",
              "      <td>1438.0</td>\n",
              "    </tr>\n",
              "    <tr>\n",
              "      <th>2384</th>\n",
              "      <td>2021</td>\n",
              "      <td>B.M.W.</td>\n",
              "      <td>Others</td>\n",
              "      <td>Hatchback</td>\n",
              "      <td>9.0</td>\n",
              "    </tr>\n",
              "    <tr>\n",
              "      <th>...</th>\n",
              "      <td>...</td>\n",
              "      <td>...</td>\n",
              "      <td>...</td>\n",
              "      <td>...</td>\n",
              "      <td>...</td>\n",
              "    </tr>\n",
              "    <tr>\n",
              "      <th>2791</th>\n",
              "      <td>2021</td>\n",
              "      <td>ROLLS ROYCE</td>\n",
              "      <td>Petrol</td>\n",
              "      <td>Coupe/ Convertible</td>\n",
              "      <td>23.0</td>\n",
              "    </tr>\n",
              "    <tr>\n",
              "      <th>2803</th>\n",
              "      <td>2021</td>\n",
              "      <td>TOYOTA</td>\n",
              "      <td>Petrol</td>\n",
              "      <td>Coupe/ Convertible</td>\n",
              "      <td>27.0</td>\n",
              "    </tr>\n",
              "    <tr>\n",
              "      <th>2806</th>\n",
              "      <td>2021</td>\n",
              "      <td>VOLKSWAGEN</td>\n",
              "      <td>Petrol</td>\n",
              "      <td>Coupe/ Convertible</td>\n",
              "      <td>2.0</td>\n",
              "    </tr>\n",
              "    <tr>\n",
              "      <th>2807</th>\n",
              "      <td>2021</td>\n",
              "      <td>VOLKSWAGEN</td>\n",
              "      <td>Others</td>\n",
              "      <td>Coupe/ Convertible</td>\n",
              "      <td>1.0</td>\n",
              "    </tr>\n",
              "    <tr>\n",
              "      <th>2808</th>\n",
              "      <td>2021</td>\n",
              "      <td>VOLVO</td>\n",
              "      <td>Petrol</td>\n",
              "      <td>Coupe/ Convertible</td>\n",
              "      <td>2.0</td>\n",
              "    </tr>\n",
              "  </tbody>\n",
              "</table>\n",
              "<p>219 rows × 5 columns</p>\n",
              "</div>\n",
              "      <button class=\"colab-df-convert\" onclick=\"convertToInteractive('df-c800dc56-99fc-489a-8904-6f9b12815a5e')\"\n",
              "              title=\"Convert this dataframe to an interactive table.\"\n",
              "              style=\"display:none;\">\n",
              "        \n",
              "  <svg xmlns=\"http://www.w3.org/2000/svg\" height=\"24px\"viewBox=\"0 0 24 24\"\n",
              "       width=\"24px\">\n",
              "    <path d=\"M0 0h24v24H0V0z\" fill=\"none\"/>\n",
              "    <path d=\"M18.56 5.44l.94 2.06.94-2.06 2.06-.94-2.06-.94-.94-2.06-.94 2.06-2.06.94zm-11 1L8.5 8.5l.94-2.06 2.06-.94-2.06-.94L8.5 2.5l-.94 2.06-2.06.94zm10 10l.94 2.06.94-2.06 2.06-.94-2.06-.94-.94-2.06-.94 2.06-2.06.94z\"/><path d=\"M17.41 7.96l-1.37-1.37c-.4-.4-.92-.59-1.43-.59-.52 0-1.04.2-1.43.59L10.3 9.45l-7.72 7.72c-.78.78-.78 2.05 0 2.83L4 21.41c.39.39.9.59 1.41.59.51 0 1.02-.2 1.41-.59l7.78-7.78 2.81-2.81c.8-.78.8-2.07 0-2.86zM5.41 20L4 18.59l7.72-7.72 1.47 1.35L5.41 20z\"/>\n",
              "  </svg>\n",
              "      </button>\n",
              "      \n",
              "  <style>\n",
              "    .colab-df-container {\n",
              "      display:flex;\n",
              "      flex-wrap:wrap;\n",
              "      gap: 12px;\n",
              "    }\n",
              "\n",
              "    .colab-df-convert {\n",
              "      background-color: #E8F0FE;\n",
              "      border: none;\n",
              "      border-radius: 50%;\n",
              "      cursor: pointer;\n",
              "      display: none;\n",
              "      fill: #1967D2;\n",
              "      height: 32px;\n",
              "      padding: 0 0 0 0;\n",
              "      width: 32px;\n",
              "    }\n",
              "\n",
              "    .colab-df-convert:hover {\n",
              "      background-color: #E2EBFA;\n",
              "      box-shadow: 0px 1px 2px rgba(60, 64, 67, 0.3), 0px 1px 3px 1px rgba(60, 64, 67, 0.15);\n",
              "      fill: #174EA6;\n",
              "    }\n",
              "\n",
              "    [theme=dark] .colab-df-convert {\n",
              "      background-color: #3B4455;\n",
              "      fill: #D2E3FC;\n",
              "    }\n",
              "\n",
              "    [theme=dark] .colab-df-convert:hover {\n",
              "      background-color: #434B5C;\n",
              "      box-shadow: 0px 1px 3px 1px rgba(0, 0, 0, 0.15);\n",
              "      filter: drop-shadow(0px 1px 2px rgba(0, 0, 0, 0.3));\n",
              "      fill: #FFFFFF;\n",
              "    }\n",
              "  </style>\n",
              "\n",
              "      <script>\n",
              "        const buttonEl =\n",
              "          document.querySelector('#df-c800dc56-99fc-489a-8904-6f9b12815a5e button.colab-df-convert');\n",
              "        buttonEl.style.display =\n",
              "          google.colab.kernel.accessAllowed ? 'block' : 'none';\n",
              "\n",
              "        async function convertToInteractive(key) {\n",
              "          const element = document.querySelector('#df-c800dc56-99fc-489a-8904-6f9b12815a5e');\n",
              "          const dataTable =\n",
              "            await google.colab.kernel.invokeFunction('convertToInteractive',\n",
              "                                                     [key], {});\n",
              "          if (!dataTable) return;\n",
              "\n",
              "          const docLinkHtml = 'Like what you see? Visit the ' +\n",
              "            '<a target=\"_blank\" href=https://colab.research.google.com/notebooks/data_table.ipynb>data table notebook</a>'\n",
              "            + ' to learn more about interactive tables.';\n",
              "          element.innerHTML = '';\n",
              "          dataTable['output_type'] = 'display_data';\n",
              "          await google.colab.output.renderOutput(dataTable, element);\n",
              "          const docLink = document.createElement('div');\n",
              "          docLink.innerHTML = docLinkHtml;\n",
              "          element.appendChild(docLink);\n",
              "        }\n",
              "      </script>\n",
              "    </div>\n",
              "  </div>\n",
              "  "
            ]
          },
          "metadata": {},
          "execution_count": 97
        }
      ]
    },
    {
      "cell_type": "markdown",
      "source": [
        "What are the unique makes registered in 2021?"
      ],
      "metadata": {
        "id": "SmJbUQurGyzu"
      }
    },
    {
      "cell_type": "code",
      "source": [
        "singapore_cars_2021.make.unique()"
      ],
      "metadata": {
        "colab": {
          "base_uri": "https://localhost:8080/"
        },
        "id": "PbZV-jnqGjyj",
        "outputId": "b48ee58c-7d32-4613-e581-fdc0a87b6aa5"
      },
      "execution_count": null,
      "outputs": [
        {
          "output_type": "execute_result",
          "data": {
            "text/plain": [
              "array(['AUDI', 'AUSTIN', 'B.M.W.', 'BLUECAR', 'BYD', 'FIAT', 'FORD',\n",
              "       'HONDA', 'HYUNDAI', 'KIA', 'MAZDA', 'MERCEDES BENZ', 'MINI',\n",
              "       'MITSUBISHI', 'NISSAN', 'OPEL', 'PERODUA', 'PEUGEOT', 'PORSCHE',\n",
              "       'RENAULT', 'SEAT', 'SKODA', 'SUBARU', 'SUZUKI', 'TESLA', 'TOYOTA',\n",
              "       'VOLKSWAGEN', 'ALFA ROMEO', 'BENTLEY', 'CITROEN', 'DATSUN',\n",
              "       'INFINITI', 'JAGUAR', 'MASERATI', 'MITSUOKA', 'POLESTAR',\n",
              "       'ROLLS ROYCE', 'VOLVO', 'LAND ROVER', 'M.G.', 'MAXUS', 'SSANGYONG',\n",
              "       'ASTON MARTIN', 'JEEP', 'LAMBORGHINI', 'ALPINA', 'ALPINE',\n",
              "       'DAIHATSU', 'FERRARI', 'LOTUS', 'Mclaren', 'MORGAN'], dtype=object)"
            ]
          },
          "metadata": {},
          "execution_count": 98
        }
      ]
    },
    {
      "cell_type": "markdown",
      "source": [
        "How many unique values are there?"
      ],
      "metadata": {
        "id": "hAUNjbzFG2S1"
      }
    },
    {
      "cell_type": "code",
      "source": [
        "singapore_cars_2021.make.nunique()"
      ],
      "metadata": {
        "colab": {
          "base_uri": "https://localhost:8080/"
        },
        "id": "rZtRZ94MG381",
        "outputId": "a31bb5b6-a050-4205-ac8f-1dca8edc119c"
      },
      "execution_count": null,
      "outputs": [
        {
          "output_type": "execute_result",
          "data": {
            "text/plain": [
              "52"
            ]
          },
          "metadata": {},
          "execution_count": 99
        }
      ]
    },
    {
      "cell_type": "markdown",
      "source": [
        "#### How to calculate summary statistics?"
      ],
      "metadata": {
        "id": "pBItKOiwlbCK"
      }
    },
    {
      "cell_type": "markdown",
      "source": [
        "We can find basic statistics like we did on an `ndarray`, for example, finding the maximum number of cars registered in 2021 by make, fuel and type:"
      ],
      "metadata": {
        "id": "Hb9dHqy9DTwi"
      }
    },
    {
      "cell_type": "code",
      "source": [
        "singapore_cars_2021.number.max()"
      ],
      "metadata": {
        "colab": {
          "base_uri": "https://localhost:8080/"
        },
        "id": "QC24lMg6Ebid",
        "outputId": "aff42723-33da-4007-9f6a-584e36ffbd03"
      },
      "execution_count": null,
      "outputs": [
        {
          "output_type": "execute_result",
          "data": {
            "text/plain": [
              "2557.0"
            ]
          },
          "metadata": {},
          "execution_count": 100
        }
      ]
    },
    {
      "cell_type": "markdown",
      "source": [
        "What is this most popular car (make-fule-type)?"
      ],
      "metadata": {
        "id": "t2a11vrPGRkR"
      }
    },
    {
      "cell_type": "code",
      "source": [
        "singapore_cars_2021.iloc[singapore_cars_2021.number.argmax(), ]"
      ],
      "metadata": {
        "colab": {
          "base_uri": "https://localhost:8080/"
        },
        "id": "dttz4heeEpk3",
        "outputId": "9a8b2044-e7db-48ce-a923-e525796b4b4f"
      },
      "execution_count": null,
      "outputs": [
        {
          "output_type": "execute_result",
          "data": {
            "text/plain": [
              "year                        2021\n",
              "make               MERCEDES BENZ\n",
              "fuel                      Petrol\n",
              "type      Sports Utility Vehicle\n",
              "number                    2557.0\n",
              "Name: 2684, dtype: object"
            ]
          },
          "metadata": {},
          "execution_count": 101
        }
      ]
    },
    {
      "cell_type": "markdown",
      "source": [
        "Going back to the all-time cleaned dataset, to quickly get common summary statistics for all columns at once:"
      ],
      "metadata": {
        "id": "bUPQK40fJQKQ"
      }
    },
    {
      "cell_type": "code",
      "source": [
        "singapore_cars_cleaned.describe(include='all')"
      ],
      "metadata": {
        "colab": {
          "base_uri": "https://localhost:8080/"
        },
        "id": "hi4xCBeTHO77",
        "outputId": "75c4f011-82f3-4b2b-d35b-8b6e82ff4056"
      },
      "execution_count": null,
      "outputs": [
        {
          "output_type": "execute_result",
          "data": {
            "text/plain": [
              "              year    make    fuel                    type        number\n",
              "count   1432.00000    1432    1432                    1432   1432.000000\n",
              "unique         NaN      71       3                       5           NaN\n",
              "top            NaN  B.M.W.  Petrol  Sports Utility Vehicle           NaN\n",
              "freq           NaN      82     950                     351           NaN\n",
              "mean    2018.03352     NaN     NaN                     NaN    334.879190\n",
              "std        1.99412     NaN     NaN                     NaN    820.163665\n",
              "min     2015.00000     NaN     NaN                     NaN      1.000000\n",
              "25%     2016.00000     NaN     NaN                     NaN      5.000000\n",
              "50%     2018.00000     NaN     NaN                     NaN     34.000000\n",
              "75%     2020.00000     NaN     NaN                     NaN    235.250000\n",
              "max     2021.00000     NaN     NaN                     NaN  10109.000000"
            ],
            "text/html": [
              "\n",
              "  <div id=\"df-f0bbb694-de96-4b9e-b94c-945d3cf93d58\">\n",
              "    <div class=\"colab-df-container\">\n",
              "      <div>\n",
              "<style scoped>\n",
              "    .dataframe tbody tr th:only-of-type {\n",
              "        vertical-align: middle;\n",
              "    }\n",
              "\n",
              "    .dataframe tbody tr th {\n",
              "        vertical-align: top;\n",
              "    }\n",
              "\n",
              "    .dataframe thead th {\n",
              "        text-align: right;\n",
              "    }\n",
              "</style>\n",
              "<table border=\"1\" class=\"dataframe\">\n",
              "  <thead>\n",
              "    <tr style=\"text-align: right;\">\n",
              "      <th></th>\n",
              "      <th>year</th>\n",
              "      <th>make</th>\n",
              "      <th>fuel</th>\n",
              "      <th>type</th>\n",
              "      <th>number</th>\n",
              "    </tr>\n",
              "  </thead>\n",
              "  <tbody>\n",
              "    <tr>\n",
              "      <th>count</th>\n",
              "      <td>1432.00000</td>\n",
              "      <td>1432</td>\n",
              "      <td>1432</td>\n",
              "      <td>1432</td>\n",
              "      <td>1432.000000</td>\n",
              "    </tr>\n",
              "    <tr>\n",
              "      <th>unique</th>\n",
              "      <td>NaN</td>\n",
              "      <td>71</td>\n",
              "      <td>3</td>\n",
              "      <td>5</td>\n",
              "      <td>NaN</td>\n",
              "    </tr>\n",
              "    <tr>\n",
              "      <th>top</th>\n",
              "      <td>NaN</td>\n",
              "      <td>B.M.W.</td>\n",
              "      <td>Petrol</td>\n",
              "      <td>Sports Utility Vehicle</td>\n",
              "      <td>NaN</td>\n",
              "    </tr>\n",
              "    <tr>\n",
              "      <th>freq</th>\n",
              "      <td>NaN</td>\n",
              "      <td>82</td>\n",
              "      <td>950</td>\n",
              "      <td>351</td>\n",
              "      <td>NaN</td>\n",
              "    </tr>\n",
              "    <tr>\n",
              "      <th>mean</th>\n",
              "      <td>2018.03352</td>\n",
              "      <td>NaN</td>\n",
              "      <td>NaN</td>\n",
              "      <td>NaN</td>\n",
              "      <td>334.879190</td>\n",
              "    </tr>\n",
              "    <tr>\n",
              "      <th>std</th>\n",
              "      <td>1.99412</td>\n",
              "      <td>NaN</td>\n",
              "      <td>NaN</td>\n",
              "      <td>NaN</td>\n",
              "      <td>820.163665</td>\n",
              "    </tr>\n",
              "    <tr>\n",
              "      <th>min</th>\n",
              "      <td>2015.00000</td>\n",
              "      <td>NaN</td>\n",
              "      <td>NaN</td>\n",
              "      <td>NaN</td>\n",
              "      <td>1.000000</td>\n",
              "    </tr>\n",
              "    <tr>\n",
              "      <th>25%</th>\n",
              "      <td>2016.00000</td>\n",
              "      <td>NaN</td>\n",
              "      <td>NaN</td>\n",
              "      <td>NaN</td>\n",
              "      <td>5.000000</td>\n",
              "    </tr>\n",
              "    <tr>\n",
              "      <th>50%</th>\n",
              "      <td>2018.00000</td>\n",
              "      <td>NaN</td>\n",
              "      <td>NaN</td>\n",
              "      <td>NaN</td>\n",
              "      <td>34.000000</td>\n",
              "    </tr>\n",
              "    <tr>\n",
              "      <th>75%</th>\n",
              "      <td>2020.00000</td>\n",
              "      <td>NaN</td>\n",
              "      <td>NaN</td>\n",
              "      <td>NaN</td>\n",
              "      <td>235.250000</td>\n",
              "    </tr>\n",
              "    <tr>\n",
              "      <th>max</th>\n",
              "      <td>2021.00000</td>\n",
              "      <td>NaN</td>\n",
              "      <td>NaN</td>\n",
              "      <td>NaN</td>\n",
              "      <td>10109.000000</td>\n",
              "    </tr>\n",
              "  </tbody>\n",
              "</table>\n",
              "</div>\n",
              "      <button class=\"colab-df-convert\" onclick=\"convertToInteractive('df-f0bbb694-de96-4b9e-b94c-945d3cf93d58')\"\n",
              "              title=\"Convert this dataframe to an interactive table.\"\n",
              "              style=\"display:none;\">\n",
              "        \n",
              "  <svg xmlns=\"http://www.w3.org/2000/svg\" height=\"24px\"viewBox=\"0 0 24 24\"\n",
              "       width=\"24px\">\n",
              "    <path d=\"M0 0h24v24H0V0z\" fill=\"none\"/>\n",
              "    <path d=\"M18.56 5.44l.94 2.06.94-2.06 2.06-.94-2.06-.94-.94-2.06-.94 2.06-2.06.94zm-11 1L8.5 8.5l.94-2.06 2.06-.94-2.06-.94L8.5 2.5l-.94 2.06-2.06.94zm10 10l.94 2.06.94-2.06 2.06-.94-2.06-.94-.94-2.06-.94 2.06-2.06.94z\"/><path d=\"M17.41 7.96l-1.37-1.37c-.4-.4-.92-.59-1.43-.59-.52 0-1.04.2-1.43.59L10.3 9.45l-7.72 7.72c-.78.78-.78 2.05 0 2.83L4 21.41c.39.39.9.59 1.41.59.51 0 1.02-.2 1.41-.59l7.78-7.78 2.81-2.81c.8-.78.8-2.07 0-2.86zM5.41 20L4 18.59l7.72-7.72 1.47 1.35L5.41 20z\"/>\n",
              "  </svg>\n",
              "      </button>\n",
              "      \n",
              "  <style>\n",
              "    .colab-df-container {\n",
              "      display:flex;\n",
              "      flex-wrap:wrap;\n",
              "      gap: 12px;\n",
              "    }\n",
              "\n",
              "    .colab-df-convert {\n",
              "      background-color: #E8F0FE;\n",
              "      border: none;\n",
              "      border-radius: 50%;\n",
              "      cursor: pointer;\n",
              "      display: none;\n",
              "      fill: #1967D2;\n",
              "      height: 32px;\n",
              "      padding: 0 0 0 0;\n",
              "      width: 32px;\n",
              "    }\n",
              "\n",
              "    .colab-df-convert:hover {\n",
              "      background-color: #E2EBFA;\n",
              "      box-shadow: 0px 1px 2px rgba(60, 64, 67, 0.3), 0px 1px 3px 1px rgba(60, 64, 67, 0.15);\n",
              "      fill: #174EA6;\n",
              "    }\n",
              "\n",
              "    [theme=dark] .colab-df-convert {\n",
              "      background-color: #3B4455;\n",
              "      fill: #D2E3FC;\n",
              "    }\n",
              "\n",
              "    [theme=dark] .colab-df-convert:hover {\n",
              "      background-color: #434B5C;\n",
              "      box-shadow: 0px 1px 3px 1px rgba(0, 0, 0, 0.15);\n",
              "      filter: drop-shadow(0px 1px 2px rgba(0, 0, 0, 0.3));\n",
              "      fill: #FFFFFF;\n",
              "    }\n",
              "  </style>\n",
              "\n",
              "      <script>\n",
              "        const buttonEl =\n",
              "          document.querySelector('#df-f0bbb694-de96-4b9e-b94c-945d3cf93d58 button.colab-df-convert');\n",
              "        buttonEl.style.display =\n",
              "          google.colab.kernel.accessAllowed ? 'block' : 'none';\n",
              "\n",
              "        async function convertToInteractive(key) {\n",
              "          const element = document.querySelector('#df-f0bbb694-de96-4b9e-b94c-945d3cf93d58');\n",
              "          const dataTable =\n",
              "            await google.colab.kernel.invokeFunction('convertToInteractive',\n",
              "                                                     [key], {});\n",
              "          if (!dataTable) return;\n",
              "\n",
              "          const docLinkHtml = 'Like what you see? Visit the ' +\n",
              "            '<a target=\"_blank\" href=https://colab.research.google.com/notebooks/data_table.ipynb>data table notebook</a>'\n",
              "            + ' to learn more about interactive tables.';\n",
              "          element.innerHTML = '';\n",
              "          dataTable['output_type'] = 'display_data';\n",
              "          await google.colab.output.renderOutput(dataTable, element);\n",
              "          const docLink = document.createElement('div');\n",
              "          docLink.innerHTML = docLinkHtml;\n",
              "          element.appendChild(docLink);\n",
              "        }\n",
              "      </script>\n",
              "    </div>\n",
              "  </div>\n",
              "  "
            ]
          },
          "metadata": {},
          "execution_count": 102
        }
      ]
    },
    {
      "cell_type": "markdown",
      "source": [
        "**Important**: NaN values signify missing data. For instance, the categorical/string columns such as `make`, `fuel` have no value for `mean`, `std` etc; likewise, numeric columns such as `number` and `year` have no entries for the categorical summary statistics (`unique`, `top`, `freq`)."
      ],
      "metadata": {
        "id": "YDNOcNa1JXQV"
      }
    },
    {
      "cell_type": "markdown",
      "source": [
        "Notice often the output of a Pandas function is also a Pandas object, e.g. Series or DataFrame, or a NumPy ndarray. This means other Pandas/NumPy functions can also be applied on them. We will see some examples of chained operations in the following sections."
      ],
      "metadata": {
        "id": "jktryez30EC3"
      }
    },
    {
      "cell_type": "markdown",
      "source": [
        "### 3.2.5. Exercises: read and explore excel data"
      ],
      "metadata": {
        "id": "3jdkE99YhJtM"
      }
    },
    {
      "cell_type": "markdown",
      "source": [
        "Let's first prepare our environment with the latest version of the xlrd library. It's for reading data and formatting information from Excel files in the historical .xls format. After the installation completes, you will see a \"RESTART RUNTIME\" button, click on it to restart the environment so we can start using the newly installed library."
      ],
      "metadata": {
        "id": "3Wb5-AR9ISvp"
      }
    },
    {
      "cell_type": "code",
      "source": [
        "!pip install xlrd --upgrade"
      ],
      "metadata": {
        "colab": {
          "base_uri": "https://localhost:8080/"
        },
        "id": "SQZFDzdvmFdd",
        "outputId": "07123ad1-5bac-43ae-8eee-d93ebcca0dc2"
      },
      "execution_count": null,
      "outputs": [
        {
          "output_type": "stream",
          "name": "stdout",
          "text": [
            "Looking in indexes: https://pypi.org/simple, https://us-python.pkg.dev/colab-wheels/public/simple/\n",
            "Requirement already satisfied: xlrd in /usr/local/lib/python3.7/dist-packages (1.1.0)\n",
            "Collecting xlrd\n",
            "  Downloading xlrd-2.0.1-py2.py3-none-any.whl (96 kB)\n",
            "\u001b[K     |████████████████████████████████| 96 kB 3.3 MB/s \n",
            "\u001b[?25hInstalling collected packages: xlrd\n",
            "  Attempting uninstall: xlrd\n",
            "    Found existing installation: xlrd 1.1.0\n",
            "    Uninstalling xlrd-1.1.0:\n",
            "      Successfully uninstalled xlrd-1.1.0\n",
            "Successfully installed xlrd-2.0.1\n"
          ]
        }
      ]
    },
    {
      "cell_type": "markdown",
      "source": [
        "#### Step 1.\n",
        "\n",
        "Create a `DataFrame` by reading in the excel file from the given URL stored in the `exercise_data_url` variable. There are 3 sheets in the excel file, we only want the last sheet.\n",
        "\n",
        "Store the resulting DataFrame in a variable named `sg_cars_excel`:\n"
      ],
      "metadata": {
        "id": "r3CI3OznhORw"
      }
    },
    {
      "cell_type": "code",
      "source": [
        "%%script echo Remove this line after filling in your own code\n",
        "\n",
        "import pandas as pd\n",
        "\n",
        "exercise_data_url = 'https://raw.githubusercontent.com/worldbank/dec-python-course/main/1-foundations/3-numpy-and-pandas/data/Singapore_Annual_New_Car_Registrations_by_make_type.xls'\n",
        "\n",
        "# hint: use pd.read_excel, note sheet index starts with 0\n",
        "# Your code here\n",
        "\n",
        "assert sg_cars_excel.shape == (79, 12)"
      ],
      "metadata": {
        "colab": {
          "base_uri": "https://localhost:8080/"
        },
        "id": "p49zDWEUkVIh",
        "outputId": "3cb65883-d0a5-4b3f-f77b-a8f2f4728702"
      },
      "execution_count": null,
      "outputs": [
        {
          "output_type": "stream",
          "name": "stdout",
          "text": [
            "Remove this line after filling in your own code\n"
          ]
        }
      ]
    },
    {
      "cell_type": "markdown",
      "source": [
        "#### Step 2.\n",
        "\n",
        "Inspect the first 3 and last 5 rows of `sg_cars_excel`:"
      ],
      "metadata": {
        "id": "C0gpmDMRnuRe"
      }
    },
    {
      "cell_type": "code",
      "source": [
        "%%script echo Remove this line after filling in your own code\n",
        "\n",
        "# hint: use head\n",
        "# Your code here"
      ],
      "metadata": {
        "colab": {
          "base_uri": "https://localhost:8080/"
        },
        "id": "abugBJLdn-eJ",
        "outputId": "86e419e4-0d9d-474d-edac-1c717282fbfe"
      },
      "execution_count": null,
      "outputs": [
        {
          "output_type": "stream",
          "name": "stdout",
          "text": [
            "Remove this line after filling in your own code\n"
          ]
        }
      ]
    },
    {
      "cell_type": "code",
      "source": [
        "%%script echo Remove this line after filling in your own code\n",
        "\n",
        "# hint: use tail\n",
        "# Your code here"
      ],
      "metadata": {
        "colab": {
          "base_uri": "https://localhost:8080/"
        },
        "id": "MgPOYYtspVRr",
        "outputId": "1e062346-eeae-4ccc-8100-259c5fbd7eab"
      },
      "execution_count": null,
      "outputs": [
        {
          "output_type": "stream",
          "name": "stdout",
          "text": [
            "Remove this line after filling in your own code\n"
          ]
        }
      ]
    },
    {
      "cell_type": "markdown",
      "source": [
        "#### Step 3.\n",
        "\n",
        "Notice the first value row in `sg_cars_excel` is in fact the years and should be used as the column names. The DataFrame also contains 3 footer rows we want to exclude. Fix it by re-reading the excel file with additional parameters.\n",
        "\n",
        "Store the fixed DataFrame in `sg_cars_excel_fixed`:"
      ],
      "metadata": {
        "id": "-9oandV8oQQi"
      }
    },
    {
      "cell_type": "code",
      "source": [
        "%%script echo Remove this line after filling in your own code\n",
        "\n",
        "# hint: check out pd.read_excel's arguments: header=, skipfooter=\n",
        "# Your code here\n",
        "\n",
        "assert sg_cars_excel_fixed.columns[1] == 2011\n",
        "assert sg_cars_excel_fixed.Make.iloc[0] == 'Alfa Romeo'\n",
        "assert sg_cars_excel_fixed.columns[-1] == 2021\n",
        "assert sg_cars_excel_fixed.Make.iloc[-1] == 'Others'\n",
        "assert sg_cars_excel_fixed.shape == (75, 12)"
      ],
      "metadata": {
        "colab": {
          "base_uri": "https://localhost:8080/"
        },
        "id": "Mw2v9YIwpzB0",
        "outputId": "29db77d5-5bbd-4bef-c090-771802d150c7"
      },
      "execution_count": null,
      "outputs": [
        {
          "output_type": "stream",
          "name": "stdout",
          "text": [
            "Remove this line after filling in your own code\n"
          ]
        }
      ]
    },
    {
      "cell_type": "markdown",
      "source": [
        "#### Step 4.\n",
        "\n",
        "Inspect the summary statistics for every year in `sg_cars_excel_fixed`:"
      ],
      "metadata": {
        "id": "e6uAhtNWrv8T"
      }
    },
    {
      "cell_type": "code",
      "source": [
        "%%script echo Remove this line after filling in your own code\n",
        "\n",
        "# hint: use describe\n",
        "# Your code here"
      ],
      "metadata": {
        "colab": {
          "base_uri": "https://localhost:8080/"
        },
        "id": "O0OKRAaErhsO",
        "outputId": "b51befed-45ca-4138-a612-fc2cc95077d5"
      },
      "execution_count": null,
      "outputs": [
        {
          "output_type": "stream",
          "name": "stdout",
          "text": [
            "Remove this line after filling in your own code\n"
          ]
        }
      ]
    },
    {
      "cell_type": "markdown",
      "source": [
        "#### Step 5.\n",
        "\n",
        "Within the dataframe `sg_cars_excel_fixed`, isolate the annual numbers of new car registrations for the following 3 makes: \"Mercedes Benz\", \"Toyota\", \"Kia\" for all years. Store the resulting DataFrame in variable `sg_cars_excel_subset`:"
      ],
      "metadata": {
        "id": "453cyxxks7cn"
      }
    },
    {
      "cell_type": "code",
      "source": [
        "%%script echo Remove this line after filling in your own code\n",
        "\n",
        "# hint: use boolean indexing with .isin function on the make column\n",
        "#       You can run pd.Series.isin? to find documentation and usage examples\n",
        "# Your code here\n",
        "\n",
        "assert sg_cars_excel_subset.shape == (3, 12)\n",
        "assert \"Mercedes Benz\" in sg_cars_excel_subset.Make.values\n",
        "assert \"Toyota\" in sg_cars_excel_subset.Make.values\n",
        "assert \"Kia\" in sg_cars_excel_subset.Make.values"
      ],
      "metadata": {
        "colab": {
          "base_uri": "https://localhost:8080/"
        },
        "id": "P4Y0uSoBtafi",
        "outputId": "6eb3bac0-02cb-473b-f700-c3ef2b8c7255"
      },
      "execution_count": null,
      "outputs": [
        {
          "output_type": "stream",
          "name": "stdout",
          "text": [
            "Remove this line after filling in your own code\n"
          ]
        }
      ]
    },
    {
      "cell_type": "markdown",
      "source": [
        "#### Step 6.\n",
        "\n",
        "Only select the `Make` column and year 2019, 2020, and 2021 from the `sg_cars_excel_subset` DataFrame.\n",
        "\n",
        "Store the result in variable `sg_cars_excel_subsubset`:"
      ],
      "metadata": {
        "id": "INOrPAycuvLJ"
      }
    },
    {
      "cell_type": "code",
      "source": [
        "%%script echo Remove this line after filling in your own code\n",
        "\n",
        "# hint: use column selection\n",
        "# Your code here\n",
        "\n",
        "assert sg_cars_excel_subsubset.shape == (3, 4)\n",
        "assert sg_cars_excel_subsubset.columns.to_list() == ['Make', 2019, 2020, 2021]"
      ],
      "metadata": {
        "colab": {
          "base_uri": "https://localhost:8080/"
        },
        "id": "VTGMBzwdvJ56",
        "outputId": "0071ff51-bde5-4c2e-d660-0e8540238502"
      },
      "execution_count": null,
      "outputs": [
        {
          "output_type": "stream",
          "name": "stdout",
          "text": [
            "Remove this line after filling in your own code\n"
          ]
        }
      ]
    },
    {
      "cell_type": "markdown",
      "source": [
        "## 3.3. Data Wrangling\n",
        "\n",
        "All that we have learned so far gives us some basic understand of data. Next let's find out how to perform data wrangling, including data cleaning, grouping, reshaping, merging and concatenation using Pandas."
      ],
      "metadata": {
        "id": "VInfxOuHfuCK"
      }
    },
    {
      "cell_type": "markdown",
      "source": [
        "### 3.3.1. Data Cleaning\n",
        "\n",
        "In this section, we will take a look at dropping missing values; creating, renaming, and dropping columns; type conversion; and sorting – all of which make our analysis easier. We will be working with the Singapore monthly new car registration data – a dataset similar to the annual car registration data we worked previously, just more granular."
      ],
      "metadata": {
        "id": "ahIn81CpIQWM"
      }
    },
    {
      "cell_type": "code",
      "source": [
        "import pandas as pd\n",
        "import numpy as np\n",
        "\n",
        "cars_monthly = pd.read_csv('https://raw.githubusercontent.com/worldbank/dec-python-course/main/1-foundations/3-numpy-and-pandas/data/Singapore_Monthly_New_Car_Registrations_by_make_type.csv')\n",
        "cars_monthly"
      ],
      "metadata": {
        "colab": {
          "base_uri": "https://localhost:8080/",
          "height": 424
        },
        "id": "_r10Q0ouI812",
        "outputId": "636ba747-0a75-452c-cbaa-8bf0d57fec65"
      },
      "execution_count": null,
      "outputs": [
        {
          "output_type": "execute_result",
          "data": {
            "text/plain": [
              "         month          make fuel_type        vehicle_type  number\n",
              "0      2016-01    ALFA ROMEO    Petrol           Hatchback     3.0\n",
              "1      2016-01        ALPINA    Petrol           Hatchback     0.0\n",
              "2      2016-01  ASTON MARTIN    Petrol           Hatchback     0.0\n",
              "3      2016-01          AUDI    Petrol           Hatchback    45.0\n",
              "4      2016-01        B.M.W.    Petrol           Hatchback     5.0\n",
              "...        ...           ...       ...                 ...     ...\n",
              "27910  2022-06       TRIUMPH    Petrol  Coupe/ Convertible     1.0\n",
              "27911  2022-06    VOLKSWAGEN    Petrol  Coupe/ Convertible     NaN\n",
              "27912  2022-06    VOLKSWAGEN    Others  Coupe/ Convertible     NaN\n",
              "27913  2022-06         VOLVO    Petrol  Coupe/ Convertible     NaN\n",
              "27914  2022-06         VOLVO    Others  Coupe/ Convertible     NaN\n",
              "\n",
              "[27915 rows x 5 columns]"
            ],
            "text/html": [
              "\n",
              "  <div id=\"df-cda757b1-1ab4-4041-a219-afa87e7d32af\">\n",
              "    <div class=\"colab-df-container\">\n",
              "      <div>\n",
              "<style scoped>\n",
              "    .dataframe tbody tr th:only-of-type {\n",
              "        vertical-align: middle;\n",
              "    }\n",
              "\n",
              "    .dataframe tbody tr th {\n",
              "        vertical-align: top;\n",
              "    }\n",
              "\n",
              "    .dataframe thead th {\n",
              "        text-align: right;\n",
              "    }\n",
              "</style>\n",
              "<table border=\"1\" class=\"dataframe\">\n",
              "  <thead>\n",
              "    <tr style=\"text-align: right;\">\n",
              "      <th></th>\n",
              "      <th>month</th>\n",
              "      <th>make</th>\n",
              "      <th>fuel_type</th>\n",
              "      <th>vehicle_type</th>\n",
              "      <th>number</th>\n",
              "    </tr>\n",
              "  </thead>\n",
              "  <tbody>\n",
              "    <tr>\n",
              "      <th>0</th>\n",
              "      <td>2016-01</td>\n",
              "      <td>ALFA ROMEO</td>\n",
              "      <td>Petrol</td>\n",
              "      <td>Hatchback</td>\n",
              "      <td>3.0</td>\n",
              "    </tr>\n",
              "    <tr>\n",
              "      <th>1</th>\n",
              "      <td>2016-01</td>\n",
              "      <td>ALPINA</td>\n",
              "      <td>Petrol</td>\n",
              "      <td>Hatchback</td>\n",
              "      <td>0.0</td>\n",
              "    </tr>\n",
              "    <tr>\n",
              "      <th>2</th>\n",
              "      <td>2016-01</td>\n",
              "      <td>ASTON MARTIN</td>\n",
              "      <td>Petrol</td>\n",
              "      <td>Hatchback</td>\n",
              "      <td>0.0</td>\n",
              "    </tr>\n",
              "    <tr>\n",
              "      <th>3</th>\n",
              "      <td>2016-01</td>\n",
              "      <td>AUDI</td>\n",
              "      <td>Petrol</td>\n",
              "      <td>Hatchback</td>\n",
              "      <td>45.0</td>\n",
              "    </tr>\n",
              "    <tr>\n",
              "      <th>4</th>\n",
              "      <td>2016-01</td>\n",
              "      <td>B.M.W.</td>\n",
              "      <td>Petrol</td>\n",
              "      <td>Hatchback</td>\n",
              "      <td>5.0</td>\n",
              "    </tr>\n",
              "    <tr>\n",
              "      <th>...</th>\n",
              "      <td>...</td>\n",
              "      <td>...</td>\n",
              "      <td>...</td>\n",
              "      <td>...</td>\n",
              "      <td>...</td>\n",
              "    </tr>\n",
              "    <tr>\n",
              "      <th>27910</th>\n",
              "      <td>2022-06</td>\n",
              "      <td>TRIUMPH</td>\n",
              "      <td>Petrol</td>\n",
              "      <td>Coupe/ Convertible</td>\n",
              "      <td>1.0</td>\n",
              "    </tr>\n",
              "    <tr>\n",
              "      <th>27911</th>\n",
              "      <td>2022-06</td>\n",
              "      <td>VOLKSWAGEN</td>\n",
              "      <td>Petrol</td>\n",
              "      <td>Coupe/ Convertible</td>\n",
              "      <td>NaN</td>\n",
              "    </tr>\n",
              "    <tr>\n",
              "      <th>27912</th>\n",
              "      <td>2022-06</td>\n",
              "      <td>VOLKSWAGEN</td>\n",
              "      <td>Others</td>\n",
              "      <td>Coupe/ Convertible</td>\n",
              "      <td>NaN</td>\n",
              "    </tr>\n",
              "    <tr>\n",
              "      <th>27913</th>\n",
              "      <td>2022-06</td>\n",
              "      <td>VOLVO</td>\n",
              "      <td>Petrol</td>\n",
              "      <td>Coupe/ Convertible</td>\n",
              "      <td>NaN</td>\n",
              "    </tr>\n",
              "    <tr>\n",
              "      <th>27914</th>\n",
              "      <td>2022-06</td>\n",
              "      <td>VOLVO</td>\n",
              "      <td>Others</td>\n",
              "      <td>Coupe/ Convertible</td>\n",
              "      <td>NaN</td>\n",
              "    </tr>\n",
              "  </tbody>\n",
              "</table>\n",
              "<p>27915 rows × 5 columns</p>\n",
              "</div>\n",
              "      <button class=\"colab-df-convert\" onclick=\"convertToInteractive('df-cda757b1-1ab4-4041-a219-afa87e7d32af')\"\n",
              "              title=\"Convert this dataframe to an interactive table.\"\n",
              "              style=\"display:none;\">\n",
              "        \n",
              "  <svg xmlns=\"http://www.w3.org/2000/svg\" height=\"24px\"viewBox=\"0 0 24 24\"\n",
              "       width=\"24px\">\n",
              "    <path d=\"M0 0h24v24H0V0z\" fill=\"none\"/>\n",
              "    <path d=\"M18.56 5.44l.94 2.06.94-2.06 2.06-.94-2.06-.94-.94-2.06-.94 2.06-2.06.94zm-11 1L8.5 8.5l.94-2.06 2.06-.94-2.06-.94L8.5 2.5l-.94 2.06-2.06.94zm10 10l.94 2.06.94-2.06 2.06-.94-2.06-.94-.94-2.06-.94 2.06-2.06.94z\"/><path d=\"M17.41 7.96l-1.37-1.37c-.4-.4-.92-.59-1.43-.59-.52 0-1.04.2-1.43.59L10.3 9.45l-7.72 7.72c-.78.78-.78 2.05 0 2.83L4 21.41c.39.39.9.59 1.41.59.51 0 1.02-.2 1.41-.59l7.78-7.78 2.81-2.81c.8-.78.8-2.07 0-2.86zM5.41 20L4 18.59l7.72-7.72 1.47 1.35L5.41 20z\"/>\n",
              "  </svg>\n",
              "      </button>\n",
              "      \n",
              "  <style>\n",
              "    .colab-df-container {\n",
              "      display:flex;\n",
              "      flex-wrap:wrap;\n",
              "      gap: 12px;\n",
              "    }\n",
              "\n",
              "    .colab-df-convert {\n",
              "      background-color: #E8F0FE;\n",
              "      border: none;\n",
              "      border-radius: 50%;\n",
              "      cursor: pointer;\n",
              "      display: none;\n",
              "      fill: #1967D2;\n",
              "      height: 32px;\n",
              "      padding: 0 0 0 0;\n",
              "      width: 32px;\n",
              "    }\n",
              "\n",
              "    .colab-df-convert:hover {\n",
              "      background-color: #E2EBFA;\n",
              "      box-shadow: 0px 1px 2px rgba(60, 64, 67, 0.3), 0px 1px 3px 1px rgba(60, 64, 67, 0.15);\n",
              "      fill: #174EA6;\n",
              "    }\n",
              "\n",
              "    [theme=dark] .colab-df-convert {\n",
              "      background-color: #3B4455;\n",
              "      fill: #D2E3FC;\n",
              "    }\n",
              "\n",
              "    [theme=dark] .colab-df-convert:hover {\n",
              "      background-color: #434B5C;\n",
              "      box-shadow: 0px 1px 3px 1px rgba(0, 0, 0, 0.15);\n",
              "      filter: drop-shadow(0px 1px 2px rgba(0, 0, 0, 0.3));\n",
              "      fill: #FFFFFF;\n",
              "    }\n",
              "  </style>\n",
              "\n",
              "      <script>\n",
              "        const buttonEl =\n",
              "          document.querySelector('#df-cda757b1-1ab4-4041-a219-afa87e7d32af button.colab-df-convert');\n",
              "        buttonEl.style.display =\n",
              "          google.colab.kernel.accessAllowed ? 'block' : 'none';\n",
              "\n",
              "        async function convertToInteractive(key) {\n",
              "          const element = document.querySelector('#df-cda757b1-1ab4-4041-a219-afa87e7d32af');\n",
              "          const dataTable =\n",
              "            await google.colab.kernel.invokeFunction('convertToInteractive',\n",
              "                                                     [key], {});\n",
              "          if (!dataTable) return;\n",
              "\n",
              "          const docLinkHtml = 'Like what you see? Visit the ' +\n",
              "            '<a target=\"_blank\" href=https://colab.research.google.com/notebooks/data_table.ipynb>data table notebook</a>'\n",
              "            + ' to learn more about interactive tables.';\n",
              "          element.innerHTML = '';\n",
              "          dataTable['output_type'] = 'display_data';\n",
              "          await google.colab.output.renderOutput(dataTable, element);\n",
              "          const docLink = document.createElement('div');\n",
              "          docLink.innerHTML = docLinkHtml;\n",
              "          element.appendChild(docLink);\n",
              "        }\n",
              "      </script>\n",
              "    </div>\n",
              "  </div>\n",
              "  "
            ]
          },
          "metadata": {},
          "execution_count": 111
        }
      ]
    },
    {
      "cell_type": "code",
      "source": [
        "cars_monthly.info()"
      ],
      "metadata": {
        "colab": {
          "base_uri": "https://localhost:8080/"
        },
        "id": "5E0-Nn_tM5_g",
        "outputId": "c09e7e62-abc3-4594-c2ac-c00f03eda984"
      },
      "execution_count": null,
      "outputs": [
        {
          "output_type": "stream",
          "name": "stdout",
          "text": [
            "<class 'pandas.core.frame.DataFrame'>\n",
            "RangeIndex: 27915 entries, 0 to 27914\n",
            "Data columns (total 5 columns):\n",
            " #   Column        Non-Null Count  Dtype  \n",
            "---  ------        --------------  -----  \n",
            " 0   month         27915 non-null  object \n",
            " 1   make          27915 non-null  object \n",
            " 2   fuel_type     27915 non-null  object \n",
            " 3   vehicle_type  27915 non-null  object \n",
            " 4   number        16835 non-null  float64\n",
            "dtypes: float64(1), object(4)\n",
            "memory usage: 1.1+ MB\n"
          ]
        }
      ]
    },
    {
      "cell_type": "markdown",
      "source": [
        "#### **Handling missing values**"
      ],
      "metadata": {
        "id": "PD8HRVXNPAN9"
      }
    },
    {
      "cell_type": "markdown",
      "source": [
        "There are multiple approaches to handle missing values – see [Pandas' user guide on working with missing data](https://pandas.pydata.org/docs/user_guide/missing_data.html) for more details. In our case let's drop the rows with missing values for the `number` column, as those records indicate there is no corresponding car registration for that month, make, fuel and vehicle type:"
      ],
      "metadata": {
        "id": "hCbDeUmTLZS1"
      }
    },
    {
      "cell_type": "code",
      "source": [
        "cars_monthly.dropna(subset=['number'])"
      ],
      "metadata": {
        "colab": {
          "base_uri": "https://localhost:8080/"
        },
        "id": "rvoY0SvKLyt0",
        "outputId": "f0df6ce1-8837-4008-9783-f88c117bbaf7"
      },
      "execution_count": null,
      "outputs": [
        {
          "output_type": "execute_result",
          "data": {
            "text/plain": [
              "         month           make fuel_type        vehicle_type  number\n",
              "0      2016-01     ALFA ROMEO    Petrol           Hatchback     3.0\n",
              "1      2016-01         ALPINA    Petrol           Hatchback     0.0\n",
              "2      2016-01   ASTON MARTIN    Petrol           Hatchback     0.0\n",
              "3      2016-01           AUDI    Petrol           Hatchback    45.0\n",
              "4      2016-01         B.M.W.    Petrol           Hatchback     5.0\n",
              "...        ...            ...       ...                 ...     ...\n",
              "27876  2022-06  MERCEDES BENZ    Others  Coupe/ Convertible    12.0\n",
              "27879  2022-06     MITSUBISHI    Petrol  Coupe/ Convertible     1.0\n",
              "27890  2022-06        PORSCHE    Petrol  Coupe/ Convertible    31.0\n",
              "27907  2022-06         TOYOTA    Petrol  Coupe/ Convertible     2.0\n",
              "27910  2022-06        TRIUMPH    Petrol  Coupe/ Convertible     1.0\n",
              "\n",
              "[16835 rows x 5 columns]"
            ],
            "text/html": [
              "\n",
              "  <div id=\"df-cfa7bc66-2e4e-4650-b7f1-08d4d7a9309a\">\n",
              "    <div class=\"colab-df-container\">\n",
              "      <div>\n",
              "<style scoped>\n",
              "    .dataframe tbody tr th:only-of-type {\n",
              "        vertical-align: middle;\n",
              "    }\n",
              "\n",
              "    .dataframe tbody tr th {\n",
              "        vertical-align: top;\n",
              "    }\n",
              "\n",
              "    .dataframe thead th {\n",
              "        text-align: right;\n",
              "    }\n",
              "</style>\n",
              "<table border=\"1\" class=\"dataframe\">\n",
              "  <thead>\n",
              "    <tr style=\"text-align: right;\">\n",
              "      <th></th>\n",
              "      <th>month</th>\n",
              "      <th>make</th>\n",
              "      <th>fuel_type</th>\n",
              "      <th>vehicle_type</th>\n",
              "      <th>number</th>\n",
              "    </tr>\n",
              "  </thead>\n",
              "  <tbody>\n",
              "    <tr>\n",
              "      <th>0</th>\n",
              "      <td>2016-01</td>\n",
              "      <td>ALFA ROMEO</td>\n",
              "      <td>Petrol</td>\n",
              "      <td>Hatchback</td>\n",
              "      <td>3.0</td>\n",
              "    </tr>\n",
              "    <tr>\n",
              "      <th>1</th>\n",
              "      <td>2016-01</td>\n",
              "      <td>ALPINA</td>\n",
              "      <td>Petrol</td>\n",
              "      <td>Hatchback</td>\n",
              "      <td>0.0</td>\n",
              "    </tr>\n",
              "    <tr>\n",
              "      <th>2</th>\n",
              "      <td>2016-01</td>\n",
              "      <td>ASTON MARTIN</td>\n",
              "      <td>Petrol</td>\n",
              "      <td>Hatchback</td>\n",
              "      <td>0.0</td>\n",
              "    </tr>\n",
              "    <tr>\n",
              "      <th>3</th>\n",
              "      <td>2016-01</td>\n",
              "      <td>AUDI</td>\n",
              "      <td>Petrol</td>\n",
              "      <td>Hatchback</td>\n",
              "      <td>45.0</td>\n",
              "    </tr>\n",
              "    <tr>\n",
              "      <th>4</th>\n",
              "      <td>2016-01</td>\n",
              "      <td>B.M.W.</td>\n",
              "      <td>Petrol</td>\n",
              "      <td>Hatchback</td>\n",
              "      <td>5.0</td>\n",
              "    </tr>\n",
              "    <tr>\n",
              "      <th>...</th>\n",
              "      <td>...</td>\n",
              "      <td>...</td>\n",
              "      <td>...</td>\n",
              "      <td>...</td>\n",
              "      <td>...</td>\n",
              "    </tr>\n",
              "    <tr>\n",
              "      <th>27876</th>\n",
              "      <td>2022-06</td>\n",
              "      <td>MERCEDES BENZ</td>\n",
              "      <td>Others</td>\n",
              "      <td>Coupe/ Convertible</td>\n",
              "      <td>12.0</td>\n",
              "    </tr>\n",
              "    <tr>\n",
              "      <th>27879</th>\n",
              "      <td>2022-06</td>\n",
              "      <td>MITSUBISHI</td>\n",
              "      <td>Petrol</td>\n",
              "      <td>Coupe/ Convertible</td>\n",
              "      <td>1.0</td>\n",
              "    </tr>\n",
              "    <tr>\n",
              "      <th>27890</th>\n",
              "      <td>2022-06</td>\n",
              "      <td>PORSCHE</td>\n",
              "      <td>Petrol</td>\n",
              "      <td>Coupe/ Convertible</td>\n",
              "      <td>31.0</td>\n",
              "    </tr>\n",
              "    <tr>\n",
              "      <th>27907</th>\n",
              "      <td>2022-06</td>\n",
              "      <td>TOYOTA</td>\n",
              "      <td>Petrol</td>\n",
              "      <td>Coupe/ Convertible</td>\n",
              "      <td>2.0</td>\n",
              "    </tr>\n",
              "    <tr>\n",
              "      <th>27910</th>\n",
              "      <td>2022-06</td>\n",
              "      <td>TRIUMPH</td>\n",
              "      <td>Petrol</td>\n",
              "      <td>Coupe/ Convertible</td>\n",
              "      <td>1.0</td>\n",
              "    </tr>\n",
              "  </tbody>\n",
              "</table>\n",
              "<p>16835 rows × 5 columns</p>\n",
              "</div>\n",
              "      <button class=\"colab-df-convert\" onclick=\"convertToInteractive('df-cfa7bc66-2e4e-4650-b7f1-08d4d7a9309a')\"\n",
              "              title=\"Convert this dataframe to an interactive table.\"\n",
              "              style=\"display:none;\">\n",
              "        \n",
              "  <svg xmlns=\"http://www.w3.org/2000/svg\" height=\"24px\"viewBox=\"0 0 24 24\"\n",
              "       width=\"24px\">\n",
              "    <path d=\"M0 0h24v24H0V0z\" fill=\"none\"/>\n",
              "    <path d=\"M18.56 5.44l.94 2.06.94-2.06 2.06-.94-2.06-.94-.94-2.06-.94 2.06-2.06.94zm-11 1L8.5 8.5l.94-2.06 2.06-.94-2.06-.94L8.5 2.5l-.94 2.06-2.06.94zm10 10l.94 2.06.94-2.06 2.06-.94-2.06-.94-.94-2.06-.94 2.06-2.06.94z\"/><path d=\"M17.41 7.96l-1.37-1.37c-.4-.4-.92-.59-1.43-.59-.52 0-1.04.2-1.43.59L10.3 9.45l-7.72 7.72c-.78.78-.78 2.05 0 2.83L4 21.41c.39.39.9.59 1.41.59.51 0 1.02-.2 1.41-.59l7.78-7.78 2.81-2.81c.8-.78.8-2.07 0-2.86zM5.41 20L4 18.59l7.72-7.72 1.47 1.35L5.41 20z\"/>\n",
              "  </svg>\n",
              "      </button>\n",
              "      \n",
              "  <style>\n",
              "    .colab-df-container {\n",
              "      display:flex;\n",
              "      flex-wrap:wrap;\n",
              "      gap: 12px;\n",
              "    }\n",
              "\n",
              "    .colab-df-convert {\n",
              "      background-color: #E8F0FE;\n",
              "      border: none;\n",
              "      border-radius: 50%;\n",
              "      cursor: pointer;\n",
              "      display: none;\n",
              "      fill: #1967D2;\n",
              "      height: 32px;\n",
              "      padding: 0 0 0 0;\n",
              "      width: 32px;\n",
              "    }\n",
              "\n",
              "    .colab-df-convert:hover {\n",
              "      background-color: #E2EBFA;\n",
              "      box-shadow: 0px 1px 2px rgba(60, 64, 67, 0.3), 0px 1px 3px 1px rgba(60, 64, 67, 0.15);\n",
              "      fill: #174EA6;\n",
              "    }\n",
              "\n",
              "    [theme=dark] .colab-df-convert {\n",
              "      background-color: #3B4455;\n",
              "      fill: #D2E3FC;\n",
              "    }\n",
              "\n",
              "    [theme=dark] .colab-df-convert:hover {\n",
              "      background-color: #434B5C;\n",
              "      box-shadow: 0px 1px 3px 1px rgba(0, 0, 0, 0.15);\n",
              "      filter: drop-shadow(0px 1px 2px rgba(0, 0, 0, 0.3));\n",
              "      fill: #FFFFFF;\n",
              "    }\n",
              "  </style>\n",
              "\n",
              "      <script>\n",
              "        const buttonEl =\n",
              "          document.querySelector('#df-cfa7bc66-2e4e-4650-b7f1-08d4d7a9309a button.colab-df-convert');\n",
              "        buttonEl.style.display =\n",
              "          google.colab.kernel.accessAllowed ? 'block' : 'none';\n",
              "\n",
              "        async function convertToInteractive(key) {\n",
              "          const element = document.querySelector('#df-cfa7bc66-2e4e-4650-b7f1-08d4d7a9309a');\n",
              "          const dataTable =\n",
              "            await google.colab.kernel.invokeFunction('convertToInteractive',\n",
              "                                                     [key], {});\n",
              "          if (!dataTable) return;\n",
              "\n",
              "          const docLinkHtml = 'Like what you see? Visit the ' +\n",
              "            '<a target=\"_blank\" href=https://colab.research.google.com/notebooks/data_table.ipynb>data table notebook</a>'\n",
              "            + ' to learn more about interactive tables.';\n",
              "          element.innerHTML = '';\n",
              "          dataTable['output_type'] = 'display_data';\n",
              "          await google.colab.output.renderOutput(dataTable, element);\n",
              "          const docLink = document.createElement('div');\n",
              "          docLink.innerHTML = docLinkHtml;\n",
              "          element.appendChild(docLink);\n",
              "        }\n",
              "      </script>\n",
              "    </div>\n",
              "  </div>\n",
              "  "
            ]
          },
          "metadata": {},
          "execution_count": 113
        }
      ]
    },
    {
      "cell_type": "markdown",
      "source": [
        "The argument `subset` here indicates which columns to evaluate for `na` values. If not specified, by default `dropna` will drop any row with any column containing `na` values.\n",
        "\n",
        "The call to `dropna` by default also does not modify the original `DataFrame`; it returns a new `DataFrame` with `na` values dropped."
      ],
      "metadata": {
        "id": "OOfh8YhJMVZi"
      }
    },
    {
      "cell_type": "code",
      "source": [
        "cars_monthly.shape"
      ],
      "metadata": {
        "colab": {
          "base_uri": "https://localhost:8080/"
        },
        "id": "87JSfwatN_WC",
        "outputId": "4ac3c459-9cc9-45e2-ff22-9ff16920dee3"
      },
      "execution_count": null,
      "outputs": [
        {
          "output_type": "execute_result",
          "data": {
            "text/plain": [
              "(27915, 5)"
            ]
          },
          "metadata": {},
          "execution_count": 114
        }
      ]
    },
    {
      "cell_type": "markdown",
      "source": [
        "We can assign the returned `DataFrame` to a new variable, or we can tell `dropna` to modify the original `DataFrame` by passing the `inplace=True` parameter:"
      ],
      "metadata": {
        "id": "CCI6ObroN5Bu"
      }
    },
    {
      "cell_type": "code",
      "source": [
        "cars_monthly.dropna(subset=['number'], inplace=True)\n",
        "cars_monthly.shape"
      ],
      "metadata": {
        "colab": {
          "base_uri": "https://localhost:8080/"
        },
        "id": "oDmvgKXwNp2L",
        "outputId": "e357ff5d-379c-4324-c13f-2d6d61ab6ecb"
      },
      "execution_count": null,
      "outputs": [
        {
          "output_type": "execute_result",
          "data": {
            "text/plain": [
              "(16835, 5)"
            ]
          },
          "metadata": {},
          "execution_count": 115
        }
      ]
    },
    {
      "cell_type": "markdown",
      "source": [
        "#### **Renaming columns**\n",
        "\n",
        "Let's rename the `month` column to `year_month`:"
      ],
      "metadata": {
        "id": "B-ZJQz7rPtsx"
      }
    },
    {
      "cell_type": "code",
      "source": [
        "cars_monthly_renamed = cars_monthly.rename(columns={'month': 'year_month'})\n",
        "cars_monthly_renamed.columns"
      ],
      "metadata": {
        "colab": {
          "base_uri": "https://localhost:8080/"
        },
        "id": "Pk2h8s0JP4-d",
        "outputId": "bea77b8b-0975-4907-e735-c565b8940432"
      },
      "execution_count": null,
      "outputs": [
        {
          "output_type": "execute_result",
          "data": {
            "text/plain": [
              "Index(['year_month', 'make', 'fuel_type', 'vehicle_type', 'number'], dtype='object')"
            ]
          },
          "metadata": {},
          "execution_count": 116
        }
      ]
    },
    {
      "cell_type": "markdown",
      "source": [
        "#### **Creating columns**\n",
        "\n",
        "Let's create separate columns for year and month from the `year_month` column:"
      ],
      "metadata": {
        "id": "1hhbQAM-PHzR"
      }
    },
    {
      "cell_type": "code",
      "source": [
        "cars_monthly_renamed[['year','month']] = cars_monthly_renamed.year_month.str.split(\"-\", expand=True)\n",
        "cars_monthly_renamed"
      ],
      "metadata": {
        "colab": {
          "base_uri": "https://localhost:8080/"
        },
        "id": "XoTk4gEiQSFX",
        "outputId": "60aed19d-23e1-4fd4-d58e-efc4779817b8"
      },
      "execution_count": null,
      "outputs": [
        {
          "output_type": "execute_result",
          "data": {
            "text/plain": [
              "      year_month           make fuel_type        vehicle_type  number  year  \\\n",
              "0        2016-01     ALFA ROMEO    Petrol           Hatchback     3.0  2016   \n",
              "1        2016-01         ALPINA    Petrol           Hatchback     0.0  2016   \n",
              "2        2016-01   ASTON MARTIN    Petrol           Hatchback     0.0  2016   \n",
              "3        2016-01           AUDI    Petrol           Hatchback    45.0  2016   \n",
              "4        2016-01         B.M.W.    Petrol           Hatchback     5.0  2016   \n",
              "...          ...            ...       ...                 ...     ...   ...   \n",
              "27876    2022-06  MERCEDES BENZ    Others  Coupe/ Convertible    12.0  2022   \n",
              "27879    2022-06     MITSUBISHI    Petrol  Coupe/ Convertible     1.0  2022   \n",
              "27890    2022-06        PORSCHE    Petrol  Coupe/ Convertible    31.0  2022   \n",
              "27907    2022-06         TOYOTA    Petrol  Coupe/ Convertible     2.0  2022   \n",
              "27910    2022-06        TRIUMPH    Petrol  Coupe/ Convertible     1.0  2022   \n",
              "\n",
              "      month  \n",
              "0        01  \n",
              "1        01  \n",
              "2        01  \n",
              "3        01  \n",
              "4        01  \n",
              "...     ...  \n",
              "27876    06  \n",
              "27879    06  \n",
              "27890    06  \n",
              "27907    06  \n",
              "27910    06  \n",
              "\n",
              "[16835 rows x 7 columns]"
            ],
            "text/html": [
              "\n",
              "  <div id=\"df-35d3f124-1135-470f-8a8f-cccf8c0d5584\">\n",
              "    <div class=\"colab-df-container\">\n",
              "      <div>\n",
              "<style scoped>\n",
              "    .dataframe tbody tr th:only-of-type {\n",
              "        vertical-align: middle;\n",
              "    }\n",
              "\n",
              "    .dataframe tbody tr th {\n",
              "        vertical-align: top;\n",
              "    }\n",
              "\n",
              "    .dataframe thead th {\n",
              "        text-align: right;\n",
              "    }\n",
              "</style>\n",
              "<table border=\"1\" class=\"dataframe\">\n",
              "  <thead>\n",
              "    <tr style=\"text-align: right;\">\n",
              "      <th></th>\n",
              "      <th>year_month</th>\n",
              "      <th>make</th>\n",
              "      <th>fuel_type</th>\n",
              "      <th>vehicle_type</th>\n",
              "      <th>number</th>\n",
              "      <th>year</th>\n",
              "      <th>month</th>\n",
              "    </tr>\n",
              "  </thead>\n",
              "  <tbody>\n",
              "    <tr>\n",
              "      <th>0</th>\n",
              "      <td>2016-01</td>\n",
              "      <td>ALFA ROMEO</td>\n",
              "      <td>Petrol</td>\n",
              "      <td>Hatchback</td>\n",
              "      <td>3.0</td>\n",
              "      <td>2016</td>\n",
              "      <td>01</td>\n",
              "    </tr>\n",
              "    <tr>\n",
              "      <th>1</th>\n",
              "      <td>2016-01</td>\n",
              "      <td>ALPINA</td>\n",
              "      <td>Petrol</td>\n",
              "      <td>Hatchback</td>\n",
              "      <td>0.0</td>\n",
              "      <td>2016</td>\n",
              "      <td>01</td>\n",
              "    </tr>\n",
              "    <tr>\n",
              "      <th>2</th>\n",
              "      <td>2016-01</td>\n",
              "      <td>ASTON MARTIN</td>\n",
              "      <td>Petrol</td>\n",
              "      <td>Hatchback</td>\n",
              "      <td>0.0</td>\n",
              "      <td>2016</td>\n",
              "      <td>01</td>\n",
              "    </tr>\n",
              "    <tr>\n",
              "      <th>3</th>\n",
              "      <td>2016-01</td>\n",
              "      <td>AUDI</td>\n",
              "      <td>Petrol</td>\n",
              "      <td>Hatchback</td>\n",
              "      <td>45.0</td>\n",
              "      <td>2016</td>\n",
              "      <td>01</td>\n",
              "    </tr>\n",
              "    <tr>\n",
              "      <th>4</th>\n",
              "      <td>2016-01</td>\n",
              "      <td>B.M.W.</td>\n",
              "      <td>Petrol</td>\n",
              "      <td>Hatchback</td>\n",
              "      <td>5.0</td>\n",
              "      <td>2016</td>\n",
              "      <td>01</td>\n",
              "    </tr>\n",
              "    <tr>\n",
              "      <th>...</th>\n",
              "      <td>...</td>\n",
              "      <td>...</td>\n",
              "      <td>...</td>\n",
              "      <td>...</td>\n",
              "      <td>...</td>\n",
              "      <td>...</td>\n",
              "      <td>...</td>\n",
              "    </tr>\n",
              "    <tr>\n",
              "      <th>27876</th>\n",
              "      <td>2022-06</td>\n",
              "      <td>MERCEDES BENZ</td>\n",
              "      <td>Others</td>\n",
              "      <td>Coupe/ Convertible</td>\n",
              "      <td>12.0</td>\n",
              "      <td>2022</td>\n",
              "      <td>06</td>\n",
              "    </tr>\n",
              "    <tr>\n",
              "      <th>27879</th>\n",
              "      <td>2022-06</td>\n",
              "      <td>MITSUBISHI</td>\n",
              "      <td>Petrol</td>\n",
              "      <td>Coupe/ Convertible</td>\n",
              "      <td>1.0</td>\n",
              "      <td>2022</td>\n",
              "      <td>06</td>\n",
              "    </tr>\n",
              "    <tr>\n",
              "      <th>27890</th>\n",
              "      <td>2022-06</td>\n",
              "      <td>PORSCHE</td>\n",
              "      <td>Petrol</td>\n",
              "      <td>Coupe/ Convertible</td>\n",
              "      <td>31.0</td>\n",
              "      <td>2022</td>\n",
              "      <td>06</td>\n",
              "    </tr>\n",
              "    <tr>\n",
              "      <th>27907</th>\n",
              "      <td>2022-06</td>\n",
              "      <td>TOYOTA</td>\n",
              "      <td>Petrol</td>\n",
              "      <td>Coupe/ Convertible</td>\n",
              "      <td>2.0</td>\n",
              "      <td>2022</td>\n",
              "      <td>06</td>\n",
              "    </tr>\n",
              "    <tr>\n",
              "      <th>27910</th>\n",
              "      <td>2022-06</td>\n",
              "      <td>TRIUMPH</td>\n",
              "      <td>Petrol</td>\n",
              "      <td>Coupe/ Convertible</td>\n",
              "      <td>1.0</td>\n",
              "      <td>2022</td>\n",
              "      <td>06</td>\n",
              "    </tr>\n",
              "  </tbody>\n",
              "</table>\n",
              "<p>16835 rows × 7 columns</p>\n",
              "</div>\n",
              "      <button class=\"colab-df-convert\" onclick=\"convertToInteractive('df-35d3f124-1135-470f-8a8f-cccf8c0d5584')\"\n",
              "              title=\"Convert this dataframe to an interactive table.\"\n",
              "              style=\"display:none;\">\n",
              "        \n",
              "  <svg xmlns=\"http://www.w3.org/2000/svg\" height=\"24px\"viewBox=\"0 0 24 24\"\n",
              "       width=\"24px\">\n",
              "    <path d=\"M0 0h24v24H0V0z\" fill=\"none\"/>\n",
              "    <path d=\"M18.56 5.44l.94 2.06.94-2.06 2.06-.94-2.06-.94-.94-2.06-.94 2.06-2.06.94zm-11 1L8.5 8.5l.94-2.06 2.06-.94-2.06-.94L8.5 2.5l-.94 2.06-2.06.94zm10 10l.94 2.06.94-2.06 2.06-.94-2.06-.94-.94-2.06-.94 2.06-2.06.94z\"/><path d=\"M17.41 7.96l-1.37-1.37c-.4-.4-.92-.59-1.43-.59-.52 0-1.04.2-1.43.59L10.3 9.45l-7.72 7.72c-.78.78-.78 2.05 0 2.83L4 21.41c.39.39.9.59 1.41.59.51 0 1.02-.2 1.41-.59l7.78-7.78 2.81-2.81c.8-.78.8-2.07 0-2.86zM5.41 20L4 18.59l7.72-7.72 1.47 1.35L5.41 20z\"/>\n",
              "  </svg>\n",
              "      </button>\n",
              "      \n",
              "  <style>\n",
              "    .colab-df-container {\n",
              "      display:flex;\n",
              "      flex-wrap:wrap;\n",
              "      gap: 12px;\n",
              "    }\n",
              "\n",
              "    .colab-df-convert {\n",
              "      background-color: #E8F0FE;\n",
              "      border: none;\n",
              "      border-radius: 50%;\n",
              "      cursor: pointer;\n",
              "      display: none;\n",
              "      fill: #1967D2;\n",
              "      height: 32px;\n",
              "      padding: 0 0 0 0;\n",
              "      width: 32px;\n",
              "    }\n",
              "\n",
              "    .colab-df-convert:hover {\n",
              "      background-color: #E2EBFA;\n",
              "      box-shadow: 0px 1px 2px rgba(60, 64, 67, 0.3), 0px 1px 3px 1px rgba(60, 64, 67, 0.15);\n",
              "      fill: #174EA6;\n",
              "    }\n",
              "\n",
              "    [theme=dark] .colab-df-convert {\n",
              "      background-color: #3B4455;\n",
              "      fill: #D2E3FC;\n",
              "    }\n",
              "\n",
              "    [theme=dark] .colab-df-convert:hover {\n",
              "      background-color: #434B5C;\n",
              "      box-shadow: 0px 1px 3px 1px rgba(0, 0, 0, 0.15);\n",
              "      filter: drop-shadow(0px 1px 2px rgba(0, 0, 0, 0.3));\n",
              "      fill: #FFFFFF;\n",
              "    }\n",
              "  </style>\n",
              "\n",
              "      <script>\n",
              "        const buttonEl =\n",
              "          document.querySelector('#df-35d3f124-1135-470f-8a8f-cccf8c0d5584 button.colab-df-convert');\n",
              "        buttonEl.style.display =\n",
              "          google.colab.kernel.accessAllowed ? 'block' : 'none';\n",
              "\n",
              "        async function convertToInteractive(key) {\n",
              "          const element = document.querySelector('#df-35d3f124-1135-470f-8a8f-cccf8c0d5584');\n",
              "          const dataTable =\n",
              "            await google.colab.kernel.invokeFunction('convertToInteractive',\n",
              "                                                     [key], {});\n",
              "          if (!dataTable) return;\n",
              "\n",
              "          const docLinkHtml = 'Like what you see? Visit the ' +\n",
              "            '<a target=\"_blank\" href=https://colab.research.google.com/notebooks/data_table.ipynb>data table notebook</a>'\n",
              "            + ' to learn more about interactive tables.';\n",
              "          element.innerHTML = '';\n",
              "          dataTable['output_type'] = 'display_data';\n",
              "          await google.colab.output.renderOutput(dataTable, element);\n",
              "          const docLink = document.createElement('div');\n",
              "          docLink.innerHTML = docLinkHtml;\n",
              "          element.appendChild(docLink);\n",
              "        }\n",
              "      </script>\n",
              "    </div>\n",
              "  </div>\n",
              "  "
            ]
          },
          "metadata": {},
          "execution_count": 117
        }
      ]
    },
    {
      "cell_type": "markdown",
      "source": [
        "#### **Dropping columns**\n",
        "\n",
        "Now we can drop the redundant `year_month` column:"
      ],
      "metadata": {
        "id": "0iTaoEzTQ7Es"
      }
    },
    {
      "cell_type": "code",
      "source": [
        "cars_monthly_dropped = cars_monthly_renamed.drop(columns=['year_month'])\n",
        "cars_monthly_dropped"
      ],
      "metadata": {
        "colab": {
          "base_uri": "https://localhost:8080/"
        },
        "id": "SQ977tMvRJqo",
        "outputId": "cccedff2-4c6f-4c11-9868-8864d9c0ba7a"
      },
      "execution_count": null,
      "outputs": [
        {
          "output_type": "execute_result",
          "data": {
            "text/plain": [
              "                make fuel_type        vehicle_type  number  year month\n",
              "0         ALFA ROMEO    Petrol           Hatchback     3.0  2016    01\n",
              "1             ALPINA    Petrol           Hatchback     0.0  2016    01\n",
              "2       ASTON MARTIN    Petrol           Hatchback     0.0  2016    01\n",
              "3               AUDI    Petrol           Hatchback    45.0  2016    01\n",
              "4             B.M.W.    Petrol           Hatchback     5.0  2016    01\n",
              "...              ...       ...                 ...     ...   ...   ...\n",
              "27876  MERCEDES BENZ    Others  Coupe/ Convertible    12.0  2022    06\n",
              "27879     MITSUBISHI    Petrol  Coupe/ Convertible     1.0  2022    06\n",
              "27890        PORSCHE    Petrol  Coupe/ Convertible    31.0  2022    06\n",
              "27907         TOYOTA    Petrol  Coupe/ Convertible     2.0  2022    06\n",
              "27910        TRIUMPH    Petrol  Coupe/ Convertible     1.0  2022    06\n",
              "\n",
              "[16835 rows x 6 columns]"
            ],
            "text/html": [
              "\n",
              "  <div id=\"df-f009fffd-9fda-4a6d-9467-d7e98218e8ce\">\n",
              "    <div class=\"colab-df-container\">\n",
              "      <div>\n",
              "<style scoped>\n",
              "    .dataframe tbody tr th:only-of-type {\n",
              "        vertical-align: middle;\n",
              "    }\n",
              "\n",
              "    .dataframe tbody tr th {\n",
              "        vertical-align: top;\n",
              "    }\n",
              "\n",
              "    .dataframe thead th {\n",
              "        text-align: right;\n",
              "    }\n",
              "</style>\n",
              "<table border=\"1\" class=\"dataframe\">\n",
              "  <thead>\n",
              "    <tr style=\"text-align: right;\">\n",
              "      <th></th>\n",
              "      <th>make</th>\n",
              "      <th>fuel_type</th>\n",
              "      <th>vehicle_type</th>\n",
              "      <th>number</th>\n",
              "      <th>year</th>\n",
              "      <th>month</th>\n",
              "    </tr>\n",
              "  </thead>\n",
              "  <tbody>\n",
              "    <tr>\n",
              "      <th>0</th>\n",
              "      <td>ALFA ROMEO</td>\n",
              "      <td>Petrol</td>\n",
              "      <td>Hatchback</td>\n",
              "      <td>3.0</td>\n",
              "      <td>2016</td>\n",
              "      <td>01</td>\n",
              "    </tr>\n",
              "    <tr>\n",
              "      <th>1</th>\n",
              "      <td>ALPINA</td>\n",
              "      <td>Petrol</td>\n",
              "      <td>Hatchback</td>\n",
              "      <td>0.0</td>\n",
              "      <td>2016</td>\n",
              "      <td>01</td>\n",
              "    </tr>\n",
              "    <tr>\n",
              "      <th>2</th>\n",
              "      <td>ASTON MARTIN</td>\n",
              "      <td>Petrol</td>\n",
              "      <td>Hatchback</td>\n",
              "      <td>0.0</td>\n",
              "      <td>2016</td>\n",
              "      <td>01</td>\n",
              "    </tr>\n",
              "    <tr>\n",
              "      <th>3</th>\n",
              "      <td>AUDI</td>\n",
              "      <td>Petrol</td>\n",
              "      <td>Hatchback</td>\n",
              "      <td>45.0</td>\n",
              "      <td>2016</td>\n",
              "      <td>01</td>\n",
              "    </tr>\n",
              "    <tr>\n",
              "      <th>4</th>\n",
              "      <td>B.M.W.</td>\n",
              "      <td>Petrol</td>\n",
              "      <td>Hatchback</td>\n",
              "      <td>5.0</td>\n",
              "      <td>2016</td>\n",
              "      <td>01</td>\n",
              "    </tr>\n",
              "    <tr>\n",
              "      <th>...</th>\n",
              "      <td>...</td>\n",
              "      <td>...</td>\n",
              "      <td>...</td>\n",
              "      <td>...</td>\n",
              "      <td>...</td>\n",
              "      <td>...</td>\n",
              "    </tr>\n",
              "    <tr>\n",
              "      <th>27876</th>\n",
              "      <td>MERCEDES BENZ</td>\n",
              "      <td>Others</td>\n",
              "      <td>Coupe/ Convertible</td>\n",
              "      <td>12.0</td>\n",
              "      <td>2022</td>\n",
              "      <td>06</td>\n",
              "    </tr>\n",
              "    <tr>\n",
              "      <th>27879</th>\n",
              "      <td>MITSUBISHI</td>\n",
              "      <td>Petrol</td>\n",
              "      <td>Coupe/ Convertible</td>\n",
              "      <td>1.0</td>\n",
              "      <td>2022</td>\n",
              "      <td>06</td>\n",
              "    </tr>\n",
              "    <tr>\n",
              "      <th>27890</th>\n",
              "      <td>PORSCHE</td>\n",
              "      <td>Petrol</td>\n",
              "      <td>Coupe/ Convertible</td>\n",
              "      <td>31.0</td>\n",
              "      <td>2022</td>\n",
              "      <td>06</td>\n",
              "    </tr>\n",
              "    <tr>\n",
              "      <th>27907</th>\n",
              "      <td>TOYOTA</td>\n",
              "      <td>Petrol</td>\n",
              "      <td>Coupe/ Convertible</td>\n",
              "      <td>2.0</td>\n",
              "      <td>2022</td>\n",
              "      <td>06</td>\n",
              "    </tr>\n",
              "    <tr>\n",
              "      <th>27910</th>\n",
              "      <td>TRIUMPH</td>\n",
              "      <td>Petrol</td>\n",
              "      <td>Coupe/ Convertible</td>\n",
              "      <td>1.0</td>\n",
              "      <td>2022</td>\n",
              "      <td>06</td>\n",
              "    </tr>\n",
              "  </tbody>\n",
              "</table>\n",
              "<p>16835 rows × 6 columns</p>\n",
              "</div>\n",
              "      <button class=\"colab-df-convert\" onclick=\"convertToInteractive('df-f009fffd-9fda-4a6d-9467-d7e98218e8ce')\"\n",
              "              title=\"Convert this dataframe to an interactive table.\"\n",
              "              style=\"display:none;\">\n",
              "        \n",
              "  <svg xmlns=\"http://www.w3.org/2000/svg\" height=\"24px\"viewBox=\"0 0 24 24\"\n",
              "       width=\"24px\">\n",
              "    <path d=\"M0 0h24v24H0V0z\" fill=\"none\"/>\n",
              "    <path d=\"M18.56 5.44l.94 2.06.94-2.06 2.06-.94-2.06-.94-.94-2.06-.94 2.06-2.06.94zm-11 1L8.5 8.5l.94-2.06 2.06-.94-2.06-.94L8.5 2.5l-.94 2.06-2.06.94zm10 10l.94 2.06.94-2.06 2.06-.94-2.06-.94-.94-2.06-.94 2.06-2.06.94z\"/><path d=\"M17.41 7.96l-1.37-1.37c-.4-.4-.92-.59-1.43-.59-.52 0-1.04.2-1.43.59L10.3 9.45l-7.72 7.72c-.78.78-.78 2.05 0 2.83L4 21.41c.39.39.9.59 1.41.59.51 0 1.02-.2 1.41-.59l7.78-7.78 2.81-2.81c.8-.78.8-2.07 0-2.86zM5.41 20L4 18.59l7.72-7.72 1.47 1.35L5.41 20z\"/>\n",
              "  </svg>\n",
              "      </button>\n",
              "      \n",
              "  <style>\n",
              "    .colab-df-container {\n",
              "      display:flex;\n",
              "      flex-wrap:wrap;\n",
              "      gap: 12px;\n",
              "    }\n",
              "\n",
              "    .colab-df-convert {\n",
              "      background-color: #E8F0FE;\n",
              "      border: none;\n",
              "      border-radius: 50%;\n",
              "      cursor: pointer;\n",
              "      display: none;\n",
              "      fill: #1967D2;\n",
              "      height: 32px;\n",
              "      padding: 0 0 0 0;\n",
              "      width: 32px;\n",
              "    }\n",
              "\n",
              "    .colab-df-convert:hover {\n",
              "      background-color: #E2EBFA;\n",
              "      box-shadow: 0px 1px 2px rgba(60, 64, 67, 0.3), 0px 1px 3px 1px rgba(60, 64, 67, 0.15);\n",
              "      fill: #174EA6;\n",
              "    }\n",
              "\n",
              "    [theme=dark] .colab-df-convert {\n",
              "      background-color: #3B4455;\n",
              "      fill: #D2E3FC;\n",
              "    }\n",
              "\n",
              "    [theme=dark] .colab-df-convert:hover {\n",
              "      background-color: #434B5C;\n",
              "      box-shadow: 0px 1px 3px 1px rgba(0, 0, 0, 0.15);\n",
              "      filter: drop-shadow(0px 1px 2px rgba(0, 0, 0, 0.3));\n",
              "      fill: #FFFFFF;\n",
              "    }\n",
              "  </style>\n",
              "\n",
              "      <script>\n",
              "        const buttonEl =\n",
              "          document.querySelector('#df-f009fffd-9fda-4a6d-9467-d7e98218e8ce button.colab-df-convert');\n",
              "        buttonEl.style.display =\n",
              "          google.colab.kernel.accessAllowed ? 'block' : 'none';\n",
              "\n",
              "        async function convertToInteractive(key) {\n",
              "          const element = document.querySelector('#df-f009fffd-9fda-4a6d-9467-d7e98218e8ce');\n",
              "          const dataTable =\n",
              "            await google.colab.kernel.invokeFunction('convertToInteractive',\n",
              "                                                     [key], {});\n",
              "          if (!dataTable) return;\n",
              "\n",
              "          const docLinkHtml = 'Like what you see? Visit the ' +\n",
              "            '<a target=\"_blank\" href=https://colab.research.google.com/notebooks/data_table.ipynb>data table notebook</a>'\n",
              "            + ' to learn more about interactive tables.';\n",
              "          element.innerHTML = '';\n",
              "          dataTable['output_type'] = 'display_data';\n",
              "          await google.colab.output.renderOutput(dataTable, element);\n",
              "          const docLink = document.createElement('div');\n",
              "          docLink.innerHTML = docLinkHtml;\n",
              "          element.appendChild(docLink);\n",
              "        }\n",
              "      </script>\n",
              "    </div>\n",
              "  </div>\n",
              "  "
            ]
          },
          "metadata": {},
          "execution_count": 118
        }
      ]
    },
    {
      "cell_type": "markdown",
      "source": [
        "#### **Reordering columns**\n",
        "\n",
        "It feels odd to have the `year` and `month` columns at the end. Let's move them to the front:"
      ],
      "metadata": {
        "id": "oaUMpiICXgzr"
      }
    },
    {
      "cell_type": "code",
      "source": [
        "columns_ordered = ['year', 'month', 'make', 'fuel_type', 'vehicle_type', 'number']\n",
        "cars_monthly_reordered = cars_monthly_dropped.reindex(columns=columns_ordered)\n",
        "cars_monthly_reordered"
      ],
      "metadata": {
        "colab": {
          "base_uri": "https://localhost:8080/"
        },
        "id": "B0p61THUX0gG",
        "outputId": "cae9ccf9-bc1e-4edc-f7a3-046161cd5cd9"
      },
      "execution_count": null,
      "outputs": [
        {
          "output_type": "execute_result",
          "data": {
            "text/plain": [
              "       year month           make fuel_type        vehicle_type  number\n",
              "0      2016    01     ALFA ROMEO    Petrol           Hatchback     3.0\n",
              "1      2016    01         ALPINA    Petrol           Hatchback     0.0\n",
              "2      2016    01   ASTON MARTIN    Petrol           Hatchback     0.0\n",
              "3      2016    01           AUDI    Petrol           Hatchback    45.0\n",
              "4      2016    01         B.M.W.    Petrol           Hatchback     5.0\n",
              "...     ...   ...            ...       ...                 ...     ...\n",
              "27876  2022    06  MERCEDES BENZ    Others  Coupe/ Convertible    12.0\n",
              "27879  2022    06     MITSUBISHI    Petrol  Coupe/ Convertible     1.0\n",
              "27890  2022    06        PORSCHE    Petrol  Coupe/ Convertible    31.0\n",
              "27907  2022    06         TOYOTA    Petrol  Coupe/ Convertible     2.0\n",
              "27910  2022    06        TRIUMPH    Petrol  Coupe/ Convertible     1.0\n",
              "\n",
              "[16835 rows x 6 columns]"
            ],
            "text/html": [
              "\n",
              "  <div id=\"df-7a335c2c-fb49-4738-bde5-307b3b3c91fb\">\n",
              "    <div class=\"colab-df-container\">\n",
              "      <div>\n",
              "<style scoped>\n",
              "    .dataframe tbody tr th:only-of-type {\n",
              "        vertical-align: middle;\n",
              "    }\n",
              "\n",
              "    .dataframe tbody tr th {\n",
              "        vertical-align: top;\n",
              "    }\n",
              "\n",
              "    .dataframe thead th {\n",
              "        text-align: right;\n",
              "    }\n",
              "</style>\n",
              "<table border=\"1\" class=\"dataframe\">\n",
              "  <thead>\n",
              "    <tr style=\"text-align: right;\">\n",
              "      <th></th>\n",
              "      <th>year</th>\n",
              "      <th>month</th>\n",
              "      <th>make</th>\n",
              "      <th>fuel_type</th>\n",
              "      <th>vehicle_type</th>\n",
              "      <th>number</th>\n",
              "    </tr>\n",
              "  </thead>\n",
              "  <tbody>\n",
              "    <tr>\n",
              "      <th>0</th>\n",
              "      <td>2016</td>\n",
              "      <td>01</td>\n",
              "      <td>ALFA ROMEO</td>\n",
              "      <td>Petrol</td>\n",
              "      <td>Hatchback</td>\n",
              "      <td>3.0</td>\n",
              "    </tr>\n",
              "    <tr>\n",
              "      <th>1</th>\n",
              "      <td>2016</td>\n",
              "      <td>01</td>\n",
              "      <td>ALPINA</td>\n",
              "      <td>Petrol</td>\n",
              "      <td>Hatchback</td>\n",
              "      <td>0.0</td>\n",
              "    </tr>\n",
              "    <tr>\n",
              "      <th>2</th>\n",
              "      <td>2016</td>\n",
              "      <td>01</td>\n",
              "      <td>ASTON MARTIN</td>\n",
              "      <td>Petrol</td>\n",
              "      <td>Hatchback</td>\n",
              "      <td>0.0</td>\n",
              "    </tr>\n",
              "    <tr>\n",
              "      <th>3</th>\n",
              "      <td>2016</td>\n",
              "      <td>01</td>\n",
              "      <td>AUDI</td>\n",
              "      <td>Petrol</td>\n",
              "      <td>Hatchback</td>\n",
              "      <td>45.0</td>\n",
              "    </tr>\n",
              "    <tr>\n",
              "      <th>4</th>\n",
              "      <td>2016</td>\n",
              "      <td>01</td>\n",
              "      <td>B.M.W.</td>\n",
              "      <td>Petrol</td>\n",
              "      <td>Hatchback</td>\n",
              "      <td>5.0</td>\n",
              "    </tr>\n",
              "    <tr>\n",
              "      <th>...</th>\n",
              "      <td>...</td>\n",
              "      <td>...</td>\n",
              "      <td>...</td>\n",
              "      <td>...</td>\n",
              "      <td>...</td>\n",
              "      <td>...</td>\n",
              "    </tr>\n",
              "    <tr>\n",
              "      <th>27876</th>\n",
              "      <td>2022</td>\n",
              "      <td>06</td>\n",
              "      <td>MERCEDES BENZ</td>\n",
              "      <td>Others</td>\n",
              "      <td>Coupe/ Convertible</td>\n",
              "      <td>12.0</td>\n",
              "    </tr>\n",
              "    <tr>\n",
              "      <th>27879</th>\n",
              "      <td>2022</td>\n",
              "      <td>06</td>\n",
              "      <td>MITSUBISHI</td>\n",
              "      <td>Petrol</td>\n",
              "      <td>Coupe/ Convertible</td>\n",
              "      <td>1.0</td>\n",
              "    </tr>\n",
              "    <tr>\n",
              "      <th>27890</th>\n",
              "      <td>2022</td>\n",
              "      <td>06</td>\n",
              "      <td>PORSCHE</td>\n",
              "      <td>Petrol</td>\n",
              "      <td>Coupe/ Convertible</td>\n",
              "      <td>31.0</td>\n",
              "    </tr>\n",
              "    <tr>\n",
              "      <th>27907</th>\n",
              "      <td>2022</td>\n",
              "      <td>06</td>\n",
              "      <td>TOYOTA</td>\n",
              "      <td>Petrol</td>\n",
              "      <td>Coupe/ Convertible</td>\n",
              "      <td>2.0</td>\n",
              "    </tr>\n",
              "    <tr>\n",
              "      <th>27910</th>\n",
              "      <td>2022</td>\n",
              "      <td>06</td>\n",
              "      <td>TRIUMPH</td>\n",
              "      <td>Petrol</td>\n",
              "      <td>Coupe/ Convertible</td>\n",
              "      <td>1.0</td>\n",
              "    </tr>\n",
              "  </tbody>\n",
              "</table>\n",
              "<p>16835 rows × 6 columns</p>\n",
              "</div>\n",
              "      <button class=\"colab-df-convert\" onclick=\"convertToInteractive('df-7a335c2c-fb49-4738-bde5-307b3b3c91fb')\"\n",
              "              title=\"Convert this dataframe to an interactive table.\"\n",
              "              style=\"display:none;\">\n",
              "        \n",
              "  <svg xmlns=\"http://www.w3.org/2000/svg\" height=\"24px\"viewBox=\"0 0 24 24\"\n",
              "       width=\"24px\">\n",
              "    <path d=\"M0 0h24v24H0V0z\" fill=\"none\"/>\n",
              "    <path d=\"M18.56 5.44l.94 2.06.94-2.06 2.06-.94-2.06-.94-.94-2.06-.94 2.06-2.06.94zm-11 1L8.5 8.5l.94-2.06 2.06-.94-2.06-.94L8.5 2.5l-.94 2.06-2.06.94zm10 10l.94 2.06.94-2.06 2.06-.94-2.06-.94-.94-2.06-.94 2.06-2.06.94z\"/><path d=\"M17.41 7.96l-1.37-1.37c-.4-.4-.92-.59-1.43-.59-.52 0-1.04.2-1.43.59L10.3 9.45l-7.72 7.72c-.78.78-.78 2.05 0 2.83L4 21.41c.39.39.9.59 1.41.59.51 0 1.02-.2 1.41-.59l7.78-7.78 2.81-2.81c.8-.78.8-2.07 0-2.86zM5.41 20L4 18.59l7.72-7.72 1.47 1.35L5.41 20z\"/>\n",
              "  </svg>\n",
              "      </button>\n",
              "      \n",
              "  <style>\n",
              "    .colab-df-container {\n",
              "      display:flex;\n",
              "      flex-wrap:wrap;\n",
              "      gap: 12px;\n",
              "    }\n",
              "\n",
              "    .colab-df-convert {\n",
              "      background-color: #E8F0FE;\n",
              "      border: none;\n",
              "      border-radius: 50%;\n",
              "      cursor: pointer;\n",
              "      display: none;\n",
              "      fill: #1967D2;\n",
              "      height: 32px;\n",
              "      padding: 0 0 0 0;\n",
              "      width: 32px;\n",
              "    }\n",
              "\n",
              "    .colab-df-convert:hover {\n",
              "      background-color: #E2EBFA;\n",
              "      box-shadow: 0px 1px 2px rgba(60, 64, 67, 0.3), 0px 1px 3px 1px rgba(60, 64, 67, 0.15);\n",
              "      fill: #174EA6;\n",
              "    }\n",
              "\n",
              "    [theme=dark] .colab-df-convert {\n",
              "      background-color: #3B4455;\n",
              "      fill: #D2E3FC;\n",
              "    }\n",
              "\n",
              "    [theme=dark] .colab-df-convert:hover {\n",
              "      background-color: #434B5C;\n",
              "      box-shadow: 0px 1px 3px 1px rgba(0, 0, 0, 0.15);\n",
              "      filter: drop-shadow(0px 1px 2px rgba(0, 0, 0, 0.3));\n",
              "      fill: #FFFFFF;\n",
              "    }\n",
              "  </style>\n",
              "\n",
              "      <script>\n",
              "        const buttonEl =\n",
              "          document.querySelector('#df-7a335c2c-fb49-4738-bde5-307b3b3c91fb button.colab-df-convert');\n",
              "        buttonEl.style.display =\n",
              "          google.colab.kernel.accessAllowed ? 'block' : 'none';\n",
              "\n",
              "        async function convertToInteractive(key) {\n",
              "          const element = document.querySelector('#df-7a335c2c-fb49-4738-bde5-307b3b3c91fb');\n",
              "          const dataTable =\n",
              "            await google.colab.kernel.invokeFunction('convertToInteractive',\n",
              "                                                     [key], {});\n",
              "          if (!dataTable) return;\n",
              "\n",
              "          const docLinkHtml = 'Like what you see? Visit the ' +\n",
              "            '<a target=\"_blank\" href=https://colab.research.google.com/notebooks/data_table.ipynb>data table notebook</a>'\n",
              "            + ' to learn more about interactive tables.';\n",
              "          element.innerHTML = '';\n",
              "          dataTable['output_type'] = 'display_data';\n",
              "          await google.colab.output.renderOutput(dataTable, element);\n",
              "          const docLink = document.createElement('div');\n",
              "          docLink.innerHTML = docLinkHtml;\n",
              "          element.appendChild(docLink);\n",
              "        }\n",
              "      </script>\n",
              "    </div>\n",
              "  </div>\n",
              "  "
            ]
          },
          "metadata": {},
          "execution_count": 119
        }
      ]
    },
    {
      "cell_type": "markdown",
      "source": [
        "#### **Converting data types**\n",
        "\n",
        "Notice the `number` column is of type `float64`:"
      ],
      "metadata": {
        "id": "42bxi-jARytn"
      }
    },
    {
      "cell_type": "code",
      "source": [
        "cars_monthly_reordered.dtypes"
      ],
      "metadata": {
        "colab": {
          "base_uri": "https://localhost:8080/"
        },
        "id": "EGZ_fyTATEd9",
        "outputId": "738a2326-3c62-4cd8-c5fa-c11ef092bf5c"
      },
      "execution_count": null,
      "outputs": [
        {
          "output_type": "execute_result",
          "data": {
            "text/plain": [
              "year             object\n",
              "month            object\n",
              "make             object\n",
              "fuel_type        object\n",
              "vehicle_type     object\n",
              "number          float64\n",
              "dtype: object"
            ]
          },
          "metadata": {},
          "execution_count": 120
        }
      ]
    },
    {
      "cell_type": "markdown",
      "source": [
        "Theoretically the numbers of car registration in a month should be integers. Let's double check just to be sure:"
      ],
      "metadata": {
        "id": "nPGF22EsTO8r"
      }
    },
    {
      "cell_type": "code",
      "source": [
        "cars_monthly_reordered.number.map(float.is_integer).all()"
      ],
      "metadata": {
        "colab": {
          "base_uri": "https://localhost:8080/"
        },
        "id": "IQPzykJGTclT",
        "outputId": "107d8f10-2d3a-44f6-96b8-bafcc2c70228"
      },
      "execution_count": null,
      "outputs": [
        {
          "output_type": "execute_result",
          "data": {
            "text/plain": [
              "True"
            ]
          },
          "metadata": {},
          "execution_count": 156
        }
      ]
    },
    {
      "cell_type": "markdown",
      "source": [
        "Let's convert the `number`, `year`, `month` columns' types to be integer:"
      ],
      "metadata": {
        "id": "TkGTRlngTqH2"
      }
    },
    {
      "cell_type": "code",
      "source": [
        "cars_monthly_converted = cars_monthly_reordered.astype({\n",
        "    'number': 'int', 'year': 'int', 'month': 'int'})\n",
        "cars_monthly_converted.dtypes"
      ],
      "metadata": {
        "colab": {
          "base_uri": "https://localhost:8080/"
        },
        "id": "GNSLCknHTvXg",
        "outputId": "09fefb89-948c-4c1f-8068-5d9b4353b422"
      },
      "execution_count": null,
      "outputs": [
        {
          "output_type": "execute_result",
          "data": {
            "text/plain": [
              "year             int64\n",
              "month            int64\n",
              "make            object\n",
              "fuel_type       object\n",
              "vehicle_type    object\n",
              "number           int64\n",
              "dtype: object"
            ]
          },
          "metadata": {},
          "execution_count": 122
        }
      ]
    },
    {
      "cell_type": "markdown",
      "source": [
        "We will leave the rest of the columns as-is. It's tempting to convert them to `string` type but `string` type requires specifying max length, so we will keep them as `object` since it allows for variable length among column values."
      ],
      "metadata": {
        "id": "2xVyXVYRVq5a"
      }
    },
    {
      "cell_type": "markdown",
      "source": [
        "#### **Sorting by values**\n",
        "\n",
        "We can sort by the values of any column(s). To sort by the number of registrations in descending order:"
      ],
      "metadata": {
        "id": "yLwqx7vRZL2G"
      }
    },
    {
      "cell_type": "code",
      "source": [
        "cars_monthly_sorted = cars_monthly_converted.sort_values(['number', 'year', 'month'], ascending=[False, True, True])\n",
        "cars_monthly_sorted"
      ],
      "metadata": {
        "colab": {
          "base_uri": "https://localhost:8080/"
        },
        "id": "rX1lrH1wZ3jm",
        "outputId": "3b2cadb2-6ab4-4b9a-ee39-169a9bb893b4"
      },
      "execution_count": null,
      "outputs": [
        {
          "output_type": "execute_result",
          "data": {
            "text/plain": [
              "       year  month        make fuel_type            vehicle_type  number\n",
              "1581   2016      5       HONDA    Petrol  Sports Utility Vehicle    1198\n",
              "1921   2016      6       HONDA    Petrol  Sports Utility Vehicle     986\n",
              "901    2016      3       HONDA    Petrol  Sports Utility Vehicle     954\n",
              "3427   2016     10       HONDA    Petrol  Sports Utility Vehicle     950\n",
              "1488   2016      5      TOYOTA    Petrol                   Sedan     906\n",
              "...     ...    ...         ...       ...                     ...     ...\n",
              "10429  2018      6      TOYOTA    Diesel      Coupe/ Convertible       0\n",
              "10430  2018      6      TOYOTA    Others      Coupe/ Convertible       0\n",
              "10431  2018      6     TRIUMPH    Petrol      Coupe/ Convertible       0\n",
              "10433  2018      6  VOLKSWAGEN    Diesel      Coupe/ Convertible       0\n",
              "10434  2018      6       VOLVO    Petrol      Coupe/ Convertible       0\n",
              "\n",
              "[16835 rows x 6 columns]"
            ],
            "text/html": [
              "\n",
              "  <div id=\"df-3db010fa-10aa-412a-bbb4-366b462180b6\">\n",
              "    <div class=\"colab-df-container\">\n",
              "      <div>\n",
              "<style scoped>\n",
              "    .dataframe tbody tr th:only-of-type {\n",
              "        vertical-align: middle;\n",
              "    }\n",
              "\n",
              "    .dataframe tbody tr th {\n",
              "        vertical-align: top;\n",
              "    }\n",
              "\n",
              "    .dataframe thead th {\n",
              "        text-align: right;\n",
              "    }\n",
              "</style>\n",
              "<table border=\"1\" class=\"dataframe\">\n",
              "  <thead>\n",
              "    <tr style=\"text-align: right;\">\n",
              "      <th></th>\n",
              "      <th>year</th>\n",
              "      <th>month</th>\n",
              "      <th>make</th>\n",
              "      <th>fuel_type</th>\n",
              "      <th>vehicle_type</th>\n",
              "      <th>number</th>\n",
              "    </tr>\n",
              "  </thead>\n",
              "  <tbody>\n",
              "    <tr>\n",
              "      <th>1581</th>\n",
              "      <td>2016</td>\n",
              "      <td>5</td>\n",
              "      <td>HONDA</td>\n",
              "      <td>Petrol</td>\n",
              "      <td>Sports Utility Vehicle</td>\n",
              "      <td>1198</td>\n",
              "    </tr>\n",
              "    <tr>\n",
              "      <th>1921</th>\n",
              "      <td>2016</td>\n",
              "      <td>6</td>\n",
              "      <td>HONDA</td>\n",
              "      <td>Petrol</td>\n",
              "      <td>Sports Utility Vehicle</td>\n",
              "      <td>986</td>\n",
              "    </tr>\n",
              "    <tr>\n",
              "      <th>901</th>\n",
              "      <td>2016</td>\n",
              "      <td>3</td>\n",
              "      <td>HONDA</td>\n",
              "      <td>Petrol</td>\n",
              "      <td>Sports Utility Vehicle</td>\n",
              "      <td>954</td>\n",
              "    </tr>\n",
              "    <tr>\n",
              "      <th>3427</th>\n",
              "      <td>2016</td>\n",
              "      <td>10</td>\n",
              "      <td>HONDA</td>\n",
              "      <td>Petrol</td>\n",
              "      <td>Sports Utility Vehicle</td>\n",
              "      <td>950</td>\n",
              "    </tr>\n",
              "    <tr>\n",
              "      <th>1488</th>\n",
              "      <td>2016</td>\n",
              "      <td>5</td>\n",
              "      <td>TOYOTA</td>\n",
              "      <td>Petrol</td>\n",
              "      <td>Sedan</td>\n",
              "      <td>906</td>\n",
              "    </tr>\n",
              "    <tr>\n",
              "      <th>...</th>\n",
              "      <td>...</td>\n",
              "      <td>...</td>\n",
              "      <td>...</td>\n",
              "      <td>...</td>\n",
              "      <td>...</td>\n",
              "      <td>...</td>\n",
              "    </tr>\n",
              "    <tr>\n",
              "      <th>10429</th>\n",
              "      <td>2018</td>\n",
              "      <td>6</td>\n",
              "      <td>TOYOTA</td>\n",
              "      <td>Diesel</td>\n",
              "      <td>Coupe/ Convertible</td>\n",
              "      <td>0</td>\n",
              "    </tr>\n",
              "    <tr>\n",
              "      <th>10430</th>\n",
              "      <td>2018</td>\n",
              "      <td>6</td>\n",
              "      <td>TOYOTA</td>\n",
              "      <td>Others</td>\n",
              "      <td>Coupe/ Convertible</td>\n",
              "      <td>0</td>\n",
              "    </tr>\n",
              "    <tr>\n",
              "      <th>10431</th>\n",
              "      <td>2018</td>\n",
              "      <td>6</td>\n",
              "      <td>TRIUMPH</td>\n",
              "      <td>Petrol</td>\n",
              "      <td>Coupe/ Convertible</td>\n",
              "      <td>0</td>\n",
              "    </tr>\n",
              "    <tr>\n",
              "      <th>10433</th>\n",
              "      <td>2018</td>\n",
              "      <td>6</td>\n",
              "      <td>VOLKSWAGEN</td>\n",
              "      <td>Diesel</td>\n",
              "      <td>Coupe/ Convertible</td>\n",
              "      <td>0</td>\n",
              "    </tr>\n",
              "    <tr>\n",
              "      <th>10434</th>\n",
              "      <td>2018</td>\n",
              "      <td>6</td>\n",
              "      <td>VOLVO</td>\n",
              "      <td>Petrol</td>\n",
              "      <td>Coupe/ Convertible</td>\n",
              "      <td>0</td>\n",
              "    </tr>\n",
              "  </tbody>\n",
              "</table>\n",
              "<p>16835 rows × 6 columns</p>\n",
              "</div>\n",
              "      <button class=\"colab-df-convert\" onclick=\"convertToInteractive('df-3db010fa-10aa-412a-bbb4-366b462180b6')\"\n",
              "              title=\"Convert this dataframe to an interactive table.\"\n",
              "              style=\"display:none;\">\n",
              "        \n",
              "  <svg xmlns=\"http://www.w3.org/2000/svg\" height=\"24px\"viewBox=\"0 0 24 24\"\n",
              "       width=\"24px\">\n",
              "    <path d=\"M0 0h24v24H0V0z\" fill=\"none\"/>\n",
              "    <path d=\"M18.56 5.44l.94 2.06.94-2.06 2.06-.94-2.06-.94-.94-2.06-.94 2.06-2.06.94zm-11 1L8.5 8.5l.94-2.06 2.06-.94-2.06-.94L8.5 2.5l-.94 2.06-2.06.94zm10 10l.94 2.06.94-2.06 2.06-.94-2.06-.94-.94-2.06-.94 2.06-2.06.94z\"/><path d=\"M17.41 7.96l-1.37-1.37c-.4-.4-.92-.59-1.43-.59-.52 0-1.04.2-1.43.59L10.3 9.45l-7.72 7.72c-.78.78-.78 2.05 0 2.83L4 21.41c.39.39.9.59 1.41.59.51 0 1.02-.2 1.41-.59l7.78-7.78 2.81-2.81c.8-.78.8-2.07 0-2.86zM5.41 20L4 18.59l7.72-7.72 1.47 1.35L5.41 20z\"/>\n",
              "  </svg>\n",
              "      </button>\n",
              "      \n",
              "  <style>\n",
              "    .colab-df-container {\n",
              "      display:flex;\n",
              "      flex-wrap:wrap;\n",
              "      gap: 12px;\n",
              "    }\n",
              "\n",
              "    .colab-df-convert {\n",
              "      background-color: #E8F0FE;\n",
              "      border: none;\n",
              "      border-radius: 50%;\n",
              "      cursor: pointer;\n",
              "      display: none;\n",
              "      fill: #1967D2;\n",
              "      height: 32px;\n",
              "      padding: 0 0 0 0;\n",
              "      width: 32px;\n",
              "    }\n",
              "\n",
              "    .colab-df-convert:hover {\n",
              "      background-color: #E2EBFA;\n",
              "      box-shadow: 0px 1px 2px rgba(60, 64, 67, 0.3), 0px 1px 3px 1px rgba(60, 64, 67, 0.15);\n",
              "      fill: #174EA6;\n",
              "    }\n",
              "\n",
              "    [theme=dark] .colab-df-convert {\n",
              "      background-color: #3B4455;\n",
              "      fill: #D2E3FC;\n",
              "    }\n",
              "\n",
              "    [theme=dark] .colab-df-convert:hover {\n",
              "      background-color: #434B5C;\n",
              "      box-shadow: 0px 1px 3px 1px rgba(0, 0, 0, 0.15);\n",
              "      filter: drop-shadow(0px 1px 2px rgba(0, 0, 0, 0.3));\n",
              "      fill: #FFFFFF;\n",
              "    }\n",
              "  </style>\n",
              "\n",
              "      <script>\n",
              "        const buttonEl =\n",
              "          document.querySelector('#df-3db010fa-10aa-412a-bbb4-366b462180b6 button.colab-df-convert');\n",
              "        buttonEl.style.display =\n",
              "          google.colab.kernel.accessAllowed ? 'block' : 'none';\n",
              "\n",
              "        async function convertToInteractive(key) {\n",
              "          const element = document.querySelector('#df-3db010fa-10aa-412a-bbb4-366b462180b6');\n",
              "          const dataTable =\n",
              "            await google.colab.kernel.invokeFunction('convertToInteractive',\n",
              "                                                     [key], {});\n",
              "          if (!dataTable) return;\n",
              "\n",
              "          const docLinkHtml = 'Like what you see? Visit the ' +\n",
              "            '<a target=\"_blank\" href=https://colab.research.google.com/notebooks/data_table.ipynb>data table notebook</a>'\n",
              "            + ' to learn more about interactive tables.';\n",
              "          element.innerHTML = '';\n",
              "          dataTable['output_type'] = 'display_data';\n",
              "          await google.colab.output.renderOutput(dataTable, element);\n",
              "          const docLink = document.createElement('div');\n",
              "          docLink.innerHTML = docLinkHtml;\n",
              "          element.appendChild(docLink);\n",
              "        }\n",
              "      </script>\n",
              "    </div>\n",
              "  </div>\n",
              "  "
            ]
          },
          "metadata": {},
          "execution_count": 123
        }
      ]
    },
    {
      "cell_type": "markdown",
      "source": [
        "This could be helpful in discovering possible data integrity issues. For example, we notice here there are entries with `number=0` which we can remove from the dataset:"
      ],
      "metadata": {
        "id": "kUeoLgAJapDG"
      }
    },
    {
      "cell_type": "code",
      "source": [
        "cars_monthly_nonzero = cars_monthly_sorted[cars_monthly_sorted.number > 0]\n",
        "cars_monthly_nonzero"
      ],
      "metadata": {
        "colab": {
          "base_uri": "https://localhost:8080/"
        },
        "id": "Cg848POfa4Y1",
        "outputId": "174e5a96-daab-49f9-9381-c8ff64bf47d3"
      },
      "execution_count": null,
      "outputs": [
        {
          "output_type": "execute_result",
          "data": {
            "text/plain": [
              "       year  month           make fuel_type            vehicle_type  number\n",
              "1581   2016      5          HONDA    Petrol  Sports Utility Vehicle    1198\n",
              "1921   2016      6          HONDA    Petrol  Sports Utility Vehicle     986\n",
              "901    2016      3          HONDA    Petrol  Sports Utility Vehicle     954\n",
              "3427   2016     10          HONDA    Petrol  Sports Utility Vehicle     950\n",
              "1488   2016      5         TOYOTA    Petrol                   Sedan     906\n",
              "...     ...    ...            ...       ...                     ...     ...\n",
              "27868  2022      6       MASERATI    Petrol      Coupe/ Convertible       1\n",
              "27873  2022      6        MCLAREN    Petrol      Coupe/ Convertible       1\n",
              "27875  2022      6  MERCEDES BENZ    Diesel      Coupe/ Convertible       1\n",
              "27879  2022      6     MITSUBISHI    Petrol      Coupe/ Convertible       1\n",
              "27910  2022      6        TRIUMPH    Petrol      Coupe/ Convertible       1\n",
              "\n",
              "[10445 rows x 6 columns]"
            ],
            "text/html": [
              "\n",
              "  <div id=\"df-013543b5-ff39-48b0-8066-bed7ba5c2515\">\n",
              "    <div class=\"colab-df-container\">\n",
              "      <div>\n",
              "<style scoped>\n",
              "    .dataframe tbody tr th:only-of-type {\n",
              "        vertical-align: middle;\n",
              "    }\n",
              "\n",
              "    .dataframe tbody tr th {\n",
              "        vertical-align: top;\n",
              "    }\n",
              "\n",
              "    .dataframe thead th {\n",
              "        text-align: right;\n",
              "    }\n",
              "</style>\n",
              "<table border=\"1\" class=\"dataframe\">\n",
              "  <thead>\n",
              "    <tr style=\"text-align: right;\">\n",
              "      <th></th>\n",
              "      <th>year</th>\n",
              "      <th>month</th>\n",
              "      <th>make</th>\n",
              "      <th>fuel_type</th>\n",
              "      <th>vehicle_type</th>\n",
              "      <th>number</th>\n",
              "    </tr>\n",
              "  </thead>\n",
              "  <tbody>\n",
              "    <tr>\n",
              "      <th>1581</th>\n",
              "      <td>2016</td>\n",
              "      <td>5</td>\n",
              "      <td>HONDA</td>\n",
              "      <td>Petrol</td>\n",
              "      <td>Sports Utility Vehicle</td>\n",
              "      <td>1198</td>\n",
              "    </tr>\n",
              "    <tr>\n",
              "      <th>1921</th>\n",
              "      <td>2016</td>\n",
              "      <td>6</td>\n",
              "      <td>HONDA</td>\n",
              "      <td>Petrol</td>\n",
              "      <td>Sports Utility Vehicle</td>\n",
              "      <td>986</td>\n",
              "    </tr>\n",
              "    <tr>\n",
              "      <th>901</th>\n",
              "      <td>2016</td>\n",
              "      <td>3</td>\n",
              "      <td>HONDA</td>\n",
              "      <td>Petrol</td>\n",
              "      <td>Sports Utility Vehicle</td>\n",
              "      <td>954</td>\n",
              "    </tr>\n",
              "    <tr>\n",
              "      <th>3427</th>\n",
              "      <td>2016</td>\n",
              "      <td>10</td>\n",
              "      <td>HONDA</td>\n",
              "      <td>Petrol</td>\n",
              "      <td>Sports Utility Vehicle</td>\n",
              "      <td>950</td>\n",
              "    </tr>\n",
              "    <tr>\n",
              "      <th>1488</th>\n",
              "      <td>2016</td>\n",
              "      <td>5</td>\n",
              "      <td>TOYOTA</td>\n",
              "      <td>Petrol</td>\n",
              "      <td>Sedan</td>\n",
              "      <td>906</td>\n",
              "    </tr>\n",
              "    <tr>\n",
              "      <th>...</th>\n",
              "      <td>...</td>\n",
              "      <td>...</td>\n",
              "      <td>...</td>\n",
              "      <td>...</td>\n",
              "      <td>...</td>\n",
              "      <td>...</td>\n",
              "    </tr>\n",
              "    <tr>\n",
              "      <th>27868</th>\n",
              "      <td>2022</td>\n",
              "      <td>6</td>\n",
              "      <td>MASERATI</td>\n",
              "      <td>Petrol</td>\n",
              "      <td>Coupe/ Convertible</td>\n",
              "      <td>1</td>\n",
              "    </tr>\n",
              "    <tr>\n",
              "      <th>27873</th>\n",
              "      <td>2022</td>\n",
              "      <td>6</td>\n",
              "      <td>MCLAREN</td>\n",
              "      <td>Petrol</td>\n",
              "      <td>Coupe/ Convertible</td>\n",
              "      <td>1</td>\n",
              "    </tr>\n",
              "    <tr>\n",
              "      <th>27875</th>\n",
              "      <td>2022</td>\n",
              "      <td>6</td>\n",
              "      <td>MERCEDES BENZ</td>\n",
              "      <td>Diesel</td>\n",
              "      <td>Coupe/ Convertible</td>\n",
              "      <td>1</td>\n",
              "    </tr>\n",
              "    <tr>\n",
              "      <th>27879</th>\n",
              "      <td>2022</td>\n",
              "      <td>6</td>\n",
              "      <td>MITSUBISHI</td>\n",
              "      <td>Petrol</td>\n",
              "      <td>Coupe/ Convertible</td>\n",
              "      <td>1</td>\n",
              "    </tr>\n",
              "    <tr>\n",
              "      <th>27910</th>\n",
              "      <td>2022</td>\n",
              "      <td>6</td>\n",
              "      <td>TRIUMPH</td>\n",
              "      <td>Petrol</td>\n",
              "      <td>Coupe/ Convertible</td>\n",
              "      <td>1</td>\n",
              "    </tr>\n",
              "  </tbody>\n",
              "</table>\n",
              "<p>10445 rows × 6 columns</p>\n",
              "</div>\n",
              "      <button class=\"colab-df-convert\" onclick=\"convertToInteractive('df-013543b5-ff39-48b0-8066-bed7ba5c2515')\"\n",
              "              title=\"Convert this dataframe to an interactive table.\"\n",
              "              style=\"display:none;\">\n",
              "        \n",
              "  <svg xmlns=\"http://www.w3.org/2000/svg\" height=\"24px\"viewBox=\"0 0 24 24\"\n",
              "       width=\"24px\">\n",
              "    <path d=\"M0 0h24v24H0V0z\" fill=\"none\"/>\n",
              "    <path d=\"M18.56 5.44l.94 2.06.94-2.06 2.06-.94-2.06-.94-.94-2.06-.94 2.06-2.06.94zm-11 1L8.5 8.5l.94-2.06 2.06-.94-2.06-.94L8.5 2.5l-.94 2.06-2.06.94zm10 10l.94 2.06.94-2.06 2.06-.94-2.06-.94-.94-2.06-.94 2.06-2.06.94z\"/><path d=\"M17.41 7.96l-1.37-1.37c-.4-.4-.92-.59-1.43-.59-.52 0-1.04.2-1.43.59L10.3 9.45l-7.72 7.72c-.78.78-.78 2.05 0 2.83L4 21.41c.39.39.9.59 1.41.59.51 0 1.02-.2 1.41-.59l7.78-7.78 2.81-2.81c.8-.78.8-2.07 0-2.86zM5.41 20L4 18.59l7.72-7.72 1.47 1.35L5.41 20z\"/>\n",
              "  </svg>\n",
              "      </button>\n",
              "      \n",
              "  <style>\n",
              "    .colab-df-container {\n",
              "      display:flex;\n",
              "      flex-wrap:wrap;\n",
              "      gap: 12px;\n",
              "    }\n",
              "\n",
              "    .colab-df-convert {\n",
              "      background-color: #E8F0FE;\n",
              "      border: none;\n",
              "      border-radius: 50%;\n",
              "      cursor: pointer;\n",
              "      display: none;\n",
              "      fill: #1967D2;\n",
              "      height: 32px;\n",
              "      padding: 0 0 0 0;\n",
              "      width: 32px;\n",
              "    }\n",
              "\n",
              "    .colab-df-convert:hover {\n",
              "      background-color: #E2EBFA;\n",
              "      box-shadow: 0px 1px 2px rgba(60, 64, 67, 0.3), 0px 1px 3px 1px rgba(60, 64, 67, 0.15);\n",
              "      fill: #174EA6;\n",
              "    }\n",
              "\n",
              "    [theme=dark] .colab-df-convert {\n",
              "      background-color: #3B4455;\n",
              "      fill: #D2E3FC;\n",
              "    }\n",
              "\n",
              "    [theme=dark] .colab-df-convert:hover {\n",
              "      background-color: #434B5C;\n",
              "      box-shadow: 0px 1px 3px 1px rgba(0, 0, 0, 0.15);\n",
              "      filter: drop-shadow(0px 1px 2px rgba(0, 0, 0, 0.3));\n",
              "      fill: #FFFFFF;\n",
              "    }\n",
              "  </style>\n",
              "\n",
              "      <script>\n",
              "        const buttonEl =\n",
              "          document.querySelector('#df-013543b5-ff39-48b0-8066-bed7ba5c2515 button.colab-df-convert');\n",
              "        buttonEl.style.display =\n",
              "          google.colab.kernel.accessAllowed ? 'block' : 'none';\n",
              "\n",
              "        async function convertToInteractive(key) {\n",
              "          const element = document.querySelector('#df-013543b5-ff39-48b0-8066-bed7ba5c2515');\n",
              "          const dataTable =\n",
              "            await google.colab.kernel.invokeFunction('convertToInteractive',\n",
              "                                                     [key], {});\n",
              "          if (!dataTable) return;\n",
              "\n",
              "          const docLinkHtml = 'Like what you see? Visit the ' +\n",
              "            '<a target=\"_blank\" href=https://colab.research.google.com/notebooks/data_table.ipynb>data table notebook</a>'\n",
              "            + ' to learn more about interactive tables.';\n",
              "          element.innerHTML = '';\n",
              "          dataTable['output_type'] = 'display_data';\n",
              "          await google.colab.output.renderOutput(dataTable, element);\n",
              "          const docLink = document.createElement('div');\n",
              "          docLink.innerHTML = docLinkHtml;\n",
              "          element.appendChild(docLink);\n",
              "        }\n",
              "      </script>\n",
              "    </div>\n",
              "  </div>\n",
              "  "
            ]
          },
          "metadata": {},
          "execution_count": 124
        }
      ]
    },
    {
      "cell_type": "markdown",
      "source": [
        "We can also pick out the smallest/largest rows for similar data integrity checks:"
      ],
      "metadata": {
        "id": "RZzGLbNEbWp_"
      }
    },
    {
      "cell_type": "code",
      "source": [
        "cars_monthly_nonzero.month.nsmallest(3)"
      ],
      "metadata": {
        "colab": {
          "base_uri": "https://localhost:8080/"
        },
        "id": "dv3Q5_OxcTs0",
        "outputId": "3ea873b8-e175-4cb5-ad5f-72ab8eb02ee8"
      },
      "execution_count": null,
      "outputs": [
        {
          "output_type": "execute_result",
          "data": {
            "text/plain": [
              "221      1\n",
              "12489    1\n",
              "128      1\n",
              "Name: month, dtype: int64"
            ]
          },
          "metadata": {},
          "execution_count": 125
        }
      ]
    },
    {
      "cell_type": "code",
      "source": [
        "cars_monthly_nonzero.month.nlargest(3)"
      ],
      "metadata": {
        "colab": {
          "base_uri": "https://localhost:8080/"
        },
        "id": "0VXmIUQZbnJ7",
        "outputId": "a332ca32-1638-42ab-84ac-305e3e66915d"
      },
      "execution_count": null,
      "outputs": [
        {
          "output_type": "execute_result",
          "data": {
            "text/plain": [
              "4054    12\n",
              "4085    12\n",
              "8492    12\n",
              "Name: month, dtype: int64"
            ]
          },
          "metadata": {},
          "execution_count": 126
        }
      ]
    },
    {
      "cell_type": "markdown",
      "source": [
        "### 3.3.2. Aggregation & Grouping\n",
        "\n",
        "In this section, we will explore using pivot tables, crosstabs, and group by operations to aggregate the data."
      ],
      "metadata": {
        "id": "Ftt2PUnRdJyo"
      }
    },
    {
      "cell_type": "markdown",
      "source": [
        "#### **`pivot_table`**\n",
        "\n",
        "To get the aggregated number of new car registrations by make and year, using `pivot_table`:"
      ],
      "metadata": {
        "id": "h0s-xsxDaEqm"
      }
    },
    {
      "cell_type": "code",
      "source": [
        "cars_monthly_pivoted = cars_monthly_nonzero.pivot_table(index='make', columns='year', values='number', aggfunc='sum')\n",
        "cars_monthly_pivoted"
      ],
      "metadata": {
        "colab": {
          "base_uri": "https://localhost:8080/"
        },
        "id": "CaLAOLbge4nu",
        "outputId": "00fb731f-4834-4c99-83d7-dc031031b2ac"
      },
      "execution_count": null,
      "outputs": [
        {
          "output_type": "execute_result",
          "data": {
            "text/plain": [
              "year             2016     2017     2018     2019    2020    2021    2022\n",
              "make                                                                    \n",
              "ALFA ROMEO       39.0     12.0     50.0     60.0    39.0    37.0     9.0\n",
              "ALPINA           12.0     23.0     11.0      2.0     8.0     2.0     NaN\n",
              "ALPINE            NaN      NaN      NaN     14.0     7.0    11.0     3.0\n",
              "ASTON MARTIN     14.0     29.0     26.0     21.0    28.0    27.0    16.0\n",
              "AUDI           2360.0   2604.0   2941.0   2487.0  2228.0  1975.0   445.0\n",
              "...               ...      ...      ...      ...     ...     ...     ...\n",
              "TESLA             3.0      NaN      4.0     14.0    20.0   924.0   315.0\n",
              "TOYOTA        18491.0  19133.0  13817.0  12923.0  7704.0  9633.0  3545.0\n",
              "TRIUMPH           1.0      3.0      2.0      NaN     1.0     NaN     2.0\n",
              "VOLKSWAGEN     2779.0   2450.0   2420.0   1726.0  1334.0   915.0   241.0\n",
              "VOLVO          1485.0   1526.0   1416.0    874.0   712.0   510.0   185.0\n",
              "\n",
              "[71 rows x 7 columns]"
            ],
            "text/html": [
              "\n",
              "  <div id=\"df-2ceba312-dd84-4eee-83b7-0007d1f6d872\">\n",
              "    <div class=\"colab-df-container\">\n",
              "      <div>\n",
              "<style scoped>\n",
              "    .dataframe tbody tr th:only-of-type {\n",
              "        vertical-align: middle;\n",
              "    }\n",
              "\n",
              "    .dataframe tbody tr th {\n",
              "        vertical-align: top;\n",
              "    }\n",
              "\n",
              "    .dataframe thead th {\n",
              "        text-align: right;\n",
              "    }\n",
              "</style>\n",
              "<table border=\"1\" class=\"dataframe\">\n",
              "  <thead>\n",
              "    <tr style=\"text-align: right;\">\n",
              "      <th>year</th>\n",
              "      <th>2016</th>\n",
              "      <th>2017</th>\n",
              "      <th>2018</th>\n",
              "      <th>2019</th>\n",
              "      <th>2020</th>\n",
              "      <th>2021</th>\n",
              "      <th>2022</th>\n",
              "    </tr>\n",
              "    <tr>\n",
              "      <th>make</th>\n",
              "      <th></th>\n",
              "      <th></th>\n",
              "      <th></th>\n",
              "      <th></th>\n",
              "      <th></th>\n",
              "      <th></th>\n",
              "      <th></th>\n",
              "    </tr>\n",
              "  </thead>\n",
              "  <tbody>\n",
              "    <tr>\n",
              "      <th>ALFA ROMEO</th>\n",
              "      <td>39.0</td>\n",
              "      <td>12.0</td>\n",
              "      <td>50.0</td>\n",
              "      <td>60.0</td>\n",
              "      <td>39.0</td>\n",
              "      <td>37.0</td>\n",
              "      <td>9.0</td>\n",
              "    </tr>\n",
              "    <tr>\n",
              "      <th>ALPINA</th>\n",
              "      <td>12.0</td>\n",
              "      <td>23.0</td>\n",
              "      <td>11.0</td>\n",
              "      <td>2.0</td>\n",
              "      <td>8.0</td>\n",
              "      <td>2.0</td>\n",
              "      <td>NaN</td>\n",
              "    </tr>\n",
              "    <tr>\n",
              "      <th>ALPINE</th>\n",
              "      <td>NaN</td>\n",
              "      <td>NaN</td>\n",
              "      <td>NaN</td>\n",
              "      <td>14.0</td>\n",
              "      <td>7.0</td>\n",
              "      <td>11.0</td>\n",
              "      <td>3.0</td>\n",
              "    </tr>\n",
              "    <tr>\n",
              "      <th>ASTON MARTIN</th>\n",
              "      <td>14.0</td>\n",
              "      <td>29.0</td>\n",
              "      <td>26.0</td>\n",
              "      <td>21.0</td>\n",
              "      <td>28.0</td>\n",
              "      <td>27.0</td>\n",
              "      <td>16.0</td>\n",
              "    </tr>\n",
              "    <tr>\n",
              "      <th>AUDI</th>\n",
              "      <td>2360.0</td>\n",
              "      <td>2604.0</td>\n",
              "      <td>2941.0</td>\n",
              "      <td>2487.0</td>\n",
              "      <td>2228.0</td>\n",
              "      <td>1975.0</td>\n",
              "      <td>445.0</td>\n",
              "    </tr>\n",
              "    <tr>\n",
              "      <th>...</th>\n",
              "      <td>...</td>\n",
              "      <td>...</td>\n",
              "      <td>...</td>\n",
              "      <td>...</td>\n",
              "      <td>...</td>\n",
              "      <td>...</td>\n",
              "      <td>...</td>\n",
              "    </tr>\n",
              "    <tr>\n",
              "      <th>TESLA</th>\n",
              "      <td>3.0</td>\n",
              "      <td>NaN</td>\n",
              "      <td>4.0</td>\n",
              "      <td>14.0</td>\n",
              "      <td>20.0</td>\n",
              "      <td>924.0</td>\n",
              "      <td>315.0</td>\n",
              "    </tr>\n",
              "    <tr>\n",
              "      <th>TOYOTA</th>\n",
              "      <td>18491.0</td>\n",
              "      <td>19133.0</td>\n",
              "      <td>13817.0</td>\n",
              "      <td>12923.0</td>\n",
              "      <td>7704.0</td>\n",
              "      <td>9633.0</td>\n",
              "      <td>3545.0</td>\n",
              "    </tr>\n",
              "    <tr>\n",
              "      <th>TRIUMPH</th>\n",
              "      <td>1.0</td>\n",
              "      <td>3.0</td>\n",
              "      <td>2.0</td>\n",
              "      <td>NaN</td>\n",
              "      <td>1.0</td>\n",
              "      <td>NaN</td>\n",
              "      <td>2.0</td>\n",
              "    </tr>\n",
              "    <tr>\n",
              "      <th>VOLKSWAGEN</th>\n",
              "      <td>2779.0</td>\n",
              "      <td>2450.0</td>\n",
              "      <td>2420.0</td>\n",
              "      <td>1726.0</td>\n",
              "      <td>1334.0</td>\n",
              "      <td>915.0</td>\n",
              "      <td>241.0</td>\n",
              "    </tr>\n",
              "    <tr>\n",
              "      <th>VOLVO</th>\n",
              "      <td>1485.0</td>\n",
              "      <td>1526.0</td>\n",
              "      <td>1416.0</td>\n",
              "      <td>874.0</td>\n",
              "      <td>712.0</td>\n",
              "      <td>510.0</td>\n",
              "      <td>185.0</td>\n",
              "    </tr>\n",
              "  </tbody>\n",
              "</table>\n",
              "<p>71 rows × 7 columns</p>\n",
              "</div>\n",
              "      <button class=\"colab-df-convert\" onclick=\"convertToInteractive('df-2ceba312-dd84-4eee-83b7-0007d1f6d872')\"\n",
              "              title=\"Convert this dataframe to an interactive table.\"\n",
              "              style=\"display:none;\">\n",
              "        \n",
              "  <svg xmlns=\"http://www.w3.org/2000/svg\" height=\"24px\"viewBox=\"0 0 24 24\"\n",
              "       width=\"24px\">\n",
              "    <path d=\"M0 0h24v24H0V0z\" fill=\"none\"/>\n",
              "    <path d=\"M18.56 5.44l.94 2.06.94-2.06 2.06-.94-2.06-.94-.94-2.06-.94 2.06-2.06.94zm-11 1L8.5 8.5l.94-2.06 2.06-.94-2.06-.94L8.5 2.5l-.94 2.06-2.06.94zm10 10l.94 2.06.94-2.06 2.06-.94-2.06-.94-.94-2.06-.94 2.06-2.06.94z\"/><path d=\"M17.41 7.96l-1.37-1.37c-.4-.4-.92-.59-1.43-.59-.52 0-1.04.2-1.43.59L10.3 9.45l-7.72 7.72c-.78.78-.78 2.05 0 2.83L4 21.41c.39.39.9.59 1.41.59.51 0 1.02-.2 1.41-.59l7.78-7.78 2.81-2.81c.8-.78.8-2.07 0-2.86zM5.41 20L4 18.59l7.72-7.72 1.47 1.35L5.41 20z\"/>\n",
              "  </svg>\n",
              "      </button>\n",
              "      \n",
              "  <style>\n",
              "    .colab-df-container {\n",
              "      display:flex;\n",
              "      flex-wrap:wrap;\n",
              "      gap: 12px;\n",
              "    }\n",
              "\n",
              "    .colab-df-convert {\n",
              "      background-color: #E8F0FE;\n",
              "      border: none;\n",
              "      border-radius: 50%;\n",
              "      cursor: pointer;\n",
              "      display: none;\n",
              "      fill: #1967D2;\n",
              "      height: 32px;\n",
              "      padding: 0 0 0 0;\n",
              "      width: 32px;\n",
              "    }\n",
              "\n",
              "    .colab-df-convert:hover {\n",
              "      background-color: #E2EBFA;\n",
              "      box-shadow: 0px 1px 2px rgba(60, 64, 67, 0.3), 0px 1px 3px 1px rgba(60, 64, 67, 0.15);\n",
              "      fill: #174EA6;\n",
              "    }\n",
              "\n",
              "    [theme=dark] .colab-df-convert {\n",
              "      background-color: #3B4455;\n",
              "      fill: #D2E3FC;\n",
              "    }\n",
              "\n",
              "    [theme=dark] .colab-df-convert:hover {\n",
              "      background-color: #434B5C;\n",
              "      box-shadow: 0px 1px 3px 1px rgba(0, 0, 0, 0.15);\n",
              "      filter: drop-shadow(0px 1px 2px rgba(0, 0, 0, 0.3));\n",
              "      fill: #FFFFFF;\n",
              "    }\n",
              "  </style>\n",
              "\n",
              "      <script>\n",
              "        const buttonEl =\n",
              "          document.querySelector('#df-2ceba312-dd84-4eee-83b7-0007d1f6d872 button.colab-df-convert');\n",
              "        buttonEl.style.display =\n",
              "          google.colab.kernel.accessAllowed ? 'block' : 'none';\n",
              "\n",
              "        async function convertToInteractive(key) {\n",
              "          const element = document.querySelector('#df-2ceba312-dd84-4eee-83b7-0007d1f6d872');\n",
              "          const dataTable =\n",
              "            await google.colab.kernel.invokeFunction('convertToInteractive',\n",
              "                                                     [key], {});\n",
              "          if (!dataTable) return;\n",
              "\n",
              "          const docLinkHtml = 'Like what you see? Visit the ' +\n",
              "            '<a target=\"_blank\" href=https://colab.research.google.com/notebooks/data_table.ipynb>data table notebook</a>'\n",
              "            + ' to learn more about interactive tables.';\n",
              "          element.innerHTML = '';\n",
              "          dataTable['output_type'] = 'display_data';\n",
              "          await google.colab.output.renderOutput(dataTable, element);\n",
              "          const docLink = document.createElement('div');\n",
              "          docLink.innerHTML = docLinkHtml;\n",
              "          element.appendChild(docLink);\n",
              "        }\n",
              "      </script>\n",
              "    </div>\n",
              "  </div>\n",
              "  "
            ]
          },
          "metadata": {},
          "execution_count": 127
        }
      ]
    },
    {
      "cell_type": "markdown",
      "source": [
        "#### **`crosstab`**\n",
        "\n",
        "The Same can be achieve with the `pd.crosstab` function, but with different arguments:"
      ],
      "metadata": {
        "id": "BPSUBCecsoTX"
      }
    },
    {
      "cell_type": "code",
      "source": [
        "pd.crosstab(index=cars_monthly_nonzero.make,\n",
        "            columns=cars_monthly_nonzero.year,\n",
        "            values=cars_monthly_nonzero.number,\n",
        "            aggfunc='sum')"
      ],
      "metadata": {
        "colab": {
          "base_uri": "https://localhost:8080/"
        },
        "id": "f6-tOFJgf77T",
        "outputId": "74ccba10-4c20-407a-f29a-e8491319f69e"
      },
      "execution_count": null,
      "outputs": [
        {
          "output_type": "execute_result",
          "data": {
            "text/plain": [
              "year             2016     2017     2018     2019    2020    2021    2022\n",
              "make                                                                    \n",
              "ALFA ROMEO       39.0     12.0     50.0     60.0    39.0    37.0     9.0\n",
              "ALPINA           12.0     23.0     11.0      2.0     8.0     2.0     NaN\n",
              "ALPINE            NaN      NaN      NaN     14.0     7.0    11.0     3.0\n",
              "ASTON MARTIN     14.0     29.0     26.0     21.0    28.0    27.0    16.0\n",
              "AUDI           2360.0   2604.0   2941.0   2487.0  2228.0  1975.0   445.0\n",
              "...               ...      ...      ...      ...     ...     ...     ...\n",
              "TESLA             3.0      NaN      4.0     14.0    20.0   924.0   315.0\n",
              "TOYOTA        18491.0  19133.0  13817.0  12923.0  7704.0  9633.0  3545.0\n",
              "TRIUMPH           1.0      3.0      2.0      NaN     1.0     NaN     2.0\n",
              "VOLKSWAGEN     2779.0   2450.0   2420.0   1726.0  1334.0   915.0   241.0\n",
              "VOLVO          1485.0   1526.0   1416.0    874.0   712.0   510.0   185.0\n",
              "\n",
              "[71 rows x 7 columns]"
            ],
            "text/html": [
              "\n",
              "  <div id=\"df-e5f049f3-7687-4a19-a96e-136d2f5d5fcc\">\n",
              "    <div class=\"colab-df-container\">\n",
              "      <div>\n",
              "<style scoped>\n",
              "    .dataframe tbody tr th:only-of-type {\n",
              "        vertical-align: middle;\n",
              "    }\n",
              "\n",
              "    .dataframe tbody tr th {\n",
              "        vertical-align: top;\n",
              "    }\n",
              "\n",
              "    .dataframe thead th {\n",
              "        text-align: right;\n",
              "    }\n",
              "</style>\n",
              "<table border=\"1\" class=\"dataframe\">\n",
              "  <thead>\n",
              "    <tr style=\"text-align: right;\">\n",
              "      <th>year</th>\n",
              "      <th>2016</th>\n",
              "      <th>2017</th>\n",
              "      <th>2018</th>\n",
              "      <th>2019</th>\n",
              "      <th>2020</th>\n",
              "      <th>2021</th>\n",
              "      <th>2022</th>\n",
              "    </tr>\n",
              "    <tr>\n",
              "      <th>make</th>\n",
              "      <th></th>\n",
              "      <th></th>\n",
              "      <th></th>\n",
              "      <th></th>\n",
              "      <th></th>\n",
              "      <th></th>\n",
              "      <th></th>\n",
              "    </tr>\n",
              "  </thead>\n",
              "  <tbody>\n",
              "    <tr>\n",
              "      <th>ALFA ROMEO</th>\n",
              "      <td>39.0</td>\n",
              "      <td>12.0</td>\n",
              "      <td>50.0</td>\n",
              "      <td>60.0</td>\n",
              "      <td>39.0</td>\n",
              "      <td>37.0</td>\n",
              "      <td>9.0</td>\n",
              "    </tr>\n",
              "    <tr>\n",
              "      <th>ALPINA</th>\n",
              "      <td>12.0</td>\n",
              "      <td>23.0</td>\n",
              "      <td>11.0</td>\n",
              "      <td>2.0</td>\n",
              "      <td>8.0</td>\n",
              "      <td>2.0</td>\n",
              "      <td>NaN</td>\n",
              "    </tr>\n",
              "    <tr>\n",
              "      <th>ALPINE</th>\n",
              "      <td>NaN</td>\n",
              "      <td>NaN</td>\n",
              "      <td>NaN</td>\n",
              "      <td>14.0</td>\n",
              "      <td>7.0</td>\n",
              "      <td>11.0</td>\n",
              "      <td>3.0</td>\n",
              "    </tr>\n",
              "    <tr>\n",
              "      <th>ASTON MARTIN</th>\n",
              "      <td>14.0</td>\n",
              "      <td>29.0</td>\n",
              "      <td>26.0</td>\n",
              "      <td>21.0</td>\n",
              "      <td>28.0</td>\n",
              "      <td>27.0</td>\n",
              "      <td>16.0</td>\n",
              "    </tr>\n",
              "    <tr>\n",
              "      <th>AUDI</th>\n",
              "      <td>2360.0</td>\n",
              "      <td>2604.0</td>\n",
              "      <td>2941.0</td>\n",
              "      <td>2487.0</td>\n",
              "      <td>2228.0</td>\n",
              "      <td>1975.0</td>\n",
              "      <td>445.0</td>\n",
              "    </tr>\n",
              "    <tr>\n",
              "      <th>...</th>\n",
              "      <td>...</td>\n",
              "      <td>...</td>\n",
              "      <td>...</td>\n",
              "      <td>...</td>\n",
              "      <td>...</td>\n",
              "      <td>...</td>\n",
              "      <td>...</td>\n",
              "    </tr>\n",
              "    <tr>\n",
              "      <th>TESLA</th>\n",
              "      <td>3.0</td>\n",
              "      <td>NaN</td>\n",
              "      <td>4.0</td>\n",
              "      <td>14.0</td>\n",
              "      <td>20.0</td>\n",
              "      <td>924.0</td>\n",
              "      <td>315.0</td>\n",
              "    </tr>\n",
              "    <tr>\n",
              "      <th>TOYOTA</th>\n",
              "      <td>18491.0</td>\n",
              "      <td>19133.0</td>\n",
              "      <td>13817.0</td>\n",
              "      <td>12923.0</td>\n",
              "      <td>7704.0</td>\n",
              "      <td>9633.0</td>\n",
              "      <td>3545.0</td>\n",
              "    </tr>\n",
              "    <tr>\n",
              "      <th>TRIUMPH</th>\n",
              "      <td>1.0</td>\n",
              "      <td>3.0</td>\n",
              "      <td>2.0</td>\n",
              "      <td>NaN</td>\n",
              "      <td>1.0</td>\n",
              "      <td>NaN</td>\n",
              "      <td>2.0</td>\n",
              "    </tr>\n",
              "    <tr>\n",
              "      <th>VOLKSWAGEN</th>\n",
              "      <td>2779.0</td>\n",
              "      <td>2450.0</td>\n",
              "      <td>2420.0</td>\n",
              "      <td>1726.0</td>\n",
              "      <td>1334.0</td>\n",
              "      <td>915.0</td>\n",
              "      <td>241.0</td>\n",
              "    </tr>\n",
              "    <tr>\n",
              "      <th>VOLVO</th>\n",
              "      <td>1485.0</td>\n",
              "      <td>1526.0</td>\n",
              "      <td>1416.0</td>\n",
              "      <td>874.0</td>\n",
              "      <td>712.0</td>\n",
              "      <td>510.0</td>\n",
              "      <td>185.0</td>\n",
              "    </tr>\n",
              "  </tbody>\n",
              "</table>\n",
              "<p>71 rows × 7 columns</p>\n",
              "</div>\n",
              "      <button class=\"colab-df-convert\" onclick=\"convertToInteractive('df-e5f049f3-7687-4a19-a96e-136d2f5d5fcc')\"\n",
              "              title=\"Convert this dataframe to an interactive table.\"\n",
              "              style=\"display:none;\">\n",
              "        \n",
              "  <svg xmlns=\"http://www.w3.org/2000/svg\" height=\"24px\"viewBox=\"0 0 24 24\"\n",
              "       width=\"24px\">\n",
              "    <path d=\"M0 0h24v24H0V0z\" fill=\"none\"/>\n",
              "    <path d=\"M18.56 5.44l.94 2.06.94-2.06 2.06-.94-2.06-.94-.94-2.06-.94 2.06-2.06.94zm-11 1L8.5 8.5l.94-2.06 2.06-.94-2.06-.94L8.5 2.5l-.94 2.06-2.06.94zm10 10l.94 2.06.94-2.06 2.06-.94-2.06-.94-.94-2.06-.94 2.06-2.06.94z\"/><path d=\"M17.41 7.96l-1.37-1.37c-.4-.4-.92-.59-1.43-.59-.52 0-1.04.2-1.43.59L10.3 9.45l-7.72 7.72c-.78.78-.78 2.05 0 2.83L4 21.41c.39.39.9.59 1.41.59.51 0 1.02-.2 1.41-.59l7.78-7.78 2.81-2.81c.8-.78.8-2.07 0-2.86zM5.41 20L4 18.59l7.72-7.72 1.47 1.35L5.41 20z\"/>\n",
              "  </svg>\n",
              "      </button>\n",
              "      \n",
              "  <style>\n",
              "    .colab-df-container {\n",
              "      display:flex;\n",
              "      flex-wrap:wrap;\n",
              "      gap: 12px;\n",
              "    }\n",
              "\n",
              "    .colab-df-convert {\n",
              "      background-color: #E8F0FE;\n",
              "      border: none;\n",
              "      border-radius: 50%;\n",
              "      cursor: pointer;\n",
              "      display: none;\n",
              "      fill: #1967D2;\n",
              "      height: 32px;\n",
              "      padding: 0 0 0 0;\n",
              "      width: 32px;\n",
              "    }\n",
              "\n",
              "    .colab-df-convert:hover {\n",
              "      background-color: #E2EBFA;\n",
              "      box-shadow: 0px 1px 2px rgba(60, 64, 67, 0.3), 0px 1px 3px 1px rgba(60, 64, 67, 0.15);\n",
              "      fill: #174EA6;\n",
              "    }\n",
              "\n",
              "    [theme=dark] .colab-df-convert {\n",
              "      background-color: #3B4455;\n",
              "      fill: #D2E3FC;\n",
              "    }\n",
              "\n",
              "    [theme=dark] .colab-df-convert:hover {\n",
              "      background-color: #434B5C;\n",
              "      box-shadow: 0px 1px 3px 1px rgba(0, 0, 0, 0.15);\n",
              "      filter: drop-shadow(0px 1px 2px rgba(0, 0, 0, 0.3));\n",
              "      fill: #FFFFFF;\n",
              "    }\n",
              "  </style>\n",
              "\n",
              "      <script>\n",
              "        const buttonEl =\n",
              "          document.querySelector('#df-e5f049f3-7687-4a19-a96e-136d2f5d5fcc button.colab-df-convert');\n",
              "        buttonEl.style.display =\n",
              "          google.colab.kernel.accessAllowed ? 'block' : 'none';\n",
              "\n",
              "        async function convertToInteractive(key) {\n",
              "          const element = document.querySelector('#df-e5f049f3-7687-4a19-a96e-136d2f5d5fcc');\n",
              "          const dataTable =\n",
              "            await google.colab.kernel.invokeFunction('convertToInteractive',\n",
              "                                                     [key], {});\n",
              "          if (!dataTable) return;\n",
              "\n",
              "          const docLinkHtml = 'Like what you see? Visit the ' +\n",
              "            '<a target=\"_blank\" href=https://colab.research.google.com/notebooks/data_table.ipynb>data table notebook</a>'\n",
              "            + ' to learn more about interactive tables.';\n",
              "          element.innerHTML = '';\n",
              "          dataTable['output_type'] = 'display_data';\n",
              "          await google.colab.output.renderOutput(dataTable, element);\n",
              "          const docLink = document.createElement('div');\n",
              "          docLink.innerHTML = docLinkHtml;\n",
              "          element.appendChild(docLink);\n",
              "        }\n",
              "      </script>\n",
              "    </div>\n",
              "  </div>\n",
              "  "
            ]
          },
          "metadata": {},
          "execution_count": 128
        }
      ]
    },
    {
      "cell_type": "markdown",
      "source": [
        "Notice that `crosstab` does not require your data to be in a `DataFrame`, so you might find it natural to use `pivot_table` when your data is already in a `DataFrame` and `crosstab` otherwise. Internally to Pandas, `crosstab` invokes `pivot_table` to calculate the results."
      ],
      "metadata": {
        "id": "Wl24iCtUL6R2"
      }
    },
    {
      "cell_type": "markdown",
      "source": [
        "#### **`groupby`**\n",
        "\n",
        "Those coming from SQL land might feel more comfortable with `groupby`, which requires a reshaping with `unstack` to get the same results:"
      ],
      "metadata": {
        "id": "Y6CHtN-9uVYU"
      }
    },
    {
      "cell_type": "code",
      "source": [
        "cars_monthly_nonzero.groupby(['make', 'year']).sum()[['number']].unstack()"
      ],
      "metadata": {
        "colab": {
          "base_uri": "https://localhost:8080/"
        },
        "id": "0isucp-Ws2m8",
        "outputId": "5a49baf8-65c1-4528-e6a4-db99f15da0ae"
      },
      "execution_count": null,
      "outputs": [
        {
          "output_type": "execute_result",
          "data": {
            "text/plain": [
              "               number                                                   \n",
              "year             2016     2017     2018     2019    2020    2021    2022\n",
              "make                                                                    \n",
              "ALFA ROMEO       39.0     12.0     50.0     60.0    39.0    37.0     9.0\n",
              "ALPINA           12.0     23.0     11.0      2.0     8.0     2.0     NaN\n",
              "ALPINE            NaN      NaN      NaN     14.0     7.0    11.0     3.0\n",
              "ASTON MARTIN     14.0     29.0     26.0     21.0    28.0    27.0    16.0\n",
              "AUDI           2360.0   2604.0   2941.0   2487.0  2228.0  1975.0   445.0\n",
              "...               ...      ...      ...      ...     ...     ...     ...\n",
              "TESLA             3.0      NaN      4.0     14.0    20.0   924.0   315.0\n",
              "TOYOTA        18491.0  19133.0  13817.0  12923.0  7704.0  9633.0  3545.0\n",
              "TRIUMPH           1.0      3.0      2.0      NaN     1.0     NaN     2.0\n",
              "VOLKSWAGEN     2779.0   2450.0   2420.0   1726.0  1334.0   915.0   241.0\n",
              "VOLVO          1485.0   1526.0   1416.0    874.0   712.0   510.0   185.0\n",
              "\n",
              "[71 rows x 7 columns]"
            ],
            "text/html": [
              "\n",
              "  <div id=\"df-18044a24-9d6a-4bbd-9df4-5085dd8eb758\">\n",
              "    <div class=\"colab-df-container\">\n",
              "      <div>\n",
              "<style scoped>\n",
              "    .dataframe tbody tr th:only-of-type {\n",
              "        vertical-align: middle;\n",
              "    }\n",
              "\n",
              "    .dataframe tbody tr th {\n",
              "        vertical-align: top;\n",
              "    }\n",
              "\n",
              "    .dataframe thead tr th {\n",
              "        text-align: left;\n",
              "    }\n",
              "\n",
              "    .dataframe thead tr:last-of-type th {\n",
              "        text-align: right;\n",
              "    }\n",
              "</style>\n",
              "<table border=\"1\" class=\"dataframe\">\n",
              "  <thead>\n",
              "    <tr>\n",
              "      <th></th>\n",
              "      <th colspan=\"7\" halign=\"left\">number</th>\n",
              "    </tr>\n",
              "    <tr>\n",
              "      <th>year</th>\n",
              "      <th>2016</th>\n",
              "      <th>2017</th>\n",
              "      <th>2018</th>\n",
              "      <th>2019</th>\n",
              "      <th>2020</th>\n",
              "      <th>2021</th>\n",
              "      <th>2022</th>\n",
              "    </tr>\n",
              "    <tr>\n",
              "      <th>make</th>\n",
              "      <th></th>\n",
              "      <th></th>\n",
              "      <th></th>\n",
              "      <th></th>\n",
              "      <th></th>\n",
              "      <th></th>\n",
              "      <th></th>\n",
              "    </tr>\n",
              "  </thead>\n",
              "  <tbody>\n",
              "    <tr>\n",
              "      <th>ALFA ROMEO</th>\n",
              "      <td>39.0</td>\n",
              "      <td>12.0</td>\n",
              "      <td>50.0</td>\n",
              "      <td>60.0</td>\n",
              "      <td>39.0</td>\n",
              "      <td>37.0</td>\n",
              "      <td>9.0</td>\n",
              "    </tr>\n",
              "    <tr>\n",
              "      <th>ALPINA</th>\n",
              "      <td>12.0</td>\n",
              "      <td>23.0</td>\n",
              "      <td>11.0</td>\n",
              "      <td>2.0</td>\n",
              "      <td>8.0</td>\n",
              "      <td>2.0</td>\n",
              "      <td>NaN</td>\n",
              "    </tr>\n",
              "    <tr>\n",
              "      <th>ALPINE</th>\n",
              "      <td>NaN</td>\n",
              "      <td>NaN</td>\n",
              "      <td>NaN</td>\n",
              "      <td>14.0</td>\n",
              "      <td>7.0</td>\n",
              "      <td>11.0</td>\n",
              "      <td>3.0</td>\n",
              "    </tr>\n",
              "    <tr>\n",
              "      <th>ASTON MARTIN</th>\n",
              "      <td>14.0</td>\n",
              "      <td>29.0</td>\n",
              "      <td>26.0</td>\n",
              "      <td>21.0</td>\n",
              "      <td>28.0</td>\n",
              "      <td>27.0</td>\n",
              "      <td>16.0</td>\n",
              "    </tr>\n",
              "    <tr>\n",
              "      <th>AUDI</th>\n",
              "      <td>2360.0</td>\n",
              "      <td>2604.0</td>\n",
              "      <td>2941.0</td>\n",
              "      <td>2487.0</td>\n",
              "      <td>2228.0</td>\n",
              "      <td>1975.0</td>\n",
              "      <td>445.0</td>\n",
              "    </tr>\n",
              "    <tr>\n",
              "      <th>...</th>\n",
              "      <td>...</td>\n",
              "      <td>...</td>\n",
              "      <td>...</td>\n",
              "      <td>...</td>\n",
              "      <td>...</td>\n",
              "      <td>...</td>\n",
              "      <td>...</td>\n",
              "    </tr>\n",
              "    <tr>\n",
              "      <th>TESLA</th>\n",
              "      <td>3.0</td>\n",
              "      <td>NaN</td>\n",
              "      <td>4.0</td>\n",
              "      <td>14.0</td>\n",
              "      <td>20.0</td>\n",
              "      <td>924.0</td>\n",
              "      <td>315.0</td>\n",
              "    </tr>\n",
              "    <tr>\n",
              "      <th>TOYOTA</th>\n",
              "      <td>18491.0</td>\n",
              "      <td>19133.0</td>\n",
              "      <td>13817.0</td>\n",
              "      <td>12923.0</td>\n",
              "      <td>7704.0</td>\n",
              "      <td>9633.0</td>\n",
              "      <td>3545.0</td>\n",
              "    </tr>\n",
              "    <tr>\n",
              "      <th>TRIUMPH</th>\n",
              "      <td>1.0</td>\n",
              "      <td>3.0</td>\n",
              "      <td>2.0</td>\n",
              "      <td>NaN</td>\n",
              "      <td>1.0</td>\n",
              "      <td>NaN</td>\n",
              "      <td>2.0</td>\n",
              "    </tr>\n",
              "    <tr>\n",
              "      <th>VOLKSWAGEN</th>\n",
              "      <td>2779.0</td>\n",
              "      <td>2450.0</td>\n",
              "      <td>2420.0</td>\n",
              "      <td>1726.0</td>\n",
              "      <td>1334.0</td>\n",
              "      <td>915.0</td>\n",
              "      <td>241.0</td>\n",
              "    </tr>\n",
              "    <tr>\n",
              "      <th>VOLVO</th>\n",
              "      <td>1485.0</td>\n",
              "      <td>1526.0</td>\n",
              "      <td>1416.0</td>\n",
              "      <td>874.0</td>\n",
              "      <td>712.0</td>\n",
              "      <td>510.0</td>\n",
              "      <td>185.0</td>\n",
              "    </tr>\n",
              "  </tbody>\n",
              "</table>\n",
              "<p>71 rows × 7 columns</p>\n",
              "</div>\n",
              "      <button class=\"colab-df-convert\" onclick=\"convertToInteractive('df-18044a24-9d6a-4bbd-9df4-5085dd8eb758')\"\n",
              "              title=\"Convert this dataframe to an interactive table.\"\n",
              "              style=\"display:none;\">\n",
              "        \n",
              "  <svg xmlns=\"http://www.w3.org/2000/svg\" height=\"24px\"viewBox=\"0 0 24 24\"\n",
              "       width=\"24px\">\n",
              "    <path d=\"M0 0h24v24H0V0z\" fill=\"none\"/>\n",
              "    <path d=\"M18.56 5.44l.94 2.06.94-2.06 2.06-.94-2.06-.94-.94-2.06-.94 2.06-2.06.94zm-11 1L8.5 8.5l.94-2.06 2.06-.94-2.06-.94L8.5 2.5l-.94 2.06-2.06.94zm10 10l.94 2.06.94-2.06 2.06-.94-2.06-.94-.94-2.06-.94 2.06-2.06.94z\"/><path d=\"M17.41 7.96l-1.37-1.37c-.4-.4-.92-.59-1.43-.59-.52 0-1.04.2-1.43.59L10.3 9.45l-7.72 7.72c-.78.78-.78 2.05 0 2.83L4 21.41c.39.39.9.59 1.41.59.51 0 1.02-.2 1.41-.59l7.78-7.78 2.81-2.81c.8-.78.8-2.07 0-2.86zM5.41 20L4 18.59l7.72-7.72 1.47 1.35L5.41 20z\"/>\n",
              "  </svg>\n",
              "      </button>\n",
              "      \n",
              "  <style>\n",
              "    .colab-df-container {\n",
              "      display:flex;\n",
              "      flex-wrap:wrap;\n",
              "      gap: 12px;\n",
              "    }\n",
              "\n",
              "    .colab-df-convert {\n",
              "      background-color: #E8F0FE;\n",
              "      border: none;\n",
              "      border-radius: 50%;\n",
              "      cursor: pointer;\n",
              "      display: none;\n",
              "      fill: #1967D2;\n",
              "      height: 32px;\n",
              "      padding: 0 0 0 0;\n",
              "      width: 32px;\n",
              "    }\n",
              "\n",
              "    .colab-df-convert:hover {\n",
              "      background-color: #E2EBFA;\n",
              "      box-shadow: 0px 1px 2px rgba(60, 64, 67, 0.3), 0px 1px 3px 1px rgba(60, 64, 67, 0.15);\n",
              "      fill: #174EA6;\n",
              "    }\n",
              "\n",
              "    [theme=dark] .colab-df-convert {\n",
              "      background-color: #3B4455;\n",
              "      fill: #D2E3FC;\n",
              "    }\n",
              "\n",
              "    [theme=dark] .colab-df-convert:hover {\n",
              "      background-color: #434B5C;\n",
              "      box-shadow: 0px 1px 3px 1px rgba(0, 0, 0, 0.15);\n",
              "      filter: drop-shadow(0px 1px 2px rgba(0, 0, 0, 0.3));\n",
              "      fill: #FFFFFF;\n",
              "    }\n",
              "  </style>\n",
              "\n",
              "      <script>\n",
              "        const buttonEl =\n",
              "          document.querySelector('#df-18044a24-9d6a-4bbd-9df4-5085dd8eb758 button.colab-df-convert');\n",
              "        buttonEl.style.display =\n",
              "          google.colab.kernel.accessAllowed ? 'block' : 'none';\n",
              "\n",
              "        async function convertToInteractive(key) {\n",
              "          const element = document.querySelector('#df-18044a24-9d6a-4bbd-9df4-5085dd8eb758');\n",
              "          const dataTable =\n",
              "            await google.colab.kernel.invokeFunction('convertToInteractive',\n",
              "                                                     [key], {});\n",
              "          if (!dataTable) return;\n",
              "\n",
              "          const docLinkHtml = 'Like what you see? Visit the ' +\n",
              "            '<a target=\"_blank\" href=https://colab.research.google.com/notebooks/data_table.ipynb>data table notebook</a>'\n",
              "            + ' to learn more about interactive tables.';\n",
              "          element.innerHTML = '';\n",
              "          dataTable['output_type'] = 'display_data';\n",
              "          await google.colab.output.renderOutput(dataTable, element);\n",
              "          const docLink = document.createElement('div');\n",
              "          docLink.innerHTML = docLinkHtml;\n",
              "          element.appendChild(docLink);\n",
              "        }\n",
              "      </script>\n",
              "    </div>\n",
              "  </div>\n",
              "  "
            ]
          },
          "metadata": {},
          "execution_count": 129
        }
      ]
    },
    {
      "cell_type": "markdown",
      "source": [
        "Internally, Pandas uses `groupby` to implement `pivot_table`."
      ],
      "metadata": {
        "id": "O2_lRg7FNtvW"
      }
    },
    {
      "cell_type": "markdown",
      "source": [
        "#### **Why do I need to know how things are implemented within Pandas?**\n",
        "\n",
        "Usually the function (e.g. `groupby`) used for implementing other functions (e.g. `pivot_table`, `crosstab`) can be more powerful and flexible as it is considered a more fundamental operation, but it may not be as user-friendly e.g. more parameters may need to be specified or additional operations required to achieve the same thing. It is not necessary to understand the internals of Pandas to use it, but it could help us navigate which might be the most suitable function to use for a given problem."
      ],
      "metadata": {
        "id": "SKDT04c1OgFG"
      }
    },
    {
      "cell_type": "markdown",
      "source": [
        "### 3.3.3. Reshaping data\n",
        "\n",
        "\"A dataset can be written in two different formats: wide and long. A **wide** format contains values that do not repeat in the first column. A **long** format contains values that do repeat in the first column. Notice that in the wide dataset, each value in the first column is unique.\"\n",
        "\n",
        "<img src=\"https://www.statology.org/wp-content/uploads/2021/12/wideLong1-1.png\"/>\n",
        "\n",
        "Image credit: https://www.statology.org/long-vs-wide-data/\n",
        "\n",
        "Applied researchers often collect, store and analyze their data in the wide format. Classic ANOVA and MANOVA techniques for repeated measures and structural equation models for longitudinal data assume the wide format. Modern multilevel techniques and statistical graphs, however, sometimes work only from the long format. \n",
        "\n",
        "Now let's find out how we can convert between these two formats in Pandas."
      ],
      "metadata": {
        "id": "t8psMFVvTalG"
      }
    },
    {
      "cell_type": "markdown",
      "source": [
        "#### **Melting (wide to long)**\n",
        "\n",
        "The `DataFrame` generated from aggregating above is an example of wide format data. Let's convert it to long:"
      ],
      "metadata": {
        "id": "-dakPHT2V6J4"
      }
    },
    {
      "cell_type": "code",
      "source": [
        "cars_monthly_melted = cars_monthly_pivoted.melt(var_name='year', value_name='number', ignore_index=False)\n",
        "cars_monthly_melted"
      ],
      "metadata": {
        "colab": {
          "base_uri": "https://localhost:8080/"
        },
        "id": "7kRPgQxMSSaJ",
        "outputId": "bca1a8ec-9ddd-477a-9b55-dc93805ed218"
      },
      "execution_count": null,
      "outputs": [
        {
          "output_type": "execute_result",
          "data": {
            "text/plain": [
              "              year  number\n",
              "make                      \n",
              "ALFA ROMEO    2016    39.0\n",
              "ALPINA        2016    12.0\n",
              "ALPINE        2016     NaN\n",
              "ASTON MARTIN  2016    14.0\n",
              "AUDI          2016  2360.0\n",
              "...            ...     ...\n",
              "TESLA         2022   315.0\n",
              "TOYOTA        2022  3545.0\n",
              "TRIUMPH       2022     2.0\n",
              "VOLKSWAGEN    2022   241.0\n",
              "VOLVO         2022   185.0\n",
              "\n",
              "[497 rows x 2 columns]"
            ],
            "text/html": [
              "\n",
              "  <div id=\"df-39efa174-d593-4075-ba6f-cb41ddee12d8\">\n",
              "    <div class=\"colab-df-container\">\n",
              "      <div>\n",
              "<style scoped>\n",
              "    .dataframe tbody tr th:only-of-type {\n",
              "        vertical-align: middle;\n",
              "    }\n",
              "\n",
              "    .dataframe tbody tr th {\n",
              "        vertical-align: top;\n",
              "    }\n",
              "\n",
              "    .dataframe thead th {\n",
              "        text-align: right;\n",
              "    }\n",
              "</style>\n",
              "<table border=\"1\" class=\"dataframe\">\n",
              "  <thead>\n",
              "    <tr style=\"text-align: right;\">\n",
              "      <th></th>\n",
              "      <th>year</th>\n",
              "      <th>number</th>\n",
              "    </tr>\n",
              "    <tr>\n",
              "      <th>make</th>\n",
              "      <th></th>\n",
              "      <th></th>\n",
              "    </tr>\n",
              "  </thead>\n",
              "  <tbody>\n",
              "    <tr>\n",
              "      <th>ALFA ROMEO</th>\n",
              "      <td>2016</td>\n",
              "      <td>39.0</td>\n",
              "    </tr>\n",
              "    <tr>\n",
              "      <th>ALPINA</th>\n",
              "      <td>2016</td>\n",
              "      <td>12.0</td>\n",
              "    </tr>\n",
              "    <tr>\n",
              "      <th>ALPINE</th>\n",
              "      <td>2016</td>\n",
              "      <td>NaN</td>\n",
              "    </tr>\n",
              "    <tr>\n",
              "      <th>ASTON MARTIN</th>\n",
              "      <td>2016</td>\n",
              "      <td>14.0</td>\n",
              "    </tr>\n",
              "    <tr>\n",
              "      <th>AUDI</th>\n",
              "      <td>2016</td>\n",
              "      <td>2360.0</td>\n",
              "    </tr>\n",
              "    <tr>\n",
              "      <th>...</th>\n",
              "      <td>...</td>\n",
              "      <td>...</td>\n",
              "    </tr>\n",
              "    <tr>\n",
              "      <th>TESLA</th>\n",
              "      <td>2022</td>\n",
              "      <td>315.0</td>\n",
              "    </tr>\n",
              "    <tr>\n",
              "      <th>TOYOTA</th>\n",
              "      <td>2022</td>\n",
              "      <td>3545.0</td>\n",
              "    </tr>\n",
              "    <tr>\n",
              "      <th>TRIUMPH</th>\n",
              "      <td>2022</td>\n",
              "      <td>2.0</td>\n",
              "    </tr>\n",
              "    <tr>\n",
              "      <th>VOLKSWAGEN</th>\n",
              "      <td>2022</td>\n",
              "      <td>241.0</td>\n",
              "    </tr>\n",
              "    <tr>\n",
              "      <th>VOLVO</th>\n",
              "      <td>2022</td>\n",
              "      <td>185.0</td>\n",
              "    </tr>\n",
              "  </tbody>\n",
              "</table>\n",
              "<p>497 rows × 2 columns</p>\n",
              "</div>\n",
              "      <button class=\"colab-df-convert\" onclick=\"convertToInteractive('df-39efa174-d593-4075-ba6f-cb41ddee12d8')\"\n",
              "              title=\"Convert this dataframe to an interactive table.\"\n",
              "              style=\"display:none;\">\n",
              "        \n",
              "  <svg xmlns=\"http://www.w3.org/2000/svg\" height=\"24px\"viewBox=\"0 0 24 24\"\n",
              "       width=\"24px\">\n",
              "    <path d=\"M0 0h24v24H0V0z\" fill=\"none\"/>\n",
              "    <path d=\"M18.56 5.44l.94 2.06.94-2.06 2.06-.94-2.06-.94-.94-2.06-.94 2.06-2.06.94zm-11 1L8.5 8.5l.94-2.06 2.06-.94-2.06-.94L8.5 2.5l-.94 2.06-2.06.94zm10 10l.94 2.06.94-2.06 2.06-.94-2.06-.94-.94-2.06-.94 2.06-2.06.94z\"/><path d=\"M17.41 7.96l-1.37-1.37c-.4-.4-.92-.59-1.43-.59-.52 0-1.04.2-1.43.59L10.3 9.45l-7.72 7.72c-.78.78-.78 2.05 0 2.83L4 21.41c.39.39.9.59 1.41.59.51 0 1.02-.2 1.41-.59l7.78-7.78 2.81-2.81c.8-.78.8-2.07 0-2.86zM5.41 20L4 18.59l7.72-7.72 1.47 1.35L5.41 20z\"/>\n",
              "  </svg>\n",
              "      </button>\n",
              "      \n",
              "  <style>\n",
              "    .colab-df-container {\n",
              "      display:flex;\n",
              "      flex-wrap:wrap;\n",
              "      gap: 12px;\n",
              "    }\n",
              "\n",
              "    .colab-df-convert {\n",
              "      background-color: #E8F0FE;\n",
              "      border: none;\n",
              "      border-radius: 50%;\n",
              "      cursor: pointer;\n",
              "      display: none;\n",
              "      fill: #1967D2;\n",
              "      height: 32px;\n",
              "      padding: 0 0 0 0;\n",
              "      width: 32px;\n",
              "    }\n",
              "\n",
              "    .colab-df-convert:hover {\n",
              "      background-color: #E2EBFA;\n",
              "      box-shadow: 0px 1px 2px rgba(60, 64, 67, 0.3), 0px 1px 3px 1px rgba(60, 64, 67, 0.15);\n",
              "      fill: #174EA6;\n",
              "    }\n",
              "\n",
              "    [theme=dark] .colab-df-convert {\n",
              "      background-color: #3B4455;\n",
              "      fill: #D2E3FC;\n",
              "    }\n",
              "\n",
              "    [theme=dark] .colab-df-convert:hover {\n",
              "      background-color: #434B5C;\n",
              "      box-shadow: 0px 1px 3px 1px rgba(0, 0, 0, 0.15);\n",
              "      filter: drop-shadow(0px 1px 2px rgba(0, 0, 0, 0.3));\n",
              "      fill: #FFFFFF;\n",
              "    }\n",
              "  </style>\n",
              "\n",
              "      <script>\n",
              "        const buttonEl =\n",
              "          document.querySelector('#df-39efa174-d593-4075-ba6f-cb41ddee12d8 button.colab-df-convert');\n",
              "        buttonEl.style.display =\n",
              "          google.colab.kernel.accessAllowed ? 'block' : 'none';\n",
              "\n",
              "        async function convertToInteractive(key) {\n",
              "          const element = document.querySelector('#df-39efa174-d593-4075-ba6f-cb41ddee12d8');\n",
              "          const dataTable =\n",
              "            await google.colab.kernel.invokeFunction('convertToInteractive',\n",
              "                                                     [key], {});\n",
              "          if (!dataTable) return;\n",
              "\n",
              "          const docLinkHtml = 'Like what you see? Visit the ' +\n",
              "            '<a target=\"_blank\" href=https://colab.research.google.com/notebooks/data_table.ipynb>data table notebook</a>'\n",
              "            + ' to learn more about interactive tables.';\n",
              "          element.innerHTML = '';\n",
              "          dataTable['output_type'] = 'display_data';\n",
              "          await google.colab.output.renderOutput(dataTable, element);\n",
              "          const docLink = document.createElement('div');\n",
              "          docLink.innerHTML = docLinkHtml;\n",
              "          element.appendChild(docLink);\n",
              "        }\n",
              "      </script>\n",
              "    </div>\n",
              "  </div>\n",
              "  "
            ]
          },
          "metadata": {},
          "execution_count": 130
        }
      ]
    },
    {
      "cell_type": "markdown",
      "source": [
        "#### **Pivoting (long to wide)**\n",
        "\n",
        "We can use `pivot` to convert the long format back to wide format:"
      ],
      "metadata": {
        "id": "Yvr-CwDLXVLv"
      }
    },
    {
      "cell_type": "code",
      "source": [
        "cars_monthly_melted.pivot(columns='year')"
      ],
      "metadata": {
        "colab": {
          "base_uri": "https://localhost:8080/"
        },
        "id": "3DMnMdPiXh9e",
        "outputId": "dc05f1f3-1312-41f8-fe7f-8210f6d235bb"
      },
      "execution_count": null,
      "outputs": [
        {
          "output_type": "execute_result",
          "data": {
            "text/plain": [
              "               number                                                   \n",
              "year             2016     2017     2018     2019    2020    2021    2022\n",
              "make                                                                    \n",
              "ALFA ROMEO       39.0     12.0     50.0     60.0    39.0    37.0     9.0\n",
              "ALPINA           12.0     23.0     11.0      2.0     8.0     2.0     NaN\n",
              "ALPINE            NaN      NaN      NaN     14.0     7.0    11.0     3.0\n",
              "ASTON MARTIN     14.0     29.0     26.0     21.0    28.0    27.0    16.0\n",
              "AUDI           2360.0   2604.0   2941.0   2487.0  2228.0  1975.0   445.0\n",
              "...               ...      ...      ...      ...     ...     ...     ...\n",
              "TESLA             3.0      NaN      4.0     14.0    20.0   924.0   315.0\n",
              "TOYOTA        18491.0  19133.0  13817.0  12923.0  7704.0  9633.0  3545.0\n",
              "TRIUMPH           1.0      3.0      2.0      NaN     1.0     NaN     2.0\n",
              "VOLKSWAGEN     2779.0   2450.0   2420.0   1726.0  1334.0   915.0   241.0\n",
              "VOLVO          1485.0   1526.0   1416.0    874.0   712.0   510.0   185.0\n",
              "\n",
              "[71 rows x 7 columns]"
            ],
            "text/html": [
              "\n",
              "  <div id=\"df-48ade171-0eee-4b6b-8b1a-437cbdb50607\">\n",
              "    <div class=\"colab-df-container\">\n",
              "      <div>\n",
              "<style scoped>\n",
              "    .dataframe tbody tr th:only-of-type {\n",
              "        vertical-align: middle;\n",
              "    }\n",
              "\n",
              "    .dataframe tbody tr th {\n",
              "        vertical-align: top;\n",
              "    }\n",
              "\n",
              "    .dataframe thead tr th {\n",
              "        text-align: left;\n",
              "    }\n",
              "\n",
              "    .dataframe thead tr:last-of-type th {\n",
              "        text-align: right;\n",
              "    }\n",
              "</style>\n",
              "<table border=\"1\" class=\"dataframe\">\n",
              "  <thead>\n",
              "    <tr>\n",
              "      <th></th>\n",
              "      <th colspan=\"7\" halign=\"left\">number</th>\n",
              "    </tr>\n",
              "    <tr>\n",
              "      <th>year</th>\n",
              "      <th>2016</th>\n",
              "      <th>2017</th>\n",
              "      <th>2018</th>\n",
              "      <th>2019</th>\n",
              "      <th>2020</th>\n",
              "      <th>2021</th>\n",
              "      <th>2022</th>\n",
              "    </tr>\n",
              "    <tr>\n",
              "      <th>make</th>\n",
              "      <th></th>\n",
              "      <th></th>\n",
              "      <th></th>\n",
              "      <th></th>\n",
              "      <th></th>\n",
              "      <th></th>\n",
              "      <th></th>\n",
              "    </tr>\n",
              "  </thead>\n",
              "  <tbody>\n",
              "    <tr>\n",
              "      <th>ALFA ROMEO</th>\n",
              "      <td>39.0</td>\n",
              "      <td>12.0</td>\n",
              "      <td>50.0</td>\n",
              "      <td>60.0</td>\n",
              "      <td>39.0</td>\n",
              "      <td>37.0</td>\n",
              "      <td>9.0</td>\n",
              "    </tr>\n",
              "    <tr>\n",
              "      <th>ALPINA</th>\n",
              "      <td>12.0</td>\n",
              "      <td>23.0</td>\n",
              "      <td>11.0</td>\n",
              "      <td>2.0</td>\n",
              "      <td>8.0</td>\n",
              "      <td>2.0</td>\n",
              "      <td>NaN</td>\n",
              "    </tr>\n",
              "    <tr>\n",
              "      <th>ALPINE</th>\n",
              "      <td>NaN</td>\n",
              "      <td>NaN</td>\n",
              "      <td>NaN</td>\n",
              "      <td>14.0</td>\n",
              "      <td>7.0</td>\n",
              "      <td>11.0</td>\n",
              "      <td>3.0</td>\n",
              "    </tr>\n",
              "    <tr>\n",
              "      <th>ASTON MARTIN</th>\n",
              "      <td>14.0</td>\n",
              "      <td>29.0</td>\n",
              "      <td>26.0</td>\n",
              "      <td>21.0</td>\n",
              "      <td>28.0</td>\n",
              "      <td>27.0</td>\n",
              "      <td>16.0</td>\n",
              "    </tr>\n",
              "    <tr>\n",
              "      <th>AUDI</th>\n",
              "      <td>2360.0</td>\n",
              "      <td>2604.0</td>\n",
              "      <td>2941.0</td>\n",
              "      <td>2487.0</td>\n",
              "      <td>2228.0</td>\n",
              "      <td>1975.0</td>\n",
              "      <td>445.0</td>\n",
              "    </tr>\n",
              "    <tr>\n",
              "      <th>...</th>\n",
              "      <td>...</td>\n",
              "      <td>...</td>\n",
              "      <td>...</td>\n",
              "      <td>...</td>\n",
              "      <td>...</td>\n",
              "      <td>...</td>\n",
              "      <td>...</td>\n",
              "    </tr>\n",
              "    <tr>\n",
              "      <th>TESLA</th>\n",
              "      <td>3.0</td>\n",
              "      <td>NaN</td>\n",
              "      <td>4.0</td>\n",
              "      <td>14.0</td>\n",
              "      <td>20.0</td>\n",
              "      <td>924.0</td>\n",
              "      <td>315.0</td>\n",
              "    </tr>\n",
              "    <tr>\n",
              "      <th>TOYOTA</th>\n",
              "      <td>18491.0</td>\n",
              "      <td>19133.0</td>\n",
              "      <td>13817.0</td>\n",
              "      <td>12923.0</td>\n",
              "      <td>7704.0</td>\n",
              "      <td>9633.0</td>\n",
              "      <td>3545.0</td>\n",
              "    </tr>\n",
              "    <tr>\n",
              "      <th>TRIUMPH</th>\n",
              "      <td>1.0</td>\n",
              "      <td>3.0</td>\n",
              "      <td>2.0</td>\n",
              "      <td>NaN</td>\n",
              "      <td>1.0</td>\n",
              "      <td>NaN</td>\n",
              "      <td>2.0</td>\n",
              "    </tr>\n",
              "    <tr>\n",
              "      <th>VOLKSWAGEN</th>\n",
              "      <td>2779.0</td>\n",
              "      <td>2450.0</td>\n",
              "      <td>2420.0</td>\n",
              "      <td>1726.0</td>\n",
              "      <td>1334.0</td>\n",
              "      <td>915.0</td>\n",
              "      <td>241.0</td>\n",
              "    </tr>\n",
              "    <tr>\n",
              "      <th>VOLVO</th>\n",
              "      <td>1485.0</td>\n",
              "      <td>1526.0</td>\n",
              "      <td>1416.0</td>\n",
              "      <td>874.0</td>\n",
              "      <td>712.0</td>\n",
              "      <td>510.0</td>\n",
              "      <td>185.0</td>\n",
              "    </tr>\n",
              "  </tbody>\n",
              "</table>\n",
              "<p>71 rows × 7 columns</p>\n",
              "</div>\n",
              "      <button class=\"colab-df-convert\" onclick=\"convertToInteractive('df-48ade171-0eee-4b6b-8b1a-437cbdb50607')\"\n",
              "              title=\"Convert this dataframe to an interactive table.\"\n",
              "              style=\"display:none;\">\n",
              "        \n",
              "  <svg xmlns=\"http://www.w3.org/2000/svg\" height=\"24px\"viewBox=\"0 0 24 24\"\n",
              "       width=\"24px\">\n",
              "    <path d=\"M0 0h24v24H0V0z\" fill=\"none\"/>\n",
              "    <path d=\"M18.56 5.44l.94 2.06.94-2.06 2.06-.94-2.06-.94-.94-2.06-.94 2.06-2.06.94zm-11 1L8.5 8.5l.94-2.06 2.06-.94-2.06-.94L8.5 2.5l-.94 2.06-2.06.94zm10 10l.94 2.06.94-2.06 2.06-.94-2.06-.94-.94-2.06-.94 2.06-2.06.94z\"/><path d=\"M17.41 7.96l-1.37-1.37c-.4-.4-.92-.59-1.43-.59-.52 0-1.04.2-1.43.59L10.3 9.45l-7.72 7.72c-.78.78-.78 2.05 0 2.83L4 21.41c.39.39.9.59 1.41.59.51 0 1.02-.2 1.41-.59l7.78-7.78 2.81-2.81c.8-.78.8-2.07 0-2.86zM5.41 20L4 18.59l7.72-7.72 1.47 1.35L5.41 20z\"/>\n",
              "  </svg>\n",
              "      </button>\n",
              "      \n",
              "  <style>\n",
              "    .colab-df-container {\n",
              "      display:flex;\n",
              "      flex-wrap:wrap;\n",
              "      gap: 12px;\n",
              "    }\n",
              "\n",
              "    .colab-df-convert {\n",
              "      background-color: #E8F0FE;\n",
              "      border: none;\n",
              "      border-radius: 50%;\n",
              "      cursor: pointer;\n",
              "      display: none;\n",
              "      fill: #1967D2;\n",
              "      height: 32px;\n",
              "      padding: 0 0 0 0;\n",
              "      width: 32px;\n",
              "    }\n",
              "\n",
              "    .colab-df-convert:hover {\n",
              "      background-color: #E2EBFA;\n",
              "      box-shadow: 0px 1px 2px rgba(60, 64, 67, 0.3), 0px 1px 3px 1px rgba(60, 64, 67, 0.15);\n",
              "      fill: #174EA6;\n",
              "    }\n",
              "\n",
              "    [theme=dark] .colab-df-convert {\n",
              "      background-color: #3B4455;\n",
              "      fill: #D2E3FC;\n",
              "    }\n",
              "\n",
              "    [theme=dark] .colab-df-convert:hover {\n",
              "      background-color: #434B5C;\n",
              "      box-shadow: 0px 1px 3px 1px rgba(0, 0, 0, 0.15);\n",
              "      filter: drop-shadow(0px 1px 2px rgba(0, 0, 0, 0.3));\n",
              "      fill: #FFFFFF;\n",
              "    }\n",
              "  </style>\n",
              "\n",
              "      <script>\n",
              "        const buttonEl =\n",
              "          document.querySelector('#df-48ade171-0eee-4b6b-8b1a-437cbdb50607 button.colab-df-convert');\n",
              "        buttonEl.style.display =\n",
              "          google.colab.kernel.accessAllowed ? 'block' : 'none';\n",
              "\n",
              "        async function convertToInteractive(key) {\n",
              "          const element = document.querySelector('#df-48ade171-0eee-4b6b-8b1a-437cbdb50607');\n",
              "          const dataTable =\n",
              "            await google.colab.kernel.invokeFunction('convertToInteractive',\n",
              "                                                     [key], {});\n",
              "          if (!dataTable) return;\n",
              "\n",
              "          const docLinkHtml = 'Like what you see? Visit the ' +\n",
              "            '<a target=\"_blank\" href=https://colab.research.google.com/notebooks/data_table.ipynb>data table notebook</a>'\n",
              "            + ' to learn more about interactive tables.';\n",
              "          element.innerHTML = '';\n",
              "          dataTable['output_type'] = 'display_data';\n",
              "          await google.colab.output.renderOutput(dataTable, element);\n",
              "          const docLink = document.createElement('div');\n",
              "          docLink.innerHTML = docLinkHtml;\n",
              "          element.appendChild(docLink);\n",
              "        }\n",
              "      </script>\n",
              "    </div>\n",
              "  </div>\n",
              "  "
            ]
          },
          "metadata": {},
          "execution_count": 131
        }
      ]
    },
    {
      "cell_type": "markdown",
      "source": [
        "#### **Transposing**\n",
        "\n",
        "Sometimes we might simply need to flip the rows and columns:"
      ],
      "metadata": {
        "id": "hDteTwuTalq9"
      }
    },
    {
      "cell_type": "code",
      "source": [
        "cars_monthly_pivoted.T"
      ],
      "metadata": {
        "colab": {
          "base_uri": "https://localhost:8080/"
        },
        "id": "Gncb3jQia50u",
        "outputId": "4b3c29a0-12e5-4381-9a4f-af8bfa42cb18"
      },
      "execution_count": null,
      "outputs": [
        {
          "output_type": "execute_result",
          "data": {
            "text/plain": [
              "make  ALFA ROMEO  ALPINA  ALPINE  ASTON MARTIN    AUDI  AUSTIN  B.M.W.  \\\n",
              "year                                                                     \n",
              "2016        39.0    12.0     NaN          14.0  2360.0     NaN  4582.0   \n",
              "2017        12.0    23.0     NaN          29.0  2604.0     1.0  5591.0   \n",
              "2018        50.0    11.0     NaN          26.0  2941.0     NaN  5405.0   \n",
              "2019        60.0     2.0    14.0          21.0  2487.0     2.0  5346.0   \n",
              "2020        39.0     8.0     7.0          28.0  2228.0     1.0  4349.0   \n",
              "2021        37.0     2.0    11.0          27.0  1975.0     2.0  5255.0   \n",
              "2022         9.0     NaN     3.0          16.0   445.0     2.0  1851.0   \n",
              "\n",
              "make  BENTLEY  BLUECAR    BYD  ...  SKODA  SMART  SSANGYONG  SUBARU  SUZUKI  \\\n",
              "year                           ...                                            \n",
              "2016     53.0      NaN    7.0  ...    2.0    NaN      279.0  2902.0   496.0   \n",
              "2017     70.0    235.0   63.0  ...    6.0    NaN      388.0  3239.0   501.0   \n",
              "2018     61.0    180.0   32.0  ...  452.0    4.0       40.0  3196.0   177.0   \n",
              "2019     69.0    265.0    7.0  ...  849.0    1.0       47.0  1261.0   467.0   \n",
              "2020     76.0      NaN    3.0  ...  663.0    NaN      232.0   740.0   317.0   \n",
              "2021    103.0     30.0   89.0  ...  470.0    NaN      135.0   346.0   378.0   \n",
              "2022     68.0     75.0  300.0  ...  108.0    1.0      217.0    94.0    79.0   \n",
              "\n",
              "make  TESLA   TOYOTA  TRIUMPH  VOLKSWAGEN   VOLVO  \n",
              "year                                               \n",
              "2016    3.0  18491.0      1.0      2779.0  1485.0  \n",
              "2017    NaN  19133.0      3.0      2450.0  1526.0  \n",
              "2018    4.0  13817.0      2.0      2420.0  1416.0  \n",
              "2019   14.0  12923.0      NaN      1726.0   874.0  \n",
              "2020   20.0   7704.0      1.0      1334.0   712.0  \n",
              "2021  924.0   9633.0      NaN       915.0   510.0  \n",
              "2022  315.0   3545.0      2.0       241.0   185.0  \n",
              "\n",
              "[7 rows x 71 columns]"
            ],
            "text/html": [
              "\n",
              "  <div id=\"df-e600c48f-bee6-48aa-896b-e69df1591ec6\">\n",
              "    <div class=\"colab-df-container\">\n",
              "      <div>\n",
              "<style scoped>\n",
              "    .dataframe tbody tr th:only-of-type {\n",
              "        vertical-align: middle;\n",
              "    }\n",
              "\n",
              "    .dataframe tbody tr th {\n",
              "        vertical-align: top;\n",
              "    }\n",
              "\n",
              "    .dataframe thead th {\n",
              "        text-align: right;\n",
              "    }\n",
              "</style>\n",
              "<table border=\"1\" class=\"dataframe\">\n",
              "  <thead>\n",
              "    <tr style=\"text-align: right;\">\n",
              "      <th>make</th>\n",
              "      <th>ALFA ROMEO</th>\n",
              "      <th>ALPINA</th>\n",
              "      <th>ALPINE</th>\n",
              "      <th>ASTON MARTIN</th>\n",
              "      <th>AUDI</th>\n",
              "      <th>AUSTIN</th>\n",
              "      <th>B.M.W.</th>\n",
              "      <th>BENTLEY</th>\n",
              "      <th>BLUECAR</th>\n",
              "      <th>BYD</th>\n",
              "      <th>...</th>\n",
              "      <th>SKODA</th>\n",
              "      <th>SMART</th>\n",
              "      <th>SSANGYONG</th>\n",
              "      <th>SUBARU</th>\n",
              "      <th>SUZUKI</th>\n",
              "      <th>TESLA</th>\n",
              "      <th>TOYOTA</th>\n",
              "      <th>TRIUMPH</th>\n",
              "      <th>VOLKSWAGEN</th>\n",
              "      <th>VOLVO</th>\n",
              "    </tr>\n",
              "    <tr>\n",
              "      <th>year</th>\n",
              "      <th></th>\n",
              "      <th></th>\n",
              "      <th></th>\n",
              "      <th></th>\n",
              "      <th></th>\n",
              "      <th></th>\n",
              "      <th></th>\n",
              "      <th></th>\n",
              "      <th></th>\n",
              "      <th></th>\n",
              "      <th></th>\n",
              "      <th></th>\n",
              "      <th></th>\n",
              "      <th></th>\n",
              "      <th></th>\n",
              "      <th></th>\n",
              "      <th></th>\n",
              "      <th></th>\n",
              "      <th></th>\n",
              "      <th></th>\n",
              "      <th></th>\n",
              "    </tr>\n",
              "  </thead>\n",
              "  <tbody>\n",
              "    <tr>\n",
              "      <th>2016</th>\n",
              "      <td>39.0</td>\n",
              "      <td>12.0</td>\n",
              "      <td>NaN</td>\n",
              "      <td>14.0</td>\n",
              "      <td>2360.0</td>\n",
              "      <td>NaN</td>\n",
              "      <td>4582.0</td>\n",
              "      <td>53.0</td>\n",
              "      <td>NaN</td>\n",
              "      <td>7.0</td>\n",
              "      <td>...</td>\n",
              "      <td>2.0</td>\n",
              "      <td>NaN</td>\n",
              "      <td>279.0</td>\n",
              "      <td>2902.0</td>\n",
              "      <td>496.0</td>\n",
              "      <td>3.0</td>\n",
              "      <td>18491.0</td>\n",
              "      <td>1.0</td>\n",
              "      <td>2779.0</td>\n",
              "      <td>1485.0</td>\n",
              "    </tr>\n",
              "    <tr>\n",
              "      <th>2017</th>\n",
              "      <td>12.0</td>\n",
              "      <td>23.0</td>\n",
              "      <td>NaN</td>\n",
              "      <td>29.0</td>\n",
              "      <td>2604.0</td>\n",
              "      <td>1.0</td>\n",
              "      <td>5591.0</td>\n",
              "      <td>70.0</td>\n",
              "      <td>235.0</td>\n",
              "      <td>63.0</td>\n",
              "      <td>...</td>\n",
              "      <td>6.0</td>\n",
              "      <td>NaN</td>\n",
              "      <td>388.0</td>\n",
              "      <td>3239.0</td>\n",
              "      <td>501.0</td>\n",
              "      <td>NaN</td>\n",
              "      <td>19133.0</td>\n",
              "      <td>3.0</td>\n",
              "      <td>2450.0</td>\n",
              "      <td>1526.0</td>\n",
              "    </tr>\n",
              "    <tr>\n",
              "      <th>2018</th>\n",
              "      <td>50.0</td>\n",
              "      <td>11.0</td>\n",
              "      <td>NaN</td>\n",
              "      <td>26.0</td>\n",
              "      <td>2941.0</td>\n",
              "      <td>NaN</td>\n",
              "      <td>5405.0</td>\n",
              "      <td>61.0</td>\n",
              "      <td>180.0</td>\n",
              "      <td>32.0</td>\n",
              "      <td>...</td>\n",
              "      <td>452.0</td>\n",
              "      <td>4.0</td>\n",
              "      <td>40.0</td>\n",
              "      <td>3196.0</td>\n",
              "      <td>177.0</td>\n",
              "      <td>4.0</td>\n",
              "      <td>13817.0</td>\n",
              "      <td>2.0</td>\n",
              "      <td>2420.0</td>\n",
              "      <td>1416.0</td>\n",
              "    </tr>\n",
              "    <tr>\n",
              "      <th>2019</th>\n",
              "      <td>60.0</td>\n",
              "      <td>2.0</td>\n",
              "      <td>14.0</td>\n",
              "      <td>21.0</td>\n",
              "      <td>2487.0</td>\n",
              "      <td>2.0</td>\n",
              "      <td>5346.0</td>\n",
              "      <td>69.0</td>\n",
              "      <td>265.0</td>\n",
              "      <td>7.0</td>\n",
              "      <td>...</td>\n",
              "      <td>849.0</td>\n",
              "      <td>1.0</td>\n",
              "      <td>47.0</td>\n",
              "      <td>1261.0</td>\n",
              "      <td>467.0</td>\n",
              "      <td>14.0</td>\n",
              "      <td>12923.0</td>\n",
              "      <td>NaN</td>\n",
              "      <td>1726.0</td>\n",
              "      <td>874.0</td>\n",
              "    </tr>\n",
              "    <tr>\n",
              "      <th>2020</th>\n",
              "      <td>39.0</td>\n",
              "      <td>8.0</td>\n",
              "      <td>7.0</td>\n",
              "      <td>28.0</td>\n",
              "      <td>2228.0</td>\n",
              "      <td>1.0</td>\n",
              "      <td>4349.0</td>\n",
              "      <td>76.0</td>\n",
              "      <td>NaN</td>\n",
              "      <td>3.0</td>\n",
              "      <td>...</td>\n",
              "      <td>663.0</td>\n",
              "      <td>NaN</td>\n",
              "      <td>232.0</td>\n",
              "      <td>740.0</td>\n",
              "      <td>317.0</td>\n",
              "      <td>20.0</td>\n",
              "      <td>7704.0</td>\n",
              "      <td>1.0</td>\n",
              "      <td>1334.0</td>\n",
              "      <td>712.0</td>\n",
              "    </tr>\n",
              "    <tr>\n",
              "      <th>2021</th>\n",
              "      <td>37.0</td>\n",
              "      <td>2.0</td>\n",
              "      <td>11.0</td>\n",
              "      <td>27.0</td>\n",
              "      <td>1975.0</td>\n",
              "      <td>2.0</td>\n",
              "      <td>5255.0</td>\n",
              "      <td>103.0</td>\n",
              "      <td>30.0</td>\n",
              "      <td>89.0</td>\n",
              "      <td>...</td>\n",
              "      <td>470.0</td>\n",
              "      <td>NaN</td>\n",
              "      <td>135.0</td>\n",
              "      <td>346.0</td>\n",
              "      <td>378.0</td>\n",
              "      <td>924.0</td>\n",
              "      <td>9633.0</td>\n",
              "      <td>NaN</td>\n",
              "      <td>915.0</td>\n",
              "      <td>510.0</td>\n",
              "    </tr>\n",
              "    <tr>\n",
              "      <th>2022</th>\n",
              "      <td>9.0</td>\n",
              "      <td>NaN</td>\n",
              "      <td>3.0</td>\n",
              "      <td>16.0</td>\n",
              "      <td>445.0</td>\n",
              "      <td>2.0</td>\n",
              "      <td>1851.0</td>\n",
              "      <td>68.0</td>\n",
              "      <td>75.0</td>\n",
              "      <td>300.0</td>\n",
              "      <td>...</td>\n",
              "      <td>108.0</td>\n",
              "      <td>1.0</td>\n",
              "      <td>217.0</td>\n",
              "      <td>94.0</td>\n",
              "      <td>79.0</td>\n",
              "      <td>315.0</td>\n",
              "      <td>3545.0</td>\n",
              "      <td>2.0</td>\n",
              "      <td>241.0</td>\n",
              "      <td>185.0</td>\n",
              "    </tr>\n",
              "  </tbody>\n",
              "</table>\n",
              "<p>7 rows × 71 columns</p>\n",
              "</div>\n",
              "      <button class=\"colab-df-convert\" onclick=\"convertToInteractive('df-e600c48f-bee6-48aa-896b-e69df1591ec6')\"\n",
              "              title=\"Convert this dataframe to an interactive table.\"\n",
              "              style=\"display:none;\">\n",
              "        \n",
              "  <svg xmlns=\"http://www.w3.org/2000/svg\" height=\"24px\"viewBox=\"0 0 24 24\"\n",
              "       width=\"24px\">\n",
              "    <path d=\"M0 0h24v24H0V0z\" fill=\"none\"/>\n",
              "    <path d=\"M18.56 5.44l.94 2.06.94-2.06 2.06-.94-2.06-.94-.94-2.06-.94 2.06-2.06.94zm-11 1L8.5 8.5l.94-2.06 2.06-.94-2.06-.94L8.5 2.5l-.94 2.06-2.06.94zm10 10l.94 2.06.94-2.06 2.06-.94-2.06-.94-.94-2.06-.94 2.06-2.06.94z\"/><path d=\"M17.41 7.96l-1.37-1.37c-.4-.4-.92-.59-1.43-.59-.52 0-1.04.2-1.43.59L10.3 9.45l-7.72 7.72c-.78.78-.78 2.05 0 2.83L4 21.41c.39.39.9.59 1.41.59.51 0 1.02-.2 1.41-.59l7.78-7.78 2.81-2.81c.8-.78.8-2.07 0-2.86zM5.41 20L4 18.59l7.72-7.72 1.47 1.35L5.41 20z\"/>\n",
              "  </svg>\n",
              "      </button>\n",
              "      \n",
              "  <style>\n",
              "    .colab-df-container {\n",
              "      display:flex;\n",
              "      flex-wrap:wrap;\n",
              "      gap: 12px;\n",
              "    }\n",
              "\n",
              "    .colab-df-convert {\n",
              "      background-color: #E8F0FE;\n",
              "      border: none;\n",
              "      border-radius: 50%;\n",
              "      cursor: pointer;\n",
              "      display: none;\n",
              "      fill: #1967D2;\n",
              "      height: 32px;\n",
              "      padding: 0 0 0 0;\n",
              "      width: 32px;\n",
              "    }\n",
              "\n",
              "    .colab-df-convert:hover {\n",
              "      background-color: #E2EBFA;\n",
              "      box-shadow: 0px 1px 2px rgba(60, 64, 67, 0.3), 0px 1px 3px 1px rgba(60, 64, 67, 0.15);\n",
              "      fill: #174EA6;\n",
              "    }\n",
              "\n",
              "    [theme=dark] .colab-df-convert {\n",
              "      background-color: #3B4455;\n",
              "      fill: #D2E3FC;\n",
              "    }\n",
              "\n",
              "    [theme=dark] .colab-df-convert:hover {\n",
              "      background-color: #434B5C;\n",
              "      box-shadow: 0px 1px 3px 1px rgba(0, 0, 0, 0.15);\n",
              "      filter: drop-shadow(0px 1px 2px rgba(0, 0, 0, 0.3));\n",
              "      fill: #FFFFFF;\n",
              "    }\n",
              "  </style>\n",
              "\n",
              "      <script>\n",
              "        const buttonEl =\n",
              "          document.querySelector('#df-e600c48f-bee6-48aa-896b-e69df1591ec6 button.colab-df-convert');\n",
              "        buttonEl.style.display =\n",
              "          google.colab.kernel.accessAllowed ? 'block' : 'none';\n",
              "\n",
              "        async function convertToInteractive(key) {\n",
              "          const element = document.querySelector('#df-e600c48f-bee6-48aa-896b-e69df1591ec6');\n",
              "          const dataTable =\n",
              "            await google.colab.kernel.invokeFunction('convertToInteractive',\n",
              "                                                     [key], {});\n",
              "          if (!dataTable) return;\n",
              "\n",
              "          const docLinkHtml = 'Like what you see? Visit the ' +\n",
              "            '<a target=\"_blank\" href=https://colab.research.google.com/notebooks/data_table.ipynb>data table notebook</a>'\n",
              "            + ' to learn more about interactive tables.';\n",
              "          element.innerHTML = '';\n",
              "          dataTable['output_type'] = 'display_data';\n",
              "          await google.colab.output.renderOutput(dataTable, element);\n",
              "          const docLink = document.createElement('div');\n",
              "          docLink.innerHTML = docLinkHtml;\n",
              "          element.appendChild(docLink);\n",
              "        }\n",
              "      </script>\n",
              "    </div>\n",
              "  </div>\n",
              "  "
            ]
          },
          "metadata": {},
          "execution_count": 132
        }
      ]
    },
    {
      "cell_type": "markdown",
      "source": [
        "### 3.3.4. Merging data\n",
        "\n",
        "When working with multiple datasets a common operation is to merge them using a common identifier. Pandas provides the `merge` function to achieve this. For those familiar with relational database, it is very similar to the SQL `JOIN` statement."
      ],
      "metadata": {
        "id": "uS45wPwEeT5b"
      }
    },
    {
      "cell_type": "markdown",
      "source": [
        "#### **Preparing for merge**\n",
        "\n",
        "To demonstrate the power of `merge` let's first aggregate the original Singapore annual new car registration dataset at the make and year level, which will allow us to later join with `cars_annually_melted` and check if the two datasets agree on their numbers:"
      ],
      "metadata": {
        "id": "KQm89NTVMdBK"
      }
    },
    {
      "cell_type": "code",
      "source": [
        "cars_annually_aggregated = singapore_cars_cleaned.pivot_table(index='make', columns='year', values='number', aggfunc='sum')\n",
        "cars_annually_aggregated"
      ],
      "metadata": {
        "colab": {
          "base_uri": "https://localhost:8080/"
        },
        "id": "PnH9RFs5gCvq",
        "outputId": "ea63c203-68a0-4b6e-b7ac-372f5c8965f3"
      },
      "execution_count": null,
      "outputs": [
        {
          "output_type": "execute_result",
          "data": {
            "text/plain": [
              "year             2015     2016     2017     2018     2019    2020    2021\n",
              "make                                                                     \n",
              "ALFA ROMEO       31.0     39.0     12.0     50.0     60.0    39.0    37.0\n",
              "ALPINA            9.0     12.0     23.0     11.0      2.0     8.0     2.0\n",
              "ALPINE            NaN      NaN      NaN      NaN     14.0     7.0    11.0\n",
              "ASTON MARTIN      5.0     14.0     29.0     26.0     21.0    28.0    27.0\n",
              "AUDI           2093.0   2360.0   2604.0   2941.0   2487.0  2228.0  1975.0\n",
              "...               ...      ...      ...      ...      ...     ...     ...\n",
              "TOYO ACE          1.0      NaN      NaN      NaN      NaN     NaN     NaN\n",
              "TOYOTA        12171.0  18491.0  19133.0  13817.0  12923.0  7704.0  9633.0\n",
              "TRIUMPH           1.0      1.0      3.0      2.0      NaN     1.0     NaN\n",
              "VOLKSWAGEN     3056.0   2779.0   2450.0   2420.0   1726.0  1334.0   915.0\n",
              "VOLVO          1274.0   1485.0   1526.0   1416.0    874.0   712.0   510.0\n",
              "\n",
              "[71 rows x 7 columns]"
            ],
            "text/html": [
              "\n",
              "  <div id=\"df-1b05ce89-1521-46bf-8f65-0e1cced102f1\">\n",
              "    <div class=\"colab-df-container\">\n",
              "      <div>\n",
              "<style scoped>\n",
              "    .dataframe tbody tr th:only-of-type {\n",
              "        vertical-align: middle;\n",
              "    }\n",
              "\n",
              "    .dataframe tbody tr th {\n",
              "        vertical-align: top;\n",
              "    }\n",
              "\n",
              "    .dataframe thead th {\n",
              "        text-align: right;\n",
              "    }\n",
              "</style>\n",
              "<table border=\"1\" class=\"dataframe\">\n",
              "  <thead>\n",
              "    <tr style=\"text-align: right;\">\n",
              "      <th>year</th>\n",
              "      <th>2015</th>\n",
              "      <th>2016</th>\n",
              "      <th>2017</th>\n",
              "      <th>2018</th>\n",
              "      <th>2019</th>\n",
              "      <th>2020</th>\n",
              "      <th>2021</th>\n",
              "    </tr>\n",
              "    <tr>\n",
              "      <th>make</th>\n",
              "      <th></th>\n",
              "      <th></th>\n",
              "      <th></th>\n",
              "      <th></th>\n",
              "      <th></th>\n",
              "      <th></th>\n",
              "      <th></th>\n",
              "    </tr>\n",
              "  </thead>\n",
              "  <tbody>\n",
              "    <tr>\n",
              "      <th>ALFA ROMEO</th>\n",
              "      <td>31.0</td>\n",
              "      <td>39.0</td>\n",
              "      <td>12.0</td>\n",
              "      <td>50.0</td>\n",
              "      <td>60.0</td>\n",
              "      <td>39.0</td>\n",
              "      <td>37.0</td>\n",
              "    </tr>\n",
              "    <tr>\n",
              "      <th>ALPINA</th>\n",
              "      <td>9.0</td>\n",
              "      <td>12.0</td>\n",
              "      <td>23.0</td>\n",
              "      <td>11.0</td>\n",
              "      <td>2.0</td>\n",
              "      <td>8.0</td>\n",
              "      <td>2.0</td>\n",
              "    </tr>\n",
              "    <tr>\n",
              "      <th>ALPINE</th>\n",
              "      <td>NaN</td>\n",
              "      <td>NaN</td>\n",
              "      <td>NaN</td>\n",
              "      <td>NaN</td>\n",
              "      <td>14.0</td>\n",
              "      <td>7.0</td>\n",
              "      <td>11.0</td>\n",
              "    </tr>\n",
              "    <tr>\n",
              "      <th>ASTON MARTIN</th>\n",
              "      <td>5.0</td>\n",
              "      <td>14.0</td>\n",
              "      <td>29.0</td>\n",
              "      <td>26.0</td>\n",
              "      <td>21.0</td>\n",
              "      <td>28.0</td>\n",
              "      <td>27.0</td>\n",
              "    </tr>\n",
              "    <tr>\n",
              "      <th>AUDI</th>\n",
              "      <td>2093.0</td>\n",
              "      <td>2360.0</td>\n",
              "      <td>2604.0</td>\n",
              "      <td>2941.0</td>\n",
              "      <td>2487.0</td>\n",
              "      <td>2228.0</td>\n",
              "      <td>1975.0</td>\n",
              "    </tr>\n",
              "    <tr>\n",
              "      <th>...</th>\n",
              "      <td>...</td>\n",
              "      <td>...</td>\n",
              "      <td>...</td>\n",
              "      <td>...</td>\n",
              "      <td>...</td>\n",
              "      <td>...</td>\n",
              "      <td>...</td>\n",
              "    </tr>\n",
              "    <tr>\n",
              "      <th>TOYO ACE</th>\n",
              "      <td>1.0</td>\n",
              "      <td>NaN</td>\n",
              "      <td>NaN</td>\n",
              "      <td>NaN</td>\n",
              "      <td>NaN</td>\n",
              "      <td>NaN</td>\n",
              "      <td>NaN</td>\n",
              "    </tr>\n",
              "    <tr>\n",
              "      <th>TOYOTA</th>\n",
              "      <td>12171.0</td>\n",
              "      <td>18491.0</td>\n",
              "      <td>19133.0</td>\n",
              "      <td>13817.0</td>\n",
              "      <td>12923.0</td>\n",
              "      <td>7704.0</td>\n",
              "      <td>9633.0</td>\n",
              "    </tr>\n",
              "    <tr>\n",
              "      <th>TRIUMPH</th>\n",
              "      <td>1.0</td>\n",
              "      <td>1.0</td>\n",
              "      <td>3.0</td>\n",
              "      <td>2.0</td>\n",
              "      <td>NaN</td>\n",
              "      <td>1.0</td>\n",
              "      <td>NaN</td>\n",
              "    </tr>\n",
              "    <tr>\n",
              "      <th>VOLKSWAGEN</th>\n",
              "      <td>3056.0</td>\n",
              "      <td>2779.0</td>\n",
              "      <td>2450.0</td>\n",
              "      <td>2420.0</td>\n",
              "      <td>1726.0</td>\n",
              "      <td>1334.0</td>\n",
              "      <td>915.0</td>\n",
              "    </tr>\n",
              "    <tr>\n",
              "      <th>VOLVO</th>\n",
              "      <td>1274.0</td>\n",
              "      <td>1485.0</td>\n",
              "      <td>1526.0</td>\n",
              "      <td>1416.0</td>\n",
              "      <td>874.0</td>\n",
              "      <td>712.0</td>\n",
              "      <td>510.0</td>\n",
              "    </tr>\n",
              "  </tbody>\n",
              "</table>\n",
              "<p>71 rows × 7 columns</p>\n",
              "</div>\n",
              "      <button class=\"colab-df-convert\" onclick=\"convertToInteractive('df-1b05ce89-1521-46bf-8f65-0e1cced102f1')\"\n",
              "              title=\"Convert this dataframe to an interactive table.\"\n",
              "              style=\"display:none;\">\n",
              "        \n",
              "  <svg xmlns=\"http://www.w3.org/2000/svg\" height=\"24px\"viewBox=\"0 0 24 24\"\n",
              "       width=\"24px\">\n",
              "    <path d=\"M0 0h24v24H0V0z\" fill=\"none\"/>\n",
              "    <path d=\"M18.56 5.44l.94 2.06.94-2.06 2.06-.94-2.06-.94-.94-2.06-.94 2.06-2.06.94zm-11 1L8.5 8.5l.94-2.06 2.06-.94-2.06-.94L8.5 2.5l-.94 2.06-2.06.94zm10 10l.94 2.06.94-2.06 2.06-.94-2.06-.94-.94-2.06-.94 2.06-2.06.94z\"/><path d=\"M17.41 7.96l-1.37-1.37c-.4-.4-.92-.59-1.43-.59-.52 0-1.04.2-1.43.59L10.3 9.45l-7.72 7.72c-.78.78-.78 2.05 0 2.83L4 21.41c.39.39.9.59 1.41.59.51 0 1.02-.2 1.41-.59l7.78-7.78 2.81-2.81c.8-.78.8-2.07 0-2.86zM5.41 20L4 18.59l7.72-7.72 1.47 1.35L5.41 20z\"/>\n",
              "  </svg>\n",
              "      </button>\n",
              "      \n",
              "  <style>\n",
              "    .colab-df-container {\n",
              "      display:flex;\n",
              "      flex-wrap:wrap;\n",
              "      gap: 12px;\n",
              "    }\n",
              "\n",
              "    .colab-df-convert {\n",
              "      background-color: #E8F0FE;\n",
              "      border: none;\n",
              "      border-radius: 50%;\n",
              "      cursor: pointer;\n",
              "      display: none;\n",
              "      fill: #1967D2;\n",
              "      height: 32px;\n",
              "      padding: 0 0 0 0;\n",
              "      width: 32px;\n",
              "    }\n",
              "\n",
              "    .colab-df-convert:hover {\n",
              "      background-color: #E2EBFA;\n",
              "      box-shadow: 0px 1px 2px rgba(60, 64, 67, 0.3), 0px 1px 3px 1px rgba(60, 64, 67, 0.15);\n",
              "      fill: #174EA6;\n",
              "    }\n",
              "\n",
              "    [theme=dark] .colab-df-convert {\n",
              "      background-color: #3B4455;\n",
              "      fill: #D2E3FC;\n",
              "    }\n",
              "\n",
              "    [theme=dark] .colab-df-convert:hover {\n",
              "      background-color: #434B5C;\n",
              "      box-shadow: 0px 1px 3px 1px rgba(0, 0, 0, 0.15);\n",
              "      filter: drop-shadow(0px 1px 2px rgba(0, 0, 0, 0.3));\n",
              "      fill: #FFFFFF;\n",
              "    }\n",
              "  </style>\n",
              "\n",
              "      <script>\n",
              "        const buttonEl =\n",
              "          document.querySelector('#df-1b05ce89-1521-46bf-8f65-0e1cced102f1 button.colab-df-convert');\n",
              "        buttonEl.style.display =\n",
              "          google.colab.kernel.accessAllowed ? 'block' : 'none';\n",
              "\n",
              "        async function convertToInteractive(key) {\n",
              "          const element = document.querySelector('#df-1b05ce89-1521-46bf-8f65-0e1cced102f1');\n",
              "          const dataTable =\n",
              "            await google.colab.kernel.invokeFunction('convertToInteractive',\n",
              "                                                     [key], {});\n",
              "          if (!dataTable) return;\n",
              "\n",
              "          const docLinkHtml = 'Like what you see? Visit the ' +\n",
              "            '<a target=\"_blank\" href=https://colab.research.google.com/notebooks/data_table.ipynb>data table notebook</a>'\n",
              "            + ' to learn more about interactive tables.';\n",
              "          element.innerHTML = '';\n",
              "          dataTable['output_type'] = 'display_data';\n",
              "          await google.colab.output.renderOutput(dataTable, element);\n",
              "          const docLink = document.createElement('div');\n",
              "          docLink.innerHTML = docLinkHtml;\n",
              "          element.appendChild(docLink);\n",
              "        }\n",
              "      </script>\n",
              "    </div>\n",
              "  </div>\n",
              "  "
            ]
          },
          "metadata": {},
          "execution_count": 133
        }
      ]
    },
    {
      "cell_type": "markdown",
      "source": [
        "A quick check reveals that both the make and year have different unique values between the original annual and monthly datasets:"
      ],
      "metadata": {
        "id": "vsqK18zGjLEv"
      }
    },
    {
      "cell_type": "code",
      "source": [
        "cars_monthly_pivoted.columns"
      ],
      "metadata": {
        "colab": {
          "base_uri": "https://localhost:8080/"
        },
        "id": "n_YFEigFiZV_",
        "outputId": "abfeda68-cfc1-4a82-d7c6-38abbb45e66a"
      },
      "execution_count": null,
      "outputs": [
        {
          "output_type": "execute_result",
          "data": {
            "text/plain": [
              "Int64Index([2016, 2017, 2018, 2019, 2020, 2021, 2022], dtype='int64', name='year')"
            ]
          },
          "metadata": {},
          "execution_count": 134
        }
      ]
    },
    {
      "cell_type": "code",
      "source": [
        "cars_annually_aggregated.index.intersection(cars_monthly_pivoted.index).size"
      ],
      "metadata": {
        "colab": {
          "base_uri": "https://localhost:8080/"
        },
        "id": "PfyrWDjqhRg0",
        "outputId": "1a9c73b0-f47b-4e6c-bdfb-5911887c416e"
      },
      "execution_count": null,
      "outputs": [
        {
          "output_type": "execute_result",
          "data": {
            "text/plain": [
              "69"
            ]
          },
          "metadata": {},
          "execution_count": 135
        }
      ]
    },
    {
      "cell_type": "markdown",
      "source": [
        "The difference might be attributable to the different time range covered by these two datasets. We can narrow down the join and comparison to only the shared year and make – think inner join for you SQL people."
      ],
      "metadata": {
        "id": "4PDFqxj6jj29"
      }
    },
    {
      "cell_type": "code",
      "source": [
        "cars_annually_melted = cars_annually_aggregated.melt(var_name='year', value_name='number', ignore_index=False)\n",
        "cars_annually_melted"
      ],
      "metadata": {
        "colab": {
          "base_uri": "https://localhost:8080/"
        },
        "id": "79-hQnF_kDeG",
        "outputId": "ad463167-c454-4599-949d-498d20acedf7"
      },
      "execution_count": null,
      "outputs": [
        {
          "output_type": "execute_result",
          "data": {
            "text/plain": [
              "              year  number\n",
              "make                      \n",
              "ALFA ROMEO    2015    31.0\n",
              "ALPINA        2015     9.0\n",
              "ALPINE        2015     NaN\n",
              "ASTON MARTIN  2015     5.0\n",
              "AUDI          2015  2093.0\n",
              "...            ...     ...\n",
              "TOYO ACE      2021     NaN\n",
              "TOYOTA        2021  9633.0\n",
              "TRIUMPH       2021     NaN\n",
              "VOLKSWAGEN    2021   915.0\n",
              "VOLVO         2021   510.0\n",
              "\n",
              "[497 rows x 2 columns]"
            ],
            "text/html": [
              "\n",
              "  <div id=\"df-6c946dbc-a8ab-439c-8ae9-15e74c40539c\">\n",
              "    <div class=\"colab-df-container\">\n",
              "      <div>\n",
              "<style scoped>\n",
              "    .dataframe tbody tr th:only-of-type {\n",
              "        vertical-align: middle;\n",
              "    }\n",
              "\n",
              "    .dataframe tbody tr th {\n",
              "        vertical-align: top;\n",
              "    }\n",
              "\n",
              "    .dataframe thead th {\n",
              "        text-align: right;\n",
              "    }\n",
              "</style>\n",
              "<table border=\"1\" class=\"dataframe\">\n",
              "  <thead>\n",
              "    <tr style=\"text-align: right;\">\n",
              "      <th></th>\n",
              "      <th>year</th>\n",
              "      <th>number</th>\n",
              "    </tr>\n",
              "    <tr>\n",
              "      <th>make</th>\n",
              "      <th></th>\n",
              "      <th></th>\n",
              "    </tr>\n",
              "  </thead>\n",
              "  <tbody>\n",
              "    <tr>\n",
              "      <th>ALFA ROMEO</th>\n",
              "      <td>2015</td>\n",
              "      <td>31.0</td>\n",
              "    </tr>\n",
              "    <tr>\n",
              "      <th>ALPINA</th>\n",
              "      <td>2015</td>\n",
              "      <td>9.0</td>\n",
              "    </tr>\n",
              "    <tr>\n",
              "      <th>ALPINE</th>\n",
              "      <td>2015</td>\n",
              "      <td>NaN</td>\n",
              "    </tr>\n",
              "    <tr>\n",
              "      <th>ASTON MARTIN</th>\n",
              "      <td>2015</td>\n",
              "      <td>5.0</td>\n",
              "    </tr>\n",
              "    <tr>\n",
              "      <th>AUDI</th>\n",
              "      <td>2015</td>\n",
              "      <td>2093.0</td>\n",
              "    </tr>\n",
              "    <tr>\n",
              "      <th>...</th>\n",
              "      <td>...</td>\n",
              "      <td>...</td>\n",
              "    </tr>\n",
              "    <tr>\n",
              "      <th>TOYO ACE</th>\n",
              "      <td>2021</td>\n",
              "      <td>NaN</td>\n",
              "    </tr>\n",
              "    <tr>\n",
              "      <th>TOYOTA</th>\n",
              "      <td>2021</td>\n",
              "      <td>9633.0</td>\n",
              "    </tr>\n",
              "    <tr>\n",
              "      <th>TRIUMPH</th>\n",
              "      <td>2021</td>\n",
              "      <td>NaN</td>\n",
              "    </tr>\n",
              "    <tr>\n",
              "      <th>VOLKSWAGEN</th>\n",
              "      <td>2021</td>\n",
              "      <td>915.0</td>\n",
              "    </tr>\n",
              "    <tr>\n",
              "      <th>VOLVO</th>\n",
              "      <td>2021</td>\n",
              "      <td>510.0</td>\n",
              "    </tr>\n",
              "  </tbody>\n",
              "</table>\n",
              "<p>497 rows × 2 columns</p>\n",
              "</div>\n",
              "      <button class=\"colab-df-convert\" onclick=\"convertToInteractive('df-6c946dbc-a8ab-439c-8ae9-15e74c40539c')\"\n",
              "              title=\"Convert this dataframe to an interactive table.\"\n",
              "              style=\"display:none;\">\n",
              "        \n",
              "  <svg xmlns=\"http://www.w3.org/2000/svg\" height=\"24px\"viewBox=\"0 0 24 24\"\n",
              "       width=\"24px\">\n",
              "    <path d=\"M0 0h24v24H0V0z\" fill=\"none\"/>\n",
              "    <path d=\"M18.56 5.44l.94 2.06.94-2.06 2.06-.94-2.06-.94-.94-2.06-.94 2.06-2.06.94zm-11 1L8.5 8.5l.94-2.06 2.06-.94-2.06-.94L8.5 2.5l-.94 2.06-2.06.94zm10 10l.94 2.06.94-2.06 2.06-.94-2.06-.94-.94-2.06-.94 2.06-2.06.94z\"/><path d=\"M17.41 7.96l-1.37-1.37c-.4-.4-.92-.59-1.43-.59-.52 0-1.04.2-1.43.59L10.3 9.45l-7.72 7.72c-.78.78-.78 2.05 0 2.83L4 21.41c.39.39.9.59 1.41.59.51 0 1.02-.2 1.41-.59l7.78-7.78 2.81-2.81c.8-.78.8-2.07 0-2.86zM5.41 20L4 18.59l7.72-7.72 1.47 1.35L5.41 20z\"/>\n",
              "  </svg>\n",
              "      </button>\n",
              "      \n",
              "  <style>\n",
              "    .colab-df-container {\n",
              "      display:flex;\n",
              "      flex-wrap:wrap;\n",
              "      gap: 12px;\n",
              "    }\n",
              "\n",
              "    .colab-df-convert {\n",
              "      background-color: #E8F0FE;\n",
              "      border: none;\n",
              "      border-radius: 50%;\n",
              "      cursor: pointer;\n",
              "      display: none;\n",
              "      fill: #1967D2;\n",
              "      height: 32px;\n",
              "      padding: 0 0 0 0;\n",
              "      width: 32px;\n",
              "    }\n",
              "\n",
              "    .colab-df-convert:hover {\n",
              "      background-color: #E2EBFA;\n",
              "      box-shadow: 0px 1px 2px rgba(60, 64, 67, 0.3), 0px 1px 3px 1px rgba(60, 64, 67, 0.15);\n",
              "      fill: #174EA6;\n",
              "    }\n",
              "\n",
              "    [theme=dark] .colab-df-convert {\n",
              "      background-color: #3B4455;\n",
              "      fill: #D2E3FC;\n",
              "    }\n",
              "\n",
              "    [theme=dark] .colab-df-convert:hover {\n",
              "      background-color: #434B5C;\n",
              "      box-shadow: 0px 1px 3px 1px rgba(0, 0, 0, 0.15);\n",
              "      filter: drop-shadow(0px 1px 2px rgba(0, 0, 0, 0.3));\n",
              "      fill: #FFFFFF;\n",
              "    }\n",
              "  </style>\n",
              "\n",
              "      <script>\n",
              "        const buttonEl =\n",
              "          document.querySelector('#df-6c946dbc-a8ab-439c-8ae9-15e74c40539c button.colab-df-convert');\n",
              "        buttonEl.style.display =\n",
              "          google.colab.kernel.accessAllowed ? 'block' : 'none';\n",
              "\n",
              "        async function convertToInteractive(key) {\n",
              "          const element = document.querySelector('#df-6c946dbc-a8ab-439c-8ae9-15e74c40539c');\n",
              "          const dataTable =\n",
              "            await google.colab.kernel.invokeFunction('convertToInteractive',\n",
              "                                                     [key], {});\n",
              "          if (!dataTable) return;\n",
              "\n",
              "          const docLinkHtml = 'Like what you see? Visit the ' +\n",
              "            '<a target=\"_blank\" href=https://colab.research.google.com/notebooks/data_table.ipynb>data table notebook</a>'\n",
              "            + ' to learn more about interactive tables.';\n",
              "          element.innerHTML = '';\n",
              "          dataTable['output_type'] = 'display_data';\n",
              "          await google.colab.output.renderOutput(dataTable, element);\n",
              "          const docLink = document.createElement('div');\n",
              "          docLink.innerHTML = docLinkHtml;\n",
              "          element.appendChild(docLink);\n",
              "        }\n",
              "      </script>\n",
              "    </div>\n",
              "  </div>\n",
              "  "
            ]
          },
          "metadata": {},
          "execution_count": 136
        }
      ]
    },
    {
      "cell_type": "markdown",
      "source": [
        "Let's drop the `NAN` rows from both melted datasets:"
      ],
      "metadata": {
        "id": "DtInZtERkcL6"
      }
    },
    {
      "cell_type": "code",
      "source": [
        "cars_annually_melted.dropna(inplace=True)\n",
        "cars_monthly_melted.dropna(inplace=True)\n",
        "print(f'annual dataset shape: {cars_annually_melted.shape}, monthly dataset shape: {cars_monthly_melted.shape}')"
      ],
      "metadata": {
        "colab": {
          "base_uri": "https://localhost:8080/"
        },
        "id": "NrRiACbnkbkx",
        "outputId": "40a6d920-0a50-4620-e39d-46ba928f0674"
      },
      "execution_count": null,
      "outputs": [
        {
          "output_type": "stream",
          "name": "stdout",
          "text": [
            "annual dataset shape: (367, 2), monthly dataset shape: (373, 2)\n"
          ]
        }
      ]
    },
    {
      "cell_type": "markdown",
      "source": [
        "`reset_index` makes the current index `make` a normal column, and generates a new default index. This will allow us to specify `make` as one of the columns to merge the two DataFrames on later."
      ],
      "metadata": {
        "id": "tfiCr_50pQoT"
      }
    },
    {
      "cell_type": "code",
      "source": [
        "cars_annually_reset = cars_annually_melted.reset_index()\n",
        "cars_monthly_reset = cars_monthly_melted.reset_index()\n",
        "print(f'annual dataset columns: {cars_annually_reset.columns}')\n",
        "print(f'monthly dataset columns: {cars_monthly_reset.columns}')"
      ],
      "metadata": {
        "colab": {
          "base_uri": "https://localhost:8080/"
        },
        "id": "nCsoVMmHlhO5",
        "outputId": "d8b0f24e-4fae-4e97-e1d3-6746a453ac35"
      },
      "execution_count": null,
      "outputs": [
        {
          "output_type": "stream",
          "name": "stdout",
          "text": [
            "annual dataset columns: Index(['make', 'year', 'number'], dtype='object')\n",
            "monthly dataset columns: Index(['make', 'year', 'number'], dtype='object')\n"
          ]
        }
      ]
    },
    {
      "cell_type": "markdown",
      "source": [
        "#### **Performing the merger**\n",
        "\n",
        "With common columns and both datasets in long format, let's perform the merge!"
      ],
      "metadata": {
        "id": "czJUw-6yMnU1"
      }
    },
    {
      "cell_type": "code",
      "source": [
        "cars_merged = pd.merge(cars_annually_reset, cars_monthly_reset, how=\"inner\", on=[\"make\", \"year\"])\n",
        "cars_merged"
      ],
      "metadata": {
        "colab": {
          "base_uri": "https://localhost:8080/"
        },
        "id": "i2wpq0U_lHRn",
        "outputId": "6dab7c0e-5f03-4ebd-c330-257bb285b24c"
      },
      "execution_count": null,
      "outputs": [
        {
          "output_type": "execute_result",
          "data": {
            "text/plain": [
              "             make  year  number_x  number_y\n",
              "0      ALFA ROMEO  2016      39.0      39.0\n",
              "1          ALPINA  2016      12.0      12.0\n",
              "2    ASTON MARTIN  2016      14.0      14.0\n",
              "3            AUDI  2016    2360.0    2360.0\n",
              "4          B.M.W.  2016    4582.0    4582.0\n",
              "..            ...   ...       ...       ...\n",
              "307        SUZUKI  2021     378.0     378.0\n",
              "308         TESLA  2021     924.0     924.0\n",
              "309        TOYOTA  2021    9633.0    9633.0\n",
              "310    VOLKSWAGEN  2021     915.0     915.0\n",
              "311         VOLVO  2021     510.0     510.0\n",
              "\n",
              "[312 rows x 4 columns]"
            ],
            "text/html": [
              "\n",
              "  <div id=\"df-d2baa19e-23ee-4699-a86f-6880df39f036\">\n",
              "    <div class=\"colab-df-container\">\n",
              "      <div>\n",
              "<style scoped>\n",
              "    .dataframe tbody tr th:only-of-type {\n",
              "        vertical-align: middle;\n",
              "    }\n",
              "\n",
              "    .dataframe tbody tr th {\n",
              "        vertical-align: top;\n",
              "    }\n",
              "\n",
              "    .dataframe thead th {\n",
              "        text-align: right;\n",
              "    }\n",
              "</style>\n",
              "<table border=\"1\" class=\"dataframe\">\n",
              "  <thead>\n",
              "    <tr style=\"text-align: right;\">\n",
              "      <th></th>\n",
              "      <th>make</th>\n",
              "      <th>year</th>\n",
              "      <th>number_x</th>\n",
              "      <th>number_y</th>\n",
              "    </tr>\n",
              "  </thead>\n",
              "  <tbody>\n",
              "    <tr>\n",
              "      <th>0</th>\n",
              "      <td>ALFA ROMEO</td>\n",
              "      <td>2016</td>\n",
              "      <td>39.0</td>\n",
              "      <td>39.0</td>\n",
              "    </tr>\n",
              "    <tr>\n",
              "      <th>1</th>\n",
              "      <td>ALPINA</td>\n",
              "      <td>2016</td>\n",
              "      <td>12.0</td>\n",
              "      <td>12.0</td>\n",
              "    </tr>\n",
              "    <tr>\n",
              "      <th>2</th>\n",
              "      <td>ASTON MARTIN</td>\n",
              "      <td>2016</td>\n",
              "      <td>14.0</td>\n",
              "      <td>14.0</td>\n",
              "    </tr>\n",
              "    <tr>\n",
              "      <th>3</th>\n",
              "      <td>AUDI</td>\n",
              "      <td>2016</td>\n",
              "      <td>2360.0</td>\n",
              "      <td>2360.0</td>\n",
              "    </tr>\n",
              "    <tr>\n",
              "      <th>4</th>\n",
              "      <td>B.M.W.</td>\n",
              "      <td>2016</td>\n",
              "      <td>4582.0</td>\n",
              "      <td>4582.0</td>\n",
              "    </tr>\n",
              "    <tr>\n",
              "      <th>...</th>\n",
              "      <td>...</td>\n",
              "      <td>...</td>\n",
              "      <td>...</td>\n",
              "      <td>...</td>\n",
              "    </tr>\n",
              "    <tr>\n",
              "      <th>307</th>\n",
              "      <td>SUZUKI</td>\n",
              "      <td>2021</td>\n",
              "      <td>378.0</td>\n",
              "      <td>378.0</td>\n",
              "    </tr>\n",
              "    <tr>\n",
              "      <th>308</th>\n",
              "      <td>TESLA</td>\n",
              "      <td>2021</td>\n",
              "      <td>924.0</td>\n",
              "      <td>924.0</td>\n",
              "    </tr>\n",
              "    <tr>\n",
              "      <th>309</th>\n",
              "      <td>TOYOTA</td>\n",
              "      <td>2021</td>\n",
              "      <td>9633.0</td>\n",
              "      <td>9633.0</td>\n",
              "    </tr>\n",
              "    <tr>\n",
              "      <th>310</th>\n",
              "      <td>VOLKSWAGEN</td>\n",
              "      <td>2021</td>\n",
              "      <td>915.0</td>\n",
              "      <td>915.0</td>\n",
              "    </tr>\n",
              "    <tr>\n",
              "      <th>311</th>\n",
              "      <td>VOLVO</td>\n",
              "      <td>2021</td>\n",
              "      <td>510.0</td>\n",
              "      <td>510.0</td>\n",
              "    </tr>\n",
              "  </tbody>\n",
              "</table>\n",
              "<p>312 rows × 4 columns</p>\n",
              "</div>\n",
              "      <button class=\"colab-df-convert\" onclick=\"convertToInteractive('df-d2baa19e-23ee-4699-a86f-6880df39f036')\"\n",
              "              title=\"Convert this dataframe to an interactive table.\"\n",
              "              style=\"display:none;\">\n",
              "        \n",
              "  <svg xmlns=\"http://www.w3.org/2000/svg\" height=\"24px\"viewBox=\"0 0 24 24\"\n",
              "       width=\"24px\">\n",
              "    <path d=\"M0 0h24v24H0V0z\" fill=\"none\"/>\n",
              "    <path d=\"M18.56 5.44l.94 2.06.94-2.06 2.06-.94-2.06-.94-.94-2.06-.94 2.06-2.06.94zm-11 1L8.5 8.5l.94-2.06 2.06-.94-2.06-.94L8.5 2.5l-.94 2.06-2.06.94zm10 10l.94 2.06.94-2.06 2.06-.94-2.06-.94-.94-2.06-.94 2.06-2.06.94z\"/><path d=\"M17.41 7.96l-1.37-1.37c-.4-.4-.92-.59-1.43-.59-.52 0-1.04.2-1.43.59L10.3 9.45l-7.72 7.72c-.78.78-.78 2.05 0 2.83L4 21.41c.39.39.9.59 1.41.59.51 0 1.02-.2 1.41-.59l7.78-7.78 2.81-2.81c.8-.78.8-2.07 0-2.86zM5.41 20L4 18.59l7.72-7.72 1.47 1.35L5.41 20z\"/>\n",
              "  </svg>\n",
              "      </button>\n",
              "      \n",
              "  <style>\n",
              "    .colab-df-container {\n",
              "      display:flex;\n",
              "      flex-wrap:wrap;\n",
              "      gap: 12px;\n",
              "    }\n",
              "\n",
              "    .colab-df-convert {\n",
              "      background-color: #E8F0FE;\n",
              "      border: none;\n",
              "      border-radius: 50%;\n",
              "      cursor: pointer;\n",
              "      display: none;\n",
              "      fill: #1967D2;\n",
              "      height: 32px;\n",
              "      padding: 0 0 0 0;\n",
              "      width: 32px;\n",
              "    }\n",
              "\n",
              "    .colab-df-convert:hover {\n",
              "      background-color: #E2EBFA;\n",
              "      box-shadow: 0px 1px 2px rgba(60, 64, 67, 0.3), 0px 1px 3px 1px rgba(60, 64, 67, 0.15);\n",
              "      fill: #174EA6;\n",
              "    }\n",
              "\n",
              "    [theme=dark] .colab-df-convert {\n",
              "      background-color: #3B4455;\n",
              "      fill: #D2E3FC;\n",
              "    }\n",
              "\n",
              "    [theme=dark] .colab-df-convert:hover {\n",
              "      background-color: #434B5C;\n",
              "      box-shadow: 0px 1px 3px 1px rgba(0, 0, 0, 0.15);\n",
              "      filter: drop-shadow(0px 1px 2px rgba(0, 0, 0, 0.3));\n",
              "      fill: #FFFFFF;\n",
              "    }\n",
              "  </style>\n",
              "\n",
              "      <script>\n",
              "        const buttonEl =\n",
              "          document.querySelector('#df-d2baa19e-23ee-4699-a86f-6880df39f036 button.colab-df-convert');\n",
              "        buttonEl.style.display =\n",
              "          google.colab.kernel.accessAllowed ? 'block' : 'none';\n",
              "\n",
              "        async function convertToInteractive(key) {\n",
              "          const element = document.querySelector('#df-d2baa19e-23ee-4699-a86f-6880df39f036');\n",
              "          const dataTable =\n",
              "            await google.colab.kernel.invokeFunction('convertToInteractive',\n",
              "                                                     [key], {});\n",
              "          if (!dataTable) return;\n",
              "\n",
              "          const docLinkHtml = 'Like what you see? Visit the ' +\n",
              "            '<a target=\"_blank\" href=https://colab.research.google.com/notebooks/data_table.ipynb>data table notebook</a>'\n",
              "            + ' to learn more about interactive tables.';\n",
              "          element.innerHTML = '';\n",
              "          dataTable['output_type'] = 'display_data';\n",
              "          await google.colab.output.renderOutput(dataTable, element);\n",
              "          const docLink = document.createElement('div');\n",
              "          docLink.innerHTML = docLinkHtml;\n",
              "          element.appendChild(docLink);\n",
              "        }\n",
              "      </script>\n",
              "    </div>\n",
              "  </div>\n",
              "  "
            ]
          },
          "metadata": {},
          "execution_count": 139
        }
      ]
    },
    {
      "cell_type": "markdown",
      "source": [
        "#### **Using merge results**\n",
        "\n",
        "`number_x` corresponds to the `number` values from the \"left\" DataFrame `cars_annually_melted`, while `number_y` corresponds to the `number` values from the \"right\" DataFrame `cars_monthly_melted`. We can now compare if the two sets of values are identical for every make-year pair:"
      ],
      "metadata": {
        "id": "K1E5ddVxMzCu"
      }
    },
    {
      "cell_type": "code",
      "source": [
        "cars_merged.number_x == cars_merged.number_y"
      ],
      "metadata": {
        "colab": {
          "base_uri": "https://localhost:8080/"
        },
        "id": "dXqdjD5_oQ6t",
        "outputId": "7be19442-c296-4a45-a6ab-7c8235137705"
      },
      "execution_count": null,
      "outputs": [
        {
          "output_type": "execute_result",
          "data": {
            "text/plain": [
              "0      True\n",
              "1      True\n",
              "2      True\n",
              "3      True\n",
              "4      True\n",
              "       ... \n",
              "307    True\n",
              "308    True\n",
              "309    True\n",
              "310    True\n",
              "311    True\n",
              "Length: 312, dtype: bool"
            ]
          },
          "metadata": {},
          "execution_count": 140
        }
      ]
    },
    {
      "cell_type": "markdown",
      "source": [
        "Recall the NumPy's `all` universal function? Let's use it to check if the two numbers are the same for every row:"
      ],
      "metadata": {
        "id": "stk3whNBqloE"
      }
    },
    {
      "cell_type": "code",
      "source": [
        "np.all(cars_merged.number_x == cars_merged.number_y)"
      ],
      "metadata": {
        "colab": {
          "base_uri": "https://localhost:8080/"
        },
        "id": "QRmxm9qUowX1",
        "outputId": "c6e374fe-9d22-4d24-f153-02bb4e25992c"
      },
      "execution_count": null,
      "outputs": [
        {
          "output_type": "execute_result",
          "data": {
            "text/plain": [
              "False"
            ]
          },
          "metadata": {},
          "execution_count": 141
        }
      ]
    },
    {
      "cell_type": "markdown",
      "source": [
        "Not the case! Use conditional subsetting to see which rows are different:"
      ],
      "metadata": {
        "id": "PIS8Vd2yqzOf"
      }
    },
    {
      "cell_type": "code",
      "source": [
        "cars_merged[cars_merged.number_x != cars_merged.number_y]"
      ],
      "metadata": {
        "colab": {
          "base_uri": "https://localhost:8080/",
          "height": 81
        },
        "id": "_sKxU3wmo1U3",
        "outputId": "c99e9ab5-f76a-45a1-bb23-0a2811f2c264"
      },
      "execution_count": null,
      "outputs": [
        {
          "output_type": "execute_result",
          "data": {
            "text/plain": [
              "       make  year  number_x  number_y\n",
              "85  Mclaren  2017      10.0       2.0"
            ],
            "text/html": [
              "\n",
              "  <div id=\"df-f59add97-e2dc-40e8-8df4-c81f0ab5d8aa\">\n",
              "    <div class=\"colab-df-container\">\n",
              "      <div>\n",
              "<style scoped>\n",
              "    .dataframe tbody tr th:only-of-type {\n",
              "        vertical-align: middle;\n",
              "    }\n",
              "\n",
              "    .dataframe tbody tr th {\n",
              "        vertical-align: top;\n",
              "    }\n",
              "\n",
              "    .dataframe thead th {\n",
              "        text-align: right;\n",
              "    }\n",
              "</style>\n",
              "<table border=\"1\" class=\"dataframe\">\n",
              "  <thead>\n",
              "    <tr style=\"text-align: right;\">\n",
              "      <th></th>\n",
              "      <th>make</th>\n",
              "      <th>year</th>\n",
              "      <th>number_x</th>\n",
              "      <th>number_y</th>\n",
              "    </tr>\n",
              "  </thead>\n",
              "  <tbody>\n",
              "    <tr>\n",
              "      <th>85</th>\n",
              "      <td>Mclaren</td>\n",
              "      <td>2017</td>\n",
              "      <td>10.0</td>\n",
              "      <td>2.0</td>\n",
              "    </tr>\n",
              "  </tbody>\n",
              "</table>\n",
              "</div>\n",
              "      <button class=\"colab-df-convert\" onclick=\"convertToInteractive('df-f59add97-e2dc-40e8-8df4-c81f0ab5d8aa')\"\n",
              "              title=\"Convert this dataframe to an interactive table.\"\n",
              "              style=\"display:none;\">\n",
              "        \n",
              "  <svg xmlns=\"http://www.w3.org/2000/svg\" height=\"24px\"viewBox=\"0 0 24 24\"\n",
              "       width=\"24px\">\n",
              "    <path d=\"M0 0h24v24H0V0z\" fill=\"none\"/>\n",
              "    <path d=\"M18.56 5.44l.94 2.06.94-2.06 2.06-.94-2.06-.94-.94-2.06-.94 2.06-2.06.94zm-11 1L8.5 8.5l.94-2.06 2.06-.94-2.06-.94L8.5 2.5l-.94 2.06-2.06.94zm10 10l.94 2.06.94-2.06 2.06-.94-2.06-.94-.94-2.06-.94 2.06-2.06.94z\"/><path d=\"M17.41 7.96l-1.37-1.37c-.4-.4-.92-.59-1.43-.59-.52 0-1.04.2-1.43.59L10.3 9.45l-7.72 7.72c-.78.78-.78 2.05 0 2.83L4 21.41c.39.39.9.59 1.41.59.51 0 1.02-.2 1.41-.59l7.78-7.78 2.81-2.81c.8-.78.8-2.07 0-2.86zM5.41 20L4 18.59l7.72-7.72 1.47 1.35L5.41 20z\"/>\n",
              "  </svg>\n",
              "      </button>\n",
              "      \n",
              "  <style>\n",
              "    .colab-df-container {\n",
              "      display:flex;\n",
              "      flex-wrap:wrap;\n",
              "      gap: 12px;\n",
              "    }\n",
              "\n",
              "    .colab-df-convert {\n",
              "      background-color: #E8F0FE;\n",
              "      border: none;\n",
              "      border-radius: 50%;\n",
              "      cursor: pointer;\n",
              "      display: none;\n",
              "      fill: #1967D2;\n",
              "      height: 32px;\n",
              "      padding: 0 0 0 0;\n",
              "      width: 32px;\n",
              "    }\n",
              "\n",
              "    .colab-df-convert:hover {\n",
              "      background-color: #E2EBFA;\n",
              "      box-shadow: 0px 1px 2px rgba(60, 64, 67, 0.3), 0px 1px 3px 1px rgba(60, 64, 67, 0.15);\n",
              "      fill: #174EA6;\n",
              "    }\n",
              "\n",
              "    [theme=dark] .colab-df-convert {\n",
              "      background-color: #3B4455;\n",
              "      fill: #D2E3FC;\n",
              "    }\n",
              "\n",
              "    [theme=dark] .colab-df-convert:hover {\n",
              "      background-color: #434B5C;\n",
              "      box-shadow: 0px 1px 3px 1px rgba(0, 0, 0, 0.15);\n",
              "      filter: drop-shadow(0px 1px 2px rgba(0, 0, 0, 0.3));\n",
              "      fill: #FFFFFF;\n",
              "    }\n",
              "  </style>\n",
              "\n",
              "      <script>\n",
              "        const buttonEl =\n",
              "          document.querySelector('#df-f59add97-e2dc-40e8-8df4-c81f0ab5d8aa button.colab-df-convert');\n",
              "        buttonEl.style.display =\n",
              "          google.colab.kernel.accessAllowed ? 'block' : 'none';\n",
              "\n",
              "        async function convertToInteractive(key) {\n",
              "          const element = document.querySelector('#df-f59add97-e2dc-40e8-8df4-c81f0ab5d8aa');\n",
              "          const dataTable =\n",
              "            await google.colab.kernel.invokeFunction('convertToInteractive',\n",
              "                                                     [key], {});\n",
              "          if (!dataTable) return;\n",
              "\n",
              "          const docLinkHtml = 'Like what you see? Visit the ' +\n",
              "            '<a target=\"_blank\" href=https://colab.research.google.com/notebooks/data_table.ipynb>data table notebook</a>'\n",
              "            + ' to learn more about interactive tables.';\n",
              "          element.innerHTML = '';\n",
              "          dataTable['output_type'] = 'display_data';\n",
              "          await google.colab.output.renderOutput(dataTable, element);\n",
              "          const docLink = document.createElement('div');\n",
              "          docLink.innerHTML = docLinkHtml;\n",
              "          element.appendChild(docLink);\n",
              "        }\n",
              "      </script>\n",
              "    </div>\n",
              "  </div>\n",
              "  "
            ]
          },
          "metadata": {},
          "execution_count": 142
        }
      ]
    },
    {
      "cell_type": "markdown",
      "source": [
        "This is something we can report to Singapore's Land Transport Authority (LTA). Good job LTA on keeping the vast majority of the records consistent!"
      ],
      "metadata": {
        "id": "3fOw4KW1rAOz"
      }
    },
    {
      "cell_type": "markdown",
      "source": [
        "### 3.3.6. Exercises: improve merging with index difference and outer join\n",
        "\n",
        "You might have noticed we weren't being very careful with the merger of the annual and monthly data for comparison, because by performing an inner join, only make-year keys present in both datasets will be included for comparison. It's possible that some make-year keys are only present in the annual data, others only present in the monthly data. How can we find out if there are such discrepancies?"
      ],
      "metadata": {
        "id": "AW_jN3cvOCRc"
      }
    },
    {
      "cell_type": "code",
      "source": [
        "# Execute this code cell to prepare the dataset for exercises below\n",
        "\n",
        "import pandas as pd\n",
        "import numpy as np\n",
        "\n",
        "# read and clean the monthly dataset\n",
        "cars_monthly = pd.read_csv('https://raw.githubusercontent.com/worldbank/dec-python-course/main/1-foundations/3-numpy-and-pandas/data/Singapore_Monthly_New_Car_Registrations_by_make_type.csv')\n",
        "cars_monthly.dropna(subset=['number'], inplace=True)\n",
        "\n",
        "cars_monthly_renamed = cars_monthly.rename(columns={'month': 'year_month'})\n",
        "cars_monthly_renamed[['year','month']] = cars_monthly_renamed.year_month.str.split(\"-\", expand=True)\n",
        "cars_monthly_dropped = cars_monthly_renamed.drop(columns=['year_month'])\n",
        "\n",
        "columns_ordered = ['year', 'month', 'make', 'fuel_type', 'vehicle_type', 'number']\n",
        "cars_monthly_reordered = cars_monthly_dropped.reindex(columns=columns_ordered)\n",
        "\n",
        "cars_monthly_converted = cars_monthly_reordered.astype({\n",
        "    'number': 'int', 'year': 'int', 'month': 'int'})\n",
        "\n",
        "cars_monthly_nonzero = cars_monthly_converted[cars_monthly_converted.number > 0]\n",
        "cars_monthly_pivoted = cars_monthly_nonzero.pivot_table(index='make', columns='year', values='number', aggfunc='sum')\n",
        "cars_monthly_melted = cars_monthly_pivoted.melt(var_name='year', value_name='number', ignore_index=False)\n",
        "\n",
        "cars_monthly_reset = cars_monthly_melted.dropna().reset_index()\n",
        "\n",
        "# read and clean the annual dataset\n",
        "file_url = 'https://raw.githubusercontent.com/worldbank/dec-python-course/main/1-foundations/3-numpy-and-pandas/data/Singapore_Annual_New_Car_Registrations_by_make_type.csv'\n",
        "singapore_cars = pd.read_csv(file_url)\n",
        "singapore_cars_cleaned = singapore_cars[~np.isnan(singapore_cars.number)]\n",
        "cars_annually_aggregated = singapore_cars_cleaned.pivot_table(index='make', columns='year', values='number', aggfunc='sum')\n",
        "cars_annually_melted = cars_annually_aggregated.melt(var_name='year', value_name='number', ignore_index=False)\n",
        "cars_annually_reset = cars_annually_melted.dropna().reset_index()"
      ],
      "metadata": {
        "id": "RX5xKV5JljEp"
      },
      "execution_count": null,
      "outputs": []
    },
    {
      "cell_type": "markdown",
      "source": [
        "Let's take a look at the two DataFrames we are going to work with as the starting point:"
      ],
      "metadata": {
        "id": "E0h4IA9iltFf"
      }
    },
    {
      "cell_type": "code",
      "source": [
        "cars_monthly_reset"
      ],
      "metadata": {
        "id": "w_g810WtlnU1",
        "outputId": "1f44e070-732c-4717-c5b9-a3c6711e25d6",
        "colab": {
          "base_uri": "https://localhost:8080/",
          "height": 424
        }
      },
      "execution_count": null,
      "outputs": [
        {
          "output_type": "execute_result",
          "data": {
            "text/plain": [
              "             make  year  number\n",
              "0      ALFA ROMEO  2016    39.0\n",
              "1          ALPINA  2016    12.0\n",
              "2    ASTON MARTIN  2016    14.0\n",
              "3            AUDI  2016  2360.0\n",
              "4          B.M.W.  2016  4582.0\n",
              "..            ...   ...     ...\n",
              "368         TESLA  2022   315.0\n",
              "369        TOYOTA  2022  3545.0\n",
              "370       TRIUMPH  2022     2.0\n",
              "371    VOLKSWAGEN  2022   241.0\n",
              "372         VOLVO  2022   185.0\n",
              "\n",
              "[373 rows x 3 columns]"
            ],
            "text/html": [
              "\n",
              "  <div id=\"df-f1e21fea-b8da-4833-a8e3-cd0c2bb4c25f\">\n",
              "    <div class=\"colab-df-container\">\n",
              "      <div>\n",
              "<style scoped>\n",
              "    .dataframe tbody tr th:only-of-type {\n",
              "        vertical-align: middle;\n",
              "    }\n",
              "\n",
              "    .dataframe tbody tr th {\n",
              "        vertical-align: top;\n",
              "    }\n",
              "\n",
              "    .dataframe thead th {\n",
              "        text-align: right;\n",
              "    }\n",
              "</style>\n",
              "<table border=\"1\" class=\"dataframe\">\n",
              "  <thead>\n",
              "    <tr style=\"text-align: right;\">\n",
              "      <th></th>\n",
              "      <th>make</th>\n",
              "      <th>year</th>\n",
              "      <th>number</th>\n",
              "    </tr>\n",
              "  </thead>\n",
              "  <tbody>\n",
              "    <tr>\n",
              "      <th>0</th>\n",
              "      <td>ALFA ROMEO</td>\n",
              "      <td>2016</td>\n",
              "      <td>39.0</td>\n",
              "    </tr>\n",
              "    <tr>\n",
              "      <th>1</th>\n",
              "      <td>ALPINA</td>\n",
              "      <td>2016</td>\n",
              "      <td>12.0</td>\n",
              "    </tr>\n",
              "    <tr>\n",
              "      <th>2</th>\n",
              "      <td>ASTON MARTIN</td>\n",
              "      <td>2016</td>\n",
              "      <td>14.0</td>\n",
              "    </tr>\n",
              "    <tr>\n",
              "      <th>3</th>\n",
              "      <td>AUDI</td>\n",
              "      <td>2016</td>\n",
              "      <td>2360.0</td>\n",
              "    </tr>\n",
              "    <tr>\n",
              "      <th>4</th>\n",
              "      <td>B.M.W.</td>\n",
              "      <td>2016</td>\n",
              "      <td>4582.0</td>\n",
              "    </tr>\n",
              "    <tr>\n",
              "      <th>...</th>\n",
              "      <td>...</td>\n",
              "      <td>...</td>\n",
              "      <td>...</td>\n",
              "    </tr>\n",
              "    <tr>\n",
              "      <th>368</th>\n",
              "      <td>TESLA</td>\n",
              "      <td>2022</td>\n",
              "      <td>315.0</td>\n",
              "    </tr>\n",
              "    <tr>\n",
              "      <th>369</th>\n",
              "      <td>TOYOTA</td>\n",
              "      <td>2022</td>\n",
              "      <td>3545.0</td>\n",
              "    </tr>\n",
              "    <tr>\n",
              "      <th>370</th>\n",
              "      <td>TRIUMPH</td>\n",
              "      <td>2022</td>\n",
              "      <td>2.0</td>\n",
              "    </tr>\n",
              "    <tr>\n",
              "      <th>371</th>\n",
              "      <td>VOLKSWAGEN</td>\n",
              "      <td>2022</td>\n",
              "      <td>241.0</td>\n",
              "    </tr>\n",
              "    <tr>\n",
              "      <th>372</th>\n",
              "      <td>VOLVO</td>\n",
              "      <td>2022</td>\n",
              "      <td>185.0</td>\n",
              "    </tr>\n",
              "  </tbody>\n",
              "</table>\n",
              "<p>373 rows × 3 columns</p>\n",
              "</div>\n",
              "      <button class=\"colab-df-convert\" onclick=\"convertToInteractive('df-f1e21fea-b8da-4833-a8e3-cd0c2bb4c25f')\"\n",
              "              title=\"Convert this dataframe to an interactive table.\"\n",
              "              style=\"display:none;\">\n",
              "        \n",
              "  <svg xmlns=\"http://www.w3.org/2000/svg\" height=\"24px\"viewBox=\"0 0 24 24\"\n",
              "       width=\"24px\">\n",
              "    <path d=\"M0 0h24v24H0V0z\" fill=\"none\"/>\n",
              "    <path d=\"M18.56 5.44l.94 2.06.94-2.06 2.06-.94-2.06-.94-.94-2.06-.94 2.06-2.06.94zm-11 1L8.5 8.5l.94-2.06 2.06-.94-2.06-.94L8.5 2.5l-.94 2.06-2.06.94zm10 10l.94 2.06.94-2.06 2.06-.94-2.06-.94-.94-2.06-.94 2.06-2.06.94z\"/><path d=\"M17.41 7.96l-1.37-1.37c-.4-.4-.92-.59-1.43-.59-.52 0-1.04.2-1.43.59L10.3 9.45l-7.72 7.72c-.78.78-.78 2.05 0 2.83L4 21.41c.39.39.9.59 1.41.59.51 0 1.02-.2 1.41-.59l7.78-7.78 2.81-2.81c.8-.78.8-2.07 0-2.86zM5.41 20L4 18.59l7.72-7.72 1.47 1.35L5.41 20z\"/>\n",
              "  </svg>\n",
              "      </button>\n",
              "      \n",
              "  <style>\n",
              "    .colab-df-container {\n",
              "      display:flex;\n",
              "      flex-wrap:wrap;\n",
              "      gap: 12px;\n",
              "    }\n",
              "\n",
              "    .colab-df-convert {\n",
              "      background-color: #E8F0FE;\n",
              "      border: none;\n",
              "      border-radius: 50%;\n",
              "      cursor: pointer;\n",
              "      display: none;\n",
              "      fill: #1967D2;\n",
              "      height: 32px;\n",
              "      padding: 0 0 0 0;\n",
              "      width: 32px;\n",
              "    }\n",
              "\n",
              "    .colab-df-convert:hover {\n",
              "      background-color: #E2EBFA;\n",
              "      box-shadow: 0px 1px 2px rgba(60, 64, 67, 0.3), 0px 1px 3px 1px rgba(60, 64, 67, 0.15);\n",
              "      fill: #174EA6;\n",
              "    }\n",
              "\n",
              "    [theme=dark] .colab-df-convert {\n",
              "      background-color: #3B4455;\n",
              "      fill: #D2E3FC;\n",
              "    }\n",
              "\n",
              "    [theme=dark] .colab-df-convert:hover {\n",
              "      background-color: #434B5C;\n",
              "      box-shadow: 0px 1px 3px 1px rgba(0, 0, 0, 0.15);\n",
              "      filter: drop-shadow(0px 1px 2px rgba(0, 0, 0, 0.3));\n",
              "      fill: #FFFFFF;\n",
              "    }\n",
              "  </style>\n",
              "\n",
              "      <script>\n",
              "        const buttonEl =\n",
              "          document.querySelector('#df-f1e21fea-b8da-4833-a8e3-cd0c2bb4c25f button.colab-df-convert');\n",
              "        buttonEl.style.display =\n",
              "          google.colab.kernel.accessAllowed ? 'block' : 'none';\n",
              "\n",
              "        async function convertToInteractive(key) {\n",
              "          const element = document.querySelector('#df-f1e21fea-b8da-4833-a8e3-cd0c2bb4c25f');\n",
              "          const dataTable =\n",
              "            await google.colab.kernel.invokeFunction('convertToInteractive',\n",
              "                                                     [key], {});\n",
              "          if (!dataTable) return;\n",
              "\n",
              "          const docLinkHtml = 'Like what you see? Visit the ' +\n",
              "            '<a target=\"_blank\" href=https://colab.research.google.com/notebooks/data_table.ipynb>data table notebook</a>'\n",
              "            + ' to learn more about interactive tables.';\n",
              "          element.innerHTML = '';\n",
              "          dataTable['output_type'] = 'display_data';\n",
              "          await google.colab.output.renderOutput(dataTable, element);\n",
              "          const docLink = document.createElement('div');\n",
              "          docLink.innerHTML = docLinkHtml;\n",
              "          element.appendChild(docLink);\n",
              "        }\n",
              "      </script>\n",
              "    </div>\n",
              "  </div>\n",
              "  "
            ]
          },
          "metadata": {},
          "execution_count": 144
        }
      ]
    },
    {
      "cell_type": "code",
      "source": [
        "cars_annually_reset"
      ],
      "metadata": {
        "id": "JTW8vX9NlsbJ",
        "outputId": "55bb0d85-f61f-429e-960c-f7b8b2241a02",
        "colab": {
          "base_uri": "https://localhost:8080/",
          "height": 424
        }
      },
      "execution_count": null,
      "outputs": [
        {
          "output_type": "execute_result",
          "data": {
            "text/plain": [
              "             make  year  number\n",
              "0      ALFA ROMEO  2015    31.0\n",
              "1          ALPINA  2015     9.0\n",
              "2    ASTON MARTIN  2015     5.0\n",
              "3            AUDI  2015  2093.0\n",
              "4          AUSTIN  2015     2.0\n",
              "..            ...   ...     ...\n",
              "362        SUZUKI  2021   378.0\n",
              "363         TESLA  2021   924.0\n",
              "364        TOYOTA  2021  9633.0\n",
              "365    VOLKSWAGEN  2021   915.0\n",
              "366         VOLVO  2021   510.0\n",
              "\n",
              "[367 rows x 3 columns]"
            ],
            "text/html": [
              "\n",
              "  <div id=\"df-0ed75416-338c-4640-b83d-fb5e76800c4d\">\n",
              "    <div class=\"colab-df-container\">\n",
              "      <div>\n",
              "<style scoped>\n",
              "    .dataframe tbody tr th:only-of-type {\n",
              "        vertical-align: middle;\n",
              "    }\n",
              "\n",
              "    .dataframe tbody tr th {\n",
              "        vertical-align: top;\n",
              "    }\n",
              "\n",
              "    .dataframe thead th {\n",
              "        text-align: right;\n",
              "    }\n",
              "</style>\n",
              "<table border=\"1\" class=\"dataframe\">\n",
              "  <thead>\n",
              "    <tr style=\"text-align: right;\">\n",
              "      <th></th>\n",
              "      <th>make</th>\n",
              "      <th>year</th>\n",
              "      <th>number</th>\n",
              "    </tr>\n",
              "  </thead>\n",
              "  <tbody>\n",
              "    <tr>\n",
              "      <th>0</th>\n",
              "      <td>ALFA ROMEO</td>\n",
              "      <td>2015</td>\n",
              "      <td>31.0</td>\n",
              "    </tr>\n",
              "    <tr>\n",
              "      <th>1</th>\n",
              "      <td>ALPINA</td>\n",
              "      <td>2015</td>\n",
              "      <td>9.0</td>\n",
              "    </tr>\n",
              "    <tr>\n",
              "      <th>2</th>\n",
              "      <td>ASTON MARTIN</td>\n",
              "      <td>2015</td>\n",
              "      <td>5.0</td>\n",
              "    </tr>\n",
              "    <tr>\n",
              "      <th>3</th>\n",
              "      <td>AUDI</td>\n",
              "      <td>2015</td>\n",
              "      <td>2093.0</td>\n",
              "    </tr>\n",
              "    <tr>\n",
              "      <th>4</th>\n",
              "      <td>AUSTIN</td>\n",
              "      <td>2015</td>\n",
              "      <td>2.0</td>\n",
              "    </tr>\n",
              "    <tr>\n",
              "      <th>...</th>\n",
              "      <td>...</td>\n",
              "      <td>...</td>\n",
              "      <td>...</td>\n",
              "    </tr>\n",
              "    <tr>\n",
              "      <th>362</th>\n",
              "      <td>SUZUKI</td>\n",
              "      <td>2021</td>\n",
              "      <td>378.0</td>\n",
              "    </tr>\n",
              "    <tr>\n",
              "      <th>363</th>\n",
              "      <td>TESLA</td>\n",
              "      <td>2021</td>\n",
              "      <td>924.0</td>\n",
              "    </tr>\n",
              "    <tr>\n",
              "      <th>364</th>\n",
              "      <td>TOYOTA</td>\n",
              "      <td>2021</td>\n",
              "      <td>9633.0</td>\n",
              "    </tr>\n",
              "    <tr>\n",
              "      <th>365</th>\n",
              "      <td>VOLKSWAGEN</td>\n",
              "      <td>2021</td>\n",
              "      <td>915.0</td>\n",
              "    </tr>\n",
              "    <tr>\n",
              "      <th>366</th>\n",
              "      <td>VOLVO</td>\n",
              "      <td>2021</td>\n",
              "      <td>510.0</td>\n",
              "    </tr>\n",
              "  </tbody>\n",
              "</table>\n",
              "<p>367 rows × 3 columns</p>\n",
              "</div>\n",
              "      <button class=\"colab-df-convert\" onclick=\"convertToInteractive('df-0ed75416-338c-4640-b83d-fb5e76800c4d')\"\n",
              "              title=\"Convert this dataframe to an interactive table.\"\n",
              "              style=\"display:none;\">\n",
              "        \n",
              "  <svg xmlns=\"http://www.w3.org/2000/svg\" height=\"24px\"viewBox=\"0 0 24 24\"\n",
              "       width=\"24px\">\n",
              "    <path d=\"M0 0h24v24H0V0z\" fill=\"none\"/>\n",
              "    <path d=\"M18.56 5.44l.94 2.06.94-2.06 2.06-.94-2.06-.94-.94-2.06-.94 2.06-2.06.94zm-11 1L8.5 8.5l.94-2.06 2.06-.94-2.06-.94L8.5 2.5l-.94 2.06-2.06.94zm10 10l.94 2.06.94-2.06 2.06-.94-2.06-.94-.94-2.06-.94 2.06-2.06.94z\"/><path d=\"M17.41 7.96l-1.37-1.37c-.4-.4-.92-.59-1.43-.59-.52 0-1.04.2-1.43.59L10.3 9.45l-7.72 7.72c-.78.78-.78 2.05 0 2.83L4 21.41c.39.39.9.59 1.41.59.51 0 1.02-.2 1.41-.59l7.78-7.78 2.81-2.81c.8-.78.8-2.07 0-2.86zM5.41 20L4 18.59l7.72-7.72 1.47 1.35L5.41 20z\"/>\n",
              "  </svg>\n",
              "      </button>\n",
              "      \n",
              "  <style>\n",
              "    .colab-df-container {\n",
              "      display:flex;\n",
              "      flex-wrap:wrap;\n",
              "      gap: 12px;\n",
              "    }\n",
              "\n",
              "    .colab-df-convert {\n",
              "      background-color: #E8F0FE;\n",
              "      border: none;\n",
              "      border-radius: 50%;\n",
              "      cursor: pointer;\n",
              "      display: none;\n",
              "      fill: #1967D2;\n",
              "      height: 32px;\n",
              "      padding: 0 0 0 0;\n",
              "      width: 32px;\n",
              "    }\n",
              "\n",
              "    .colab-df-convert:hover {\n",
              "      background-color: #E2EBFA;\n",
              "      box-shadow: 0px 1px 2px rgba(60, 64, 67, 0.3), 0px 1px 3px 1px rgba(60, 64, 67, 0.15);\n",
              "      fill: #174EA6;\n",
              "    }\n",
              "\n",
              "    [theme=dark] .colab-df-convert {\n",
              "      background-color: #3B4455;\n",
              "      fill: #D2E3FC;\n",
              "    }\n",
              "\n",
              "    [theme=dark] .colab-df-convert:hover {\n",
              "      background-color: #434B5C;\n",
              "      box-shadow: 0px 1px 3px 1px rgba(0, 0, 0, 0.15);\n",
              "      filter: drop-shadow(0px 1px 2px rgba(0, 0, 0, 0.3));\n",
              "      fill: #FFFFFF;\n",
              "    }\n",
              "  </style>\n",
              "\n",
              "      <script>\n",
              "        const buttonEl =\n",
              "          document.querySelector('#df-0ed75416-338c-4640-b83d-fb5e76800c4d button.colab-df-convert');\n",
              "        buttonEl.style.display =\n",
              "          google.colab.kernel.accessAllowed ? 'block' : 'none';\n",
              "\n",
              "        async function convertToInteractive(key) {\n",
              "          const element = document.querySelector('#df-0ed75416-338c-4640-b83d-fb5e76800c4d');\n",
              "          const dataTable =\n",
              "            await google.colab.kernel.invokeFunction('convertToInteractive',\n",
              "                                                     [key], {});\n",
              "          if (!dataTable) return;\n",
              "\n",
              "          const docLinkHtml = 'Like what you see? Visit the ' +\n",
              "            '<a target=\"_blank\" href=https://colab.research.google.com/notebooks/data_table.ipynb>data table notebook</a>'\n",
              "            + ' to learn more about interactive tables.';\n",
              "          element.innerHTML = '';\n",
              "          dataTable['output_type'] = 'display_data';\n",
              "          await google.colab.output.renderOutput(dataTable, element);\n",
              "          const docLink = document.createElement('div');\n",
              "          docLink.innerHTML = docLinkHtml;\n",
              "          element.appendChild(docLink);\n",
              "        }\n",
              "      </script>\n",
              "    </div>\n",
              "  </div>\n",
              "  "
            ]
          },
          "metadata": {},
          "execution_count": 145
        }
      ]
    },
    {
      "cell_type": "markdown",
      "source": [
        "#### Step 1.\n",
        "\n",
        "Recall the annual dataset `cars_annually_reset` covers year 2015-2021, while the monthly `cars_monthly_reset` covers year 2016-2022, so let's take out 2015 from the annual data (store the result in `cars_annually_16_21`), and filter out 2022 from the monthly (store the result in `cars_monthly_16_21`):"
      ],
      "metadata": {
        "id": "PHE_I69oPOBq"
      }
    },
    {
      "cell_type": "code",
      "source": [
        "%%script echo Remove this line after filling in your own code\n",
        "# hint: use subsetting with boolean indexing\n",
        "# your code here\n",
        "\n",
        "assert 2015 not in cars_annually_16_21.year.to_list()\n",
        "assert 2016 in cars_annually_16_21.year.to_list()\n",
        "assert 2022 not in cars_monthly_16_21.year.to_list()\n",
        "assert 2021 in cars_monthly_16_21.year.to_list()"
      ],
      "metadata": {
        "colab": {
          "base_uri": "https://localhost:8080/"
        },
        "id": "5J1Cy9v8Rijr",
        "outputId": "0b2bab8b-7c1e-4b2a-e970-bf51a8747992"
      },
      "execution_count": null,
      "outputs": [
        {
          "output_type": "stream",
          "name": "stdout",
          "text": [
            "Remove this line after filling in your own code\n"
          ]
        }
      ]
    },
    {
      "cell_type": "markdown",
      "source": [
        "#### Step 2.\n",
        "\n",
        "We want to quickly investigate if the make-year keys are different between these two datasets. The function `difference` or `symmetric_difference` on the `Index` object will allow us to carry out the comparison. First let's create such a composite index made of the `make` and `year` column for both `cars_annually_16_21` and `cars_monthly_16_21`. Store the results in `cars_annually_duo_index` and `cars_monthly_duo_index` respectively:"
      ],
      "metadata": {
        "id": "BNIZrEKHgGEO"
      }
    },
    {
      "cell_type": "code",
      "source": [
        "%%script echo Remove this line after filling in your own code\n",
        "# hint: use set_index\n",
        "# your code here\n",
        "\n",
        "assert ('ALFA ROMEO', 2016) in cars_annually_duo_index.index\n",
        "assert ('VOLVO', 2021) in cars_annually_duo_index.index\n",
        "assert ('ALFA ROMEO', 2016) in cars_monthly_duo_index.index\n",
        "assert ('VOLVO', 2021) in cars_monthly_duo_index.index"
      ],
      "metadata": {
        "colab": {
          "base_uri": "https://localhost:8080/"
        },
        "id": "ZddsxGo6QibW",
        "outputId": "908cff0d-9d95-4764-89da-337959b07ad7"
      },
      "execution_count": null,
      "outputs": [
        {
          "output_type": "stream",
          "name": "stdout",
          "text": [
            "Remove this line after filling in your own code\n"
          ]
        }
      ]
    },
    {
      "cell_type": "markdown",
      "source": [
        "#### Step 3\n",
        "\n",
        "Invoke `difference` twice to compare the indexes of the two DataFrame: `cars_annually_duo_index` and `cars_monthly_duo_index`. First invocation is to find what's in the first index but not in the second; then invoke it again to find what's in the second index but not the first.\n",
        "\n",
        "Alternatively you may invoke `symmetric_difference` once to get the union of all the differences in one go."
      ],
      "metadata": {
        "id": "RyzZvj5FpsWe"
      }
    },
    {
      "cell_type": "code",
      "source": [
        "%%script echo Remove this line after filling in your own code\n",
        "# hint: use cars_annually_duo_index.index.difference, or symmetric_difference\n",
        "# Your code here"
      ],
      "metadata": {
        "colab": {
          "base_uri": "https://localhost:8080/"
        },
        "id": "yjJcSOqTQAzf",
        "outputId": "5c90c810-18f1-4138-bb78-2334fae70cd2"
      },
      "execution_count": null,
      "outputs": [
        {
          "output_type": "stream",
          "name": "stdout",
          "text": [
            "Remove this line after filling in your own code\n"
          ]
        }
      ]
    },
    {
      "cell_type": "code",
      "source": [
        "# hint: use cars_monthly_duo_index.index.difference or skip this cell if used symmetric_difference before\n",
        "# Your code here"
      ],
      "metadata": {
        "id": "fbkdZbeGtkNr"
      },
      "execution_count": null,
      "outputs": []
    },
    {
      "cell_type": "markdown",
      "source": [
        "#### Step 4\n",
        "\n",
        "Notice the make Mclaren has two difference spellings. Let's take a look at those records in each dataset by filtering down to just the Mclaren records.\n",
        "\n",
        "You might find the composite index not the most straightforward to work with. Feel free to do the subsetting on `cars_annually_16_21` and `cars_monthly_16_21` instead."
      ],
      "metadata": {
        "id": "c4YbJ_rGqTDw"
      }
    },
    {
      "cell_type": "code",
      "source": [
        "%%script echo Remove this line after filling in your own code\n",
        "# hint: use boolean indexing with .str.casefold() on the make column\n",
        "# Your code here"
      ],
      "metadata": {
        "colab": {
          "base_uri": "https://localhost:8080/"
        },
        "id": "3EIz2EUfTBpB",
        "outputId": "a6211e35-ab27-47a7-84eb-1243068abc05"
      },
      "execution_count": null,
      "outputs": [
        {
          "output_type": "stream",
          "name": "stdout",
          "text": [
            "Remove this line after filling in your own code\n"
          ]
        }
      ]
    },
    {
      "cell_type": "code",
      "source": [
        "%%script echo Remove this line after filling in your own code\n",
        "# hint: use boolean indexing with .str.casefold() on the make column\n",
        "# Your code here"
      ],
      "metadata": {
        "colab": {
          "base_uri": "https://localhost:8080/"
        },
        "id": "cr_vBL88TT3s",
        "outputId": "af103f3c-08b2-4ccb-a6b1-eafef1fd401e"
      },
      "execution_count": null,
      "outputs": [
        {
          "output_type": "stream",
          "name": "stdout",
          "text": [
            "Remove this line after filling in your own code\n"
          ]
        }
      ]
    },
    {
      "cell_type": "markdown",
      "source": [
        "#### Step 5.\n",
        "\n",
        "Mclaren is Capitalized in the annual dataset but Mixed-CASE in the monthly dataset. Let's unify them by UPPERCASING all the `make` values. Make the changes inplace for both `cars_annually_16_21` and `cars_monthly_16_21`:"
      ],
      "metadata": {
        "id": "1XwqPgQnv-74"
      }
    },
    {
      "cell_type": "code",
      "source": [
        "%%script echo Remove this line after filling in your own code\n",
        "# hint: use column creation, but overwrite the 'make' column; check out .str.upper() function\n",
        "# Your code here\n",
        "\n",
        "assert(np.all(cars_annually_16_21['make'].str.isupper()))\n",
        "assert(np.all(cars_monthly_16_21['make'].str.isupper()))"
      ],
      "metadata": {
        "colab": {
          "base_uri": "https://localhost:8080/"
        },
        "id": "LOAb6VLhT3Oi",
        "outputId": "fc1dcce5-c5a1-4484-9d06-d00c18ac19e2"
      },
      "execution_count": null,
      "outputs": [
        {
          "output_type": "stream",
          "name": "stdout",
          "text": [
            "Remove this line after filling in your own code\n"
          ]
        }
      ]
    },
    {
      "cell_type": "markdown",
      "source": [
        "#### Step 6.\n",
        "\n",
        "Notice there are two entries with different numbers for MCLAREN 2017 in the monthly dataset, which we will need to fix by aggregating. Store the fixed monthly DataFrame in variable `cars_monthly_16_21_cleaned`, which should look like `cars_monthly_16_21` structurally (i.e. no composite/multi index), just with fewer rows:"
      ],
      "metadata": {
        "id": "HnEpLaStzsYC"
      }
    },
    {
      "cell_type": "code",
      "source": [
        "%%script echo Remove this line after filling in your own code\n",
        "# hint: use groupby followed by reset_index or \n",
        "# pivot_table followed by melt, dropna, and reset_index\n",
        "\n",
        "# Your code here\n",
        "\n",
        "condition = (cars_monthly_16_21_cleaned.make == 'MCLAREN') & (cars_monthly_16_21_cleaned.year == 2017)\n",
        "assert cars_monthly_16_21_cleaned[condition]['number'].values[0] == 10\n",
        "assert cars_monthly_16_21_cleaned.shape == (316, 3)"
      ],
      "metadata": {
        "colab": {
          "base_uri": "https://localhost:8080/"
        },
        "id": "NvWXBRRk1D0w",
        "outputId": "07845e4e-7977-41d0-dd1f-a29e5565b13e"
      },
      "execution_count": null,
      "outputs": [
        {
          "output_type": "stream",
          "name": "stdout",
          "text": [
            "Remove this line after filling in your own code\n"
          ]
        }
      ]
    },
    {
      "cell_type": "markdown",
      "source": [
        "#### Step 7.\n",
        "\n",
        "With our data re-cleaned, now let's merge `cars_monthly_16_21_cleaned` and `cars_annually_16_21` using the `make` and `year` as keys. Let's perform an outer join this time. Store the merged results in variable `cars_merged_clean`:"
      ],
      "metadata": {
        "id": "xMNqSy7z6E66"
      }
    },
    {
      "cell_type": "code",
      "source": [
        "%%script echo Remove this line after filling in your own code\n",
        "# hint: use pd.merge with arguments how=\"outer\"\n",
        "\n",
        "# Your code here\n",
        "\n",
        "assert cars_merged_clean.shape == (316, 4), \"cars_merged_clean should have 4 columns: year, make, number_x, number_y\""
      ],
      "metadata": {
        "colab": {
          "base_uri": "https://localhost:8080/"
        },
        "id": "7mnZiWxWc7ia",
        "outputId": "db907fb4-ea76-4b49-dcf0-6d64aab735fc"
      },
      "execution_count": null,
      "outputs": [
        {
          "output_type": "stream",
          "name": "stdout",
          "text": [
            "Remove this line after filling in your own code\n"
          ]
        }
      ]
    },
    {
      "cell_type": "markdown",
      "source": [
        "#### Step 8.\n",
        "\n",
        "Last but not least, compare the merged numbers for each make-year record. Are they all matching perfectly now?"
      ],
      "metadata": {
        "id": "riaTCqY368Ry"
      }
    },
    {
      "cell_type": "code",
      "source": [
        "%%script echo Remove this line after filling in your own code\n",
        "# hint: use np.all\n",
        "\n",
        "# Your code here"
      ],
      "metadata": {
        "colab": {
          "base_uri": "https://localhost:8080/"
        },
        "id": "socvPfi_dVQK",
        "outputId": "87755e8a-a7fe-4c53-a620-348b2d564643"
      },
      "execution_count": null,
      "outputs": [
        {
          "output_type": "stream",
          "name": "stdout",
          "text": [
            "Remove this line after filling in your own code\n"
          ]
        }
      ]
    },
    {
      "cell_type": "markdown",
      "source": [
        "If you've made it this far and still want to learn more, head over to the [bonus material](https://colab.research.google.com/github/worldbank/dec-python-course/blob/main/1-foundations/3-numpy-and-pandas/foundations-s3-bonus.ipynb) for more on libraries, numpy, and pandas!"
      ],
      "metadata": {
        "id": "N8ik_Hx3h4Uj"
      }
    },
    {
      "cell_type": "markdown",
      "source": [
        "# References & Additional Resources\n",
        "\n",
        "* **Important**: [Pandas Cheat sheet](https://github.com/pandas-dev/pandas/blob/main/doc/cheatsheet/Pandas_Cheat_Sheet.pdf) by Pandas\n",
        "\n",
        "* [Bash Commands for Data Scientists](https://builtin.com/data-science/bash-commands) by Giorgos Myrianthous\n",
        "\n",
        "* [NumPy Quickstart](https://numpy.org/doc/stable/user/quickstart.html) by NumPy\n",
        "\n",
        "* The Pandas section of this workshop is heavily based on [Pandas Workshop](https://github.com/stefmolin/pandas-workshop) by Stefanie Molin\n",
        "\n",
        "* [10 Minutes to Pandas](https://pandas.pydata.org/docs/user_guide/10min.html) - a part of Pandas' official user guide\n",
        "\n",
        "* [Python for Data Science](https://github.com/worldbank/Python-for-Data-Science/tree/master/June_2021_ETEC/day_2) for World Bank ETEC staff\n",
        "\n",
        "* [Python Training for Stata Users](https://github.com/worldbank/dime-python-training) by World Bank Development Impact Evaluation (DIME)\n",
        "\n",
        "* The Singapore annual and monthly car registration datasets used in the Pandas section come from [Singapore Land Transport Authority's Data Mall](https://datamall.lta.gov.sg/content/datamall/en/static-data.html)\n",
        "\n",
        "* [Long vs. Wide Data: What’s the Difference?](https://www.statology.org/long-vs-wide-data/) by Zach from Statology\n",
        "\n",
        "* [Flexible Imputation of Missing Data](https://stefvanbuuren.name/fimd/) by S. van Buuren"
      ],
      "metadata": {
        "id": "VjTKXK_Eb4Jr"
      }
    }
  ],
  "metadata": {
    "kernelspec": {
      "display_name": "Python 3",
      "language": "python",
      "name": "python3"
    },
    "language_info": {
      "codemirror_mode": {
        "name": "ipython",
        "version": 3
      },
      "file_extension": ".py",
      "mimetype": "text/x-python",
      "name": "python",
      "nbconvert_exporter": "python",
      "pygments_lexer": "ipython3",
      "version": "3.8.2"
    },
    "colab": {
      "name": "foundations-s3.ipynb",
      "provenance": [],
      "toc_visible": true,
      "include_colab_link": true
    }
  },
  "nbformat": 4,
  "nbformat_minor": 0
}
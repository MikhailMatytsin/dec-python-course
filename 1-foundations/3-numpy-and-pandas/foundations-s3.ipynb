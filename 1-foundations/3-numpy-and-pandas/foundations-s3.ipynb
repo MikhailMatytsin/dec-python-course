{
  "cells": [
    {
      "cell_type": "markdown",
      "metadata": {
        "id": "view-in-github",
        "colab_type": "text"
      },
      "source": [
        "<a href=\"https://colab.research.google.com/github/worldbank/dec-python-course/blob/session3/1-foundations/3-numpy-and-pandas/foundations-s3.ipynb\" target=\"_parent\"><img src=\"https://colab.research.google.com/assets/colab-badge.svg\" alt=\"Open In Colab\"/></a>"
      ]
    },
    {
      "cell_type": "markdown",
      "source": [
        "# 1.&nbsp;Python Libraries\n",
        "\n",
        "Within the realm of python, a package is a collection of modules, a library is a collection of packages. In practice, \"python library\" and \"python package\" are used interchangeably to refer to a reusable chunk of code. Use of libraries allows us to \"stand on the shoulders of giants\"."
      ],
      "metadata": {
        "id": "nGwJPbjEc44k"
      }
    },
    {
      "cell_type": "markdown",
      "source": [
        "## 1.1. Examples of Python libraries\n",
        "- [NumPy](https://numpy.org/) stands for Numerical Python. It is the fundamental Python package for scientific computing.\n",
        "- [pandas](https://pandas.pydata.org/) is a Python package for fast and efficient processing of tabular data, time series, matrix data, etc.\n",
        "- [Matplotlib](https://matplotlib.org/)  is a comprehensive library for creating data visualizations in Python. "
      ],
      "metadata": {
        "id": "Z_z4OH2Cw165"
      }
    },
    {
      "cell_type": "markdown",
      "source": [
        "## 1.2. How to use libraries?"
      ],
      "metadata": {
        "id": "d-1OvfSZ2e5m"
      }
    },
    {
      "cell_type": "code",
      "execution_count": 154,
      "metadata": {
        "colab": {
          "base_uri": "https://localhost:8080/"
        },
        "id": "GNtSS8HZeIV5",
        "outputId": "ca3fda09-5c09-48d4-80e8-e3365ee3152c"
      },
      "outputs": [
        {
          "output_type": "stream",
          "name": "stdout",
          "text": [
            "3.141592653589793\n"
          ]
        }
      ],
      "source": [
        "import numpy as np\n",
        "import pandas as pd\n",
        "import matplotlib.pyplot as plt\n",
        "\n",
        "print(np.pi)"
      ]
    },
    {
      "cell_type": "markdown",
      "source": [
        "`as` is optional; it is usually used to alias the library name to a shorthand or for disambiguation. The above are some conventional aliases for these libraries. If you `import numpy` without aliasing, just be sure to use `numpy` instead of `np` when calling the library's functions later.\n",
        "\n",
        "`import` the library like you would import a built-in python module e.g. `import math`, works for common libraries on Google Colab because Colab already pre-installed many common libraries."
      ],
      "metadata": {
        "id": "Y6CkPZNx20Lq"
      }
    },
    {
      "cell_type": "markdown",
      "source": [
        "## 1.3. What libraries are pre-installed in Colab?\n",
        "\n",
        "To see which libraries are pre-installed and their versions:"
      ],
      "metadata": {
        "id": "YrdT4xNYdqZ1"
      }
    },
    {
      "cell_type": "code",
      "source": [
        "# Note: ! in google colab executes a bash command\n",
        "# `| head` shortens the output to show only the first 10\n",
        "!pip freeze | head"
      ],
      "metadata": {
        "colab": {
          "base_uri": "https://localhost:8080/"
        },
        "id": "CBYYko-23YKA",
        "outputId": "1fa59955-ae73-41f7-e67c-1b1a19791568"
      },
      "execution_count": 155,
      "outputs": [
        {
          "output_type": "stream",
          "name": "stdout",
          "text": [
            "absl-py==1.2.0\n",
            "aiohttp==3.8.1\n",
            "aiosignal==1.2.0\n",
            "alabaster==0.7.12\n",
            "albumentations==1.2.1\n",
            "altair==4.2.0\n",
            "appdirs==1.4.4\n",
            "arviz==0.12.1\n",
            "astor==0.8.1\n",
            "astropy==4.3.1\n"
          ]
        }
      ]
    },
    {
      "cell_type": "markdown",
      "source": [
        "To check if a library you want to use is already installed:"
      ],
      "metadata": {
        "id": "CBMqUBUi3qfl"
      }
    },
    {
      "cell_type": "code",
      "source": [
        "# `| grep` filters the output using the supplied keyword\n",
        "!pip freeze | grep pandas"
      ],
      "metadata": {
        "colab": {
          "base_uri": "https://localhost:8080/"
        },
        "id": "7dNMg6iX3wIp",
        "outputId": "6766cc38-9551-4923-ab78-1ae3a9d29665"
      },
      "execution_count": 156,
      "outputs": [
        {
          "output_type": "stream",
          "name": "stdout",
          "text": [
            "pandas==1.3.5\n",
            "pandas-datareader==0.9.0\n",
            "pandas-gbq==0.13.3\n",
            "pandas-profiling==1.4.1\n",
            "sklearn-pandas==1.8.0\n"
          ]
        }
      ]
    },
    {
      "cell_type": "markdown",
      "source": [
        "Bash commands are commonly referred to as the terminal, console or command line. It's an interface to interact with a Unix-based operating system, which Google Colab runs on. For the purpose of this session, we just need to know commands that start with `!` are bash commands, not python code. `grep`, `head`, `pip` are bash commands. `|` is known as the pipe, which channels the output of one bash command to another as the input. We use these bash commands to install, update, and view python packages. "
      ],
      "metadata": {
        "id": "Uc6vxBS06gm_"
      }
    },
    {
      "cell_type": "markdown",
      "source": [
        "## 1.4. Can I install new libraries or change pre-installed ones?\n",
        "[pip](https://pip.pypa.io/) is the de facto python package manager. You can use it to view the current installed packages and to install a new library or upgrade an existing library:"
      ],
      "metadata": {
        "id": "-eZ2_CmN4Mzq"
      }
    },
    {
      "cell_type": "code",
      "source": [
        "# install/upgrade to the latest stable verison of a package\n",
        "!pip install pandas --upgrade "
      ],
      "metadata": {
        "colab": {
          "base_uri": "https://localhost:8080/"
        },
        "id": "jiOOOA9w4UeG",
        "outputId": "ca030124-62d1-46e3-ceba-5649140ecea5"
      },
      "execution_count": 157,
      "outputs": [
        {
          "output_type": "stream",
          "name": "stdout",
          "text": [
            "Looking in indexes: https://pypi.org/simple, https://us-python.pkg.dev/colab-wheels/public/simple/\n",
            "Requirement already satisfied: pandas in /usr/local/lib/python3.7/dist-packages (1.3.5)\n",
            "Requirement already satisfied: numpy>=1.17.3 in /usr/local/lib/python3.7/dist-packages (from pandas) (1.21.6)\n",
            "Requirement already satisfied: pytz>=2017.3 in /usr/local/lib/python3.7/dist-packages (from pandas) (2022.1)\n",
            "Requirement already satisfied: python-dateutil>=2.7.3 in /usr/local/lib/python3.7/dist-packages (from pandas) (2.8.2)\n",
            "Requirement already satisfied: six>=1.5 in /usr/local/lib/python3.7/dist-packages (from python-dateutil>=2.7.3->pandas) (1.15.0)\n"
          ]
        }
      ]
    },
    {
      "cell_type": "code",
      "source": [
        "# install a specific version of a package\n",
        "!pip install pandas==1.3.5"
      ],
      "metadata": {
        "colab": {
          "base_uri": "https://localhost:8080/"
        },
        "id": "lcUHqMOw8GCC",
        "outputId": "66666e12-4b8f-4c26-b99c-27801828e279"
      },
      "execution_count": 158,
      "outputs": [
        {
          "output_type": "stream",
          "name": "stdout",
          "text": [
            "Looking in indexes: https://pypi.org/simple, https://us-python.pkg.dev/colab-wheels/public/simple/\n",
            "Requirement already satisfied: pandas==1.3.5 in /usr/local/lib/python3.7/dist-packages (1.3.5)\n",
            "Requirement already satisfied: numpy>=1.17.3 in /usr/local/lib/python3.7/dist-packages (from pandas==1.3.5) (1.21.6)\n",
            "Requirement already satisfied: pytz>=2017.3 in /usr/local/lib/python3.7/dist-packages (from pandas==1.3.5) (2022.1)\n",
            "Requirement already satisfied: python-dateutil>=2.7.3 in /usr/local/lib/python3.7/dist-packages (from pandas==1.3.5) (2.8.2)\n",
            "Requirement already satisfied: six>=1.5 in /usr/local/lib/python3.7/dist-packages (from python-dateutil>=2.7.3->pandas==1.3.5) (1.15.0)\n"
          ]
        }
      ]
    },
    {
      "cell_type": "markdown",
      "source": [
        "## 1.5. Exercises: install and use matplotlib\n",
        "The following exercises are meant to be completed step by step. Upon successful completion of all steps, the last cell should execute without any `AssertionError` or the prompt \"Remove this line after filling in your own code\"."
      ],
      "metadata": {
        "id": "udmuxsot8iMf"
      }
    },
    {
      "cell_type": "markdown",
      "source": [
        "### Step 1. \n",
        "\n",
        "Run a command to find out what is the current installed version of `matplotlib`:"
      ],
      "metadata": {
        "id": "emskTwhTgPU5"
      }
    },
    {
      "cell_type": "code",
      "source": [
        "# hint: use ! and bash command `pip freeze` and pipe the results to bash command `grep matplotlib`"
      ],
      "metadata": {
        "id": "CwERECq69Q_j"
      },
      "execution_count": 159,
      "outputs": []
    },
    {
      "cell_type": "markdown",
      "source": [
        "### Step 2. \n",
        "\n",
        "Install version 3.5.2 of `matplotlib` for this notebook. Upon successful installation, click on \"RESTART RUNTIME\" in the code cell output."
      ],
      "metadata": {
        "id": "43mq07rBF414"
      }
    },
    {
      "cell_type": "code",
      "source": [
        "# hint: use ! and bash command `pip install`"
      ],
      "metadata": {
        "id": "WdwQn1lEGP5i"
      },
      "execution_count": 160,
      "outputs": []
    },
    {
      "cell_type": "markdown",
      "source": [
        "### Step 3.\n",
        "\n",
        "Import `matplotlib`'s `pyplot` module and alias it as `plt`"
      ],
      "metadata": {
        "id": "yuwpmEcnG9-3"
      }
    },
    {
      "cell_type": "code",
      "source": [
        "%%script echo Remove this line after filling in your own code\n",
        "# hint: use `import ... as ...`\n",
        "\n",
        "# === Do not modify code below ===\n",
        "fig = plt.figure(figsize=(10, 80))\n",
        "assert hasattr(fig, \"subfigures\"),\\\n",
        " \"If correct version of matplotlib were installed you should not see this message\"\n",
        "\n",
        "print(\"Well done!\")"
      ],
      "metadata": {
        "colab": {
          "base_uri": "https://localhost:8080/"
        },
        "id": "_QQVLOJfIg6V",
        "outputId": "c20536c7-fa23-48a7-96fb-214a1388ced6"
      },
      "execution_count": 161,
      "outputs": [
        {
          "output_type": "stream",
          "name": "stdout",
          "text": [
            "Remove this line after filling in your own code\n"
          ]
        }
      ]
    },
    {
      "cell_type": "markdown",
      "source": [
        "If you have successfully completed the above exercies and are feeling adventurous, head over to `foundations-s3-bonus.ipynb` – it contains some bonus content and corresponding exercises on this topic."
      ],
      "metadata": {
        "id": "nmuFvgTazPbo"
      }
    },
    {
      "cell_type": "markdown",
      "source": [
        "# 2.&nbsp;NumPy\n",
        "\n",
        "NumPy (**Numerical Python**) is an open source Python library that’s used in almost every field of science and engineering. It’s the **universal standard** for working with numerical data in Python, and it’s at the core of the scientific Python and PyData ecosystems. It serves as the foundation for popular data science and scientific Python packages, such as Pandas, SciPy, Matplotlib, scikit-learn.\n"
      ],
      "metadata": {
        "id": "Vy-R-M5N2I6N"
      }
    },
    {
      "cell_type": "markdown",
      "source": [
        "\n",
        "## 2.1. ndarray\n",
        "The NumPy library provides **powerful functionalities** for numerical operations and does so **efficiently**. Its basic building block is `ndarray`, a homogeneous n-dimensional array object, with methods to efficiently operate on it. `ndarray` is a simple and flexible data structure that can represent vectors (1-D arrays), matrices (2-D arrays), and tensors (3-D or higher dimensional arrays)."
      ],
      "metadata": {
        "id": "ebvx7VbrEIdi"
      }
    },
    {
      "cell_type": "markdown",
      "source": [
        "![elsp_0105.png](data:image/png;base64,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)"
      ],
      "metadata": {
        "id": "0XXUaCFd-cZT"
      }
    },
    {
      "cell_type": "markdown",
      "source": [
        "\n",
        "Image credit: https://www.oreilly.com/library/view/elegant-scipy/9781491922927/ch01.html"
      ],
      "metadata": {
        "id": "PtIAW5Wd-bn4"
      }
    },
    {
      "cell_type": "markdown",
      "source": [
        "### Wait, what's an array?\n",
        "\n",
        "In computer science, an array is a data structure consisting of a collection of elements, each identified by an index. "
      ],
      "metadata": {
        "id": "JJ_MBbHUDAUc"
      }
    },
    {
      "cell_type": "markdown",
      "source": [
        "### How does a NumPy `ndarray` compare to a Python `list` or `array`?\n",
        "In Python, arrays are most often represented using `list`, which allows for different data types within a single list. (For a refresher on lists, see Session 1 of this course, \"Container types - Lists\" section). Python standard library does come with its own `array` module which requires that a single array can only contain one data type of elements. Python's `array` is more compact (takes less space in storage) than `list` and comes with some basic math operations. NumPy's `ndarray` is like Python's `array` on steroids, functionality wise."
      ],
      "metadata": {
        "id": "GZLEMDHSD_Hz"
      }
    },
    {
      "cell_type": "code",
      "source": [
        "from array import array\n",
        "import numpy as np\n",
        "\n",
        "py_list = [1, 2, '3']\n",
        "py_array = array('i', [1, 2, 3]) # i indicates integer\n",
        "np_array = np.array([1, 2, 3])"
      ],
      "metadata": {
        "id": "eaMKE8NnDAvX"
      },
      "execution_count": 162,
      "outputs": []
    },
    {
      "cell_type": "markdown",
      "source": [
        "### How to create a NumPy `ndarray`?"
      ],
      "metadata": {
        "id": "49kiXHiuI7YO"
      }
    },
    {
      "cell_type": "code",
      "source": [
        "# give me 3 zeros\n",
        "np.zeros(3)"
      ],
      "metadata": {
        "colab": {
          "base_uri": "https://localhost:8080/"
        },
        "id": "OXklQZ1gJKIp",
        "outputId": "f8b71c35-f28c-45b9-eeeb-bba2fd5a10e8"
      },
      "execution_count": 163,
      "outputs": [
        {
          "output_type": "execute_result",
          "data": {
            "text/plain": [
              "array([0., 0., 0.])"
            ]
          },
          "metadata": {},
          "execution_count": 163
        }
      ]
    },
    {
      "cell_type": "code",
      "source": [
        "# give me 4 ones\n",
        "np.ones(4)"
      ],
      "metadata": {
        "colab": {
          "base_uri": "https://localhost:8080/"
        },
        "id": "egULMRRZJVfX",
        "outputId": "bca0c5bb-41dd-4b35-e0ec-2ac7cb0b88f2"
      },
      "execution_count": 164,
      "outputs": [
        {
          "output_type": "execute_result",
          "data": {
            "text/plain": [
              "array([1., 1., 1., 1.])"
            ]
          },
          "metadata": {},
          "execution_count": 164
        }
      ]
    },
    {
      "cell_type": "code",
      "source": [
        "# give me 5 numbers randomly sampled from [0.0, 1.0)\n",
        "np.random.random(5)"
      ],
      "metadata": {
        "colab": {
          "base_uri": "https://localhost:8080/"
        },
        "id": "xCUM92UPcEbY",
        "outputId": "ac8d066d-c899-4206-a381-e52bc8cc9768"
      },
      "execution_count": 165,
      "outputs": [
        {
          "output_type": "execute_result",
          "data": {
            "text/plain": [
              "array([0.91001813, 0.42831227, 0.23967172, 0.75320355, 0.65893491])"
            ]
          },
          "metadata": {},
          "execution_count": 165
        }
      ]
    },
    {
      "cell_type": "code",
      "source": [
        "# give me 4 consecutive numbers\n",
        "# starts at 0 by default, stop is excluded\n",
        "one_d_array = np.arange(4)\n",
        "one_d_array"
      ],
      "metadata": {
        "colab": {
          "base_uri": "https://localhost:8080/"
        },
        "id": "saEkxVHRJXX4",
        "outputId": "28e5074c-cc84-4199-fda2-d949a99b2cb4"
      },
      "execution_count": 166,
      "outputs": [
        {
          "output_type": "execute_result",
          "data": {
            "text/plain": [
              "array([0, 1, 2, 3])"
            ]
          },
          "metadata": {},
          "execution_count": 166
        }
      ]
    },
    {
      "cell_type": "code",
      "source": [
        "# start, stop, step\n",
        "np.arange(1, 9, 2)"
      ],
      "metadata": {
        "colab": {
          "base_uri": "https://localhost:8080/"
        },
        "id": "VsSluLFkJgJN",
        "outputId": "0978cb68-6573-4ac1-cc97-28a58a97dbe5"
      },
      "execution_count": 167,
      "outputs": [
        {
          "output_type": "execute_result",
          "data": {
            "text/plain": [
              "array([1, 3, 5, 7])"
            ]
          },
          "metadata": {},
          "execution_count": 167
        }
      ]
    },
    {
      "cell_type": "code",
      "source": [
        "# 2-D array / matrix\n",
        "two_d_array = np.array([[1, 2], [3, 4]])\n",
        "two_d_array"
      ],
      "metadata": {
        "colab": {
          "base_uri": "https://localhost:8080/"
        },
        "id": "cT1kC1bpKKPp",
        "outputId": "0a3e3968-8063-45d0-e67c-0bf5abff431a"
      },
      "execution_count": 168,
      "outputs": [
        {
          "output_type": "execute_result",
          "data": {
            "text/plain": [
              "array([[1, 2],\n",
              "       [3, 4]])"
            ]
          },
          "metadata": {},
          "execution_count": 168
        }
      ]
    },
    {
      "cell_type": "code",
      "source": [
        "# 3-D array\n",
        "three_d_array = np.array([[[1.0, 2], [4, 3], [7, 4]],\n",
        "                          [[2, 5], [9, 5], [7, 5]],\n",
        "                          [[1,2], [3,2], [0,2]],\n",
        "                          [[9, 8], [6, 8], [9, 8]]])\n",
        "three_d_array"
      ],
      "metadata": {
        "colab": {
          "base_uri": "https://localhost:8080/"
        },
        "id": "_rzZrypbKRe1",
        "outputId": "305e9cc1-670e-4c9b-c65b-72d00f645ca2"
      },
      "execution_count": 169,
      "outputs": [
        {
          "output_type": "execute_result",
          "data": {
            "text/plain": [
              "array([[[1., 2.],\n",
              "        [4., 3.],\n",
              "        [7., 4.]],\n",
              "\n",
              "       [[2., 5.],\n",
              "        [9., 5.],\n",
              "        [7., 5.]],\n",
              "\n",
              "       [[1., 2.],\n",
              "        [3., 2.],\n",
              "        [0., 2.]],\n",
              "\n",
              "       [[9., 8.],\n",
              "        [6., 8.],\n",
              "        [9., 8.]]])"
            ]
          },
          "metadata": {},
          "execution_count": 169
        }
      ]
    },
    {
      "cell_type": "markdown",
      "source": [
        "![elsp_0105.png](data:image/png;base64,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)"
      ],
      "metadata": {
        "id": "L2oAirg-G4di"
      }
    },
    {
      "cell_type": "markdown",
      "source": [
        "### How to find properties of a `ndarray`?"
      ],
      "metadata": {
        "id": "CUcCejnWK3ES"
      }
    },
    {
      "cell_type": "code",
      "source": [
        "# dimension\n",
        "two_d_array.ndim"
      ],
      "metadata": {
        "colab": {
          "base_uri": "https://localhost:8080/"
        },
        "id": "uQU5MWhXLFd0",
        "outputId": "8340e388-9585-4737-bb4d-291e65a6e616"
      },
      "execution_count": 170,
      "outputs": [
        {
          "output_type": "execute_result",
          "data": {
            "text/plain": [
              "2"
            ]
          },
          "metadata": {},
          "execution_count": 170
        }
      ]
    },
    {
      "cell_type": "code",
      "source": [
        "three_d_array.ndim"
      ],
      "metadata": {
        "colab": {
          "base_uri": "https://localhost:8080/"
        },
        "id": "k_7NYDVHLVjf",
        "outputId": "6b829848-27be-4b50-db07-3bba3b63e5a1"
      },
      "execution_count": 171,
      "outputs": [
        {
          "output_type": "execute_result",
          "data": {
            "text/plain": [
              "3"
            ]
          },
          "metadata": {},
          "execution_count": 171
        }
      ]
    },
    {
      "cell_type": "code",
      "source": [
        "# shape\n",
        "two_d_array.shape"
      ],
      "metadata": {
        "colab": {
          "base_uri": "https://localhost:8080/"
        },
        "id": "wbkCdN5YAa7d",
        "outputId": "9c42afde-fc62-41a8-d519-4ea1d6b6b26f"
      },
      "execution_count": 172,
      "outputs": [
        {
          "output_type": "execute_result",
          "data": {
            "text/plain": [
              "(2, 2)"
            ]
          },
          "metadata": {},
          "execution_count": 172
        }
      ]
    },
    {
      "cell_type": "code",
      "source": [
        "three_d_array.shape"
      ],
      "metadata": {
        "colab": {
          "base_uri": "https://localhost:8080/"
        },
        "id": "XyDDu35GAprw",
        "outputId": "6676e3ef-6a1b-4b91-afe0-e75276a2b389"
      },
      "execution_count": 173,
      "outputs": [
        {
          "output_type": "execute_result",
          "data": {
            "text/plain": [
              "(4, 3, 2)"
            ]
          },
          "metadata": {},
          "execution_count": 173
        }
      ]
    },
    {
      "cell_type": "code",
      "source": [
        "# how many elements total?\n",
        "three_d_array.size"
      ],
      "metadata": {
        "colab": {
          "base_uri": "https://localhost:8080/"
        },
        "id": "iF7YeWx7B2HB",
        "outputId": "66cea55b-341d-48b7-9aed-6e18a297a00e"
      },
      "execution_count": 174,
      "outputs": [
        {
          "output_type": "execute_result",
          "data": {
            "text/plain": [
              "24"
            ]
          },
          "metadata": {},
          "execution_count": 174
        }
      ]
    },
    {
      "cell_type": "code",
      "source": [
        "# what's the data type of the elements?\n",
        "three_d_array.dtype"
      ],
      "metadata": {
        "colab": {
          "base_uri": "https://localhost:8080/"
        },
        "id": "6t5blJmACV9z",
        "outputId": "b26abacc-eb9b-4020-bfa8-30e53204c7e7"
      },
      "execution_count": 175,
      "outputs": [
        {
          "output_type": "execute_result",
          "data": {
            "text/plain": [
              "dtype('float64')"
            ]
          },
          "metadata": {},
          "execution_count": 175
        }
      ]
    },
    {
      "cell_type": "code",
      "source": [
        "print(f'''Array dimension: {one_d_array.ndim},\n",
        "      shape: {one_d_array.shape}, \n",
        "      size: {one_d_array.size},\n",
        "      data type: {one_d_array.dtype}''')"
      ],
      "metadata": {
        "colab": {
          "base_uri": "https://localhost:8080/"
        },
        "id": "nU8fq7UfA9y9",
        "outputId": "70e58cd5-f18c-43fb-acf5-909caca3531e"
      },
      "execution_count": 176,
      "outputs": [
        {
          "output_type": "stream",
          "name": "stdout",
          "text": [
            "Array dimension: 1,\n",
            "      shape: (4,), \n",
            "      size: 4,\n",
            "      data type: int64\n"
          ]
        }
      ]
    },
    {
      "cell_type": "markdown",
      "source": [
        "## 2.2. Manipulating and operating on `ndarray`\n",
        "With basic understanding of ndarray, let's go ahead do some maths with it."
      ],
      "metadata": {
        "id": "RkJaQBfxEmMW"
      }
    },
    {
      "cell_type": "markdown",
      "source": [
        "### How to do maths and (even) linear algebra with ndarrays?"
      ],
      "metadata": {
        "id": "AfXv6ngFc5Av"
      }
    },
    {
      "cell_type": "code",
      "source": [
        "one_d_array.min()"
      ],
      "metadata": {
        "colab": {
          "base_uri": "https://localhost:8080/"
        },
        "id": "zUy5BHrAF0Bj",
        "outputId": "ea9f5487-6426-4def-c354-b9cbbdb5e12f"
      },
      "execution_count": 177,
      "outputs": [
        {
          "output_type": "execute_result",
          "data": {
            "text/plain": [
              "0"
            ]
          },
          "metadata": {},
          "execution_count": 177
        }
      ]
    },
    {
      "cell_type": "code",
      "source": [
        "one_d_array.max()"
      ],
      "metadata": {
        "colab": {
          "base_uri": "https://localhost:8080/"
        },
        "id": "gx61RU7PGDKE",
        "outputId": "f1d61ab1-29c6-4bde-e39b-1fddfd98b41a"
      },
      "execution_count": 178,
      "outputs": [
        {
          "output_type": "execute_result",
          "data": {
            "text/plain": [
              "3"
            ]
          },
          "metadata": {},
          "execution_count": 178
        }
      ]
    },
    {
      "cell_type": "code",
      "source": [
        "one_d_array.sum()"
      ],
      "metadata": {
        "colab": {
          "base_uri": "https://localhost:8080/"
        },
        "id": "GKaFLXz3GFPU",
        "outputId": "033424ad-aa9f-40bc-ee13-72ce57801088"
      },
      "execution_count": 179,
      "outputs": [
        {
          "output_type": "execute_result",
          "data": {
            "text/plain": [
              "6"
            ]
          },
          "metadata": {},
          "execution_count": 179
        }
      ]
    },
    {
      "cell_type": "code",
      "source": [
        "# broadcasting\n",
        "one_d_array * 2"
      ],
      "metadata": {
        "colab": {
          "base_uri": "https://localhost:8080/"
        },
        "id": "UteWB3LcGIzK",
        "outputId": "d91a90d1-bede-4f0b-ff32-899d461505e2"
      },
      "execution_count": 180,
      "outputs": [
        {
          "output_type": "execute_result",
          "data": {
            "text/plain": [
              "array([0, 2, 4, 6])"
            ]
          },
          "metadata": {},
          "execution_count": 180
        }
      ]
    },
    {
      "cell_type": "code",
      "source": [
        "# arithmetic operations\n",
        "one_d_array + one_d_array * 2"
      ],
      "metadata": {
        "colab": {
          "base_uri": "https://localhost:8080/"
        },
        "id": "8gRhvgszGeOB",
        "outputId": "fdfdc5ff-8f8e-4e44-8f2a-5299b023a4f9"
      },
      "execution_count": 181,
      "outputs": [
        {
          "output_type": "execute_result",
          "data": {
            "text/plain": [
              "array([0, 3, 6, 9])"
            ]
          },
          "metadata": {},
          "execution_count": 181
        }
      ]
    },
    {
      "cell_type": "code",
      "source": [
        "%%script echo Remove line for demo\n",
        "one_d_array - two_d_array"
      ],
      "metadata": {
        "colab": {
          "base_uri": "https://localhost:8080/"
        },
        "id": "h8kjqzYjRJ3p",
        "outputId": "840aa5c7-4770-48c2-db61-00213360aad7"
      },
      "execution_count": 182,
      "outputs": [
        {
          "output_type": "stream",
          "name": "stdout",
          "text": [
            "Remove line for demo\n"
          ]
        }
      ]
    },
    {
      "cell_type": "markdown",
      "source": [
        "### How to reshape an `ndarray`?\n",
        "Use the `reshape` function with the new shape as arguments. Note that the new shape must have the same number of elements as the original array.\n",
        "\n",
        "<img src=\"https://numpy.org/doc/stable/_images/np_reshape.png\" />\n",
        "\n",
        "Image credit: https://numpy.org/doc/stable/user/absolute_beginners.html#transposing-and-reshaping-a-matrix"
      ],
      "metadata": {
        "id": "o78bmHjaDsSH"
      }
    },
    {
      "cell_type": "code",
      "source": [
        "one_d_array.reshape(2, 2) - two_d_array"
      ],
      "metadata": {
        "colab": {
          "base_uri": "https://localhost:8080/"
        },
        "id": "OAtTlmLVSKKg",
        "outputId": "5a6b1483-5ea7-43b1-ede0-72adff501b52"
      },
      "execution_count": 183,
      "outputs": [
        {
          "output_type": "execute_result",
          "data": {
            "text/plain": [
              "array([[-1, -1],\n",
              "       [-1, -1]])"
            ]
          },
          "metadata": {},
          "execution_count": 183
        }
      ]
    },
    {
      "cell_type": "code",
      "source": [
        "one_d_array.reshape(1, 4) - two_d_array.reshape(1, 4)"
      ],
      "metadata": {
        "colab": {
          "base_uri": "https://localhost:8080/"
        },
        "id": "TH8U3lRvSoz0",
        "outputId": "b7f99066-0f5e-44f1-a3f2-2c0303e52166"
      },
      "execution_count": 184,
      "outputs": [
        {
          "output_type": "execute_result",
          "data": {
            "text/plain": [
              "array([[-1, -1, -1, -1]])"
            ]
          },
          "metadata": {},
          "execution_count": 184
        }
      ]
    },
    {
      "cell_type": "markdown",
      "source": [
        "To transpose:"
      ],
      "metadata": {
        "id": "z39qeUuPUf7h"
      }
    },
    {
      "cell_type": "code",
      "source": [
        "one_d_array.transpose()"
      ],
      "metadata": {
        "colab": {
          "base_uri": "https://localhost:8080/"
        },
        "id": "81buJflLTgY_",
        "outputId": "dfc2058b-6c50-48a2-fb90-b46e25d462a2"
      },
      "execution_count": 185,
      "outputs": [
        {
          "output_type": "execute_result",
          "data": {
            "text/plain": [
              "array([0, 1, 2, 3])"
            ]
          },
          "metadata": {},
          "execution_count": 185
        }
      ]
    },
    {
      "cell_type": "code",
      "source": [
        "# or use short T attribute on the array\n",
        "one_d_array.T"
      ],
      "metadata": {
        "colab": {
          "base_uri": "https://localhost:8080/"
        },
        "id": "gDNeIQPjSyxT",
        "outputId": "b465acea-ef48-48e7-e2c4-007f9f1fc637"
      },
      "execution_count": 186,
      "outputs": [
        {
          "output_type": "execute_result",
          "data": {
            "text/plain": [
              "array([0, 1, 2, 3])"
            ]
          },
          "metadata": {},
          "execution_count": 186
        }
      ]
    },
    {
      "cell_type": "code",
      "source": [
        "one_d_array.T - two_d_array.reshape(1, 4)"
      ],
      "metadata": {
        "colab": {
          "base_uri": "https://localhost:8080/"
        },
        "id": "v1yxnKvxS6nG",
        "outputId": "3fd8b4fd-1d05-4fb4-a9d6-10380c377126"
      },
      "execution_count": 187,
      "outputs": [
        {
          "output_type": "execute_result",
          "data": {
            "text/plain": [
              "array([[-1, -1, -1, -1]])"
            ]
          },
          "metadata": {},
          "execution_count": 187
        }
      ]
    },
    {
      "cell_type": "markdown",
      "source": [
        "To flatten any multidimensional array to a 1-d array:"
      ],
      "metadata": {
        "id": "cNqIiHNuUnX1"
      }
    },
    {
      "cell_type": "code",
      "source": [
        "two_d_array.flatten()"
      ],
      "metadata": {
        "colab": {
          "base_uri": "https://localhost:8080/"
        },
        "id": "bNxinokzUxv0",
        "outputId": "bc3c5f0a-222c-44b7-cbd0-405786f3af64"
      },
      "execution_count": 188,
      "outputs": [
        {
          "output_type": "execute_result",
          "data": {
            "text/plain": [
              "array([1, 2, 3, 4])"
            ]
          },
          "metadata": {},
          "execution_count": 188
        }
      ]
    },
    {
      "cell_type": "code",
      "source": [
        "one_d_array - two_d_array.flatten()"
      ],
      "metadata": {
        "colab": {
          "base_uri": "https://localhost:8080/"
        },
        "id": "AbUq49UaU1kY",
        "outputId": "d2d8cd7d-6a53-4155-ea67-762c0baa1473"
      },
      "execution_count": 189,
      "outputs": [
        {
          "output_type": "execute_result",
          "data": {
            "text/plain": [
              "array([-1, -1, -1, -1])"
            ]
          },
          "metadata": {},
          "execution_count": 189
        }
      ]
    },
    {
      "cell_type": "markdown",
      "source": [
        "### How to stack and split ndarrays?"
      ],
      "metadata": {
        "id": "xVLvbu07a_Qr"
      }
    },
    {
      "cell_type": "markdown",
      "source": [
        "Multiple arrays can be stacked together along different axes:"
      ],
      "metadata": {
        "id": "7_wIPRPEbaqf"
      }
    },
    {
      "cell_type": "code",
      "source": [
        "another_two_d_array = two_d_array * 2\n",
        "print(two_d_array)\n",
        "print(another_two_d_array)"
      ],
      "metadata": {
        "outputId": "94abd2c3-3f65-4b7b-dd06-666cf982932c",
        "colab": {
          "base_uri": "https://localhost:8080/"
        },
        "id": "lb_LAQ8Kbaqf"
      },
      "execution_count": 190,
      "outputs": [
        {
          "output_type": "stream",
          "name": "stdout",
          "text": [
            "[[1 2]\n",
            " [3 4]]\n",
            "[[2 4]\n",
            " [6 8]]\n"
          ]
        }
      ]
    },
    {
      "cell_type": "code",
      "source": [
        "# stack row wise\n",
        "vstacked = np.vstack((two_d_array, another_two_d_array))\n",
        "vstacked"
      ],
      "metadata": {
        "outputId": "1f3eeb54-aeee-400c-d7a6-6b85735b462d",
        "colab": {
          "base_uri": "https://localhost:8080/"
        },
        "id": "bk_7A0SPbaqg"
      },
      "execution_count": 191,
      "outputs": [
        {
          "output_type": "execute_result",
          "data": {
            "text/plain": [
              "array([[1, 2],\n",
              "       [3, 4],\n",
              "       [2, 4],\n",
              "       [6, 8]])"
            ]
          },
          "metadata": {},
          "execution_count": 191
        }
      ]
    },
    {
      "cell_type": "code",
      "source": [
        "# stack column wise\n",
        "hstacked = np.hstack((two_d_array, another_two_d_array))\n",
        "hstacked"
      ],
      "metadata": {
        "outputId": "c53a7670-bb3b-46c7-a1ad-8ac7ebb33af8",
        "colab": {
          "base_uri": "https://localhost:8080/"
        },
        "id": "38AgRXTmbaqg"
      },
      "execution_count": 192,
      "outputs": [
        {
          "output_type": "execute_result",
          "data": {
            "text/plain": [
              "array([[1, 2, 2, 4],\n",
              "       [3, 4, 6, 8]])"
            ]
          },
          "metadata": {},
          "execution_count": 192
        }
      ]
    },
    {
      "cell_type": "markdown",
      "source": [
        "An array can be split into multiple arrays, along the specified axis:"
      ],
      "metadata": {
        "id": "gFxvmCBObt3d"
      }
    },
    {
      "cell_type": "code",
      "source": [
        "vstacked"
      ],
      "metadata": {
        "outputId": "5897fd0e-78eb-462d-f9c2-9b493d71a38a",
        "colab": {
          "base_uri": "https://localhost:8080/"
        },
        "id": "lVjhON5pbt3d"
      },
      "execution_count": 193,
      "outputs": [
        {
          "output_type": "execute_result",
          "data": {
            "text/plain": [
              "array([[1, 2],\n",
              "       [3, 4],\n",
              "       [2, 4],\n",
              "       [6, 8]])"
            ]
          },
          "metadata": {},
          "execution_count": 193
        }
      ]
    },
    {
      "cell_type": "code",
      "source": [
        "# split to 2 arrays row wise\n",
        "vsplit1, vsplit2 = np.vsplit(vstacked, 2)\n",
        "print(vsplit1)\n",
        "print(vsplit2)"
      ],
      "metadata": {
        "outputId": "72018e8a-b614-45af-af71-026ba53fb597",
        "colab": {
          "base_uri": "https://localhost:8080/"
        },
        "id": "jJzFczthbt3e"
      },
      "execution_count": 194,
      "outputs": [
        {
          "output_type": "stream",
          "name": "stdout",
          "text": [
            "[[1 2]\n",
            " [3 4]]\n",
            "[[2 4]\n",
            " [6 8]]\n"
          ]
        }
      ]
    },
    {
      "cell_type": "code",
      "source": [
        "# split to 2 arrays column wise\n",
        "hsplit1, hsplit2 = np.hsplit(vstacked, 2)\n",
        "print(hsplit1)\n",
        "print(hsplit2)"
      ],
      "metadata": {
        "outputId": "fc8f1e1b-025c-45e3-bbb9-2b7f6a121513",
        "colab": {
          "base_uri": "https://localhost:8080/"
        },
        "id": "bYLRgBHWbt3e"
      },
      "execution_count": 195,
      "outputs": [
        {
          "output_type": "stream",
          "name": "stdout",
          "text": [
            "[[1]\n",
            " [3]\n",
            " [2]\n",
            " [6]]\n",
            "[[2]\n",
            " [4]\n",
            " [4]\n",
            " [8]]\n"
          ]
        }
      ]
    },
    {
      "cell_type": "markdown",
      "source": [
        "## 2.3. Exercises: vector dot product\n",
        "\n",
        "Task: Calculate the dot product of vector `(1, 2, 3)` with itself.\n",
        "\n",
        "The following exercises are meant to be completed step by step. Upon successful completion of all steps, the last cell should execute without any `AssertionError` or the prompt \"Remove this line after filling in your own code\"."
      ],
      "metadata": {
        "id": "bRa5jb9TVUIw"
      }
    },
    {
      "cell_type": "markdown",
      "source": [
        "### Step 1. \n",
        "\n",
        "Represent vector `(1, 2, 3)` as a 1-d NumPy array of shape (3, ) and store in variable `a`:"
      ],
      "metadata": {
        "id": "YyjvJgyRghEX"
      }
    },
    {
      "cell_type": "code",
      "source": [
        "%%script echo Remove this line after filling in your own code\n",
        "# hint: use np.array or np.arange\n",
        "# Your code here\n",
        "\n",
        "# === Do not modify code below ===\n",
        "assert a.shape == (3, )\n",
        "assert a[0] == 1\n",
        "assert a[1] == 2"
      ],
      "metadata": {
        "colab": {
          "base_uri": "https://localhost:8080/"
        },
        "id": "KdcSu4SJWTll",
        "outputId": "ebceb024-d521-4c6f-e168-fe48e25b03ca"
      },
      "execution_count": 196,
      "outputs": [
        {
          "output_type": "stream",
          "name": "stdout",
          "text": [
            "Remove this line after filling in your own code\n"
          ]
        }
      ]
    },
    {
      "cell_type": "markdown",
      "source": [
        "### Step 2. \n",
        "\n",
        "Implement the dot product calculation and store the result in variable `result`:"
      ],
      "metadata": {
        "id": "-t3g0-1AXHk3"
      }
    },
    {
      "cell_type": "code",
      "source": [
        "%%script echo Remove this line after filling in your own code\n",
        "# hint: use tranpose or reshap, then sum or np.sum\n",
        "# Your code here\n",
        "\n",
        "# === Do not modify code below ===\n",
        "assert result == 14\n"
      ],
      "metadata": {
        "colab": {
          "base_uri": "https://localhost:8080/"
        },
        "id": "OxuuW5yRWAmZ",
        "outputId": "fa119502-138a-43e3-e24e-90591f471ebe"
      },
      "execution_count": 197,
      "outputs": [
        {
          "output_type": "stream",
          "name": "stdout",
          "text": [
            "Remove this line after filling in your own code\n"
          ]
        }
      ]
    },
    {
      "cell_type": "markdown",
      "source": [
        "## 2.4. Universal functions\n",
        "\n",
        "In NumPy, universal functions (`ufunc`) are functions operate element-wise on an array, producing an array as output.\n",
        "\n",
        "Here are some examples:\n",
        "\n",
        "<p><a href=\"https://numpy.org/doc/stable/reference/generated/numpy.all.html#numpy.all\" title=\"numpy.all\"><code class=\"xref py py-obj docutils literal notranslate\"><span class=\"pre\">all</span></code></a>,\n",
        "<a href=\"https://numpy.org/doc/stable/reference/generated/numpy.any.html#numpy.any\" title=\"numpy.any\"><code class=\"xref py py-obj docutils literal notranslate\"><span class=\"pre\">any</span></code></a>,\n",
        "<a href=\"https://numpy.org/doc/stable/reference/generated/numpy.apply_along_axis.html#numpy.apply_along_axis\" title=\"numpy.apply_along_axis\"><code class=\"xref py py-obj docutils literal notranslate\"><span class=\"pre\">apply_along_axis</span></code></a>,\n",
        "<a href=\"https://numpy.org/doc/stable/reference/generated/numpy.argmax.html#numpy.argmax\" title=\"numpy.argmax\"><code class=\"xref py py-obj docutils literal notranslate\"><span class=\"pre\">argmax</span></code></a>,\n",
        "<a href=\"https://numpy.org/doc/stable/reference/generated/numpy.argmin.html#numpy.argmin\" title=\"numpy.argmin\"><code class=\"xref py py-obj docutils literal notranslate\"><span class=\"pre\">argmin</span></code></a>,\n",
        "<a href=\"https://numpy.org/doc/stable/reference/generated/numpy.argsort.html#numpy.argsort\" title=\"numpy.argsort\"><code class=\"xref py py-obj docutils literal notranslate\"><span class=\"pre\">argsort</span></code></a>,\n",
        "<a href=\"https://numpy.org/doc/stable/reference/generated/numpy.average.html#numpy.average\" title=\"numpy.average\"><code class=\"xref py py-obj docutils literal notranslate\"><span class=\"pre\">average</span></code></a>,\n",
        "<a href=\"https://numpy.org/doc/stable/reference/generated/numpy.bincount.html#numpy.bincount\" title=\"numpy.bincount\"><code class=\"xref py py-obj docutils literal notranslate\"><span class=\"pre\">bincount</span></code></a>,\n",
        "<a href=\"https://numpy.org/doc/stable/reference/generated/numpy.ceil.html#numpy.ceil\" title=\"numpy.ceil\"><code class=\"xref py py-obj docutils literal notranslate\"><span class=\"pre\">ceil</span></code></a>,\n",
        "<a href=\"https://numpy.org/doc/stable/reference/generated/numpy.clip.html#numpy.clip\" title=\"numpy.clip\"><code class=\"xref py py-obj docutils literal notranslate\"><span class=\"pre\">clip</span></code></a>,\n",
        "<a href=\"https://numpy.org/doc/stable/reference/generated/numpy.conj.html#numpy.conj\" title=\"numpy.conj\"><code class=\"xref py py-obj docutils literal notranslate\"><span class=\"pre\">conj</span></code></a>,\n",
        "<a href=\"https://numpy.org/doc/stable/reference/generated/numpy.corrcoef.html#numpy.corrcoef\" title=\"numpy.corrcoef\"><code class=\"xref py py-obj docutils literal notranslate\"><span class=\"pre\">corrcoef</span></code></a>,\n",
        "<a href=\"https://numpy.org/doc/stable/reference/generated/numpy.cov.html#numpy.cov\" title=\"numpy.cov\"><code class=\"xref py py-obj docutils literal notranslate\"><span class=\"pre\">cov</span></code></a>,\n",
        "<a href=\"https://numpy.org/doc/stable/reference/generated/numpy.cross.html#numpy.cross\" title=\"numpy.cross\"><code class=\"xref py py-obj docutils literal notranslate\"><span class=\"pre\">cross</span></code></a>,\n",
        "<a href=\"https://numpy.org/doc/stable/reference/generated/numpy.cumprod.html#numpy.cumprod\" title=\"numpy.cumprod\"><code class=\"xref py py-obj docutils literal notranslate\"><span class=\"pre\">cumprod</span></code></a>,\n",
        "<a href=\"https://numpy.org/doc/stable/reference/generated/numpy.cumsum.html#numpy.cumsum\" title=\"numpy.cumsum\"><code class=\"xref py py-obj docutils literal notranslate\"><span class=\"pre\">cumsum</span></code></a>,\n",
        "<a href=\"https://numpy.org/doc/stable/reference/generated/numpy.diff.html#numpy.diff\" title=\"numpy.diff\"><code class=\"xref py py-obj docutils literal notranslate\"><span class=\"pre\">diff</span></code></a>,\n",
        "<a href=\"https://numpy.org/doc/stable/reference/generated/numpy.floor.html#numpy.floor\" title=\"numpy.floor\"><code class=\"xref py py-obj docutils literal notranslate\"><span class=\"pre\">floor</span></code></a>,\n",
        "<a href=\"https://numpy.org/doc/stable/reference/generated/numpy.inner.html#numpy.inner\" title=\"numpy.inner\"><code class=\"xref py py-obj docutils literal notranslate\"><span class=\"pre\">inner</span></code></a>,\n",
        "<a href=\"https://numpy.org/doc/stable/reference/generated/numpy.invert.html#numpy.invert\" title=\"numpy.invert\"><code class=\"xref py py-obj docutils literal notranslate\"><span class=\"pre\">invert</span></code></a>,\n",
        "<a href=\"https://numpy.org/doc/stable/reference/generated/numpy.lexsort.html#numpy.lexsort\" title=\"numpy.lexsort\"><code class=\"xref py py-obj docutils literal notranslate\"><span class=\"pre\">lexsort</span></code></a>,\n",
        "<a class=\"reference external\" href=\"https://docs.python.org/3/library/functions.html#max\" title=\"(in Python v3.10)\"><code class=\"xref py py-obj docutils literal notranslate\"><span class=\"pre\">max</span></code></a>,\n",
        "<a href=\"https://numpy.org/doc/stable/reference/generated/numpy.maximum.html#numpy.maximum\" title=\"numpy.maximum\"><code class=\"xref py py-obj docutils literal notranslate\"><span class=\"pre\">maximum</span></code></a>,\n",
        "<a href=\"https://numpy.org/doc/stable/reference/generated/numpy.mean.html#numpy.mean\" title=\"numpy.mean\"><code class=\"xref py py-obj docutils literal notranslate\"><span class=\"pre\">mean</span></code></a>,\n",
        "<a href=\"https://numpy.org/doc/stable/reference/generated/numpy.median.html#numpy.median\" title=\"numpy.median\"><code class=\"xref py py-obj docutils literal notranslate\"><span class=\"pre\">median</span></code></a>,\n",
        "<a class=\"reference external\" href=\"https://docs.python.org/3/library/functions.html#min\" title=\"(in Python v3.10)\"><code class=\"xref py py-obj docutils literal notranslate\"><span class=\"pre\">min</span></code></a>,\n",
        "<a href=\"https://numpy.org/doc/stable/reference/generated/numpy.minimum.html#numpy.minimum\" title=\"numpy.minimum\"><code class=\"xref py py-obj docutils literal notranslate\"><span class=\"pre\">minimum</span></code></a>,\n",
        "<a href=\"https://numpy.org/doc/stable/reference/generated/numpy.nonzero.html#numpy.nonzero\" title=\"numpy.nonzero\"><code class=\"xref py py-obj docutils literal notranslate\"><span class=\"pre\">nonzero</span></code></a>,\n",
        "<a href=\"https://numpy.org/doc/stable/reference/generated/numpy.outer.html#numpy.outer\" title=\"numpy.outer\"><code class=\"xref py py-obj docutils literal notranslate\"><span class=\"pre\">outer</span></code></a>,\n",
        "<a href=\"https://numpy.org/doc/stable/reference/generated/numpy.prod.html#numpy.prod\" title=\"numpy.prod\"><code class=\"xref py py-obj docutils literal notranslate\"><span class=\"pre\">prod</span></code></a>,\n",
        "<a class=\"reference external\" href=\"https://docs.python.org/3/library/re.html#module-re\" title=\"(in Python v3.10)\"><code class=\"xref py py-obj docutils literal notranslate\"><span class=\"pre\">re</span></code></a>,\n",
        "<a class=\"reference external\" href=\"https://docs.python.org/3/library/functions.html#round\" title=\"(in Python v3.10)\"><code class=\"xref py py-obj docutils literal notranslate\"><span class=\"pre\">round</span></code></a>,\n",
        "<a href=\"https://numpy.org/doc/stable/reference/generated/numpy.sort.html#numpy.sort\" title=\"numpy.sort\"><code class=\"xref py py-obj docutils literal notranslate\"><span class=\"pre\">sort</span></code></a>,\n",
        "<a href=\"https://numpy.org/doc/stable/reference/generated/numpy.std.html#numpy.std\" title=\"numpy.std\"><code class=\"xref py py-obj docutils literal notranslate\"><span class=\"pre\">std</span></code></a>,\n",
        "<a href=\"https://numpy.org/doc/stable/reference/generated/numpy.sum.html#numpy.sum\" title=\"numpy.sum\"><code class=\"xref py py-obj docutils literal notranslate\"><span class=\"pre\">sum</span></code></a>,\n",
        "<a href=\"https://numpy.org/doc/stable/reference/generated/numpy.trace.html#numpy.trace\" title=\"numpy.trace\"><code class=\"xref py py-obj docutils literal notranslate\"><span class=\"pre\">trace</span></code></a>,\n",
        "<a href=\"https://numpy.org/doc/stable/reference/generated/numpy.transpose.html#numpy.transpose\" title=\"numpy.transpose\"><code class=\"xref py py-obj docutils literal notranslate\"><span class=\"pre\">transpose</span></code></a>,\n",
        "<a href=\"https://numpy.org/doc/stable/reference/generated/numpy.var.html#numpy.var\" title=\"numpy.var\"><code class=\"xref py py-obj docutils literal notranslate\"><span class=\"pre\">var</span></code></a>,\n",
        "<a href=\"https://numpy.org/doc/stable/reference/generated/numpy.vdot.html#numpy.vdot\" title=\"numpy.vdot\"><code class=\"xref py py-obj docutils literal notranslate\"><span class=\"pre\">vdot</span></code></a>,\n",
        "<a href=\"https://numpy.org/doc/stable/reference/generated/numpy.vectorize.html#numpy.vectorize\" title=\"numpy.vectorize\"><code class=\"xref py py-obj docutils literal notranslate\"><span class=\"pre\">vectorize</span></code></a>,\n",
        "<a href=\"https://numpy.org/doc/stable/reference/generated/numpy.where.html#numpy.where\" title=\"numpy.where\"><code class=\"xref py py-obj docutils literal notranslate\"><span class=\"pre\">where</span></code></a></p>"
      ],
      "metadata": {
        "id": "vR6MATkZsBM0"
      }
    },
    {
      "cell_type": "markdown",
      "source": [
        "Most universal functions can operate not only on NumPy arrays (ndarray), but also on Python lists, arrays or any object convertible to a NumPy array:"
      ],
      "metadata": {
        "id": "WOkVZ-lcUMLx"
      }
    },
    {
      "cell_type": "code",
      "source": [
        "# cross product of two vectors\n",
        "np.cross([3, 0, 2], [-1, 4, 2])"
      ],
      "metadata": {
        "colab": {
          "base_uri": "https://localhost:8080/"
        },
        "id": "3knRYtgktiHS",
        "outputId": "bfa0df04-9dd4-4da8-9b39-4768d39917fe"
      },
      "execution_count": 198,
      "outputs": [
        {
          "output_type": "execute_result",
          "data": {
            "text/plain": [
              "array([-8, -8, 12])"
            ]
          },
          "metadata": {},
          "execution_count": 198
        }
      ]
    },
    {
      "cell_type": "markdown",
      "source": [
        "More usage examples of universal functions:"
      ],
      "metadata": {
        "id": "48RMs7exURVC"
      }
    },
    {
      "cell_type": "code",
      "source": [
        "# reverse an array\n",
        "np.flip(one_d_array)"
      ],
      "metadata": {
        "colab": {
          "base_uri": "https://localhost:8080/"
        },
        "id": "arO3xFKAtFDC",
        "outputId": "96d1d5c0-dd92-47fd-d249-d7f873ee1fe9"
      },
      "execution_count": 199,
      "outputs": [
        {
          "output_type": "execute_result",
          "data": {
            "text/plain": [
              "array([3, 2, 1, 0])"
            ]
          },
          "metadata": {},
          "execution_count": 199
        }
      ]
    },
    {
      "cell_type": "code",
      "source": [
        "# sort an array, default ascending\n",
        "np.sort(np.random.random(5))"
      ],
      "metadata": {
        "colab": {
          "base_uri": "https://localhost:8080/"
        },
        "id": "RsSkShcAtRzs",
        "outputId": "43379761-71b9-4339-8a10-113fec7a4a06"
      },
      "execution_count": 200,
      "outputs": [
        {
          "output_type": "execute_result",
          "data": {
            "text/plain": [
              "array([0.02573953, 0.60921338, 0.66081825, 0.81745022, 0.87054166])"
            ]
          },
          "metadata": {},
          "execution_count": 200
        }
      ]
    },
    {
      "cell_type": "code",
      "source": [
        "# get the index of the max element\n",
        "one_to_nine = np.arange(1, 10)\n",
        "np.argmax(one_to_nine)"
      ],
      "metadata": {
        "colab": {
          "base_uri": "https://localhost:8080/"
        },
        "id": "rs7oE7BewIRT",
        "outputId": "c102bf5d-6a9a-4743-a37b-1beb685d4c50"
      },
      "execution_count": 201,
      "outputs": [
        {
          "output_type": "execute_result",
          "data": {
            "text/plain": [
              "8"
            ]
          },
          "metadata": {},
          "execution_count": 201
        }
      ]
    },
    {
      "cell_type": "code",
      "source": [
        "# look up the element by index\n",
        "one_to_nine[np.argmax(one_to_nine)]"
      ],
      "metadata": {
        "colab": {
          "base_uri": "https://localhost:8080/"
        },
        "id": "J8pmanFxwSls",
        "outputId": "a98efac0-6c62-4758-d01d-8c6e72186b3e"
      },
      "execution_count": 202,
      "outputs": [
        {
          "output_type": "execute_result",
          "data": {
            "text/plain": [
              "9"
            ]
          },
          "metadata": {},
          "execution_count": 202
        }
      ]
    },
    {
      "cell_type": "code",
      "source": [
        "# check if any of the element evaluates to true\n",
        "np.any([False, 0])"
      ],
      "metadata": {
        "colab": {
          "base_uri": "https://localhost:8080/"
        },
        "id": "e13C-wxmyHQH",
        "outputId": "6d136b4c-c197-42da-be95-479626b0a99d"
      },
      "execution_count": 203,
      "outputs": [
        {
          "output_type": "execute_result",
          "data": {
            "text/plain": [
              "False"
            ]
          },
          "metadata": {},
          "execution_count": 203
        }
      ]
    },
    {
      "cell_type": "code",
      "source": [
        "# check if all of the elements evaluate to true\n",
        "np.all([True, 3, np.nan])"
      ],
      "metadata": {
        "colab": {
          "base_uri": "https://localhost:8080/"
        },
        "id": "_iT6tGr5ykCz",
        "outputId": "ab0aea49-1e21-4b4f-ad41-4b1ca61b22ac"
      },
      "execution_count": 204,
      "outputs": [
        {
          "output_type": "execute_result",
          "data": {
            "text/plain": [
              "True"
            ]
          },
          "metadata": {},
          "execution_count": 204
        }
      ]
    },
    {
      "cell_type": "code",
      "source": [
        "# pair-wise element comparison\n",
        "np.greater([1, 2, 3], [1, 2, 1])"
      ],
      "metadata": {
        "colab": {
          "base_uri": "https://localhost:8080/"
        },
        "id": "j7SpyHJUzxQX",
        "outputId": "bd6f0c3a-77d3-460a-c2b0-6289ac1d82ab"
      },
      "execution_count": 205,
      "outputs": [
        {
          "output_type": "execute_result",
          "data": {
            "text/plain": [
              "array([False, False,  True])"
            ]
          },
          "metadata": {},
          "execution_count": 205
        }
      ]
    },
    {
      "cell_type": "code",
      "source": [
        "# Does any of the pair-wise comparison evaluate to true?\n",
        "np.any(np.greater([1, 2, 3], [1, 2, 1]))"
      ],
      "metadata": {
        "colab": {
          "base_uri": "https://localhost:8080/"
        },
        "id": "TaOUacao0fU4",
        "outputId": "87f4bf48-1778-4f15-dca3-83724bbd52e6"
      },
      "execution_count": 206,
      "outputs": [
        {
          "output_type": "execute_result",
          "data": {
            "text/plain": [
              "True"
            ]
          },
          "metadata": {},
          "execution_count": 206
        }
      ]
    },
    {
      "cell_type": "code",
      "source": [
        "# select the indexes of elements that evaluate to true\n",
        "a = np.array([1, 2, 3, 4])\n",
        "np.where(a % 2) # find odd numbers"
      ],
      "metadata": {
        "colab": {
          "base_uri": "https://localhost:8080/"
        },
        "id": "Auo883i_0m_d",
        "outputId": "f24a9861-a1a6-414e-eee5-cb6ec059e705"
      },
      "execution_count": 207,
      "outputs": [
        {
          "output_type": "execute_result",
          "data": {
            "text/plain": [
              "(array([0, 2]),)"
            ]
          },
          "metadata": {},
          "execution_count": 207
        }
      ]
    },
    {
      "cell_type": "code",
      "source": [
        "# select the elements that evaluate to true\n",
        "np.where(a % 2, a, np.nan)"
      ],
      "metadata": {
        "colab": {
          "base_uri": "https://localhost:8080/"
        },
        "id": "ImxrxvdG1_tb",
        "outputId": "337dacf2-52b1-4e90-e8d2-8e09df4de883"
      },
      "execution_count": 208,
      "outputs": [
        {
          "output_type": "execute_result",
          "data": {
            "text/plain": [
              "array([ 1., nan,  3., nan])"
            ]
          },
          "metadata": {},
          "execution_count": 208
        }
      ]
    },
    {
      "cell_type": "markdown",
      "source": [
        "## 2.5. Exercises: vector dot product - the easy way\n",
        "\n",
        "**Task**: Calculate the dot product of vector `(1, 2, 3)` with itself **using one of NumPy's universal functions**. Store the result in variable `dot_result`:"
      ],
      "metadata": {
        "id": "HfhHrQFcdLRr"
      }
    },
    {
      "cell_type": "code",
      "source": [
        "%%script echo Remove this line after filling in your own code\n",
        "# Your code here\n",
        "\n",
        "# === Do not modify code below ===\n",
        "assert dot_result == 14"
      ],
      "metadata": {
        "colab": {
          "base_uri": "https://localhost:8080/"
        },
        "id": "HET4DMM4d51a",
        "outputId": "12949df4-3cf2-41e3-9894-8a55d679517c"
      },
      "execution_count": 209,
      "outputs": [
        {
          "output_type": "stream",
          "name": "stdout",
          "text": [
            "Remove this line after filling in your own code\n"
          ]
        }
      ]
    },
    {
      "cell_type": "markdown",
      "source": [
        "# 3.&nbsp;Pandas\n",
        "\n",
        "Datasets we often work with come in tabular form – think Excel/Google spreadsheets – and with mixed data types, some numerical, some categorical, some textual. Before we can perform fancy mathematical operations and meaningful analysis on such data using NumPy and other python libraries, we usually need to understand and preprocess the data first. This process involves operations such as cleaning, reshaping, filtering, and subsetting. This is where Pandas comes in.\n",
        "\n",
        "Aside: Why is such a data analysis library named Pandas? Apparently the name is derived from the term \"panel data\".\n",
        "\n",
        "Like `ndarray` is the basic building block of NumPy, `Series` and `DataFrame` are the basic building blocks of Pandas. "
      ],
      "metadata": {
        "id": "apd7GljeDz59"
      }
    },
    {
      "cell_type": "markdown",
      "source": [
        "## 3.1. Series\n",
        "\n",
        "`Series` is a one-dimensional **labeled** array capable of holding **any data type**. The axis labels are collectively referred to as the index. "
      ],
      "metadata": {
        "id": "DSpeS492gLEW"
      }
    },
    {
      "cell_type": "markdown",
      "source": [
        "### Can I create Series from ndarrays?"
      ],
      "metadata": {
        "id": "ec5MCn0bg-EP"
      }
    },
    {
      "cell_type": "code",
      "source": [
        "import pandas as pd\n",
        "import numpy as np\n",
        "\n",
        "# specify the labels through the `index` argument\n",
        "labelled_series = pd.Series(np.arange(1, 4), index=[\"r1\", \"r2\", \"r3\"])\n",
        "labelled_series"
      ],
      "metadata": {
        "colab": {
          "base_uri": "https://localhost:8080/"
        },
        "id": "ZIWcxaKfhanx",
        "outputId": "86ff519b-99da-47e5-bfeb-7776676bd4fa"
      },
      "execution_count": 210,
      "outputs": [
        {
          "output_type": "execute_result",
          "data": {
            "text/plain": [
              "r1    1\n",
              "r2    2\n",
              "r3    3\n",
              "dtype: int64"
            ]
          },
          "metadata": {},
          "execution_count": 210
        }
      ]
    },
    {
      "cell_type": "code",
      "source": [
        "# by default, integer sequence starting from 0 is used as labels\n",
        "default_series = pd.Series(np.arange(1, 4))\n",
        "default_series"
      ],
      "metadata": {
        "colab": {
          "base_uri": "https://localhost:8080/"
        },
        "id": "bbbahkW1h2Fg",
        "outputId": "e5019033-cb35-4ff3-c6cf-a769e1f7e836"
      },
      "execution_count": 211,
      "outputs": [
        {
          "output_type": "execute_result",
          "data": {
            "text/plain": [
              "0    1\n",
              "1    2\n",
              "2    3\n",
              "dtype: int64"
            ]
          },
          "metadata": {},
          "execution_count": 211
        }
      ]
    },
    {
      "cell_type": "code",
      "source": [
        "# Individual elements can be looked up using labels\n",
        "labelled_series[\"r2\"]"
      ],
      "metadata": {
        "colab": {
          "base_uri": "https://localhost:8080/"
        },
        "id": "15h1ZumAip1f",
        "outputId": "edfb39d5-b040-4bd5-cad1-268a2dee5bce"
      },
      "execution_count": 212,
      "outputs": [
        {
          "output_type": "execute_result",
          "data": {
            "text/plain": [
              "2"
            ]
          },
          "metadata": {},
          "execution_count": 212
        }
      ]
    },
    {
      "cell_type": "code",
      "source": [
        "default_series[2]"
      ],
      "metadata": {
        "colab": {
          "base_uri": "https://localhost:8080/"
        },
        "id": "peq4eUTujAI-",
        "outputId": "41b02a62-f5d5-46d0-b7d7-a23321a852d4"
      },
      "execution_count": 213,
      "outputs": [
        {
          "output_type": "execute_result",
          "data": {
            "text/plain": [
              "3"
            ]
          },
          "metadata": {},
          "execution_count": 213
        }
      ]
    },
    {
      "cell_type": "markdown",
      "source": [
        "### Can I recover the ndarray from a series?"
      ],
      "metadata": {
        "id": "7Ne5U5vdjxPU"
      }
    },
    {
      "cell_type": "code",
      "source": [
        "labelled_series.to_numpy()"
      ],
      "metadata": {
        "colab": {
          "base_uri": "https://localhost:8080/"
        },
        "id": "PtYrA1CSjrJc",
        "outputId": "2489b540-f0d5-4eec-f018-253af1ed4efb"
      },
      "execution_count": 214,
      "outputs": [
        {
          "output_type": "execute_result",
          "data": {
            "text/plain": [
              "array([1, 2, 3])"
            ]
          },
          "metadata": {},
          "execution_count": 214
        }
      ]
    },
    {
      "cell_type": "code",
      "source": [
        "# alternatively\n",
        "labelled_series.values"
      ],
      "metadata": {
        "colab": {
          "base_uri": "https://localhost:8080/"
        },
        "id": "kF-8b0AloO1h",
        "outputId": "435bf33a-5f9c-414c-c940-8680536dac00"
      },
      "execution_count": 215,
      "outputs": [
        {
          "output_type": "execute_result",
          "data": {
            "text/plain": [
              "array([1, 2, 3])"
            ]
          },
          "metadata": {},
          "execution_count": 215
        }
      ]
    },
    {
      "cell_type": "markdown",
      "source": [
        "## 3.2. DataFrame\n",
        "\n",
        "`DataFrame` is a 2-dimensional **labeled** data structure with **columns of potentially different types**. You can think of it like a spreadsheet or SQL table, or a dict of Series objects. It is generally the most commonly used pandas object."
      ],
      "metadata": {
        "id": "Yj-JuBEuhhvG"
      }
    },
    {
      "cell_type": "markdown",
      "source": [
        "### 3.2.1. Creating DataFrames\n",
        "\n",
        "There are many ways to create a `DataFrame`. Let's look at some examples with the data types we are already familiar with."
      ],
      "metadata": {
        "id": "wCQIFZbgLKTl"
      }
    },
    {
      "cell_type": "markdown",
      "source": [
        "#### Can I create a DataFrame from Series?"
      ],
      "metadata": {
        "id": "kec7XEzdiTC5"
      }
    },
    {
      "cell_type": "code",
      "source": [
        "df_from_series = pd.DataFrame({\"c1\": labelled_series, \"c2\": labelled_series * 2})\n",
        "df_from_series"
      ],
      "metadata": {
        "colab": {
          "base_uri": "https://localhost:8080/",
          "height": 143
        },
        "id": "QcAkiwxGib61",
        "outputId": "58bda2a0-836c-4e33-c38a-1d83f2d249c7"
      },
      "execution_count": 216,
      "outputs": [
        {
          "output_type": "execute_result",
          "data": {
            "text/plain": [
              "    c1  c2\n",
              "r1   1   2\n",
              "r2   2   4\n",
              "r3   3   6"
            ],
            "text/html": [
              "\n",
              "  <div id=\"df-18956862-5bf3-4cda-85cc-614e407e5ed8\">\n",
              "    <div class=\"colab-df-container\">\n",
              "      <div>\n",
              "<style scoped>\n",
              "    .dataframe tbody tr th:only-of-type {\n",
              "        vertical-align: middle;\n",
              "    }\n",
              "\n",
              "    .dataframe tbody tr th {\n",
              "        vertical-align: top;\n",
              "    }\n",
              "\n",
              "    .dataframe thead th {\n",
              "        text-align: right;\n",
              "    }\n",
              "</style>\n",
              "<table border=\"1\" class=\"dataframe\">\n",
              "  <thead>\n",
              "    <tr style=\"text-align: right;\">\n",
              "      <th></th>\n",
              "      <th>c1</th>\n",
              "      <th>c2</th>\n",
              "    </tr>\n",
              "  </thead>\n",
              "  <tbody>\n",
              "    <tr>\n",
              "      <th>r1</th>\n",
              "      <td>1</td>\n",
              "      <td>2</td>\n",
              "    </tr>\n",
              "    <tr>\n",
              "      <th>r2</th>\n",
              "      <td>2</td>\n",
              "      <td>4</td>\n",
              "    </tr>\n",
              "    <tr>\n",
              "      <th>r3</th>\n",
              "      <td>3</td>\n",
              "      <td>6</td>\n",
              "    </tr>\n",
              "  </tbody>\n",
              "</table>\n",
              "</div>\n",
              "      <button class=\"colab-df-convert\" onclick=\"convertToInteractive('df-18956862-5bf3-4cda-85cc-614e407e5ed8')\"\n",
              "              title=\"Convert this dataframe to an interactive table.\"\n",
              "              style=\"display:none;\">\n",
              "        \n",
              "  <svg xmlns=\"http://www.w3.org/2000/svg\" height=\"24px\"viewBox=\"0 0 24 24\"\n",
              "       width=\"24px\">\n",
              "    <path d=\"M0 0h24v24H0V0z\" fill=\"none\"/>\n",
              "    <path d=\"M18.56 5.44l.94 2.06.94-2.06 2.06-.94-2.06-.94-.94-2.06-.94 2.06-2.06.94zm-11 1L8.5 8.5l.94-2.06 2.06-.94-2.06-.94L8.5 2.5l-.94 2.06-2.06.94zm10 10l.94 2.06.94-2.06 2.06-.94-2.06-.94-.94-2.06-.94 2.06-2.06.94z\"/><path d=\"M17.41 7.96l-1.37-1.37c-.4-.4-.92-.59-1.43-.59-.52 0-1.04.2-1.43.59L10.3 9.45l-7.72 7.72c-.78.78-.78 2.05 0 2.83L4 21.41c.39.39.9.59 1.41.59.51 0 1.02-.2 1.41-.59l7.78-7.78 2.81-2.81c.8-.78.8-2.07 0-2.86zM5.41 20L4 18.59l7.72-7.72 1.47 1.35L5.41 20z\"/>\n",
              "  </svg>\n",
              "      </button>\n",
              "      \n",
              "  <style>\n",
              "    .colab-df-container {\n",
              "      display:flex;\n",
              "      flex-wrap:wrap;\n",
              "      gap: 12px;\n",
              "    }\n",
              "\n",
              "    .colab-df-convert {\n",
              "      background-color: #E8F0FE;\n",
              "      border: none;\n",
              "      border-radius: 50%;\n",
              "      cursor: pointer;\n",
              "      display: none;\n",
              "      fill: #1967D2;\n",
              "      height: 32px;\n",
              "      padding: 0 0 0 0;\n",
              "      width: 32px;\n",
              "    }\n",
              "\n",
              "    .colab-df-convert:hover {\n",
              "      background-color: #E2EBFA;\n",
              "      box-shadow: 0px 1px 2px rgba(60, 64, 67, 0.3), 0px 1px 3px 1px rgba(60, 64, 67, 0.15);\n",
              "      fill: #174EA6;\n",
              "    }\n",
              "\n",
              "    [theme=dark] .colab-df-convert {\n",
              "      background-color: #3B4455;\n",
              "      fill: #D2E3FC;\n",
              "    }\n",
              "\n",
              "    [theme=dark] .colab-df-convert:hover {\n",
              "      background-color: #434B5C;\n",
              "      box-shadow: 0px 1px 3px 1px rgba(0, 0, 0, 0.15);\n",
              "      filter: drop-shadow(0px 1px 2px rgba(0, 0, 0, 0.3));\n",
              "      fill: #FFFFFF;\n",
              "    }\n",
              "  </style>\n",
              "\n",
              "      <script>\n",
              "        const buttonEl =\n",
              "          document.querySelector('#df-18956862-5bf3-4cda-85cc-614e407e5ed8 button.colab-df-convert');\n",
              "        buttonEl.style.display =\n",
              "          google.colab.kernel.accessAllowed ? 'block' : 'none';\n",
              "\n",
              "        async function convertToInteractive(key) {\n",
              "          const element = document.querySelector('#df-18956862-5bf3-4cda-85cc-614e407e5ed8');\n",
              "          const dataTable =\n",
              "            await google.colab.kernel.invokeFunction('convertToInteractive',\n",
              "                                                     [key], {});\n",
              "          if (!dataTable) return;\n",
              "\n",
              "          const docLinkHtml = 'Like what you see? Visit the ' +\n",
              "            '<a target=\"_blank\" href=https://colab.research.google.com/notebooks/data_table.ipynb>data table notebook</a>'\n",
              "            + ' to learn more about interactive tables.';\n",
              "          element.innerHTML = '';\n",
              "          dataTable['output_type'] = 'display_data';\n",
              "          await google.colab.output.renderOutput(dataTable, element);\n",
              "          const docLink = document.createElement('div');\n",
              "          docLink.innerHTML = docLinkHtml;\n",
              "          element.appendChild(docLink);\n",
              "        }\n",
              "      </script>\n",
              "    </div>\n",
              "  </div>\n",
              "  "
            ]
          },
          "metadata": {},
          "execution_count": 216
        }
      ]
    },
    {
      "cell_type": "code",
      "source": [
        "df_from_series.columns"
      ],
      "metadata": {
        "colab": {
          "base_uri": "https://localhost:8080/"
        },
        "id": "NOQ_nHiSkukP",
        "outputId": "61fb1889-69ad-4aea-e1a5-b627be6d436c"
      },
      "execution_count": 217,
      "outputs": [
        {
          "output_type": "execute_result",
          "data": {
            "text/plain": [
              "Index(['c1', 'c2'], dtype='object')"
            ]
          },
          "metadata": {},
          "execution_count": 217
        }
      ]
    },
    {
      "cell_type": "code",
      "source": [
        "df_from_series.index"
      ],
      "metadata": {
        "colab": {
          "base_uri": "https://localhost:8080/"
        },
        "id": "NFENQGSSlm8h",
        "outputId": "23d42aff-9e83-415e-cd4a-427ee2e57937"
      },
      "execution_count": 218,
      "outputs": [
        {
          "output_type": "execute_result",
          "data": {
            "text/plain": [
              "Index(['r1', 'r2', 'r3'], dtype='object')"
            ]
          },
          "metadata": {},
          "execution_count": 218
        }
      ]
    },
    {
      "cell_type": "markdown",
      "source": [
        "#### Can I create a DataFrame from an ndarray?"
      ],
      "metadata": {
        "id": "tOnURc2ylued"
      }
    },
    {
      "cell_type": "code",
      "source": [
        "raw_values = np.arange(1, 7).reshape(2, -1)\n",
        "raw_values"
      ],
      "metadata": {
        "colab": {
          "base_uri": "https://localhost:8080/"
        },
        "id": "QDDv3JfVmGKg",
        "outputId": "b632a380-4eba-48b2-eeb8-0334dd068d45"
      },
      "execution_count": 219,
      "outputs": [
        {
          "output_type": "execute_result",
          "data": {
            "text/plain": [
              "array([[1, 2, 3],\n",
              "       [4, 5, 6]])"
            ]
          },
          "metadata": {},
          "execution_count": 219
        }
      ]
    },
    {
      "cell_type": "code",
      "source": [
        "df_from_ndarray = pd.DataFrame(raw_values, columns=['A', 'B', 'C'])\n",
        "df_from_ndarray"
      ],
      "metadata": {
        "colab": {
          "base_uri": "https://localhost:8080/",
          "height": 112
        },
        "id": "9jAZaBOJloiV",
        "outputId": "6057466c-1665-4e8a-95a9-bc6f58d6c5f4"
      },
      "execution_count": 220,
      "outputs": [
        {
          "output_type": "execute_result",
          "data": {
            "text/plain": [
              "   A  B  C\n",
              "0  1  2  3\n",
              "1  4  5  6"
            ],
            "text/html": [
              "\n",
              "  <div id=\"df-1a4c6c76-c4f6-42f1-8eb3-3984799b12a2\">\n",
              "    <div class=\"colab-df-container\">\n",
              "      <div>\n",
              "<style scoped>\n",
              "    .dataframe tbody tr th:only-of-type {\n",
              "        vertical-align: middle;\n",
              "    }\n",
              "\n",
              "    .dataframe tbody tr th {\n",
              "        vertical-align: top;\n",
              "    }\n",
              "\n",
              "    .dataframe thead th {\n",
              "        text-align: right;\n",
              "    }\n",
              "</style>\n",
              "<table border=\"1\" class=\"dataframe\">\n",
              "  <thead>\n",
              "    <tr style=\"text-align: right;\">\n",
              "      <th></th>\n",
              "      <th>A</th>\n",
              "      <th>B</th>\n",
              "      <th>C</th>\n",
              "    </tr>\n",
              "  </thead>\n",
              "  <tbody>\n",
              "    <tr>\n",
              "      <th>0</th>\n",
              "      <td>1</td>\n",
              "      <td>2</td>\n",
              "      <td>3</td>\n",
              "    </tr>\n",
              "    <tr>\n",
              "      <th>1</th>\n",
              "      <td>4</td>\n",
              "      <td>5</td>\n",
              "      <td>6</td>\n",
              "    </tr>\n",
              "  </tbody>\n",
              "</table>\n",
              "</div>\n",
              "      <button class=\"colab-df-convert\" onclick=\"convertToInteractive('df-1a4c6c76-c4f6-42f1-8eb3-3984799b12a2')\"\n",
              "              title=\"Convert this dataframe to an interactive table.\"\n",
              "              style=\"display:none;\">\n",
              "        \n",
              "  <svg xmlns=\"http://www.w3.org/2000/svg\" height=\"24px\"viewBox=\"0 0 24 24\"\n",
              "       width=\"24px\">\n",
              "    <path d=\"M0 0h24v24H0V0z\" fill=\"none\"/>\n",
              "    <path d=\"M18.56 5.44l.94 2.06.94-2.06 2.06-.94-2.06-.94-.94-2.06-.94 2.06-2.06.94zm-11 1L8.5 8.5l.94-2.06 2.06-.94-2.06-.94L8.5 2.5l-.94 2.06-2.06.94zm10 10l.94 2.06.94-2.06 2.06-.94-2.06-.94-.94-2.06-.94 2.06-2.06.94z\"/><path d=\"M17.41 7.96l-1.37-1.37c-.4-.4-.92-.59-1.43-.59-.52 0-1.04.2-1.43.59L10.3 9.45l-7.72 7.72c-.78.78-.78 2.05 0 2.83L4 21.41c.39.39.9.59 1.41.59.51 0 1.02-.2 1.41-.59l7.78-7.78 2.81-2.81c.8-.78.8-2.07 0-2.86zM5.41 20L4 18.59l7.72-7.72 1.47 1.35L5.41 20z\"/>\n",
              "  </svg>\n",
              "      </button>\n",
              "      \n",
              "  <style>\n",
              "    .colab-df-container {\n",
              "      display:flex;\n",
              "      flex-wrap:wrap;\n",
              "      gap: 12px;\n",
              "    }\n",
              "\n",
              "    .colab-df-convert {\n",
              "      background-color: #E8F0FE;\n",
              "      border: none;\n",
              "      border-radius: 50%;\n",
              "      cursor: pointer;\n",
              "      display: none;\n",
              "      fill: #1967D2;\n",
              "      height: 32px;\n",
              "      padding: 0 0 0 0;\n",
              "      width: 32px;\n",
              "    }\n",
              "\n",
              "    .colab-df-convert:hover {\n",
              "      background-color: #E2EBFA;\n",
              "      box-shadow: 0px 1px 2px rgba(60, 64, 67, 0.3), 0px 1px 3px 1px rgba(60, 64, 67, 0.15);\n",
              "      fill: #174EA6;\n",
              "    }\n",
              "\n",
              "    [theme=dark] .colab-df-convert {\n",
              "      background-color: #3B4455;\n",
              "      fill: #D2E3FC;\n",
              "    }\n",
              "\n",
              "    [theme=dark] .colab-df-convert:hover {\n",
              "      background-color: #434B5C;\n",
              "      box-shadow: 0px 1px 3px 1px rgba(0, 0, 0, 0.15);\n",
              "      filter: drop-shadow(0px 1px 2px rgba(0, 0, 0, 0.3));\n",
              "      fill: #FFFFFF;\n",
              "    }\n",
              "  </style>\n",
              "\n",
              "      <script>\n",
              "        const buttonEl =\n",
              "          document.querySelector('#df-1a4c6c76-c4f6-42f1-8eb3-3984799b12a2 button.colab-df-convert');\n",
              "        buttonEl.style.display =\n",
              "          google.colab.kernel.accessAllowed ? 'block' : 'none';\n",
              "\n",
              "        async function convertToInteractive(key) {\n",
              "          const element = document.querySelector('#df-1a4c6c76-c4f6-42f1-8eb3-3984799b12a2');\n",
              "          const dataTable =\n",
              "            await google.colab.kernel.invokeFunction('convertToInteractive',\n",
              "                                                     [key], {});\n",
              "          if (!dataTable) return;\n",
              "\n",
              "          const docLinkHtml = 'Like what you see? Visit the ' +\n",
              "            '<a target=\"_blank\" href=https://colab.research.google.com/notebooks/data_table.ipynb>data table notebook</a>'\n",
              "            + ' to learn more about interactive tables.';\n",
              "          element.innerHTML = '';\n",
              "          dataTable['output_type'] = 'display_data';\n",
              "          await google.colab.output.renderOutput(dataTable, element);\n",
              "          const docLink = document.createElement('div');\n",
              "          docLink.innerHTML = docLinkHtml;\n",
              "          element.appendChild(docLink);\n",
              "        }\n",
              "      </script>\n",
              "    </div>\n",
              "  </div>\n",
              "  "
            ]
          },
          "metadata": {},
          "execution_count": 220
        }
      ]
    },
    {
      "cell_type": "markdown",
      "source": [
        "To recover the raw values from a `DataFrame`:"
      ],
      "metadata": {
        "id": "uK3s5dmuon7c"
      }
    },
    {
      "cell_type": "code",
      "source": [
        "df_from_ndarray.values"
      ],
      "metadata": {
        "colab": {
          "base_uri": "https://localhost:8080/"
        },
        "id": "pYlo3Ec7oCzq",
        "outputId": "8435a56c-13cd-464f-f436-39904b8fad65"
      },
      "execution_count": 221,
      "outputs": [
        {
          "output_type": "execute_result",
          "data": {
            "text/plain": [
              "array([[1, 2, 3],\n",
              "       [4, 5, 6]])"
            ]
          },
          "metadata": {},
          "execution_count": 221
        }
      ]
    },
    {
      "cell_type": "markdown",
      "source": [
        "#### Can I create a DataFrame from lists?"
      ],
      "metadata": {
        "id": "LKZJgFi9m1kL"
      }
    },
    {
      "cell_type": "code",
      "source": [
        "pd.DataFrame({\"ID\": [1, 2], \"Name\": [\"dog\", \"cat\"], \"Needs Walking\": [True, False]})"
      ],
      "metadata": {
        "colab": {
          "base_uri": "https://localhost:8080/",
          "height": 112
        },
        "id": "8E02RfDEm6h3",
        "outputId": "2aade35f-a5e3-48ee-8942-a4aa4d4f7b5e"
      },
      "execution_count": 222,
      "outputs": [
        {
          "output_type": "execute_result",
          "data": {
            "text/plain": [
              "   ID Name  Needs Walking\n",
              "0   1  dog           True\n",
              "1   2  cat          False"
            ],
            "text/html": [
              "\n",
              "  <div id=\"df-9449d925-6f02-44fe-9be8-3955712ffdcd\">\n",
              "    <div class=\"colab-df-container\">\n",
              "      <div>\n",
              "<style scoped>\n",
              "    .dataframe tbody tr th:only-of-type {\n",
              "        vertical-align: middle;\n",
              "    }\n",
              "\n",
              "    .dataframe tbody tr th {\n",
              "        vertical-align: top;\n",
              "    }\n",
              "\n",
              "    .dataframe thead th {\n",
              "        text-align: right;\n",
              "    }\n",
              "</style>\n",
              "<table border=\"1\" class=\"dataframe\">\n",
              "  <thead>\n",
              "    <tr style=\"text-align: right;\">\n",
              "      <th></th>\n",
              "      <th>ID</th>\n",
              "      <th>Name</th>\n",
              "      <th>Needs Walking</th>\n",
              "    </tr>\n",
              "  </thead>\n",
              "  <tbody>\n",
              "    <tr>\n",
              "      <th>0</th>\n",
              "      <td>1</td>\n",
              "      <td>dog</td>\n",
              "      <td>True</td>\n",
              "    </tr>\n",
              "    <tr>\n",
              "      <th>1</th>\n",
              "      <td>2</td>\n",
              "      <td>cat</td>\n",
              "      <td>False</td>\n",
              "    </tr>\n",
              "  </tbody>\n",
              "</table>\n",
              "</div>\n",
              "      <button class=\"colab-df-convert\" onclick=\"convertToInteractive('df-9449d925-6f02-44fe-9be8-3955712ffdcd')\"\n",
              "              title=\"Convert this dataframe to an interactive table.\"\n",
              "              style=\"display:none;\">\n",
              "        \n",
              "  <svg xmlns=\"http://www.w3.org/2000/svg\" height=\"24px\"viewBox=\"0 0 24 24\"\n",
              "       width=\"24px\">\n",
              "    <path d=\"M0 0h24v24H0V0z\" fill=\"none\"/>\n",
              "    <path d=\"M18.56 5.44l.94 2.06.94-2.06 2.06-.94-2.06-.94-.94-2.06-.94 2.06-2.06.94zm-11 1L8.5 8.5l.94-2.06 2.06-.94-2.06-.94L8.5 2.5l-.94 2.06-2.06.94zm10 10l.94 2.06.94-2.06 2.06-.94-2.06-.94-.94-2.06-.94 2.06-2.06.94z\"/><path d=\"M17.41 7.96l-1.37-1.37c-.4-.4-.92-.59-1.43-.59-.52 0-1.04.2-1.43.59L10.3 9.45l-7.72 7.72c-.78.78-.78 2.05 0 2.83L4 21.41c.39.39.9.59 1.41.59.51 0 1.02-.2 1.41-.59l7.78-7.78 2.81-2.81c.8-.78.8-2.07 0-2.86zM5.41 20L4 18.59l7.72-7.72 1.47 1.35L5.41 20z\"/>\n",
              "  </svg>\n",
              "      </button>\n",
              "      \n",
              "  <style>\n",
              "    .colab-df-container {\n",
              "      display:flex;\n",
              "      flex-wrap:wrap;\n",
              "      gap: 12px;\n",
              "    }\n",
              "\n",
              "    .colab-df-convert {\n",
              "      background-color: #E8F0FE;\n",
              "      border: none;\n",
              "      border-radius: 50%;\n",
              "      cursor: pointer;\n",
              "      display: none;\n",
              "      fill: #1967D2;\n",
              "      height: 32px;\n",
              "      padding: 0 0 0 0;\n",
              "      width: 32px;\n",
              "    }\n",
              "\n",
              "    .colab-df-convert:hover {\n",
              "      background-color: #E2EBFA;\n",
              "      box-shadow: 0px 1px 2px rgba(60, 64, 67, 0.3), 0px 1px 3px 1px rgba(60, 64, 67, 0.15);\n",
              "      fill: #174EA6;\n",
              "    }\n",
              "\n",
              "    [theme=dark] .colab-df-convert {\n",
              "      background-color: #3B4455;\n",
              "      fill: #D2E3FC;\n",
              "    }\n",
              "\n",
              "    [theme=dark] .colab-df-convert:hover {\n",
              "      background-color: #434B5C;\n",
              "      box-shadow: 0px 1px 3px 1px rgba(0, 0, 0, 0.15);\n",
              "      filter: drop-shadow(0px 1px 2px rgba(0, 0, 0, 0.3));\n",
              "      fill: #FFFFFF;\n",
              "    }\n",
              "  </style>\n",
              "\n",
              "      <script>\n",
              "        const buttonEl =\n",
              "          document.querySelector('#df-9449d925-6f02-44fe-9be8-3955712ffdcd button.colab-df-convert');\n",
              "        buttonEl.style.display =\n",
              "          google.colab.kernel.accessAllowed ? 'block' : 'none';\n",
              "\n",
              "        async function convertToInteractive(key) {\n",
              "          const element = document.querySelector('#df-9449d925-6f02-44fe-9be8-3955712ffdcd');\n",
              "          const dataTable =\n",
              "            await google.colab.kernel.invokeFunction('convertToInteractive',\n",
              "                                                     [key], {});\n",
              "          if (!dataTable) return;\n",
              "\n",
              "          const docLinkHtml = 'Like what you see? Visit the ' +\n",
              "            '<a target=\"_blank\" href=https://colab.research.google.com/notebooks/data_table.ipynb>data table notebook</a>'\n",
              "            + ' to learn more about interactive tables.';\n",
              "          element.innerHTML = '';\n",
              "          dataTable['output_type'] = 'display_data';\n",
              "          await google.colab.output.renderOutput(dataTable, element);\n",
              "          const docLink = document.createElement('div');\n",
              "          docLink.innerHTML = docLinkHtml;\n",
              "          element.appendChild(docLink);\n",
              "        }\n",
              "      </script>\n",
              "    </div>\n",
              "  </div>\n",
              "  "
            ]
          },
          "metadata": {},
          "execution_count": 222
        }
      ]
    },
    {
      "cell_type": "markdown",
      "source": [
        "#### Can I create a DataFrame from a file?"
      ],
      "metadata": {
        "id": "urMFL5Q3pDsW"
      }
    },
    {
      "cell_type": "code",
      "source": [
        "# TODO: update url after repo is public\n",
        "file_url = 'https://raw.githubusercontent.com/weilu/colab-sandbox/main/data/Singapore_Annual_New_Car_Registrations_by_make_type.csv'\n",
        "singapore_cars = pd.read_csv(file_url)\n",
        "singapore_cars"
      ],
      "metadata": {
        "colab": {
          "base_uri": "https://localhost:8080/",
          "height": 424
        },
        "id": "_ZPpStkhpbZn",
        "outputId": "66962154-0de1-4ae9-f2e3-807abe4699a3"
      },
      "execution_count": 223,
      "outputs": [
        {
          "output_type": "execute_result",
          "data": {
            "text/plain": [
              "      year          make    fuel                type  number\n",
              "0     2015    ALFA ROMEO  Petrol           Hatchback    29.0\n",
              "1     2015  ASTON MARTIN  Petrol           Hatchback     3.0\n",
              "2     2015          AUDI  Petrol           Hatchback   262.0\n",
              "3     2015        AUSTIN  Petrol           Hatchback     1.0\n",
              "4     2015        B.M.W.  Petrol           Hatchback   408.0\n",
              "...    ...           ...     ...                 ...     ...\n",
              "2805  2021        TOYOTA  Others  Coupe/ Convertible     NaN\n",
              "2806  2021    VOLKSWAGEN  Petrol  Coupe/ Convertible     2.0\n",
              "2807  2021    VOLKSWAGEN  Others  Coupe/ Convertible     1.0\n",
              "2808  2021         VOLVO  Petrol  Coupe/ Convertible     2.0\n",
              "2809  2021         VOLVO  Others  Coupe/ Convertible     NaN\n",
              "\n",
              "[2810 rows x 5 columns]"
            ],
            "text/html": [
              "\n",
              "  <div id=\"df-12196ac1-952e-4cfb-8225-ce1ff65fab66\">\n",
              "    <div class=\"colab-df-container\">\n",
              "      <div>\n",
              "<style scoped>\n",
              "    .dataframe tbody tr th:only-of-type {\n",
              "        vertical-align: middle;\n",
              "    }\n",
              "\n",
              "    .dataframe tbody tr th {\n",
              "        vertical-align: top;\n",
              "    }\n",
              "\n",
              "    .dataframe thead th {\n",
              "        text-align: right;\n",
              "    }\n",
              "</style>\n",
              "<table border=\"1\" class=\"dataframe\">\n",
              "  <thead>\n",
              "    <tr style=\"text-align: right;\">\n",
              "      <th></th>\n",
              "      <th>year</th>\n",
              "      <th>make</th>\n",
              "      <th>fuel</th>\n",
              "      <th>type</th>\n",
              "      <th>number</th>\n",
              "    </tr>\n",
              "  </thead>\n",
              "  <tbody>\n",
              "    <tr>\n",
              "      <th>0</th>\n",
              "      <td>2015</td>\n",
              "      <td>ALFA ROMEO</td>\n",
              "      <td>Petrol</td>\n",
              "      <td>Hatchback</td>\n",
              "      <td>29.0</td>\n",
              "    </tr>\n",
              "    <tr>\n",
              "      <th>1</th>\n",
              "      <td>2015</td>\n",
              "      <td>ASTON MARTIN</td>\n",
              "      <td>Petrol</td>\n",
              "      <td>Hatchback</td>\n",
              "      <td>3.0</td>\n",
              "    </tr>\n",
              "    <tr>\n",
              "      <th>2</th>\n",
              "      <td>2015</td>\n",
              "      <td>AUDI</td>\n",
              "      <td>Petrol</td>\n",
              "      <td>Hatchback</td>\n",
              "      <td>262.0</td>\n",
              "    </tr>\n",
              "    <tr>\n",
              "      <th>3</th>\n",
              "      <td>2015</td>\n",
              "      <td>AUSTIN</td>\n",
              "      <td>Petrol</td>\n",
              "      <td>Hatchback</td>\n",
              "      <td>1.0</td>\n",
              "    </tr>\n",
              "    <tr>\n",
              "      <th>4</th>\n",
              "      <td>2015</td>\n",
              "      <td>B.M.W.</td>\n",
              "      <td>Petrol</td>\n",
              "      <td>Hatchback</td>\n",
              "      <td>408.0</td>\n",
              "    </tr>\n",
              "    <tr>\n",
              "      <th>...</th>\n",
              "      <td>...</td>\n",
              "      <td>...</td>\n",
              "      <td>...</td>\n",
              "      <td>...</td>\n",
              "      <td>...</td>\n",
              "    </tr>\n",
              "    <tr>\n",
              "      <th>2805</th>\n",
              "      <td>2021</td>\n",
              "      <td>TOYOTA</td>\n",
              "      <td>Others</td>\n",
              "      <td>Coupe/ Convertible</td>\n",
              "      <td>NaN</td>\n",
              "    </tr>\n",
              "    <tr>\n",
              "      <th>2806</th>\n",
              "      <td>2021</td>\n",
              "      <td>VOLKSWAGEN</td>\n",
              "      <td>Petrol</td>\n",
              "      <td>Coupe/ Convertible</td>\n",
              "      <td>2.0</td>\n",
              "    </tr>\n",
              "    <tr>\n",
              "      <th>2807</th>\n",
              "      <td>2021</td>\n",
              "      <td>VOLKSWAGEN</td>\n",
              "      <td>Others</td>\n",
              "      <td>Coupe/ Convertible</td>\n",
              "      <td>1.0</td>\n",
              "    </tr>\n",
              "    <tr>\n",
              "      <th>2808</th>\n",
              "      <td>2021</td>\n",
              "      <td>VOLVO</td>\n",
              "      <td>Petrol</td>\n",
              "      <td>Coupe/ Convertible</td>\n",
              "      <td>2.0</td>\n",
              "    </tr>\n",
              "    <tr>\n",
              "      <th>2809</th>\n",
              "      <td>2021</td>\n",
              "      <td>VOLVO</td>\n",
              "      <td>Others</td>\n",
              "      <td>Coupe/ Convertible</td>\n",
              "      <td>NaN</td>\n",
              "    </tr>\n",
              "  </tbody>\n",
              "</table>\n",
              "<p>2810 rows × 5 columns</p>\n",
              "</div>\n",
              "      <button class=\"colab-df-convert\" onclick=\"convertToInteractive('df-12196ac1-952e-4cfb-8225-ce1ff65fab66')\"\n",
              "              title=\"Convert this dataframe to an interactive table.\"\n",
              "              style=\"display:none;\">\n",
              "        \n",
              "  <svg xmlns=\"http://www.w3.org/2000/svg\" height=\"24px\"viewBox=\"0 0 24 24\"\n",
              "       width=\"24px\">\n",
              "    <path d=\"M0 0h24v24H0V0z\" fill=\"none\"/>\n",
              "    <path d=\"M18.56 5.44l.94 2.06.94-2.06 2.06-.94-2.06-.94-.94-2.06-.94 2.06-2.06.94zm-11 1L8.5 8.5l.94-2.06 2.06-.94-2.06-.94L8.5 2.5l-.94 2.06-2.06.94zm10 10l.94 2.06.94-2.06 2.06-.94-2.06-.94-.94-2.06-.94 2.06-2.06.94z\"/><path d=\"M17.41 7.96l-1.37-1.37c-.4-.4-.92-.59-1.43-.59-.52 0-1.04.2-1.43.59L10.3 9.45l-7.72 7.72c-.78.78-.78 2.05 0 2.83L4 21.41c.39.39.9.59 1.41.59.51 0 1.02-.2 1.41-.59l7.78-7.78 2.81-2.81c.8-.78.8-2.07 0-2.86zM5.41 20L4 18.59l7.72-7.72 1.47 1.35L5.41 20z\"/>\n",
              "  </svg>\n",
              "      </button>\n",
              "      \n",
              "  <style>\n",
              "    .colab-df-container {\n",
              "      display:flex;\n",
              "      flex-wrap:wrap;\n",
              "      gap: 12px;\n",
              "    }\n",
              "\n",
              "    .colab-df-convert {\n",
              "      background-color: #E8F0FE;\n",
              "      border: none;\n",
              "      border-radius: 50%;\n",
              "      cursor: pointer;\n",
              "      display: none;\n",
              "      fill: #1967D2;\n",
              "      height: 32px;\n",
              "      padding: 0 0 0 0;\n",
              "      width: 32px;\n",
              "    }\n",
              "\n",
              "    .colab-df-convert:hover {\n",
              "      background-color: #E2EBFA;\n",
              "      box-shadow: 0px 1px 2px rgba(60, 64, 67, 0.3), 0px 1px 3px 1px rgba(60, 64, 67, 0.15);\n",
              "      fill: #174EA6;\n",
              "    }\n",
              "\n",
              "    [theme=dark] .colab-df-convert {\n",
              "      background-color: #3B4455;\n",
              "      fill: #D2E3FC;\n",
              "    }\n",
              "\n",
              "    [theme=dark] .colab-df-convert:hover {\n",
              "      background-color: #434B5C;\n",
              "      box-shadow: 0px 1px 3px 1px rgba(0, 0, 0, 0.15);\n",
              "      filter: drop-shadow(0px 1px 2px rgba(0, 0, 0, 0.3));\n",
              "      fill: #FFFFFF;\n",
              "    }\n",
              "  </style>\n",
              "\n",
              "      <script>\n",
              "        const buttonEl =\n",
              "          document.querySelector('#df-12196ac1-952e-4cfb-8225-ce1ff65fab66 button.colab-df-convert');\n",
              "        buttonEl.style.display =\n",
              "          google.colab.kernel.accessAllowed ? 'block' : 'none';\n",
              "\n",
              "        async function convertToInteractive(key) {\n",
              "          const element = document.querySelector('#df-12196ac1-952e-4cfb-8225-ce1ff65fab66');\n",
              "          const dataTable =\n",
              "            await google.colab.kernel.invokeFunction('convertToInteractive',\n",
              "                                                     [key], {});\n",
              "          if (!dataTable) return;\n",
              "\n",
              "          const docLinkHtml = 'Like what you see? Visit the ' +\n",
              "            '<a target=\"_blank\" href=https://colab.research.google.com/notebooks/data_table.ipynb>data table notebook</a>'\n",
              "            + ' to learn more about interactive tables.';\n",
              "          element.innerHTML = '';\n",
              "          dataTable['output_type'] = 'display_data';\n",
              "          await google.colab.output.renderOutput(dataTable, element);\n",
              "          const docLink = document.createElement('div');\n",
              "          docLink.innerHTML = docLinkHtml;\n",
              "          element.appendChild(docLink);\n",
              "        }\n",
              "      </script>\n",
              "    </div>\n",
              "  </div>\n",
              "  "
            ]
          },
          "metadata": {},
          "execution_count": 223
        }
      ]
    },
    {
      "cell_type": "markdown",
      "source": [
        "To save a `DataFrame` as a csv file:"
      ],
      "metadata": {
        "id": "fB1MkhQ4vBqt"
      }
    },
    {
      "cell_type": "code",
      "source": [
        "singapore_cars.to_csv('singapore_cars.csv')"
      ],
      "metadata": {
        "id": "VKPBAO7At7hB"
      },
      "execution_count": 224,
      "outputs": []
    },
    {
      "cell_type": "markdown",
      "source": [
        "In Colab, navigate to the folder icon in the left pane to find and download the exported csv file. "
      ],
      "metadata": {
        "id": "NF6ESucbv3sQ"
      }
    },
    {
      "cell_type": "markdown",
      "source": [
        "### 3.2.2. Inspecting the data\n",
        "\n",
        "Now let's perform some basic inspection to understand our dataset."
      ],
      "metadata": {
        "id": "jPPh4jhhw2uR"
      }
    },
    {
      "cell_type": "markdown",
      "source": [
        "#### How many rows and columns?"
      ],
      "metadata": {
        "id": "Lkl2tIOzxmVE"
      }
    },
    {
      "cell_type": "code",
      "source": [
        "singapore_cars.shape"
      ],
      "metadata": {
        "colab": {
          "base_uri": "https://localhost:8080/"
        },
        "id": "A_skn1V2xH2z",
        "outputId": "89e41536-c434-42d5-8a1b-6ee76f137966"
      },
      "execution_count": 225,
      "outputs": [
        {
          "output_type": "execute_result",
          "data": {
            "text/plain": [
              "(2810, 5)"
            ]
          },
          "metadata": {},
          "execution_count": 225
        }
      ]
    },
    {
      "cell_type": "code",
      "source": [
        "nrow, ncol = singapore_cars.shape\n",
        "print(f'nrow={nrow}, ncol={ncol}')"
      ],
      "metadata": {
        "colab": {
          "base_uri": "https://localhost:8080/"
        },
        "id": "6NNO7EXXzptW",
        "outputId": "a0d37b1d-3fbc-4842-94ca-809da1385d72"
      },
      "execution_count": 226,
      "outputs": [
        {
          "output_type": "stream",
          "name": "stdout",
          "text": [
            "nrow=2810, ncol=5\n"
          ]
        }
      ]
    },
    {
      "cell_type": "markdown",
      "source": [
        "#### What are the column names?"
      ],
      "metadata": {
        "id": "4P7htLGvxs7N"
      }
    },
    {
      "cell_type": "code",
      "source": [
        "singapore_cars.columns"
      ],
      "metadata": {
        "colab": {
          "base_uri": "https://localhost:8080/"
        },
        "id": "kzHsABg4xKwB",
        "outputId": "5a2354b3-1944-4183-b3ed-a76e79537fb5"
      },
      "execution_count": 227,
      "outputs": [
        {
          "output_type": "execute_result",
          "data": {
            "text/plain": [
              "Index(['year', 'make', 'fuel', 'type', 'number'], dtype='object')"
            ]
          },
          "metadata": {},
          "execution_count": 227
        }
      ]
    },
    {
      "cell_type": "markdown",
      "source": [
        "#### What does the data look like?\n",
        "\n",
        "From the top:"
      ],
      "metadata": {
        "id": "XXxyBZVoyE16"
      }
    },
    {
      "cell_type": "code",
      "source": [
        "singapore_cars.head()"
      ],
      "metadata": {
        "colab": {
          "base_uri": "https://localhost:8080/",
          "height": 206
        },
        "id": "WsU42CC8yKTc",
        "outputId": "e3d25857-ab43-4b45-84de-f9f7f6c4a046"
      },
      "execution_count": 228,
      "outputs": [
        {
          "output_type": "execute_result",
          "data": {
            "text/plain": [
              "   year          make    fuel       type  number\n",
              "0  2015    ALFA ROMEO  Petrol  Hatchback    29.0\n",
              "1  2015  ASTON MARTIN  Petrol  Hatchback     3.0\n",
              "2  2015          AUDI  Petrol  Hatchback   262.0\n",
              "3  2015        AUSTIN  Petrol  Hatchback     1.0\n",
              "4  2015        B.M.W.  Petrol  Hatchback   408.0"
            ],
            "text/html": [
              "\n",
              "  <div id=\"df-2eb658bb-dbb9-43b6-9ad8-6c8da80ddca1\">\n",
              "    <div class=\"colab-df-container\">\n",
              "      <div>\n",
              "<style scoped>\n",
              "    .dataframe tbody tr th:only-of-type {\n",
              "        vertical-align: middle;\n",
              "    }\n",
              "\n",
              "    .dataframe tbody tr th {\n",
              "        vertical-align: top;\n",
              "    }\n",
              "\n",
              "    .dataframe thead th {\n",
              "        text-align: right;\n",
              "    }\n",
              "</style>\n",
              "<table border=\"1\" class=\"dataframe\">\n",
              "  <thead>\n",
              "    <tr style=\"text-align: right;\">\n",
              "      <th></th>\n",
              "      <th>year</th>\n",
              "      <th>make</th>\n",
              "      <th>fuel</th>\n",
              "      <th>type</th>\n",
              "      <th>number</th>\n",
              "    </tr>\n",
              "  </thead>\n",
              "  <tbody>\n",
              "    <tr>\n",
              "      <th>0</th>\n",
              "      <td>2015</td>\n",
              "      <td>ALFA ROMEO</td>\n",
              "      <td>Petrol</td>\n",
              "      <td>Hatchback</td>\n",
              "      <td>29.0</td>\n",
              "    </tr>\n",
              "    <tr>\n",
              "      <th>1</th>\n",
              "      <td>2015</td>\n",
              "      <td>ASTON MARTIN</td>\n",
              "      <td>Petrol</td>\n",
              "      <td>Hatchback</td>\n",
              "      <td>3.0</td>\n",
              "    </tr>\n",
              "    <tr>\n",
              "      <th>2</th>\n",
              "      <td>2015</td>\n",
              "      <td>AUDI</td>\n",
              "      <td>Petrol</td>\n",
              "      <td>Hatchback</td>\n",
              "      <td>262.0</td>\n",
              "    </tr>\n",
              "    <tr>\n",
              "      <th>3</th>\n",
              "      <td>2015</td>\n",
              "      <td>AUSTIN</td>\n",
              "      <td>Petrol</td>\n",
              "      <td>Hatchback</td>\n",
              "      <td>1.0</td>\n",
              "    </tr>\n",
              "    <tr>\n",
              "      <th>4</th>\n",
              "      <td>2015</td>\n",
              "      <td>B.M.W.</td>\n",
              "      <td>Petrol</td>\n",
              "      <td>Hatchback</td>\n",
              "      <td>408.0</td>\n",
              "    </tr>\n",
              "  </tbody>\n",
              "</table>\n",
              "</div>\n",
              "      <button class=\"colab-df-convert\" onclick=\"convertToInteractive('df-2eb658bb-dbb9-43b6-9ad8-6c8da80ddca1')\"\n",
              "              title=\"Convert this dataframe to an interactive table.\"\n",
              "              style=\"display:none;\">\n",
              "        \n",
              "  <svg xmlns=\"http://www.w3.org/2000/svg\" height=\"24px\"viewBox=\"0 0 24 24\"\n",
              "       width=\"24px\">\n",
              "    <path d=\"M0 0h24v24H0V0z\" fill=\"none\"/>\n",
              "    <path d=\"M18.56 5.44l.94 2.06.94-2.06 2.06-.94-2.06-.94-.94-2.06-.94 2.06-2.06.94zm-11 1L8.5 8.5l.94-2.06 2.06-.94-2.06-.94L8.5 2.5l-.94 2.06-2.06.94zm10 10l.94 2.06.94-2.06 2.06-.94-2.06-.94-.94-2.06-.94 2.06-2.06.94z\"/><path d=\"M17.41 7.96l-1.37-1.37c-.4-.4-.92-.59-1.43-.59-.52 0-1.04.2-1.43.59L10.3 9.45l-7.72 7.72c-.78.78-.78 2.05 0 2.83L4 21.41c.39.39.9.59 1.41.59.51 0 1.02-.2 1.41-.59l7.78-7.78 2.81-2.81c.8-.78.8-2.07 0-2.86zM5.41 20L4 18.59l7.72-7.72 1.47 1.35L5.41 20z\"/>\n",
              "  </svg>\n",
              "      </button>\n",
              "      \n",
              "  <style>\n",
              "    .colab-df-container {\n",
              "      display:flex;\n",
              "      flex-wrap:wrap;\n",
              "      gap: 12px;\n",
              "    }\n",
              "\n",
              "    .colab-df-convert {\n",
              "      background-color: #E8F0FE;\n",
              "      border: none;\n",
              "      border-radius: 50%;\n",
              "      cursor: pointer;\n",
              "      display: none;\n",
              "      fill: #1967D2;\n",
              "      height: 32px;\n",
              "      padding: 0 0 0 0;\n",
              "      width: 32px;\n",
              "    }\n",
              "\n",
              "    .colab-df-convert:hover {\n",
              "      background-color: #E2EBFA;\n",
              "      box-shadow: 0px 1px 2px rgba(60, 64, 67, 0.3), 0px 1px 3px 1px rgba(60, 64, 67, 0.15);\n",
              "      fill: #174EA6;\n",
              "    }\n",
              "\n",
              "    [theme=dark] .colab-df-convert {\n",
              "      background-color: #3B4455;\n",
              "      fill: #D2E3FC;\n",
              "    }\n",
              "\n",
              "    [theme=dark] .colab-df-convert:hover {\n",
              "      background-color: #434B5C;\n",
              "      box-shadow: 0px 1px 3px 1px rgba(0, 0, 0, 0.15);\n",
              "      filter: drop-shadow(0px 1px 2px rgba(0, 0, 0, 0.3));\n",
              "      fill: #FFFFFF;\n",
              "    }\n",
              "  </style>\n",
              "\n",
              "      <script>\n",
              "        const buttonEl =\n",
              "          document.querySelector('#df-2eb658bb-dbb9-43b6-9ad8-6c8da80ddca1 button.colab-df-convert');\n",
              "        buttonEl.style.display =\n",
              "          google.colab.kernel.accessAllowed ? 'block' : 'none';\n",
              "\n",
              "        async function convertToInteractive(key) {\n",
              "          const element = document.querySelector('#df-2eb658bb-dbb9-43b6-9ad8-6c8da80ddca1');\n",
              "          const dataTable =\n",
              "            await google.colab.kernel.invokeFunction('convertToInteractive',\n",
              "                                                     [key], {});\n",
              "          if (!dataTable) return;\n",
              "\n",
              "          const docLinkHtml = 'Like what you see? Visit the ' +\n",
              "            '<a target=\"_blank\" href=https://colab.research.google.com/notebooks/data_table.ipynb>data table notebook</a>'\n",
              "            + ' to learn more about interactive tables.';\n",
              "          element.innerHTML = '';\n",
              "          dataTable['output_type'] = 'display_data';\n",
              "          await google.colab.output.renderOutput(dataTable, element);\n",
              "          const docLink = document.createElement('div');\n",
              "          docLink.innerHTML = docLinkHtml;\n",
              "          element.appendChild(docLink);\n",
              "        }\n",
              "      </script>\n",
              "    </div>\n",
              "  </div>\n",
              "  "
            ]
          },
          "metadata": {},
          "execution_count": 228
        }
      ]
    },
    {
      "cell_type": "markdown",
      "source": [
        "From the bottom:"
      ],
      "metadata": {
        "id": "52ELu1E5x0GV"
      }
    },
    {
      "cell_type": "code",
      "source": [
        "# Optionally specify the exact number of rows you want\n",
        "singapore_cars.tail(3)"
      ],
      "metadata": {
        "colab": {
          "base_uri": "https://localhost:8080/",
          "height": 143
        },
        "id": "_QaUtw33ySXz",
        "outputId": "d047a254-ea67-4924-9827-a2eb96750ed5"
      },
      "execution_count": 229,
      "outputs": [
        {
          "output_type": "execute_result",
          "data": {
            "text/plain": [
              "      year        make    fuel                type  number\n",
              "2807  2021  VOLKSWAGEN  Others  Coupe/ Convertible     1.0\n",
              "2808  2021       VOLVO  Petrol  Coupe/ Convertible     2.0\n",
              "2809  2021       VOLVO  Others  Coupe/ Convertible     NaN"
            ],
            "text/html": [
              "\n",
              "  <div id=\"df-19b10490-b39f-4510-bdeb-0191b2dfb406\">\n",
              "    <div class=\"colab-df-container\">\n",
              "      <div>\n",
              "<style scoped>\n",
              "    .dataframe tbody tr th:only-of-type {\n",
              "        vertical-align: middle;\n",
              "    }\n",
              "\n",
              "    .dataframe tbody tr th {\n",
              "        vertical-align: top;\n",
              "    }\n",
              "\n",
              "    .dataframe thead th {\n",
              "        text-align: right;\n",
              "    }\n",
              "</style>\n",
              "<table border=\"1\" class=\"dataframe\">\n",
              "  <thead>\n",
              "    <tr style=\"text-align: right;\">\n",
              "      <th></th>\n",
              "      <th>year</th>\n",
              "      <th>make</th>\n",
              "      <th>fuel</th>\n",
              "      <th>type</th>\n",
              "      <th>number</th>\n",
              "    </tr>\n",
              "  </thead>\n",
              "  <tbody>\n",
              "    <tr>\n",
              "      <th>2807</th>\n",
              "      <td>2021</td>\n",
              "      <td>VOLKSWAGEN</td>\n",
              "      <td>Others</td>\n",
              "      <td>Coupe/ Convertible</td>\n",
              "      <td>1.0</td>\n",
              "    </tr>\n",
              "    <tr>\n",
              "      <th>2808</th>\n",
              "      <td>2021</td>\n",
              "      <td>VOLVO</td>\n",
              "      <td>Petrol</td>\n",
              "      <td>Coupe/ Convertible</td>\n",
              "      <td>2.0</td>\n",
              "    </tr>\n",
              "    <tr>\n",
              "      <th>2809</th>\n",
              "      <td>2021</td>\n",
              "      <td>VOLVO</td>\n",
              "      <td>Others</td>\n",
              "      <td>Coupe/ Convertible</td>\n",
              "      <td>NaN</td>\n",
              "    </tr>\n",
              "  </tbody>\n",
              "</table>\n",
              "</div>\n",
              "      <button class=\"colab-df-convert\" onclick=\"convertToInteractive('df-19b10490-b39f-4510-bdeb-0191b2dfb406')\"\n",
              "              title=\"Convert this dataframe to an interactive table.\"\n",
              "              style=\"display:none;\">\n",
              "        \n",
              "  <svg xmlns=\"http://www.w3.org/2000/svg\" height=\"24px\"viewBox=\"0 0 24 24\"\n",
              "       width=\"24px\">\n",
              "    <path d=\"M0 0h24v24H0V0z\" fill=\"none\"/>\n",
              "    <path d=\"M18.56 5.44l.94 2.06.94-2.06 2.06-.94-2.06-.94-.94-2.06-.94 2.06-2.06.94zm-11 1L8.5 8.5l.94-2.06 2.06-.94-2.06-.94L8.5 2.5l-.94 2.06-2.06.94zm10 10l.94 2.06.94-2.06 2.06-.94-2.06-.94-.94-2.06-.94 2.06-2.06.94z\"/><path d=\"M17.41 7.96l-1.37-1.37c-.4-.4-.92-.59-1.43-.59-.52 0-1.04.2-1.43.59L10.3 9.45l-7.72 7.72c-.78.78-.78 2.05 0 2.83L4 21.41c.39.39.9.59 1.41.59.51 0 1.02-.2 1.41-.59l7.78-7.78 2.81-2.81c.8-.78.8-2.07 0-2.86zM5.41 20L4 18.59l7.72-7.72 1.47 1.35L5.41 20z\"/>\n",
              "  </svg>\n",
              "      </button>\n",
              "      \n",
              "  <style>\n",
              "    .colab-df-container {\n",
              "      display:flex;\n",
              "      flex-wrap:wrap;\n",
              "      gap: 12px;\n",
              "    }\n",
              "\n",
              "    .colab-df-convert {\n",
              "      background-color: #E8F0FE;\n",
              "      border: none;\n",
              "      border-radius: 50%;\n",
              "      cursor: pointer;\n",
              "      display: none;\n",
              "      fill: #1967D2;\n",
              "      height: 32px;\n",
              "      padding: 0 0 0 0;\n",
              "      width: 32px;\n",
              "    }\n",
              "\n",
              "    .colab-df-convert:hover {\n",
              "      background-color: #E2EBFA;\n",
              "      box-shadow: 0px 1px 2px rgba(60, 64, 67, 0.3), 0px 1px 3px 1px rgba(60, 64, 67, 0.15);\n",
              "      fill: #174EA6;\n",
              "    }\n",
              "\n",
              "    [theme=dark] .colab-df-convert {\n",
              "      background-color: #3B4455;\n",
              "      fill: #D2E3FC;\n",
              "    }\n",
              "\n",
              "    [theme=dark] .colab-df-convert:hover {\n",
              "      background-color: #434B5C;\n",
              "      box-shadow: 0px 1px 3px 1px rgba(0, 0, 0, 0.15);\n",
              "      filter: drop-shadow(0px 1px 2px rgba(0, 0, 0, 0.3));\n",
              "      fill: #FFFFFF;\n",
              "    }\n",
              "  </style>\n",
              "\n",
              "      <script>\n",
              "        const buttonEl =\n",
              "          document.querySelector('#df-19b10490-b39f-4510-bdeb-0191b2dfb406 button.colab-df-convert');\n",
              "        buttonEl.style.display =\n",
              "          google.colab.kernel.accessAllowed ? 'block' : 'none';\n",
              "\n",
              "        async function convertToInteractive(key) {\n",
              "          const element = document.querySelector('#df-19b10490-b39f-4510-bdeb-0191b2dfb406');\n",
              "          const dataTable =\n",
              "            await google.colab.kernel.invokeFunction('convertToInteractive',\n",
              "                                                     [key], {});\n",
              "          if (!dataTable) return;\n",
              "\n",
              "          const docLinkHtml = 'Like what you see? Visit the ' +\n",
              "            '<a target=\"_blank\" href=https://colab.research.google.com/notebooks/data_table.ipynb>data table notebook</a>'\n",
              "            + ' to learn more about interactive tables.';\n",
              "          element.innerHTML = '';\n",
              "          dataTable['output_type'] = 'display_data';\n",
              "          await google.colab.output.renderOutput(dataTable, element);\n",
              "          const docLink = document.createElement('div');\n",
              "          docLink.innerHTML = docLinkHtml;\n",
              "          element.appendChild(docLink);\n",
              "        }\n",
              "      </script>\n",
              "    </div>\n",
              "  </div>\n",
              "  "
            ]
          },
          "metadata": {},
          "execution_count": 229
        }
      ]
    },
    {
      "cell_type": "markdown",
      "source": [
        "#### What type of data does each column currently hold and how many missing values?\n"
      ],
      "metadata": {
        "id": "7dII_PI_y9uU"
      }
    },
    {
      "cell_type": "code",
      "source": [
        "singapore_cars.info()"
      ],
      "metadata": {
        "colab": {
          "base_uri": "https://localhost:8080/"
        },
        "id": "7vSbYN4zyXvK",
        "outputId": "c435b6a6-20f0-4fc8-89a3-7d0abee057c7"
      },
      "execution_count": 230,
      "outputs": [
        {
          "output_type": "stream",
          "name": "stdout",
          "text": [
            "<class 'pandas.core.frame.DataFrame'>\n",
            "RangeIndex: 2810 entries, 0 to 2809\n",
            "Data columns (total 5 columns):\n",
            " #   Column  Non-Null Count  Dtype  \n",
            "---  ------  --------------  -----  \n",
            " 0   year    2810 non-null   int64  \n",
            " 1   make    2810 non-null   object \n",
            " 2   fuel    2810 non-null   object \n",
            " 3   type    2810 non-null   object \n",
            " 4   number  1432 non-null   float64\n",
            "dtypes: float64(1), int64(1), object(3)\n",
            "memory usage: 109.9+ KB\n"
          ]
        }
      ]
    },
    {
      "cell_type": "markdown",
      "source": [
        "### 3.2.3. Subsetting the data\n",
        "\n",
        "A crucial part of working with DataFrames is extracting subsets of the data: finding rows that meet a certain set of criteria, isolating columns/rows of interest, etc. After narrowing down our data, we are closer to discovering insights. This section will be the backbone of many analysis tasks."
      ],
      "metadata": {
        "id": "XHvC3_UM0kH8"
      }
    },
    {
      "cell_type": "markdown",
      "source": [
        "#### How to select columns?\n",
        "\n",
        "To select a single column (returns a `Series`):"
      ],
      "metadata": {
        "id": "gbJLFEtS03Mh"
      }
    },
    {
      "cell_type": "code",
      "source": [
        "singapore_cars.make"
      ],
      "metadata": {
        "colab": {
          "base_uri": "https://localhost:8080/"
        },
        "id": "Gz12xGUS0sSh",
        "outputId": "9dd3d476-6c6e-4800-8dfc-d424ac3ad431"
      },
      "execution_count": 231,
      "outputs": [
        {
          "output_type": "execute_result",
          "data": {
            "text/plain": [
              "0         ALFA ROMEO\n",
              "1       ASTON MARTIN\n",
              "2               AUDI\n",
              "3             AUSTIN\n",
              "4             B.M.W.\n",
              "            ...     \n",
              "2805          TOYOTA\n",
              "2806      VOLKSWAGEN\n",
              "2807      VOLKSWAGEN\n",
              "2808           VOLVO\n",
              "2809           VOLVO\n",
              "Name: make, Length: 2810, dtype: object"
            ]
          },
          "metadata": {},
          "execution_count": 231
        }
      ]
    },
    {
      "cell_type": "code",
      "source": [
        "# Alternatively\n",
        "singapore_cars['make']"
      ],
      "metadata": {
        "colab": {
          "base_uri": "https://localhost:8080/"
        },
        "id": "aiZUCXXh1B1Q",
        "outputId": "e272fbfb-1261-4e58-8f72-eefb98b88524"
      },
      "execution_count": 232,
      "outputs": [
        {
          "output_type": "execute_result",
          "data": {
            "text/plain": [
              "0         ALFA ROMEO\n",
              "1       ASTON MARTIN\n",
              "2               AUDI\n",
              "3             AUSTIN\n",
              "4             B.M.W.\n",
              "            ...     \n",
              "2805          TOYOTA\n",
              "2806      VOLKSWAGEN\n",
              "2807      VOLKSWAGEN\n",
              "2808           VOLVO\n",
              "2809           VOLVO\n",
              "Name: make, Length: 2810, dtype: object"
            ]
          },
          "metadata": {},
          "execution_count": 232
        }
      ]
    },
    {
      "cell_type": "markdown",
      "source": [
        "The dictionary accessor is useful when the column name is not a valid Python variable, or when selecting multiple columns:"
      ],
      "metadata": {
        "id": "YcoiVUxz1GG_"
      }
    },
    {
      "cell_type": "code",
      "source": [
        "singapore_cars[['make', 'fuel', 'type']]"
      ],
      "metadata": {
        "colab": {
          "base_uri": "https://localhost:8080/",
          "height": 424
        },
        "id": "fb6HCo5R1Er_",
        "outputId": "d68fc615-d201-45c8-eb50-219f7ac13606"
      },
      "execution_count": 233,
      "outputs": [
        {
          "output_type": "execute_result",
          "data": {
            "text/plain": [
              "              make    fuel                type\n",
              "0       ALFA ROMEO  Petrol           Hatchback\n",
              "1     ASTON MARTIN  Petrol           Hatchback\n",
              "2             AUDI  Petrol           Hatchback\n",
              "3           AUSTIN  Petrol           Hatchback\n",
              "4           B.M.W.  Petrol           Hatchback\n",
              "...            ...     ...                 ...\n",
              "2805        TOYOTA  Others  Coupe/ Convertible\n",
              "2806    VOLKSWAGEN  Petrol  Coupe/ Convertible\n",
              "2807    VOLKSWAGEN  Others  Coupe/ Convertible\n",
              "2808         VOLVO  Petrol  Coupe/ Convertible\n",
              "2809         VOLVO  Others  Coupe/ Convertible\n",
              "\n",
              "[2810 rows x 3 columns]"
            ],
            "text/html": [
              "\n",
              "  <div id=\"df-b9a2a1ff-e929-45ce-9e95-604d5657baaa\">\n",
              "    <div class=\"colab-df-container\">\n",
              "      <div>\n",
              "<style scoped>\n",
              "    .dataframe tbody tr th:only-of-type {\n",
              "        vertical-align: middle;\n",
              "    }\n",
              "\n",
              "    .dataframe tbody tr th {\n",
              "        vertical-align: top;\n",
              "    }\n",
              "\n",
              "    .dataframe thead th {\n",
              "        text-align: right;\n",
              "    }\n",
              "</style>\n",
              "<table border=\"1\" class=\"dataframe\">\n",
              "  <thead>\n",
              "    <tr style=\"text-align: right;\">\n",
              "      <th></th>\n",
              "      <th>make</th>\n",
              "      <th>fuel</th>\n",
              "      <th>type</th>\n",
              "    </tr>\n",
              "  </thead>\n",
              "  <tbody>\n",
              "    <tr>\n",
              "      <th>0</th>\n",
              "      <td>ALFA ROMEO</td>\n",
              "      <td>Petrol</td>\n",
              "      <td>Hatchback</td>\n",
              "    </tr>\n",
              "    <tr>\n",
              "      <th>1</th>\n",
              "      <td>ASTON MARTIN</td>\n",
              "      <td>Petrol</td>\n",
              "      <td>Hatchback</td>\n",
              "    </tr>\n",
              "    <tr>\n",
              "      <th>2</th>\n",
              "      <td>AUDI</td>\n",
              "      <td>Petrol</td>\n",
              "      <td>Hatchback</td>\n",
              "    </tr>\n",
              "    <tr>\n",
              "      <th>3</th>\n",
              "      <td>AUSTIN</td>\n",
              "      <td>Petrol</td>\n",
              "      <td>Hatchback</td>\n",
              "    </tr>\n",
              "    <tr>\n",
              "      <th>4</th>\n",
              "      <td>B.M.W.</td>\n",
              "      <td>Petrol</td>\n",
              "      <td>Hatchback</td>\n",
              "    </tr>\n",
              "    <tr>\n",
              "      <th>...</th>\n",
              "      <td>...</td>\n",
              "      <td>...</td>\n",
              "      <td>...</td>\n",
              "    </tr>\n",
              "    <tr>\n",
              "      <th>2805</th>\n",
              "      <td>TOYOTA</td>\n",
              "      <td>Others</td>\n",
              "      <td>Coupe/ Convertible</td>\n",
              "    </tr>\n",
              "    <tr>\n",
              "      <th>2806</th>\n",
              "      <td>VOLKSWAGEN</td>\n",
              "      <td>Petrol</td>\n",
              "      <td>Coupe/ Convertible</td>\n",
              "    </tr>\n",
              "    <tr>\n",
              "      <th>2807</th>\n",
              "      <td>VOLKSWAGEN</td>\n",
              "      <td>Others</td>\n",
              "      <td>Coupe/ Convertible</td>\n",
              "    </tr>\n",
              "    <tr>\n",
              "      <th>2808</th>\n",
              "      <td>VOLVO</td>\n",
              "      <td>Petrol</td>\n",
              "      <td>Coupe/ Convertible</td>\n",
              "    </tr>\n",
              "    <tr>\n",
              "      <th>2809</th>\n",
              "      <td>VOLVO</td>\n",
              "      <td>Others</td>\n",
              "      <td>Coupe/ Convertible</td>\n",
              "    </tr>\n",
              "  </tbody>\n",
              "</table>\n",
              "<p>2810 rows × 3 columns</p>\n",
              "</div>\n",
              "      <button class=\"colab-df-convert\" onclick=\"convertToInteractive('df-b9a2a1ff-e929-45ce-9e95-604d5657baaa')\"\n",
              "              title=\"Convert this dataframe to an interactive table.\"\n",
              "              style=\"display:none;\">\n",
              "        \n",
              "  <svg xmlns=\"http://www.w3.org/2000/svg\" height=\"24px\"viewBox=\"0 0 24 24\"\n",
              "       width=\"24px\">\n",
              "    <path d=\"M0 0h24v24H0V0z\" fill=\"none\"/>\n",
              "    <path d=\"M18.56 5.44l.94 2.06.94-2.06 2.06-.94-2.06-.94-.94-2.06-.94 2.06-2.06.94zm-11 1L8.5 8.5l.94-2.06 2.06-.94-2.06-.94L8.5 2.5l-.94 2.06-2.06.94zm10 10l.94 2.06.94-2.06 2.06-.94-2.06-.94-.94-2.06-.94 2.06-2.06.94z\"/><path d=\"M17.41 7.96l-1.37-1.37c-.4-.4-.92-.59-1.43-.59-.52 0-1.04.2-1.43.59L10.3 9.45l-7.72 7.72c-.78.78-.78 2.05 0 2.83L4 21.41c.39.39.9.59 1.41.59.51 0 1.02-.2 1.41-.59l7.78-7.78 2.81-2.81c.8-.78.8-2.07 0-2.86zM5.41 20L4 18.59l7.72-7.72 1.47 1.35L5.41 20z\"/>\n",
              "  </svg>\n",
              "      </button>\n",
              "      \n",
              "  <style>\n",
              "    .colab-df-container {\n",
              "      display:flex;\n",
              "      flex-wrap:wrap;\n",
              "      gap: 12px;\n",
              "    }\n",
              "\n",
              "    .colab-df-convert {\n",
              "      background-color: #E8F0FE;\n",
              "      border: none;\n",
              "      border-radius: 50%;\n",
              "      cursor: pointer;\n",
              "      display: none;\n",
              "      fill: #1967D2;\n",
              "      height: 32px;\n",
              "      padding: 0 0 0 0;\n",
              "      width: 32px;\n",
              "    }\n",
              "\n",
              "    .colab-df-convert:hover {\n",
              "      background-color: #E2EBFA;\n",
              "      box-shadow: 0px 1px 2px rgba(60, 64, 67, 0.3), 0px 1px 3px 1px rgba(60, 64, 67, 0.15);\n",
              "      fill: #174EA6;\n",
              "    }\n",
              "\n",
              "    [theme=dark] .colab-df-convert {\n",
              "      background-color: #3B4455;\n",
              "      fill: #D2E3FC;\n",
              "    }\n",
              "\n",
              "    [theme=dark] .colab-df-convert:hover {\n",
              "      background-color: #434B5C;\n",
              "      box-shadow: 0px 1px 3px 1px rgba(0, 0, 0, 0.15);\n",
              "      filter: drop-shadow(0px 1px 2px rgba(0, 0, 0, 0.3));\n",
              "      fill: #FFFFFF;\n",
              "    }\n",
              "  </style>\n",
              "\n",
              "      <script>\n",
              "        const buttonEl =\n",
              "          document.querySelector('#df-b9a2a1ff-e929-45ce-9e95-604d5657baaa button.colab-df-convert');\n",
              "        buttonEl.style.display =\n",
              "          google.colab.kernel.accessAllowed ? 'block' : 'none';\n",
              "\n",
              "        async function convertToInteractive(key) {\n",
              "          const element = document.querySelector('#df-b9a2a1ff-e929-45ce-9e95-604d5657baaa');\n",
              "          const dataTable =\n",
              "            await google.colab.kernel.invokeFunction('convertToInteractive',\n",
              "                                                     [key], {});\n",
              "          if (!dataTable) return;\n",
              "\n",
              "          const docLinkHtml = 'Like what you see? Visit the ' +\n",
              "            '<a target=\"_blank\" href=https://colab.research.google.com/notebooks/data_table.ipynb>data table notebook</a>'\n",
              "            + ' to learn more about interactive tables.';\n",
              "          element.innerHTML = '';\n",
              "          dataTable['output_type'] = 'display_data';\n",
              "          await google.colab.output.renderOutput(dataTable, element);\n",
              "          const docLink = document.createElement('div');\n",
              "          docLink.innerHTML = docLinkHtml;\n",
              "          element.appendChild(docLink);\n",
              "        }\n",
              "      </script>\n",
              "    </div>\n",
              "  </div>\n",
              "  "
            ]
          },
          "metadata": {},
          "execution_count": 233
        }
      ]
    },
    {
      "cell_type": "markdown",
      "source": [
        "#### How to select rows?\n",
        "If the index are default sequential integers, simply select as if you are selecting from an array:"
      ],
      "metadata": {
        "id": "UDu0HRs-1-NV"
      }
    },
    {
      "cell_type": "code",
      "source": [
        "singapore_cars[100:200]"
      ],
      "metadata": {
        "colab": {
          "base_uri": "https://localhost:8080/",
          "height": 424
        },
        "id": "kpkNuTfx2bP8",
        "outputId": "90673396-c1b8-4f61-9332-f47bd306986b"
      },
      "execution_count": 234,
      "outputs": [
        {
          "output_type": "execute_result",
          "data": {
            "text/plain": [
              "     year           make    fuel                                 type  number\n",
              "100  2015  MERCEDES BENZ  Petrol  Multi-purpose Vehicle/Station-wagon    61.0\n",
              "101  2015  MERCEDES BENZ  Diesel  Multi-purpose Vehicle/Station-wagon    12.0\n",
              "102  2015         NISSAN  Petrol  Multi-purpose Vehicle/Station-wagon   103.0\n",
              "103  2015         NISSAN  Others  Multi-purpose Vehicle/Station-wagon    21.0\n",
              "104  2015           OPEL  Petrol  Multi-purpose Vehicle/Station-wagon    25.0\n",
              "..    ...            ...     ...                                  ...     ...\n",
              "195  2016         B.M.W.  Diesel                            Hatchback   949.0\n",
              "196  2016         B.M.W.  Others                            Hatchback     6.0\n",
              "197  2016            BYD  Others                            Hatchback     7.0\n",
              "198  2016          CHERY  Petrol                            Hatchback     6.0\n",
              "199  2016      CHEVROLET  Petrol                            Hatchback     5.0\n",
              "\n",
              "[100 rows x 5 columns]"
            ],
            "text/html": [
              "\n",
              "  <div id=\"df-ab363d13-a03e-4c9b-988c-238a0876e322\">\n",
              "    <div class=\"colab-df-container\">\n",
              "      <div>\n",
              "<style scoped>\n",
              "    .dataframe tbody tr th:only-of-type {\n",
              "        vertical-align: middle;\n",
              "    }\n",
              "\n",
              "    .dataframe tbody tr th {\n",
              "        vertical-align: top;\n",
              "    }\n",
              "\n",
              "    .dataframe thead th {\n",
              "        text-align: right;\n",
              "    }\n",
              "</style>\n",
              "<table border=\"1\" class=\"dataframe\">\n",
              "  <thead>\n",
              "    <tr style=\"text-align: right;\">\n",
              "      <th></th>\n",
              "      <th>year</th>\n",
              "      <th>make</th>\n",
              "      <th>fuel</th>\n",
              "      <th>type</th>\n",
              "      <th>number</th>\n",
              "    </tr>\n",
              "  </thead>\n",
              "  <tbody>\n",
              "    <tr>\n",
              "      <th>100</th>\n",
              "      <td>2015</td>\n",
              "      <td>MERCEDES BENZ</td>\n",
              "      <td>Petrol</td>\n",
              "      <td>Multi-purpose Vehicle/Station-wagon</td>\n",
              "      <td>61.0</td>\n",
              "    </tr>\n",
              "    <tr>\n",
              "      <th>101</th>\n",
              "      <td>2015</td>\n",
              "      <td>MERCEDES BENZ</td>\n",
              "      <td>Diesel</td>\n",
              "      <td>Multi-purpose Vehicle/Station-wagon</td>\n",
              "      <td>12.0</td>\n",
              "    </tr>\n",
              "    <tr>\n",
              "      <th>102</th>\n",
              "      <td>2015</td>\n",
              "      <td>NISSAN</td>\n",
              "      <td>Petrol</td>\n",
              "      <td>Multi-purpose Vehicle/Station-wagon</td>\n",
              "      <td>103.0</td>\n",
              "    </tr>\n",
              "    <tr>\n",
              "      <th>103</th>\n",
              "      <td>2015</td>\n",
              "      <td>NISSAN</td>\n",
              "      <td>Others</td>\n",
              "      <td>Multi-purpose Vehicle/Station-wagon</td>\n",
              "      <td>21.0</td>\n",
              "    </tr>\n",
              "    <tr>\n",
              "      <th>104</th>\n",
              "      <td>2015</td>\n",
              "      <td>OPEL</td>\n",
              "      <td>Petrol</td>\n",
              "      <td>Multi-purpose Vehicle/Station-wagon</td>\n",
              "      <td>25.0</td>\n",
              "    </tr>\n",
              "    <tr>\n",
              "      <th>...</th>\n",
              "      <td>...</td>\n",
              "      <td>...</td>\n",
              "      <td>...</td>\n",
              "      <td>...</td>\n",
              "      <td>...</td>\n",
              "    </tr>\n",
              "    <tr>\n",
              "      <th>195</th>\n",
              "      <td>2016</td>\n",
              "      <td>B.M.W.</td>\n",
              "      <td>Diesel</td>\n",
              "      <td>Hatchback</td>\n",
              "      <td>949.0</td>\n",
              "    </tr>\n",
              "    <tr>\n",
              "      <th>196</th>\n",
              "      <td>2016</td>\n",
              "      <td>B.M.W.</td>\n",
              "      <td>Others</td>\n",
              "      <td>Hatchback</td>\n",
              "      <td>6.0</td>\n",
              "    </tr>\n",
              "    <tr>\n",
              "      <th>197</th>\n",
              "      <td>2016</td>\n",
              "      <td>BYD</td>\n",
              "      <td>Others</td>\n",
              "      <td>Hatchback</td>\n",
              "      <td>7.0</td>\n",
              "    </tr>\n",
              "    <tr>\n",
              "      <th>198</th>\n",
              "      <td>2016</td>\n",
              "      <td>CHERY</td>\n",
              "      <td>Petrol</td>\n",
              "      <td>Hatchback</td>\n",
              "      <td>6.0</td>\n",
              "    </tr>\n",
              "    <tr>\n",
              "      <th>199</th>\n",
              "      <td>2016</td>\n",
              "      <td>CHEVROLET</td>\n",
              "      <td>Petrol</td>\n",
              "      <td>Hatchback</td>\n",
              "      <td>5.0</td>\n",
              "    </tr>\n",
              "  </tbody>\n",
              "</table>\n",
              "<p>100 rows × 5 columns</p>\n",
              "</div>\n",
              "      <button class=\"colab-df-convert\" onclick=\"convertToInteractive('df-ab363d13-a03e-4c9b-988c-238a0876e322')\"\n",
              "              title=\"Convert this dataframe to an interactive table.\"\n",
              "              style=\"display:none;\">\n",
              "        \n",
              "  <svg xmlns=\"http://www.w3.org/2000/svg\" height=\"24px\"viewBox=\"0 0 24 24\"\n",
              "       width=\"24px\">\n",
              "    <path d=\"M0 0h24v24H0V0z\" fill=\"none\"/>\n",
              "    <path d=\"M18.56 5.44l.94 2.06.94-2.06 2.06-.94-2.06-.94-.94-2.06-.94 2.06-2.06.94zm-11 1L8.5 8.5l.94-2.06 2.06-.94-2.06-.94L8.5 2.5l-.94 2.06-2.06.94zm10 10l.94 2.06.94-2.06 2.06-.94-2.06-.94-.94-2.06-.94 2.06-2.06.94z\"/><path d=\"M17.41 7.96l-1.37-1.37c-.4-.4-.92-.59-1.43-.59-.52 0-1.04.2-1.43.59L10.3 9.45l-7.72 7.72c-.78.78-.78 2.05 0 2.83L4 21.41c.39.39.9.59 1.41.59.51 0 1.02-.2 1.41-.59l7.78-7.78 2.81-2.81c.8-.78.8-2.07 0-2.86zM5.41 20L4 18.59l7.72-7.72 1.47 1.35L5.41 20z\"/>\n",
              "  </svg>\n",
              "      </button>\n",
              "      \n",
              "  <style>\n",
              "    .colab-df-container {\n",
              "      display:flex;\n",
              "      flex-wrap:wrap;\n",
              "      gap: 12px;\n",
              "    }\n",
              "\n",
              "    .colab-df-convert {\n",
              "      background-color: #E8F0FE;\n",
              "      border: none;\n",
              "      border-radius: 50%;\n",
              "      cursor: pointer;\n",
              "      display: none;\n",
              "      fill: #1967D2;\n",
              "      height: 32px;\n",
              "      padding: 0 0 0 0;\n",
              "      width: 32px;\n",
              "    }\n",
              "\n",
              "    .colab-df-convert:hover {\n",
              "      background-color: #E2EBFA;\n",
              "      box-shadow: 0px 1px 2px rgba(60, 64, 67, 0.3), 0px 1px 3px 1px rgba(60, 64, 67, 0.15);\n",
              "      fill: #174EA6;\n",
              "    }\n",
              "\n",
              "    [theme=dark] .colab-df-convert {\n",
              "      background-color: #3B4455;\n",
              "      fill: #D2E3FC;\n",
              "    }\n",
              "\n",
              "    [theme=dark] .colab-df-convert:hover {\n",
              "      background-color: #434B5C;\n",
              "      box-shadow: 0px 1px 3px 1px rgba(0, 0, 0, 0.15);\n",
              "      filter: drop-shadow(0px 1px 2px rgba(0, 0, 0, 0.3));\n",
              "      fill: #FFFFFF;\n",
              "    }\n",
              "  </style>\n",
              "\n",
              "      <script>\n",
              "        const buttonEl =\n",
              "          document.querySelector('#df-ab363d13-a03e-4c9b-988c-238a0876e322 button.colab-df-convert');\n",
              "        buttonEl.style.display =\n",
              "          google.colab.kernel.accessAllowed ? 'block' : 'none';\n",
              "\n",
              "        async function convertToInteractive(key) {\n",
              "          const element = document.querySelector('#df-ab363d13-a03e-4c9b-988c-238a0876e322');\n",
              "          const dataTable =\n",
              "            await google.colab.kernel.invokeFunction('convertToInteractive',\n",
              "                                                     [key], {});\n",
              "          if (!dataTable) return;\n",
              "\n",
              "          const docLinkHtml = 'Like what you see? Visit the ' +\n",
              "            '<a target=\"_blank\" href=https://colab.research.google.com/notebooks/data_table.ipynb>data table notebook</a>'\n",
              "            + ' to learn more about interactive tables.';\n",
              "          element.innerHTML = '';\n",
              "          dataTable['output_type'] = 'display_data';\n",
              "          await google.colab.output.renderOutput(dataTable, element);\n",
              "          const docLink = document.createElement('div');\n",
              "          docLink.innerHTML = docLinkHtml;\n",
              "          element.appendChild(docLink);\n",
              "        }\n",
              "      </script>\n",
              "    </div>\n",
              "  </div>\n",
              "  "
            ]
          },
          "metadata": {},
          "execution_count": 234
        }
      ]
    },
    {
      "cell_type": "markdown",
      "source": [
        "#### How to select by columns and rows (aka indexing)?\n",
        "\n",
        "Sometimes we want a specific \"section\" of the `DataFrame`, say the first 3 rows with just the middle 3 columns:"
      ],
      "metadata": {
        "id": "8TDILsqY2se5"
      }
    },
    {
      "cell_type": "code",
      "source": [
        "singapore_cars.iloc[0:3, 1:4]"
      ],
      "metadata": {
        "colab": {
          "base_uri": "https://localhost:8080/",
          "height": 143
        },
        "id": "QYw4X9dB3Nxr",
        "outputId": "6927ad7d-e196-4450-ad5b-de4db83f5a43"
      },
      "execution_count": 235,
      "outputs": [
        {
          "output_type": "execute_result",
          "data": {
            "text/plain": [
              "           make    fuel       type\n",
              "0    ALFA ROMEO  Petrol  Hatchback\n",
              "1  ASTON MARTIN  Petrol  Hatchback\n",
              "2          AUDI  Petrol  Hatchback"
            ],
            "text/html": [
              "\n",
              "  <div id=\"df-acfb626e-96aa-47f5-92e5-bf53873ceb3b\">\n",
              "    <div class=\"colab-df-container\">\n",
              "      <div>\n",
              "<style scoped>\n",
              "    .dataframe tbody tr th:only-of-type {\n",
              "        vertical-align: middle;\n",
              "    }\n",
              "\n",
              "    .dataframe tbody tr th {\n",
              "        vertical-align: top;\n",
              "    }\n",
              "\n",
              "    .dataframe thead th {\n",
              "        text-align: right;\n",
              "    }\n",
              "</style>\n",
              "<table border=\"1\" class=\"dataframe\">\n",
              "  <thead>\n",
              "    <tr style=\"text-align: right;\">\n",
              "      <th></th>\n",
              "      <th>make</th>\n",
              "      <th>fuel</th>\n",
              "      <th>type</th>\n",
              "    </tr>\n",
              "  </thead>\n",
              "  <tbody>\n",
              "    <tr>\n",
              "      <th>0</th>\n",
              "      <td>ALFA ROMEO</td>\n",
              "      <td>Petrol</td>\n",
              "      <td>Hatchback</td>\n",
              "    </tr>\n",
              "    <tr>\n",
              "      <th>1</th>\n",
              "      <td>ASTON MARTIN</td>\n",
              "      <td>Petrol</td>\n",
              "      <td>Hatchback</td>\n",
              "    </tr>\n",
              "    <tr>\n",
              "      <th>2</th>\n",
              "      <td>AUDI</td>\n",
              "      <td>Petrol</td>\n",
              "      <td>Hatchback</td>\n",
              "    </tr>\n",
              "  </tbody>\n",
              "</table>\n",
              "</div>\n",
              "      <button class=\"colab-df-convert\" onclick=\"convertToInteractive('df-acfb626e-96aa-47f5-92e5-bf53873ceb3b')\"\n",
              "              title=\"Convert this dataframe to an interactive table.\"\n",
              "              style=\"display:none;\">\n",
              "        \n",
              "  <svg xmlns=\"http://www.w3.org/2000/svg\" height=\"24px\"viewBox=\"0 0 24 24\"\n",
              "       width=\"24px\">\n",
              "    <path d=\"M0 0h24v24H0V0z\" fill=\"none\"/>\n",
              "    <path d=\"M18.56 5.44l.94 2.06.94-2.06 2.06-.94-2.06-.94-.94-2.06-.94 2.06-2.06.94zm-11 1L8.5 8.5l.94-2.06 2.06-.94-2.06-.94L8.5 2.5l-.94 2.06-2.06.94zm10 10l.94 2.06.94-2.06 2.06-.94-2.06-.94-.94-2.06-.94 2.06-2.06.94z\"/><path d=\"M17.41 7.96l-1.37-1.37c-.4-.4-.92-.59-1.43-.59-.52 0-1.04.2-1.43.59L10.3 9.45l-7.72 7.72c-.78.78-.78 2.05 0 2.83L4 21.41c.39.39.9.59 1.41.59.51 0 1.02-.2 1.41-.59l7.78-7.78 2.81-2.81c.8-.78.8-2.07 0-2.86zM5.41 20L4 18.59l7.72-7.72 1.47 1.35L5.41 20z\"/>\n",
              "  </svg>\n",
              "      </button>\n",
              "      \n",
              "  <style>\n",
              "    .colab-df-container {\n",
              "      display:flex;\n",
              "      flex-wrap:wrap;\n",
              "      gap: 12px;\n",
              "    }\n",
              "\n",
              "    .colab-df-convert {\n",
              "      background-color: #E8F0FE;\n",
              "      border: none;\n",
              "      border-radius: 50%;\n",
              "      cursor: pointer;\n",
              "      display: none;\n",
              "      fill: #1967D2;\n",
              "      height: 32px;\n",
              "      padding: 0 0 0 0;\n",
              "      width: 32px;\n",
              "    }\n",
              "\n",
              "    .colab-df-convert:hover {\n",
              "      background-color: #E2EBFA;\n",
              "      box-shadow: 0px 1px 2px rgba(60, 64, 67, 0.3), 0px 1px 3px 1px rgba(60, 64, 67, 0.15);\n",
              "      fill: #174EA6;\n",
              "    }\n",
              "\n",
              "    [theme=dark] .colab-df-convert {\n",
              "      background-color: #3B4455;\n",
              "      fill: #D2E3FC;\n",
              "    }\n",
              "\n",
              "    [theme=dark] .colab-df-convert:hover {\n",
              "      background-color: #434B5C;\n",
              "      box-shadow: 0px 1px 3px 1px rgba(0, 0, 0, 0.15);\n",
              "      filter: drop-shadow(0px 1px 2px rgba(0, 0, 0, 0.3));\n",
              "      fill: #FFFFFF;\n",
              "    }\n",
              "  </style>\n",
              "\n",
              "      <script>\n",
              "        const buttonEl =\n",
              "          document.querySelector('#df-acfb626e-96aa-47f5-92e5-bf53873ceb3b button.colab-df-convert');\n",
              "        buttonEl.style.display =\n",
              "          google.colab.kernel.accessAllowed ? 'block' : 'none';\n",
              "\n",
              "        async function convertToInteractive(key) {\n",
              "          const element = document.querySelector('#df-acfb626e-96aa-47f5-92e5-bf53873ceb3b');\n",
              "          const dataTable =\n",
              "            await google.colab.kernel.invokeFunction('convertToInteractive',\n",
              "                                                     [key], {});\n",
              "          if (!dataTable) return;\n",
              "\n",
              "          const docLinkHtml = 'Like what you see? Visit the ' +\n",
              "            '<a target=\"_blank\" href=https://colab.research.google.com/notebooks/data_table.ipynb>data table notebook</a>'\n",
              "            + ' to learn more about interactive tables.';\n",
              "          element.innerHTML = '';\n",
              "          dataTable['output_type'] = 'display_data';\n",
              "          await google.colab.output.renderOutput(dataTable, element);\n",
              "          const docLink = document.createElement('div');\n",
              "          docLink.innerHTML = docLinkHtml;\n",
              "          element.appendChild(docLink);\n",
              "        }\n",
              "      </script>\n",
              "    </div>\n",
              "  </div>\n",
              "  "
            ]
          },
          "metadata": {},
          "execution_count": 235
        }
      ]
    },
    {
      "cell_type": "markdown",
      "source": [
        "We use `iloc` to select by row and column's positions above; use `loc` to select by row and column's names/labels:"
      ],
      "metadata": {
        "id": "BS7B-O2k3zMy"
      }
    },
    {
      "cell_type": "code",
      "source": [
        "singapore_cars.loc[10:15, ['year', 'number']]"
      ],
      "metadata": {
        "colab": {
          "base_uri": "https://localhost:8080/",
          "height": 238
        },
        "id": "p_GIlYlo4F09",
        "outputId": "7c0f494b-7614-48cf-93a2-d304f8054e5e"
      },
      "execution_count": 236,
      "outputs": [
        {
          "output_type": "execute_result",
          "data": {
            "text/plain": [
              "    year  number\n",
              "10  2015    10.0\n",
              "11  2015     4.0\n",
              "12  2015     1.0\n",
              "13  2015     2.0\n",
              "14  2015   155.0\n",
              "15  2015  1068.0"
            ],
            "text/html": [
              "\n",
              "  <div id=\"df-631bd658-6aa7-496c-9787-aae537fcb21e\">\n",
              "    <div class=\"colab-df-container\">\n",
              "      <div>\n",
              "<style scoped>\n",
              "    .dataframe tbody tr th:only-of-type {\n",
              "        vertical-align: middle;\n",
              "    }\n",
              "\n",
              "    .dataframe tbody tr th {\n",
              "        vertical-align: top;\n",
              "    }\n",
              "\n",
              "    .dataframe thead th {\n",
              "        text-align: right;\n",
              "    }\n",
              "</style>\n",
              "<table border=\"1\" class=\"dataframe\">\n",
              "  <thead>\n",
              "    <tr style=\"text-align: right;\">\n",
              "      <th></th>\n",
              "      <th>year</th>\n",
              "      <th>number</th>\n",
              "    </tr>\n",
              "  </thead>\n",
              "  <tbody>\n",
              "    <tr>\n",
              "      <th>10</th>\n",
              "      <td>2015</td>\n",
              "      <td>10.0</td>\n",
              "    </tr>\n",
              "    <tr>\n",
              "      <th>11</th>\n",
              "      <td>2015</td>\n",
              "      <td>4.0</td>\n",
              "    </tr>\n",
              "    <tr>\n",
              "      <th>12</th>\n",
              "      <td>2015</td>\n",
              "      <td>1.0</td>\n",
              "    </tr>\n",
              "    <tr>\n",
              "      <th>13</th>\n",
              "      <td>2015</td>\n",
              "      <td>2.0</td>\n",
              "    </tr>\n",
              "    <tr>\n",
              "      <th>14</th>\n",
              "      <td>2015</td>\n",
              "      <td>155.0</td>\n",
              "    </tr>\n",
              "    <tr>\n",
              "      <th>15</th>\n",
              "      <td>2015</td>\n",
              "      <td>1068.0</td>\n",
              "    </tr>\n",
              "  </tbody>\n",
              "</table>\n",
              "</div>\n",
              "      <button class=\"colab-df-convert\" onclick=\"convertToInteractive('df-631bd658-6aa7-496c-9787-aae537fcb21e')\"\n",
              "              title=\"Convert this dataframe to an interactive table.\"\n",
              "              style=\"display:none;\">\n",
              "        \n",
              "  <svg xmlns=\"http://www.w3.org/2000/svg\" height=\"24px\"viewBox=\"0 0 24 24\"\n",
              "       width=\"24px\">\n",
              "    <path d=\"M0 0h24v24H0V0z\" fill=\"none\"/>\n",
              "    <path d=\"M18.56 5.44l.94 2.06.94-2.06 2.06-.94-2.06-.94-.94-2.06-.94 2.06-2.06.94zm-11 1L8.5 8.5l.94-2.06 2.06-.94-2.06-.94L8.5 2.5l-.94 2.06-2.06.94zm10 10l.94 2.06.94-2.06 2.06-.94-2.06-.94-.94-2.06-.94 2.06-2.06.94z\"/><path d=\"M17.41 7.96l-1.37-1.37c-.4-.4-.92-.59-1.43-.59-.52 0-1.04.2-1.43.59L10.3 9.45l-7.72 7.72c-.78.78-.78 2.05 0 2.83L4 21.41c.39.39.9.59 1.41.59.51 0 1.02-.2 1.41-.59l7.78-7.78 2.81-2.81c.8-.78.8-2.07 0-2.86zM5.41 20L4 18.59l7.72-7.72 1.47 1.35L5.41 20z\"/>\n",
              "  </svg>\n",
              "      </button>\n",
              "      \n",
              "  <style>\n",
              "    .colab-df-container {\n",
              "      display:flex;\n",
              "      flex-wrap:wrap;\n",
              "      gap: 12px;\n",
              "    }\n",
              "\n",
              "    .colab-df-convert {\n",
              "      background-color: #E8F0FE;\n",
              "      border: none;\n",
              "      border-radius: 50%;\n",
              "      cursor: pointer;\n",
              "      display: none;\n",
              "      fill: #1967D2;\n",
              "      height: 32px;\n",
              "      padding: 0 0 0 0;\n",
              "      width: 32px;\n",
              "    }\n",
              "\n",
              "    .colab-df-convert:hover {\n",
              "      background-color: #E2EBFA;\n",
              "      box-shadow: 0px 1px 2px rgba(60, 64, 67, 0.3), 0px 1px 3px 1px rgba(60, 64, 67, 0.15);\n",
              "      fill: #174EA6;\n",
              "    }\n",
              "\n",
              "    [theme=dark] .colab-df-convert {\n",
              "      background-color: #3B4455;\n",
              "      fill: #D2E3FC;\n",
              "    }\n",
              "\n",
              "    [theme=dark] .colab-df-convert:hover {\n",
              "      background-color: #434B5C;\n",
              "      box-shadow: 0px 1px 3px 1px rgba(0, 0, 0, 0.15);\n",
              "      filter: drop-shadow(0px 1px 2px rgba(0, 0, 0, 0.3));\n",
              "      fill: #FFFFFF;\n",
              "    }\n",
              "  </style>\n",
              "\n",
              "      <script>\n",
              "        const buttonEl =\n",
              "          document.querySelector('#df-631bd658-6aa7-496c-9787-aae537fcb21e button.colab-df-convert');\n",
              "        buttonEl.style.display =\n",
              "          google.colab.kernel.accessAllowed ? 'block' : 'none';\n",
              "\n",
              "        async function convertToInteractive(key) {\n",
              "          const element = document.querySelector('#df-631bd658-6aa7-496c-9787-aae537fcb21e');\n",
              "          const dataTable =\n",
              "            await google.colab.kernel.invokeFunction('convertToInteractive',\n",
              "                                                     [key], {});\n",
              "          if (!dataTable) return;\n",
              "\n",
              "          const docLinkHtml = 'Like what you see? Visit the ' +\n",
              "            '<a target=\"_blank\" href=https://colab.research.google.com/notebooks/data_table.ipynb>data table notebook</a>'\n",
              "            + ' to learn more about interactive tables.';\n",
              "          element.innerHTML = '';\n",
              "          dataTable['output_type'] = 'display_data';\n",
              "          await google.colab.output.renderOutput(dataTable, element);\n",
              "          const docLink = document.createElement('div');\n",
              "          docLink.innerHTML = docLinkHtml;\n",
              "          element.appendChild(docLink);\n",
              "        }\n",
              "      </script>\n",
              "    </div>\n",
              "  </div>\n",
              "  "
            ]
          },
          "metadata": {},
          "execution_count": 236
        }
      ]
    },
    {
      "cell_type": "markdown",
      "source": [
        "In this case the rows' positions happen to be the same as the rows' names/labels. \n",
        "\n",
        "**Important**: when selecting by position (`iloc`) only the start point is included, the end point is excluded. When selecting by name/label (`loc`), both start and end points are included."
      ],
      "metadata": {
        "id": "76go0Hh04ni1"
      }
    },
    {
      "cell_type": "markdown",
      "source": [
        "#### How to filter rows based on conditions?\n",
        "\n",
        "This is useful when we want to zoom in to explore a subset of the data satisfying some condition(s). For example, to get only 2021 data on petrol cars:"
      ],
      "metadata": {
        "id": "Vx2ljK5B5EDz"
      }
    },
    {
      "cell_type": "code",
      "source": [
        "singapore_cars[(singapore_cars.year == 2021) & (singapore_cars.fuel == 'Petrol')]"
      ],
      "metadata": {
        "colab": {
          "base_uri": "https://localhost:8080/",
          "height": 424
        },
        "id": "a7V6Nszb5_H2",
        "outputId": "c1a3f4b7-f3df-4654-dbb0-256bed7f4da5"
      },
      "execution_count": 237,
      "outputs": [
        {
          "output_type": "execute_result",
          "data": {
            "text/plain": [
              "      year          make    fuel                type  number\n",
              "2375  2021    ALFA ROMEO  Petrol           Hatchback     NaN\n",
              "2377  2021        ALPINE  Petrol           Hatchback     NaN\n",
              "2378  2021  ASTON MARTIN  Petrol           Hatchback     NaN\n",
              "2379  2021          AUDI  Petrol           Hatchback    34.0\n",
              "2381  2021        AUSTIN  Petrol           Hatchback     1.0\n",
              "...    ...           ...     ...                 ...     ...\n",
              "2798  2021        SUBARU  Petrol  Coupe/ Convertible     NaN\n",
              "2800  2021        SUZUKI  Petrol  Coupe/ Convertible     NaN\n",
              "2803  2021        TOYOTA  Petrol  Coupe/ Convertible    27.0\n",
              "2806  2021    VOLKSWAGEN  Petrol  Coupe/ Convertible     2.0\n",
              "2808  2021         VOLVO  Petrol  Coupe/ Convertible     2.0\n",
              "\n",
              "[235 rows x 5 columns]"
            ],
            "text/html": [
              "\n",
              "  <div id=\"df-99d3341a-9392-4320-92f9-3f754053a3bf\">\n",
              "    <div class=\"colab-df-container\">\n",
              "      <div>\n",
              "<style scoped>\n",
              "    .dataframe tbody tr th:only-of-type {\n",
              "        vertical-align: middle;\n",
              "    }\n",
              "\n",
              "    .dataframe tbody tr th {\n",
              "        vertical-align: top;\n",
              "    }\n",
              "\n",
              "    .dataframe thead th {\n",
              "        text-align: right;\n",
              "    }\n",
              "</style>\n",
              "<table border=\"1\" class=\"dataframe\">\n",
              "  <thead>\n",
              "    <tr style=\"text-align: right;\">\n",
              "      <th></th>\n",
              "      <th>year</th>\n",
              "      <th>make</th>\n",
              "      <th>fuel</th>\n",
              "      <th>type</th>\n",
              "      <th>number</th>\n",
              "    </tr>\n",
              "  </thead>\n",
              "  <tbody>\n",
              "    <tr>\n",
              "      <th>2375</th>\n",
              "      <td>2021</td>\n",
              "      <td>ALFA ROMEO</td>\n",
              "      <td>Petrol</td>\n",
              "      <td>Hatchback</td>\n",
              "      <td>NaN</td>\n",
              "    </tr>\n",
              "    <tr>\n",
              "      <th>2377</th>\n",
              "      <td>2021</td>\n",
              "      <td>ALPINE</td>\n",
              "      <td>Petrol</td>\n",
              "      <td>Hatchback</td>\n",
              "      <td>NaN</td>\n",
              "    </tr>\n",
              "    <tr>\n",
              "      <th>2378</th>\n",
              "      <td>2021</td>\n",
              "      <td>ASTON MARTIN</td>\n",
              "      <td>Petrol</td>\n",
              "      <td>Hatchback</td>\n",
              "      <td>NaN</td>\n",
              "    </tr>\n",
              "    <tr>\n",
              "      <th>2379</th>\n",
              "      <td>2021</td>\n",
              "      <td>AUDI</td>\n",
              "      <td>Petrol</td>\n",
              "      <td>Hatchback</td>\n",
              "      <td>34.0</td>\n",
              "    </tr>\n",
              "    <tr>\n",
              "      <th>2381</th>\n",
              "      <td>2021</td>\n",
              "      <td>AUSTIN</td>\n",
              "      <td>Petrol</td>\n",
              "      <td>Hatchback</td>\n",
              "      <td>1.0</td>\n",
              "    </tr>\n",
              "    <tr>\n",
              "      <th>...</th>\n",
              "      <td>...</td>\n",
              "      <td>...</td>\n",
              "      <td>...</td>\n",
              "      <td>...</td>\n",
              "      <td>...</td>\n",
              "    </tr>\n",
              "    <tr>\n",
              "      <th>2798</th>\n",
              "      <td>2021</td>\n",
              "      <td>SUBARU</td>\n",
              "      <td>Petrol</td>\n",
              "      <td>Coupe/ Convertible</td>\n",
              "      <td>NaN</td>\n",
              "    </tr>\n",
              "    <tr>\n",
              "      <th>2800</th>\n",
              "      <td>2021</td>\n",
              "      <td>SUZUKI</td>\n",
              "      <td>Petrol</td>\n",
              "      <td>Coupe/ Convertible</td>\n",
              "      <td>NaN</td>\n",
              "    </tr>\n",
              "    <tr>\n",
              "      <th>2803</th>\n",
              "      <td>2021</td>\n",
              "      <td>TOYOTA</td>\n",
              "      <td>Petrol</td>\n",
              "      <td>Coupe/ Convertible</td>\n",
              "      <td>27.0</td>\n",
              "    </tr>\n",
              "    <tr>\n",
              "      <th>2806</th>\n",
              "      <td>2021</td>\n",
              "      <td>VOLKSWAGEN</td>\n",
              "      <td>Petrol</td>\n",
              "      <td>Coupe/ Convertible</td>\n",
              "      <td>2.0</td>\n",
              "    </tr>\n",
              "    <tr>\n",
              "      <th>2808</th>\n",
              "      <td>2021</td>\n",
              "      <td>VOLVO</td>\n",
              "      <td>Petrol</td>\n",
              "      <td>Coupe/ Convertible</td>\n",
              "      <td>2.0</td>\n",
              "    </tr>\n",
              "  </tbody>\n",
              "</table>\n",
              "<p>235 rows × 5 columns</p>\n",
              "</div>\n",
              "      <button class=\"colab-df-convert\" onclick=\"convertToInteractive('df-99d3341a-9392-4320-92f9-3f754053a3bf')\"\n",
              "              title=\"Convert this dataframe to an interactive table.\"\n",
              "              style=\"display:none;\">\n",
              "        \n",
              "  <svg xmlns=\"http://www.w3.org/2000/svg\" height=\"24px\"viewBox=\"0 0 24 24\"\n",
              "       width=\"24px\">\n",
              "    <path d=\"M0 0h24v24H0V0z\" fill=\"none\"/>\n",
              "    <path d=\"M18.56 5.44l.94 2.06.94-2.06 2.06-.94-2.06-.94-.94-2.06-.94 2.06-2.06.94zm-11 1L8.5 8.5l.94-2.06 2.06-.94-2.06-.94L8.5 2.5l-.94 2.06-2.06.94zm10 10l.94 2.06.94-2.06 2.06-.94-2.06-.94-.94-2.06-.94 2.06-2.06.94z\"/><path d=\"M17.41 7.96l-1.37-1.37c-.4-.4-.92-.59-1.43-.59-.52 0-1.04.2-1.43.59L10.3 9.45l-7.72 7.72c-.78.78-.78 2.05 0 2.83L4 21.41c.39.39.9.59 1.41.59.51 0 1.02-.2 1.41-.59l7.78-7.78 2.81-2.81c.8-.78.8-2.07 0-2.86zM5.41 20L4 18.59l7.72-7.72 1.47 1.35L5.41 20z\"/>\n",
              "  </svg>\n",
              "      </button>\n",
              "      \n",
              "  <style>\n",
              "    .colab-df-container {\n",
              "      display:flex;\n",
              "      flex-wrap:wrap;\n",
              "      gap: 12px;\n",
              "    }\n",
              "\n",
              "    .colab-df-convert {\n",
              "      background-color: #E8F0FE;\n",
              "      border: none;\n",
              "      border-radius: 50%;\n",
              "      cursor: pointer;\n",
              "      display: none;\n",
              "      fill: #1967D2;\n",
              "      height: 32px;\n",
              "      padding: 0 0 0 0;\n",
              "      width: 32px;\n",
              "    }\n",
              "\n",
              "    .colab-df-convert:hover {\n",
              "      background-color: #E2EBFA;\n",
              "      box-shadow: 0px 1px 2px rgba(60, 64, 67, 0.3), 0px 1px 3px 1px rgba(60, 64, 67, 0.15);\n",
              "      fill: #174EA6;\n",
              "    }\n",
              "\n",
              "    [theme=dark] .colab-df-convert {\n",
              "      background-color: #3B4455;\n",
              "      fill: #D2E3FC;\n",
              "    }\n",
              "\n",
              "    [theme=dark] .colab-df-convert:hover {\n",
              "      background-color: #434B5C;\n",
              "      box-shadow: 0px 1px 3px 1px rgba(0, 0, 0, 0.15);\n",
              "      filter: drop-shadow(0px 1px 2px rgba(0, 0, 0, 0.3));\n",
              "      fill: #FFFFFF;\n",
              "    }\n",
              "  </style>\n",
              "\n",
              "      <script>\n",
              "        const buttonEl =\n",
              "          document.querySelector('#df-99d3341a-9392-4320-92f9-3f754053a3bf button.colab-df-convert');\n",
              "        buttonEl.style.display =\n",
              "          google.colab.kernel.accessAllowed ? 'block' : 'none';\n",
              "\n",
              "        async function convertToInteractive(key) {\n",
              "          const element = document.querySelector('#df-99d3341a-9392-4320-92f9-3f754053a3bf');\n",
              "          const dataTable =\n",
              "            await google.colab.kernel.invokeFunction('convertToInteractive',\n",
              "                                                     [key], {});\n",
              "          if (!dataTable) return;\n",
              "\n",
              "          const docLinkHtml = 'Like what you see? Visit the ' +\n",
              "            '<a target=\"_blank\" href=https://colab.research.google.com/notebooks/data_table.ipynb>data table notebook</a>'\n",
              "            + ' to learn more about interactive tables.';\n",
              "          element.innerHTML = '';\n",
              "          dataTable['output_type'] = 'display_data';\n",
              "          await google.colab.output.renderOutput(dataTable, element);\n",
              "          const docLink = document.createElement('div');\n",
              "          docLink.innerHTML = docLinkHtml;\n",
              "          element.appendChild(docLink);\n",
              "        }\n",
              "      </script>\n",
              "    </div>\n",
              "  </div>\n",
              "  "
            ]
          },
          "metadata": {},
          "execution_count": 237
        }
      ]
    },
    {
      "cell_type": "markdown",
      "source": [
        "**Important**: Take note of the syntax here. We surround each condition with parentheses, and we use bitwise operators (`&`, `|`, `~`) instead of logical operators (`and`, `or`, `not`)."
      ],
      "metadata": {
        "id": "EN8IUoAH6bbj"
      }
    },
    {
      "cell_type": "markdown",
      "source": [
        "This mode of row selection/filtering is called \"boolean indexing\" because the selection is based on the specified condition evaluating to `True` or `False` (aka boolean). Rows that satisfy the condition are selected; those do not are filtered out. You can see the condition for the above example gets evaluated for each row as `True`/`False`:"
      ],
      "metadata": {
        "id": "yb0JINE69DV5"
      }
    },
    {
      "cell_type": "code",
      "source": [
        "(singapore_cars.year == 2021) & (singapore_cars.fuel == 'Petrol')"
      ],
      "metadata": {
        "colab": {
          "base_uri": "https://localhost:8080/"
        },
        "id": "GO6bHj8i-IBH",
        "outputId": "fdac1dfd-190b-43f4-d4d8-2cb60c1be524"
      },
      "execution_count": 238,
      "outputs": [
        {
          "output_type": "execute_result",
          "data": {
            "text/plain": [
              "0       False\n",
              "1       False\n",
              "2       False\n",
              "3       False\n",
              "4       False\n",
              "        ...  \n",
              "2805    False\n",
              "2806     True\n",
              "2807    False\n",
              "2808     True\n",
              "2809    False\n",
              "Length: 2810, dtype: bool"
            ]
          },
          "metadata": {},
          "execution_count": 238
        }
      ]
    },
    {
      "cell_type": "markdown",
      "source": [
        "Think of `True` as 1 and `False` as 0, summing along the resulting `Series` gives us the number of rows that satisfy our condition, which matches our boolean indexing results above:"
      ],
      "metadata": {
        "id": "l-NiTFad-gye"
      }
    },
    {
      "cell_type": "code",
      "source": [
        "sum((singapore_cars.year == 2021) & (singapore_cars.fuel == 'Petrol'))"
      ],
      "metadata": {
        "colab": {
          "base_uri": "https://localhost:8080/"
        },
        "id": "_7fGhwBR-I10",
        "outputId": "e873524f-2320-453f-f03e-165d7fe556ff"
      },
      "execution_count": 239,
      "outputs": [
        {
          "output_type": "execute_result",
          "data": {
            "text/plain": [
              "235"
            ]
          },
          "metadata": {},
          "execution_count": 239
        }
      ]
    },
    {
      "cell_type": "markdown",
      "source": [
        "### 3.2.4. Exploring the data\n",
        "\n",
        "Exploratory analysis is crucial in understanding the data. Pandas provides functions such as `value_counts`, `nunique`, `describe` alongside common summary statistical functions including `max`, `min`, `mean`, `median` to help us with the process."
      ],
      "metadata": {
        "id": "JW-7uOl_ATPX"
      }
    },
    {
      "cell_type": "markdown",
      "source": [
        "First, recall the `number` column has many missing values, which means those records do not correspond to any registration:"
      ],
      "metadata": {
        "id": "bTUSgNkHB_F-"
      }
    },
    {
      "cell_type": "code",
      "source": [
        "singapore_cars.info()"
      ],
      "metadata": {
        "colab": {
          "base_uri": "https://localhost:8080/"
        },
        "id": "fXP-Ee5hki74",
        "outputId": "5f57ee0d-f025-43d8-ffef-2841b059511d"
      },
      "execution_count": 240,
      "outputs": [
        {
          "output_type": "stream",
          "name": "stdout",
          "text": [
            "<class 'pandas.core.frame.DataFrame'>\n",
            "RangeIndex: 2810 entries, 0 to 2809\n",
            "Data columns (total 5 columns):\n",
            " #   Column  Non-Null Count  Dtype  \n",
            "---  ------  --------------  -----  \n",
            " 0   year    2810 non-null   int64  \n",
            " 1   make    2810 non-null   object \n",
            " 2   fuel    2810 non-null   object \n",
            " 3   type    2810 non-null   object \n",
            " 4   number  1432 non-null   float64\n",
            "dtypes: float64(1), int64(1), object(3)\n",
            "memory usage: 109.9+ KB\n"
          ]
        }
      ]
    },
    {
      "cell_type": "markdown",
      "source": [
        "Let's filter them out using boolean indexing:"
      ],
      "metadata": {
        "id": "j38BPaURkyxv"
      }
    },
    {
      "cell_type": "code",
      "source": [
        "singapore_cars_cleaned = singapore_cars[~np.isnan(singapore_cars.number)]\n",
        "singapore_cars_cleaned.info()"
      ],
      "metadata": {
        "colab": {
          "base_uri": "https://localhost:8080/"
        },
        "id": "dNV39fTjCb4C",
        "outputId": "558d2c50-bc12-4be4-eeac-286c6e7d7aff"
      },
      "execution_count": 241,
      "outputs": [
        {
          "output_type": "stream",
          "name": "stdout",
          "text": [
            "<class 'pandas.core.frame.DataFrame'>\n",
            "Int64Index: 1432 entries, 0 to 2808\n",
            "Data columns (total 5 columns):\n",
            " #   Column  Non-Null Count  Dtype  \n",
            "---  ------  --------------  -----  \n",
            " 0   year    1432 non-null   int64  \n",
            " 1   make    1432 non-null   object \n",
            " 2   fuel    1432 non-null   object \n",
            " 3   type    1432 non-null   object \n",
            " 4   number  1432 non-null   float64\n",
            "dtypes: float64(1), int64(1), object(3)\n",
            "memory usage: 67.1+ KB\n"
          ]
        }
      ]
    },
    {
      "cell_type": "markdown",
      "source": [
        "#### How many unique rows?"
      ],
      "metadata": {
        "id": "f9vxgM-clCL6"
      }
    },
    {
      "cell_type": "markdown",
      "source": [
        "How many different types and makes of cars are registered in Singapore over time?"
      ],
      "metadata": {
        "id": "7fqlzLDWBD73"
      }
    },
    {
      "cell_type": "code",
      "source": [
        "singapore_cars_cleaned.year.value_counts()"
      ],
      "metadata": {
        "colab": {
          "base_uri": "https://localhost:8080/"
        },
        "id": "_26w9sY3AeyG",
        "outputId": "0472b4c0-6492-4f3f-fb46-81eb2e030b87"
      },
      "execution_count": 242,
      "outputs": [
        {
          "output_type": "execute_result",
          "data": {
            "text/plain": [
              "2017    232\n",
              "2021    219\n",
              "2018    199\n",
              "2019    198\n",
              "2016    197\n",
              "2020    196\n",
              "2015    191\n",
              "Name: year, dtype: int64"
            ]
          },
          "metadata": {},
          "execution_count": 242
        }
      ]
    },
    {
      "cell_type": "markdown",
      "source": [
        "Seems like the number of different types and makes of cars registered in Signapore are fairly constant over time. Just to be sure, we can check the breakdown in percentage:"
      ],
      "metadata": {
        "id": "NgjTlCXqFWWK"
      }
    },
    {
      "cell_type": "code",
      "source": [
        "singapore_cars_cleaned.year.value_counts(normalize=True)"
      ],
      "metadata": {
        "colab": {
          "base_uri": "https://localhost:8080/"
        },
        "id": "Hhp53UqHFjc2",
        "outputId": "11403418-d2f5-4e20-ef39-8e2f9593a085"
      },
      "execution_count": 243,
      "outputs": [
        {
          "output_type": "execute_result",
          "data": {
            "text/plain": [
              "2017    0.162011\n",
              "2021    0.152933\n",
              "2018    0.138966\n",
              "2019    0.138268\n",
              "2016    0.137570\n",
              "2020    0.136872\n",
              "2015    0.133380\n",
              "Name: year, dtype: float64"
            ]
          },
          "metadata": {},
          "execution_count": 243
        }
      ]
    },
    {
      "cell_type": "markdown",
      "source": [
        "Let's drill down to the 2021 registration data:"
      ],
      "metadata": {
        "id": "Nj1QZpkiBfaw"
      }
    },
    {
      "cell_type": "code",
      "source": [
        "singapore_cars_2021 = singapore_cars_cleaned[singapore_cars_cleaned.year == 2021]\n",
        "singapore_cars_2021"
      ],
      "metadata": {
        "colab": {
          "base_uri": "https://localhost:8080/",
          "height": 424
        },
        "id": "c_P1yolRBWx6",
        "outputId": "cdda4bee-be11-4b57-fbce-3708491be823"
      },
      "execution_count": 244,
      "outputs": [
        {
          "output_type": "execute_result",
          "data": {
            "text/plain": [
              "      year         make    fuel                type  number\n",
              "2379  2021         AUDI  Petrol           Hatchback    34.0\n",
              "2380  2021         AUDI  Others           Hatchback   339.0\n",
              "2381  2021       AUSTIN  Petrol           Hatchback     1.0\n",
              "2382  2021       B.M.W.  Petrol           Hatchback  1438.0\n",
              "2384  2021       B.M.W.  Others           Hatchback     9.0\n",
              "...    ...          ...     ...                 ...     ...\n",
              "2791  2021  ROLLS ROYCE  Petrol  Coupe/ Convertible    23.0\n",
              "2803  2021       TOYOTA  Petrol  Coupe/ Convertible    27.0\n",
              "2806  2021   VOLKSWAGEN  Petrol  Coupe/ Convertible     2.0\n",
              "2807  2021   VOLKSWAGEN  Others  Coupe/ Convertible     1.0\n",
              "2808  2021        VOLVO  Petrol  Coupe/ Convertible     2.0\n",
              "\n",
              "[219 rows x 5 columns]"
            ],
            "text/html": [
              "\n",
              "  <div id=\"df-c0fe1875-cff3-4dca-8105-9603bdfb35fe\">\n",
              "    <div class=\"colab-df-container\">\n",
              "      <div>\n",
              "<style scoped>\n",
              "    .dataframe tbody tr th:only-of-type {\n",
              "        vertical-align: middle;\n",
              "    }\n",
              "\n",
              "    .dataframe tbody tr th {\n",
              "        vertical-align: top;\n",
              "    }\n",
              "\n",
              "    .dataframe thead th {\n",
              "        text-align: right;\n",
              "    }\n",
              "</style>\n",
              "<table border=\"1\" class=\"dataframe\">\n",
              "  <thead>\n",
              "    <tr style=\"text-align: right;\">\n",
              "      <th></th>\n",
              "      <th>year</th>\n",
              "      <th>make</th>\n",
              "      <th>fuel</th>\n",
              "      <th>type</th>\n",
              "      <th>number</th>\n",
              "    </tr>\n",
              "  </thead>\n",
              "  <tbody>\n",
              "    <tr>\n",
              "      <th>2379</th>\n",
              "      <td>2021</td>\n",
              "      <td>AUDI</td>\n",
              "      <td>Petrol</td>\n",
              "      <td>Hatchback</td>\n",
              "      <td>34.0</td>\n",
              "    </tr>\n",
              "    <tr>\n",
              "      <th>2380</th>\n",
              "      <td>2021</td>\n",
              "      <td>AUDI</td>\n",
              "      <td>Others</td>\n",
              "      <td>Hatchback</td>\n",
              "      <td>339.0</td>\n",
              "    </tr>\n",
              "    <tr>\n",
              "      <th>2381</th>\n",
              "      <td>2021</td>\n",
              "      <td>AUSTIN</td>\n",
              "      <td>Petrol</td>\n",
              "      <td>Hatchback</td>\n",
              "      <td>1.0</td>\n",
              "    </tr>\n",
              "    <tr>\n",
              "      <th>2382</th>\n",
              "      <td>2021</td>\n",
              "      <td>B.M.W.</td>\n",
              "      <td>Petrol</td>\n",
              "      <td>Hatchback</td>\n",
              "      <td>1438.0</td>\n",
              "    </tr>\n",
              "    <tr>\n",
              "      <th>2384</th>\n",
              "      <td>2021</td>\n",
              "      <td>B.M.W.</td>\n",
              "      <td>Others</td>\n",
              "      <td>Hatchback</td>\n",
              "      <td>9.0</td>\n",
              "    </tr>\n",
              "    <tr>\n",
              "      <th>...</th>\n",
              "      <td>...</td>\n",
              "      <td>...</td>\n",
              "      <td>...</td>\n",
              "      <td>...</td>\n",
              "      <td>...</td>\n",
              "    </tr>\n",
              "    <tr>\n",
              "      <th>2791</th>\n",
              "      <td>2021</td>\n",
              "      <td>ROLLS ROYCE</td>\n",
              "      <td>Petrol</td>\n",
              "      <td>Coupe/ Convertible</td>\n",
              "      <td>23.0</td>\n",
              "    </tr>\n",
              "    <tr>\n",
              "      <th>2803</th>\n",
              "      <td>2021</td>\n",
              "      <td>TOYOTA</td>\n",
              "      <td>Petrol</td>\n",
              "      <td>Coupe/ Convertible</td>\n",
              "      <td>27.0</td>\n",
              "    </tr>\n",
              "    <tr>\n",
              "      <th>2806</th>\n",
              "      <td>2021</td>\n",
              "      <td>VOLKSWAGEN</td>\n",
              "      <td>Petrol</td>\n",
              "      <td>Coupe/ Convertible</td>\n",
              "      <td>2.0</td>\n",
              "    </tr>\n",
              "    <tr>\n",
              "      <th>2807</th>\n",
              "      <td>2021</td>\n",
              "      <td>VOLKSWAGEN</td>\n",
              "      <td>Others</td>\n",
              "      <td>Coupe/ Convertible</td>\n",
              "      <td>1.0</td>\n",
              "    </tr>\n",
              "    <tr>\n",
              "      <th>2808</th>\n",
              "      <td>2021</td>\n",
              "      <td>VOLVO</td>\n",
              "      <td>Petrol</td>\n",
              "      <td>Coupe/ Convertible</td>\n",
              "      <td>2.0</td>\n",
              "    </tr>\n",
              "  </tbody>\n",
              "</table>\n",
              "<p>219 rows × 5 columns</p>\n",
              "</div>\n",
              "      <button class=\"colab-df-convert\" onclick=\"convertToInteractive('df-c0fe1875-cff3-4dca-8105-9603bdfb35fe')\"\n",
              "              title=\"Convert this dataframe to an interactive table.\"\n",
              "              style=\"display:none;\">\n",
              "        \n",
              "  <svg xmlns=\"http://www.w3.org/2000/svg\" height=\"24px\"viewBox=\"0 0 24 24\"\n",
              "       width=\"24px\">\n",
              "    <path d=\"M0 0h24v24H0V0z\" fill=\"none\"/>\n",
              "    <path d=\"M18.56 5.44l.94 2.06.94-2.06 2.06-.94-2.06-.94-.94-2.06-.94 2.06-2.06.94zm-11 1L8.5 8.5l.94-2.06 2.06-.94-2.06-.94L8.5 2.5l-.94 2.06-2.06.94zm10 10l.94 2.06.94-2.06 2.06-.94-2.06-.94-.94-2.06-.94 2.06-2.06.94z\"/><path d=\"M17.41 7.96l-1.37-1.37c-.4-.4-.92-.59-1.43-.59-.52 0-1.04.2-1.43.59L10.3 9.45l-7.72 7.72c-.78.78-.78 2.05 0 2.83L4 21.41c.39.39.9.59 1.41.59.51 0 1.02-.2 1.41-.59l7.78-7.78 2.81-2.81c.8-.78.8-2.07 0-2.86zM5.41 20L4 18.59l7.72-7.72 1.47 1.35L5.41 20z\"/>\n",
              "  </svg>\n",
              "      </button>\n",
              "      \n",
              "  <style>\n",
              "    .colab-df-container {\n",
              "      display:flex;\n",
              "      flex-wrap:wrap;\n",
              "      gap: 12px;\n",
              "    }\n",
              "\n",
              "    .colab-df-convert {\n",
              "      background-color: #E8F0FE;\n",
              "      border: none;\n",
              "      border-radius: 50%;\n",
              "      cursor: pointer;\n",
              "      display: none;\n",
              "      fill: #1967D2;\n",
              "      height: 32px;\n",
              "      padding: 0 0 0 0;\n",
              "      width: 32px;\n",
              "    }\n",
              "\n",
              "    .colab-df-convert:hover {\n",
              "      background-color: #E2EBFA;\n",
              "      box-shadow: 0px 1px 2px rgba(60, 64, 67, 0.3), 0px 1px 3px 1px rgba(60, 64, 67, 0.15);\n",
              "      fill: #174EA6;\n",
              "    }\n",
              "\n",
              "    [theme=dark] .colab-df-convert {\n",
              "      background-color: #3B4455;\n",
              "      fill: #D2E3FC;\n",
              "    }\n",
              "\n",
              "    [theme=dark] .colab-df-convert:hover {\n",
              "      background-color: #434B5C;\n",
              "      box-shadow: 0px 1px 3px 1px rgba(0, 0, 0, 0.15);\n",
              "      filter: drop-shadow(0px 1px 2px rgba(0, 0, 0, 0.3));\n",
              "      fill: #FFFFFF;\n",
              "    }\n",
              "  </style>\n",
              "\n",
              "      <script>\n",
              "        const buttonEl =\n",
              "          document.querySelector('#df-c0fe1875-cff3-4dca-8105-9603bdfb35fe button.colab-df-convert');\n",
              "        buttonEl.style.display =\n",
              "          google.colab.kernel.accessAllowed ? 'block' : 'none';\n",
              "\n",
              "        async function convertToInteractive(key) {\n",
              "          const element = document.querySelector('#df-c0fe1875-cff3-4dca-8105-9603bdfb35fe');\n",
              "          const dataTable =\n",
              "            await google.colab.kernel.invokeFunction('convertToInteractive',\n",
              "                                                     [key], {});\n",
              "          if (!dataTable) return;\n",
              "\n",
              "          const docLinkHtml = 'Like what you see? Visit the ' +\n",
              "            '<a target=\"_blank\" href=https://colab.research.google.com/notebooks/data_table.ipynb>data table notebook</a>'\n",
              "            + ' to learn more about interactive tables.';\n",
              "          element.innerHTML = '';\n",
              "          dataTable['output_type'] = 'display_data';\n",
              "          await google.colab.output.renderOutput(dataTable, element);\n",
              "          const docLink = document.createElement('div');\n",
              "          docLink.innerHTML = docLinkHtml;\n",
              "          element.appendChild(docLink);\n",
              "        }\n",
              "      </script>\n",
              "    </div>\n",
              "  </div>\n",
              "  "
            ]
          },
          "metadata": {},
          "execution_count": 244
        }
      ]
    },
    {
      "cell_type": "markdown",
      "source": [
        "What are the unique makes registered in 2021?"
      ],
      "metadata": {
        "id": "SmJbUQurGyzu"
      }
    },
    {
      "cell_type": "code",
      "source": [
        "singapore_cars_2021.make.unique()"
      ],
      "metadata": {
        "colab": {
          "base_uri": "https://localhost:8080/"
        },
        "id": "PbZV-jnqGjyj",
        "outputId": "2098d0eb-7ae7-4333-f9b2-11991c57e80e"
      },
      "execution_count": 245,
      "outputs": [
        {
          "output_type": "execute_result",
          "data": {
            "text/plain": [
              "array(['AUDI', 'AUSTIN', 'B.M.W.', 'BLUECAR', 'BYD', 'FIAT', 'FORD',\n",
              "       'HONDA', 'HYUNDAI', 'KIA', 'MAZDA', 'MERCEDES BENZ', 'MINI',\n",
              "       'MITSUBISHI', 'NISSAN', 'OPEL', 'PERODUA', 'PEUGEOT', 'PORSCHE',\n",
              "       'RENAULT', 'SEAT', 'SKODA', 'SUBARU', 'SUZUKI', 'TESLA', 'TOYOTA',\n",
              "       'VOLKSWAGEN', 'ALFA ROMEO', 'BENTLEY', 'CITROEN', 'DATSUN',\n",
              "       'INFINITI', 'JAGUAR', 'MASERATI', 'MITSUOKA', 'POLESTAR',\n",
              "       'ROLLS ROYCE', 'VOLVO', 'LAND ROVER', 'M.G.', 'MAXUS', 'SSANGYONG',\n",
              "       'ASTON MARTIN', 'JEEP', 'LAMBORGHINI', 'ALPINA', 'ALPINE',\n",
              "       'DAIHATSU', 'FERRARI', 'LOTUS', 'Mclaren', 'MORGAN'], dtype=object)"
            ]
          },
          "metadata": {},
          "execution_count": 245
        }
      ]
    },
    {
      "cell_type": "markdown",
      "source": [
        "How many unique values are there?"
      ],
      "metadata": {
        "id": "hAUNjbzFG2S1"
      }
    },
    {
      "cell_type": "code",
      "source": [
        "singapore_cars_2021.make.nunique()"
      ],
      "metadata": {
        "colab": {
          "base_uri": "https://localhost:8080/"
        },
        "id": "rZtRZ94MG381",
        "outputId": "22514948-693a-4670-96fb-ebbf15b89537"
      },
      "execution_count": 246,
      "outputs": [
        {
          "output_type": "execute_result",
          "data": {
            "text/plain": [
              "52"
            ]
          },
          "metadata": {},
          "execution_count": 246
        }
      ]
    },
    {
      "cell_type": "markdown",
      "source": [
        "#### How to calculate summary statistics?"
      ],
      "metadata": {
        "id": "pBItKOiwlbCK"
      }
    },
    {
      "cell_type": "markdown",
      "source": [
        "We can find basic statistics like we did on an `ndarray`, for example, finding the maximum number of cars registered in 2021 by make, fuel and type:"
      ],
      "metadata": {
        "id": "Hb9dHqy9DTwi"
      }
    },
    {
      "cell_type": "code",
      "source": [
        "singapore_cars_2021.number.max()"
      ],
      "metadata": {
        "colab": {
          "base_uri": "https://localhost:8080/"
        },
        "id": "QC24lMg6Ebid",
        "outputId": "f492604d-4184-4cb5-baa0-c3af81d55546"
      },
      "execution_count": 247,
      "outputs": [
        {
          "output_type": "execute_result",
          "data": {
            "text/plain": [
              "2557.0"
            ]
          },
          "metadata": {},
          "execution_count": 247
        }
      ]
    },
    {
      "cell_type": "markdown",
      "source": [
        "What is this most popular car (make-fule-type)?"
      ],
      "metadata": {
        "id": "t2a11vrPGRkR"
      }
    },
    {
      "cell_type": "code",
      "source": [
        "singapore_cars_2021.iloc[singapore_cars_2021.number.argmax(), ]"
      ],
      "metadata": {
        "colab": {
          "base_uri": "https://localhost:8080/"
        },
        "id": "dttz4heeEpk3",
        "outputId": "4283f177-8a6d-4473-85f4-6ff70bbef985"
      },
      "execution_count": 248,
      "outputs": [
        {
          "output_type": "execute_result",
          "data": {
            "text/plain": [
              "year                        2021\n",
              "make               MERCEDES BENZ\n",
              "fuel                      Petrol\n",
              "type      Sports Utility Vehicle\n",
              "number                    2557.0\n",
              "Name: 2684, dtype: object"
            ]
          },
          "metadata": {},
          "execution_count": 248
        }
      ]
    },
    {
      "cell_type": "markdown",
      "source": [
        "Going back to the all-time cleaned dataset, to quickly get common summary statistics for all columns at once:"
      ],
      "metadata": {
        "id": "bUPQK40fJQKQ"
      }
    },
    {
      "cell_type": "code",
      "source": [
        "singapore_cars_cleaned.describe(include='all')"
      ],
      "metadata": {
        "colab": {
          "base_uri": "https://localhost:8080/",
          "height": 394
        },
        "id": "hi4xCBeTHO77",
        "outputId": "fad854bc-435f-46f2-d85d-a8b31ff17e38"
      },
      "execution_count": 249,
      "outputs": [
        {
          "output_type": "execute_result",
          "data": {
            "text/plain": [
              "              year    make    fuel                    type        number\n",
              "count   1432.00000    1432    1432                    1432   1432.000000\n",
              "unique         NaN      71       3                       5           NaN\n",
              "top            NaN  B.M.W.  Petrol  Sports Utility Vehicle           NaN\n",
              "freq           NaN      82     950                     351           NaN\n",
              "mean    2018.03352     NaN     NaN                     NaN    334.879190\n",
              "std        1.99412     NaN     NaN                     NaN    820.163665\n",
              "min     2015.00000     NaN     NaN                     NaN      1.000000\n",
              "25%     2016.00000     NaN     NaN                     NaN      5.000000\n",
              "50%     2018.00000     NaN     NaN                     NaN     34.000000\n",
              "75%     2020.00000     NaN     NaN                     NaN    235.250000\n",
              "max     2021.00000     NaN     NaN                     NaN  10109.000000"
            ],
            "text/html": [
              "\n",
              "  <div id=\"df-5d3d93e5-7385-4bf9-92fd-3ef7f14b8502\">\n",
              "    <div class=\"colab-df-container\">\n",
              "      <div>\n",
              "<style scoped>\n",
              "    .dataframe tbody tr th:only-of-type {\n",
              "        vertical-align: middle;\n",
              "    }\n",
              "\n",
              "    .dataframe tbody tr th {\n",
              "        vertical-align: top;\n",
              "    }\n",
              "\n",
              "    .dataframe thead th {\n",
              "        text-align: right;\n",
              "    }\n",
              "</style>\n",
              "<table border=\"1\" class=\"dataframe\">\n",
              "  <thead>\n",
              "    <tr style=\"text-align: right;\">\n",
              "      <th></th>\n",
              "      <th>year</th>\n",
              "      <th>make</th>\n",
              "      <th>fuel</th>\n",
              "      <th>type</th>\n",
              "      <th>number</th>\n",
              "    </tr>\n",
              "  </thead>\n",
              "  <tbody>\n",
              "    <tr>\n",
              "      <th>count</th>\n",
              "      <td>1432.00000</td>\n",
              "      <td>1432</td>\n",
              "      <td>1432</td>\n",
              "      <td>1432</td>\n",
              "      <td>1432.000000</td>\n",
              "    </tr>\n",
              "    <tr>\n",
              "      <th>unique</th>\n",
              "      <td>NaN</td>\n",
              "      <td>71</td>\n",
              "      <td>3</td>\n",
              "      <td>5</td>\n",
              "      <td>NaN</td>\n",
              "    </tr>\n",
              "    <tr>\n",
              "      <th>top</th>\n",
              "      <td>NaN</td>\n",
              "      <td>B.M.W.</td>\n",
              "      <td>Petrol</td>\n",
              "      <td>Sports Utility Vehicle</td>\n",
              "      <td>NaN</td>\n",
              "    </tr>\n",
              "    <tr>\n",
              "      <th>freq</th>\n",
              "      <td>NaN</td>\n",
              "      <td>82</td>\n",
              "      <td>950</td>\n",
              "      <td>351</td>\n",
              "      <td>NaN</td>\n",
              "    </tr>\n",
              "    <tr>\n",
              "      <th>mean</th>\n",
              "      <td>2018.03352</td>\n",
              "      <td>NaN</td>\n",
              "      <td>NaN</td>\n",
              "      <td>NaN</td>\n",
              "      <td>334.879190</td>\n",
              "    </tr>\n",
              "    <tr>\n",
              "      <th>std</th>\n",
              "      <td>1.99412</td>\n",
              "      <td>NaN</td>\n",
              "      <td>NaN</td>\n",
              "      <td>NaN</td>\n",
              "      <td>820.163665</td>\n",
              "    </tr>\n",
              "    <tr>\n",
              "      <th>min</th>\n",
              "      <td>2015.00000</td>\n",
              "      <td>NaN</td>\n",
              "      <td>NaN</td>\n",
              "      <td>NaN</td>\n",
              "      <td>1.000000</td>\n",
              "    </tr>\n",
              "    <tr>\n",
              "      <th>25%</th>\n",
              "      <td>2016.00000</td>\n",
              "      <td>NaN</td>\n",
              "      <td>NaN</td>\n",
              "      <td>NaN</td>\n",
              "      <td>5.000000</td>\n",
              "    </tr>\n",
              "    <tr>\n",
              "      <th>50%</th>\n",
              "      <td>2018.00000</td>\n",
              "      <td>NaN</td>\n",
              "      <td>NaN</td>\n",
              "      <td>NaN</td>\n",
              "      <td>34.000000</td>\n",
              "    </tr>\n",
              "    <tr>\n",
              "      <th>75%</th>\n",
              "      <td>2020.00000</td>\n",
              "      <td>NaN</td>\n",
              "      <td>NaN</td>\n",
              "      <td>NaN</td>\n",
              "      <td>235.250000</td>\n",
              "    </tr>\n",
              "    <tr>\n",
              "      <th>max</th>\n",
              "      <td>2021.00000</td>\n",
              "      <td>NaN</td>\n",
              "      <td>NaN</td>\n",
              "      <td>NaN</td>\n",
              "      <td>10109.000000</td>\n",
              "    </tr>\n",
              "  </tbody>\n",
              "</table>\n",
              "</div>\n",
              "      <button class=\"colab-df-convert\" onclick=\"convertToInteractive('df-5d3d93e5-7385-4bf9-92fd-3ef7f14b8502')\"\n",
              "              title=\"Convert this dataframe to an interactive table.\"\n",
              "              style=\"display:none;\">\n",
              "        \n",
              "  <svg xmlns=\"http://www.w3.org/2000/svg\" height=\"24px\"viewBox=\"0 0 24 24\"\n",
              "       width=\"24px\">\n",
              "    <path d=\"M0 0h24v24H0V0z\" fill=\"none\"/>\n",
              "    <path d=\"M18.56 5.44l.94 2.06.94-2.06 2.06-.94-2.06-.94-.94-2.06-.94 2.06-2.06.94zm-11 1L8.5 8.5l.94-2.06 2.06-.94-2.06-.94L8.5 2.5l-.94 2.06-2.06.94zm10 10l.94 2.06.94-2.06 2.06-.94-2.06-.94-.94-2.06-.94 2.06-2.06.94z\"/><path d=\"M17.41 7.96l-1.37-1.37c-.4-.4-.92-.59-1.43-.59-.52 0-1.04.2-1.43.59L10.3 9.45l-7.72 7.72c-.78.78-.78 2.05 0 2.83L4 21.41c.39.39.9.59 1.41.59.51 0 1.02-.2 1.41-.59l7.78-7.78 2.81-2.81c.8-.78.8-2.07 0-2.86zM5.41 20L4 18.59l7.72-7.72 1.47 1.35L5.41 20z\"/>\n",
              "  </svg>\n",
              "      </button>\n",
              "      \n",
              "  <style>\n",
              "    .colab-df-container {\n",
              "      display:flex;\n",
              "      flex-wrap:wrap;\n",
              "      gap: 12px;\n",
              "    }\n",
              "\n",
              "    .colab-df-convert {\n",
              "      background-color: #E8F0FE;\n",
              "      border: none;\n",
              "      border-radius: 50%;\n",
              "      cursor: pointer;\n",
              "      display: none;\n",
              "      fill: #1967D2;\n",
              "      height: 32px;\n",
              "      padding: 0 0 0 0;\n",
              "      width: 32px;\n",
              "    }\n",
              "\n",
              "    .colab-df-convert:hover {\n",
              "      background-color: #E2EBFA;\n",
              "      box-shadow: 0px 1px 2px rgba(60, 64, 67, 0.3), 0px 1px 3px 1px rgba(60, 64, 67, 0.15);\n",
              "      fill: #174EA6;\n",
              "    }\n",
              "\n",
              "    [theme=dark] .colab-df-convert {\n",
              "      background-color: #3B4455;\n",
              "      fill: #D2E3FC;\n",
              "    }\n",
              "\n",
              "    [theme=dark] .colab-df-convert:hover {\n",
              "      background-color: #434B5C;\n",
              "      box-shadow: 0px 1px 3px 1px rgba(0, 0, 0, 0.15);\n",
              "      filter: drop-shadow(0px 1px 2px rgba(0, 0, 0, 0.3));\n",
              "      fill: #FFFFFF;\n",
              "    }\n",
              "  </style>\n",
              "\n",
              "      <script>\n",
              "        const buttonEl =\n",
              "          document.querySelector('#df-5d3d93e5-7385-4bf9-92fd-3ef7f14b8502 button.colab-df-convert');\n",
              "        buttonEl.style.display =\n",
              "          google.colab.kernel.accessAllowed ? 'block' : 'none';\n",
              "\n",
              "        async function convertToInteractive(key) {\n",
              "          const element = document.querySelector('#df-5d3d93e5-7385-4bf9-92fd-3ef7f14b8502');\n",
              "          const dataTable =\n",
              "            await google.colab.kernel.invokeFunction('convertToInteractive',\n",
              "                                                     [key], {});\n",
              "          if (!dataTable) return;\n",
              "\n",
              "          const docLinkHtml = 'Like what you see? Visit the ' +\n",
              "            '<a target=\"_blank\" href=https://colab.research.google.com/notebooks/data_table.ipynb>data table notebook</a>'\n",
              "            + ' to learn more about interactive tables.';\n",
              "          element.innerHTML = '';\n",
              "          dataTable['output_type'] = 'display_data';\n",
              "          await google.colab.output.renderOutput(dataTable, element);\n",
              "          const docLink = document.createElement('div');\n",
              "          docLink.innerHTML = docLinkHtml;\n",
              "          element.appendChild(docLink);\n",
              "        }\n",
              "      </script>\n",
              "    </div>\n",
              "  </div>\n",
              "  "
            ]
          },
          "metadata": {},
          "execution_count": 249
        }
      ]
    },
    {
      "cell_type": "markdown",
      "source": [
        "**Important**: NaN values signify missing data. For instance, the categorical/string columns such as `make`, `fuel` have no value for `mean`, `std` etc; likewise, numeric columns such as `number` and `year` have no entries for the categorical summary statistics (`unique`, `top`, `freq`)."
      ],
      "metadata": {
        "id": "YDNOcNa1JXQV"
      }
    },
    {
      "cell_type": "markdown",
      "source": [
        "### 3.2.5. Exercises: read and explore excel data"
      ],
      "metadata": {
        "id": "3jdkE99YhJtM"
      }
    },
    {
      "cell_type": "markdown",
      "source": [
        "Let's first prepare our environment with the latest version of the xlrd library. It's for reading data and formatting information from Excel files in the historical .xls format. After the installation completes, you will see a \"RESTART RUNTIME\" button, click on it to restart the environment so we can start using the newly installed library."
      ],
      "metadata": {
        "id": "3Wb5-AR9ISvp"
      }
    },
    {
      "cell_type": "code",
      "source": [
        "!pip install xlrd --upgrade"
      ],
      "metadata": {
        "colab": {
          "base_uri": "https://localhost:8080/"
        },
        "id": "SQZFDzdvmFdd",
        "outputId": "8eb3f0a6-ce1c-4855-c787-fa428dfe1569"
      },
      "execution_count": 250,
      "outputs": [
        {
          "output_type": "stream",
          "name": "stdout",
          "text": [
            "Looking in indexes: https://pypi.org/simple, https://us-python.pkg.dev/colab-wheels/public/simple/\n",
            "Requirement already satisfied: xlrd in /usr/local/lib/python3.7/dist-packages (2.0.1)\n"
          ]
        }
      ]
    },
    {
      "cell_type": "markdown",
      "source": [
        "#### Step 1.\n",
        "\n",
        "Create a `DataFrame` by reading in the excel file from the given URL stored in the `exercise_data_url` variable. There are 3 sheets in the excel file, we only want the last sheet.\n",
        "\n",
        "Store the resulting DataFrame in a variable named `sg_cars_excel`:\n"
      ],
      "metadata": {
        "id": "r3CI3OznhORw"
      }
    },
    {
      "cell_type": "code",
      "source": [
        "%%script echo Remove this line after filling in your own code\n",
        "\n",
        "import pandas as pd\n",
        "\n",
        "exercise_data_url = 'https://raw.githubusercontent.com/weilu/colab-sandbox/main/data/Singapore_Annual_New_Car_Registrations_by_make_type.xls'\n",
        "\n",
        "# hint: use pd.read_excel, note sheet index starts with 0\n",
        "# Your code here\n",
        "\n",
        "assert sg_cars_excel.shape == (79, 12)"
      ],
      "metadata": {
        "colab": {
          "base_uri": "https://localhost:8080/"
        },
        "id": "p49zDWEUkVIh",
        "outputId": "7439b82e-6336-455b-c59c-67ca918464ab"
      },
      "execution_count": 251,
      "outputs": [
        {
          "output_type": "stream",
          "name": "stdout",
          "text": [
            "Remove this line after filling in your own code\n"
          ]
        }
      ]
    },
    {
      "cell_type": "markdown",
      "source": [
        "#### Step 2.\n",
        "\n",
        "Inspect the first 3 and last 5 rows of `sg_cars_excel`:"
      ],
      "metadata": {
        "id": "C0gpmDMRnuRe"
      }
    },
    {
      "cell_type": "code",
      "source": [
        "%%script echo Remove this line after filling in your own code\n",
        "\n",
        "# hint: use head\n",
        "# Your code here"
      ],
      "metadata": {
        "colab": {
          "base_uri": "https://localhost:8080/"
        },
        "id": "abugBJLdn-eJ",
        "outputId": "957f370e-6b13-448e-cd13-42823673e6ff"
      },
      "execution_count": 252,
      "outputs": [
        {
          "output_type": "stream",
          "name": "stdout",
          "text": [
            "Remove this line after filling in your own code\n"
          ]
        }
      ]
    },
    {
      "cell_type": "code",
      "source": [
        "%%script echo Remove this line after filling in your own code\n",
        "\n",
        "# hint: use tail\n",
        "# Your code here"
      ],
      "metadata": {
        "colab": {
          "base_uri": "https://localhost:8080/"
        },
        "id": "MgPOYYtspVRr",
        "outputId": "b42710ca-2062-42fe-aaeb-0f356ca3e369"
      },
      "execution_count": 253,
      "outputs": [
        {
          "output_type": "stream",
          "name": "stdout",
          "text": [
            "Remove this line after filling in your own code\n"
          ]
        }
      ]
    },
    {
      "cell_type": "markdown",
      "source": [
        "#### Step 3.\n",
        "\n",
        "Notice the first value row is in fact the years and should be used as the column names. The DataFrame also contains 3 footer rows we want to exclude. Fix it either by re-reading the excel file with additional parameters or by manipulating the DataFrame.\n",
        "\n",
        "Store the fixed DataFrame in `sg_cars_excel_fixed`:"
      ],
      "metadata": {
        "id": "-9oandV8oQQi"
      }
    },
    {
      "cell_type": "code",
      "source": [
        "%%script echo Remove this line after filling in your own code\n",
        "\n",
        "# hint: if re-reading, check out the arguments: header=, skipfooter=\n",
        "# Your code here\n",
        "\n",
        "assert sg_cars_excel_fixed.shape == (75, 12)\n",
        "assert sg_cars_excel_fixed.columns[1] == 2011\n",
        "assert sg_cars_excel_fixed.columns[-1] == 2021\n",
        "assert sg_cars_excel_fixed.Make.iloc[0] == 'Alfa Romeo'\n",
        "assert sg_cars_excel_fixed.Make.iloc[-1] == 'Others'"
      ],
      "metadata": {
        "colab": {
          "base_uri": "https://localhost:8080/"
        },
        "id": "Mw2v9YIwpzB0",
        "outputId": "afcf7889-71eb-445e-b9ae-083ac765d34b"
      },
      "execution_count": 254,
      "outputs": [
        {
          "output_type": "stream",
          "name": "stdout",
          "text": [
            "Remove this line after filling in your own code\n"
          ]
        }
      ]
    },
    {
      "cell_type": "markdown",
      "source": [
        "#### Step 4.\n",
        "\n",
        "Inspect the summary statistics for every year:"
      ],
      "metadata": {
        "id": "e6uAhtNWrv8T"
      }
    },
    {
      "cell_type": "code",
      "source": [
        "%%script echo Remove this line after filling in your own code\n",
        "\n",
        "# hint: use describe\n",
        "# Your code here"
      ],
      "metadata": {
        "colab": {
          "base_uri": "https://localhost:8080/"
        },
        "id": "O0OKRAaErhsO",
        "outputId": "7df13a31-3907-4bef-97ae-79904b5a28cc"
      },
      "execution_count": 255,
      "outputs": [
        {
          "output_type": "stream",
          "name": "stdout",
          "text": [
            "Remove this line after filling in your own code\n"
          ]
        }
      ]
    },
    {
      "cell_type": "markdown",
      "source": [
        "#### Step 5.\n",
        "\n",
        "Isolate the registration numbers for the following 3 makes: \"Mercedes Benz\", \"Toyota\", \"Kia\". Store the resulting DataFrame in variable `sg_cars_excel_subset`:"
      ],
      "metadata": {
        "id": "453cyxxks7cn"
      }
    },
    {
      "cell_type": "code",
      "source": [
        "%%script echo Remove this line after filling in your own code\n",
        "\n",
        "# hint: use boolean indexing with isin\n",
        "# Your code here\n",
        "\n",
        "assert sg_cars_excel_subset.shape == (3, 12)\n",
        "assert \"Mercedes Benz\" in sg_cars_excel_subset.Make.values\n",
        "assert \"Toyota\" in sg_cars_excel_subset.Make.values\n",
        "assert \"Kia\" in sg_cars_excel_subset.Make.values"
      ],
      "metadata": {
        "colab": {
          "base_uri": "https://localhost:8080/"
        },
        "id": "P4Y0uSoBtafi",
        "outputId": "b59c218e-f231-478f-b1b8-750ed7c4c082"
      },
      "execution_count": 256,
      "outputs": [
        {
          "output_type": "stream",
          "name": "stdout",
          "text": [
            "Remove this line after filling in your own code\n"
          ]
        }
      ]
    },
    {
      "cell_type": "markdown",
      "source": [
        "#### Step 6.\n",
        "\n",
        "Only select the `Make` column and year 2019, 2020, and 2021 from the `sg_cars_excel_subset` DataFrame.\n",
        "\n",
        "Store the result in variable `sg_cars_excel_subsubset`:"
      ],
      "metadata": {
        "id": "INOrPAycuvLJ"
      }
    },
    {
      "cell_type": "code",
      "source": [
        "%%script echo Remove this line after filling in your own code\n",
        "\n",
        "# hint: use column selection\n",
        "# Your code here\n",
        "\n",
        "assert sg_cars_excel_subsubset.shape == (3, 4)\n",
        "assert sg_cars_excel_subsubset.columns.to_list() == ['Make', 2019, 2020, 2021]"
      ],
      "metadata": {
        "colab": {
          "base_uri": "https://localhost:8080/"
        },
        "id": "VTGMBzwdvJ56",
        "outputId": "2cd70a59-ce7f-4ed5-9ebe-c2a78830f7b6"
      },
      "execution_count": 257,
      "outputs": [
        {
          "output_type": "stream",
          "name": "stdout",
          "text": [
            "Remove this line after filling in your own code\n"
          ]
        }
      ]
    },
    {
      "cell_type": "markdown",
      "source": [
        "## 3.3. Data Wrangling\n",
        "\n",
        "All that we have learned so far gives us some basic understand of data. Next let's find out how to perform data wrangling, including data cleaning, grouping, reshaping, merging and concatenation using Pandas."
      ],
      "metadata": {
        "id": "VInfxOuHfuCK"
      }
    },
    {
      "cell_type": "markdown",
      "source": [
        "### 3.3.1. Data Cleaning\n",
        "\n",
        "In this section, we will take a look at dropping missing values; creating, renaming, and dropping columns; type conversion; and sorting – all of which make our analysis easier. We will be working with the Singapore monthly new car registration data – a dataset similar to the annual car registration data we worked previously, just more granular."
      ],
      "metadata": {
        "id": "ahIn81CpIQWM"
      }
    },
    {
      "cell_type": "code",
      "source": [
        "import pandas as pd\n",
        "import numpy as np\n",
        "\n",
        "cars_monthly = pd.read_csv('https://raw.githubusercontent.com/weilu/colab-sandbox/main/data/Singapore_Monthly_New_Car_Registrations_by_make_type.csv')\n",
        "cars_monthly"
      ],
      "metadata": {
        "colab": {
          "base_uri": "https://localhost:8080/",
          "height": 424
        },
        "id": "_r10Q0ouI812",
        "outputId": "541dfbcd-4a74-4048-eb1a-c0b5e63ffbcd"
      },
      "execution_count": 258,
      "outputs": [
        {
          "output_type": "execute_result",
          "data": {
            "text/plain": [
              "         month          make fuel_type        vehicle_type  number\n",
              "0      2016-01    ALFA ROMEO    Petrol           Hatchback     3.0\n",
              "1      2016-01        ALPINA    Petrol           Hatchback     0.0\n",
              "2      2016-01  ASTON MARTIN    Petrol           Hatchback     0.0\n",
              "3      2016-01          AUDI    Petrol           Hatchback    45.0\n",
              "4      2016-01        B.M.W.    Petrol           Hatchback     5.0\n",
              "...        ...           ...       ...                 ...     ...\n",
              "27910  2022-06       TRIUMPH    Petrol  Coupe/ Convertible     1.0\n",
              "27911  2022-06    VOLKSWAGEN    Petrol  Coupe/ Convertible     NaN\n",
              "27912  2022-06    VOLKSWAGEN    Others  Coupe/ Convertible     NaN\n",
              "27913  2022-06         VOLVO    Petrol  Coupe/ Convertible     NaN\n",
              "27914  2022-06         VOLVO    Others  Coupe/ Convertible     NaN\n",
              "\n",
              "[27915 rows x 5 columns]"
            ],
            "text/html": [
              "\n",
              "  <div id=\"df-f962c20c-36ee-427c-b548-a0a929f85f94\">\n",
              "    <div class=\"colab-df-container\">\n",
              "      <div>\n",
              "<style scoped>\n",
              "    .dataframe tbody tr th:only-of-type {\n",
              "        vertical-align: middle;\n",
              "    }\n",
              "\n",
              "    .dataframe tbody tr th {\n",
              "        vertical-align: top;\n",
              "    }\n",
              "\n",
              "    .dataframe thead th {\n",
              "        text-align: right;\n",
              "    }\n",
              "</style>\n",
              "<table border=\"1\" class=\"dataframe\">\n",
              "  <thead>\n",
              "    <tr style=\"text-align: right;\">\n",
              "      <th></th>\n",
              "      <th>month</th>\n",
              "      <th>make</th>\n",
              "      <th>fuel_type</th>\n",
              "      <th>vehicle_type</th>\n",
              "      <th>number</th>\n",
              "    </tr>\n",
              "  </thead>\n",
              "  <tbody>\n",
              "    <tr>\n",
              "      <th>0</th>\n",
              "      <td>2016-01</td>\n",
              "      <td>ALFA ROMEO</td>\n",
              "      <td>Petrol</td>\n",
              "      <td>Hatchback</td>\n",
              "      <td>3.0</td>\n",
              "    </tr>\n",
              "    <tr>\n",
              "      <th>1</th>\n",
              "      <td>2016-01</td>\n",
              "      <td>ALPINA</td>\n",
              "      <td>Petrol</td>\n",
              "      <td>Hatchback</td>\n",
              "      <td>0.0</td>\n",
              "    </tr>\n",
              "    <tr>\n",
              "      <th>2</th>\n",
              "      <td>2016-01</td>\n",
              "      <td>ASTON MARTIN</td>\n",
              "      <td>Petrol</td>\n",
              "      <td>Hatchback</td>\n",
              "      <td>0.0</td>\n",
              "    </tr>\n",
              "    <tr>\n",
              "      <th>3</th>\n",
              "      <td>2016-01</td>\n",
              "      <td>AUDI</td>\n",
              "      <td>Petrol</td>\n",
              "      <td>Hatchback</td>\n",
              "      <td>45.0</td>\n",
              "    </tr>\n",
              "    <tr>\n",
              "      <th>4</th>\n",
              "      <td>2016-01</td>\n",
              "      <td>B.M.W.</td>\n",
              "      <td>Petrol</td>\n",
              "      <td>Hatchback</td>\n",
              "      <td>5.0</td>\n",
              "    </tr>\n",
              "    <tr>\n",
              "      <th>...</th>\n",
              "      <td>...</td>\n",
              "      <td>...</td>\n",
              "      <td>...</td>\n",
              "      <td>...</td>\n",
              "      <td>...</td>\n",
              "    </tr>\n",
              "    <tr>\n",
              "      <th>27910</th>\n",
              "      <td>2022-06</td>\n",
              "      <td>TRIUMPH</td>\n",
              "      <td>Petrol</td>\n",
              "      <td>Coupe/ Convertible</td>\n",
              "      <td>1.0</td>\n",
              "    </tr>\n",
              "    <tr>\n",
              "      <th>27911</th>\n",
              "      <td>2022-06</td>\n",
              "      <td>VOLKSWAGEN</td>\n",
              "      <td>Petrol</td>\n",
              "      <td>Coupe/ Convertible</td>\n",
              "      <td>NaN</td>\n",
              "    </tr>\n",
              "    <tr>\n",
              "      <th>27912</th>\n",
              "      <td>2022-06</td>\n",
              "      <td>VOLKSWAGEN</td>\n",
              "      <td>Others</td>\n",
              "      <td>Coupe/ Convertible</td>\n",
              "      <td>NaN</td>\n",
              "    </tr>\n",
              "    <tr>\n",
              "      <th>27913</th>\n",
              "      <td>2022-06</td>\n",
              "      <td>VOLVO</td>\n",
              "      <td>Petrol</td>\n",
              "      <td>Coupe/ Convertible</td>\n",
              "      <td>NaN</td>\n",
              "    </tr>\n",
              "    <tr>\n",
              "      <th>27914</th>\n",
              "      <td>2022-06</td>\n",
              "      <td>VOLVO</td>\n",
              "      <td>Others</td>\n",
              "      <td>Coupe/ Convertible</td>\n",
              "      <td>NaN</td>\n",
              "    </tr>\n",
              "  </tbody>\n",
              "</table>\n",
              "<p>27915 rows × 5 columns</p>\n",
              "</div>\n",
              "      <button class=\"colab-df-convert\" onclick=\"convertToInteractive('df-f962c20c-36ee-427c-b548-a0a929f85f94')\"\n",
              "              title=\"Convert this dataframe to an interactive table.\"\n",
              "              style=\"display:none;\">\n",
              "        \n",
              "  <svg xmlns=\"http://www.w3.org/2000/svg\" height=\"24px\"viewBox=\"0 0 24 24\"\n",
              "       width=\"24px\">\n",
              "    <path d=\"M0 0h24v24H0V0z\" fill=\"none\"/>\n",
              "    <path d=\"M18.56 5.44l.94 2.06.94-2.06 2.06-.94-2.06-.94-.94-2.06-.94 2.06-2.06.94zm-11 1L8.5 8.5l.94-2.06 2.06-.94-2.06-.94L8.5 2.5l-.94 2.06-2.06.94zm10 10l.94 2.06.94-2.06 2.06-.94-2.06-.94-.94-2.06-.94 2.06-2.06.94z\"/><path d=\"M17.41 7.96l-1.37-1.37c-.4-.4-.92-.59-1.43-.59-.52 0-1.04.2-1.43.59L10.3 9.45l-7.72 7.72c-.78.78-.78 2.05 0 2.83L4 21.41c.39.39.9.59 1.41.59.51 0 1.02-.2 1.41-.59l7.78-7.78 2.81-2.81c.8-.78.8-2.07 0-2.86zM5.41 20L4 18.59l7.72-7.72 1.47 1.35L5.41 20z\"/>\n",
              "  </svg>\n",
              "      </button>\n",
              "      \n",
              "  <style>\n",
              "    .colab-df-container {\n",
              "      display:flex;\n",
              "      flex-wrap:wrap;\n",
              "      gap: 12px;\n",
              "    }\n",
              "\n",
              "    .colab-df-convert {\n",
              "      background-color: #E8F0FE;\n",
              "      border: none;\n",
              "      border-radius: 50%;\n",
              "      cursor: pointer;\n",
              "      display: none;\n",
              "      fill: #1967D2;\n",
              "      height: 32px;\n",
              "      padding: 0 0 0 0;\n",
              "      width: 32px;\n",
              "    }\n",
              "\n",
              "    .colab-df-convert:hover {\n",
              "      background-color: #E2EBFA;\n",
              "      box-shadow: 0px 1px 2px rgba(60, 64, 67, 0.3), 0px 1px 3px 1px rgba(60, 64, 67, 0.15);\n",
              "      fill: #174EA6;\n",
              "    }\n",
              "\n",
              "    [theme=dark] .colab-df-convert {\n",
              "      background-color: #3B4455;\n",
              "      fill: #D2E3FC;\n",
              "    }\n",
              "\n",
              "    [theme=dark] .colab-df-convert:hover {\n",
              "      background-color: #434B5C;\n",
              "      box-shadow: 0px 1px 3px 1px rgba(0, 0, 0, 0.15);\n",
              "      filter: drop-shadow(0px 1px 2px rgba(0, 0, 0, 0.3));\n",
              "      fill: #FFFFFF;\n",
              "    }\n",
              "  </style>\n",
              "\n",
              "      <script>\n",
              "        const buttonEl =\n",
              "          document.querySelector('#df-f962c20c-36ee-427c-b548-a0a929f85f94 button.colab-df-convert');\n",
              "        buttonEl.style.display =\n",
              "          google.colab.kernel.accessAllowed ? 'block' : 'none';\n",
              "\n",
              "        async function convertToInteractive(key) {\n",
              "          const element = document.querySelector('#df-f962c20c-36ee-427c-b548-a0a929f85f94');\n",
              "          const dataTable =\n",
              "            await google.colab.kernel.invokeFunction('convertToInteractive',\n",
              "                                                     [key], {});\n",
              "          if (!dataTable) return;\n",
              "\n",
              "          const docLinkHtml = 'Like what you see? Visit the ' +\n",
              "            '<a target=\"_blank\" href=https://colab.research.google.com/notebooks/data_table.ipynb>data table notebook</a>'\n",
              "            + ' to learn more about interactive tables.';\n",
              "          element.innerHTML = '';\n",
              "          dataTable['output_type'] = 'display_data';\n",
              "          await google.colab.output.renderOutput(dataTable, element);\n",
              "          const docLink = document.createElement('div');\n",
              "          docLink.innerHTML = docLinkHtml;\n",
              "          element.appendChild(docLink);\n",
              "        }\n",
              "      </script>\n",
              "    </div>\n",
              "  </div>\n",
              "  "
            ]
          },
          "metadata": {},
          "execution_count": 258
        }
      ]
    },
    {
      "cell_type": "code",
      "source": [
        "cars_monthly.info()"
      ],
      "metadata": {
        "colab": {
          "base_uri": "https://localhost:8080/"
        },
        "id": "5E0-Nn_tM5_g",
        "outputId": "60ed8384-0c4f-4f95-e903-097efe6f432b"
      },
      "execution_count": 259,
      "outputs": [
        {
          "output_type": "stream",
          "name": "stdout",
          "text": [
            "<class 'pandas.core.frame.DataFrame'>\n",
            "RangeIndex: 27915 entries, 0 to 27914\n",
            "Data columns (total 5 columns):\n",
            " #   Column        Non-Null Count  Dtype  \n",
            "---  ------        --------------  -----  \n",
            " 0   month         27915 non-null  object \n",
            " 1   make          27915 non-null  object \n",
            " 2   fuel_type     27915 non-null  object \n",
            " 3   vehicle_type  27915 non-null  object \n",
            " 4   number        16835 non-null  float64\n",
            "dtypes: float64(1), object(4)\n",
            "memory usage: 1.1+ MB\n"
          ]
        }
      ]
    },
    {
      "cell_type": "markdown",
      "source": [
        "#### **Handling missing values**"
      ],
      "metadata": {
        "id": "PD8HRVXNPAN9"
      }
    },
    {
      "cell_type": "markdown",
      "source": [
        "There are multiple approaches to handle missing values – see [Pandas' user guide on working with missing data](https://pandas.pydata.org/docs/user_guide/missing_data.html) for more details. In our case let's drop the rows with missing values for the `number` column, as those records indicate there is no corresponding car registration for that month, make, fuel and vehicle type:"
      ],
      "metadata": {
        "id": "hCbDeUmTLZS1"
      }
    },
    {
      "cell_type": "code",
      "source": [
        "cars_monthly.dropna(subset=['number'])"
      ],
      "metadata": {
        "colab": {
          "base_uri": "https://localhost:8080/",
          "height": 424
        },
        "id": "rvoY0SvKLyt0",
        "outputId": "1c95b07d-018f-44af-ee7f-c484ead1e07a"
      },
      "execution_count": 260,
      "outputs": [
        {
          "output_type": "execute_result",
          "data": {
            "text/plain": [
              "         month           make fuel_type        vehicle_type  number\n",
              "0      2016-01     ALFA ROMEO    Petrol           Hatchback     3.0\n",
              "1      2016-01         ALPINA    Petrol           Hatchback     0.0\n",
              "2      2016-01   ASTON MARTIN    Petrol           Hatchback     0.0\n",
              "3      2016-01           AUDI    Petrol           Hatchback    45.0\n",
              "4      2016-01         B.M.W.    Petrol           Hatchback     5.0\n",
              "...        ...            ...       ...                 ...     ...\n",
              "27876  2022-06  MERCEDES BENZ    Others  Coupe/ Convertible    12.0\n",
              "27879  2022-06     MITSUBISHI    Petrol  Coupe/ Convertible     1.0\n",
              "27890  2022-06        PORSCHE    Petrol  Coupe/ Convertible    31.0\n",
              "27907  2022-06         TOYOTA    Petrol  Coupe/ Convertible     2.0\n",
              "27910  2022-06        TRIUMPH    Petrol  Coupe/ Convertible     1.0\n",
              "\n",
              "[16835 rows x 5 columns]"
            ],
            "text/html": [
              "\n",
              "  <div id=\"df-b2b64807-e252-48dc-b007-fa423b388538\">\n",
              "    <div class=\"colab-df-container\">\n",
              "      <div>\n",
              "<style scoped>\n",
              "    .dataframe tbody tr th:only-of-type {\n",
              "        vertical-align: middle;\n",
              "    }\n",
              "\n",
              "    .dataframe tbody tr th {\n",
              "        vertical-align: top;\n",
              "    }\n",
              "\n",
              "    .dataframe thead th {\n",
              "        text-align: right;\n",
              "    }\n",
              "</style>\n",
              "<table border=\"1\" class=\"dataframe\">\n",
              "  <thead>\n",
              "    <tr style=\"text-align: right;\">\n",
              "      <th></th>\n",
              "      <th>month</th>\n",
              "      <th>make</th>\n",
              "      <th>fuel_type</th>\n",
              "      <th>vehicle_type</th>\n",
              "      <th>number</th>\n",
              "    </tr>\n",
              "  </thead>\n",
              "  <tbody>\n",
              "    <tr>\n",
              "      <th>0</th>\n",
              "      <td>2016-01</td>\n",
              "      <td>ALFA ROMEO</td>\n",
              "      <td>Petrol</td>\n",
              "      <td>Hatchback</td>\n",
              "      <td>3.0</td>\n",
              "    </tr>\n",
              "    <tr>\n",
              "      <th>1</th>\n",
              "      <td>2016-01</td>\n",
              "      <td>ALPINA</td>\n",
              "      <td>Petrol</td>\n",
              "      <td>Hatchback</td>\n",
              "      <td>0.0</td>\n",
              "    </tr>\n",
              "    <tr>\n",
              "      <th>2</th>\n",
              "      <td>2016-01</td>\n",
              "      <td>ASTON MARTIN</td>\n",
              "      <td>Petrol</td>\n",
              "      <td>Hatchback</td>\n",
              "      <td>0.0</td>\n",
              "    </tr>\n",
              "    <tr>\n",
              "      <th>3</th>\n",
              "      <td>2016-01</td>\n",
              "      <td>AUDI</td>\n",
              "      <td>Petrol</td>\n",
              "      <td>Hatchback</td>\n",
              "      <td>45.0</td>\n",
              "    </tr>\n",
              "    <tr>\n",
              "      <th>4</th>\n",
              "      <td>2016-01</td>\n",
              "      <td>B.M.W.</td>\n",
              "      <td>Petrol</td>\n",
              "      <td>Hatchback</td>\n",
              "      <td>5.0</td>\n",
              "    </tr>\n",
              "    <tr>\n",
              "      <th>...</th>\n",
              "      <td>...</td>\n",
              "      <td>...</td>\n",
              "      <td>...</td>\n",
              "      <td>...</td>\n",
              "      <td>...</td>\n",
              "    </tr>\n",
              "    <tr>\n",
              "      <th>27876</th>\n",
              "      <td>2022-06</td>\n",
              "      <td>MERCEDES BENZ</td>\n",
              "      <td>Others</td>\n",
              "      <td>Coupe/ Convertible</td>\n",
              "      <td>12.0</td>\n",
              "    </tr>\n",
              "    <tr>\n",
              "      <th>27879</th>\n",
              "      <td>2022-06</td>\n",
              "      <td>MITSUBISHI</td>\n",
              "      <td>Petrol</td>\n",
              "      <td>Coupe/ Convertible</td>\n",
              "      <td>1.0</td>\n",
              "    </tr>\n",
              "    <tr>\n",
              "      <th>27890</th>\n",
              "      <td>2022-06</td>\n",
              "      <td>PORSCHE</td>\n",
              "      <td>Petrol</td>\n",
              "      <td>Coupe/ Convertible</td>\n",
              "      <td>31.0</td>\n",
              "    </tr>\n",
              "    <tr>\n",
              "      <th>27907</th>\n",
              "      <td>2022-06</td>\n",
              "      <td>TOYOTA</td>\n",
              "      <td>Petrol</td>\n",
              "      <td>Coupe/ Convertible</td>\n",
              "      <td>2.0</td>\n",
              "    </tr>\n",
              "    <tr>\n",
              "      <th>27910</th>\n",
              "      <td>2022-06</td>\n",
              "      <td>TRIUMPH</td>\n",
              "      <td>Petrol</td>\n",
              "      <td>Coupe/ Convertible</td>\n",
              "      <td>1.0</td>\n",
              "    </tr>\n",
              "  </tbody>\n",
              "</table>\n",
              "<p>16835 rows × 5 columns</p>\n",
              "</div>\n",
              "      <button class=\"colab-df-convert\" onclick=\"convertToInteractive('df-b2b64807-e252-48dc-b007-fa423b388538')\"\n",
              "              title=\"Convert this dataframe to an interactive table.\"\n",
              "              style=\"display:none;\">\n",
              "        \n",
              "  <svg xmlns=\"http://www.w3.org/2000/svg\" height=\"24px\"viewBox=\"0 0 24 24\"\n",
              "       width=\"24px\">\n",
              "    <path d=\"M0 0h24v24H0V0z\" fill=\"none\"/>\n",
              "    <path d=\"M18.56 5.44l.94 2.06.94-2.06 2.06-.94-2.06-.94-.94-2.06-.94 2.06-2.06.94zm-11 1L8.5 8.5l.94-2.06 2.06-.94-2.06-.94L8.5 2.5l-.94 2.06-2.06.94zm10 10l.94 2.06.94-2.06 2.06-.94-2.06-.94-.94-2.06-.94 2.06-2.06.94z\"/><path d=\"M17.41 7.96l-1.37-1.37c-.4-.4-.92-.59-1.43-.59-.52 0-1.04.2-1.43.59L10.3 9.45l-7.72 7.72c-.78.78-.78 2.05 0 2.83L4 21.41c.39.39.9.59 1.41.59.51 0 1.02-.2 1.41-.59l7.78-7.78 2.81-2.81c.8-.78.8-2.07 0-2.86zM5.41 20L4 18.59l7.72-7.72 1.47 1.35L5.41 20z\"/>\n",
              "  </svg>\n",
              "      </button>\n",
              "      \n",
              "  <style>\n",
              "    .colab-df-container {\n",
              "      display:flex;\n",
              "      flex-wrap:wrap;\n",
              "      gap: 12px;\n",
              "    }\n",
              "\n",
              "    .colab-df-convert {\n",
              "      background-color: #E8F0FE;\n",
              "      border: none;\n",
              "      border-radius: 50%;\n",
              "      cursor: pointer;\n",
              "      display: none;\n",
              "      fill: #1967D2;\n",
              "      height: 32px;\n",
              "      padding: 0 0 0 0;\n",
              "      width: 32px;\n",
              "    }\n",
              "\n",
              "    .colab-df-convert:hover {\n",
              "      background-color: #E2EBFA;\n",
              "      box-shadow: 0px 1px 2px rgba(60, 64, 67, 0.3), 0px 1px 3px 1px rgba(60, 64, 67, 0.15);\n",
              "      fill: #174EA6;\n",
              "    }\n",
              "\n",
              "    [theme=dark] .colab-df-convert {\n",
              "      background-color: #3B4455;\n",
              "      fill: #D2E3FC;\n",
              "    }\n",
              "\n",
              "    [theme=dark] .colab-df-convert:hover {\n",
              "      background-color: #434B5C;\n",
              "      box-shadow: 0px 1px 3px 1px rgba(0, 0, 0, 0.15);\n",
              "      filter: drop-shadow(0px 1px 2px rgba(0, 0, 0, 0.3));\n",
              "      fill: #FFFFFF;\n",
              "    }\n",
              "  </style>\n",
              "\n",
              "      <script>\n",
              "        const buttonEl =\n",
              "          document.querySelector('#df-b2b64807-e252-48dc-b007-fa423b388538 button.colab-df-convert');\n",
              "        buttonEl.style.display =\n",
              "          google.colab.kernel.accessAllowed ? 'block' : 'none';\n",
              "\n",
              "        async function convertToInteractive(key) {\n",
              "          const element = document.querySelector('#df-b2b64807-e252-48dc-b007-fa423b388538');\n",
              "          const dataTable =\n",
              "            await google.colab.kernel.invokeFunction('convertToInteractive',\n",
              "                                                     [key], {});\n",
              "          if (!dataTable) return;\n",
              "\n",
              "          const docLinkHtml = 'Like what you see? Visit the ' +\n",
              "            '<a target=\"_blank\" href=https://colab.research.google.com/notebooks/data_table.ipynb>data table notebook</a>'\n",
              "            + ' to learn more about interactive tables.';\n",
              "          element.innerHTML = '';\n",
              "          dataTable['output_type'] = 'display_data';\n",
              "          await google.colab.output.renderOutput(dataTable, element);\n",
              "          const docLink = document.createElement('div');\n",
              "          docLink.innerHTML = docLinkHtml;\n",
              "          element.appendChild(docLink);\n",
              "        }\n",
              "      </script>\n",
              "    </div>\n",
              "  </div>\n",
              "  "
            ]
          },
          "metadata": {},
          "execution_count": 260
        }
      ]
    },
    {
      "cell_type": "markdown",
      "source": [
        "The argument `subset` here indicates which columns to evaluate for `na` values. If not specified, by default `dropna` will drop any row with any column containing `na` values.\n",
        "\n",
        "The call to `dropna` by default also does not modify the original `DataFrame`; it returns a new `DataFrame` with `na` values dropped."
      ],
      "metadata": {
        "id": "OOfh8YhJMVZi"
      }
    },
    {
      "cell_type": "code",
      "source": [
        "cars_monthly.shape"
      ],
      "metadata": {
        "colab": {
          "base_uri": "https://localhost:8080/"
        },
        "id": "87JSfwatN_WC",
        "outputId": "775a29eb-90b5-4769-e653-113680119048"
      },
      "execution_count": 261,
      "outputs": [
        {
          "output_type": "execute_result",
          "data": {
            "text/plain": [
              "(27915, 5)"
            ]
          },
          "metadata": {},
          "execution_count": 261
        }
      ]
    },
    {
      "cell_type": "markdown",
      "source": [
        "We can assign the returned `DataFrame` to a new variable, or we can tell `dropna` to modify the original `DataFrame` by passing the `inplace=True` parameter:"
      ],
      "metadata": {
        "id": "CCI6ObroN5Bu"
      }
    },
    {
      "cell_type": "code",
      "source": [
        "cars_monthly.dropna(subset=['number'], inplace=True)\n",
        "cars_monthly.shape"
      ],
      "metadata": {
        "colab": {
          "base_uri": "https://localhost:8080/"
        },
        "id": "oDmvgKXwNp2L",
        "outputId": "23fc09a8-f21a-40a0-9dc1-2fbc283c6d7e"
      },
      "execution_count": 262,
      "outputs": [
        {
          "output_type": "execute_result",
          "data": {
            "text/plain": [
              "(16835, 5)"
            ]
          },
          "metadata": {},
          "execution_count": 262
        }
      ]
    },
    {
      "cell_type": "markdown",
      "source": [
        "#### **Renaming columns**\n",
        "\n",
        "Let's rename the `month` column to `year_month`:"
      ],
      "metadata": {
        "id": "B-ZJQz7rPtsx"
      }
    },
    {
      "cell_type": "code",
      "source": [
        "cars_monthly_renamed = cars_monthly.rename(columns={'month': 'year_month'})\n",
        "cars_monthly_renamed.columns"
      ],
      "metadata": {
        "colab": {
          "base_uri": "https://localhost:8080/"
        },
        "id": "Pk2h8s0JP4-d",
        "outputId": "105b2dc2-08f2-4164-fc7d-bd63048d6ad2"
      },
      "execution_count": 263,
      "outputs": [
        {
          "output_type": "execute_result",
          "data": {
            "text/plain": [
              "Index(['year_month', 'make', 'fuel_type', 'vehicle_type', 'number'], dtype='object')"
            ]
          },
          "metadata": {},
          "execution_count": 263
        }
      ]
    },
    {
      "cell_type": "markdown",
      "source": [
        "#### **Creating columns**\n",
        "\n",
        "Let's create separate columns for year and month from the `year_month` column:"
      ],
      "metadata": {
        "id": "1hhbQAM-PHzR"
      }
    },
    {
      "cell_type": "code",
      "source": [
        "cars_monthly_renamed[['year','month']] = cars_monthly_renamed.year_month.str.split(\"-\", expand=True)\n",
        "cars_monthly_renamed"
      ],
      "metadata": {
        "colab": {
          "base_uri": "https://localhost:8080/",
          "height": 424
        },
        "id": "XoTk4gEiQSFX",
        "outputId": "dda94b40-7a51-4846-949d-5f126dc147f2"
      },
      "execution_count": 264,
      "outputs": [
        {
          "output_type": "execute_result",
          "data": {
            "text/plain": [
              "      year_month           make fuel_type        vehicle_type  number  year  \\\n",
              "0        2016-01     ALFA ROMEO    Petrol           Hatchback     3.0  2016   \n",
              "1        2016-01         ALPINA    Petrol           Hatchback     0.0  2016   \n",
              "2        2016-01   ASTON MARTIN    Petrol           Hatchback     0.0  2016   \n",
              "3        2016-01           AUDI    Petrol           Hatchback    45.0  2016   \n",
              "4        2016-01         B.M.W.    Petrol           Hatchback     5.0  2016   \n",
              "...          ...            ...       ...                 ...     ...   ...   \n",
              "27876    2022-06  MERCEDES BENZ    Others  Coupe/ Convertible    12.0  2022   \n",
              "27879    2022-06     MITSUBISHI    Petrol  Coupe/ Convertible     1.0  2022   \n",
              "27890    2022-06        PORSCHE    Petrol  Coupe/ Convertible    31.0  2022   \n",
              "27907    2022-06         TOYOTA    Petrol  Coupe/ Convertible     2.0  2022   \n",
              "27910    2022-06        TRIUMPH    Petrol  Coupe/ Convertible     1.0  2022   \n",
              "\n",
              "      month  \n",
              "0        01  \n",
              "1        01  \n",
              "2        01  \n",
              "3        01  \n",
              "4        01  \n",
              "...     ...  \n",
              "27876    06  \n",
              "27879    06  \n",
              "27890    06  \n",
              "27907    06  \n",
              "27910    06  \n",
              "\n",
              "[16835 rows x 7 columns]"
            ],
            "text/html": [
              "\n",
              "  <div id=\"df-8dd7123a-f3d7-47a3-9a7e-9beccd073374\">\n",
              "    <div class=\"colab-df-container\">\n",
              "      <div>\n",
              "<style scoped>\n",
              "    .dataframe tbody tr th:only-of-type {\n",
              "        vertical-align: middle;\n",
              "    }\n",
              "\n",
              "    .dataframe tbody tr th {\n",
              "        vertical-align: top;\n",
              "    }\n",
              "\n",
              "    .dataframe thead th {\n",
              "        text-align: right;\n",
              "    }\n",
              "</style>\n",
              "<table border=\"1\" class=\"dataframe\">\n",
              "  <thead>\n",
              "    <tr style=\"text-align: right;\">\n",
              "      <th></th>\n",
              "      <th>year_month</th>\n",
              "      <th>make</th>\n",
              "      <th>fuel_type</th>\n",
              "      <th>vehicle_type</th>\n",
              "      <th>number</th>\n",
              "      <th>year</th>\n",
              "      <th>month</th>\n",
              "    </tr>\n",
              "  </thead>\n",
              "  <tbody>\n",
              "    <tr>\n",
              "      <th>0</th>\n",
              "      <td>2016-01</td>\n",
              "      <td>ALFA ROMEO</td>\n",
              "      <td>Petrol</td>\n",
              "      <td>Hatchback</td>\n",
              "      <td>3.0</td>\n",
              "      <td>2016</td>\n",
              "      <td>01</td>\n",
              "    </tr>\n",
              "    <tr>\n",
              "      <th>1</th>\n",
              "      <td>2016-01</td>\n",
              "      <td>ALPINA</td>\n",
              "      <td>Petrol</td>\n",
              "      <td>Hatchback</td>\n",
              "      <td>0.0</td>\n",
              "      <td>2016</td>\n",
              "      <td>01</td>\n",
              "    </tr>\n",
              "    <tr>\n",
              "      <th>2</th>\n",
              "      <td>2016-01</td>\n",
              "      <td>ASTON MARTIN</td>\n",
              "      <td>Petrol</td>\n",
              "      <td>Hatchback</td>\n",
              "      <td>0.0</td>\n",
              "      <td>2016</td>\n",
              "      <td>01</td>\n",
              "    </tr>\n",
              "    <tr>\n",
              "      <th>3</th>\n",
              "      <td>2016-01</td>\n",
              "      <td>AUDI</td>\n",
              "      <td>Petrol</td>\n",
              "      <td>Hatchback</td>\n",
              "      <td>45.0</td>\n",
              "      <td>2016</td>\n",
              "      <td>01</td>\n",
              "    </tr>\n",
              "    <tr>\n",
              "      <th>4</th>\n",
              "      <td>2016-01</td>\n",
              "      <td>B.M.W.</td>\n",
              "      <td>Petrol</td>\n",
              "      <td>Hatchback</td>\n",
              "      <td>5.0</td>\n",
              "      <td>2016</td>\n",
              "      <td>01</td>\n",
              "    </tr>\n",
              "    <tr>\n",
              "      <th>...</th>\n",
              "      <td>...</td>\n",
              "      <td>...</td>\n",
              "      <td>...</td>\n",
              "      <td>...</td>\n",
              "      <td>...</td>\n",
              "      <td>...</td>\n",
              "      <td>...</td>\n",
              "    </tr>\n",
              "    <tr>\n",
              "      <th>27876</th>\n",
              "      <td>2022-06</td>\n",
              "      <td>MERCEDES BENZ</td>\n",
              "      <td>Others</td>\n",
              "      <td>Coupe/ Convertible</td>\n",
              "      <td>12.0</td>\n",
              "      <td>2022</td>\n",
              "      <td>06</td>\n",
              "    </tr>\n",
              "    <tr>\n",
              "      <th>27879</th>\n",
              "      <td>2022-06</td>\n",
              "      <td>MITSUBISHI</td>\n",
              "      <td>Petrol</td>\n",
              "      <td>Coupe/ Convertible</td>\n",
              "      <td>1.0</td>\n",
              "      <td>2022</td>\n",
              "      <td>06</td>\n",
              "    </tr>\n",
              "    <tr>\n",
              "      <th>27890</th>\n",
              "      <td>2022-06</td>\n",
              "      <td>PORSCHE</td>\n",
              "      <td>Petrol</td>\n",
              "      <td>Coupe/ Convertible</td>\n",
              "      <td>31.0</td>\n",
              "      <td>2022</td>\n",
              "      <td>06</td>\n",
              "    </tr>\n",
              "    <tr>\n",
              "      <th>27907</th>\n",
              "      <td>2022-06</td>\n",
              "      <td>TOYOTA</td>\n",
              "      <td>Petrol</td>\n",
              "      <td>Coupe/ Convertible</td>\n",
              "      <td>2.0</td>\n",
              "      <td>2022</td>\n",
              "      <td>06</td>\n",
              "    </tr>\n",
              "    <tr>\n",
              "      <th>27910</th>\n",
              "      <td>2022-06</td>\n",
              "      <td>TRIUMPH</td>\n",
              "      <td>Petrol</td>\n",
              "      <td>Coupe/ Convertible</td>\n",
              "      <td>1.0</td>\n",
              "      <td>2022</td>\n",
              "      <td>06</td>\n",
              "    </tr>\n",
              "  </tbody>\n",
              "</table>\n",
              "<p>16835 rows × 7 columns</p>\n",
              "</div>\n",
              "      <button class=\"colab-df-convert\" onclick=\"convertToInteractive('df-8dd7123a-f3d7-47a3-9a7e-9beccd073374')\"\n",
              "              title=\"Convert this dataframe to an interactive table.\"\n",
              "              style=\"display:none;\">\n",
              "        \n",
              "  <svg xmlns=\"http://www.w3.org/2000/svg\" height=\"24px\"viewBox=\"0 0 24 24\"\n",
              "       width=\"24px\">\n",
              "    <path d=\"M0 0h24v24H0V0z\" fill=\"none\"/>\n",
              "    <path d=\"M18.56 5.44l.94 2.06.94-2.06 2.06-.94-2.06-.94-.94-2.06-.94 2.06-2.06.94zm-11 1L8.5 8.5l.94-2.06 2.06-.94-2.06-.94L8.5 2.5l-.94 2.06-2.06.94zm10 10l.94 2.06.94-2.06 2.06-.94-2.06-.94-.94-2.06-.94 2.06-2.06.94z\"/><path d=\"M17.41 7.96l-1.37-1.37c-.4-.4-.92-.59-1.43-.59-.52 0-1.04.2-1.43.59L10.3 9.45l-7.72 7.72c-.78.78-.78 2.05 0 2.83L4 21.41c.39.39.9.59 1.41.59.51 0 1.02-.2 1.41-.59l7.78-7.78 2.81-2.81c.8-.78.8-2.07 0-2.86zM5.41 20L4 18.59l7.72-7.72 1.47 1.35L5.41 20z\"/>\n",
              "  </svg>\n",
              "      </button>\n",
              "      \n",
              "  <style>\n",
              "    .colab-df-container {\n",
              "      display:flex;\n",
              "      flex-wrap:wrap;\n",
              "      gap: 12px;\n",
              "    }\n",
              "\n",
              "    .colab-df-convert {\n",
              "      background-color: #E8F0FE;\n",
              "      border: none;\n",
              "      border-radius: 50%;\n",
              "      cursor: pointer;\n",
              "      display: none;\n",
              "      fill: #1967D2;\n",
              "      height: 32px;\n",
              "      padding: 0 0 0 0;\n",
              "      width: 32px;\n",
              "    }\n",
              "\n",
              "    .colab-df-convert:hover {\n",
              "      background-color: #E2EBFA;\n",
              "      box-shadow: 0px 1px 2px rgba(60, 64, 67, 0.3), 0px 1px 3px 1px rgba(60, 64, 67, 0.15);\n",
              "      fill: #174EA6;\n",
              "    }\n",
              "\n",
              "    [theme=dark] .colab-df-convert {\n",
              "      background-color: #3B4455;\n",
              "      fill: #D2E3FC;\n",
              "    }\n",
              "\n",
              "    [theme=dark] .colab-df-convert:hover {\n",
              "      background-color: #434B5C;\n",
              "      box-shadow: 0px 1px 3px 1px rgba(0, 0, 0, 0.15);\n",
              "      filter: drop-shadow(0px 1px 2px rgba(0, 0, 0, 0.3));\n",
              "      fill: #FFFFFF;\n",
              "    }\n",
              "  </style>\n",
              "\n",
              "      <script>\n",
              "        const buttonEl =\n",
              "          document.querySelector('#df-8dd7123a-f3d7-47a3-9a7e-9beccd073374 button.colab-df-convert');\n",
              "        buttonEl.style.display =\n",
              "          google.colab.kernel.accessAllowed ? 'block' : 'none';\n",
              "\n",
              "        async function convertToInteractive(key) {\n",
              "          const element = document.querySelector('#df-8dd7123a-f3d7-47a3-9a7e-9beccd073374');\n",
              "          const dataTable =\n",
              "            await google.colab.kernel.invokeFunction('convertToInteractive',\n",
              "                                                     [key], {});\n",
              "          if (!dataTable) return;\n",
              "\n",
              "          const docLinkHtml = 'Like what you see? Visit the ' +\n",
              "            '<a target=\"_blank\" href=https://colab.research.google.com/notebooks/data_table.ipynb>data table notebook</a>'\n",
              "            + ' to learn more about interactive tables.';\n",
              "          element.innerHTML = '';\n",
              "          dataTable['output_type'] = 'display_data';\n",
              "          await google.colab.output.renderOutput(dataTable, element);\n",
              "          const docLink = document.createElement('div');\n",
              "          docLink.innerHTML = docLinkHtml;\n",
              "          element.appendChild(docLink);\n",
              "        }\n",
              "      </script>\n",
              "    </div>\n",
              "  </div>\n",
              "  "
            ]
          },
          "metadata": {},
          "execution_count": 264
        }
      ]
    },
    {
      "cell_type": "markdown",
      "source": [
        "#### **Dropping columns**\n",
        "\n",
        "Now we can drop the redundant `year_month` column:"
      ],
      "metadata": {
        "id": "0iTaoEzTQ7Es"
      }
    },
    {
      "cell_type": "code",
      "source": [
        "cars_monthly_dropped = cars_monthly_renamed.drop(columns=['year_month'])\n",
        "cars_monthly_dropped"
      ],
      "metadata": {
        "colab": {
          "base_uri": "https://localhost:8080/",
          "height": 424
        },
        "id": "SQ977tMvRJqo",
        "outputId": "40187b34-21a2-4e50-ac7c-76486558e3fc"
      },
      "execution_count": 265,
      "outputs": [
        {
          "output_type": "execute_result",
          "data": {
            "text/plain": [
              "                make fuel_type        vehicle_type  number  year month\n",
              "0         ALFA ROMEO    Petrol           Hatchback     3.0  2016    01\n",
              "1             ALPINA    Petrol           Hatchback     0.0  2016    01\n",
              "2       ASTON MARTIN    Petrol           Hatchback     0.0  2016    01\n",
              "3               AUDI    Petrol           Hatchback    45.0  2016    01\n",
              "4             B.M.W.    Petrol           Hatchback     5.0  2016    01\n",
              "...              ...       ...                 ...     ...   ...   ...\n",
              "27876  MERCEDES BENZ    Others  Coupe/ Convertible    12.0  2022    06\n",
              "27879     MITSUBISHI    Petrol  Coupe/ Convertible     1.0  2022    06\n",
              "27890        PORSCHE    Petrol  Coupe/ Convertible    31.0  2022    06\n",
              "27907         TOYOTA    Petrol  Coupe/ Convertible     2.0  2022    06\n",
              "27910        TRIUMPH    Petrol  Coupe/ Convertible     1.0  2022    06\n",
              "\n",
              "[16835 rows x 6 columns]"
            ],
            "text/html": [
              "\n",
              "  <div id=\"df-b71d0a63-8a6d-4f73-a38d-05c151c3b95f\">\n",
              "    <div class=\"colab-df-container\">\n",
              "      <div>\n",
              "<style scoped>\n",
              "    .dataframe tbody tr th:only-of-type {\n",
              "        vertical-align: middle;\n",
              "    }\n",
              "\n",
              "    .dataframe tbody tr th {\n",
              "        vertical-align: top;\n",
              "    }\n",
              "\n",
              "    .dataframe thead th {\n",
              "        text-align: right;\n",
              "    }\n",
              "</style>\n",
              "<table border=\"1\" class=\"dataframe\">\n",
              "  <thead>\n",
              "    <tr style=\"text-align: right;\">\n",
              "      <th></th>\n",
              "      <th>make</th>\n",
              "      <th>fuel_type</th>\n",
              "      <th>vehicle_type</th>\n",
              "      <th>number</th>\n",
              "      <th>year</th>\n",
              "      <th>month</th>\n",
              "    </tr>\n",
              "  </thead>\n",
              "  <tbody>\n",
              "    <tr>\n",
              "      <th>0</th>\n",
              "      <td>ALFA ROMEO</td>\n",
              "      <td>Petrol</td>\n",
              "      <td>Hatchback</td>\n",
              "      <td>3.0</td>\n",
              "      <td>2016</td>\n",
              "      <td>01</td>\n",
              "    </tr>\n",
              "    <tr>\n",
              "      <th>1</th>\n",
              "      <td>ALPINA</td>\n",
              "      <td>Petrol</td>\n",
              "      <td>Hatchback</td>\n",
              "      <td>0.0</td>\n",
              "      <td>2016</td>\n",
              "      <td>01</td>\n",
              "    </tr>\n",
              "    <tr>\n",
              "      <th>2</th>\n",
              "      <td>ASTON MARTIN</td>\n",
              "      <td>Petrol</td>\n",
              "      <td>Hatchback</td>\n",
              "      <td>0.0</td>\n",
              "      <td>2016</td>\n",
              "      <td>01</td>\n",
              "    </tr>\n",
              "    <tr>\n",
              "      <th>3</th>\n",
              "      <td>AUDI</td>\n",
              "      <td>Petrol</td>\n",
              "      <td>Hatchback</td>\n",
              "      <td>45.0</td>\n",
              "      <td>2016</td>\n",
              "      <td>01</td>\n",
              "    </tr>\n",
              "    <tr>\n",
              "      <th>4</th>\n",
              "      <td>B.M.W.</td>\n",
              "      <td>Petrol</td>\n",
              "      <td>Hatchback</td>\n",
              "      <td>5.0</td>\n",
              "      <td>2016</td>\n",
              "      <td>01</td>\n",
              "    </tr>\n",
              "    <tr>\n",
              "      <th>...</th>\n",
              "      <td>...</td>\n",
              "      <td>...</td>\n",
              "      <td>...</td>\n",
              "      <td>...</td>\n",
              "      <td>...</td>\n",
              "      <td>...</td>\n",
              "    </tr>\n",
              "    <tr>\n",
              "      <th>27876</th>\n",
              "      <td>MERCEDES BENZ</td>\n",
              "      <td>Others</td>\n",
              "      <td>Coupe/ Convertible</td>\n",
              "      <td>12.0</td>\n",
              "      <td>2022</td>\n",
              "      <td>06</td>\n",
              "    </tr>\n",
              "    <tr>\n",
              "      <th>27879</th>\n",
              "      <td>MITSUBISHI</td>\n",
              "      <td>Petrol</td>\n",
              "      <td>Coupe/ Convertible</td>\n",
              "      <td>1.0</td>\n",
              "      <td>2022</td>\n",
              "      <td>06</td>\n",
              "    </tr>\n",
              "    <tr>\n",
              "      <th>27890</th>\n",
              "      <td>PORSCHE</td>\n",
              "      <td>Petrol</td>\n",
              "      <td>Coupe/ Convertible</td>\n",
              "      <td>31.0</td>\n",
              "      <td>2022</td>\n",
              "      <td>06</td>\n",
              "    </tr>\n",
              "    <tr>\n",
              "      <th>27907</th>\n",
              "      <td>TOYOTA</td>\n",
              "      <td>Petrol</td>\n",
              "      <td>Coupe/ Convertible</td>\n",
              "      <td>2.0</td>\n",
              "      <td>2022</td>\n",
              "      <td>06</td>\n",
              "    </tr>\n",
              "    <tr>\n",
              "      <th>27910</th>\n",
              "      <td>TRIUMPH</td>\n",
              "      <td>Petrol</td>\n",
              "      <td>Coupe/ Convertible</td>\n",
              "      <td>1.0</td>\n",
              "      <td>2022</td>\n",
              "      <td>06</td>\n",
              "    </tr>\n",
              "  </tbody>\n",
              "</table>\n",
              "<p>16835 rows × 6 columns</p>\n",
              "</div>\n",
              "      <button class=\"colab-df-convert\" onclick=\"convertToInteractive('df-b71d0a63-8a6d-4f73-a38d-05c151c3b95f')\"\n",
              "              title=\"Convert this dataframe to an interactive table.\"\n",
              "              style=\"display:none;\">\n",
              "        \n",
              "  <svg xmlns=\"http://www.w3.org/2000/svg\" height=\"24px\"viewBox=\"0 0 24 24\"\n",
              "       width=\"24px\">\n",
              "    <path d=\"M0 0h24v24H0V0z\" fill=\"none\"/>\n",
              "    <path d=\"M18.56 5.44l.94 2.06.94-2.06 2.06-.94-2.06-.94-.94-2.06-.94 2.06-2.06.94zm-11 1L8.5 8.5l.94-2.06 2.06-.94-2.06-.94L8.5 2.5l-.94 2.06-2.06.94zm10 10l.94 2.06.94-2.06 2.06-.94-2.06-.94-.94-2.06-.94 2.06-2.06.94z\"/><path d=\"M17.41 7.96l-1.37-1.37c-.4-.4-.92-.59-1.43-.59-.52 0-1.04.2-1.43.59L10.3 9.45l-7.72 7.72c-.78.78-.78 2.05 0 2.83L4 21.41c.39.39.9.59 1.41.59.51 0 1.02-.2 1.41-.59l7.78-7.78 2.81-2.81c.8-.78.8-2.07 0-2.86zM5.41 20L4 18.59l7.72-7.72 1.47 1.35L5.41 20z\"/>\n",
              "  </svg>\n",
              "      </button>\n",
              "      \n",
              "  <style>\n",
              "    .colab-df-container {\n",
              "      display:flex;\n",
              "      flex-wrap:wrap;\n",
              "      gap: 12px;\n",
              "    }\n",
              "\n",
              "    .colab-df-convert {\n",
              "      background-color: #E8F0FE;\n",
              "      border: none;\n",
              "      border-radius: 50%;\n",
              "      cursor: pointer;\n",
              "      display: none;\n",
              "      fill: #1967D2;\n",
              "      height: 32px;\n",
              "      padding: 0 0 0 0;\n",
              "      width: 32px;\n",
              "    }\n",
              "\n",
              "    .colab-df-convert:hover {\n",
              "      background-color: #E2EBFA;\n",
              "      box-shadow: 0px 1px 2px rgba(60, 64, 67, 0.3), 0px 1px 3px 1px rgba(60, 64, 67, 0.15);\n",
              "      fill: #174EA6;\n",
              "    }\n",
              "\n",
              "    [theme=dark] .colab-df-convert {\n",
              "      background-color: #3B4455;\n",
              "      fill: #D2E3FC;\n",
              "    }\n",
              "\n",
              "    [theme=dark] .colab-df-convert:hover {\n",
              "      background-color: #434B5C;\n",
              "      box-shadow: 0px 1px 3px 1px rgba(0, 0, 0, 0.15);\n",
              "      filter: drop-shadow(0px 1px 2px rgba(0, 0, 0, 0.3));\n",
              "      fill: #FFFFFF;\n",
              "    }\n",
              "  </style>\n",
              "\n",
              "      <script>\n",
              "        const buttonEl =\n",
              "          document.querySelector('#df-b71d0a63-8a6d-4f73-a38d-05c151c3b95f button.colab-df-convert');\n",
              "        buttonEl.style.display =\n",
              "          google.colab.kernel.accessAllowed ? 'block' : 'none';\n",
              "\n",
              "        async function convertToInteractive(key) {\n",
              "          const element = document.querySelector('#df-b71d0a63-8a6d-4f73-a38d-05c151c3b95f');\n",
              "          const dataTable =\n",
              "            await google.colab.kernel.invokeFunction('convertToInteractive',\n",
              "                                                     [key], {});\n",
              "          if (!dataTable) return;\n",
              "\n",
              "          const docLinkHtml = 'Like what you see? Visit the ' +\n",
              "            '<a target=\"_blank\" href=https://colab.research.google.com/notebooks/data_table.ipynb>data table notebook</a>'\n",
              "            + ' to learn more about interactive tables.';\n",
              "          element.innerHTML = '';\n",
              "          dataTable['output_type'] = 'display_data';\n",
              "          await google.colab.output.renderOutput(dataTable, element);\n",
              "          const docLink = document.createElement('div');\n",
              "          docLink.innerHTML = docLinkHtml;\n",
              "          element.appendChild(docLink);\n",
              "        }\n",
              "      </script>\n",
              "    </div>\n",
              "  </div>\n",
              "  "
            ]
          },
          "metadata": {},
          "execution_count": 265
        }
      ]
    },
    {
      "cell_type": "markdown",
      "source": [
        "#### **Reordering columns**\n",
        "\n",
        "It feels odd to have the `year` and `month` columns at the end. Let's move them to the front:"
      ],
      "metadata": {
        "id": "oaUMpiICXgzr"
      }
    },
    {
      "cell_type": "code",
      "source": [
        "columns_ordered = ['year', 'month', 'make', 'fuel_type', 'vehicle_type', 'number']\n",
        "cars_monthly_reordered = cars_monthly_dropped.reindex(columns=columns_ordered)\n",
        "cars_monthly_reordered"
      ],
      "metadata": {
        "colab": {
          "base_uri": "https://localhost:8080/",
          "height": 424
        },
        "id": "B0p61THUX0gG",
        "outputId": "3b20980d-46f5-4165-ab32-296d37d63f6e"
      },
      "execution_count": 266,
      "outputs": [
        {
          "output_type": "execute_result",
          "data": {
            "text/plain": [
              "       year month           make fuel_type        vehicle_type  number\n",
              "0      2016    01     ALFA ROMEO    Petrol           Hatchback     3.0\n",
              "1      2016    01         ALPINA    Petrol           Hatchback     0.0\n",
              "2      2016    01   ASTON MARTIN    Petrol           Hatchback     0.0\n",
              "3      2016    01           AUDI    Petrol           Hatchback    45.0\n",
              "4      2016    01         B.M.W.    Petrol           Hatchback     5.0\n",
              "...     ...   ...            ...       ...                 ...     ...\n",
              "27876  2022    06  MERCEDES BENZ    Others  Coupe/ Convertible    12.0\n",
              "27879  2022    06     MITSUBISHI    Petrol  Coupe/ Convertible     1.0\n",
              "27890  2022    06        PORSCHE    Petrol  Coupe/ Convertible    31.0\n",
              "27907  2022    06         TOYOTA    Petrol  Coupe/ Convertible     2.0\n",
              "27910  2022    06        TRIUMPH    Petrol  Coupe/ Convertible     1.0\n",
              "\n",
              "[16835 rows x 6 columns]"
            ],
            "text/html": [
              "\n",
              "  <div id=\"df-e8dbabe9-b56f-4df5-a50f-ba6173ca2e69\">\n",
              "    <div class=\"colab-df-container\">\n",
              "      <div>\n",
              "<style scoped>\n",
              "    .dataframe tbody tr th:only-of-type {\n",
              "        vertical-align: middle;\n",
              "    }\n",
              "\n",
              "    .dataframe tbody tr th {\n",
              "        vertical-align: top;\n",
              "    }\n",
              "\n",
              "    .dataframe thead th {\n",
              "        text-align: right;\n",
              "    }\n",
              "</style>\n",
              "<table border=\"1\" class=\"dataframe\">\n",
              "  <thead>\n",
              "    <tr style=\"text-align: right;\">\n",
              "      <th></th>\n",
              "      <th>year</th>\n",
              "      <th>month</th>\n",
              "      <th>make</th>\n",
              "      <th>fuel_type</th>\n",
              "      <th>vehicle_type</th>\n",
              "      <th>number</th>\n",
              "    </tr>\n",
              "  </thead>\n",
              "  <tbody>\n",
              "    <tr>\n",
              "      <th>0</th>\n",
              "      <td>2016</td>\n",
              "      <td>01</td>\n",
              "      <td>ALFA ROMEO</td>\n",
              "      <td>Petrol</td>\n",
              "      <td>Hatchback</td>\n",
              "      <td>3.0</td>\n",
              "    </tr>\n",
              "    <tr>\n",
              "      <th>1</th>\n",
              "      <td>2016</td>\n",
              "      <td>01</td>\n",
              "      <td>ALPINA</td>\n",
              "      <td>Petrol</td>\n",
              "      <td>Hatchback</td>\n",
              "      <td>0.0</td>\n",
              "    </tr>\n",
              "    <tr>\n",
              "      <th>2</th>\n",
              "      <td>2016</td>\n",
              "      <td>01</td>\n",
              "      <td>ASTON MARTIN</td>\n",
              "      <td>Petrol</td>\n",
              "      <td>Hatchback</td>\n",
              "      <td>0.0</td>\n",
              "    </tr>\n",
              "    <tr>\n",
              "      <th>3</th>\n",
              "      <td>2016</td>\n",
              "      <td>01</td>\n",
              "      <td>AUDI</td>\n",
              "      <td>Petrol</td>\n",
              "      <td>Hatchback</td>\n",
              "      <td>45.0</td>\n",
              "    </tr>\n",
              "    <tr>\n",
              "      <th>4</th>\n",
              "      <td>2016</td>\n",
              "      <td>01</td>\n",
              "      <td>B.M.W.</td>\n",
              "      <td>Petrol</td>\n",
              "      <td>Hatchback</td>\n",
              "      <td>5.0</td>\n",
              "    </tr>\n",
              "    <tr>\n",
              "      <th>...</th>\n",
              "      <td>...</td>\n",
              "      <td>...</td>\n",
              "      <td>...</td>\n",
              "      <td>...</td>\n",
              "      <td>...</td>\n",
              "      <td>...</td>\n",
              "    </tr>\n",
              "    <tr>\n",
              "      <th>27876</th>\n",
              "      <td>2022</td>\n",
              "      <td>06</td>\n",
              "      <td>MERCEDES BENZ</td>\n",
              "      <td>Others</td>\n",
              "      <td>Coupe/ Convertible</td>\n",
              "      <td>12.0</td>\n",
              "    </tr>\n",
              "    <tr>\n",
              "      <th>27879</th>\n",
              "      <td>2022</td>\n",
              "      <td>06</td>\n",
              "      <td>MITSUBISHI</td>\n",
              "      <td>Petrol</td>\n",
              "      <td>Coupe/ Convertible</td>\n",
              "      <td>1.0</td>\n",
              "    </tr>\n",
              "    <tr>\n",
              "      <th>27890</th>\n",
              "      <td>2022</td>\n",
              "      <td>06</td>\n",
              "      <td>PORSCHE</td>\n",
              "      <td>Petrol</td>\n",
              "      <td>Coupe/ Convertible</td>\n",
              "      <td>31.0</td>\n",
              "    </tr>\n",
              "    <tr>\n",
              "      <th>27907</th>\n",
              "      <td>2022</td>\n",
              "      <td>06</td>\n",
              "      <td>TOYOTA</td>\n",
              "      <td>Petrol</td>\n",
              "      <td>Coupe/ Convertible</td>\n",
              "      <td>2.0</td>\n",
              "    </tr>\n",
              "    <tr>\n",
              "      <th>27910</th>\n",
              "      <td>2022</td>\n",
              "      <td>06</td>\n",
              "      <td>TRIUMPH</td>\n",
              "      <td>Petrol</td>\n",
              "      <td>Coupe/ Convertible</td>\n",
              "      <td>1.0</td>\n",
              "    </tr>\n",
              "  </tbody>\n",
              "</table>\n",
              "<p>16835 rows × 6 columns</p>\n",
              "</div>\n",
              "      <button class=\"colab-df-convert\" onclick=\"convertToInteractive('df-e8dbabe9-b56f-4df5-a50f-ba6173ca2e69')\"\n",
              "              title=\"Convert this dataframe to an interactive table.\"\n",
              "              style=\"display:none;\">\n",
              "        \n",
              "  <svg xmlns=\"http://www.w3.org/2000/svg\" height=\"24px\"viewBox=\"0 0 24 24\"\n",
              "       width=\"24px\">\n",
              "    <path d=\"M0 0h24v24H0V0z\" fill=\"none\"/>\n",
              "    <path d=\"M18.56 5.44l.94 2.06.94-2.06 2.06-.94-2.06-.94-.94-2.06-.94 2.06-2.06.94zm-11 1L8.5 8.5l.94-2.06 2.06-.94-2.06-.94L8.5 2.5l-.94 2.06-2.06.94zm10 10l.94 2.06.94-2.06 2.06-.94-2.06-.94-.94-2.06-.94 2.06-2.06.94z\"/><path d=\"M17.41 7.96l-1.37-1.37c-.4-.4-.92-.59-1.43-.59-.52 0-1.04.2-1.43.59L10.3 9.45l-7.72 7.72c-.78.78-.78 2.05 0 2.83L4 21.41c.39.39.9.59 1.41.59.51 0 1.02-.2 1.41-.59l7.78-7.78 2.81-2.81c.8-.78.8-2.07 0-2.86zM5.41 20L4 18.59l7.72-7.72 1.47 1.35L5.41 20z\"/>\n",
              "  </svg>\n",
              "      </button>\n",
              "      \n",
              "  <style>\n",
              "    .colab-df-container {\n",
              "      display:flex;\n",
              "      flex-wrap:wrap;\n",
              "      gap: 12px;\n",
              "    }\n",
              "\n",
              "    .colab-df-convert {\n",
              "      background-color: #E8F0FE;\n",
              "      border: none;\n",
              "      border-radius: 50%;\n",
              "      cursor: pointer;\n",
              "      display: none;\n",
              "      fill: #1967D2;\n",
              "      height: 32px;\n",
              "      padding: 0 0 0 0;\n",
              "      width: 32px;\n",
              "    }\n",
              "\n",
              "    .colab-df-convert:hover {\n",
              "      background-color: #E2EBFA;\n",
              "      box-shadow: 0px 1px 2px rgba(60, 64, 67, 0.3), 0px 1px 3px 1px rgba(60, 64, 67, 0.15);\n",
              "      fill: #174EA6;\n",
              "    }\n",
              "\n",
              "    [theme=dark] .colab-df-convert {\n",
              "      background-color: #3B4455;\n",
              "      fill: #D2E3FC;\n",
              "    }\n",
              "\n",
              "    [theme=dark] .colab-df-convert:hover {\n",
              "      background-color: #434B5C;\n",
              "      box-shadow: 0px 1px 3px 1px rgba(0, 0, 0, 0.15);\n",
              "      filter: drop-shadow(0px 1px 2px rgba(0, 0, 0, 0.3));\n",
              "      fill: #FFFFFF;\n",
              "    }\n",
              "  </style>\n",
              "\n",
              "      <script>\n",
              "        const buttonEl =\n",
              "          document.querySelector('#df-e8dbabe9-b56f-4df5-a50f-ba6173ca2e69 button.colab-df-convert');\n",
              "        buttonEl.style.display =\n",
              "          google.colab.kernel.accessAllowed ? 'block' : 'none';\n",
              "\n",
              "        async function convertToInteractive(key) {\n",
              "          const element = document.querySelector('#df-e8dbabe9-b56f-4df5-a50f-ba6173ca2e69');\n",
              "          const dataTable =\n",
              "            await google.colab.kernel.invokeFunction('convertToInteractive',\n",
              "                                                     [key], {});\n",
              "          if (!dataTable) return;\n",
              "\n",
              "          const docLinkHtml = 'Like what you see? Visit the ' +\n",
              "            '<a target=\"_blank\" href=https://colab.research.google.com/notebooks/data_table.ipynb>data table notebook</a>'\n",
              "            + ' to learn more about interactive tables.';\n",
              "          element.innerHTML = '';\n",
              "          dataTable['output_type'] = 'display_data';\n",
              "          await google.colab.output.renderOutput(dataTable, element);\n",
              "          const docLink = document.createElement('div');\n",
              "          docLink.innerHTML = docLinkHtml;\n",
              "          element.appendChild(docLink);\n",
              "        }\n",
              "      </script>\n",
              "    </div>\n",
              "  </div>\n",
              "  "
            ]
          },
          "metadata": {},
          "execution_count": 266
        }
      ]
    },
    {
      "cell_type": "markdown",
      "source": [
        "#### **Converting data types**\n",
        "\n",
        "Notice the `number` column is of type `float64`:"
      ],
      "metadata": {
        "id": "42bxi-jARytn"
      }
    },
    {
      "cell_type": "code",
      "source": [
        "cars_monthly_reordered.dtypes"
      ],
      "metadata": {
        "colab": {
          "base_uri": "https://localhost:8080/"
        },
        "id": "EGZ_fyTATEd9",
        "outputId": "c11617a8-80e4-48ba-c679-ee6a3224704b"
      },
      "execution_count": 267,
      "outputs": [
        {
          "output_type": "execute_result",
          "data": {
            "text/plain": [
              "year             object\n",
              "month            object\n",
              "make             object\n",
              "fuel_type        object\n",
              "vehicle_type     object\n",
              "number          float64\n",
              "dtype: object"
            ]
          },
          "metadata": {},
          "execution_count": 267
        }
      ]
    },
    {
      "cell_type": "markdown",
      "source": [
        "Theoretically the numbers of car registration in a month should be integers. Let's double check just to be sure:"
      ],
      "metadata": {
        "id": "nPGF22EsTO8r"
      }
    },
    {
      "cell_type": "code",
      "source": [
        "cars_monthly_reordered.number.apply(float.is_integer).all()"
      ],
      "metadata": {
        "colab": {
          "base_uri": "https://localhost:8080/"
        },
        "id": "IQPzykJGTclT",
        "outputId": "27648126-2f12-4c5c-bc9d-8901238f0a67"
      },
      "execution_count": 268,
      "outputs": [
        {
          "output_type": "execute_result",
          "data": {
            "text/plain": [
              "True"
            ]
          },
          "metadata": {},
          "execution_count": 268
        }
      ]
    },
    {
      "cell_type": "markdown",
      "source": [
        "Let's convert the `number`, `year`, `month` columns' types to be integer:"
      ],
      "metadata": {
        "id": "TkGTRlngTqH2"
      }
    },
    {
      "cell_type": "code",
      "source": [
        "cars_monthly_converted = cars_monthly_reordered.astype({\n",
        "    'number': 'int', 'year': 'int', 'month': 'int'})\n",
        "cars_monthly_converted.dtypes"
      ],
      "metadata": {
        "colab": {
          "base_uri": "https://localhost:8080/"
        },
        "id": "GNSLCknHTvXg",
        "outputId": "2f4db9a1-5baf-4c38-eb8b-2e51373ee9dc"
      },
      "execution_count": 269,
      "outputs": [
        {
          "output_type": "execute_result",
          "data": {
            "text/plain": [
              "year             int64\n",
              "month            int64\n",
              "make            object\n",
              "fuel_type       object\n",
              "vehicle_type    object\n",
              "number           int64\n",
              "dtype: object"
            ]
          },
          "metadata": {},
          "execution_count": 269
        }
      ]
    },
    {
      "cell_type": "markdown",
      "source": [
        "We will leave the rest of the columns as-is. It's tempting to convert them to `string` type but `string` type requires specifying max length, so we will keep them as `object` since it allows for variable length among column values."
      ],
      "metadata": {
        "id": "2xVyXVYRVq5a"
      }
    },
    {
      "cell_type": "markdown",
      "source": [
        "#### **Sorting by values**\n",
        "\n",
        "We can sort by the values of any column(s). To sort by the number of registrations in descending order:"
      ],
      "metadata": {
        "id": "yLwqx7vRZL2G"
      }
    },
    {
      "cell_type": "code",
      "source": [
        "cars_monthly_sorted = cars_monthly_converted.sort_values(['number', 'year', 'month'], ascending=[False, True, True])\n",
        "cars_monthly_sorted"
      ],
      "metadata": {
        "colab": {
          "base_uri": "https://localhost:8080/",
          "height": 424
        },
        "id": "rX1lrH1wZ3jm",
        "outputId": "501c85be-b02c-4183-eb7c-295ffe759412"
      },
      "execution_count": 270,
      "outputs": [
        {
          "output_type": "execute_result",
          "data": {
            "text/plain": [
              "       year  month        make fuel_type            vehicle_type  number\n",
              "1581   2016      5       HONDA    Petrol  Sports Utility Vehicle    1198\n",
              "1921   2016      6       HONDA    Petrol  Sports Utility Vehicle     986\n",
              "901    2016      3       HONDA    Petrol  Sports Utility Vehicle     954\n",
              "3427   2016     10       HONDA    Petrol  Sports Utility Vehicle     950\n",
              "1488   2016      5      TOYOTA    Petrol                   Sedan     906\n",
              "...     ...    ...         ...       ...                     ...     ...\n",
              "10429  2018      6      TOYOTA    Diesel      Coupe/ Convertible       0\n",
              "10430  2018      6      TOYOTA    Others      Coupe/ Convertible       0\n",
              "10431  2018      6     TRIUMPH    Petrol      Coupe/ Convertible       0\n",
              "10433  2018      6  VOLKSWAGEN    Diesel      Coupe/ Convertible       0\n",
              "10434  2018      6       VOLVO    Petrol      Coupe/ Convertible       0\n",
              "\n",
              "[16835 rows x 6 columns]"
            ],
            "text/html": [
              "\n",
              "  <div id=\"df-316acfa4-5ad3-40a5-8193-e8b87b3c6682\">\n",
              "    <div class=\"colab-df-container\">\n",
              "      <div>\n",
              "<style scoped>\n",
              "    .dataframe tbody tr th:only-of-type {\n",
              "        vertical-align: middle;\n",
              "    }\n",
              "\n",
              "    .dataframe tbody tr th {\n",
              "        vertical-align: top;\n",
              "    }\n",
              "\n",
              "    .dataframe thead th {\n",
              "        text-align: right;\n",
              "    }\n",
              "</style>\n",
              "<table border=\"1\" class=\"dataframe\">\n",
              "  <thead>\n",
              "    <tr style=\"text-align: right;\">\n",
              "      <th></th>\n",
              "      <th>year</th>\n",
              "      <th>month</th>\n",
              "      <th>make</th>\n",
              "      <th>fuel_type</th>\n",
              "      <th>vehicle_type</th>\n",
              "      <th>number</th>\n",
              "    </tr>\n",
              "  </thead>\n",
              "  <tbody>\n",
              "    <tr>\n",
              "      <th>1581</th>\n",
              "      <td>2016</td>\n",
              "      <td>5</td>\n",
              "      <td>HONDA</td>\n",
              "      <td>Petrol</td>\n",
              "      <td>Sports Utility Vehicle</td>\n",
              "      <td>1198</td>\n",
              "    </tr>\n",
              "    <tr>\n",
              "      <th>1921</th>\n",
              "      <td>2016</td>\n",
              "      <td>6</td>\n",
              "      <td>HONDA</td>\n",
              "      <td>Petrol</td>\n",
              "      <td>Sports Utility Vehicle</td>\n",
              "      <td>986</td>\n",
              "    </tr>\n",
              "    <tr>\n",
              "      <th>901</th>\n",
              "      <td>2016</td>\n",
              "      <td>3</td>\n",
              "      <td>HONDA</td>\n",
              "      <td>Petrol</td>\n",
              "      <td>Sports Utility Vehicle</td>\n",
              "      <td>954</td>\n",
              "    </tr>\n",
              "    <tr>\n",
              "      <th>3427</th>\n",
              "      <td>2016</td>\n",
              "      <td>10</td>\n",
              "      <td>HONDA</td>\n",
              "      <td>Petrol</td>\n",
              "      <td>Sports Utility Vehicle</td>\n",
              "      <td>950</td>\n",
              "    </tr>\n",
              "    <tr>\n",
              "      <th>1488</th>\n",
              "      <td>2016</td>\n",
              "      <td>5</td>\n",
              "      <td>TOYOTA</td>\n",
              "      <td>Petrol</td>\n",
              "      <td>Sedan</td>\n",
              "      <td>906</td>\n",
              "    </tr>\n",
              "    <tr>\n",
              "      <th>...</th>\n",
              "      <td>...</td>\n",
              "      <td>...</td>\n",
              "      <td>...</td>\n",
              "      <td>...</td>\n",
              "      <td>...</td>\n",
              "      <td>...</td>\n",
              "    </tr>\n",
              "    <tr>\n",
              "      <th>10429</th>\n",
              "      <td>2018</td>\n",
              "      <td>6</td>\n",
              "      <td>TOYOTA</td>\n",
              "      <td>Diesel</td>\n",
              "      <td>Coupe/ Convertible</td>\n",
              "      <td>0</td>\n",
              "    </tr>\n",
              "    <tr>\n",
              "      <th>10430</th>\n",
              "      <td>2018</td>\n",
              "      <td>6</td>\n",
              "      <td>TOYOTA</td>\n",
              "      <td>Others</td>\n",
              "      <td>Coupe/ Convertible</td>\n",
              "      <td>0</td>\n",
              "    </tr>\n",
              "    <tr>\n",
              "      <th>10431</th>\n",
              "      <td>2018</td>\n",
              "      <td>6</td>\n",
              "      <td>TRIUMPH</td>\n",
              "      <td>Petrol</td>\n",
              "      <td>Coupe/ Convertible</td>\n",
              "      <td>0</td>\n",
              "    </tr>\n",
              "    <tr>\n",
              "      <th>10433</th>\n",
              "      <td>2018</td>\n",
              "      <td>6</td>\n",
              "      <td>VOLKSWAGEN</td>\n",
              "      <td>Diesel</td>\n",
              "      <td>Coupe/ Convertible</td>\n",
              "      <td>0</td>\n",
              "    </tr>\n",
              "    <tr>\n",
              "      <th>10434</th>\n",
              "      <td>2018</td>\n",
              "      <td>6</td>\n",
              "      <td>VOLVO</td>\n",
              "      <td>Petrol</td>\n",
              "      <td>Coupe/ Convertible</td>\n",
              "      <td>0</td>\n",
              "    </tr>\n",
              "  </tbody>\n",
              "</table>\n",
              "<p>16835 rows × 6 columns</p>\n",
              "</div>\n",
              "      <button class=\"colab-df-convert\" onclick=\"convertToInteractive('df-316acfa4-5ad3-40a5-8193-e8b87b3c6682')\"\n",
              "              title=\"Convert this dataframe to an interactive table.\"\n",
              "              style=\"display:none;\">\n",
              "        \n",
              "  <svg xmlns=\"http://www.w3.org/2000/svg\" height=\"24px\"viewBox=\"0 0 24 24\"\n",
              "       width=\"24px\">\n",
              "    <path d=\"M0 0h24v24H0V0z\" fill=\"none\"/>\n",
              "    <path d=\"M18.56 5.44l.94 2.06.94-2.06 2.06-.94-2.06-.94-.94-2.06-.94 2.06-2.06.94zm-11 1L8.5 8.5l.94-2.06 2.06-.94-2.06-.94L8.5 2.5l-.94 2.06-2.06.94zm10 10l.94 2.06.94-2.06 2.06-.94-2.06-.94-.94-2.06-.94 2.06-2.06.94z\"/><path d=\"M17.41 7.96l-1.37-1.37c-.4-.4-.92-.59-1.43-.59-.52 0-1.04.2-1.43.59L10.3 9.45l-7.72 7.72c-.78.78-.78 2.05 0 2.83L4 21.41c.39.39.9.59 1.41.59.51 0 1.02-.2 1.41-.59l7.78-7.78 2.81-2.81c.8-.78.8-2.07 0-2.86zM5.41 20L4 18.59l7.72-7.72 1.47 1.35L5.41 20z\"/>\n",
              "  </svg>\n",
              "      </button>\n",
              "      \n",
              "  <style>\n",
              "    .colab-df-container {\n",
              "      display:flex;\n",
              "      flex-wrap:wrap;\n",
              "      gap: 12px;\n",
              "    }\n",
              "\n",
              "    .colab-df-convert {\n",
              "      background-color: #E8F0FE;\n",
              "      border: none;\n",
              "      border-radius: 50%;\n",
              "      cursor: pointer;\n",
              "      display: none;\n",
              "      fill: #1967D2;\n",
              "      height: 32px;\n",
              "      padding: 0 0 0 0;\n",
              "      width: 32px;\n",
              "    }\n",
              "\n",
              "    .colab-df-convert:hover {\n",
              "      background-color: #E2EBFA;\n",
              "      box-shadow: 0px 1px 2px rgba(60, 64, 67, 0.3), 0px 1px 3px 1px rgba(60, 64, 67, 0.15);\n",
              "      fill: #174EA6;\n",
              "    }\n",
              "\n",
              "    [theme=dark] .colab-df-convert {\n",
              "      background-color: #3B4455;\n",
              "      fill: #D2E3FC;\n",
              "    }\n",
              "\n",
              "    [theme=dark] .colab-df-convert:hover {\n",
              "      background-color: #434B5C;\n",
              "      box-shadow: 0px 1px 3px 1px rgba(0, 0, 0, 0.15);\n",
              "      filter: drop-shadow(0px 1px 2px rgba(0, 0, 0, 0.3));\n",
              "      fill: #FFFFFF;\n",
              "    }\n",
              "  </style>\n",
              "\n",
              "      <script>\n",
              "        const buttonEl =\n",
              "          document.querySelector('#df-316acfa4-5ad3-40a5-8193-e8b87b3c6682 button.colab-df-convert');\n",
              "        buttonEl.style.display =\n",
              "          google.colab.kernel.accessAllowed ? 'block' : 'none';\n",
              "\n",
              "        async function convertToInteractive(key) {\n",
              "          const element = document.querySelector('#df-316acfa4-5ad3-40a5-8193-e8b87b3c6682');\n",
              "          const dataTable =\n",
              "            await google.colab.kernel.invokeFunction('convertToInteractive',\n",
              "                                                     [key], {});\n",
              "          if (!dataTable) return;\n",
              "\n",
              "          const docLinkHtml = 'Like what you see? Visit the ' +\n",
              "            '<a target=\"_blank\" href=https://colab.research.google.com/notebooks/data_table.ipynb>data table notebook</a>'\n",
              "            + ' to learn more about interactive tables.';\n",
              "          element.innerHTML = '';\n",
              "          dataTable['output_type'] = 'display_data';\n",
              "          await google.colab.output.renderOutput(dataTable, element);\n",
              "          const docLink = document.createElement('div');\n",
              "          docLink.innerHTML = docLinkHtml;\n",
              "          element.appendChild(docLink);\n",
              "        }\n",
              "      </script>\n",
              "    </div>\n",
              "  </div>\n",
              "  "
            ]
          },
          "metadata": {},
          "execution_count": 270
        }
      ]
    },
    {
      "cell_type": "markdown",
      "source": [
        "This could be helpful in discovering possible data integrity issues. For example, we notice here there are entries with `number=0` which we can remove from the dataset:"
      ],
      "metadata": {
        "id": "kUeoLgAJapDG"
      }
    },
    {
      "cell_type": "code",
      "source": [
        "cars_monthly_nonzero = cars_monthly_sorted[cars_monthly_sorted.number > 0]\n",
        "cars_monthly_nonzero"
      ],
      "metadata": {
        "colab": {
          "base_uri": "https://localhost:8080/",
          "height": 424
        },
        "id": "Cg848POfa4Y1",
        "outputId": "b1f30ef9-0ac6-4b46-ce93-8fc2e71008f3"
      },
      "execution_count": 271,
      "outputs": [
        {
          "output_type": "execute_result",
          "data": {
            "text/plain": [
              "       year  month           make fuel_type            vehicle_type  number\n",
              "1581   2016      5          HONDA    Petrol  Sports Utility Vehicle    1198\n",
              "1921   2016      6          HONDA    Petrol  Sports Utility Vehicle     986\n",
              "901    2016      3          HONDA    Petrol  Sports Utility Vehicle     954\n",
              "3427   2016     10          HONDA    Petrol  Sports Utility Vehicle     950\n",
              "1488   2016      5         TOYOTA    Petrol                   Sedan     906\n",
              "...     ...    ...            ...       ...                     ...     ...\n",
              "27868  2022      6       MASERATI    Petrol      Coupe/ Convertible       1\n",
              "27873  2022      6        MCLAREN    Petrol      Coupe/ Convertible       1\n",
              "27875  2022      6  MERCEDES BENZ    Diesel      Coupe/ Convertible       1\n",
              "27879  2022      6     MITSUBISHI    Petrol      Coupe/ Convertible       1\n",
              "27910  2022      6        TRIUMPH    Petrol      Coupe/ Convertible       1\n",
              "\n",
              "[10445 rows x 6 columns]"
            ],
            "text/html": [
              "\n",
              "  <div id=\"df-d1ad2112-2dab-41ab-bc3d-ed401f5296c5\">\n",
              "    <div class=\"colab-df-container\">\n",
              "      <div>\n",
              "<style scoped>\n",
              "    .dataframe tbody tr th:only-of-type {\n",
              "        vertical-align: middle;\n",
              "    }\n",
              "\n",
              "    .dataframe tbody tr th {\n",
              "        vertical-align: top;\n",
              "    }\n",
              "\n",
              "    .dataframe thead th {\n",
              "        text-align: right;\n",
              "    }\n",
              "</style>\n",
              "<table border=\"1\" class=\"dataframe\">\n",
              "  <thead>\n",
              "    <tr style=\"text-align: right;\">\n",
              "      <th></th>\n",
              "      <th>year</th>\n",
              "      <th>month</th>\n",
              "      <th>make</th>\n",
              "      <th>fuel_type</th>\n",
              "      <th>vehicle_type</th>\n",
              "      <th>number</th>\n",
              "    </tr>\n",
              "  </thead>\n",
              "  <tbody>\n",
              "    <tr>\n",
              "      <th>1581</th>\n",
              "      <td>2016</td>\n",
              "      <td>5</td>\n",
              "      <td>HONDA</td>\n",
              "      <td>Petrol</td>\n",
              "      <td>Sports Utility Vehicle</td>\n",
              "      <td>1198</td>\n",
              "    </tr>\n",
              "    <tr>\n",
              "      <th>1921</th>\n",
              "      <td>2016</td>\n",
              "      <td>6</td>\n",
              "      <td>HONDA</td>\n",
              "      <td>Petrol</td>\n",
              "      <td>Sports Utility Vehicle</td>\n",
              "      <td>986</td>\n",
              "    </tr>\n",
              "    <tr>\n",
              "      <th>901</th>\n",
              "      <td>2016</td>\n",
              "      <td>3</td>\n",
              "      <td>HONDA</td>\n",
              "      <td>Petrol</td>\n",
              "      <td>Sports Utility Vehicle</td>\n",
              "      <td>954</td>\n",
              "    </tr>\n",
              "    <tr>\n",
              "      <th>3427</th>\n",
              "      <td>2016</td>\n",
              "      <td>10</td>\n",
              "      <td>HONDA</td>\n",
              "      <td>Petrol</td>\n",
              "      <td>Sports Utility Vehicle</td>\n",
              "      <td>950</td>\n",
              "    </tr>\n",
              "    <tr>\n",
              "      <th>1488</th>\n",
              "      <td>2016</td>\n",
              "      <td>5</td>\n",
              "      <td>TOYOTA</td>\n",
              "      <td>Petrol</td>\n",
              "      <td>Sedan</td>\n",
              "      <td>906</td>\n",
              "    </tr>\n",
              "    <tr>\n",
              "      <th>...</th>\n",
              "      <td>...</td>\n",
              "      <td>...</td>\n",
              "      <td>...</td>\n",
              "      <td>...</td>\n",
              "      <td>...</td>\n",
              "      <td>...</td>\n",
              "    </tr>\n",
              "    <tr>\n",
              "      <th>27868</th>\n",
              "      <td>2022</td>\n",
              "      <td>6</td>\n",
              "      <td>MASERATI</td>\n",
              "      <td>Petrol</td>\n",
              "      <td>Coupe/ Convertible</td>\n",
              "      <td>1</td>\n",
              "    </tr>\n",
              "    <tr>\n",
              "      <th>27873</th>\n",
              "      <td>2022</td>\n",
              "      <td>6</td>\n",
              "      <td>MCLAREN</td>\n",
              "      <td>Petrol</td>\n",
              "      <td>Coupe/ Convertible</td>\n",
              "      <td>1</td>\n",
              "    </tr>\n",
              "    <tr>\n",
              "      <th>27875</th>\n",
              "      <td>2022</td>\n",
              "      <td>6</td>\n",
              "      <td>MERCEDES BENZ</td>\n",
              "      <td>Diesel</td>\n",
              "      <td>Coupe/ Convertible</td>\n",
              "      <td>1</td>\n",
              "    </tr>\n",
              "    <tr>\n",
              "      <th>27879</th>\n",
              "      <td>2022</td>\n",
              "      <td>6</td>\n",
              "      <td>MITSUBISHI</td>\n",
              "      <td>Petrol</td>\n",
              "      <td>Coupe/ Convertible</td>\n",
              "      <td>1</td>\n",
              "    </tr>\n",
              "    <tr>\n",
              "      <th>27910</th>\n",
              "      <td>2022</td>\n",
              "      <td>6</td>\n",
              "      <td>TRIUMPH</td>\n",
              "      <td>Petrol</td>\n",
              "      <td>Coupe/ Convertible</td>\n",
              "      <td>1</td>\n",
              "    </tr>\n",
              "  </tbody>\n",
              "</table>\n",
              "<p>10445 rows × 6 columns</p>\n",
              "</div>\n",
              "      <button class=\"colab-df-convert\" onclick=\"convertToInteractive('df-d1ad2112-2dab-41ab-bc3d-ed401f5296c5')\"\n",
              "              title=\"Convert this dataframe to an interactive table.\"\n",
              "              style=\"display:none;\">\n",
              "        \n",
              "  <svg xmlns=\"http://www.w3.org/2000/svg\" height=\"24px\"viewBox=\"0 0 24 24\"\n",
              "       width=\"24px\">\n",
              "    <path d=\"M0 0h24v24H0V0z\" fill=\"none\"/>\n",
              "    <path d=\"M18.56 5.44l.94 2.06.94-2.06 2.06-.94-2.06-.94-.94-2.06-.94 2.06-2.06.94zm-11 1L8.5 8.5l.94-2.06 2.06-.94-2.06-.94L8.5 2.5l-.94 2.06-2.06.94zm10 10l.94 2.06.94-2.06 2.06-.94-2.06-.94-.94-2.06-.94 2.06-2.06.94z\"/><path d=\"M17.41 7.96l-1.37-1.37c-.4-.4-.92-.59-1.43-.59-.52 0-1.04.2-1.43.59L10.3 9.45l-7.72 7.72c-.78.78-.78 2.05 0 2.83L4 21.41c.39.39.9.59 1.41.59.51 0 1.02-.2 1.41-.59l7.78-7.78 2.81-2.81c.8-.78.8-2.07 0-2.86zM5.41 20L4 18.59l7.72-7.72 1.47 1.35L5.41 20z\"/>\n",
              "  </svg>\n",
              "      </button>\n",
              "      \n",
              "  <style>\n",
              "    .colab-df-container {\n",
              "      display:flex;\n",
              "      flex-wrap:wrap;\n",
              "      gap: 12px;\n",
              "    }\n",
              "\n",
              "    .colab-df-convert {\n",
              "      background-color: #E8F0FE;\n",
              "      border: none;\n",
              "      border-radius: 50%;\n",
              "      cursor: pointer;\n",
              "      display: none;\n",
              "      fill: #1967D2;\n",
              "      height: 32px;\n",
              "      padding: 0 0 0 0;\n",
              "      width: 32px;\n",
              "    }\n",
              "\n",
              "    .colab-df-convert:hover {\n",
              "      background-color: #E2EBFA;\n",
              "      box-shadow: 0px 1px 2px rgba(60, 64, 67, 0.3), 0px 1px 3px 1px rgba(60, 64, 67, 0.15);\n",
              "      fill: #174EA6;\n",
              "    }\n",
              "\n",
              "    [theme=dark] .colab-df-convert {\n",
              "      background-color: #3B4455;\n",
              "      fill: #D2E3FC;\n",
              "    }\n",
              "\n",
              "    [theme=dark] .colab-df-convert:hover {\n",
              "      background-color: #434B5C;\n",
              "      box-shadow: 0px 1px 3px 1px rgba(0, 0, 0, 0.15);\n",
              "      filter: drop-shadow(0px 1px 2px rgba(0, 0, 0, 0.3));\n",
              "      fill: #FFFFFF;\n",
              "    }\n",
              "  </style>\n",
              "\n",
              "      <script>\n",
              "        const buttonEl =\n",
              "          document.querySelector('#df-d1ad2112-2dab-41ab-bc3d-ed401f5296c5 button.colab-df-convert');\n",
              "        buttonEl.style.display =\n",
              "          google.colab.kernel.accessAllowed ? 'block' : 'none';\n",
              "\n",
              "        async function convertToInteractive(key) {\n",
              "          const element = document.querySelector('#df-d1ad2112-2dab-41ab-bc3d-ed401f5296c5');\n",
              "          const dataTable =\n",
              "            await google.colab.kernel.invokeFunction('convertToInteractive',\n",
              "                                                     [key], {});\n",
              "          if (!dataTable) return;\n",
              "\n",
              "          const docLinkHtml = 'Like what you see? Visit the ' +\n",
              "            '<a target=\"_blank\" href=https://colab.research.google.com/notebooks/data_table.ipynb>data table notebook</a>'\n",
              "            + ' to learn more about interactive tables.';\n",
              "          element.innerHTML = '';\n",
              "          dataTable['output_type'] = 'display_data';\n",
              "          await google.colab.output.renderOutput(dataTable, element);\n",
              "          const docLink = document.createElement('div');\n",
              "          docLink.innerHTML = docLinkHtml;\n",
              "          element.appendChild(docLink);\n",
              "        }\n",
              "      </script>\n",
              "    </div>\n",
              "  </div>\n",
              "  "
            ]
          },
          "metadata": {},
          "execution_count": 271
        }
      ]
    },
    {
      "cell_type": "markdown",
      "source": [
        "We can also pick out the smallest/largest rows for similar data integrity checks:"
      ],
      "metadata": {
        "id": "RZzGLbNEbWp_"
      }
    },
    {
      "cell_type": "code",
      "source": [
        "cars_monthly_nonzero.month.nsmallest(3)"
      ],
      "metadata": {
        "colab": {
          "base_uri": "https://localhost:8080/"
        },
        "id": "dv3Q5_OxcTs0",
        "outputId": "01e04fd6-d8b7-4a61-c4f1-95db4fc28edf"
      },
      "execution_count": 272,
      "outputs": [
        {
          "output_type": "execute_result",
          "data": {
            "text/plain": [
              "221      1\n",
              "12489    1\n",
              "128      1\n",
              "Name: month, dtype: int64"
            ]
          },
          "metadata": {},
          "execution_count": 272
        }
      ]
    },
    {
      "cell_type": "code",
      "source": [
        "cars_monthly_nonzero.month.nlargest(3)"
      ],
      "metadata": {
        "colab": {
          "base_uri": "https://localhost:8080/"
        },
        "id": "0VXmIUQZbnJ7",
        "outputId": "ad4e8f1a-c98f-4c04-a468-017b35d8947e"
      },
      "execution_count": 273,
      "outputs": [
        {
          "output_type": "execute_result",
          "data": {
            "text/plain": [
              "4054    12\n",
              "4085    12\n",
              "8492    12\n",
              "Name: month, dtype: int64"
            ]
          },
          "metadata": {},
          "execution_count": 273
        }
      ]
    },
    {
      "cell_type": "markdown",
      "source": [
        "### 3.3.2. Aggregation & Grouping\n",
        "\n",
        "In this section, we will explore using pivot tables, crosstabs, and group by operations to aggregate the data."
      ],
      "metadata": {
        "id": "Ftt2PUnRdJyo"
      }
    },
    {
      "cell_type": "markdown",
      "source": [
        "#### **`pivot_table`**\n",
        "\n",
        "To get the aggregated number of new car registrations by make and year, using `pivot_table`:"
      ],
      "metadata": {
        "id": "h0s-xsxDaEqm"
      }
    },
    {
      "cell_type": "code",
      "source": [
        "cars_monthly_pivoted = cars_monthly_nonzero.pivot_table(index='make', columns='year', values='number', aggfunc='sum')\n",
        "cars_monthly_pivoted"
      ],
      "metadata": {
        "colab": {
          "base_uri": "https://localhost:8080/",
          "height": 455
        },
        "id": "CaLAOLbge4nu",
        "outputId": "0b15374b-84b4-4da8-8a49-a2eec530429c"
      },
      "execution_count": 274,
      "outputs": [
        {
          "output_type": "execute_result",
          "data": {
            "text/plain": [
              "year             2016     2017     2018     2019    2020    2021    2022\n",
              "make                                                                    \n",
              "ALFA ROMEO       39.0     12.0     50.0     60.0    39.0    37.0     9.0\n",
              "ALPINA           12.0     23.0     11.0      2.0     8.0     2.0     NaN\n",
              "ALPINE            NaN      NaN      NaN     14.0     7.0    11.0     3.0\n",
              "ASTON MARTIN     14.0     29.0     26.0     21.0    28.0    27.0    16.0\n",
              "AUDI           2360.0   2604.0   2941.0   2487.0  2228.0  1975.0   445.0\n",
              "...               ...      ...      ...      ...     ...     ...     ...\n",
              "TESLA             3.0      NaN      4.0     14.0    20.0   924.0   315.0\n",
              "TOYOTA        18491.0  19133.0  13817.0  12923.0  7704.0  9633.0  3545.0\n",
              "TRIUMPH           1.0      3.0      2.0      NaN     1.0     NaN     2.0\n",
              "VOLKSWAGEN     2779.0   2450.0   2420.0   1726.0  1334.0   915.0   241.0\n",
              "VOLVO          1485.0   1526.0   1416.0    874.0   712.0   510.0   185.0\n",
              "\n",
              "[71 rows x 7 columns]"
            ],
            "text/html": [
              "\n",
              "  <div id=\"df-c3d490dd-de58-4457-9eac-d94382ba8a4c\">\n",
              "    <div class=\"colab-df-container\">\n",
              "      <div>\n",
              "<style scoped>\n",
              "    .dataframe tbody tr th:only-of-type {\n",
              "        vertical-align: middle;\n",
              "    }\n",
              "\n",
              "    .dataframe tbody tr th {\n",
              "        vertical-align: top;\n",
              "    }\n",
              "\n",
              "    .dataframe thead th {\n",
              "        text-align: right;\n",
              "    }\n",
              "</style>\n",
              "<table border=\"1\" class=\"dataframe\">\n",
              "  <thead>\n",
              "    <tr style=\"text-align: right;\">\n",
              "      <th>year</th>\n",
              "      <th>2016</th>\n",
              "      <th>2017</th>\n",
              "      <th>2018</th>\n",
              "      <th>2019</th>\n",
              "      <th>2020</th>\n",
              "      <th>2021</th>\n",
              "      <th>2022</th>\n",
              "    </tr>\n",
              "    <tr>\n",
              "      <th>make</th>\n",
              "      <th></th>\n",
              "      <th></th>\n",
              "      <th></th>\n",
              "      <th></th>\n",
              "      <th></th>\n",
              "      <th></th>\n",
              "      <th></th>\n",
              "    </tr>\n",
              "  </thead>\n",
              "  <tbody>\n",
              "    <tr>\n",
              "      <th>ALFA ROMEO</th>\n",
              "      <td>39.0</td>\n",
              "      <td>12.0</td>\n",
              "      <td>50.0</td>\n",
              "      <td>60.0</td>\n",
              "      <td>39.0</td>\n",
              "      <td>37.0</td>\n",
              "      <td>9.0</td>\n",
              "    </tr>\n",
              "    <tr>\n",
              "      <th>ALPINA</th>\n",
              "      <td>12.0</td>\n",
              "      <td>23.0</td>\n",
              "      <td>11.0</td>\n",
              "      <td>2.0</td>\n",
              "      <td>8.0</td>\n",
              "      <td>2.0</td>\n",
              "      <td>NaN</td>\n",
              "    </tr>\n",
              "    <tr>\n",
              "      <th>ALPINE</th>\n",
              "      <td>NaN</td>\n",
              "      <td>NaN</td>\n",
              "      <td>NaN</td>\n",
              "      <td>14.0</td>\n",
              "      <td>7.0</td>\n",
              "      <td>11.0</td>\n",
              "      <td>3.0</td>\n",
              "    </tr>\n",
              "    <tr>\n",
              "      <th>ASTON MARTIN</th>\n",
              "      <td>14.0</td>\n",
              "      <td>29.0</td>\n",
              "      <td>26.0</td>\n",
              "      <td>21.0</td>\n",
              "      <td>28.0</td>\n",
              "      <td>27.0</td>\n",
              "      <td>16.0</td>\n",
              "    </tr>\n",
              "    <tr>\n",
              "      <th>AUDI</th>\n",
              "      <td>2360.0</td>\n",
              "      <td>2604.0</td>\n",
              "      <td>2941.0</td>\n",
              "      <td>2487.0</td>\n",
              "      <td>2228.0</td>\n",
              "      <td>1975.0</td>\n",
              "      <td>445.0</td>\n",
              "    </tr>\n",
              "    <tr>\n",
              "      <th>...</th>\n",
              "      <td>...</td>\n",
              "      <td>...</td>\n",
              "      <td>...</td>\n",
              "      <td>...</td>\n",
              "      <td>...</td>\n",
              "      <td>...</td>\n",
              "      <td>...</td>\n",
              "    </tr>\n",
              "    <tr>\n",
              "      <th>TESLA</th>\n",
              "      <td>3.0</td>\n",
              "      <td>NaN</td>\n",
              "      <td>4.0</td>\n",
              "      <td>14.0</td>\n",
              "      <td>20.0</td>\n",
              "      <td>924.0</td>\n",
              "      <td>315.0</td>\n",
              "    </tr>\n",
              "    <tr>\n",
              "      <th>TOYOTA</th>\n",
              "      <td>18491.0</td>\n",
              "      <td>19133.0</td>\n",
              "      <td>13817.0</td>\n",
              "      <td>12923.0</td>\n",
              "      <td>7704.0</td>\n",
              "      <td>9633.0</td>\n",
              "      <td>3545.0</td>\n",
              "    </tr>\n",
              "    <tr>\n",
              "      <th>TRIUMPH</th>\n",
              "      <td>1.0</td>\n",
              "      <td>3.0</td>\n",
              "      <td>2.0</td>\n",
              "      <td>NaN</td>\n",
              "      <td>1.0</td>\n",
              "      <td>NaN</td>\n",
              "      <td>2.0</td>\n",
              "    </tr>\n",
              "    <tr>\n",
              "      <th>VOLKSWAGEN</th>\n",
              "      <td>2779.0</td>\n",
              "      <td>2450.0</td>\n",
              "      <td>2420.0</td>\n",
              "      <td>1726.0</td>\n",
              "      <td>1334.0</td>\n",
              "      <td>915.0</td>\n",
              "      <td>241.0</td>\n",
              "    </tr>\n",
              "    <tr>\n",
              "      <th>VOLVO</th>\n",
              "      <td>1485.0</td>\n",
              "      <td>1526.0</td>\n",
              "      <td>1416.0</td>\n",
              "      <td>874.0</td>\n",
              "      <td>712.0</td>\n",
              "      <td>510.0</td>\n",
              "      <td>185.0</td>\n",
              "    </tr>\n",
              "  </tbody>\n",
              "</table>\n",
              "<p>71 rows × 7 columns</p>\n",
              "</div>\n",
              "      <button class=\"colab-df-convert\" onclick=\"convertToInteractive('df-c3d490dd-de58-4457-9eac-d94382ba8a4c')\"\n",
              "              title=\"Convert this dataframe to an interactive table.\"\n",
              "              style=\"display:none;\">\n",
              "        \n",
              "  <svg xmlns=\"http://www.w3.org/2000/svg\" height=\"24px\"viewBox=\"0 0 24 24\"\n",
              "       width=\"24px\">\n",
              "    <path d=\"M0 0h24v24H0V0z\" fill=\"none\"/>\n",
              "    <path d=\"M18.56 5.44l.94 2.06.94-2.06 2.06-.94-2.06-.94-.94-2.06-.94 2.06-2.06.94zm-11 1L8.5 8.5l.94-2.06 2.06-.94-2.06-.94L8.5 2.5l-.94 2.06-2.06.94zm10 10l.94 2.06.94-2.06 2.06-.94-2.06-.94-.94-2.06-.94 2.06-2.06.94z\"/><path d=\"M17.41 7.96l-1.37-1.37c-.4-.4-.92-.59-1.43-.59-.52 0-1.04.2-1.43.59L10.3 9.45l-7.72 7.72c-.78.78-.78 2.05 0 2.83L4 21.41c.39.39.9.59 1.41.59.51 0 1.02-.2 1.41-.59l7.78-7.78 2.81-2.81c.8-.78.8-2.07 0-2.86zM5.41 20L4 18.59l7.72-7.72 1.47 1.35L5.41 20z\"/>\n",
              "  </svg>\n",
              "      </button>\n",
              "      \n",
              "  <style>\n",
              "    .colab-df-container {\n",
              "      display:flex;\n",
              "      flex-wrap:wrap;\n",
              "      gap: 12px;\n",
              "    }\n",
              "\n",
              "    .colab-df-convert {\n",
              "      background-color: #E8F0FE;\n",
              "      border: none;\n",
              "      border-radius: 50%;\n",
              "      cursor: pointer;\n",
              "      display: none;\n",
              "      fill: #1967D2;\n",
              "      height: 32px;\n",
              "      padding: 0 0 0 0;\n",
              "      width: 32px;\n",
              "    }\n",
              "\n",
              "    .colab-df-convert:hover {\n",
              "      background-color: #E2EBFA;\n",
              "      box-shadow: 0px 1px 2px rgba(60, 64, 67, 0.3), 0px 1px 3px 1px rgba(60, 64, 67, 0.15);\n",
              "      fill: #174EA6;\n",
              "    }\n",
              "\n",
              "    [theme=dark] .colab-df-convert {\n",
              "      background-color: #3B4455;\n",
              "      fill: #D2E3FC;\n",
              "    }\n",
              "\n",
              "    [theme=dark] .colab-df-convert:hover {\n",
              "      background-color: #434B5C;\n",
              "      box-shadow: 0px 1px 3px 1px rgba(0, 0, 0, 0.15);\n",
              "      filter: drop-shadow(0px 1px 2px rgba(0, 0, 0, 0.3));\n",
              "      fill: #FFFFFF;\n",
              "    }\n",
              "  </style>\n",
              "\n",
              "      <script>\n",
              "        const buttonEl =\n",
              "          document.querySelector('#df-c3d490dd-de58-4457-9eac-d94382ba8a4c button.colab-df-convert');\n",
              "        buttonEl.style.display =\n",
              "          google.colab.kernel.accessAllowed ? 'block' : 'none';\n",
              "\n",
              "        async function convertToInteractive(key) {\n",
              "          const element = document.querySelector('#df-c3d490dd-de58-4457-9eac-d94382ba8a4c');\n",
              "          const dataTable =\n",
              "            await google.colab.kernel.invokeFunction('convertToInteractive',\n",
              "                                                     [key], {});\n",
              "          if (!dataTable) return;\n",
              "\n",
              "          const docLinkHtml = 'Like what you see? Visit the ' +\n",
              "            '<a target=\"_blank\" href=https://colab.research.google.com/notebooks/data_table.ipynb>data table notebook</a>'\n",
              "            + ' to learn more about interactive tables.';\n",
              "          element.innerHTML = '';\n",
              "          dataTable['output_type'] = 'display_data';\n",
              "          await google.colab.output.renderOutput(dataTable, element);\n",
              "          const docLink = document.createElement('div');\n",
              "          docLink.innerHTML = docLinkHtml;\n",
              "          element.appendChild(docLink);\n",
              "        }\n",
              "      </script>\n",
              "    </div>\n",
              "  </div>\n",
              "  "
            ]
          },
          "metadata": {},
          "execution_count": 274
        }
      ]
    },
    {
      "cell_type": "markdown",
      "source": [
        "#### **`crosstab`**\n",
        "\n",
        "The Same can be achieve with the `pd.crosstab` function, but with different arguments:"
      ],
      "metadata": {
        "id": "BPSUBCecsoTX"
      }
    },
    {
      "cell_type": "code",
      "source": [
        "pd.crosstab(index=cars_monthly_nonzero.make,\n",
        "            columns=cars_monthly_nonzero.year,\n",
        "            values=cars_monthly_nonzero.number,\n",
        "            aggfunc='sum')"
      ],
      "metadata": {
        "colab": {
          "base_uri": "https://localhost:8080/",
          "height": 455
        },
        "id": "f6-tOFJgf77T",
        "outputId": "3317abb6-7ac7-4cb5-c487-9318887edf00"
      },
      "execution_count": 275,
      "outputs": [
        {
          "output_type": "execute_result",
          "data": {
            "text/plain": [
              "year             2016     2017     2018     2019    2020    2021    2022\n",
              "make                                                                    \n",
              "ALFA ROMEO       39.0     12.0     50.0     60.0    39.0    37.0     9.0\n",
              "ALPINA           12.0     23.0     11.0      2.0     8.0     2.0     NaN\n",
              "ALPINE            NaN      NaN      NaN     14.0     7.0    11.0     3.0\n",
              "ASTON MARTIN     14.0     29.0     26.0     21.0    28.0    27.0    16.0\n",
              "AUDI           2360.0   2604.0   2941.0   2487.0  2228.0  1975.0   445.0\n",
              "...               ...      ...      ...      ...     ...     ...     ...\n",
              "TESLA             3.0      NaN      4.0     14.0    20.0   924.0   315.0\n",
              "TOYOTA        18491.0  19133.0  13817.0  12923.0  7704.0  9633.0  3545.0\n",
              "TRIUMPH           1.0      3.0      2.0      NaN     1.0     NaN     2.0\n",
              "VOLKSWAGEN     2779.0   2450.0   2420.0   1726.0  1334.0   915.0   241.0\n",
              "VOLVO          1485.0   1526.0   1416.0    874.0   712.0   510.0   185.0\n",
              "\n",
              "[71 rows x 7 columns]"
            ],
            "text/html": [
              "\n",
              "  <div id=\"df-a46b1e96-f82c-4a4d-9301-635d6b2d7601\">\n",
              "    <div class=\"colab-df-container\">\n",
              "      <div>\n",
              "<style scoped>\n",
              "    .dataframe tbody tr th:only-of-type {\n",
              "        vertical-align: middle;\n",
              "    }\n",
              "\n",
              "    .dataframe tbody tr th {\n",
              "        vertical-align: top;\n",
              "    }\n",
              "\n",
              "    .dataframe thead th {\n",
              "        text-align: right;\n",
              "    }\n",
              "</style>\n",
              "<table border=\"1\" class=\"dataframe\">\n",
              "  <thead>\n",
              "    <tr style=\"text-align: right;\">\n",
              "      <th>year</th>\n",
              "      <th>2016</th>\n",
              "      <th>2017</th>\n",
              "      <th>2018</th>\n",
              "      <th>2019</th>\n",
              "      <th>2020</th>\n",
              "      <th>2021</th>\n",
              "      <th>2022</th>\n",
              "    </tr>\n",
              "    <tr>\n",
              "      <th>make</th>\n",
              "      <th></th>\n",
              "      <th></th>\n",
              "      <th></th>\n",
              "      <th></th>\n",
              "      <th></th>\n",
              "      <th></th>\n",
              "      <th></th>\n",
              "    </tr>\n",
              "  </thead>\n",
              "  <tbody>\n",
              "    <tr>\n",
              "      <th>ALFA ROMEO</th>\n",
              "      <td>39.0</td>\n",
              "      <td>12.0</td>\n",
              "      <td>50.0</td>\n",
              "      <td>60.0</td>\n",
              "      <td>39.0</td>\n",
              "      <td>37.0</td>\n",
              "      <td>9.0</td>\n",
              "    </tr>\n",
              "    <tr>\n",
              "      <th>ALPINA</th>\n",
              "      <td>12.0</td>\n",
              "      <td>23.0</td>\n",
              "      <td>11.0</td>\n",
              "      <td>2.0</td>\n",
              "      <td>8.0</td>\n",
              "      <td>2.0</td>\n",
              "      <td>NaN</td>\n",
              "    </tr>\n",
              "    <tr>\n",
              "      <th>ALPINE</th>\n",
              "      <td>NaN</td>\n",
              "      <td>NaN</td>\n",
              "      <td>NaN</td>\n",
              "      <td>14.0</td>\n",
              "      <td>7.0</td>\n",
              "      <td>11.0</td>\n",
              "      <td>3.0</td>\n",
              "    </tr>\n",
              "    <tr>\n",
              "      <th>ASTON MARTIN</th>\n",
              "      <td>14.0</td>\n",
              "      <td>29.0</td>\n",
              "      <td>26.0</td>\n",
              "      <td>21.0</td>\n",
              "      <td>28.0</td>\n",
              "      <td>27.0</td>\n",
              "      <td>16.0</td>\n",
              "    </tr>\n",
              "    <tr>\n",
              "      <th>AUDI</th>\n",
              "      <td>2360.0</td>\n",
              "      <td>2604.0</td>\n",
              "      <td>2941.0</td>\n",
              "      <td>2487.0</td>\n",
              "      <td>2228.0</td>\n",
              "      <td>1975.0</td>\n",
              "      <td>445.0</td>\n",
              "    </tr>\n",
              "    <tr>\n",
              "      <th>...</th>\n",
              "      <td>...</td>\n",
              "      <td>...</td>\n",
              "      <td>...</td>\n",
              "      <td>...</td>\n",
              "      <td>...</td>\n",
              "      <td>...</td>\n",
              "      <td>...</td>\n",
              "    </tr>\n",
              "    <tr>\n",
              "      <th>TESLA</th>\n",
              "      <td>3.0</td>\n",
              "      <td>NaN</td>\n",
              "      <td>4.0</td>\n",
              "      <td>14.0</td>\n",
              "      <td>20.0</td>\n",
              "      <td>924.0</td>\n",
              "      <td>315.0</td>\n",
              "    </tr>\n",
              "    <tr>\n",
              "      <th>TOYOTA</th>\n",
              "      <td>18491.0</td>\n",
              "      <td>19133.0</td>\n",
              "      <td>13817.0</td>\n",
              "      <td>12923.0</td>\n",
              "      <td>7704.0</td>\n",
              "      <td>9633.0</td>\n",
              "      <td>3545.0</td>\n",
              "    </tr>\n",
              "    <tr>\n",
              "      <th>TRIUMPH</th>\n",
              "      <td>1.0</td>\n",
              "      <td>3.0</td>\n",
              "      <td>2.0</td>\n",
              "      <td>NaN</td>\n",
              "      <td>1.0</td>\n",
              "      <td>NaN</td>\n",
              "      <td>2.0</td>\n",
              "    </tr>\n",
              "    <tr>\n",
              "      <th>VOLKSWAGEN</th>\n",
              "      <td>2779.0</td>\n",
              "      <td>2450.0</td>\n",
              "      <td>2420.0</td>\n",
              "      <td>1726.0</td>\n",
              "      <td>1334.0</td>\n",
              "      <td>915.0</td>\n",
              "      <td>241.0</td>\n",
              "    </tr>\n",
              "    <tr>\n",
              "      <th>VOLVO</th>\n",
              "      <td>1485.0</td>\n",
              "      <td>1526.0</td>\n",
              "      <td>1416.0</td>\n",
              "      <td>874.0</td>\n",
              "      <td>712.0</td>\n",
              "      <td>510.0</td>\n",
              "      <td>185.0</td>\n",
              "    </tr>\n",
              "  </tbody>\n",
              "</table>\n",
              "<p>71 rows × 7 columns</p>\n",
              "</div>\n",
              "      <button class=\"colab-df-convert\" onclick=\"convertToInteractive('df-a46b1e96-f82c-4a4d-9301-635d6b2d7601')\"\n",
              "              title=\"Convert this dataframe to an interactive table.\"\n",
              "              style=\"display:none;\">\n",
              "        \n",
              "  <svg xmlns=\"http://www.w3.org/2000/svg\" height=\"24px\"viewBox=\"0 0 24 24\"\n",
              "       width=\"24px\">\n",
              "    <path d=\"M0 0h24v24H0V0z\" fill=\"none\"/>\n",
              "    <path d=\"M18.56 5.44l.94 2.06.94-2.06 2.06-.94-2.06-.94-.94-2.06-.94 2.06-2.06.94zm-11 1L8.5 8.5l.94-2.06 2.06-.94-2.06-.94L8.5 2.5l-.94 2.06-2.06.94zm10 10l.94 2.06.94-2.06 2.06-.94-2.06-.94-.94-2.06-.94 2.06-2.06.94z\"/><path d=\"M17.41 7.96l-1.37-1.37c-.4-.4-.92-.59-1.43-.59-.52 0-1.04.2-1.43.59L10.3 9.45l-7.72 7.72c-.78.78-.78 2.05 0 2.83L4 21.41c.39.39.9.59 1.41.59.51 0 1.02-.2 1.41-.59l7.78-7.78 2.81-2.81c.8-.78.8-2.07 0-2.86zM5.41 20L4 18.59l7.72-7.72 1.47 1.35L5.41 20z\"/>\n",
              "  </svg>\n",
              "      </button>\n",
              "      \n",
              "  <style>\n",
              "    .colab-df-container {\n",
              "      display:flex;\n",
              "      flex-wrap:wrap;\n",
              "      gap: 12px;\n",
              "    }\n",
              "\n",
              "    .colab-df-convert {\n",
              "      background-color: #E8F0FE;\n",
              "      border: none;\n",
              "      border-radius: 50%;\n",
              "      cursor: pointer;\n",
              "      display: none;\n",
              "      fill: #1967D2;\n",
              "      height: 32px;\n",
              "      padding: 0 0 0 0;\n",
              "      width: 32px;\n",
              "    }\n",
              "\n",
              "    .colab-df-convert:hover {\n",
              "      background-color: #E2EBFA;\n",
              "      box-shadow: 0px 1px 2px rgba(60, 64, 67, 0.3), 0px 1px 3px 1px rgba(60, 64, 67, 0.15);\n",
              "      fill: #174EA6;\n",
              "    }\n",
              "\n",
              "    [theme=dark] .colab-df-convert {\n",
              "      background-color: #3B4455;\n",
              "      fill: #D2E3FC;\n",
              "    }\n",
              "\n",
              "    [theme=dark] .colab-df-convert:hover {\n",
              "      background-color: #434B5C;\n",
              "      box-shadow: 0px 1px 3px 1px rgba(0, 0, 0, 0.15);\n",
              "      filter: drop-shadow(0px 1px 2px rgba(0, 0, 0, 0.3));\n",
              "      fill: #FFFFFF;\n",
              "    }\n",
              "  </style>\n",
              "\n",
              "      <script>\n",
              "        const buttonEl =\n",
              "          document.querySelector('#df-a46b1e96-f82c-4a4d-9301-635d6b2d7601 button.colab-df-convert');\n",
              "        buttonEl.style.display =\n",
              "          google.colab.kernel.accessAllowed ? 'block' : 'none';\n",
              "\n",
              "        async function convertToInteractive(key) {\n",
              "          const element = document.querySelector('#df-a46b1e96-f82c-4a4d-9301-635d6b2d7601');\n",
              "          const dataTable =\n",
              "            await google.colab.kernel.invokeFunction('convertToInteractive',\n",
              "                                                     [key], {});\n",
              "          if (!dataTable) return;\n",
              "\n",
              "          const docLinkHtml = 'Like what you see? Visit the ' +\n",
              "            '<a target=\"_blank\" href=https://colab.research.google.com/notebooks/data_table.ipynb>data table notebook</a>'\n",
              "            + ' to learn more about interactive tables.';\n",
              "          element.innerHTML = '';\n",
              "          dataTable['output_type'] = 'display_data';\n",
              "          await google.colab.output.renderOutput(dataTable, element);\n",
              "          const docLink = document.createElement('div');\n",
              "          docLink.innerHTML = docLinkHtml;\n",
              "          element.appendChild(docLink);\n",
              "        }\n",
              "      </script>\n",
              "    </div>\n",
              "  </div>\n",
              "  "
            ]
          },
          "metadata": {},
          "execution_count": 275
        }
      ]
    },
    {
      "cell_type": "markdown",
      "source": [
        "Notice that `crosstab` does not require your data to be in a `DataFrame`, so you might find it natural to use `pivot_table` when your data is already in a `DataFrame` and `crosstab` otherwise. Internally to Pandas, `crosstab` invokes `pivot_table` to calculate the results."
      ],
      "metadata": {
        "id": "Wl24iCtUL6R2"
      }
    },
    {
      "cell_type": "markdown",
      "source": [
        "#### **`groupby`**\n",
        "\n",
        "Those coming from SQL land might feel more comfortable with `groupby`, which requires a reshaping with `unstack` to get the same results:"
      ],
      "metadata": {
        "id": "Y6CHtN-9uVYU"
      }
    },
    {
      "cell_type": "code",
      "source": [
        "cars_monthly_nonzero.groupby(['make', 'year']).sum()[['number']].unstack()"
      ],
      "metadata": {
        "colab": {
          "base_uri": "https://localhost:8080/",
          "height": 486
        },
        "id": "0isucp-Ws2m8",
        "outputId": "c82e9bb1-ce04-4daa-ddab-b6f46dbca792"
      },
      "execution_count": 276,
      "outputs": [
        {
          "output_type": "execute_result",
          "data": {
            "text/plain": [
              "               number                                                   \n",
              "year             2016     2017     2018     2019    2020    2021    2022\n",
              "make                                                                    \n",
              "ALFA ROMEO       39.0     12.0     50.0     60.0    39.0    37.0     9.0\n",
              "ALPINA           12.0     23.0     11.0      2.0     8.0     2.0     NaN\n",
              "ALPINE            NaN      NaN      NaN     14.0     7.0    11.0     3.0\n",
              "ASTON MARTIN     14.0     29.0     26.0     21.0    28.0    27.0    16.0\n",
              "AUDI           2360.0   2604.0   2941.0   2487.0  2228.0  1975.0   445.0\n",
              "...               ...      ...      ...      ...     ...     ...     ...\n",
              "TESLA             3.0      NaN      4.0     14.0    20.0   924.0   315.0\n",
              "TOYOTA        18491.0  19133.0  13817.0  12923.0  7704.0  9633.0  3545.0\n",
              "TRIUMPH           1.0      3.0      2.0      NaN     1.0     NaN     2.0\n",
              "VOLKSWAGEN     2779.0   2450.0   2420.0   1726.0  1334.0   915.0   241.0\n",
              "VOLVO          1485.0   1526.0   1416.0    874.0   712.0   510.0   185.0\n",
              "\n",
              "[71 rows x 7 columns]"
            ],
            "text/html": [
              "\n",
              "  <div id=\"df-67207fc4-f302-4375-b5a5-fa1720a595ba\">\n",
              "    <div class=\"colab-df-container\">\n",
              "      <div>\n",
              "<style scoped>\n",
              "    .dataframe tbody tr th:only-of-type {\n",
              "        vertical-align: middle;\n",
              "    }\n",
              "\n",
              "    .dataframe tbody tr th {\n",
              "        vertical-align: top;\n",
              "    }\n",
              "\n",
              "    .dataframe thead tr th {\n",
              "        text-align: left;\n",
              "    }\n",
              "\n",
              "    .dataframe thead tr:last-of-type th {\n",
              "        text-align: right;\n",
              "    }\n",
              "</style>\n",
              "<table border=\"1\" class=\"dataframe\">\n",
              "  <thead>\n",
              "    <tr>\n",
              "      <th></th>\n",
              "      <th colspan=\"7\" halign=\"left\">number</th>\n",
              "    </tr>\n",
              "    <tr>\n",
              "      <th>year</th>\n",
              "      <th>2016</th>\n",
              "      <th>2017</th>\n",
              "      <th>2018</th>\n",
              "      <th>2019</th>\n",
              "      <th>2020</th>\n",
              "      <th>2021</th>\n",
              "      <th>2022</th>\n",
              "    </tr>\n",
              "    <tr>\n",
              "      <th>make</th>\n",
              "      <th></th>\n",
              "      <th></th>\n",
              "      <th></th>\n",
              "      <th></th>\n",
              "      <th></th>\n",
              "      <th></th>\n",
              "      <th></th>\n",
              "    </tr>\n",
              "  </thead>\n",
              "  <tbody>\n",
              "    <tr>\n",
              "      <th>ALFA ROMEO</th>\n",
              "      <td>39.0</td>\n",
              "      <td>12.0</td>\n",
              "      <td>50.0</td>\n",
              "      <td>60.0</td>\n",
              "      <td>39.0</td>\n",
              "      <td>37.0</td>\n",
              "      <td>9.0</td>\n",
              "    </tr>\n",
              "    <tr>\n",
              "      <th>ALPINA</th>\n",
              "      <td>12.0</td>\n",
              "      <td>23.0</td>\n",
              "      <td>11.0</td>\n",
              "      <td>2.0</td>\n",
              "      <td>8.0</td>\n",
              "      <td>2.0</td>\n",
              "      <td>NaN</td>\n",
              "    </tr>\n",
              "    <tr>\n",
              "      <th>ALPINE</th>\n",
              "      <td>NaN</td>\n",
              "      <td>NaN</td>\n",
              "      <td>NaN</td>\n",
              "      <td>14.0</td>\n",
              "      <td>7.0</td>\n",
              "      <td>11.0</td>\n",
              "      <td>3.0</td>\n",
              "    </tr>\n",
              "    <tr>\n",
              "      <th>ASTON MARTIN</th>\n",
              "      <td>14.0</td>\n",
              "      <td>29.0</td>\n",
              "      <td>26.0</td>\n",
              "      <td>21.0</td>\n",
              "      <td>28.0</td>\n",
              "      <td>27.0</td>\n",
              "      <td>16.0</td>\n",
              "    </tr>\n",
              "    <tr>\n",
              "      <th>AUDI</th>\n",
              "      <td>2360.0</td>\n",
              "      <td>2604.0</td>\n",
              "      <td>2941.0</td>\n",
              "      <td>2487.0</td>\n",
              "      <td>2228.0</td>\n",
              "      <td>1975.0</td>\n",
              "      <td>445.0</td>\n",
              "    </tr>\n",
              "    <tr>\n",
              "      <th>...</th>\n",
              "      <td>...</td>\n",
              "      <td>...</td>\n",
              "      <td>...</td>\n",
              "      <td>...</td>\n",
              "      <td>...</td>\n",
              "      <td>...</td>\n",
              "      <td>...</td>\n",
              "    </tr>\n",
              "    <tr>\n",
              "      <th>TESLA</th>\n",
              "      <td>3.0</td>\n",
              "      <td>NaN</td>\n",
              "      <td>4.0</td>\n",
              "      <td>14.0</td>\n",
              "      <td>20.0</td>\n",
              "      <td>924.0</td>\n",
              "      <td>315.0</td>\n",
              "    </tr>\n",
              "    <tr>\n",
              "      <th>TOYOTA</th>\n",
              "      <td>18491.0</td>\n",
              "      <td>19133.0</td>\n",
              "      <td>13817.0</td>\n",
              "      <td>12923.0</td>\n",
              "      <td>7704.0</td>\n",
              "      <td>9633.0</td>\n",
              "      <td>3545.0</td>\n",
              "    </tr>\n",
              "    <tr>\n",
              "      <th>TRIUMPH</th>\n",
              "      <td>1.0</td>\n",
              "      <td>3.0</td>\n",
              "      <td>2.0</td>\n",
              "      <td>NaN</td>\n",
              "      <td>1.0</td>\n",
              "      <td>NaN</td>\n",
              "      <td>2.0</td>\n",
              "    </tr>\n",
              "    <tr>\n",
              "      <th>VOLKSWAGEN</th>\n",
              "      <td>2779.0</td>\n",
              "      <td>2450.0</td>\n",
              "      <td>2420.0</td>\n",
              "      <td>1726.0</td>\n",
              "      <td>1334.0</td>\n",
              "      <td>915.0</td>\n",
              "      <td>241.0</td>\n",
              "    </tr>\n",
              "    <tr>\n",
              "      <th>VOLVO</th>\n",
              "      <td>1485.0</td>\n",
              "      <td>1526.0</td>\n",
              "      <td>1416.0</td>\n",
              "      <td>874.0</td>\n",
              "      <td>712.0</td>\n",
              "      <td>510.0</td>\n",
              "      <td>185.0</td>\n",
              "    </tr>\n",
              "  </tbody>\n",
              "</table>\n",
              "<p>71 rows × 7 columns</p>\n",
              "</div>\n",
              "      <button class=\"colab-df-convert\" onclick=\"convertToInteractive('df-67207fc4-f302-4375-b5a5-fa1720a595ba')\"\n",
              "              title=\"Convert this dataframe to an interactive table.\"\n",
              "              style=\"display:none;\">\n",
              "        \n",
              "  <svg xmlns=\"http://www.w3.org/2000/svg\" height=\"24px\"viewBox=\"0 0 24 24\"\n",
              "       width=\"24px\">\n",
              "    <path d=\"M0 0h24v24H0V0z\" fill=\"none\"/>\n",
              "    <path d=\"M18.56 5.44l.94 2.06.94-2.06 2.06-.94-2.06-.94-.94-2.06-.94 2.06-2.06.94zm-11 1L8.5 8.5l.94-2.06 2.06-.94-2.06-.94L8.5 2.5l-.94 2.06-2.06.94zm10 10l.94 2.06.94-2.06 2.06-.94-2.06-.94-.94-2.06-.94 2.06-2.06.94z\"/><path d=\"M17.41 7.96l-1.37-1.37c-.4-.4-.92-.59-1.43-.59-.52 0-1.04.2-1.43.59L10.3 9.45l-7.72 7.72c-.78.78-.78 2.05 0 2.83L4 21.41c.39.39.9.59 1.41.59.51 0 1.02-.2 1.41-.59l7.78-7.78 2.81-2.81c.8-.78.8-2.07 0-2.86zM5.41 20L4 18.59l7.72-7.72 1.47 1.35L5.41 20z\"/>\n",
              "  </svg>\n",
              "      </button>\n",
              "      \n",
              "  <style>\n",
              "    .colab-df-container {\n",
              "      display:flex;\n",
              "      flex-wrap:wrap;\n",
              "      gap: 12px;\n",
              "    }\n",
              "\n",
              "    .colab-df-convert {\n",
              "      background-color: #E8F0FE;\n",
              "      border: none;\n",
              "      border-radius: 50%;\n",
              "      cursor: pointer;\n",
              "      display: none;\n",
              "      fill: #1967D2;\n",
              "      height: 32px;\n",
              "      padding: 0 0 0 0;\n",
              "      width: 32px;\n",
              "    }\n",
              "\n",
              "    .colab-df-convert:hover {\n",
              "      background-color: #E2EBFA;\n",
              "      box-shadow: 0px 1px 2px rgba(60, 64, 67, 0.3), 0px 1px 3px 1px rgba(60, 64, 67, 0.15);\n",
              "      fill: #174EA6;\n",
              "    }\n",
              "\n",
              "    [theme=dark] .colab-df-convert {\n",
              "      background-color: #3B4455;\n",
              "      fill: #D2E3FC;\n",
              "    }\n",
              "\n",
              "    [theme=dark] .colab-df-convert:hover {\n",
              "      background-color: #434B5C;\n",
              "      box-shadow: 0px 1px 3px 1px rgba(0, 0, 0, 0.15);\n",
              "      filter: drop-shadow(0px 1px 2px rgba(0, 0, 0, 0.3));\n",
              "      fill: #FFFFFF;\n",
              "    }\n",
              "  </style>\n",
              "\n",
              "      <script>\n",
              "        const buttonEl =\n",
              "          document.querySelector('#df-67207fc4-f302-4375-b5a5-fa1720a595ba button.colab-df-convert');\n",
              "        buttonEl.style.display =\n",
              "          google.colab.kernel.accessAllowed ? 'block' : 'none';\n",
              "\n",
              "        async function convertToInteractive(key) {\n",
              "          const element = document.querySelector('#df-67207fc4-f302-4375-b5a5-fa1720a595ba');\n",
              "          const dataTable =\n",
              "            await google.colab.kernel.invokeFunction('convertToInteractive',\n",
              "                                                     [key], {});\n",
              "          if (!dataTable) return;\n",
              "\n",
              "          const docLinkHtml = 'Like what you see? Visit the ' +\n",
              "            '<a target=\"_blank\" href=https://colab.research.google.com/notebooks/data_table.ipynb>data table notebook</a>'\n",
              "            + ' to learn more about interactive tables.';\n",
              "          element.innerHTML = '';\n",
              "          dataTable['output_type'] = 'display_data';\n",
              "          await google.colab.output.renderOutput(dataTable, element);\n",
              "          const docLink = document.createElement('div');\n",
              "          docLink.innerHTML = docLinkHtml;\n",
              "          element.appendChild(docLink);\n",
              "        }\n",
              "      </script>\n",
              "    </div>\n",
              "  </div>\n",
              "  "
            ]
          },
          "metadata": {},
          "execution_count": 276
        }
      ]
    },
    {
      "cell_type": "markdown",
      "source": [
        "Internally, Pandas uses `groupby` to implement `pivot_table`."
      ],
      "metadata": {
        "id": "O2_lRg7FNtvW"
      }
    },
    {
      "cell_type": "markdown",
      "source": [
        "#### **Why do I need to know how things are implemented within Pandas?**\n",
        "\n",
        "Usually the function (e.g. `groupby`) used for implementing other functions (e.g. `pivot_table`, `crosstab`) can be more powerful and flexible as it is considered a more fundamental operation, but it may not be as user-friendly e.g. more parameters may need to be specified or additional operations required to achieve the same thing. It is not necessary to understand the internals of Pandas to use it, but it could help us navigate which might be the most suitable function to use for a given problem."
      ],
      "metadata": {
        "id": "SKDT04c1OgFG"
      }
    },
    {
      "cell_type": "markdown",
      "source": [
        "### 3.3.3. Reshaping data\n",
        "\n",
        "\"A dataset can be written in two different formats: wide and long. A **wide** format contains values that do not repeat in the first column. A **long** format contains values that do repeat in the first column. Notice that in the wide dataset, each value in the first column is unique.\"\n",
        "\n",
        "<img src=\"https://www.statology.org/wp-content/uploads/2021/12/wideLong1-1.png\"/>\n",
        "\n",
        "Image credit: https://www.statology.org/long-vs-wide-data/\n",
        "\n",
        "Applied researchers often collect, store and analyze their data in the wide format. Classic ANOVA and MANOVA techniques for repeated measures and structural equation models for longitudinal data assume the wide format. Modern multilevel techniques and statistical graphs, however, sometimes work only from the long format. \n",
        "\n",
        "Now let's find out how we can convert between these two formats in Pandas."
      ],
      "metadata": {
        "id": "t8psMFVvTalG"
      }
    },
    {
      "cell_type": "markdown",
      "source": [
        "#### **Melting (wide to long)**\n",
        "\n",
        "The `DataFrame` generated from aggregating above is an example of wide format data. Let's convert it to long:"
      ],
      "metadata": {
        "id": "-dakPHT2V6J4"
      }
    },
    {
      "cell_type": "code",
      "source": [
        "cars_monthly_melted = cars_monthly_pivoted.melt(var_name='year', value_name='number', ignore_index=False)\n",
        "cars_monthly_melted"
      ],
      "metadata": {
        "colab": {
          "base_uri": "https://localhost:8080/",
          "height": 455
        },
        "id": "7kRPgQxMSSaJ",
        "outputId": "5cbe9127-d80f-4f50-e800-30b87991987c"
      },
      "execution_count": 277,
      "outputs": [
        {
          "output_type": "execute_result",
          "data": {
            "text/plain": [
              "              year  number\n",
              "make                      \n",
              "ALFA ROMEO    2016    39.0\n",
              "ALPINA        2016    12.0\n",
              "ALPINE        2016     NaN\n",
              "ASTON MARTIN  2016    14.0\n",
              "AUDI          2016  2360.0\n",
              "...            ...     ...\n",
              "TESLA         2022   315.0\n",
              "TOYOTA        2022  3545.0\n",
              "TRIUMPH       2022     2.0\n",
              "VOLKSWAGEN    2022   241.0\n",
              "VOLVO         2022   185.0\n",
              "\n",
              "[497 rows x 2 columns]"
            ],
            "text/html": [
              "\n",
              "  <div id=\"df-9c3f2792-0ebd-4780-93ab-628d9358845d\">\n",
              "    <div class=\"colab-df-container\">\n",
              "      <div>\n",
              "<style scoped>\n",
              "    .dataframe tbody tr th:only-of-type {\n",
              "        vertical-align: middle;\n",
              "    }\n",
              "\n",
              "    .dataframe tbody tr th {\n",
              "        vertical-align: top;\n",
              "    }\n",
              "\n",
              "    .dataframe thead th {\n",
              "        text-align: right;\n",
              "    }\n",
              "</style>\n",
              "<table border=\"1\" class=\"dataframe\">\n",
              "  <thead>\n",
              "    <tr style=\"text-align: right;\">\n",
              "      <th></th>\n",
              "      <th>year</th>\n",
              "      <th>number</th>\n",
              "    </tr>\n",
              "    <tr>\n",
              "      <th>make</th>\n",
              "      <th></th>\n",
              "      <th></th>\n",
              "    </tr>\n",
              "  </thead>\n",
              "  <tbody>\n",
              "    <tr>\n",
              "      <th>ALFA ROMEO</th>\n",
              "      <td>2016</td>\n",
              "      <td>39.0</td>\n",
              "    </tr>\n",
              "    <tr>\n",
              "      <th>ALPINA</th>\n",
              "      <td>2016</td>\n",
              "      <td>12.0</td>\n",
              "    </tr>\n",
              "    <tr>\n",
              "      <th>ALPINE</th>\n",
              "      <td>2016</td>\n",
              "      <td>NaN</td>\n",
              "    </tr>\n",
              "    <tr>\n",
              "      <th>ASTON MARTIN</th>\n",
              "      <td>2016</td>\n",
              "      <td>14.0</td>\n",
              "    </tr>\n",
              "    <tr>\n",
              "      <th>AUDI</th>\n",
              "      <td>2016</td>\n",
              "      <td>2360.0</td>\n",
              "    </tr>\n",
              "    <tr>\n",
              "      <th>...</th>\n",
              "      <td>...</td>\n",
              "      <td>...</td>\n",
              "    </tr>\n",
              "    <tr>\n",
              "      <th>TESLA</th>\n",
              "      <td>2022</td>\n",
              "      <td>315.0</td>\n",
              "    </tr>\n",
              "    <tr>\n",
              "      <th>TOYOTA</th>\n",
              "      <td>2022</td>\n",
              "      <td>3545.0</td>\n",
              "    </tr>\n",
              "    <tr>\n",
              "      <th>TRIUMPH</th>\n",
              "      <td>2022</td>\n",
              "      <td>2.0</td>\n",
              "    </tr>\n",
              "    <tr>\n",
              "      <th>VOLKSWAGEN</th>\n",
              "      <td>2022</td>\n",
              "      <td>241.0</td>\n",
              "    </tr>\n",
              "    <tr>\n",
              "      <th>VOLVO</th>\n",
              "      <td>2022</td>\n",
              "      <td>185.0</td>\n",
              "    </tr>\n",
              "  </tbody>\n",
              "</table>\n",
              "<p>497 rows × 2 columns</p>\n",
              "</div>\n",
              "      <button class=\"colab-df-convert\" onclick=\"convertToInteractive('df-9c3f2792-0ebd-4780-93ab-628d9358845d')\"\n",
              "              title=\"Convert this dataframe to an interactive table.\"\n",
              "              style=\"display:none;\">\n",
              "        \n",
              "  <svg xmlns=\"http://www.w3.org/2000/svg\" height=\"24px\"viewBox=\"0 0 24 24\"\n",
              "       width=\"24px\">\n",
              "    <path d=\"M0 0h24v24H0V0z\" fill=\"none\"/>\n",
              "    <path d=\"M18.56 5.44l.94 2.06.94-2.06 2.06-.94-2.06-.94-.94-2.06-.94 2.06-2.06.94zm-11 1L8.5 8.5l.94-2.06 2.06-.94-2.06-.94L8.5 2.5l-.94 2.06-2.06.94zm10 10l.94 2.06.94-2.06 2.06-.94-2.06-.94-.94-2.06-.94 2.06-2.06.94z\"/><path d=\"M17.41 7.96l-1.37-1.37c-.4-.4-.92-.59-1.43-.59-.52 0-1.04.2-1.43.59L10.3 9.45l-7.72 7.72c-.78.78-.78 2.05 0 2.83L4 21.41c.39.39.9.59 1.41.59.51 0 1.02-.2 1.41-.59l7.78-7.78 2.81-2.81c.8-.78.8-2.07 0-2.86zM5.41 20L4 18.59l7.72-7.72 1.47 1.35L5.41 20z\"/>\n",
              "  </svg>\n",
              "      </button>\n",
              "      \n",
              "  <style>\n",
              "    .colab-df-container {\n",
              "      display:flex;\n",
              "      flex-wrap:wrap;\n",
              "      gap: 12px;\n",
              "    }\n",
              "\n",
              "    .colab-df-convert {\n",
              "      background-color: #E8F0FE;\n",
              "      border: none;\n",
              "      border-radius: 50%;\n",
              "      cursor: pointer;\n",
              "      display: none;\n",
              "      fill: #1967D2;\n",
              "      height: 32px;\n",
              "      padding: 0 0 0 0;\n",
              "      width: 32px;\n",
              "    }\n",
              "\n",
              "    .colab-df-convert:hover {\n",
              "      background-color: #E2EBFA;\n",
              "      box-shadow: 0px 1px 2px rgba(60, 64, 67, 0.3), 0px 1px 3px 1px rgba(60, 64, 67, 0.15);\n",
              "      fill: #174EA6;\n",
              "    }\n",
              "\n",
              "    [theme=dark] .colab-df-convert {\n",
              "      background-color: #3B4455;\n",
              "      fill: #D2E3FC;\n",
              "    }\n",
              "\n",
              "    [theme=dark] .colab-df-convert:hover {\n",
              "      background-color: #434B5C;\n",
              "      box-shadow: 0px 1px 3px 1px rgba(0, 0, 0, 0.15);\n",
              "      filter: drop-shadow(0px 1px 2px rgba(0, 0, 0, 0.3));\n",
              "      fill: #FFFFFF;\n",
              "    }\n",
              "  </style>\n",
              "\n",
              "      <script>\n",
              "        const buttonEl =\n",
              "          document.querySelector('#df-9c3f2792-0ebd-4780-93ab-628d9358845d button.colab-df-convert');\n",
              "        buttonEl.style.display =\n",
              "          google.colab.kernel.accessAllowed ? 'block' : 'none';\n",
              "\n",
              "        async function convertToInteractive(key) {\n",
              "          const element = document.querySelector('#df-9c3f2792-0ebd-4780-93ab-628d9358845d');\n",
              "          const dataTable =\n",
              "            await google.colab.kernel.invokeFunction('convertToInteractive',\n",
              "                                                     [key], {});\n",
              "          if (!dataTable) return;\n",
              "\n",
              "          const docLinkHtml = 'Like what you see? Visit the ' +\n",
              "            '<a target=\"_blank\" href=https://colab.research.google.com/notebooks/data_table.ipynb>data table notebook</a>'\n",
              "            + ' to learn more about interactive tables.';\n",
              "          element.innerHTML = '';\n",
              "          dataTable['output_type'] = 'display_data';\n",
              "          await google.colab.output.renderOutput(dataTable, element);\n",
              "          const docLink = document.createElement('div');\n",
              "          docLink.innerHTML = docLinkHtml;\n",
              "          element.appendChild(docLink);\n",
              "        }\n",
              "      </script>\n",
              "    </div>\n",
              "  </div>\n",
              "  "
            ]
          },
          "metadata": {},
          "execution_count": 277
        }
      ]
    },
    {
      "cell_type": "markdown",
      "source": [
        "#### **Pivoting (long to wide)**\n",
        "\n",
        "We can use `pivot` to convert the long format back to wide format:"
      ],
      "metadata": {
        "id": "Yvr-CwDLXVLv"
      }
    },
    {
      "cell_type": "code",
      "source": [
        "cars_monthly_melted.pivot(columns='year')"
      ],
      "metadata": {
        "colab": {
          "base_uri": "https://localhost:8080/",
          "height": 486
        },
        "id": "3DMnMdPiXh9e",
        "outputId": "2fb92bb3-b3e7-499f-d468-c4abcfd150f5"
      },
      "execution_count": 278,
      "outputs": [
        {
          "output_type": "execute_result",
          "data": {
            "text/plain": [
              "               number                                                   \n",
              "year             2016     2017     2018     2019    2020    2021    2022\n",
              "make                                                                    \n",
              "ALFA ROMEO       39.0     12.0     50.0     60.0    39.0    37.0     9.0\n",
              "ALPINA           12.0     23.0     11.0      2.0     8.0     2.0     NaN\n",
              "ALPINE            NaN      NaN      NaN     14.0     7.0    11.0     3.0\n",
              "ASTON MARTIN     14.0     29.0     26.0     21.0    28.0    27.0    16.0\n",
              "AUDI           2360.0   2604.0   2941.0   2487.0  2228.0  1975.0   445.0\n",
              "...               ...      ...      ...      ...     ...     ...     ...\n",
              "TESLA             3.0      NaN      4.0     14.0    20.0   924.0   315.0\n",
              "TOYOTA        18491.0  19133.0  13817.0  12923.0  7704.0  9633.0  3545.0\n",
              "TRIUMPH           1.0      3.0      2.0      NaN     1.0     NaN     2.0\n",
              "VOLKSWAGEN     2779.0   2450.0   2420.0   1726.0  1334.0   915.0   241.0\n",
              "VOLVO          1485.0   1526.0   1416.0    874.0   712.0   510.0   185.0\n",
              "\n",
              "[71 rows x 7 columns]"
            ],
            "text/html": [
              "\n",
              "  <div id=\"df-7f90d6b1-a329-4025-b02f-eb58091402f5\">\n",
              "    <div class=\"colab-df-container\">\n",
              "      <div>\n",
              "<style scoped>\n",
              "    .dataframe tbody tr th:only-of-type {\n",
              "        vertical-align: middle;\n",
              "    }\n",
              "\n",
              "    .dataframe tbody tr th {\n",
              "        vertical-align: top;\n",
              "    }\n",
              "\n",
              "    .dataframe thead tr th {\n",
              "        text-align: left;\n",
              "    }\n",
              "\n",
              "    .dataframe thead tr:last-of-type th {\n",
              "        text-align: right;\n",
              "    }\n",
              "</style>\n",
              "<table border=\"1\" class=\"dataframe\">\n",
              "  <thead>\n",
              "    <tr>\n",
              "      <th></th>\n",
              "      <th colspan=\"7\" halign=\"left\">number</th>\n",
              "    </tr>\n",
              "    <tr>\n",
              "      <th>year</th>\n",
              "      <th>2016</th>\n",
              "      <th>2017</th>\n",
              "      <th>2018</th>\n",
              "      <th>2019</th>\n",
              "      <th>2020</th>\n",
              "      <th>2021</th>\n",
              "      <th>2022</th>\n",
              "    </tr>\n",
              "    <tr>\n",
              "      <th>make</th>\n",
              "      <th></th>\n",
              "      <th></th>\n",
              "      <th></th>\n",
              "      <th></th>\n",
              "      <th></th>\n",
              "      <th></th>\n",
              "      <th></th>\n",
              "    </tr>\n",
              "  </thead>\n",
              "  <tbody>\n",
              "    <tr>\n",
              "      <th>ALFA ROMEO</th>\n",
              "      <td>39.0</td>\n",
              "      <td>12.0</td>\n",
              "      <td>50.0</td>\n",
              "      <td>60.0</td>\n",
              "      <td>39.0</td>\n",
              "      <td>37.0</td>\n",
              "      <td>9.0</td>\n",
              "    </tr>\n",
              "    <tr>\n",
              "      <th>ALPINA</th>\n",
              "      <td>12.0</td>\n",
              "      <td>23.0</td>\n",
              "      <td>11.0</td>\n",
              "      <td>2.0</td>\n",
              "      <td>8.0</td>\n",
              "      <td>2.0</td>\n",
              "      <td>NaN</td>\n",
              "    </tr>\n",
              "    <tr>\n",
              "      <th>ALPINE</th>\n",
              "      <td>NaN</td>\n",
              "      <td>NaN</td>\n",
              "      <td>NaN</td>\n",
              "      <td>14.0</td>\n",
              "      <td>7.0</td>\n",
              "      <td>11.0</td>\n",
              "      <td>3.0</td>\n",
              "    </tr>\n",
              "    <tr>\n",
              "      <th>ASTON MARTIN</th>\n",
              "      <td>14.0</td>\n",
              "      <td>29.0</td>\n",
              "      <td>26.0</td>\n",
              "      <td>21.0</td>\n",
              "      <td>28.0</td>\n",
              "      <td>27.0</td>\n",
              "      <td>16.0</td>\n",
              "    </tr>\n",
              "    <tr>\n",
              "      <th>AUDI</th>\n",
              "      <td>2360.0</td>\n",
              "      <td>2604.0</td>\n",
              "      <td>2941.0</td>\n",
              "      <td>2487.0</td>\n",
              "      <td>2228.0</td>\n",
              "      <td>1975.0</td>\n",
              "      <td>445.0</td>\n",
              "    </tr>\n",
              "    <tr>\n",
              "      <th>...</th>\n",
              "      <td>...</td>\n",
              "      <td>...</td>\n",
              "      <td>...</td>\n",
              "      <td>...</td>\n",
              "      <td>...</td>\n",
              "      <td>...</td>\n",
              "      <td>...</td>\n",
              "    </tr>\n",
              "    <tr>\n",
              "      <th>TESLA</th>\n",
              "      <td>3.0</td>\n",
              "      <td>NaN</td>\n",
              "      <td>4.0</td>\n",
              "      <td>14.0</td>\n",
              "      <td>20.0</td>\n",
              "      <td>924.0</td>\n",
              "      <td>315.0</td>\n",
              "    </tr>\n",
              "    <tr>\n",
              "      <th>TOYOTA</th>\n",
              "      <td>18491.0</td>\n",
              "      <td>19133.0</td>\n",
              "      <td>13817.0</td>\n",
              "      <td>12923.0</td>\n",
              "      <td>7704.0</td>\n",
              "      <td>9633.0</td>\n",
              "      <td>3545.0</td>\n",
              "    </tr>\n",
              "    <tr>\n",
              "      <th>TRIUMPH</th>\n",
              "      <td>1.0</td>\n",
              "      <td>3.0</td>\n",
              "      <td>2.0</td>\n",
              "      <td>NaN</td>\n",
              "      <td>1.0</td>\n",
              "      <td>NaN</td>\n",
              "      <td>2.0</td>\n",
              "    </tr>\n",
              "    <tr>\n",
              "      <th>VOLKSWAGEN</th>\n",
              "      <td>2779.0</td>\n",
              "      <td>2450.0</td>\n",
              "      <td>2420.0</td>\n",
              "      <td>1726.0</td>\n",
              "      <td>1334.0</td>\n",
              "      <td>915.0</td>\n",
              "      <td>241.0</td>\n",
              "    </tr>\n",
              "    <tr>\n",
              "      <th>VOLVO</th>\n",
              "      <td>1485.0</td>\n",
              "      <td>1526.0</td>\n",
              "      <td>1416.0</td>\n",
              "      <td>874.0</td>\n",
              "      <td>712.0</td>\n",
              "      <td>510.0</td>\n",
              "      <td>185.0</td>\n",
              "    </tr>\n",
              "  </tbody>\n",
              "</table>\n",
              "<p>71 rows × 7 columns</p>\n",
              "</div>\n",
              "      <button class=\"colab-df-convert\" onclick=\"convertToInteractive('df-7f90d6b1-a329-4025-b02f-eb58091402f5')\"\n",
              "              title=\"Convert this dataframe to an interactive table.\"\n",
              "              style=\"display:none;\">\n",
              "        \n",
              "  <svg xmlns=\"http://www.w3.org/2000/svg\" height=\"24px\"viewBox=\"0 0 24 24\"\n",
              "       width=\"24px\">\n",
              "    <path d=\"M0 0h24v24H0V0z\" fill=\"none\"/>\n",
              "    <path d=\"M18.56 5.44l.94 2.06.94-2.06 2.06-.94-2.06-.94-.94-2.06-.94 2.06-2.06.94zm-11 1L8.5 8.5l.94-2.06 2.06-.94-2.06-.94L8.5 2.5l-.94 2.06-2.06.94zm10 10l.94 2.06.94-2.06 2.06-.94-2.06-.94-.94-2.06-.94 2.06-2.06.94z\"/><path d=\"M17.41 7.96l-1.37-1.37c-.4-.4-.92-.59-1.43-.59-.52 0-1.04.2-1.43.59L10.3 9.45l-7.72 7.72c-.78.78-.78 2.05 0 2.83L4 21.41c.39.39.9.59 1.41.59.51 0 1.02-.2 1.41-.59l7.78-7.78 2.81-2.81c.8-.78.8-2.07 0-2.86zM5.41 20L4 18.59l7.72-7.72 1.47 1.35L5.41 20z\"/>\n",
              "  </svg>\n",
              "      </button>\n",
              "      \n",
              "  <style>\n",
              "    .colab-df-container {\n",
              "      display:flex;\n",
              "      flex-wrap:wrap;\n",
              "      gap: 12px;\n",
              "    }\n",
              "\n",
              "    .colab-df-convert {\n",
              "      background-color: #E8F0FE;\n",
              "      border: none;\n",
              "      border-radius: 50%;\n",
              "      cursor: pointer;\n",
              "      display: none;\n",
              "      fill: #1967D2;\n",
              "      height: 32px;\n",
              "      padding: 0 0 0 0;\n",
              "      width: 32px;\n",
              "    }\n",
              "\n",
              "    .colab-df-convert:hover {\n",
              "      background-color: #E2EBFA;\n",
              "      box-shadow: 0px 1px 2px rgba(60, 64, 67, 0.3), 0px 1px 3px 1px rgba(60, 64, 67, 0.15);\n",
              "      fill: #174EA6;\n",
              "    }\n",
              "\n",
              "    [theme=dark] .colab-df-convert {\n",
              "      background-color: #3B4455;\n",
              "      fill: #D2E3FC;\n",
              "    }\n",
              "\n",
              "    [theme=dark] .colab-df-convert:hover {\n",
              "      background-color: #434B5C;\n",
              "      box-shadow: 0px 1px 3px 1px rgba(0, 0, 0, 0.15);\n",
              "      filter: drop-shadow(0px 1px 2px rgba(0, 0, 0, 0.3));\n",
              "      fill: #FFFFFF;\n",
              "    }\n",
              "  </style>\n",
              "\n",
              "      <script>\n",
              "        const buttonEl =\n",
              "          document.querySelector('#df-7f90d6b1-a329-4025-b02f-eb58091402f5 button.colab-df-convert');\n",
              "        buttonEl.style.display =\n",
              "          google.colab.kernel.accessAllowed ? 'block' : 'none';\n",
              "\n",
              "        async function convertToInteractive(key) {\n",
              "          const element = document.querySelector('#df-7f90d6b1-a329-4025-b02f-eb58091402f5');\n",
              "          const dataTable =\n",
              "            await google.colab.kernel.invokeFunction('convertToInteractive',\n",
              "                                                     [key], {});\n",
              "          if (!dataTable) return;\n",
              "\n",
              "          const docLinkHtml = 'Like what you see? Visit the ' +\n",
              "            '<a target=\"_blank\" href=https://colab.research.google.com/notebooks/data_table.ipynb>data table notebook</a>'\n",
              "            + ' to learn more about interactive tables.';\n",
              "          element.innerHTML = '';\n",
              "          dataTable['output_type'] = 'display_data';\n",
              "          await google.colab.output.renderOutput(dataTable, element);\n",
              "          const docLink = document.createElement('div');\n",
              "          docLink.innerHTML = docLinkHtml;\n",
              "          element.appendChild(docLink);\n",
              "        }\n",
              "      </script>\n",
              "    </div>\n",
              "  </div>\n",
              "  "
            ]
          },
          "metadata": {},
          "execution_count": 278
        }
      ]
    },
    {
      "cell_type": "markdown",
      "source": [
        "#### **Transposing**\n",
        "\n",
        "Sometimes we might simply need to flip the rows and columns:"
      ],
      "metadata": {
        "id": "hDteTwuTalq9"
      }
    },
    {
      "cell_type": "code",
      "source": [
        "cars_monthly_pivoted.T"
      ],
      "metadata": {
        "colab": {
          "base_uri": "https://localhost:8080/",
          "height": 411
        },
        "id": "Gncb3jQia50u",
        "outputId": "d01031b7-d1a3-490d-e446-1100698b9141"
      },
      "execution_count": 279,
      "outputs": [
        {
          "output_type": "execute_result",
          "data": {
            "text/plain": [
              "make  ALFA ROMEO  ALPINA  ALPINE  ASTON MARTIN    AUDI  AUSTIN  B.M.W.  \\\n",
              "year                                                                     \n",
              "2016        39.0    12.0     NaN          14.0  2360.0     NaN  4582.0   \n",
              "2017        12.0    23.0     NaN          29.0  2604.0     1.0  5591.0   \n",
              "2018        50.0    11.0     NaN          26.0  2941.0     NaN  5405.0   \n",
              "2019        60.0     2.0    14.0          21.0  2487.0     2.0  5346.0   \n",
              "2020        39.0     8.0     7.0          28.0  2228.0     1.0  4349.0   \n",
              "2021        37.0     2.0    11.0          27.0  1975.0     2.0  5255.0   \n",
              "2022         9.0     NaN     3.0          16.0   445.0     2.0  1851.0   \n",
              "\n",
              "make  BENTLEY  BLUECAR    BYD  ...  SKODA  SMART  SSANGYONG  SUBARU  SUZUKI  \\\n",
              "year                           ...                                            \n",
              "2016     53.0      NaN    7.0  ...    2.0    NaN      279.0  2902.0   496.0   \n",
              "2017     70.0    235.0   63.0  ...    6.0    NaN      388.0  3239.0   501.0   \n",
              "2018     61.0    180.0   32.0  ...  452.0    4.0       40.0  3196.0   177.0   \n",
              "2019     69.0    265.0    7.0  ...  849.0    1.0       47.0  1261.0   467.0   \n",
              "2020     76.0      NaN    3.0  ...  663.0    NaN      232.0   740.0   317.0   \n",
              "2021    103.0     30.0   89.0  ...  470.0    NaN      135.0   346.0   378.0   \n",
              "2022     68.0     75.0  300.0  ...  108.0    1.0      217.0    94.0    79.0   \n",
              "\n",
              "make  TESLA   TOYOTA  TRIUMPH  VOLKSWAGEN   VOLVO  \n",
              "year                                               \n",
              "2016    3.0  18491.0      1.0      2779.0  1485.0  \n",
              "2017    NaN  19133.0      3.0      2450.0  1526.0  \n",
              "2018    4.0  13817.0      2.0      2420.0  1416.0  \n",
              "2019   14.0  12923.0      NaN      1726.0   874.0  \n",
              "2020   20.0   7704.0      1.0      1334.0   712.0  \n",
              "2021  924.0   9633.0      NaN       915.0   510.0  \n",
              "2022  315.0   3545.0      2.0       241.0   185.0  \n",
              "\n",
              "[7 rows x 71 columns]"
            ],
            "text/html": [
              "\n",
              "  <div id=\"df-04c36bd6-0059-48ba-b10d-e2d9e2ba6192\">\n",
              "    <div class=\"colab-df-container\">\n",
              "      <div>\n",
              "<style scoped>\n",
              "    .dataframe tbody tr th:only-of-type {\n",
              "        vertical-align: middle;\n",
              "    }\n",
              "\n",
              "    .dataframe tbody tr th {\n",
              "        vertical-align: top;\n",
              "    }\n",
              "\n",
              "    .dataframe thead th {\n",
              "        text-align: right;\n",
              "    }\n",
              "</style>\n",
              "<table border=\"1\" class=\"dataframe\">\n",
              "  <thead>\n",
              "    <tr style=\"text-align: right;\">\n",
              "      <th>make</th>\n",
              "      <th>ALFA ROMEO</th>\n",
              "      <th>ALPINA</th>\n",
              "      <th>ALPINE</th>\n",
              "      <th>ASTON MARTIN</th>\n",
              "      <th>AUDI</th>\n",
              "      <th>AUSTIN</th>\n",
              "      <th>B.M.W.</th>\n",
              "      <th>BENTLEY</th>\n",
              "      <th>BLUECAR</th>\n",
              "      <th>BYD</th>\n",
              "      <th>...</th>\n",
              "      <th>SKODA</th>\n",
              "      <th>SMART</th>\n",
              "      <th>SSANGYONG</th>\n",
              "      <th>SUBARU</th>\n",
              "      <th>SUZUKI</th>\n",
              "      <th>TESLA</th>\n",
              "      <th>TOYOTA</th>\n",
              "      <th>TRIUMPH</th>\n",
              "      <th>VOLKSWAGEN</th>\n",
              "      <th>VOLVO</th>\n",
              "    </tr>\n",
              "    <tr>\n",
              "      <th>year</th>\n",
              "      <th></th>\n",
              "      <th></th>\n",
              "      <th></th>\n",
              "      <th></th>\n",
              "      <th></th>\n",
              "      <th></th>\n",
              "      <th></th>\n",
              "      <th></th>\n",
              "      <th></th>\n",
              "      <th></th>\n",
              "      <th></th>\n",
              "      <th></th>\n",
              "      <th></th>\n",
              "      <th></th>\n",
              "      <th></th>\n",
              "      <th></th>\n",
              "      <th></th>\n",
              "      <th></th>\n",
              "      <th></th>\n",
              "      <th></th>\n",
              "      <th></th>\n",
              "    </tr>\n",
              "  </thead>\n",
              "  <tbody>\n",
              "    <tr>\n",
              "      <th>2016</th>\n",
              "      <td>39.0</td>\n",
              "      <td>12.0</td>\n",
              "      <td>NaN</td>\n",
              "      <td>14.0</td>\n",
              "      <td>2360.0</td>\n",
              "      <td>NaN</td>\n",
              "      <td>4582.0</td>\n",
              "      <td>53.0</td>\n",
              "      <td>NaN</td>\n",
              "      <td>7.0</td>\n",
              "      <td>...</td>\n",
              "      <td>2.0</td>\n",
              "      <td>NaN</td>\n",
              "      <td>279.0</td>\n",
              "      <td>2902.0</td>\n",
              "      <td>496.0</td>\n",
              "      <td>3.0</td>\n",
              "      <td>18491.0</td>\n",
              "      <td>1.0</td>\n",
              "      <td>2779.0</td>\n",
              "      <td>1485.0</td>\n",
              "    </tr>\n",
              "    <tr>\n",
              "      <th>2017</th>\n",
              "      <td>12.0</td>\n",
              "      <td>23.0</td>\n",
              "      <td>NaN</td>\n",
              "      <td>29.0</td>\n",
              "      <td>2604.0</td>\n",
              "      <td>1.0</td>\n",
              "      <td>5591.0</td>\n",
              "      <td>70.0</td>\n",
              "      <td>235.0</td>\n",
              "      <td>63.0</td>\n",
              "      <td>...</td>\n",
              "      <td>6.0</td>\n",
              "      <td>NaN</td>\n",
              "      <td>388.0</td>\n",
              "      <td>3239.0</td>\n",
              "      <td>501.0</td>\n",
              "      <td>NaN</td>\n",
              "      <td>19133.0</td>\n",
              "      <td>3.0</td>\n",
              "      <td>2450.0</td>\n",
              "      <td>1526.0</td>\n",
              "    </tr>\n",
              "    <tr>\n",
              "      <th>2018</th>\n",
              "      <td>50.0</td>\n",
              "      <td>11.0</td>\n",
              "      <td>NaN</td>\n",
              "      <td>26.0</td>\n",
              "      <td>2941.0</td>\n",
              "      <td>NaN</td>\n",
              "      <td>5405.0</td>\n",
              "      <td>61.0</td>\n",
              "      <td>180.0</td>\n",
              "      <td>32.0</td>\n",
              "      <td>...</td>\n",
              "      <td>452.0</td>\n",
              "      <td>4.0</td>\n",
              "      <td>40.0</td>\n",
              "      <td>3196.0</td>\n",
              "      <td>177.0</td>\n",
              "      <td>4.0</td>\n",
              "      <td>13817.0</td>\n",
              "      <td>2.0</td>\n",
              "      <td>2420.0</td>\n",
              "      <td>1416.0</td>\n",
              "    </tr>\n",
              "    <tr>\n",
              "      <th>2019</th>\n",
              "      <td>60.0</td>\n",
              "      <td>2.0</td>\n",
              "      <td>14.0</td>\n",
              "      <td>21.0</td>\n",
              "      <td>2487.0</td>\n",
              "      <td>2.0</td>\n",
              "      <td>5346.0</td>\n",
              "      <td>69.0</td>\n",
              "      <td>265.0</td>\n",
              "      <td>7.0</td>\n",
              "      <td>...</td>\n",
              "      <td>849.0</td>\n",
              "      <td>1.0</td>\n",
              "      <td>47.0</td>\n",
              "      <td>1261.0</td>\n",
              "      <td>467.0</td>\n",
              "      <td>14.0</td>\n",
              "      <td>12923.0</td>\n",
              "      <td>NaN</td>\n",
              "      <td>1726.0</td>\n",
              "      <td>874.0</td>\n",
              "    </tr>\n",
              "    <tr>\n",
              "      <th>2020</th>\n",
              "      <td>39.0</td>\n",
              "      <td>8.0</td>\n",
              "      <td>7.0</td>\n",
              "      <td>28.0</td>\n",
              "      <td>2228.0</td>\n",
              "      <td>1.0</td>\n",
              "      <td>4349.0</td>\n",
              "      <td>76.0</td>\n",
              "      <td>NaN</td>\n",
              "      <td>3.0</td>\n",
              "      <td>...</td>\n",
              "      <td>663.0</td>\n",
              "      <td>NaN</td>\n",
              "      <td>232.0</td>\n",
              "      <td>740.0</td>\n",
              "      <td>317.0</td>\n",
              "      <td>20.0</td>\n",
              "      <td>7704.0</td>\n",
              "      <td>1.0</td>\n",
              "      <td>1334.0</td>\n",
              "      <td>712.0</td>\n",
              "    </tr>\n",
              "    <tr>\n",
              "      <th>2021</th>\n",
              "      <td>37.0</td>\n",
              "      <td>2.0</td>\n",
              "      <td>11.0</td>\n",
              "      <td>27.0</td>\n",
              "      <td>1975.0</td>\n",
              "      <td>2.0</td>\n",
              "      <td>5255.0</td>\n",
              "      <td>103.0</td>\n",
              "      <td>30.0</td>\n",
              "      <td>89.0</td>\n",
              "      <td>...</td>\n",
              "      <td>470.0</td>\n",
              "      <td>NaN</td>\n",
              "      <td>135.0</td>\n",
              "      <td>346.0</td>\n",
              "      <td>378.0</td>\n",
              "      <td>924.0</td>\n",
              "      <td>9633.0</td>\n",
              "      <td>NaN</td>\n",
              "      <td>915.0</td>\n",
              "      <td>510.0</td>\n",
              "    </tr>\n",
              "    <tr>\n",
              "      <th>2022</th>\n",
              "      <td>9.0</td>\n",
              "      <td>NaN</td>\n",
              "      <td>3.0</td>\n",
              "      <td>16.0</td>\n",
              "      <td>445.0</td>\n",
              "      <td>2.0</td>\n",
              "      <td>1851.0</td>\n",
              "      <td>68.0</td>\n",
              "      <td>75.0</td>\n",
              "      <td>300.0</td>\n",
              "      <td>...</td>\n",
              "      <td>108.0</td>\n",
              "      <td>1.0</td>\n",
              "      <td>217.0</td>\n",
              "      <td>94.0</td>\n",
              "      <td>79.0</td>\n",
              "      <td>315.0</td>\n",
              "      <td>3545.0</td>\n",
              "      <td>2.0</td>\n",
              "      <td>241.0</td>\n",
              "      <td>185.0</td>\n",
              "    </tr>\n",
              "  </tbody>\n",
              "</table>\n",
              "<p>7 rows × 71 columns</p>\n",
              "</div>\n",
              "      <button class=\"colab-df-convert\" onclick=\"convertToInteractive('df-04c36bd6-0059-48ba-b10d-e2d9e2ba6192')\"\n",
              "              title=\"Convert this dataframe to an interactive table.\"\n",
              "              style=\"display:none;\">\n",
              "        \n",
              "  <svg xmlns=\"http://www.w3.org/2000/svg\" height=\"24px\"viewBox=\"0 0 24 24\"\n",
              "       width=\"24px\">\n",
              "    <path d=\"M0 0h24v24H0V0z\" fill=\"none\"/>\n",
              "    <path d=\"M18.56 5.44l.94 2.06.94-2.06 2.06-.94-2.06-.94-.94-2.06-.94 2.06-2.06.94zm-11 1L8.5 8.5l.94-2.06 2.06-.94-2.06-.94L8.5 2.5l-.94 2.06-2.06.94zm10 10l.94 2.06.94-2.06 2.06-.94-2.06-.94-.94-2.06-.94 2.06-2.06.94z\"/><path d=\"M17.41 7.96l-1.37-1.37c-.4-.4-.92-.59-1.43-.59-.52 0-1.04.2-1.43.59L10.3 9.45l-7.72 7.72c-.78.78-.78 2.05 0 2.83L4 21.41c.39.39.9.59 1.41.59.51 0 1.02-.2 1.41-.59l7.78-7.78 2.81-2.81c.8-.78.8-2.07 0-2.86zM5.41 20L4 18.59l7.72-7.72 1.47 1.35L5.41 20z\"/>\n",
              "  </svg>\n",
              "      </button>\n",
              "      \n",
              "  <style>\n",
              "    .colab-df-container {\n",
              "      display:flex;\n",
              "      flex-wrap:wrap;\n",
              "      gap: 12px;\n",
              "    }\n",
              "\n",
              "    .colab-df-convert {\n",
              "      background-color: #E8F0FE;\n",
              "      border: none;\n",
              "      border-radius: 50%;\n",
              "      cursor: pointer;\n",
              "      display: none;\n",
              "      fill: #1967D2;\n",
              "      height: 32px;\n",
              "      padding: 0 0 0 0;\n",
              "      width: 32px;\n",
              "    }\n",
              "\n",
              "    .colab-df-convert:hover {\n",
              "      background-color: #E2EBFA;\n",
              "      box-shadow: 0px 1px 2px rgba(60, 64, 67, 0.3), 0px 1px 3px 1px rgba(60, 64, 67, 0.15);\n",
              "      fill: #174EA6;\n",
              "    }\n",
              "\n",
              "    [theme=dark] .colab-df-convert {\n",
              "      background-color: #3B4455;\n",
              "      fill: #D2E3FC;\n",
              "    }\n",
              "\n",
              "    [theme=dark] .colab-df-convert:hover {\n",
              "      background-color: #434B5C;\n",
              "      box-shadow: 0px 1px 3px 1px rgba(0, 0, 0, 0.15);\n",
              "      filter: drop-shadow(0px 1px 2px rgba(0, 0, 0, 0.3));\n",
              "      fill: #FFFFFF;\n",
              "    }\n",
              "  </style>\n",
              "\n",
              "      <script>\n",
              "        const buttonEl =\n",
              "          document.querySelector('#df-04c36bd6-0059-48ba-b10d-e2d9e2ba6192 button.colab-df-convert');\n",
              "        buttonEl.style.display =\n",
              "          google.colab.kernel.accessAllowed ? 'block' : 'none';\n",
              "\n",
              "        async function convertToInteractive(key) {\n",
              "          const element = document.querySelector('#df-04c36bd6-0059-48ba-b10d-e2d9e2ba6192');\n",
              "          const dataTable =\n",
              "            await google.colab.kernel.invokeFunction('convertToInteractive',\n",
              "                                                     [key], {});\n",
              "          if (!dataTable) return;\n",
              "\n",
              "          const docLinkHtml = 'Like what you see? Visit the ' +\n",
              "            '<a target=\"_blank\" href=https://colab.research.google.com/notebooks/data_table.ipynb>data table notebook</a>'\n",
              "            + ' to learn more about interactive tables.';\n",
              "          element.innerHTML = '';\n",
              "          dataTable['output_type'] = 'display_data';\n",
              "          await google.colab.output.renderOutput(dataTable, element);\n",
              "          const docLink = document.createElement('div');\n",
              "          docLink.innerHTML = docLinkHtml;\n",
              "          element.appendChild(docLink);\n",
              "        }\n",
              "      </script>\n",
              "    </div>\n",
              "  </div>\n",
              "  "
            ]
          },
          "metadata": {},
          "execution_count": 279
        }
      ]
    },
    {
      "cell_type": "markdown",
      "source": [
        "### 3.3.4. Merging data\n",
        "\n",
        "When working with multiple datasets a common operation is to merge them using a common identifier. Pandas provides the `merge` function to achieve this. For those familiar with relational database, it is very similar to the SQL `JOIN` statement."
      ],
      "metadata": {
        "id": "uS45wPwEeT5b"
      }
    },
    {
      "cell_type": "markdown",
      "source": [
        "#### **Preparing for merge**\n",
        "\n",
        "To demonstrate the power of `merge` let's first aggregate the original Singapore annual new car registration dataset at the make and year level, which will allow us to later join with `cars_annually_melted` and check if the two datasets agree on their numbers:"
      ],
      "metadata": {
        "id": "KQm89NTVMdBK"
      }
    },
    {
      "cell_type": "code",
      "source": [
        "cars_annually_aggregated = singapore_cars_cleaned.pivot_table(index='make', columns='year', values='number', aggfunc='sum')\n",
        "cars_annually_aggregated"
      ],
      "metadata": {
        "colab": {
          "base_uri": "https://localhost:8080/",
          "height": 455
        },
        "id": "PnH9RFs5gCvq",
        "outputId": "336cdf2f-4365-4464-8686-26bc14cd6e17"
      },
      "execution_count": 280,
      "outputs": [
        {
          "output_type": "execute_result",
          "data": {
            "text/plain": [
              "year             2015     2016     2017     2018     2019    2020    2021\n",
              "make                                                                     \n",
              "ALFA ROMEO       31.0     39.0     12.0     50.0     60.0    39.0    37.0\n",
              "ALPINA            9.0     12.0     23.0     11.0      2.0     8.0     2.0\n",
              "ALPINE            NaN      NaN      NaN      NaN     14.0     7.0    11.0\n",
              "ASTON MARTIN      5.0     14.0     29.0     26.0     21.0    28.0    27.0\n",
              "AUDI           2093.0   2360.0   2604.0   2941.0   2487.0  2228.0  1975.0\n",
              "...               ...      ...      ...      ...      ...     ...     ...\n",
              "TOYO ACE          1.0      NaN      NaN      NaN      NaN     NaN     NaN\n",
              "TOYOTA        12171.0  18491.0  19133.0  13817.0  12923.0  7704.0  9633.0\n",
              "TRIUMPH           1.0      1.0      3.0      2.0      NaN     1.0     NaN\n",
              "VOLKSWAGEN     3056.0   2779.0   2450.0   2420.0   1726.0  1334.0   915.0\n",
              "VOLVO          1274.0   1485.0   1526.0   1416.0    874.0   712.0   510.0\n",
              "\n",
              "[71 rows x 7 columns]"
            ],
            "text/html": [
              "\n",
              "  <div id=\"df-7042c0bd-9a0f-48c2-beef-b87cc1cff8cc\">\n",
              "    <div class=\"colab-df-container\">\n",
              "      <div>\n",
              "<style scoped>\n",
              "    .dataframe tbody tr th:only-of-type {\n",
              "        vertical-align: middle;\n",
              "    }\n",
              "\n",
              "    .dataframe tbody tr th {\n",
              "        vertical-align: top;\n",
              "    }\n",
              "\n",
              "    .dataframe thead th {\n",
              "        text-align: right;\n",
              "    }\n",
              "</style>\n",
              "<table border=\"1\" class=\"dataframe\">\n",
              "  <thead>\n",
              "    <tr style=\"text-align: right;\">\n",
              "      <th>year</th>\n",
              "      <th>2015</th>\n",
              "      <th>2016</th>\n",
              "      <th>2017</th>\n",
              "      <th>2018</th>\n",
              "      <th>2019</th>\n",
              "      <th>2020</th>\n",
              "      <th>2021</th>\n",
              "    </tr>\n",
              "    <tr>\n",
              "      <th>make</th>\n",
              "      <th></th>\n",
              "      <th></th>\n",
              "      <th></th>\n",
              "      <th></th>\n",
              "      <th></th>\n",
              "      <th></th>\n",
              "      <th></th>\n",
              "    </tr>\n",
              "  </thead>\n",
              "  <tbody>\n",
              "    <tr>\n",
              "      <th>ALFA ROMEO</th>\n",
              "      <td>31.0</td>\n",
              "      <td>39.0</td>\n",
              "      <td>12.0</td>\n",
              "      <td>50.0</td>\n",
              "      <td>60.0</td>\n",
              "      <td>39.0</td>\n",
              "      <td>37.0</td>\n",
              "    </tr>\n",
              "    <tr>\n",
              "      <th>ALPINA</th>\n",
              "      <td>9.0</td>\n",
              "      <td>12.0</td>\n",
              "      <td>23.0</td>\n",
              "      <td>11.0</td>\n",
              "      <td>2.0</td>\n",
              "      <td>8.0</td>\n",
              "      <td>2.0</td>\n",
              "    </tr>\n",
              "    <tr>\n",
              "      <th>ALPINE</th>\n",
              "      <td>NaN</td>\n",
              "      <td>NaN</td>\n",
              "      <td>NaN</td>\n",
              "      <td>NaN</td>\n",
              "      <td>14.0</td>\n",
              "      <td>7.0</td>\n",
              "      <td>11.0</td>\n",
              "    </tr>\n",
              "    <tr>\n",
              "      <th>ASTON MARTIN</th>\n",
              "      <td>5.0</td>\n",
              "      <td>14.0</td>\n",
              "      <td>29.0</td>\n",
              "      <td>26.0</td>\n",
              "      <td>21.0</td>\n",
              "      <td>28.0</td>\n",
              "      <td>27.0</td>\n",
              "    </tr>\n",
              "    <tr>\n",
              "      <th>AUDI</th>\n",
              "      <td>2093.0</td>\n",
              "      <td>2360.0</td>\n",
              "      <td>2604.0</td>\n",
              "      <td>2941.0</td>\n",
              "      <td>2487.0</td>\n",
              "      <td>2228.0</td>\n",
              "      <td>1975.0</td>\n",
              "    </tr>\n",
              "    <tr>\n",
              "      <th>...</th>\n",
              "      <td>...</td>\n",
              "      <td>...</td>\n",
              "      <td>...</td>\n",
              "      <td>...</td>\n",
              "      <td>...</td>\n",
              "      <td>...</td>\n",
              "      <td>...</td>\n",
              "    </tr>\n",
              "    <tr>\n",
              "      <th>TOYO ACE</th>\n",
              "      <td>1.0</td>\n",
              "      <td>NaN</td>\n",
              "      <td>NaN</td>\n",
              "      <td>NaN</td>\n",
              "      <td>NaN</td>\n",
              "      <td>NaN</td>\n",
              "      <td>NaN</td>\n",
              "    </tr>\n",
              "    <tr>\n",
              "      <th>TOYOTA</th>\n",
              "      <td>12171.0</td>\n",
              "      <td>18491.0</td>\n",
              "      <td>19133.0</td>\n",
              "      <td>13817.0</td>\n",
              "      <td>12923.0</td>\n",
              "      <td>7704.0</td>\n",
              "      <td>9633.0</td>\n",
              "    </tr>\n",
              "    <tr>\n",
              "      <th>TRIUMPH</th>\n",
              "      <td>1.0</td>\n",
              "      <td>1.0</td>\n",
              "      <td>3.0</td>\n",
              "      <td>2.0</td>\n",
              "      <td>NaN</td>\n",
              "      <td>1.0</td>\n",
              "      <td>NaN</td>\n",
              "    </tr>\n",
              "    <tr>\n",
              "      <th>VOLKSWAGEN</th>\n",
              "      <td>3056.0</td>\n",
              "      <td>2779.0</td>\n",
              "      <td>2450.0</td>\n",
              "      <td>2420.0</td>\n",
              "      <td>1726.0</td>\n",
              "      <td>1334.0</td>\n",
              "      <td>915.0</td>\n",
              "    </tr>\n",
              "    <tr>\n",
              "      <th>VOLVO</th>\n",
              "      <td>1274.0</td>\n",
              "      <td>1485.0</td>\n",
              "      <td>1526.0</td>\n",
              "      <td>1416.0</td>\n",
              "      <td>874.0</td>\n",
              "      <td>712.0</td>\n",
              "      <td>510.0</td>\n",
              "    </tr>\n",
              "  </tbody>\n",
              "</table>\n",
              "<p>71 rows × 7 columns</p>\n",
              "</div>\n",
              "      <button class=\"colab-df-convert\" onclick=\"convertToInteractive('df-7042c0bd-9a0f-48c2-beef-b87cc1cff8cc')\"\n",
              "              title=\"Convert this dataframe to an interactive table.\"\n",
              "              style=\"display:none;\">\n",
              "        \n",
              "  <svg xmlns=\"http://www.w3.org/2000/svg\" height=\"24px\"viewBox=\"0 0 24 24\"\n",
              "       width=\"24px\">\n",
              "    <path d=\"M0 0h24v24H0V0z\" fill=\"none\"/>\n",
              "    <path d=\"M18.56 5.44l.94 2.06.94-2.06 2.06-.94-2.06-.94-.94-2.06-.94 2.06-2.06.94zm-11 1L8.5 8.5l.94-2.06 2.06-.94-2.06-.94L8.5 2.5l-.94 2.06-2.06.94zm10 10l.94 2.06.94-2.06 2.06-.94-2.06-.94-.94-2.06-.94 2.06-2.06.94z\"/><path d=\"M17.41 7.96l-1.37-1.37c-.4-.4-.92-.59-1.43-.59-.52 0-1.04.2-1.43.59L10.3 9.45l-7.72 7.72c-.78.78-.78 2.05 0 2.83L4 21.41c.39.39.9.59 1.41.59.51 0 1.02-.2 1.41-.59l7.78-7.78 2.81-2.81c.8-.78.8-2.07 0-2.86zM5.41 20L4 18.59l7.72-7.72 1.47 1.35L5.41 20z\"/>\n",
              "  </svg>\n",
              "      </button>\n",
              "      \n",
              "  <style>\n",
              "    .colab-df-container {\n",
              "      display:flex;\n",
              "      flex-wrap:wrap;\n",
              "      gap: 12px;\n",
              "    }\n",
              "\n",
              "    .colab-df-convert {\n",
              "      background-color: #E8F0FE;\n",
              "      border: none;\n",
              "      border-radius: 50%;\n",
              "      cursor: pointer;\n",
              "      display: none;\n",
              "      fill: #1967D2;\n",
              "      height: 32px;\n",
              "      padding: 0 0 0 0;\n",
              "      width: 32px;\n",
              "    }\n",
              "\n",
              "    .colab-df-convert:hover {\n",
              "      background-color: #E2EBFA;\n",
              "      box-shadow: 0px 1px 2px rgba(60, 64, 67, 0.3), 0px 1px 3px 1px rgba(60, 64, 67, 0.15);\n",
              "      fill: #174EA6;\n",
              "    }\n",
              "\n",
              "    [theme=dark] .colab-df-convert {\n",
              "      background-color: #3B4455;\n",
              "      fill: #D2E3FC;\n",
              "    }\n",
              "\n",
              "    [theme=dark] .colab-df-convert:hover {\n",
              "      background-color: #434B5C;\n",
              "      box-shadow: 0px 1px 3px 1px rgba(0, 0, 0, 0.15);\n",
              "      filter: drop-shadow(0px 1px 2px rgba(0, 0, 0, 0.3));\n",
              "      fill: #FFFFFF;\n",
              "    }\n",
              "  </style>\n",
              "\n",
              "      <script>\n",
              "        const buttonEl =\n",
              "          document.querySelector('#df-7042c0bd-9a0f-48c2-beef-b87cc1cff8cc button.colab-df-convert');\n",
              "        buttonEl.style.display =\n",
              "          google.colab.kernel.accessAllowed ? 'block' : 'none';\n",
              "\n",
              "        async function convertToInteractive(key) {\n",
              "          const element = document.querySelector('#df-7042c0bd-9a0f-48c2-beef-b87cc1cff8cc');\n",
              "          const dataTable =\n",
              "            await google.colab.kernel.invokeFunction('convertToInteractive',\n",
              "                                                     [key], {});\n",
              "          if (!dataTable) return;\n",
              "\n",
              "          const docLinkHtml = 'Like what you see? Visit the ' +\n",
              "            '<a target=\"_blank\" href=https://colab.research.google.com/notebooks/data_table.ipynb>data table notebook</a>'\n",
              "            + ' to learn more about interactive tables.';\n",
              "          element.innerHTML = '';\n",
              "          dataTable['output_type'] = 'display_data';\n",
              "          await google.colab.output.renderOutput(dataTable, element);\n",
              "          const docLink = document.createElement('div');\n",
              "          docLink.innerHTML = docLinkHtml;\n",
              "          element.appendChild(docLink);\n",
              "        }\n",
              "      </script>\n",
              "    </div>\n",
              "  </div>\n",
              "  "
            ]
          },
          "metadata": {},
          "execution_count": 280
        }
      ]
    },
    {
      "cell_type": "markdown",
      "source": [
        "A quick check reveals that both the make and year have different unique values between the original annual and monthly datasets:"
      ],
      "metadata": {
        "id": "vsqK18zGjLEv"
      }
    },
    {
      "cell_type": "code",
      "source": [
        "cars_monthly_pivoted.columns"
      ],
      "metadata": {
        "colab": {
          "base_uri": "https://localhost:8080/"
        },
        "id": "n_YFEigFiZV_",
        "outputId": "36e78b15-dc46-4f31-c200-1cab4e6121c7"
      },
      "execution_count": 281,
      "outputs": [
        {
          "output_type": "execute_result",
          "data": {
            "text/plain": [
              "Int64Index([2016, 2017, 2018, 2019, 2020, 2021, 2022], dtype='int64', name='year')"
            ]
          },
          "metadata": {},
          "execution_count": 281
        }
      ]
    },
    {
      "cell_type": "code",
      "source": [
        "cars_annually_aggregated.index.intersection(cars_monthly_pivoted.index).size"
      ],
      "metadata": {
        "colab": {
          "base_uri": "https://localhost:8080/"
        },
        "id": "PfyrWDjqhRg0",
        "outputId": "d39fc6ee-1e68-4b64-c1ad-07ec45e2727a"
      },
      "execution_count": 282,
      "outputs": [
        {
          "output_type": "execute_result",
          "data": {
            "text/plain": [
              "69"
            ]
          },
          "metadata": {},
          "execution_count": 282
        }
      ]
    },
    {
      "cell_type": "markdown",
      "source": [
        "The difference might be attributable to the different time range covered by these two datasets. We can narrow down the join and comparison to only the shared year and make – think inner join for you SQL people."
      ],
      "metadata": {
        "id": "4PDFqxj6jj29"
      }
    },
    {
      "cell_type": "code",
      "source": [
        "cars_annually_melted = cars_annually_aggregated.melt(var_name='year', value_name='number', ignore_index=False)\n",
        "cars_annually_melted"
      ],
      "metadata": {
        "colab": {
          "base_uri": "https://localhost:8080/",
          "height": 455
        },
        "id": "79-hQnF_kDeG",
        "outputId": "fce9b235-ce02-40d7-e314-0226a4f2afb0"
      },
      "execution_count": 283,
      "outputs": [
        {
          "output_type": "execute_result",
          "data": {
            "text/plain": [
              "              year  number\n",
              "make                      \n",
              "ALFA ROMEO    2015    31.0\n",
              "ALPINA        2015     9.0\n",
              "ALPINE        2015     NaN\n",
              "ASTON MARTIN  2015     5.0\n",
              "AUDI          2015  2093.0\n",
              "...            ...     ...\n",
              "TOYO ACE      2021     NaN\n",
              "TOYOTA        2021  9633.0\n",
              "TRIUMPH       2021     NaN\n",
              "VOLKSWAGEN    2021   915.0\n",
              "VOLVO         2021   510.0\n",
              "\n",
              "[497 rows x 2 columns]"
            ],
            "text/html": [
              "\n",
              "  <div id=\"df-15e9c59e-77b5-4f08-a625-90951cf5a305\">\n",
              "    <div class=\"colab-df-container\">\n",
              "      <div>\n",
              "<style scoped>\n",
              "    .dataframe tbody tr th:only-of-type {\n",
              "        vertical-align: middle;\n",
              "    }\n",
              "\n",
              "    .dataframe tbody tr th {\n",
              "        vertical-align: top;\n",
              "    }\n",
              "\n",
              "    .dataframe thead th {\n",
              "        text-align: right;\n",
              "    }\n",
              "</style>\n",
              "<table border=\"1\" class=\"dataframe\">\n",
              "  <thead>\n",
              "    <tr style=\"text-align: right;\">\n",
              "      <th></th>\n",
              "      <th>year</th>\n",
              "      <th>number</th>\n",
              "    </tr>\n",
              "    <tr>\n",
              "      <th>make</th>\n",
              "      <th></th>\n",
              "      <th></th>\n",
              "    </tr>\n",
              "  </thead>\n",
              "  <tbody>\n",
              "    <tr>\n",
              "      <th>ALFA ROMEO</th>\n",
              "      <td>2015</td>\n",
              "      <td>31.0</td>\n",
              "    </tr>\n",
              "    <tr>\n",
              "      <th>ALPINA</th>\n",
              "      <td>2015</td>\n",
              "      <td>9.0</td>\n",
              "    </tr>\n",
              "    <tr>\n",
              "      <th>ALPINE</th>\n",
              "      <td>2015</td>\n",
              "      <td>NaN</td>\n",
              "    </tr>\n",
              "    <tr>\n",
              "      <th>ASTON MARTIN</th>\n",
              "      <td>2015</td>\n",
              "      <td>5.0</td>\n",
              "    </tr>\n",
              "    <tr>\n",
              "      <th>AUDI</th>\n",
              "      <td>2015</td>\n",
              "      <td>2093.0</td>\n",
              "    </tr>\n",
              "    <tr>\n",
              "      <th>...</th>\n",
              "      <td>...</td>\n",
              "      <td>...</td>\n",
              "    </tr>\n",
              "    <tr>\n",
              "      <th>TOYO ACE</th>\n",
              "      <td>2021</td>\n",
              "      <td>NaN</td>\n",
              "    </tr>\n",
              "    <tr>\n",
              "      <th>TOYOTA</th>\n",
              "      <td>2021</td>\n",
              "      <td>9633.0</td>\n",
              "    </tr>\n",
              "    <tr>\n",
              "      <th>TRIUMPH</th>\n",
              "      <td>2021</td>\n",
              "      <td>NaN</td>\n",
              "    </tr>\n",
              "    <tr>\n",
              "      <th>VOLKSWAGEN</th>\n",
              "      <td>2021</td>\n",
              "      <td>915.0</td>\n",
              "    </tr>\n",
              "    <tr>\n",
              "      <th>VOLVO</th>\n",
              "      <td>2021</td>\n",
              "      <td>510.0</td>\n",
              "    </tr>\n",
              "  </tbody>\n",
              "</table>\n",
              "<p>497 rows × 2 columns</p>\n",
              "</div>\n",
              "      <button class=\"colab-df-convert\" onclick=\"convertToInteractive('df-15e9c59e-77b5-4f08-a625-90951cf5a305')\"\n",
              "              title=\"Convert this dataframe to an interactive table.\"\n",
              "              style=\"display:none;\">\n",
              "        \n",
              "  <svg xmlns=\"http://www.w3.org/2000/svg\" height=\"24px\"viewBox=\"0 0 24 24\"\n",
              "       width=\"24px\">\n",
              "    <path d=\"M0 0h24v24H0V0z\" fill=\"none\"/>\n",
              "    <path d=\"M18.56 5.44l.94 2.06.94-2.06 2.06-.94-2.06-.94-.94-2.06-.94 2.06-2.06.94zm-11 1L8.5 8.5l.94-2.06 2.06-.94-2.06-.94L8.5 2.5l-.94 2.06-2.06.94zm10 10l.94 2.06.94-2.06 2.06-.94-2.06-.94-.94-2.06-.94 2.06-2.06.94z\"/><path d=\"M17.41 7.96l-1.37-1.37c-.4-.4-.92-.59-1.43-.59-.52 0-1.04.2-1.43.59L10.3 9.45l-7.72 7.72c-.78.78-.78 2.05 0 2.83L4 21.41c.39.39.9.59 1.41.59.51 0 1.02-.2 1.41-.59l7.78-7.78 2.81-2.81c.8-.78.8-2.07 0-2.86zM5.41 20L4 18.59l7.72-7.72 1.47 1.35L5.41 20z\"/>\n",
              "  </svg>\n",
              "      </button>\n",
              "      \n",
              "  <style>\n",
              "    .colab-df-container {\n",
              "      display:flex;\n",
              "      flex-wrap:wrap;\n",
              "      gap: 12px;\n",
              "    }\n",
              "\n",
              "    .colab-df-convert {\n",
              "      background-color: #E8F0FE;\n",
              "      border: none;\n",
              "      border-radius: 50%;\n",
              "      cursor: pointer;\n",
              "      display: none;\n",
              "      fill: #1967D2;\n",
              "      height: 32px;\n",
              "      padding: 0 0 0 0;\n",
              "      width: 32px;\n",
              "    }\n",
              "\n",
              "    .colab-df-convert:hover {\n",
              "      background-color: #E2EBFA;\n",
              "      box-shadow: 0px 1px 2px rgba(60, 64, 67, 0.3), 0px 1px 3px 1px rgba(60, 64, 67, 0.15);\n",
              "      fill: #174EA6;\n",
              "    }\n",
              "\n",
              "    [theme=dark] .colab-df-convert {\n",
              "      background-color: #3B4455;\n",
              "      fill: #D2E3FC;\n",
              "    }\n",
              "\n",
              "    [theme=dark] .colab-df-convert:hover {\n",
              "      background-color: #434B5C;\n",
              "      box-shadow: 0px 1px 3px 1px rgba(0, 0, 0, 0.15);\n",
              "      filter: drop-shadow(0px 1px 2px rgba(0, 0, 0, 0.3));\n",
              "      fill: #FFFFFF;\n",
              "    }\n",
              "  </style>\n",
              "\n",
              "      <script>\n",
              "        const buttonEl =\n",
              "          document.querySelector('#df-15e9c59e-77b5-4f08-a625-90951cf5a305 button.colab-df-convert');\n",
              "        buttonEl.style.display =\n",
              "          google.colab.kernel.accessAllowed ? 'block' : 'none';\n",
              "\n",
              "        async function convertToInteractive(key) {\n",
              "          const element = document.querySelector('#df-15e9c59e-77b5-4f08-a625-90951cf5a305');\n",
              "          const dataTable =\n",
              "            await google.colab.kernel.invokeFunction('convertToInteractive',\n",
              "                                                     [key], {});\n",
              "          if (!dataTable) return;\n",
              "\n",
              "          const docLinkHtml = 'Like what you see? Visit the ' +\n",
              "            '<a target=\"_blank\" href=https://colab.research.google.com/notebooks/data_table.ipynb>data table notebook</a>'\n",
              "            + ' to learn more about interactive tables.';\n",
              "          element.innerHTML = '';\n",
              "          dataTable['output_type'] = 'display_data';\n",
              "          await google.colab.output.renderOutput(dataTable, element);\n",
              "          const docLink = document.createElement('div');\n",
              "          docLink.innerHTML = docLinkHtml;\n",
              "          element.appendChild(docLink);\n",
              "        }\n",
              "      </script>\n",
              "    </div>\n",
              "  </div>\n",
              "  "
            ]
          },
          "metadata": {},
          "execution_count": 283
        }
      ]
    },
    {
      "cell_type": "markdown",
      "source": [
        "Let's drop the `NAN` rows from both melted datasets:"
      ],
      "metadata": {
        "id": "DtInZtERkcL6"
      }
    },
    {
      "cell_type": "code",
      "source": [
        "cars_annually_melted.dropna(inplace=True)\n",
        "cars_monthly_melted.dropna(inplace=True)\n",
        "print(f'annual dataset shape: {cars_annually_melted.shape}, monthly dataset shape: {cars_monthly_melted.shape}')"
      ],
      "metadata": {
        "colab": {
          "base_uri": "https://localhost:8080/"
        },
        "id": "NrRiACbnkbkx",
        "outputId": "e47dbaaf-b6ac-46bc-c40a-c614c5bf312e"
      },
      "execution_count": 284,
      "outputs": [
        {
          "output_type": "stream",
          "name": "stdout",
          "text": [
            "annual dataset shape: (367, 2), monthly dataset shape: (373, 2)\n"
          ]
        }
      ]
    },
    {
      "cell_type": "markdown",
      "source": [
        "`reset_index` makes the current index `make` a normal column, and generates a new default index. This will allow us to specify `make` as one of the columns to merge the two DataFrames on later."
      ],
      "metadata": {
        "id": "tfiCr_50pQoT"
      }
    },
    {
      "cell_type": "code",
      "source": [
        "cars_annually_reset = cars_annually_melted.reset_index()\n",
        "cars_monthly_reset = cars_monthly_melted.reset_index()\n",
        "print(f'annual dataset columns: {cars_annually_reset.columns}')\n",
        "print(f'monthly dataset columns: {cars_monthly_reset.columns}')"
      ],
      "metadata": {
        "colab": {
          "base_uri": "https://localhost:8080/"
        },
        "id": "nCsoVMmHlhO5",
        "outputId": "8586573e-0923-490f-c332-e68e741bfe33"
      },
      "execution_count": 285,
      "outputs": [
        {
          "output_type": "stream",
          "name": "stdout",
          "text": [
            "annual dataset columns: Index(['make', 'year', 'number'], dtype='object')\n",
            "monthly dataset columns: Index(['make', 'year', 'number'], dtype='object')\n"
          ]
        }
      ]
    },
    {
      "cell_type": "markdown",
      "source": [
        "#### **Performing the merger**\n",
        "\n",
        "With common columns and both datasets in long format, let's perform the merge!"
      ],
      "metadata": {
        "id": "czJUw-6yMnU1"
      }
    },
    {
      "cell_type": "code",
      "source": [
        "cars_merged = pd.merge(cars_annually_reset, cars_monthly_reset, how=\"inner\", on=[\"make\", \"year\"])\n",
        "cars_merged"
      ],
      "metadata": {
        "colab": {
          "base_uri": "https://localhost:8080/",
          "height": 424
        },
        "id": "i2wpq0U_lHRn",
        "outputId": "646c9163-808a-4873-8a8c-34ad932f875e"
      },
      "execution_count": 286,
      "outputs": [
        {
          "output_type": "execute_result",
          "data": {
            "text/plain": [
              "             make  year  number_x  number_y\n",
              "0      ALFA ROMEO  2016      39.0      39.0\n",
              "1          ALPINA  2016      12.0      12.0\n",
              "2    ASTON MARTIN  2016      14.0      14.0\n",
              "3            AUDI  2016    2360.0    2360.0\n",
              "4          B.M.W.  2016    4582.0    4582.0\n",
              "..            ...   ...       ...       ...\n",
              "307        SUZUKI  2021     378.0     378.0\n",
              "308         TESLA  2021     924.0     924.0\n",
              "309        TOYOTA  2021    9633.0    9633.0\n",
              "310    VOLKSWAGEN  2021     915.0     915.0\n",
              "311         VOLVO  2021     510.0     510.0\n",
              "\n",
              "[312 rows x 4 columns]"
            ],
            "text/html": [
              "\n",
              "  <div id=\"df-c476cd54-fcd0-478a-b3b7-e460a3cb2396\">\n",
              "    <div class=\"colab-df-container\">\n",
              "      <div>\n",
              "<style scoped>\n",
              "    .dataframe tbody tr th:only-of-type {\n",
              "        vertical-align: middle;\n",
              "    }\n",
              "\n",
              "    .dataframe tbody tr th {\n",
              "        vertical-align: top;\n",
              "    }\n",
              "\n",
              "    .dataframe thead th {\n",
              "        text-align: right;\n",
              "    }\n",
              "</style>\n",
              "<table border=\"1\" class=\"dataframe\">\n",
              "  <thead>\n",
              "    <tr style=\"text-align: right;\">\n",
              "      <th></th>\n",
              "      <th>make</th>\n",
              "      <th>year</th>\n",
              "      <th>number_x</th>\n",
              "      <th>number_y</th>\n",
              "    </tr>\n",
              "  </thead>\n",
              "  <tbody>\n",
              "    <tr>\n",
              "      <th>0</th>\n",
              "      <td>ALFA ROMEO</td>\n",
              "      <td>2016</td>\n",
              "      <td>39.0</td>\n",
              "      <td>39.0</td>\n",
              "    </tr>\n",
              "    <tr>\n",
              "      <th>1</th>\n",
              "      <td>ALPINA</td>\n",
              "      <td>2016</td>\n",
              "      <td>12.0</td>\n",
              "      <td>12.0</td>\n",
              "    </tr>\n",
              "    <tr>\n",
              "      <th>2</th>\n",
              "      <td>ASTON MARTIN</td>\n",
              "      <td>2016</td>\n",
              "      <td>14.0</td>\n",
              "      <td>14.0</td>\n",
              "    </tr>\n",
              "    <tr>\n",
              "      <th>3</th>\n",
              "      <td>AUDI</td>\n",
              "      <td>2016</td>\n",
              "      <td>2360.0</td>\n",
              "      <td>2360.0</td>\n",
              "    </tr>\n",
              "    <tr>\n",
              "      <th>4</th>\n",
              "      <td>B.M.W.</td>\n",
              "      <td>2016</td>\n",
              "      <td>4582.0</td>\n",
              "      <td>4582.0</td>\n",
              "    </tr>\n",
              "    <tr>\n",
              "      <th>...</th>\n",
              "      <td>...</td>\n",
              "      <td>...</td>\n",
              "      <td>...</td>\n",
              "      <td>...</td>\n",
              "    </tr>\n",
              "    <tr>\n",
              "      <th>307</th>\n",
              "      <td>SUZUKI</td>\n",
              "      <td>2021</td>\n",
              "      <td>378.0</td>\n",
              "      <td>378.0</td>\n",
              "    </tr>\n",
              "    <tr>\n",
              "      <th>308</th>\n",
              "      <td>TESLA</td>\n",
              "      <td>2021</td>\n",
              "      <td>924.0</td>\n",
              "      <td>924.0</td>\n",
              "    </tr>\n",
              "    <tr>\n",
              "      <th>309</th>\n",
              "      <td>TOYOTA</td>\n",
              "      <td>2021</td>\n",
              "      <td>9633.0</td>\n",
              "      <td>9633.0</td>\n",
              "    </tr>\n",
              "    <tr>\n",
              "      <th>310</th>\n",
              "      <td>VOLKSWAGEN</td>\n",
              "      <td>2021</td>\n",
              "      <td>915.0</td>\n",
              "      <td>915.0</td>\n",
              "    </tr>\n",
              "    <tr>\n",
              "      <th>311</th>\n",
              "      <td>VOLVO</td>\n",
              "      <td>2021</td>\n",
              "      <td>510.0</td>\n",
              "      <td>510.0</td>\n",
              "    </tr>\n",
              "  </tbody>\n",
              "</table>\n",
              "<p>312 rows × 4 columns</p>\n",
              "</div>\n",
              "      <button class=\"colab-df-convert\" onclick=\"convertToInteractive('df-c476cd54-fcd0-478a-b3b7-e460a3cb2396')\"\n",
              "              title=\"Convert this dataframe to an interactive table.\"\n",
              "              style=\"display:none;\">\n",
              "        \n",
              "  <svg xmlns=\"http://www.w3.org/2000/svg\" height=\"24px\"viewBox=\"0 0 24 24\"\n",
              "       width=\"24px\">\n",
              "    <path d=\"M0 0h24v24H0V0z\" fill=\"none\"/>\n",
              "    <path d=\"M18.56 5.44l.94 2.06.94-2.06 2.06-.94-2.06-.94-.94-2.06-.94 2.06-2.06.94zm-11 1L8.5 8.5l.94-2.06 2.06-.94-2.06-.94L8.5 2.5l-.94 2.06-2.06.94zm10 10l.94 2.06.94-2.06 2.06-.94-2.06-.94-.94-2.06-.94 2.06-2.06.94z\"/><path d=\"M17.41 7.96l-1.37-1.37c-.4-.4-.92-.59-1.43-.59-.52 0-1.04.2-1.43.59L10.3 9.45l-7.72 7.72c-.78.78-.78 2.05 0 2.83L4 21.41c.39.39.9.59 1.41.59.51 0 1.02-.2 1.41-.59l7.78-7.78 2.81-2.81c.8-.78.8-2.07 0-2.86zM5.41 20L4 18.59l7.72-7.72 1.47 1.35L5.41 20z\"/>\n",
              "  </svg>\n",
              "      </button>\n",
              "      \n",
              "  <style>\n",
              "    .colab-df-container {\n",
              "      display:flex;\n",
              "      flex-wrap:wrap;\n",
              "      gap: 12px;\n",
              "    }\n",
              "\n",
              "    .colab-df-convert {\n",
              "      background-color: #E8F0FE;\n",
              "      border: none;\n",
              "      border-radius: 50%;\n",
              "      cursor: pointer;\n",
              "      display: none;\n",
              "      fill: #1967D2;\n",
              "      height: 32px;\n",
              "      padding: 0 0 0 0;\n",
              "      width: 32px;\n",
              "    }\n",
              "\n",
              "    .colab-df-convert:hover {\n",
              "      background-color: #E2EBFA;\n",
              "      box-shadow: 0px 1px 2px rgba(60, 64, 67, 0.3), 0px 1px 3px 1px rgba(60, 64, 67, 0.15);\n",
              "      fill: #174EA6;\n",
              "    }\n",
              "\n",
              "    [theme=dark] .colab-df-convert {\n",
              "      background-color: #3B4455;\n",
              "      fill: #D2E3FC;\n",
              "    }\n",
              "\n",
              "    [theme=dark] .colab-df-convert:hover {\n",
              "      background-color: #434B5C;\n",
              "      box-shadow: 0px 1px 3px 1px rgba(0, 0, 0, 0.15);\n",
              "      filter: drop-shadow(0px 1px 2px rgba(0, 0, 0, 0.3));\n",
              "      fill: #FFFFFF;\n",
              "    }\n",
              "  </style>\n",
              "\n",
              "      <script>\n",
              "        const buttonEl =\n",
              "          document.querySelector('#df-c476cd54-fcd0-478a-b3b7-e460a3cb2396 button.colab-df-convert');\n",
              "        buttonEl.style.display =\n",
              "          google.colab.kernel.accessAllowed ? 'block' : 'none';\n",
              "\n",
              "        async function convertToInteractive(key) {\n",
              "          const element = document.querySelector('#df-c476cd54-fcd0-478a-b3b7-e460a3cb2396');\n",
              "          const dataTable =\n",
              "            await google.colab.kernel.invokeFunction('convertToInteractive',\n",
              "                                                     [key], {});\n",
              "          if (!dataTable) return;\n",
              "\n",
              "          const docLinkHtml = 'Like what you see? Visit the ' +\n",
              "            '<a target=\"_blank\" href=https://colab.research.google.com/notebooks/data_table.ipynb>data table notebook</a>'\n",
              "            + ' to learn more about interactive tables.';\n",
              "          element.innerHTML = '';\n",
              "          dataTable['output_type'] = 'display_data';\n",
              "          await google.colab.output.renderOutput(dataTable, element);\n",
              "          const docLink = document.createElement('div');\n",
              "          docLink.innerHTML = docLinkHtml;\n",
              "          element.appendChild(docLink);\n",
              "        }\n",
              "      </script>\n",
              "    </div>\n",
              "  </div>\n",
              "  "
            ]
          },
          "metadata": {},
          "execution_count": 286
        }
      ]
    },
    {
      "cell_type": "markdown",
      "source": [
        "#### **Using merge results**\n",
        "\n",
        "`number_x` corresponds to the `number` values from the \"left\" DataFrame `cars_annually_melted`, while `number_y` corresponds to the `number` values from the \"right\" DataFrame `cars_monthly_melted`. We can now compare if the two sets of values are identical for every make-year pair:"
      ],
      "metadata": {
        "id": "K1E5ddVxMzCu"
      }
    },
    {
      "cell_type": "code",
      "source": [
        "cars_merged.number_x == cars_merged.number_y"
      ],
      "metadata": {
        "colab": {
          "base_uri": "https://localhost:8080/"
        },
        "id": "dXqdjD5_oQ6t",
        "outputId": "943ce4ad-c1d0-4708-b217-c1f2577e2b2d"
      },
      "execution_count": 287,
      "outputs": [
        {
          "output_type": "execute_result",
          "data": {
            "text/plain": [
              "0      True\n",
              "1      True\n",
              "2      True\n",
              "3      True\n",
              "4      True\n",
              "       ... \n",
              "307    True\n",
              "308    True\n",
              "309    True\n",
              "310    True\n",
              "311    True\n",
              "Length: 312, dtype: bool"
            ]
          },
          "metadata": {},
          "execution_count": 287
        }
      ]
    },
    {
      "cell_type": "markdown",
      "source": [
        "Recall the NumPy's `all` universal function? Let's use it to check if the two numbers are the same for every row:"
      ],
      "metadata": {
        "id": "stk3whNBqloE"
      }
    },
    {
      "cell_type": "code",
      "source": [
        "np.all(cars_merged.number_x == cars_merged.number_y)"
      ],
      "metadata": {
        "colab": {
          "base_uri": "https://localhost:8080/"
        },
        "id": "QRmxm9qUowX1",
        "outputId": "a8e49bc4-2f52-4661-de06-65b2ffc2aeaf"
      },
      "execution_count": 288,
      "outputs": [
        {
          "output_type": "execute_result",
          "data": {
            "text/plain": [
              "False"
            ]
          },
          "metadata": {},
          "execution_count": 288
        }
      ]
    },
    {
      "cell_type": "markdown",
      "source": [
        "Not the case! Use conditional subsetting to see which rows are different:"
      ],
      "metadata": {
        "id": "PIS8Vd2yqzOf"
      }
    },
    {
      "cell_type": "code",
      "source": [
        "cars_merged[cars_merged.number_x != cars_merged.number_y]"
      ],
      "metadata": {
        "colab": {
          "base_uri": "https://localhost:8080/",
          "height": 81
        },
        "id": "_sKxU3wmo1U3",
        "outputId": "de248a03-4a15-4d3a-88a4-64302f9237c9"
      },
      "execution_count": 289,
      "outputs": [
        {
          "output_type": "execute_result",
          "data": {
            "text/plain": [
              "       make  year  number_x  number_y\n",
              "85  Mclaren  2017      10.0       2.0"
            ],
            "text/html": [
              "\n",
              "  <div id=\"df-aee16bfb-978f-43b4-adb8-a5d5da4cfdd0\">\n",
              "    <div class=\"colab-df-container\">\n",
              "      <div>\n",
              "<style scoped>\n",
              "    .dataframe tbody tr th:only-of-type {\n",
              "        vertical-align: middle;\n",
              "    }\n",
              "\n",
              "    .dataframe tbody tr th {\n",
              "        vertical-align: top;\n",
              "    }\n",
              "\n",
              "    .dataframe thead th {\n",
              "        text-align: right;\n",
              "    }\n",
              "</style>\n",
              "<table border=\"1\" class=\"dataframe\">\n",
              "  <thead>\n",
              "    <tr style=\"text-align: right;\">\n",
              "      <th></th>\n",
              "      <th>make</th>\n",
              "      <th>year</th>\n",
              "      <th>number_x</th>\n",
              "      <th>number_y</th>\n",
              "    </tr>\n",
              "  </thead>\n",
              "  <tbody>\n",
              "    <tr>\n",
              "      <th>85</th>\n",
              "      <td>Mclaren</td>\n",
              "      <td>2017</td>\n",
              "      <td>10.0</td>\n",
              "      <td>2.0</td>\n",
              "    </tr>\n",
              "  </tbody>\n",
              "</table>\n",
              "</div>\n",
              "      <button class=\"colab-df-convert\" onclick=\"convertToInteractive('df-aee16bfb-978f-43b4-adb8-a5d5da4cfdd0')\"\n",
              "              title=\"Convert this dataframe to an interactive table.\"\n",
              "              style=\"display:none;\">\n",
              "        \n",
              "  <svg xmlns=\"http://www.w3.org/2000/svg\" height=\"24px\"viewBox=\"0 0 24 24\"\n",
              "       width=\"24px\">\n",
              "    <path d=\"M0 0h24v24H0V0z\" fill=\"none\"/>\n",
              "    <path d=\"M18.56 5.44l.94 2.06.94-2.06 2.06-.94-2.06-.94-.94-2.06-.94 2.06-2.06.94zm-11 1L8.5 8.5l.94-2.06 2.06-.94-2.06-.94L8.5 2.5l-.94 2.06-2.06.94zm10 10l.94 2.06.94-2.06 2.06-.94-2.06-.94-.94-2.06-.94 2.06-2.06.94z\"/><path d=\"M17.41 7.96l-1.37-1.37c-.4-.4-.92-.59-1.43-.59-.52 0-1.04.2-1.43.59L10.3 9.45l-7.72 7.72c-.78.78-.78 2.05 0 2.83L4 21.41c.39.39.9.59 1.41.59.51 0 1.02-.2 1.41-.59l7.78-7.78 2.81-2.81c.8-.78.8-2.07 0-2.86zM5.41 20L4 18.59l7.72-7.72 1.47 1.35L5.41 20z\"/>\n",
              "  </svg>\n",
              "      </button>\n",
              "      \n",
              "  <style>\n",
              "    .colab-df-container {\n",
              "      display:flex;\n",
              "      flex-wrap:wrap;\n",
              "      gap: 12px;\n",
              "    }\n",
              "\n",
              "    .colab-df-convert {\n",
              "      background-color: #E8F0FE;\n",
              "      border: none;\n",
              "      border-radius: 50%;\n",
              "      cursor: pointer;\n",
              "      display: none;\n",
              "      fill: #1967D2;\n",
              "      height: 32px;\n",
              "      padding: 0 0 0 0;\n",
              "      width: 32px;\n",
              "    }\n",
              "\n",
              "    .colab-df-convert:hover {\n",
              "      background-color: #E2EBFA;\n",
              "      box-shadow: 0px 1px 2px rgba(60, 64, 67, 0.3), 0px 1px 3px 1px rgba(60, 64, 67, 0.15);\n",
              "      fill: #174EA6;\n",
              "    }\n",
              "\n",
              "    [theme=dark] .colab-df-convert {\n",
              "      background-color: #3B4455;\n",
              "      fill: #D2E3FC;\n",
              "    }\n",
              "\n",
              "    [theme=dark] .colab-df-convert:hover {\n",
              "      background-color: #434B5C;\n",
              "      box-shadow: 0px 1px 3px 1px rgba(0, 0, 0, 0.15);\n",
              "      filter: drop-shadow(0px 1px 2px rgba(0, 0, 0, 0.3));\n",
              "      fill: #FFFFFF;\n",
              "    }\n",
              "  </style>\n",
              "\n",
              "      <script>\n",
              "        const buttonEl =\n",
              "          document.querySelector('#df-aee16bfb-978f-43b4-adb8-a5d5da4cfdd0 button.colab-df-convert');\n",
              "        buttonEl.style.display =\n",
              "          google.colab.kernel.accessAllowed ? 'block' : 'none';\n",
              "\n",
              "        async function convertToInteractive(key) {\n",
              "          const element = document.querySelector('#df-aee16bfb-978f-43b4-adb8-a5d5da4cfdd0');\n",
              "          const dataTable =\n",
              "            await google.colab.kernel.invokeFunction('convertToInteractive',\n",
              "                                                     [key], {});\n",
              "          if (!dataTable) return;\n",
              "\n",
              "          const docLinkHtml = 'Like what you see? Visit the ' +\n",
              "            '<a target=\"_blank\" href=https://colab.research.google.com/notebooks/data_table.ipynb>data table notebook</a>'\n",
              "            + ' to learn more about interactive tables.';\n",
              "          element.innerHTML = '';\n",
              "          dataTable['output_type'] = 'display_data';\n",
              "          await google.colab.output.renderOutput(dataTable, element);\n",
              "          const docLink = document.createElement('div');\n",
              "          docLink.innerHTML = docLinkHtml;\n",
              "          element.appendChild(docLink);\n",
              "        }\n",
              "      </script>\n",
              "    </div>\n",
              "  </div>\n",
              "  "
            ]
          },
          "metadata": {},
          "execution_count": 289
        }
      ]
    },
    {
      "cell_type": "markdown",
      "source": [
        "This is something we can report to Singapore's Land Transport Authority (LTA). Good job LTA on keeping the vast majority of the records consistent!"
      ],
      "metadata": {
        "id": "3fOw4KW1rAOz"
      }
    },
    {
      "cell_type": "markdown",
      "source": [
        "### 3.3.5. Concatenating data\n",
        "\n",
        "Sometimes we get datasets in batches and need to combine them into a single dataset for analysis. Pandas' `concat` is here to help!"
      ],
      "metadata": {
        "id": "W060R5yXNmvF"
      }
    },
    {
      "cell_type": "markdown",
      "source": [
        "#### **Row-wise concatenation**\n",
        "\n",
        "Let's append to the annually cars registration data with the 2022 data from the monthly dataset:"
      ],
      "metadata": {
        "id": "ZbQB6YbiQ1TP"
      }
    },
    {
      "cell_type": "code",
      "source": [
        "cars_2022_partial = cars_monthly_reset[cars_monthly_reset.year == 2022]\n",
        "cars_annual_with_2022 = pd.concat([cars_annually_reset, cars_2022_partial], ignore_index=True)\n",
        "cars_annual_with_2022"
      ],
      "metadata": {
        "colab": {
          "base_uri": "https://localhost:8080/",
          "height": 424
        },
        "id": "Mccj31eoRV16",
        "outputId": "abcb6d28-2752-4a9c-841d-6c67b2032d4f"
      },
      "execution_count": 290,
      "outputs": [
        {
          "output_type": "execute_result",
          "data": {
            "text/plain": [
              "             make  year  number\n",
              "0      ALFA ROMEO  2015    31.0\n",
              "1          ALPINA  2015     9.0\n",
              "2    ASTON MARTIN  2015     5.0\n",
              "3            AUDI  2015  2093.0\n",
              "4          AUSTIN  2015     2.0\n",
              "..            ...   ...     ...\n",
              "418         TESLA  2022   315.0\n",
              "419        TOYOTA  2022  3545.0\n",
              "420       TRIUMPH  2022     2.0\n",
              "421    VOLKSWAGEN  2022   241.0\n",
              "422         VOLVO  2022   185.0\n",
              "\n",
              "[423 rows x 3 columns]"
            ],
            "text/html": [
              "\n",
              "  <div id=\"df-38b8e897-08ae-4403-956a-9f553a148d9d\">\n",
              "    <div class=\"colab-df-container\">\n",
              "      <div>\n",
              "<style scoped>\n",
              "    .dataframe tbody tr th:only-of-type {\n",
              "        vertical-align: middle;\n",
              "    }\n",
              "\n",
              "    .dataframe tbody tr th {\n",
              "        vertical-align: top;\n",
              "    }\n",
              "\n",
              "    .dataframe thead th {\n",
              "        text-align: right;\n",
              "    }\n",
              "</style>\n",
              "<table border=\"1\" class=\"dataframe\">\n",
              "  <thead>\n",
              "    <tr style=\"text-align: right;\">\n",
              "      <th></th>\n",
              "      <th>make</th>\n",
              "      <th>year</th>\n",
              "      <th>number</th>\n",
              "    </tr>\n",
              "  </thead>\n",
              "  <tbody>\n",
              "    <tr>\n",
              "      <th>0</th>\n",
              "      <td>ALFA ROMEO</td>\n",
              "      <td>2015</td>\n",
              "      <td>31.0</td>\n",
              "    </tr>\n",
              "    <tr>\n",
              "      <th>1</th>\n",
              "      <td>ALPINA</td>\n",
              "      <td>2015</td>\n",
              "      <td>9.0</td>\n",
              "    </tr>\n",
              "    <tr>\n",
              "      <th>2</th>\n",
              "      <td>ASTON MARTIN</td>\n",
              "      <td>2015</td>\n",
              "      <td>5.0</td>\n",
              "    </tr>\n",
              "    <tr>\n",
              "      <th>3</th>\n",
              "      <td>AUDI</td>\n",
              "      <td>2015</td>\n",
              "      <td>2093.0</td>\n",
              "    </tr>\n",
              "    <tr>\n",
              "      <th>4</th>\n",
              "      <td>AUSTIN</td>\n",
              "      <td>2015</td>\n",
              "      <td>2.0</td>\n",
              "    </tr>\n",
              "    <tr>\n",
              "      <th>...</th>\n",
              "      <td>...</td>\n",
              "      <td>...</td>\n",
              "      <td>...</td>\n",
              "    </tr>\n",
              "    <tr>\n",
              "      <th>418</th>\n",
              "      <td>TESLA</td>\n",
              "      <td>2022</td>\n",
              "      <td>315.0</td>\n",
              "    </tr>\n",
              "    <tr>\n",
              "      <th>419</th>\n",
              "      <td>TOYOTA</td>\n",
              "      <td>2022</td>\n",
              "      <td>3545.0</td>\n",
              "    </tr>\n",
              "    <tr>\n",
              "      <th>420</th>\n",
              "      <td>TRIUMPH</td>\n",
              "      <td>2022</td>\n",
              "      <td>2.0</td>\n",
              "    </tr>\n",
              "    <tr>\n",
              "      <th>421</th>\n",
              "      <td>VOLKSWAGEN</td>\n",
              "      <td>2022</td>\n",
              "      <td>241.0</td>\n",
              "    </tr>\n",
              "    <tr>\n",
              "      <th>422</th>\n",
              "      <td>VOLVO</td>\n",
              "      <td>2022</td>\n",
              "      <td>185.0</td>\n",
              "    </tr>\n",
              "  </tbody>\n",
              "</table>\n",
              "<p>423 rows × 3 columns</p>\n",
              "</div>\n",
              "      <button class=\"colab-df-convert\" onclick=\"convertToInteractive('df-38b8e897-08ae-4403-956a-9f553a148d9d')\"\n",
              "              title=\"Convert this dataframe to an interactive table.\"\n",
              "              style=\"display:none;\">\n",
              "        \n",
              "  <svg xmlns=\"http://www.w3.org/2000/svg\" height=\"24px\"viewBox=\"0 0 24 24\"\n",
              "       width=\"24px\">\n",
              "    <path d=\"M0 0h24v24H0V0z\" fill=\"none\"/>\n",
              "    <path d=\"M18.56 5.44l.94 2.06.94-2.06 2.06-.94-2.06-.94-.94-2.06-.94 2.06-2.06.94zm-11 1L8.5 8.5l.94-2.06 2.06-.94-2.06-.94L8.5 2.5l-.94 2.06-2.06.94zm10 10l.94 2.06.94-2.06 2.06-.94-2.06-.94-.94-2.06-.94 2.06-2.06.94z\"/><path d=\"M17.41 7.96l-1.37-1.37c-.4-.4-.92-.59-1.43-.59-.52 0-1.04.2-1.43.59L10.3 9.45l-7.72 7.72c-.78.78-.78 2.05 0 2.83L4 21.41c.39.39.9.59 1.41.59.51 0 1.02-.2 1.41-.59l7.78-7.78 2.81-2.81c.8-.78.8-2.07 0-2.86zM5.41 20L4 18.59l7.72-7.72 1.47 1.35L5.41 20z\"/>\n",
              "  </svg>\n",
              "      </button>\n",
              "      \n",
              "  <style>\n",
              "    .colab-df-container {\n",
              "      display:flex;\n",
              "      flex-wrap:wrap;\n",
              "      gap: 12px;\n",
              "    }\n",
              "\n",
              "    .colab-df-convert {\n",
              "      background-color: #E8F0FE;\n",
              "      border: none;\n",
              "      border-radius: 50%;\n",
              "      cursor: pointer;\n",
              "      display: none;\n",
              "      fill: #1967D2;\n",
              "      height: 32px;\n",
              "      padding: 0 0 0 0;\n",
              "      width: 32px;\n",
              "    }\n",
              "\n",
              "    .colab-df-convert:hover {\n",
              "      background-color: #E2EBFA;\n",
              "      box-shadow: 0px 1px 2px rgba(60, 64, 67, 0.3), 0px 1px 3px 1px rgba(60, 64, 67, 0.15);\n",
              "      fill: #174EA6;\n",
              "    }\n",
              "\n",
              "    [theme=dark] .colab-df-convert {\n",
              "      background-color: #3B4455;\n",
              "      fill: #D2E3FC;\n",
              "    }\n",
              "\n",
              "    [theme=dark] .colab-df-convert:hover {\n",
              "      background-color: #434B5C;\n",
              "      box-shadow: 0px 1px 3px 1px rgba(0, 0, 0, 0.15);\n",
              "      filter: drop-shadow(0px 1px 2px rgba(0, 0, 0, 0.3));\n",
              "      fill: #FFFFFF;\n",
              "    }\n",
              "  </style>\n",
              "\n",
              "      <script>\n",
              "        const buttonEl =\n",
              "          document.querySelector('#df-38b8e897-08ae-4403-956a-9f553a148d9d button.colab-df-convert');\n",
              "        buttonEl.style.display =\n",
              "          google.colab.kernel.accessAllowed ? 'block' : 'none';\n",
              "\n",
              "        async function convertToInteractive(key) {\n",
              "          const element = document.querySelector('#df-38b8e897-08ae-4403-956a-9f553a148d9d');\n",
              "          const dataTable =\n",
              "            await google.colab.kernel.invokeFunction('convertToInteractive',\n",
              "                                                     [key], {});\n",
              "          if (!dataTable) return;\n",
              "\n",
              "          const docLinkHtml = 'Like what you see? Visit the ' +\n",
              "            '<a target=\"_blank\" href=https://colab.research.google.com/notebooks/data_table.ipynb>data table notebook</a>'\n",
              "            + ' to learn more about interactive tables.';\n",
              "          element.innerHTML = '';\n",
              "          dataTable['output_type'] = 'display_data';\n",
              "          await google.colab.output.renderOutput(dataTable, element);\n",
              "          const docLink = document.createElement('div');\n",
              "          docLink.innerHTML = docLinkHtml;\n",
              "          element.appendChild(docLink);\n",
              "        }\n",
              "      </script>\n",
              "    </div>\n",
              "  </div>\n",
              "  "
            ]
          },
          "metadata": {},
          "execution_count": 290
        }
      ]
    },
    {
      "cell_type": "code",
      "source": [
        "cars_annual_with_2022.year.unique()"
      ],
      "metadata": {
        "colab": {
          "base_uri": "https://localhost:8080/"
        },
        "id": "bVPWlueATtqw",
        "outputId": "62b5e8a4-d007-4eec-d9d6-55e5d29f7004"
      },
      "execution_count": 291,
      "outputs": [
        {
          "output_type": "execute_result",
          "data": {
            "text/plain": [
              "array([2015, 2016, 2017, 2018, 2019, 2020, 2021, 2022])"
            ]
          },
          "metadata": {},
          "execution_count": 291
        }
      ]
    },
    {
      "cell_type": "markdown",
      "source": [
        "#### **Column-wise concatenation**\n",
        "\n",
        "If batches of data are split column wise, we can specify `axis=1` for column-wise concatenation. \n",
        "\n",
        "To demonstrate this, let's first create a DataFrame with a `final` column to indicate if the data is finalized. It would be false for all 2022 data:"
      ],
      "metadata": {
        "id": "AU8J5B-UUFob"
      }
    },
    {
      "cell_type": "code",
      "source": [
        "finalized = cars_annual_with_2022.year != 2022\n",
        "cars_annual_finalized = pd.DataFrame({'final': finalized})\n",
        "cars_annual_finalized"
      ],
      "metadata": {
        "colab": {
          "base_uri": "https://localhost:8080/",
          "height": 424
        },
        "id": "TrBRPqF1Vj5O",
        "outputId": "2eeaaa2b-6c3c-48e3-a6bc-12f7cd50a8f4"
      },
      "execution_count": 292,
      "outputs": [
        {
          "output_type": "execute_result",
          "data": {
            "text/plain": [
              "     final\n",
              "0     True\n",
              "1     True\n",
              "2     True\n",
              "3     True\n",
              "4     True\n",
              "..     ...\n",
              "418  False\n",
              "419  False\n",
              "420  False\n",
              "421  False\n",
              "422  False\n",
              "\n",
              "[423 rows x 1 columns]"
            ],
            "text/html": [
              "\n",
              "  <div id=\"df-7025cea7-2607-4483-879d-ac7d0f5bd66a\">\n",
              "    <div class=\"colab-df-container\">\n",
              "      <div>\n",
              "<style scoped>\n",
              "    .dataframe tbody tr th:only-of-type {\n",
              "        vertical-align: middle;\n",
              "    }\n",
              "\n",
              "    .dataframe tbody tr th {\n",
              "        vertical-align: top;\n",
              "    }\n",
              "\n",
              "    .dataframe thead th {\n",
              "        text-align: right;\n",
              "    }\n",
              "</style>\n",
              "<table border=\"1\" class=\"dataframe\">\n",
              "  <thead>\n",
              "    <tr style=\"text-align: right;\">\n",
              "      <th></th>\n",
              "      <th>final</th>\n",
              "    </tr>\n",
              "  </thead>\n",
              "  <tbody>\n",
              "    <tr>\n",
              "      <th>0</th>\n",
              "      <td>True</td>\n",
              "    </tr>\n",
              "    <tr>\n",
              "      <th>1</th>\n",
              "      <td>True</td>\n",
              "    </tr>\n",
              "    <tr>\n",
              "      <th>2</th>\n",
              "      <td>True</td>\n",
              "    </tr>\n",
              "    <tr>\n",
              "      <th>3</th>\n",
              "      <td>True</td>\n",
              "    </tr>\n",
              "    <tr>\n",
              "      <th>4</th>\n",
              "      <td>True</td>\n",
              "    </tr>\n",
              "    <tr>\n",
              "      <th>...</th>\n",
              "      <td>...</td>\n",
              "    </tr>\n",
              "    <tr>\n",
              "      <th>418</th>\n",
              "      <td>False</td>\n",
              "    </tr>\n",
              "    <tr>\n",
              "      <th>419</th>\n",
              "      <td>False</td>\n",
              "    </tr>\n",
              "    <tr>\n",
              "      <th>420</th>\n",
              "      <td>False</td>\n",
              "    </tr>\n",
              "    <tr>\n",
              "      <th>421</th>\n",
              "      <td>False</td>\n",
              "    </tr>\n",
              "    <tr>\n",
              "      <th>422</th>\n",
              "      <td>False</td>\n",
              "    </tr>\n",
              "  </tbody>\n",
              "</table>\n",
              "<p>423 rows × 1 columns</p>\n",
              "</div>\n",
              "      <button class=\"colab-df-convert\" onclick=\"convertToInteractive('df-7025cea7-2607-4483-879d-ac7d0f5bd66a')\"\n",
              "              title=\"Convert this dataframe to an interactive table.\"\n",
              "              style=\"display:none;\">\n",
              "        \n",
              "  <svg xmlns=\"http://www.w3.org/2000/svg\" height=\"24px\"viewBox=\"0 0 24 24\"\n",
              "       width=\"24px\">\n",
              "    <path d=\"M0 0h24v24H0V0z\" fill=\"none\"/>\n",
              "    <path d=\"M18.56 5.44l.94 2.06.94-2.06 2.06-.94-2.06-.94-.94-2.06-.94 2.06-2.06.94zm-11 1L8.5 8.5l.94-2.06 2.06-.94-2.06-.94L8.5 2.5l-.94 2.06-2.06.94zm10 10l.94 2.06.94-2.06 2.06-.94-2.06-.94-.94-2.06-.94 2.06-2.06.94z\"/><path d=\"M17.41 7.96l-1.37-1.37c-.4-.4-.92-.59-1.43-.59-.52 0-1.04.2-1.43.59L10.3 9.45l-7.72 7.72c-.78.78-.78 2.05 0 2.83L4 21.41c.39.39.9.59 1.41.59.51 0 1.02-.2 1.41-.59l7.78-7.78 2.81-2.81c.8-.78.8-2.07 0-2.86zM5.41 20L4 18.59l7.72-7.72 1.47 1.35L5.41 20z\"/>\n",
              "  </svg>\n",
              "      </button>\n",
              "      \n",
              "  <style>\n",
              "    .colab-df-container {\n",
              "      display:flex;\n",
              "      flex-wrap:wrap;\n",
              "      gap: 12px;\n",
              "    }\n",
              "\n",
              "    .colab-df-convert {\n",
              "      background-color: #E8F0FE;\n",
              "      border: none;\n",
              "      border-radius: 50%;\n",
              "      cursor: pointer;\n",
              "      display: none;\n",
              "      fill: #1967D2;\n",
              "      height: 32px;\n",
              "      padding: 0 0 0 0;\n",
              "      width: 32px;\n",
              "    }\n",
              "\n",
              "    .colab-df-convert:hover {\n",
              "      background-color: #E2EBFA;\n",
              "      box-shadow: 0px 1px 2px rgba(60, 64, 67, 0.3), 0px 1px 3px 1px rgba(60, 64, 67, 0.15);\n",
              "      fill: #174EA6;\n",
              "    }\n",
              "\n",
              "    [theme=dark] .colab-df-convert {\n",
              "      background-color: #3B4455;\n",
              "      fill: #D2E3FC;\n",
              "    }\n",
              "\n",
              "    [theme=dark] .colab-df-convert:hover {\n",
              "      background-color: #434B5C;\n",
              "      box-shadow: 0px 1px 3px 1px rgba(0, 0, 0, 0.15);\n",
              "      filter: drop-shadow(0px 1px 2px rgba(0, 0, 0, 0.3));\n",
              "      fill: #FFFFFF;\n",
              "    }\n",
              "  </style>\n",
              "\n",
              "      <script>\n",
              "        const buttonEl =\n",
              "          document.querySelector('#df-7025cea7-2607-4483-879d-ac7d0f5bd66a button.colab-df-convert');\n",
              "        buttonEl.style.display =\n",
              "          google.colab.kernel.accessAllowed ? 'block' : 'none';\n",
              "\n",
              "        async function convertToInteractive(key) {\n",
              "          const element = document.querySelector('#df-7025cea7-2607-4483-879d-ac7d0f5bd66a');\n",
              "          const dataTable =\n",
              "            await google.colab.kernel.invokeFunction('convertToInteractive',\n",
              "                                                     [key], {});\n",
              "          if (!dataTable) return;\n",
              "\n",
              "          const docLinkHtml = 'Like what you see? Visit the ' +\n",
              "            '<a target=\"_blank\" href=https://colab.research.google.com/notebooks/data_table.ipynb>data table notebook</a>'\n",
              "            + ' to learn more about interactive tables.';\n",
              "          element.innerHTML = '';\n",
              "          dataTable['output_type'] = 'display_data';\n",
              "          await google.colab.output.renderOutput(dataTable, element);\n",
              "          const docLink = document.createElement('div');\n",
              "          docLink.innerHTML = docLinkHtml;\n",
              "          element.appendChild(docLink);\n",
              "        }\n",
              "      </script>\n",
              "    </div>\n",
              "  </div>\n",
              "  "
            ]
          },
          "metadata": {},
          "execution_count": 292
        }
      ]
    },
    {
      "cell_type": "markdown",
      "source": [
        "To perform column-wise concatenation:"
      ],
      "metadata": {
        "id": "sVZyeGI2WW7a"
      }
    },
    {
      "cell_type": "code",
      "source": [
        "pd.concat([cars_annual_with_2022, cars_annual_finalized], axis=1)"
      ],
      "metadata": {
        "colab": {
          "base_uri": "https://localhost:8080/",
          "height": 424
        },
        "id": "ukaM3eDOWetn",
        "outputId": "1d7f7fe4-1746-4d89-b29e-cae17076be5a"
      },
      "execution_count": 293,
      "outputs": [
        {
          "output_type": "execute_result",
          "data": {
            "text/plain": [
              "             make  year  number  final\n",
              "0      ALFA ROMEO  2015    31.0   True\n",
              "1          ALPINA  2015     9.0   True\n",
              "2    ASTON MARTIN  2015     5.0   True\n",
              "3            AUDI  2015  2093.0   True\n",
              "4          AUSTIN  2015     2.0   True\n",
              "..            ...   ...     ...    ...\n",
              "418         TESLA  2022   315.0  False\n",
              "419        TOYOTA  2022  3545.0  False\n",
              "420       TRIUMPH  2022     2.0  False\n",
              "421    VOLKSWAGEN  2022   241.0  False\n",
              "422         VOLVO  2022   185.0  False\n",
              "\n",
              "[423 rows x 4 columns]"
            ],
            "text/html": [
              "\n",
              "  <div id=\"df-b12fb1c3-d1fd-4065-8282-53ac6a829848\">\n",
              "    <div class=\"colab-df-container\">\n",
              "      <div>\n",
              "<style scoped>\n",
              "    .dataframe tbody tr th:only-of-type {\n",
              "        vertical-align: middle;\n",
              "    }\n",
              "\n",
              "    .dataframe tbody tr th {\n",
              "        vertical-align: top;\n",
              "    }\n",
              "\n",
              "    .dataframe thead th {\n",
              "        text-align: right;\n",
              "    }\n",
              "</style>\n",
              "<table border=\"1\" class=\"dataframe\">\n",
              "  <thead>\n",
              "    <tr style=\"text-align: right;\">\n",
              "      <th></th>\n",
              "      <th>make</th>\n",
              "      <th>year</th>\n",
              "      <th>number</th>\n",
              "      <th>final</th>\n",
              "    </tr>\n",
              "  </thead>\n",
              "  <tbody>\n",
              "    <tr>\n",
              "      <th>0</th>\n",
              "      <td>ALFA ROMEO</td>\n",
              "      <td>2015</td>\n",
              "      <td>31.0</td>\n",
              "      <td>True</td>\n",
              "    </tr>\n",
              "    <tr>\n",
              "      <th>1</th>\n",
              "      <td>ALPINA</td>\n",
              "      <td>2015</td>\n",
              "      <td>9.0</td>\n",
              "      <td>True</td>\n",
              "    </tr>\n",
              "    <tr>\n",
              "      <th>2</th>\n",
              "      <td>ASTON MARTIN</td>\n",
              "      <td>2015</td>\n",
              "      <td>5.0</td>\n",
              "      <td>True</td>\n",
              "    </tr>\n",
              "    <tr>\n",
              "      <th>3</th>\n",
              "      <td>AUDI</td>\n",
              "      <td>2015</td>\n",
              "      <td>2093.0</td>\n",
              "      <td>True</td>\n",
              "    </tr>\n",
              "    <tr>\n",
              "      <th>4</th>\n",
              "      <td>AUSTIN</td>\n",
              "      <td>2015</td>\n",
              "      <td>2.0</td>\n",
              "      <td>True</td>\n",
              "    </tr>\n",
              "    <tr>\n",
              "      <th>...</th>\n",
              "      <td>...</td>\n",
              "      <td>...</td>\n",
              "      <td>...</td>\n",
              "      <td>...</td>\n",
              "    </tr>\n",
              "    <tr>\n",
              "      <th>418</th>\n",
              "      <td>TESLA</td>\n",
              "      <td>2022</td>\n",
              "      <td>315.0</td>\n",
              "      <td>False</td>\n",
              "    </tr>\n",
              "    <tr>\n",
              "      <th>419</th>\n",
              "      <td>TOYOTA</td>\n",
              "      <td>2022</td>\n",
              "      <td>3545.0</td>\n",
              "      <td>False</td>\n",
              "    </tr>\n",
              "    <tr>\n",
              "      <th>420</th>\n",
              "      <td>TRIUMPH</td>\n",
              "      <td>2022</td>\n",
              "      <td>2.0</td>\n",
              "      <td>False</td>\n",
              "    </tr>\n",
              "    <tr>\n",
              "      <th>421</th>\n",
              "      <td>VOLKSWAGEN</td>\n",
              "      <td>2022</td>\n",
              "      <td>241.0</td>\n",
              "      <td>False</td>\n",
              "    </tr>\n",
              "    <tr>\n",
              "      <th>422</th>\n",
              "      <td>VOLVO</td>\n",
              "      <td>2022</td>\n",
              "      <td>185.0</td>\n",
              "      <td>False</td>\n",
              "    </tr>\n",
              "  </tbody>\n",
              "</table>\n",
              "<p>423 rows × 4 columns</p>\n",
              "</div>\n",
              "      <button class=\"colab-df-convert\" onclick=\"convertToInteractive('df-b12fb1c3-d1fd-4065-8282-53ac6a829848')\"\n",
              "              title=\"Convert this dataframe to an interactive table.\"\n",
              "              style=\"display:none;\">\n",
              "        \n",
              "  <svg xmlns=\"http://www.w3.org/2000/svg\" height=\"24px\"viewBox=\"0 0 24 24\"\n",
              "       width=\"24px\">\n",
              "    <path d=\"M0 0h24v24H0V0z\" fill=\"none\"/>\n",
              "    <path d=\"M18.56 5.44l.94 2.06.94-2.06 2.06-.94-2.06-.94-.94-2.06-.94 2.06-2.06.94zm-11 1L8.5 8.5l.94-2.06 2.06-.94-2.06-.94L8.5 2.5l-.94 2.06-2.06.94zm10 10l.94 2.06.94-2.06 2.06-.94-2.06-.94-.94-2.06-.94 2.06-2.06.94z\"/><path d=\"M17.41 7.96l-1.37-1.37c-.4-.4-.92-.59-1.43-.59-.52 0-1.04.2-1.43.59L10.3 9.45l-7.72 7.72c-.78.78-.78 2.05 0 2.83L4 21.41c.39.39.9.59 1.41.59.51 0 1.02-.2 1.41-.59l7.78-7.78 2.81-2.81c.8-.78.8-2.07 0-2.86zM5.41 20L4 18.59l7.72-7.72 1.47 1.35L5.41 20z\"/>\n",
              "  </svg>\n",
              "      </button>\n",
              "      \n",
              "  <style>\n",
              "    .colab-df-container {\n",
              "      display:flex;\n",
              "      flex-wrap:wrap;\n",
              "      gap: 12px;\n",
              "    }\n",
              "\n",
              "    .colab-df-convert {\n",
              "      background-color: #E8F0FE;\n",
              "      border: none;\n",
              "      border-radius: 50%;\n",
              "      cursor: pointer;\n",
              "      display: none;\n",
              "      fill: #1967D2;\n",
              "      height: 32px;\n",
              "      padding: 0 0 0 0;\n",
              "      width: 32px;\n",
              "    }\n",
              "\n",
              "    .colab-df-convert:hover {\n",
              "      background-color: #E2EBFA;\n",
              "      box-shadow: 0px 1px 2px rgba(60, 64, 67, 0.3), 0px 1px 3px 1px rgba(60, 64, 67, 0.15);\n",
              "      fill: #174EA6;\n",
              "    }\n",
              "\n",
              "    [theme=dark] .colab-df-convert {\n",
              "      background-color: #3B4455;\n",
              "      fill: #D2E3FC;\n",
              "    }\n",
              "\n",
              "    [theme=dark] .colab-df-convert:hover {\n",
              "      background-color: #434B5C;\n",
              "      box-shadow: 0px 1px 3px 1px rgba(0, 0, 0, 0.15);\n",
              "      filter: drop-shadow(0px 1px 2px rgba(0, 0, 0, 0.3));\n",
              "      fill: #FFFFFF;\n",
              "    }\n",
              "  </style>\n",
              "\n",
              "      <script>\n",
              "        const buttonEl =\n",
              "          document.querySelector('#df-b12fb1c3-d1fd-4065-8282-53ac6a829848 button.colab-df-convert');\n",
              "        buttonEl.style.display =\n",
              "          google.colab.kernel.accessAllowed ? 'block' : 'none';\n",
              "\n",
              "        async function convertToInteractive(key) {\n",
              "          const element = document.querySelector('#df-b12fb1c3-d1fd-4065-8282-53ac6a829848');\n",
              "          const dataTable =\n",
              "            await google.colab.kernel.invokeFunction('convertToInteractive',\n",
              "                                                     [key], {});\n",
              "          if (!dataTable) return;\n",
              "\n",
              "          const docLinkHtml = 'Like what you see? Visit the ' +\n",
              "            '<a target=\"_blank\" href=https://colab.research.google.com/notebooks/data_table.ipynb>data table notebook</a>'\n",
              "            + ' to learn more about interactive tables.';\n",
              "          element.innerHTML = '';\n",
              "          dataTable['output_type'] = 'display_data';\n",
              "          await google.colab.output.renderOutput(dataTable, element);\n",
              "          const docLink = document.createElement('div');\n",
              "          docLink.innerHTML = docLinkHtml;\n",
              "          element.appendChild(docLink);\n",
              "        }\n",
              "      </script>\n",
              "    </div>\n",
              "  </div>\n",
              "  "
            ]
          },
          "metadata": {},
          "execution_count": 293
        }
      ]
    },
    {
      "cell_type": "markdown",
      "source": [
        "`merge` and `concat` are two very powerful function for working with multiple DataFrames. Check out their documentation and Pandas' user guide on [Merge, join, concatenate and compare](https://pandas.pydata.org/docs/user_guide/merging.html) to learn more. \n",
        "\n",
        "**Tip**: you can always invoke `?` to bring up the documentation for any function in colab, e.g. `pd.concat?`"
      ],
      "metadata": {
        "id": "oUcQgxE8XwGb"
      }
    },
    {
      "cell_type": "markdown",
      "source": [
        "### 3.3.6. Exercises: improve merging with index difference and outer join\n",
        "\n",
        "You might have noticed we weren't being very careful with the merger of the annual and monthly data for comparison, because by performing an inner join, only make-year keys present in both datasets will be included for comparison. It's possible that some make-year keys are only present in the annual data, others only present in the monthly data. How can we find out if there are such discrepancies?"
      ],
      "metadata": {
        "id": "AW_jN3cvOCRc"
      }
    },
    {
      "cell_type": "markdown",
      "source": [
        "#### Step 1.\n",
        "\n",
        "Recall the annual data cover year 2015-2021, while the monthly cover year 2016-2022, so let's take out 2015 from the annual data (store the result in `cars_annually_16_21`), and filter out 2022 from the monthly (store the result in `cars_monthly_16_21`):"
      ],
      "metadata": {
        "id": "PHE_I69oPOBq"
      }
    },
    {
      "cell_type": "code",
      "source": [
        "%%script echo Remove this line after filling in your own code\n",
        "# hint: use subsetting with boolean indexing\n",
        "cars_annually_16_21 = \n",
        "cars_monthly_16_21 = \n",
        "\n",
        "assert 2015 not in cars_annually_16_21.year.to_list()\n",
        "assert 2016 in cars_annually_16_21.year.to_list()\n",
        "assert 2022 not in cars_monthly_16_21.year.to_list()\n",
        "assert 2021 in cars_monthly_16_21.year.to_list()"
      ],
      "metadata": {
        "colab": {
          "base_uri": "https://localhost:8080/"
        },
        "id": "5J1Cy9v8Rijr",
        "outputId": "1fa35c28-79b9-47b3-ad28-8bfc692e8048"
      },
      "execution_count": 294,
      "outputs": [
        {
          "output_type": "stream",
          "name": "stdout",
          "text": [
            "Remove this line after filling in your own code\n"
          ]
        }
      ]
    },
    {
      "cell_type": "markdown",
      "source": [
        "#### Step 2.\n",
        "\n",
        "We want to quickly investigate if the make-year keys are different between these two datasets. The function `difference` or `symmetric_difference` on the `Index` object will allow us to carry out the comparison. First let's create such a composite index made of the `make` and `year` column for both `cars_annually_16_21` and `cars_monthly_16_21`. Store the results in `cars_annually_duo_index` and `cars_monthly_duo_index` respectively:"
      ],
      "metadata": {
        "id": "BNIZrEKHgGEO"
      }
    },
    {
      "cell_type": "code",
      "source": [
        "%%script echo Remove this line after filling in your own code\n",
        "# hint: use set_index\n",
        "cars_annually_duo_index = \n",
        "cars_monthly_duo_index = \n",
        "\n",
        "assert ('ALFA ROMEO', 2016) in cars_annually_duo_index.index\n",
        "assert ('VOLVO', 2021) in cars_annually_duo_index.index\n",
        "assert ('ALFA ROMEO', 2016) in cars_monthly_duo_index.index\n",
        "assert ('VOLVO', 2021) in cars_monthly_duo_index.index"
      ],
      "metadata": {
        "colab": {
          "base_uri": "https://localhost:8080/"
        },
        "id": "ZddsxGo6QibW",
        "outputId": "641a36bb-2f6d-4e6d-9962-69baf2ad6a0b"
      },
      "execution_count": 295,
      "outputs": [
        {
          "output_type": "stream",
          "name": "stdout",
          "text": [
            "Remove this line after filling in your own code\n"
          ]
        }
      ]
    },
    {
      "cell_type": "markdown",
      "source": [
        "#### Step 3\n",
        "\n",
        "Invoke `difference` twice to compare the indexes of the two DataFrame: `cars_annually_duo_index` and `cars_monthly_duo_index`. First invocation is to find what's in the first index but not in the second; then invoke it again to find what's in the second index but not the first.\n",
        "\n",
        "Alternatively you may invoke `symmetric_difference` once to get the union of all the differences in one go."
      ],
      "metadata": {
        "id": "RyzZvj5FpsWe"
      }
    },
    {
      "cell_type": "code",
      "source": [
        "%%script echo Remove this line after filling in your own code\n",
        "# hint: use cars_annually_duo_index.index.difference, or symmetric_difference\n",
        "# Your code here"
      ],
      "metadata": {
        "colab": {
          "base_uri": "https://localhost:8080/"
        },
        "id": "yjJcSOqTQAzf",
        "outputId": "ce0d2c19-be32-4672-da26-6231d18148aa"
      },
      "execution_count": 296,
      "outputs": [
        {
          "output_type": "stream",
          "name": "stdout",
          "text": [
            "Remove this line after filling in your own code\n"
          ]
        }
      ]
    },
    {
      "cell_type": "code",
      "source": [
        "# hint: use cars_monthly_duo_index.index.difference or skip this cell if used symmetric_difference before\n",
        "# Your code here"
      ],
      "metadata": {
        "id": "fbkdZbeGtkNr"
      },
      "execution_count": 297,
      "outputs": []
    },
    {
      "cell_type": "markdown",
      "source": [
        "#### Step 4\n",
        "\n",
        "Notice the make Mclaren has two difference spellings. Let's take a look at those records in each dataset by filtering down to just the Mclaren records.\n",
        "\n",
        "You might find the composite index not the most straightforward to work with. Feel free to do the subsetting on `cars_annually_16_21` and `cars_monthly_16_21` instead."
      ],
      "metadata": {
        "id": "c4YbJ_rGqTDw"
      }
    },
    {
      "cell_type": "code",
      "source": [
        "%%script echo Remove this line after filling in your own code\n",
        "# hint: use boolean indexing with .str.casefold() on the make column\n",
        "# Your code here"
      ],
      "metadata": {
        "colab": {
          "base_uri": "https://localhost:8080/"
        },
        "id": "3EIz2EUfTBpB",
        "outputId": "d9d5b863-445d-4dd7-b3ff-528574c8f2db"
      },
      "execution_count": 298,
      "outputs": [
        {
          "output_type": "stream",
          "name": "stdout",
          "text": [
            "Remove this line after filling in your own code\n"
          ]
        }
      ]
    },
    {
      "cell_type": "code",
      "source": [
        "%%script echo Remove this line after filling in your own code\n",
        "# hint: use boolean indexing with .str.casefold() on the make column\n",
        "# Your code here"
      ],
      "metadata": {
        "colab": {
          "base_uri": "https://localhost:8080/"
        },
        "id": "cr_vBL88TT3s",
        "outputId": "6a0f3a03-db15-49dc-a8ea-afb4845e34e0"
      },
      "execution_count": 299,
      "outputs": [
        {
          "output_type": "stream",
          "name": "stdout",
          "text": [
            "Remove this line after filling in your own code\n"
          ]
        }
      ]
    },
    {
      "cell_type": "markdown",
      "source": [
        "#### Step 5.\n",
        "\n",
        "Mclaren is Capitalized in the annual dataset but Mixed-CASE in the monthly dataset. Let's unify them by UPPERCASING all the `make` values. Make the changes inplace for both `cars_annually_16_21` and `cars_monthly_16_21`:"
      ],
      "metadata": {
        "id": "1XwqPgQnv-74"
      }
    },
    {
      "cell_type": "code",
      "source": [
        "%%script echo Remove this line after filling in your own code\n",
        "# hint: use column creation, but overwrite the 'make' column; check out .str.upper() function\n",
        "# Your code here\n",
        "\n",
        "assert(np.all(cars_annually_16_21['make'].str.isupper()))\n",
        "assert(np.all(cars_monthly_16_21['make'].str.isupper()))"
      ],
      "metadata": {
        "colab": {
          "base_uri": "https://localhost:8080/"
        },
        "id": "LOAb6VLhT3Oi",
        "outputId": "39566f34-ad97-4a15-958b-0763c7790424"
      },
      "execution_count": 300,
      "outputs": [
        {
          "output_type": "stream",
          "name": "stdout",
          "text": [
            "Remove this line after filling in your own code\n"
          ]
        }
      ]
    },
    {
      "cell_type": "markdown",
      "source": [
        "#### Step 6.\n",
        "\n",
        "Notice there are two entries with different numbers for MCLAREN 2017 in the monthly dataset, which we will need to fix by aggregating. Store the fixed monthly DataFrame in variable `cars_monthly_16_21_cleaned`, which should look like `cars_monthly_16_21` structurally (i.e. no composite/multi index), just with fewer rows:"
      ],
      "metadata": {
        "id": "HnEpLaStzsYC"
      }
    },
    {
      "cell_type": "code",
      "source": [
        "%%script echo Remove this line after filling in your own code\n",
        "# hint: use groupby followed by reset_index or \n",
        "# pivot_table followed by melt, dropna, and reset_index\n",
        "\n",
        "cars_monthly_16_21_cleaned = \n",
        "\n",
        "condition = (cars_monthly_16_21_cleaned.make == 'MCLAREN') & (cars_monthly_16_21_cleaned.year == 2017)\n",
        "assert cars_monthly_16_21_cleaned[condition]['number'].values[0] == 10\n",
        "assert cars_monthly_16_21_cleaned.shape == (316, 3)\n",
        "\n",
        "cars_annually_duo_index_cleaned = cars_annually_16_21.set_index(['make', 'year'])\n",
        "cars_annually_duo_index_cleaned.index.symmetric_difference(cars_monthly_duo_index_cleaned.index)"
      ],
      "metadata": {
        "colab": {
          "base_uri": "https://localhost:8080/"
        },
        "id": "NvWXBRRk1D0w",
        "outputId": "92c4b18a-1fce-490c-b5a7-b2a892e2b5c4"
      },
      "execution_count": 301,
      "outputs": [
        {
          "output_type": "stream",
          "name": "stdout",
          "text": [
            "Remove this line after filling in your own code\n"
          ]
        }
      ]
    },
    {
      "cell_type": "markdown",
      "source": [
        "#### Step 7.\n",
        "\n",
        "With our data re-cleaned, now let's merge `cars_monthly_16_21_cleaned` and `cars_annually_16_21` using the `make` and `year` as keys. Let's perform an outer join this time. Store the merged results in variable `cars_merged_clean`:"
      ],
      "metadata": {
        "id": "xMNqSy7z6E66"
      }
    },
    {
      "cell_type": "code",
      "source": [
        "%%script echo Remove this line after filling in your own code\n",
        "# hint: use pd.merge with arguments how=\"outer\"\n",
        "cars_merged_clean = \n",
        "\n",
        "assert cars_merged_clean.shape == (316, 4)"
      ],
      "metadata": {
        "colab": {
          "base_uri": "https://localhost:8080/"
        },
        "id": "7mnZiWxWc7ia",
        "outputId": "b02b0ab5-3582-476d-f040-a1c667880e97"
      },
      "execution_count": 302,
      "outputs": [
        {
          "output_type": "stream",
          "name": "stdout",
          "text": [
            "Remove this line after filling in your own code\n"
          ]
        }
      ]
    },
    {
      "cell_type": "markdown",
      "source": [
        "#### Step 8.\n",
        "\n",
        "Last but not least, compare the merged numbers for each make-year record. Are they all matching perfectly now?"
      ],
      "metadata": {
        "id": "riaTCqY368Ry"
      }
    },
    {
      "cell_type": "code",
      "source": [
        "%%script echo Remove this line after filling in your own code\n",
        "# hint: use np.all\n",
        "# Your code here"
      ],
      "metadata": {
        "colab": {
          "base_uri": "https://localhost:8080/"
        },
        "id": "socvPfi_dVQK",
        "outputId": "ef47a44d-a404-44be-9cc1-6cf6f645a1af"
      },
      "execution_count": 303,
      "outputs": [
        {
          "output_type": "stream",
          "name": "stdout",
          "text": [
            "Remove this line after filling in your own code\n"
          ]
        }
      ]
    },
    {
      "cell_type": "markdown",
      "source": [
        "# References & Additional Resources\n",
        "\n",
        "* **Important**: [Pandas Cheat sheet](https://github.com/pandas-dev/pandas/blob/main/doc/cheatsheet/Pandas_Cheat_Sheet.pdf) by Pandas\n",
        "\n",
        "* [Bash Commands for Data Scientists](https://towardsdatascience.com/16-must-know-bash-commands-for-data-scientists-d8263e990e0e) by Giorgos Myrianthous\n",
        "\n",
        "* [NumPy Quickstart](https://numpy.org/doc/stable/user/quickstart.html) by NumPy\n",
        "\n",
        "* The Pandas section of this workshop is heavily based on [Pandas Workshop](https://github.com/stefmolin/pandas-workshop) by Stefanie Molin\n",
        "\n",
        "* [10 Minutes to Pandas](https://pandas.pydata.org/docs/user_guide/10min.html) - a part of Pandas' official user guide\n",
        "\n",
        "* [Python for Data Science](https://github.com/worldbank/Python-for-Data-Science/tree/master/June_2021_ETEC/day_2) for World Bank ETEC staff\n",
        "\n",
        "* [Python Training for Stata Users](https://github.com/worldbank/dime-python-training) by World Bank Development Impact Evaluation (DIME)\n",
        "\n",
        "* The Singapore annual and monthly car registration datasets used in the Pandas section come from [Singapore Land Transport Authority's Data Mall](https://datamall.lta.gov.sg/content/datamall/en/static-data.html)\n",
        "\n",
        "* [Long vs. Wide Data: What’s the Difference?](https://www.statology.org/long-vs-wide-data/) by Zach from Statology\n",
        "\n",
        "* [Flexible Imputation of Missing Data](https://stefvanbuuren.name/fimd/) by S. van Buuren"
      ],
      "metadata": {
        "id": "VjTKXK_Eb4Jr"
      }
    }
  ],
  "metadata": {
    "kernelspec": {
      "display_name": "Python 3",
      "language": "python",
      "name": "python3"
    },
    "language_info": {
      "codemirror_mode": {
        "name": "ipython",
        "version": 3
      },
      "file_extension": ".py",
      "mimetype": "text/x-python",
      "name": "python",
      "nbconvert_exporter": "python",
      "pygments_lexer": "ipython3",
      "version": "3.8.2"
    },
    "colab": {
      "name": "foundations-s3.ipynb",
      "provenance": [],
      "toc_visible": true,
      "include_colab_link": true
    }
  },
  "nbformat": 4,
  "nbformat_minor": 0
}
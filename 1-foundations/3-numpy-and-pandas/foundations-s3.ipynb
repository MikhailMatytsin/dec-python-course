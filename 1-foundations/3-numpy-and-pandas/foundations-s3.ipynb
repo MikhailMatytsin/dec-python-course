{
  "cells": [
    {
      "cell_type": "markdown",
      "metadata": {
        "id": "view-in-github",
        "colab_type": "text"
      },
      "source": [
        "<a href=\"https://colab.research.google.com/github/worldbank/dec-python-course/blob/session3/1-foundations/3-numpy-and-pandas/foundations-s3.ipynb\" target=\"_parent\"><img src=\"https://colab.research.google.com/assets/colab-badge.svg\" alt=\"Open In Colab\"/></a>"
      ]
    },
    {
      "cell_type": "markdown",
      "source": [
        "# Python Libraries\n",
        "\n",
        "Within the realm of python, a package is a collection of modules, a library is a collection of packages. In practice, \"python library\" and \"python package\" are used interchangeably to refer to a reusable chunk of code. Use of libraries allows us to \"stand on the shoulders of giants\"."
      ],
      "metadata": {
        "id": "nGwJPbjEc44k"
      }
    },
    {
      "cell_type": "markdown",
      "source": [
        "## Examples of python libraries\n",
        "- [NumPy](https://numpy.org/) stands for Numerical Python. It is the fundamental Python package for scientific computing.\n",
        "- [pandas](https://pandas.pydata.org/) is a Python package for fast and efficient processing of tabular data, time series, matrix data, etc.\n",
        "- [Matplotlib](https://matplotlib.org/)  is a comprehensive library for creating data visualizations in Python. "
      ],
      "metadata": {
        "id": "Z_z4OH2Cw165"
      }
    },
    {
      "cell_type": "markdown",
      "source": [
        "## How to use them?"
      ],
      "metadata": {
        "id": "d-1OvfSZ2e5m"
      }
    },
    {
      "cell_type": "code",
      "execution_count": 8,
      "metadata": {
        "colab": {
          "base_uri": "https://localhost:8080/"
        },
        "id": "GNtSS8HZeIV5",
        "outputId": "e225c0cd-7520-4532-a002-2a56989378ad"
      },
      "outputs": [
        {
          "output_type": "stream",
          "name": "stdout",
          "text": [
            "3.141592653589793\n"
          ]
        }
      ],
      "source": [
        "import numpy as np\n",
        "import pandas as pd\n",
        "import matplotlib.pyplot as plt\n",
        "\n",
        "print(np.pi)"
      ]
    },
    {
      "cell_type": "markdown",
      "source": [
        "`as` is optional; it is usually used to alias the library name to a shorthand or for disambiguation. The above are some conventional aliases for these libraries. If you `import numpy` wihtout aliasing, just be sure to use `numpy` instead of `np` when calling the library's functions later.\n",
        "\n",
        "`import` the library like you would import a built-in python module e.g. `import math`, works for common libraries on Google Colab because Colab already pre-installed many common libraries."
      ],
      "metadata": {
        "id": "Y6CkPZNx20Lq"
      }
    },
    {
      "cell_type": "markdown",
      "source": [
        "## What libraries are pre-installed in Colab?\n",
        "\n",
        "To see which libraries are pre-installed and their versions:"
      ],
      "metadata": {
        "id": "YrdT4xNYdqZ1"
      }
    },
    {
      "cell_type": "code",
      "source": [
        "# Note: ! in google colab executes a bash command\n",
        "# `| head` shortens the output to show only the first 10\n",
        "!pip freeze | head"
      ],
      "metadata": {
        "colab": {
          "base_uri": "https://localhost:8080/"
        },
        "id": "CBYYko-23YKA",
        "outputId": "fd784acd-69bd-4cd6-a641-daf16782d323"
      },
      "execution_count": 9,
      "outputs": [
        {
          "output_type": "stream",
          "name": "stdout",
          "text": [
            "absl-py==1.2.0\n",
            "aiohttp==3.8.1\n",
            "aiosignal==1.2.0\n",
            "alabaster==0.7.12\n",
            "albumentations==1.2.1\n",
            "altair==4.2.0\n",
            "appdirs==1.4.4\n",
            "argon2-cffi==21.3.0\n",
            "argon2-cffi-bindings==21.2.0\n",
            "arviz==0.12.1\n"
          ]
        }
      ]
    },
    {
      "cell_type": "markdown",
      "source": [
        "To check if a library you want to use is already installed:"
      ],
      "metadata": {
        "id": "CBMqUBUi3qfl"
      }
    },
    {
      "cell_type": "code",
      "source": [
        "# `| grep` filters the output using the supplied keyword\n",
        "!pip freeze | grep pandas"
      ],
      "metadata": {
        "colab": {
          "base_uri": "https://localhost:8080/"
        },
        "id": "7dNMg6iX3wIp",
        "outputId": "551166fd-f3de-45a3-b19c-5609155722dd"
      },
      "execution_count": 10,
      "outputs": [
        {
          "output_type": "stream",
          "name": "stdout",
          "text": [
            "pandas==1.3.5\n",
            "pandas-datareader==0.9.0\n",
            "pandas-gbq==0.13.3\n",
            "pandas-profiling==1.4.1\n",
            "sklearn-pandas==1.8.0\n"
          ]
        }
      ]
    },
    {
      "cell_type": "markdown",
      "source": [
        "## Can I install new libraries or change pre-installed ones?\n",
        "[pip](https://pip.pypa.io/) is the de facto python package manager. You can use it to view the current installed packages and to install a new library or upgrade an existin library:"
      ],
      "metadata": {
        "id": "-eZ2_CmN4Mzq"
      }
    },
    {
      "cell_type": "code",
      "source": [
        "# install/upgrade to the latest stable verison of a package\n",
        "!pip install pandas --upgrade "
      ],
      "metadata": {
        "colab": {
          "base_uri": "https://localhost:8080/"
        },
        "id": "jiOOOA9w4UeG",
        "outputId": "06481eae-8d47-4751-f9c4-da9e4dd7b2cd"
      },
      "execution_count": 11,
      "outputs": [
        {
          "output_type": "stream",
          "name": "stdout",
          "text": [
            "Looking in indexes: https://pypi.org/simple, https://us-python.pkg.dev/colab-wheels/public/simple/\n",
            "Requirement already satisfied: pandas in /usr/local/lib/python3.7/dist-packages (1.3.5)\n",
            "Requirement already satisfied: numpy>=1.17.3 in /usr/local/lib/python3.7/dist-packages (from pandas) (1.21.6)\n",
            "Requirement already satisfied: python-dateutil>=2.7.3 in /usr/local/lib/python3.7/dist-packages (from pandas) (2.8.2)\n",
            "Requirement already satisfied: pytz>=2017.3 in /usr/local/lib/python3.7/dist-packages (from pandas) (2022.1)\n",
            "Requirement already satisfied: six>=1.5 in /usr/local/lib/python3.7/dist-packages (from python-dateutil>=2.7.3->pandas) (1.15.0)\n"
          ]
        }
      ]
    },
    {
      "cell_type": "code",
      "source": [
        "# install a specific version of a package\n",
        "!pip install pandas==1.3.5"
      ],
      "metadata": {
        "colab": {
          "base_uri": "https://localhost:8080/"
        },
        "id": "lcUHqMOw8GCC",
        "outputId": "d45758e6-ad73-4c28-ad68-0139fe3b266e"
      },
      "execution_count": 12,
      "outputs": [
        {
          "output_type": "stream",
          "name": "stdout",
          "text": [
            "Looking in indexes: https://pypi.org/simple, https://us-python.pkg.dev/colab-wheels/public/simple/\n",
            "Requirement already satisfied: pandas==1.3.5 in /usr/local/lib/python3.7/dist-packages (1.3.5)\n",
            "Requirement already satisfied: python-dateutil>=2.7.3 in /usr/local/lib/python3.7/dist-packages (from pandas==1.3.5) (2.8.2)\n",
            "Requirement already satisfied: pytz>=2017.3 in /usr/local/lib/python3.7/dist-packages (from pandas==1.3.5) (2022.1)\n",
            "Requirement already satisfied: numpy>=1.17.3 in /usr/local/lib/python3.7/dist-packages (from pandas==1.3.5) (1.21.6)\n",
            "Requirement already satisfied: six>=1.5 in /usr/local/lib/python3.7/dist-packages (from python-dateutil>=2.7.3->pandas==1.3.5) (1.15.0)\n"
          ]
        }
      ]
    },
    {
      "cell_type": "markdown",
      "source": [
        "## Exercises\n",
        "The following exercises are meant to be completed step by step. Upon successful completion of all steps, the last cell should execute without any `AssertionError` or the prompt \"Remove this line after filling in your own code\"."
      ],
      "metadata": {
        "id": "udmuxsot8iMf"
      }
    },
    {
      "cell_type": "markdown",
      "source": [
        "### Step 1. \n",
        "\n",
        "Run a command to find out what is the current installed version of `matplotlib`:"
      ],
      "metadata": {
        "id": "emskTwhTgPU5"
      }
    },
    {
      "cell_type": "code",
      "source": [
        "# hint: use ! and bash command `pip freeze` and pipe the results to bash command `grep matplotlib`"
      ],
      "metadata": {
        "id": "CwERECq69Q_j"
      },
      "execution_count": 13,
      "outputs": []
    },
    {
      "cell_type": "markdown",
      "source": [
        "### Step 2. \n",
        "\n",
        "Install version 3.5.2 of `matplotlib` for this notebook. Upon successful installation, click on \"RESTART RUNTIME\" in the code cell output."
      ],
      "metadata": {
        "id": "43mq07rBF414"
      }
    },
    {
      "cell_type": "code",
      "source": [
        "# hint: use ! and bash command `pip install`"
      ],
      "metadata": {
        "id": "WdwQn1lEGP5i"
      },
      "execution_count": 14,
      "outputs": []
    },
    {
      "cell_type": "markdown",
      "source": [
        "### Step 3.\n",
        "\n",
        "Import `matplotlib`'s `pyplot` module and alias it as `plt`"
      ],
      "metadata": {
        "id": "yuwpmEcnG9-3"
      }
    },
    {
      "cell_type": "code",
      "source": [
        "%%script echo Remove this line after filling in your own code\n",
        "# hint: use `import ... as ...`\n",
        "\n",
        "# === Do not modify code below ===\n",
        "fig = plt.figure(figsize=(10, 80))\n",
        "assert hasattr(fig, \"subfigures\"),\\\n",
        " \"If correct version of matplotlib were installed you should not see this message\"\n",
        "\n",
        "print(\"Well done!\")"
      ],
      "metadata": {
        "colab": {
          "base_uri": "https://localhost:8080/"
        },
        "id": "_QQVLOJfIg6V",
        "outputId": "0be873c6-3199-406a-d459-fe4f76397043"
      },
      "execution_count": 15,
      "outputs": [
        {
          "output_type": "stream",
          "name": "stdout",
          "text": [
            "Remove this line after filling in your own code\n"
          ]
        }
      ]
    },
    {
      "cell_type": "markdown",
      "source": [
        "If you have successfully completed the above exercies and are feeling adventurous, head over to `foundations-s3-bonus.ipynb` – it contains some bonus content and corresponding exercises on this topic."
      ],
      "metadata": {
        "id": "nmuFvgTazPbo"
      }
    },
    {
      "cell_type": "markdown",
      "source": [
        "# NumPy\n",
        "\n",
        "NumPy (**Numerical Python**) is an open source Python library that’s used in almost every field of science and engineering. It’s the **universal standard** for working with numerical data in Python, and it’s at the core of the scientific Python and PyData ecosystems. It serves as the fundamention for popular data science and scientific Python packages, such as Pandas, SciPy, Matplotlib, scikit-learn.\n"
      ],
      "metadata": {
        "id": "Vy-R-M5N2I6N"
      }
    },
    {
      "cell_type": "markdown",
      "source": [
        "\n",
        "## ndarray\n",
        "The NumPy library provides **powerful functionalities** for numerical operations and does so **effeciently**. Its basic building block is `ndarray`, a homogeneous n-dimensional array object, with methods to efficiently operate on it. `ndarray` is a simple and flexible data structure that can represent vectors (1-D arrays), matrices (2-D arrays), and tensors (3-D or higher dimensional arrays).\n",
        "\n",
        "// TODO: add picture\n"
      ],
      "metadata": {
        "id": "ebvx7VbrEIdi"
      }
    },
    {
      "cell_type": "markdown",
      "source": [
        "\n",
        "### Wait, what's an array?\n",
        "\n",
        "In computer science, an array is a data structure consisting of a collection of elements, each identified by an index. "
      ],
      "metadata": {
        "id": "JJ_MBbHUDAUc"
      }
    },
    {
      "cell_type": "markdown",
      "source": [
        "### How does a NumPy `ndarray` compare to a Python `list` or `array`?\n",
        "In Python, arrays are most often represented using `list`, which allows for different data types within a single list. Python standard library does come with its own `array` module which requires that a single array can only contain one data type of elements. Python's `array` is more compact (takes less space in storage) than `list` and comes with some basic math operations. NumPy's `ndarray` is like Python's `array` on steroids, functionality wise."
      ],
      "metadata": {
        "id": "GZLEMDHSD_Hz"
      }
    },
    {
      "cell_type": "code",
      "source": [
        "from array import array\n",
        "import numpy as np\n",
        "\n",
        "py_list = [1, 2, '3']\n",
        "py_array = array('i', [1, 2, 3]) # i indicates integer\n",
        "np_array = np.array([1, 2, 3])"
      ],
      "metadata": {
        "id": "eaMKE8NnDAvX"
      },
      "execution_count": 16,
      "outputs": []
    },
    {
      "cell_type": "markdown",
      "source": [
        "### How to create a NumPy `ndarray`?"
      ],
      "metadata": {
        "id": "49kiXHiuI7YO"
      }
    },
    {
      "cell_type": "code",
      "source": [
        "# give me 3 zeros\n",
        "np.zeros(3)"
      ],
      "metadata": {
        "colab": {
          "base_uri": "https://localhost:8080/"
        },
        "id": "OXklQZ1gJKIp",
        "outputId": "80461322-52f9-46b4-903f-c2599bb691d9"
      },
      "execution_count": 17,
      "outputs": [
        {
          "output_type": "execute_result",
          "data": {
            "text/plain": [
              "array([0., 0., 0.])"
            ]
          },
          "metadata": {},
          "execution_count": 17
        }
      ]
    },
    {
      "cell_type": "code",
      "source": [
        "# give me 4 ones\n",
        "np.ones(4)"
      ],
      "metadata": {
        "colab": {
          "base_uri": "https://localhost:8080/"
        },
        "id": "egULMRRZJVfX",
        "outputId": "009ff6ca-2945-412e-f05a-b423c6cf7c9d"
      },
      "execution_count": 18,
      "outputs": [
        {
          "output_type": "execute_result",
          "data": {
            "text/plain": [
              "array([1., 1., 1., 1.])"
            ]
          },
          "metadata": {},
          "execution_count": 18
        }
      ]
    },
    {
      "cell_type": "code",
      "source": [
        "# give me 5 numbers randomly sampled from [0.0, 1.0)\n",
        "np.random.random(5)"
      ],
      "metadata": {
        "colab": {
          "base_uri": "https://localhost:8080/"
        },
        "id": "xCUM92UPcEbY",
        "outputId": "205143a5-ab65-4d5b-9df0-1f4c357585ca"
      },
      "execution_count": 19,
      "outputs": [
        {
          "output_type": "execute_result",
          "data": {
            "text/plain": [
              "array([0.72204115, 0.74959831, 0.09742031, 0.11036836, 0.16350667])"
            ]
          },
          "metadata": {},
          "execution_count": 19
        }
      ]
    },
    {
      "cell_type": "code",
      "source": [
        "# give me 4 consecutive numbers\n",
        "# starts at 0 by default, stop is excluded\n",
        "one_d_array = np.arange(4)\n",
        "one_d_array"
      ],
      "metadata": {
        "colab": {
          "base_uri": "https://localhost:8080/"
        },
        "id": "saEkxVHRJXX4",
        "outputId": "fe38527f-6d0c-4696-c0ff-623a105b7100"
      },
      "execution_count": 20,
      "outputs": [
        {
          "output_type": "execute_result",
          "data": {
            "text/plain": [
              "array([0, 1, 2, 3])"
            ]
          },
          "metadata": {},
          "execution_count": 20
        }
      ]
    },
    {
      "cell_type": "code",
      "source": [
        "# start, stop, step\n",
        "np.arange(1, 9, 2)"
      ],
      "metadata": {
        "colab": {
          "base_uri": "https://localhost:8080/"
        },
        "id": "VsSluLFkJgJN",
        "outputId": "5a4d50cf-36a8-4d73-f0e6-c716b6ac8717"
      },
      "execution_count": 21,
      "outputs": [
        {
          "output_type": "execute_result",
          "data": {
            "text/plain": [
              "array([1, 3, 5, 7])"
            ]
          },
          "metadata": {},
          "execution_count": 21
        }
      ]
    },
    {
      "cell_type": "code",
      "source": [
        "# 2-D array / matrix\n",
        "two_d_array = np.array([[1, 2], [3, 4]])\n",
        "two_d_array"
      ],
      "metadata": {
        "colab": {
          "base_uri": "https://localhost:8080/"
        },
        "id": "cT1kC1bpKKPp",
        "outputId": "671370a6-4f60-47d2-a70f-ea5f159822ca"
      },
      "execution_count": 22,
      "outputs": [
        {
          "output_type": "execute_result",
          "data": {
            "text/plain": [
              "array([[1, 2],\n",
              "       [3, 4]])"
            ]
          },
          "metadata": {},
          "execution_count": 22
        }
      ]
    },
    {
      "cell_type": "code",
      "source": [
        "# 3-D array\n",
        "three_d_array = np.array([[[1.0, 2], [3, 4]], [[5, 6], [7, 8]], [[9, 10], [11, 12]]])\n",
        "three_d_array"
      ],
      "metadata": {
        "colab": {
          "base_uri": "https://localhost:8080/"
        },
        "id": "_rzZrypbKRe1",
        "outputId": "52b9dda3-62d9-4ace-8c9f-07f4d498d26f"
      },
      "execution_count": 23,
      "outputs": [
        {
          "output_type": "execute_result",
          "data": {
            "text/plain": [
              "array([[[ 1.,  2.],\n",
              "        [ 3.,  4.]],\n",
              "\n",
              "       [[ 5.,  6.],\n",
              "        [ 7.,  8.]],\n",
              "\n",
              "       [[ 9., 10.],\n",
              "        [11., 12.]]])"
            ]
          },
          "metadata": {},
          "execution_count": 23
        }
      ]
    },
    {
      "cell_type": "markdown",
      "source": [
        "### How to find properties of a `ndarray`?"
      ],
      "metadata": {
        "id": "CUcCejnWK3ES"
      }
    },
    {
      "cell_type": "code",
      "source": [
        "# dimension\n",
        "two_d_array.ndim"
      ],
      "metadata": {
        "colab": {
          "base_uri": "https://localhost:8080/"
        },
        "id": "uQU5MWhXLFd0",
        "outputId": "fb5c188e-2f73-490b-86e6-178dfeff0a7f"
      },
      "execution_count": 24,
      "outputs": [
        {
          "output_type": "execute_result",
          "data": {
            "text/plain": [
              "2"
            ]
          },
          "metadata": {},
          "execution_count": 24
        }
      ]
    },
    {
      "cell_type": "code",
      "source": [
        "three_d_array.ndim"
      ],
      "metadata": {
        "colab": {
          "base_uri": "https://localhost:8080/"
        },
        "id": "k_7NYDVHLVjf",
        "outputId": "61609c0b-99a2-43f5-a150-a3deba357e50"
      },
      "execution_count": 25,
      "outputs": [
        {
          "output_type": "execute_result",
          "data": {
            "text/plain": [
              "3"
            ]
          },
          "metadata": {},
          "execution_count": 25
        }
      ]
    },
    {
      "cell_type": "code",
      "source": [
        "# shape\n",
        "two_d_array.shape"
      ],
      "metadata": {
        "colab": {
          "base_uri": "https://localhost:8080/"
        },
        "id": "wbkCdN5YAa7d",
        "outputId": "69f8cef0-1798-45f6-cd7e-415fe6a7b15b"
      },
      "execution_count": 26,
      "outputs": [
        {
          "output_type": "execute_result",
          "data": {
            "text/plain": [
              "(2, 2)"
            ]
          },
          "metadata": {},
          "execution_count": 26
        }
      ]
    },
    {
      "cell_type": "code",
      "source": [
        "three_d_array.shape"
      ],
      "metadata": {
        "colab": {
          "base_uri": "https://localhost:8080/"
        },
        "id": "XyDDu35GAprw",
        "outputId": "0ebf12fa-2e61-45ee-c2fe-4da44471f0d9"
      },
      "execution_count": 27,
      "outputs": [
        {
          "output_type": "execute_result",
          "data": {
            "text/plain": [
              "(3, 2, 2)"
            ]
          },
          "metadata": {},
          "execution_count": 27
        }
      ]
    },
    {
      "cell_type": "code",
      "source": [
        "# how many elements total?\n",
        "three_d_array.size"
      ],
      "metadata": {
        "colab": {
          "base_uri": "https://localhost:8080/"
        },
        "id": "iF7YeWx7B2HB",
        "outputId": "ac1fddfc-ce22-401a-ebd9-28382df18ec0"
      },
      "execution_count": 28,
      "outputs": [
        {
          "output_type": "execute_result",
          "data": {
            "text/plain": [
              "12"
            ]
          },
          "metadata": {},
          "execution_count": 28
        }
      ]
    },
    {
      "cell_type": "code",
      "source": [
        "# what's the data type of the elements?\n",
        "three_d_array.dtype"
      ],
      "metadata": {
        "colab": {
          "base_uri": "https://localhost:8080/"
        },
        "id": "6t5blJmACV9z",
        "outputId": "d2632998-6b83-4c00-e6b6-07aaa59ccdf1"
      },
      "execution_count": 29,
      "outputs": [
        {
          "output_type": "execute_result",
          "data": {
            "text/plain": [
              "dtype('float64')"
            ]
          },
          "metadata": {},
          "execution_count": 29
        }
      ]
    },
    {
      "cell_type": "code",
      "source": [
        "print(f'''Array dimension: {one_d_array.ndim},\n",
        "      shape: {one_d_array.shape}, \n",
        "      size: {one_d_array.size},\n",
        "      data type: {one_d_array.dtype}''')"
      ],
      "metadata": {
        "colab": {
          "base_uri": "https://localhost:8080/"
        },
        "id": "nU8fq7UfA9y9",
        "outputId": "ef7ecaf4-2734-4f16-aa38-f879922e20b3"
      },
      "execution_count": 30,
      "outputs": [
        {
          "output_type": "stream",
          "name": "stdout",
          "text": [
            "Array dimension: 1,\n",
            "      shape: (4,), \n",
            "      size: 4,\n",
            "      data type: int64\n"
          ]
        }
      ]
    },
    {
      "cell_type": "markdown",
      "source": [
        "## Manipulating and operating on `ndarray`\n",
        "With basic understanding of ndarray, let's go ahead do some maths with it."
      ],
      "metadata": {
        "id": "RkJaQBfxEmMW"
      }
    },
    {
      "cell_type": "markdown",
      "source": [
        "### How to do maths and (even) linear algebra with ndarrays?"
      ],
      "metadata": {
        "id": "AfXv6ngFc5Av"
      }
    },
    {
      "cell_type": "code",
      "source": [
        "one_d_array.min()"
      ],
      "metadata": {
        "colab": {
          "base_uri": "https://localhost:8080/"
        },
        "id": "zUy5BHrAF0Bj",
        "outputId": "4d974c0e-c059-46a9-b4d8-99cb3afde639"
      },
      "execution_count": 31,
      "outputs": [
        {
          "output_type": "execute_result",
          "data": {
            "text/plain": [
              "0"
            ]
          },
          "metadata": {},
          "execution_count": 31
        }
      ]
    },
    {
      "cell_type": "code",
      "source": [
        "one_d_array.max()"
      ],
      "metadata": {
        "colab": {
          "base_uri": "https://localhost:8080/"
        },
        "id": "gx61RU7PGDKE",
        "outputId": "7337e6b9-9f70-41d5-b333-4d082008dc36"
      },
      "execution_count": 32,
      "outputs": [
        {
          "output_type": "execute_result",
          "data": {
            "text/plain": [
              "3"
            ]
          },
          "metadata": {},
          "execution_count": 32
        }
      ]
    },
    {
      "cell_type": "code",
      "source": [
        "one_d_array.sum()"
      ],
      "metadata": {
        "colab": {
          "base_uri": "https://localhost:8080/"
        },
        "id": "GKaFLXz3GFPU",
        "outputId": "52835371-8c7e-4c23-9296-a9da740f41e6"
      },
      "execution_count": 33,
      "outputs": [
        {
          "output_type": "execute_result",
          "data": {
            "text/plain": [
              "6"
            ]
          },
          "metadata": {},
          "execution_count": 33
        }
      ]
    },
    {
      "cell_type": "code",
      "source": [
        "# broadcasting\n",
        "one_d_array * 2"
      ],
      "metadata": {
        "colab": {
          "base_uri": "https://localhost:8080/"
        },
        "id": "UteWB3LcGIzK",
        "outputId": "6a63abc4-9937-41e7-9d06-a7943b03fe29"
      },
      "execution_count": 34,
      "outputs": [
        {
          "output_type": "execute_result",
          "data": {
            "text/plain": [
              "array([0, 2, 4, 6])"
            ]
          },
          "metadata": {},
          "execution_count": 34
        }
      ]
    },
    {
      "cell_type": "code",
      "source": [
        "# arithmetic operations\n",
        "one_d_array + one_d_array * 2"
      ],
      "metadata": {
        "colab": {
          "base_uri": "https://localhost:8080/"
        },
        "id": "8gRhvgszGeOB",
        "outputId": "679ab847-5220-43ee-db86-54b6532f62e4"
      },
      "execution_count": 35,
      "outputs": [
        {
          "output_type": "execute_result",
          "data": {
            "text/plain": [
              "array([0, 3, 6, 9])"
            ]
          },
          "metadata": {},
          "execution_count": 35
        }
      ]
    },
    {
      "cell_type": "code",
      "source": [
        "%%script echo Remove line for demo\n",
        "one_d_array - two_d_array"
      ],
      "metadata": {
        "colab": {
          "base_uri": "https://localhost:8080/"
        },
        "id": "h8kjqzYjRJ3p",
        "outputId": "afeacc27-4f05-48d9-d575-dffd6b91f19a"
      },
      "execution_count": 36,
      "outputs": [
        {
          "output_type": "stream",
          "name": "stdout",
          "text": [
            "Remove line for demo\n"
          ]
        }
      ]
    },
    {
      "cell_type": "markdown",
      "source": [
        "### How to reshape an `ndarray`?\n",
        "Use the `reshape` function with the new shape as arguments. Note that the new shape must have the same number of elements as the original array.\n",
        "\n",
        "<img src=\"https://numpy.org/doc/stable/_images/np_reshape.png\" />\n",
        "\n",
        "Image credit: https://numpy.org/doc/stable/user/absolute_beginners.html#transposing-and-reshaping-a-matrix"
      ],
      "metadata": {
        "id": "o78bmHjaDsSH"
      }
    },
    {
      "cell_type": "code",
      "source": [
        "one_d_array.reshape(2, 2) - two_d_array"
      ],
      "metadata": {
        "colab": {
          "base_uri": "https://localhost:8080/"
        },
        "id": "OAtTlmLVSKKg",
        "outputId": "cf8c123e-21b6-4acc-f22d-24ee36eb14cb"
      },
      "execution_count": 37,
      "outputs": [
        {
          "output_type": "execute_result",
          "data": {
            "text/plain": [
              "array([[-1, -1],\n",
              "       [-1, -1]])"
            ]
          },
          "metadata": {},
          "execution_count": 37
        }
      ]
    },
    {
      "cell_type": "code",
      "source": [
        "one_d_array.reshape(1, 4) - two_d_array.reshape(1, 4)"
      ],
      "metadata": {
        "colab": {
          "base_uri": "https://localhost:8080/"
        },
        "id": "TH8U3lRvSoz0",
        "outputId": "a884f56d-f82b-4956-e16d-223bf1d39da8"
      },
      "execution_count": 38,
      "outputs": [
        {
          "output_type": "execute_result",
          "data": {
            "text/plain": [
              "array([[-1, -1, -1, -1]])"
            ]
          },
          "metadata": {},
          "execution_count": 38
        }
      ]
    },
    {
      "cell_type": "markdown",
      "source": [
        "To transpose:"
      ],
      "metadata": {
        "id": "z39qeUuPUf7h"
      }
    },
    {
      "cell_type": "code",
      "source": [
        "one_d_array.transpose()"
      ],
      "metadata": {
        "colab": {
          "base_uri": "https://localhost:8080/"
        },
        "id": "81buJflLTgY_",
        "outputId": "e299fefa-b936-474f-eba3-cb2b5cf7ac92"
      },
      "execution_count": 39,
      "outputs": [
        {
          "output_type": "execute_result",
          "data": {
            "text/plain": [
              "array([0, 1, 2, 3])"
            ]
          },
          "metadata": {},
          "execution_count": 39
        }
      ]
    },
    {
      "cell_type": "code",
      "source": [
        "# or use short T attribute on the array\n",
        "one_d_array.T"
      ],
      "metadata": {
        "colab": {
          "base_uri": "https://localhost:8080/"
        },
        "id": "gDNeIQPjSyxT",
        "outputId": "58f580f7-7113-48d6-9108-6c28ba785d24"
      },
      "execution_count": 40,
      "outputs": [
        {
          "output_type": "execute_result",
          "data": {
            "text/plain": [
              "array([0, 1, 2, 3])"
            ]
          },
          "metadata": {},
          "execution_count": 40
        }
      ]
    },
    {
      "cell_type": "code",
      "source": [
        "one_d_array.T - two_d_array.reshape(1, 4)"
      ],
      "metadata": {
        "colab": {
          "base_uri": "https://localhost:8080/"
        },
        "id": "v1yxnKvxS6nG",
        "outputId": "92f481a4-c890-4c65-c787-1ec8e0b0415d"
      },
      "execution_count": 41,
      "outputs": [
        {
          "output_type": "execute_result",
          "data": {
            "text/plain": [
              "array([[-1, -1, -1, -1]])"
            ]
          },
          "metadata": {},
          "execution_count": 41
        }
      ]
    },
    {
      "cell_type": "markdown",
      "source": [
        "To flatten any multidimensional array to a 1-d array:"
      ],
      "metadata": {
        "id": "cNqIiHNuUnX1"
      }
    },
    {
      "cell_type": "code",
      "source": [
        "two_d_array.flatten()"
      ],
      "metadata": {
        "colab": {
          "base_uri": "https://localhost:8080/"
        },
        "id": "bNxinokzUxv0",
        "outputId": "37280fbc-49d9-48b7-e6f4-fc289d4fd233"
      },
      "execution_count": 42,
      "outputs": [
        {
          "output_type": "execute_result",
          "data": {
            "text/plain": [
              "array([1, 2, 3, 4])"
            ]
          },
          "metadata": {},
          "execution_count": 42
        }
      ]
    },
    {
      "cell_type": "code",
      "source": [
        "one_d_array - two_d_array.flatten()"
      ],
      "metadata": {
        "colab": {
          "base_uri": "https://localhost:8080/"
        },
        "id": "AbUq49UaU1kY",
        "outputId": "54943fe8-f660-4e8a-80e0-e0ffbb4210ca"
      },
      "execution_count": 43,
      "outputs": [
        {
          "output_type": "execute_result",
          "data": {
            "text/plain": [
              "array([-1, -1, -1, -1])"
            ]
          },
          "metadata": {},
          "execution_count": 43
        }
      ]
    },
    {
      "cell_type": "markdown",
      "source": [
        "### How to stack and split ndarrays?"
      ],
      "metadata": {
        "id": "xVLvbu07a_Qr"
      }
    },
    {
      "cell_type": "markdown",
      "source": [
        "Multiple arrays can be stacked together along different axes:"
      ],
      "metadata": {
        "id": "7_wIPRPEbaqf"
      }
    },
    {
      "cell_type": "code",
      "source": [
        "another_two_d_array = two_d_array * 2\n",
        "print(two_d_array)\n",
        "print(another_two_d_array)"
      ],
      "metadata": {
        "outputId": "6470dd3f-15da-458d-f380-28a622ac48e9",
        "colab": {
          "base_uri": "https://localhost:8080/"
        },
        "id": "lb_LAQ8Kbaqf"
      },
      "execution_count": 44,
      "outputs": [
        {
          "output_type": "stream",
          "name": "stdout",
          "text": [
            "[[1 2]\n",
            " [3 4]]\n",
            "[[2 4]\n",
            " [6 8]]\n"
          ]
        }
      ]
    },
    {
      "cell_type": "code",
      "source": [
        "# stack row wise\n",
        "vstacked = np.vstack((two_d_array, another_two_d_array))\n",
        "vstacked"
      ],
      "metadata": {
        "outputId": "b2dac84f-d513-41a8-8138-d6dd1b79b5be",
        "colab": {
          "base_uri": "https://localhost:8080/"
        },
        "id": "bk_7A0SPbaqg"
      },
      "execution_count": 45,
      "outputs": [
        {
          "output_type": "execute_result",
          "data": {
            "text/plain": [
              "array([[1, 2],\n",
              "       [3, 4],\n",
              "       [2, 4],\n",
              "       [6, 8]])"
            ]
          },
          "metadata": {},
          "execution_count": 45
        }
      ]
    },
    {
      "cell_type": "code",
      "source": [
        "# stack column wise\n",
        "hstacked = np.hstack((two_d_array, another_two_d_array))\n",
        "hstacked"
      ],
      "metadata": {
        "outputId": "e2eed1c5-2b0d-4dfd-e901-d13c63f577cd",
        "colab": {
          "base_uri": "https://localhost:8080/"
        },
        "id": "38AgRXTmbaqg"
      },
      "execution_count": 46,
      "outputs": [
        {
          "output_type": "execute_result",
          "data": {
            "text/plain": [
              "array([[1, 2, 2, 4],\n",
              "       [3, 4, 6, 8]])"
            ]
          },
          "metadata": {},
          "execution_count": 46
        }
      ]
    },
    {
      "cell_type": "markdown",
      "source": [
        "An array can be split into multiple arrays, along the specified axes:"
      ],
      "metadata": {
        "id": "gFxvmCBObt3d"
      }
    },
    {
      "cell_type": "code",
      "source": [
        "vstacked"
      ],
      "metadata": {
        "outputId": "5bd24ee7-eb4d-4224-acab-3c6e442883e5",
        "colab": {
          "base_uri": "https://localhost:8080/"
        },
        "id": "lVjhON5pbt3d"
      },
      "execution_count": 47,
      "outputs": [
        {
          "output_type": "execute_result",
          "data": {
            "text/plain": [
              "array([[1, 2],\n",
              "       [3, 4],\n",
              "       [2, 4],\n",
              "       [6, 8]])"
            ]
          },
          "metadata": {},
          "execution_count": 47
        }
      ]
    },
    {
      "cell_type": "code",
      "source": [
        "# split to 2 arrays row wise\n",
        "vsplit1, vsplit2 = np.vsplit(vstacked, 2)\n",
        "print(vsplit1)\n",
        "print(vsplit2)"
      ],
      "metadata": {
        "outputId": "4a8a90db-8b7c-4386-839d-cf736b815fbf",
        "colab": {
          "base_uri": "https://localhost:8080/"
        },
        "id": "jJzFczthbt3e"
      },
      "execution_count": 48,
      "outputs": [
        {
          "output_type": "stream",
          "name": "stdout",
          "text": [
            "[[1 2]\n",
            " [3 4]]\n",
            "[[2 4]\n",
            " [6 8]]\n"
          ]
        }
      ]
    },
    {
      "cell_type": "code",
      "source": [
        "# split to 2 arrays column wise\n",
        "hsplit1, hsplit2 = np.hsplit(vstacked, 2)\n",
        "print(hsplit1)\n",
        "print(hsplit2)"
      ],
      "metadata": {
        "outputId": "b0c39899-edc6-4260-bd66-fa2d08dd5227",
        "colab": {
          "base_uri": "https://localhost:8080/"
        },
        "id": "bYLRgBHWbt3e"
      },
      "execution_count": 49,
      "outputs": [
        {
          "output_type": "stream",
          "name": "stdout",
          "text": [
            "[[1]\n",
            " [3]\n",
            " [2]\n",
            " [6]]\n",
            "[[2]\n",
            " [4]\n",
            " [4]\n",
            " [8]]\n"
          ]
        }
      ]
    },
    {
      "cell_type": "markdown",
      "source": [
        "## Exercises\n",
        "\n",
        "Task: Calculate the dot product of vector `(1, 2, 3)` wtih itself.\n",
        "\n",
        "The following exercises are meant to be completed step by step. Upon successful completion of all steps, the last cell should execute without any `AssertionError` or the prompt \"Remove this line after filling in your own code\"."
      ],
      "metadata": {
        "id": "bRa5jb9TVUIw"
      }
    },
    {
      "cell_type": "markdown",
      "source": [
        "### Step 1. \n",
        "\n",
        "Represent vector `(1, 2, 3)` as a 1-d NumPy array of shape (3, ) and store in variable `a`:"
      ],
      "metadata": {
        "id": "YyjvJgyRghEX"
      }
    },
    {
      "cell_type": "code",
      "source": [
        "%%script echo Remove this line after filling in your own code\n",
        "# hint: use np.array or np.arange\n",
        "# Your code here\n",
        "\n",
        "# === Do not modify code below ===\n",
        "assert a.shape == (3, )\n",
        "assert a[0] == 1\n",
        "assert a[1] == 2"
      ],
      "metadata": {
        "colab": {
          "base_uri": "https://localhost:8080/"
        },
        "id": "KdcSu4SJWTll",
        "outputId": "7b7d6ac4-20a0-4165-ccf9-6154e67c9da1"
      },
      "execution_count": 50,
      "outputs": [
        {
          "output_type": "stream",
          "name": "stdout",
          "text": [
            "Remove this line after filling in your own code\n"
          ]
        }
      ]
    },
    {
      "cell_type": "markdown",
      "source": [
        "### Step 2. \n",
        "\n",
        "Implement the dot product calculation and store the result in variable `result`:"
      ],
      "metadata": {
        "id": "-t3g0-1AXHk3"
      }
    },
    {
      "cell_type": "code",
      "source": [
        "%%script echo Remove this line after filling in your own code\n",
        "# hint: use tranpose or reshap, then sum or np.sum\n",
        "# Your code here\n",
        "\n",
        "# === Do not modify code below ===\n",
        "assert result == 14\n"
      ],
      "metadata": {
        "colab": {
          "base_uri": "https://localhost:8080/"
        },
        "id": "OxuuW5yRWAmZ",
        "outputId": "82ee54cf-d83e-4d01-d6db-860f222758b7"
      },
      "execution_count": 51,
      "outputs": [
        {
          "output_type": "stream",
          "name": "stdout",
          "text": [
            "Remove this line after filling in your own code\n"
          ]
        }
      ]
    },
    {
      "cell_type": "markdown",
      "source": [
        "## Universal functions\n",
        "\n",
        "In NumPy, universal functions (`ufunc`) are functions operate elementwise on an array, producing an array as output.\n",
        "\n",
        "Here are some examples:\n",
        "\n",
        "<p><a href=\"https://numpy.org/doc/stable/reference/generated/numpy.all.html#numpy.all\" title=\"numpy.all\"><code class=\"xref py py-obj docutils literal notranslate\"><span class=\"pre\">all</span></code></a>,\n",
        "<a href=\"https://numpy.org/doc/stable/reference/generated/numpy.any.html#numpy.any\" title=\"numpy.any\"><code class=\"xref py py-obj docutils literal notranslate\"><span class=\"pre\">any</span></code></a>,\n",
        "<a href=\"https://numpy.org/doc/stable/reference/generated/numpy.apply_along_axis.html#numpy.apply_along_axis\" title=\"numpy.apply_along_axis\"><code class=\"xref py py-obj docutils literal notranslate\"><span class=\"pre\">apply_along_axis</span></code></a>,\n",
        "<a href=\"https://numpy.org/doc/stable/reference/generated/numpy.argmax.html#numpy.argmax\" title=\"numpy.argmax\"><code class=\"xref py py-obj docutils literal notranslate\"><span class=\"pre\">argmax</span></code></a>,\n",
        "<a href=\"https://numpy.org/doc/stable/reference/generated/numpy.argmin.html#numpy.argmin\" title=\"numpy.argmin\"><code class=\"xref py py-obj docutils literal notranslate\"><span class=\"pre\">argmin</span></code></a>,\n",
        "<a href=\"https://numpy.org/doc/stable/reference/generated/numpy.argsort.html#numpy.argsort\" title=\"numpy.argsort\"><code class=\"xref py py-obj docutils literal notranslate\"><span class=\"pre\">argsort</span></code></a>,\n",
        "<a href=\"https://numpy.org/doc/stable/reference/generated/numpy.average.html#numpy.average\" title=\"numpy.average\"><code class=\"xref py py-obj docutils literal notranslate\"><span class=\"pre\">average</span></code></a>,\n",
        "<a href=\"https://numpy.org/doc/stable/reference/generated/numpy.bincount.html#numpy.bincount\" title=\"numpy.bincount\"><code class=\"xref py py-obj docutils literal notranslate\"><span class=\"pre\">bincount</span></code></a>,\n",
        "<a href=\"https://numpy.org/doc/stable/reference/generated/numpy.ceil.html#numpy.ceil\" title=\"numpy.ceil\"><code class=\"xref py py-obj docutils literal notranslate\"><span class=\"pre\">ceil</span></code></a>,\n",
        "<a href=\"https://numpy.org/doc/stable/reference/generated/numpy.clip.html#numpy.clip\" title=\"numpy.clip\"><code class=\"xref py py-obj docutils literal notranslate\"><span class=\"pre\">clip</span></code></a>,\n",
        "<a href=\"https://numpy.org/doc/stable/reference/generated/numpy.conj.html#numpy.conj\" title=\"numpy.conj\"><code class=\"xref py py-obj docutils literal notranslate\"><span class=\"pre\">conj</span></code></a>,\n",
        "<a href=\"https://numpy.org/doc/stable/reference/generated/numpy.corrcoef.html#numpy.corrcoef\" title=\"numpy.corrcoef\"><code class=\"xref py py-obj docutils literal notranslate\"><span class=\"pre\">corrcoef</span></code></a>,\n",
        "<a href=\"https://numpy.org/doc/stable/reference/generated/numpy.cov.html#numpy.cov\" title=\"numpy.cov\"><code class=\"xref py py-obj docutils literal notranslate\"><span class=\"pre\">cov</span></code></a>,\n",
        "<a href=\"https://numpy.org/doc/stable/reference/generated/numpy.cross.html#numpy.cross\" title=\"numpy.cross\"><code class=\"xref py py-obj docutils literal notranslate\"><span class=\"pre\">cross</span></code></a>,\n",
        "<a href=\"https://numpy.org/doc/stable/reference/generated/numpy.cumprod.html#numpy.cumprod\" title=\"numpy.cumprod\"><code class=\"xref py py-obj docutils literal notranslate\"><span class=\"pre\">cumprod</span></code></a>,\n",
        "<a href=\"https://numpy.org/doc/stable/reference/generated/numpy.cumsum.html#numpy.cumsum\" title=\"numpy.cumsum\"><code class=\"xref py py-obj docutils literal notranslate\"><span class=\"pre\">cumsum</span></code></a>,\n",
        "<a href=\"https://numpy.org/doc/stable/reference/generated/numpy.diff.html#numpy.diff\" title=\"numpy.diff\"><code class=\"xref py py-obj docutils literal notranslate\"><span class=\"pre\">diff</span></code></a>,\n",
        "<a href=\"https://numpy.org/doc/stable/reference/generated/numpy.floor.html#numpy.floor\" title=\"numpy.floor\"><code class=\"xref py py-obj docutils literal notranslate\"><span class=\"pre\">floor</span></code></a>,\n",
        "<a href=\"https://numpy.org/doc/stable/reference/generated/numpy.inner.html#numpy.inner\" title=\"numpy.inner\"><code class=\"xref py py-obj docutils literal notranslate\"><span class=\"pre\">inner</span></code></a>,\n",
        "<a href=\"https://numpy.org/doc/stable/reference/generated/numpy.invert.html#numpy.invert\" title=\"numpy.invert\"><code class=\"xref py py-obj docutils literal notranslate\"><span class=\"pre\">invert</span></code></a>,\n",
        "<a href=\"https://numpy.org/doc/stable/reference/generated/numpy.lexsort.html#numpy.lexsort\" title=\"numpy.lexsort\"><code class=\"xref py py-obj docutils literal notranslate\"><span class=\"pre\">lexsort</span></code></a>,\n",
        "<a class=\"reference external\" href=\"https://docs.python.org/3/library/functions.html#max\" title=\"(in Python v3.10)\"><code class=\"xref py py-obj docutils literal notranslate\"><span class=\"pre\">max</span></code></a>,\n",
        "<a href=\"https://numpy.org/doc/stable/reference/generated/numpy.maximum.html#numpy.maximum\" title=\"numpy.maximum\"><code class=\"xref py py-obj docutils literal notranslate\"><span class=\"pre\">maximum</span></code></a>,\n",
        "<a href=\"https://numpy.org/doc/stable/reference/generated/numpy.mean.html#numpy.mean\" title=\"numpy.mean\"><code class=\"xref py py-obj docutils literal notranslate\"><span class=\"pre\">mean</span></code></a>,\n",
        "<a href=\"https://numpy.org/doc/stable/reference/generated/numpy.median.html#numpy.median\" title=\"numpy.median\"><code class=\"xref py py-obj docutils literal notranslate\"><span class=\"pre\">median</span></code></a>,\n",
        "<a class=\"reference external\" href=\"https://docs.python.org/3/library/functions.html#min\" title=\"(in Python v3.10)\"><code class=\"xref py py-obj docutils literal notranslate\"><span class=\"pre\">min</span></code></a>,\n",
        "<a href=\"https://numpy.org/doc/stable/reference/generated/numpy.minimum.html#numpy.minimum\" title=\"numpy.minimum\"><code class=\"xref py py-obj docutils literal notranslate\"><span class=\"pre\">minimum</span></code></a>,\n",
        "<a href=\"https://numpy.org/doc/stable/reference/generated/numpy.nonzero.html#numpy.nonzero\" title=\"numpy.nonzero\"><code class=\"xref py py-obj docutils literal notranslate\"><span class=\"pre\">nonzero</span></code></a>,\n",
        "<a href=\"https://numpy.org/doc/stable/reference/generated/numpy.outer.html#numpy.outer\" title=\"numpy.outer\"><code class=\"xref py py-obj docutils literal notranslate\"><span class=\"pre\">outer</span></code></a>,\n",
        "<a href=\"https://numpy.org/doc/stable/reference/generated/numpy.prod.html#numpy.prod\" title=\"numpy.prod\"><code class=\"xref py py-obj docutils literal notranslate\"><span class=\"pre\">prod</span></code></a>,\n",
        "<a class=\"reference external\" href=\"https://docs.python.org/3/library/re.html#module-re\" title=\"(in Python v3.10)\"><code class=\"xref py py-obj docutils literal notranslate\"><span class=\"pre\">re</span></code></a>,\n",
        "<a class=\"reference external\" href=\"https://docs.python.org/3/library/functions.html#round\" title=\"(in Python v3.10)\"><code class=\"xref py py-obj docutils literal notranslate\"><span class=\"pre\">round</span></code></a>,\n",
        "<a href=\"https://numpy.org/doc/stable/reference/generated/numpy.sort.html#numpy.sort\" title=\"numpy.sort\"><code class=\"xref py py-obj docutils literal notranslate\"><span class=\"pre\">sort</span></code></a>,\n",
        "<a href=\"https://numpy.org/doc/stable/reference/generated/numpy.std.html#numpy.std\" title=\"numpy.std\"><code class=\"xref py py-obj docutils literal notranslate\"><span class=\"pre\">std</span></code></a>,\n",
        "<a href=\"https://numpy.org/doc/stable/reference/generated/numpy.sum.html#numpy.sum\" title=\"numpy.sum\"><code class=\"xref py py-obj docutils literal notranslate\"><span class=\"pre\">sum</span></code></a>,\n",
        "<a href=\"https://numpy.org/doc/stable/reference/generated/numpy.trace.html#numpy.trace\" title=\"numpy.trace\"><code class=\"xref py py-obj docutils literal notranslate\"><span class=\"pre\">trace</span></code></a>,\n",
        "<a href=\"https://numpy.org/doc/stable/reference/generated/numpy.transpose.html#numpy.transpose\" title=\"numpy.transpose\"><code class=\"xref py py-obj docutils literal notranslate\"><span class=\"pre\">transpose</span></code></a>,\n",
        "<a href=\"https://numpy.org/doc/stable/reference/generated/numpy.var.html#numpy.var\" title=\"numpy.var\"><code class=\"xref py py-obj docutils literal notranslate\"><span class=\"pre\">var</span></code></a>,\n",
        "<a href=\"https://numpy.org/doc/stable/reference/generated/numpy.vdot.html#numpy.vdot\" title=\"numpy.vdot\"><code class=\"xref py py-obj docutils literal notranslate\"><span class=\"pre\">vdot</span></code></a>,\n",
        "<a href=\"https://numpy.org/doc/stable/reference/generated/numpy.vectorize.html#numpy.vectorize\" title=\"numpy.vectorize\"><code class=\"xref py py-obj docutils literal notranslate\"><span class=\"pre\">vectorize</span></code></a>,\n",
        "<a href=\"https://numpy.org/doc/stable/reference/generated/numpy.where.html#numpy.where\" title=\"numpy.where\"><code class=\"xref py py-obj docutils literal notranslate\"><span class=\"pre\">where</span></code></a></p>"
      ],
      "metadata": {
        "id": "vR6MATkZsBM0"
      }
    },
    {
      "cell_type": "markdown",
      "source": [
        "Most universal functions can operate not only on NumPy arrays (ndarray), but also on Python lists, arrays or any object convertible to a NumPy array:"
      ],
      "metadata": {
        "id": "WOkVZ-lcUMLx"
      }
    },
    {
      "cell_type": "code",
      "source": [
        "# cross product of two vectors\n",
        "np.cross([3, 0, 2], [-1, 4, 2])"
      ],
      "metadata": {
        "colab": {
          "base_uri": "https://localhost:8080/"
        },
        "id": "3knRYtgktiHS",
        "outputId": "b446322f-8782-4b6a-ea8e-701eaf1ebaa9"
      },
      "execution_count": 52,
      "outputs": [
        {
          "output_type": "execute_result",
          "data": {
            "text/plain": [
              "array([-8, -8, 12])"
            ]
          },
          "metadata": {},
          "execution_count": 52
        }
      ]
    },
    {
      "cell_type": "markdown",
      "source": [
        "More usage examples of universal functions:"
      ],
      "metadata": {
        "id": "48RMs7exURVC"
      }
    },
    {
      "cell_type": "code",
      "source": [
        "# reverse an array\n",
        "np.flip(one_d_array)"
      ],
      "metadata": {
        "colab": {
          "base_uri": "https://localhost:8080/"
        },
        "id": "arO3xFKAtFDC",
        "outputId": "9bf748fe-a783-40de-d239-f008f8efb3cd"
      },
      "execution_count": 53,
      "outputs": [
        {
          "output_type": "execute_result",
          "data": {
            "text/plain": [
              "array([3, 2, 1, 0])"
            ]
          },
          "metadata": {},
          "execution_count": 53
        }
      ]
    },
    {
      "cell_type": "code",
      "source": [
        "# sort an array, default ascending\n",
        "np.sort(np.random.random(5))"
      ],
      "metadata": {
        "colab": {
          "base_uri": "https://localhost:8080/"
        },
        "id": "RsSkShcAtRzs",
        "outputId": "218eb06e-e77d-43a9-e9a8-e9c1e76f3b95"
      },
      "execution_count": 54,
      "outputs": [
        {
          "output_type": "execute_result",
          "data": {
            "text/plain": [
              "array([0.1594257 , 0.66959897, 0.70343233, 0.83296491, 0.98266274])"
            ]
          },
          "metadata": {},
          "execution_count": 54
        }
      ]
    },
    {
      "cell_type": "code",
      "source": [
        "# get the index of the max element\n",
        "one_to_nine = np.arange(1, 10)\n",
        "np.argmax(one_to_nine)"
      ],
      "metadata": {
        "colab": {
          "base_uri": "https://localhost:8080/"
        },
        "id": "rs7oE7BewIRT",
        "outputId": "112d505b-b920-487f-aa2d-d655b610ed42"
      },
      "execution_count": 55,
      "outputs": [
        {
          "output_type": "execute_result",
          "data": {
            "text/plain": [
              "8"
            ]
          },
          "metadata": {},
          "execution_count": 55
        }
      ]
    },
    {
      "cell_type": "code",
      "source": [
        "# look up the element by index\n",
        "one_to_nine[np.argmax(one_to_nine)]"
      ],
      "metadata": {
        "colab": {
          "base_uri": "https://localhost:8080/"
        },
        "id": "J8pmanFxwSls",
        "outputId": "25a3be7b-19b9-483f-85b6-3d3c0106f5dc"
      },
      "execution_count": 56,
      "outputs": [
        {
          "output_type": "execute_result",
          "data": {
            "text/plain": [
              "9"
            ]
          },
          "metadata": {},
          "execution_count": 56
        }
      ]
    },
    {
      "cell_type": "code",
      "source": [
        "# check if any of the element evaluates to true\n",
        "np.any([False, 0])"
      ],
      "metadata": {
        "colab": {
          "base_uri": "https://localhost:8080/"
        },
        "id": "e13C-wxmyHQH",
        "outputId": "8cc05d1e-8581-4400-d6b1-5f814eebefb4"
      },
      "execution_count": 57,
      "outputs": [
        {
          "output_type": "execute_result",
          "data": {
            "text/plain": [
              "False"
            ]
          },
          "metadata": {},
          "execution_count": 57
        }
      ]
    },
    {
      "cell_type": "code",
      "source": [
        "# check if all of the elements evaluate to true\n",
        "np.all([True, 3, np.nan])"
      ],
      "metadata": {
        "colab": {
          "base_uri": "https://localhost:8080/"
        },
        "id": "_iT6tGr5ykCz",
        "outputId": "4ce604cf-7cc8-4bd4-ea3f-9bc889d36264"
      },
      "execution_count": 58,
      "outputs": [
        {
          "output_type": "execute_result",
          "data": {
            "text/plain": [
              "True"
            ]
          },
          "metadata": {},
          "execution_count": 58
        }
      ]
    },
    {
      "cell_type": "code",
      "source": [
        "# pair-wise element comparison\n",
        "np.greater([1, 2, 3], [1, 2, 1])"
      ],
      "metadata": {
        "colab": {
          "base_uri": "https://localhost:8080/"
        },
        "id": "j7SpyHJUzxQX",
        "outputId": "bcbeba7c-254f-4af7-cd58-d5ec4e4a146a"
      },
      "execution_count": 59,
      "outputs": [
        {
          "output_type": "execute_result",
          "data": {
            "text/plain": [
              "array([False, False,  True])"
            ]
          },
          "metadata": {},
          "execution_count": 59
        }
      ]
    },
    {
      "cell_type": "code",
      "source": [
        "# Does any of the pair-wise comparison evaluate to true?\n",
        "np.any(np.greater([1, 2, 3], [1, 2, 1]))"
      ],
      "metadata": {
        "colab": {
          "base_uri": "https://localhost:8080/"
        },
        "id": "TaOUacao0fU4",
        "outputId": "f9265b3c-368a-4948-d26c-d01e10dfa8d0"
      },
      "execution_count": 60,
      "outputs": [
        {
          "output_type": "execute_result",
          "data": {
            "text/plain": [
              "True"
            ]
          },
          "metadata": {},
          "execution_count": 60
        }
      ]
    },
    {
      "cell_type": "code",
      "source": [
        "# select the indexes of elements that evaluate to true\n",
        "a = np.array([1, 2, 3, 4])\n",
        "np.where(a % 2) # find odd numbers"
      ],
      "metadata": {
        "colab": {
          "base_uri": "https://localhost:8080/"
        },
        "id": "Auo883i_0m_d",
        "outputId": "3e330132-90da-43c4-c04c-3800d627fd74"
      },
      "execution_count": 61,
      "outputs": [
        {
          "output_type": "execute_result",
          "data": {
            "text/plain": [
              "(array([0, 2]),)"
            ]
          },
          "metadata": {},
          "execution_count": 61
        }
      ]
    },
    {
      "cell_type": "code",
      "source": [
        "# select the elements that evaluate to true\n",
        "np.where(a % 2, a, np.nan)"
      ],
      "metadata": {
        "colab": {
          "base_uri": "https://localhost:8080/"
        },
        "id": "ImxrxvdG1_tb",
        "outputId": "84878668-0e53-45ba-ffe9-de172d56419a"
      },
      "execution_count": 62,
      "outputs": [
        {
          "output_type": "execute_result",
          "data": {
            "text/plain": [
              "array([ 1., nan,  3., nan])"
            ]
          },
          "metadata": {},
          "execution_count": 62
        }
      ]
    },
    {
      "cell_type": "markdown",
      "source": [
        "## Exercises\n",
        "\n",
        "**Task**: Calculate the dot product of vector `(1, 2, 3)` with itself **using one of NumPy's universal functions**. Store the result in variable `dot_result`:"
      ],
      "metadata": {
        "id": "HfhHrQFcdLRr"
      }
    },
    {
      "cell_type": "code",
      "source": [
        "%%script echo Remove this line after filling in your own code\n",
        "# Your code here\n",
        "\n",
        "# === Do not modify code below ===\n",
        "assert dot_result == 14"
      ],
      "metadata": {
        "colab": {
          "base_uri": "https://localhost:8080/"
        },
        "id": "HET4DMM4d51a",
        "outputId": "c9101846-5ac1-4fa8-9771-b507732a545a"
      },
      "execution_count": 63,
      "outputs": [
        {
          "output_type": "stream",
          "name": "stdout",
          "text": [
            "Remove this line after filling in your own code\n"
          ]
        }
      ]
    },
    {
      "cell_type": "markdown",
      "source": [
        "# Pandas\n",
        "\n",
        "Datasets we often work with come in tabular form – think Excel/Google spreadsheets – and with mixed data types, some numerical, some categorical, some textual. Before we can perform fancy mathematical operations and meaningful analysis on such data using NumPy and other python libraries, we usually need to understand and preprocess the data first. This process involves operations such as cleaning, reshaping, filtering, and subsetting. This is where Pandas comes in.\n",
        "\n",
        "Aside: Why is such a data analysis library named Pandas? Aparently the name is derived from the term \"panel data\".\n",
        "\n",
        "Like `ndarray` is the basic building block of NumPy, `Series` and `DataFrame` are the basic building blocks of Pandas. "
      ],
      "metadata": {
        "id": "apd7GljeDz59"
      }
    },
    {
      "cell_type": "markdown",
      "source": [
        "## Series\n",
        "\n",
        "`Series` is a one-dimensional **labeled** array capable of holding **any data type**. The axis labels are collectively referred to as the index. "
      ],
      "metadata": {
        "id": "DSpeS492gLEW"
      }
    },
    {
      "cell_type": "markdown",
      "source": [
        "### Can I create Series from ndarrays?"
      ],
      "metadata": {
        "id": "ec5MCn0bg-EP"
      }
    },
    {
      "cell_type": "code",
      "source": [
        "import pandas as pd\n",
        "import numpy as np\n",
        "\n",
        "# specify the labels through the `index` argument\n",
        "labelled_series = pd.Series(np.arange(1, 4), index=[\"r1\", \"r2\", \"r3\"])\n",
        "labelled_series"
      ],
      "metadata": {
        "colab": {
          "base_uri": "https://localhost:8080/"
        },
        "id": "ZIWcxaKfhanx",
        "outputId": "0a4caa55-cc07-44c9-fea9-a06b76a4dc65"
      },
      "execution_count": 64,
      "outputs": [
        {
          "output_type": "execute_result",
          "data": {
            "text/plain": [
              "r1    1\n",
              "r2    2\n",
              "r3    3\n",
              "dtype: int64"
            ]
          },
          "metadata": {},
          "execution_count": 64
        }
      ]
    },
    {
      "cell_type": "code",
      "source": [
        "# by default, integer sequence starting from 0 is used as labels\n",
        "default_series = pd.Series(np.arange(1, 4))\n",
        "default_series"
      ],
      "metadata": {
        "colab": {
          "base_uri": "https://localhost:8080/"
        },
        "id": "bbbahkW1h2Fg",
        "outputId": "da136fbc-40b2-4ba1-b9b1-f830dbe721f7"
      },
      "execution_count": 65,
      "outputs": [
        {
          "output_type": "execute_result",
          "data": {
            "text/plain": [
              "0    1\n",
              "1    2\n",
              "2    3\n",
              "dtype: int64"
            ]
          },
          "metadata": {},
          "execution_count": 65
        }
      ]
    },
    {
      "cell_type": "code",
      "source": [
        "# Individual elements can be looked up using labels\n",
        "labelled_series[\"r2\"]"
      ],
      "metadata": {
        "colab": {
          "base_uri": "https://localhost:8080/"
        },
        "id": "15h1ZumAip1f",
        "outputId": "5b2d4025-3df1-4411-8556-c0c5c58b90ac"
      },
      "execution_count": 66,
      "outputs": [
        {
          "output_type": "execute_result",
          "data": {
            "text/plain": [
              "2"
            ]
          },
          "metadata": {},
          "execution_count": 66
        }
      ]
    },
    {
      "cell_type": "code",
      "source": [
        "default_series[2]"
      ],
      "metadata": {
        "colab": {
          "base_uri": "https://localhost:8080/"
        },
        "id": "peq4eUTujAI-",
        "outputId": "ed607fd1-ecca-400e-cd6f-59ed659c2b48"
      },
      "execution_count": 67,
      "outputs": [
        {
          "output_type": "execute_result",
          "data": {
            "text/plain": [
              "3"
            ]
          },
          "metadata": {},
          "execution_count": 67
        }
      ]
    },
    {
      "cell_type": "markdown",
      "source": [
        "### Can I recover the ndarray from a series?"
      ],
      "metadata": {
        "id": "7Ne5U5vdjxPU"
      }
    },
    {
      "cell_type": "code",
      "source": [
        "labelled_series.to_numpy()"
      ],
      "metadata": {
        "colab": {
          "base_uri": "https://localhost:8080/"
        },
        "id": "PtYrA1CSjrJc",
        "outputId": "dc934639-fe4c-4d52-f987-ba2d5f6591b2"
      },
      "execution_count": 68,
      "outputs": [
        {
          "output_type": "execute_result",
          "data": {
            "text/plain": [
              "array([1, 2, 3])"
            ]
          },
          "metadata": {},
          "execution_count": 68
        }
      ]
    },
    {
      "cell_type": "code",
      "source": [
        "# alternatively\n",
        "labelled_series.values"
      ],
      "metadata": {
        "colab": {
          "base_uri": "https://localhost:8080/"
        },
        "id": "kF-8b0AloO1h",
        "outputId": "7665f55a-7a94-4172-d6af-a30e4f87dd07"
      },
      "execution_count": 69,
      "outputs": [
        {
          "output_type": "execute_result",
          "data": {
            "text/plain": [
              "array([1, 2, 3])"
            ]
          },
          "metadata": {},
          "execution_count": 69
        }
      ]
    },
    {
      "cell_type": "markdown",
      "source": [
        "## DataFrame\n",
        "\n",
        "`DataFrame` is a 2-dimensional **labeled** data structure with **columns of potentially different types**. You can think of it like a spreadsheet or SQL table, or a dict of Series objects. It is generally the most commonly used pandas object."
      ],
      "metadata": {
        "id": "Yj-JuBEuhhvG"
      }
    },
    {
      "cell_type": "markdown",
      "source": [
        "### Creating DataFrames\n",
        "\n",
        "There are many ways to create a `DataFrame`. Let's look at some examples with the data types we are already familiar with."
      ],
      "metadata": {
        "id": "wCQIFZbgLKTl"
      }
    },
    {
      "cell_type": "markdown",
      "source": [
        "#### Can I create a DataFrame from Series?"
      ],
      "metadata": {
        "id": "kec7XEzdiTC5"
      }
    },
    {
      "cell_type": "code",
      "source": [
        "df_from_series = pd.DataFrame({\"c1\": labelled_series, \"c2\": labelled_series * 2})\n",
        "df_from_series"
      ],
      "metadata": {
        "colab": {
          "base_uri": "https://localhost:8080/",
          "height": 143
        },
        "id": "QcAkiwxGib61",
        "outputId": "a81d452e-6479-4397-9c8e-5bd11d93f996"
      },
      "execution_count": 70,
      "outputs": [
        {
          "output_type": "execute_result",
          "data": {
            "text/plain": [
              "    c1  c2\n",
              "r1   1   2\n",
              "r2   2   4\n",
              "r3   3   6"
            ],
            "text/html": [
              "\n",
              "  <div id=\"df-47363067-e5d5-4d00-b5b5-abc03d58b093\">\n",
              "    <div class=\"colab-df-container\">\n",
              "      <div>\n",
              "<style scoped>\n",
              "    .dataframe tbody tr th:only-of-type {\n",
              "        vertical-align: middle;\n",
              "    }\n",
              "\n",
              "    .dataframe tbody tr th {\n",
              "        vertical-align: top;\n",
              "    }\n",
              "\n",
              "    .dataframe thead th {\n",
              "        text-align: right;\n",
              "    }\n",
              "</style>\n",
              "<table border=\"1\" class=\"dataframe\">\n",
              "  <thead>\n",
              "    <tr style=\"text-align: right;\">\n",
              "      <th></th>\n",
              "      <th>c1</th>\n",
              "      <th>c2</th>\n",
              "    </tr>\n",
              "  </thead>\n",
              "  <tbody>\n",
              "    <tr>\n",
              "      <th>r1</th>\n",
              "      <td>1</td>\n",
              "      <td>2</td>\n",
              "    </tr>\n",
              "    <tr>\n",
              "      <th>r2</th>\n",
              "      <td>2</td>\n",
              "      <td>4</td>\n",
              "    </tr>\n",
              "    <tr>\n",
              "      <th>r3</th>\n",
              "      <td>3</td>\n",
              "      <td>6</td>\n",
              "    </tr>\n",
              "  </tbody>\n",
              "</table>\n",
              "</div>\n",
              "      <button class=\"colab-df-convert\" onclick=\"convertToInteractive('df-47363067-e5d5-4d00-b5b5-abc03d58b093')\"\n",
              "              title=\"Convert this dataframe to an interactive table.\"\n",
              "              style=\"display:none;\">\n",
              "        \n",
              "  <svg xmlns=\"http://www.w3.org/2000/svg\" height=\"24px\"viewBox=\"0 0 24 24\"\n",
              "       width=\"24px\">\n",
              "    <path d=\"M0 0h24v24H0V0z\" fill=\"none\"/>\n",
              "    <path d=\"M18.56 5.44l.94 2.06.94-2.06 2.06-.94-2.06-.94-.94-2.06-.94 2.06-2.06.94zm-11 1L8.5 8.5l.94-2.06 2.06-.94-2.06-.94L8.5 2.5l-.94 2.06-2.06.94zm10 10l.94 2.06.94-2.06 2.06-.94-2.06-.94-.94-2.06-.94 2.06-2.06.94z\"/><path d=\"M17.41 7.96l-1.37-1.37c-.4-.4-.92-.59-1.43-.59-.52 0-1.04.2-1.43.59L10.3 9.45l-7.72 7.72c-.78.78-.78 2.05 0 2.83L4 21.41c.39.39.9.59 1.41.59.51 0 1.02-.2 1.41-.59l7.78-7.78 2.81-2.81c.8-.78.8-2.07 0-2.86zM5.41 20L4 18.59l7.72-7.72 1.47 1.35L5.41 20z\"/>\n",
              "  </svg>\n",
              "      </button>\n",
              "      \n",
              "  <style>\n",
              "    .colab-df-container {\n",
              "      display:flex;\n",
              "      flex-wrap:wrap;\n",
              "      gap: 12px;\n",
              "    }\n",
              "\n",
              "    .colab-df-convert {\n",
              "      background-color: #E8F0FE;\n",
              "      border: none;\n",
              "      border-radius: 50%;\n",
              "      cursor: pointer;\n",
              "      display: none;\n",
              "      fill: #1967D2;\n",
              "      height: 32px;\n",
              "      padding: 0 0 0 0;\n",
              "      width: 32px;\n",
              "    }\n",
              "\n",
              "    .colab-df-convert:hover {\n",
              "      background-color: #E2EBFA;\n",
              "      box-shadow: 0px 1px 2px rgba(60, 64, 67, 0.3), 0px 1px 3px 1px rgba(60, 64, 67, 0.15);\n",
              "      fill: #174EA6;\n",
              "    }\n",
              "\n",
              "    [theme=dark] .colab-df-convert {\n",
              "      background-color: #3B4455;\n",
              "      fill: #D2E3FC;\n",
              "    }\n",
              "\n",
              "    [theme=dark] .colab-df-convert:hover {\n",
              "      background-color: #434B5C;\n",
              "      box-shadow: 0px 1px 3px 1px rgba(0, 0, 0, 0.15);\n",
              "      filter: drop-shadow(0px 1px 2px rgba(0, 0, 0, 0.3));\n",
              "      fill: #FFFFFF;\n",
              "    }\n",
              "  </style>\n",
              "\n",
              "      <script>\n",
              "        const buttonEl =\n",
              "          document.querySelector('#df-47363067-e5d5-4d00-b5b5-abc03d58b093 button.colab-df-convert');\n",
              "        buttonEl.style.display =\n",
              "          google.colab.kernel.accessAllowed ? 'block' : 'none';\n",
              "\n",
              "        async function convertToInteractive(key) {\n",
              "          const element = document.querySelector('#df-47363067-e5d5-4d00-b5b5-abc03d58b093');\n",
              "          const dataTable =\n",
              "            await google.colab.kernel.invokeFunction('convertToInteractive',\n",
              "                                                     [key], {});\n",
              "          if (!dataTable) return;\n",
              "\n",
              "          const docLinkHtml = 'Like what you see? Visit the ' +\n",
              "            '<a target=\"_blank\" href=https://colab.research.google.com/notebooks/data_table.ipynb>data table notebook</a>'\n",
              "            + ' to learn more about interactive tables.';\n",
              "          element.innerHTML = '';\n",
              "          dataTable['output_type'] = 'display_data';\n",
              "          await google.colab.output.renderOutput(dataTable, element);\n",
              "          const docLink = document.createElement('div');\n",
              "          docLink.innerHTML = docLinkHtml;\n",
              "          element.appendChild(docLink);\n",
              "        }\n",
              "      </script>\n",
              "    </div>\n",
              "  </div>\n",
              "  "
            ]
          },
          "metadata": {},
          "execution_count": 70
        }
      ]
    },
    {
      "cell_type": "code",
      "source": [
        "df_from_series.columns"
      ],
      "metadata": {
        "colab": {
          "base_uri": "https://localhost:8080/"
        },
        "id": "NOQ_nHiSkukP",
        "outputId": "c3f8ba8d-294d-49c0-d11a-504ba18af34e"
      },
      "execution_count": 71,
      "outputs": [
        {
          "output_type": "execute_result",
          "data": {
            "text/plain": [
              "Index(['c1', 'c2'], dtype='object')"
            ]
          },
          "metadata": {},
          "execution_count": 71
        }
      ]
    },
    {
      "cell_type": "code",
      "source": [
        "df_from_series.index"
      ],
      "metadata": {
        "colab": {
          "base_uri": "https://localhost:8080/"
        },
        "id": "NFENQGSSlm8h",
        "outputId": "423a6969-6862-4895-fe03-680482a5de27"
      },
      "execution_count": 72,
      "outputs": [
        {
          "output_type": "execute_result",
          "data": {
            "text/plain": [
              "Index(['r1', 'r2', 'r3'], dtype='object')"
            ]
          },
          "metadata": {},
          "execution_count": 72
        }
      ]
    },
    {
      "cell_type": "markdown",
      "source": [
        "#### Can I create a DataFrame from an ndarray?"
      ],
      "metadata": {
        "id": "tOnURc2ylued"
      }
    },
    {
      "cell_type": "code",
      "source": [
        "raw_values = np.arange(1, 7).reshape(2, -1)\n",
        "raw_values"
      ],
      "metadata": {
        "colab": {
          "base_uri": "https://localhost:8080/"
        },
        "id": "QDDv3JfVmGKg",
        "outputId": "06959fac-6b0c-4163-b35c-590ffc5e5e93"
      },
      "execution_count": 73,
      "outputs": [
        {
          "output_type": "execute_result",
          "data": {
            "text/plain": [
              "array([[1, 2, 3],\n",
              "       [4, 5, 6]])"
            ]
          },
          "metadata": {},
          "execution_count": 73
        }
      ]
    },
    {
      "cell_type": "code",
      "source": [
        "df_from_ndarray = pd.DataFrame(raw_values, columns=['A', 'B', 'C'])\n",
        "df_from_ndarray"
      ],
      "metadata": {
        "colab": {
          "base_uri": "https://localhost:8080/",
          "height": 112
        },
        "id": "9jAZaBOJloiV",
        "outputId": "99945550-52bf-4a12-db76-2f5e552e5be9"
      },
      "execution_count": 74,
      "outputs": [
        {
          "output_type": "execute_result",
          "data": {
            "text/plain": [
              "   A  B  C\n",
              "0  1  2  3\n",
              "1  4  5  6"
            ],
            "text/html": [
              "\n",
              "  <div id=\"df-617b7302-3cbf-4b4a-9392-e91e5b01b86a\">\n",
              "    <div class=\"colab-df-container\">\n",
              "      <div>\n",
              "<style scoped>\n",
              "    .dataframe tbody tr th:only-of-type {\n",
              "        vertical-align: middle;\n",
              "    }\n",
              "\n",
              "    .dataframe tbody tr th {\n",
              "        vertical-align: top;\n",
              "    }\n",
              "\n",
              "    .dataframe thead th {\n",
              "        text-align: right;\n",
              "    }\n",
              "</style>\n",
              "<table border=\"1\" class=\"dataframe\">\n",
              "  <thead>\n",
              "    <tr style=\"text-align: right;\">\n",
              "      <th></th>\n",
              "      <th>A</th>\n",
              "      <th>B</th>\n",
              "      <th>C</th>\n",
              "    </tr>\n",
              "  </thead>\n",
              "  <tbody>\n",
              "    <tr>\n",
              "      <th>0</th>\n",
              "      <td>1</td>\n",
              "      <td>2</td>\n",
              "      <td>3</td>\n",
              "    </tr>\n",
              "    <tr>\n",
              "      <th>1</th>\n",
              "      <td>4</td>\n",
              "      <td>5</td>\n",
              "      <td>6</td>\n",
              "    </tr>\n",
              "  </tbody>\n",
              "</table>\n",
              "</div>\n",
              "      <button class=\"colab-df-convert\" onclick=\"convertToInteractive('df-617b7302-3cbf-4b4a-9392-e91e5b01b86a')\"\n",
              "              title=\"Convert this dataframe to an interactive table.\"\n",
              "              style=\"display:none;\">\n",
              "        \n",
              "  <svg xmlns=\"http://www.w3.org/2000/svg\" height=\"24px\"viewBox=\"0 0 24 24\"\n",
              "       width=\"24px\">\n",
              "    <path d=\"M0 0h24v24H0V0z\" fill=\"none\"/>\n",
              "    <path d=\"M18.56 5.44l.94 2.06.94-2.06 2.06-.94-2.06-.94-.94-2.06-.94 2.06-2.06.94zm-11 1L8.5 8.5l.94-2.06 2.06-.94-2.06-.94L8.5 2.5l-.94 2.06-2.06.94zm10 10l.94 2.06.94-2.06 2.06-.94-2.06-.94-.94-2.06-.94 2.06-2.06.94z\"/><path d=\"M17.41 7.96l-1.37-1.37c-.4-.4-.92-.59-1.43-.59-.52 0-1.04.2-1.43.59L10.3 9.45l-7.72 7.72c-.78.78-.78 2.05 0 2.83L4 21.41c.39.39.9.59 1.41.59.51 0 1.02-.2 1.41-.59l7.78-7.78 2.81-2.81c.8-.78.8-2.07 0-2.86zM5.41 20L4 18.59l7.72-7.72 1.47 1.35L5.41 20z\"/>\n",
              "  </svg>\n",
              "      </button>\n",
              "      \n",
              "  <style>\n",
              "    .colab-df-container {\n",
              "      display:flex;\n",
              "      flex-wrap:wrap;\n",
              "      gap: 12px;\n",
              "    }\n",
              "\n",
              "    .colab-df-convert {\n",
              "      background-color: #E8F0FE;\n",
              "      border: none;\n",
              "      border-radius: 50%;\n",
              "      cursor: pointer;\n",
              "      display: none;\n",
              "      fill: #1967D2;\n",
              "      height: 32px;\n",
              "      padding: 0 0 0 0;\n",
              "      width: 32px;\n",
              "    }\n",
              "\n",
              "    .colab-df-convert:hover {\n",
              "      background-color: #E2EBFA;\n",
              "      box-shadow: 0px 1px 2px rgba(60, 64, 67, 0.3), 0px 1px 3px 1px rgba(60, 64, 67, 0.15);\n",
              "      fill: #174EA6;\n",
              "    }\n",
              "\n",
              "    [theme=dark] .colab-df-convert {\n",
              "      background-color: #3B4455;\n",
              "      fill: #D2E3FC;\n",
              "    }\n",
              "\n",
              "    [theme=dark] .colab-df-convert:hover {\n",
              "      background-color: #434B5C;\n",
              "      box-shadow: 0px 1px 3px 1px rgba(0, 0, 0, 0.15);\n",
              "      filter: drop-shadow(0px 1px 2px rgba(0, 0, 0, 0.3));\n",
              "      fill: #FFFFFF;\n",
              "    }\n",
              "  </style>\n",
              "\n",
              "      <script>\n",
              "        const buttonEl =\n",
              "          document.querySelector('#df-617b7302-3cbf-4b4a-9392-e91e5b01b86a button.colab-df-convert');\n",
              "        buttonEl.style.display =\n",
              "          google.colab.kernel.accessAllowed ? 'block' : 'none';\n",
              "\n",
              "        async function convertToInteractive(key) {\n",
              "          const element = document.querySelector('#df-617b7302-3cbf-4b4a-9392-e91e5b01b86a');\n",
              "          const dataTable =\n",
              "            await google.colab.kernel.invokeFunction('convertToInteractive',\n",
              "                                                     [key], {});\n",
              "          if (!dataTable) return;\n",
              "\n",
              "          const docLinkHtml = 'Like what you see? Visit the ' +\n",
              "            '<a target=\"_blank\" href=https://colab.research.google.com/notebooks/data_table.ipynb>data table notebook</a>'\n",
              "            + ' to learn more about interactive tables.';\n",
              "          element.innerHTML = '';\n",
              "          dataTable['output_type'] = 'display_data';\n",
              "          await google.colab.output.renderOutput(dataTable, element);\n",
              "          const docLink = document.createElement('div');\n",
              "          docLink.innerHTML = docLinkHtml;\n",
              "          element.appendChild(docLink);\n",
              "        }\n",
              "      </script>\n",
              "    </div>\n",
              "  </div>\n",
              "  "
            ]
          },
          "metadata": {},
          "execution_count": 74
        }
      ]
    },
    {
      "cell_type": "markdown",
      "source": [
        "To recover the raw values from a `DataFrame`:"
      ],
      "metadata": {
        "id": "uK3s5dmuon7c"
      }
    },
    {
      "cell_type": "code",
      "source": [
        "df_from_ndarray.values"
      ],
      "metadata": {
        "colab": {
          "base_uri": "https://localhost:8080/"
        },
        "id": "pYlo3Ec7oCzq",
        "outputId": "5f9be29b-eaff-47a8-ca93-ad97cc0134e2"
      },
      "execution_count": 75,
      "outputs": [
        {
          "output_type": "execute_result",
          "data": {
            "text/plain": [
              "array([[1, 2, 3],\n",
              "       [4, 5, 6]])"
            ]
          },
          "metadata": {},
          "execution_count": 75
        }
      ]
    },
    {
      "cell_type": "markdown",
      "source": [
        "#### Can I create a DataFrame from lists?"
      ],
      "metadata": {
        "id": "LKZJgFi9m1kL"
      }
    },
    {
      "cell_type": "code",
      "source": [
        "pd.DataFrame({\"ID\": [1, 2], \"Name\": [\"dog\", \"cat\"], \"Needs Walking\": [True, False]})"
      ],
      "metadata": {
        "colab": {
          "base_uri": "https://localhost:8080/",
          "height": 112
        },
        "id": "8E02RfDEm6h3",
        "outputId": "2d6d23f7-5342-4285-aa04-3c5cb0604a45"
      },
      "execution_count": 76,
      "outputs": [
        {
          "output_type": "execute_result",
          "data": {
            "text/plain": [
              "   ID Name  Needs Walking\n",
              "0   1  dog           True\n",
              "1   2  cat          False"
            ],
            "text/html": [
              "\n",
              "  <div id=\"df-032d0194-33a9-49c8-bf2e-022f44c17c3f\">\n",
              "    <div class=\"colab-df-container\">\n",
              "      <div>\n",
              "<style scoped>\n",
              "    .dataframe tbody tr th:only-of-type {\n",
              "        vertical-align: middle;\n",
              "    }\n",
              "\n",
              "    .dataframe tbody tr th {\n",
              "        vertical-align: top;\n",
              "    }\n",
              "\n",
              "    .dataframe thead th {\n",
              "        text-align: right;\n",
              "    }\n",
              "</style>\n",
              "<table border=\"1\" class=\"dataframe\">\n",
              "  <thead>\n",
              "    <tr style=\"text-align: right;\">\n",
              "      <th></th>\n",
              "      <th>ID</th>\n",
              "      <th>Name</th>\n",
              "      <th>Needs Walking</th>\n",
              "    </tr>\n",
              "  </thead>\n",
              "  <tbody>\n",
              "    <tr>\n",
              "      <th>0</th>\n",
              "      <td>1</td>\n",
              "      <td>dog</td>\n",
              "      <td>True</td>\n",
              "    </tr>\n",
              "    <tr>\n",
              "      <th>1</th>\n",
              "      <td>2</td>\n",
              "      <td>cat</td>\n",
              "      <td>False</td>\n",
              "    </tr>\n",
              "  </tbody>\n",
              "</table>\n",
              "</div>\n",
              "      <button class=\"colab-df-convert\" onclick=\"convertToInteractive('df-032d0194-33a9-49c8-bf2e-022f44c17c3f')\"\n",
              "              title=\"Convert this dataframe to an interactive table.\"\n",
              "              style=\"display:none;\">\n",
              "        \n",
              "  <svg xmlns=\"http://www.w3.org/2000/svg\" height=\"24px\"viewBox=\"0 0 24 24\"\n",
              "       width=\"24px\">\n",
              "    <path d=\"M0 0h24v24H0V0z\" fill=\"none\"/>\n",
              "    <path d=\"M18.56 5.44l.94 2.06.94-2.06 2.06-.94-2.06-.94-.94-2.06-.94 2.06-2.06.94zm-11 1L8.5 8.5l.94-2.06 2.06-.94-2.06-.94L8.5 2.5l-.94 2.06-2.06.94zm10 10l.94 2.06.94-2.06 2.06-.94-2.06-.94-.94-2.06-.94 2.06-2.06.94z\"/><path d=\"M17.41 7.96l-1.37-1.37c-.4-.4-.92-.59-1.43-.59-.52 0-1.04.2-1.43.59L10.3 9.45l-7.72 7.72c-.78.78-.78 2.05 0 2.83L4 21.41c.39.39.9.59 1.41.59.51 0 1.02-.2 1.41-.59l7.78-7.78 2.81-2.81c.8-.78.8-2.07 0-2.86zM5.41 20L4 18.59l7.72-7.72 1.47 1.35L5.41 20z\"/>\n",
              "  </svg>\n",
              "      </button>\n",
              "      \n",
              "  <style>\n",
              "    .colab-df-container {\n",
              "      display:flex;\n",
              "      flex-wrap:wrap;\n",
              "      gap: 12px;\n",
              "    }\n",
              "\n",
              "    .colab-df-convert {\n",
              "      background-color: #E8F0FE;\n",
              "      border: none;\n",
              "      border-radius: 50%;\n",
              "      cursor: pointer;\n",
              "      display: none;\n",
              "      fill: #1967D2;\n",
              "      height: 32px;\n",
              "      padding: 0 0 0 0;\n",
              "      width: 32px;\n",
              "    }\n",
              "\n",
              "    .colab-df-convert:hover {\n",
              "      background-color: #E2EBFA;\n",
              "      box-shadow: 0px 1px 2px rgba(60, 64, 67, 0.3), 0px 1px 3px 1px rgba(60, 64, 67, 0.15);\n",
              "      fill: #174EA6;\n",
              "    }\n",
              "\n",
              "    [theme=dark] .colab-df-convert {\n",
              "      background-color: #3B4455;\n",
              "      fill: #D2E3FC;\n",
              "    }\n",
              "\n",
              "    [theme=dark] .colab-df-convert:hover {\n",
              "      background-color: #434B5C;\n",
              "      box-shadow: 0px 1px 3px 1px rgba(0, 0, 0, 0.15);\n",
              "      filter: drop-shadow(0px 1px 2px rgba(0, 0, 0, 0.3));\n",
              "      fill: #FFFFFF;\n",
              "    }\n",
              "  </style>\n",
              "\n",
              "      <script>\n",
              "        const buttonEl =\n",
              "          document.querySelector('#df-032d0194-33a9-49c8-bf2e-022f44c17c3f button.colab-df-convert');\n",
              "        buttonEl.style.display =\n",
              "          google.colab.kernel.accessAllowed ? 'block' : 'none';\n",
              "\n",
              "        async function convertToInteractive(key) {\n",
              "          const element = document.querySelector('#df-032d0194-33a9-49c8-bf2e-022f44c17c3f');\n",
              "          const dataTable =\n",
              "            await google.colab.kernel.invokeFunction('convertToInteractive',\n",
              "                                                     [key], {});\n",
              "          if (!dataTable) return;\n",
              "\n",
              "          const docLinkHtml = 'Like what you see? Visit the ' +\n",
              "            '<a target=\"_blank\" href=https://colab.research.google.com/notebooks/data_table.ipynb>data table notebook</a>'\n",
              "            + ' to learn more about interactive tables.';\n",
              "          element.innerHTML = '';\n",
              "          dataTable['output_type'] = 'display_data';\n",
              "          await google.colab.output.renderOutput(dataTable, element);\n",
              "          const docLink = document.createElement('div');\n",
              "          docLink.innerHTML = docLinkHtml;\n",
              "          element.appendChild(docLink);\n",
              "        }\n",
              "      </script>\n",
              "    </div>\n",
              "  </div>\n",
              "  "
            ]
          },
          "metadata": {},
          "execution_count": 76
        }
      ]
    },
    {
      "cell_type": "markdown",
      "source": [
        "#### Can I create a DataFrame from a file?"
      ],
      "metadata": {
        "id": "urMFL5Q3pDsW"
      }
    },
    {
      "cell_type": "code",
      "source": [
        "# TODO: update url after repo is public\n",
        "file_url = 'https://raw.githubusercontent.com/weilu/colab-sandbox/main/data/Singapore_Annual_New_Car_Registrations_by_make_type.csv'\n",
        "singapore_cars = pd.read_csv(file_url)\n",
        "singapore_cars"
      ],
      "metadata": {
        "colab": {
          "base_uri": "https://localhost:8080/",
          "height": 424
        },
        "id": "_ZPpStkhpbZn",
        "outputId": "9b51960f-0958-4c22-a921-0461f2bbdc05"
      },
      "execution_count": 77,
      "outputs": [
        {
          "output_type": "execute_result",
          "data": {
            "text/plain": [
              "      year          make    fuel                type  number\n",
              "0     2015    ALFA ROMEO  Petrol           Hatchback    29.0\n",
              "1     2015  ASTON MARTIN  Petrol           Hatchback     3.0\n",
              "2     2015          AUDI  Petrol           Hatchback   262.0\n",
              "3     2015        AUSTIN  Petrol           Hatchback     1.0\n",
              "4     2015        B.M.W.  Petrol           Hatchback   408.0\n",
              "...    ...           ...     ...                 ...     ...\n",
              "2805  2021        TOYOTA  Others  Coupe/ Convertible     NaN\n",
              "2806  2021    VOLKSWAGEN  Petrol  Coupe/ Convertible     2.0\n",
              "2807  2021    VOLKSWAGEN  Others  Coupe/ Convertible     1.0\n",
              "2808  2021         VOLVO  Petrol  Coupe/ Convertible     2.0\n",
              "2809  2021         VOLVO  Others  Coupe/ Convertible     NaN\n",
              "\n",
              "[2810 rows x 5 columns]"
            ],
            "text/html": [
              "\n",
              "  <div id=\"df-c89826dd-3b33-4573-88e9-0141953d0852\">\n",
              "    <div class=\"colab-df-container\">\n",
              "      <div>\n",
              "<style scoped>\n",
              "    .dataframe tbody tr th:only-of-type {\n",
              "        vertical-align: middle;\n",
              "    }\n",
              "\n",
              "    .dataframe tbody tr th {\n",
              "        vertical-align: top;\n",
              "    }\n",
              "\n",
              "    .dataframe thead th {\n",
              "        text-align: right;\n",
              "    }\n",
              "</style>\n",
              "<table border=\"1\" class=\"dataframe\">\n",
              "  <thead>\n",
              "    <tr style=\"text-align: right;\">\n",
              "      <th></th>\n",
              "      <th>year</th>\n",
              "      <th>make</th>\n",
              "      <th>fuel</th>\n",
              "      <th>type</th>\n",
              "      <th>number</th>\n",
              "    </tr>\n",
              "  </thead>\n",
              "  <tbody>\n",
              "    <tr>\n",
              "      <th>0</th>\n",
              "      <td>2015</td>\n",
              "      <td>ALFA ROMEO</td>\n",
              "      <td>Petrol</td>\n",
              "      <td>Hatchback</td>\n",
              "      <td>29.0</td>\n",
              "    </tr>\n",
              "    <tr>\n",
              "      <th>1</th>\n",
              "      <td>2015</td>\n",
              "      <td>ASTON MARTIN</td>\n",
              "      <td>Petrol</td>\n",
              "      <td>Hatchback</td>\n",
              "      <td>3.0</td>\n",
              "    </tr>\n",
              "    <tr>\n",
              "      <th>2</th>\n",
              "      <td>2015</td>\n",
              "      <td>AUDI</td>\n",
              "      <td>Petrol</td>\n",
              "      <td>Hatchback</td>\n",
              "      <td>262.0</td>\n",
              "    </tr>\n",
              "    <tr>\n",
              "      <th>3</th>\n",
              "      <td>2015</td>\n",
              "      <td>AUSTIN</td>\n",
              "      <td>Petrol</td>\n",
              "      <td>Hatchback</td>\n",
              "      <td>1.0</td>\n",
              "    </tr>\n",
              "    <tr>\n",
              "      <th>4</th>\n",
              "      <td>2015</td>\n",
              "      <td>B.M.W.</td>\n",
              "      <td>Petrol</td>\n",
              "      <td>Hatchback</td>\n",
              "      <td>408.0</td>\n",
              "    </tr>\n",
              "    <tr>\n",
              "      <th>...</th>\n",
              "      <td>...</td>\n",
              "      <td>...</td>\n",
              "      <td>...</td>\n",
              "      <td>...</td>\n",
              "      <td>...</td>\n",
              "    </tr>\n",
              "    <tr>\n",
              "      <th>2805</th>\n",
              "      <td>2021</td>\n",
              "      <td>TOYOTA</td>\n",
              "      <td>Others</td>\n",
              "      <td>Coupe/ Convertible</td>\n",
              "      <td>NaN</td>\n",
              "    </tr>\n",
              "    <tr>\n",
              "      <th>2806</th>\n",
              "      <td>2021</td>\n",
              "      <td>VOLKSWAGEN</td>\n",
              "      <td>Petrol</td>\n",
              "      <td>Coupe/ Convertible</td>\n",
              "      <td>2.0</td>\n",
              "    </tr>\n",
              "    <tr>\n",
              "      <th>2807</th>\n",
              "      <td>2021</td>\n",
              "      <td>VOLKSWAGEN</td>\n",
              "      <td>Others</td>\n",
              "      <td>Coupe/ Convertible</td>\n",
              "      <td>1.0</td>\n",
              "    </tr>\n",
              "    <tr>\n",
              "      <th>2808</th>\n",
              "      <td>2021</td>\n",
              "      <td>VOLVO</td>\n",
              "      <td>Petrol</td>\n",
              "      <td>Coupe/ Convertible</td>\n",
              "      <td>2.0</td>\n",
              "    </tr>\n",
              "    <tr>\n",
              "      <th>2809</th>\n",
              "      <td>2021</td>\n",
              "      <td>VOLVO</td>\n",
              "      <td>Others</td>\n",
              "      <td>Coupe/ Convertible</td>\n",
              "      <td>NaN</td>\n",
              "    </tr>\n",
              "  </tbody>\n",
              "</table>\n",
              "<p>2810 rows × 5 columns</p>\n",
              "</div>\n",
              "      <button class=\"colab-df-convert\" onclick=\"convertToInteractive('df-c89826dd-3b33-4573-88e9-0141953d0852')\"\n",
              "              title=\"Convert this dataframe to an interactive table.\"\n",
              "              style=\"display:none;\">\n",
              "        \n",
              "  <svg xmlns=\"http://www.w3.org/2000/svg\" height=\"24px\"viewBox=\"0 0 24 24\"\n",
              "       width=\"24px\">\n",
              "    <path d=\"M0 0h24v24H0V0z\" fill=\"none\"/>\n",
              "    <path d=\"M18.56 5.44l.94 2.06.94-2.06 2.06-.94-2.06-.94-.94-2.06-.94 2.06-2.06.94zm-11 1L8.5 8.5l.94-2.06 2.06-.94-2.06-.94L8.5 2.5l-.94 2.06-2.06.94zm10 10l.94 2.06.94-2.06 2.06-.94-2.06-.94-.94-2.06-.94 2.06-2.06.94z\"/><path d=\"M17.41 7.96l-1.37-1.37c-.4-.4-.92-.59-1.43-.59-.52 0-1.04.2-1.43.59L10.3 9.45l-7.72 7.72c-.78.78-.78 2.05 0 2.83L4 21.41c.39.39.9.59 1.41.59.51 0 1.02-.2 1.41-.59l7.78-7.78 2.81-2.81c.8-.78.8-2.07 0-2.86zM5.41 20L4 18.59l7.72-7.72 1.47 1.35L5.41 20z\"/>\n",
              "  </svg>\n",
              "      </button>\n",
              "      \n",
              "  <style>\n",
              "    .colab-df-container {\n",
              "      display:flex;\n",
              "      flex-wrap:wrap;\n",
              "      gap: 12px;\n",
              "    }\n",
              "\n",
              "    .colab-df-convert {\n",
              "      background-color: #E8F0FE;\n",
              "      border: none;\n",
              "      border-radius: 50%;\n",
              "      cursor: pointer;\n",
              "      display: none;\n",
              "      fill: #1967D2;\n",
              "      height: 32px;\n",
              "      padding: 0 0 0 0;\n",
              "      width: 32px;\n",
              "    }\n",
              "\n",
              "    .colab-df-convert:hover {\n",
              "      background-color: #E2EBFA;\n",
              "      box-shadow: 0px 1px 2px rgba(60, 64, 67, 0.3), 0px 1px 3px 1px rgba(60, 64, 67, 0.15);\n",
              "      fill: #174EA6;\n",
              "    }\n",
              "\n",
              "    [theme=dark] .colab-df-convert {\n",
              "      background-color: #3B4455;\n",
              "      fill: #D2E3FC;\n",
              "    }\n",
              "\n",
              "    [theme=dark] .colab-df-convert:hover {\n",
              "      background-color: #434B5C;\n",
              "      box-shadow: 0px 1px 3px 1px rgba(0, 0, 0, 0.15);\n",
              "      filter: drop-shadow(0px 1px 2px rgba(0, 0, 0, 0.3));\n",
              "      fill: #FFFFFF;\n",
              "    }\n",
              "  </style>\n",
              "\n",
              "      <script>\n",
              "        const buttonEl =\n",
              "          document.querySelector('#df-c89826dd-3b33-4573-88e9-0141953d0852 button.colab-df-convert');\n",
              "        buttonEl.style.display =\n",
              "          google.colab.kernel.accessAllowed ? 'block' : 'none';\n",
              "\n",
              "        async function convertToInteractive(key) {\n",
              "          const element = document.querySelector('#df-c89826dd-3b33-4573-88e9-0141953d0852');\n",
              "          const dataTable =\n",
              "            await google.colab.kernel.invokeFunction('convertToInteractive',\n",
              "                                                     [key], {});\n",
              "          if (!dataTable) return;\n",
              "\n",
              "          const docLinkHtml = 'Like what you see? Visit the ' +\n",
              "            '<a target=\"_blank\" href=https://colab.research.google.com/notebooks/data_table.ipynb>data table notebook</a>'\n",
              "            + ' to learn more about interactive tables.';\n",
              "          element.innerHTML = '';\n",
              "          dataTable['output_type'] = 'display_data';\n",
              "          await google.colab.output.renderOutput(dataTable, element);\n",
              "          const docLink = document.createElement('div');\n",
              "          docLink.innerHTML = docLinkHtml;\n",
              "          element.appendChild(docLink);\n",
              "        }\n",
              "      </script>\n",
              "    </div>\n",
              "  </div>\n",
              "  "
            ]
          },
          "metadata": {},
          "execution_count": 77
        }
      ]
    },
    {
      "cell_type": "markdown",
      "source": [
        "To save a `DataFrame` as a csv file:"
      ],
      "metadata": {
        "id": "fB1MkhQ4vBqt"
      }
    },
    {
      "cell_type": "code",
      "source": [
        "singapore_cars.to_csv('singapore_cars.csv')"
      ],
      "metadata": {
        "id": "VKPBAO7At7hB"
      },
      "execution_count": 78,
      "outputs": []
    },
    {
      "cell_type": "markdown",
      "source": [
        "In Colab, navigate to the folder icon in the left pane to find and download the exported csv file. "
      ],
      "metadata": {
        "id": "NF6ESucbv3sQ"
      }
    },
    {
      "cell_type": "markdown",
      "source": [
        "### Inspecting the data\n",
        "\n",
        "Now let's perform some basic inspection to understand our dataset."
      ],
      "metadata": {
        "id": "jPPh4jhhw2uR"
      }
    },
    {
      "cell_type": "markdown",
      "source": [
        "#### How many rows and columns?"
      ],
      "metadata": {
        "id": "Lkl2tIOzxmVE"
      }
    },
    {
      "cell_type": "code",
      "source": [
        "singapore_cars.shape"
      ],
      "metadata": {
        "colab": {
          "base_uri": "https://localhost:8080/"
        },
        "id": "A_skn1V2xH2z",
        "outputId": "aac9de7d-dcf0-4f6b-f17a-b8af257df87d"
      },
      "execution_count": 79,
      "outputs": [
        {
          "output_type": "execute_result",
          "data": {
            "text/plain": [
              "(2810, 5)"
            ]
          },
          "metadata": {},
          "execution_count": 79
        }
      ]
    },
    {
      "cell_type": "code",
      "source": [
        "nrow, ncol = singapore_cars.shape\n",
        "print(f'nrow={nrow}, ncol={ncol}')"
      ],
      "metadata": {
        "colab": {
          "base_uri": "https://localhost:8080/"
        },
        "id": "6NNO7EXXzptW",
        "outputId": "442be57e-4c66-46fe-b2e6-579d50dee954"
      },
      "execution_count": 80,
      "outputs": [
        {
          "output_type": "stream",
          "name": "stdout",
          "text": [
            "nrow=2810, ncol=5\n"
          ]
        }
      ]
    },
    {
      "cell_type": "markdown",
      "source": [
        "#### What are the column names?"
      ],
      "metadata": {
        "id": "4P7htLGvxs7N"
      }
    },
    {
      "cell_type": "code",
      "source": [
        "singapore_cars.columns"
      ],
      "metadata": {
        "colab": {
          "base_uri": "https://localhost:8080/"
        },
        "id": "kzHsABg4xKwB",
        "outputId": "09cee233-c03a-4a26-8f96-e5e23366034e"
      },
      "execution_count": 81,
      "outputs": [
        {
          "output_type": "execute_result",
          "data": {
            "text/plain": [
              "Index(['year', 'make', 'fuel', 'type', 'number'], dtype='object')"
            ]
          },
          "metadata": {},
          "execution_count": 81
        }
      ]
    },
    {
      "cell_type": "markdown",
      "source": [
        "#### What does the data look like?\n",
        "\n",
        "From the top:"
      ],
      "metadata": {
        "id": "XXxyBZVoyE16"
      }
    },
    {
      "cell_type": "code",
      "source": [
        "singapore_cars.head()"
      ],
      "metadata": {
        "colab": {
          "base_uri": "https://localhost:8080/",
          "height": 206
        },
        "id": "WsU42CC8yKTc",
        "outputId": "5cef7df3-86c5-4b06-c022-577b8fa2f713"
      },
      "execution_count": 82,
      "outputs": [
        {
          "output_type": "execute_result",
          "data": {
            "text/plain": [
              "   year          make    fuel       type  number\n",
              "0  2015    ALFA ROMEO  Petrol  Hatchback    29.0\n",
              "1  2015  ASTON MARTIN  Petrol  Hatchback     3.0\n",
              "2  2015          AUDI  Petrol  Hatchback   262.0\n",
              "3  2015        AUSTIN  Petrol  Hatchback     1.0\n",
              "4  2015        B.M.W.  Petrol  Hatchback   408.0"
            ],
            "text/html": [
              "\n",
              "  <div id=\"df-392a929f-c313-4bd4-bf54-c34c9d6ad85b\">\n",
              "    <div class=\"colab-df-container\">\n",
              "      <div>\n",
              "<style scoped>\n",
              "    .dataframe tbody tr th:only-of-type {\n",
              "        vertical-align: middle;\n",
              "    }\n",
              "\n",
              "    .dataframe tbody tr th {\n",
              "        vertical-align: top;\n",
              "    }\n",
              "\n",
              "    .dataframe thead th {\n",
              "        text-align: right;\n",
              "    }\n",
              "</style>\n",
              "<table border=\"1\" class=\"dataframe\">\n",
              "  <thead>\n",
              "    <tr style=\"text-align: right;\">\n",
              "      <th></th>\n",
              "      <th>year</th>\n",
              "      <th>make</th>\n",
              "      <th>fuel</th>\n",
              "      <th>type</th>\n",
              "      <th>number</th>\n",
              "    </tr>\n",
              "  </thead>\n",
              "  <tbody>\n",
              "    <tr>\n",
              "      <th>0</th>\n",
              "      <td>2015</td>\n",
              "      <td>ALFA ROMEO</td>\n",
              "      <td>Petrol</td>\n",
              "      <td>Hatchback</td>\n",
              "      <td>29.0</td>\n",
              "    </tr>\n",
              "    <tr>\n",
              "      <th>1</th>\n",
              "      <td>2015</td>\n",
              "      <td>ASTON MARTIN</td>\n",
              "      <td>Petrol</td>\n",
              "      <td>Hatchback</td>\n",
              "      <td>3.0</td>\n",
              "    </tr>\n",
              "    <tr>\n",
              "      <th>2</th>\n",
              "      <td>2015</td>\n",
              "      <td>AUDI</td>\n",
              "      <td>Petrol</td>\n",
              "      <td>Hatchback</td>\n",
              "      <td>262.0</td>\n",
              "    </tr>\n",
              "    <tr>\n",
              "      <th>3</th>\n",
              "      <td>2015</td>\n",
              "      <td>AUSTIN</td>\n",
              "      <td>Petrol</td>\n",
              "      <td>Hatchback</td>\n",
              "      <td>1.0</td>\n",
              "    </tr>\n",
              "    <tr>\n",
              "      <th>4</th>\n",
              "      <td>2015</td>\n",
              "      <td>B.M.W.</td>\n",
              "      <td>Petrol</td>\n",
              "      <td>Hatchback</td>\n",
              "      <td>408.0</td>\n",
              "    </tr>\n",
              "  </tbody>\n",
              "</table>\n",
              "</div>\n",
              "      <button class=\"colab-df-convert\" onclick=\"convertToInteractive('df-392a929f-c313-4bd4-bf54-c34c9d6ad85b')\"\n",
              "              title=\"Convert this dataframe to an interactive table.\"\n",
              "              style=\"display:none;\">\n",
              "        \n",
              "  <svg xmlns=\"http://www.w3.org/2000/svg\" height=\"24px\"viewBox=\"0 0 24 24\"\n",
              "       width=\"24px\">\n",
              "    <path d=\"M0 0h24v24H0V0z\" fill=\"none\"/>\n",
              "    <path d=\"M18.56 5.44l.94 2.06.94-2.06 2.06-.94-2.06-.94-.94-2.06-.94 2.06-2.06.94zm-11 1L8.5 8.5l.94-2.06 2.06-.94-2.06-.94L8.5 2.5l-.94 2.06-2.06.94zm10 10l.94 2.06.94-2.06 2.06-.94-2.06-.94-.94-2.06-.94 2.06-2.06.94z\"/><path d=\"M17.41 7.96l-1.37-1.37c-.4-.4-.92-.59-1.43-.59-.52 0-1.04.2-1.43.59L10.3 9.45l-7.72 7.72c-.78.78-.78 2.05 0 2.83L4 21.41c.39.39.9.59 1.41.59.51 0 1.02-.2 1.41-.59l7.78-7.78 2.81-2.81c.8-.78.8-2.07 0-2.86zM5.41 20L4 18.59l7.72-7.72 1.47 1.35L5.41 20z\"/>\n",
              "  </svg>\n",
              "      </button>\n",
              "      \n",
              "  <style>\n",
              "    .colab-df-container {\n",
              "      display:flex;\n",
              "      flex-wrap:wrap;\n",
              "      gap: 12px;\n",
              "    }\n",
              "\n",
              "    .colab-df-convert {\n",
              "      background-color: #E8F0FE;\n",
              "      border: none;\n",
              "      border-radius: 50%;\n",
              "      cursor: pointer;\n",
              "      display: none;\n",
              "      fill: #1967D2;\n",
              "      height: 32px;\n",
              "      padding: 0 0 0 0;\n",
              "      width: 32px;\n",
              "    }\n",
              "\n",
              "    .colab-df-convert:hover {\n",
              "      background-color: #E2EBFA;\n",
              "      box-shadow: 0px 1px 2px rgba(60, 64, 67, 0.3), 0px 1px 3px 1px rgba(60, 64, 67, 0.15);\n",
              "      fill: #174EA6;\n",
              "    }\n",
              "\n",
              "    [theme=dark] .colab-df-convert {\n",
              "      background-color: #3B4455;\n",
              "      fill: #D2E3FC;\n",
              "    }\n",
              "\n",
              "    [theme=dark] .colab-df-convert:hover {\n",
              "      background-color: #434B5C;\n",
              "      box-shadow: 0px 1px 3px 1px rgba(0, 0, 0, 0.15);\n",
              "      filter: drop-shadow(0px 1px 2px rgba(0, 0, 0, 0.3));\n",
              "      fill: #FFFFFF;\n",
              "    }\n",
              "  </style>\n",
              "\n",
              "      <script>\n",
              "        const buttonEl =\n",
              "          document.querySelector('#df-392a929f-c313-4bd4-bf54-c34c9d6ad85b button.colab-df-convert');\n",
              "        buttonEl.style.display =\n",
              "          google.colab.kernel.accessAllowed ? 'block' : 'none';\n",
              "\n",
              "        async function convertToInteractive(key) {\n",
              "          const element = document.querySelector('#df-392a929f-c313-4bd4-bf54-c34c9d6ad85b');\n",
              "          const dataTable =\n",
              "            await google.colab.kernel.invokeFunction('convertToInteractive',\n",
              "                                                     [key], {});\n",
              "          if (!dataTable) return;\n",
              "\n",
              "          const docLinkHtml = 'Like what you see? Visit the ' +\n",
              "            '<a target=\"_blank\" href=https://colab.research.google.com/notebooks/data_table.ipynb>data table notebook</a>'\n",
              "            + ' to learn more about interactive tables.';\n",
              "          element.innerHTML = '';\n",
              "          dataTable['output_type'] = 'display_data';\n",
              "          await google.colab.output.renderOutput(dataTable, element);\n",
              "          const docLink = document.createElement('div');\n",
              "          docLink.innerHTML = docLinkHtml;\n",
              "          element.appendChild(docLink);\n",
              "        }\n",
              "      </script>\n",
              "    </div>\n",
              "  </div>\n",
              "  "
            ]
          },
          "metadata": {},
          "execution_count": 82
        }
      ]
    },
    {
      "cell_type": "markdown",
      "source": [
        "From the bottom:"
      ],
      "metadata": {
        "id": "52ELu1E5x0GV"
      }
    },
    {
      "cell_type": "code",
      "source": [
        "# Optionally specify the exact number of rows you want\n",
        "singapore_cars.tail(3)"
      ],
      "metadata": {
        "colab": {
          "base_uri": "https://localhost:8080/",
          "height": 143
        },
        "id": "_QaUtw33ySXz",
        "outputId": "16cf31e4-90f3-4b23-b9ab-f1814feb04e6"
      },
      "execution_count": 83,
      "outputs": [
        {
          "output_type": "execute_result",
          "data": {
            "text/plain": [
              "      year        make    fuel                type  number\n",
              "2807  2021  VOLKSWAGEN  Others  Coupe/ Convertible     1.0\n",
              "2808  2021       VOLVO  Petrol  Coupe/ Convertible     2.0\n",
              "2809  2021       VOLVO  Others  Coupe/ Convertible     NaN"
            ],
            "text/html": [
              "\n",
              "  <div id=\"df-fd9f0fae-f606-4dc7-8326-5a86c36c4da7\">\n",
              "    <div class=\"colab-df-container\">\n",
              "      <div>\n",
              "<style scoped>\n",
              "    .dataframe tbody tr th:only-of-type {\n",
              "        vertical-align: middle;\n",
              "    }\n",
              "\n",
              "    .dataframe tbody tr th {\n",
              "        vertical-align: top;\n",
              "    }\n",
              "\n",
              "    .dataframe thead th {\n",
              "        text-align: right;\n",
              "    }\n",
              "</style>\n",
              "<table border=\"1\" class=\"dataframe\">\n",
              "  <thead>\n",
              "    <tr style=\"text-align: right;\">\n",
              "      <th></th>\n",
              "      <th>year</th>\n",
              "      <th>make</th>\n",
              "      <th>fuel</th>\n",
              "      <th>type</th>\n",
              "      <th>number</th>\n",
              "    </tr>\n",
              "  </thead>\n",
              "  <tbody>\n",
              "    <tr>\n",
              "      <th>2807</th>\n",
              "      <td>2021</td>\n",
              "      <td>VOLKSWAGEN</td>\n",
              "      <td>Others</td>\n",
              "      <td>Coupe/ Convertible</td>\n",
              "      <td>1.0</td>\n",
              "    </tr>\n",
              "    <tr>\n",
              "      <th>2808</th>\n",
              "      <td>2021</td>\n",
              "      <td>VOLVO</td>\n",
              "      <td>Petrol</td>\n",
              "      <td>Coupe/ Convertible</td>\n",
              "      <td>2.0</td>\n",
              "    </tr>\n",
              "    <tr>\n",
              "      <th>2809</th>\n",
              "      <td>2021</td>\n",
              "      <td>VOLVO</td>\n",
              "      <td>Others</td>\n",
              "      <td>Coupe/ Convertible</td>\n",
              "      <td>NaN</td>\n",
              "    </tr>\n",
              "  </tbody>\n",
              "</table>\n",
              "</div>\n",
              "      <button class=\"colab-df-convert\" onclick=\"convertToInteractive('df-fd9f0fae-f606-4dc7-8326-5a86c36c4da7')\"\n",
              "              title=\"Convert this dataframe to an interactive table.\"\n",
              "              style=\"display:none;\">\n",
              "        \n",
              "  <svg xmlns=\"http://www.w3.org/2000/svg\" height=\"24px\"viewBox=\"0 0 24 24\"\n",
              "       width=\"24px\">\n",
              "    <path d=\"M0 0h24v24H0V0z\" fill=\"none\"/>\n",
              "    <path d=\"M18.56 5.44l.94 2.06.94-2.06 2.06-.94-2.06-.94-.94-2.06-.94 2.06-2.06.94zm-11 1L8.5 8.5l.94-2.06 2.06-.94-2.06-.94L8.5 2.5l-.94 2.06-2.06.94zm10 10l.94 2.06.94-2.06 2.06-.94-2.06-.94-.94-2.06-.94 2.06-2.06.94z\"/><path d=\"M17.41 7.96l-1.37-1.37c-.4-.4-.92-.59-1.43-.59-.52 0-1.04.2-1.43.59L10.3 9.45l-7.72 7.72c-.78.78-.78 2.05 0 2.83L4 21.41c.39.39.9.59 1.41.59.51 0 1.02-.2 1.41-.59l7.78-7.78 2.81-2.81c.8-.78.8-2.07 0-2.86zM5.41 20L4 18.59l7.72-7.72 1.47 1.35L5.41 20z\"/>\n",
              "  </svg>\n",
              "      </button>\n",
              "      \n",
              "  <style>\n",
              "    .colab-df-container {\n",
              "      display:flex;\n",
              "      flex-wrap:wrap;\n",
              "      gap: 12px;\n",
              "    }\n",
              "\n",
              "    .colab-df-convert {\n",
              "      background-color: #E8F0FE;\n",
              "      border: none;\n",
              "      border-radius: 50%;\n",
              "      cursor: pointer;\n",
              "      display: none;\n",
              "      fill: #1967D2;\n",
              "      height: 32px;\n",
              "      padding: 0 0 0 0;\n",
              "      width: 32px;\n",
              "    }\n",
              "\n",
              "    .colab-df-convert:hover {\n",
              "      background-color: #E2EBFA;\n",
              "      box-shadow: 0px 1px 2px rgba(60, 64, 67, 0.3), 0px 1px 3px 1px rgba(60, 64, 67, 0.15);\n",
              "      fill: #174EA6;\n",
              "    }\n",
              "\n",
              "    [theme=dark] .colab-df-convert {\n",
              "      background-color: #3B4455;\n",
              "      fill: #D2E3FC;\n",
              "    }\n",
              "\n",
              "    [theme=dark] .colab-df-convert:hover {\n",
              "      background-color: #434B5C;\n",
              "      box-shadow: 0px 1px 3px 1px rgba(0, 0, 0, 0.15);\n",
              "      filter: drop-shadow(0px 1px 2px rgba(0, 0, 0, 0.3));\n",
              "      fill: #FFFFFF;\n",
              "    }\n",
              "  </style>\n",
              "\n",
              "      <script>\n",
              "        const buttonEl =\n",
              "          document.querySelector('#df-fd9f0fae-f606-4dc7-8326-5a86c36c4da7 button.colab-df-convert');\n",
              "        buttonEl.style.display =\n",
              "          google.colab.kernel.accessAllowed ? 'block' : 'none';\n",
              "\n",
              "        async function convertToInteractive(key) {\n",
              "          const element = document.querySelector('#df-fd9f0fae-f606-4dc7-8326-5a86c36c4da7');\n",
              "          const dataTable =\n",
              "            await google.colab.kernel.invokeFunction('convertToInteractive',\n",
              "                                                     [key], {});\n",
              "          if (!dataTable) return;\n",
              "\n",
              "          const docLinkHtml = 'Like what you see? Visit the ' +\n",
              "            '<a target=\"_blank\" href=https://colab.research.google.com/notebooks/data_table.ipynb>data table notebook</a>'\n",
              "            + ' to learn more about interactive tables.';\n",
              "          element.innerHTML = '';\n",
              "          dataTable['output_type'] = 'display_data';\n",
              "          await google.colab.output.renderOutput(dataTable, element);\n",
              "          const docLink = document.createElement('div');\n",
              "          docLink.innerHTML = docLinkHtml;\n",
              "          element.appendChild(docLink);\n",
              "        }\n",
              "      </script>\n",
              "    </div>\n",
              "  </div>\n",
              "  "
            ]
          },
          "metadata": {},
          "execution_count": 83
        }
      ]
    },
    {
      "cell_type": "markdown",
      "source": [
        "#### What type of data does each column currently hold and how many missing values?\n"
      ],
      "metadata": {
        "id": "7dII_PI_y9uU"
      }
    },
    {
      "cell_type": "code",
      "source": [
        "singapore_cars.info()"
      ],
      "metadata": {
        "colab": {
          "base_uri": "https://localhost:8080/"
        },
        "id": "7vSbYN4zyXvK",
        "outputId": "f40764e0-0472-4528-c321-145591112225"
      },
      "execution_count": 84,
      "outputs": [
        {
          "output_type": "stream",
          "name": "stdout",
          "text": [
            "<class 'pandas.core.frame.DataFrame'>\n",
            "RangeIndex: 2810 entries, 0 to 2809\n",
            "Data columns (total 5 columns):\n",
            " #   Column  Non-Null Count  Dtype  \n",
            "---  ------  --------------  -----  \n",
            " 0   year    2810 non-null   int64  \n",
            " 1   make    2810 non-null   object \n",
            " 2   fuel    2810 non-null   object \n",
            " 3   type    2810 non-null   object \n",
            " 4   number  1432 non-null   float64\n",
            "dtypes: float64(1), int64(1), object(3)\n",
            "memory usage: 109.9+ KB\n"
          ]
        }
      ]
    },
    {
      "cell_type": "markdown",
      "source": [
        "### Subsetting the data\n",
        "\n",
        "A crucial part of working with DataFrames is extracting subsets of the data: finding rows that meet a certain set of criteria, isolating columns/rows of interest, etc. After narrowing down our data, we are closer to discovering insights. This section will be the backbone of many analysis tasks."
      ],
      "metadata": {
        "id": "XHvC3_UM0kH8"
      }
    },
    {
      "cell_type": "markdown",
      "source": [
        "#### How to select columns?\n",
        "\n",
        "To select a single column (returns a `Series`):"
      ],
      "metadata": {
        "id": "gbJLFEtS03Mh"
      }
    },
    {
      "cell_type": "code",
      "source": [
        "singapore_cars.make"
      ],
      "metadata": {
        "colab": {
          "base_uri": "https://localhost:8080/"
        },
        "id": "Gz12xGUS0sSh",
        "outputId": "1d8c29e5-cec7-4c40-e75a-ea1efd2be3c4"
      },
      "execution_count": 85,
      "outputs": [
        {
          "output_type": "execute_result",
          "data": {
            "text/plain": [
              "0         ALFA ROMEO\n",
              "1       ASTON MARTIN\n",
              "2               AUDI\n",
              "3             AUSTIN\n",
              "4             B.M.W.\n",
              "            ...     \n",
              "2805          TOYOTA\n",
              "2806      VOLKSWAGEN\n",
              "2807      VOLKSWAGEN\n",
              "2808           VOLVO\n",
              "2809           VOLVO\n",
              "Name: make, Length: 2810, dtype: object"
            ]
          },
          "metadata": {},
          "execution_count": 85
        }
      ]
    },
    {
      "cell_type": "code",
      "source": [
        "# Alternatively\n",
        "singapore_cars['make']"
      ],
      "metadata": {
        "colab": {
          "base_uri": "https://localhost:8080/"
        },
        "id": "aiZUCXXh1B1Q",
        "outputId": "589acc49-08e2-4403-a41c-7ee095fa3464"
      },
      "execution_count": 86,
      "outputs": [
        {
          "output_type": "execute_result",
          "data": {
            "text/plain": [
              "0         ALFA ROMEO\n",
              "1       ASTON MARTIN\n",
              "2               AUDI\n",
              "3             AUSTIN\n",
              "4             B.M.W.\n",
              "            ...     \n",
              "2805          TOYOTA\n",
              "2806      VOLKSWAGEN\n",
              "2807      VOLKSWAGEN\n",
              "2808           VOLVO\n",
              "2809           VOLVO\n",
              "Name: make, Length: 2810, dtype: object"
            ]
          },
          "metadata": {},
          "execution_count": 86
        }
      ]
    },
    {
      "cell_type": "markdown",
      "source": [
        "The dictionary accessor is useful when the column name is not a valid Python variable, or when selecting multiple columns:"
      ],
      "metadata": {
        "id": "YcoiVUxz1GG_"
      }
    },
    {
      "cell_type": "code",
      "source": [
        "singapore_cars[['make', 'fuel', 'type']]"
      ],
      "metadata": {
        "colab": {
          "base_uri": "https://localhost:8080/",
          "height": 424
        },
        "id": "fb6HCo5R1Er_",
        "outputId": "9d8561e5-f319-460c-9679-03a231120430"
      },
      "execution_count": 87,
      "outputs": [
        {
          "output_type": "execute_result",
          "data": {
            "text/plain": [
              "              make    fuel                type\n",
              "0       ALFA ROMEO  Petrol           Hatchback\n",
              "1     ASTON MARTIN  Petrol           Hatchback\n",
              "2             AUDI  Petrol           Hatchback\n",
              "3           AUSTIN  Petrol           Hatchback\n",
              "4           B.M.W.  Petrol           Hatchback\n",
              "...            ...     ...                 ...\n",
              "2805        TOYOTA  Others  Coupe/ Convertible\n",
              "2806    VOLKSWAGEN  Petrol  Coupe/ Convertible\n",
              "2807    VOLKSWAGEN  Others  Coupe/ Convertible\n",
              "2808         VOLVO  Petrol  Coupe/ Convertible\n",
              "2809         VOLVO  Others  Coupe/ Convertible\n",
              "\n",
              "[2810 rows x 3 columns]"
            ],
            "text/html": [
              "\n",
              "  <div id=\"df-18bfb11e-136d-4759-9bf0-2039f4a4f67c\">\n",
              "    <div class=\"colab-df-container\">\n",
              "      <div>\n",
              "<style scoped>\n",
              "    .dataframe tbody tr th:only-of-type {\n",
              "        vertical-align: middle;\n",
              "    }\n",
              "\n",
              "    .dataframe tbody tr th {\n",
              "        vertical-align: top;\n",
              "    }\n",
              "\n",
              "    .dataframe thead th {\n",
              "        text-align: right;\n",
              "    }\n",
              "</style>\n",
              "<table border=\"1\" class=\"dataframe\">\n",
              "  <thead>\n",
              "    <tr style=\"text-align: right;\">\n",
              "      <th></th>\n",
              "      <th>make</th>\n",
              "      <th>fuel</th>\n",
              "      <th>type</th>\n",
              "    </tr>\n",
              "  </thead>\n",
              "  <tbody>\n",
              "    <tr>\n",
              "      <th>0</th>\n",
              "      <td>ALFA ROMEO</td>\n",
              "      <td>Petrol</td>\n",
              "      <td>Hatchback</td>\n",
              "    </tr>\n",
              "    <tr>\n",
              "      <th>1</th>\n",
              "      <td>ASTON MARTIN</td>\n",
              "      <td>Petrol</td>\n",
              "      <td>Hatchback</td>\n",
              "    </tr>\n",
              "    <tr>\n",
              "      <th>2</th>\n",
              "      <td>AUDI</td>\n",
              "      <td>Petrol</td>\n",
              "      <td>Hatchback</td>\n",
              "    </tr>\n",
              "    <tr>\n",
              "      <th>3</th>\n",
              "      <td>AUSTIN</td>\n",
              "      <td>Petrol</td>\n",
              "      <td>Hatchback</td>\n",
              "    </tr>\n",
              "    <tr>\n",
              "      <th>4</th>\n",
              "      <td>B.M.W.</td>\n",
              "      <td>Petrol</td>\n",
              "      <td>Hatchback</td>\n",
              "    </tr>\n",
              "    <tr>\n",
              "      <th>...</th>\n",
              "      <td>...</td>\n",
              "      <td>...</td>\n",
              "      <td>...</td>\n",
              "    </tr>\n",
              "    <tr>\n",
              "      <th>2805</th>\n",
              "      <td>TOYOTA</td>\n",
              "      <td>Others</td>\n",
              "      <td>Coupe/ Convertible</td>\n",
              "    </tr>\n",
              "    <tr>\n",
              "      <th>2806</th>\n",
              "      <td>VOLKSWAGEN</td>\n",
              "      <td>Petrol</td>\n",
              "      <td>Coupe/ Convertible</td>\n",
              "    </tr>\n",
              "    <tr>\n",
              "      <th>2807</th>\n",
              "      <td>VOLKSWAGEN</td>\n",
              "      <td>Others</td>\n",
              "      <td>Coupe/ Convertible</td>\n",
              "    </tr>\n",
              "    <tr>\n",
              "      <th>2808</th>\n",
              "      <td>VOLVO</td>\n",
              "      <td>Petrol</td>\n",
              "      <td>Coupe/ Convertible</td>\n",
              "    </tr>\n",
              "    <tr>\n",
              "      <th>2809</th>\n",
              "      <td>VOLVO</td>\n",
              "      <td>Others</td>\n",
              "      <td>Coupe/ Convertible</td>\n",
              "    </tr>\n",
              "  </tbody>\n",
              "</table>\n",
              "<p>2810 rows × 3 columns</p>\n",
              "</div>\n",
              "      <button class=\"colab-df-convert\" onclick=\"convertToInteractive('df-18bfb11e-136d-4759-9bf0-2039f4a4f67c')\"\n",
              "              title=\"Convert this dataframe to an interactive table.\"\n",
              "              style=\"display:none;\">\n",
              "        \n",
              "  <svg xmlns=\"http://www.w3.org/2000/svg\" height=\"24px\"viewBox=\"0 0 24 24\"\n",
              "       width=\"24px\">\n",
              "    <path d=\"M0 0h24v24H0V0z\" fill=\"none\"/>\n",
              "    <path d=\"M18.56 5.44l.94 2.06.94-2.06 2.06-.94-2.06-.94-.94-2.06-.94 2.06-2.06.94zm-11 1L8.5 8.5l.94-2.06 2.06-.94-2.06-.94L8.5 2.5l-.94 2.06-2.06.94zm10 10l.94 2.06.94-2.06 2.06-.94-2.06-.94-.94-2.06-.94 2.06-2.06.94z\"/><path d=\"M17.41 7.96l-1.37-1.37c-.4-.4-.92-.59-1.43-.59-.52 0-1.04.2-1.43.59L10.3 9.45l-7.72 7.72c-.78.78-.78 2.05 0 2.83L4 21.41c.39.39.9.59 1.41.59.51 0 1.02-.2 1.41-.59l7.78-7.78 2.81-2.81c.8-.78.8-2.07 0-2.86zM5.41 20L4 18.59l7.72-7.72 1.47 1.35L5.41 20z\"/>\n",
              "  </svg>\n",
              "      </button>\n",
              "      \n",
              "  <style>\n",
              "    .colab-df-container {\n",
              "      display:flex;\n",
              "      flex-wrap:wrap;\n",
              "      gap: 12px;\n",
              "    }\n",
              "\n",
              "    .colab-df-convert {\n",
              "      background-color: #E8F0FE;\n",
              "      border: none;\n",
              "      border-radius: 50%;\n",
              "      cursor: pointer;\n",
              "      display: none;\n",
              "      fill: #1967D2;\n",
              "      height: 32px;\n",
              "      padding: 0 0 0 0;\n",
              "      width: 32px;\n",
              "    }\n",
              "\n",
              "    .colab-df-convert:hover {\n",
              "      background-color: #E2EBFA;\n",
              "      box-shadow: 0px 1px 2px rgba(60, 64, 67, 0.3), 0px 1px 3px 1px rgba(60, 64, 67, 0.15);\n",
              "      fill: #174EA6;\n",
              "    }\n",
              "\n",
              "    [theme=dark] .colab-df-convert {\n",
              "      background-color: #3B4455;\n",
              "      fill: #D2E3FC;\n",
              "    }\n",
              "\n",
              "    [theme=dark] .colab-df-convert:hover {\n",
              "      background-color: #434B5C;\n",
              "      box-shadow: 0px 1px 3px 1px rgba(0, 0, 0, 0.15);\n",
              "      filter: drop-shadow(0px 1px 2px rgba(0, 0, 0, 0.3));\n",
              "      fill: #FFFFFF;\n",
              "    }\n",
              "  </style>\n",
              "\n",
              "      <script>\n",
              "        const buttonEl =\n",
              "          document.querySelector('#df-18bfb11e-136d-4759-9bf0-2039f4a4f67c button.colab-df-convert');\n",
              "        buttonEl.style.display =\n",
              "          google.colab.kernel.accessAllowed ? 'block' : 'none';\n",
              "\n",
              "        async function convertToInteractive(key) {\n",
              "          const element = document.querySelector('#df-18bfb11e-136d-4759-9bf0-2039f4a4f67c');\n",
              "          const dataTable =\n",
              "            await google.colab.kernel.invokeFunction('convertToInteractive',\n",
              "                                                     [key], {});\n",
              "          if (!dataTable) return;\n",
              "\n",
              "          const docLinkHtml = 'Like what you see? Visit the ' +\n",
              "            '<a target=\"_blank\" href=https://colab.research.google.com/notebooks/data_table.ipynb>data table notebook</a>'\n",
              "            + ' to learn more about interactive tables.';\n",
              "          element.innerHTML = '';\n",
              "          dataTable['output_type'] = 'display_data';\n",
              "          await google.colab.output.renderOutput(dataTable, element);\n",
              "          const docLink = document.createElement('div');\n",
              "          docLink.innerHTML = docLinkHtml;\n",
              "          element.appendChild(docLink);\n",
              "        }\n",
              "      </script>\n",
              "    </div>\n",
              "  </div>\n",
              "  "
            ]
          },
          "metadata": {},
          "execution_count": 87
        }
      ]
    },
    {
      "cell_type": "markdown",
      "source": [
        "#### How to select rows?\n",
        "If the index are default sequential integers, simply select as if you are selecting from an array:"
      ],
      "metadata": {
        "id": "UDu0HRs-1-NV"
      }
    },
    {
      "cell_type": "code",
      "source": [
        "singapore_cars[100:200]"
      ],
      "metadata": {
        "colab": {
          "base_uri": "https://localhost:8080/",
          "height": 424
        },
        "id": "kpkNuTfx2bP8",
        "outputId": "43b2c7d0-9a90-4799-81cc-8106757f452c"
      },
      "execution_count": 88,
      "outputs": [
        {
          "output_type": "execute_result",
          "data": {
            "text/plain": [
              "     year           make    fuel                                 type  number\n",
              "100  2015  MERCEDES BENZ  Petrol  Multi-purpose Vehicle/Station-wagon    61.0\n",
              "101  2015  MERCEDES BENZ  Diesel  Multi-purpose Vehicle/Station-wagon    12.0\n",
              "102  2015         NISSAN  Petrol  Multi-purpose Vehicle/Station-wagon   103.0\n",
              "103  2015         NISSAN  Others  Multi-purpose Vehicle/Station-wagon    21.0\n",
              "104  2015           OPEL  Petrol  Multi-purpose Vehicle/Station-wagon    25.0\n",
              "..    ...            ...     ...                                  ...     ...\n",
              "195  2016         B.M.W.  Diesel                            Hatchback   949.0\n",
              "196  2016         B.M.W.  Others                            Hatchback     6.0\n",
              "197  2016            BYD  Others                            Hatchback     7.0\n",
              "198  2016          CHERY  Petrol                            Hatchback     6.0\n",
              "199  2016      CHEVROLET  Petrol                            Hatchback     5.0\n",
              "\n",
              "[100 rows x 5 columns]"
            ],
            "text/html": [
              "\n",
              "  <div id=\"df-38039d00-4fd9-46c1-b1fa-7a17445cecbc\">\n",
              "    <div class=\"colab-df-container\">\n",
              "      <div>\n",
              "<style scoped>\n",
              "    .dataframe tbody tr th:only-of-type {\n",
              "        vertical-align: middle;\n",
              "    }\n",
              "\n",
              "    .dataframe tbody tr th {\n",
              "        vertical-align: top;\n",
              "    }\n",
              "\n",
              "    .dataframe thead th {\n",
              "        text-align: right;\n",
              "    }\n",
              "</style>\n",
              "<table border=\"1\" class=\"dataframe\">\n",
              "  <thead>\n",
              "    <tr style=\"text-align: right;\">\n",
              "      <th></th>\n",
              "      <th>year</th>\n",
              "      <th>make</th>\n",
              "      <th>fuel</th>\n",
              "      <th>type</th>\n",
              "      <th>number</th>\n",
              "    </tr>\n",
              "  </thead>\n",
              "  <tbody>\n",
              "    <tr>\n",
              "      <th>100</th>\n",
              "      <td>2015</td>\n",
              "      <td>MERCEDES BENZ</td>\n",
              "      <td>Petrol</td>\n",
              "      <td>Multi-purpose Vehicle/Station-wagon</td>\n",
              "      <td>61.0</td>\n",
              "    </tr>\n",
              "    <tr>\n",
              "      <th>101</th>\n",
              "      <td>2015</td>\n",
              "      <td>MERCEDES BENZ</td>\n",
              "      <td>Diesel</td>\n",
              "      <td>Multi-purpose Vehicle/Station-wagon</td>\n",
              "      <td>12.0</td>\n",
              "    </tr>\n",
              "    <tr>\n",
              "      <th>102</th>\n",
              "      <td>2015</td>\n",
              "      <td>NISSAN</td>\n",
              "      <td>Petrol</td>\n",
              "      <td>Multi-purpose Vehicle/Station-wagon</td>\n",
              "      <td>103.0</td>\n",
              "    </tr>\n",
              "    <tr>\n",
              "      <th>103</th>\n",
              "      <td>2015</td>\n",
              "      <td>NISSAN</td>\n",
              "      <td>Others</td>\n",
              "      <td>Multi-purpose Vehicle/Station-wagon</td>\n",
              "      <td>21.0</td>\n",
              "    </tr>\n",
              "    <tr>\n",
              "      <th>104</th>\n",
              "      <td>2015</td>\n",
              "      <td>OPEL</td>\n",
              "      <td>Petrol</td>\n",
              "      <td>Multi-purpose Vehicle/Station-wagon</td>\n",
              "      <td>25.0</td>\n",
              "    </tr>\n",
              "    <tr>\n",
              "      <th>...</th>\n",
              "      <td>...</td>\n",
              "      <td>...</td>\n",
              "      <td>...</td>\n",
              "      <td>...</td>\n",
              "      <td>...</td>\n",
              "    </tr>\n",
              "    <tr>\n",
              "      <th>195</th>\n",
              "      <td>2016</td>\n",
              "      <td>B.M.W.</td>\n",
              "      <td>Diesel</td>\n",
              "      <td>Hatchback</td>\n",
              "      <td>949.0</td>\n",
              "    </tr>\n",
              "    <tr>\n",
              "      <th>196</th>\n",
              "      <td>2016</td>\n",
              "      <td>B.M.W.</td>\n",
              "      <td>Others</td>\n",
              "      <td>Hatchback</td>\n",
              "      <td>6.0</td>\n",
              "    </tr>\n",
              "    <tr>\n",
              "      <th>197</th>\n",
              "      <td>2016</td>\n",
              "      <td>BYD</td>\n",
              "      <td>Others</td>\n",
              "      <td>Hatchback</td>\n",
              "      <td>7.0</td>\n",
              "    </tr>\n",
              "    <tr>\n",
              "      <th>198</th>\n",
              "      <td>2016</td>\n",
              "      <td>CHERY</td>\n",
              "      <td>Petrol</td>\n",
              "      <td>Hatchback</td>\n",
              "      <td>6.0</td>\n",
              "    </tr>\n",
              "    <tr>\n",
              "      <th>199</th>\n",
              "      <td>2016</td>\n",
              "      <td>CHEVROLET</td>\n",
              "      <td>Petrol</td>\n",
              "      <td>Hatchback</td>\n",
              "      <td>5.0</td>\n",
              "    </tr>\n",
              "  </tbody>\n",
              "</table>\n",
              "<p>100 rows × 5 columns</p>\n",
              "</div>\n",
              "      <button class=\"colab-df-convert\" onclick=\"convertToInteractive('df-38039d00-4fd9-46c1-b1fa-7a17445cecbc')\"\n",
              "              title=\"Convert this dataframe to an interactive table.\"\n",
              "              style=\"display:none;\">\n",
              "        \n",
              "  <svg xmlns=\"http://www.w3.org/2000/svg\" height=\"24px\"viewBox=\"0 0 24 24\"\n",
              "       width=\"24px\">\n",
              "    <path d=\"M0 0h24v24H0V0z\" fill=\"none\"/>\n",
              "    <path d=\"M18.56 5.44l.94 2.06.94-2.06 2.06-.94-2.06-.94-.94-2.06-.94 2.06-2.06.94zm-11 1L8.5 8.5l.94-2.06 2.06-.94-2.06-.94L8.5 2.5l-.94 2.06-2.06.94zm10 10l.94 2.06.94-2.06 2.06-.94-2.06-.94-.94-2.06-.94 2.06-2.06.94z\"/><path d=\"M17.41 7.96l-1.37-1.37c-.4-.4-.92-.59-1.43-.59-.52 0-1.04.2-1.43.59L10.3 9.45l-7.72 7.72c-.78.78-.78 2.05 0 2.83L4 21.41c.39.39.9.59 1.41.59.51 0 1.02-.2 1.41-.59l7.78-7.78 2.81-2.81c.8-.78.8-2.07 0-2.86zM5.41 20L4 18.59l7.72-7.72 1.47 1.35L5.41 20z\"/>\n",
              "  </svg>\n",
              "      </button>\n",
              "      \n",
              "  <style>\n",
              "    .colab-df-container {\n",
              "      display:flex;\n",
              "      flex-wrap:wrap;\n",
              "      gap: 12px;\n",
              "    }\n",
              "\n",
              "    .colab-df-convert {\n",
              "      background-color: #E8F0FE;\n",
              "      border: none;\n",
              "      border-radius: 50%;\n",
              "      cursor: pointer;\n",
              "      display: none;\n",
              "      fill: #1967D2;\n",
              "      height: 32px;\n",
              "      padding: 0 0 0 0;\n",
              "      width: 32px;\n",
              "    }\n",
              "\n",
              "    .colab-df-convert:hover {\n",
              "      background-color: #E2EBFA;\n",
              "      box-shadow: 0px 1px 2px rgba(60, 64, 67, 0.3), 0px 1px 3px 1px rgba(60, 64, 67, 0.15);\n",
              "      fill: #174EA6;\n",
              "    }\n",
              "\n",
              "    [theme=dark] .colab-df-convert {\n",
              "      background-color: #3B4455;\n",
              "      fill: #D2E3FC;\n",
              "    }\n",
              "\n",
              "    [theme=dark] .colab-df-convert:hover {\n",
              "      background-color: #434B5C;\n",
              "      box-shadow: 0px 1px 3px 1px rgba(0, 0, 0, 0.15);\n",
              "      filter: drop-shadow(0px 1px 2px rgba(0, 0, 0, 0.3));\n",
              "      fill: #FFFFFF;\n",
              "    }\n",
              "  </style>\n",
              "\n",
              "      <script>\n",
              "        const buttonEl =\n",
              "          document.querySelector('#df-38039d00-4fd9-46c1-b1fa-7a17445cecbc button.colab-df-convert');\n",
              "        buttonEl.style.display =\n",
              "          google.colab.kernel.accessAllowed ? 'block' : 'none';\n",
              "\n",
              "        async function convertToInteractive(key) {\n",
              "          const element = document.querySelector('#df-38039d00-4fd9-46c1-b1fa-7a17445cecbc');\n",
              "          const dataTable =\n",
              "            await google.colab.kernel.invokeFunction('convertToInteractive',\n",
              "                                                     [key], {});\n",
              "          if (!dataTable) return;\n",
              "\n",
              "          const docLinkHtml = 'Like what you see? Visit the ' +\n",
              "            '<a target=\"_blank\" href=https://colab.research.google.com/notebooks/data_table.ipynb>data table notebook</a>'\n",
              "            + ' to learn more about interactive tables.';\n",
              "          element.innerHTML = '';\n",
              "          dataTable['output_type'] = 'display_data';\n",
              "          await google.colab.output.renderOutput(dataTable, element);\n",
              "          const docLink = document.createElement('div');\n",
              "          docLink.innerHTML = docLinkHtml;\n",
              "          element.appendChild(docLink);\n",
              "        }\n",
              "      </script>\n",
              "    </div>\n",
              "  </div>\n",
              "  "
            ]
          },
          "metadata": {},
          "execution_count": 88
        }
      ]
    },
    {
      "cell_type": "markdown",
      "source": [
        "#### How to select by columns and rows (aka indexing)?\n",
        "\n",
        "Sometimes we want a specific \"section\" of the `DataFrame`, say the first 3 rows with just the middle 3 columns:"
      ],
      "metadata": {
        "id": "8TDILsqY2se5"
      }
    },
    {
      "cell_type": "code",
      "source": [
        "singapore_cars.iloc[0:3, 1:4]"
      ],
      "metadata": {
        "colab": {
          "base_uri": "https://localhost:8080/",
          "height": 143
        },
        "id": "QYw4X9dB3Nxr",
        "outputId": "a87f9280-78f8-457c-919c-2b1a875967a1"
      },
      "execution_count": 89,
      "outputs": [
        {
          "output_type": "execute_result",
          "data": {
            "text/plain": [
              "           make    fuel       type\n",
              "0    ALFA ROMEO  Petrol  Hatchback\n",
              "1  ASTON MARTIN  Petrol  Hatchback\n",
              "2          AUDI  Petrol  Hatchback"
            ],
            "text/html": [
              "\n",
              "  <div id=\"df-38819dec-a282-44a2-bb03-525ca61dbfd5\">\n",
              "    <div class=\"colab-df-container\">\n",
              "      <div>\n",
              "<style scoped>\n",
              "    .dataframe tbody tr th:only-of-type {\n",
              "        vertical-align: middle;\n",
              "    }\n",
              "\n",
              "    .dataframe tbody tr th {\n",
              "        vertical-align: top;\n",
              "    }\n",
              "\n",
              "    .dataframe thead th {\n",
              "        text-align: right;\n",
              "    }\n",
              "</style>\n",
              "<table border=\"1\" class=\"dataframe\">\n",
              "  <thead>\n",
              "    <tr style=\"text-align: right;\">\n",
              "      <th></th>\n",
              "      <th>make</th>\n",
              "      <th>fuel</th>\n",
              "      <th>type</th>\n",
              "    </tr>\n",
              "  </thead>\n",
              "  <tbody>\n",
              "    <tr>\n",
              "      <th>0</th>\n",
              "      <td>ALFA ROMEO</td>\n",
              "      <td>Petrol</td>\n",
              "      <td>Hatchback</td>\n",
              "    </tr>\n",
              "    <tr>\n",
              "      <th>1</th>\n",
              "      <td>ASTON MARTIN</td>\n",
              "      <td>Petrol</td>\n",
              "      <td>Hatchback</td>\n",
              "    </tr>\n",
              "    <tr>\n",
              "      <th>2</th>\n",
              "      <td>AUDI</td>\n",
              "      <td>Petrol</td>\n",
              "      <td>Hatchback</td>\n",
              "    </tr>\n",
              "  </tbody>\n",
              "</table>\n",
              "</div>\n",
              "      <button class=\"colab-df-convert\" onclick=\"convertToInteractive('df-38819dec-a282-44a2-bb03-525ca61dbfd5')\"\n",
              "              title=\"Convert this dataframe to an interactive table.\"\n",
              "              style=\"display:none;\">\n",
              "        \n",
              "  <svg xmlns=\"http://www.w3.org/2000/svg\" height=\"24px\"viewBox=\"0 0 24 24\"\n",
              "       width=\"24px\">\n",
              "    <path d=\"M0 0h24v24H0V0z\" fill=\"none\"/>\n",
              "    <path d=\"M18.56 5.44l.94 2.06.94-2.06 2.06-.94-2.06-.94-.94-2.06-.94 2.06-2.06.94zm-11 1L8.5 8.5l.94-2.06 2.06-.94-2.06-.94L8.5 2.5l-.94 2.06-2.06.94zm10 10l.94 2.06.94-2.06 2.06-.94-2.06-.94-.94-2.06-.94 2.06-2.06.94z\"/><path d=\"M17.41 7.96l-1.37-1.37c-.4-.4-.92-.59-1.43-.59-.52 0-1.04.2-1.43.59L10.3 9.45l-7.72 7.72c-.78.78-.78 2.05 0 2.83L4 21.41c.39.39.9.59 1.41.59.51 0 1.02-.2 1.41-.59l7.78-7.78 2.81-2.81c.8-.78.8-2.07 0-2.86zM5.41 20L4 18.59l7.72-7.72 1.47 1.35L5.41 20z\"/>\n",
              "  </svg>\n",
              "      </button>\n",
              "      \n",
              "  <style>\n",
              "    .colab-df-container {\n",
              "      display:flex;\n",
              "      flex-wrap:wrap;\n",
              "      gap: 12px;\n",
              "    }\n",
              "\n",
              "    .colab-df-convert {\n",
              "      background-color: #E8F0FE;\n",
              "      border: none;\n",
              "      border-radius: 50%;\n",
              "      cursor: pointer;\n",
              "      display: none;\n",
              "      fill: #1967D2;\n",
              "      height: 32px;\n",
              "      padding: 0 0 0 0;\n",
              "      width: 32px;\n",
              "    }\n",
              "\n",
              "    .colab-df-convert:hover {\n",
              "      background-color: #E2EBFA;\n",
              "      box-shadow: 0px 1px 2px rgba(60, 64, 67, 0.3), 0px 1px 3px 1px rgba(60, 64, 67, 0.15);\n",
              "      fill: #174EA6;\n",
              "    }\n",
              "\n",
              "    [theme=dark] .colab-df-convert {\n",
              "      background-color: #3B4455;\n",
              "      fill: #D2E3FC;\n",
              "    }\n",
              "\n",
              "    [theme=dark] .colab-df-convert:hover {\n",
              "      background-color: #434B5C;\n",
              "      box-shadow: 0px 1px 3px 1px rgba(0, 0, 0, 0.15);\n",
              "      filter: drop-shadow(0px 1px 2px rgba(0, 0, 0, 0.3));\n",
              "      fill: #FFFFFF;\n",
              "    }\n",
              "  </style>\n",
              "\n",
              "      <script>\n",
              "        const buttonEl =\n",
              "          document.querySelector('#df-38819dec-a282-44a2-bb03-525ca61dbfd5 button.colab-df-convert');\n",
              "        buttonEl.style.display =\n",
              "          google.colab.kernel.accessAllowed ? 'block' : 'none';\n",
              "\n",
              "        async function convertToInteractive(key) {\n",
              "          const element = document.querySelector('#df-38819dec-a282-44a2-bb03-525ca61dbfd5');\n",
              "          const dataTable =\n",
              "            await google.colab.kernel.invokeFunction('convertToInteractive',\n",
              "                                                     [key], {});\n",
              "          if (!dataTable) return;\n",
              "\n",
              "          const docLinkHtml = 'Like what you see? Visit the ' +\n",
              "            '<a target=\"_blank\" href=https://colab.research.google.com/notebooks/data_table.ipynb>data table notebook</a>'\n",
              "            + ' to learn more about interactive tables.';\n",
              "          element.innerHTML = '';\n",
              "          dataTable['output_type'] = 'display_data';\n",
              "          await google.colab.output.renderOutput(dataTable, element);\n",
              "          const docLink = document.createElement('div');\n",
              "          docLink.innerHTML = docLinkHtml;\n",
              "          element.appendChild(docLink);\n",
              "        }\n",
              "      </script>\n",
              "    </div>\n",
              "  </div>\n",
              "  "
            ]
          },
          "metadata": {},
          "execution_count": 89
        }
      ]
    },
    {
      "cell_type": "markdown",
      "source": [
        "We use `iloc` to select by row and column's positions above; use `loc` to select by row and column's names/labels:"
      ],
      "metadata": {
        "id": "BS7B-O2k3zMy"
      }
    },
    {
      "cell_type": "code",
      "source": [
        "singapore_cars.loc[10:15, ['year', 'number']]"
      ],
      "metadata": {
        "colab": {
          "base_uri": "https://localhost:8080/",
          "height": 238
        },
        "id": "p_GIlYlo4F09",
        "outputId": "66407908-52cc-4cbc-f9d3-0babee58ac15"
      },
      "execution_count": 90,
      "outputs": [
        {
          "output_type": "execute_result",
          "data": {
            "text/plain": [
              "    year  number\n",
              "10  2015    10.0\n",
              "11  2015     4.0\n",
              "12  2015     1.0\n",
              "13  2015     2.0\n",
              "14  2015   155.0\n",
              "15  2015  1068.0"
            ],
            "text/html": [
              "\n",
              "  <div id=\"df-2fbd4df6-02d2-4340-9cd9-384254a0676d\">\n",
              "    <div class=\"colab-df-container\">\n",
              "      <div>\n",
              "<style scoped>\n",
              "    .dataframe tbody tr th:only-of-type {\n",
              "        vertical-align: middle;\n",
              "    }\n",
              "\n",
              "    .dataframe tbody tr th {\n",
              "        vertical-align: top;\n",
              "    }\n",
              "\n",
              "    .dataframe thead th {\n",
              "        text-align: right;\n",
              "    }\n",
              "</style>\n",
              "<table border=\"1\" class=\"dataframe\">\n",
              "  <thead>\n",
              "    <tr style=\"text-align: right;\">\n",
              "      <th></th>\n",
              "      <th>year</th>\n",
              "      <th>number</th>\n",
              "    </tr>\n",
              "  </thead>\n",
              "  <tbody>\n",
              "    <tr>\n",
              "      <th>10</th>\n",
              "      <td>2015</td>\n",
              "      <td>10.0</td>\n",
              "    </tr>\n",
              "    <tr>\n",
              "      <th>11</th>\n",
              "      <td>2015</td>\n",
              "      <td>4.0</td>\n",
              "    </tr>\n",
              "    <tr>\n",
              "      <th>12</th>\n",
              "      <td>2015</td>\n",
              "      <td>1.0</td>\n",
              "    </tr>\n",
              "    <tr>\n",
              "      <th>13</th>\n",
              "      <td>2015</td>\n",
              "      <td>2.0</td>\n",
              "    </tr>\n",
              "    <tr>\n",
              "      <th>14</th>\n",
              "      <td>2015</td>\n",
              "      <td>155.0</td>\n",
              "    </tr>\n",
              "    <tr>\n",
              "      <th>15</th>\n",
              "      <td>2015</td>\n",
              "      <td>1068.0</td>\n",
              "    </tr>\n",
              "  </tbody>\n",
              "</table>\n",
              "</div>\n",
              "      <button class=\"colab-df-convert\" onclick=\"convertToInteractive('df-2fbd4df6-02d2-4340-9cd9-384254a0676d')\"\n",
              "              title=\"Convert this dataframe to an interactive table.\"\n",
              "              style=\"display:none;\">\n",
              "        \n",
              "  <svg xmlns=\"http://www.w3.org/2000/svg\" height=\"24px\"viewBox=\"0 0 24 24\"\n",
              "       width=\"24px\">\n",
              "    <path d=\"M0 0h24v24H0V0z\" fill=\"none\"/>\n",
              "    <path d=\"M18.56 5.44l.94 2.06.94-2.06 2.06-.94-2.06-.94-.94-2.06-.94 2.06-2.06.94zm-11 1L8.5 8.5l.94-2.06 2.06-.94-2.06-.94L8.5 2.5l-.94 2.06-2.06.94zm10 10l.94 2.06.94-2.06 2.06-.94-2.06-.94-.94-2.06-.94 2.06-2.06.94z\"/><path d=\"M17.41 7.96l-1.37-1.37c-.4-.4-.92-.59-1.43-.59-.52 0-1.04.2-1.43.59L10.3 9.45l-7.72 7.72c-.78.78-.78 2.05 0 2.83L4 21.41c.39.39.9.59 1.41.59.51 0 1.02-.2 1.41-.59l7.78-7.78 2.81-2.81c.8-.78.8-2.07 0-2.86zM5.41 20L4 18.59l7.72-7.72 1.47 1.35L5.41 20z\"/>\n",
              "  </svg>\n",
              "      </button>\n",
              "      \n",
              "  <style>\n",
              "    .colab-df-container {\n",
              "      display:flex;\n",
              "      flex-wrap:wrap;\n",
              "      gap: 12px;\n",
              "    }\n",
              "\n",
              "    .colab-df-convert {\n",
              "      background-color: #E8F0FE;\n",
              "      border: none;\n",
              "      border-radius: 50%;\n",
              "      cursor: pointer;\n",
              "      display: none;\n",
              "      fill: #1967D2;\n",
              "      height: 32px;\n",
              "      padding: 0 0 0 0;\n",
              "      width: 32px;\n",
              "    }\n",
              "\n",
              "    .colab-df-convert:hover {\n",
              "      background-color: #E2EBFA;\n",
              "      box-shadow: 0px 1px 2px rgba(60, 64, 67, 0.3), 0px 1px 3px 1px rgba(60, 64, 67, 0.15);\n",
              "      fill: #174EA6;\n",
              "    }\n",
              "\n",
              "    [theme=dark] .colab-df-convert {\n",
              "      background-color: #3B4455;\n",
              "      fill: #D2E3FC;\n",
              "    }\n",
              "\n",
              "    [theme=dark] .colab-df-convert:hover {\n",
              "      background-color: #434B5C;\n",
              "      box-shadow: 0px 1px 3px 1px rgba(0, 0, 0, 0.15);\n",
              "      filter: drop-shadow(0px 1px 2px rgba(0, 0, 0, 0.3));\n",
              "      fill: #FFFFFF;\n",
              "    }\n",
              "  </style>\n",
              "\n",
              "      <script>\n",
              "        const buttonEl =\n",
              "          document.querySelector('#df-2fbd4df6-02d2-4340-9cd9-384254a0676d button.colab-df-convert');\n",
              "        buttonEl.style.display =\n",
              "          google.colab.kernel.accessAllowed ? 'block' : 'none';\n",
              "\n",
              "        async function convertToInteractive(key) {\n",
              "          const element = document.querySelector('#df-2fbd4df6-02d2-4340-9cd9-384254a0676d');\n",
              "          const dataTable =\n",
              "            await google.colab.kernel.invokeFunction('convertToInteractive',\n",
              "                                                     [key], {});\n",
              "          if (!dataTable) return;\n",
              "\n",
              "          const docLinkHtml = 'Like what you see? Visit the ' +\n",
              "            '<a target=\"_blank\" href=https://colab.research.google.com/notebooks/data_table.ipynb>data table notebook</a>'\n",
              "            + ' to learn more about interactive tables.';\n",
              "          element.innerHTML = '';\n",
              "          dataTable['output_type'] = 'display_data';\n",
              "          await google.colab.output.renderOutput(dataTable, element);\n",
              "          const docLink = document.createElement('div');\n",
              "          docLink.innerHTML = docLinkHtml;\n",
              "          element.appendChild(docLink);\n",
              "        }\n",
              "      </script>\n",
              "    </div>\n",
              "  </div>\n",
              "  "
            ]
          },
          "metadata": {},
          "execution_count": 90
        }
      ]
    },
    {
      "cell_type": "markdown",
      "source": [
        "In this case the rows' positions happen to be the same as the rows' names/labels. \n",
        "\n",
        "**Important**: when selecting by position (`iloc`) only the start point is included, the end point is excluded. When selecting by name/label (`loc`), both start and end points are included."
      ],
      "metadata": {
        "id": "76go0Hh04ni1"
      }
    },
    {
      "cell_type": "markdown",
      "source": [
        "#### How to filter rows based on conditions?\n",
        "\n",
        "This is useful when we want to zoom in to explore a subset of the data satisfying some condition(s). For example, to get only 2021 data on petrol cars:"
      ],
      "metadata": {
        "id": "Vx2ljK5B5EDz"
      }
    },
    {
      "cell_type": "code",
      "source": [
        "singapore_cars[(singapore_cars.year == 2021) & (singapore_cars.fuel == 'Petrol')]"
      ],
      "metadata": {
        "colab": {
          "base_uri": "https://localhost:8080/",
          "height": 424
        },
        "id": "a7V6Nszb5_H2",
        "outputId": "a8c1c5b0-737b-42cf-9254-a23450a2d4a9"
      },
      "execution_count": 91,
      "outputs": [
        {
          "output_type": "execute_result",
          "data": {
            "text/plain": [
              "      year          make    fuel                type  number\n",
              "2375  2021    ALFA ROMEO  Petrol           Hatchback     NaN\n",
              "2377  2021        ALPINE  Petrol           Hatchback     NaN\n",
              "2378  2021  ASTON MARTIN  Petrol           Hatchback     NaN\n",
              "2379  2021          AUDI  Petrol           Hatchback    34.0\n",
              "2381  2021        AUSTIN  Petrol           Hatchback     1.0\n",
              "...    ...           ...     ...                 ...     ...\n",
              "2798  2021        SUBARU  Petrol  Coupe/ Convertible     NaN\n",
              "2800  2021        SUZUKI  Petrol  Coupe/ Convertible     NaN\n",
              "2803  2021        TOYOTA  Petrol  Coupe/ Convertible    27.0\n",
              "2806  2021    VOLKSWAGEN  Petrol  Coupe/ Convertible     2.0\n",
              "2808  2021         VOLVO  Petrol  Coupe/ Convertible     2.0\n",
              "\n",
              "[235 rows x 5 columns]"
            ],
            "text/html": [
              "\n",
              "  <div id=\"df-e364f40a-9364-48a2-9c3a-eea7fa192f18\">\n",
              "    <div class=\"colab-df-container\">\n",
              "      <div>\n",
              "<style scoped>\n",
              "    .dataframe tbody tr th:only-of-type {\n",
              "        vertical-align: middle;\n",
              "    }\n",
              "\n",
              "    .dataframe tbody tr th {\n",
              "        vertical-align: top;\n",
              "    }\n",
              "\n",
              "    .dataframe thead th {\n",
              "        text-align: right;\n",
              "    }\n",
              "</style>\n",
              "<table border=\"1\" class=\"dataframe\">\n",
              "  <thead>\n",
              "    <tr style=\"text-align: right;\">\n",
              "      <th></th>\n",
              "      <th>year</th>\n",
              "      <th>make</th>\n",
              "      <th>fuel</th>\n",
              "      <th>type</th>\n",
              "      <th>number</th>\n",
              "    </tr>\n",
              "  </thead>\n",
              "  <tbody>\n",
              "    <tr>\n",
              "      <th>2375</th>\n",
              "      <td>2021</td>\n",
              "      <td>ALFA ROMEO</td>\n",
              "      <td>Petrol</td>\n",
              "      <td>Hatchback</td>\n",
              "      <td>NaN</td>\n",
              "    </tr>\n",
              "    <tr>\n",
              "      <th>2377</th>\n",
              "      <td>2021</td>\n",
              "      <td>ALPINE</td>\n",
              "      <td>Petrol</td>\n",
              "      <td>Hatchback</td>\n",
              "      <td>NaN</td>\n",
              "    </tr>\n",
              "    <tr>\n",
              "      <th>2378</th>\n",
              "      <td>2021</td>\n",
              "      <td>ASTON MARTIN</td>\n",
              "      <td>Petrol</td>\n",
              "      <td>Hatchback</td>\n",
              "      <td>NaN</td>\n",
              "    </tr>\n",
              "    <tr>\n",
              "      <th>2379</th>\n",
              "      <td>2021</td>\n",
              "      <td>AUDI</td>\n",
              "      <td>Petrol</td>\n",
              "      <td>Hatchback</td>\n",
              "      <td>34.0</td>\n",
              "    </tr>\n",
              "    <tr>\n",
              "      <th>2381</th>\n",
              "      <td>2021</td>\n",
              "      <td>AUSTIN</td>\n",
              "      <td>Petrol</td>\n",
              "      <td>Hatchback</td>\n",
              "      <td>1.0</td>\n",
              "    </tr>\n",
              "    <tr>\n",
              "      <th>...</th>\n",
              "      <td>...</td>\n",
              "      <td>...</td>\n",
              "      <td>...</td>\n",
              "      <td>...</td>\n",
              "      <td>...</td>\n",
              "    </tr>\n",
              "    <tr>\n",
              "      <th>2798</th>\n",
              "      <td>2021</td>\n",
              "      <td>SUBARU</td>\n",
              "      <td>Petrol</td>\n",
              "      <td>Coupe/ Convertible</td>\n",
              "      <td>NaN</td>\n",
              "    </tr>\n",
              "    <tr>\n",
              "      <th>2800</th>\n",
              "      <td>2021</td>\n",
              "      <td>SUZUKI</td>\n",
              "      <td>Petrol</td>\n",
              "      <td>Coupe/ Convertible</td>\n",
              "      <td>NaN</td>\n",
              "    </tr>\n",
              "    <tr>\n",
              "      <th>2803</th>\n",
              "      <td>2021</td>\n",
              "      <td>TOYOTA</td>\n",
              "      <td>Petrol</td>\n",
              "      <td>Coupe/ Convertible</td>\n",
              "      <td>27.0</td>\n",
              "    </tr>\n",
              "    <tr>\n",
              "      <th>2806</th>\n",
              "      <td>2021</td>\n",
              "      <td>VOLKSWAGEN</td>\n",
              "      <td>Petrol</td>\n",
              "      <td>Coupe/ Convertible</td>\n",
              "      <td>2.0</td>\n",
              "    </tr>\n",
              "    <tr>\n",
              "      <th>2808</th>\n",
              "      <td>2021</td>\n",
              "      <td>VOLVO</td>\n",
              "      <td>Petrol</td>\n",
              "      <td>Coupe/ Convertible</td>\n",
              "      <td>2.0</td>\n",
              "    </tr>\n",
              "  </tbody>\n",
              "</table>\n",
              "<p>235 rows × 5 columns</p>\n",
              "</div>\n",
              "      <button class=\"colab-df-convert\" onclick=\"convertToInteractive('df-e364f40a-9364-48a2-9c3a-eea7fa192f18')\"\n",
              "              title=\"Convert this dataframe to an interactive table.\"\n",
              "              style=\"display:none;\">\n",
              "        \n",
              "  <svg xmlns=\"http://www.w3.org/2000/svg\" height=\"24px\"viewBox=\"0 0 24 24\"\n",
              "       width=\"24px\">\n",
              "    <path d=\"M0 0h24v24H0V0z\" fill=\"none\"/>\n",
              "    <path d=\"M18.56 5.44l.94 2.06.94-2.06 2.06-.94-2.06-.94-.94-2.06-.94 2.06-2.06.94zm-11 1L8.5 8.5l.94-2.06 2.06-.94-2.06-.94L8.5 2.5l-.94 2.06-2.06.94zm10 10l.94 2.06.94-2.06 2.06-.94-2.06-.94-.94-2.06-.94 2.06-2.06.94z\"/><path d=\"M17.41 7.96l-1.37-1.37c-.4-.4-.92-.59-1.43-.59-.52 0-1.04.2-1.43.59L10.3 9.45l-7.72 7.72c-.78.78-.78 2.05 0 2.83L4 21.41c.39.39.9.59 1.41.59.51 0 1.02-.2 1.41-.59l7.78-7.78 2.81-2.81c.8-.78.8-2.07 0-2.86zM5.41 20L4 18.59l7.72-7.72 1.47 1.35L5.41 20z\"/>\n",
              "  </svg>\n",
              "      </button>\n",
              "      \n",
              "  <style>\n",
              "    .colab-df-container {\n",
              "      display:flex;\n",
              "      flex-wrap:wrap;\n",
              "      gap: 12px;\n",
              "    }\n",
              "\n",
              "    .colab-df-convert {\n",
              "      background-color: #E8F0FE;\n",
              "      border: none;\n",
              "      border-radius: 50%;\n",
              "      cursor: pointer;\n",
              "      display: none;\n",
              "      fill: #1967D2;\n",
              "      height: 32px;\n",
              "      padding: 0 0 0 0;\n",
              "      width: 32px;\n",
              "    }\n",
              "\n",
              "    .colab-df-convert:hover {\n",
              "      background-color: #E2EBFA;\n",
              "      box-shadow: 0px 1px 2px rgba(60, 64, 67, 0.3), 0px 1px 3px 1px rgba(60, 64, 67, 0.15);\n",
              "      fill: #174EA6;\n",
              "    }\n",
              "\n",
              "    [theme=dark] .colab-df-convert {\n",
              "      background-color: #3B4455;\n",
              "      fill: #D2E3FC;\n",
              "    }\n",
              "\n",
              "    [theme=dark] .colab-df-convert:hover {\n",
              "      background-color: #434B5C;\n",
              "      box-shadow: 0px 1px 3px 1px rgba(0, 0, 0, 0.15);\n",
              "      filter: drop-shadow(0px 1px 2px rgba(0, 0, 0, 0.3));\n",
              "      fill: #FFFFFF;\n",
              "    }\n",
              "  </style>\n",
              "\n",
              "      <script>\n",
              "        const buttonEl =\n",
              "          document.querySelector('#df-e364f40a-9364-48a2-9c3a-eea7fa192f18 button.colab-df-convert');\n",
              "        buttonEl.style.display =\n",
              "          google.colab.kernel.accessAllowed ? 'block' : 'none';\n",
              "\n",
              "        async function convertToInteractive(key) {\n",
              "          const element = document.querySelector('#df-e364f40a-9364-48a2-9c3a-eea7fa192f18');\n",
              "          const dataTable =\n",
              "            await google.colab.kernel.invokeFunction('convertToInteractive',\n",
              "                                                     [key], {});\n",
              "          if (!dataTable) return;\n",
              "\n",
              "          const docLinkHtml = 'Like what you see? Visit the ' +\n",
              "            '<a target=\"_blank\" href=https://colab.research.google.com/notebooks/data_table.ipynb>data table notebook</a>'\n",
              "            + ' to learn more about interactive tables.';\n",
              "          element.innerHTML = '';\n",
              "          dataTable['output_type'] = 'display_data';\n",
              "          await google.colab.output.renderOutput(dataTable, element);\n",
              "          const docLink = document.createElement('div');\n",
              "          docLink.innerHTML = docLinkHtml;\n",
              "          element.appendChild(docLink);\n",
              "        }\n",
              "      </script>\n",
              "    </div>\n",
              "  </div>\n",
              "  "
            ]
          },
          "metadata": {},
          "execution_count": 91
        }
      ]
    },
    {
      "cell_type": "markdown",
      "source": [
        "**Important**: Take note of the syntax here. We surround each condition with parentheses, and we use bitwise operators (`&`, `|`, `~`) instead of logical operators (`and`, `or`, `not`)."
      ],
      "metadata": {
        "id": "EN8IUoAH6bbj"
      }
    },
    {
      "cell_type": "markdown",
      "source": [
        "This mode of row selection/filtering is called \"boolean indexing\" because the selection is based on the specified condition evaluting to `True` or `False` (aka boolean). Rows that satisfy the condition are selected; those do not are filtered out. You can see the condition for the above example gets evaluated for each row as `True`/`False`:"
      ],
      "metadata": {
        "id": "yb0JINE69DV5"
      }
    },
    {
      "cell_type": "code",
      "source": [
        "(singapore_cars.year == 2021) & (singapore_cars.fuel == 'Petrol')"
      ],
      "metadata": {
        "colab": {
          "base_uri": "https://localhost:8080/"
        },
        "id": "GO6bHj8i-IBH",
        "outputId": "14944c08-b8a5-48fc-d8f5-e955d407c631"
      },
      "execution_count": 92,
      "outputs": [
        {
          "output_type": "execute_result",
          "data": {
            "text/plain": [
              "0       False\n",
              "1       False\n",
              "2       False\n",
              "3       False\n",
              "4       False\n",
              "        ...  \n",
              "2805    False\n",
              "2806     True\n",
              "2807    False\n",
              "2808     True\n",
              "2809    False\n",
              "Length: 2810, dtype: bool"
            ]
          },
          "metadata": {},
          "execution_count": 92
        }
      ]
    },
    {
      "cell_type": "markdown",
      "source": [
        "Think of `True` as 1 and `False` as 0, summing along the resulting `Series` gives us the number of rows that satisfy our condition, which matches our boolean indexing results above:"
      ],
      "metadata": {
        "id": "l-NiTFad-gye"
      }
    },
    {
      "cell_type": "code",
      "source": [
        "sum((singapore_cars.year == 2021) & (singapore_cars.fuel == 'Petrol'))"
      ],
      "metadata": {
        "colab": {
          "base_uri": "https://localhost:8080/"
        },
        "id": "_7fGhwBR-I10",
        "outputId": "62518339-6865-473d-ee12-7a9b46a3cfe9"
      },
      "execution_count": 93,
      "outputs": [
        {
          "output_type": "execute_result",
          "data": {
            "text/plain": [
              "235"
            ]
          },
          "metadata": {},
          "execution_count": 93
        }
      ]
    },
    {
      "cell_type": "markdown",
      "source": [
        "### Exploring the data\n",
        "\n",
        "Exploratory analysis is crucial in understanding the data. Pandas provides functions such as `value_counts`, `nunique`, `describe` alongside common summary statistical functions including `max`, `min`, `mean`, `median` to help us with the process."
      ],
      "metadata": {
        "id": "JW-7uOl_ATPX"
      }
    },
    {
      "cell_type": "markdown",
      "source": [
        "First, recall the `number` column has many missing values, which means those records do not correspond to any registration:"
      ],
      "metadata": {
        "id": "bTUSgNkHB_F-"
      }
    },
    {
      "cell_type": "code",
      "source": [
        "singapore_cars.info()"
      ],
      "metadata": {
        "colab": {
          "base_uri": "https://localhost:8080/"
        },
        "id": "fXP-Ee5hki74",
        "outputId": "5c1a4174-ae15-4e96-960c-a1d0051c1010"
      },
      "execution_count": 94,
      "outputs": [
        {
          "output_type": "stream",
          "name": "stdout",
          "text": [
            "<class 'pandas.core.frame.DataFrame'>\n",
            "RangeIndex: 2810 entries, 0 to 2809\n",
            "Data columns (total 5 columns):\n",
            " #   Column  Non-Null Count  Dtype  \n",
            "---  ------  --------------  -----  \n",
            " 0   year    2810 non-null   int64  \n",
            " 1   make    2810 non-null   object \n",
            " 2   fuel    2810 non-null   object \n",
            " 3   type    2810 non-null   object \n",
            " 4   number  1432 non-null   float64\n",
            "dtypes: float64(1), int64(1), object(3)\n",
            "memory usage: 109.9+ KB\n"
          ]
        }
      ]
    },
    {
      "cell_type": "markdown",
      "source": [
        "Let's filter them out using boolean indexing:"
      ],
      "metadata": {
        "id": "j38BPaURkyxv"
      }
    },
    {
      "cell_type": "code",
      "source": [
        "singapore_cars_cleaned = singapore_cars[~np.isnan(singapore_cars.number)]\n",
        "singapore_cars_cleaned.info()"
      ],
      "metadata": {
        "colab": {
          "base_uri": "https://localhost:8080/"
        },
        "id": "dNV39fTjCb4C",
        "outputId": "5567c4cd-a69e-4ca0-8174-dc08eacedd4e"
      },
      "execution_count": 95,
      "outputs": [
        {
          "output_type": "stream",
          "name": "stdout",
          "text": [
            "<class 'pandas.core.frame.DataFrame'>\n",
            "Int64Index: 1432 entries, 0 to 2808\n",
            "Data columns (total 5 columns):\n",
            " #   Column  Non-Null Count  Dtype  \n",
            "---  ------  --------------  -----  \n",
            " 0   year    1432 non-null   int64  \n",
            " 1   make    1432 non-null   object \n",
            " 2   fuel    1432 non-null   object \n",
            " 3   type    1432 non-null   object \n",
            " 4   number  1432 non-null   float64\n",
            "dtypes: float64(1), int64(1), object(3)\n",
            "memory usage: 67.1+ KB\n"
          ]
        }
      ]
    },
    {
      "cell_type": "markdown",
      "source": [
        "#### How many unique rows?"
      ],
      "metadata": {
        "id": "f9vxgM-clCL6"
      }
    },
    {
      "cell_type": "markdown",
      "source": [
        "How many different types and makes of cars are registered in Singapore over time?"
      ],
      "metadata": {
        "id": "7fqlzLDWBD73"
      }
    },
    {
      "cell_type": "code",
      "source": [
        "singapore_cars_cleaned.year.value_counts()"
      ],
      "metadata": {
        "colab": {
          "base_uri": "https://localhost:8080/"
        },
        "id": "_26w9sY3AeyG",
        "outputId": "a09e5b8d-a714-4fee-fea0-6471975b805b"
      },
      "execution_count": 96,
      "outputs": [
        {
          "output_type": "execute_result",
          "data": {
            "text/plain": [
              "2017    232\n",
              "2021    219\n",
              "2018    199\n",
              "2019    198\n",
              "2016    197\n",
              "2020    196\n",
              "2015    191\n",
              "Name: year, dtype: int64"
            ]
          },
          "metadata": {},
          "execution_count": 96
        }
      ]
    },
    {
      "cell_type": "markdown",
      "source": [
        "Seems like the number of different types and makes of cars registered in Signapore are fairly constant over time. Just to be sure, we can check the breakdown in percentage:"
      ],
      "metadata": {
        "id": "NgjTlCXqFWWK"
      }
    },
    {
      "cell_type": "code",
      "source": [
        "singapore_cars_cleaned.year.value_counts(normalize=True)"
      ],
      "metadata": {
        "colab": {
          "base_uri": "https://localhost:8080/"
        },
        "id": "Hhp53UqHFjc2",
        "outputId": "30100001-8f29-4b54-96cc-0cbe75d35fbe"
      },
      "execution_count": 97,
      "outputs": [
        {
          "output_type": "execute_result",
          "data": {
            "text/plain": [
              "2017    0.162011\n",
              "2021    0.152933\n",
              "2018    0.138966\n",
              "2019    0.138268\n",
              "2016    0.137570\n",
              "2020    0.136872\n",
              "2015    0.133380\n",
              "Name: year, dtype: float64"
            ]
          },
          "metadata": {},
          "execution_count": 97
        }
      ]
    },
    {
      "cell_type": "markdown",
      "source": [
        "Let's drill down to the 2021 registration data:"
      ],
      "metadata": {
        "id": "Nj1QZpkiBfaw"
      }
    },
    {
      "cell_type": "code",
      "source": [
        "singapore_cars_2021 = singapore_cars_cleaned[singapore_cars_cleaned.year == 2021]\n",
        "singapore_cars_2021"
      ],
      "metadata": {
        "colab": {
          "base_uri": "https://localhost:8080/",
          "height": 424
        },
        "id": "c_P1yolRBWx6",
        "outputId": "46d00e5f-9c07-4f04-8971-ea3b916b1ef6"
      },
      "execution_count": 98,
      "outputs": [
        {
          "output_type": "execute_result",
          "data": {
            "text/plain": [
              "      year         make    fuel                type  number\n",
              "2379  2021         AUDI  Petrol           Hatchback    34.0\n",
              "2380  2021         AUDI  Others           Hatchback   339.0\n",
              "2381  2021       AUSTIN  Petrol           Hatchback     1.0\n",
              "2382  2021       B.M.W.  Petrol           Hatchback  1438.0\n",
              "2384  2021       B.M.W.  Others           Hatchback     9.0\n",
              "...    ...          ...     ...                 ...     ...\n",
              "2791  2021  ROLLS ROYCE  Petrol  Coupe/ Convertible    23.0\n",
              "2803  2021       TOYOTA  Petrol  Coupe/ Convertible    27.0\n",
              "2806  2021   VOLKSWAGEN  Petrol  Coupe/ Convertible     2.0\n",
              "2807  2021   VOLKSWAGEN  Others  Coupe/ Convertible     1.0\n",
              "2808  2021        VOLVO  Petrol  Coupe/ Convertible     2.0\n",
              "\n",
              "[219 rows x 5 columns]"
            ],
            "text/html": [
              "\n",
              "  <div id=\"df-1eac748a-1d74-4aa1-9b88-29782d56fa01\">\n",
              "    <div class=\"colab-df-container\">\n",
              "      <div>\n",
              "<style scoped>\n",
              "    .dataframe tbody tr th:only-of-type {\n",
              "        vertical-align: middle;\n",
              "    }\n",
              "\n",
              "    .dataframe tbody tr th {\n",
              "        vertical-align: top;\n",
              "    }\n",
              "\n",
              "    .dataframe thead th {\n",
              "        text-align: right;\n",
              "    }\n",
              "</style>\n",
              "<table border=\"1\" class=\"dataframe\">\n",
              "  <thead>\n",
              "    <tr style=\"text-align: right;\">\n",
              "      <th></th>\n",
              "      <th>year</th>\n",
              "      <th>make</th>\n",
              "      <th>fuel</th>\n",
              "      <th>type</th>\n",
              "      <th>number</th>\n",
              "    </tr>\n",
              "  </thead>\n",
              "  <tbody>\n",
              "    <tr>\n",
              "      <th>2379</th>\n",
              "      <td>2021</td>\n",
              "      <td>AUDI</td>\n",
              "      <td>Petrol</td>\n",
              "      <td>Hatchback</td>\n",
              "      <td>34.0</td>\n",
              "    </tr>\n",
              "    <tr>\n",
              "      <th>2380</th>\n",
              "      <td>2021</td>\n",
              "      <td>AUDI</td>\n",
              "      <td>Others</td>\n",
              "      <td>Hatchback</td>\n",
              "      <td>339.0</td>\n",
              "    </tr>\n",
              "    <tr>\n",
              "      <th>2381</th>\n",
              "      <td>2021</td>\n",
              "      <td>AUSTIN</td>\n",
              "      <td>Petrol</td>\n",
              "      <td>Hatchback</td>\n",
              "      <td>1.0</td>\n",
              "    </tr>\n",
              "    <tr>\n",
              "      <th>2382</th>\n",
              "      <td>2021</td>\n",
              "      <td>B.M.W.</td>\n",
              "      <td>Petrol</td>\n",
              "      <td>Hatchback</td>\n",
              "      <td>1438.0</td>\n",
              "    </tr>\n",
              "    <tr>\n",
              "      <th>2384</th>\n",
              "      <td>2021</td>\n",
              "      <td>B.M.W.</td>\n",
              "      <td>Others</td>\n",
              "      <td>Hatchback</td>\n",
              "      <td>9.0</td>\n",
              "    </tr>\n",
              "    <tr>\n",
              "      <th>...</th>\n",
              "      <td>...</td>\n",
              "      <td>...</td>\n",
              "      <td>...</td>\n",
              "      <td>...</td>\n",
              "      <td>...</td>\n",
              "    </tr>\n",
              "    <tr>\n",
              "      <th>2791</th>\n",
              "      <td>2021</td>\n",
              "      <td>ROLLS ROYCE</td>\n",
              "      <td>Petrol</td>\n",
              "      <td>Coupe/ Convertible</td>\n",
              "      <td>23.0</td>\n",
              "    </tr>\n",
              "    <tr>\n",
              "      <th>2803</th>\n",
              "      <td>2021</td>\n",
              "      <td>TOYOTA</td>\n",
              "      <td>Petrol</td>\n",
              "      <td>Coupe/ Convertible</td>\n",
              "      <td>27.0</td>\n",
              "    </tr>\n",
              "    <tr>\n",
              "      <th>2806</th>\n",
              "      <td>2021</td>\n",
              "      <td>VOLKSWAGEN</td>\n",
              "      <td>Petrol</td>\n",
              "      <td>Coupe/ Convertible</td>\n",
              "      <td>2.0</td>\n",
              "    </tr>\n",
              "    <tr>\n",
              "      <th>2807</th>\n",
              "      <td>2021</td>\n",
              "      <td>VOLKSWAGEN</td>\n",
              "      <td>Others</td>\n",
              "      <td>Coupe/ Convertible</td>\n",
              "      <td>1.0</td>\n",
              "    </tr>\n",
              "    <tr>\n",
              "      <th>2808</th>\n",
              "      <td>2021</td>\n",
              "      <td>VOLVO</td>\n",
              "      <td>Petrol</td>\n",
              "      <td>Coupe/ Convertible</td>\n",
              "      <td>2.0</td>\n",
              "    </tr>\n",
              "  </tbody>\n",
              "</table>\n",
              "<p>219 rows × 5 columns</p>\n",
              "</div>\n",
              "      <button class=\"colab-df-convert\" onclick=\"convertToInteractive('df-1eac748a-1d74-4aa1-9b88-29782d56fa01')\"\n",
              "              title=\"Convert this dataframe to an interactive table.\"\n",
              "              style=\"display:none;\">\n",
              "        \n",
              "  <svg xmlns=\"http://www.w3.org/2000/svg\" height=\"24px\"viewBox=\"0 0 24 24\"\n",
              "       width=\"24px\">\n",
              "    <path d=\"M0 0h24v24H0V0z\" fill=\"none\"/>\n",
              "    <path d=\"M18.56 5.44l.94 2.06.94-2.06 2.06-.94-2.06-.94-.94-2.06-.94 2.06-2.06.94zm-11 1L8.5 8.5l.94-2.06 2.06-.94-2.06-.94L8.5 2.5l-.94 2.06-2.06.94zm10 10l.94 2.06.94-2.06 2.06-.94-2.06-.94-.94-2.06-.94 2.06-2.06.94z\"/><path d=\"M17.41 7.96l-1.37-1.37c-.4-.4-.92-.59-1.43-.59-.52 0-1.04.2-1.43.59L10.3 9.45l-7.72 7.72c-.78.78-.78 2.05 0 2.83L4 21.41c.39.39.9.59 1.41.59.51 0 1.02-.2 1.41-.59l7.78-7.78 2.81-2.81c.8-.78.8-2.07 0-2.86zM5.41 20L4 18.59l7.72-7.72 1.47 1.35L5.41 20z\"/>\n",
              "  </svg>\n",
              "      </button>\n",
              "      \n",
              "  <style>\n",
              "    .colab-df-container {\n",
              "      display:flex;\n",
              "      flex-wrap:wrap;\n",
              "      gap: 12px;\n",
              "    }\n",
              "\n",
              "    .colab-df-convert {\n",
              "      background-color: #E8F0FE;\n",
              "      border: none;\n",
              "      border-radius: 50%;\n",
              "      cursor: pointer;\n",
              "      display: none;\n",
              "      fill: #1967D2;\n",
              "      height: 32px;\n",
              "      padding: 0 0 0 0;\n",
              "      width: 32px;\n",
              "    }\n",
              "\n",
              "    .colab-df-convert:hover {\n",
              "      background-color: #E2EBFA;\n",
              "      box-shadow: 0px 1px 2px rgba(60, 64, 67, 0.3), 0px 1px 3px 1px rgba(60, 64, 67, 0.15);\n",
              "      fill: #174EA6;\n",
              "    }\n",
              "\n",
              "    [theme=dark] .colab-df-convert {\n",
              "      background-color: #3B4455;\n",
              "      fill: #D2E3FC;\n",
              "    }\n",
              "\n",
              "    [theme=dark] .colab-df-convert:hover {\n",
              "      background-color: #434B5C;\n",
              "      box-shadow: 0px 1px 3px 1px rgba(0, 0, 0, 0.15);\n",
              "      filter: drop-shadow(0px 1px 2px rgba(0, 0, 0, 0.3));\n",
              "      fill: #FFFFFF;\n",
              "    }\n",
              "  </style>\n",
              "\n",
              "      <script>\n",
              "        const buttonEl =\n",
              "          document.querySelector('#df-1eac748a-1d74-4aa1-9b88-29782d56fa01 button.colab-df-convert');\n",
              "        buttonEl.style.display =\n",
              "          google.colab.kernel.accessAllowed ? 'block' : 'none';\n",
              "\n",
              "        async function convertToInteractive(key) {\n",
              "          const element = document.querySelector('#df-1eac748a-1d74-4aa1-9b88-29782d56fa01');\n",
              "          const dataTable =\n",
              "            await google.colab.kernel.invokeFunction('convertToInteractive',\n",
              "                                                     [key], {});\n",
              "          if (!dataTable) return;\n",
              "\n",
              "          const docLinkHtml = 'Like what you see? Visit the ' +\n",
              "            '<a target=\"_blank\" href=https://colab.research.google.com/notebooks/data_table.ipynb>data table notebook</a>'\n",
              "            + ' to learn more about interactive tables.';\n",
              "          element.innerHTML = '';\n",
              "          dataTable['output_type'] = 'display_data';\n",
              "          await google.colab.output.renderOutput(dataTable, element);\n",
              "          const docLink = document.createElement('div');\n",
              "          docLink.innerHTML = docLinkHtml;\n",
              "          element.appendChild(docLink);\n",
              "        }\n",
              "      </script>\n",
              "    </div>\n",
              "  </div>\n",
              "  "
            ]
          },
          "metadata": {},
          "execution_count": 98
        }
      ]
    },
    {
      "cell_type": "markdown",
      "source": [
        "What are the unique makes registered in 2021?"
      ],
      "metadata": {
        "id": "SmJbUQurGyzu"
      }
    },
    {
      "cell_type": "code",
      "source": [
        "singapore_cars_2021.make.unique()"
      ],
      "metadata": {
        "colab": {
          "base_uri": "https://localhost:8080/"
        },
        "id": "PbZV-jnqGjyj",
        "outputId": "763e36b3-4f22-4f37-a86b-a5dd87ca6e02"
      },
      "execution_count": 99,
      "outputs": [
        {
          "output_type": "execute_result",
          "data": {
            "text/plain": [
              "array(['AUDI', 'AUSTIN', 'B.M.W.', 'BLUECAR', 'BYD', 'FIAT', 'FORD',\n",
              "       'HONDA', 'HYUNDAI', 'KIA', 'MAZDA', 'MERCEDES BENZ', 'MINI',\n",
              "       'MITSUBISHI', 'NISSAN', 'OPEL', 'PERODUA', 'PEUGEOT', 'PORSCHE',\n",
              "       'RENAULT', 'SEAT', 'SKODA', 'SUBARU', 'SUZUKI', 'TESLA', 'TOYOTA',\n",
              "       'VOLKSWAGEN', 'ALFA ROMEO', 'BENTLEY', 'CITROEN', 'DATSUN',\n",
              "       'INFINITI', 'JAGUAR', 'MASERATI', 'MITSUOKA', 'POLESTAR',\n",
              "       'ROLLS ROYCE', 'VOLVO', 'LAND ROVER', 'M.G.', 'MAXUS', 'SSANGYONG',\n",
              "       'ASTON MARTIN', 'JEEP', 'LAMBORGHINI', 'ALPINA', 'ALPINE',\n",
              "       'DAIHATSU', 'FERRARI', 'LOTUS', 'Mclaren', 'MORGAN'], dtype=object)"
            ]
          },
          "metadata": {},
          "execution_count": 99
        }
      ]
    },
    {
      "cell_type": "markdown",
      "source": [
        "How many unique values are there?"
      ],
      "metadata": {
        "id": "hAUNjbzFG2S1"
      }
    },
    {
      "cell_type": "code",
      "source": [
        "singapore_cars_2021.make.nunique()"
      ],
      "metadata": {
        "colab": {
          "base_uri": "https://localhost:8080/"
        },
        "id": "rZtRZ94MG381",
        "outputId": "c9a20ea0-1b82-44e4-e83e-55c0f6b87339"
      },
      "execution_count": 100,
      "outputs": [
        {
          "output_type": "execute_result",
          "data": {
            "text/plain": [
              "52"
            ]
          },
          "metadata": {},
          "execution_count": 100
        }
      ]
    },
    {
      "cell_type": "markdown",
      "source": [
        "#### How to calculate summary statistics?"
      ],
      "metadata": {
        "id": "pBItKOiwlbCK"
      }
    },
    {
      "cell_type": "markdown",
      "source": [
        "We can find basic statistics like we did on an `ndarray`, for example, finding the maximum number of cars registered in 2021 by make, fuel and type:"
      ],
      "metadata": {
        "id": "Hb9dHqy9DTwi"
      }
    },
    {
      "cell_type": "code",
      "source": [
        "singapore_cars_2021.number.max()"
      ],
      "metadata": {
        "colab": {
          "base_uri": "https://localhost:8080/"
        },
        "id": "QC24lMg6Ebid",
        "outputId": "d79a1549-dc5e-4bbd-f400-d8eae160b039"
      },
      "execution_count": 101,
      "outputs": [
        {
          "output_type": "execute_result",
          "data": {
            "text/plain": [
              "2557.0"
            ]
          },
          "metadata": {},
          "execution_count": 101
        }
      ]
    },
    {
      "cell_type": "markdown",
      "source": [
        "What is this most popular car?"
      ],
      "metadata": {
        "id": "t2a11vrPGRkR"
      }
    },
    {
      "cell_type": "code",
      "source": [
        "singapore_cars_2021.iloc[singapore_cars_2021.number.argmax(), ]"
      ],
      "metadata": {
        "colab": {
          "base_uri": "https://localhost:8080/"
        },
        "id": "dttz4heeEpk3",
        "outputId": "0ae0d4bd-b0aa-43a3-d115-d2dc11cceccb"
      },
      "execution_count": 102,
      "outputs": [
        {
          "output_type": "execute_result",
          "data": {
            "text/plain": [
              "year                        2021\n",
              "make               MERCEDES BENZ\n",
              "fuel                      Petrol\n",
              "type      Sports Utility Vehicle\n",
              "number                    2557.0\n",
              "Name: 2684, dtype: object"
            ]
          },
          "metadata": {},
          "execution_count": 102
        }
      ]
    },
    {
      "cell_type": "markdown",
      "source": [
        "Going back to the all-time cleaned dataset, to quickly get common summary statistics for all columns at once:"
      ],
      "metadata": {
        "id": "bUPQK40fJQKQ"
      }
    },
    {
      "cell_type": "code",
      "source": [
        "singapore_cars_cleaned.describe(include='all')"
      ],
      "metadata": {
        "colab": {
          "base_uri": "https://localhost:8080/",
          "height": 394
        },
        "id": "hi4xCBeTHO77",
        "outputId": "d34df267-6d56-42e3-ec3d-d8cab8885ce0"
      },
      "execution_count": 103,
      "outputs": [
        {
          "output_type": "execute_result",
          "data": {
            "text/plain": [
              "              year    make    fuel                    type        number\n",
              "count   1432.00000    1432    1432                    1432   1432.000000\n",
              "unique         NaN      71       3                       5           NaN\n",
              "top            NaN  B.M.W.  Petrol  Sports Utility Vehicle           NaN\n",
              "freq           NaN      82     950                     351           NaN\n",
              "mean    2018.03352     NaN     NaN                     NaN    334.879190\n",
              "std        1.99412     NaN     NaN                     NaN    820.163665\n",
              "min     2015.00000     NaN     NaN                     NaN      1.000000\n",
              "25%     2016.00000     NaN     NaN                     NaN      5.000000\n",
              "50%     2018.00000     NaN     NaN                     NaN     34.000000\n",
              "75%     2020.00000     NaN     NaN                     NaN    235.250000\n",
              "max     2021.00000     NaN     NaN                     NaN  10109.000000"
            ],
            "text/html": [
              "\n",
              "  <div id=\"df-ba77d745-8e65-4787-b124-612eb9ecafb1\">\n",
              "    <div class=\"colab-df-container\">\n",
              "      <div>\n",
              "<style scoped>\n",
              "    .dataframe tbody tr th:only-of-type {\n",
              "        vertical-align: middle;\n",
              "    }\n",
              "\n",
              "    .dataframe tbody tr th {\n",
              "        vertical-align: top;\n",
              "    }\n",
              "\n",
              "    .dataframe thead th {\n",
              "        text-align: right;\n",
              "    }\n",
              "</style>\n",
              "<table border=\"1\" class=\"dataframe\">\n",
              "  <thead>\n",
              "    <tr style=\"text-align: right;\">\n",
              "      <th></th>\n",
              "      <th>year</th>\n",
              "      <th>make</th>\n",
              "      <th>fuel</th>\n",
              "      <th>type</th>\n",
              "      <th>number</th>\n",
              "    </tr>\n",
              "  </thead>\n",
              "  <tbody>\n",
              "    <tr>\n",
              "      <th>count</th>\n",
              "      <td>1432.00000</td>\n",
              "      <td>1432</td>\n",
              "      <td>1432</td>\n",
              "      <td>1432</td>\n",
              "      <td>1432.000000</td>\n",
              "    </tr>\n",
              "    <tr>\n",
              "      <th>unique</th>\n",
              "      <td>NaN</td>\n",
              "      <td>71</td>\n",
              "      <td>3</td>\n",
              "      <td>5</td>\n",
              "      <td>NaN</td>\n",
              "    </tr>\n",
              "    <tr>\n",
              "      <th>top</th>\n",
              "      <td>NaN</td>\n",
              "      <td>B.M.W.</td>\n",
              "      <td>Petrol</td>\n",
              "      <td>Sports Utility Vehicle</td>\n",
              "      <td>NaN</td>\n",
              "    </tr>\n",
              "    <tr>\n",
              "      <th>freq</th>\n",
              "      <td>NaN</td>\n",
              "      <td>82</td>\n",
              "      <td>950</td>\n",
              "      <td>351</td>\n",
              "      <td>NaN</td>\n",
              "    </tr>\n",
              "    <tr>\n",
              "      <th>mean</th>\n",
              "      <td>2018.03352</td>\n",
              "      <td>NaN</td>\n",
              "      <td>NaN</td>\n",
              "      <td>NaN</td>\n",
              "      <td>334.879190</td>\n",
              "    </tr>\n",
              "    <tr>\n",
              "      <th>std</th>\n",
              "      <td>1.99412</td>\n",
              "      <td>NaN</td>\n",
              "      <td>NaN</td>\n",
              "      <td>NaN</td>\n",
              "      <td>820.163665</td>\n",
              "    </tr>\n",
              "    <tr>\n",
              "      <th>min</th>\n",
              "      <td>2015.00000</td>\n",
              "      <td>NaN</td>\n",
              "      <td>NaN</td>\n",
              "      <td>NaN</td>\n",
              "      <td>1.000000</td>\n",
              "    </tr>\n",
              "    <tr>\n",
              "      <th>25%</th>\n",
              "      <td>2016.00000</td>\n",
              "      <td>NaN</td>\n",
              "      <td>NaN</td>\n",
              "      <td>NaN</td>\n",
              "      <td>5.000000</td>\n",
              "    </tr>\n",
              "    <tr>\n",
              "      <th>50%</th>\n",
              "      <td>2018.00000</td>\n",
              "      <td>NaN</td>\n",
              "      <td>NaN</td>\n",
              "      <td>NaN</td>\n",
              "      <td>34.000000</td>\n",
              "    </tr>\n",
              "    <tr>\n",
              "      <th>75%</th>\n",
              "      <td>2020.00000</td>\n",
              "      <td>NaN</td>\n",
              "      <td>NaN</td>\n",
              "      <td>NaN</td>\n",
              "      <td>235.250000</td>\n",
              "    </tr>\n",
              "    <tr>\n",
              "      <th>max</th>\n",
              "      <td>2021.00000</td>\n",
              "      <td>NaN</td>\n",
              "      <td>NaN</td>\n",
              "      <td>NaN</td>\n",
              "      <td>10109.000000</td>\n",
              "    </tr>\n",
              "  </tbody>\n",
              "</table>\n",
              "</div>\n",
              "      <button class=\"colab-df-convert\" onclick=\"convertToInteractive('df-ba77d745-8e65-4787-b124-612eb9ecafb1')\"\n",
              "              title=\"Convert this dataframe to an interactive table.\"\n",
              "              style=\"display:none;\">\n",
              "        \n",
              "  <svg xmlns=\"http://www.w3.org/2000/svg\" height=\"24px\"viewBox=\"0 0 24 24\"\n",
              "       width=\"24px\">\n",
              "    <path d=\"M0 0h24v24H0V0z\" fill=\"none\"/>\n",
              "    <path d=\"M18.56 5.44l.94 2.06.94-2.06 2.06-.94-2.06-.94-.94-2.06-.94 2.06-2.06.94zm-11 1L8.5 8.5l.94-2.06 2.06-.94-2.06-.94L8.5 2.5l-.94 2.06-2.06.94zm10 10l.94 2.06.94-2.06 2.06-.94-2.06-.94-.94-2.06-.94 2.06-2.06.94z\"/><path d=\"M17.41 7.96l-1.37-1.37c-.4-.4-.92-.59-1.43-.59-.52 0-1.04.2-1.43.59L10.3 9.45l-7.72 7.72c-.78.78-.78 2.05 0 2.83L4 21.41c.39.39.9.59 1.41.59.51 0 1.02-.2 1.41-.59l7.78-7.78 2.81-2.81c.8-.78.8-2.07 0-2.86zM5.41 20L4 18.59l7.72-7.72 1.47 1.35L5.41 20z\"/>\n",
              "  </svg>\n",
              "      </button>\n",
              "      \n",
              "  <style>\n",
              "    .colab-df-container {\n",
              "      display:flex;\n",
              "      flex-wrap:wrap;\n",
              "      gap: 12px;\n",
              "    }\n",
              "\n",
              "    .colab-df-convert {\n",
              "      background-color: #E8F0FE;\n",
              "      border: none;\n",
              "      border-radius: 50%;\n",
              "      cursor: pointer;\n",
              "      display: none;\n",
              "      fill: #1967D2;\n",
              "      height: 32px;\n",
              "      padding: 0 0 0 0;\n",
              "      width: 32px;\n",
              "    }\n",
              "\n",
              "    .colab-df-convert:hover {\n",
              "      background-color: #E2EBFA;\n",
              "      box-shadow: 0px 1px 2px rgba(60, 64, 67, 0.3), 0px 1px 3px 1px rgba(60, 64, 67, 0.15);\n",
              "      fill: #174EA6;\n",
              "    }\n",
              "\n",
              "    [theme=dark] .colab-df-convert {\n",
              "      background-color: #3B4455;\n",
              "      fill: #D2E3FC;\n",
              "    }\n",
              "\n",
              "    [theme=dark] .colab-df-convert:hover {\n",
              "      background-color: #434B5C;\n",
              "      box-shadow: 0px 1px 3px 1px rgba(0, 0, 0, 0.15);\n",
              "      filter: drop-shadow(0px 1px 2px rgba(0, 0, 0, 0.3));\n",
              "      fill: #FFFFFF;\n",
              "    }\n",
              "  </style>\n",
              "\n",
              "      <script>\n",
              "        const buttonEl =\n",
              "          document.querySelector('#df-ba77d745-8e65-4787-b124-612eb9ecafb1 button.colab-df-convert');\n",
              "        buttonEl.style.display =\n",
              "          google.colab.kernel.accessAllowed ? 'block' : 'none';\n",
              "\n",
              "        async function convertToInteractive(key) {\n",
              "          const element = document.querySelector('#df-ba77d745-8e65-4787-b124-612eb9ecafb1');\n",
              "          const dataTable =\n",
              "            await google.colab.kernel.invokeFunction('convertToInteractive',\n",
              "                                                     [key], {});\n",
              "          if (!dataTable) return;\n",
              "\n",
              "          const docLinkHtml = 'Like what you see? Visit the ' +\n",
              "            '<a target=\"_blank\" href=https://colab.research.google.com/notebooks/data_table.ipynb>data table notebook</a>'\n",
              "            + ' to learn more about interactive tables.';\n",
              "          element.innerHTML = '';\n",
              "          dataTable['output_type'] = 'display_data';\n",
              "          await google.colab.output.renderOutput(dataTable, element);\n",
              "          const docLink = document.createElement('div');\n",
              "          docLink.innerHTML = docLinkHtml;\n",
              "          element.appendChild(docLink);\n",
              "        }\n",
              "      </script>\n",
              "    </div>\n",
              "  </div>\n",
              "  "
            ]
          },
          "metadata": {},
          "execution_count": 103
        }
      ]
    },
    {
      "cell_type": "markdown",
      "source": [
        "**Important**: NaN values signify missing data. For instance, the categorical/string columns such as `make`, `fule` have no value for `mean`, `std` etc; likewise, numeric columns such as `number` and `year` have no entries for the categorical summary statistics (`unique`, `top`, `freq`)."
      ],
      "metadata": {
        "id": "YDNOcNa1JXQV"
      }
    },
    {
      "cell_type": "markdown",
      "source": [
        "### Exercises"
      ],
      "metadata": {
        "id": "3jdkE99YhJtM"
      }
    },
    {
      "cell_type": "markdown",
      "source": [
        "Let's first prepare our environment with the latest version of the xlrd library. It's for reading data and formatting information from Excel files in the historical .xls format. After the installation completes, you will see a \"RESTART RUNTIME\" button, click on it to restart the environment so we can start using the newly installed library."
      ],
      "metadata": {
        "id": "3Wb5-AR9ISvp"
      }
    },
    {
      "cell_type": "code",
      "source": [
        "!pip install xlrd --upgrade"
      ],
      "metadata": {
        "colab": {
          "base_uri": "https://localhost:8080/"
        },
        "id": "SQZFDzdvmFdd",
        "outputId": "5ed58e2d-1dac-4d33-8c92-b25a75d897a9"
      },
      "execution_count": 104,
      "outputs": [
        {
          "output_type": "stream",
          "name": "stdout",
          "text": [
            "Looking in indexes: https://pypi.org/simple, https://us-python.pkg.dev/colab-wheels/public/simple/\n",
            "Requirement already satisfied: xlrd in /usr/local/lib/python3.7/dist-packages (2.0.1)\n"
          ]
        }
      ]
    },
    {
      "cell_type": "markdown",
      "source": [
        "#### Step 1.\n",
        "\n",
        "Create a `DataFrame` by reading in the excel file from the given URL stored in the `exercise_data_url` variable. There are 3 sheets in the excel file, we only want the last sheet.\n",
        "\n",
        "Store the resulting DataFrame in a variable named `sg_cars_excel`:\n"
      ],
      "metadata": {
        "id": "r3CI3OznhORw"
      }
    },
    {
      "cell_type": "code",
      "source": [
        "%%script echo Remove this line after filling in your own code\n",
        "\n",
        "import pandas as pd\n",
        "\n",
        "exercise_data_url = 'https://raw.githubusercontent.com/weilu/colab-sandbox/main/data/Singapore_Annual_New_Car_Registrations_by_make_type.xls'\n",
        "\n",
        "# hint: use pd.read_excel, note sheet index starts with 0\n",
        "# Your code here\n",
        "\n",
        "assert sg_cars_excel.shape == (79, 12)"
      ],
      "metadata": {
        "colab": {
          "base_uri": "https://localhost:8080/"
        },
        "id": "p49zDWEUkVIh",
        "outputId": "bbe2fb35-6bbd-4985-8d11-157ffaca9225"
      },
      "execution_count": 150,
      "outputs": [
        {
          "output_type": "stream",
          "name": "stdout",
          "text": [
            "Remove this line after filling in your own code\n"
          ]
        }
      ]
    },
    {
      "cell_type": "markdown",
      "source": [
        "#### Step 2.\n",
        "\n",
        "Inspect the first 3 and last 5 rows of `sg_cars_excel`:"
      ],
      "metadata": {
        "id": "C0gpmDMRnuRe"
      }
    },
    {
      "cell_type": "code",
      "source": [
        "%%script echo Remove this line after filling in your own code\n",
        "\n",
        "# hint: use head\n",
        "# Your code here"
      ],
      "metadata": {
        "colab": {
          "base_uri": "https://localhost:8080/"
        },
        "id": "abugBJLdn-eJ",
        "outputId": "fcbcd3c8-0fd1-4047-ac9f-cff4653df66e"
      },
      "execution_count": 151,
      "outputs": [
        {
          "output_type": "stream",
          "name": "stdout",
          "text": [
            "Remove this line after filling in your own code\n"
          ]
        }
      ]
    },
    {
      "cell_type": "code",
      "source": [
        "%%script echo Remove this line after filling in your own code\n",
        "\n",
        "# hint: use tail\n",
        "# Your code here"
      ],
      "metadata": {
        "colab": {
          "base_uri": "https://localhost:8080/"
        },
        "id": "MgPOYYtspVRr",
        "outputId": "426e998e-1b3f-4a49-cb59-038d921e9e80"
      },
      "execution_count": 155,
      "outputs": [
        {
          "output_type": "stream",
          "name": "stdout",
          "text": [
            "Remove this line after filling in your own code\n"
          ]
        }
      ]
    },
    {
      "cell_type": "markdown",
      "source": [
        "#### Step 3.\n",
        "\n",
        "Notice the first value row is in fact the years and should be used as the column names. The DataFrame also contains 3 footer rows we want to exclude. Fix it either by re-reading the excel file with additional parameters or by manipulating the DataFrame.\n",
        "\n",
        "Store the fixed DataFrame in `sg_cars_excel_fixed`:"
      ],
      "metadata": {
        "id": "-9oandV8oQQi"
      }
    },
    {
      "cell_type": "code",
      "source": [
        "%%script echo Remove this line after filling in your own code\n",
        "\n",
        "# hint: if re-reading, check out the arguments: header=, skipfooter=\n",
        "# Your code here\n",
        "\n",
        "assert sg_cars_excel_fixed.shape == (75, 12)\n",
        "assert sg_cars_excel_fixed.columns[1] == 2011\n",
        "assert sg_cars_excel_fixed.columns[-1] == 2021\n",
        "assert sg_cars_excel_fixed.Make.iloc[0] == 'Alfa Romeo'\n",
        "assert sg_cars_excel_fixed.Make.iloc[-1] == 'Others'"
      ],
      "metadata": {
        "colab": {
          "base_uri": "https://localhost:8080/"
        },
        "id": "Mw2v9YIwpzB0",
        "outputId": "58f21b85-778a-4f97-e323-46c240635f20"
      },
      "execution_count": 156,
      "outputs": [
        {
          "output_type": "stream",
          "name": "stdout",
          "text": [
            "Remove this line after filling in your own code\n"
          ]
        }
      ]
    },
    {
      "cell_type": "markdown",
      "source": [
        "#### Step 4.\n",
        "\n",
        "Inspect the summary statistics for every year:"
      ],
      "metadata": {
        "id": "e6uAhtNWrv8T"
      }
    },
    {
      "cell_type": "code",
      "source": [
        "%%script echo Remove this line after filling in your own code\n",
        "\n",
        "# hint: use describe\n",
        "# Your code here"
      ],
      "metadata": {
        "colab": {
          "base_uri": "https://localhost:8080/"
        },
        "id": "O0OKRAaErhsO",
        "outputId": "e1f32287-036f-46ca-e288-6cacaa2245ff"
      },
      "execution_count": 157,
      "outputs": [
        {
          "output_type": "stream",
          "name": "stdout",
          "text": [
            "Remove this line after filling in your own code\n"
          ]
        }
      ]
    },
    {
      "cell_type": "markdown",
      "source": [
        "#### Step 5.\n",
        "\n",
        "Isolate the registration numbers for the following 3 makes: \"Mercedes Benz\", \"Toyota\", \"Kia\". Store the resulting DataFrame in variable `sg_cars_excel_subset`:"
      ],
      "metadata": {
        "id": "453cyxxks7cn"
      }
    },
    {
      "cell_type": "code",
      "source": [
        "%%script echo Remove this line after filling in your own code\n",
        "\n",
        "# hint: use boolean indexing with isin\n",
        "# Your code here\n",
        "\n",
        "assert sg_cars_excel_subset.shape == (3, 12)\n",
        "assert \"Mercedes Benz\" in sg_cars_excel_subset.Make.values\n",
        "assert \"Toyota\" in sg_cars_excel_subset.Make.values\n",
        "assert \"Kia\" in sg_cars_excel_subset.Make.values"
      ],
      "metadata": {
        "colab": {
          "base_uri": "https://localhost:8080/"
        },
        "id": "P4Y0uSoBtafi",
        "outputId": "5e9318b7-f990-475b-d565-0698ca8468b5"
      },
      "execution_count": 158,
      "outputs": [
        {
          "output_type": "stream",
          "name": "stdout",
          "text": [
            "Remove this line after filling in your own code\n"
          ]
        }
      ]
    },
    {
      "cell_type": "markdown",
      "source": [
        "#### Step 6.\n",
        "\n",
        "Only select the `Make` column and year 2019, 2020, and 2021 from the `sg_cars_excel_subset` DataFrame.\n",
        "\n",
        "Store the result in variable `sg_cars_excel_subsubset`:"
      ],
      "metadata": {
        "id": "INOrPAycuvLJ"
      }
    },
    {
      "cell_type": "code",
      "source": [
        "%%script echo Remove this line after filling in your own code\n",
        "\n",
        "# hint: use column selection\n",
        "# Your code here\n",
        "\n",
        "assert sg_cars_excel_subsubset.shape == (3, 4)\n",
        "assert sg_cars_excel_subsubset.columns.to_list() == ['Make', 2019, 2020, 2021]"
      ],
      "metadata": {
        "colab": {
          "base_uri": "https://localhost:8080/"
        },
        "id": "VTGMBzwdvJ56",
        "outputId": "695c97ca-8b3a-4d6f-e7a0-b78076e61671"
      },
      "execution_count": 159,
      "outputs": [
        {
          "output_type": "stream",
          "name": "stdout",
          "text": [
            "Remove this line after filling in your own code\n"
          ]
        }
      ]
    },
    {
      "cell_type": "markdown",
      "source": [
        "## Data Wrangling\n",
        "\n",
        "All that we have learned so far gives us some basic understand of data. Next let's find out how to perform data wrangling, including data cleaning, grouping, reshaping, merging and concatenation using Pandas."
      ],
      "metadata": {
        "id": "VInfxOuHfuCK"
      }
    },
    {
      "cell_type": "markdown",
      "source": [
        "### Data Cleaning\n",
        "\n",
        "In this section, we will take a look at dropping missing values; creating, renaming, and dropping columns; type conversion; and sorting – all of which make our analysis easier. We will be working with the Singapore monthly new car registration data – a dataset similar to the annual car registration data we worked previously, just more granular."
      ],
      "metadata": {
        "id": "ahIn81CpIQWM"
      }
    },
    {
      "cell_type": "code",
      "source": [
        "import pandas as pd\n",
        "import numpy as np\n",
        "\n",
        "cars_monthly = pd.read_csv('https://raw.githubusercontent.com/weilu/colab-sandbox/main/data/Singapore_Monthly_New_Car_Registrations_by_make_type.csv')\n",
        "cars_monthly"
      ],
      "metadata": {
        "colab": {
          "base_uri": "https://localhost:8080/",
          "height": 424
        },
        "id": "_r10Q0ouI812",
        "outputId": "d7913a8a-5f12-412a-f921-a1a3c4e04b11"
      },
      "execution_count": 112,
      "outputs": [
        {
          "output_type": "execute_result",
          "data": {
            "text/plain": [
              "         month          make fuel_type        vehicle_type  number\n",
              "0      2016-01    ALFA ROMEO    Petrol           Hatchback     3.0\n",
              "1      2016-01        ALPINA    Petrol           Hatchback     0.0\n",
              "2      2016-01  ASTON MARTIN    Petrol           Hatchback     0.0\n",
              "3      2016-01          AUDI    Petrol           Hatchback    45.0\n",
              "4      2016-01        B.M.W.    Petrol           Hatchback     5.0\n",
              "...        ...           ...       ...                 ...     ...\n",
              "27910  2022-06       TRIUMPH    Petrol  Coupe/ Convertible     1.0\n",
              "27911  2022-06    VOLKSWAGEN    Petrol  Coupe/ Convertible     NaN\n",
              "27912  2022-06    VOLKSWAGEN    Others  Coupe/ Convertible     NaN\n",
              "27913  2022-06         VOLVO    Petrol  Coupe/ Convertible     NaN\n",
              "27914  2022-06         VOLVO    Others  Coupe/ Convertible     NaN\n",
              "\n",
              "[27915 rows x 5 columns]"
            ],
            "text/html": [
              "\n",
              "  <div id=\"df-f70d097c-43f7-4c4d-b0da-d19b67e59942\">\n",
              "    <div class=\"colab-df-container\">\n",
              "      <div>\n",
              "<style scoped>\n",
              "    .dataframe tbody tr th:only-of-type {\n",
              "        vertical-align: middle;\n",
              "    }\n",
              "\n",
              "    .dataframe tbody tr th {\n",
              "        vertical-align: top;\n",
              "    }\n",
              "\n",
              "    .dataframe thead th {\n",
              "        text-align: right;\n",
              "    }\n",
              "</style>\n",
              "<table border=\"1\" class=\"dataframe\">\n",
              "  <thead>\n",
              "    <tr style=\"text-align: right;\">\n",
              "      <th></th>\n",
              "      <th>month</th>\n",
              "      <th>make</th>\n",
              "      <th>fuel_type</th>\n",
              "      <th>vehicle_type</th>\n",
              "      <th>number</th>\n",
              "    </tr>\n",
              "  </thead>\n",
              "  <tbody>\n",
              "    <tr>\n",
              "      <th>0</th>\n",
              "      <td>2016-01</td>\n",
              "      <td>ALFA ROMEO</td>\n",
              "      <td>Petrol</td>\n",
              "      <td>Hatchback</td>\n",
              "      <td>3.0</td>\n",
              "    </tr>\n",
              "    <tr>\n",
              "      <th>1</th>\n",
              "      <td>2016-01</td>\n",
              "      <td>ALPINA</td>\n",
              "      <td>Petrol</td>\n",
              "      <td>Hatchback</td>\n",
              "      <td>0.0</td>\n",
              "    </tr>\n",
              "    <tr>\n",
              "      <th>2</th>\n",
              "      <td>2016-01</td>\n",
              "      <td>ASTON MARTIN</td>\n",
              "      <td>Petrol</td>\n",
              "      <td>Hatchback</td>\n",
              "      <td>0.0</td>\n",
              "    </tr>\n",
              "    <tr>\n",
              "      <th>3</th>\n",
              "      <td>2016-01</td>\n",
              "      <td>AUDI</td>\n",
              "      <td>Petrol</td>\n",
              "      <td>Hatchback</td>\n",
              "      <td>45.0</td>\n",
              "    </tr>\n",
              "    <tr>\n",
              "      <th>4</th>\n",
              "      <td>2016-01</td>\n",
              "      <td>B.M.W.</td>\n",
              "      <td>Petrol</td>\n",
              "      <td>Hatchback</td>\n",
              "      <td>5.0</td>\n",
              "    </tr>\n",
              "    <tr>\n",
              "      <th>...</th>\n",
              "      <td>...</td>\n",
              "      <td>...</td>\n",
              "      <td>...</td>\n",
              "      <td>...</td>\n",
              "      <td>...</td>\n",
              "    </tr>\n",
              "    <tr>\n",
              "      <th>27910</th>\n",
              "      <td>2022-06</td>\n",
              "      <td>TRIUMPH</td>\n",
              "      <td>Petrol</td>\n",
              "      <td>Coupe/ Convertible</td>\n",
              "      <td>1.0</td>\n",
              "    </tr>\n",
              "    <tr>\n",
              "      <th>27911</th>\n",
              "      <td>2022-06</td>\n",
              "      <td>VOLKSWAGEN</td>\n",
              "      <td>Petrol</td>\n",
              "      <td>Coupe/ Convertible</td>\n",
              "      <td>NaN</td>\n",
              "    </tr>\n",
              "    <tr>\n",
              "      <th>27912</th>\n",
              "      <td>2022-06</td>\n",
              "      <td>VOLKSWAGEN</td>\n",
              "      <td>Others</td>\n",
              "      <td>Coupe/ Convertible</td>\n",
              "      <td>NaN</td>\n",
              "    </tr>\n",
              "    <tr>\n",
              "      <th>27913</th>\n",
              "      <td>2022-06</td>\n",
              "      <td>VOLVO</td>\n",
              "      <td>Petrol</td>\n",
              "      <td>Coupe/ Convertible</td>\n",
              "      <td>NaN</td>\n",
              "    </tr>\n",
              "    <tr>\n",
              "      <th>27914</th>\n",
              "      <td>2022-06</td>\n",
              "      <td>VOLVO</td>\n",
              "      <td>Others</td>\n",
              "      <td>Coupe/ Convertible</td>\n",
              "      <td>NaN</td>\n",
              "    </tr>\n",
              "  </tbody>\n",
              "</table>\n",
              "<p>27915 rows × 5 columns</p>\n",
              "</div>\n",
              "      <button class=\"colab-df-convert\" onclick=\"convertToInteractive('df-f70d097c-43f7-4c4d-b0da-d19b67e59942')\"\n",
              "              title=\"Convert this dataframe to an interactive table.\"\n",
              "              style=\"display:none;\">\n",
              "        \n",
              "  <svg xmlns=\"http://www.w3.org/2000/svg\" height=\"24px\"viewBox=\"0 0 24 24\"\n",
              "       width=\"24px\">\n",
              "    <path d=\"M0 0h24v24H0V0z\" fill=\"none\"/>\n",
              "    <path d=\"M18.56 5.44l.94 2.06.94-2.06 2.06-.94-2.06-.94-.94-2.06-.94 2.06-2.06.94zm-11 1L8.5 8.5l.94-2.06 2.06-.94-2.06-.94L8.5 2.5l-.94 2.06-2.06.94zm10 10l.94 2.06.94-2.06 2.06-.94-2.06-.94-.94-2.06-.94 2.06-2.06.94z\"/><path d=\"M17.41 7.96l-1.37-1.37c-.4-.4-.92-.59-1.43-.59-.52 0-1.04.2-1.43.59L10.3 9.45l-7.72 7.72c-.78.78-.78 2.05 0 2.83L4 21.41c.39.39.9.59 1.41.59.51 0 1.02-.2 1.41-.59l7.78-7.78 2.81-2.81c.8-.78.8-2.07 0-2.86zM5.41 20L4 18.59l7.72-7.72 1.47 1.35L5.41 20z\"/>\n",
              "  </svg>\n",
              "      </button>\n",
              "      \n",
              "  <style>\n",
              "    .colab-df-container {\n",
              "      display:flex;\n",
              "      flex-wrap:wrap;\n",
              "      gap: 12px;\n",
              "    }\n",
              "\n",
              "    .colab-df-convert {\n",
              "      background-color: #E8F0FE;\n",
              "      border: none;\n",
              "      border-radius: 50%;\n",
              "      cursor: pointer;\n",
              "      display: none;\n",
              "      fill: #1967D2;\n",
              "      height: 32px;\n",
              "      padding: 0 0 0 0;\n",
              "      width: 32px;\n",
              "    }\n",
              "\n",
              "    .colab-df-convert:hover {\n",
              "      background-color: #E2EBFA;\n",
              "      box-shadow: 0px 1px 2px rgba(60, 64, 67, 0.3), 0px 1px 3px 1px rgba(60, 64, 67, 0.15);\n",
              "      fill: #174EA6;\n",
              "    }\n",
              "\n",
              "    [theme=dark] .colab-df-convert {\n",
              "      background-color: #3B4455;\n",
              "      fill: #D2E3FC;\n",
              "    }\n",
              "\n",
              "    [theme=dark] .colab-df-convert:hover {\n",
              "      background-color: #434B5C;\n",
              "      box-shadow: 0px 1px 3px 1px rgba(0, 0, 0, 0.15);\n",
              "      filter: drop-shadow(0px 1px 2px rgba(0, 0, 0, 0.3));\n",
              "      fill: #FFFFFF;\n",
              "    }\n",
              "  </style>\n",
              "\n",
              "      <script>\n",
              "        const buttonEl =\n",
              "          document.querySelector('#df-f70d097c-43f7-4c4d-b0da-d19b67e59942 button.colab-df-convert');\n",
              "        buttonEl.style.display =\n",
              "          google.colab.kernel.accessAllowed ? 'block' : 'none';\n",
              "\n",
              "        async function convertToInteractive(key) {\n",
              "          const element = document.querySelector('#df-f70d097c-43f7-4c4d-b0da-d19b67e59942');\n",
              "          const dataTable =\n",
              "            await google.colab.kernel.invokeFunction('convertToInteractive',\n",
              "                                                     [key], {});\n",
              "          if (!dataTable) return;\n",
              "\n",
              "          const docLinkHtml = 'Like what you see? Visit the ' +\n",
              "            '<a target=\"_blank\" href=https://colab.research.google.com/notebooks/data_table.ipynb>data table notebook</a>'\n",
              "            + ' to learn more about interactive tables.';\n",
              "          element.innerHTML = '';\n",
              "          dataTable['output_type'] = 'display_data';\n",
              "          await google.colab.output.renderOutput(dataTable, element);\n",
              "          const docLink = document.createElement('div');\n",
              "          docLink.innerHTML = docLinkHtml;\n",
              "          element.appendChild(docLink);\n",
              "        }\n",
              "      </script>\n",
              "    </div>\n",
              "  </div>\n",
              "  "
            ]
          },
          "metadata": {},
          "execution_count": 112
        }
      ]
    },
    {
      "cell_type": "code",
      "source": [
        "cars_monthly.info()"
      ],
      "metadata": {
        "colab": {
          "base_uri": "https://localhost:8080/"
        },
        "id": "5E0-Nn_tM5_g",
        "outputId": "c002f03b-48d0-46b9-99c3-756d9ed4003e"
      },
      "execution_count": 113,
      "outputs": [
        {
          "output_type": "stream",
          "name": "stdout",
          "text": [
            "<class 'pandas.core.frame.DataFrame'>\n",
            "RangeIndex: 27915 entries, 0 to 27914\n",
            "Data columns (total 5 columns):\n",
            " #   Column        Non-Null Count  Dtype  \n",
            "---  ------        --------------  -----  \n",
            " 0   month         27915 non-null  object \n",
            " 1   make          27915 non-null  object \n",
            " 2   fuel_type     27915 non-null  object \n",
            " 3   vehicle_type  27915 non-null  object \n",
            " 4   number        16835 non-null  float64\n",
            "dtypes: float64(1), object(4)\n",
            "memory usage: 1.1+ MB\n"
          ]
        }
      ]
    },
    {
      "cell_type": "markdown",
      "source": [
        "#### **Handling missing values**"
      ],
      "metadata": {
        "id": "PD8HRVXNPAN9"
      }
    },
    {
      "cell_type": "markdown",
      "source": [
        "There are multiple approaches to handle missing values – see [Pandas' user guide on working with missing data](https://pandas.pydata.org/docs/user_guide/missing_data.html) for more details. In our case let's drop the rows with missing values for the `number` column, as those records indicate there is no corresponding car registration for that month, make, fuel and vehicle type:"
      ],
      "metadata": {
        "id": "hCbDeUmTLZS1"
      }
    },
    {
      "cell_type": "code",
      "source": [
        "cars_monthly.dropna(subset=['number'])"
      ],
      "metadata": {
        "colab": {
          "base_uri": "https://localhost:8080/",
          "height": 424
        },
        "id": "rvoY0SvKLyt0",
        "outputId": "cdd6589e-1713-4085-952c-bcbfbf92e2e4"
      },
      "execution_count": 114,
      "outputs": [
        {
          "output_type": "execute_result",
          "data": {
            "text/plain": [
              "         month           make fuel_type        vehicle_type  number\n",
              "0      2016-01     ALFA ROMEO    Petrol           Hatchback     3.0\n",
              "1      2016-01         ALPINA    Petrol           Hatchback     0.0\n",
              "2      2016-01   ASTON MARTIN    Petrol           Hatchback     0.0\n",
              "3      2016-01           AUDI    Petrol           Hatchback    45.0\n",
              "4      2016-01         B.M.W.    Petrol           Hatchback     5.0\n",
              "...        ...            ...       ...                 ...     ...\n",
              "27876  2022-06  MERCEDES BENZ    Others  Coupe/ Convertible    12.0\n",
              "27879  2022-06     MITSUBISHI    Petrol  Coupe/ Convertible     1.0\n",
              "27890  2022-06        PORSCHE    Petrol  Coupe/ Convertible    31.0\n",
              "27907  2022-06         TOYOTA    Petrol  Coupe/ Convertible     2.0\n",
              "27910  2022-06        TRIUMPH    Petrol  Coupe/ Convertible     1.0\n",
              "\n",
              "[16835 rows x 5 columns]"
            ],
            "text/html": [
              "\n",
              "  <div id=\"df-9ef2ea0e-54b8-48d6-a876-eb52d39a989c\">\n",
              "    <div class=\"colab-df-container\">\n",
              "      <div>\n",
              "<style scoped>\n",
              "    .dataframe tbody tr th:only-of-type {\n",
              "        vertical-align: middle;\n",
              "    }\n",
              "\n",
              "    .dataframe tbody tr th {\n",
              "        vertical-align: top;\n",
              "    }\n",
              "\n",
              "    .dataframe thead th {\n",
              "        text-align: right;\n",
              "    }\n",
              "</style>\n",
              "<table border=\"1\" class=\"dataframe\">\n",
              "  <thead>\n",
              "    <tr style=\"text-align: right;\">\n",
              "      <th></th>\n",
              "      <th>month</th>\n",
              "      <th>make</th>\n",
              "      <th>fuel_type</th>\n",
              "      <th>vehicle_type</th>\n",
              "      <th>number</th>\n",
              "    </tr>\n",
              "  </thead>\n",
              "  <tbody>\n",
              "    <tr>\n",
              "      <th>0</th>\n",
              "      <td>2016-01</td>\n",
              "      <td>ALFA ROMEO</td>\n",
              "      <td>Petrol</td>\n",
              "      <td>Hatchback</td>\n",
              "      <td>3.0</td>\n",
              "    </tr>\n",
              "    <tr>\n",
              "      <th>1</th>\n",
              "      <td>2016-01</td>\n",
              "      <td>ALPINA</td>\n",
              "      <td>Petrol</td>\n",
              "      <td>Hatchback</td>\n",
              "      <td>0.0</td>\n",
              "    </tr>\n",
              "    <tr>\n",
              "      <th>2</th>\n",
              "      <td>2016-01</td>\n",
              "      <td>ASTON MARTIN</td>\n",
              "      <td>Petrol</td>\n",
              "      <td>Hatchback</td>\n",
              "      <td>0.0</td>\n",
              "    </tr>\n",
              "    <tr>\n",
              "      <th>3</th>\n",
              "      <td>2016-01</td>\n",
              "      <td>AUDI</td>\n",
              "      <td>Petrol</td>\n",
              "      <td>Hatchback</td>\n",
              "      <td>45.0</td>\n",
              "    </tr>\n",
              "    <tr>\n",
              "      <th>4</th>\n",
              "      <td>2016-01</td>\n",
              "      <td>B.M.W.</td>\n",
              "      <td>Petrol</td>\n",
              "      <td>Hatchback</td>\n",
              "      <td>5.0</td>\n",
              "    </tr>\n",
              "    <tr>\n",
              "      <th>...</th>\n",
              "      <td>...</td>\n",
              "      <td>...</td>\n",
              "      <td>...</td>\n",
              "      <td>...</td>\n",
              "      <td>...</td>\n",
              "    </tr>\n",
              "    <tr>\n",
              "      <th>27876</th>\n",
              "      <td>2022-06</td>\n",
              "      <td>MERCEDES BENZ</td>\n",
              "      <td>Others</td>\n",
              "      <td>Coupe/ Convertible</td>\n",
              "      <td>12.0</td>\n",
              "    </tr>\n",
              "    <tr>\n",
              "      <th>27879</th>\n",
              "      <td>2022-06</td>\n",
              "      <td>MITSUBISHI</td>\n",
              "      <td>Petrol</td>\n",
              "      <td>Coupe/ Convertible</td>\n",
              "      <td>1.0</td>\n",
              "    </tr>\n",
              "    <tr>\n",
              "      <th>27890</th>\n",
              "      <td>2022-06</td>\n",
              "      <td>PORSCHE</td>\n",
              "      <td>Petrol</td>\n",
              "      <td>Coupe/ Convertible</td>\n",
              "      <td>31.0</td>\n",
              "    </tr>\n",
              "    <tr>\n",
              "      <th>27907</th>\n",
              "      <td>2022-06</td>\n",
              "      <td>TOYOTA</td>\n",
              "      <td>Petrol</td>\n",
              "      <td>Coupe/ Convertible</td>\n",
              "      <td>2.0</td>\n",
              "    </tr>\n",
              "    <tr>\n",
              "      <th>27910</th>\n",
              "      <td>2022-06</td>\n",
              "      <td>TRIUMPH</td>\n",
              "      <td>Petrol</td>\n",
              "      <td>Coupe/ Convertible</td>\n",
              "      <td>1.0</td>\n",
              "    </tr>\n",
              "  </tbody>\n",
              "</table>\n",
              "<p>16835 rows × 5 columns</p>\n",
              "</div>\n",
              "      <button class=\"colab-df-convert\" onclick=\"convertToInteractive('df-9ef2ea0e-54b8-48d6-a876-eb52d39a989c')\"\n",
              "              title=\"Convert this dataframe to an interactive table.\"\n",
              "              style=\"display:none;\">\n",
              "        \n",
              "  <svg xmlns=\"http://www.w3.org/2000/svg\" height=\"24px\"viewBox=\"0 0 24 24\"\n",
              "       width=\"24px\">\n",
              "    <path d=\"M0 0h24v24H0V0z\" fill=\"none\"/>\n",
              "    <path d=\"M18.56 5.44l.94 2.06.94-2.06 2.06-.94-2.06-.94-.94-2.06-.94 2.06-2.06.94zm-11 1L8.5 8.5l.94-2.06 2.06-.94-2.06-.94L8.5 2.5l-.94 2.06-2.06.94zm10 10l.94 2.06.94-2.06 2.06-.94-2.06-.94-.94-2.06-.94 2.06-2.06.94z\"/><path d=\"M17.41 7.96l-1.37-1.37c-.4-.4-.92-.59-1.43-.59-.52 0-1.04.2-1.43.59L10.3 9.45l-7.72 7.72c-.78.78-.78 2.05 0 2.83L4 21.41c.39.39.9.59 1.41.59.51 0 1.02-.2 1.41-.59l7.78-7.78 2.81-2.81c.8-.78.8-2.07 0-2.86zM5.41 20L4 18.59l7.72-7.72 1.47 1.35L5.41 20z\"/>\n",
              "  </svg>\n",
              "      </button>\n",
              "      \n",
              "  <style>\n",
              "    .colab-df-container {\n",
              "      display:flex;\n",
              "      flex-wrap:wrap;\n",
              "      gap: 12px;\n",
              "    }\n",
              "\n",
              "    .colab-df-convert {\n",
              "      background-color: #E8F0FE;\n",
              "      border: none;\n",
              "      border-radius: 50%;\n",
              "      cursor: pointer;\n",
              "      display: none;\n",
              "      fill: #1967D2;\n",
              "      height: 32px;\n",
              "      padding: 0 0 0 0;\n",
              "      width: 32px;\n",
              "    }\n",
              "\n",
              "    .colab-df-convert:hover {\n",
              "      background-color: #E2EBFA;\n",
              "      box-shadow: 0px 1px 2px rgba(60, 64, 67, 0.3), 0px 1px 3px 1px rgba(60, 64, 67, 0.15);\n",
              "      fill: #174EA6;\n",
              "    }\n",
              "\n",
              "    [theme=dark] .colab-df-convert {\n",
              "      background-color: #3B4455;\n",
              "      fill: #D2E3FC;\n",
              "    }\n",
              "\n",
              "    [theme=dark] .colab-df-convert:hover {\n",
              "      background-color: #434B5C;\n",
              "      box-shadow: 0px 1px 3px 1px rgba(0, 0, 0, 0.15);\n",
              "      filter: drop-shadow(0px 1px 2px rgba(0, 0, 0, 0.3));\n",
              "      fill: #FFFFFF;\n",
              "    }\n",
              "  </style>\n",
              "\n",
              "      <script>\n",
              "        const buttonEl =\n",
              "          document.querySelector('#df-9ef2ea0e-54b8-48d6-a876-eb52d39a989c button.colab-df-convert');\n",
              "        buttonEl.style.display =\n",
              "          google.colab.kernel.accessAllowed ? 'block' : 'none';\n",
              "\n",
              "        async function convertToInteractive(key) {\n",
              "          const element = document.querySelector('#df-9ef2ea0e-54b8-48d6-a876-eb52d39a989c');\n",
              "          const dataTable =\n",
              "            await google.colab.kernel.invokeFunction('convertToInteractive',\n",
              "                                                     [key], {});\n",
              "          if (!dataTable) return;\n",
              "\n",
              "          const docLinkHtml = 'Like what you see? Visit the ' +\n",
              "            '<a target=\"_blank\" href=https://colab.research.google.com/notebooks/data_table.ipynb>data table notebook</a>'\n",
              "            + ' to learn more about interactive tables.';\n",
              "          element.innerHTML = '';\n",
              "          dataTable['output_type'] = 'display_data';\n",
              "          await google.colab.output.renderOutput(dataTable, element);\n",
              "          const docLink = document.createElement('div');\n",
              "          docLink.innerHTML = docLinkHtml;\n",
              "          element.appendChild(docLink);\n",
              "        }\n",
              "      </script>\n",
              "    </div>\n",
              "  </div>\n",
              "  "
            ]
          },
          "metadata": {},
          "execution_count": 114
        }
      ]
    },
    {
      "cell_type": "markdown",
      "source": [
        "The argument `subset` here indicates which columns to evaluate for `na` values. If not sepcified, by default `dropna` will drop any row with any column containing `na` values.\n",
        "\n",
        "The call to `dropna` by default also does not modify the original `DataFrame`; it returns a new `DataFrame` with `na` values dropped."
      ],
      "metadata": {
        "id": "OOfh8YhJMVZi"
      }
    },
    {
      "cell_type": "code",
      "source": [
        "cars_monthly.shape"
      ],
      "metadata": {
        "colab": {
          "base_uri": "https://localhost:8080/"
        },
        "id": "87JSfwatN_WC",
        "outputId": "f5d6e7cc-81a9-491e-e2eb-4e58a9973b47"
      },
      "execution_count": 115,
      "outputs": [
        {
          "output_type": "execute_result",
          "data": {
            "text/plain": [
              "(27915, 5)"
            ]
          },
          "metadata": {},
          "execution_count": 115
        }
      ]
    },
    {
      "cell_type": "markdown",
      "source": [
        "We can assign the returned `DataFrame` to a new variable, or we can tell `dropna` to modify the original `DataFrame` by passing the `inplace=True` parameter:"
      ],
      "metadata": {
        "id": "CCI6ObroN5Bu"
      }
    },
    {
      "cell_type": "code",
      "source": [
        "cars_monthly.dropna(subset=['number'], inplace=True)\n",
        "cars_monthly.shape"
      ],
      "metadata": {
        "colab": {
          "base_uri": "https://localhost:8080/"
        },
        "id": "oDmvgKXwNp2L",
        "outputId": "e602ebab-5579-4e76-a8c6-ed24bcc3dce1"
      },
      "execution_count": 116,
      "outputs": [
        {
          "output_type": "execute_result",
          "data": {
            "text/plain": [
              "(16835, 5)"
            ]
          },
          "metadata": {},
          "execution_count": 116
        }
      ]
    },
    {
      "cell_type": "markdown",
      "source": [
        "#### **Renaming columns**\n",
        "\n",
        "Let's rename the `month` column to `year_month`:"
      ],
      "metadata": {
        "id": "B-ZJQz7rPtsx"
      }
    },
    {
      "cell_type": "code",
      "source": [
        "cars_monthly_renamed = cars_monthly.rename(columns={'month': 'year_month'})\n",
        "cars_monthly_renamed.columns"
      ],
      "metadata": {
        "colab": {
          "base_uri": "https://localhost:8080/"
        },
        "id": "Pk2h8s0JP4-d",
        "outputId": "931af826-3744-4c81-d7df-677db32d052a"
      },
      "execution_count": 117,
      "outputs": [
        {
          "output_type": "execute_result",
          "data": {
            "text/plain": [
              "Index(['year_month', 'make', 'fuel_type', 'vehicle_type', 'number'], dtype='object')"
            ]
          },
          "metadata": {},
          "execution_count": 117
        }
      ]
    },
    {
      "cell_type": "markdown",
      "source": [
        "#### **Creating columns**\n",
        "\n",
        "Let's create separate columns for year and month from the `year_month` column:"
      ],
      "metadata": {
        "id": "1hhbQAM-PHzR"
      }
    },
    {
      "cell_type": "code",
      "source": [
        "cars_monthly_renamed[['year','month']] = cars_monthly_renamed.year_month.str.split(\"-\", expand=True)\n",
        "cars_monthly_renamed"
      ],
      "metadata": {
        "colab": {
          "base_uri": "https://localhost:8080/",
          "height": 424
        },
        "id": "XoTk4gEiQSFX",
        "outputId": "f343192a-15a1-411e-a281-a8437a56ecad"
      },
      "execution_count": 118,
      "outputs": [
        {
          "output_type": "execute_result",
          "data": {
            "text/plain": [
              "      year_month           make fuel_type        vehicle_type  number  year  \\\n",
              "0        2016-01     ALFA ROMEO    Petrol           Hatchback     3.0  2016   \n",
              "1        2016-01         ALPINA    Petrol           Hatchback     0.0  2016   \n",
              "2        2016-01   ASTON MARTIN    Petrol           Hatchback     0.0  2016   \n",
              "3        2016-01           AUDI    Petrol           Hatchback    45.0  2016   \n",
              "4        2016-01         B.M.W.    Petrol           Hatchback     5.0  2016   \n",
              "...          ...            ...       ...                 ...     ...   ...   \n",
              "27876    2022-06  MERCEDES BENZ    Others  Coupe/ Convertible    12.0  2022   \n",
              "27879    2022-06     MITSUBISHI    Petrol  Coupe/ Convertible     1.0  2022   \n",
              "27890    2022-06        PORSCHE    Petrol  Coupe/ Convertible    31.0  2022   \n",
              "27907    2022-06         TOYOTA    Petrol  Coupe/ Convertible     2.0  2022   \n",
              "27910    2022-06        TRIUMPH    Petrol  Coupe/ Convertible     1.0  2022   \n",
              "\n",
              "      month  \n",
              "0        01  \n",
              "1        01  \n",
              "2        01  \n",
              "3        01  \n",
              "4        01  \n",
              "...     ...  \n",
              "27876    06  \n",
              "27879    06  \n",
              "27890    06  \n",
              "27907    06  \n",
              "27910    06  \n",
              "\n",
              "[16835 rows x 7 columns]"
            ],
            "text/html": [
              "\n",
              "  <div id=\"df-5a2e3029-5efd-4294-84ad-3e7bc7046bb5\">\n",
              "    <div class=\"colab-df-container\">\n",
              "      <div>\n",
              "<style scoped>\n",
              "    .dataframe tbody tr th:only-of-type {\n",
              "        vertical-align: middle;\n",
              "    }\n",
              "\n",
              "    .dataframe tbody tr th {\n",
              "        vertical-align: top;\n",
              "    }\n",
              "\n",
              "    .dataframe thead th {\n",
              "        text-align: right;\n",
              "    }\n",
              "</style>\n",
              "<table border=\"1\" class=\"dataframe\">\n",
              "  <thead>\n",
              "    <tr style=\"text-align: right;\">\n",
              "      <th></th>\n",
              "      <th>year_month</th>\n",
              "      <th>make</th>\n",
              "      <th>fuel_type</th>\n",
              "      <th>vehicle_type</th>\n",
              "      <th>number</th>\n",
              "      <th>year</th>\n",
              "      <th>month</th>\n",
              "    </tr>\n",
              "  </thead>\n",
              "  <tbody>\n",
              "    <tr>\n",
              "      <th>0</th>\n",
              "      <td>2016-01</td>\n",
              "      <td>ALFA ROMEO</td>\n",
              "      <td>Petrol</td>\n",
              "      <td>Hatchback</td>\n",
              "      <td>3.0</td>\n",
              "      <td>2016</td>\n",
              "      <td>01</td>\n",
              "    </tr>\n",
              "    <tr>\n",
              "      <th>1</th>\n",
              "      <td>2016-01</td>\n",
              "      <td>ALPINA</td>\n",
              "      <td>Petrol</td>\n",
              "      <td>Hatchback</td>\n",
              "      <td>0.0</td>\n",
              "      <td>2016</td>\n",
              "      <td>01</td>\n",
              "    </tr>\n",
              "    <tr>\n",
              "      <th>2</th>\n",
              "      <td>2016-01</td>\n",
              "      <td>ASTON MARTIN</td>\n",
              "      <td>Petrol</td>\n",
              "      <td>Hatchback</td>\n",
              "      <td>0.0</td>\n",
              "      <td>2016</td>\n",
              "      <td>01</td>\n",
              "    </tr>\n",
              "    <tr>\n",
              "      <th>3</th>\n",
              "      <td>2016-01</td>\n",
              "      <td>AUDI</td>\n",
              "      <td>Petrol</td>\n",
              "      <td>Hatchback</td>\n",
              "      <td>45.0</td>\n",
              "      <td>2016</td>\n",
              "      <td>01</td>\n",
              "    </tr>\n",
              "    <tr>\n",
              "      <th>4</th>\n",
              "      <td>2016-01</td>\n",
              "      <td>B.M.W.</td>\n",
              "      <td>Petrol</td>\n",
              "      <td>Hatchback</td>\n",
              "      <td>5.0</td>\n",
              "      <td>2016</td>\n",
              "      <td>01</td>\n",
              "    </tr>\n",
              "    <tr>\n",
              "      <th>...</th>\n",
              "      <td>...</td>\n",
              "      <td>...</td>\n",
              "      <td>...</td>\n",
              "      <td>...</td>\n",
              "      <td>...</td>\n",
              "      <td>...</td>\n",
              "      <td>...</td>\n",
              "    </tr>\n",
              "    <tr>\n",
              "      <th>27876</th>\n",
              "      <td>2022-06</td>\n",
              "      <td>MERCEDES BENZ</td>\n",
              "      <td>Others</td>\n",
              "      <td>Coupe/ Convertible</td>\n",
              "      <td>12.0</td>\n",
              "      <td>2022</td>\n",
              "      <td>06</td>\n",
              "    </tr>\n",
              "    <tr>\n",
              "      <th>27879</th>\n",
              "      <td>2022-06</td>\n",
              "      <td>MITSUBISHI</td>\n",
              "      <td>Petrol</td>\n",
              "      <td>Coupe/ Convertible</td>\n",
              "      <td>1.0</td>\n",
              "      <td>2022</td>\n",
              "      <td>06</td>\n",
              "    </tr>\n",
              "    <tr>\n",
              "      <th>27890</th>\n",
              "      <td>2022-06</td>\n",
              "      <td>PORSCHE</td>\n",
              "      <td>Petrol</td>\n",
              "      <td>Coupe/ Convertible</td>\n",
              "      <td>31.0</td>\n",
              "      <td>2022</td>\n",
              "      <td>06</td>\n",
              "    </tr>\n",
              "    <tr>\n",
              "      <th>27907</th>\n",
              "      <td>2022-06</td>\n",
              "      <td>TOYOTA</td>\n",
              "      <td>Petrol</td>\n",
              "      <td>Coupe/ Convertible</td>\n",
              "      <td>2.0</td>\n",
              "      <td>2022</td>\n",
              "      <td>06</td>\n",
              "    </tr>\n",
              "    <tr>\n",
              "      <th>27910</th>\n",
              "      <td>2022-06</td>\n",
              "      <td>TRIUMPH</td>\n",
              "      <td>Petrol</td>\n",
              "      <td>Coupe/ Convertible</td>\n",
              "      <td>1.0</td>\n",
              "      <td>2022</td>\n",
              "      <td>06</td>\n",
              "    </tr>\n",
              "  </tbody>\n",
              "</table>\n",
              "<p>16835 rows × 7 columns</p>\n",
              "</div>\n",
              "      <button class=\"colab-df-convert\" onclick=\"convertToInteractive('df-5a2e3029-5efd-4294-84ad-3e7bc7046bb5')\"\n",
              "              title=\"Convert this dataframe to an interactive table.\"\n",
              "              style=\"display:none;\">\n",
              "        \n",
              "  <svg xmlns=\"http://www.w3.org/2000/svg\" height=\"24px\"viewBox=\"0 0 24 24\"\n",
              "       width=\"24px\">\n",
              "    <path d=\"M0 0h24v24H0V0z\" fill=\"none\"/>\n",
              "    <path d=\"M18.56 5.44l.94 2.06.94-2.06 2.06-.94-2.06-.94-.94-2.06-.94 2.06-2.06.94zm-11 1L8.5 8.5l.94-2.06 2.06-.94-2.06-.94L8.5 2.5l-.94 2.06-2.06.94zm10 10l.94 2.06.94-2.06 2.06-.94-2.06-.94-.94-2.06-.94 2.06-2.06.94z\"/><path d=\"M17.41 7.96l-1.37-1.37c-.4-.4-.92-.59-1.43-.59-.52 0-1.04.2-1.43.59L10.3 9.45l-7.72 7.72c-.78.78-.78 2.05 0 2.83L4 21.41c.39.39.9.59 1.41.59.51 0 1.02-.2 1.41-.59l7.78-7.78 2.81-2.81c.8-.78.8-2.07 0-2.86zM5.41 20L4 18.59l7.72-7.72 1.47 1.35L5.41 20z\"/>\n",
              "  </svg>\n",
              "      </button>\n",
              "      \n",
              "  <style>\n",
              "    .colab-df-container {\n",
              "      display:flex;\n",
              "      flex-wrap:wrap;\n",
              "      gap: 12px;\n",
              "    }\n",
              "\n",
              "    .colab-df-convert {\n",
              "      background-color: #E8F0FE;\n",
              "      border: none;\n",
              "      border-radius: 50%;\n",
              "      cursor: pointer;\n",
              "      display: none;\n",
              "      fill: #1967D2;\n",
              "      height: 32px;\n",
              "      padding: 0 0 0 0;\n",
              "      width: 32px;\n",
              "    }\n",
              "\n",
              "    .colab-df-convert:hover {\n",
              "      background-color: #E2EBFA;\n",
              "      box-shadow: 0px 1px 2px rgba(60, 64, 67, 0.3), 0px 1px 3px 1px rgba(60, 64, 67, 0.15);\n",
              "      fill: #174EA6;\n",
              "    }\n",
              "\n",
              "    [theme=dark] .colab-df-convert {\n",
              "      background-color: #3B4455;\n",
              "      fill: #D2E3FC;\n",
              "    }\n",
              "\n",
              "    [theme=dark] .colab-df-convert:hover {\n",
              "      background-color: #434B5C;\n",
              "      box-shadow: 0px 1px 3px 1px rgba(0, 0, 0, 0.15);\n",
              "      filter: drop-shadow(0px 1px 2px rgba(0, 0, 0, 0.3));\n",
              "      fill: #FFFFFF;\n",
              "    }\n",
              "  </style>\n",
              "\n",
              "      <script>\n",
              "        const buttonEl =\n",
              "          document.querySelector('#df-5a2e3029-5efd-4294-84ad-3e7bc7046bb5 button.colab-df-convert');\n",
              "        buttonEl.style.display =\n",
              "          google.colab.kernel.accessAllowed ? 'block' : 'none';\n",
              "\n",
              "        async function convertToInteractive(key) {\n",
              "          const element = document.querySelector('#df-5a2e3029-5efd-4294-84ad-3e7bc7046bb5');\n",
              "          const dataTable =\n",
              "            await google.colab.kernel.invokeFunction('convertToInteractive',\n",
              "                                                     [key], {});\n",
              "          if (!dataTable) return;\n",
              "\n",
              "          const docLinkHtml = 'Like what you see? Visit the ' +\n",
              "            '<a target=\"_blank\" href=https://colab.research.google.com/notebooks/data_table.ipynb>data table notebook</a>'\n",
              "            + ' to learn more about interactive tables.';\n",
              "          element.innerHTML = '';\n",
              "          dataTable['output_type'] = 'display_data';\n",
              "          await google.colab.output.renderOutput(dataTable, element);\n",
              "          const docLink = document.createElement('div');\n",
              "          docLink.innerHTML = docLinkHtml;\n",
              "          element.appendChild(docLink);\n",
              "        }\n",
              "      </script>\n",
              "    </div>\n",
              "  </div>\n",
              "  "
            ]
          },
          "metadata": {},
          "execution_count": 118
        }
      ]
    },
    {
      "cell_type": "markdown",
      "source": [
        "#### **Dropping columns**\n",
        "\n",
        "Now we can drop the redundant `year_month` column:"
      ],
      "metadata": {
        "id": "0iTaoEzTQ7Es"
      }
    },
    {
      "cell_type": "code",
      "source": [
        "cars_monthly_dropped = cars_monthly_renamed.drop(columns=['year_month'])\n",
        "cars_monthly_dropped"
      ],
      "metadata": {
        "colab": {
          "base_uri": "https://localhost:8080/",
          "height": 424
        },
        "id": "SQ977tMvRJqo",
        "outputId": "abaa9d0e-b6b7-406d-846c-6a43c924660d"
      },
      "execution_count": 119,
      "outputs": [
        {
          "output_type": "execute_result",
          "data": {
            "text/plain": [
              "                make fuel_type        vehicle_type  number  year month\n",
              "0         ALFA ROMEO    Petrol           Hatchback     3.0  2016    01\n",
              "1             ALPINA    Petrol           Hatchback     0.0  2016    01\n",
              "2       ASTON MARTIN    Petrol           Hatchback     0.0  2016    01\n",
              "3               AUDI    Petrol           Hatchback    45.0  2016    01\n",
              "4             B.M.W.    Petrol           Hatchback     5.0  2016    01\n",
              "...              ...       ...                 ...     ...   ...   ...\n",
              "27876  MERCEDES BENZ    Others  Coupe/ Convertible    12.0  2022    06\n",
              "27879     MITSUBISHI    Petrol  Coupe/ Convertible     1.0  2022    06\n",
              "27890        PORSCHE    Petrol  Coupe/ Convertible    31.0  2022    06\n",
              "27907         TOYOTA    Petrol  Coupe/ Convertible     2.0  2022    06\n",
              "27910        TRIUMPH    Petrol  Coupe/ Convertible     1.0  2022    06\n",
              "\n",
              "[16835 rows x 6 columns]"
            ],
            "text/html": [
              "\n",
              "  <div id=\"df-da5143ea-1fe4-4eae-b287-5076ce03ed0f\">\n",
              "    <div class=\"colab-df-container\">\n",
              "      <div>\n",
              "<style scoped>\n",
              "    .dataframe tbody tr th:only-of-type {\n",
              "        vertical-align: middle;\n",
              "    }\n",
              "\n",
              "    .dataframe tbody tr th {\n",
              "        vertical-align: top;\n",
              "    }\n",
              "\n",
              "    .dataframe thead th {\n",
              "        text-align: right;\n",
              "    }\n",
              "</style>\n",
              "<table border=\"1\" class=\"dataframe\">\n",
              "  <thead>\n",
              "    <tr style=\"text-align: right;\">\n",
              "      <th></th>\n",
              "      <th>make</th>\n",
              "      <th>fuel_type</th>\n",
              "      <th>vehicle_type</th>\n",
              "      <th>number</th>\n",
              "      <th>year</th>\n",
              "      <th>month</th>\n",
              "    </tr>\n",
              "  </thead>\n",
              "  <tbody>\n",
              "    <tr>\n",
              "      <th>0</th>\n",
              "      <td>ALFA ROMEO</td>\n",
              "      <td>Petrol</td>\n",
              "      <td>Hatchback</td>\n",
              "      <td>3.0</td>\n",
              "      <td>2016</td>\n",
              "      <td>01</td>\n",
              "    </tr>\n",
              "    <tr>\n",
              "      <th>1</th>\n",
              "      <td>ALPINA</td>\n",
              "      <td>Petrol</td>\n",
              "      <td>Hatchback</td>\n",
              "      <td>0.0</td>\n",
              "      <td>2016</td>\n",
              "      <td>01</td>\n",
              "    </tr>\n",
              "    <tr>\n",
              "      <th>2</th>\n",
              "      <td>ASTON MARTIN</td>\n",
              "      <td>Petrol</td>\n",
              "      <td>Hatchback</td>\n",
              "      <td>0.0</td>\n",
              "      <td>2016</td>\n",
              "      <td>01</td>\n",
              "    </tr>\n",
              "    <tr>\n",
              "      <th>3</th>\n",
              "      <td>AUDI</td>\n",
              "      <td>Petrol</td>\n",
              "      <td>Hatchback</td>\n",
              "      <td>45.0</td>\n",
              "      <td>2016</td>\n",
              "      <td>01</td>\n",
              "    </tr>\n",
              "    <tr>\n",
              "      <th>4</th>\n",
              "      <td>B.M.W.</td>\n",
              "      <td>Petrol</td>\n",
              "      <td>Hatchback</td>\n",
              "      <td>5.0</td>\n",
              "      <td>2016</td>\n",
              "      <td>01</td>\n",
              "    </tr>\n",
              "    <tr>\n",
              "      <th>...</th>\n",
              "      <td>...</td>\n",
              "      <td>...</td>\n",
              "      <td>...</td>\n",
              "      <td>...</td>\n",
              "      <td>...</td>\n",
              "      <td>...</td>\n",
              "    </tr>\n",
              "    <tr>\n",
              "      <th>27876</th>\n",
              "      <td>MERCEDES BENZ</td>\n",
              "      <td>Others</td>\n",
              "      <td>Coupe/ Convertible</td>\n",
              "      <td>12.0</td>\n",
              "      <td>2022</td>\n",
              "      <td>06</td>\n",
              "    </tr>\n",
              "    <tr>\n",
              "      <th>27879</th>\n",
              "      <td>MITSUBISHI</td>\n",
              "      <td>Petrol</td>\n",
              "      <td>Coupe/ Convertible</td>\n",
              "      <td>1.0</td>\n",
              "      <td>2022</td>\n",
              "      <td>06</td>\n",
              "    </tr>\n",
              "    <tr>\n",
              "      <th>27890</th>\n",
              "      <td>PORSCHE</td>\n",
              "      <td>Petrol</td>\n",
              "      <td>Coupe/ Convertible</td>\n",
              "      <td>31.0</td>\n",
              "      <td>2022</td>\n",
              "      <td>06</td>\n",
              "    </tr>\n",
              "    <tr>\n",
              "      <th>27907</th>\n",
              "      <td>TOYOTA</td>\n",
              "      <td>Petrol</td>\n",
              "      <td>Coupe/ Convertible</td>\n",
              "      <td>2.0</td>\n",
              "      <td>2022</td>\n",
              "      <td>06</td>\n",
              "    </tr>\n",
              "    <tr>\n",
              "      <th>27910</th>\n",
              "      <td>TRIUMPH</td>\n",
              "      <td>Petrol</td>\n",
              "      <td>Coupe/ Convertible</td>\n",
              "      <td>1.0</td>\n",
              "      <td>2022</td>\n",
              "      <td>06</td>\n",
              "    </tr>\n",
              "  </tbody>\n",
              "</table>\n",
              "<p>16835 rows × 6 columns</p>\n",
              "</div>\n",
              "      <button class=\"colab-df-convert\" onclick=\"convertToInteractive('df-da5143ea-1fe4-4eae-b287-5076ce03ed0f')\"\n",
              "              title=\"Convert this dataframe to an interactive table.\"\n",
              "              style=\"display:none;\">\n",
              "        \n",
              "  <svg xmlns=\"http://www.w3.org/2000/svg\" height=\"24px\"viewBox=\"0 0 24 24\"\n",
              "       width=\"24px\">\n",
              "    <path d=\"M0 0h24v24H0V0z\" fill=\"none\"/>\n",
              "    <path d=\"M18.56 5.44l.94 2.06.94-2.06 2.06-.94-2.06-.94-.94-2.06-.94 2.06-2.06.94zm-11 1L8.5 8.5l.94-2.06 2.06-.94-2.06-.94L8.5 2.5l-.94 2.06-2.06.94zm10 10l.94 2.06.94-2.06 2.06-.94-2.06-.94-.94-2.06-.94 2.06-2.06.94z\"/><path d=\"M17.41 7.96l-1.37-1.37c-.4-.4-.92-.59-1.43-.59-.52 0-1.04.2-1.43.59L10.3 9.45l-7.72 7.72c-.78.78-.78 2.05 0 2.83L4 21.41c.39.39.9.59 1.41.59.51 0 1.02-.2 1.41-.59l7.78-7.78 2.81-2.81c.8-.78.8-2.07 0-2.86zM5.41 20L4 18.59l7.72-7.72 1.47 1.35L5.41 20z\"/>\n",
              "  </svg>\n",
              "      </button>\n",
              "      \n",
              "  <style>\n",
              "    .colab-df-container {\n",
              "      display:flex;\n",
              "      flex-wrap:wrap;\n",
              "      gap: 12px;\n",
              "    }\n",
              "\n",
              "    .colab-df-convert {\n",
              "      background-color: #E8F0FE;\n",
              "      border: none;\n",
              "      border-radius: 50%;\n",
              "      cursor: pointer;\n",
              "      display: none;\n",
              "      fill: #1967D2;\n",
              "      height: 32px;\n",
              "      padding: 0 0 0 0;\n",
              "      width: 32px;\n",
              "    }\n",
              "\n",
              "    .colab-df-convert:hover {\n",
              "      background-color: #E2EBFA;\n",
              "      box-shadow: 0px 1px 2px rgba(60, 64, 67, 0.3), 0px 1px 3px 1px rgba(60, 64, 67, 0.15);\n",
              "      fill: #174EA6;\n",
              "    }\n",
              "\n",
              "    [theme=dark] .colab-df-convert {\n",
              "      background-color: #3B4455;\n",
              "      fill: #D2E3FC;\n",
              "    }\n",
              "\n",
              "    [theme=dark] .colab-df-convert:hover {\n",
              "      background-color: #434B5C;\n",
              "      box-shadow: 0px 1px 3px 1px rgba(0, 0, 0, 0.15);\n",
              "      filter: drop-shadow(0px 1px 2px rgba(0, 0, 0, 0.3));\n",
              "      fill: #FFFFFF;\n",
              "    }\n",
              "  </style>\n",
              "\n",
              "      <script>\n",
              "        const buttonEl =\n",
              "          document.querySelector('#df-da5143ea-1fe4-4eae-b287-5076ce03ed0f button.colab-df-convert');\n",
              "        buttonEl.style.display =\n",
              "          google.colab.kernel.accessAllowed ? 'block' : 'none';\n",
              "\n",
              "        async function convertToInteractive(key) {\n",
              "          const element = document.querySelector('#df-da5143ea-1fe4-4eae-b287-5076ce03ed0f');\n",
              "          const dataTable =\n",
              "            await google.colab.kernel.invokeFunction('convertToInteractive',\n",
              "                                                     [key], {});\n",
              "          if (!dataTable) return;\n",
              "\n",
              "          const docLinkHtml = 'Like what you see? Visit the ' +\n",
              "            '<a target=\"_blank\" href=https://colab.research.google.com/notebooks/data_table.ipynb>data table notebook</a>'\n",
              "            + ' to learn more about interactive tables.';\n",
              "          element.innerHTML = '';\n",
              "          dataTable['output_type'] = 'display_data';\n",
              "          await google.colab.output.renderOutput(dataTable, element);\n",
              "          const docLink = document.createElement('div');\n",
              "          docLink.innerHTML = docLinkHtml;\n",
              "          element.appendChild(docLink);\n",
              "        }\n",
              "      </script>\n",
              "    </div>\n",
              "  </div>\n",
              "  "
            ]
          },
          "metadata": {},
          "execution_count": 119
        }
      ]
    },
    {
      "cell_type": "markdown",
      "source": [
        "#### **Reordering columns**\n",
        "\n",
        "It feels odd to have the `year` and `month` columns at the end. Let's move them to the front:"
      ],
      "metadata": {
        "id": "oaUMpiICXgzr"
      }
    },
    {
      "cell_type": "code",
      "source": [
        "columns_ordered = ['year', 'month', 'make', 'fuel_type', 'vehicle_type', 'number']\n",
        "cars_monthly_reordered = cars_monthly_dropped.reindex(columns=columns_ordered)\n",
        "cars_monthly_reordered"
      ],
      "metadata": {
        "colab": {
          "base_uri": "https://localhost:8080/",
          "height": 424
        },
        "id": "B0p61THUX0gG",
        "outputId": "85d739bf-db98-4846-e77f-cd3042168fdd"
      },
      "execution_count": 120,
      "outputs": [
        {
          "output_type": "execute_result",
          "data": {
            "text/plain": [
              "       year month           make fuel_type        vehicle_type  number\n",
              "0      2016    01     ALFA ROMEO    Petrol           Hatchback     3.0\n",
              "1      2016    01         ALPINA    Petrol           Hatchback     0.0\n",
              "2      2016    01   ASTON MARTIN    Petrol           Hatchback     0.0\n",
              "3      2016    01           AUDI    Petrol           Hatchback    45.0\n",
              "4      2016    01         B.M.W.    Petrol           Hatchback     5.0\n",
              "...     ...   ...            ...       ...                 ...     ...\n",
              "27876  2022    06  MERCEDES BENZ    Others  Coupe/ Convertible    12.0\n",
              "27879  2022    06     MITSUBISHI    Petrol  Coupe/ Convertible     1.0\n",
              "27890  2022    06        PORSCHE    Petrol  Coupe/ Convertible    31.0\n",
              "27907  2022    06         TOYOTA    Petrol  Coupe/ Convertible     2.0\n",
              "27910  2022    06        TRIUMPH    Petrol  Coupe/ Convertible     1.0\n",
              "\n",
              "[16835 rows x 6 columns]"
            ],
            "text/html": [
              "\n",
              "  <div id=\"df-807c91b3-65cf-498c-b5a0-7bfc3f70a131\">\n",
              "    <div class=\"colab-df-container\">\n",
              "      <div>\n",
              "<style scoped>\n",
              "    .dataframe tbody tr th:only-of-type {\n",
              "        vertical-align: middle;\n",
              "    }\n",
              "\n",
              "    .dataframe tbody tr th {\n",
              "        vertical-align: top;\n",
              "    }\n",
              "\n",
              "    .dataframe thead th {\n",
              "        text-align: right;\n",
              "    }\n",
              "</style>\n",
              "<table border=\"1\" class=\"dataframe\">\n",
              "  <thead>\n",
              "    <tr style=\"text-align: right;\">\n",
              "      <th></th>\n",
              "      <th>year</th>\n",
              "      <th>month</th>\n",
              "      <th>make</th>\n",
              "      <th>fuel_type</th>\n",
              "      <th>vehicle_type</th>\n",
              "      <th>number</th>\n",
              "    </tr>\n",
              "  </thead>\n",
              "  <tbody>\n",
              "    <tr>\n",
              "      <th>0</th>\n",
              "      <td>2016</td>\n",
              "      <td>01</td>\n",
              "      <td>ALFA ROMEO</td>\n",
              "      <td>Petrol</td>\n",
              "      <td>Hatchback</td>\n",
              "      <td>3.0</td>\n",
              "    </tr>\n",
              "    <tr>\n",
              "      <th>1</th>\n",
              "      <td>2016</td>\n",
              "      <td>01</td>\n",
              "      <td>ALPINA</td>\n",
              "      <td>Petrol</td>\n",
              "      <td>Hatchback</td>\n",
              "      <td>0.0</td>\n",
              "    </tr>\n",
              "    <tr>\n",
              "      <th>2</th>\n",
              "      <td>2016</td>\n",
              "      <td>01</td>\n",
              "      <td>ASTON MARTIN</td>\n",
              "      <td>Petrol</td>\n",
              "      <td>Hatchback</td>\n",
              "      <td>0.0</td>\n",
              "    </tr>\n",
              "    <tr>\n",
              "      <th>3</th>\n",
              "      <td>2016</td>\n",
              "      <td>01</td>\n",
              "      <td>AUDI</td>\n",
              "      <td>Petrol</td>\n",
              "      <td>Hatchback</td>\n",
              "      <td>45.0</td>\n",
              "    </tr>\n",
              "    <tr>\n",
              "      <th>4</th>\n",
              "      <td>2016</td>\n",
              "      <td>01</td>\n",
              "      <td>B.M.W.</td>\n",
              "      <td>Petrol</td>\n",
              "      <td>Hatchback</td>\n",
              "      <td>5.0</td>\n",
              "    </tr>\n",
              "    <tr>\n",
              "      <th>...</th>\n",
              "      <td>...</td>\n",
              "      <td>...</td>\n",
              "      <td>...</td>\n",
              "      <td>...</td>\n",
              "      <td>...</td>\n",
              "      <td>...</td>\n",
              "    </tr>\n",
              "    <tr>\n",
              "      <th>27876</th>\n",
              "      <td>2022</td>\n",
              "      <td>06</td>\n",
              "      <td>MERCEDES BENZ</td>\n",
              "      <td>Others</td>\n",
              "      <td>Coupe/ Convertible</td>\n",
              "      <td>12.0</td>\n",
              "    </tr>\n",
              "    <tr>\n",
              "      <th>27879</th>\n",
              "      <td>2022</td>\n",
              "      <td>06</td>\n",
              "      <td>MITSUBISHI</td>\n",
              "      <td>Petrol</td>\n",
              "      <td>Coupe/ Convertible</td>\n",
              "      <td>1.0</td>\n",
              "    </tr>\n",
              "    <tr>\n",
              "      <th>27890</th>\n",
              "      <td>2022</td>\n",
              "      <td>06</td>\n",
              "      <td>PORSCHE</td>\n",
              "      <td>Petrol</td>\n",
              "      <td>Coupe/ Convertible</td>\n",
              "      <td>31.0</td>\n",
              "    </tr>\n",
              "    <tr>\n",
              "      <th>27907</th>\n",
              "      <td>2022</td>\n",
              "      <td>06</td>\n",
              "      <td>TOYOTA</td>\n",
              "      <td>Petrol</td>\n",
              "      <td>Coupe/ Convertible</td>\n",
              "      <td>2.0</td>\n",
              "    </tr>\n",
              "    <tr>\n",
              "      <th>27910</th>\n",
              "      <td>2022</td>\n",
              "      <td>06</td>\n",
              "      <td>TRIUMPH</td>\n",
              "      <td>Petrol</td>\n",
              "      <td>Coupe/ Convertible</td>\n",
              "      <td>1.0</td>\n",
              "    </tr>\n",
              "  </tbody>\n",
              "</table>\n",
              "<p>16835 rows × 6 columns</p>\n",
              "</div>\n",
              "      <button class=\"colab-df-convert\" onclick=\"convertToInteractive('df-807c91b3-65cf-498c-b5a0-7bfc3f70a131')\"\n",
              "              title=\"Convert this dataframe to an interactive table.\"\n",
              "              style=\"display:none;\">\n",
              "        \n",
              "  <svg xmlns=\"http://www.w3.org/2000/svg\" height=\"24px\"viewBox=\"0 0 24 24\"\n",
              "       width=\"24px\">\n",
              "    <path d=\"M0 0h24v24H0V0z\" fill=\"none\"/>\n",
              "    <path d=\"M18.56 5.44l.94 2.06.94-2.06 2.06-.94-2.06-.94-.94-2.06-.94 2.06-2.06.94zm-11 1L8.5 8.5l.94-2.06 2.06-.94-2.06-.94L8.5 2.5l-.94 2.06-2.06.94zm10 10l.94 2.06.94-2.06 2.06-.94-2.06-.94-.94-2.06-.94 2.06-2.06.94z\"/><path d=\"M17.41 7.96l-1.37-1.37c-.4-.4-.92-.59-1.43-.59-.52 0-1.04.2-1.43.59L10.3 9.45l-7.72 7.72c-.78.78-.78 2.05 0 2.83L4 21.41c.39.39.9.59 1.41.59.51 0 1.02-.2 1.41-.59l7.78-7.78 2.81-2.81c.8-.78.8-2.07 0-2.86zM5.41 20L4 18.59l7.72-7.72 1.47 1.35L5.41 20z\"/>\n",
              "  </svg>\n",
              "      </button>\n",
              "      \n",
              "  <style>\n",
              "    .colab-df-container {\n",
              "      display:flex;\n",
              "      flex-wrap:wrap;\n",
              "      gap: 12px;\n",
              "    }\n",
              "\n",
              "    .colab-df-convert {\n",
              "      background-color: #E8F0FE;\n",
              "      border: none;\n",
              "      border-radius: 50%;\n",
              "      cursor: pointer;\n",
              "      display: none;\n",
              "      fill: #1967D2;\n",
              "      height: 32px;\n",
              "      padding: 0 0 0 0;\n",
              "      width: 32px;\n",
              "    }\n",
              "\n",
              "    .colab-df-convert:hover {\n",
              "      background-color: #E2EBFA;\n",
              "      box-shadow: 0px 1px 2px rgba(60, 64, 67, 0.3), 0px 1px 3px 1px rgba(60, 64, 67, 0.15);\n",
              "      fill: #174EA6;\n",
              "    }\n",
              "\n",
              "    [theme=dark] .colab-df-convert {\n",
              "      background-color: #3B4455;\n",
              "      fill: #D2E3FC;\n",
              "    }\n",
              "\n",
              "    [theme=dark] .colab-df-convert:hover {\n",
              "      background-color: #434B5C;\n",
              "      box-shadow: 0px 1px 3px 1px rgba(0, 0, 0, 0.15);\n",
              "      filter: drop-shadow(0px 1px 2px rgba(0, 0, 0, 0.3));\n",
              "      fill: #FFFFFF;\n",
              "    }\n",
              "  </style>\n",
              "\n",
              "      <script>\n",
              "        const buttonEl =\n",
              "          document.querySelector('#df-807c91b3-65cf-498c-b5a0-7bfc3f70a131 button.colab-df-convert');\n",
              "        buttonEl.style.display =\n",
              "          google.colab.kernel.accessAllowed ? 'block' : 'none';\n",
              "\n",
              "        async function convertToInteractive(key) {\n",
              "          const element = document.querySelector('#df-807c91b3-65cf-498c-b5a0-7bfc3f70a131');\n",
              "          const dataTable =\n",
              "            await google.colab.kernel.invokeFunction('convertToInteractive',\n",
              "                                                     [key], {});\n",
              "          if (!dataTable) return;\n",
              "\n",
              "          const docLinkHtml = 'Like what you see? Visit the ' +\n",
              "            '<a target=\"_blank\" href=https://colab.research.google.com/notebooks/data_table.ipynb>data table notebook</a>'\n",
              "            + ' to learn more about interactive tables.';\n",
              "          element.innerHTML = '';\n",
              "          dataTable['output_type'] = 'display_data';\n",
              "          await google.colab.output.renderOutput(dataTable, element);\n",
              "          const docLink = document.createElement('div');\n",
              "          docLink.innerHTML = docLinkHtml;\n",
              "          element.appendChild(docLink);\n",
              "        }\n",
              "      </script>\n",
              "    </div>\n",
              "  </div>\n",
              "  "
            ]
          },
          "metadata": {},
          "execution_count": 120
        }
      ]
    },
    {
      "cell_type": "markdown",
      "source": [
        "#### **Converting data types**\n",
        "\n",
        "Notice the `number` column is of type `float64`:"
      ],
      "metadata": {
        "id": "42bxi-jARytn"
      }
    },
    {
      "cell_type": "code",
      "source": [
        "cars_monthly_reordered.dtypes"
      ],
      "metadata": {
        "colab": {
          "base_uri": "https://localhost:8080/"
        },
        "id": "EGZ_fyTATEd9",
        "outputId": "939d04ec-8117-4c1c-e8fc-ce85621ba3a0"
      },
      "execution_count": 121,
      "outputs": [
        {
          "output_type": "execute_result",
          "data": {
            "text/plain": [
              "year             object\n",
              "month            object\n",
              "make             object\n",
              "fuel_type        object\n",
              "vehicle_type     object\n",
              "number          float64\n",
              "dtype: object"
            ]
          },
          "metadata": {},
          "execution_count": 121
        }
      ]
    },
    {
      "cell_type": "markdown",
      "source": [
        "Theoretically the numbers of car registration in a month should be integers. Let's double check just to be sure:"
      ],
      "metadata": {
        "id": "nPGF22EsTO8r"
      }
    },
    {
      "cell_type": "code",
      "source": [
        "cars_monthly_reordered.number.apply(float.is_integer).all()"
      ],
      "metadata": {
        "colab": {
          "base_uri": "https://localhost:8080/"
        },
        "id": "IQPzykJGTclT",
        "outputId": "7df28524-5943-4228-dbd7-8cdad6f750bc"
      },
      "execution_count": 122,
      "outputs": [
        {
          "output_type": "execute_result",
          "data": {
            "text/plain": [
              "True"
            ]
          },
          "metadata": {},
          "execution_count": 122
        }
      ]
    },
    {
      "cell_type": "markdown",
      "source": [
        "Let's convert the `number`, `year`, `month` columns' types to be integer:"
      ],
      "metadata": {
        "id": "TkGTRlngTqH2"
      }
    },
    {
      "cell_type": "code",
      "source": [
        "cars_monthly_converted = cars_monthly_reordered.astype({\n",
        "    'number': 'int', 'year': 'int', 'month': 'int'})\n",
        "cars_monthly_converted.dtypes"
      ],
      "metadata": {
        "colab": {
          "base_uri": "https://localhost:8080/"
        },
        "id": "GNSLCknHTvXg",
        "outputId": "2ebf7edd-d010-4538-e6c8-9d2185404d6b"
      },
      "execution_count": 123,
      "outputs": [
        {
          "output_type": "execute_result",
          "data": {
            "text/plain": [
              "year             int64\n",
              "month            int64\n",
              "make            object\n",
              "fuel_type       object\n",
              "vehicle_type    object\n",
              "number           int64\n",
              "dtype: object"
            ]
          },
          "metadata": {},
          "execution_count": 123
        }
      ]
    },
    {
      "cell_type": "markdown",
      "source": [
        "We will leave the rest of the columns as-is. It's tempting to conver them to `string` type but `string` type requires specifying max length, so we will keep them as `object` since it allows for variable length among column values."
      ],
      "metadata": {
        "id": "2xVyXVYRVq5a"
      }
    },
    {
      "cell_type": "markdown",
      "source": [
        "#### **Sorting by values**\n",
        "\n",
        "We can sort by the values of any column(s). To sort by the number of registrations in descending order:"
      ],
      "metadata": {
        "id": "yLwqx7vRZL2G"
      }
    },
    {
      "cell_type": "code",
      "source": [
        "cars_monthly_sorted = cars_monthly_converted.sort_values(['number', 'year', 'month'], ascending=[False, True, True])\n",
        "cars_monthly_sorted"
      ],
      "metadata": {
        "colab": {
          "base_uri": "https://localhost:8080/",
          "height": 424
        },
        "id": "rX1lrH1wZ3jm",
        "outputId": "9a9cebb4-476e-42ad-d806-93cf292c2d59"
      },
      "execution_count": 124,
      "outputs": [
        {
          "output_type": "execute_result",
          "data": {
            "text/plain": [
              "       year  month        make fuel_type            vehicle_type  number\n",
              "1581   2016      5       HONDA    Petrol  Sports Utility Vehicle    1198\n",
              "1921   2016      6       HONDA    Petrol  Sports Utility Vehicle     986\n",
              "901    2016      3       HONDA    Petrol  Sports Utility Vehicle     954\n",
              "3427   2016     10       HONDA    Petrol  Sports Utility Vehicle     950\n",
              "1488   2016      5      TOYOTA    Petrol                   Sedan     906\n",
              "...     ...    ...         ...       ...                     ...     ...\n",
              "10429  2018      6      TOYOTA    Diesel      Coupe/ Convertible       0\n",
              "10430  2018      6      TOYOTA    Others      Coupe/ Convertible       0\n",
              "10431  2018      6     TRIUMPH    Petrol      Coupe/ Convertible       0\n",
              "10433  2018      6  VOLKSWAGEN    Diesel      Coupe/ Convertible       0\n",
              "10434  2018      6       VOLVO    Petrol      Coupe/ Convertible       0\n",
              "\n",
              "[16835 rows x 6 columns]"
            ],
            "text/html": [
              "\n",
              "  <div id=\"df-129735fd-6f04-4390-a9a1-25848459eaf9\">\n",
              "    <div class=\"colab-df-container\">\n",
              "      <div>\n",
              "<style scoped>\n",
              "    .dataframe tbody tr th:only-of-type {\n",
              "        vertical-align: middle;\n",
              "    }\n",
              "\n",
              "    .dataframe tbody tr th {\n",
              "        vertical-align: top;\n",
              "    }\n",
              "\n",
              "    .dataframe thead th {\n",
              "        text-align: right;\n",
              "    }\n",
              "</style>\n",
              "<table border=\"1\" class=\"dataframe\">\n",
              "  <thead>\n",
              "    <tr style=\"text-align: right;\">\n",
              "      <th></th>\n",
              "      <th>year</th>\n",
              "      <th>month</th>\n",
              "      <th>make</th>\n",
              "      <th>fuel_type</th>\n",
              "      <th>vehicle_type</th>\n",
              "      <th>number</th>\n",
              "    </tr>\n",
              "  </thead>\n",
              "  <tbody>\n",
              "    <tr>\n",
              "      <th>1581</th>\n",
              "      <td>2016</td>\n",
              "      <td>5</td>\n",
              "      <td>HONDA</td>\n",
              "      <td>Petrol</td>\n",
              "      <td>Sports Utility Vehicle</td>\n",
              "      <td>1198</td>\n",
              "    </tr>\n",
              "    <tr>\n",
              "      <th>1921</th>\n",
              "      <td>2016</td>\n",
              "      <td>6</td>\n",
              "      <td>HONDA</td>\n",
              "      <td>Petrol</td>\n",
              "      <td>Sports Utility Vehicle</td>\n",
              "      <td>986</td>\n",
              "    </tr>\n",
              "    <tr>\n",
              "      <th>901</th>\n",
              "      <td>2016</td>\n",
              "      <td>3</td>\n",
              "      <td>HONDA</td>\n",
              "      <td>Petrol</td>\n",
              "      <td>Sports Utility Vehicle</td>\n",
              "      <td>954</td>\n",
              "    </tr>\n",
              "    <tr>\n",
              "      <th>3427</th>\n",
              "      <td>2016</td>\n",
              "      <td>10</td>\n",
              "      <td>HONDA</td>\n",
              "      <td>Petrol</td>\n",
              "      <td>Sports Utility Vehicle</td>\n",
              "      <td>950</td>\n",
              "    </tr>\n",
              "    <tr>\n",
              "      <th>1488</th>\n",
              "      <td>2016</td>\n",
              "      <td>5</td>\n",
              "      <td>TOYOTA</td>\n",
              "      <td>Petrol</td>\n",
              "      <td>Sedan</td>\n",
              "      <td>906</td>\n",
              "    </tr>\n",
              "    <tr>\n",
              "      <th>...</th>\n",
              "      <td>...</td>\n",
              "      <td>...</td>\n",
              "      <td>...</td>\n",
              "      <td>...</td>\n",
              "      <td>...</td>\n",
              "      <td>...</td>\n",
              "    </tr>\n",
              "    <tr>\n",
              "      <th>10429</th>\n",
              "      <td>2018</td>\n",
              "      <td>6</td>\n",
              "      <td>TOYOTA</td>\n",
              "      <td>Diesel</td>\n",
              "      <td>Coupe/ Convertible</td>\n",
              "      <td>0</td>\n",
              "    </tr>\n",
              "    <tr>\n",
              "      <th>10430</th>\n",
              "      <td>2018</td>\n",
              "      <td>6</td>\n",
              "      <td>TOYOTA</td>\n",
              "      <td>Others</td>\n",
              "      <td>Coupe/ Convertible</td>\n",
              "      <td>0</td>\n",
              "    </tr>\n",
              "    <tr>\n",
              "      <th>10431</th>\n",
              "      <td>2018</td>\n",
              "      <td>6</td>\n",
              "      <td>TRIUMPH</td>\n",
              "      <td>Petrol</td>\n",
              "      <td>Coupe/ Convertible</td>\n",
              "      <td>0</td>\n",
              "    </tr>\n",
              "    <tr>\n",
              "      <th>10433</th>\n",
              "      <td>2018</td>\n",
              "      <td>6</td>\n",
              "      <td>VOLKSWAGEN</td>\n",
              "      <td>Diesel</td>\n",
              "      <td>Coupe/ Convertible</td>\n",
              "      <td>0</td>\n",
              "    </tr>\n",
              "    <tr>\n",
              "      <th>10434</th>\n",
              "      <td>2018</td>\n",
              "      <td>6</td>\n",
              "      <td>VOLVO</td>\n",
              "      <td>Petrol</td>\n",
              "      <td>Coupe/ Convertible</td>\n",
              "      <td>0</td>\n",
              "    </tr>\n",
              "  </tbody>\n",
              "</table>\n",
              "<p>16835 rows × 6 columns</p>\n",
              "</div>\n",
              "      <button class=\"colab-df-convert\" onclick=\"convertToInteractive('df-129735fd-6f04-4390-a9a1-25848459eaf9')\"\n",
              "              title=\"Convert this dataframe to an interactive table.\"\n",
              "              style=\"display:none;\">\n",
              "        \n",
              "  <svg xmlns=\"http://www.w3.org/2000/svg\" height=\"24px\"viewBox=\"0 0 24 24\"\n",
              "       width=\"24px\">\n",
              "    <path d=\"M0 0h24v24H0V0z\" fill=\"none\"/>\n",
              "    <path d=\"M18.56 5.44l.94 2.06.94-2.06 2.06-.94-2.06-.94-.94-2.06-.94 2.06-2.06.94zm-11 1L8.5 8.5l.94-2.06 2.06-.94-2.06-.94L8.5 2.5l-.94 2.06-2.06.94zm10 10l.94 2.06.94-2.06 2.06-.94-2.06-.94-.94-2.06-.94 2.06-2.06.94z\"/><path d=\"M17.41 7.96l-1.37-1.37c-.4-.4-.92-.59-1.43-.59-.52 0-1.04.2-1.43.59L10.3 9.45l-7.72 7.72c-.78.78-.78 2.05 0 2.83L4 21.41c.39.39.9.59 1.41.59.51 0 1.02-.2 1.41-.59l7.78-7.78 2.81-2.81c.8-.78.8-2.07 0-2.86zM5.41 20L4 18.59l7.72-7.72 1.47 1.35L5.41 20z\"/>\n",
              "  </svg>\n",
              "      </button>\n",
              "      \n",
              "  <style>\n",
              "    .colab-df-container {\n",
              "      display:flex;\n",
              "      flex-wrap:wrap;\n",
              "      gap: 12px;\n",
              "    }\n",
              "\n",
              "    .colab-df-convert {\n",
              "      background-color: #E8F0FE;\n",
              "      border: none;\n",
              "      border-radius: 50%;\n",
              "      cursor: pointer;\n",
              "      display: none;\n",
              "      fill: #1967D2;\n",
              "      height: 32px;\n",
              "      padding: 0 0 0 0;\n",
              "      width: 32px;\n",
              "    }\n",
              "\n",
              "    .colab-df-convert:hover {\n",
              "      background-color: #E2EBFA;\n",
              "      box-shadow: 0px 1px 2px rgba(60, 64, 67, 0.3), 0px 1px 3px 1px rgba(60, 64, 67, 0.15);\n",
              "      fill: #174EA6;\n",
              "    }\n",
              "\n",
              "    [theme=dark] .colab-df-convert {\n",
              "      background-color: #3B4455;\n",
              "      fill: #D2E3FC;\n",
              "    }\n",
              "\n",
              "    [theme=dark] .colab-df-convert:hover {\n",
              "      background-color: #434B5C;\n",
              "      box-shadow: 0px 1px 3px 1px rgba(0, 0, 0, 0.15);\n",
              "      filter: drop-shadow(0px 1px 2px rgba(0, 0, 0, 0.3));\n",
              "      fill: #FFFFFF;\n",
              "    }\n",
              "  </style>\n",
              "\n",
              "      <script>\n",
              "        const buttonEl =\n",
              "          document.querySelector('#df-129735fd-6f04-4390-a9a1-25848459eaf9 button.colab-df-convert');\n",
              "        buttonEl.style.display =\n",
              "          google.colab.kernel.accessAllowed ? 'block' : 'none';\n",
              "\n",
              "        async function convertToInteractive(key) {\n",
              "          const element = document.querySelector('#df-129735fd-6f04-4390-a9a1-25848459eaf9');\n",
              "          const dataTable =\n",
              "            await google.colab.kernel.invokeFunction('convertToInteractive',\n",
              "                                                     [key], {});\n",
              "          if (!dataTable) return;\n",
              "\n",
              "          const docLinkHtml = 'Like what you see? Visit the ' +\n",
              "            '<a target=\"_blank\" href=https://colab.research.google.com/notebooks/data_table.ipynb>data table notebook</a>'\n",
              "            + ' to learn more about interactive tables.';\n",
              "          element.innerHTML = '';\n",
              "          dataTable['output_type'] = 'display_data';\n",
              "          await google.colab.output.renderOutput(dataTable, element);\n",
              "          const docLink = document.createElement('div');\n",
              "          docLink.innerHTML = docLinkHtml;\n",
              "          element.appendChild(docLink);\n",
              "        }\n",
              "      </script>\n",
              "    </div>\n",
              "  </div>\n",
              "  "
            ]
          },
          "metadata": {},
          "execution_count": 124
        }
      ]
    },
    {
      "cell_type": "markdown",
      "source": [
        "This could be helpful in discovering possible data integrity issues. For example, we notice here there are entries with `number=0` which we can remove from the dataset:"
      ],
      "metadata": {
        "id": "kUeoLgAJapDG"
      }
    },
    {
      "cell_type": "code",
      "source": [
        "cars_monthly_nonzero = cars_monthly_sorted[cars_monthly_sorted.number > 0]\n",
        "cars_monthly_nonzero"
      ],
      "metadata": {
        "colab": {
          "base_uri": "https://localhost:8080/",
          "height": 424
        },
        "id": "Cg848POfa4Y1",
        "outputId": "507b4117-6945-431b-8354-c5c5bc93bf2d"
      },
      "execution_count": 125,
      "outputs": [
        {
          "output_type": "execute_result",
          "data": {
            "text/plain": [
              "       year  month           make fuel_type            vehicle_type  number\n",
              "1581   2016      5          HONDA    Petrol  Sports Utility Vehicle    1198\n",
              "1921   2016      6          HONDA    Petrol  Sports Utility Vehicle     986\n",
              "901    2016      3          HONDA    Petrol  Sports Utility Vehicle     954\n",
              "3427   2016     10          HONDA    Petrol  Sports Utility Vehicle     950\n",
              "1488   2016      5         TOYOTA    Petrol                   Sedan     906\n",
              "...     ...    ...            ...       ...                     ...     ...\n",
              "27868  2022      6       MASERATI    Petrol      Coupe/ Convertible       1\n",
              "27873  2022      6        MCLAREN    Petrol      Coupe/ Convertible       1\n",
              "27875  2022      6  MERCEDES BENZ    Diesel      Coupe/ Convertible       1\n",
              "27879  2022      6     MITSUBISHI    Petrol      Coupe/ Convertible       1\n",
              "27910  2022      6        TRIUMPH    Petrol      Coupe/ Convertible       1\n",
              "\n",
              "[10445 rows x 6 columns]"
            ],
            "text/html": [
              "\n",
              "  <div id=\"df-a51df75e-071f-4106-9cba-21b37f4ee1cf\">\n",
              "    <div class=\"colab-df-container\">\n",
              "      <div>\n",
              "<style scoped>\n",
              "    .dataframe tbody tr th:only-of-type {\n",
              "        vertical-align: middle;\n",
              "    }\n",
              "\n",
              "    .dataframe tbody tr th {\n",
              "        vertical-align: top;\n",
              "    }\n",
              "\n",
              "    .dataframe thead th {\n",
              "        text-align: right;\n",
              "    }\n",
              "</style>\n",
              "<table border=\"1\" class=\"dataframe\">\n",
              "  <thead>\n",
              "    <tr style=\"text-align: right;\">\n",
              "      <th></th>\n",
              "      <th>year</th>\n",
              "      <th>month</th>\n",
              "      <th>make</th>\n",
              "      <th>fuel_type</th>\n",
              "      <th>vehicle_type</th>\n",
              "      <th>number</th>\n",
              "    </tr>\n",
              "  </thead>\n",
              "  <tbody>\n",
              "    <tr>\n",
              "      <th>1581</th>\n",
              "      <td>2016</td>\n",
              "      <td>5</td>\n",
              "      <td>HONDA</td>\n",
              "      <td>Petrol</td>\n",
              "      <td>Sports Utility Vehicle</td>\n",
              "      <td>1198</td>\n",
              "    </tr>\n",
              "    <tr>\n",
              "      <th>1921</th>\n",
              "      <td>2016</td>\n",
              "      <td>6</td>\n",
              "      <td>HONDA</td>\n",
              "      <td>Petrol</td>\n",
              "      <td>Sports Utility Vehicle</td>\n",
              "      <td>986</td>\n",
              "    </tr>\n",
              "    <tr>\n",
              "      <th>901</th>\n",
              "      <td>2016</td>\n",
              "      <td>3</td>\n",
              "      <td>HONDA</td>\n",
              "      <td>Petrol</td>\n",
              "      <td>Sports Utility Vehicle</td>\n",
              "      <td>954</td>\n",
              "    </tr>\n",
              "    <tr>\n",
              "      <th>3427</th>\n",
              "      <td>2016</td>\n",
              "      <td>10</td>\n",
              "      <td>HONDA</td>\n",
              "      <td>Petrol</td>\n",
              "      <td>Sports Utility Vehicle</td>\n",
              "      <td>950</td>\n",
              "    </tr>\n",
              "    <tr>\n",
              "      <th>1488</th>\n",
              "      <td>2016</td>\n",
              "      <td>5</td>\n",
              "      <td>TOYOTA</td>\n",
              "      <td>Petrol</td>\n",
              "      <td>Sedan</td>\n",
              "      <td>906</td>\n",
              "    </tr>\n",
              "    <tr>\n",
              "      <th>...</th>\n",
              "      <td>...</td>\n",
              "      <td>...</td>\n",
              "      <td>...</td>\n",
              "      <td>...</td>\n",
              "      <td>...</td>\n",
              "      <td>...</td>\n",
              "    </tr>\n",
              "    <tr>\n",
              "      <th>27868</th>\n",
              "      <td>2022</td>\n",
              "      <td>6</td>\n",
              "      <td>MASERATI</td>\n",
              "      <td>Petrol</td>\n",
              "      <td>Coupe/ Convertible</td>\n",
              "      <td>1</td>\n",
              "    </tr>\n",
              "    <tr>\n",
              "      <th>27873</th>\n",
              "      <td>2022</td>\n",
              "      <td>6</td>\n",
              "      <td>MCLAREN</td>\n",
              "      <td>Petrol</td>\n",
              "      <td>Coupe/ Convertible</td>\n",
              "      <td>1</td>\n",
              "    </tr>\n",
              "    <tr>\n",
              "      <th>27875</th>\n",
              "      <td>2022</td>\n",
              "      <td>6</td>\n",
              "      <td>MERCEDES BENZ</td>\n",
              "      <td>Diesel</td>\n",
              "      <td>Coupe/ Convertible</td>\n",
              "      <td>1</td>\n",
              "    </tr>\n",
              "    <tr>\n",
              "      <th>27879</th>\n",
              "      <td>2022</td>\n",
              "      <td>6</td>\n",
              "      <td>MITSUBISHI</td>\n",
              "      <td>Petrol</td>\n",
              "      <td>Coupe/ Convertible</td>\n",
              "      <td>1</td>\n",
              "    </tr>\n",
              "    <tr>\n",
              "      <th>27910</th>\n",
              "      <td>2022</td>\n",
              "      <td>6</td>\n",
              "      <td>TRIUMPH</td>\n",
              "      <td>Petrol</td>\n",
              "      <td>Coupe/ Convertible</td>\n",
              "      <td>1</td>\n",
              "    </tr>\n",
              "  </tbody>\n",
              "</table>\n",
              "<p>10445 rows × 6 columns</p>\n",
              "</div>\n",
              "      <button class=\"colab-df-convert\" onclick=\"convertToInteractive('df-a51df75e-071f-4106-9cba-21b37f4ee1cf')\"\n",
              "              title=\"Convert this dataframe to an interactive table.\"\n",
              "              style=\"display:none;\">\n",
              "        \n",
              "  <svg xmlns=\"http://www.w3.org/2000/svg\" height=\"24px\"viewBox=\"0 0 24 24\"\n",
              "       width=\"24px\">\n",
              "    <path d=\"M0 0h24v24H0V0z\" fill=\"none\"/>\n",
              "    <path d=\"M18.56 5.44l.94 2.06.94-2.06 2.06-.94-2.06-.94-.94-2.06-.94 2.06-2.06.94zm-11 1L8.5 8.5l.94-2.06 2.06-.94-2.06-.94L8.5 2.5l-.94 2.06-2.06.94zm10 10l.94 2.06.94-2.06 2.06-.94-2.06-.94-.94-2.06-.94 2.06-2.06.94z\"/><path d=\"M17.41 7.96l-1.37-1.37c-.4-.4-.92-.59-1.43-.59-.52 0-1.04.2-1.43.59L10.3 9.45l-7.72 7.72c-.78.78-.78 2.05 0 2.83L4 21.41c.39.39.9.59 1.41.59.51 0 1.02-.2 1.41-.59l7.78-7.78 2.81-2.81c.8-.78.8-2.07 0-2.86zM5.41 20L4 18.59l7.72-7.72 1.47 1.35L5.41 20z\"/>\n",
              "  </svg>\n",
              "      </button>\n",
              "      \n",
              "  <style>\n",
              "    .colab-df-container {\n",
              "      display:flex;\n",
              "      flex-wrap:wrap;\n",
              "      gap: 12px;\n",
              "    }\n",
              "\n",
              "    .colab-df-convert {\n",
              "      background-color: #E8F0FE;\n",
              "      border: none;\n",
              "      border-radius: 50%;\n",
              "      cursor: pointer;\n",
              "      display: none;\n",
              "      fill: #1967D2;\n",
              "      height: 32px;\n",
              "      padding: 0 0 0 0;\n",
              "      width: 32px;\n",
              "    }\n",
              "\n",
              "    .colab-df-convert:hover {\n",
              "      background-color: #E2EBFA;\n",
              "      box-shadow: 0px 1px 2px rgba(60, 64, 67, 0.3), 0px 1px 3px 1px rgba(60, 64, 67, 0.15);\n",
              "      fill: #174EA6;\n",
              "    }\n",
              "\n",
              "    [theme=dark] .colab-df-convert {\n",
              "      background-color: #3B4455;\n",
              "      fill: #D2E3FC;\n",
              "    }\n",
              "\n",
              "    [theme=dark] .colab-df-convert:hover {\n",
              "      background-color: #434B5C;\n",
              "      box-shadow: 0px 1px 3px 1px rgba(0, 0, 0, 0.15);\n",
              "      filter: drop-shadow(0px 1px 2px rgba(0, 0, 0, 0.3));\n",
              "      fill: #FFFFFF;\n",
              "    }\n",
              "  </style>\n",
              "\n",
              "      <script>\n",
              "        const buttonEl =\n",
              "          document.querySelector('#df-a51df75e-071f-4106-9cba-21b37f4ee1cf button.colab-df-convert');\n",
              "        buttonEl.style.display =\n",
              "          google.colab.kernel.accessAllowed ? 'block' : 'none';\n",
              "\n",
              "        async function convertToInteractive(key) {\n",
              "          const element = document.querySelector('#df-a51df75e-071f-4106-9cba-21b37f4ee1cf');\n",
              "          const dataTable =\n",
              "            await google.colab.kernel.invokeFunction('convertToInteractive',\n",
              "                                                     [key], {});\n",
              "          if (!dataTable) return;\n",
              "\n",
              "          const docLinkHtml = 'Like what you see? Visit the ' +\n",
              "            '<a target=\"_blank\" href=https://colab.research.google.com/notebooks/data_table.ipynb>data table notebook</a>'\n",
              "            + ' to learn more about interactive tables.';\n",
              "          element.innerHTML = '';\n",
              "          dataTable['output_type'] = 'display_data';\n",
              "          await google.colab.output.renderOutput(dataTable, element);\n",
              "          const docLink = document.createElement('div');\n",
              "          docLink.innerHTML = docLinkHtml;\n",
              "          element.appendChild(docLink);\n",
              "        }\n",
              "      </script>\n",
              "    </div>\n",
              "  </div>\n",
              "  "
            ]
          },
          "metadata": {},
          "execution_count": 125
        }
      ]
    },
    {
      "cell_type": "markdown",
      "source": [
        "We can also pick out the smallest/largest rows for similar data integrity checks:"
      ],
      "metadata": {
        "id": "RZzGLbNEbWp_"
      }
    },
    {
      "cell_type": "code",
      "source": [
        "cars_monthly_nonzero.month.nsmallest(3)"
      ],
      "metadata": {
        "colab": {
          "base_uri": "https://localhost:8080/"
        },
        "id": "dv3Q5_OxcTs0",
        "outputId": "af619497-0086-4397-e037-8d3f6c04f966"
      },
      "execution_count": 126,
      "outputs": [
        {
          "output_type": "execute_result",
          "data": {
            "text/plain": [
              "221      1\n",
              "12489    1\n",
              "128      1\n",
              "Name: month, dtype: int64"
            ]
          },
          "metadata": {},
          "execution_count": 126
        }
      ]
    },
    {
      "cell_type": "code",
      "source": [
        "cars_monthly_nonzero.month.nlargest(3)"
      ],
      "metadata": {
        "colab": {
          "base_uri": "https://localhost:8080/"
        },
        "id": "0VXmIUQZbnJ7",
        "outputId": "cc3d5366-f49d-48a0-e863-6f4247ed804f"
      },
      "execution_count": 127,
      "outputs": [
        {
          "output_type": "execute_result",
          "data": {
            "text/plain": [
              "4054    12\n",
              "4085    12\n",
              "8492    12\n",
              "Name: month, dtype: int64"
            ]
          },
          "metadata": {},
          "execution_count": 127
        }
      ]
    },
    {
      "cell_type": "markdown",
      "source": [
        "### Aggregation & Grouping\n",
        "\n",
        "In this section, we will explore using pivot tables, crosstabs, and group by operations to aggregate the data."
      ],
      "metadata": {
        "id": "Ftt2PUnRdJyo"
      }
    },
    {
      "cell_type": "markdown",
      "source": [
        "#### **`pivot_table`**\n",
        "\n",
        "To get the aggregated number of new car registrations by make and year, using `pivot_table`:"
      ],
      "metadata": {
        "id": "h0s-xsxDaEqm"
      }
    },
    {
      "cell_type": "code",
      "source": [
        "cars_monthly_pivoted = cars_monthly_nonzero.pivot_table(index='make', columns='year', values='number', aggfunc='sum')\n",
        "cars_monthly_pivoted"
      ],
      "metadata": {
        "colab": {
          "base_uri": "https://localhost:8080/",
          "height": 455
        },
        "id": "CaLAOLbge4nu",
        "outputId": "5cf284a1-8e7c-4a7d-84c9-0bf3f6420a96"
      },
      "execution_count": 128,
      "outputs": [
        {
          "output_type": "execute_result",
          "data": {
            "text/plain": [
              "year             2016     2017     2018     2019    2020    2021    2022\n",
              "make                                                                    \n",
              "ALFA ROMEO       39.0     12.0     50.0     60.0    39.0    37.0     9.0\n",
              "ALPINA           12.0     23.0     11.0      2.0     8.0     2.0     NaN\n",
              "ALPINE            NaN      NaN      NaN     14.0     7.0    11.0     3.0\n",
              "ASTON MARTIN     14.0     29.0     26.0     21.0    28.0    27.0    16.0\n",
              "AUDI           2360.0   2604.0   2941.0   2487.0  2228.0  1975.0   445.0\n",
              "...               ...      ...      ...      ...     ...     ...     ...\n",
              "TESLA             3.0      NaN      4.0     14.0    20.0   924.0   315.0\n",
              "TOYOTA        18491.0  19133.0  13817.0  12923.0  7704.0  9633.0  3545.0\n",
              "TRIUMPH           1.0      3.0      2.0      NaN     1.0     NaN     2.0\n",
              "VOLKSWAGEN     2779.0   2450.0   2420.0   1726.0  1334.0   915.0   241.0\n",
              "VOLVO          1485.0   1526.0   1416.0    874.0   712.0   510.0   185.0\n",
              "\n",
              "[71 rows x 7 columns]"
            ],
            "text/html": [
              "\n",
              "  <div id=\"df-63a37d8e-05f1-4dfa-a782-65824d38169d\">\n",
              "    <div class=\"colab-df-container\">\n",
              "      <div>\n",
              "<style scoped>\n",
              "    .dataframe tbody tr th:only-of-type {\n",
              "        vertical-align: middle;\n",
              "    }\n",
              "\n",
              "    .dataframe tbody tr th {\n",
              "        vertical-align: top;\n",
              "    }\n",
              "\n",
              "    .dataframe thead th {\n",
              "        text-align: right;\n",
              "    }\n",
              "</style>\n",
              "<table border=\"1\" class=\"dataframe\">\n",
              "  <thead>\n",
              "    <tr style=\"text-align: right;\">\n",
              "      <th>year</th>\n",
              "      <th>2016</th>\n",
              "      <th>2017</th>\n",
              "      <th>2018</th>\n",
              "      <th>2019</th>\n",
              "      <th>2020</th>\n",
              "      <th>2021</th>\n",
              "      <th>2022</th>\n",
              "    </tr>\n",
              "    <tr>\n",
              "      <th>make</th>\n",
              "      <th></th>\n",
              "      <th></th>\n",
              "      <th></th>\n",
              "      <th></th>\n",
              "      <th></th>\n",
              "      <th></th>\n",
              "      <th></th>\n",
              "    </tr>\n",
              "  </thead>\n",
              "  <tbody>\n",
              "    <tr>\n",
              "      <th>ALFA ROMEO</th>\n",
              "      <td>39.0</td>\n",
              "      <td>12.0</td>\n",
              "      <td>50.0</td>\n",
              "      <td>60.0</td>\n",
              "      <td>39.0</td>\n",
              "      <td>37.0</td>\n",
              "      <td>9.0</td>\n",
              "    </tr>\n",
              "    <tr>\n",
              "      <th>ALPINA</th>\n",
              "      <td>12.0</td>\n",
              "      <td>23.0</td>\n",
              "      <td>11.0</td>\n",
              "      <td>2.0</td>\n",
              "      <td>8.0</td>\n",
              "      <td>2.0</td>\n",
              "      <td>NaN</td>\n",
              "    </tr>\n",
              "    <tr>\n",
              "      <th>ALPINE</th>\n",
              "      <td>NaN</td>\n",
              "      <td>NaN</td>\n",
              "      <td>NaN</td>\n",
              "      <td>14.0</td>\n",
              "      <td>7.0</td>\n",
              "      <td>11.0</td>\n",
              "      <td>3.0</td>\n",
              "    </tr>\n",
              "    <tr>\n",
              "      <th>ASTON MARTIN</th>\n",
              "      <td>14.0</td>\n",
              "      <td>29.0</td>\n",
              "      <td>26.0</td>\n",
              "      <td>21.0</td>\n",
              "      <td>28.0</td>\n",
              "      <td>27.0</td>\n",
              "      <td>16.0</td>\n",
              "    </tr>\n",
              "    <tr>\n",
              "      <th>AUDI</th>\n",
              "      <td>2360.0</td>\n",
              "      <td>2604.0</td>\n",
              "      <td>2941.0</td>\n",
              "      <td>2487.0</td>\n",
              "      <td>2228.0</td>\n",
              "      <td>1975.0</td>\n",
              "      <td>445.0</td>\n",
              "    </tr>\n",
              "    <tr>\n",
              "      <th>...</th>\n",
              "      <td>...</td>\n",
              "      <td>...</td>\n",
              "      <td>...</td>\n",
              "      <td>...</td>\n",
              "      <td>...</td>\n",
              "      <td>...</td>\n",
              "      <td>...</td>\n",
              "    </tr>\n",
              "    <tr>\n",
              "      <th>TESLA</th>\n",
              "      <td>3.0</td>\n",
              "      <td>NaN</td>\n",
              "      <td>4.0</td>\n",
              "      <td>14.0</td>\n",
              "      <td>20.0</td>\n",
              "      <td>924.0</td>\n",
              "      <td>315.0</td>\n",
              "    </tr>\n",
              "    <tr>\n",
              "      <th>TOYOTA</th>\n",
              "      <td>18491.0</td>\n",
              "      <td>19133.0</td>\n",
              "      <td>13817.0</td>\n",
              "      <td>12923.0</td>\n",
              "      <td>7704.0</td>\n",
              "      <td>9633.0</td>\n",
              "      <td>3545.0</td>\n",
              "    </tr>\n",
              "    <tr>\n",
              "      <th>TRIUMPH</th>\n",
              "      <td>1.0</td>\n",
              "      <td>3.0</td>\n",
              "      <td>2.0</td>\n",
              "      <td>NaN</td>\n",
              "      <td>1.0</td>\n",
              "      <td>NaN</td>\n",
              "      <td>2.0</td>\n",
              "    </tr>\n",
              "    <tr>\n",
              "      <th>VOLKSWAGEN</th>\n",
              "      <td>2779.0</td>\n",
              "      <td>2450.0</td>\n",
              "      <td>2420.0</td>\n",
              "      <td>1726.0</td>\n",
              "      <td>1334.0</td>\n",
              "      <td>915.0</td>\n",
              "      <td>241.0</td>\n",
              "    </tr>\n",
              "    <tr>\n",
              "      <th>VOLVO</th>\n",
              "      <td>1485.0</td>\n",
              "      <td>1526.0</td>\n",
              "      <td>1416.0</td>\n",
              "      <td>874.0</td>\n",
              "      <td>712.0</td>\n",
              "      <td>510.0</td>\n",
              "      <td>185.0</td>\n",
              "    </tr>\n",
              "  </tbody>\n",
              "</table>\n",
              "<p>71 rows × 7 columns</p>\n",
              "</div>\n",
              "      <button class=\"colab-df-convert\" onclick=\"convertToInteractive('df-63a37d8e-05f1-4dfa-a782-65824d38169d')\"\n",
              "              title=\"Convert this dataframe to an interactive table.\"\n",
              "              style=\"display:none;\">\n",
              "        \n",
              "  <svg xmlns=\"http://www.w3.org/2000/svg\" height=\"24px\"viewBox=\"0 0 24 24\"\n",
              "       width=\"24px\">\n",
              "    <path d=\"M0 0h24v24H0V0z\" fill=\"none\"/>\n",
              "    <path d=\"M18.56 5.44l.94 2.06.94-2.06 2.06-.94-2.06-.94-.94-2.06-.94 2.06-2.06.94zm-11 1L8.5 8.5l.94-2.06 2.06-.94-2.06-.94L8.5 2.5l-.94 2.06-2.06.94zm10 10l.94 2.06.94-2.06 2.06-.94-2.06-.94-.94-2.06-.94 2.06-2.06.94z\"/><path d=\"M17.41 7.96l-1.37-1.37c-.4-.4-.92-.59-1.43-.59-.52 0-1.04.2-1.43.59L10.3 9.45l-7.72 7.72c-.78.78-.78 2.05 0 2.83L4 21.41c.39.39.9.59 1.41.59.51 0 1.02-.2 1.41-.59l7.78-7.78 2.81-2.81c.8-.78.8-2.07 0-2.86zM5.41 20L4 18.59l7.72-7.72 1.47 1.35L5.41 20z\"/>\n",
              "  </svg>\n",
              "      </button>\n",
              "      \n",
              "  <style>\n",
              "    .colab-df-container {\n",
              "      display:flex;\n",
              "      flex-wrap:wrap;\n",
              "      gap: 12px;\n",
              "    }\n",
              "\n",
              "    .colab-df-convert {\n",
              "      background-color: #E8F0FE;\n",
              "      border: none;\n",
              "      border-radius: 50%;\n",
              "      cursor: pointer;\n",
              "      display: none;\n",
              "      fill: #1967D2;\n",
              "      height: 32px;\n",
              "      padding: 0 0 0 0;\n",
              "      width: 32px;\n",
              "    }\n",
              "\n",
              "    .colab-df-convert:hover {\n",
              "      background-color: #E2EBFA;\n",
              "      box-shadow: 0px 1px 2px rgba(60, 64, 67, 0.3), 0px 1px 3px 1px rgba(60, 64, 67, 0.15);\n",
              "      fill: #174EA6;\n",
              "    }\n",
              "\n",
              "    [theme=dark] .colab-df-convert {\n",
              "      background-color: #3B4455;\n",
              "      fill: #D2E3FC;\n",
              "    }\n",
              "\n",
              "    [theme=dark] .colab-df-convert:hover {\n",
              "      background-color: #434B5C;\n",
              "      box-shadow: 0px 1px 3px 1px rgba(0, 0, 0, 0.15);\n",
              "      filter: drop-shadow(0px 1px 2px rgba(0, 0, 0, 0.3));\n",
              "      fill: #FFFFFF;\n",
              "    }\n",
              "  </style>\n",
              "\n",
              "      <script>\n",
              "        const buttonEl =\n",
              "          document.querySelector('#df-63a37d8e-05f1-4dfa-a782-65824d38169d button.colab-df-convert');\n",
              "        buttonEl.style.display =\n",
              "          google.colab.kernel.accessAllowed ? 'block' : 'none';\n",
              "\n",
              "        async function convertToInteractive(key) {\n",
              "          const element = document.querySelector('#df-63a37d8e-05f1-4dfa-a782-65824d38169d');\n",
              "          const dataTable =\n",
              "            await google.colab.kernel.invokeFunction('convertToInteractive',\n",
              "                                                     [key], {});\n",
              "          if (!dataTable) return;\n",
              "\n",
              "          const docLinkHtml = 'Like what you see? Visit the ' +\n",
              "            '<a target=\"_blank\" href=https://colab.research.google.com/notebooks/data_table.ipynb>data table notebook</a>'\n",
              "            + ' to learn more about interactive tables.';\n",
              "          element.innerHTML = '';\n",
              "          dataTable['output_type'] = 'display_data';\n",
              "          await google.colab.output.renderOutput(dataTable, element);\n",
              "          const docLink = document.createElement('div');\n",
              "          docLink.innerHTML = docLinkHtml;\n",
              "          element.appendChild(docLink);\n",
              "        }\n",
              "      </script>\n",
              "    </div>\n",
              "  </div>\n",
              "  "
            ]
          },
          "metadata": {},
          "execution_count": 128
        }
      ]
    },
    {
      "cell_type": "markdown",
      "source": [
        "#### **`crosstab`**\n",
        "\n",
        "The Same can be achieve with the `pd.crosstab` function, but with different arguments:"
      ],
      "metadata": {
        "id": "BPSUBCecsoTX"
      }
    },
    {
      "cell_type": "code",
      "source": [
        "pd.crosstab(index=cars_monthly_nonzero.make,\n",
        "            columns=cars_monthly_nonzero.year,\n",
        "            values=cars_monthly_nonzero.number,\n",
        "            aggfunc='sum')"
      ],
      "metadata": {
        "colab": {
          "base_uri": "https://localhost:8080/",
          "height": 455
        },
        "id": "f6-tOFJgf77T",
        "outputId": "8fdf2ca2-56b6-4800-9bc1-f21848448629"
      },
      "execution_count": 129,
      "outputs": [
        {
          "output_type": "execute_result",
          "data": {
            "text/plain": [
              "year             2016     2017     2018     2019    2020    2021    2022\n",
              "make                                                                    \n",
              "ALFA ROMEO       39.0     12.0     50.0     60.0    39.0    37.0     9.0\n",
              "ALPINA           12.0     23.0     11.0      2.0     8.0     2.0     NaN\n",
              "ALPINE            NaN      NaN      NaN     14.0     7.0    11.0     3.0\n",
              "ASTON MARTIN     14.0     29.0     26.0     21.0    28.0    27.0    16.0\n",
              "AUDI           2360.0   2604.0   2941.0   2487.0  2228.0  1975.0   445.0\n",
              "...               ...      ...      ...      ...     ...     ...     ...\n",
              "TESLA             3.0      NaN      4.0     14.0    20.0   924.0   315.0\n",
              "TOYOTA        18491.0  19133.0  13817.0  12923.0  7704.0  9633.0  3545.0\n",
              "TRIUMPH           1.0      3.0      2.0      NaN     1.0     NaN     2.0\n",
              "VOLKSWAGEN     2779.0   2450.0   2420.0   1726.0  1334.0   915.0   241.0\n",
              "VOLVO          1485.0   1526.0   1416.0    874.0   712.0   510.0   185.0\n",
              "\n",
              "[71 rows x 7 columns]"
            ],
            "text/html": [
              "\n",
              "  <div id=\"df-ac91c437-cf3b-4e6b-bfa9-d53d3d666ea8\">\n",
              "    <div class=\"colab-df-container\">\n",
              "      <div>\n",
              "<style scoped>\n",
              "    .dataframe tbody tr th:only-of-type {\n",
              "        vertical-align: middle;\n",
              "    }\n",
              "\n",
              "    .dataframe tbody tr th {\n",
              "        vertical-align: top;\n",
              "    }\n",
              "\n",
              "    .dataframe thead th {\n",
              "        text-align: right;\n",
              "    }\n",
              "</style>\n",
              "<table border=\"1\" class=\"dataframe\">\n",
              "  <thead>\n",
              "    <tr style=\"text-align: right;\">\n",
              "      <th>year</th>\n",
              "      <th>2016</th>\n",
              "      <th>2017</th>\n",
              "      <th>2018</th>\n",
              "      <th>2019</th>\n",
              "      <th>2020</th>\n",
              "      <th>2021</th>\n",
              "      <th>2022</th>\n",
              "    </tr>\n",
              "    <tr>\n",
              "      <th>make</th>\n",
              "      <th></th>\n",
              "      <th></th>\n",
              "      <th></th>\n",
              "      <th></th>\n",
              "      <th></th>\n",
              "      <th></th>\n",
              "      <th></th>\n",
              "    </tr>\n",
              "  </thead>\n",
              "  <tbody>\n",
              "    <tr>\n",
              "      <th>ALFA ROMEO</th>\n",
              "      <td>39.0</td>\n",
              "      <td>12.0</td>\n",
              "      <td>50.0</td>\n",
              "      <td>60.0</td>\n",
              "      <td>39.0</td>\n",
              "      <td>37.0</td>\n",
              "      <td>9.0</td>\n",
              "    </tr>\n",
              "    <tr>\n",
              "      <th>ALPINA</th>\n",
              "      <td>12.0</td>\n",
              "      <td>23.0</td>\n",
              "      <td>11.0</td>\n",
              "      <td>2.0</td>\n",
              "      <td>8.0</td>\n",
              "      <td>2.0</td>\n",
              "      <td>NaN</td>\n",
              "    </tr>\n",
              "    <tr>\n",
              "      <th>ALPINE</th>\n",
              "      <td>NaN</td>\n",
              "      <td>NaN</td>\n",
              "      <td>NaN</td>\n",
              "      <td>14.0</td>\n",
              "      <td>7.0</td>\n",
              "      <td>11.0</td>\n",
              "      <td>3.0</td>\n",
              "    </tr>\n",
              "    <tr>\n",
              "      <th>ASTON MARTIN</th>\n",
              "      <td>14.0</td>\n",
              "      <td>29.0</td>\n",
              "      <td>26.0</td>\n",
              "      <td>21.0</td>\n",
              "      <td>28.0</td>\n",
              "      <td>27.0</td>\n",
              "      <td>16.0</td>\n",
              "    </tr>\n",
              "    <tr>\n",
              "      <th>AUDI</th>\n",
              "      <td>2360.0</td>\n",
              "      <td>2604.0</td>\n",
              "      <td>2941.0</td>\n",
              "      <td>2487.0</td>\n",
              "      <td>2228.0</td>\n",
              "      <td>1975.0</td>\n",
              "      <td>445.0</td>\n",
              "    </tr>\n",
              "    <tr>\n",
              "      <th>...</th>\n",
              "      <td>...</td>\n",
              "      <td>...</td>\n",
              "      <td>...</td>\n",
              "      <td>...</td>\n",
              "      <td>...</td>\n",
              "      <td>...</td>\n",
              "      <td>...</td>\n",
              "    </tr>\n",
              "    <tr>\n",
              "      <th>TESLA</th>\n",
              "      <td>3.0</td>\n",
              "      <td>NaN</td>\n",
              "      <td>4.0</td>\n",
              "      <td>14.0</td>\n",
              "      <td>20.0</td>\n",
              "      <td>924.0</td>\n",
              "      <td>315.0</td>\n",
              "    </tr>\n",
              "    <tr>\n",
              "      <th>TOYOTA</th>\n",
              "      <td>18491.0</td>\n",
              "      <td>19133.0</td>\n",
              "      <td>13817.0</td>\n",
              "      <td>12923.0</td>\n",
              "      <td>7704.0</td>\n",
              "      <td>9633.0</td>\n",
              "      <td>3545.0</td>\n",
              "    </tr>\n",
              "    <tr>\n",
              "      <th>TRIUMPH</th>\n",
              "      <td>1.0</td>\n",
              "      <td>3.0</td>\n",
              "      <td>2.0</td>\n",
              "      <td>NaN</td>\n",
              "      <td>1.0</td>\n",
              "      <td>NaN</td>\n",
              "      <td>2.0</td>\n",
              "    </tr>\n",
              "    <tr>\n",
              "      <th>VOLKSWAGEN</th>\n",
              "      <td>2779.0</td>\n",
              "      <td>2450.0</td>\n",
              "      <td>2420.0</td>\n",
              "      <td>1726.0</td>\n",
              "      <td>1334.0</td>\n",
              "      <td>915.0</td>\n",
              "      <td>241.0</td>\n",
              "    </tr>\n",
              "    <tr>\n",
              "      <th>VOLVO</th>\n",
              "      <td>1485.0</td>\n",
              "      <td>1526.0</td>\n",
              "      <td>1416.0</td>\n",
              "      <td>874.0</td>\n",
              "      <td>712.0</td>\n",
              "      <td>510.0</td>\n",
              "      <td>185.0</td>\n",
              "    </tr>\n",
              "  </tbody>\n",
              "</table>\n",
              "<p>71 rows × 7 columns</p>\n",
              "</div>\n",
              "      <button class=\"colab-df-convert\" onclick=\"convertToInteractive('df-ac91c437-cf3b-4e6b-bfa9-d53d3d666ea8')\"\n",
              "              title=\"Convert this dataframe to an interactive table.\"\n",
              "              style=\"display:none;\">\n",
              "        \n",
              "  <svg xmlns=\"http://www.w3.org/2000/svg\" height=\"24px\"viewBox=\"0 0 24 24\"\n",
              "       width=\"24px\">\n",
              "    <path d=\"M0 0h24v24H0V0z\" fill=\"none\"/>\n",
              "    <path d=\"M18.56 5.44l.94 2.06.94-2.06 2.06-.94-2.06-.94-.94-2.06-.94 2.06-2.06.94zm-11 1L8.5 8.5l.94-2.06 2.06-.94-2.06-.94L8.5 2.5l-.94 2.06-2.06.94zm10 10l.94 2.06.94-2.06 2.06-.94-2.06-.94-.94-2.06-.94 2.06-2.06.94z\"/><path d=\"M17.41 7.96l-1.37-1.37c-.4-.4-.92-.59-1.43-.59-.52 0-1.04.2-1.43.59L10.3 9.45l-7.72 7.72c-.78.78-.78 2.05 0 2.83L4 21.41c.39.39.9.59 1.41.59.51 0 1.02-.2 1.41-.59l7.78-7.78 2.81-2.81c.8-.78.8-2.07 0-2.86zM5.41 20L4 18.59l7.72-7.72 1.47 1.35L5.41 20z\"/>\n",
              "  </svg>\n",
              "      </button>\n",
              "      \n",
              "  <style>\n",
              "    .colab-df-container {\n",
              "      display:flex;\n",
              "      flex-wrap:wrap;\n",
              "      gap: 12px;\n",
              "    }\n",
              "\n",
              "    .colab-df-convert {\n",
              "      background-color: #E8F0FE;\n",
              "      border: none;\n",
              "      border-radius: 50%;\n",
              "      cursor: pointer;\n",
              "      display: none;\n",
              "      fill: #1967D2;\n",
              "      height: 32px;\n",
              "      padding: 0 0 0 0;\n",
              "      width: 32px;\n",
              "    }\n",
              "\n",
              "    .colab-df-convert:hover {\n",
              "      background-color: #E2EBFA;\n",
              "      box-shadow: 0px 1px 2px rgba(60, 64, 67, 0.3), 0px 1px 3px 1px rgba(60, 64, 67, 0.15);\n",
              "      fill: #174EA6;\n",
              "    }\n",
              "\n",
              "    [theme=dark] .colab-df-convert {\n",
              "      background-color: #3B4455;\n",
              "      fill: #D2E3FC;\n",
              "    }\n",
              "\n",
              "    [theme=dark] .colab-df-convert:hover {\n",
              "      background-color: #434B5C;\n",
              "      box-shadow: 0px 1px 3px 1px rgba(0, 0, 0, 0.15);\n",
              "      filter: drop-shadow(0px 1px 2px rgba(0, 0, 0, 0.3));\n",
              "      fill: #FFFFFF;\n",
              "    }\n",
              "  </style>\n",
              "\n",
              "      <script>\n",
              "        const buttonEl =\n",
              "          document.querySelector('#df-ac91c437-cf3b-4e6b-bfa9-d53d3d666ea8 button.colab-df-convert');\n",
              "        buttonEl.style.display =\n",
              "          google.colab.kernel.accessAllowed ? 'block' : 'none';\n",
              "\n",
              "        async function convertToInteractive(key) {\n",
              "          const element = document.querySelector('#df-ac91c437-cf3b-4e6b-bfa9-d53d3d666ea8');\n",
              "          const dataTable =\n",
              "            await google.colab.kernel.invokeFunction('convertToInteractive',\n",
              "                                                     [key], {});\n",
              "          if (!dataTable) return;\n",
              "\n",
              "          const docLinkHtml = 'Like what you see? Visit the ' +\n",
              "            '<a target=\"_blank\" href=https://colab.research.google.com/notebooks/data_table.ipynb>data table notebook</a>'\n",
              "            + ' to learn more about interactive tables.';\n",
              "          element.innerHTML = '';\n",
              "          dataTable['output_type'] = 'display_data';\n",
              "          await google.colab.output.renderOutput(dataTable, element);\n",
              "          const docLink = document.createElement('div');\n",
              "          docLink.innerHTML = docLinkHtml;\n",
              "          element.appendChild(docLink);\n",
              "        }\n",
              "      </script>\n",
              "    </div>\n",
              "  </div>\n",
              "  "
            ]
          },
          "metadata": {},
          "execution_count": 129
        }
      ]
    },
    {
      "cell_type": "markdown",
      "source": [
        "Notice that `crosstab` does not require your data to be in a `DataFrame`, so you might find it natural to use `pivot_table` when your data is already in a `DataFrame` and `crosstab` otherwise. Internally to Pandas, `crosstab` invokes `pivot_table` to calculate the results."
      ],
      "metadata": {
        "id": "Wl24iCtUL6R2"
      }
    },
    {
      "cell_type": "markdown",
      "source": [
        "#### **`groupby`**\n",
        "\n",
        "Those coming from SQL land might feel more comfortable with `groupby`, which requires a reshaping with `unstack` to get the same results:"
      ],
      "metadata": {
        "id": "Y6CHtN-9uVYU"
      }
    },
    {
      "cell_type": "code",
      "source": [
        "cars_monthly_nonzero.groupby(['make', 'year']).sum()[['number']].unstack()"
      ],
      "metadata": {
        "colab": {
          "base_uri": "https://localhost:8080/",
          "height": 486
        },
        "id": "0isucp-Ws2m8",
        "outputId": "6d1cef45-9443-47e0-bc7c-05e61b00ca1c"
      },
      "execution_count": 130,
      "outputs": [
        {
          "output_type": "execute_result",
          "data": {
            "text/plain": [
              "               number                                                   \n",
              "year             2016     2017     2018     2019    2020    2021    2022\n",
              "make                                                                    \n",
              "ALFA ROMEO       39.0     12.0     50.0     60.0    39.0    37.0     9.0\n",
              "ALPINA           12.0     23.0     11.0      2.0     8.0     2.0     NaN\n",
              "ALPINE            NaN      NaN      NaN     14.0     7.0    11.0     3.0\n",
              "ASTON MARTIN     14.0     29.0     26.0     21.0    28.0    27.0    16.0\n",
              "AUDI           2360.0   2604.0   2941.0   2487.0  2228.0  1975.0   445.0\n",
              "...               ...      ...      ...      ...     ...     ...     ...\n",
              "TESLA             3.0      NaN      4.0     14.0    20.0   924.0   315.0\n",
              "TOYOTA        18491.0  19133.0  13817.0  12923.0  7704.0  9633.0  3545.0\n",
              "TRIUMPH           1.0      3.0      2.0      NaN     1.0     NaN     2.0\n",
              "VOLKSWAGEN     2779.0   2450.0   2420.0   1726.0  1334.0   915.0   241.0\n",
              "VOLVO          1485.0   1526.0   1416.0    874.0   712.0   510.0   185.0\n",
              "\n",
              "[71 rows x 7 columns]"
            ],
            "text/html": [
              "\n",
              "  <div id=\"df-9a79d596-a74a-4592-bbbd-5154af1d4589\">\n",
              "    <div class=\"colab-df-container\">\n",
              "      <div>\n",
              "<style scoped>\n",
              "    .dataframe tbody tr th:only-of-type {\n",
              "        vertical-align: middle;\n",
              "    }\n",
              "\n",
              "    .dataframe tbody tr th {\n",
              "        vertical-align: top;\n",
              "    }\n",
              "\n",
              "    .dataframe thead tr th {\n",
              "        text-align: left;\n",
              "    }\n",
              "\n",
              "    .dataframe thead tr:last-of-type th {\n",
              "        text-align: right;\n",
              "    }\n",
              "</style>\n",
              "<table border=\"1\" class=\"dataframe\">\n",
              "  <thead>\n",
              "    <tr>\n",
              "      <th></th>\n",
              "      <th colspan=\"7\" halign=\"left\">number</th>\n",
              "    </tr>\n",
              "    <tr>\n",
              "      <th>year</th>\n",
              "      <th>2016</th>\n",
              "      <th>2017</th>\n",
              "      <th>2018</th>\n",
              "      <th>2019</th>\n",
              "      <th>2020</th>\n",
              "      <th>2021</th>\n",
              "      <th>2022</th>\n",
              "    </tr>\n",
              "    <tr>\n",
              "      <th>make</th>\n",
              "      <th></th>\n",
              "      <th></th>\n",
              "      <th></th>\n",
              "      <th></th>\n",
              "      <th></th>\n",
              "      <th></th>\n",
              "      <th></th>\n",
              "    </tr>\n",
              "  </thead>\n",
              "  <tbody>\n",
              "    <tr>\n",
              "      <th>ALFA ROMEO</th>\n",
              "      <td>39.0</td>\n",
              "      <td>12.0</td>\n",
              "      <td>50.0</td>\n",
              "      <td>60.0</td>\n",
              "      <td>39.0</td>\n",
              "      <td>37.0</td>\n",
              "      <td>9.0</td>\n",
              "    </tr>\n",
              "    <tr>\n",
              "      <th>ALPINA</th>\n",
              "      <td>12.0</td>\n",
              "      <td>23.0</td>\n",
              "      <td>11.0</td>\n",
              "      <td>2.0</td>\n",
              "      <td>8.0</td>\n",
              "      <td>2.0</td>\n",
              "      <td>NaN</td>\n",
              "    </tr>\n",
              "    <tr>\n",
              "      <th>ALPINE</th>\n",
              "      <td>NaN</td>\n",
              "      <td>NaN</td>\n",
              "      <td>NaN</td>\n",
              "      <td>14.0</td>\n",
              "      <td>7.0</td>\n",
              "      <td>11.0</td>\n",
              "      <td>3.0</td>\n",
              "    </tr>\n",
              "    <tr>\n",
              "      <th>ASTON MARTIN</th>\n",
              "      <td>14.0</td>\n",
              "      <td>29.0</td>\n",
              "      <td>26.0</td>\n",
              "      <td>21.0</td>\n",
              "      <td>28.0</td>\n",
              "      <td>27.0</td>\n",
              "      <td>16.0</td>\n",
              "    </tr>\n",
              "    <tr>\n",
              "      <th>AUDI</th>\n",
              "      <td>2360.0</td>\n",
              "      <td>2604.0</td>\n",
              "      <td>2941.0</td>\n",
              "      <td>2487.0</td>\n",
              "      <td>2228.0</td>\n",
              "      <td>1975.0</td>\n",
              "      <td>445.0</td>\n",
              "    </tr>\n",
              "    <tr>\n",
              "      <th>...</th>\n",
              "      <td>...</td>\n",
              "      <td>...</td>\n",
              "      <td>...</td>\n",
              "      <td>...</td>\n",
              "      <td>...</td>\n",
              "      <td>...</td>\n",
              "      <td>...</td>\n",
              "    </tr>\n",
              "    <tr>\n",
              "      <th>TESLA</th>\n",
              "      <td>3.0</td>\n",
              "      <td>NaN</td>\n",
              "      <td>4.0</td>\n",
              "      <td>14.0</td>\n",
              "      <td>20.0</td>\n",
              "      <td>924.0</td>\n",
              "      <td>315.0</td>\n",
              "    </tr>\n",
              "    <tr>\n",
              "      <th>TOYOTA</th>\n",
              "      <td>18491.0</td>\n",
              "      <td>19133.0</td>\n",
              "      <td>13817.0</td>\n",
              "      <td>12923.0</td>\n",
              "      <td>7704.0</td>\n",
              "      <td>9633.0</td>\n",
              "      <td>3545.0</td>\n",
              "    </tr>\n",
              "    <tr>\n",
              "      <th>TRIUMPH</th>\n",
              "      <td>1.0</td>\n",
              "      <td>3.0</td>\n",
              "      <td>2.0</td>\n",
              "      <td>NaN</td>\n",
              "      <td>1.0</td>\n",
              "      <td>NaN</td>\n",
              "      <td>2.0</td>\n",
              "    </tr>\n",
              "    <tr>\n",
              "      <th>VOLKSWAGEN</th>\n",
              "      <td>2779.0</td>\n",
              "      <td>2450.0</td>\n",
              "      <td>2420.0</td>\n",
              "      <td>1726.0</td>\n",
              "      <td>1334.0</td>\n",
              "      <td>915.0</td>\n",
              "      <td>241.0</td>\n",
              "    </tr>\n",
              "    <tr>\n",
              "      <th>VOLVO</th>\n",
              "      <td>1485.0</td>\n",
              "      <td>1526.0</td>\n",
              "      <td>1416.0</td>\n",
              "      <td>874.0</td>\n",
              "      <td>712.0</td>\n",
              "      <td>510.0</td>\n",
              "      <td>185.0</td>\n",
              "    </tr>\n",
              "  </tbody>\n",
              "</table>\n",
              "<p>71 rows × 7 columns</p>\n",
              "</div>\n",
              "      <button class=\"colab-df-convert\" onclick=\"convertToInteractive('df-9a79d596-a74a-4592-bbbd-5154af1d4589')\"\n",
              "              title=\"Convert this dataframe to an interactive table.\"\n",
              "              style=\"display:none;\">\n",
              "        \n",
              "  <svg xmlns=\"http://www.w3.org/2000/svg\" height=\"24px\"viewBox=\"0 0 24 24\"\n",
              "       width=\"24px\">\n",
              "    <path d=\"M0 0h24v24H0V0z\" fill=\"none\"/>\n",
              "    <path d=\"M18.56 5.44l.94 2.06.94-2.06 2.06-.94-2.06-.94-.94-2.06-.94 2.06-2.06.94zm-11 1L8.5 8.5l.94-2.06 2.06-.94-2.06-.94L8.5 2.5l-.94 2.06-2.06.94zm10 10l.94 2.06.94-2.06 2.06-.94-2.06-.94-.94-2.06-.94 2.06-2.06.94z\"/><path d=\"M17.41 7.96l-1.37-1.37c-.4-.4-.92-.59-1.43-.59-.52 0-1.04.2-1.43.59L10.3 9.45l-7.72 7.72c-.78.78-.78 2.05 0 2.83L4 21.41c.39.39.9.59 1.41.59.51 0 1.02-.2 1.41-.59l7.78-7.78 2.81-2.81c.8-.78.8-2.07 0-2.86zM5.41 20L4 18.59l7.72-7.72 1.47 1.35L5.41 20z\"/>\n",
              "  </svg>\n",
              "      </button>\n",
              "      \n",
              "  <style>\n",
              "    .colab-df-container {\n",
              "      display:flex;\n",
              "      flex-wrap:wrap;\n",
              "      gap: 12px;\n",
              "    }\n",
              "\n",
              "    .colab-df-convert {\n",
              "      background-color: #E8F0FE;\n",
              "      border: none;\n",
              "      border-radius: 50%;\n",
              "      cursor: pointer;\n",
              "      display: none;\n",
              "      fill: #1967D2;\n",
              "      height: 32px;\n",
              "      padding: 0 0 0 0;\n",
              "      width: 32px;\n",
              "    }\n",
              "\n",
              "    .colab-df-convert:hover {\n",
              "      background-color: #E2EBFA;\n",
              "      box-shadow: 0px 1px 2px rgba(60, 64, 67, 0.3), 0px 1px 3px 1px rgba(60, 64, 67, 0.15);\n",
              "      fill: #174EA6;\n",
              "    }\n",
              "\n",
              "    [theme=dark] .colab-df-convert {\n",
              "      background-color: #3B4455;\n",
              "      fill: #D2E3FC;\n",
              "    }\n",
              "\n",
              "    [theme=dark] .colab-df-convert:hover {\n",
              "      background-color: #434B5C;\n",
              "      box-shadow: 0px 1px 3px 1px rgba(0, 0, 0, 0.15);\n",
              "      filter: drop-shadow(0px 1px 2px rgba(0, 0, 0, 0.3));\n",
              "      fill: #FFFFFF;\n",
              "    }\n",
              "  </style>\n",
              "\n",
              "      <script>\n",
              "        const buttonEl =\n",
              "          document.querySelector('#df-9a79d596-a74a-4592-bbbd-5154af1d4589 button.colab-df-convert');\n",
              "        buttonEl.style.display =\n",
              "          google.colab.kernel.accessAllowed ? 'block' : 'none';\n",
              "\n",
              "        async function convertToInteractive(key) {\n",
              "          const element = document.querySelector('#df-9a79d596-a74a-4592-bbbd-5154af1d4589');\n",
              "          const dataTable =\n",
              "            await google.colab.kernel.invokeFunction('convertToInteractive',\n",
              "                                                     [key], {});\n",
              "          if (!dataTable) return;\n",
              "\n",
              "          const docLinkHtml = 'Like what you see? Visit the ' +\n",
              "            '<a target=\"_blank\" href=https://colab.research.google.com/notebooks/data_table.ipynb>data table notebook</a>'\n",
              "            + ' to learn more about interactive tables.';\n",
              "          element.innerHTML = '';\n",
              "          dataTable['output_type'] = 'display_data';\n",
              "          await google.colab.output.renderOutput(dataTable, element);\n",
              "          const docLink = document.createElement('div');\n",
              "          docLink.innerHTML = docLinkHtml;\n",
              "          element.appendChild(docLink);\n",
              "        }\n",
              "      </script>\n",
              "    </div>\n",
              "  </div>\n",
              "  "
            ]
          },
          "metadata": {},
          "execution_count": 130
        }
      ]
    },
    {
      "cell_type": "markdown",
      "source": [
        "Internally, Pandas uses `groupby` to implement `pivot_table`."
      ],
      "metadata": {
        "id": "O2_lRg7FNtvW"
      }
    },
    {
      "cell_type": "markdown",
      "source": [
        "#### **Why do I need to know how things are implemented within Pandas?**\n",
        "\n",
        "Usually the function (e.g. `groupby`) used for implementing other functions (e.g. `pivot_table`, `crosstab`) can be more powerful and flexible as it is considered a more fundamental operation, but it may not be as user-friendly e.g. more parameters may need to be specified or additional operations required to achieve the same thing. It is not necessary to understand the internals of Pandas to use it, but it could help us navigate which might be the most suitable function to use for a given problem."
      ],
      "metadata": {
        "id": "SKDT04c1OgFG"
      }
    },
    {
      "cell_type": "markdown",
      "source": [
        "### Reshaping data\n",
        "\n",
        "\"A dataset can be written in two different formats: wide and long. A **wide** format contains values that do not repeat in the first column. A **long** format contains values that do repeat in the first column. Notice that in the wide dataset, each value in the first column is unique.\"\n",
        "\n",
        "<img src=\"https://www.statology.org/wp-content/uploads/2021/12/wideLong1-1.png\"/>\n",
        "\n",
        "Image credit: https://www.statology.org/long-vs-wide-data/\n",
        "\n",
        "Applied researchers often collect, store and analyze their data in the wide format. Classic ANOVA and MANOVA techniques for repeated measures and structural equation models for longitudinal data assume the wide format. Modern multilevel techniques and statistical graphs, however, sometimes work only from the long format. \n",
        "\n",
        "Now let's find out how we can convert between these two format in Pandas."
      ],
      "metadata": {
        "id": "t8psMFVvTalG"
      }
    },
    {
      "cell_type": "markdown",
      "source": [
        "#### **Melting (wide to long)**\n",
        "\n",
        "The `DataFrame` generated from aggregating above is an example of wide format data. Let's convert it to long:"
      ],
      "metadata": {
        "id": "-dakPHT2V6J4"
      }
    },
    {
      "cell_type": "code",
      "source": [
        "cars_monthly_melted = cars_monthly_pivoted.melt(var_name='year', value_name='number', ignore_index=False)\n",
        "cars_monthly_melted"
      ],
      "metadata": {
        "colab": {
          "base_uri": "https://localhost:8080/",
          "height": 455
        },
        "id": "7kRPgQxMSSaJ",
        "outputId": "2e558d35-2159-41de-8f88-3f54eb8a31fb"
      },
      "execution_count": 131,
      "outputs": [
        {
          "output_type": "execute_result",
          "data": {
            "text/plain": [
              "              year  number\n",
              "make                      \n",
              "ALFA ROMEO    2016    39.0\n",
              "ALPINA        2016    12.0\n",
              "ALPINE        2016     NaN\n",
              "ASTON MARTIN  2016    14.0\n",
              "AUDI          2016  2360.0\n",
              "...            ...     ...\n",
              "TESLA         2022   315.0\n",
              "TOYOTA        2022  3545.0\n",
              "TRIUMPH       2022     2.0\n",
              "VOLKSWAGEN    2022   241.0\n",
              "VOLVO         2022   185.0\n",
              "\n",
              "[497 rows x 2 columns]"
            ],
            "text/html": [
              "\n",
              "  <div id=\"df-f8b95a32-bee3-4a10-a157-2dfb8ada97a8\">\n",
              "    <div class=\"colab-df-container\">\n",
              "      <div>\n",
              "<style scoped>\n",
              "    .dataframe tbody tr th:only-of-type {\n",
              "        vertical-align: middle;\n",
              "    }\n",
              "\n",
              "    .dataframe tbody tr th {\n",
              "        vertical-align: top;\n",
              "    }\n",
              "\n",
              "    .dataframe thead th {\n",
              "        text-align: right;\n",
              "    }\n",
              "</style>\n",
              "<table border=\"1\" class=\"dataframe\">\n",
              "  <thead>\n",
              "    <tr style=\"text-align: right;\">\n",
              "      <th></th>\n",
              "      <th>year</th>\n",
              "      <th>number</th>\n",
              "    </tr>\n",
              "    <tr>\n",
              "      <th>make</th>\n",
              "      <th></th>\n",
              "      <th></th>\n",
              "    </tr>\n",
              "  </thead>\n",
              "  <tbody>\n",
              "    <tr>\n",
              "      <th>ALFA ROMEO</th>\n",
              "      <td>2016</td>\n",
              "      <td>39.0</td>\n",
              "    </tr>\n",
              "    <tr>\n",
              "      <th>ALPINA</th>\n",
              "      <td>2016</td>\n",
              "      <td>12.0</td>\n",
              "    </tr>\n",
              "    <tr>\n",
              "      <th>ALPINE</th>\n",
              "      <td>2016</td>\n",
              "      <td>NaN</td>\n",
              "    </tr>\n",
              "    <tr>\n",
              "      <th>ASTON MARTIN</th>\n",
              "      <td>2016</td>\n",
              "      <td>14.0</td>\n",
              "    </tr>\n",
              "    <tr>\n",
              "      <th>AUDI</th>\n",
              "      <td>2016</td>\n",
              "      <td>2360.0</td>\n",
              "    </tr>\n",
              "    <tr>\n",
              "      <th>...</th>\n",
              "      <td>...</td>\n",
              "      <td>...</td>\n",
              "    </tr>\n",
              "    <tr>\n",
              "      <th>TESLA</th>\n",
              "      <td>2022</td>\n",
              "      <td>315.0</td>\n",
              "    </tr>\n",
              "    <tr>\n",
              "      <th>TOYOTA</th>\n",
              "      <td>2022</td>\n",
              "      <td>3545.0</td>\n",
              "    </tr>\n",
              "    <tr>\n",
              "      <th>TRIUMPH</th>\n",
              "      <td>2022</td>\n",
              "      <td>2.0</td>\n",
              "    </tr>\n",
              "    <tr>\n",
              "      <th>VOLKSWAGEN</th>\n",
              "      <td>2022</td>\n",
              "      <td>241.0</td>\n",
              "    </tr>\n",
              "    <tr>\n",
              "      <th>VOLVO</th>\n",
              "      <td>2022</td>\n",
              "      <td>185.0</td>\n",
              "    </tr>\n",
              "  </tbody>\n",
              "</table>\n",
              "<p>497 rows × 2 columns</p>\n",
              "</div>\n",
              "      <button class=\"colab-df-convert\" onclick=\"convertToInteractive('df-f8b95a32-bee3-4a10-a157-2dfb8ada97a8')\"\n",
              "              title=\"Convert this dataframe to an interactive table.\"\n",
              "              style=\"display:none;\">\n",
              "        \n",
              "  <svg xmlns=\"http://www.w3.org/2000/svg\" height=\"24px\"viewBox=\"0 0 24 24\"\n",
              "       width=\"24px\">\n",
              "    <path d=\"M0 0h24v24H0V0z\" fill=\"none\"/>\n",
              "    <path d=\"M18.56 5.44l.94 2.06.94-2.06 2.06-.94-2.06-.94-.94-2.06-.94 2.06-2.06.94zm-11 1L8.5 8.5l.94-2.06 2.06-.94-2.06-.94L8.5 2.5l-.94 2.06-2.06.94zm10 10l.94 2.06.94-2.06 2.06-.94-2.06-.94-.94-2.06-.94 2.06-2.06.94z\"/><path d=\"M17.41 7.96l-1.37-1.37c-.4-.4-.92-.59-1.43-.59-.52 0-1.04.2-1.43.59L10.3 9.45l-7.72 7.72c-.78.78-.78 2.05 0 2.83L4 21.41c.39.39.9.59 1.41.59.51 0 1.02-.2 1.41-.59l7.78-7.78 2.81-2.81c.8-.78.8-2.07 0-2.86zM5.41 20L4 18.59l7.72-7.72 1.47 1.35L5.41 20z\"/>\n",
              "  </svg>\n",
              "      </button>\n",
              "      \n",
              "  <style>\n",
              "    .colab-df-container {\n",
              "      display:flex;\n",
              "      flex-wrap:wrap;\n",
              "      gap: 12px;\n",
              "    }\n",
              "\n",
              "    .colab-df-convert {\n",
              "      background-color: #E8F0FE;\n",
              "      border: none;\n",
              "      border-radius: 50%;\n",
              "      cursor: pointer;\n",
              "      display: none;\n",
              "      fill: #1967D2;\n",
              "      height: 32px;\n",
              "      padding: 0 0 0 0;\n",
              "      width: 32px;\n",
              "    }\n",
              "\n",
              "    .colab-df-convert:hover {\n",
              "      background-color: #E2EBFA;\n",
              "      box-shadow: 0px 1px 2px rgba(60, 64, 67, 0.3), 0px 1px 3px 1px rgba(60, 64, 67, 0.15);\n",
              "      fill: #174EA6;\n",
              "    }\n",
              "\n",
              "    [theme=dark] .colab-df-convert {\n",
              "      background-color: #3B4455;\n",
              "      fill: #D2E3FC;\n",
              "    }\n",
              "\n",
              "    [theme=dark] .colab-df-convert:hover {\n",
              "      background-color: #434B5C;\n",
              "      box-shadow: 0px 1px 3px 1px rgba(0, 0, 0, 0.15);\n",
              "      filter: drop-shadow(0px 1px 2px rgba(0, 0, 0, 0.3));\n",
              "      fill: #FFFFFF;\n",
              "    }\n",
              "  </style>\n",
              "\n",
              "      <script>\n",
              "        const buttonEl =\n",
              "          document.querySelector('#df-f8b95a32-bee3-4a10-a157-2dfb8ada97a8 button.colab-df-convert');\n",
              "        buttonEl.style.display =\n",
              "          google.colab.kernel.accessAllowed ? 'block' : 'none';\n",
              "\n",
              "        async function convertToInteractive(key) {\n",
              "          const element = document.querySelector('#df-f8b95a32-bee3-4a10-a157-2dfb8ada97a8');\n",
              "          const dataTable =\n",
              "            await google.colab.kernel.invokeFunction('convertToInteractive',\n",
              "                                                     [key], {});\n",
              "          if (!dataTable) return;\n",
              "\n",
              "          const docLinkHtml = 'Like what you see? Visit the ' +\n",
              "            '<a target=\"_blank\" href=https://colab.research.google.com/notebooks/data_table.ipynb>data table notebook</a>'\n",
              "            + ' to learn more about interactive tables.';\n",
              "          element.innerHTML = '';\n",
              "          dataTable['output_type'] = 'display_data';\n",
              "          await google.colab.output.renderOutput(dataTable, element);\n",
              "          const docLink = document.createElement('div');\n",
              "          docLink.innerHTML = docLinkHtml;\n",
              "          element.appendChild(docLink);\n",
              "        }\n",
              "      </script>\n",
              "    </div>\n",
              "  </div>\n",
              "  "
            ]
          },
          "metadata": {},
          "execution_count": 131
        }
      ]
    },
    {
      "cell_type": "markdown",
      "source": [
        "#### **Pivoting (long to wide)**\n",
        "\n",
        "We can use `pivot` to convert the long format back to wide format:"
      ],
      "metadata": {
        "id": "Yvr-CwDLXVLv"
      }
    },
    {
      "cell_type": "code",
      "source": [
        "cars_monthly_melted.pivot(columns='year')"
      ],
      "metadata": {
        "colab": {
          "base_uri": "https://localhost:8080/",
          "height": 486
        },
        "id": "3DMnMdPiXh9e",
        "outputId": "0c00e349-fe34-4aaa-8e46-94c07da8f88b"
      },
      "execution_count": 132,
      "outputs": [
        {
          "output_type": "execute_result",
          "data": {
            "text/plain": [
              "               number                                                   \n",
              "year             2016     2017     2018     2019    2020    2021    2022\n",
              "make                                                                    \n",
              "ALFA ROMEO       39.0     12.0     50.0     60.0    39.0    37.0     9.0\n",
              "ALPINA           12.0     23.0     11.0      2.0     8.0     2.0     NaN\n",
              "ALPINE            NaN      NaN      NaN     14.0     7.0    11.0     3.0\n",
              "ASTON MARTIN     14.0     29.0     26.0     21.0    28.0    27.0    16.0\n",
              "AUDI           2360.0   2604.0   2941.0   2487.0  2228.0  1975.0   445.0\n",
              "...               ...      ...      ...      ...     ...     ...     ...\n",
              "TESLA             3.0      NaN      4.0     14.0    20.0   924.0   315.0\n",
              "TOYOTA        18491.0  19133.0  13817.0  12923.0  7704.0  9633.0  3545.0\n",
              "TRIUMPH           1.0      3.0      2.0      NaN     1.0     NaN     2.0\n",
              "VOLKSWAGEN     2779.0   2450.0   2420.0   1726.0  1334.0   915.0   241.0\n",
              "VOLVO          1485.0   1526.0   1416.0    874.0   712.0   510.0   185.0\n",
              "\n",
              "[71 rows x 7 columns]"
            ],
            "text/html": [
              "\n",
              "  <div id=\"df-36da0e22-8eca-4c14-afdd-60930d18256f\">\n",
              "    <div class=\"colab-df-container\">\n",
              "      <div>\n",
              "<style scoped>\n",
              "    .dataframe tbody tr th:only-of-type {\n",
              "        vertical-align: middle;\n",
              "    }\n",
              "\n",
              "    .dataframe tbody tr th {\n",
              "        vertical-align: top;\n",
              "    }\n",
              "\n",
              "    .dataframe thead tr th {\n",
              "        text-align: left;\n",
              "    }\n",
              "\n",
              "    .dataframe thead tr:last-of-type th {\n",
              "        text-align: right;\n",
              "    }\n",
              "</style>\n",
              "<table border=\"1\" class=\"dataframe\">\n",
              "  <thead>\n",
              "    <tr>\n",
              "      <th></th>\n",
              "      <th colspan=\"7\" halign=\"left\">number</th>\n",
              "    </tr>\n",
              "    <tr>\n",
              "      <th>year</th>\n",
              "      <th>2016</th>\n",
              "      <th>2017</th>\n",
              "      <th>2018</th>\n",
              "      <th>2019</th>\n",
              "      <th>2020</th>\n",
              "      <th>2021</th>\n",
              "      <th>2022</th>\n",
              "    </tr>\n",
              "    <tr>\n",
              "      <th>make</th>\n",
              "      <th></th>\n",
              "      <th></th>\n",
              "      <th></th>\n",
              "      <th></th>\n",
              "      <th></th>\n",
              "      <th></th>\n",
              "      <th></th>\n",
              "    </tr>\n",
              "  </thead>\n",
              "  <tbody>\n",
              "    <tr>\n",
              "      <th>ALFA ROMEO</th>\n",
              "      <td>39.0</td>\n",
              "      <td>12.0</td>\n",
              "      <td>50.0</td>\n",
              "      <td>60.0</td>\n",
              "      <td>39.0</td>\n",
              "      <td>37.0</td>\n",
              "      <td>9.0</td>\n",
              "    </tr>\n",
              "    <tr>\n",
              "      <th>ALPINA</th>\n",
              "      <td>12.0</td>\n",
              "      <td>23.0</td>\n",
              "      <td>11.0</td>\n",
              "      <td>2.0</td>\n",
              "      <td>8.0</td>\n",
              "      <td>2.0</td>\n",
              "      <td>NaN</td>\n",
              "    </tr>\n",
              "    <tr>\n",
              "      <th>ALPINE</th>\n",
              "      <td>NaN</td>\n",
              "      <td>NaN</td>\n",
              "      <td>NaN</td>\n",
              "      <td>14.0</td>\n",
              "      <td>7.0</td>\n",
              "      <td>11.0</td>\n",
              "      <td>3.0</td>\n",
              "    </tr>\n",
              "    <tr>\n",
              "      <th>ASTON MARTIN</th>\n",
              "      <td>14.0</td>\n",
              "      <td>29.0</td>\n",
              "      <td>26.0</td>\n",
              "      <td>21.0</td>\n",
              "      <td>28.0</td>\n",
              "      <td>27.0</td>\n",
              "      <td>16.0</td>\n",
              "    </tr>\n",
              "    <tr>\n",
              "      <th>AUDI</th>\n",
              "      <td>2360.0</td>\n",
              "      <td>2604.0</td>\n",
              "      <td>2941.0</td>\n",
              "      <td>2487.0</td>\n",
              "      <td>2228.0</td>\n",
              "      <td>1975.0</td>\n",
              "      <td>445.0</td>\n",
              "    </tr>\n",
              "    <tr>\n",
              "      <th>...</th>\n",
              "      <td>...</td>\n",
              "      <td>...</td>\n",
              "      <td>...</td>\n",
              "      <td>...</td>\n",
              "      <td>...</td>\n",
              "      <td>...</td>\n",
              "      <td>...</td>\n",
              "    </tr>\n",
              "    <tr>\n",
              "      <th>TESLA</th>\n",
              "      <td>3.0</td>\n",
              "      <td>NaN</td>\n",
              "      <td>4.0</td>\n",
              "      <td>14.0</td>\n",
              "      <td>20.0</td>\n",
              "      <td>924.0</td>\n",
              "      <td>315.0</td>\n",
              "    </tr>\n",
              "    <tr>\n",
              "      <th>TOYOTA</th>\n",
              "      <td>18491.0</td>\n",
              "      <td>19133.0</td>\n",
              "      <td>13817.0</td>\n",
              "      <td>12923.0</td>\n",
              "      <td>7704.0</td>\n",
              "      <td>9633.0</td>\n",
              "      <td>3545.0</td>\n",
              "    </tr>\n",
              "    <tr>\n",
              "      <th>TRIUMPH</th>\n",
              "      <td>1.0</td>\n",
              "      <td>3.0</td>\n",
              "      <td>2.0</td>\n",
              "      <td>NaN</td>\n",
              "      <td>1.0</td>\n",
              "      <td>NaN</td>\n",
              "      <td>2.0</td>\n",
              "    </tr>\n",
              "    <tr>\n",
              "      <th>VOLKSWAGEN</th>\n",
              "      <td>2779.0</td>\n",
              "      <td>2450.0</td>\n",
              "      <td>2420.0</td>\n",
              "      <td>1726.0</td>\n",
              "      <td>1334.0</td>\n",
              "      <td>915.0</td>\n",
              "      <td>241.0</td>\n",
              "    </tr>\n",
              "    <tr>\n",
              "      <th>VOLVO</th>\n",
              "      <td>1485.0</td>\n",
              "      <td>1526.0</td>\n",
              "      <td>1416.0</td>\n",
              "      <td>874.0</td>\n",
              "      <td>712.0</td>\n",
              "      <td>510.0</td>\n",
              "      <td>185.0</td>\n",
              "    </tr>\n",
              "  </tbody>\n",
              "</table>\n",
              "<p>71 rows × 7 columns</p>\n",
              "</div>\n",
              "      <button class=\"colab-df-convert\" onclick=\"convertToInteractive('df-36da0e22-8eca-4c14-afdd-60930d18256f')\"\n",
              "              title=\"Convert this dataframe to an interactive table.\"\n",
              "              style=\"display:none;\">\n",
              "        \n",
              "  <svg xmlns=\"http://www.w3.org/2000/svg\" height=\"24px\"viewBox=\"0 0 24 24\"\n",
              "       width=\"24px\">\n",
              "    <path d=\"M0 0h24v24H0V0z\" fill=\"none\"/>\n",
              "    <path d=\"M18.56 5.44l.94 2.06.94-2.06 2.06-.94-2.06-.94-.94-2.06-.94 2.06-2.06.94zm-11 1L8.5 8.5l.94-2.06 2.06-.94-2.06-.94L8.5 2.5l-.94 2.06-2.06.94zm10 10l.94 2.06.94-2.06 2.06-.94-2.06-.94-.94-2.06-.94 2.06-2.06.94z\"/><path d=\"M17.41 7.96l-1.37-1.37c-.4-.4-.92-.59-1.43-.59-.52 0-1.04.2-1.43.59L10.3 9.45l-7.72 7.72c-.78.78-.78 2.05 0 2.83L4 21.41c.39.39.9.59 1.41.59.51 0 1.02-.2 1.41-.59l7.78-7.78 2.81-2.81c.8-.78.8-2.07 0-2.86zM5.41 20L4 18.59l7.72-7.72 1.47 1.35L5.41 20z\"/>\n",
              "  </svg>\n",
              "      </button>\n",
              "      \n",
              "  <style>\n",
              "    .colab-df-container {\n",
              "      display:flex;\n",
              "      flex-wrap:wrap;\n",
              "      gap: 12px;\n",
              "    }\n",
              "\n",
              "    .colab-df-convert {\n",
              "      background-color: #E8F0FE;\n",
              "      border: none;\n",
              "      border-radius: 50%;\n",
              "      cursor: pointer;\n",
              "      display: none;\n",
              "      fill: #1967D2;\n",
              "      height: 32px;\n",
              "      padding: 0 0 0 0;\n",
              "      width: 32px;\n",
              "    }\n",
              "\n",
              "    .colab-df-convert:hover {\n",
              "      background-color: #E2EBFA;\n",
              "      box-shadow: 0px 1px 2px rgba(60, 64, 67, 0.3), 0px 1px 3px 1px rgba(60, 64, 67, 0.15);\n",
              "      fill: #174EA6;\n",
              "    }\n",
              "\n",
              "    [theme=dark] .colab-df-convert {\n",
              "      background-color: #3B4455;\n",
              "      fill: #D2E3FC;\n",
              "    }\n",
              "\n",
              "    [theme=dark] .colab-df-convert:hover {\n",
              "      background-color: #434B5C;\n",
              "      box-shadow: 0px 1px 3px 1px rgba(0, 0, 0, 0.15);\n",
              "      filter: drop-shadow(0px 1px 2px rgba(0, 0, 0, 0.3));\n",
              "      fill: #FFFFFF;\n",
              "    }\n",
              "  </style>\n",
              "\n",
              "      <script>\n",
              "        const buttonEl =\n",
              "          document.querySelector('#df-36da0e22-8eca-4c14-afdd-60930d18256f button.colab-df-convert');\n",
              "        buttonEl.style.display =\n",
              "          google.colab.kernel.accessAllowed ? 'block' : 'none';\n",
              "\n",
              "        async function convertToInteractive(key) {\n",
              "          const element = document.querySelector('#df-36da0e22-8eca-4c14-afdd-60930d18256f');\n",
              "          const dataTable =\n",
              "            await google.colab.kernel.invokeFunction('convertToInteractive',\n",
              "                                                     [key], {});\n",
              "          if (!dataTable) return;\n",
              "\n",
              "          const docLinkHtml = 'Like what you see? Visit the ' +\n",
              "            '<a target=\"_blank\" href=https://colab.research.google.com/notebooks/data_table.ipynb>data table notebook</a>'\n",
              "            + ' to learn more about interactive tables.';\n",
              "          element.innerHTML = '';\n",
              "          dataTable['output_type'] = 'display_data';\n",
              "          await google.colab.output.renderOutput(dataTable, element);\n",
              "          const docLink = document.createElement('div');\n",
              "          docLink.innerHTML = docLinkHtml;\n",
              "          element.appendChild(docLink);\n",
              "        }\n",
              "      </script>\n",
              "    </div>\n",
              "  </div>\n",
              "  "
            ]
          },
          "metadata": {},
          "execution_count": 132
        }
      ]
    },
    {
      "cell_type": "markdown",
      "source": [
        "#### **Transposing**\n",
        "\n",
        "Sometimes we might simply need to flip the rows and columns:"
      ],
      "metadata": {
        "id": "hDteTwuTalq9"
      }
    },
    {
      "cell_type": "code",
      "source": [
        "cars_monthly_pivoted.T"
      ],
      "metadata": {
        "colab": {
          "base_uri": "https://localhost:8080/",
          "height": 411
        },
        "id": "Gncb3jQia50u",
        "outputId": "2f038072-38b5-4875-f9c4-b5a9265c309b"
      },
      "execution_count": 133,
      "outputs": [
        {
          "output_type": "execute_result",
          "data": {
            "text/plain": [
              "make  ALFA ROMEO  ALPINA  ALPINE  ASTON MARTIN    AUDI  AUSTIN  B.M.W.  \\\n",
              "year                                                                     \n",
              "2016        39.0    12.0     NaN          14.0  2360.0     NaN  4582.0   \n",
              "2017        12.0    23.0     NaN          29.0  2604.0     1.0  5591.0   \n",
              "2018        50.0    11.0     NaN          26.0  2941.0     NaN  5405.0   \n",
              "2019        60.0     2.0    14.0          21.0  2487.0     2.0  5346.0   \n",
              "2020        39.0     8.0     7.0          28.0  2228.0     1.0  4349.0   \n",
              "2021        37.0     2.0    11.0          27.0  1975.0     2.0  5255.0   \n",
              "2022         9.0     NaN     3.0          16.0   445.0     2.0  1851.0   \n",
              "\n",
              "make  BENTLEY  BLUECAR    BYD  ...  SKODA  SMART  SSANGYONG  SUBARU  SUZUKI  \\\n",
              "year                           ...                                            \n",
              "2016     53.0      NaN    7.0  ...    2.0    NaN      279.0  2902.0   496.0   \n",
              "2017     70.0    235.0   63.0  ...    6.0    NaN      388.0  3239.0   501.0   \n",
              "2018     61.0    180.0   32.0  ...  452.0    4.0       40.0  3196.0   177.0   \n",
              "2019     69.0    265.0    7.0  ...  849.0    1.0       47.0  1261.0   467.0   \n",
              "2020     76.0      NaN    3.0  ...  663.0    NaN      232.0   740.0   317.0   \n",
              "2021    103.0     30.0   89.0  ...  470.0    NaN      135.0   346.0   378.0   \n",
              "2022     68.0     75.0  300.0  ...  108.0    1.0      217.0    94.0    79.0   \n",
              "\n",
              "make  TESLA   TOYOTA  TRIUMPH  VOLKSWAGEN   VOLVO  \n",
              "year                                               \n",
              "2016    3.0  18491.0      1.0      2779.0  1485.0  \n",
              "2017    NaN  19133.0      3.0      2450.0  1526.0  \n",
              "2018    4.0  13817.0      2.0      2420.0  1416.0  \n",
              "2019   14.0  12923.0      NaN      1726.0   874.0  \n",
              "2020   20.0   7704.0      1.0      1334.0   712.0  \n",
              "2021  924.0   9633.0      NaN       915.0   510.0  \n",
              "2022  315.0   3545.0      2.0       241.0   185.0  \n",
              "\n",
              "[7 rows x 71 columns]"
            ],
            "text/html": [
              "\n",
              "  <div id=\"df-8eb778a9-71a2-4178-ab4e-dda28d247caf\">\n",
              "    <div class=\"colab-df-container\">\n",
              "      <div>\n",
              "<style scoped>\n",
              "    .dataframe tbody tr th:only-of-type {\n",
              "        vertical-align: middle;\n",
              "    }\n",
              "\n",
              "    .dataframe tbody tr th {\n",
              "        vertical-align: top;\n",
              "    }\n",
              "\n",
              "    .dataframe thead th {\n",
              "        text-align: right;\n",
              "    }\n",
              "</style>\n",
              "<table border=\"1\" class=\"dataframe\">\n",
              "  <thead>\n",
              "    <tr style=\"text-align: right;\">\n",
              "      <th>make</th>\n",
              "      <th>ALFA ROMEO</th>\n",
              "      <th>ALPINA</th>\n",
              "      <th>ALPINE</th>\n",
              "      <th>ASTON MARTIN</th>\n",
              "      <th>AUDI</th>\n",
              "      <th>AUSTIN</th>\n",
              "      <th>B.M.W.</th>\n",
              "      <th>BENTLEY</th>\n",
              "      <th>BLUECAR</th>\n",
              "      <th>BYD</th>\n",
              "      <th>...</th>\n",
              "      <th>SKODA</th>\n",
              "      <th>SMART</th>\n",
              "      <th>SSANGYONG</th>\n",
              "      <th>SUBARU</th>\n",
              "      <th>SUZUKI</th>\n",
              "      <th>TESLA</th>\n",
              "      <th>TOYOTA</th>\n",
              "      <th>TRIUMPH</th>\n",
              "      <th>VOLKSWAGEN</th>\n",
              "      <th>VOLVO</th>\n",
              "    </tr>\n",
              "    <tr>\n",
              "      <th>year</th>\n",
              "      <th></th>\n",
              "      <th></th>\n",
              "      <th></th>\n",
              "      <th></th>\n",
              "      <th></th>\n",
              "      <th></th>\n",
              "      <th></th>\n",
              "      <th></th>\n",
              "      <th></th>\n",
              "      <th></th>\n",
              "      <th></th>\n",
              "      <th></th>\n",
              "      <th></th>\n",
              "      <th></th>\n",
              "      <th></th>\n",
              "      <th></th>\n",
              "      <th></th>\n",
              "      <th></th>\n",
              "      <th></th>\n",
              "      <th></th>\n",
              "      <th></th>\n",
              "    </tr>\n",
              "  </thead>\n",
              "  <tbody>\n",
              "    <tr>\n",
              "      <th>2016</th>\n",
              "      <td>39.0</td>\n",
              "      <td>12.0</td>\n",
              "      <td>NaN</td>\n",
              "      <td>14.0</td>\n",
              "      <td>2360.0</td>\n",
              "      <td>NaN</td>\n",
              "      <td>4582.0</td>\n",
              "      <td>53.0</td>\n",
              "      <td>NaN</td>\n",
              "      <td>7.0</td>\n",
              "      <td>...</td>\n",
              "      <td>2.0</td>\n",
              "      <td>NaN</td>\n",
              "      <td>279.0</td>\n",
              "      <td>2902.0</td>\n",
              "      <td>496.0</td>\n",
              "      <td>3.0</td>\n",
              "      <td>18491.0</td>\n",
              "      <td>1.0</td>\n",
              "      <td>2779.0</td>\n",
              "      <td>1485.0</td>\n",
              "    </tr>\n",
              "    <tr>\n",
              "      <th>2017</th>\n",
              "      <td>12.0</td>\n",
              "      <td>23.0</td>\n",
              "      <td>NaN</td>\n",
              "      <td>29.0</td>\n",
              "      <td>2604.0</td>\n",
              "      <td>1.0</td>\n",
              "      <td>5591.0</td>\n",
              "      <td>70.0</td>\n",
              "      <td>235.0</td>\n",
              "      <td>63.0</td>\n",
              "      <td>...</td>\n",
              "      <td>6.0</td>\n",
              "      <td>NaN</td>\n",
              "      <td>388.0</td>\n",
              "      <td>3239.0</td>\n",
              "      <td>501.0</td>\n",
              "      <td>NaN</td>\n",
              "      <td>19133.0</td>\n",
              "      <td>3.0</td>\n",
              "      <td>2450.0</td>\n",
              "      <td>1526.0</td>\n",
              "    </tr>\n",
              "    <tr>\n",
              "      <th>2018</th>\n",
              "      <td>50.0</td>\n",
              "      <td>11.0</td>\n",
              "      <td>NaN</td>\n",
              "      <td>26.0</td>\n",
              "      <td>2941.0</td>\n",
              "      <td>NaN</td>\n",
              "      <td>5405.0</td>\n",
              "      <td>61.0</td>\n",
              "      <td>180.0</td>\n",
              "      <td>32.0</td>\n",
              "      <td>...</td>\n",
              "      <td>452.0</td>\n",
              "      <td>4.0</td>\n",
              "      <td>40.0</td>\n",
              "      <td>3196.0</td>\n",
              "      <td>177.0</td>\n",
              "      <td>4.0</td>\n",
              "      <td>13817.0</td>\n",
              "      <td>2.0</td>\n",
              "      <td>2420.0</td>\n",
              "      <td>1416.0</td>\n",
              "    </tr>\n",
              "    <tr>\n",
              "      <th>2019</th>\n",
              "      <td>60.0</td>\n",
              "      <td>2.0</td>\n",
              "      <td>14.0</td>\n",
              "      <td>21.0</td>\n",
              "      <td>2487.0</td>\n",
              "      <td>2.0</td>\n",
              "      <td>5346.0</td>\n",
              "      <td>69.0</td>\n",
              "      <td>265.0</td>\n",
              "      <td>7.0</td>\n",
              "      <td>...</td>\n",
              "      <td>849.0</td>\n",
              "      <td>1.0</td>\n",
              "      <td>47.0</td>\n",
              "      <td>1261.0</td>\n",
              "      <td>467.0</td>\n",
              "      <td>14.0</td>\n",
              "      <td>12923.0</td>\n",
              "      <td>NaN</td>\n",
              "      <td>1726.0</td>\n",
              "      <td>874.0</td>\n",
              "    </tr>\n",
              "    <tr>\n",
              "      <th>2020</th>\n",
              "      <td>39.0</td>\n",
              "      <td>8.0</td>\n",
              "      <td>7.0</td>\n",
              "      <td>28.0</td>\n",
              "      <td>2228.0</td>\n",
              "      <td>1.0</td>\n",
              "      <td>4349.0</td>\n",
              "      <td>76.0</td>\n",
              "      <td>NaN</td>\n",
              "      <td>3.0</td>\n",
              "      <td>...</td>\n",
              "      <td>663.0</td>\n",
              "      <td>NaN</td>\n",
              "      <td>232.0</td>\n",
              "      <td>740.0</td>\n",
              "      <td>317.0</td>\n",
              "      <td>20.0</td>\n",
              "      <td>7704.0</td>\n",
              "      <td>1.0</td>\n",
              "      <td>1334.0</td>\n",
              "      <td>712.0</td>\n",
              "    </tr>\n",
              "    <tr>\n",
              "      <th>2021</th>\n",
              "      <td>37.0</td>\n",
              "      <td>2.0</td>\n",
              "      <td>11.0</td>\n",
              "      <td>27.0</td>\n",
              "      <td>1975.0</td>\n",
              "      <td>2.0</td>\n",
              "      <td>5255.0</td>\n",
              "      <td>103.0</td>\n",
              "      <td>30.0</td>\n",
              "      <td>89.0</td>\n",
              "      <td>...</td>\n",
              "      <td>470.0</td>\n",
              "      <td>NaN</td>\n",
              "      <td>135.0</td>\n",
              "      <td>346.0</td>\n",
              "      <td>378.0</td>\n",
              "      <td>924.0</td>\n",
              "      <td>9633.0</td>\n",
              "      <td>NaN</td>\n",
              "      <td>915.0</td>\n",
              "      <td>510.0</td>\n",
              "    </tr>\n",
              "    <tr>\n",
              "      <th>2022</th>\n",
              "      <td>9.0</td>\n",
              "      <td>NaN</td>\n",
              "      <td>3.0</td>\n",
              "      <td>16.0</td>\n",
              "      <td>445.0</td>\n",
              "      <td>2.0</td>\n",
              "      <td>1851.0</td>\n",
              "      <td>68.0</td>\n",
              "      <td>75.0</td>\n",
              "      <td>300.0</td>\n",
              "      <td>...</td>\n",
              "      <td>108.0</td>\n",
              "      <td>1.0</td>\n",
              "      <td>217.0</td>\n",
              "      <td>94.0</td>\n",
              "      <td>79.0</td>\n",
              "      <td>315.0</td>\n",
              "      <td>3545.0</td>\n",
              "      <td>2.0</td>\n",
              "      <td>241.0</td>\n",
              "      <td>185.0</td>\n",
              "    </tr>\n",
              "  </tbody>\n",
              "</table>\n",
              "<p>7 rows × 71 columns</p>\n",
              "</div>\n",
              "      <button class=\"colab-df-convert\" onclick=\"convertToInteractive('df-8eb778a9-71a2-4178-ab4e-dda28d247caf')\"\n",
              "              title=\"Convert this dataframe to an interactive table.\"\n",
              "              style=\"display:none;\">\n",
              "        \n",
              "  <svg xmlns=\"http://www.w3.org/2000/svg\" height=\"24px\"viewBox=\"0 0 24 24\"\n",
              "       width=\"24px\">\n",
              "    <path d=\"M0 0h24v24H0V0z\" fill=\"none\"/>\n",
              "    <path d=\"M18.56 5.44l.94 2.06.94-2.06 2.06-.94-2.06-.94-.94-2.06-.94 2.06-2.06.94zm-11 1L8.5 8.5l.94-2.06 2.06-.94-2.06-.94L8.5 2.5l-.94 2.06-2.06.94zm10 10l.94 2.06.94-2.06 2.06-.94-2.06-.94-.94-2.06-.94 2.06-2.06.94z\"/><path d=\"M17.41 7.96l-1.37-1.37c-.4-.4-.92-.59-1.43-.59-.52 0-1.04.2-1.43.59L10.3 9.45l-7.72 7.72c-.78.78-.78 2.05 0 2.83L4 21.41c.39.39.9.59 1.41.59.51 0 1.02-.2 1.41-.59l7.78-7.78 2.81-2.81c.8-.78.8-2.07 0-2.86zM5.41 20L4 18.59l7.72-7.72 1.47 1.35L5.41 20z\"/>\n",
              "  </svg>\n",
              "      </button>\n",
              "      \n",
              "  <style>\n",
              "    .colab-df-container {\n",
              "      display:flex;\n",
              "      flex-wrap:wrap;\n",
              "      gap: 12px;\n",
              "    }\n",
              "\n",
              "    .colab-df-convert {\n",
              "      background-color: #E8F0FE;\n",
              "      border: none;\n",
              "      border-radius: 50%;\n",
              "      cursor: pointer;\n",
              "      display: none;\n",
              "      fill: #1967D2;\n",
              "      height: 32px;\n",
              "      padding: 0 0 0 0;\n",
              "      width: 32px;\n",
              "    }\n",
              "\n",
              "    .colab-df-convert:hover {\n",
              "      background-color: #E2EBFA;\n",
              "      box-shadow: 0px 1px 2px rgba(60, 64, 67, 0.3), 0px 1px 3px 1px rgba(60, 64, 67, 0.15);\n",
              "      fill: #174EA6;\n",
              "    }\n",
              "\n",
              "    [theme=dark] .colab-df-convert {\n",
              "      background-color: #3B4455;\n",
              "      fill: #D2E3FC;\n",
              "    }\n",
              "\n",
              "    [theme=dark] .colab-df-convert:hover {\n",
              "      background-color: #434B5C;\n",
              "      box-shadow: 0px 1px 3px 1px rgba(0, 0, 0, 0.15);\n",
              "      filter: drop-shadow(0px 1px 2px rgba(0, 0, 0, 0.3));\n",
              "      fill: #FFFFFF;\n",
              "    }\n",
              "  </style>\n",
              "\n",
              "      <script>\n",
              "        const buttonEl =\n",
              "          document.querySelector('#df-8eb778a9-71a2-4178-ab4e-dda28d247caf button.colab-df-convert');\n",
              "        buttonEl.style.display =\n",
              "          google.colab.kernel.accessAllowed ? 'block' : 'none';\n",
              "\n",
              "        async function convertToInteractive(key) {\n",
              "          const element = document.querySelector('#df-8eb778a9-71a2-4178-ab4e-dda28d247caf');\n",
              "          const dataTable =\n",
              "            await google.colab.kernel.invokeFunction('convertToInteractive',\n",
              "                                                     [key], {});\n",
              "          if (!dataTable) return;\n",
              "\n",
              "          const docLinkHtml = 'Like what you see? Visit the ' +\n",
              "            '<a target=\"_blank\" href=https://colab.research.google.com/notebooks/data_table.ipynb>data table notebook</a>'\n",
              "            + ' to learn more about interactive tables.';\n",
              "          element.innerHTML = '';\n",
              "          dataTable['output_type'] = 'display_data';\n",
              "          await google.colab.output.renderOutput(dataTable, element);\n",
              "          const docLink = document.createElement('div');\n",
              "          docLink.innerHTML = docLinkHtml;\n",
              "          element.appendChild(docLink);\n",
              "        }\n",
              "      </script>\n",
              "    </div>\n",
              "  </div>\n",
              "  "
            ]
          },
          "metadata": {},
          "execution_count": 133
        }
      ]
    },
    {
      "cell_type": "markdown",
      "source": [
        "### Merging data\n",
        "\n",
        "When working with multiple datasets a common operation is to merge them using a common identifier. Pandas provides the `merge` function to achieve this. For those familar with relational database, it is very similar to the SQL `JOIN` statement."
      ],
      "metadata": {
        "id": "uS45wPwEeT5b"
      }
    },
    {
      "cell_type": "markdown",
      "source": [
        "#### **Preparing for merge**\n",
        "\n",
        "To demonstrate the power of `merge` let's first aggregate the original Singapore annual new car registration dataset at the make and year level, which will allow us to later join with `cars_annually_melted` and check if the two datasets agree on their numbers:"
      ],
      "metadata": {
        "id": "KQm89NTVMdBK"
      }
    },
    {
      "cell_type": "code",
      "source": [
        "cars_annually_aggregated = singapore_cars_cleaned.pivot_table(index='make', columns='year', values='number', aggfunc='sum')\n",
        "cars_annually_aggregated"
      ],
      "metadata": {
        "colab": {
          "base_uri": "https://localhost:8080/",
          "height": 455
        },
        "id": "PnH9RFs5gCvq",
        "outputId": "d920fe20-5f4f-4e22-91e5-dafd11748664"
      },
      "execution_count": 134,
      "outputs": [
        {
          "output_type": "execute_result",
          "data": {
            "text/plain": [
              "year             2015     2016     2017     2018     2019    2020    2021\n",
              "make                                                                     \n",
              "ALFA ROMEO       31.0     39.0     12.0     50.0     60.0    39.0    37.0\n",
              "ALPINA            9.0     12.0     23.0     11.0      2.0     8.0     2.0\n",
              "ALPINE            NaN      NaN      NaN      NaN     14.0     7.0    11.0\n",
              "ASTON MARTIN      5.0     14.0     29.0     26.0     21.0    28.0    27.0\n",
              "AUDI           2093.0   2360.0   2604.0   2941.0   2487.0  2228.0  1975.0\n",
              "...               ...      ...      ...      ...      ...     ...     ...\n",
              "TOYO ACE          1.0      NaN      NaN      NaN      NaN     NaN     NaN\n",
              "TOYOTA        12171.0  18491.0  19133.0  13817.0  12923.0  7704.0  9633.0\n",
              "TRIUMPH           1.0      1.0      3.0      2.0      NaN     1.0     NaN\n",
              "VOLKSWAGEN     3056.0   2779.0   2450.0   2420.0   1726.0  1334.0   915.0\n",
              "VOLVO          1274.0   1485.0   1526.0   1416.0    874.0   712.0   510.0\n",
              "\n",
              "[71 rows x 7 columns]"
            ],
            "text/html": [
              "\n",
              "  <div id=\"df-808ac801-073b-477b-a4ed-4b4c3db09b93\">\n",
              "    <div class=\"colab-df-container\">\n",
              "      <div>\n",
              "<style scoped>\n",
              "    .dataframe tbody tr th:only-of-type {\n",
              "        vertical-align: middle;\n",
              "    }\n",
              "\n",
              "    .dataframe tbody tr th {\n",
              "        vertical-align: top;\n",
              "    }\n",
              "\n",
              "    .dataframe thead th {\n",
              "        text-align: right;\n",
              "    }\n",
              "</style>\n",
              "<table border=\"1\" class=\"dataframe\">\n",
              "  <thead>\n",
              "    <tr style=\"text-align: right;\">\n",
              "      <th>year</th>\n",
              "      <th>2015</th>\n",
              "      <th>2016</th>\n",
              "      <th>2017</th>\n",
              "      <th>2018</th>\n",
              "      <th>2019</th>\n",
              "      <th>2020</th>\n",
              "      <th>2021</th>\n",
              "    </tr>\n",
              "    <tr>\n",
              "      <th>make</th>\n",
              "      <th></th>\n",
              "      <th></th>\n",
              "      <th></th>\n",
              "      <th></th>\n",
              "      <th></th>\n",
              "      <th></th>\n",
              "      <th></th>\n",
              "    </tr>\n",
              "  </thead>\n",
              "  <tbody>\n",
              "    <tr>\n",
              "      <th>ALFA ROMEO</th>\n",
              "      <td>31.0</td>\n",
              "      <td>39.0</td>\n",
              "      <td>12.0</td>\n",
              "      <td>50.0</td>\n",
              "      <td>60.0</td>\n",
              "      <td>39.0</td>\n",
              "      <td>37.0</td>\n",
              "    </tr>\n",
              "    <tr>\n",
              "      <th>ALPINA</th>\n",
              "      <td>9.0</td>\n",
              "      <td>12.0</td>\n",
              "      <td>23.0</td>\n",
              "      <td>11.0</td>\n",
              "      <td>2.0</td>\n",
              "      <td>8.0</td>\n",
              "      <td>2.0</td>\n",
              "    </tr>\n",
              "    <tr>\n",
              "      <th>ALPINE</th>\n",
              "      <td>NaN</td>\n",
              "      <td>NaN</td>\n",
              "      <td>NaN</td>\n",
              "      <td>NaN</td>\n",
              "      <td>14.0</td>\n",
              "      <td>7.0</td>\n",
              "      <td>11.0</td>\n",
              "    </tr>\n",
              "    <tr>\n",
              "      <th>ASTON MARTIN</th>\n",
              "      <td>5.0</td>\n",
              "      <td>14.0</td>\n",
              "      <td>29.0</td>\n",
              "      <td>26.0</td>\n",
              "      <td>21.0</td>\n",
              "      <td>28.0</td>\n",
              "      <td>27.0</td>\n",
              "    </tr>\n",
              "    <tr>\n",
              "      <th>AUDI</th>\n",
              "      <td>2093.0</td>\n",
              "      <td>2360.0</td>\n",
              "      <td>2604.0</td>\n",
              "      <td>2941.0</td>\n",
              "      <td>2487.0</td>\n",
              "      <td>2228.0</td>\n",
              "      <td>1975.0</td>\n",
              "    </tr>\n",
              "    <tr>\n",
              "      <th>...</th>\n",
              "      <td>...</td>\n",
              "      <td>...</td>\n",
              "      <td>...</td>\n",
              "      <td>...</td>\n",
              "      <td>...</td>\n",
              "      <td>...</td>\n",
              "      <td>...</td>\n",
              "    </tr>\n",
              "    <tr>\n",
              "      <th>TOYO ACE</th>\n",
              "      <td>1.0</td>\n",
              "      <td>NaN</td>\n",
              "      <td>NaN</td>\n",
              "      <td>NaN</td>\n",
              "      <td>NaN</td>\n",
              "      <td>NaN</td>\n",
              "      <td>NaN</td>\n",
              "    </tr>\n",
              "    <tr>\n",
              "      <th>TOYOTA</th>\n",
              "      <td>12171.0</td>\n",
              "      <td>18491.0</td>\n",
              "      <td>19133.0</td>\n",
              "      <td>13817.0</td>\n",
              "      <td>12923.0</td>\n",
              "      <td>7704.0</td>\n",
              "      <td>9633.0</td>\n",
              "    </tr>\n",
              "    <tr>\n",
              "      <th>TRIUMPH</th>\n",
              "      <td>1.0</td>\n",
              "      <td>1.0</td>\n",
              "      <td>3.0</td>\n",
              "      <td>2.0</td>\n",
              "      <td>NaN</td>\n",
              "      <td>1.0</td>\n",
              "      <td>NaN</td>\n",
              "    </tr>\n",
              "    <tr>\n",
              "      <th>VOLKSWAGEN</th>\n",
              "      <td>3056.0</td>\n",
              "      <td>2779.0</td>\n",
              "      <td>2450.0</td>\n",
              "      <td>2420.0</td>\n",
              "      <td>1726.0</td>\n",
              "      <td>1334.0</td>\n",
              "      <td>915.0</td>\n",
              "    </tr>\n",
              "    <tr>\n",
              "      <th>VOLVO</th>\n",
              "      <td>1274.0</td>\n",
              "      <td>1485.0</td>\n",
              "      <td>1526.0</td>\n",
              "      <td>1416.0</td>\n",
              "      <td>874.0</td>\n",
              "      <td>712.0</td>\n",
              "      <td>510.0</td>\n",
              "    </tr>\n",
              "  </tbody>\n",
              "</table>\n",
              "<p>71 rows × 7 columns</p>\n",
              "</div>\n",
              "      <button class=\"colab-df-convert\" onclick=\"convertToInteractive('df-808ac801-073b-477b-a4ed-4b4c3db09b93')\"\n",
              "              title=\"Convert this dataframe to an interactive table.\"\n",
              "              style=\"display:none;\">\n",
              "        \n",
              "  <svg xmlns=\"http://www.w3.org/2000/svg\" height=\"24px\"viewBox=\"0 0 24 24\"\n",
              "       width=\"24px\">\n",
              "    <path d=\"M0 0h24v24H0V0z\" fill=\"none\"/>\n",
              "    <path d=\"M18.56 5.44l.94 2.06.94-2.06 2.06-.94-2.06-.94-.94-2.06-.94 2.06-2.06.94zm-11 1L8.5 8.5l.94-2.06 2.06-.94-2.06-.94L8.5 2.5l-.94 2.06-2.06.94zm10 10l.94 2.06.94-2.06 2.06-.94-2.06-.94-.94-2.06-.94 2.06-2.06.94z\"/><path d=\"M17.41 7.96l-1.37-1.37c-.4-.4-.92-.59-1.43-.59-.52 0-1.04.2-1.43.59L10.3 9.45l-7.72 7.72c-.78.78-.78 2.05 0 2.83L4 21.41c.39.39.9.59 1.41.59.51 0 1.02-.2 1.41-.59l7.78-7.78 2.81-2.81c.8-.78.8-2.07 0-2.86zM5.41 20L4 18.59l7.72-7.72 1.47 1.35L5.41 20z\"/>\n",
              "  </svg>\n",
              "      </button>\n",
              "      \n",
              "  <style>\n",
              "    .colab-df-container {\n",
              "      display:flex;\n",
              "      flex-wrap:wrap;\n",
              "      gap: 12px;\n",
              "    }\n",
              "\n",
              "    .colab-df-convert {\n",
              "      background-color: #E8F0FE;\n",
              "      border: none;\n",
              "      border-radius: 50%;\n",
              "      cursor: pointer;\n",
              "      display: none;\n",
              "      fill: #1967D2;\n",
              "      height: 32px;\n",
              "      padding: 0 0 0 0;\n",
              "      width: 32px;\n",
              "    }\n",
              "\n",
              "    .colab-df-convert:hover {\n",
              "      background-color: #E2EBFA;\n",
              "      box-shadow: 0px 1px 2px rgba(60, 64, 67, 0.3), 0px 1px 3px 1px rgba(60, 64, 67, 0.15);\n",
              "      fill: #174EA6;\n",
              "    }\n",
              "\n",
              "    [theme=dark] .colab-df-convert {\n",
              "      background-color: #3B4455;\n",
              "      fill: #D2E3FC;\n",
              "    }\n",
              "\n",
              "    [theme=dark] .colab-df-convert:hover {\n",
              "      background-color: #434B5C;\n",
              "      box-shadow: 0px 1px 3px 1px rgba(0, 0, 0, 0.15);\n",
              "      filter: drop-shadow(0px 1px 2px rgba(0, 0, 0, 0.3));\n",
              "      fill: #FFFFFF;\n",
              "    }\n",
              "  </style>\n",
              "\n",
              "      <script>\n",
              "        const buttonEl =\n",
              "          document.querySelector('#df-808ac801-073b-477b-a4ed-4b4c3db09b93 button.colab-df-convert');\n",
              "        buttonEl.style.display =\n",
              "          google.colab.kernel.accessAllowed ? 'block' : 'none';\n",
              "\n",
              "        async function convertToInteractive(key) {\n",
              "          const element = document.querySelector('#df-808ac801-073b-477b-a4ed-4b4c3db09b93');\n",
              "          const dataTable =\n",
              "            await google.colab.kernel.invokeFunction('convertToInteractive',\n",
              "                                                     [key], {});\n",
              "          if (!dataTable) return;\n",
              "\n",
              "          const docLinkHtml = 'Like what you see? Visit the ' +\n",
              "            '<a target=\"_blank\" href=https://colab.research.google.com/notebooks/data_table.ipynb>data table notebook</a>'\n",
              "            + ' to learn more about interactive tables.';\n",
              "          element.innerHTML = '';\n",
              "          dataTable['output_type'] = 'display_data';\n",
              "          await google.colab.output.renderOutput(dataTable, element);\n",
              "          const docLink = document.createElement('div');\n",
              "          docLink.innerHTML = docLinkHtml;\n",
              "          element.appendChild(docLink);\n",
              "        }\n",
              "      </script>\n",
              "    </div>\n",
              "  </div>\n",
              "  "
            ]
          },
          "metadata": {},
          "execution_count": 134
        }
      ]
    },
    {
      "cell_type": "markdown",
      "source": [
        "A quick check reveals that both the make and year have different unique values between the original annual and monthly datasets:"
      ],
      "metadata": {
        "id": "vsqK18zGjLEv"
      }
    },
    {
      "cell_type": "code",
      "source": [
        "cars_monthly_pivoted.columns"
      ],
      "metadata": {
        "colab": {
          "base_uri": "https://localhost:8080/"
        },
        "id": "n_YFEigFiZV_",
        "outputId": "1b88ee23-8f56-49d3-a0c3-15197fbc8d18"
      },
      "execution_count": 135,
      "outputs": [
        {
          "output_type": "execute_result",
          "data": {
            "text/plain": [
              "Int64Index([2016, 2017, 2018, 2019, 2020, 2021, 2022], dtype='int64', name='year')"
            ]
          },
          "metadata": {},
          "execution_count": 135
        }
      ]
    },
    {
      "cell_type": "code",
      "source": [
        "cars_annually_aggregated.index.intersection(cars_monthly_pivoted.index).size"
      ],
      "metadata": {
        "colab": {
          "base_uri": "https://localhost:8080/"
        },
        "id": "PfyrWDjqhRg0",
        "outputId": "6b56435a-b83a-4bc5-e562-bd82864b7c8b"
      },
      "execution_count": 136,
      "outputs": [
        {
          "output_type": "execute_result",
          "data": {
            "text/plain": [
              "69"
            ]
          },
          "metadata": {},
          "execution_count": 136
        }
      ]
    },
    {
      "cell_type": "markdown",
      "source": [
        "The difference might be attributable to the different time range covered by these two datasets. We can narrow down the join and comparison to only the shared year and make – think inner join for you SQL people."
      ],
      "metadata": {
        "id": "4PDFqxj6jj29"
      }
    },
    {
      "cell_type": "code",
      "source": [
        "cars_annually_melted = cars_annually_aggregated.melt(var_name='year', value_name='number', ignore_index=False)\n",
        "cars_annually_melted"
      ],
      "metadata": {
        "colab": {
          "base_uri": "https://localhost:8080/",
          "height": 455
        },
        "id": "79-hQnF_kDeG",
        "outputId": "6fd99e7b-b908-4b0c-d8d7-a6ee002473b8"
      },
      "execution_count": 137,
      "outputs": [
        {
          "output_type": "execute_result",
          "data": {
            "text/plain": [
              "              year  number\n",
              "make                      \n",
              "ALFA ROMEO    2015    31.0\n",
              "ALPINA        2015     9.0\n",
              "ALPINE        2015     NaN\n",
              "ASTON MARTIN  2015     5.0\n",
              "AUDI          2015  2093.0\n",
              "...            ...     ...\n",
              "TOYO ACE      2021     NaN\n",
              "TOYOTA        2021  9633.0\n",
              "TRIUMPH       2021     NaN\n",
              "VOLKSWAGEN    2021   915.0\n",
              "VOLVO         2021   510.0\n",
              "\n",
              "[497 rows x 2 columns]"
            ],
            "text/html": [
              "\n",
              "  <div id=\"df-84938ef4-8e41-4b20-a1d9-ce03019622da\">\n",
              "    <div class=\"colab-df-container\">\n",
              "      <div>\n",
              "<style scoped>\n",
              "    .dataframe tbody tr th:only-of-type {\n",
              "        vertical-align: middle;\n",
              "    }\n",
              "\n",
              "    .dataframe tbody tr th {\n",
              "        vertical-align: top;\n",
              "    }\n",
              "\n",
              "    .dataframe thead th {\n",
              "        text-align: right;\n",
              "    }\n",
              "</style>\n",
              "<table border=\"1\" class=\"dataframe\">\n",
              "  <thead>\n",
              "    <tr style=\"text-align: right;\">\n",
              "      <th></th>\n",
              "      <th>year</th>\n",
              "      <th>number</th>\n",
              "    </tr>\n",
              "    <tr>\n",
              "      <th>make</th>\n",
              "      <th></th>\n",
              "      <th></th>\n",
              "    </tr>\n",
              "  </thead>\n",
              "  <tbody>\n",
              "    <tr>\n",
              "      <th>ALFA ROMEO</th>\n",
              "      <td>2015</td>\n",
              "      <td>31.0</td>\n",
              "    </tr>\n",
              "    <tr>\n",
              "      <th>ALPINA</th>\n",
              "      <td>2015</td>\n",
              "      <td>9.0</td>\n",
              "    </tr>\n",
              "    <tr>\n",
              "      <th>ALPINE</th>\n",
              "      <td>2015</td>\n",
              "      <td>NaN</td>\n",
              "    </tr>\n",
              "    <tr>\n",
              "      <th>ASTON MARTIN</th>\n",
              "      <td>2015</td>\n",
              "      <td>5.0</td>\n",
              "    </tr>\n",
              "    <tr>\n",
              "      <th>AUDI</th>\n",
              "      <td>2015</td>\n",
              "      <td>2093.0</td>\n",
              "    </tr>\n",
              "    <tr>\n",
              "      <th>...</th>\n",
              "      <td>...</td>\n",
              "      <td>...</td>\n",
              "    </tr>\n",
              "    <tr>\n",
              "      <th>TOYO ACE</th>\n",
              "      <td>2021</td>\n",
              "      <td>NaN</td>\n",
              "    </tr>\n",
              "    <tr>\n",
              "      <th>TOYOTA</th>\n",
              "      <td>2021</td>\n",
              "      <td>9633.0</td>\n",
              "    </tr>\n",
              "    <tr>\n",
              "      <th>TRIUMPH</th>\n",
              "      <td>2021</td>\n",
              "      <td>NaN</td>\n",
              "    </tr>\n",
              "    <tr>\n",
              "      <th>VOLKSWAGEN</th>\n",
              "      <td>2021</td>\n",
              "      <td>915.0</td>\n",
              "    </tr>\n",
              "    <tr>\n",
              "      <th>VOLVO</th>\n",
              "      <td>2021</td>\n",
              "      <td>510.0</td>\n",
              "    </tr>\n",
              "  </tbody>\n",
              "</table>\n",
              "<p>497 rows × 2 columns</p>\n",
              "</div>\n",
              "      <button class=\"colab-df-convert\" onclick=\"convertToInteractive('df-84938ef4-8e41-4b20-a1d9-ce03019622da')\"\n",
              "              title=\"Convert this dataframe to an interactive table.\"\n",
              "              style=\"display:none;\">\n",
              "        \n",
              "  <svg xmlns=\"http://www.w3.org/2000/svg\" height=\"24px\"viewBox=\"0 0 24 24\"\n",
              "       width=\"24px\">\n",
              "    <path d=\"M0 0h24v24H0V0z\" fill=\"none\"/>\n",
              "    <path d=\"M18.56 5.44l.94 2.06.94-2.06 2.06-.94-2.06-.94-.94-2.06-.94 2.06-2.06.94zm-11 1L8.5 8.5l.94-2.06 2.06-.94-2.06-.94L8.5 2.5l-.94 2.06-2.06.94zm10 10l.94 2.06.94-2.06 2.06-.94-2.06-.94-.94-2.06-.94 2.06-2.06.94z\"/><path d=\"M17.41 7.96l-1.37-1.37c-.4-.4-.92-.59-1.43-.59-.52 0-1.04.2-1.43.59L10.3 9.45l-7.72 7.72c-.78.78-.78 2.05 0 2.83L4 21.41c.39.39.9.59 1.41.59.51 0 1.02-.2 1.41-.59l7.78-7.78 2.81-2.81c.8-.78.8-2.07 0-2.86zM5.41 20L4 18.59l7.72-7.72 1.47 1.35L5.41 20z\"/>\n",
              "  </svg>\n",
              "      </button>\n",
              "      \n",
              "  <style>\n",
              "    .colab-df-container {\n",
              "      display:flex;\n",
              "      flex-wrap:wrap;\n",
              "      gap: 12px;\n",
              "    }\n",
              "\n",
              "    .colab-df-convert {\n",
              "      background-color: #E8F0FE;\n",
              "      border: none;\n",
              "      border-radius: 50%;\n",
              "      cursor: pointer;\n",
              "      display: none;\n",
              "      fill: #1967D2;\n",
              "      height: 32px;\n",
              "      padding: 0 0 0 0;\n",
              "      width: 32px;\n",
              "    }\n",
              "\n",
              "    .colab-df-convert:hover {\n",
              "      background-color: #E2EBFA;\n",
              "      box-shadow: 0px 1px 2px rgba(60, 64, 67, 0.3), 0px 1px 3px 1px rgba(60, 64, 67, 0.15);\n",
              "      fill: #174EA6;\n",
              "    }\n",
              "\n",
              "    [theme=dark] .colab-df-convert {\n",
              "      background-color: #3B4455;\n",
              "      fill: #D2E3FC;\n",
              "    }\n",
              "\n",
              "    [theme=dark] .colab-df-convert:hover {\n",
              "      background-color: #434B5C;\n",
              "      box-shadow: 0px 1px 3px 1px rgba(0, 0, 0, 0.15);\n",
              "      filter: drop-shadow(0px 1px 2px rgba(0, 0, 0, 0.3));\n",
              "      fill: #FFFFFF;\n",
              "    }\n",
              "  </style>\n",
              "\n",
              "      <script>\n",
              "        const buttonEl =\n",
              "          document.querySelector('#df-84938ef4-8e41-4b20-a1d9-ce03019622da button.colab-df-convert');\n",
              "        buttonEl.style.display =\n",
              "          google.colab.kernel.accessAllowed ? 'block' : 'none';\n",
              "\n",
              "        async function convertToInteractive(key) {\n",
              "          const element = document.querySelector('#df-84938ef4-8e41-4b20-a1d9-ce03019622da');\n",
              "          const dataTable =\n",
              "            await google.colab.kernel.invokeFunction('convertToInteractive',\n",
              "                                                     [key], {});\n",
              "          if (!dataTable) return;\n",
              "\n",
              "          const docLinkHtml = 'Like what you see? Visit the ' +\n",
              "            '<a target=\"_blank\" href=https://colab.research.google.com/notebooks/data_table.ipynb>data table notebook</a>'\n",
              "            + ' to learn more about interactive tables.';\n",
              "          element.innerHTML = '';\n",
              "          dataTable['output_type'] = 'display_data';\n",
              "          await google.colab.output.renderOutput(dataTable, element);\n",
              "          const docLink = document.createElement('div');\n",
              "          docLink.innerHTML = docLinkHtml;\n",
              "          element.appendChild(docLink);\n",
              "        }\n",
              "      </script>\n",
              "    </div>\n",
              "  </div>\n",
              "  "
            ]
          },
          "metadata": {},
          "execution_count": 137
        }
      ]
    },
    {
      "cell_type": "markdown",
      "source": [
        "Let's drop the `NAN` rows from both melted datasets:"
      ],
      "metadata": {
        "id": "DtInZtERkcL6"
      }
    },
    {
      "cell_type": "code",
      "source": [
        "cars_annually_melted.dropna(inplace=True)\n",
        "cars_monthly_melted.dropna(inplace=True)\n",
        "print(f'annual dataset shape: {cars_annually_melted.shape}, monthly dataset shape: {cars_monthly_melted.shape}')"
      ],
      "metadata": {
        "colab": {
          "base_uri": "https://localhost:8080/"
        },
        "id": "NrRiACbnkbkx",
        "outputId": "1d9eca47-5b73-42ee-fe03-731287ea4458"
      },
      "execution_count": 138,
      "outputs": [
        {
          "output_type": "stream",
          "name": "stdout",
          "text": [
            "annual dataset shape: (367, 2), monthly dataset shape: (373, 2)\n"
          ]
        }
      ]
    },
    {
      "cell_type": "markdown",
      "source": [
        "`reset_index` makes the current index `make` a normal column, and generates a new default index. This will allow us to specify `make` as one of the columns to merge the two DataFrames on later."
      ],
      "metadata": {
        "id": "tfiCr_50pQoT"
      }
    },
    {
      "cell_type": "code",
      "source": [
        "cars_annually_reset = cars_annually_melted.reset_index()\n",
        "cars_monthly_reset = cars_monthly_melted.reset_index()\n",
        "print(f'annual dataset columns: {cars_annually_reset.columns}')\n",
        "print(f'monthly dataset columns: {cars_monthly_reset.columns}')"
      ],
      "metadata": {
        "colab": {
          "base_uri": "https://localhost:8080/"
        },
        "id": "nCsoVMmHlhO5",
        "outputId": "44d2ff0c-d86a-465c-ffa4-896096054b01"
      },
      "execution_count": 139,
      "outputs": [
        {
          "output_type": "stream",
          "name": "stdout",
          "text": [
            "annual dataset columns: Index(['make', 'year', 'number'], dtype='object')\n",
            "monthly dataset columns: Index(['make', 'year', 'number'], dtype='object')\n"
          ]
        }
      ]
    },
    {
      "cell_type": "markdown",
      "source": [
        "#### **Performing the merger**\n",
        "\n",
        "With common columns and both datasets in long format, let's perform the merge!"
      ],
      "metadata": {
        "id": "czJUw-6yMnU1"
      }
    },
    {
      "cell_type": "code",
      "source": [
        "cars_merged = pd.merge(cars_annually_reset, cars_monthly_reset, how=\"inner\", on=[\"make\", \"year\"])\n",
        "cars_merged"
      ],
      "metadata": {
        "colab": {
          "base_uri": "https://localhost:8080/",
          "height": 424
        },
        "id": "i2wpq0U_lHRn",
        "outputId": "374b8c8b-3e82-4a82-afb4-469ce54e9016"
      },
      "execution_count": 140,
      "outputs": [
        {
          "output_type": "execute_result",
          "data": {
            "text/plain": [
              "             make  year  number_x  number_y\n",
              "0      ALFA ROMEO  2016      39.0      39.0\n",
              "1          ALPINA  2016      12.0      12.0\n",
              "2    ASTON MARTIN  2016      14.0      14.0\n",
              "3            AUDI  2016    2360.0    2360.0\n",
              "4          B.M.W.  2016    4582.0    4582.0\n",
              "..            ...   ...       ...       ...\n",
              "307        SUZUKI  2021     378.0     378.0\n",
              "308         TESLA  2021     924.0     924.0\n",
              "309        TOYOTA  2021    9633.0    9633.0\n",
              "310    VOLKSWAGEN  2021     915.0     915.0\n",
              "311         VOLVO  2021     510.0     510.0\n",
              "\n",
              "[312 rows x 4 columns]"
            ],
            "text/html": [
              "\n",
              "  <div id=\"df-d296e855-4585-4f5a-80ce-df56fce2745f\">\n",
              "    <div class=\"colab-df-container\">\n",
              "      <div>\n",
              "<style scoped>\n",
              "    .dataframe tbody tr th:only-of-type {\n",
              "        vertical-align: middle;\n",
              "    }\n",
              "\n",
              "    .dataframe tbody tr th {\n",
              "        vertical-align: top;\n",
              "    }\n",
              "\n",
              "    .dataframe thead th {\n",
              "        text-align: right;\n",
              "    }\n",
              "</style>\n",
              "<table border=\"1\" class=\"dataframe\">\n",
              "  <thead>\n",
              "    <tr style=\"text-align: right;\">\n",
              "      <th></th>\n",
              "      <th>make</th>\n",
              "      <th>year</th>\n",
              "      <th>number_x</th>\n",
              "      <th>number_y</th>\n",
              "    </tr>\n",
              "  </thead>\n",
              "  <tbody>\n",
              "    <tr>\n",
              "      <th>0</th>\n",
              "      <td>ALFA ROMEO</td>\n",
              "      <td>2016</td>\n",
              "      <td>39.0</td>\n",
              "      <td>39.0</td>\n",
              "    </tr>\n",
              "    <tr>\n",
              "      <th>1</th>\n",
              "      <td>ALPINA</td>\n",
              "      <td>2016</td>\n",
              "      <td>12.0</td>\n",
              "      <td>12.0</td>\n",
              "    </tr>\n",
              "    <tr>\n",
              "      <th>2</th>\n",
              "      <td>ASTON MARTIN</td>\n",
              "      <td>2016</td>\n",
              "      <td>14.0</td>\n",
              "      <td>14.0</td>\n",
              "    </tr>\n",
              "    <tr>\n",
              "      <th>3</th>\n",
              "      <td>AUDI</td>\n",
              "      <td>2016</td>\n",
              "      <td>2360.0</td>\n",
              "      <td>2360.0</td>\n",
              "    </tr>\n",
              "    <tr>\n",
              "      <th>4</th>\n",
              "      <td>B.M.W.</td>\n",
              "      <td>2016</td>\n",
              "      <td>4582.0</td>\n",
              "      <td>4582.0</td>\n",
              "    </tr>\n",
              "    <tr>\n",
              "      <th>...</th>\n",
              "      <td>...</td>\n",
              "      <td>...</td>\n",
              "      <td>...</td>\n",
              "      <td>...</td>\n",
              "    </tr>\n",
              "    <tr>\n",
              "      <th>307</th>\n",
              "      <td>SUZUKI</td>\n",
              "      <td>2021</td>\n",
              "      <td>378.0</td>\n",
              "      <td>378.0</td>\n",
              "    </tr>\n",
              "    <tr>\n",
              "      <th>308</th>\n",
              "      <td>TESLA</td>\n",
              "      <td>2021</td>\n",
              "      <td>924.0</td>\n",
              "      <td>924.0</td>\n",
              "    </tr>\n",
              "    <tr>\n",
              "      <th>309</th>\n",
              "      <td>TOYOTA</td>\n",
              "      <td>2021</td>\n",
              "      <td>9633.0</td>\n",
              "      <td>9633.0</td>\n",
              "    </tr>\n",
              "    <tr>\n",
              "      <th>310</th>\n",
              "      <td>VOLKSWAGEN</td>\n",
              "      <td>2021</td>\n",
              "      <td>915.0</td>\n",
              "      <td>915.0</td>\n",
              "    </tr>\n",
              "    <tr>\n",
              "      <th>311</th>\n",
              "      <td>VOLVO</td>\n",
              "      <td>2021</td>\n",
              "      <td>510.0</td>\n",
              "      <td>510.0</td>\n",
              "    </tr>\n",
              "  </tbody>\n",
              "</table>\n",
              "<p>312 rows × 4 columns</p>\n",
              "</div>\n",
              "      <button class=\"colab-df-convert\" onclick=\"convertToInteractive('df-d296e855-4585-4f5a-80ce-df56fce2745f')\"\n",
              "              title=\"Convert this dataframe to an interactive table.\"\n",
              "              style=\"display:none;\">\n",
              "        \n",
              "  <svg xmlns=\"http://www.w3.org/2000/svg\" height=\"24px\"viewBox=\"0 0 24 24\"\n",
              "       width=\"24px\">\n",
              "    <path d=\"M0 0h24v24H0V0z\" fill=\"none\"/>\n",
              "    <path d=\"M18.56 5.44l.94 2.06.94-2.06 2.06-.94-2.06-.94-.94-2.06-.94 2.06-2.06.94zm-11 1L8.5 8.5l.94-2.06 2.06-.94-2.06-.94L8.5 2.5l-.94 2.06-2.06.94zm10 10l.94 2.06.94-2.06 2.06-.94-2.06-.94-.94-2.06-.94 2.06-2.06.94z\"/><path d=\"M17.41 7.96l-1.37-1.37c-.4-.4-.92-.59-1.43-.59-.52 0-1.04.2-1.43.59L10.3 9.45l-7.72 7.72c-.78.78-.78 2.05 0 2.83L4 21.41c.39.39.9.59 1.41.59.51 0 1.02-.2 1.41-.59l7.78-7.78 2.81-2.81c.8-.78.8-2.07 0-2.86zM5.41 20L4 18.59l7.72-7.72 1.47 1.35L5.41 20z\"/>\n",
              "  </svg>\n",
              "      </button>\n",
              "      \n",
              "  <style>\n",
              "    .colab-df-container {\n",
              "      display:flex;\n",
              "      flex-wrap:wrap;\n",
              "      gap: 12px;\n",
              "    }\n",
              "\n",
              "    .colab-df-convert {\n",
              "      background-color: #E8F0FE;\n",
              "      border: none;\n",
              "      border-radius: 50%;\n",
              "      cursor: pointer;\n",
              "      display: none;\n",
              "      fill: #1967D2;\n",
              "      height: 32px;\n",
              "      padding: 0 0 0 0;\n",
              "      width: 32px;\n",
              "    }\n",
              "\n",
              "    .colab-df-convert:hover {\n",
              "      background-color: #E2EBFA;\n",
              "      box-shadow: 0px 1px 2px rgba(60, 64, 67, 0.3), 0px 1px 3px 1px rgba(60, 64, 67, 0.15);\n",
              "      fill: #174EA6;\n",
              "    }\n",
              "\n",
              "    [theme=dark] .colab-df-convert {\n",
              "      background-color: #3B4455;\n",
              "      fill: #D2E3FC;\n",
              "    }\n",
              "\n",
              "    [theme=dark] .colab-df-convert:hover {\n",
              "      background-color: #434B5C;\n",
              "      box-shadow: 0px 1px 3px 1px rgba(0, 0, 0, 0.15);\n",
              "      filter: drop-shadow(0px 1px 2px rgba(0, 0, 0, 0.3));\n",
              "      fill: #FFFFFF;\n",
              "    }\n",
              "  </style>\n",
              "\n",
              "      <script>\n",
              "        const buttonEl =\n",
              "          document.querySelector('#df-d296e855-4585-4f5a-80ce-df56fce2745f button.colab-df-convert');\n",
              "        buttonEl.style.display =\n",
              "          google.colab.kernel.accessAllowed ? 'block' : 'none';\n",
              "\n",
              "        async function convertToInteractive(key) {\n",
              "          const element = document.querySelector('#df-d296e855-4585-4f5a-80ce-df56fce2745f');\n",
              "          const dataTable =\n",
              "            await google.colab.kernel.invokeFunction('convertToInteractive',\n",
              "                                                     [key], {});\n",
              "          if (!dataTable) return;\n",
              "\n",
              "          const docLinkHtml = 'Like what you see? Visit the ' +\n",
              "            '<a target=\"_blank\" href=https://colab.research.google.com/notebooks/data_table.ipynb>data table notebook</a>'\n",
              "            + ' to learn more about interactive tables.';\n",
              "          element.innerHTML = '';\n",
              "          dataTable['output_type'] = 'display_data';\n",
              "          await google.colab.output.renderOutput(dataTable, element);\n",
              "          const docLink = document.createElement('div');\n",
              "          docLink.innerHTML = docLinkHtml;\n",
              "          element.appendChild(docLink);\n",
              "        }\n",
              "      </script>\n",
              "    </div>\n",
              "  </div>\n",
              "  "
            ]
          },
          "metadata": {},
          "execution_count": 140
        }
      ]
    },
    {
      "cell_type": "markdown",
      "source": [
        "#### **Using merge results**\n",
        "\n",
        "`number_x` corresponds to the `number` values from the \"left\" DataFrame `cars_annually_melted`, while `number_y` corresponds to the `number` values from the \"right\" DataFrame `cars_monthly_melted`. We can now compare if the two sets of values are identical for every make-year pair:"
      ],
      "metadata": {
        "id": "K1E5ddVxMzCu"
      }
    },
    {
      "cell_type": "code",
      "source": [
        "cars_merged.number_x == cars_merged.number_y"
      ],
      "metadata": {
        "colab": {
          "base_uri": "https://localhost:8080/"
        },
        "id": "dXqdjD5_oQ6t",
        "outputId": "1b6d256f-62ea-44ab-d316-6d5b6a0c90ea"
      },
      "execution_count": 141,
      "outputs": [
        {
          "output_type": "execute_result",
          "data": {
            "text/plain": [
              "0      True\n",
              "1      True\n",
              "2      True\n",
              "3      True\n",
              "4      True\n",
              "       ... \n",
              "307    True\n",
              "308    True\n",
              "309    True\n",
              "310    True\n",
              "311    True\n",
              "Length: 312, dtype: bool"
            ]
          },
          "metadata": {},
          "execution_count": 141
        }
      ]
    },
    {
      "cell_type": "markdown",
      "source": [
        "Recall the NumPy's `all` universal function? Let's use it to check if the two numbers are the same for every row:"
      ],
      "metadata": {
        "id": "stk3whNBqloE"
      }
    },
    {
      "cell_type": "code",
      "source": [
        "np.all(cars_merged.number_x == cars_merged.number_y)"
      ],
      "metadata": {
        "colab": {
          "base_uri": "https://localhost:8080/"
        },
        "id": "QRmxm9qUowX1",
        "outputId": "01622f05-fe26-487f-96f0-3586da5ccb31"
      },
      "execution_count": 142,
      "outputs": [
        {
          "output_type": "execute_result",
          "data": {
            "text/plain": [
              "False"
            ]
          },
          "metadata": {},
          "execution_count": 142
        }
      ]
    },
    {
      "cell_type": "markdown",
      "source": [
        "Not the case! Use conditional subsetting to see which rows are different:"
      ],
      "metadata": {
        "id": "PIS8Vd2yqzOf"
      }
    },
    {
      "cell_type": "code",
      "source": [
        "cars_merged[cars_merged.number_x != cars_merged.number_y]"
      ],
      "metadata": {
        "colab": {
          "base_uri": "https://localhost:8080/",
          "height": 81
        },
        "id": "_sKxU3wmo1U3",
        "outputId": "6db8e0f2-b83b-4bfd-d05b-5a2f184f8066"
      },
      "execution_count": 143,
      "outputs": [
        {
          "output_type": "execute_result",
          "data": {
            "text/plain": [
              "       make  year  number_x  number_y\n",
              "85  Mclaren  2017      10.0       2.0"
            ],
            "text/html": [
              "\n",
              "  <div id=\"df-609cbb7b-a97a-43dc-bd6d-c29be1dad7d2\">\n",
              "    <div class=\"colab-df-container\">\n",
              "      <div>\n",
              "<style scoped>\n",
              "    .dataframe tbody tr th:only-of-type {\n",
              "        vertical-align: middle;\n",
              "    }\n",
              "\n",
              "    .dataframe tbody tr th {\n",
              "        vertical-align: top;\n",
              "    }\n",
              "\n",
              "    .dataframe thead th {\n",
              "        text-align: right;\n",
              "    }\n",
              "</style>\n",
              "<table border=\"1\" class=\"dataframe\">\n",
              "  <thead>\n",
              "    <tr style=\"text-align: right;\">\n",
              "      <th></th>\n",
              "      <th>make</th>\n",
              "      <th>year</th>\n",
              "      <th>number_x</th>\n",
              "      <th>number_y</th>\n",
              "    </tr>\n",
              "  </thead>\n",
              "  <tbody>\n",
              "    <tr>\n",
              "      <th>85</th>\n",
              "      <td>Mclaren</td>\n",
              "      <td>2017</td>\n",
              "      <td>10.0</td>\n",
              "      <td>2.0</td>\n",
              "    </tr>\n",
              "  </tbody>\n",
              "</table>\n",
              "</div>\n",
              "      <button class=\"colab-df-convert\" onclick=\"convertToInteractive('df-609cbb7b-a97a-43dc-bd6d-c29be1dad7d2')\"\n",
              "              title=\"Convert this dataframe to an interactive table.\"\n",
              "              style=\"display:none;\">\n",
              "        \n",
              "  <svg xmlns=\"http://www.w3.org/2000/svg\" height=\"24px\"viewBox=\"0 0 24 24\"\n",
              "       width=\"24px\">\n",
              "    <path d=\"M0 0h24v24H0V0z\" fill=\"none\"/>\n",
              "    <path d=\"M18.56 5.44l.94 2.06.94-2.06 2.06-.94-2.06-.94-.94-2.06-.94 2.06-2.06.94zm-11 1L8.5 8.5l.94-2.06 2.06-.94-2.06-.94L8.5 2.5l-.94 2.06-2.06.94zm10 10l.94 2.06.94-2.06 2.06-.94-2.06-.94-.94-2.06-.94 2.06-2.06.94z\"/><path d=\"M17.41 7.96l-1.37-1.37c-.4-.4-.92-.59-1.43-.59-.52 0-1.04.2-1.43.59L10.3 9.45l-7.72 7.72c-.78.78-.78 2.05 0 2.83L4 21.41c.39.39.9.59 1.41.59.51 0 1.02-.2 1.41-.59l7.78-7.78 2.81-2.81c.8-.78.8-2.07 0-2.86zM5.41 20L4 18.59l7.72-7.72 1.47 1.35L5.41 20z\"/>\n",
              "  </svg>\n",
              "      </button>\n",
              "      \n",
              "  <style>\n",
              "    .colab-df-container {\n",
              "      display:flex;\n",
              "      flex-wrap:wrap;\n",
              "      gap: 12px;\n",
              "    }\n",
              "\n",
              "    .colab-df-convert {\n",
              "      background-color: #E8F0FE;\n",
              "      border: none;\n",
              "      border-radius: 50%;\n",
              "      cursor: pointer;\n",
              "      display: none;\n",
              "      fill: #1967D2;\n",
              "      height: 32px;\n",
              "      padding: 0 0 0 0;\n",
              "      width: 32px;\n",
              "    }\n",
              "\n",
              "    .colab-df-convert:hover {\n",
              "      background-color: #E2EBFA;\n",
              "      box-shadow: 0px 1px 2px rgba(60, 64, 67, 0.3), 0px 1px 3px 1px rgba(60, 64, 67, 0.15);\n",
              "      fill: #174EA6;\n",
              "    }\n",
              "\n",
              "    [theme=dark] .colab-df-convert {\n",
              "      background-color: #3B4455;\n",
              "      fill: #D2E3FC;\n",
              "    }\n",
              "\n",
              "    [theme=dark] .colab-df-convert:hover {\n",
              "      background-color: #434B5C;\n",
              "      box-shadow: 0px 1px 3px 1px rgba(0, 0, 0, 0.15);\n",
              "      filter: drop-shadow(0px 1px 2px rgba(0, 0, 0, 0.3));\n",
              "      fill: #FFFFFF;\n",
              "    }\n",
              "  </style>\n",
              "\n",
              "      <script>\n",
              "        const buttonEl =\n",
              "          document.querySelector('#df-609cbb7b-a97a-43dc-bd6d-c29be1dad7d2 button.colab-df-convert');\n",
              "        buttonEl.style.display =\n",
              "          google.colab.kernel.accessAllowed ? 'block' : 'none';\n",
              "\n",
              "        async function convertToInteractive(key) {\n",
              "          const element = document.querySelector('#df-609cbb7b-a97a-43dc-bd6d-c29be1dad7d2');\n",
              "          const dataTable =\n",
              "            await google.colab.kernel.invokeFunction('convertToInteractive',\n",
              "                                                     [key], {});\n",
              "          if (!dataTable) return;\n",
              "\n",
              "          const docLinkHtml = 'Like what you see? Visit the ' +\n",
              "            '<a target=\"_blank\" href=https://colab.research.google.com/notebooks/data_table.ipynb>data table notebook</a>'\n",
              "            + ' to learn more about interactive tables.';\n",
              "          element.innerHTML = '';\n",
              "          dataTable['output_type'] = 'display_data';\n",
              "          await google.colab.output.renderOutput(dataTable, element);\n",
              "          const docLink = document.createElement('div');\n",
              "          docLink.innerHTML = docLinkHtml;\n",
              "          element.appendChild(docLink);\n",
              "        }\n",
              "      </script>\n",
              "    </div>\n",
              "  </div>\n",
              "  "
            ]
          },
          "metadata": {},
          "execution_count": 143
        }
      ]
    },
    {
      "cell_type": "markdown",
      "source": [
        "This is something we can report to Singapore's Land Transport Authority (LTA). Good job LTA on keeping the vast majority of the records consistent!"
      ],
      "metadata": {
        "id": "3fOw4KW1rAOz"
      }
    },
    {
      "cell_type": "markdown",
      "source": [
        "### Concatenating data\n",
        "\n",
        "Somtimes we get datasets in batches and need to combine them into a single dataset for analysis. Pandas' `concat` is here to help!"
      ],
      "metadata": {
        "id": "W060R5yXNmvF"
      }
    },
    {
      "cell_type": "markdown",
      "source": [
        "#### **Row-wise concatenation**\n",
        "\n",
        "Let's append to the annually cars registration data with the 2022 data from the monthly dataset:"
      ],
      "metadata": {
        "id": "ZbQB6YbiQ1TP"
      }
    },
    {
      "cell_type": "code",
      "source": [
        "cars_2022_partial = cars_monthly_reset[cars_monthly_reset.year == 2022]\n",
        "cars_annual_with_2022 = pd.concat([cars_annually_reset, cars_2022_partial], ignore_index=True)\n",
        "cars_annual_with_2022"
      ],
      "metadata": {
        "colab": {
          "base_uri": "https://localhost:8080/",
          "height": 424
        },
        "id": "Mccj31eoRV16",
        "outputId": "b93f1bba-4563-41c7-b705-b6f1c8d70041"
      },
      "execution_count": 144,
      "outputs": [
        {
          "output_type": "execute_result",
          "data": {
            "text/plain": [
              "             make  year  number\n",
              "0      ALFA ROMEO  2015    31.0\n",
              "1          ALPINA  2015     9.0\n",
              "2    ASTON MARTIN  2015     5.0\n",
              "3            AUDI  2015  2093.0\n",
              "4          AUSTIN  2015     2.0\n",
              "..            ...   ...     ...\n",
              "418         TESLA  2022   315.0\n",
              "419        TOYOTA  2022  3545.0\n",
              "420       TRIUMPH  2022     2.0\n",
              "421    VOLKSWAGEN  2022   241.0\n",
              "422         VOLVO  2022   185.0\n",
              "\n",
              "[423 rows x 3 columns]"
            ],
            "text/html": [
              "\n",
              "  <div id=\"df-f1f8b1bd-8e21-49d8-b6d9-80b68411de3e\">\n",
              "    <div class=\"colab-df-container\">\n",
              "      <div>\n",
              "<style scoped>\n",
              "    .dataframe tbody tr th:only-of-type {\n",
              "        vertical-align: middle;\n",
              "    }\n",
              "\n",
              "    .dataframe tbody tr th {\n",
              "        vertical-align: top;\n",
              "    }\n",
              "\n",
              "    .dataframe thead th {\n",
              "        text-align: right;\n",
              "    }\n",
              "</style>\n",
              "<table border=\"1\" class=\"dataframe\">\n",
              "  <thead>\n",
              "    <tr style=\"text-align: right;\">\n",
              "      <th></th>\n",
              "      <th>make</th>\n",
              "      <th>year</th>\n",
              "      <th>number</th>\n",
              "    </tr>\n",
              "  </thead>\n",
              "  <tbody>\n",
              "    <tr>\n",
              "      <th>0</th>\n",
              "      <td>ALFA ROMEO</td>\n",
              "      <td>2015</td>\n",
              "      <td>31.0</td>\n",
              "    </tr>\n",
              "    <tr>\n",
              "      <th>1</th>\n",
              "      <td>ALPINA</td>\n",
              "      <td>2015</td>\n",
              "      <td>9.0</td>\n",
              "    </tr>\n",
              "    <tr>\n",
              "      <th>2</th>\n",
              "      <td>ASTON MARTIN</td>\n",
              "      <td>2015</td>\n",
              "      <td>5.0</td>\n",
              "    </tr>\n",
              "    <tr>\n",
              "      <th>3</th>\n",
              "      <td>AUDI</td>\n",
              "      <td>2015</td>\n",
              "      <td>2093.0</td>\n",
              "    </tr>\n",
              "    <tr>\n",
              "      <th>4</th>\n",
              "      <td>AUSTIN</td>\n",
              "      <td>2015</td>\n",
              "      <td>2.0</td>\n",
              "    </tr>\n",
              "    <tr>\n",
              "      <th>...</th>\n",
              "      <td>...</td>\n",
              "      <td>...</td>\n",
              "      <td>...</td>\n",
              "    </tr>\n",
              "    <tr>\n",
              "      <th>418</th>\n",
              "      <td>TESLA</td>\n",
              "      <td>2022</td>\n",
              "      <td>315.0</td>\n",
              "    </tr>\n",
              "    <tr>\n",
              "      <th>419</th>\n",
              "      <td>TOYOTA</td>\n",
              "      <td>2022</td>\n",
              "      <td>3545.0</td>\n",
              "    </tr>\n",
              "    <tr>\n",
              "      <th>420</th>\n",
              "      <td>TRIUMPH</td>\n",
              "      <td>2022</td>\n",
              "      <td>2.0</td>\n",
              "    </tr>\n",
              "    <tr>\n",
              "      <th>421</th>\n",
              "      <td>VOLKSWAGEN</td>\n",
              "      <td>2022</td>\n",
              "      <td>241.0</td>\n",
              "    </tr>\n",
              "    <tr>\n",
              "      <th>422</th>\n",
              "      <td>VOLVO</td>\n",
              "      <td>2022</td>\n",
              "      <td>185.0</td>\n",
              "    </tr>\n",
              "  </tbody>\n",
              "</table>\n",
              "<p>423 rows × 3 columns</p>\n",
              "</div>\n",
              "      <button class=\"colab-df-convert\" onclick=\"convertToInteractive('df-f1f8b1bd-8e21-49d8-b6d9-80b68411de3e')\"\n",
              "              title=\"Convert this dataframe to an interactive table.\"\n",
              "              style=\"display:none;\">\n",
              "        \n",
              "  <svg xmlns=\"http://www.w3.org/2000/svg\" height=\"24px\"viewBox=\"0 0 24 24\"\n",
              "       width=\"24px\">\n",
              "    <path d=\"M0 0h24v24H0V0z\" fill=\"none\"/>\n",
              "    <path d=\"M18.56 5.44l.94 2.06.94-2.06 2.06-.94-2.06-.94-.94-2.06-.94 2.06-2.06.94zm-11 1L8.5 8.5l.94-2.06 2.06-.94-2.06-.94L8.5 2.5l-.94 2.06-2.06.94zm10 10l.94 2.06.94-2.06 2.06-.94-2.06-.94-.94-2.06-.94 2.06-2.06.94z\"/><path d=\"M17.41 7.96l-1.37-1.37c-.4-.4-.92-.59-1.43-.59-.52 0-1.04.2-1.43.59L10.3 9.45l-7.72 7.72c-.78.78-.78 2.05 0 2.83L4 21.41c.39.39.9.59 1.41.59.51 0 1.02-.2 1.41-.59l7.78-7.78 2.81-2.81c.8-.78.8-2.07 0-2.86zM5.41 20L4 18.59l7.72-7.72 1.47 1.35L5.41 20z\"/>\n",
              "  </svg>\n",
              "      </button>\n",
              "      \n",
              "  <style>\n",
              "    .colab-df-container {\n",
              "      display:flex;\n",
              "      flex-wrap:wrap;\n",
              "      gap: 12px;\n",
              "    }\n",
              "\n",
              "    .colab-df-convert {\n",
              "      background-color: #E8F0FE;\n",
              "      border: none;\n",
              "      border-radius: 50%;\n",
              "      cursor: pointer;\n",
              "      display: none;\n",
              "      fill: #1967D2;\n",
              "      height: 32px;\n",
              "      padding: 0 0 0 0;\n",
              "      width: 32px;\n",
              "    }\n",
              "\n",
              "    .colab-df-convert:hover {\n",
              "      background-color: #E2EBFA;\n",
              "      box-shadow: 0px 1px 2px rgba(60, 64, 67, 0.3), 0px 1px 3px 1px rgba(60, 64, 67, 0.15);\n",
              "      fill: #174EA6;\n",
              "    }\n",
              "\n",
              "    [theme=dark] .colab-df-convert {\n",
              "      background-color: #3B4455;\n",
              "      fill: #D2E3FC;\n",
              "    }\n",
              "\n",
              "    [theme=dark] .colab-df-convert:hover {\n",
              "      background-color: #434B5C;\n",
              "      box-shadow: 0px 1px 3px 1px rgba(0, 0, 0, 0.15);\n",
              "      filter: drop-shadow(0px 1px 2px rgba(0, 0, 0, 0.3));\n",
              "      fill: #FFFFFF;\n",
              "    }\n",
              "  </style>\n",
              "\n",
              "      <script>\n",
              "        const buttonEl =\n",
              "          document.querySelector('#df-f1f8b1bd-8e21-49d8-b6d9-80b68411de3e button.colab-df-convert');\n",
              "        buttonEl.style.display =\n",
              "          google.colab.kernel.accessAllowed ? 'block' : 'none';\n",
              "\n",
              "        async function convertToInteractive(key) {\n",
              "          const element = document.querySelector('#df-f1f8b1bd-8e21-49d8-b6d9-80b68411de3e');\n",
              "          const dataTable =\n",
              "            await google.colab.kernel.invokeFunction('convertToInteractive',\n",
              "                                                     [key], {});\n",
              "          if (!dataTable) return;\n",
              "\n",
              "          const docLinkHtml = 'Like what you see? Visit the ' +\n",
              "            '<a target=\"_blank\" href=https://colab.research.google.com/notebooks/data_table.ipynb>data table notebook</a>'\n",
              "            + ' to learn more about interactive tables.';\n",
              "          element.innerHTML = '';\n",
              "          dataTable['output_type'] = 'display_data';\n",
              "          await google.colab.output.renderOutput(dataTable, element);\n",
              "          const docLink = document.createElement('div');\n",
              "          docLink.innerHTML = docLinkHtml;\n",
              "          element.appendChild(docLink);\n",
              "        }\n",
              "      </script>\n",
              "    </div>\n",
              "  </div>\n",
              "  "
            ]
          },
          "metadata": {},
          "execution_count": 144
        }
      ]
    },
    {
      "cell_type": "code",
      "source": [
        "cars_annual_with_2022.year.unique()"
      ],
      "metadata": {
        "colab": {
          "base_uri": "https://localhost:8080/"
        },
        "id": "bVPWlueATtqw",
        "outputId": "b79d85c7-872f-4b25-8c0e-47c0bc9ca4a0"
      },
      "execution_count": 145,
      "outputs": [
        {
          "output_type": "execute_result",
          "data": {
            "text/plain": [
              "array([2015, 2016, 2017, 2018, 2019, 2020, 2021, 2022])"
            ]
          },
          "metadata": {},
          "execution_count": 145
        }
      ]
    },
    {
      "cell_type": "markdown",
      "source": [
        "#### **Column-wise concatenation**\n",
        "\n",
        "If batches of data are split column wise, we can specify `axis=1` for column-wise concatenation. \n",
        "\n",
        "To demonstrate this, let's first create a DataFrame with a `final` column to indicate if the data is finalized. It would be false for all 2022 data:"
      ],
      "metadata": {
        "id": "AU8J5B-UUFob"
      }
    },
    {
      "cell_type": "code",
      "source": [
        "finalized = cars_annual_with_2022.year != 2022\n",
        "cars_annual_finalized = pd.DataFrame({'final': finalized})\n",
        "cars_annual_finalized"
      ],
      "metadata": {
        "colab": {
          "base_uri": "https://localhost:8080/",
          "height": 424
        },
        "id": "TrBRPqF1Vj5O",
        "outputId": "40cae8da-804c-4d0c-a0dc-4848b96665cc"
      },
      "execution_count": 146,
      "outputs": [
        {
          "output_type": "execute_result",
          "data": {
            "text/plain": [
              "     final\n",
              "0     True\n",
              "1     True\n",
              "2     True\n",
              "3     True\n",
              "4     True\n",
              "..     ...\n",
              "418  False\n",
              "419  False\n",
              "420  False\n",
              "421  False\n",
              "422  False\n",
              "\n",
              "[423 rows x 1 columns]"
            ],
            "text/html": [
              "\n",
              "  <div id=\"df-0a0d4cd3-1354-400e-9cf7-7414992f05b2\">\n",
              "    <div class=\"colab-df-container\">\n",
              "      <div>\n",
              "<style scoped>\n",
              "    .dataframe tbody tr th:only-of-type {\n",
              "        vertical-align: middle;\n",
              "    }\n",
              "\n",
              "    .dataframe tbody tr th {\n",
              "        vertical-align: top;\n",
              "    }\n",
              "\n",
              "    .dataframe thead th {\n",
              "        text-align: right;\n",
              "    }\n",
              "</style>\n",
              "<table border=\"1\" class=\"dataframe\">\n",
              "  <thead>\n",
              "    <tr style=\"text-align: right;\">\n",
              "      <th></th>\n",
              "      <th>final</th>\n",
              "    </tr>\n",
              "  </thead>\n",
              "  <tbody>\n",
              "    <tr>\n",
              "      <th>0</th>\n",
              "      <td>True</td>\n",
              "    </tr>\n",
              "    <tr>\n",
              "      <th>1</th>\n",
              "      <td>True</td>\n",
              "    </tr>\n",
              "    <tr>\n",
              "      <th>2</th>\n",
              "      <td>True</td>\n",
              "    </tr>\n",
              "    <tr>\n",
              "      <th>3</th>\n",
              "      <td>True</td>\n",
              "    </tr>\n",
              "    <tr>\n",
              "      <th>4</th>\n",
              "      <td>True</td>\n",
              "    </tr>\n",
              "    <tr>\n",
              "      <th>...</th>\n",
              "      <td>...</td>\n",
              "    </tr>\n",
              "    <tr>\n",
              "      <th>418</th>\n",
              "      <td>False</td>\n",
              "    </tr>\n",
              "    <tr>\n",
              "      <th>419</th>\n",
              "      <td>False</td>\n",
              "    </tr>\n",
              "    <tr>\n",
              "      <th>420</th>\n",
              "      <td>False</td>\n",
              "    </tr>\n",
              "    <tr>\n",
              "      <th>421</th>\n",
              "      <td>False</td>\n",
              "    </tr>\n",
              "    <tr>\n",
              "      <th>422</th>\n",
              "      <td>False</td>\n",
              "    </tr>\n",
              "  </tbody>\n",
              "</table>\n",
              "<p>423 rows × 1 columns</p>\n",
              "</div>\n",
              "      <button class=\"colab-df-convert\" onclick=\"convertToInteractive('df-0a0d4cd3-1354-400e-9cf7-7414992f05b2')\"\n",
              "              title=\"Convert this dataframe to an interactive table.\"\n",
              "              style=\"display:none;\">\n",
              "        \n",
              "  <svg xmlns=\"http://www.w3.org/2000/svg\" height=\"24px\"viewBox=\"0 0 24 24\"\n",
              "       width=\"24px\">\n",
              "    <path d=\"M0 0h24v24H0V0z\" fill=\"none\"/>\n",
              "    <path d=\"M18.56 5.44l.94 2.06.94-2.06 2.06-.94-2.06-.94-.94-2.06-.94 2.06-2.06.94zm-11 1L8.5 8.5l.94-2.06 2.06-.94-2.06-.94L8.5 2.5l-.94 2.06-2.06.94zm10 10l.94 2.06.94-2.06 2.06-.94-2.06-.94-.94-2.06-.94 2.06-2.06.94z\"/><path d=\"M17.41 7.96l-1.37-1.37c-.4-.4-.92-.59-1.43-.59-.52 0-1.04.2-1.43.59L10.3 9.45l-7.72 7.72c-.78.78-.78 2.05 0 2.83L4 21.41c.39.39.9.59 1.41.59.51 0 1.02-.2 1.41-.59l7.78-7.78 2.81-2.81c.8-.78.8-2.07 0-2.86zM5.41 20L4 18.59l7.72-7.72 1.47 1.35L5.41 20z\"/>\n",
              "  </svg>\n",
              "      </button>\n",
              "      \n",
              "  <style>\n",
              "    .colab-df-container {\n",
              "      display:flex;\n",
              "      flex-wrap:wrap;\n",
              "      gap: 12px;\n",
              "    }\n",
              "\n",
              "    .colab-df-convert {\n",
              "      background-color: #E8F0FE;\n",
              "      border: none;\n",
              "      border-radius: 50%;\n",
              "      cursor: pointer;\n",
              "      display: none;\n",
              "      fill: #1967D2;\n",
              "      height: 32px;\n",
              "      padding: 0 0 0 0;\n",
              "      width: 32px;\n",
              "    }\n",
              "\n",
              "    .colab-df-convert:hover {\n",
              "      background-color: #E2EBFA;\n",
              "      box-shadow: 0px 1px 2px rgba(60, 64, 67, 0.3), 0px 1px 3px 1px rgba(60, 64, 67, 0.15);\n",
              "      fill: #174EA6;\n",
              "    }\n",
              "\n",
              "    [theme=dark] .colab-df-convert {\n",
              "      background-color: #3B4455;\n",
              "      fill: #D2E3FC;\n",
              "    }\n",
              "\n",
              "    [theme=dark] .colab-df-convert:hover {\n",
              "      background-color: #434B5C;\n",
              "      box-shadow: 0px 1px 3px 1px rgba(0, 0, 0, 0.15);\n",
              "      filter: drop-shadow(0px 1px 2px rgba(0, 0, 0, 0.3));\n",
              "      fill: #FFFFFF;\n",
              "    }\n",
              "  </style>\n",
              "\n",
              "      <script>\n",
              "        const buttonEl =\n",
              "          document.querySelector('#df-0a0d4cd3-1354-400e-9cf7-7414992f05b2 button.colab-df-convert');\n",
              "        buttonEl.style.display =\n",
              "          google.colab.kernel.accessAllowed ? 'block' : 'none';\n",
              "\n",
              "        async function convertToInteractive(key) {\n",
              "          const element = document.querySelector('#df-0a0d4cd3-1354-400e-9cf7-7414992f05b2');\n",
              "          const dataTable =\n",
              "            await google.colab.kernel.invokeFunction('convertToInteractive',\n",
              "                                                     [key], {});\n",
              "          if (!dataTable) return;\n",
              "\n",
              "          const docLinkHtml = 'Like what you see? Visit the ' +\n",
              "            '<a target=\"_blank\" href=https://colab.research.google.com/notebooks/data_table.ipynb>data table notebook</a>'\n",
              "            + ' to learn more about interactive tables.';\n",
              "          element.innerHTML = '';\n",
              "          dataTable['output_type'] = 'display_data';\n",
              "          await google.colab.output.renderOutput(dataTable, element);\n",
              "          const docLink = document.createElement('div');\n",
              "          docLink.innerHTML = docLinkHtml;\n",
              "          element.appendChild(docLink);\n",
              "        }\n",
              "      </script>\n",
              "    </div>\n",
              "  </div>\n",
              "  "
            ]
          },
          "metadata": {},
          "execution_count": 146
        }
      ]
    },
    {
      "cell_type": "markdown",
      "source": [
        "To perform column wise concatenation:"
      ],
      "metadata": {
        "id": "sVZyeGI2WW7a"
      }
    },
    {
      "cell_type": "code",
      "source": [
        "pd.concat([cars_annual_with_2022, cars_annual_finalized], axis=1)"
      ],
      "metadata": {
        "colab": {
          "base_uri": "https://localhost:8080/",
          "height": 424
        },
        "id": "ukaM3eDOWetn",
        "outputId": "b9e83e1f-24e4-43bf-b934-2ba84b5a0eac"
      },
      "execution_count": 147,
      "outputs": [
        {
          "output_type": "execute_result",
          "data": {
            "text/plain": [
              "             make  year  number  final\n",
              "0      ALFA ROMEO  2015    31.0   True\n",
              "1          ALPINA  2015     9.0   True\n",
              "2    ASTON MARTIN  2015     5.0   True\n",
              "3            AUDI  2015  2093.0   True\n",
              "4          AUSTIN  2015     2.0   True\n",
              "..            ...   ...     ...    ...\n",
              "418         TESLA  2022   315.0  False\n",
              "419        TOYOTA  2022  3545.0  False\n",
              "420       TRIUMPH  2022     2.0  False\n",
              "421    VOLKSWAGEN  2022   241.0  False\n",
              "422         VOLVO  2022   185.0  False\n",
              "\n",
              "[423 rows x 4 columns]"
            ],
            "text/html": [
              "\n",
              "  <div id=\"df-5185cef8-174f-4e78-8960-159b9ccf877e\">\n",
              "    <div class=\"colab-df-container\">\n",
              "      <div>\n",
              "<style scoped>\n",
              "    .dataframe tbody tr th:only-of-type {\n",
              "        vertical-align: middle;\n",
              "    }\n",
              "\n",
              "    .dataframe tbody tr th {\n",
              "        vertical-align: top;\n",
              "    }\n",
              "\n",
              "    .dataframe thead th {\n",
              "        text-align: right;\n",
              "    }\n",
              "</style>\n",
              "<table border=\"1\" class=\"dataframe\">\n",
              "  <thead>\n",
              "    <tr style=\"text-align: right;\">\n",
              "      <th></th>\n",
              "      <th>make</th>\n",
              "      <th>year</th>\n",
              "      <th>number</th>\n",
              "      <th>final</th>\n",
              "    </tr>\n",
              "  </thead>\n",
              "  <tbody>\n",
              "    <tr>\n",
              "      <th>0</th>\n",
              "      <td>ALFA ROMEO</td>\n",
              "      <td>2015</td>\n",
              "      <td>31.0</td>\n",
              "      <td>True</td>\n",
              "    </tr>\n",
              "    <tr>\n",
              "      <th>1</th>\n",
              "      <td>ALPINA</td>\n",
              "      <td>2015</td>\n",
              "      <td>9.0</td>\n",
              "      <td>True</td>\n",
              "    </tr>\n",
              "    <tr>\n",
              "      <th>2</th>\n",
              "      <td>ASTON MARTIN</td>\n",
              "      <td>2015</td>\n",
              "      <td>5.0</td>\n",
              "      <td>True</td>\n",
              "    </tr>\n",
              "    <tr>\n",
              "      <th>3</th>\n",
              "      <td>AUDI</td>\n",
              "      <td>2015</td>\n",
              "      <td>2093.0</td>\n",
              "      <td>True</td>\n",
              "    </tr>\n",
              "    <tr>\n",
              "      <th>4</th>\n",
              "      <td>AUSTIN</td>\n",
              "      <td>2015</td>\n",
              "      <td>2.0</td>\n",
              "      <td>True</td>\n",
              "    </tr>\n",
              "    <tr>\n",
              "      <th>...</th>\n",
              "      <td>...</td>\n",
              "      <td>...</td>\n",
              "      <td>...</td>\n",
              "      <td>...</td>\n",
              "    </tr>\n",
              "    <tr>\n",
              "      <th>418</th>\n",
              "      <td>TESLA</td>\n",
              "      <td>2022</td>\n",
              "      <td>315.0</td>\n",
              "      <td>False</td>\n",
              "    </tr>\n",
              "    <tr>\n",
              "      <th>419</th>\n",
              "      <td>TOYOTA</td>\n",
              "      <td>2022</td>\n",
              "      <td>3545.0</td>\n",
              "      <td>False</td>\n",
              "    </tr>\n",
              "    <tr>\n",
              "      <th>420</th>\n",
              "      <td>TRIUMPH</td>\n",
              "      <td>2022</td>\n",
              "      <td>2.0</td>\n",
              "      <td>False</td>\n",
              "    </tr>\n",
              "    <tr>\n",
              "      <th>421</th>\n",
              "      <td>VOLKSWAGEN</td>\n",
              "      <td>2022</td>\n",
              "      <td>241.0</td>\n",
              "      <td>False</td>\n",
              "    </tr>\n",
              "    <tr>\n",
              "      <th>422</th>\n",
              "      <td>VOLVO</td>\n",
              "      <td>2022</td>\n",
              "      <td>185.0</td>\n",
              "      <td>False</td>\n",
              "    </tr>\n",
              "  </tbody>\n",
              "</table>\n",
              "<p>423 rows × 4 columns</p>\n",
              "</div>\n",
              "      <button class=\"colab-df-convert\" onclick=\"convertToInteractive('df-5185cef8-174f-4e78-8960-159b9ccf877e')\"\n",
              "              title=\"Convert this dataframe to an interactive table.\"\n",
              "              style=\"display:none;\">\n",
              "        \n",
              "  <svg xmlns=\"http://www.w3.org/2000/svg\" height=\"24px\"viewBox=\"0 0 24 24\"\n",
              "       width=\"24px\">\n",
              "    <path d=\"M0 0h24v24H0V0z\" fill=\"none\"/>\n",
              "    <path d=\"M18.56 5.44l.94 2.06.94-2.06 2.06-.94-2.06-.94-.94-2.06-.94 2.06-2.06.94zm-11 1L8.5 8.5l.94-2.06 2.06-.94-2.06-.94L8.5 2.5l-.94 2.06-2.06.94zm10 10l.94 2.06.94-2.06 2.06-.94-2.06-.94-.94-2.06-.94 2.06-2.06.94z\"/><path d=\"M17.41 7.96l-1.37-1.37c-.4-.4-.92-.59-1.43-.59-.52 0-1.04.2-1.43.59L10.3 9.45l-7.72 7.72c-.78.78-.78 2.05 0 2.83L4 21.41c.39.39.9.59 1.41.59.51 0 1.02-.2 1.41-.59l7.78-7.78 2.81-2.81c.8-.78.8-2.07 0-2.86zM5.41 20L4 18.59l7.72-7.72 1.47 1.35L5.41 20z\"/>\n",
              "  </svg>\n",
              "      </button>\n",
              "      \n",
              "  <style>\n",
              "    .colab-df-container {\n",
              "      display:flex;\n",
              "      flex-wrap:wrap;\n",
              "      gap: 12px;\n",
              "    }\n",
              "\n",
              "    .colab-df-convert {\n",
              "      background-color: #E8F0FE;\n",
              "      border: none;\n",
              "      border-radius: 50%;\n",
              "      cursor: pointer;\n",
              "      display: none;\n",
              "      fill: #1967D2;\n",
              "      height: 32px;\n",
              "      padding: 0 0 0 0;\n",
              "      width: 32px;\n",
              "    }\n",
              "\n",
              "    .colab-df-convert:hover {\n",
              "      background-color: #E2EBFA;\n",
              "      box-shadow: 0px 1px 2px rgba(60, 64, 67, 0.3), 0px 1px 3px 1px rgba(60, 64, 67, 0.15);\n",
              "      fill: #174EA6;\n",
              "    }\n",
              "\n",
              "    [theme=dark] .colab-df-convert {\n",
              "      background-color: #3B4455;\n",
              "      fill: #D2E3FC;\n",
              "    }\n",
              "\n",
              "    [theme=dark] .colab-df-convert:hover {\n",
              "      background-color: #434B5C;\n",
              "      box-shadow: 0px 1px 3px 1px rgba(0, 0, 0, 0.15);\n",
              "      filter: drop-shadow(0px 1px 2px rgba(0, 0, 0, 0.3));\n",
              "      fill: #FFFFFF;\n",
              "    }\n",
              "  </style>\n",
              "\n",
              "      <script>\n",
              "        const buttonEl =\n",
              "          document.querySelector('#df-5185cef8-174f-4e78-8960-159b9ccf877e button.colab-df-convert');\n",
              "        buttonEl.style.display =\n",
              "          google.colab.kernel.accessAllowed ? 'block' : 'none';\n",
              "\n",
              "        async function convertToInteractive(key) {\n",
              "          const element = document.querySelector('#df-5185cef8-174f-4e78-8960-159b9ccf877e');\n",
              "          const dataTable =\n",
              "            await google.colab.kernel.invokeFunction('convertToInteractive',\n",
              "                                                     [key], {});\n",
              "          if (!dataTable) return;\n",
              "\n",
              "          const docLinkHtml = 'Like what you see? Visit the ' +\n",
              "            '<a target=\"_blank\" href=https://colab.research.google.com/notebooks/data_table.ipynb>data table notebook</a>'\n",
              "            + ' to learn more about interactive tables.';\n",
              "          element.innerHTML = '';\n",
              "          dataTable['output_type'] = 'display_data';\n",
              "          await google.colab.output.renderOutput(dataTable, element);\n",
              "          const docLink = document.createElement('div');\n",
              "          docLink.innerHTML = docLinkHtml;\n",
              "          element.appendChild(docLink);\n",
              "        }\n",
              "      </script>\n",
              "    </div>\n",
              "  </div>\n",
              "  "
            ]
          },
          "metadata": {},
          "execution_count": 147
        }
      ]
    },
    {
      "cell_type": "markdown",
      "source": [
        "`merge` and `concat` are two very powerful function for working with multiple DataFrames. Check out their documentation and Pandas' user guide on [Merge, join, concatenate and compare](https://pandas.pydata.org/docs/user_guide/merging.html) to learn more. \n",
        "\n",
        "**Tip**: you can always invoke `?` to bring up the documentation for any function in colab, e.g. `pd.concat?`"
      ],
      "metadata": {
        "id": "oUcQgxE8XwGb"
      }
    },
    {
      "cell_type": "markdown",
      "source": [
        "# References & Additional Resources\n",
        "\n",
        "* **Important**: [Pandas Cheat sheet](https://github.com/pandas-dev/pandas/blob/main/doc/cheatsheet/Pandas_Cheat_Sheet.pdf) by Pandas\n",
        "\n",
        "* [NumPy Quickstart](https://numpy.org/doc/stable/user/quickstart.html) by NumPy\n",
        "\n",
        "* The Pandas section of this workshop is heavily based on [Pandas Workshop](https://github.com/stefmolin/pandas-workshop) by Stefanie Molin\n",
        "\n",
        "* [10 Minutes to Pandas](https://pandas.pydata.org/docs/user_guide/10min.html) - a part of Pandas' official user guide\n",
        "\n",
        "* [Python for Data Science](https://github.com/worldbank/Python-for-Data-Science/tree/master/June_2021_ETEC/day_2) for World Bank ETEC staff\n",
        "\n",
        "* [Python Training for Stata Users](https://github.com/worldbank/dime-python-training) by World Bank Development Impact Evaluation (DIME)\n",
        "\n",
        "* The Singapore annual and monthly car registration datasets used in the Pandas section come from [Singapore Land Transport Authority's Data Mall](https://datamall.lta.gov.sg/content/datamall/en/static-data.html)\n",
        "\n",
        "* [Long vs. Wide Data: What’s the Difference?](https://www.statology.org/long-vs-wide-data/) by Zach from Statology\n",
        "\n",
        "* [Flexible Imputation of Missing Data](https://stefvanbuuren.name/fimd/) by S. van Buuren"
      ],
      "metadata": {
        "id": "VjTKXK_Eb4Jr"
      }
    }
  ],
  "metadata": {
    "kernelspec": {
      "display_name": "Python 3",
      "language": "python",
      "name": "python3"
    },
    "language_info": {
      "codemirror_mode": {
        "name": "ipython",
        "version": 3
      },
      "file_extension": ".py",
      "mimetype": "text/x-python",
      "name": "python",
      "nbconvert_exporter": "python",
      "pygments_lexer": "ipython3",
      "version": "3.8.2"
    },
    "colab": {
      "name": "foundations-s3.ipynb",
      "provenance": [],
      "toc_visible": true,
      "include_colab_link": true
    }
  },
  "nbformat": 4,
  "nbformat_minor": 0
}
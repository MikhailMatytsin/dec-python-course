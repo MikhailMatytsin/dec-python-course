{
 "cells": [
  {
   "cell_type": "markdown",
   "metadata": {},
   "source": [
    "[![Open In Colab](https://colab.research.google.com/assets/colab-badge.svg)](https://colab.research.google.com/github/worldbank/dec-python-course/blob/main/1-foundations/2-control-flows-and-functions/solutions-s2.ipynb)"
   ]
  },
  {
   "cell_type": "markdown",
   "metadata": {},
   "source": [
    "## 2.1 Control Flow"
   ]
  },
  {
   "cell_type": "markdown",
   "metadata": {},
   "source": [
    "### Exercises"
   ]
  },
  {
   "cell_type": "markdown",
   "metadata": {},
   "source": [
    "#### Task 1 \n",
    "\n",
    "*Objective: Iterate through lists, use string formatting.*\n",
    "\n",
    "Write a program to print \"Welcome to beautiful {country}!\" for each country in the list."
   ]
  },
  {
   "cell_type": "code",
   "execution_count": null,
   "metadata": {},
   "outputs": [],
   "source": [
    "country_list = ['Kazakhstan','Kenya', 'Kiribati', \"Korea (DPRK)\", 'Korea (ROC)', 'Kosovo', 'Kuwait', 'Kyrgyzstan']"
   ]
  },
  {
   "cell_type": "code",
   "execution_count": null,
   "metadata": {},
   "outputs": [],
   "source": [
    "for country in country_list:\n",
    "    print(\"Welcome to beautiful {country}!\".format(country = country))"
   ]
  },
  {
   "cell_type": "markdown",
   "metadata": {},
   "source": [
    "#### Task 2\n",
    "\n",
    "*Objective: Iterate through a convoluted list and print it*\n",
    "\n",
    "Write a program to traverse thorugh the following list and create a new list with untangled objects. Your code must run without any AssertionError"
   ]
  },
  {
   "cell_type": "code",
   "execution_count": null,
   "metadata": {},
   "outputs": [],
   "source": [
    "my_list = [0,4,[4,3,2],[420, 250, 'dragon'],365,23,6, ['bagels', 'doughnuts']]"
   ]
  },
  {
   "cell_type": "code",
   "execution_count": null,
   "metadata": {},
   "outputs": [],
   "source": [
    "new_list = []\n",
    "\n",
    "for x in my_list:\n",
    "    if not isinstance(x, list):\n",
    "        new_list.append(x)\n",
    "    else:\n",
    "        for y in x:\n",
    "            new_list.append(y)\n",
    "\n",
    "## HINT: Since it is a list that contains other lists, use the inbuilt function \"isinstance\" \n",
    "# to check if the object in the iterable is a list or not. \n",
    "## If its a list, you need another 'for' loop that displays the elements of this list. \n",
    "# If not, display the elements of the main list\n",
    "\n",
    "## How to use \"isinstance\" : isinstance(var, list) == True if 'var' is a list, otherwise it will be False\n",
    "\n",
    "## ======== DO NOT EDIT THIS PART==========\n",
    "\n",
    "assert len(new_list) == 13 and hash(tuple(new_list)) == -7708149028463701646"
   ]
  },
  {
   "cell_type": "markdown",
   "metadata": {},
   "source": [
    "#### Task 3"
   ]
  },
  {
   "cell_type": "markdown",
   "metadata": {},
   "source": [
    "*Objective: Combine loops, logic conditions and math operations.*\n",
    "\n",
    "Write a program to loop from 1 to 100 and print all numbers that are divisible by 2, 3 and 7.\n",
    "\n",
    "BONUS: If it was too easy to crack, implement you code with `while` loop if you used `for` or `for` loop if you used `while`"
   ]
  },
  {
   "cell_type": "code",
   "execution_count": null,
   "metadata": {},
   "outputs": [],
   "source": [
    "x = 1\n",
    "while x <= 100:\n",
    "    if (x%2 ==0) and (x%3 ==0) and (x%7 == 0):\n",
    "        print(x)\n",
    "    x += 1"
   ]
  },
  {
   "cell_type": "markdown",
   "metadata": {},
   "source": [
    "#### Task 4\n",
    "*Objective: Combine loops, conditional statements, math operations, Python's input function and typical Computer Science algorithms*\n",
    "\n",
    "Write a program to print 'n' elements of a Fibonacci series. 'n' should be an input from the user. \n",
    "\n",
    "If you're unsure of what Fibonacci sequence is, you can get some hints [here](https://www.mathsisfun.com/numbers/fibonacci-sequence.html)"
   ]
  },
  {
   "cell_type": "code",
   "execution_count": null,
   "metadata": {},
   "outputs": [],
   "source": [
    "### YOUR CODE HERE\n",
    "\n",
    "# HINT: \"input\" is a python function that accepts an input from user in string format. \n",
    "# Be sure to convert the input into 'integer' type before assigning it to a variable.\n",
    "# So if you execute \"input(\"Number of terms: \")\" you will get a prompt to enter the number of terms.\n",
    "\n",
    "# HINT on Fibonacci Series: initialize two variables n1 and n2 with values 0 and 1, \n",
    "# since they are the initial two elements of the series. Afer that, create a loop that takes the sum of n1 and n2\n",
    "# and store them in a third variable (say r). In the next step, \n",
    "# you need to swap n1's value with n2 and n2's value with r (since the third element is the sum of previous two).\n",
    "\n",
    "n = int(input(\"Enter the n terms: \"))\n",
    "n1, n2 = 0, 1\n",
    "count = 0\n",
    "if n <= 0:\n",
    "    print(\"Please enter a positive integer\")\n",
    "elif n == 1:\n",
    "    print(\"Fibonacci series upto\",n,\":\")\n",
    "    print(n1)\n",
    "else:\n",
    "    print(\"Fibonacci series:\")\n",
    "    while count < n:\n",
    "        print(n1)\n",
    "        r = n1 + n2\n",
    "        n1 = n2\n",
    "        n2 = r\n",
    "        count += 1\n"
   ]
  },
  {
   "cell_type": "markdown",
   "metadata": {},
   "source": [
    "## 2.5 Functions"
   ]
  },
  {
   "cell_type": "markdown",
   "metadata": {},
   "source": [
    "### Exercises"
   ]
  },
  {
   "cell_type": "markdown",
   "metadata": {},
   "source": [
    "#### Task 5\n",
    "\n",
    "Create a function that takes 3 numbers as input and returns the maximum of them. Name the function `max_3`."
   ]
  },
  {
   "cell_type": "code",
   "execution_count": null,
   "metadata": {},
   "outputs": [],
   "source": [
    "## Your code must run without AssertionError. If you get the error, something is not right\n",
    "\n",
    "def max_3(a,b,c):\n",
    "\n",
    "    return max([a,b,c])\n",
    "\n",
    "\n",
    "## ======= DO NOT EDIT THIS PART========\n",
    "\n",
    "x = max_3(10, 7, 28)\n",
    "assert x == 28, \"This is not the max element\""
   ]
  },
  {
   "cell_type": "markdown",
   "metadata": {},
   "source": [
    "#### Task 6\n",
    "\n",
    "Write a function that takes a single string as an input but returns the reverse of it. For instance, if you input \"abcde\", it must return \"edcba\". Name the function `string_reverse`."
   ]
  },
  {
   "cell_type": "code",
   "execution_count": null,
   "metadata": {},
   "outputs": [],
   "source": [
    "## HINT: Create a temporary variable. Loop through the elements of the string and store them in the temporary variable. \n",
    "\n",
    "def string_reverse(string):\n",
    "\n",
    "    temp = ''\n",
    "    index = len(string)\n",
    "    while index > 0:\n",
    "        temp += string[ index - 1 ]\n",
    "        index = index - 1\n",
    "    return temp\n",
    "\n",
    "## ======= DO NOT EDIT THIS PART========\n",
    "\n",
    "assert string_reverse(\"rcb1096281\") == \"1826901bcr\", \"Oops! Guess that didn't work. Look the hint provided and try again\""
   ]
  },
  {
   "cell_type": "markdown",
   "metadata": {},
   "source": [
    "#### Task 7\n",
    "\n",
    "Create a function that calculates GDP per capita for any given country. Name the function `gdp_percapita` and it should accept two arguments : country code (ISO3) and year. Either name the arguments country, series, time or keep the order consistent in order to avoid validation error. \n",
    "\n",
    "i.e. your function should look like gdp_percapita(country, time) or should also work with gdp_percapita('AFG', 2010).\n",
    "\n",
    "Use World Bank's Open Data API to get the data and compute GDP per capita. \n",
    "\n",
    "Logic for calculation (`GDP per capita (current US$)`) : `GDP (current US$)` / `Population (total)`\n",
    "\n",
    "Feel free to re-use the code in `query_population` function above."
   ]
  },
  {
   "cell_type": "code",
   "execution_count": null,
   "metadata": {},
   "outputs": [],
   "source": [
    "## HINT: You'll have to make two requests to get data for two variables GDP and Population. \n",
    "## Series code for GDP is \"NY.GDP.MKTP.CD\" and for Population is \"NY.GDP.MKTP.CD\". \n",
    "## You can take help from query_population function and substitute the series code with the one provided above. \n",
    "## Index the request and get the values returned for that country and time period. \n",
    "\n",
    "## If you get JSONDecodeError, contact your TA\n",
    "\n",
    "def gdp_percapita(country = 'AFG', time = 2010):\n",
    "\n",
    "    import requests\n",
    "\n",
    "    req_pop = requests.get(\"https://api.worldbank.org/v2/sources/2/country/{}/series/{}/time/{}?format=json\".format(country, \"SP.POP.TOTL\", 'yr'+str(time))).json()\n",
    "\n",
    "    population = req_pop['source']['data'][0]['value']\n",
    "\n",
    "    req_gdp = requests.get(\"https://api.worldbank.org/v2/sources/2/country/{}/series/{}/time/{}?format=json\".format(country, \"NY.GDP.MKTP.CD\", 'yr'+str(time))).json()\n",
    "\n",
    "    gdp = req_gdp['source']['data'][0]['value']\n",
    "\n",
    "    gdp_percapita = gdp/population\n",
    "\n",
    "    return gdp_percapita\n",
    "\n",
    "\n",
    "## =======DON NOT EDIT THIS PART===========\n",
    "\n",
    "assert round(gdp_percapita('ARG', 2010), 2) == 10385.96, \"Something didn't work there! Look at the hints again\""
   ]
  },
  {
   "cell_type": "markdown",
   "metadata": {},
   "source": [
    "#### Task 8\n",
    "\n",
    "Create a function to flatten a list of elements without using in-built `flatten` function.\n",
    "\n",
    "i.e. If the input to function is a list [1,[2,3]] the output should be [1,2,3]\n",
    "\n",
    "or if the input list is [1,[2,3,4], 5, [6,7,8]] the output should be [1,2,3,4,5,6,7,8]"
   ]
  },
  {
   "cell_type": "code",
   "execution_count": null,
   "metadata": {},
   "outputs": [],
   "source": [
    "## HINT : Create an empty list that will store the final results.\n",
    "# Create another list that takes the input list (name it 'stack')\n",
    "# While the stack list remains valid i.e. True, check if the elements of the list are numbers or another list\n",
    "# If its a number, append the number in 'result' list, \n",
    "# if its another list, add the components of the list to 'stack' list using in-built ``extend`` method of list\n",
    "\n",
    "\n",
    "def flatten(input_list):\n",
    "    result = []\n",
    "\n",
    "    stack = [input_list]\n",
    "\n",
    "    while stack:\n",
    "        \n",
    "        current = stack.pop(-1)\n",
    "\n",
    "        if isinstance(current, list):\n",
    "            stack.extend(current)\n",
    "        else:\n",
    "            result.append(current)\n",
    "\n",
    "    result.reverse()\n",
    "\n",
    "    return result\n",
    "\n",
    "\n",
    "#======DO NOT EDIT THIS PART=========\n",
    "assert flatten([1,[2,3,4], 5, [6,7,8]]) == [1,2,3,4,5,6,7,8],\"Something is not right. Go through the hints again or discuss with your TA.\""
   ]
  }
 ],
 "metadata": {
  "kernelspec": {
   "display_name": "Python 3",
   "language": "python",
   "name": "python3"
  },
  "language_info": {
   "codemirror_mode": {
    "name": "ipython",
    "version": 3
   },
   "file_extension": ".py",
   "mimetype": "text/x-python",
   "name": "python",
   "nbconvert_exporter": "python",
   "pygments_lexer": "ipython3",
   "version": "3.8.2"
  },
  "vscode": {
   "interpreter": {
    "hash": "bb0faa44fec0270956f6a34db1a2b915ba50f0498862f6b15801f1e6d818612f"
   }
  }
 },
 "nbformat": 4,
 "nbformat_minor": 5
}

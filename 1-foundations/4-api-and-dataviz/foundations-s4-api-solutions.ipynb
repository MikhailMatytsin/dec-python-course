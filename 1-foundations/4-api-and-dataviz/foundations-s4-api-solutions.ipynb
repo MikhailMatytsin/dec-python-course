{
 "cells": [
  {
   "cell_type": "markdown",
   "metadata": {
    "colab_type": "text",
    "id": "view-in-github"
   },
   "source": [
    "<a href=\"https://colab.research.google.com/github/worldbank/dec-python-course/blob/main/1-foundations/4-api-and-dataviz/foundations-s4-api-solutions.ipynb\" target=\"_parent\"><img src=\"https://colab.research.google.com/assets/colab-badge.svg\" alt=\"Open In Colab\"/></a>"
   ]
  },
  {
   "cell_type": "code",
   "execution_count": null,
   "metadata": {},
   "outputs": [],
   "source": [
    "import pandas as pd\n",
    "import requests"
   ]
  },
  {
   "cell_type": "markdown",
   "metadata": {},
   "source": [
    "# Exercise 1\n",
    "\n",
    "Create a function that repeats the steps shown above and returns the latitude and longitude of the current location of the ISS. The location endpoint is this: `http://api.open-notify.org/iss-now.json`.\n",
    "\n",
    "Suggested steps:\n",
    "\n",
    "1. use `requests` to send a request for this URL and store the result in a variable\n",
    "2. If the response was not successful, return `None`\n",
    "3. If it was, extract the response content into a dictionary\n",
    "4. Extract the latitude and longitude from the dictionary and return them in your function"
   ]
  },
  {
   "cell_type": "code",
   "execution_count": null,
   "metadata": {},
   "outputs": [],
   "source": [
    "# Note: this function should not take any inputs. Leave the parentheses empty after the function name\n",
    "def iss_location():\n",
    "        \n",
    "    # === ADD YOUR SOLUTION HERE ===\n",
    "    \n",
    "    # Requesting data\n",
    "    url = 'http://api.open-notify.org/iss-now.json'\n",
    "    response = requests.get(url)\n",
    "    \n",
    "    if response.status_code == 200:\n",
    "    \n",
    "        # Extracting data\n",
    "        data = response.json()\n",
    "        latitude = float(data['iss_position']['latitude'])\n",
    "        longitude = float(data['iss_position']['longitude'])\n",
    "\n",
    "        # Note: using float() is optional, it transforms the lat and lon from strings to numbers\n",
    "\n",
    "        return latitude, longitude\n",
    "    \n",
    "    else:\n",
    "        \n",
    "        print('Request failed!')\n",
    "        return None"
   ]
  },
  {
   "cell_type": "markdown",
   "metadata": {},
   "source": [
    "# Exercise 2a\n",
    "\n",
    "Create a function that builds upon `fetch_geoboundaries_data()` and returns the actual geographic data from the API.\n",
    "\n",
    "Suggested steps:\n",
    "\n",
    "1. Inspect the result of `fetch_geoboundaries_data()` to locate where is the URL with the geographic data in the resulting dictionary\n",
    "1. Access the URL using `requests.get()` and store the response in a variable\n",
    "1. Use the `.json()` method to transform the response content in a dictionary and return that variable"
   ]
  },
  {
   "cell_type": "code",
   "execution_count": null,
   "metadata": {},
   "outputs": [],
   "source": [
    "# Do not modify this function but the next one\n",
    "def fetch_geoboundaries_data(country_code, admin_level):\n",
    "    \n",
    "    endpoint = 'https://www.geoboundaries.org/api/current/gbOpen/'\n",
    "    url = endpoint + country_code + '/ADM' + str(admin_level)\n",
    "    response = requests.get(url)\n",
    "    \n",
    "    if response.status_code == 200:\n",
    "        \n",
    "        data = response.json()\n",
    "        return data\n",
    "        \n",
    "    else:\n",
    "        \n",
    "        print('Request failed!')\n",
    "        return None\n",
    "\n",
    "# Modify this function for your answer:\n",
    "def obtain_geodata(country_code, admin_level):\n",
    "    \n",
    "    metadata = fetch_geoboundaries_data(country_code, admin_level)\n",
    "    \n",
    "    if metadata is None:\n",
    "        return None\n",
    "    \n",
    "    else:\n",
    "        \n",
    "        # === ADD YOUR SOLUTION HERE ===\n",
    "        \n",
    "        # The data URL is in the key 'simplifiedGeometryGeoJSON'\n",
    "        # We have to execute a get request to that URL and extract the content using .json()\n",
    "        data_url = metadata['simplifiedGeometryGeoJSON']\n",
    "        response = requests.get(data_url)\n",
    "        \n",
    "        if response.status_code == 200:\n",
    "            return response.json()\n",
    "        else:\n",
    "            print('Request failed!')\n",
    "            return None"
   ]
  },
  {
   "cell_type": "markdown",
   "metadata": {},
   "source": [
    "## Exercise 2b\n",
    "\n",
    "Modify the function `fetch_population_by_year()` below to retrieve the complete results for a given year (not only page 1) from the population endpoint.\n",
    "\n",
    "Suggested steps:\n",
    "\n",
    "1. Run `fetch_population_by_year()` for any year and inspect the resulting list. You will note that the first element of the list is a dictionary with a key `total` that indicates the total number of observations in the query result\n",
    "1. In your function, save that number into a variable\n",
    "1. Send a new API request adding the parameter `per_page` in the parameters dictionary. Its value should be the total number of observations\n",
    "1. The JSON object in the response content will be a new list with the same format: the first element of the list will contain metadata about the API result and the data will be in the second element\n",
    "1. Return the second element of your list"
   ]
  },
  {
   "cell_type": "code",
   "execution_count": null,
   "metadata": {},
   "outputs": [],
   "source": [
    "def fetch_population_by_year(year):\n",
    "    \n",
    "    endpoint = 'https://api.worldbank.org/v2/country/all/indicator/SP.POP.TOTL'\n",
    "    parameters = {'date': year, 'format':'json'}\n",
    "    response = requests.get(endpoint, params=parameters)\n",
    "    \n",
    "    if response.status_code == 200:\n",
    "        \n",
    "        data = response.json()\n",
    "        \n",
    "        # === ADD YOUR SOLUTION HERE ===\n",
    "        \n",
    "        # The total number of obs is in key named 'total' of the first element in data\n",
    "        total_obs = data[0]['total']\n",
    "        \n",
    "        # With this number we now execute another request adding the parameter \"per_page\"\n",
    "        # this specifies to the API that we want to get the total results in a single page\n",
    "        parameters['per_page'] = total_obs\n",
    "        # ^ this adds a key named 'per_page' with value total_obs to the existing\n",
    "        # dictionary named parameters\n",
    "        \n",
    "        \n",
    "        response = requests.get(endpoint, params=parameters)\n",
    "        if response.status_code == 200:\n",
    "            total_data = response.json()\n",
    "            return total_data\n",
    "        \n",
    "        else:\n",
    "            print('Request failed!')\n",
    "            return None\n",
    "    \n",
    "    else:\n",
    "        \n",
    "        print('Request failed!')\n",
    "        return None"
   ]
  }
 ],
 "metadata": {
  "kernelspec": {
   "display_name": "Python 3",
   "language": "python",
   "name": "python3"
  },
  "language_info": {
   "codemirror_mode": {
    "name": "ipython",
    "version": 3
   },
   "file_extension": ".py",
   "mimetype": "text/x-python",
   "name": "python",
   "nbconvert_exporter": "python",
   "pygments_lexer": "ipython3",
   "version": "3.7.6"
  }
 },
 "nbformat": 4,
 "nbformat_minor": 4
}

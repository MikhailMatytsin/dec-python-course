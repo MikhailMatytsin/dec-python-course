{
 "cells": [
  {
   "cell_type": "code",
   "execution_count": null,
   "metadata": {},
   "outputs": [],
   "source": [
    "import pandas as pd"
   ]
  },
  {
   "cell_type": "markdown",
   "metadata": {},
   "source": [
    "# Interacting with APIs using Python\n",
    "\n",
    "Now that we have an understanding of APIs, we can start interacting with them programatically."
   ]
  },
  {
   "cell_type": "markdown",
   "metadata": {},
   "source": [
    "# The `requests` library\n",
    "\n",
    "- `requests` is a Python library to interact with the web\n",
    "- It sends and receives data to and from URLs\n",
    "- You can think of it as a web browser (Chrome, Firefox), but without the graphic interface\n",
    "- APIs are URLs, so we can use `requests` to interact with APIs in Python\n",
    "\n",
    "To enable the use `requests` , run:"
   ]
  },
  {
   "cell_type": "code",
   "execution_count": null,
   "metadata": {},
   "outputs": [],
   "source": [
    "import requests"
   ]
  },
  {
   "cell_type": "markdown",
   "metadata": {},
   "source": [
    "## Receiving informationfrom the web"
   ]
  },
  {
   "cell_type": "markdown",
   "metadata": {},
   "source": [
    "- When we access a URL, most of the data we receive is in HTML format\n",
    "- A probably familiar example:"
   ]
  },
  {
   "cell_type": "code",
   "execution_count": null,
   "metadata": {},
   "outputs": [],
   "source": [
    "url = 'https://www.worldbank.org/en/home'"
   ]
  },
  {
   "cell_type": "code",
   "execution_count": null,
   "metadata": {},
   "outputs": [],
   "source": [
    "response = requests.get(url)"
   ]
  },
  {
   "cell_type": "code",
   "execution_count": null,
   "metadata": {},
   "outputs": [],
   "source": [
    "print(response)"
   ]
  },
  {
   "cell_type": "markdown",
   "metadata": {},
   "source": [
    "A status code of 200 indicates that the request was successful.\n",
    "\n",
    "The `.text` attribute allows to acces the text source code of the object retrieved in the response. In this case our object is an HTML file."
   ]
  },
  {
   "cell_type": "code",
   "execution_count": null,
   "metadata": {},
   "outputs": [],
   "source": [
    "print(response.text)"
   ]
  },
  {
   "cell_type": "markdown",
   "metadata": {},
   "source": [
    "This is how this code looks when rendered in a web browser, by the way:"
   ]
  },
  {
   "cell_type": "markdown",
   "metadata": {},
   "source": [
    "![world-bank-site](img/world-bank-site.PNG)"
   ]
  },
  {
   "cell_type": "markdown",
   "metadata": {},
   "source": [
    "## Interacting with APIs\n",
    "\n",
    "Remember the API to get live data from the ISS? http://open-notify.org\n",
    "\n",
    "We'll retrieve information from one of its two endpoints:\n",
    "\n",
    "- Astronauts in space now - http://api.open-notify.org/astros.json"
   ]
  },
  {
   "cell_type": "code",
   "execution_count": null,
   "metadata": {},
   "outputs": [],
   "source": [
    "url = 'http://api.open-notify.org/astros.json'"
   ]
  },
  {
   "cell_type": "code",
   "execution_count": null,
   "metadata": {},
   "outputs": [],
   "source": [
    "response = requests.get(url)"
   ]
  },
  {
   "cell_type": "code",
   "execution_count": null,
   "metadata": {},
   "outputs": [],
   "source": [
    "print(response)"
   ]
  },
  {
   "cell_type": "markdown",
   "metadata": {},
   "source": [
    "This time the result stored in `response` is not an HTML but a JSON file. We can use the `.json()` method to retrieve it:"
   ]
  },
  {
   "cell_type": "code",
   "execution_count": null,
   "metadata": {},
   "outputs": [],
   "source": [
    "response.json()"
   ]
  },
  {
   "cell_type": "markdown",
   "metadata": {},
   "source": [
    "JSON is a widely used data format, especially in APIs. JSON data are usually loaded as dictionaries by default in Python."
   ]
  },
  {
   "cell_type": "code",
   "execution_count": null,
   "metadata": {},
   "outputs": [],
   "source": [
    "data_dic = response.json()\n",
    "type(data_dic)"
   ]
  },
  {
   "cell_type": "code",
   "execution_count": null,
   "metadata": {},
   "outputs": [],
   "source": [
    "data_dic['people']"
   ]
  },
  {
   "cell_type": "markdown",
   "metadata": {},
   "source": [
    "Furthermore, we can transform the list inside `data['people']` into a Pandas dataframe for further analysis."
   ]
  },
  {
   "cell_type": "code",
   "execution_count": null,
   "metadata": {},
   "outputs": [],
   "source": [
    "df = pd.DataFrame(data=data_dic['people'])"
   ]
  },
  {
   "cell_type": "code",
   "execution_count": null,
   "metadata": {},
   "outputs": [],
   "source": [
    "df"
   ]
  },
  {
   "cell_type": "markdown",
   "metadata": {},
   "source": [
    "# Coding a simple API client\n",
    "\n",
    "We can write Python functions to simplify programmatic API access.\n",
    "\n",
    "## Example 1: URL-based parameters\n",
    "\n",
    "After exploring this API and its documentation, we knew that it takes URLs with the following generic form:\n",
    "\n",
    "`https://www.geoboundaries.org/api/current/gbOpen/[3-letter-iso-code]/[admin-level]/`\n",
    "\n",
    "Then, we can build a function that takes the 3-letter ISO code and the administative boundaries level as parameters to automate API calls."
   ]
  },
  {
   "cell_type": "code",
   "execution_count": null,
   "metadata": {},
   "outputs": [],
   "source": [
    "def fetch_geoboundaries_data(country_code, admin_level):\n",
    "    \n",
    "    endpoint = 'https://www.geoboundaries.org/api/current/gbOpen/'\n",
    "    url = endpoint + country_code + '/ADM' + str(admin_level)\n",
    "    response = requests.get(url)\n",
    "    \n",
    "    if response.status_code == 200:\n",
    "        \n",
    "        data = response.json()\n",
    "        return data\n",
    "        \n",
    "    else:\n",
    "        \n",
    "        print('Request failed!')\n",
    "        return None    "
   ]
  },
  {
   "cell_type": "markdown",
   "metadata": {},
   "source": [
    "We can use our new function to fetch admin-1 level data from Kenya."
   ]
  },
  {
   "cell_type": "code",
   "execution_count": null,
   "metadata": {},
   "outputs": [],
   "source": [
    "kenya_data = fetch_geoboundaries_data('KEN', 1)"
   ]
  },
  {
   "cell_type": "code",
   "execution_count": null,
   "metadata": {},
   "outputs": [],
   "source": [
    "print(kenya_data)"
   ]
  },
  {
   "cell_type": "markdown",
   "metadata": {},
   "source": [
    "A few notes:\n",
    "- You might have noticed that the result stored in `kenya_data` is not the actual admin-1 level boundaries, but _metadata_ about the boundaries data\n",
    "- A visual inspection of `kenya_data` shows that a URL to the data is in the key `simplifiedGeometryGeoJSON`"
   ]
  },
  {
   "cell_type": "code",
   "execution_count": null,
   "metadata": {},
   "outputs": [],
   "source": [
    "kenya_data['simplifiedGeometryGeoJSON']"
   ]
  },
  {
   "cell_type": "markdown",
   "metadata": {},
   "source": [
    "- You can use `requests` once again to fetch the data from this URL\n",
    "\n",
    "**Important:**\n",
    "- Not all APIs will provide direct access to the information you need\n",
    "- Many will require additional coding to get from the initial API call to the data of your interest\n",
    "\n",
    "**Challenge:** create a function that builds upon `fetch_geoboundaries_data()` and returns the actual geographic data."
   ]
  },
  {
   "cell_type": "markdown",
   "metadata": {},
   "source": [
    "## Example 2: Argument-based parameters\n",
    "\n",
    "- The example of geoboundaries.org takes _URL-based_ API query parameters\n",
    "- Many APIs take _argument-based_ query parameters\n",
    "- This will be the case every time you have to use query parameters separated by an ampersand symbol (`&`) after a question mark (`?`) in the API endpoint\n",
    "- Take this generic example:\n",
    "\n",
    "`https://api.org/endpoint/?parameter1=value1&parameter2=value2&parameter3=value3`\n",
    "\n",
    "- Theoretically, it's _possible_ to modify an API URL call using concatenated strings in Python to build argument-based queries\n",
    "\n",
    "```{python}\n",
    "endpoint = 'https://api.org/endpoint/'\n",
    "p1 = 'parameter1'\n",
    "v1 = 'value1'\n",
    "requests.get(endpoint+'?'+p1+'='+'v1)\n",
    "```\n",
    "\n",
    "- However, the convention in Python is to **use the argument `params` of `requests.get()`** to pass argument-based query parameters\n",
    "\n",
    "```{python}\n",
    "parameters = {'parameter1': 'value1'}\n",
    "requests.get(endpoint, params=parameters)\n",
    "```\n",
    "\n",
    "### Applied example: the WBG API\n",
    "\n",
    "The WBG has an extensive API with country indicators, among many other data. We'll use the endpoint of the total population API to fetch country population data.\n",
    "\n",
    "Documentation and use examples of the WBG API can be found in the [WBG Knowledge Base](https://datahelpdesk.worldbank.org/knowledgebase) and the [Developer Information resources](https://datahelpdesk.worldbank.org/knowledgebase/topics/125589-developer-information)."
   ]
  },
  {
   "cell_type": "code",
   "execution_count": null,
   "metadata": {},
   "outputs": [],
   "source": [
    "def fetch_population_by_year(year):\n",
    "    \n",
    "    endpoint = 'https://api.worldbank.org/v2/country/all/indicator/SP.POP.TOTL'\n",
    "    parameters = {'date': year, 'format':'json'}\n",
    "    # note: the API documentation specifies that format=json\n",
    "    # is a required parameter in order to return the results as JSON\n",
    "    response = requests.get(endpoint, params=parameters)\n",
    "    \n",
    "    if response.status_code == 200:\n",
    "        \n",
    "        data = response.json()\n",
    "        return data\n",
    "    \n",
    "    else:\n",
    "        \n",
    "        print('Request failed!')\n",
    "        return None"
   ]
  },
  {
   "cell_type": "code",
   "execution_count": null,
   "metadata": {
    "scrolled": false
   },
   "outputs": [],
   "source": [
    "pop_2015 = fetch_population_by_year(2015)"
   ]
  },
  {
   "cell_type": "code",
   "execution_count": null,
   "metadata": {},
   "outputs": [],
   "source": [
    "pop_2015"
   ]
  },
  {
   "cell_type": "markdown",
   "metadata": {},
   "source": [
    "A few notes:\n",
    "- This is the same data you obtain when accessing https://api.worldbank.org/v2/country/all/indicator/SP.POP.TOTL?date=2015&format=json on a web browser\n",
    "- In this case, the resulting JSON is not a dictionary but a list\n",
    "- Note the detail of the information in the keys `page`, `pages`, `per_page`, and `total` in the first element of `pop_2015`"
   ]
  },
  {
   "cell_type": "code",
   "execution_count": null,
   "metadata": {},
   "outputs": [],
   "source": [
    "print('Total obs: {}'.format(pop_2015[0]['total']))\n",
    "print('Obs per page: {}'.format(pop_2015[0]['per_page']))\n",
    "print('Total pages: {}'.format(pop_2015[0]['pages']))\n",
    "print('Current page: {}'.format(pop_2015[0]['page']))"
   ]
  },
  {
   "cell_type": "markdown",
   "metadata": {},
   "source": [
    "- The result is only one page with 50 observations, out of a total of 266\n",
    "- This means that results are incomplete! More API calls are needed to complete the total 266 observations\n",
    "- A further inspection of the API documentation shows that the parameters `page=page_number` or `per_page=obs_per_page` can be used to retrieve complete results.\n",
    "\n",
    "**Important:** When fetching data using APIs, always inspect the result to look for possible limitations in the results' default format. You might be inadvertently missing observations in your API calls!"
   ]
  },
  {
   "cell_type": "markdown",
   "metadata": {},
   "source": [
    "## Coding API clients - Main takeaways 1\n",
    "\n",
    "- Programming a client for an API requires reviewing the documentation and understanding the API uses\n",
    "- Many APIs will combine the use of URL-based and argument-based parameters to pass information in API queries. A good API client will take that into account to build the correct query URL and parameters argument. Take the following example:"
   ]
  },
  {
   "cell_type": "code",
   "execution_count": null,
   "metadata": {},
   "outputs": [],
   "source": [
    "def fetch_population_by_year_country(year, country):\n",
    "    \n",
    "    endpoint = 'https://api.worldbank.org/v2/country/' + country + '/indicator/SP.POP.TOTL'\n",
    "    parameters = {'date': year, 'format':'json'}\n",
    "    # note: the API documentation specifies that format=json\n",
    "    # is a required parameter in order to return the results as JSON\n",
    "    response = requests.get(endpoint, params=parameters)\n",
    "    \n",
    "    if response.status_code == 200:\n",
    "        \n",
    "        data = response.json()\n",
    "        return data\n",
    "    \n",
    "    else:\n",
    "        \n",
    "        print('Request failed!')\n",
    "        return None"
   ]
  },
  {
   "cell_type": "code",
   "execution_count": null,
   "metadata": {},
   "outputs": [],
   "source": [
    "brazil_data = fetch_population_by_year_country(2015, 'BRA')"
   ]
  },
  {
   "cell_type": "code",
   "execution_count": null,
   "metadata": {},
   "outputs": [],
   "source": [
    "brazil_data"
   ]
  },
  {
   "cell_type": "markdown",
   "metadata": {},
   "source": [
    "## Coding API clients - Main takeaways 2\n",
    "\n",
    "- Remember further coding might be needed to get from the API result to the information that is relevant for a user\n",
    "- Some APIs divide results with many observations in pages and return only a limited number of pages. It's up to the user to review the results and take measures to ensure data is complete\n",
    "\n",
    "**Challenges:**\n",
    "- Modify the function `fetch_population_by_year()` to retrieve the complete results (not only page 1) in the population endpoint\n",
    "- Create a new function that builds upon `fetch_population_by_year()` and returns a Pandas Series of country and region populations for a given year"
   ]
  },
  {
   "cell_type": "markdown",
   "metadata": {},
   "source": [
    "# Python API client libraries\n",
    "\n",
    "- Programming a client for an API is not always needed\n",
    "- Many APIs have their own client in the form of a Python library\n",
    "- Check the example of [`geopy`](https://geopy.readthedocs.io/), a [Nominatim](https://nominatim.org/) encoder"
   ]
  },
  {
   "cell_type": "code",
   "execution_count": null,
   "metadata": {},
   "outputs": [],
   "source": [
    "# Installing geopy in your personal library\n",
    "!pip install geopy"
   ]
  },
  {
   "cell_type": "code",
   "execution_count": null,
   "metadata": {},
   "outputs": [],
   "source": [
    "from geopy.geocoders import Nominatim"
   ]
  },
  {
   "cell_type": "code",
   "execution_count": null,
   "metadata": {},
   "outputs": [],
   "source": [
    "# Important: please add a user alias in this function\n",
    "geolocator = Nominatim(user_agent='write-your-alias-here')"
   ]
  },
  {
   "cell_type": "code",
   "execution_count": null,
   "metadata": {},
   "outputs": [],
   "source": [
    "query = geolocator.geocode('1818 H St NW, Washington DC')"
   ]
  },
  {
   "cell_type": "code",
   "execution_count": null,
   "metadata": {},
   "outputs": [],
   "source": [
    "print(query)"
   ]
  },
  {
   "cell_type": "code",
   "execution_count": null,
   "metadata": {},
   "outputs": [],
   "source": [
    "print('The address of the WB main building is: {}'.format(query.address))\n",
    "print('The location of the WB main building is: {}, {}'.format(query.latitude, query.longitude))"
   ]
  },
  {
   "cell_type": "markdown",
   "metadata": {},
   "source": [
    "Please note the following:\n",
    "- We didn't have to code an API client using `requests` this time: `geopy` is the API client\n",
    "- The results of our query are not in JSON format. `geopy` returns an ad-hoc variable class with the attributes `.adress`, `.latitude`, and `.longitude`, among others\n",
    "- We've mostly seen examples of database query APIs, but APIs can do much more!\n",
    "    + `geopy` is an example of an API that does some data processing with the information passed (the address)\n",
    "    + Remember: in general, an API is a channel to interact with a web server\n"
   ]
  },
  {
   "cell_type": "markdown",
   "metadata": {},
   "source": [
    "A few notes about API authentication:\n",
    "- Some APIs require some form of authentication to control API overuse\n",
    "    + That's why `Nominatim()` requires the `user_agent` parameter: it's a way of detecting which API calls come from the the same alias\n",
    "    + This is a very soft way of authentication\n",
    "- When authentication is needed, most APIs will require users to register and account and will provide a unique combination of characters called _API key_ that uniquely identifies the user\n",
    "- When they are required, API keys are usually passed as argument-based parameters. If the API has a dedicated client library, they will ask for the key after importing the library (as `user_agent` in `Nominatim()`) (we'll explain more about this later)"
   ]
  },
  {
   "cell_type": "markdown",
   "metadata": {},
   "source": [
    "## The World Bank API Python library\n",
    "\n",
    "- The World Bank API we used for one of the examples above also has a dedicated client Python library\n",
    "- Release blog post [here](https://blogs.worldbank.org/opendata/introducing-wbgapi-new-python-package-accessing-world-bank-data)\n",
    "- Documentation [here](https://pypi.org/project/wbgapi/)\n",
    "- Examples [here](https://nbviewer.org/github/tgherzog/wbgapi/blob/master/examples/wbgapi-cookbook.ipynb)"
   ]
  },
  {
   "cell_type": "code",
   "execution_count": null,
   "metadata": {},
   "outputs": [],
   "source": [
    "!pip install wbgapi"
   ]
  },
  {
   "cell_type": "code",
   "execution_count": null,
   "metadata": {},
   "outputs": [],
   "source": [
    "import wbgapi as wb"
   ]
  },
  {
   "cell_type": "markdown",
   "metadata": {},
   "source": [
    "This example gets the total population of Brazil for all years available:"
   ]
  },
  {
   "cell_type": "code",
   "execution_count": null,
   "metadata": {},
   "outputs": [],
   "source": [
    "wb.data.DataFrame('SP.POP.TOTL', 'BRA', labels=True)"
   ]
  },
  {
   "cell_type": "markdown",
   "metadata": {},
   "source": [
    "Remember the endpoint of this API? This URL would have returned a similar result in JSON format:\n",
    "https://api.worldbank.org/v2/country/BRA/indicator/SP.POP.TOTL?date=1960:2021&format=json\n",
    "\n",
    "We can also get the series for multiple countries if we specify a list instead of a single string:"
   ]
  },
  {
   "cell_type": "code",
   "execution_count": null,
   "metadata": {},
   "outputs": [],
   "source": [
    "wb.data.DataFrame('SP.POP.TOTL', ['BRA', 'ARG', 'URY', 'PRY'], labels=True)"
   ]
  },
  {
   "cell_type": "markdown",
   "metadata": {},
   "source": [
    "Lastly, we can specify the years we want in a population query:"
   ]
  },
  {
   "cell_type": "code",
   "execution_count": null,
   "metadata": {},
   "outputs": [],
   "source": [
    "countries = ['BRA', 'ARG', 'URY', 'PRY']\n",
    "years = range(2015, 2021) # note the last element is never included in range()\n",
    "wb.data.DataFrame('SP.POP.TOTL', countries, years, labels=True)"
   ]
  },
  {
   "cell_type": "markdown",
   "metadata": {},
   "source": [
    "The WB API has hundreds of indicator available. They can be explored with `wb.series.info()`:"
   ]
  },
  {
   "cell_type": "code",
   "execution_count": null,
   "metadata": {
    "scrolled": true
   },
   "outputs": [],
   "source": [
    "wb.series.info()"
   ]
  },
  {
   "cell_type": "markdown",
   "metadata": {},
   "source": [
    "## Python API client libraries - Main takeaways\n",
    "\n",
    "- API client libraries greatly facilitate the use of APIs. You don't have to code your own client anymore!\n",
    "- You need to review the library documentation to know how to use them\n",
    "- The resulting variables from client libraries might not be in JSON format\n",
    "    + `geopy` returned an ad-hoc variable class\n",
    "    + `wb.data.DataFrame` returned a Pandas dataframe, which is very convenient for further data wrangling\n",
    "- Many client libraries do much more than just retrieving the API results"
   ]
  }
 ],
 "metadata": {
  "kernelspec": {
   "display_name": "Python 3",
   "language": "python",
   "name": "python3"
  },
  "language_info": {
   "codemirror_mode": {
    "name": "ipython",
    "version": 3
   },
   "file_extension": ".py",
   "mimetype": "text/x-python",
   "name": "python",
   "nbconvert_exporter": "python",
   "pygments_lexer": "ipython3",
   "version": "3.7.6"
  }
 },
 "nbformat": 4,
 "nbformat_minor": 4
}

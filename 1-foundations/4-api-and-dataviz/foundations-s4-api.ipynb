{
 "cells": [
  {
   "cell_type": "markdown",
   "metadata": {
    "colab_type": "text",
    "id": "view-in-github"
   },
   "source": [
    "<a href=\"https://colab.research.google.com/github/worldbank/dec-python-course/blob/main/1-foundations/4-api-and-dataviz/foundations-s4-api.ipynb\" target=\"_parent\"><img src=\"https://colab.research.google.com/assets/colab-badge.svg\" alt=\"Open In Colab\"/></a>"
   ]
  },
  {
   "cell_type": "code",
   "execution_count": null,
   "metadata": {},
   "outputs": [],
   "source": [
    "import pandas as pd"
   ]
  },
  {
   "cell_type": "markdown",
   "metadata": {},
   "source": [
    "# Interacting with APIs using Python\n",
    "\n",
    "Now that we have an understanding of APIs, we can start interacting with them programatically."
   ]
  },
  {
   "cell_type": "markdown",
   "metadata": {},
   "source": [
    "# The `requests` library\n",
    "\n",
    "- `requests` is a Python library to interact with the internet\n",
    "- It sends and receives data to and from URLs\n",
    "- You can think of it as a web browser (Chrome, Firefox), but without the graphic interface\n",
    "- APIs are URLs, so we can use `requests` to interact with APIs in Python\n",
    "\n",
    "To enable the use `requests` , run:"
   ]
  },
  {
   "cell_type": "code",
   "execution_count": null,
   "metadata": {},
   "outputs": [],
   "source": [
    "import requests"
   ]
  },
  {
   "cell_type": "markdown",
   "metadata": {},
   "source": [
    "## Sending a request and receiving information from the web"
   ]
  },
  {
   "cell_type": "markdown",
   "metadata": {},
   "source": [
    "- When you access a URL in your web browser, it is sending a request to receive information from a web server\n",
    "- Usually, most of the information your browser receives as a response to your request is in HTML format\n",
    "- Your web browser then renders the HTML information in the response and shows it to you\n",
    "- A probably familiar example:\n",
    "\n",
    "`https://www.worldbank.org/en/home`"
   ]
  },
  {
   "cell_type": "markdown",
   "metadata": {},
   "source": [
    "![world-bank-site](img/world-bank-site.png)"
   ]
  },
  {
   "cell_type": "markdown",
   "metadata": {},
   "source": [
    "Interacting with the web using Python through `requests` is not different than this. The basic syntax of `requests` is the following:\n",
    "\n",
    "`requests.get(my_url)`\n",
    "\n",
    "- `my_url` is a string with the URL address you want to access\n",
    "- the `get()` method of `requests` uses your internet connection to enter a URL address in the internet and obtain a response with information from it\n",
    "- you can save the response in a Python variable this way:\n",
    "\n",
    "`response = requests.get(my_url)`\n",
    "\n",
    "See the following example:"
   ]
  },
  {
   "cell_type": "code",
   "execution_count": null,
   "metadata": {},
   "outputs": [],
   "source": [
    "url = 'https://www.worldbank.org/en/home'"
   ]
  },
  {
   "cell_type": "code",
   "execution_count": null,
   "metadata": {},
   "outputs": [],
   "source": [
    "response = requests.get(url)"
   ]
  },
  {
   "cell_type": "markdown",
   "metadata": {},
   "source": [
    "`response` is a variable of an ad-hoc type used by the `requests` library, similarly to how data frames and series are custom variable types from the Pandas library."
   ]
  },
  {
   "cell_type": "code",
   "execution_count": null,
   "metadata": {},
   "outputs": [],
   "source": [
    "type(response)"
   ]
  },
  {
   "cell_type": "markdown",
   "metadata": {},
   "source": [
    "The response to your request will be stored in `response` even if it failed. To check if your request was successful or not, use the attribute `status_code` of this variable type or print `response`."
   ]
  },
  {
   "cell_type": "code",
   "execution_count": null,
   "metadata": {},
   "outputs": [],
   "source": [
    "response.status_code"
   ]
  },
  {
   "cell_type": "code",
   "execution_count": null,
   "metadata": {},
   "outputs": [],
   "source": [
    "print(response)"
   ]
  },
  {
   "cell_type": "markdown",
   "metadata": {},
   "source": [
    "A status code of 200 means that your request received a successful response. These are some of the most common types of response codes:\n",
    "\n",
    "- **200 - OK:** successful request\n",
    "- **403 - Forbidden:** the user (you) is not authorized to access that URL\n",
    "- **404 - Not found:** the web server cannot find the requested resource (often because your URL is incorrect)\n",
    "- **429 - Too many requests:** the web server has a limit on how many requests a user can send over a period of time (rate limit) and you went over that limit\n",
    "- **500 - Internal server error:** the request didn't work because of an unspecified error originated by the web server, not the user\n",
    "\n",
    "If a request is successful, the response variable will contain the content (also called \"body\") of the response from the server. When you access a URL from your web browser, this is the part that contains the HTML code that your browser renders.\n",
    "\n",
    "In `response`, the response content is in the `content` attribute:"
   ]
  },
  {
   "cell_type": "code",
   "execution_count": null,
   "metadata": {},
   "outputs": [],
   "source": [
    "response.content"
   ]
  },
  {
   "cell_type": "markdown",
   "metadata": {},
   "source": [
    "## Interacting with APIs\n",
    "\n",
    "- `requests` works very similarly when you use it to interact with an API instead of a URL with HTML code in the response content\n",
    "- the only difference is that the content of an API request will be in a data-friendly format, such as JSON\n",
    "- JSON is a format for storing data that is commonly used to transfer data in the web\n",
    "- Python handles JSON data and reads them into lists or dictionaries (more on this below)\n",
    "\n",
    "Remember the API to get live data from the ISS? http://open-notify.org\n",
    "\n",
    "We'll retrieve information from one of its two endpoints:\n",
    "\n",
    "- Astronauts in space now - http://api.open-notify.org/astros.json"
   ]
  },
  {
   "cell_type": "code",
   "execution_count": null,
   "metadata": {},
   "outputs": [],
   "source": [
    "url = 'http://api.open-notify.org/astros.json'"
   ]
  },
  {
   "cell_type": "code",
   "execution_count": null,
   "metadata": {},
   "outputs": [],
   "source": [
    "response = requests.get(url)"
   ]
  },
  {
   "cell_type": "code",
   "execution_count": null,
   "metadata": {},
   "outputs": [],
   "source": [
    "response.status_code"
   ]
  },
  {
   "cell_type": "code",
   "execution_count": null,
   "metadata": {},
   "outputs": [],
   "source": [
    "response.content"
   ]
  },
  {
   "cell_type": "markdown",
   "metadata": {},
   "source": [
    "Response variable types from `requests` have the `json()` method which works very efficiently to convert JSON contents of a response into Python dictionaries or lists, depending on the format of the JSON data."
   ]
  },
  {
   "cell_type": "code",
   "execution_count": null,
   "metadata": {},
   "outputs": [],
   "source": [
    "response.json()"
   ]
  },
  {
   "cell_type": "markdown",
   "metadata": {},
   "source": [
    "The result of `response.json()` is a Python dictionary for this example."
   ]
  },
  {
   "cell_type": "code",
   "execution_count": null,
   "metadata": {},
   "outputs": [],
   "source": [
    "data_dic = response.json()\n",
    "type(data_dic)"
   ]
  },
  {
   "cell_type": "markdown",
   "metadata": {},
   "source": [
    "Now that the response content is saved into a dictionary, we can explore more about its content."
   ]
  },
  {
   "cell_type": "code",
   "execution_count": null,
   "metadata": {},
   "outputs": [],
   "source": [
    "data_dic.keys()"
   ]
  },
  {
   "cell_type": "code",
   "execution_count": null,
   "metadata": {},
   "outputs": [],
   "source": [
    "data_dic['number']"
   ]
  },
  {
   "cell_type": "code",
   "execution_count": null,
   "metadata": {},
   "outputs": [],
   "source": [
    "data_dic['people']"
   ]
  },
  {
   "cell_type": "code",
   "execution_count": null,
   "metadata": {},
   "outputs": [],
   "source": [
    "data_dic['message']"
   ]
  },
  {
   "cell_type": "markdown",
   "metadata": {},
   "source": [
    "Furthermore, we can transform the list inside `data['people']` into a Pandas dataframe for further analysis."
   ]
  },
  {
   "cell_type": "code",
   "execution_count": null,
   "metadata": {},
   "outputs": [],
   "source": [
    "df = pd.DataFrame(data=data_dic['people'])"
   ]
  },
  {
   "cell_type": "code",
   "execution_count": null,
   "metadata": {},
   "outputs": [],
   "source": [
    "df"
   ]
  },
  {
   "cell_type": "markdown",
   "metadata": {},
   "source": [
    "**Note:** the content and format of the JSON data in the response is specific to the API endpoint you access."
   ]
  },
  {
   "cell_type": "markdown",
   "metadata": {},
   "source": [
    "# Exercise 1\n",
    "\n",
    "Create a function that repeats the steps shown above and returns the latitude and longitude of the current location of the ISS. The location endpoint is this: `http://api.open-notify.org/iss-now.json`.\n",
    "\n",
    "Suggested steps:\n",
    "\n",
    "1. use `requests` to send a request for this URL and store the result in a variable\n",
    "2. If the response was not successful, return `None`\n",
    "3. If it was, extract the response content into a dictionary\n",
    "4. Extract the latitude and longitude from the dictionary and return them in your function"
   ]
  },
  {
   "cell_type": "code",
   "execution_count": null,
   "metadata": {},
   "outputs": [],
   "source": [
    "# Note: this function should not take any inputs. Leave the parentheses empty after the function name\n",
    "def iss_location():\n",
    "    \n",
    "    # === REPLACE THE EMPTY STRINGS AND None BELOW TO ADD YOUR SOLUTION ===\n",
    "    \n",
    "    url = ''            # 1. Add URL here\n",
    "    response = None     # 2. use requests to get the response of the URL\n",
    "    \n",
    "    if response.status_code == 200:\n",
    "        \n",
    "        data = None         # 3. Extract the data from response with the json() method\n",
    "        latitude = None     # 4. Extract the latitude from the data dictionary\n",
    "        longitude = None    # 5. Extract the logitude from the data dictionary\n",
    "        \n",
    "        return latitude, longitude\n",
    "    \n",
    "    # === DO NOT MODIFY THE FUNCTION FROM THIS POINT ON ===\n",
    "    else:\n",
    "        return None    "
   ]
  },
  {
   "cell_type": "markdown",
   "metadata": {},
   "source": [
    "Remove the first line of the followin block and run it to verify that your solution works. It should not return an error."
   ]
  },
  {
   "cell_type": "code",
   "execution_count": null,
   "metadata": {},
   "outputs": [],
   "source": [
    "%%script echo Remove this line after filling in your own code\n",
    "\n",
    "position = iss_location()\n",
    "assert isinstance(position[0], float) and isinstance(position[1], float)"
   ]
  },
  {
   "cell_type": "markdown",
   "metadata": {},
   "source": [
    "# Coding a simple API client\n",
    "\n",
    "- Remember we introduced the term \"client\" in the API explanation? A client is a piece of code that facilitates the interaction with an API\n",
    "- In the example with the astronauts, we had to go through several coding steps to execute the request, obtain the JSON data, and load it into a Pandas data frame\n",
    "- All of those steps could be packed in a Python function that simplified the process of interacting with the API. That function is an API client\n",
    "- In fact, in exercise 1 you were inadvertently creating an API client!\n",
    "- Most APIs require custom information to be passed in the URL. This can be incorporated to an API client, as in the examples below\n",
    "\n",
    "## Example 1: URL-based parameters\n",
    "\n",
    "We previously introduced the geoBoundaries API example. After exploring this API and its documentation, we knew that it takes URLs with the following generic form:\n",
    "\n",
    "`https://www.geoboundaries.org/api/current/gbOpen/[3-letter-iso-code]/[admin-level]/`\n",
    "\n",
    "Then, we can build a function that takes the 3-letter ISO code and the administative boundaries level as parameters to automate API calls."
   ]
  },
  {
   "cell_type": "code",
   "execution_count": null,
   "metadata": {},
   "outputs": [],
   "source": [
    "def fetch_geoboundaries_data(country_code, admin_level):\n",
    "    \n",
    "    endpoint = 'https://www.geoboundaries.org/api/current/gbOpen/'\n",
    "    url = endpoint + country_code + '/ADM' + str(admin_level)\n",
    "    response = requests.get(url)\n",
    "    \n",
    "    if response.status_code == 200:\n",
    "        \n",
    "        data = response.json()\n",
    "        return data\n",
    "        \n",
    "    else:\n",
    "        \n",
    "        print('Request failed!')\n",
    "        return None    "
   ]
  },
  {
   "cell_type": "markdown",
   "metadata": {},
   "source": [
    "We can use our new function to fetch admin-1 level data from Kenya."
   ]
  },
  {
   "cell_type": "code",
   "execution_count": null,
   "metadata": {},
   "outputs": [],
   "source": [
    "kenya_data = fetch_geoboundaries_data('KEN', 1)"
   ]
  },
  {
   "cell_type": "code",
   "execution_count": null,
   "metadata": {},
   "outputs": [],
   "source": [
    "kenya_data"
   ]
  },
  {
   "cell_type": "markdown",
   "metadata": {},
   "source": [
    "A few notes:\n",
    "- You might have noticed that the result stored in `kenya_data` is not the actual admin-1 level boundaries, but _metadata_ about the boundaries data\n",
    "- A visual inspection of `kenya_data` shows that a URL to the data is in the key `simplifiedGeometryGeoJSON`"
   ]
  },
  {
   "cell_type": "code",
   "execution_count": null,
   "metadata": {},
   "outputs": [],
   "source": [
    "kenya_data['simplifiedGeometryGeoJSON']"
   ]
  },
  {
   "cell_type": "markdown",
   "metadata": {},
   "source": [
    "- You can use `requests` once again to fetch the data from this URL\n",
    "\n",
    "**Important:**\n",
    "- Not all APIs will provide direct access to the information you need\n",
    "- Many will require additional coding to get from the initial API call to the data of your interest"
   ]
  },
  {
   "cell_type": "markdown",
   "metadata": {},
   "source": [
    "## Example 2: Argument-based parameters\n",
    "\n",
    "- The example of geoBoundaries takes _URL-based_ API query parameters\n",
    "- Many APIs take _argument-based_ query parameters\n",
    "- This will be the case every time you have to use query parameters separated by an ampersand symbol (`&`) after a question mark (`?`) in the API endpoint\n",
    "- Take this generic example:\n",
    "\n",
    "`https://api.org/endpoint/?parameter1=value1&parameter2=value2&parameter3=value3`\n",
    "\n",
    "- Theoretically, it's _possible_ to modify an API URL call using concatenated strings in Python to build argument-based queries"
   ]
  },
  {
   "cell_type": "code",
   "execution_count": null,
   "metadata": {},
   "outputs": [],
   "source": [
    "endpoint = 'https://api.org/endpoint/'\n",
    "p1 = 'parameter1'\n",
    "v1 = 'value1'\n",
    "url = endpoint+'?'+p1+'='+v1\n",
    "print(url)"
   ]
  },
  {
   "cell_type": "markdown",
   "metadata": {},
   "source": [
    "- Then we could use `requests` as usual to obtain a response from this API\n",
    "\n",
    "```{python}\n",
    "requests.get(url)\n",
    "```\n",
    "\n",
    "- However, the convention in Python is to **use the argument `params` of `requests.get()`** to pass argument-based query parameters\n",
    "\n",
    "```{python}\n",
    "parameters = {'parameter1': 'value1'}\n",
    "requests.get(endpoint, params=parameters)\n",
    "```"
   ]
  },
  {
   "cell_type": "markdown",
   "metadata": {},
   "source": [
    "### Applied example: the WBG API\n",
    "\n",
    "The WBG has an extensive API with country indicators, among many other data. We'll use the endpoint of the total population API to fetch country population data.\n",
    "\n",
    "Documentation and use examples of the WBG API can be found in the [WBG Knowledge Base](https://datahelpdesk.worldbank.org/knowledgebase) and the [Developer Information resources](https://datahelpdesk.worldbank.org/knowledgebase/topics/125589-developer-information)."
   ]
  },
  {
   "cell_type": "code",
   "execution_count": null,
   "metadata": {},
   "outputs": [],
   "source": [
    "def fetch_population_by_year(year):\n",
    "    \n",
    "    endpoint = 'https://api.worldbank.org/v2/country/all/indicator/SP.POP.TOTL'\n",
    "    parameters = {'date': year, 'format':'json'}\n",
    "    # note: the API documentation specifies that format=json\n",
    "    # is a required parameter in order to return the results as JSON\n",
    "    response = requests.get(endpoint, params=parameters)\n",
    "    \n",
    "    if response.status_code == 200:\n",
    "        \n",
    "        data = response.json()\n",
    "        return data\n",
    "    \n",
    "    else:\n",
    "        \n",
    "        print('Request failed!')\n",
    "        return None"
   ]
  },
  {
   "cell_type": "code",
   "execution_count": null,
   "metadata": {},
   "outputs": [],
   "source": [
    "pop_2015 = fetch_population_by_year(2015)"
   ]
  },
  {
   "cell_type": "code",
   "execution_count": null,
   "metadata": {},
   "outputs": [],
   "source": [
    "pop_2015"
   ]
  },
  {
   "cell_type": "markdown",
   "metadata": {},
   "source": [
    "A few notes:\n",
    "- This is the same data you obtain when accessing https://api.worldbank.org/v2/country/all/indicator/SP.POP.TOTL?date=2015&format=json on a web browser\n",
    "- In this case, the resulting JSON is not interpreted by Python as a dictionary but a list\n",
    "- The first element of this list contains metadata about the data returned by the API. The second element contains the actual data"
   ]
  },
  {
   "cell_type": "code",
   "execution_count": null,
   "metadata": {},
   "outputs": [],
   "source": [
    "pop_2015[0]"
   ]
  },
  {
   "cell_type": "markdown",
   "metadata": {},
   "source": [
    "- Note the detail of the information in the keys `page`, `pages`, `per_page`, and `total` in the first element of `pop_2015`"
   ]
  },
  {
   "cell_type": "code",
   "execution_count": null,
   "metadata": {},
   "outputs": [],
   "source": [
    "print('Total obs: {}'.format(pop_2015[0]['total']))\n",
    "print('Obs per page: {}'.format(pop_2015[0]['per_page']))\n",
    "print('Total pages: {}'.format(pop_2015[0]['pages']))\n",
    "print('Current page: {}'.format(pop_2015[0]['page']))"
   ]
  },
  {
   "cell_type": "markdown",
   "metadata": {},
   "source": [
    "- The result is only one page with 50 observations, out of a total of 266\n",
    "- This means that results are incomplete! More API calls are needed to complete the total 266 observations\n",
    "- A further inspection of the API documentation shows that the parameters `page=page_number` or `per_page=obs_per_page` can be used to retrieve complete results.\n",
    "\n",
    "**Important:** When fetching data using APIs, always inspect the result to look for possible limitations in the results' default format. You might be inadvertently missing observations in your API calls!"
   ]
  },
  {
   "cell_type": "markdown",
   "metadata": {},
   "source": [
    "## Coding API clients - Main takeaways 1\n",
    "\n",
    "- Programming a client for an API requires reviewing the documentation and understanding the API uses\n",
    "- Many APIs will combine the use of URL-based and argument-based parameters to pass information in API queries. A good API client will take that into account to build the correct query URL and parameters argument. Take the following example:"
   ]
  },
  {
   "cell_type": "code",
   "execution_count": null,
   "metadata": {},
   "outputs": [],
   "source": [
    "def fetch_population_by_year_country(year, country):\n",
    "    \n",
    "    endpoint = 'https://api.worldbank.org/v2/country/' + country + '/indicator/SP.POP.TOTL'\n",
    "    parameters = {'date': year, 'format':'json'}\n",
    "    # note: the API documentation specifies that format=json\n",
    "    # is a required parameter in order to return the results as JSON\n",
    "    response = requests.get(endpoint, params=parameters)\n",
    "    \n",
    "    if response.status_code == 200:\n",
    "        \n",
    "        data = response.json()\n",
    "        return data\n",
    "    \n",
    "    else:\n",
    "        \n",
    "        print('Request failed!')\n",
    "        return None"
   ]
  },
  {
   "cell_type": "code",
   "execution_count": null,
   "metadata": {},
   "outputs": [],
   "source": [
    "brazil_data = fetch_population_by_year_country(2015, 'BRA')"
   ]
  },
  {
   "cell_type": "code",
   "execution_count": null,
   "metadata": {},
   "outputs": [],
   "source": [
    "brazil_data"
   ]
  },
  {
   "cell_type": "markdown",
   "metadata": {},
   "source": [
    "## Coding API clients - Main takeaways 2\n",
    "\n",
    "- Remember that further coding might be needed to get from the API result to the information that is relevant for a user\n",
    "- Some APIs divide results with many observations in pages and return only a limited number of pages. It's up to the user to review the results and take measures to ensure data is complete"
   ]
  },
  {
   "cell_type": "markdown",
   "metadata": {},
   "source": [
    "# Exercise 2a\n",
    "\n",
    "Create a function that builds upon `fetch_geoboundaries_data()` and returns the actual geographic data from the API.\n",
    "\n",
    "Suggested steps:\n",
    "\n",
    "1. Inspect the result of `fetch_geoboundaries_data()` to locate where is the URL with the geographic data in the resulting dictionary\n",
    "1. Access the URL using `requests.get()` and store the response in a variable\n",
    "1. Use the `.json()` method to transform the response content in a dictionary and return that variable"
   ]
  },
  {
   "cell_type": "code",
   "execution_count": null,
   "metadata": {},
   "outputs": [],
   "source": [
    "#  == DO NOT MOFIDY THIS FUNCTION BUT THE NEXT ==\n",
    "def fetch_geoboundaries_data(country_code, admin_level):\n",
    "    \n",
    "    endpoint = 'https://www.geoboundaries.org/api/current/gbOpen/'\n",
    "    url = endpoint + country_code + '/ADM' + str(admin_level)\n",
    "    response = requests.get(url)\n",
    "    \n",
    "    if response.status_code == 200:\n",
    "        \n",
    "        data = response.json()\n",
    "        return data\n",
    "        \n",
    "    else:\n",
    "        \n",
    "        print('Request failed!')\n",
    "        return None\n",
    "\n",
    "# == MODIFY THIS FUNCTION FOR YOUR ANSWER ==\n",
    "def obtain_geodata(country_code, admin_level):\n",
    "    \n",
    "    metadata = fetch_geoboundaries_data(country_code, admin_level)\n",
    "    \n",
    "    if metadata is None:\n",
    "        # this is a check to see if the previous line worked. Do not modify it\n",
    "        return None\n",
    "    \n",
    "    else:\n",
    "        # === REPLACE THE None BELOW TO ADD YOUR SOLUTION ===\n",
    "        \n",
    "        data_url = None       # 1. Extract the URL containing the data from the metadata dictionary\n",
    "        response = None       # 2. Use requests to get a new reponse from that URL\n",
    "        \n",
    "        if response.status_code == 200:\n",
    "            geojson_data = None    # 3. Use the json() method to extract the data from response\n",
    "            return geojson_data\n",
    "        \n",
    "        # === DO NOT MODIFY THE FUNCTION FROM THIS POINT ON ===\n",
    "        else:\n",
    "            print('Request failed!')\n",
    "            return None"
   ]
  },
  {
   "cell_type": "markdown",
   "metadata": {},
   "source": [
    "## Exercise 2b\n",
    "\n",
    "Modify the function `fetch_population_by_year()` below to retrieve the complete results for a given year (not only page 1) from the population endpoint.\n",
    "\n",
    "Suggested steps:\n",
    "\n",
    "1. Run `fetch_population_by_year()` for any year and inspect the resulting list. You will note that the first element of the list is a dictionary with a key `total` that indicates the total number of observations in the query result\n",
    "1. In your function, save that number into a variable\n",
    "1. Send a new API request adding the parameter `per_page` in the parameters dictionary. Its value should be the total number of observations\n",
    "1. The JSON object in the response content will be a new list with the same format: the first element of the list will contain metadata about the API result and the data will be in the second element\n",
    "1. Return the second element of your list"
   ]
  },
  {
   "cell_type": "code",
   "execution_count": null,
   "metadata": {},
   "outputs": [],
   "source": [
    "def fetch_population_by_year(year):\n",
    "    \n",
    "    endpoint = 'https://api.worldbank.org/v2/country/all/indicator/SP.POP.TOTL'\n",
    "    parameters = {'date': year, 'format':'json'}\n",
    "    response = requests.get(endpoint, params=parameters)\n",
    "    \n",
    "    if response.status_code == 200:\n",
    "        \n",
    "        data = response.json()\n",
    "        \n",
    "        # === ADD YOUR SOLUTION HERE ===\n",
    "        # Note that this time we're not giving you the steps\n",
    "        # to follow and variables to create. Figuring that\n",
    "        # out is also part of the exercise :)\n",
    "        \n",
    "        return data\n",
    "    \n",
    "    else:\n",
    "        \n",
    "        print('Request failed!')\n",
    "        return None"
   ]
  },
  {
   "cell_type": "markdown",
   "metadata": {},
   "source": [
    "# Python API client libraries\n",
    "\n",
    "- Programming a client for an API is not always needed\n",
    "- Many APIs have their own client in the form of a Python library\n",
    "- Check the example of [`geopy`](https://geopy.readthedocs.io/), a [Nominatim](https://nominatim.org/) encoder"
   ]
  },
  {
   "cell_type": "code",
   "execution_count": null,
   "metadata": {},
   "outputs": [],
   "source": [
    "# Installing geopy in your personal library\n",
    "!pip install geopy"
   ]
  },
  {
   "cell_type": "code",
   "execution_count": null,
   "metadata": {},
   "outputs": [],
   "source": [
    "from geopy.geocoders import Nominatim"
   ]
  },
  {
   "cell_type": "code",
   "execution_count": null,
   "metadata": {},
   "outputs": [],
   "source": [
    "# Important: please add a user alias in this function\n",
    "geolocator = Nominatim(user_agent='write-your-alias-here')"
   ]
  },
  {
   "cell_type": "code",
   "execution_count": null,
   "metadata": {},
   "outputs": [],
   "source": [
    "query = geolocator.geocode('1818 H St NW, Washington DC')"
   ]
  },
  {
   "cell_type": "code",
   "execution_count": null,
   "metadata": {
    "scrolled": true
   },
   "outputs": [],
   "source": [
    "print(query)"
   ]
  },
  {
   "cell_type": "markdown",
   "metadata": {},
   "source": [
    "`query` is an ad-hoc variable type for this library."
   ]
  },
  {
   "cell_type": "code",
   "execution_count": null,
   "metadata": {},
   "outputs": [],
   "source": [
    "type(query)"
   ]
  },
  {
   "cell_type": "markdown",
   "metadata": {},
   "source": [
    "If you want to check the attributes and methods of this variable type, you can use `help(query)`, `dir(query)`, `query?`, or check the [`geopy` library documentation](https://geopy.readthedocs.io/en/stable/)."
   ]
  },
  {
   "cell_type": "code",
   "execution_count": null,
   "metadata": {},
   "outputs": [],
   "source": [
    "query?"
   ]
  },
  {
   "cell_type": "code",
   "execution_count": null,
   "metadata": {},
   "outputs": [],
   "source": [
    "print('The address of the WB main building is: {}'.format(query.address))\n",
    "print('The location of the WB main building is: {}, {}'.format(query.latitude, query.longitude))"
   ]
  },
  {
   "cell_type": "markdown",
   "metadata": {},
   "source": [
    "When an API client is a Python library, it will most probably have ad-hoc variable types with particular attributes and methods. You will have to check the corresponding library documentation to learn how to operate with them.\n",
    "\n",
    "Please also note the following:\n",
    "- We didn't have to code an API client using `requests` this time: `geopy` is the API client\n",
    "- The results of our query are not in JSON format. `geopy` returns an ad-hoc variable class with the attributes `.adress`, `.latitude`, and `.longitude`, among others\n",
    "- We've mostly seen examples of database query APIs, but APIs can do much more!\n",
    "    + `geopy` is an example of an API that does some data processing with the information passed (the address)\n",
    "    + Remember: in general, an API is a channel to interact with a web server"
   ]
  },
  {
   "cell_type": "markdown",
   "metadata": {},
   "source": [
    "A few notes about API authentication:\n",
    "- Some APIs require some form of authentication to control API overuse\n",
    "    + That's why `Nominatim()` requires the `user_agent` parameter: it's a way of detecting which API calls come from the the same alias\n",
    "    + This is a very soft way of authentication\n",
    "- When authentication is needed, most APIs will require users to register and account and will provide a unique combination of characters called _API key_ that uniquely identifies the user\n",
    "- When they are required, API keys are usually passed as argument-based parameters. If the API has a dedicated client library, they will ask for the key after importing the library (as `user_agent` in `Nominatim()`)"
   ]
  },
  {
   "cell_type": "markdown",
   "metadata": {},
   "source": [
    "## The World Bank API Python library\n",
    "\n",
    "- The World Bank API we used for one of the examples above also has a dedicated client Python library\n",
    "- Release blog post [here](https://blogs.worldbank.org/opendata/introducing-wbgapi-new-python-package-accessing-world-bank-data)\n",
    "- Documentation [here](https://pypi.org/project/wbgapi/)\n",
    "- Examples [here](https://nbviewer.org/github/tgherzog/wbgapi/blob/master/examples/wbgapi-cookbook.ipynb)"
   ]
  },
  {
   "cell_type": "code",
   "execution_count": null,
   "metadata": {},
   "outputs": [],
   "source": [
    "!pip install wbgapi"
   ]
  },
  {
   "cell_type": "code",
   "execution_count": null,
   "metadata": {},
   "outputs": [],
   "source": [
    "import wbgapi as wb"
   ]
  },
  {
   "cell_type": "markdown",
   "metadata": {},
   "source": [
    "This example gets the total population of Brazil for all years available:"
   ]
  },
  {
   "cell_type": "code",
   "execution_count": null,
   "metadata": {},
   "outputs": [],
   "source": [
    "wb.data.DataFrame('SP.POP.TOTL', 'BRA', labels=True)"
   ]
  },
  {
   "cell_type": "markdown",
   "metadata": {},
   "source": [
    "Remember the endpoint of this API? This URL would have returned a similar result in JSON format:\n",
    "https://api.worldbank.org/v2/country/BRA/indicator/SP.POP.TOTL?date=1960:2021&format=json\n",
    "\n",
    "We can also get the series for multiple countries if we specify a list instead of a single string:"
   ]
  },
  {
   "cell_type": "code",
   "execution_count": null,
   "metadata": {},
   "outputs": [],
   "source": [
    "wb.data.DataFrame('SP.POP.TOTL', ['BRA', 'ARG', 'URY', 'PRY'], labels=True)"
   ]
  },
  {
   "cell_type": "markdown",
   "metadata": {},
   "source": [
    "Lastly, we can specify the years we want in a population query:"
   ]
  },
  {
   "cell_type": "code",
   "execution_count": null,
   "metadata": {},
   "outputs": [],
   "source": [
    "countries = ['BRA', 'ARG', 'URY', 'PRY']\n",
    "years = range(2015, 2021) # note the last element is never included in range()\n",
    "wb.data.DataFrame('SP.POP.TOTL', countries, years, labels=True)"
   ]
  },
  {
   "cell_type": "markdown",
   "metadata": {},
   "source": [
    "The WB API has hundreds of indicators available. They can be explored with `wb.series.info()`:"
   ]
  },
  {
   "cell_type": "code",
   "execution_count": null,
   "metadata": {
    "scrolled": true
   },
   "outputs": [],
   "source": [
    "wb.series.info()"
   ]
  },
  {
   "cell_type": "markdown",
   "metadata": {},
   "source": [
    "## Python API client libraries - Main takeaways\n",
    "\n",
    "- API client libraries greatly facilitate the use of APIs. You don't have to code your own client anymore!\n",
    "- You need to review the library documentation to know how to use them\n",
    "- The resulting variables from client libraries might not be in JSON format\n",
    "    + `geopy` returned an ad-hoc variable class\n",
    "    + `wb.data.DataFrame` returned a Pandas dataframe, which is very convenient for further data analysis\n",
    "- Many client libraries do much more than just retrieving the API results"
   ]
  },
  {
   "cell_type": "markdown",
   "metadata": {},
   "source": [
    "**Final note only if you're working on Colab:**\n",
    "Remember to go to `File` > `Save a copy in Drive` to save a copy of this notebook in your Google account."
   ]
  }
 ],
 "metadata": {
  "kernelspec": {
   "display_name": "Python 3 (ipykernel)",
   "language": "python",
   "name": "python3"
  },
  "language_info": {
   "codemirror_mode": {
    "name": "ipython",
    "version": 3
   },
   "file_extension": ".py",
   "mimetype": "text/x-python",
   "name": "python",
   "nbconvert_exporter": "python",
   "pygments_lexer": "ipython3",
   "version": "3.8.13"
  }
 },
 "nbformat": 4,
 "nbformat_minor": 4
}

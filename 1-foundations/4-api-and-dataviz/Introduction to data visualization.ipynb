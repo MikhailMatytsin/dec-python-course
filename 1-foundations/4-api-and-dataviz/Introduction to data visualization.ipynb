{
 "cells": [
  {
   "cell_type": "code",
   "execution_count": null,
   "metadata": {},
   "outputs": [],
   "source": [
    "#!pip install wbgapi\n",
    "#!pip install seaborn"
   ]
  },
  {
   "cell_type": "code",
   "execution_count": null,
   "metadata": {},
   "outputs": [],
   "source": [
    "import pandas as pd\n",
    "import matplotlib.pyplot as plt\n",
    "import seaborn as sns\n",
    "import wbgapi as wb"
   ]
  },
  {
   "cell_type": "markdown",
   "metadata": {},
   "source": [
    "# Introduction to data visualization in Python\n",
    "\n",
    "Python has several data visualization packages and none of them is a clear dominant in the Python users community. Arguably, two libraries are perhaps the most widely used: `matplotlib` and `seaborn`."
   ]
  },
  {
   "cell_type": "markdown",
   "metadata": {},
   "source": [
    "# `matplotlib`\n",
    "\n",
    "- First-ever Python data vis library\n",
    "- Very powerful\n",
    "- Allows low-level customization of plots\n",
    "- \"Wordy\" syntax, can get quite complex easily\n",
    "- Very popular in scientific programming\n",
    "\n",
    "Remember this \"picture\"? it was actually a plot created with `matplotlib`."
   ]
  },
  {
   "cell_type": "markdown",
   "metadata": {},
   "source": [
    "![black-hole](img/black-hole.jpg)"
   ]
  },
  {
   "cell_type": "markdown",
   "metadata": {},
   "source": [
    "# `seaborn`\n",
    "\n",
    "- Built on top of `matplotlib`\n",
    "- Nicer defaults\n",
    "- High-level syntax\n",
    "- Much easier to use than `matplotlib` but allows less customization\n",
    "\n",
    "We're going to use `matplotlib` and `seaborn` in this session."
   ]
  },
  {
   "cell_type": "markdown",
   "metadata": {},
   "source": [
    "# Data\n",
    "\n",
    " We'll start by fetching some data from the WB API."
   ]
  },
  {
   "cell_type": "code",
   "execution_count": null,
   "metadata": {},
   "outputs": [],
   "source": [
    "countries = ['MEX', 'CAN', 'USA']\n",
    "years = range(2010, 2020)\n",
    "df = wb.data.DataFrame('SP.POP.TOTL', countries, years, labels=True)"
   ]
  },
  {
   "cell_type": "code",
   "execution_count": null,
   "metadata": {},
   "outputs": [],
   "source": [
    "df"
   ]
  },
  {
   "cell_type": "markdown",
   "metadata": {},
   "source": [
    "We're going to do a bit of data wrangling to give this data the shape that we need for data visualization, which is the long format."
   ]
  },
  {
   "cell_type": "code",
   "execution_count": null,
   "metadata": {},
   "outputs": [],
   "source": [
    "df = df.reset_index(drop=True)"
   ]
  },
  {
   "cell_type": "code",
   "execution_count": null,
   "metadata": {},
   "outputs": [],
   "source": [
    "df = pd.wide_to_long(df, stubnames='YR', i='Country', j='year')"
   ]
  },
  {
   "cell_type": "code",
   "execution_count": null,
   "metadata": {},
   "outputs": [],
   "source": [
    "df = df.reset_index()"
   ]
  },
  {
   "cell_type": "code",
   "execution_count": null,
   "metadata": {},
   "outputs": [],
   "source": [
    "df = df.rename(columns={'YR': 'Population'})"
   ]
  },
  {
   "cell_type": "code",
   "execution_count": null,
   "metadata": {},
   "outputs": [],
   "source": [
    "df.head()"
   ]
  },
  {
   "cell_type": "markdown",
   "metadata": {},
   "source": [
    "Through the rest of this session, we'll always do the data wrangling outside the visualization libraries and will only pass the wrangled data as visualization inputs."
   ]
  },
  {
   "cell_type": "markdown",
   "metadata": {},
   "source": [
    "# Bar plots\n",
    "\n",
    "We'll create a simple bar plot of Mexico's total population."
   ]
  },
  {
   "cell_type": "code",
   "execution_count": null,
   "metadata": {},
   "outputs": [],
   "source": [
    "y = df[df['Country']=='Mexico']['Population'] / 1000000\n",
    "x = df[df['Country']=='Mexico']['year']"
   ]
  },
  {
   "cell_type": "markdown",
   "metadata": {},
   "source": [
    "## Using `matplotlib`"
   ]
  },
  {
   "cell_type": "code",
   "execution_count": null,
   "metadata": {},
   "outputs": [],
   "source": [
    "# Simplest bar plot with default options\n",
    "plt.bar(x, y)"
   ]
  },
  {
   "cell_type": "code",
   "execution_count": null,
   "metadata": {},
   "outputs": [],
   "source": [
    "# Adding some customization\n",
    "plot_title = 'Mexico - Total Population in millions' \n",
    "plt.bar(x, y)\n",
    "plt.title(plot_title)\n",
    "plt.xlabel('year')\n",
    "plt.ylabel('Population')\n",
    "plt.xticks(x);"
   ]
  },
  {
   "cell_type": "markdown",
   "metadata": {},
   "source": [
    "- `plt` has a feature that might not seem very common in Python: it modifies an object in-place\n",
    "- The multiple calls to `plt` add customizations on top of the result of the previous line\n",
    "- When used in a notebook, `plt` will by default print the result of the last line of the code block\n",
    "- This will not work across code blocks, though: a new code block will not have access to the `plt` object of the previous one"
   ]
  },
  {
   "cell_type": "code",
   "execution_count": null,
   "metadata": {},
   "outputs": [],
   "source": [
    "# This will return nothing because this block doesn't \"have access\" to the previous plt\n",
    "plt.show()"
   ]
  },
  {
   "cell_type": "markdown",
   "metadata": {},
   "source": [
    "- The semicolon (`;`) at the last line of a block tells the notebook to omit printing the return value of the last line (try removing it to see the difference)"
   ]
  },
  {
   "cell_type": "markdown",
   "metadata": {},
   "source": [
    "## Using `seaborn`"
   ]
  },
  {
   "cell_type": "code",
   "execution_count": null,
   "metadata": {},
   "outputs": [],
   "source": [
    "sns.barplot(x=x, y=y)"
   ]
  },
  {
   "cell_type": "code",
   "execution_count": null,
   "metadata": {},
   "outputs": [],
   "source": [
    "sns.barplot(x=x, y=y, color='C0')\n",
    "plt.title(plot_title);"
   ]
  },
  {
   "cell_type": "code",
   "execution_count": null,
   "metadata": {},
   "outputs": [],
   "source": [
    "sns.barplot(data=df_mexico, x='year', y='Population', color='C0')\n",
    "plt.title(plot_title);"
   ]
  },
  {
   "cell_type": "markdown",
   "metadata": {},
   "source": [
    "A few notes:\n",
    "- Compare the syntax of both libraries to get the same result:\n",
    "\n",
    "```\n",
    "# matplotlib\n",
    "plt.bar(x, y)\n",
    "plt.title(plot_title)\n",
    "plt.xlabel('year')\n",
    "plt.ylabel('Population')\n",
    "plt.xticks(x)\n",
    "\n",
    "# seaborn\n",
    "sns.barplot(x=x, y=y, color='C0')\n",
    "plt.title(plot_title)\n",
    "```\n",
    "\n",
    "- `matplotlib` has a heavier syntax -- you'll also note this in the next examples\n",
    "- Noticed how we assigned the title in the `seaborn` example? `matplotlib` syntax can be used on top of `seaborn` plots\n",
    "- `seaborn` sets x and y-axis labels and gives a different color to every bar by default"
   ]
  },
  {
   "cell_type": "markdown",
   "metadata": {},
   "source": [
    "**Challenge:** Line plots have a very similar syntax than bar plots in `matplotlib`, but they use the method `plt.plot()` instead of `plt.barplot()`. Try creating a line plot of the total population of Canada in millions."
   ]
  },
  {
   "cell_type": "markdown",
   "metadata": {},
   "source": [
    "# Scatter plots\n",
    "\n",
    "We'll create a scatter plot of GDP per capita and life expectancy for 2010.\n",
    "\n",
    "## Fetching the data"
   ]
  },
  {
   "cell_type": "code",
   "execution_count": null,
   "metadata": {},
   "outputs": [],
   "source": [
    "all_units = wb.economy.DataFrame()\n",
    "all_units.head()"
   ]
  },
  {
   "cell_type": "code",
   "execution_count": null,
   "metadata": {
    "scrolled": true
   },
   "outputs": [],
   "source": [
    "all_countries = all_units[all_units['aggregate']==False]\n",
    "all_countries.head()"
   ]
  },
  {
   "cell_type": "code",
   "execution_count": null,
   "metadata": {},
   "outputs": [],
   "source": [
    "countries_list = list(all_countries.index)"
   ]
  },
  {
   "cell_type": "markdown",
   "metadata": {},
   "source": [
    "The WB API client library also asks for the series we want to retrieve. They are:\n",
    "- `NY.GDP.PCAP.KD`: GDP per capita (constant 2015 US$)\n",
    "- `SP.DYN.LE00.IN`: Life expectancy at birth, total (years)"
   ]
  },
  {
   "cell_type": "code",
   "execution_count": null,
   "metadata": {},
   "outputs": [],
   "source": [
    "indicators = ['NY.GDP.PCAP.KD', 'SP.DYN.LE00.IN']"
   ]
  },
  {
   "cell_type": "markdown",
   "metadata": {},
   "source": [
    "Retrieving the data:"
   ]
  },
  {
   "cell_type": "code",
   "execution_count": null,
   "metadata": {},
   "outputs": [],
   "source": [
    "df = wb.data.DataFrame(indicators, countries_list, time=2010, labels=True)"
   ]
  },
  {
   "cell_type": "code",
   "execution_count": null,
   "metadata": {
    "scrolled": false
   },
   "outputs": [],
   "source": [
    "df.head()"
   ]
  },
  {
   "cell_type": "markdown",
   "metadata": {},
   "source": [
    "## With `matplotlib`"
   ]
  },
  {
   "cell_type": "code",
   "execution_count": null,
   "metadata": {},
   "outputs": [],
   "source": [
    "x = df['NY.GDP.PCAP.KD']\n",
    "y = df['SP.DYN.LE00.IN']"
   ]
  },
  {
   "cell_type": "code",
   "execution_count": null,
   "metadata": {},
   "outputs": [],
   "source": [
    "# Simple scatter plot\n",
    "plt.scatter(x, y);"
   ]
  },
  {
   "cell_type": "code",
   "execution_count": null,
   "metadata": {},
   "outputs": [],
   "source": [
    "# Adding some customization\n",
    "plt.scatter(x, y, s=10) # s=10 indicates the size of the markers\n",
    "plt.title('Country GDP per capita and life expectancy')\n",
    "plt.xlabel('GDP per capita (constant 2015 USD)')\n",
    "plt.ylabel('Life expectancy in years');"
   ]
  },
  {
   "cell_type": "markdown",
   "metadata": {},
   "source": [
    "## With `seaborn`"
   ]
  },
  {
   "cell_type": "code",
   "execution_count": null,
   "metadata": {},
   "outputs": [],
   "source": [
    "# A simple scatter plot with default options\n",
    "sns.scatterplot(x=x, y=y);"
   ]
  },
  {
   "cell_type": "code",
   "execution_count": null,
   "metadata": {},
   "outputs": [],
   "source": [
    "sns.scatterplot(x=x, y=y)\n",
    "plt.title('Country GDP per capita and life expectancy')\n",
    "plt.xlabel('GDP per capita (constant 2015 USD)')\n",
    "plt.ylabel('Life expectancy in years');"
   ]
  },
  {
   "cell_type": "markdown",
   "metadata": {},
   "source": [
    "Alternatively, this gets us the same result in `seaborn`:"
   ]
  },
  {
   "cell_type": "code",
   "execution_count": null,
   "metadata": {},
   "outputs": [],
   "source": [
    "sns.scatterplot(data=df, x='NY.GDP.PCAP.KD', y='SP.DYN.LE00.IN')\n",
    "plt.title('Country GDP per capita and life expectancy')\n",
    "plt.xlabel('GDP per capita (constant 2015 USD)')\n",
    "plt.ylabel('Life expectancy in years');"
   ]
  },
  {
   "cell_type": "markdown",
   "metadata": {},
   "source": [
    "Some additional notes:\n",
    "- the `x` and `y` arguments in `seaborn` can be:\n",
    "    + Pandas series, NumPy series, or lists\n",
    "    + strings with the names of columns in a Pandas dataframe, in which case the dataframe is passed in the argument `data`\n",
    "- Check again the difference in the default results of `matplotlib` and `seaborn`. Which one is closer to our finalized results?"
   ]
  },
  {
   "cell_type": "markdown",
   "metadata": {},
   "source": [
    "# More resources\n",
    "\n",
    "Data visualizations require the review of documentation and examples. Some resources:\n",
    "\n",
    "- [`matplotlib` official tutorials](https://matplotlib.org/stable/tutorials/index.html)\n",
    "- [`seaborn` examples gallery](https://seaborn.pydata.org/examples/index.html)"
   ]
  }
 ],
 "metadata": {
  "kernelspec": {
   "display_name": "Python 3",
   "language": "python",
   "name": "python3"
  },
  "language_info": {
   "codemirror_mode": {
    "name": "ipython",
    "version": 3
   },
   "file_extension": ".py",
   "mimetype": "text/x-python",
   "name": "python",
   "nbconvert_exporter": "python",
   "pygments_lexer": "ipython3",
   "version": "3.7.6"
  }
 },
 "nbformat": 4,
 "nbformat_minor": 4
}

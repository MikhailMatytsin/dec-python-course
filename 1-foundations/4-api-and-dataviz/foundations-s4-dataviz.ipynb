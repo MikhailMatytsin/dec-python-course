{
 "cells": [
  {
   "cell_type": "markdown",
   "metadata": {
    "colab_type": "text",
    "id": "view-in-github"
   },
   "source": [
    "<a href=\"https://colab.research.google.com/github/worldbank/dec-python-course/blob/main/1-foundations/4-api-and-dataviz/foundations-s4-dataviz.ipynb\" target=\"_parent\"><img src=\"https://colab.research.google.com/assets/colab-badge.svg\" alt=\"Open In Colab\"/></a>"
   ]
  },
  {
   "cell_type": "code",
   "execution_count": null,
   "metadata": {},
   "outputs": [],
   "source": [
    "# Run the lines below if needed\n",
    "!pip install wbgapi\n",
    "!pip install seaborn"
   ]
  },
  {
   "cell_type": "code",
   "execution_count": null,
   "metadata": {},
   "outputs": [],
   "source": [
    "from IPython.display import Image"
   ]
  },
  {
   "cell_type": "code",
   "execution_count": null,
   "metadata": {},
   "outputs": [],
   "source": [
    "import pandas as pd\n",
    "pd.options.mode.chained_assignment = None\n",
    "import matplotlib.pyplot as plt\n",
    "import seaborn as sns\n",
    "import wbgapi as wb"
   ]
  },
  {
   "cell_type": "markdown",
   "metadata": {},
   "source": [
    "# Introduction to data visualization in Python\n",
    "\n",
    "Python has several data visualization packages. Arguably, two libraries are perhaps the most widely used: `matplotlib` and `seaborn`."
   ]
  },
  {
   "cell_type": "markdown",
   "metadata": {},
   "source": [
    "# `matplotlib`\n",
    "\n",
    "- First-ever Python data vis library\n",
    "- Very powerful\n",
    "- Allows low-level customization of plots\n",
    "- \"Wordy\" syntax, can get quite complex easily\n",
    "- Very popular in scientific programming\n",
    "\n",
    "Remember this \"picture\"? it was actually a plot created with `matplotlib`."
   ]
  },
  {
   "cell_type": "markdown",
   "metadata": {},
   "source": [
    "<img src=\"https://github.com/worldbank/dec-python-course/blob/main/1-foundations/4-api-and-dataviz/img/black-hole.jpg?raw=true\" width=400 />"
   ]
  },
  {
   "cell_type": "markdown",
   "metadata": {},
   "source": [
    "# `seaborn`\n",
    "\n",
    "- Built on top of `matplotlib`\n",
    "- Nicer defaults\n",
    "- High-level syntax\n",
    "- Much easier to use than `matplotlib` but allows less customization\n",
    "\n",
    "We're going to use `matplotlib` and `seaborn` in this session."
   ]
  },
  {
   "cell_type": "markdown",
   "metadata": {},
   "source": [
    "# Initial data\n",
    "\n",
    " We'll start by fetching some data from the WB API."
   ]
  },
  {
   "cell_type": "code",
   "execution_count": null,
   "metadata": {},
   "outputs": [],
   "source": [
    "countries = ['MEX', 'CAN', 'USA']\n",
    "years = range(2010, 2020)\n",
    "df = wb.data.DataFrame('SP.POP.TOTL', countries, years, labels=True)"
   ]
  },
  {
   "cell_type": "code",
   "execution_count": null,
   "metadata": {},
   "outputs": [],
   "source": [
    "df"
   ]
  },
  {
   "cell_type": "markdown",
   "metadata": {},
   "source": [
    "We're going to do a bit of data wrangling to give this data the shape that we need for data visualization, which is the long format."
   ]
  },
  {
   "cell_type": "code",
   "execution_count": null,
   "metadata": {},
   "outputs": [],
   "source": [
    "df = df.reset_index(drop=True)                                  # drop index with economy iso-3 code\n",
    "df = pd.wide_to_long(df, stubnames='YR', i='Country', j='year') # pivoting by country, obs now are country-year\n",
    "df = df.reset_index()                                           # moving country name from index to column\n",
    "df = df.rename(columns={'YR': 'Population'})                    # renaming column\n",
    "df.head()                                                       # displaying first 5 obs"
   ]
  },
  {
   "cell_type": "markdown",
   "metadata": {},
   "source": [
    "**Important:** All the contents of this session follow an important practice in data visualization: that all data wrangling is done outside of the visualization code. If any data wrangling is needed, we will do it using Pandas and will only pass wrangled data as visualization inputs."
   ]
  },
  {
   "cell_type": "markdown",
   "metadata": {},
   "source": [
    "# Bar plots\n",
    "\n",
    "We'll create a simple bar plot of Mexico's total population by million.\n",
    "\n",
    "- We need to wrangle the data so that it only includes observations from Mexico and in millions\n",
    "- For bar plots the data we pass to `matplotlib` and `seaborn` is basically composed of the x-axis and y-axis data"
   ]
  },
  {
   "cell_type": "code",
   "execution_count": null,
   "metadata": {},
   "outputs": [],
   "source": [
    "y_data = df[df['Country']=='Mexico']['Population'] / 1000000 # x-axis data: population in millions\n",
    "x_data = df[df['Country']=='Mexico']['year']                 # y-axis data: years we have data for Mexico"
   ]
  },
  {
   "cell_type": "markdown",
   "metadata": {},
   "source": [
    "## Using `matplotlib`"
   ]
  },
  {
   "cell_type": "code",
   "execution_count": null,
   "metadata": {},
   "outputs": [],
   "source": [
    "# Simplest bar plot with default options\n",
    "plt.bar(x_data, y_data)"
   ]
  },
  {
   "cell_type": "code",
   "execution_count": null,
   "metadata": {},
   "outputs": [],
   "source": [
    "# Adding some customization\n",
    "plot_title = 'Mexico - Total Population in millions' \n",
    "plt.bar(x_data, y_data)\n",
    "plt.title(plot_title)\n",
    "plt.xlabel('Year')\n",
    "plt.ylabel('Population')\n",
    "plt.xticks(x_data);"
   ]
  },
  {
   "cell_type": "markdown",
   "metadata": {},
   "source": [
    "- `plt` has a feature that might not seem very common in Python: it modifies an object in-place\n",
    "- The multiple calls to `plt` add customizations on top of the result of the previous line\n",
    "- When used in a notebook, `plt` will by default print the result of the last line of the code block\n",
    "- This will not work across code blocks, though: a new code block will not have access to the `plt` object of the previous one"
   ]
  },
  {
   "cell_type": "code",
   "execution_count": null,
   "metadata": {},
   "outputs": [],
   "source": [
    "# This will return nothing because this block doesn't \"have access\" to the previous plt\n",
    "plt.show()"
   ]
  },
  {
   "cell_type": "markdown",
   "metadata": {},
   "source": [
    "- The semicolon (`;`) at the last line of a block tells the notebook to omit printing the return value of the last line (try removing it to see the difference)"
   ]
  },
  {
   "cell_type": "markdown",
   "metadata": {},
   "source": [
    "## Using `seaborn`"
   ]
  },
  {
   "cell_type": "code",
   "execution_count": null,
   "metadata": {},
   "outputs": [],
   "source": [
    "# Method 1\n",
    "sns.barplot(x=x_data, y=y_data)"
   ]
  },
  {
   "cell_type": "code",
   "execution_count": null,
   "metadata": {},
   "outputs": [],
   "source": [
    "# Method 1 with plot title and same color for all bars\n",
    "# Color C0 tells seaborn to use the first color it has available,\n",
    "# which is the same blue in the first bar of the previous plot\n",
    "sns.barplot(x=x_data, y=y_data, color='C0')\n",
    "plt.title(plot_title);"
   ]
  },
  {
   "cell_type": "code",
   "execution_count": null,
   "metadata": {},
   "outputs": [],
   "source": [
    "# Method 2\n",
    "df_mexico = df[df['Country']=='Mexico']\n",
    "df_mexico['Population'] = df['Population'] / 1000000\n",
    "\n",
    "sns.barplot(data=df_mexico, x='year', y='Population', color='C0')\n",
    "plt.title(plot_title);"
   ]
  },
  {
   "cell_type": "markdown",
   "metadata": {},
   "source": [
    "A few details to note:\n",
    "\n",
    "- For this example we defined the x and y-axis data as Pandas series, but they can also be lists (or containers) with numbers or NumPy series\n",
    "- Seaborn accepts two methods to plot visualizations:\n",
    "    + You either pass the x and y-axis data in the arguments `x`, `y`\n",
    "    + Or you define a Pandas dataframe input in the arugment `data` and set `x` and `y` equal to the column names you take the x-axis and y-axis data from\n",
    "- Compare the syntax of both libraries to get the same result:\n",
    "\n",
    "```\n",
    "# matplotlib\n",
    "plt.bar(x_data, y_data)\n",
    "plt.title(plot_title)\n",
    "plt.xlabel('Year')\n",
    "plt.ylabel('Population')\n",
    "plt.xticks(x_data)\n",
    "\n",
    "# seaborn\n",
    "sns.barplot(x=x_data, y=y_data, color='C0')\n",
    "plt.title(plot_title)\n",
    "```\n",
    "\n",
    "- `matplotlib` has a heavier syntax -- you'll also note this in the next examples\n",
    "- Did you notice how we assigned the title in the `seaborn` example? `matplotlib` syntax can be used on top of `seaborn` plots\n",
    "- `seaborn` sets x and y-axis labels and gives a different color to every bar by default"
   ]
  },
  {
   "cell_type": "markdown",
   "metadata": {},
   "source": [
    "# Line plots\n",
    "\n",
    "- Line plots have a very similar syntax than bar plots in `matplotlib`, but they use the function `plt.plot()` instead of `plt.barplot()`\n",
    "- In `seaborn`, the function is `sns.linelplot()`\n",
    "\n",
    "## `matplotlib`"
   ]
  },
  {
   "cell_type": "code",
   "execution_count": null,
   "metadata": {},
   "outputs": [],
   "source": [
    "plt.plot(x_data, y_data)\n",
    "plt.title(plot_title)\n",
    "plt.xlabel('Year')\n",
    "plt.ylabel('Population')\n",
    "plt.xticks(x_data);"
   ]
  },
  {
   "cell_type": "code",
   "execution_count": null,
   "metadata": {},
   "outputs": [],
   "source": [
    "# Now setting the range of the y-axis:\n",
    "plt.plot(x_data, y_data)\n",
    "plt.title(plot_title)\n",
    "plt.xlabel('Year')\n",
    "plt.ylabel('Population')\n",
    "plt.xticks(x_data)\n",
    "plt.ylim(100, 130); # y-axis from 100 to 130"
   ]
  },
  {
   "cell_type": "markdown",
   "metadata": {},
   "source": [
    "## `seaborn`"
   ]
  },
  {
   "cell_type": "code",
   "execution_count": null,
   "metadata": {},
   "outputs": [],
   "source": [
    "sns.lineplot(data=df_mexico, x='year', y='Population', color='C0')\n",
    "plt.title(plot_title)\n",
    "plt.ylim(100, 130);"
   ]
  },
  {
   "cell_type": "markdown",
   "metadata": {},
   "source": [
    "# Scatter plots\n",
    "\n",
    "We'll create a scatter plot of GDP per capita and life expectancy for 2010.\n",
    "\n",
    "## Fetching the data\n",
    "\n",
    "We'll get the data for all the economies listed in the WBG API data. To do this we first need to get a list with all the country names."
   ]
  },
  {
   "cell_type": "code",
   "execution_count": null,
   "metadata": {},
   "outputs": [],
   "source": [
    "all_units_df = wb.economy.DataFrame()\n",
    "all_units_df.head()"
   ]
  },
  {
   "cell_type": "code",
   "execution_count": null,
   "metadata": {
    "scrolled": true
   },
   "outputs": [],
   "source": [
    "all_countries_df = all_units_df[all_units_df['aggregate']==False] # leaving only non-aggreagate (economy-level) obs\n",
    "all_countries_df.head()"
   ]
  },
  {
   "cell_type": "code",
   "execution_count": null,
   "metadata": {},
   "outputs": [],
   "source": [
    "countries_list = list(all_countries_df.index) # list with country names\n",
    "print(countries_list[0:5])"
   ]
  },
  {
   "cell_type": "markdown",
   "metadata": {},
   "source": [
    "The WB API client library also asks for the series we want to retrieve. They are:\n",
    "- `NY.GDP.PCAP.KD`: GDP per capita (constant 2015 US$)\n",
    "- `SP.DYN.LE00.IN`: Life expectancy at birth, total (years)"
   ]
  },
  {
   "cell_type": "code",
   "execution_count": null,
   "metadata": {},
   "outputs": [],
   "source": [
    "indicators = ['NY.GDP.PCAP.KD', 'SP.DYN.LE00.IN']"
   ]
  },
  {
   "cell_type": "markdown",
   "metadata": {},
   "source": [
    "Retrieving the data:"
   ]
  },
  {
   "cell_type": "code",
   "execution_count": null,
   "metadata": {},
   "outputs": [],
   "source": [
    "df = wb.data.DataFrame(indicators, countries_list, time=2010, labels=True)"
   ]
  },
  {
   "cell_type": "code",
   "execution_count": null,
   "metadata": {
    "scrolled": false
   },
   "outputs": [],
   "source": [
    "df.head()"
   ]
  },
  {
   "cell_type": "markdown",
   "metadata": {},
   "source": [
    "Finally, we add a column of income level from the data frame `all_units_df`"
   ]
  },
  {
   "cell_type": "code",
   "execution_count": null,
   "metadata": {},
   "outputs": [],
   "source": [
    "df = df.merge(all_units_df[['name', 'incomeLevel']],\n",
    "              left_on = 'Country',\n",
    "              right_on = 'name')\n",
    "df.head()"
   ]
  },
  {
   "cell_type": "code",
   "execution_count": null,
   "metadata": {},
   "outputs": [],
   "source": [
    "df = df.drop(columns='name') # drop repeated column\n",
    "df = df.rename(columns={'NY.GDP.PCAP.KD': 'gdpPerCapita', 'SP.DYN.LE00.IN': 'lifeExpectancy'}) #renaming"
   ]
  },
  {
   "cell_type": "code",
   "execution_count": null,
   "metadata": {},
   "outputs": [],
   "source": [
    "df.head()"
   ]
  },
  {
   "cell_type": "markdown",
   "metadata": {},
   "source": [
    "## With `matplotlib`"
   ]
  },
  {
   "cell_type": "code",
   "execution_count": null,
   "metadata": {},
   "outputs": [],
   "source": [
    "x = df['gdpPerCapita']\n",
    "y = df['lifeExpectancy']"
   ]
  },
  {
   "cell_type": "code",
   "execution_count": null,
   "metadata": {},
   "outputs": [],
   "source": [
    "# Simple scatter plot\n",
    "plt.scatter(x, y);"
   ]
  },
  {
   "cell_type": "code",
   "execution_count": null,
   "metadata": {},
   "outputs": [],
   "source": [
    "# Adding some customization\n",
    "plt.scatter(x, y, s=10) # s=10 indicates the size of the markers\n",
    "plt.title('Country GDP per capita and life expectancy')\n",
    "plt.xlabel('GDP per capita (constant 2015 USD)')\n",
    "plt.ylabel('Life expectancy in years');"
   ]
  },
  {
   "cell_type": "markdown",
   "metadata": {},
   "source": [
    "Now adding different colors per income level:"
   ]
  },
  {
   "cell_type": "code",
   "execution_count": null,
   "metadata": {},
   "outputs": [],
   "source": [
    "# We first separate x and y-axis values by income level\n",
    "\n",
    "## Lower\n",
    "x_low = df[df['incomeLevel']=='LIC']['gdpPerCapita']\n",
    "y_low = df[df['incomeLevel']=='LIC']['lifeExpectancy']\n",
    "\n",
    "## Lower-middle\n",
    "x_lm = df[df['incomeLevel']=='LMC']['gdpPerCapita']\n",
    "y_lm = df[df['incomeLevel']=='LMC']['lifeExpectancy']\n",
    "\n",
    "## Upper-middle\n",
    "x_um = df[df['incomeLevel']=='UMC']['gdpPerCapita']\n",
    "y_um = df[df['incomeLevel']=='UMC']['lifeExpectancy']\n",
    "\n",
    "# Upper\n",
    "x_upper = df[df['incomeLevel']=='HIC']['gdpPerCapita']\n",
    "y_upper = df[df['incomeLevel']=='HIC']['lifeExpectancy']"
   ]
  },
  {
   "cell_type": "code",
   "execution_count": null,
   "metadata": {},
   "outputs": [],
   "source": [
    "plt.scatter(x_low, y_low, label='LIC', s=10)\n",
    "plt.scatter(x_lm, y_lm, label='LMC', s=10)\n",
    "plt.scatter(x_um, y_um, label='UMC', s=10)\n",
    "plt.scatter(x_upper, y_upper, label='HIC', s=10)\n",
    "plt.title('Country GDP per capita and life expectancy')\n",
    "plt.xlabel('GDP per capita (constant 2015 USD)')\n",
    "plt.ylabel('Life expectancy in years')\n",
    "plt.legend(title='Income level');"
   ]
  },
  {
   "cell_type": "markdown",
   "metadata": {},
   "source": [
    " `matplotlib` allows to add multiple plot elements on top of each other. This also applies when you want to group the units into categories.\n",
    "\n",
    "Alternatively, you can get to the same result using loops:"
   ]
  },
  {
   "cell_type": "code",
   "execution_count": null,
   "metadata": {},
   "outputs": [],
   "source": [
    "# We first separate x and y-axis values by income level\n",
    "\n",
    "groups = ['LIC', 'LMC', 'UMC', 'HIC']\n",
    "gdp_dict = {}\n",
    "le_dict  = {}\n",
    "\n",
    "for group in groups:\n",
    "    \n",
    "    gdp_dict[group] = df[df['incomeLevel']==group]['gdpPerCapita']\n",
    "    le_dict[group]  = df[df['incomeLevel']==group]['lifeExpectancy']"
   ]
  },
  {
   "cell_type": "code",
   "execution_count": null,
   "metadata": {},
   "outputs": [],
   "source": [
    "for group in groups:\n",
    "    plt.scatter(gdp_dict[group], le_dict[group], label=group, s=10)\n",
    "plt.title('Country GDP per capita and life expectancy')\n",
    "plt.xlabel('GDP per capita (constant 2015 USD)')\n",
    "plt.ylabel('Life expectancy in years')\n",
    "plt.legend(title='Income level');"
   ]
  },
  {
   "cell_type": "markdown",
   "metadata": {},
   "source": [
    "## With `seaborn`"
   ]
  },
  {
   "cell_type": "code",
   "execution_count": null,
   "metadata": {},
   "outputs": [],
   "source": [
    "# No legend\n",
    "sns.scatterplot(data=df, x='gdpPerCapita', y='lifeExpectancy')\n",
    "plt.title('Country GDP per capita and life expectancy')\n",
    "plt.xlabel('GDP per capita (constant 2015 USD)')\n",
    "plt.ylabel('Life expectancy in years');"
   ]
  },
  {
   "cell_type": "code",
   "execution_count": null,
   "metadata": {},
   "outputs": [],
   "source": [
    "# With legend and groups\n",
    "sns.scatterplot(data=df, x='gdpPerCapita', y='lifeExpectancy', hue='incomeLevel')\n",
    "plt.title('Country GDP per capita and life expectancy')\n",
    "plt.xlabel('GDP per capita (constant 2015 USD)')\n",
    "plt.ylabel('Life expectancy in years')\n",
    "plt.legend(title='Income level');"
   ]
  },
  {
   "cell_type": "markdown",
   "metadata": {},
   "source": [
    "# Histograms\n",
    "\n",
    "## `matplotlib`"
   ]
  },
  {
   "cell_type": "code",
   "execution_count": null,
   "metadata": {},
   "outputs": [],
   "source": [
    "# Basic histogram with default options\n",
    "# x: GDP per capita\n",
    "plt.hist(x);"
   ]
  },
  {
   "cell_type": "code",
   "execution_count": null,
   "metadata": {},
   "outputs": [],
   "source": [
    "plt.hist(x, bins=40) # bins sets the number of equal-size bins\n",
    "plt.title('Histogram of country GDP per capita')\n",
    "plt.xlabel('GDP per capita (constant 2015 USD)')\n",
    "plt.ylabel('Number of countries');"
   ]
  },
  {
   "cell_type": "markdown",
   "metadata": {},
   "source": [
    "## `seaborn`"
   ]
  },
  {
   "cell_type": "code",
   "execution_count": null,
   "metadata": {},
   "outputs": [],
   "source": [
    "# Default options\n",
    "sns.histplot(data=df, x='gdpPerCapita');"
   ]
  },
  {
   "cell_type": "code",
   "execution_count": null,
   "metadata": {},
   "outputs": [],
   "source": [
    "# More customization\n",
    "sns.histplot(data=df, x='gdpPerCapita', bins=40)\n",
    "plt.title('Histogram of country GDP per capita')\n",
    "plt.xlabel('GDP per capita (constant 2015 USD)')\n",
    "plt.ylabel('Number of countries');"
   ]
  },
  {
   "cell_type": "markdown",
   "metadata": {},
   "source": [
    "# Saving a plot\n",
    "\n",
    "Both `matplotlib` and `seaborn` use the same method (from `matplotlib`) to save figures: `.savefig()`"
   ]
  },
  {
   "cell_type": "code",
   "execution_count": null,
   "metadata": {},
   "outputs": [],
   "source": [
    "# Saving a matplotlib plot\n",
    "plt.hist(x, bins=40) # bins sets the number of equal-size bins\n",
    "plt.title('Histogram of country GDP per capita')\n",
    "plt.xlabel('GDP per capita (constant 2015 USD)')\n",
    "plt.ylabel('Number of countries')\n",
    "plt.savefig('histogram_matplotlib.png');"
   ]
  },
  {
   "cell_type": "code",
   "execution_count": null,
   "metadata": {},
   "outputs": [],
   "source": [
    "# Saving a seaborn plot\n",
    "sns.histplot(data=df, x='gdpPerCapita', bins=40)\n",
    "plt.title('Histogram of country GDP per capita')\n",
    "plt.xlabel('GDP per capita (constant 2015 USD)')\n",
    "plt.ylabel('Number of countries')\n",
    "plt.savefig('histogram_seaborn.png');"
   ]
  },
  {
   "cell_type": "markdown",
   "metadata": {},
   "source": [
    "**Final note only if you're working on Colab:** Remember to go to `File` > `Save a copy in Drive` to save a copy of this notebook in your Google account."
   ]
  }
 ],
 "metadata": {
  "kernelspec": {
   "display_name": "Python 3",
   "language": "python",
   "name": "python3"
  },
  "language_info": {
   "codemirror_mode": {
    "name": "ipython",
    "version": 3
   },
   "file_extension": ".py",
   "mimetype": "text/x-python",
   "name": "python",
   "nbconvert_exporter": "python",
   "pygments_lexer": "ipython3",
   "version": "3.7.6"
  }
 },
 "nbformat": 4,
 "nbformat_minor": 4
}
